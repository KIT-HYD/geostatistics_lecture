{
 "cells": [
  {
   "cell_type": "markdown",
   "metadata": {
    "slideshow": {
     "slide_type": "slide"
    }
   },
   "source": [
    "# Geostatistics"
   ]
  },
  {
   "cell_type": "markdown",
   "metadata": {
    "slideshow": {
     "slide_type": "fragment"
    }
   },
   "source": [
    "## 3 Excursus: Time series"
   ]
  },
  {
   "cell_type": "markdown",
   "metadata": {
    "slideshow": {
     "slide_type": "fragment"
    }
   },
   "source": [
    "Time series analysis is a discipline of its own and is beyond the scope of this lecture. Nevertheless, a few basics will be covered that relate to geostatistics. We will cover:\n",
    "\n",
    "* Describing a time series\n",
    "* Time series decomposition"
   ]
  },
  {
   "cell_type": "code",
   "execution_count": 1,
   "metadata": {
    "slideshow": {
     "slide_type": "notes"
    }
   },
   "outputs": [
    {
     "data": {
      "text/html": [
       "\n",
       "    <div class=\"bk-root\">\n",
       "        <a href=\"https://bokeh.org\" target=\"_blank\" class=\"bk-logo bk-logo-small bk-logo-notebook\"></a>\n",
       "        <span id=\"1001\">Loading BokehJS ...</span>\n",
       "    </div>"
      ]
     },
     "metadata": {},
     "output_type": "display_data"
    },
    {
     "data": {
      "application/javascript": [
       "\n",
       "(function(root) {\n",
       "  function now() {\n",
       "    return new Date();\n",
       "  }\n",
       "\n",
       "  var force = true;\n",
       "\n",
       "  if (typeof root._bokeh_onload_callbacks === \"undefined\" || force === true) {\n",
       "    root._bokeh_onload_callbacks = [];\n",
       "    root._bokeh_is_loading = undefined;\n",
       "  }\n",
       "\n",
       "  var JS_MIME_TYPE = 'application/javascript';\n",
       "  var HTML_MIME_TYPE = 'text/html';\n",
       "  var EXEC_MIME_TYPE = 'application/vnd.bokehjs_exec.v0+json';\n",
       "  var CLASS_NAME = 'output_bokeh rendered_html';\n",
       "\n",
       "  /**\n",
       "   * Render data to the DOM node\n",
       "   */\n",
       "  function render(props, node) {\n",
       "    var script = document.createElement(\"script\");\n",
       "    node.appendChild(script);\n",
       "  }\n",
       "\n",
       "  /**\n",
       "   * Handle when an output is cleared or removed\n",
       "   */\n",
       "  function handleClearOutput(event, handle) {\n",
       "    var cell = handle.cell;\n",
       "\n",
       "    var id = cell.output_area._bokeh_element_id;\n",
       "    var server_id = cell.output_area._bokeh_server_id;\n",
       "    // Clean up Bokeh references\n",
       "    if (id != null && id in Bokeh.index) {\n",
       "      Bokeh.index[id].model.document.clear();\n",
       "      delete Bokeh.index[id];\n",
       "    }\n",
       "\n",
       "    if (server_id !== undefined) {\n",
       "      // Clean up Bokeh references\n",
       "      var cmd = \"from bokeh.io.state import curstate; print(curstate().uuid_to_server['\" + server_id + \"'].get_sessions()[0].document.roots[0]._id)\";\n",
       "      cell.notebook.kernel.execute(cmd, {\n",
       "        iopub: {\n",
       "          output: function(msg) {\n",
       "            var id = msg.content.text.trim();\n",
       "            if (id in Bokeh.index) {\n",
       "              Bokeh.index[id].model.document.clear();\n",
       "              delete Bokeh.index[id];\n",
       "            }\n",
       "          }\n",
       "        }\n",
       "      });\n",
       "      // Destroy server and session\n",
       "      var cmd = \"import bokeh.io.notebook as ion; ion.destroy_server('\" + server_id + \"')\";\n",
       "      cell.notebook.kernel.execute(cmd);\n",
       "    }\n",
       "  }\n",
       "\n",
       "  /**\n",
       "   * Handle when a new output is added\n",
       "   */\n",
       "  function handleAddOutput(event, handle) {\n",
       "    var output_area = handle.output_area;\n",
       "    var output = handle.output;\n",
       "\n",
       "    // limit handleAddOutput to display_data with EXEC_MIME_TYPE content only\n",
       "    if ((output.output_type != \"display_data\") || (!output.data.hasOwnProperty(EXEC_MIME_TYPE))) {\n",
       "      return\n",
       "    }\n",
       "\n",
       "    var toinsert = output_area.element.find(\".\" + CLASS_NAME.split(' ')[0]);\n",
       "\n",
       "    if (output.metadata[EXEC_MIME_TYPE][\"id\"] !== undefined) {\n",
       "      toinsert[toinsert.length - 1].firstChild.textContent = output.data[JS_MIME_TYPE];\n",
       "      // store reference to embed id on output_area\n",
       "      output_area._bokeh_element_id = output.metadata[EXEC_MIME_TYPE][\"id\"];\n",
       "    }\n",
       "    if (output.metadata[EXEC_MIME_TYPE][\"server_id\"] !== undefined) {\n",
       "      var bk_div = document.createElement(\"div\");\n",
       "      bk_div.innerHTML = output.data[HTML_MIME_TYPE];\n",
       "      var script_attrs = bk_div.children[0].attributes;\n",
       "      for (var i = 0; i < script_attrs.length; i++) {\n",
       "        toinsert[toinsert.length - 1].firstChild.setAttribute(script_attrs[i].name, script_attrs[i].value);\n",
       "      }\n",
       "      // store reference to server id on output_area\n",
       "      output_area._bokeh_server_id = output.metadata[EXEC_MIME_TYPE][\"server_id\"];\n",
       "    }\n",
       "  }\n",
       "\n",
       "  function register_renderer(events, OutputArea) {\n",
       "\n",
       "    function append_mime(data, metadata, element) {\n",
       "      // create a DOM node to render to\n",
       "      var toinsert = this.create_output_subarea(\n",
       "        metadata,\n",
       "        CLASS_NAME,\n",
       "        EXEC_MIME_TYPE\n",
       "      );\n",
       "      this.keyboard_manager.register_events(toinsert);\n",
       "      // Render to node\n",
       "      var props = {data: data, metadata: metadata[EXEC_MIME_TYPE]};\n",
       "      render(props, toinsert[toinsert.length - 1]);\n",
       "      element.append(toinsert);\n",
       "      return toinsert\n",
       "    }\n",
       "\n",
       "    /* Handle when an output is cleared or removed */\n",
       "    events.on('clear_output.CodeCell', handleClearOutput);\n",
       "    events.on('delete.Cell', handleClearOutput);\n",
       "\n",
       "    /* Handle when a new output is added */\n",
       "    events.on('output_added.OutputArea', handleAddOutput);\n",
       "\n",
       "    /**\n",
       "     * Register the mime type and append_mime function with output_area\n",
       "     */\n",
       "    OutputArea.prototype.register_mime_type(EXEC_MIME_TYPE, append_mime, {\n",
       "      /* Is output safe? */\n",
       "      safe: true,\n",
       "      /* Index of renderer in `output_area.display_order` */\n",
       "      index: 0\n",
       "    });\n",
       "  }\n",
       "\n",
       "  // register the mime type if in Jupyter Notebook environment and previously unregistered\n",
       "  if (root.Jupyter !== undefined) {\n",
       "    var events = require('base/js/events');\n",
       "    var OutputArea = require('notebook/js/outputarea').OutputArea;\n",
       "\n",
       "    if (OutputArea.prototype.mime_types().indexOf(EXEC_MIME_TYPE) == -1) {\n",
       "      register_renderer(events, OutputArea);\n",
       "    }\n",
       "  }\n",
       "\n",
       "  \n",
       "  if (typeof (root._bokeh_timeout) === \"undefined\" || force === true) {\n",
       "    root._bokeh_timeout = Date.now() + 5000;\n",
       "    root._bokeh_failed_load = false;\n",
       "  }\n",
       "\n",
       "  var NB_LOAD_WARNING = {'data': {'text/html':\n",
       "     \"<div style='background-color: #fdd'>\\n\"+\n",
       "     \"<p>\\n\"+\n",
       "     \"BokehJS does not appear to have successfully loaded. If loading BokehJS from CDN, this \\n\"+\n",
       "     \"may be due to a slow or bad network connection. Possible fixes:\\n\"+\n",
       "     \"</p>\\n\"+\n",
       "     \"<ul>\\n\"+\n",
       "     \"<li>re-rerun `output_notebook()` to attempt to load from CDN again, or</li>\\n\"+\n",
       "     \"<li>use INLINE resources instead, as so:</li>\\n\"+\n",
       "     \"</ul>\\n\"+\n",
       "     \"<code>\\n\"+\n",
       "     \"from bokeh.resources import INLINE\\n\"+\n",
       "     \"output_notebook(resources=INLINE)\\n\"+\n",
       "     \"</code>\\n\"+\n",
       "     \"</div>\"}};\n",
       "\n",
       "  function display_loaded() {\n",
       "    var el = document.getElementById(\"1001\");\n",
       "    if (el != null) {\n",
       "      el.textContent = \"BokehJS is loading...\";\n",
       "    }\n",
       "    if (root.Bokeh !== undefined) {\n",
       "      if (el != null) {\n",
       "        el.textContent = \"BokehJS \" + root.Bokeh.version + \" successfully loaded.\";\n",
       "      }\n",
       "    } else if (Date.now() < root._bokeh_timeout) {\n",
       "      setTimeout(display_loaded, 100)\n",
       "    }\n",
       "  }\n",
       "\n",
       "\n",
       "  function run_callbacks() {\n",
       "    try {\n",
       "      root._bokeh_onload_callbacks.forEach(function(callback) {\n",
       "        if (callback != null)\n",
       "          callback();\n",
       "      });\n",
       "    } finally {\n",
       "      delete root._bokeh_onload_callbacks\n",
       "    }\n",
       "    console.debug(\"Bokeh: all callbacks have finished\");\n",
       "  }\n",
       "\n",
       "  function load_libs(css_urls, js_urls, callback) {\n",
       "    if (css_urls == null) css_urls = [];\n",
       "    if (js_urls == null) js_urls = [];\n",
       "\n",
       "    root._bokeh_onload_callbacks.push(callback);\n",
       "    if (root._bokeh_is_loading > 0) {\n",
       "      console.debug(\"Bokeh: BokehJS is being loaded, scheduling callback at\", now());\n",
       "      return null;\n",
       "    }\n",
       "    if (js_urls == null || js_urls.length === 0) {\n",
       "      run_callbacks();\n",
       "      return null;\n",
       "    }\n",
       "    console.debug(\"Bokeh: BokehJS not loaded, scheduling load and callback at\", now());\n",
       "    root._bokeh_is_loading = css_urls.length + js_urls.length;\n",
       "\n",
       "    function on_load() {\n",
       "      root._bokeh_is_loading--;\n",
       "      if (root._bokeh_is_loading === 0) {\n",
       "        console.debug(\"Bokeh: all BokehJS libraries/stylesheets loaded\");\n",
       "        run_callbacks()\n",
       "      }\n",
       "    }\n",
       "\n",
       "    function on_error() {\n",
       "      console.error(\"failed to load \" + url);\n",
       "    }\n",
       "\n",
       "    for (var i = 0; i < css_urls.length; i++) {\n",
       "      var url = css_urls[i];\n",
       "      const element = document.createElement(\"link\");\n",
       "      element.onload = on_load;\n",
       "      element.onerror = on_error;\n",
       "      element.rel = \"stylesheet\";\n",
       "      element.type = \"text/css\";\n",
       "      element.href = url;\n",
       "      console.debug(\"Bokeh: injecting link tag for BokehJS stylesheet: \", url);\n",
       "      document.body.appendChild(element);\n",
       "    }\n",
       "\n",
       "    for (var i = 0; i < js_urls.length; i++) {\n",
       "      var url = js_urls[i];\n",
       "      var element = document.createElement('script');\n",
       "      element.onload = on_load;\n",
       "      element.onerror = on_error;\n",
       "      element.async = false;\n",
       "      element.src = url;\n",
       "      console.debug(\"Bokeh: injecting script tag for BokehJS library: \", url);\n",
       "      document.head.appendChild(element);\n",
       "    }\n",
       "  };var element = document.getElementById(\"1001\");\n",
       "  if (element == null) {\n",
       "    console.error(\"Bokeh: ERROR: autoload.js configured with elementid '1001' but no matching script tag was found. \")\n",
       "    return false;\n",
       "  }\n",
       "\n",
       "  function inject_raw_css(css) {\n",
       "    const element = document.createElement(\"style\");\n",
       "    element.appendChild(document.createTextNode(css));\n",
       "    document.body.appendChild(element);\n",
       "  }\n",
       "\n",
       "  \n",
       "  var js_urls = [\"https://cdn.pydata.org/bokeh/release/bokeh-1.4.0.min.js\", \"https://cdn.pydata.org/bokeh/release/bokeh-widgets-1.4.0.min.js\", \"https://cdn.pydata.org/bokeh/release/bokeh-tables-1.4.0.min.js\", \"https://cdn.pydata.org/bokeh/release/bokeh-gl-1.4.0.min.js\"];\n",
       "  var css_urls = [];\n",
       "  \n",
       "\n",
       "  var inline_js = [\n",
       "    function(Bokeh) {\n",
       "      Bokeh.set_log_level(\"info\");\n",
       "    },\n",
       "    function(Bokeh) {\n",
       "    \n",
       "    \n",
       "    }\n",
       "  ];\n",
       "\n",
       "  function run_inline_js() {\n",
       "    \n",
       "    if (root.Bokeh !== undefined || force === true) {\n",
       "      \n",
       "    for (var i = 0; i < inline_js.length; i++) {\n",
       "      inline_js[i].call(root, root.Bokeh);\n",
       "    }\n",
       "    if (force === true) {\n",
       "        display_loaded();\n",
       "      }} else if (Date.now() < root._bokeh_timeout) {\n",
       "      setTimeout(run_inline_js, 100);\n",
       "    } else if (!root._bokeh_failed_load) {\n",
       "      console.log(\"Bokeh: BokehJS failed to load within specified timeout.\");\n",
       "      root._bokeh_failed_load = true;\n",
       "    } else if (force !== true) {\n",
       "      var cell = $(document.getElementById(\"1001\")).parents('.cell').data().cell;\n",
       "      cell.output_area.append_execute_result(NB_LOAD_WARNING)\n",
       "    }\n",
       "\n",
       "  }\n",
       "\n",
       "  if (root._bokeh_is_loading === 0) {\n",
       "    console.debug(\"Bokeh: BokehJS loaded, going straight to plotting\");\n",
       "    run_inline_js();\n",
       "  } else {\n",
       "    load_libs(css_urls, js_urls, function() {\n",
       "      console.debug(\"Bokeh: BokehJS plotting callback run at\", now());\n",
       "      run_inline_js();\n",
       "    });\n",
       "  }\n",
       "}(window));"
      ],
      "application/vnd.bokehjs_load.v0+json": "\n(function(root) {\n  function now() {\n    return new Date();\n  }\n\n  var force = true;\n\n  if (typeof root._bokeh_onload_callbacks === \"undefined\" || force === true) {\n    root._bokeh_onload_callbacks = [];\n    root._bokeh_is_loading = undefined;\n  }\n\n  \n\n  \n  if (typeof (root._bokeh_timeout) === \"undefined\" || force === true) {\n    root._bokeh_timeout = Date.now() + 5000;\n    root._bokeh_failed_load = false;\n  }\n\n  var NB_LOAD_WARNING = {'data': {'text/html':\n     \"<div style='background-color: #fdd'>\\n\"+\n     \"<p>\\n\"+\n     \"BokehJS does not appear to have successfully loaded. If loading BokehJS from CDN, this \\n\"+\n     \"may be due to a slow or bad network connection. Possible fixes:\\n\"+\n     \"</p>\\n\"+\n     \"<ul>\\n\"+\n     \"<li>re-rerun `output_notebook()` to attempt to load from CDN again, or</li>\\n\"+\n     \"<li>use INLINE resources instead, as so:</li>\\n\"+\n     \"</ul>\\n\"+\n     \"<code>\\n\"+\n     \"from bokeh.resources import INLINE\\n\"+\n     \"output_notebook(resources=INLINE)\\n\"+\n     \"</code>\\n\"+\n     \"</div>\"}};\n\n  function display_loaded() {\n    var el = document.getElementById(\"1001\");\n    if (el != null) {\n      el.textContent = \"BokehJS is loading...\";\n    }\n    if (root.Bokeh !== undefined) {\n      if (el != null) {\n        el.textContent = \"BokehJS \" + root.Bokeh.version + \" successfully loaded.\";\n      }\n    } else if (Date.now() < root._bokeh_timeout) {\n      setTimeout(display_loaded, 100)\n    }\n  }\n\n\n  function run_callbacks() {\n    try {\n      root._bokeh_onload_callbacks.forEach(function(callback) {\n        if (callback != null)\n          callback();\n      });\n    } finally {\n      delete root._bokeh_onload_callbacks\n    }\n    console.debug(\"Bokeh: all callbacks have finished\");\n  }\n\n  function load_libs(css_urls, js_urls, callback) {\n    if (css_urls == null) css_urls = [];\n    if (js_urls == null) js_urls = [];\n\n    root._bokeh_onload_callbacks.push(callback);\n    if (root._bokeh_is_loading > 0) {\n      console.debug(\"Bokeh: BokehJS is being loaded, scheduling callback at\", now());\n      return null;\n    }\n    if (js_urls == null || js_urls.length === 0) {\n      run_callbacks();\n      return null;\n    }\n    console.debug(\"Bokeh: BokehJS not loaded, scheduling load and callback at\", now());\n    root._bokeh_is_loading = css_urls.length + js_urls.length;\n\n    function on_load() {\n      root._bokeh_is_loading--;\n      if (root._bokeh_is_loading === 0) {\n        console.debug(\"Bokeh: all BokehJS libraries/stylesheets loaded\");\n        run_callbacks()\n      }\n    }\n\n    function on_error() {\n      console.error(\"failed to load \" + url);\n    }\n\n    for (var i = 0; i < css_urls.length; i++) {\n      var url = css_urls[i];\n      const element = document.createElement(\"link\");\n      element.onload = on_load;\n      element.onerror = on_error;\n      element.rel = \"stylesheet\";\n      element.type = \"text/css\";\n      element.href = url;\n      console.debug(\"Bokeh: injecting link tag for BokehJS stylesheet: \", url);\n      document.body.appendChild(element);\n    }\n\n    for (var i = 0; i < js_urls.length; i++) {\n      var url = js_urls[i];\n      var element = document.createElement('script');\n      element.onload = on_load;\n      element.onerror = on_error;\n      element.async = false;\n      element.src = url;\n      console.debug(\"Bokeh: injecting script tag for BokehJS library: \", url);\n      document.head.appendChild(element);\n    }\n  };var element = document.getElementById(\"1001\");\n  if (element == null) {\n    console.error(\"Bokeh: ERROR: autoload.js configured with elementid '1001' but no matching script tag was found. \")\n    return false;\n  }\n\n  function inject_raw_css(css) {\n    const element = document.createElement(\"style\");\n    element.appendChild(document.createTextNode(css));\n    document.body.appendChild(element);\n  }\n\n  \n  var js_urls = [\"https://cdn.pydata.org/bokeh/release/bokeh-1.4.0.min.js\", \"https://cdn.pydata.org/bokeh/release/bokeh-widgets-1.4.0.min.js\", \"https://cdn.pydata.org/bokeh/release/bokeh-tables-1.4.0.min.js\", \"https://cdn.pydata.org/bokeh/release/bokeh-gl-1.4.0.min.js\"];\n  var css_urls = [];\n  \n\n  var inline_js = [\n    function(Bokeh) {\n      Bokeh.set_log_level(\"info\");\n    },\n    function(Bokeh) {\n    \n    \n    }\n  ];\n\n  function run_inline_js() {\n    \n    if (root.Bokeh !== undefined || force === true) {\n      \n    for (var i = 0; i < inline_js.length; i++) {\n      inline_js[i].call(root, root.Bokeh);\n    }\n    if (force === true) {\n        display_loaded();\n      }} else if (Date.now() < root._bokeh_timeout) {\n      setTimeout(run_inline_js, 100);\n    } else if (!root._bokeh_failed_load) {\n      console.log(\"Bokeh: BokehJS failed to load within specified timeout.\");\n      root._bokeh_failed_load = true;\n    } else if (force !== true) {\n      var cell = $(document.getElementById(\"1001\")).parents('.cell').data().cell;\n      cell.output_area.append_execute_result(NB_LOAD_WARNING)\n    }\n\n  }\n\n  if (root._bokeh_is_loading === 0) {\n    console.debug(\"Bokeh: BokehJS loaded, going straight to plotting\");\n    run_inline_js();\n  } else {\n    load_libs(css_urls, js_urls, function() {\n      console.debug(\"Bokeh: BokehJS plotting callback run at\", now());\n      run_inline_js();\n    });\n  }\n}(window));"
     },
     "metadata": {},
     "output_type": "display_data"
    }
   ],
   "source": [
    "import pandas as pd\n",
    "import numpy as np\n",
    "\n",
    "from bokeh.plotting import output_notebook, show, figure\n",
    "from bokeh.layouts import row, column, gridplot\n",
    "from bokeh.models import HoverTool\n",
    "\n",
    "output_notebook()"
   ]
  },
  {
   "cell_type": "markdown",
   "metadata": {
    "slideshow": {
     "slide_type": "slide"
    }
   },
   "source": [
    "## 3.1 Describing a time series"
   ]
  },
  {
   "cell_type": "markdown",
   "metadata": {
    "slideshow": {
     "slide_type": "fragment"
    }
   },
   "source": [
    "There are two major features of a time series, that we will look at. Both have their origin in the **ordered characteristic** of a time series. First we will look at the dynamics (the change of value over time) and second at the *autocorrelation* "
   ]
  },
  {
   "cell_type": "markdown",
   "metadata": {
    "slideshow": {
     "slide_type": "skip"
    }
   },
   "source": [
    "Load all data from the provided sample file and use the second column as `data` object"
   ]
  },
  {
   "cell_type": "code",
   "execution_count": 2,
   "metadata": {
    "slideshow": {
     "slide_type": "skip"
    }
   },
   "outputs": [],
   "source": [
    "df = pd.read_csv('data/sample_data.txt', sep='\\s+')\n",
    "data = df.iloc[:,1]"
   ]
  },
  {
   "cell_type": "markdown",
   "metadata": {
    "slideshow": {
     "slide_type": "slide"
    }
   },
   "source": [
    "### 3.1.1 Dynamics"
   ]
  },
  {
   "cell_type": "markdown",
   "metadata": {
    "slideshow": {
     "slide_type": "fragment"
    }
   },
   "source": [
    "By the dynamics of a timeseries we ask for the **change over time**.\n",
    "\n",
    "For a series $x$ that has observations $x_{t}, x_{t+1}, x_{t+n}$ with $t$ the start point in time and $n$ the length of the timeseries the dynamics of $x$, denoted $d_x$ can be defined as:\n",
    "\n",
    "$$d_x = \\frac{\\partial x}{\\partial t}$$"
   ]
  },
  {
   "cell_type": "markdown",
   "metadata": {
    "slideshow": {
     "slide_type": "fragment"
    }
   },
   "source": [
    "For the discrete case of a sample we can simply take the differences:\n",
    "\n",
    "$$d_{x_i} = x_i - x_{i - 1}$$"
   ]
  },
  {
   "cell_type": "code",
   "execution_count": 3,
   "metadata": {
    "slideshow": {
     "slide_type": "skip"
    }
   },
   "outputs": [],
   "source": [
    "# time series plot\n",
    "ts = figure(title='time series', width=800, height=200)\n",
    "ts_line = ts.line(data.index, data.values)\n",
    "\n",
    "# dynamics plot\n",
    "diff = figure(title='Time series - dynamics', width=800, height=200, x_range=ts.x_range)\n",
    "diff_line = diff.line(data.diff().index, data.diff().values, color='firebrick', alpha=0.7)\n",
    "\n",
    "# create the hover tool\n",
    "h1 = HoverTool(renderers=[ts_line], tooltips=[('','@y')], mode='vline')\n",
    "h2 = HoverTool(renderers=[diff_line], tooltips=[('','@y')], mode='vline')\n",
    "ts.add_tools(h1)\n",
    "diff.add_tools(h2)"
   ]
  },
  {
   "cell_type": "code",
   "execution_count": 4,
   "metadata": {
    "slideshow": {
     "slide_type": "subslide"
    }
   },
   "outputs": [
    {
     "data": {
      "text/html": [
       "\n",
       "\n",
       "\n",
       "\n",
       "\n",
       "\n",
       "  <div class=\"bk-root\" id=\"0c09b080-5612-4778-ba73-1b87f8e46dec\" data-root-id=\"1104\"></div>\n"
      ]
     },
     "metadata": {},
     "output_type": "display_data"
    },
    {
     "data": {
      "application/javascript": [
       "(function(root) {\n",
       "  function embed_document(root) {\n",
       "    \n",
       "  var docs_json = {\"1230b731-9791-4cec-87dd-c7932ad63cd9\":{\"roots\":{\"references\":[{\"attributes\":{\"children\":[{\"id\":\"1103\",\"type\":\"ToolbarBox\"},{\"id\":\"1101\",\"type\":\"GridBox\"}]},\"id\":\"1104\",\"type\":\"Column\"},{\"attributes\":{},\"id\":\"1026\",\"type\":\"SaveTool\"},{\"attributes\":{\"callback\":null,\"data\":{\"x\":[0,1,2,3,4,5,6,7,8,9,10,11,12,13,14,15,16,17,18,19,20,21,22,23,24,25,26,27,28,29,30,31,32,33,34,35,36,37,38,39,40,41,42,43,44,45,46,47,48,49,50,51,52,53,54,55,56,57,58,59,60,61,62,63,64,65,66,67,68,69,70,71,72,73,74,75,76,77,78,79,80,81,82,83,84,85,86,87,88,89,90,91,92,93,94,95,96,97,98,99,100,101,102,103,104,105,106,107,108,109,110,111,112,113,114,115,116,117,118,119,120,121,122,123,124,125,126,127,128,129,130,131,132,133,134,135,136,137,138,139,140,141,142,143,144,145,146,147,148,149,150,151,152,153,154,155,156,157,158,159,160,161,162,163,164,165,166,167,168,169,170,171,172,173,174,175,176,177,178,179,180,181,182,183,184,185,186,187,188,189,190,191,192,193,194,195,196,197,198,199,200,201,202,203,204,205,206,207,208,209,210,211,212,213,214,215,216,217,218,219,220,221,222,223,224,225,226,227,228,229,230,231,232,233,234,235,236,237,238,239,240,241,242,243,244,245,246,247,248,249,250,251,252,253,254,255,256,257,258,259,260,261,262,263,264,265,266,267,268,269,270,271,272,273,274,275,276,277,278,279,280,281,282,283,284,285,286,287,288,289,290,291,292,293,294,295,296,297,298,299,300,301,302,303,304,305,306,307,308,309,310,311,312,313,314,315,316,317,318,319,320,321,322,323,324,325,326,327,328,329,330,331,332,333,334,335,336,337,338,339,340,341,342,343,344,345,346,347,348,349,350,351,352,353,354,355,356,357,358,359,360,361,362,363,364,365,366,367,368,369,370,371,372,373,374,375,376,377,378,379,380,381,382,383,384,385,386,387,388,389,390,391,392,393,394,395,396,397,398,399,400,401,402,403,404,405,406,407,408,409,410,411,412,413,414,415,416,417,418,419,420,421,422,423,424,425,426,427,428,429,430,431,432,433,434,435,436,437,438,439,440,441,442,443,444,445,446,447,448,449,450,451,452,453,454,455,456,457,458,459,460,461,462,463,464,465,466,467,468,469,470,471,472,473,474,475,476,477,478,479,480,481,482,483,484,485,486,487,488,489,490,491,492,493,494,495,496,497,498,499],\"y\":{\"__ndarray__\":\"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\",\"dtype\":\"float64\",\"shape\":[500]}},\"selected\":{\"id\":\"1097\",\"type\":\"Selection\"},\"selection_policy\":{\"id\":\"1098\",\"type\":\"UnionRenderers\"}},\"id\":\"1074\",\"type\":\"ColumnDataSource\"},{\"attributes\":{},\"id\":\"1028\",\"type\":\"HelpTool\"},{\"attributes\":{},\"id\":\"1027\",\"type\":\"ResetTool\"},{\"attributes\":{\"formatter\":{\"id\":\"1087\",\"type\":\"BasicTickFormatter\"},\"ticker\":{\"id\":\"1019\",\"type\":\"BasicTicker\"}},\"id\":\"1018\",\"type\":\"LinearAxis\"},{\"attributes\":{\"formatter\":{\"id\":\"1096\",\"type\":\"BasicTickFormatter\"},\"ticker\":{\"id\":\"1057\",\"type\":\"BasicTicker\"}},\"id\":\"1056\",\"type\":\"LinearAxis\"},{\"attributes\":{\"data_source\":{\"id\":\"1074\",\"type\":\"ColumnDataSource\"},\"glyph\":{\"id\":\"1075\",\"type\":\"Line\"},\"hover_glyph\":null,\"muted_glyph\":null,\"nonselection_glyph\":{\"id\":\"1076\",\"type\":\"Line\"},\"selection_glyph\":null,\"view\":{\"id\":\"1078\",\"type\":\"CDSView\"}},\"id\":\"1077\",\"type\":\"GlyphRenderer\"},{\"attributes\":{},\"id\":\"1019\",\"type\":\"BasicTicker\"},{\"attributes\":{},\"id\":\"1057\",\"type\":\"BasicTicker\"},{\"attributes\":{\"active_drag\":\"auto\",\"active_inspect\":\"auto\",\"active_multi\":null,\"active_scroll\":\"auto\",\"active_tap\":\"auto\",\"tools\":[{\"id\":\"1061\",\"type\":\"PanTool\"},{\"id\":\"1062\",\"type\":\"WheelZoomTool\"},{\"id\":\"1063\",\"type\":\"BoxZoomTool\"},{\"id\":\"1064\",\"type\":\"SaveTool\"},{\"id\":\"1065\",\"type\":\"ResetTool\"},{\"id\":\"1066\",\"type\":\"HelpTool\"},{\"id\":\"1080\",\"type\":\"HoverTool\"}]},\"id\":\"1067\",\"type\":\"Toolbar\"},{\"attributes\":{},\"id\":\"1089\",\"type\":\"UnionRenderers\"},{\"attributes\":{\"callback\":null,\"data\":{\"x\":[0,1,2,3,4,5,6,7,8,9,10,11,12,13,14,15,16,17,18,19,20,21,22,23,24,25,26,27,28,29,30,31,32,33,34,35,36,37,38,39,40,41,42,43,44,45,46,47,48,49,50,51,52,53,54,55,56,57,58,59,60,61,62,63,64,65,66,67,68,69,70,71,72,73,74,75,76,77,78,79,80,81,82,83,84,85,86,87,88,89,90,91,92,93,94,95,96,97,98,99,100,101,102,103,104,105,106,107,108,109,110,111,112,113,114,115,116,117,118,119,120,121,122,123,124,125,126,127,128,129,130,131,132,133,134,135,136,137,138,139,140,141,142,143,144,145,146,147,148,149,150,151,152,153,154,155,156,157,158,159,160,161,162,163,164,165,166,167,168,169,170,171,172,173,174,175,176,177,178,179,180,181,182,183,184,185,186,187,188,189,190,191,192,193,194,195,196,197,198,199,200,201,202,203,204,205,206,207,208,209,210,211,212,213,214,215,216,217,218,219,220,221,222,223,224,225,226,227,228,229,230,231,232,233,234,235,236,237,238,239,240,241,242,243,244,245,246,247,248,249,250,251,252,253,254,255,256,257,258,259,260,261,262,263,264,265,266,267,268,269,270,271,272,273,274,275,276,277,278,279,280,281,282,283,284,285,286,287,288,289,290,291,292,293,294,295,296,297,298,299,300,301,302,303,304,305,306,307,308,309,310,311,312,313,314,315,316,317,318,319,320,321,322,323,324,325,326,327,328,329,330,331,332,333,334,335,336,337,338,339,340,341,342,343,344,345,346,347,348,349,350,351,352,353,354,355,356,357,358,359,360,361,362,363,364,365,366,367,368,369,370,371,372,373,374,375,376,377,378,379,380,381,382,383,384,385,386,387,388,389,390,391,392,393,394,395,396,397,398,399,400,401,402,403,404,405,406,407,408,409,410,411,412,413,414,415,416,417,418,419,420,421,422,423,424,425,426,427,428,429,430,431,432,433,434,435,436,437,438,439,440,441,442,443,444,445,446,447,448,449,450,451,452,453,454,455,456,457,458,459,460,461,462,463,464,465,466,467,468,469,470,471,472,473,474,475,476,477,478,479,480,481,482,483,484,485,486,487,488,489,490,491,492,493,494,495,496,497,498,499],\"y\":{\"__ndarray__\":\"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\",\"dtype\":\"float64\",\"shape\":[500]}},\"selected\":{\"id\":\"1088\",\"type\":\"Selection\"},\"selection_policy\":{\"id\":\"1089\",\"type\":\"UnionRenderers\"}},\"id\":\"1036\",\"type\":\"ColumnDataSource\"},{\"attributes\":{\"below\":[{\"id\":\"1013\",\"type\":\"LinearAxis\"}],\"center\":[{\"id\":\"1017\",\"type\":\"Grid\"},{\"id\":\"1022\",\"type\":\"Grid\"}],\"left\":[{\"id\":\"1018\",\"type\":\"LinearAxis\"}],\"plot_height\":200,\"plot_width\":800,\"renderers\":[{\"id\":\"1039\",\"type\":\"GlyphRenderer\"}],\"title\":{\"id\":\"1003\",\"type\":\"Title\"},\"toolbar\":{\"id\":\"1029\",\"type\":\"Toolbar\"},\"toolbar_location\":null,\"x_range\":{\"id\":\"1005\",\"type\":\"DataRange1d\"},\"x_scale\":{\"id\":\"1009\",\"type\":\"LinearScale\"},\"y_range\":{\"id\":\"1007\",\"type\":\"DataRange1d\"},\"y_scale\":{\"id\":\"1011\",\"type\":\"LinearScale\"}},\"id\":\"1002\",\"subtype\":\"Figure\",\"type\":\"Plot\"},{\"attributes\":{\"tools\":[{\"id\":\"1023\",\"type\":\"PanTool\"},{\"id\":\"1024\",\"type\":\"WheelZoomTool\"},{\"id\":\"1025\",\"type\":\"BoxZoomTool\"},{\"id\":\"1026\",\"type\":\"SaveTool\"},{\"id\":\"1027\",\"type\":\"ResetTool\"},{\"id\":\"1028\",\"type\":\"HelpTool\"},{\"id\":\"1079\",\"type\":\"HoverTool\"},{\"id\":\"1061\",\"type\":\"PanTool\"},{\"id\":\"1062\",\"type\":\"WheelZoomTool\"},{\"id\":\"1063\",\"type\":\"BoxZoomTool\"},{\"id\":\"1064\",\"type\":\"SaveTool\"},{\"id\":\"1065\",\"type\":\"ResetTool\"},{\"id\":\"1066\",\"type\":\"HelpTool\"},{\"id\":\"1080\",\"type\":\"HoverTool\"}]},\"id\":\"1102\",\"type\":\"ProxyToolbar\"},{\"attributes\":{\"text\":\"time series\"},\"id\":\"1003\",\"type\":\"Title\"},{\"attributes\":{},\"id\":\"1085\",\"type\":\"BasicTickFormatter\"},{\"attributes\":{\"line_alpha\":0.1,\"line_color\":\"#1f77b4\",\"x\":{\"field\":\"x\"},\"y\":{\"field\":\"y\"}},\"id\":\"1076\",\"type\":\"Line\"},{\"attributes\":{\"children\":[[{\"id\":\"1002\",\"subtype\":\"Figure\",\"type\":\"Plot\"},0,0],[{\"id\":\"1041\",\"subtype\":\"Figure\",\"type\":\"Plot\"},1,0]]},\"id\":\"1101\",\"type\":\"GridBox\"},{\"attributes\":{\"dimension\":1,\"ticker\":{\"id\":\"1019\",\"type\":\"BasicTicker\"}},\"id\":\"1022\",\"type\":\"Grid\"},{\"attributes\":{\"dimension\":1,\"ticker\":{\"id\":\"1057\",\"type\":\"BasicTicker\"}},\"id\":\"1060\",\"type\":\"Grid\"},{\"attributes\":{\"line_alpha\":0.1,\"line_color\":\"#1f77b4\",\"x\":{\"field\":\"x\"},\"y\":{\"field\":\"y\"}},\"id\":\"1038\",\"type\":\"Line\"},{\"attributes\":{},\"id\":\"1052\",\"type\":\"BasicTicker\"},{\"attributes\":{\"bottom_units\":\"screen\",\"fill_alpha\":{\"value\":0.5},\"fill_color\":{\"value\":\"lightgrey\"},\"left_units\":\"screen\",\"level\":\"overlay\",\"line_alpha\":{\"value\":1.0},\"line_color\":{\"value\":\"black\"},\"line_dash\":[4,4],\"line_width\":{\"value\":2},\"render_mode\":\"css\",\"right_units\":\"screen\",\"top_units\":\"screen\"},\"id\":\"1099\",\"type\":\"BoxAnnotation\"},{\"attributes\":{\"source\":{\"id\":\"1036\",\"type\":\"ColumnDataSource\"}},\"id\":\"1040\",\"type\":\"CDSView\"},{\"attributes\":{},\"id\":\"1049\",\"type\":\"LinearScale\"},{\"attributes\":{\"callback\":null},\"id\":\"1045\",\"type\":\"DataRange1d\"},{\"attributes\":{\"active_drag\":\"auto\",\"active_inspect\":\"auto\",\"active_multi\":null,\"active_scroll\":\"auto\",\"active_tap\":\"auto\",\"tools\":[{\"id\":\"1023\",\"type\":\"PanTool\"},{\"id\":\"1024\",\"type\":\"WheelZoomTool\"},{\"id\":\"1025\",\"type\":\"BoxZoomTool\"},{\"id\":\"1026\",\"type\":\"SaveTool\"},{\"id\":\"1027\",\"type\":\"ResetTool\"},{\"id\":\"1028\",\"type\":\"HelpTool\"},{\"id\":\"1079\",\"type\":\"HoverTool\"}]},\"id\":\"1029\",\"type\":\"Toolbar\"},{\"attributes\":{\"bottom_units\":\"screen\",\"fill_alpha\":{\"value\":0.5},\"fill_color\":{\"value\":\"lightgrey\"},\"left_units\":\"screen\",\"level\":\"overlay\",\"line_alpha\":{\"value\":1.0},\"line_color\":{\"value\":\"black\"},\"line_dash\":[4,4],\"line_width\":{\"value\":2},\"render_mode\":\"css\",\"right_units\":\"screen\",\"top_units\":\"screen\"},\"id\":\"1090\",\"type\":\"BoxAnnotation\"},{\"attributes\":{\"line_alpha\":0.7,\"line_color\":\"firebrick\",\"x\":{\"field\":\"x\"},\"y\":{\"field\":\"y\"}},\"id\":\"1075\",\"type\":\"Line\"},{\"attributes\":{\"below\":[{\"id\":\"1051\",\"type\":\"LinearAxis\"}],\"center\":[{\"id\":\"1055\",\"type\":\"Grid\"},{\"id\":\"1060\",\"type\":\"Grid\"}],\"left\":[{\"id\":\"1056\",\"type\":\"LinearAxis\"}],\"plot_height\":200,\"plot_width\":800,\"renderers\":[{\"id\":\"1077\",\"type\":\"GlyphRenderer\"}],\"title\":{\"id\":\"1042\",\"type\":\"Title\"},\"toolbar\":{\"id\":\"1067\",\"type\":\"Toolbar\"},\"toolbar_location\":null,\"x_range\":{\"id\":\"1005\",\"type\":\"DataRange1d\"},\"x_scale\":{\"id\":\"1047\",\"type\":\"LinearScale\"},\"y_range\":{\"id\":\"1045\",\"type\":\"DataRange1d\"},\"y_scale\":{\"id\":\"1049\",\"type\":\"LinearScale\"}},\"id\":\"1041\",\"subtype\":\"Figure\",\"type\":\"Plot\"},{\"attributes\":{\"source\":{\"id\":\"1074\",\"type\":\"ColumnDataSource\"}},\"id\":\"1078\",\"type\":\"CDSView\"},{\"attributes\":{\"callback\":null,\"mode\":\"vline\",\"renderers\":[{\"id\":\"1077\",\"type\":\"GlyphRenderer\"}],\"tooltips\":[[\"\",\"@y\"]]},\"id\":\"1080\",\"type\":\"HoverTool\"},{\"attributes\":{\"formatter\":{\"id\":\"1094\",\"type\":\"BasicTickFormatter\"},\"ticker\":{\"id\":\"1052\",\"type\":\"BasicTicker\"}},\"id\":\"1051\",\"type\":\"LinearAxis\"},{\"attributes\":{},\"id\":\"1096\",\"type\":\"BasicTickFormatter\"},{\"attributes\":{},\"id\":\"1023\",\"type\":\"PanTool\"},{\"attributes\":{},\"id\":\"1061\",\"type\":\"PanTool\"},{\"attributes\":{},\"id\":\"1094\",\"type\":\"BasicTickFormatter\"},{\"attributes\":{},\"id\":\"1088\",\"type\":\"Selection\"},{\"attributes\":{},\"id\":\"1024\",\"type\":\"WheelZoomTool\"},{\"attributes\":{},\"id\":\"1062\",\"type\":\"WheelZoomTool\"},{\"attributes\":{\"callback\":null},\"id\":\"1007\",\"type\":\"DataRange1d\"},{\"attributes\":{},\"id\":\"1097\",\"type\":\"Selection\"},{\"attributes\":{\"overlay\":{\"id\":\"1090\",\"type\":\"BoxAnnotation\"}},\"id\":\"1025\",\"type\":\"BoxZoomTool\"},{\"attributes\":{\"overlay\":{\"id\":\"1099\",\"type\":\"BoxAnnotation\"}},\"id\":\"1063\",\"type\":\"BoxZoomTool\"},{\"attributes\":{\"text\":\"Time series - dynamics\"},\"id\":\"1042\",\"type\":\"Title\"},{\"attributes\":{\"line_color\":\"#1f77b4\",\"x\":{\"field\":\"x\"},\"y\":{\"field\":\"y\"}},\"id\":\"1037\",\"type\":\"Line\"},{\"attributes\":{},\"id\":\"1064\",\"type\":\"SaveTool\"},{\"attributes\":{\"data_source\":{\"id\":\"1036\",\"type\":\"ColumnDataSource\"},\"glyph\":{\"id\":\"1037\",\"type\":\"Line\"},\"hover_glyph\":null,\"muted_glyph\":null,\"nonselection_glyph\":{\"id\":\"1038\",\"type\":\"Line\"},\"selection_glyph\":null,\"view\":{\"id\":\"1040\",\"type\":\"CDSView\"}},\"id\":\"1039\",\"type\":\"GlyphRenderer\"},{\"attributes\":{},\"id\":\"1047\",\"type\":\"LinearScale\"},{\"attributes\":{\"toolbar\":{\"id\":\"1102\",\"type\":\"ProxyToolbar\"},\"toolbar_location\":\"above\"},\"id\":\"1103\",\"type\":\"ToolbarBox\"},{\"attributes\":{},\"id\":\"1014\",\"type\":\"BasicTicker\"},{\"attributes\":{},\"id\":\"1087\",\"type\":\"BasicTickFormatter\"},{\"attributes\":{},\"id\":\"1098\",\"type\":\"UnionRenderers\"},{\"attributes\":{},\"id\":\"1066\",\"type\":\"HelpTool\"},{\"attributes\":{},\"id\":\"1009\",\"type\":\"LinearScale\"},{\"attributes\":{\"callback\":null,\"mode\":\"vline\",\"renderers\":[{\"id\":\"1039\",\"type\":\"GlyphRenderer\"}],\"tooltips\":[[\"\",\"@y\"]]},\"id\":\"1079\",\"type\":\"HoverTool\"},{\"attributes\":{},\"id\":\"1065\",\"type\":\"ResetTool\"},{\"attributes\":{\"formatter\":{\"id\":\"1085\",\"type\":\"BasicTickFormatter\"},\"ticker\":{\"id\":\"1014\",\"type\":\"BasicTicker\"}},\"id\":\"1013\",\"type\":\"LinearAxis\"},{\"attributes\":{\"ticker\":{\"id\":\"1014\",\"type\":\"BasicTicker\"}},\"id\":\"1017\",\"type\":\"Grid\"},{\"attributes\":{},\"id\":\"1011\",\"type\":\"LinearScale\"},{\"attributes\":{\"callback\":null},\"id\":\"1005\",\"type\":\"DataRange1d\"},{\"attributes\":{\"ticker\":{\"id\":\"1052\",\"type\":\"BasicTicker\"}},\"id\":\"1055\",\"type\":\"Grid\"}],\"root_ids\":[\"1104\"]},\"title\":\"Bokeh Application\",\"version\":\"1.4.0\"}};\n",
       "  var render_items = [{\"docid\":\"1230b731-9791-4cec-87dd-c7932ad63cd9\",\"roots\":{\"1104\":\"0c09b080-5612-4778-ba73-1b87f8e46dec\"}}];\n",
       "  root.Bokeh.embed.embed_items_notebook(docs_json, render_items);\n",
       "\n",
       "  }\n",
       "  if (root.Bokeh !== undefined) {\n",
       "    embed_document(root);\n",
       "  } else {\n",
       "    var attempts = 0;\n",
       "    var timer = setInterval(function(root) {\n",
       "      if (root.Bokeh !== undefined) {\n",
       "        clearInterval(timer);\n",
       "        embed_document(root);\n",
       "      } else {\n",
       "        attempts++;\n",
       "        if (attempts > 100) {\n",
       "          clearInterval(timer);\n",
       "          console.log(\"Bokeh: ERROR: Unable to run BokehJS code because BokehJS library is missing\");\n",
       "        }\n",
       "      }\n",
       "    }, 10, root)\n",
       "  }\n",
       "})(window);"
      ],
      "application/vnd.bokehjs_exec.v0+json": ""
     },
     "metadata": {
      "application/vnd.bokehjs_exec.v0+json": {
       "id": "1104"
      }
     },
     "output_type": "display_data"
    }
   ],
   "source": [
    "show(gridplot([[ts], [diff]]))"
   ]
  },
  {
   "cell_type": "markdown",
   "metadata": {
    "slideshow": {
     "slide_type": "subslide"
    }
   },
   "source": [
    "From this we can observe various things:\n"
   ]
  },
  {
   "cell_type": "markdown",
   "metadata": {
    "slideshow": {
     "slide_type": "fragment"
    }
   },
   "source": [
    "* The time series is not stable in time and changing. There seems to be a trend or a seasonality.\n",
    "* The dynamics are much more stable: They change within a range, but there is no trend"
   ]
  },
  {
   "cell_type": "markdown",
   "metadata": {
    "slideshow": {
     "slide_type": "fragment"
    }
   },
   "source": [
    "* From what we can see here, there seems to be a large random component in the time series."
   ]
  },
  {
   "cell_type": "markdown",
   "metadata": {
    "slideshow": {
     "slide_type": "slide"
    }
   },
   "source": [
    "### 3.1.2 Autocorrelation"
   ]
  },
  {
   "cell_type": "markdown",
   "metadata": {
    "slideshow": {
     "slide_type": "skip"
    }
   },
   "source": [
    "The concept of autocorrelation can be used to determine how much a time series is similar to itself.\n",
    "To be more precise: **When** is it more self-similar and when not. For this to happen, a measure of **correlation** is chosen. \n",
    "The correlation between two samples measures their similarity.\n",
    "The difference to the correlation calculated in the last lecture is that we calculate it over and over again. Each time, we shift the whole time series by one time step (called a **lag**). This way, we correlate the time series to **itself, but moments ago.**\n",
    "\n",
    "Summarized:"
   ]
  },
  {
   "cell_type": "markdown",
   "metadata": {
    "slideshow": {
     "slide_type": "fragment"
    }
   },
   "source": [
    "* Find out **when** a time series showed similar values\n",
    "* Learn about periodicity\n",
    "* shift the time series by different time steps (*lags*)\n",
    "* for discrete time series, the normed covariance is used\n",
    "* visualize how the correlation relates to lag"
   ]
  },
  {
   "cell_type": "markdown",
   "metadata": {
    "slideshow": {
     "slide_type": "fragment"
    }
   },
   "source": [
    "The *normed covariance* $\\rho$ is defined:\n",
    "\n",
    "$$ \\rho_{t_1, t_2} = \\frac{Cov(X_{t_1}, X_{t_2})}{\\sigma_{t_1} * \\sigma_{t_2}} $$\n",
    "\n",
    "for time series $X$ at two points in time $t_1, t_2$ and their standard deviations $\\sigma$"
   ]
  },
  {
   "cell_type": "markdown",
   "metadata": {
    "slideshow": {
     "slide_type": "skip"
    }
   },
   "source": [
    "For **stationary** time series, $\\sigma_{t_1} == \\sigma_{t_2}$ and the autocorrelation is simplified to the covariance"
   ]
  },
  {
   "cell_type": "code",
   "execution_count": 5,
   "metadata": {
    "slideshow": {
     "slide_type": "subslide"
    }
   },
   "outputs": [],
   "source": [
    "n  = 500\n",
    "ac = []\n",
    "for i in range(n):\n",
    "    # shift by n places\n",
    "    shifted = np.concatenate((data[i:], data[:i][::-1]))\n",
    "    cf = np.cov(data.values, shifted) * (np.std(data.values), np.std(shifted))\n",
    "    #cf = np.corrcoef(data.values, shifted, rowvar=False)\n",
    "    # use either (1,0) or (0,1) of correlation matrix\n",
    "    ac.append(cf[0,1])"
   ]
  },
  {
   "cell_type": "markdown",
   "metadata": {
    "slideshow": {
     "slide_type": "fragment"
    }
   },
   "source": [
    "*You will find an exercise to implement this yourself.*"
   ]
  },
  {
   "cell_type": "code",
   "execution_count": 6,
   "metadata": {
    "scrolled": false,
    "slideshow": {
     "slide_type": "skip"
    }
   },
   "outputs": [],
   "source": [
    "autocorr = figure(title='Autocorrelation', width=800, height=350)\n",
    "\n",
    "renderer = autocorr.line(range(n), ac, color='firebrick', alpha=0.7)\n",
    "hover = HoverTool(renderers=[renderer], tooltips=[('Corr: ','@y')], mode='vline')\n",
    "\n",
    "autocorr.add_tools(hover)"
   ]
  },
  {
   "cell_type": "code",
   "execution_count": 7,
   "metadata": {
    "slideshow": {
     "slide_type": "subslide"
    }
   },
   "outputs": [
    {
     "data": {
      "text/html": [
       "\n",
       "\n",
       "\n",
       "\n",
       "\n",
       "\n",
       "  <div class=\"bk-root\" id=\"2d23a92f-26c2-4d1e-8bb6-bc77ce334a5e\" data-root-id=\"1217\"></div>\n"
      ]
     },
     "metadata": {},
     "output_type": "display_data"
    },
    {
     "data": {
      "application/javascript": [
       "(function(root) {\n",
       "  function embed_document(root) {\n",
       "    \n",
       "  var docs_json = {\"e83880a8-88eb-472a-b741-86249a869e59\":{\"roots\":{\"references\":[{\"attributes\":{\"below\":[{\"id\":\"1228\",\"type\":\"LinearAxis\"}],\"center\":[{\"id\":\"1232\",\"type\":\"Grid\"},{\"id\":\"1237\",\"type\":\"Grid\"}],\"left\":[{\"id\":\"1233\",\"type\":\"LinearAxis\"}],\"plot_height\":350,\"plot_width\":800,\"renderers\":[{\"id\":\"1254\",\"type\":\"GlyphRenderer\"}],\"title\":{\"id\":\"1218\",\"type\":\"Title\"},\"toolbar\":{\"id\":\"1244\",\"type\":\"Toolbar\"},\"x_range\":{\"id\":\"1220\",\"type\":\"DataRange1d\"},\"x_scale\":{\"id\":\"1224\",\"type\":\"LinearScale\"},\"y_range\":{\"id\":\"1222\",\"type\":\"DataRange1d\"},\"y_scale\":{\"id\":\"1226\",\"type\":\"LinearScale\"}},\"id\":\"1217\",\"subtype\":\"Figure\",\"type\":\"Plot\"},{\"attributes\":{\"formatter\":{\"id\":\"1276\",\"type\":\"BasicTickFormatter\"},\"ticker\":{\"id\":\"1229\",\"type\":\"BasicTicker\"}},\"id\":\"1228\",\"type\":\"LinearAxis\"},{\"attributes\":{},\"id\":\"1243\",\"type\":\"HelpTool\"},{\"attributes\":{\"callback\":null},\"id\":\"1220\",\"type\":\"DataRange1d\"},{\"attributes\":{},\"id\":\"1241\",\"type\":\"SaveTool\"},{\"attributes\":{},\"id\":\"1224\",\"type\":\"LinearScale\"},{\"attributes\":{\"source\":{\"id\":\"1251\",\"type\":\"ColumnDataSource\"}},\"id\":\"1255\",\"type\":\"CDSView\"},{\"attributes\":{\"line_alpha\":0.7,\"line_color\":\"firebrick\",\"x\":{\"field\":\"x\"},\"y\":{\"field\":\"y\"}},\"id\":\"1252\",\"type\":\"Line\"},{\"attributes\":{\"overlay\":{\"id\":\"1281\",\"type\":\"BoxAnnotation\"}},\"id\":\"1240\",\"type\":\"BoxZoomTool\"},{\"attributes\":{},\"id\":\"1242\",\"type\":\"ResetTool\"},{\"attributes\":{},\"id\":\"1226\",\"type\":\"LinearScale\"},{\"attributes\":{},\"id\":\"1276\",\"type\":\"BasicTickFormatter\"},{\"attributes\":{\"line_alpha\":0.1,\"line_color\":\"#1f77b4\",\"x\":{\"field\":\"x\"},\"y\":{\"field\":\"y\"}},\"id\":\"1253\",\"type\":\"Line\"},{\"attributes\":{},\"id\":\"1229\",\"type\":\"BasicTicker\"},{\"attributes\":{\"ticker\":{\"id\":\"1229\",\"type\":\"BasicTicker\"}},\"id\":\"1232\",\"type\":\"Grid\"},{\"attributes\":{\"formatter\":{\"id\":\"1278\",\"type\":\"BasicTickFormatter\"},\"ticker\":{\"id\":\"1234\",\"type\":\"BasicTicker\"}},\"id\":\"1233\",\"type\":\"LinearAxis\"},{\"attributes\":{},\"id\":\"1234\",\"type\":\"BasicTicker\"},{\"attributes\":{},\"id\":\"1278\",\"type\":\"BasicTickFormatter\"},{\"attributes\":{\"active_drag\":\"auto\",\"active_inspect\":\"auto\",\"active_multi\":null,\"active_scroll\":\"auto\",\"active_tap\":\"auto\",\"tools\":[{\"id\":\"1238\",\"type\":\"PanTool\"},{\"id\":\"1239\",\"type\":\"WheelZoomTool\"},{\"id\":\"1240\",\"type\":\"BoxZoomTool\"},{\"id\":\"1241\",\"type\":\"SaveTool\"},{\"id\":\"1242\",\"type\":\"ResetTool\"},{\"id\":\"1243\",\"type\":\"HelpTool\"},{\"id\":\"1256\",\"type\":\"HoverTool\"}]},\"id\":\"1244\",\"type\":\"Toolbar\"},{\"attributes\":{\"bottom_units\":\"screen\",\"fill_alpha\":{\"value\":0.5},\"fill_color\":{\"value\":\"lightgrey\"},\"left_units\":\"screen\",\"level\":\"overlay\",\"line_alpha\":{\"value\":1.0},\"line_color\":{\"value\":\"black\"},\"line_dash\":[4,4],\"line_width\":{\"value\":2},\"render_mode\":\"css\",\"right_units\":\"screen\",\"top_units\":\"screen\"},\"id\":\"1281\",\"type\":\"BoxAnnotation\"},{\"attributes\":{\"dimension\":1,\"ticker\":{\"id\":\"1234\",\"type\":\"BasicTicker\"}},\"id\":\"1237\",\"type\":\"Grid\"},{\"attributes\":{\"callback\":null},\"id\":\"1222\",\"type\":\"DataRange1d\"},{\"attributes\":{\"callback\":null,\"mode\":\"vline\",\"renderers\":[{\"id\":\"1254\",\"type\":\"GlyphRenderer\"}],\"tooltips\":[[\"Corr: \",\"@y\"]]},\"id\":\"1256\",\"type\":\"HoverTool\"},{\"attributes\":{\"callback\":null,\"data\":{\"x\":[0,1,2,3,4,5,6,7,8,9,10,11,12,13,14,15,16,17,18,19,20,21,22,23,24,25,26,27,28,29,30,31,32,33,34,35,36,37,38,39,40,41,42,43,44,45,46,47,48,49,50,51,52,53,54,55,56,57,58,59,60,61,62,63,64,65,66,67,68,69,70,71,72,73,74,75,76,77,78,79,80,81,82,83,84,85,86,87,88,89,90,91,92,93,94,95,96,97,98,99,100,101,102,103,104,105,106,107,108,109,110,111,112,113,114,115,116,117,118,119,120,121,122,123,124,125,126,127,128,129,130,131,132,133,134,135,136,137,138,139,140,141,142,143,144,145,146,147,148,149,150,151,152,153,154,155,156,157,158,159,160,161,162,163,164,165,166,167,168,169,170,171,172,173,174,175,176,177,178,179,180,181,182,183,184,185,186,187,188,189,190,191,192,193,194,195,196,197,198,199,200,201,202,203,204,205,206,207,208,209,210,211,212,213,214,215,216,217,218,219,220,221,222,223,224,225,226,227,228,229,230,231,232,233,234,235,236,237,238,239,240,241,242,243,244,245,246,247,248,249,250,251,252,253,254,255,256,257,258,259,260,261,262,263,264,265,266,267,268,269,270,271,272,273,274,275,276,277,278,279,280,281,282,283,284,285,286,287,288,289,290,291,292,293,294,295,296,297,298,299,300,301,302,303,304,305,306,307,308,309,310,311,312,313,314,315,316,317,318,319,320,321,322,323,324,325,326,327,328,329,330,331,332,333,334,335,336,337,338,339,340,341,342,343,344,345,346,347,348,349,350,351,352,353,354,355,356,357,358,359,360,361,362,363,364,365,366,367,368,369,370,371,372,373,374,375,376,377,378,379,380,381,382,383,384,385,386,387,388,389,390,391,392,393,394,395,396,397,398,399,400,401,402,403,404,405,406,407,408,409,410,411,412,413,414,415,416,417,418,419,420,421,422,423,424,425,426,427,428,429,430,431,432,433,434,435,436,437,438,439,440,441,442,443,444,445,446,447,448,449,450,451,452,453,454,455,456,457,458,459,460,461,462,463,464,465,466,467,468,469,470,471,472,473,474,475,476,477,478,479,480,481,482,483,484,485,486,487,488,489,490,491,492,493,494,495,496,497,498,499],\"y\":[0.6863794627543,0.5927887547203982,0.5868592210388345,0.5904723779643202,0.573977246665869,0.5783871320654624,0.5697273025159766,0.5680155323471066,0.5677978253108319,0.5470892534658118,0.5571088429944983,0.549149325949794,0.5465844590742628,0.5353659187360359,0.5142990898765729,0.5217188783244425,0.5085825344650895,0.4942877843238635,0.4930354918788798,0.48333157208140926,0.47571121550647394,0.4643628214627194,0.4558394184275449,0.44534678810150113,0.42161465952721944,0.4201648286357512,0.40384459634832576,0.3978510003759732,0.39038290998071185,0.3773379772093222,0.3756981916249611,0.37153504811134924,0.3665997620905846,0.35628100649611066,0.35556163126143303,0.3448849299429187,0.32816196122854074,0.33354546292719256,0.3239068728502496,0.3148430180931659,0.3094344947625598,0.3027703653634697,0.2897360920726643,0.2932442878525291,0.2825246500451782,0.28434444362122496,0.28457658778073297,0.2760431698371595,0.2694859070343256,0.27063563148766007,0.26956508845503807,0.26543470958332926,0.26249915965194787,0.25795852276910514,0.25599630668188655,0.25000184989818114,0.2504206310366115,0.2406102480253538,0.236761541305649,0.23892237744617537,0.23415540806394858,0.22726886468127805,0.22739886491684103,0.2161627531226957,0.22490609774327386,0.22221275492772746,0.22348912333091364,0.21581382139326877,0.21515710447898806,0.21733283407481443,0.20548936337636836,0.20782517282699836,0.20483959380287128,0.2014781345148373,0.20184777800075135,0.1929039734962943,0.19124261644510518,0.18479310173282515,0.17467299901685188,0.17561833121664022,0.17005387080023032,0.16810505916143836,0.16059609339239703,0.1581502484057525,0.15345739018378143,0.1481303983296144,0.14565138918776765,0.13921594392177733,0.12878684571677035,0.1298719788215881,0.11744048966490701,0.12212242185453175,0.1087439124591488,0.09671298042659776,0.08649304216241295,0.07993820210689703,0.08000792554835136,0.0713651422059547,0.05955383646447516,0.06077333750325964,0.04122185382916415,0.04564916015466363,0.032566527644636876,0.02055201867342864,0.024775232743941576,0.01241502189352023,0.00503169070956358,0.002611977896189597,-0.007230162762506092,-0.013478769790901096,-0.021403132821692875,-0.027333589551707088,-0.027570805015493124,-0.04684497946993692,-0.053147064777798785,-0.05502647402764637,-0.062497489200104735,-0.06622315238118713,-0.07217898113156387,-0.07448796917455157,-0.08405528049876405,-0.08674067925341462,-0.09244605911231803,-0.09254491106381751,-0.09180664531905518,-0.1005520358617641,-0.11192656650274675,-0.11223955979641921,-0.11744898904978307,-0.12193758315285114,-0.1292592492192007,-0.13040692725261058,-0.1358762057122212,-0.14247941430704378,-0.13997435689069795,-0.14746661024651248,-0.15428208069138724,-0.15267495426349126,-0.16054207218209457,-0.16179121567910087,-0.16071388706586703,-0.17017011301808868,-0.16634184168362381,-0.17420889376776175,-0.17262172715005628,-0.17446295802469997,-0.18524919696833136,-0.18324892327458062,-0.19828681974407084,-0.19939957890348772,-0.19697503492431004,-0.19983144596425081,-0.20222162632203436,-0.2029699147029439,-0.21444331183664203,-0.2094070434541233,-0.20692627203777658,-0.20558107960751965,-0.21030299649497122,-0.2172010921929109,-0.21964742767108353,-0.22485135157475675,-0.22195200037712887,-0.22522013603921054,-0.22441358937175357,-0.21813235758262717,-0.22488677612881422,-0.22698637067573293,-0.22875375055193697,-0.2360768965799924,-0.23234182095019643,-0.2273353332709526,-0.21546663942389546,-0.22187591344419044,-0.22184187974662684,-0.2132758903810585,-0.22149264714801647,-0.21507428118310015,-0.21090032780088683,-0.20978152954961102,-0.21008997168336055,-0.21446387224866284,-0.21183516137557842,-0.2073866102052794,-0.2065232211743257,-0.20578119542437834,-0.21463006836698237,-0.20360771012941642,-0.20448839482617026,-0.20542613938482823,-0.19784611797354257,-0.20836826685856255,-0.20901817048910845,-0.20572500604704055,-0.2119844463459574,-0.21715069784547156,-0.2154982043406162,-0.21923306754483327,-0.22167961938114503,-0.22645861680450197,-0.22791223242439151,-0.23620500563170008,-0.2385587085901291,-0.24107030749480415,-0.24489233748855885,-0.2484163461048206,-0.2508199141005818,-0.2566937541722709,-0.26099310167807216,-0.2593639035306839,-0.2664487231441967,-0.26479241033813883,-0.26937731077150134,-0.27159711608135656,-0.27425515982273607,-0.27768811717655345,-0.27440614652857515,-0.27596432980211294,-0.28122874532637715,-0.2788345379697642,-0.27671630367569466,-0.28001309305232763,-0.272686983350905,-0.27329557036740615,-0.26809316797513105,-0.26206835709061654,-0.2635952171605031,-0.2548741988371419,-0.25267327384125016,-0.24909348636003556,-0.2396809115900464,-0.23156989407005987,-0.2224582088281355,-0.21070791737615435,-0.203332602286583,-0.19818109893942643,-0.18847942805500095,-0.18277053927877968,-0.173132274988638,-0.15698020108449362,-0.1527730477798359,-0.1400382357196677,-0.13107586389399514,-0.1178901743928461,-0.10556085199799736,-0.1023917152350916,-0.08963675023033713,-0.07964359061257252,-0.07167007066389314,-0.05828666409093059,-0.051695031624484036,-0.04631917629794666,-0.03243659409053691,-0.026845756436879187,-0.011383536302712584,-0.0029950451638374644,0.00427721576844171,0.009648500839873822,0.019351750156753392,0.030934948746549364,0.03708953569733403,0.04867452893701964,0.06359883689682258,0.06870638971170326,0.07671341961503998,0.08204133455416325,0.09018171848768324,0.09632496636880283,0.1035346032588152,0.11690127653290715,0.11996181352940834,0.12491818001875493,0.12424866086993196,0.13113765766316074,0.13862617608991998,0.13955645636442382,0.1506940437178282,0.14692995323008332,0.15228422041319883,0.1590921703464685,0.15883908449386933,0.16511746418580267,0.16546051169756765,0.1668149828376302,0.17094446845611125,0.16502908433680732,0.16947304884018535,0.16674940360149107,0.16354265832336898,0.1742412226951667,0.1709034600931432,0.16938850343590703,0.16855800247297603,0.17005363838352727,0.17637074819833343,0.1742005193685562,0.1796899349381594,0.17776624869716193,0.17936827988066484,0.18125570393756035,0.18253546275344,0.18439955196270041,0.18446954618947597,0.18114585584157358,0.1870631409937959,0.18520758607983254,0.18894142475828477,0.19094592644244301,0.19554200178957748,0.19810578904949008,0.20042408510524237,0.20205576819589147,0.21586308564254156,0.21594570331291701,0.22499126602119476,0.22566184184257132,0.23236781032568427,0.23766388215028217,0.2410105808390502,0.2409939298681961,0.24903835654247736,0.2585512904667754,0.2610753079876489,0.2653135948221372,0.2713180974023053,0.2678352215209233,0.2685983199604836,0.2745853537743915,0.28623978136180755,0.2950949196344577,0.29750355548283425,0.30567868997499553,0.31216697281163786,0.3125276225230267,0.30977742302259437,0.31889048950715554,0.31495215522468295,0.3161123725140802,0.31650322064153275,0.31947269873723827,0.32490004633173125,0.32449404493397993,0.31696425042363185,0.32749473752238284,0.3260767721784144,0.32982852501497273,0.3289029842032749,0.32988463484048014,0.32712892381573977,0.32780570071364046,0.3319667900523018,0.33837238792751745,0.32980859370623844,0.32886261345396917,0.332441327212301,0.3297786230776641,0.32623750549467107,0.32616231705331367,0.32734572428494907,0.326335723364055,0.32104371634200113,0.3227235421355959,0.32882800315503985,0.32143838673539626,0.3214920725507681,0.31553825780852296,0.3177647090009156,0.31560450498506054,0.31423042962152137,0.3141851233934693,0.3142292600317875,0.309644303662942,0.307149777884946,0.30358557918405615,0.3054634394491371,0.30054786580238213,0.29337174563172136,0.2945315505402915,0.2919497479067319,0.28705644206922226,0.2887119893957446,0.28778441233739693,0.28524061102914466,0.2795288371233748,0.2776743852046271,0.27809595275385846,0.27518586597486816,0.27103905391331923,0.26919597769149467,0.26640151407520574,0.2616835293640698,0.2608227949246198,0.2573605637980327,0.2550285424860031,0.25154436680593134,0.24920884410526467,0.25017823893863605,0.24844929079780229,0.24263737371714408,0.240186672154969,0.2353149476735546,0.23661332347143102,0.2314434714912727,0.23371084764601674,0.2340394587285584,0.2340203262642401,0.23060354229680377,0.2313618152109201,0.2284159616873305,0.2283787446269793,0.22084720896831606,0.2231735238832836,0.22053578235046975,0.2186847643935606,0.22060671105024152,0.2193917290440168,0.2211563907317948,0.21924774695473548,0.222721587001285,0.2253769705949986,0.224518447581317,0.22436093776825064,0.2237981465985709,0.22515553527471488,0.2279967512516107,0.22724677639138033,0.23208538496315845,0.23294053960610703,0.23504529648669123,0.23346992084194299,0.23542989239866435,0.2372826460756732,0.23662437364060945,0.23893398439401944,0.23926040488347847,0.2402367700437234,0.24645336967511455,0.2456478029828689,0.24886608793073742,0.24937511789594793,0.25069369127384805,0.2532228756617742,0.2519769808297216,0.25147033361542404,0.2505641505549074,0.2533740622097935,0.2532460393023976,0.25162580469767637,0.2524233794302932,0.2529082377627997,0.2520875536991836,0.25166535148517133,0.2527250397313109,0.2526030521984901,0.25233584792308866,0.2521152517987367,0.25222675279292,0.2510761135655328,0.25143555199103446,0.25032557027594043,0.2510758498523233,0.25260455839149853,0.25016785724606094,0.25230865147383374,0.250958402857462,0.2524238110646401,0.2494790442268379,0.25020868594257306,0.2503170395294771,0.2478617364909155,0.24878118874615748,0.24838767469960432,0.24741660078517733,0.24862468210509361,0.24805405658666393,0.24797804204298074,0.24792675127135846,0.24661972477319627,0.24871169569415585,0.24755905415391796,0.2475928833742258,0.24726739777827608,0.24689071651393596,0.24734629507219966,0.24661203843417878,0.2464921451091496,0.2473311605354571,0.24774671976297738,0.24728594496984546,0.24739204696976205,0.24784243181252036,0.24821577279757323,0.24794369319206094,0.24757608973621556,0.24769119540941473,0.2477380512367385,0.2481764893641591,0.24787790782023975,0.2480524686445337,0.2478962359310786]},\"selected\":{\"id\":\"1279\",\"type\":\"Selection\"},\"selection_policy\":{\"id\":\"1280\",\"type\":\"UnionRenderers\"}},\"id\":\"1251\",\"type\":\"ColumnDataSource\"},{\"attributes\":{\"text\":\"Autocorrelation\"},\"id\":\"1218\",\"type\":\"Title\"},{\"attributes\":{},\"id\":\"1279\",\"type\":\"Selection\"},{\"attributes\":{},\"id\":\"1238\",\"type\":\"PanTool\"},{\"attributes\":{\"data_source\":{\"id\":\"1251\",\"type\":\"ColumnDataSource\"},\"glyph\":{\"id\":\"1252\",\"type\":\"Line\"},\"hover_glyph\":null,\"muted_glyph\":null,\"nonselection_glyph\":{\"id\":\"1253\",\"type\":\"Line\"},\"selection_glyph\":null,\"view\":{\"id\":\"1255\",\"type\":\"CDSView\"}},\"id\":\"1254\",\"type\":\"GlyphRenderer\"},{\"attributes\":{},\"id\":\"1239\",\"type\":\"WheelZoomTool\"},{\"attributes\":{},\"id\":\"1280\",\"type\":\"UnionRenderers\"}],\"root_ids\":[\"1217\"]},\"title\":\"Bokeh Application\",\"version\":\"1.4.0\"}};\n",
       "  var render_items = [{\"docid\":\"e83880a8-88eb-472a-b741-86249a869e59\",\"roots\":{\"1217\":\"2d23a92f-26c2-4d1e-8bb6-bc77ce334a5e\"}}];\n",
       "  root.Bokeh.embed.embed_items_notebook(docs_json, render_items);\n",
       "\n",
       "  }\n",
       "  if (root.Bokeh !== undefined) {\n",
       "    embed_document(root);\n",
       "  } else {\n",
       "    var attempts = 0;\n",
       "    var timer = setInterval(function(root) {\n",
       "      if (root.Bokeh !== undefined) {\n",
       "        clearInterval(timer);\n",
       "        embed_document(root);\n",
       "      } else {\n",
       "        attempts++;\n",
       "        if (attempts > 100) {\n",
       "          clearInterval(timer);\n",
       "          console.log(\"Bokeh: ERROR: Unable to run BokehJS code because BokehJS library is missing\");\n",
       "        }\n",
       "      }\n",
       "    }, 10, root)\n",
       "  }\n",
       "})(window);"
      ],
      "application/vnd.bokehjs_exec.v0+json": ""
     },
     "metadata": {
      "application/vnd.bokehjs_exec.v0+json": {
       "id": "1217"
      }
     },
     "output_type": "display_data"
    }
   ],
   "source": [
    "show(autocorr)"
   ]
  }
 ],
 "metadata": {
  "celltoolbar": "Slideshow",
  "finalized": {
   "timestamp": 1587726130098,
   "trusted": true
  },
  "kernelspec": {
   "display_name": "Python 3",
   "language": "python",
   "name": "python3"
  },
  "language_info": {
   "codemirror_mode": {
    "name": "ipython",
    "version": 3
   },
   "file_extension": ".py",
   "mimetype": "text/x-python",
   "name": "python",
   "nbconvert_exporter": "python",
   "pygments_lexer": "ipython3",
   "version": "3.7.6"
  }
 },
 "nbformat": 4,
 "nbformat_minor": 4
}
