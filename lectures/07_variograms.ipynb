{
 "cells": [
  {
   "cell_type": "markdown",
   "metadata": {
    "slideshow": {
     "slide_type": "slide"
    }
   },
   "source": [
    "# Geostatistics"
   ]
  },
  {
   "cell_type": "markdown",
   "metadata": {
    "slideshow": {
     "slide_type": "fragment"
    }
   },
   "source": [
    "## 6. Variograms"
   ]
  },
  {
   "cell_type": "markdown",
   "metadata": {
    "slideshow": {
     "slide_type": "fragment"
    }
   },
   "source": [
    "This lecture focuses on theoretical variogram functions and the fitting to experimental data.\n",
    "\n",
    "* empirical variograms\n",
    "* theoretical functions\n",
    "* variogram parameters\n",
    "* fitting"
   ]
  },
  {
   "cell_type": "code",
   "execution_count": 117,
   "metadata": {
    "slideshow": {
     "slide_type": "notes"
    }
   },
   "outputs": [
    {
     "data": {
      "text/html": [
       "\n",
       "    <div class=\"bk-root\">\n",
       "        <a href=\"https://bokeh.org\" target=\"_blank\" class=\"bk-logo bk-logo-small bk-logo-notebook\"></a>\n",
       "        <span id=\"10418\">Loading BokehJS ...</span>\n",
       "    </div>"
      ]
     },
     "metadata": {},
     "output_type": "display_data"
    },
    {
     "data": {
      "application/javascript": [
       "\n",
       "(function(root) {\n",
       "  function now() {\n",
       "    return new Date();\n",
       "  }\n",
       "\n",
       "  var force = true;\n",
       "\n",
       "  if (typeof root._bokeh_onload_callbacks === \"undefined\" || force === true) {\n",
       "    root._bokeh_onload_callbacks = [];\n",
       "    root._bokeh_is_loading = undefined;\n",
       "  }\n",
       "\n",
       "  var JS_MIME_TYPE = 'application/javascript';\n",
       "  var HTML_MIME_TYPE = 'text/html';\n",
       "  var EXEC_MIME_TYPE = 'application/vnd.bokehjs_exec.v0+json';\n",
       "  var CLASS_NAME = 'output_bokeh rendered_html';\n",
       "\n",
       "  /**\n",
       "   * Render data to the DOM node\n",
       "   */\n",
       "  function render(props, node) {\n",
       "    var script = document.createElement(\"script\");\n",
       "    node.appendChild(script);\n",
       "  }\n",
       "\n",
       "  /**\n",
       "   * Handle when an output is cleared or removed\n",
       "   */\n",
       "  function handleClearOutput(event, handle) {\n",
       "    var cell = handle.cell;\n",
       "\n",
       "    var id = cell.output_area._bokeh_element_id;\n",
       "    var server_id = cell.output_area._bokeh_server_id;\n",
       "    // Clean up Bokeh references\n",
       "    if (id != null && id in Bokeh.index) {\n",
       "      Bokeh.index[id].model.document.clear();\n",
       "      delete Bokeh.index[id];\n",
       "    }\n",
       "\n",
       "    if (server_id !== undefined) {\n",
       "      // Clean up Bokeh references\n",
       "      var cmd = \"from bokeh.io.state import curstate; print(curstate().uuid_to_server['\" + server_id + \"'].get_sessions()[0].document.roots[0]._id)\";\n",
       "      cell.notebook.kernel.execute(cmd, {\n",
       "        iopub: {\n",
       "          output: function(msg) {\n",
       "            var id = msg.content.text.trim();\n",
       "            if (id in Bokeh.index) {\n",
       "              Bokeh.index[id].model.document.clear();\n",
       "              delete Bokeh.index[id];\n",
       "            }\n",
       "          }\n",
       "        }\n",
       "      });\n",
       "      // Destroy server and session\n",
       "      var cmd = \"import bokeh.io.notebook as ion; ion.destroy_server('\" + server_id + \"')\";\n",
       "      cell.notebook.kernel.execute(cmd);\n",
       "    }\n",
       "  }\n",
       "\n",
       "  /**\n",
       "   * Handle when a new output is added\n",
       "   */\n",
       "  function handleAddOutput(event, handle) {\n",
       "    var output_area = handle.output_area;\n",
       "    var output = handle.output;\n",
       "\n",
       "    // limit handleAddOutput to display_data with EXEC_MIME_TYPE content only\n",
       "    if ((output.output_type != \"display_data\") || (!output.data.hasOwnProperty(EXEC_MIME_TYPE))) {\n",
       "      return\n",
       "    }\n",
       "\n",
       "    var toinsert = output_area.element.find(\".\" + CLASS_NAME.split(' ')[0]);\n",
       "\n",
       "    if (output.metadata[EXEC_MIME_TYPE][\"id\"] !== undefined) {\n",
       "      toinsert[toinsert.length - 1].firstChild.textContent = output.data[JS_MIME_TYPE];\n",
       "      // store reference to embed id on output_area\n",
       "      output_area._bokeh_element_id = output.metadata[EXEC_MIME_TYPE][\"id\"];\n",
       "    }\n",
       "    if (output.metadata[EXEC_MIME_TYPE][\"server_id\"] !== undefined) {\n",
       "      var bk_div = document.createElement(\"div\");\n",
       "      bk_div.innerHTML = output.data[HTML_MIME_TYPE];\n",
       "      var script_attrs = bk_div.children[0].attributes;\n",
       "      for (var i = 0; i < script_attrs.length; i++) {\n",
       "        toinsert[toinsert.length - 1].firstChild.setAttribute(script_attrs[i].name, script_attrs[i].value);\n",
       "      }\n",
       "      // store reference to server id on output_area\n",
       "      output_area._bokeh_server_id = output.metadata[EXEC_MIME_TYPE][\"server_id\"];\n",
       "    }\n",
       "  }\n",
       "\n",
       "  function register_renderer(events, OutputArea) {\n",
       "\n",
       "    function append_mime(data, metadata, element) {\n",
       "      // create a DOM node to render to\n",
       "      var toinsert = this.create_output_subarea(\n",
       "        metadata,\n",
       "        CLASS_NAME,\n",
       "        EXEC_MIME_TYPE\n",
       "      );\n",
       "      this.keyboard_manager.register_events(toinsert);\n",
       "      // Render to node\n",
       "      var props = {data: data, metadata: metadata[EXEC_MIME_TYPE]};\n",
       "      render(props, toinsert[toinsert.length - 1]);\n",
       "      element.append(toinsert);\n",
       "      return toinsert\n",
       "    }\n",
       "\n",
       "    /* Handle when an output is cleared or removed */\n",
       "    events.on('clear_output.CodeCell', handleClearOutput);\n",
       "    events.on('delete.Cell', handleClearOutput);\n",
       "\n",
       "    /* Handle when a new output is added */\n",
       "    events.on('output_added.OutputArea', handleAddOutput);\n",
       "\n",
       "    /**\n",
       "     * Register the mime type and append_mime function with output_area\n",
       "     */\n",
       "    OutputArea.prototype.register_mime_type(EXEC_MIME_TYPE, append_mime, {\n",
       "      /* Is output safe? */\n",
       "      safe: true,\n",
       "      /* Index of renderer in `output_area.display_order` */\n",
       "      index: 0\n",
       "    });\n",
       "  }\n",
       "\n",
       "  // register the mime type if in Jupyter Notebook environment and previously unregistered\n",
       "  if (root.Jupyter !== undefined) {\n",
       "    var events = require('base/js/events');\n",
       "    var OutputArea = require('notebook/js/outputarea').OutputArea;\n",
       "\n",
       "    if (OutputArea.prototype.mime_types().indexOf(EXEC_MIME_TYPE) == -1) {\n",
       "      register_renderer(events, OutputArea);\n",
       "    }\n",
       "  }\n",
       "\n",
       "  \n",
       "  if (typeof (root._bokeh_timeout) === \"undefined\" || force === true) {\n",
       "    root._bokeh_timeout = Date.now() + 5000;\n",
       "    root._bokeh_failed_load = false;\n",
       "  }\n",
       "\n",
       "  var NB_LOAD_WARNING = {'data': {'text/html':\n",
       "     \"<div style='background-color: #fdd'>\\n\"+\n",
       "     \"<p>\\n\"+\n",
       "     \"BokehJS does not appear to have successfully loaded. If loading BokehJS from CDN, this \\n\"+\n",
       "     \"may be due to a slow or bad network connection. Possible fixes:\\n\"+\n",
       "     \"</p>\\n\"+\n",
       "     \"<ul>\\n\"+\n",
       "     \"<li>re-rerun `output_notebook()` to attempt to load from CDN again, or</li>\\n\"+\n",
       "     \"<li>use INLINE resources instead, as so:</li>\\n\"+\n",
       "     \"</ul>\\n\"+\n",
       "     \"<code>\\n\"+\n",
       "     \"from bokeh.resources import INLINE\\n\"+\n",
       "     \"output_notebook(resources=INLINE)\\n\"+\n",
       "     \"</code>\\n\"+\n",
       "     \"</div>\"}};\n",
       "\n",
       "  function display_loaded() {\n",
       "    var el = document.getElementById(\"10418\");\n",
       "    if (el != null) {\n",
       "      el.textContent = \"BokehJS is loading...\";\n",
       "    }\n",
       "    if (root.Bokeh !== undefined) {\n",
       "      if (el != null) {\n",
       "        el.textContent = \"BokehJS \" + root.Bokeh.version + \" successfully loaded.\";\n",
       "      }\n",
       "    } else if (Date.now() < root._bokeh_timeout) {\n",
       "      setTimeout(display_loaded, 100)\n",
       "    }\n",
       "  }\n",
       "\n",
       "\n",
       "  function run_callbacks() {\n",
       "    try {\n",
       "      root._bokeh_onload_callbacks.forEach(function(callback) {\n",
       "        if (callback != null)\n",
       "          callback();\n",
       "      });\n",
       "    } finally {\n",
       "      delete root._bokeh_onload_callbacks\n",
       "    }\n",
       "    console.debug(\"Bokeh: all callbacks have finished\");\n",
       "  }\n",
       "\n",
       "  function load_libs(css_urls, js_urls, callback) {\n",
       "    if (css_urls == null) css_urls = [];\n",
       "    if (js_urls == null) js_urls = [];\n",
       "\n",
       "    root._bokeh_onload_callbacks.push(callback);\n",
       "    if (root._bokeh_is_loading > 0) {\n",
       "      console.debug(\"Bokeh: BokehJS is being loaded, scheduling callback at\", now());\n",
       "      return null;\n",
       "    }\n",
       "    if (js_urls == null || js_urls.length === 0) {\n",
       "      run_callbacks();\n",
       "      return null;\n",
       "    }\n",
       "    console.debug(\"Bokeh: BokehJS not loaded, scheduling load and callback at\", now());\n",
       "    root._bokeh_is_loading = css_urls.length + js_urls.length;\n",
       "\n",
       "    function on_load() {\n",
       "      root._bokeh_is_loading--;\n",
       "      if (root._bokeh_is_loading === 0) {\n",
       "        console.debug(\"Bokeh: all BokehJS libraries/stylesheets loaded\");\n",
       "        run_callbacks()\n",
       "      }\n",
       "    }\n",
       "\n",
       "    function on_error() {\n",
       "      console.error(\"failed to load \" + url);\n",
       "    }\n",
       "\n",
       "    for (var i = 0; i < css_urls.length; i++) {\n",
       "      var url = css_urls[i];\n",
       "      const element = document.createElement(\"link\");\n",
       "      element.onload = on_load;\n",
       "      element.onerror = on_error;\n",
       "      element.rel = \"stylesheet\";\n",
       "      element.type = \"text/css\";\n",
       "      element.href = url;\n",
       "      console.debug(\"Bokeh: injecting link tag for BokehJS stylesheet: \", url);\n",
       "      document.body.appendChild(element);\n",
       "    }\n",
       "\n",
       "    for (var i = 0; i < js_urls.length; i++) {\n",
       "      var url = js_urls[i];\n",
       "      var element = document.createElement('script');\n",
       "      element.onload = on_load;\n",
       "      element.onerror = on_error;\n",
       "      element.async = false;\n",
       "      element.src = url;\n",
       "      console.debug(\"Bokeh: injecting script tag for BokehJS library: \", url);\n",
       "      document.head.appendChild(element);\n",
       "    }\n",
       "  };var element = document.getElementById(\"10418\");\n",
       "  if (element == null) {\n",
       "    console.error(\"Bokeh: ERROR: autoload.js configured with elementid '10418' but no matching script tag was found. \")\n",
       "    return false;\n",
       "  }\n",
       "\n",
       "  function inject_raw_css(css) {\n",
       "    const element = document.createElement(\"style\");\n",
       "    element.appendChild(document.createTextNode(css));\n",
       "    document.body.appendChild(element);\n",
       "  }\n",
       "\n",
       "  \n",
       "  var js_urls = [\"https://cdn.pydata.org/bokeh/release/bokeh-1.4.0.min.js\", \"https://cdn.pydata.org/bokeh/release/bokeh-widgets-1.4.0.min.js\", \"https://cdn.pydata.org/bokeh/release/bokeh-tables-1.4.0.min.js\", \"https://cdn.pydata.org/bokeh/release/bokeh-gl-1.4.0.min.js\"];\n",
       "  var css_urls = [];\n",
       "  \n",
       "\n",
       "  var inline_js = [\n",
       "    function(Bokeh) {\n",
       "      Bokeh.set_log_level(\"info\");\n",
       "    },\n",
       "    function(Bokeh) {\n",
       "    \n",
       "    \n",
       "    }\n",
       "  ];\n",
       "\n",
       "  function run_inline_js() {\n",
       "    \n",
       "    if (root.Bokeh !== undefined || force === true) {\n",
       "      \n",
       "    for (var i = 0; i < inline_js.length; i++) {\n",
       "      inline_js[i].call(root, root.Bokeh);\n",
       "    }\n",
       "    if (force === true) {\n",
       "        display_loaded();\n",
       "      }} else if (Date.now() < root._bokeh_timeout) {\n",
       "      setTimeout(run_inline_js, 100);\n",
       "    } else if (!root._bokeh_failed_load) {\n",
       "      console.log(\"Bokeh: BokehJS failed to load within specified timeout.\");\n",
       "      root._bokeh_failed_load = true;\n",
       "    } else if (force !== true) {\n",
       "      var cell = $(document.getElementById(\"10418\")).parents('.cell').data().cell;\n",
       "      cell.output_area.append_execute_result(NB_LOAD_WARNING)\n",
       "    }\n",
       "\n",
       "  }\n",
       "\n",
       "  if (root._bokeh_is_loading === 0) {\n",
       "    console.debug(\"Bokeh: BokehJS loaded, going straight to plotting\");\n",
       "    run_inline_js();\n",
       "  } else {\n",
       "    load_libs(css_urls, js_urls, function() {\n",
       "      console.debug(\"Bokeh: BokehJS plotting callback run at\", now());\n",
       "      run_inline_js();\n",
       "    });\n",
       "  }\n",
       "}(window));"
      ],
      "application/vnd.bokehjs_load.v0+json": "\n(function(root) {\n  function now() {\n    return new Date();\n  }\n\n  var force = true;\n\n  if (typeof root._bokeh_onload_callbacks === \"undefined\" || force === true) {\n    root._bokeh_onload_callbacks = [];\n    root._bokeh_is_loading = undefined;\n  }\n\n  \n\n  \n  if (typeof (root._bokeh_timeout) === \"undefined\" || force === true) {\n    root._bokeh_timeout = Date.now() + 5000;\n    root._bokeh_failed_load = false;\n  }\n\n  var NB_LOAD_WARNING = {'data': {'text/html':\n     \"<div style='background-color: #fdd'>\\n\"+\n     \"<p>\\n\"+\n     \"BokehJS does not appear to have successfully loaded. If loading BokehJS from CDN, this \\n\"+\n     \"may be due to a slow or bad network connection. Possible fixes:\\n\"+\n     \"</p>\\n\"+\n     \"<ul>\\n\"+\n     \"<li>re-rerun `output_notebook()` to attempt to load from CDN again, or</li>\\n\"+\n     \"<li>use INLINE resources instead, as so:</li>\\n\"+\n     \"</ul>\\n\"+\n     \"<code>\\n\"+\n     \"from bokeh.resources import INLINE\\n\"+\n     \"output_notebook(resources=INLINE)\\n\"+\n     \"</code>\\n\"+\n     \"</div>\"}};\n\n  function display_loaded() {\n    var el = document.getElementById(\"10418\");\n    if (el != null) {\n      el.textContent = \"BokehJS is loading...\";\n    }\n    if (root.Bokeh !== undefined) {\n      if (el != null) {\n        el.textContent = \"BokehJS \" + root.Bokeh.version + \" successfully loaded.\";\n      }\n    } else if (Date.now() < root._bokeh_timeout) {\n      setTimeout(display_loaded, 100)\n    }\n  }\n\n\n  function run_callbacks() {\n    try {\n      root._bokeh_onload_callbacks.forEach(function(callback) {\n        if (callback != null)\n          callback();\n      });\n    } finally {\n      delete root._bokeh_onload_callbacks\n    }\n    console.debug(\"Bokeh: all callbacks have finished\");\n  }\n\n  function load_libs(css_urls, js_urls, callback) {\n    if (css_urls == null) css_urls = [];\n    if (js_urls == null) js_urls = [];\n\n    root._bokeh_onload_callbacks.push(callback);\n    if (root._bokeh_is_loading > 0) {\n      console.debug(\"Bokeh: BokehJS is being loaded, scheduling callback at\", now());\n      return null;\n    }\n    if (js_urls == null || js_urls.length === 0) {\n      run_callbacks();\n      return null;\n    }\n    console.debug(\"Bokeh: BokehJS not loaded, scheduling load and callback at\", now());\n    root._bokeh_is_loading = css_urls.length + js_urls.length;\n\n    function on_load() {\n      root._bokeh_is_loading--;\n      if (root._bokeh_is_loading === 0) {\n        console.debug(\"Bokeh: all BokehJS libraries/stylesheets loaded\");\n        run_callbacks()\n      }\n    }\n\n    function on_error() {\n      console.error(\"failed to load \" + url);\n    }\n\n    for (var i = 0; i < css_urls.length; i++) {\n      var url = css_urls[i];\n      const element = document.createElement(\"link\");\n      element.onload = on_load;\n      element.onerror = on_error;\n      element.rel = \"stylesheet\";\n      element.type = \"text/css\";\n      element.href = url;\n      console.debug(\"Bokeh: injecting link tag for BokehJS stylesheet: \", url);\n      document.body.appendChild(element);\n    }\n\n    for (var i = 0; i < js_urls.length; i++) {\n      var url = js_urls[i];\n      var element = document.createElement('script');\n      element.onload = on_load;\n      element.onerror = on_error;\n      element.async = false;\n      element.src = url;\n      console.debug(\"Bokeh: injecting script tag for BokehJS library: \", url);\n      document.head.appendChild(element);\n    }\n  };var element = document.getElementById(\"10418\");\n  if (element == null) {\n    console.error(\"Bokeh: ERROR: autoload.js configured with elementid '10418' but no matching script tag was found. \")\n    return false;\n  }\n\n  function inject_raw_css(css) {\n    const element = document.createElement(\"style\");\n    element.appendChild(document.createTextNode(css));\n    document.body.appendChild(element);\n  }\n\n  \n  var js_urls = [\"https://cdn.pydata.org/bokeh/release/bokeh-1.4.0.min.js\", \"https://cdn.pydata.org/bokeh/release/bokeh-widgets-1.4.0.min.js\", \"https://cdn.pydata.org/bokeh/release/bokeh-tables-1.4.0.min.js\", \"https://cdn.pydata.org/bokeh/release/bokeh-gl-1.4.0.min.js\"];\n  var css_urls = [];\n  \n\n  var inline_js = [\n    function(Bokeh) {\n      Bokeh.set_log_level(\"info\");\n    },\n    function(Bokeh) {\n    \n    \n    }\n  ];\n\n  function run_inline_js() {\n    \n    if (root.Bokeh !== undefined || force === true) {\n      \n    for (var i = 0; i < inline_js.length; i++) {\n      inline_js[i].call(root, root.Bokeh);\n    }\n    if (force === true) {\n        display_loaded();\n      }} else if (Date.now() < root._bokeh_timeout) {\n      setTimeout(run_inline_js, 100);\n    } else if (!root._bokeh_failed_load) {\n      console.log(\"Bokeh: BokehJS failed to load within specified timeout.\");\n      root._bokeh_failed_load = true;\n    } else if (force !== true) {\n      var cell = $(document.getElementById(\"10418\")).parents('.cell').data().cell;\n      cell.output_area.append_execute_result(NB_LOAD_WARNING)\n    }\n\n  }\n\n  if (root._bokeh_is_loading === 0) {\n    console.debug(\"Bokeh: BokehJS loaded, going straight to plotting\");\n    run_inline_js();\n  } else {\n    load_libs(css_urls, js_urls, function() {\n      console.debug(\"Bokeh: BokehJS plotting callback run at\", now());\n      run_inline_js();\n    });\n  }\n}(window));"
     },
     "metadata": {},
     "output_type": "display_data"
    }
   ],
   "source": [
    "import numpy as np\n",
    "import pandas as pd\n",
    "import skgstat as skg\n",
    "from time import time\n",
    "\n",
    "from bokeh.io import output_notebook\n",
    "from bokeh.plotting import figure, show\n",
    "from bokeh.models import ColorBar, LinearColorMapper\n",
    "\n",
    "output_notebook()"
   ]
  },
  {
   "cell_type": "markdown",
   "metadata": {
    "slideshow": {
     "slide_type": "slide"
    }
   },
   "source": [
    "## 6.1 From Covariance to Semi-variance"
   ]
  },
  {
   "cell_type": "markdown",
   "metadata": {
    "slideshow": {
     "slide_type": "fragment"
    }
   },
   "source": [
    "It is possible to work with spatial covariance functions in geostatistics, like we used one in the last lecture.\n",
    "In this lecture, we want to focus on the most common tool of a *variogram*, which is very closely related to the covariance function we built in the last lecture.\n",
    "\n",
    "The *variogram* comes with a few advantages"
   ]
  },
  {
   "cell_type": "markdown",
   "metadata": {
    "slideshow": {
     "slide_type": "subslide"
    }
   },
   "source": [
    "*In the last lecture, we implemented each and every calculation ourselves. This was important to understand, what's going on. In this lecture, we will use thrid-party Python modules to save some time. New content will again be introduced with examples how to algorithm the shown problems. This can then be directly implemented in other languages than Python*"
   ]
  },
  {
   "cell_type": "markdown",
   "metadata": {
    "slideshow": {
     "slide_type": "subslide"
    }
   },
   "source": [
    "First, we need to go back to the Covariance function we used before:\n",
    "\n",
    "For a set of *observations* $x$ and another set of observations $x_h$ at a *spatial* lag $h$, their covariance was defined as: "
   ]
  },
  {
   "cell_type": "markdown",
   "metadata": {
    "slideshow": {
     "slide_type": "fragment"
    }
   },
   "source": [
    "$$ Cov(x,x_h) = \\frac{\\sum_{i=1}^N [(x_i - \\mu_x)*(x_{h, i} - \\mu_{x_h})]}{N} $$"
   ]
  },
  {
   "cell_type": "markdown",
   "metadata": {
    "slideshow": {
     "slide_type": "fragment"
    }
   },
   "source": [
    "Where $N$ is the length of $u$ and $\\mu$ is their respective expected value. That means, calculating the covariance at a specific lag, the two $\\mu$ are constant for all elements in the sum.\n",
    "We can solve the parenthesis in the equation above to:"
   ]
  },
  {
   "cell_type": "markdown",
   "metadata": {
    "slideshow": {
     "slide_type": "fragment"
    }
   },
   "source": [
    "$$ Cov(x,x_h) = \\frac{\\sum_{i=1}^N (x_i*x_{h,i})}{N} - \\mu_x * \\mu_{x_h} = Cov(h)$$"
   ]
  },
  {
   "cell_type": "markdown",
   "metadata": {
    "slideshow": {
     "slide_type": "subslide"
    }
   },
   "source": [
    "If we want to have a good estimation for the population from the covariance as defined above, we have to make sure, that the three expected values are actually a good measure for the samples distribution:\n",
    "\n",
    "That's the case for a *normal distribution*, as all expected values are just the arithmetic mean values. Thus, we require that:"
   ]
  },
  {
   "cell_type": "markdown",
   "metadata": {
    "slideshow": {
     "slide_type": "fragment"
    }
   },
   "source": [
    "* $x$ and $x_h$ are normal distributed"
   ]
  },
  {
   "cell_type": "markdown",
   "metadata": {
    "slideshow": {
     "slide_type": "fragment"
    }
   },
   "source": [
    "* Remind that $h$ is a spatial lag, not a location. Thus $x_h$ should be normal distributed at any given *lag*."
   ]
  },
  {
   "cell_type": "markdown",
   "metadata": {
    "slideshow": {
     "slide_type": "fragment"
    }
   },
   "source": [
    "This is called **second order stationarity**, as the the mean and the variance of the **Variable** should be stationary"
   ]
  },
  {
   "cell_type": "markdown",
   "metadata": {
    "slideshow": {
     "slide_type": "subslide"
    }
   },
   "source": [
    "But we run into more assumptions/limitations here. Think of the Covariance function at the lag 0\n",
    "\n",
    "$$ Cov(0) = Cov(x,x) := Var(x,x) $$"
   ]
  },
  {
   "cell_type": "markdown",
   "metadata": {
    "slideshow": {
     "slide_type": "fragment"
    }
   },
   "source": [
    "Thus, we require the *empirical* covariance function to fit to the Variance at lag 0, which is often difficult to reach due to the limited amount of point pairs at very close distance."
   ]
  },
  {
   "cell_type": "markdown",
   "metadata": {
    "slideshow": {
     "slide_type": "subslide"
    }
   },
   "source": [
    "Further, we are seeking for the a special lag $r$, at which samples become statistically independed. Theoretical Convariance model function will not map values $Cov < 0$, but in turn empirical values might be negative. \n",
    "\n",
    "Thus we need means that can in principle *model* unbounded increasing dissimilarities with distance."
   ]
  },
  {
   "cell_type": "markdown",
   "metadata": {
    "slideshow": {
     "slide_type": "fragment"
    }
   },
   "source": [
    "That function is called a *semi-variogram*. It does not use the covariance, but the semi-variance and in an case of stationarity it's defined like:\n",
    "\n",
    "$$ \\gamma(h) = \\sigma^2 - C(h) $$"
   ]
  },
  {
   "cell_type": "markdown",
   "metadata": {
    "slideshow": {
     "slide_type": "subslide"
    }
   },
   "source": [
    "The semi-variance can be calculated like:\n",
    "\n",
    "$$ \\gamma(h) = \\frac{1}{2N} \\sum_{i=1}^N (x_i - x_{h,i})^2 $$\n"
   ]
  },
  {
   "cell_type": "markdown",
   "metadata": {
    "slideshow": {
     "slide_type": "fragment"
    }
   },
   "source": [
    "* $\\gamma$ does not involve the $\\mu$ anymore\n",
    "* We calculate a measure for the pair-wise deviations that becomes **larger** for bigger differences"
   ]
  },
  {
   "cell_type": "markdown",
   "metadata": {
    "slideshow": {
     "slide_type": "fragment"
    }
   },
   "source": [
    "The semi-variance has a few advantages over using the covariance function:\n",
    "\n",
    "* We can relax the assumptions of stationarity to requireing only the *deviations* to be only dependent of the lag $h$\n",
    "* The $\\gamma(0)$ can be `0`, or larger. Which fits better to real world data that often is prone to measurement uncertainty or small scale variations\n",
    "* $\\gamma$ may or may not increase unbounded with $h$. From this we can define **unlimited** functions in cases where the covariance function is not defined. "
   ]
  },
  {
   "cell_type": "markdown",
   "metadata": {
    "slideshow": {
     "slide_type": "slide"
    }
   },
   "source": [
    "## 6.2 Empirical variograms"
   ]
  },
  {
   "cell_type": "markdown",
   "metadata": {
    "slideshow": {
     "slide_type": "fragment"
    }
   },
   "source": [
    "One of the (Python) modules for geostatistics is [scikit-gstat](https://github.com/mmaelicke/scikit-gstat). To actually calculate a variogram, we will use this module to obtain all the data we used in the last lecture with less effort.\n",
    "\n",
    "For exercises, you can of course also reuse the code from the last lecture. "
   ]
  },
  {
   "cell_type": "code",
   "execution_count": 2,
   "metadata": {
    "slideshow": {
     "slide_type": "skip"
    }
   },
   "outputs": [
    {
     "data": {
      "text/html": [
       "<div>\n",
       "<style scoped>\n",
       "    .dataframe tbody tr th:only-of-type {\n",
       "        vertical-align: middle;\n",
       "    }\n",
       "\n",
       "    .dataframe tbody tr th {\n",
       "        vertical-align: top;\n",
       "    }\n",
       "\n",
       "    .dataframe thead th {\n",
       "        text-align: right;\n",
       "    }\n",
       "</style>\n",
       "<table border=\"1\" class=\"dataframe\">\n",
       "  <thead>\n",
       "    <tr style=\"text-align: right;\">\n",
       "      <th></th>\n",
       "      <th>0</th>\n",
       "      <th>1</th>\n",
       "      <th>2</th>\n",
       "      <th>3</th>\n",
       "      <th>4</th>\n",
       "      <th>5</th>\n",
       "      <th>6</th>\n",
       "      <th>7</th>\n",
       "      <th>8</th>\n",
       "      <th>9</th>\n",
       "      <th>...</th>\n",
       "      <th>20</th>\n",
       "      <th>21</th>\n",
       "      <th>22</th>\n",
       "      <th>23</th>\n",
       "      <th>24</th>\n",
       "      <th>25</th>\n",
       "      <th>26</th>\n",
       "      <th>27</th>\n",
       "      <th>28</th>\n",
       "      <th>29</th>\n",
       "    </tr>\n",
       "  </thead>\n",
       "  <tbody>\n",
       "    <tr>\n",
       "      <th>0</th>\n",
       "      <td>-0.203508</td>\n",
       "      <td>-0.164411</td>\n",
       "      <td>-0.696673</td>\n",
       "      <td>-0.555673</td>\n",
       "      <td>1.286489</td>\n",
       "      <td>-0.916081</td>\n",
       "      <td>0.572388</td>\n",
       "      <td>-0.912941</td>\n",
       "      <td>-2.571167</td>\n",
       "      <td>0.763894</td>\n",
       "      <td>...</td>\n",
       "      <td>-0.549597</td>\n",
       "      <td>0.292536</td>\n",
       "      <td>0.793382</td>\n",
       "      <td>-0.216959</td>\n",
       "      <td>1.840647</td>\n",
       "      <td>-0.582903</td>\n",
       "      <td>0.010175</td>\n",
       "      <td>-0.474006</td>\n",
       "      <td>-0.331282</td>\n",
       "      <td>-0.230938</td>\n",
       "    </tr>\n",
       "    <tr>\n",
       "      <th>1</th>\n",
       "      <td>-0.585733</td>\n",
       "      <td>0.035986</td>\n",
       "      <td>-0.822840</td>\n",
       "      <td>0.105027</td>\n",
       "      <td>0.806096</td>\n",
       "      <td>-1.280912</td>\n",
       "      <td>0.808606</td>\n",
       "      <td>-0.971974</td>\n",
       "      <td>-2.160372</td>\n",
       "      <td>0.733315</td>\n",
       "      <td>...</td>\n",
       "      <td>-0.593188</td>\n",
       "      <td>1.084725</td>\n",
       "      <td>0.558109</td>\n",
       "      <td>-0.216897</td>\n",
       "      <td>1.355106</td>\n",
       "      <td>-0.623354</td>\n",
       "      <td>-0.065394</td>\n",
       "      <td>-0.573369</td>\n",
       "      <td>-0.679012</td>\n",
       "      <td>0.065802</td>\n",
       "    </tr>\n",
       "    <tr>\n",
       "      <th>2</th>\n",
       "      <td>-0.346062</td>\n",
       "      <td>-0.188272</td>\n",
       "      <td>0.217902</td>\n",
       "      <td>0.357807</td>\n",
       "      <td>0.985086</td>\n",
       "      <td>-1.709977</td>\n",
       "      <td>-0.167685</td>\n",
       "      <td>-0.921627</td>\n",
       "      <td>-2.448770</td>\n",
       "      <td>1.115545</td>\n",
       "      <td>...</td>\n",
       "      <td>-0.356511</td>\n",
       "      <td>0.828866</td>\n",
       "      <td>1.440411</td>\n",
       "      <td>-0.151955</td>\n",
       "      <td>0.584490</td>\n",
       "      <td>-0.990339</td>\n",
       "      <td>-0.759851</td>\n",
       "      <td>-0.300697</td>\n",
       "      <td>-0.474233</td>\n",
       "      <td>0.073369</td>\n",
       "    </tr>\n",
       "    <tr>\n",
       "      <th>3</th>\n",
       "      <td>-0.478679</td>\n",
       "      <td>0.365037</td>\n",
       "      <td>-0.416354</td>\n",
       "      <td>0.334278</td>\n",
       "      <td>1.457831</td>\n",
       "      <td>-0.882513</td>\n",
       "      <td>0.056564</td>\n",
       "      <td>-0.646450</td>\n",
       "      <td>-2.482363</td>\n",
       "      <td>0.163104</td>\n",
       "      <td>...</td>\n",
       "      <td>-0.186352</td>\n",
       "      <td>1.360957</td>\n",
       "      <td>0.375749</td>\n",
       "      <td>-0.159243</td>\n",
       "      <td>1.155086</td>\n",
       "      <td>-0.250776</td>\n",
       "      <td>-0.036381</td>\n",
       "      <td>0.079864</td>\n",
       "      <td>0.118114</td>\n",
       "      <td>-0.364431</td>\n",
       "    </tr>\n",
       "    <tr>\n",
       "      <th>4</th>\n",
       "      <td>-0.736619</td>\n",
       "      <td>-0.028943</td>\n",
       "      <td>-0.418246</td>\n",
       "      <td>0.029980</td>\n",
       "      <td>0.101014</td>\n",
       "      <td>-0.959323</td>\n",
       "      <td>0.189186</td>\n",
       "      <td>-0.590574</td>\n",
       "      <td>-2.206486</td>\n",
       "      <td>1.310469</td>\n",
       "      <td>...</td>\n",
       "      <td>-0.117542</td>\n",
       "      <td>0.969032</td>\n",
       "      <td>0.379265</td>\n",
       "      <td>0.330215</td>\n",
       "      <td>1.372918</td>\n",
       "      <td>-0.732134</td>\n",
       "      <td>-0.520751</td>\n",
       "      <td>-0.340854</td>\n",
       "      <td>-0.259725</td>\n",
       "      <td>-0.327924</td>\n",
       "    </tr>\n",
       "  </tbody>\n",
       "</table>\n",
       "<p>5 rows × 30 columns</p>\n",
       "</div>"
      ],
      "text/plain": [
       "          0         1         2         3         4         5         6  \\\n",
       "0 -0.203508 -0.164411 -0.696673 -0.555673  1.286489 -0.916081  0.572388   \n",
       "1 -0.585733  0.035986 -0.822840  0.105027  0.806096 -1.280912  0.808606   \n",
       "2 -0.346062 -0.188272  0.217902  0.357807  0.985086 -1.709977 -0.167685   \n",
       "3 -0.478679  0.365037 -0.416354  0.334278  1.457831 -0.882513  0.056564   \n",
       "4 -0.736619 -0.028943 -0.418246  0.029980  0.101014 -0.959323  0.189186   \n",
       "\n",
       "          7         8         9  ...        20        21        22        23  \\\n",
       "0 -0.912941 -2.571167  0.763894  ... -0.549597  0.292536  0.793382 -0.216959   \n",
       "1 -0.971974 -2.160372  0.733315  ... -0.593188  1.084725  0.558109 -0.216897   \n",
       "2 -0.921627 -2.448770  1.115545  ... -0.356511  0.828866  1.440411 -0.151955   \n",
       "3 -0.646450 -2.482363  0.163104  ... -0.186352  1.360957  0.375749 -0.159243   \n",
       "4 -0.590574 -2.206486  1.310469  ... -0.117542  0.969032  0.379265  0.330215   \n",
       "\n",
       "         24        25        26        27        28        29  \n",
       "0  1.840647 -0.582903  0.010175 -0.474006 -0.331282 -0.230938  \n",
       "1  1.355106 -0.623354 -0.065394 -0.573369 -0.679012  0.065802  \n",
       "2  0.584490 -0.990339 -0.759851 -0.300697 -0.474233  0.073369  \n",
       "3  1.155086 -0.250776 -0.036381  0.079864  0.118114 -0.364431  \n",
       "4  1.372918 -0.732134 -0.520751 -0.340854 -0.259725 -0.327924  \n",
       "\n",
       "[5 rows x 30 columns]"
      ]
     },
     "execution_count": 2,
     "metadata": {},
     "output_type": "execute_result"
    }
   ],
   "source": [
    "data = pd.read_csv('./data/sample_data.txt', sep='\\s+')\n",
    "data.head()"
   ]
  },
  {
   "cell_type": "code",
   "execution_count": 3,
   "metadata": {
    "slideshow": {
     "slide_type": "skip"
    }
   },
   "outputs": [
    {
     "data": {
      "text/html": [
       "<div>\n",
       "<style scoped>\n",
       "    .dataframe tbody tr th:only-of-type {\n",
       "        vertical-align: middle;\n",
       "    }\n",
       "\n",
       "    .dataframe tbody tr th {\n",
       "        vertical-align: top;\n",
       "    }\n",
       "\n",
       "    .dataframe thead th {\n",
       "        text-align: right;\n",
       "    }\n",
       "</style>\n",
       "<table border=\"1\" class=\"dataframe\">\n",
       "  <thead>\n",
       "    <tr style=\"text-align: right;\">\n",
       "      <th></th>\n",
       "      <th>x</th>\n",
       "      <th>y</th>\n",
       "    </tr>\n",
       "  </thead>\n",
       "  <tbody>\n",
       "    <tr>\n",
       "      <th>0</th>\n",
       "      <td>22</td>\n",
       "      <td>78</td>\n",
       "    </tr>\n",
       "    <tr>\n",
       "      <th>1</th>\n",
       "      <td>3</td>\n",
       "      <td>73</td>\n",
       "    </tr>\n",
       "    <tr>\n",
       "      <th>2</th>\n",
       "      <td>12</td>\n",
       "      <td>85</td>\n",
       "    </tr>\n",
       "    <tr>\n",
       "      <th>3</th>\n",
       "      <td>9</td>\n",
       "      <td>69</td>\n",
       "    </tr>\n",
       "    <tr>\n",
       "      <th>4</th>\n",
       "      <td>78</td>\n",
       "      <td>43</td>\n",
       "    </tr>\n",
       "  </tbody>\n",
       "</table>\n",
       "</div>"
      ],
      "text/plain": [
       "    x   y\n",
       "0  22  78\n",
       "1   3  73\n",
       "2  12  85\n",
       "3   9  69\n",
       "4  78  43"
      ]
     },
     "execution_count": 3,
     "metadata": {},
     "output_type": "execute_result"
    }
   ],
   "source": [
    "coords = pd.read_csv('./data/sample_positions.txt', sep='\\s+', header=None)\n",
    "coords.columns = ['x', 'y']\n",
    "coords.head()"
   ]
  },
  {
   "cell_type": "code",
   "execution_count": 4,
   "metadata": {
    "slideshow": {
     "slide_type": "skip"
    }
   },
   "outputs": [
    {
     "data": {
      "text/html": [
       "<div>\n",
       "<style scoped>\n",
       "    .dataframe tbody tr th:only-of-type {\n",
       "        vertical-align: middle;\n",
       "    }\n",
       "\n",
       "    .dataframe tbody tr th {\n",
       "        vertical-align: top;\n",
       "    }\n",
       "\n",
       "    .dataframe thead th {\n",
       "        text-align: right;\n",
       "    }\n",
       "</style>\n",
       "<table border=\"1\" class=\"dataframe\">\n",
       "  <thead>\n",
       "    <tr style=\"text-align: right;\">\n",
       "      <th></th>\n",
       "      <th>x</th>\n",
       "      <th>y</th>\n",
       "      <th>z</th>\n",
       "    </tr>\n",
       "  </thead>\n",
       "  <tbody>\n",
       "    <tr>\n",
       "      <th>0</th>\n",
       "      <td>22</td>\n",
       "      <td>78</td>\n",
       "      <td>-0.203508</td>\n",
       "    </tr>\n",
       "    <tr>\n",
       "      <th>1</th>\n",
       "      <td>3</td>\n",
       "      <td>73</td>\n",
       "      <td>-0.164411</td>\n",
       "    </tr>\n",
       "    <tr>\n",
       "      <th>2</th>\n",
       "      <td>12</td>\n",
       "      <td>85</td>\n",
       "      <td>-0.696673</td>\n",
       "    </tr>\n",
       "    <tr>\n",
       "      <th>3</th>\n",
       "      <td>9</td>\n",
       "      <td>69</td>\n",
       "      <td>-0.555673</td>\n",
       "    </tr>\n",
       "    <tr>\n",
       "      <th>4</th>\n",
       "      <td>78</td>\n",
       "      <td>43</td>\n",
       "      <td>1.286489</td>\n",
       "    </tr>\n",
       "  </tbody>\n",
       "</table>\n",
       "</div>"
      ],
      "text/plain": [
       "    x   y         z\n",
       "0  22  78 -0.203508\n",
       "1   3  73 -0.164411\n",
       "2  12  85 -0.696673\n",
       "3   9  69 -0.555673\n",
       "4  78  43  1.286489"
      ]
     },
     "execution_count": 4,
     "metadata": {},
     "output_type": "execute_result"
    }
   ],
   "source": [
    "sample = coords.copy()\n",
    "sample['z'] = data.loc[0,:].T.values\n",
    "sample.head()"
   ]
  },
  {
   "cell_type": "markdown",
   "metadata": {
    "slideshow": {
     "slide_type": "fragment"
    }
   },
   "source": [
    "The main advantage of using the `Variogram` class in scikit-gstat is that it will make all the intermediate calculations steps available to us. "
   ]
  },
  {
   "cell_type": "code",
   "execution_count": 5,
   "metadata": {
    "slideshow": {
     "slide_type": "subslide"
    }
   },
   "outputs": [],
   "source": [
    "# using the same settings as in the last lecture\n",
    "V = skg.Variogram(coords, sample.z, maxlag='median', n_lags=6, normalize=False)"
   ]
  },
  {
   "cell_type": "markdown",
   "metadata": {
    "slideshow": {
     "slide_type": "fragment"
    }
   },
   "source": [
    "The 1D distance array is available as `V.distance`, the 2D distance matrix as `V.distance_matrix`. The bin edges are available as `V.bins` and the grouping array (1D version) as `V.lag_groups`."
   ]
  },
  {
   "cell_type": "code",
   "execution_count": 6,
   "metadata": {
    "slideshow": {
     "slide_type": "fragment"
    }
   },
   "outputs": [
    {
     "name": "stdout",
     "output_type": "stream",
     "text": [
      "[ 8.64 17.29 25.93 34.57 43.21 51.86]\n",
      "[19.65 12.21 15.81 66.04 74.46 22.2  62.1  77.52 35.   30.41]\n",
      "[ 2  1  1 -1 -1  2 -1 -1  4  3]\n"
     ]
    }
   ],
   "source": [
    "print(V.bins.round(2))\n",
    "print(V.distance[:10].round(2))\n",
    "print(V.lag_groups()[:10])"
   ]
  },
  {
   "cell_type": "markdown",
   "metadata": {
    "slideshow": {
     "slide_type": "subslide"
    }
   },
   "source": [
    "The values are also available, as well as the pairwise differences. The class again makes the 1D and 2D version available. But there's also a small inconsistency in the class. The actual observation are available as `V.values`. The pairwise differences are at `V._diff` as 1D and `V.distance_matrix` as 2D. "
   ]
  },
  {
   "cell_type": "code",
   "execution_count": 7,
   "metadata": {
    "slideshow": {
     "slide_type": "fragment"
    }
   },
   "outputs": [
    {
     "name": "stdout",
     "output_type": "stream",
     "text": [
      "[[0.   0.04 0.49 0.35 1.49 0.71 0.78 0.71 2.37 0.97]\n",
      " [0.04 0.   0.53 0.39 1.45 0.75 0.74 0.75 2.41 0.93]\n",
      " [0.49 0.53 0.   0.14 1.98 0.22 1.27 0.22 1.87 1.46]\n",
      " [0.35 0.39 0.14 0.   1.84 0.36 1.13 0.36 2.02 1.32]\n",
      " [1.49 1.45 1.98 1.84 0.   2.2  0.71 2.2  3.86 0.52]\n",
      " [0.71 0.75 0.22 0.36 2.2  0.   1.49 0.   1.66 1.68]\n",
      " [0.78 0.74 1.27 1.13 0.71 1.49 0.   1.49 3.14 0.19]\n",
      " [0.71 0.75 0.22 0.36 2.2  0.   1.49 0.   1.66 1.68]\n",
      " [2.37 2.41 1.87 2.02 3.86 1.66 3.14 1.66 0.   3.34]\n",
      " [0.97 0.93 1.46 1.32 0.52 1.68 0.19 1.68 3.34 0.  ]]\n",
      "----------------------------\n",
      "[0.04 0.49 0.35 1.49 0.71 0.78 0.71 2.37 0.97 0.05]\n"
     ]
    }
   ],
   "source": [
    "print(V.value_matrix[:10, :10].round(2))\n",
    "print('----------------------------')\n",
    "print(V._diff[:10].round(2))"
   ]
  },
  {
   "cell_type": "markdown",
   "metadata": {
    "slideshow": {
     "slide_type": "subslide"
    }
   },
   "source": [
    "Thus, now we are settled to calculate the semi-variances:"
   ]
  },
  {
   "cell_type": "code",
   "execution_count": 8,
   "metadata": {
    "slideshow": {
     "slide_type": "fragment"
    }
   },
   "outputs": [],
   "source": [
    "k = 6\n",
    "vario = []\n",
    "\n",
    "for _k in range(k):\n",
    "    squared_differences = []\n",
    "    \n",
    "    for idx, group in enumerate(V.lag_groups()):\n",
    "        if group == _k:  # right bin\n",
    "            squared_differences.append(V._diff[idx]**2)\n",
    "    \n",
    "    # gamma is sum divided by 2 * length\n",
    "    vario.append(sum(squared_differences) / (2*len(squared_differences)))"
   ]
  },
  {
   "cell_type": "code",
   "execution_count": 9,
   "metadata": {
    "slideshow": {
     "slide_type": "skip"
    }
   },
   "outputs": [
    {
     "data": {
      "text/html": [
       "<div style=\"display: table;\"><div style=\"display: table-row;\"><div style=\"display: table-cell;\"><b title=\"bokeh.models.renderers.GlyphRenderer\">GlyphRenderer</b>(</div><div style=\"display: table-cell;\">id&nbsp;=&nbsp;'1029', <span id=\"1032\" style=\"cursor: pointer;\">&hellip;)</span></div></div><div class=\"1031\" style=\"display: none;\"><div style=\"display: table-cell;\"></div><div style=\"display: table-cell;\">data_source&nbsp;=&nbsp;ColumnDataSource(id='1026', ...),</div></div><div class=\"1031\" style=\"display: none;\"><div style=\"display: table-cell;\"></div><div style=\"display: table-cell;\">glyph&nbsp;=&nbsp;Circle(id='1027', ...),</div></div><div class=\"1031\" style=\"display: none;\"><div style=\"display: table-cell;\"></div><div style=\"display: table-cell;\">hover_glyph&nbsp;=&nbsp;None,</div></div><div class=\"1031\" style=\"display: none;\"><div style=\"display: table-cell;\"></div><div style=\"display: table-cell;\">js_event_callbacks&nbsp;=&nbsp;{},</div></div><div class=\"1031\" style=\"display: none;\"><div style=\"display: table-cell;\"></div><div style=\"display: table-cell;\">js_property_callbacks&nbsp;=&nbsp;{},</div></div><div class=\"1031\" style=\"display: none;\"><div style=\"display: table-cell;\"></div><div style=\"display: table-cell;\">level&nbsp;=&nbsp;'glyph',</div></div><div class=\"1031\" style=\"display: none;\"><div style=\"display: table-cell;\"></div><div style=\"display: table-cell;\">muted&nbsp;=&nbsp;False,</div></div><div class=\"1031\" style=\"display: none;\"><div style=\"display: table-cell;\"></div><div style=\"display: table-cell;\">muted_glyph&nbsp;=&nbsp;None,</div></div><div class=\"1031\" style=\"display: none;\"><div style=\"display: table-cell;\"></div><div style=\"display: table-cell;\">name&nbsp;=&nbsp;None,</div></div><div class=\"1031\" style=\"display: none;\"><div style=\"display: table-cell;\"></div><div style=\"display: table-cell;\">nonselection_glyph&nbsp;=&nbsp;Circle(id='1028', ...),</div></div><div class=\"1031\" style=\"display: none;\"><div style=\"display: table-cell;\"></div><div style=\"display: table-cell;\">selection_glyph&nbsp;=&nbsp;None,</div></div><div class=\"1031\" style=\"display: none;\"><div style=\"display: table-cell;\"></div><div style=\"display: table-cell;\">subscribed_events&nbsp;=&nbsp;[],</div></div><div class=\"1031\" style=\"display: none;\"><div style=\"display: table-cell;\"></div><div style=\"display: table-cell;\">tags&nbsp;=&nbsp;[],</div></div><div class=\"1031\" style=\"display: none;\"><div style=\"display: table-cell;\"></div><div style=\"display: table-cell;\">view&nbsp;=&nbsp;CDSView(id='1030', ...),</div></div><div class=\"1031\" style=\"display: none;\"><div style=\"display: table-cell;\"></div><div style=\"display: table-cell;\">visible&nbsp;=&nbsp;True,</div></div><div class=\"1031\" style=\"display: none;\"><div style=\"display: table-cell;\"></div><div style=\"display: table-cell;\">x_range_name&nbsp;=&nbsp;'default',</div></div><div class=\"1031\" style=\"display: none;\"><div style=\"display: table-cell;\"></div><div style=\"display: table-cell;\">y_range_name&nbsp;=&nbsp;'default')</div></div></div>\n",
       "<script>\n",
       "(function() {\n",
       "  var expanded = false;\n",
       "  var ellipsis = document.getElementById(\"1032\");\n",
       "  ellipsis.addEventListener(\"click\", function() {\n",
       "    var rows = document.getElementsByClassName(\"1031\");\n",
       "    for (var i = 0; i < rows.length; i++) {\n",
       "      var el = rows[i];\n",
       "      el.style.display = expanded ? \"none\" : \"table-row\";\n",
       "    }\n",
       "    ellipsis.innerHTML = expanded ? \"&hellip;)\" : \"&lsaquo;&lsaquo;&lsaquo;\";\n",
       "    expanded = !expanded;\n",
       "  });\n",
       "})();\n",
       "</script>\n"
      ],
      "text/plain": [
       "GlyphRenderer(id='1029', ...)"
      ]
     },
     "execution_count": 9,
     "metadata": {},
     "output_type": "execute_result"
    }
   ],
   "source": [
    "variogram = figure(\n",
    "    title='Empirical Variogram', width=700, height=400, x_axis_label='lag [m]', y_axis_label='Semi-Variance',\n",
    "    tooltips=[('Lag', '@x'), ('Semi-variance', '@y')], tools=['hover']\n",
    ")\n",
    "variogram.circle(V.bins, vario, size=8, line_color='#6600CC', fill_color='#6666CC')"
   ]
  },
  {
   "cell_type": "code",
   "execution_count": 10,
   "metadata": {
    "scrolled": false,
    "slideshow": {
     "slide_type": "subslide"
    }
   },
   "outputs": [
    {
     "data": {
      "text/html": [
       "\n",
       "\n",
       "\n",
       "\n",
       "\n",
       "\n",
       "  <div class=\"bk-root\" id=\"9c70f344-e63c-470d-92dd-365d795495c0\" data-root-id=\"1002\"></div>\n"
      ]
     },
     "metadata": {},
     "output_type": "display_data"
    },
    {
     "data": {
      "application/javascript": [
       "(function(root) {\n",
       "  function embed_document(root) {\n",
       "    \n",
       "  var docs_json = {\"4e90a1db-1512-45e0-a5ea-8c2988e1c1f6\":{\"roots\":{\"references\":[{\"attributes\":{\"below\":[{\"id\":\"1013\",\"type\":\"LinearAxis\"}],\"center\":[{\"id\":\"1017\",\"type\":\"Grid\"},{\"id\":\"1022\",\"type\":\"Grid\"}],\"left\":[{\"id\":\"1018\",\"type\":\"LinearAxis\"}],\"plot_height\":400,\"plot_width\":700,\"renderers\":[{\"id\":\"1029\",\"type\":\"GlyphRenderer\"}],\"title\":{\"id\":\"1003\",\"type\":\"Title\"},\"toolbar\":{\"id\":\"1024\",\"type\":\"Toolbar\"},\"x_range\":{\"id\":\"1005\",\"type\":\"DataRange1d\"},\"x_scale\":{\"id\":\"1009\",\"type\":\"LinearScale\"},\"y_range\":{\"id\":\"1007\",\"type\":\"DataRange1d\"},\"y_scale\":{\"id\":\"1011\",\"type\":\"LinearScale\"}},\"id\":\"1002\",\"subtype\":\"Figure\",\"type\":\"Plot\"},{\"attributes\":{},\"id\":\"1039\",\"type\":\"UnionRenderers\"},{\"attributes\":{\"fill_color\":{\"value\":\"#6666CC\"},\"line_color\":{\"value\":\"#6600CC\"},\"size\":{\"units\":\"screen\",\"value\":8},\"x\":{\"field\":\"x\"},\"y\":{\"field\":\"y\"}},\"id\":\"1027\",\"type\":\"Circle\"},{\"attributes\":{},\"id\":\"1038\",\"type\":\"Selection\"},{\"attributes\":{\"active_drag\":\"auto\",\"active_inspect\":\"auto\",\"active_multi\":null,\"active_scroll\":\"auto\",\"active_tap\":\"auto\",\"tools\":[{\"id\":\"1023\",\"type\":\"HoverTool\"}]},\"id\":\"1024\",\"type\":\"Toolbar\"},{\"attributes\":{\"fill_alpha\":{\"value\":0.1},\"fill_color\":{\"value\":\"#1f77b4\"},\"line_alpha\":{\"value\":0.1},\"line_color\":{\"value\":\"#1f77b4\"},\"size\":{\"units\":\"screen\",\"value\":8},\"x\":{\"field\":\"x\"},\"y\":{\"field\":\"y\"}},\"id\":\"1028\",\"type\":\"Circle\"},{\"attributes\":{\"callback\":null},\"id\":\"1005\",\"type\":\"DataRange1d\"},{\"attributes\":{\"dimension\":1,\"ticker\":{\"id\":\"1019\",\"type\":\"BasicTicker\"}},\"id\":\"1022\",\"type\":\"Grid\"},{\"attributes\":{},\"id\":\"1019\",\"type\":\"BasicTicker\"},{\"attributes\":{},\"id\":\"1011\",\"type\":\"LinearScale\"},{\"attributes\":{\"data_source\":{\"id\":\"1026\",\"type\":\"ColumnDataSource\"},\"glyph\":{\"id\":\"1027\",\"type\":\"Circle\"},\"hover_glyph\":null,\"muted_glyph\":null,\"nonselection_glyph\":{\"id\":\"1028\",\"type\":\"Circle\"},\"selection_glyph\":null,\"view\":{\"id\":\"1030\",\"type\":\"CDSView\"}},\"id\":\"1029\",\"type\":\"GlyphRenderer\"},{\"attributes\":{\"axis_label\":\"lag [m]\",\"formatter\":{\"id\":\"1034\",\"type\":\"BasicTickFormatter\"},\"ticker\":{\"id\":\"1014\",\"type\":\"BasicTicker\"}},\"id\":\"1013\",\"type\":\"LinearAxis\"},{\"attributes\":{},\"id\":\"1014\",\"type\":\"BasicTicker\"},{\"attributes\":{\"callback\":null,\"data\":{\"x\":{\"__ndarray__\":\"rzSuLgJJIUCvNK4uAkkxQAZPBUaD7TlArzSuLgJJQUDbwVm6QptFQAZPBUaD7UlA\",\"dtype\":\"float64\",\"shape\":[6]},\"y\":[0.05718738836153203,0.09242192947462352,0.40534313481720186,0.4239138004574577,0.7280328522037645,0.9822756080026932]},\"selected\":{\"id\":\"1038\",\"type\":\"Selection\"},\"selection_policy\":{\"id\":\"1039\",\"type\":\"UnionRenderers\"}},\"id\":\"1026\",\"type\":\"ColumnDataSource\"},{\"attributes\":{\"callback\":null},\"id\":\"1007\",\"type\":\"DataRange1d\"},{\"attributes\":{\"source\":{\"id\":\"1026\",\"type\":\"ColumnDataSource\"}},\"id\":\"1030\",\"type\":\"CDSView\"},{\"attributes\":{\"callback\":null,\"tooltips\":[[\"Lag\",\"@x\"],[\"Semi-variance\",\"@y\"]]},\"id\":\"1023\",\"type\":\"HoverTool\"},{\"attributes\":{\"text\":\"Empirical Variogram\"},\"id\":\"1003\",\"type\":\"Title\"},{\"attributes\":{},\"id\":\"1036\",\"type\":\"BasicTickFormatter\"},{\"attributes\":{},\"id\":\"1009\",\"type\":\"LinearScale\"},{\"attributes\":{\"ticker\":{\"id\":\"1014\",\"type\":\"BasicTicker\"}},\"id\":\"1017\",\"type\":\"Grid\"},{\"attributes\":{\"axis_label\":\"Semi-Variance\",\"formatter\":{\"id\":\"1036\",\"type\":\"BasicTickFormatter\"},\"ticker\":{\"id\":\"1019\",\"type\":\"BasicTicker\"}},\"id\":\"1018\",\"type\":\"LinearAxis\"},{\"attributes\":{},\"id\":\"1034\",\"type\":\"BasicTickFormatter\"}],\"root_ids\":[\"1002\"]},\"title\":\"Bokeh Application\",\"version\":\"1.4.0\"}};\n",
       "  var render_items = [{\"docid\":\"4e90a1db-1512-45e0-a5ea-8c2988e1c1f6\",\"roots\":{\"1002\":\"9c70f344-e63c-470d-92dd-365d795495c0\"}}];\n",
       "  root.Bokeh.embed.embed_items_notebook(docs_json, render_items);\n",
       "\n",
       "  }\n",
       "  if (root.Bokeh !== undefined) {\n",
       "    embed_document(root);\n",
       "  } else {\n",
       "    var attempts = 0;\n",
       "    var timer = setInterval(function(root) {\n",
       "      if (root.Bokeh !== undefined) {\n",
       "        clearInterval(timer);\n",
       "        embed_document(root);\n",
       "      } else {\n",
       "        attempts++;\n",
       "        if (attempts > 100) {\n",
       "          clearInterval(timer);\n",
       "          console.log(\"Bokeh: ERROR: Unable to run BokehJS code because BokehJS library is missing\");\n",
       "        }\n",
       "      }\n",
       "    }, 10, root)\n",
       "  }\n",
       "})(window);"
      ],
      "application/vnd.bokehjs_exec.v0+json": ""
     },
     "metadata": {
      "application/vnd.bokehjs_exec.v0+json": {
       "id": "1002"
      }
     },
     "output_type": "display_data"
    }
   ],
   "source": [
    "show(variogram)"
   ]
  },
  {
   "cell_type": "markdown",
   "metadata": {
    "slideshow": {
     "slide_type": "subslide"
    }
   },
   "source": [
    "* The semi-variance is increasing linearly. "
   ]
  },
  {
   "cell_type": "markdown",
   "metadata": {
    "slideshow": {
     "slide_type": "fragment"
    }
   },
   "source": [
    "* While this is a valid empirical variogram, it is absolutely possible that we just cut off the point pair formation too early when setting the maximum lag to `median`, which is roughly at 50 meters"
   ]
  },
  {
   "cell_type": "markdown",
   "metadata": {
    "slideshow": {
     "slide_type": "fragment"
    }
   },
   "source": [
    "* The samples were taken from a 100x100 area, so we can go to `100` as a meaningful maximum lag distance setting.\n",
    "\n",
    "* To resolve the larger distance, we should also increase the number of bins"
   ]
  },
  {
   "cell_type": "markdown",
   "metadata": {
    "slideshow": {
     "slide_type": "subslide"
    }
   },
   "source": [
    "For this to happen, we need to go back and re-define the bins, then re-index the lag class grouping and iterate over all groups to collect all pair-wise differences in the new lags bins. Then, `vario` can be re-calculated.\n",
    "\n",
    "Or, we let the scikit-gstat `Variogram` class demonstrate, when object-orientated programming is a good idea:"
   ]
  },
  {
   "cell_type": "code",
   "execution_count": 11,
   "metadata": {
    "slideshow": {
     "slide_type": "fragment"
    }
   },
   "outputs": [],
   "source": [
    "V.maxlag = 100\n",
    "V.n_lags = 8"
   ]
  },
  {
   "cell_type": "markdown",
   "metadata": {
    "slideshow": {
     "slide_type": "fragment"
    }
   },
   "source": [
    "That's it.\n",
    "\n",
    "The resulting empirical, or **experimental**, variogram can be accessed from a property of same name:"
   ]
  },
  {
   "cell_type": "code",
   "execution_count": 12,
   "metadata": {
    "slideshow": {
     "slide_type": "fragment"
    }
   },
   "outputs": [
    {
     "name": "stdout",
     "output_type": "stream",
     "text": [
      "[0.07 0.26 0.53 0.92 0.95 0.79 0.71 0.76]\n"
     ]
    }
   ],
   "source": [
    "print(V.experimental.round(2))"
   ]
  },
  {
   "cell_type": "code",
   "execution_count": 75,
   "metadata": {
    "slideshow": {
     "slide_type": "skip"
    }
   },
   "outputs": [
    {
     "data": {
      "text/html": [
       "<div style=\"display: table;\"><div style=\"display: table-row;\"><div style=\"display: table-cell;\"><b title=\"bokeh.models.renderers.GlyphRenderer\">GlyphRenderer</b>(</div><div style=\"display: table-cell;\">id&nbsp;=&nbsp;'5891', <span id=\"5894\" style=\"cursor: pointer;\">&hellip;)</span></div></div><div class=\"5893\" style=\"display: none;\"><div style=\"display: table-cell;\"></div><div style=\"display: table-cell;\">data_source&nbsp;=&nbsp;ColumnDataSource(id='5888', ...),</div></div><div class=\"5893\" style=\"display: none;\"><div style=\"display: table-cell;\"></div><div style=\"display: table-cell;\">glyph&nbsp;=&nbsp;Circle(id='5889', ...),</div></div><div class=\"5893\" style=\"display: none;\"><div style=\"display: table-cell;\"></div><div style=\"display: table-cell;\">hover_glyph&nbsp;=&nbsp;None,</div></div><div class=\"5893\" style=\"display: none;\"><div style=\"display: table-cell;\"></div><div style=\"display: table-cell;\">js_event_callbacks&nbsp;=&nbsp;{},</div></div><div class=\"5893\" style=\"display: none;\"><div style=\"display: table-cell;\"></div><div style=\"display: table-cell;\">js_property_callbacks&nbsp;=&nbsp;{},</div></div><div class=\"5893\" style=\"display: none;\"><div style=\"display: table-cell;\"></div><div style=\"display: table-cell;\">level&nbsp;=&nbsp;'glyph',</div></div><div class=\"5893\" style=\"display: none;\"><div style=\"display: table-cell;\"></div><div style=\"display: table-cell;\">muted&nbsp;=&nbsp;False,</div></div><div class=\"5893\" style=\"display: none;\"><div style=\"display: table-cell;\"></div><div style=\"display: table-cell;\">muted_glyph&nbsp;=&nbsp;None,</div></div><div class=\"5893\" style=\"display: none;\"><div style=\"display: table-cell;\"></div><div style=\"display: table-cell;\">name&nbsp;=&nbsp;None,</div></div><div class=\"5893\" style=\"display: none;\"><div style=\"display: table-cell;\"></div><div style=\"display: table-cell;\">nonselection_glyph&nbsp;=&nbsp;Circle(id='5890', ...),</div></div><div class=\"5893\" style=\"display: none;\"><div style=\"display: table-cell;\"></div><div style=\"display: table-cell;\">selection_glyph&nbsp;=&nbsp;None,</div></div><div class=\"5893\" style=\"display: none;\"><div style=\"display: table-cell;\"></div><div style=\"display: table-cell;\">subscribed_events&nbsp;=&nbsp;[],</div></div><div class=\"5893\" style=\"display: none;\"><div style=\"display: table-cell;\"></div><div style=\"display: table-cell;\">tags&nbsp;=&nbsp;[],</div></div><div class=\"5893\" style=\"display: none;\"><div style=\"display: table-cell;\"></div><div style=\"display: table-cell;\">view&nbsp;=&nbsp;CDSView(id='5892', ...),</div></div><div class=\"5893\" style=\"display: none;\"><div style=\"display: table-cell;\"></div><div style=\"display: table-cell;\">visible&nbsp;=&nbsp;True,</div></div><div class=\"5893\" style=\"display: none;\"><div style=\"display: table-cell;\"></div><div style=\"display: table-cell;\">x_range_name&nbsp;=&nbsp;'default',</div></div><div class=\"5893\" style=\"display: none;\"><div style=\"display: table-cell;\"></div><div style=\"display: table-cell;\">y_range_name&nbsp;=&nbsp;'default')</div></div></div>\n",
       "<script>\n",
       "(function() {\n",
       "  var expanded = false;\n",
       "  var ellipsis = document.getElementById(\"5894\");\n",
       "  ellipsis.addEventListener(\"click\", function() {\n",
       "    var rows = document.getElementsByClassName(\"5893\");\n",
       "    for (var i = 0; i < rows.length; i++) {\n",
       "      var el = rows[i];\n",
       "      el.style.display = expanded ? \"none\" : \"table-row\";\n",
       "    }\n",
       "    ellipsis.innerHTML = expanded ? \"&hellip;)\" : \"&lsaquo;&lsaquo;&lsaquo;\";\n",
       "    expanded = !expanded;\n",
       "  });\n",
       "})();\n",
       "</script>\n"
      ],
      "text/plain": [
       "GlyphRenderer(id='5891', ...)"
      ]
     },
     "execution_count": 75,
     "metadata": {},
     "output_type": "execute_result"
    }
   ],
   "source": [
    "variogram = figure(\n",
    "    title='Empirical Variogram', width=700, height=400, x_axis_label='lag [m]', y_axis_label='Semi-Variance',\n",
    "    tooltips=[('Lag', '@x'), ('Semi-variance', '@y')], tools=['hover']\n",
    ")\n",
    "variogram.circle(V.bins, V.experimental, size=8, line_color='#6600CC', fill_color='#6666CC')"
   ]
  },
  {
   "cell_type": "code",
   "execution_count": 76,
   "metadata": {
    "slideshow": {
     "slide_type": "subslide"
    }
   },
   "outputs": [
    {
     "data": {
      "text/html": [
       "\n",
       "\n",
       "\n",
       "\n",
       "\n",
       "\n",
       "  <div class=\"bk-root\" id=\"a37b9840-514e-4b88-a31e-b62e1e54084f\" data-root-id=\"5864\"></div>\n"
      ]
     },
     "metadata": {},
     "output_type": "display_data"
    },
    {
     "data": {
      "application/javascript": [
       "(function(root) {\n",
       "  function embed_document(root) {\n",
       "    \n",
       "  var docs_json = {\"1cdbb7eb-bfc2-4c59-a9d0-7d36130e38fa\":{\"roots\":{\"references\":[{\"attributes\":{\"below\":[{\"id\":\"5875\",\"type\":\"LinearAxis\"}],\"center\":[{\"id\":\"5879\",\"type\":\"Grid\"},{\"id\":\"5884\",\"type\":\"Grid\"}],\"left\":[{\"id\":\"5880\",\"type\":\"LinearAxis\"}],\"plot_height\":400,\"plot_width\":700,\"renderers\":[{\"id\":\"5891\",\"type\":\"GlyphRenderer\"}],\"title\":{\"id\":\"5865\",\"type\":\"Title\"},\"toolbar\":{\"id\":\"5886\",\"type\":\"Toolbar\"},\"x_range\":{\"id\":\"5867\",\"type\":\"DataRange1d\"},\"x_scale\":{\"id\":\"5871\",\"type\":\"LinearScale\"},\"y_range\":{\"id\":\"5869\",\"type\":\"DataRange1d\"},\"y_scale\":{\"id\":\"5873\",\"type\":\"LinearScale\"}},\"id\":\"5864\",\"subtype\":\"Figure\",\"type\":\"Plot\"},{\"attributes\":{},\"id\":\"6014\",\"type\":\"UnionRenderers\"},{\"attributes\":{\"axis_label\":\"Semi-Variance\",\"formatter\":{\"id\":\"6011\",\"type\":\"BasicTickFormatter\"},\"ticker\":{\"id\":\"5881\",\"type\":\"BasicTicker\"}},\"id\":\"5880\",\"type\":\"LinearAxis\"},{\"attributes\":{},\"id\":\"5873\",\"type\":\"LinearScale\"},{\"attributes\":{\"fill_color\":{\"value\":\"#6666CC\"},\"line_color\":{\"value\":\"#6600CC\"},\"size\":{\"units\":\"screen\",\"value\":8},\"x\":{\"field\":\"x\"},\"y\":{\"field\":\"y\"}},\"id\":\"5889\",\"type\":\"Circle\"},{\"attributes\":{\"callback\":null},\"id\":\"5869\",\"type\":\"DataRange1d\"},{\"attributes\":{\"text\":\"Empirical Variogram\"},\"id\":\"5865\",\"type\":\"Title\"},{\"attributes\":{},\"id\":\"6011\",\"type\":\"BasicTickFormatter\"},{\"attributes\":{\"callback\":null},\"id\":\"5867\",\"type\":\"DataRange1d\"},{\"attributes\":{\"ticker\":{\"id\":\"5876\",\"type\":\"BasicTicker\"}},\"id\":\"5879\",\"type\":\"Grid\"},{\"attributes\":{\"dimension\":1,\"ticker\":{\"id\":\"5881\",\"type\":\"BasicTicker\"}},\"id\":\"5884\",\"type\":\"Grid\"},{\"attributes\":{},\"id\":\"5871\",\"type\":\"LinearScale\"},{\"attributes\":{},\"id\":\"5881\",\"type\":\"BasicTicker\"},{\"attributes\":{},\"id\":\"6009\",\"type\":\"BasicTickFormatter\"},{\"attributes\":{\"callback\":null,\"data\":{\"x\":{\"__ndarray__\":\"AAAAAAAAKUAAAAAAAAA5QAAAAAAAwEJAAAAAAAAASUAAAAAAAEBPQAAAAAAAwFJAAAAAAADgVUAAAAAAAABZQA==\",\"dtype\":\"float64\",\"shape\":[8]},\"y\":{\"__ndarray__\":\"9QoHo+Dgsj9BvsNvVXvQP90WvkmRAeE/LcjEF8qY7T8C5kgUzYDuP70GsPZ8U+k/Q2BgnSLg5j/wemMcuC/oPw==\",\"dtype\":\"float64\",\"shape\":[8]}},\"selected\":{\"id\":\"6013\",\"type\":\"Selection\"},\"selection_policy\":{\"id\":\"6014\",\"type\":\"UnionRenderers\"}},\"id\":\"5888\",\"type\":\"ColumnDataSource\"},{\"attributes\":{\"active_drag\":\"auto\",\"active_inspect\":\"auto\",\"active_multi\":null,\"active_scroll\":\"auto\",\"active_tap\":\"auto\",\"tools\":[{\"id\":\"5885\",\"type\":\"HoverTool\"}]},\"id\":\"5886\",\"type\":\"Toolbar\"},{\"attributes\":{},\"id\":\"5876\",\"type\":\"BasicTicker\"},{\"attributes\":{\"fill_alpha\":{\"value\":0.1},\"fill_color\":{\"value\":\"#1f77b4\"},\"line_alpha\":{\"value\":0.1},\"line_color\":{\"value\":\"#1f77b4\"},\"size\":{\"units\":\"screen\",\"value\":8},\"x\":{\"field\":\"x\"},\"y\":{\"field\":\"y\"}},\"id\":\"5890\",\"type\":\"Circle\"},{\"attributes\":{},\"id\":\"6013\",\"type\":\"Selection\"},{\"attributes\":{\"callback\":null,\"tooltips\":[[\"Lag\",\"@x\"],[\"Semi-variance\",\"@y\"]]},\"id\":\"5885\",\"type\":\"HoverTool\"},{\"attributes\":{\"data_source\":{\"id\":\"5888\",\"type\":\"ColumnDataSource\"},\"glyph\":{\"id\":\"5889\",\"type\":\"Circle\"},\"hover_glyph\":null,\"muted_glyph\":null,\"nonselection_glyph\":{\"id\":\"5890\",\"type\":\"Circle\"},\"selection_glyph\":null,\"view\":{\"id\":\"5892\",\"type\":\"CDSView\"}},\"id\":\"5891\",\"type\":\"GlyphRenderer\"},{\"attributes\":{\"source\":{\"id\":\"5888\",\"type\":\"ColumnDataSource\"}},\"id\":\"5892\",\"type\":\"CDSView\"},{\"attributes\":{\"axis_label\":\"lag [m]\",\"formatter\":{\"id\":\"6009\",\"type\":\"BasicTickFormatter\"},\"ticker\":{\"id\":\"5876\",\"type\":\"BasicTicker\"}},\"id\":\"5875\",\"type\":\"LinearAxis\"}],\"root_ids\":[\"5864\"]},\"title\":\"Bokeh Application\",\"version\":\"1.4.0\"}};\n",
       "  var render_items = [{\"docid\":\"1cdbb7eb-bfc2-4c59-a9d0-7d36130e38fa\",\"roots\":{\"5864\":\"a37b9840-514e-4b88-a31e-b62e1e54084f\"}}];\n",
       "  root.Bokeh.embed.embed_items_notebook(docs_json, render_items);\n",
       "\n",
       "  }\n",
       "  if (root.Bokeh !== undefined) {\n",
       "    embed_document(root);\n",
       "  } else {\n",
       "    var attempts = 0;\n",
       "    var timer = setInterval(function(root) {\n",
       "      if (root.Bokeh !== undefined) {\n",
       "        clearInterval(timer);\n",
       "        embed_document(root);\n",
       "      } else {\n",
       "        attempts++;\n",
       "        if (attempts > 100) {\n",
       "          clearInterval(timer);\n",
       "          console.log(\"Bokeh: ERROR: Unable to run BokehJS code because BokehJS library is missing\");\n",
       "        }\n",
       "      }\n",
       "    }, 10, root)\n",
       "  }\n",
       "})(window);"
      ],
      "application/vnd.bokehjs_exec.v0+json": ""
     },
     "metadata": {
      "application/vnd.bokehjs_exec.v0+json": {
       "id": "5864"
      }
     },
     "output_type": "display_data"
    }
   ],
   "source": [
    "show(variogram)"
   ]
  },
  {
   "cell_type": "markdown",
   "metadata": {
    "slideshow": {
     "slide_type": "fragment"
    }
   },
   "source": [
    "This way, you can check hundreds of fine-tuned values with ease. But it is neccessary to understand what is happening under the hood."
   ]
  },
  {
   "cell_type": "markdown",
   "metadata": {
    "slideshow": {
     "slide_type": "slide"
    }
   },
   "source": [
    "## 6.3 Theoretical variogram models"
   ]
  },
  {
   "cell_type": "markdown",
   "metadata": {
    "slideshow": {
     "slide_type": "fragment"
    }
   },
   "source": [
    "Empirical variograms already tell us a lot about spatial structure and an apparent spatial dependency in the data set. Now, we want to describe it more systematically through a mathematical function."
   ]
  },
  {
   "cell_type": "markdown",
   "metadata": {
    "slideshow": {
     "slide_type": "subslide"
    }
   },
   "source": [
    "That has a lot of advantages including:"
   ]
  },
  {
   "cell_type": "markdown",
   "metadata": {
    "slideshow": {
     "slide_type": "fragment"
    }
   },
   "source": [
    "* we can define models of known mathematical properties"
   ]
  },
  {
   "cell_type": "markdown",
   "metadata": {
    "slideshow": {
     "slide_type": "fragment"
    }
   },
   "source": [
    "* one property is that the model is monotonically increasing, which is a prerequisite to use it for interpolation"
   ]
  },
  {
   "cell_type": "markdown",
   "metadata": {
    "slideshow": {
     "slide_type": "fragment"
    }
   },
   "source": [
    "* we can compare models in a systematic manner"
   ]
  },
  {
   "cell_type": "markdown",
   "metadata": {
    "slideshow": {
     "slide_type": "fragment"
    }
   },
   "source": [
    "* Most theoretical variogram models can be described by only three parameters:"
   ]
  },
  {
   "cell_type": "markdown",
   "metadata": {
    "slideshow": {
     "slide_type": "subslide"
    }
   },
   "source": [
    "![](https://gisgeography.com/wp-content/uploads/2016/10/Variogram-Nugget-Range-Sill.png)\n",
    "<div style=\"size: 8px\">&copy; gisgeography.com  - source: https://gisgeography.com/wp-content/uploads/2016/10/Variogram-Nugget-Range-Sill-425x279.png</div>"
   ]
  },
  {
   "cell_type": "markdown",
   "metadata": {
    "slideshow": {
     "slide_type": "subslide"
    }
   },
   "source": [
    "* **Sill** is the total variance in the dataset that the samples are approaching with distance.\n",
    "* **Range**, which I like to call **effective range**, is the *distance* at which the sill is reached. For some models 95% of the sill is used, because the model is approaching the sill asymtotically, but never reaches it.\n",
    "* **Nugget** is the y-axis intersect. That's the (semi)variance at a lag distance of `0`"
   ]
  },
  {
   "cell_type": "markdown",
   "metadata": {
    "slideshow": {
     "slide_type": "fragment"
    }
   },
   "source": [
    "A very helpful diagnostic tool, when the parameters above have been calculated is to look at the **nugget/sill** ratio. \n",
    "\n",
    "The nugget is the share of the total variance that you will not be able to model spatially, no matter what. Therefore, using this ratio can give you an idea of how much variance in the *sample* the **model** can explain. Keep in mind that this is a statistical model of the sample, not a feature of the population."
   ]
  },
  {
   "cell_type": "markdown",
   "metadata": {
    "slideshow": {
     "slide_type": "subslide"
    }
   },
   "source": [
    "### 6.3.1 spherical model"
   ]
  },
  {
   "cell_type": "markdown",
   "metadata": {
    "slideshow": {
     "slide_type": "fragment"
    }
   },
   "source": [
    "The most used geostatistical model is the so called **spherical model**. It is defined like:\n",
    "\n",
    "$$ \\gamma(h) = b+ C_0 * \\left(\\frac{3}{2}*\\frac{h}{a} - \\frac{1}{2}*\\left(\\frac{h}{a}\\right)^3 \\right) $$\n",
    "\n",
    "if $h \\leq a $ and\n",
    "\n",
    "$$ \\gamma(h) = b + C_0$$ \n",
    "\n",
    "otherwise.\n",
    "here: $C_0$ is the sill, $b$ is the nugget and $a$ is the variogram parameter *range*, which is **not** the effective range $r$. For the case of a spherical model $a := r$"
   ]
  },
  {
   "cell_type": "code",
   "execution_count": 50,
   "metadata": {
    "slideshow": {
     "slide_type": "subslide"
    }
   },
   "outputs": [],
   "source": [
    "def spherical(h, r, C0, b):\n",
    "    a = 1 * r\n",
    "    if h <= a:\n",
    "        return b + C0 * (1.5*(h / a) - 0.5 * (h / a)**3)\n",
    "    else:\n",
    "        return b + C0"
   ]
  },
  {
   "cell_type": "code",
   "execution_count": 51,
   "metadata": {
    "slideshow": {
     "slide_type": "fragment"
    }
   },
   "outputs": [],
   "source": [
    "x = list(range(100))\n",
    "y = [spherical(_, 45, 13, 2) for _ in x]"
   ]
  },
  {
   "cell_type": "code",
   "execution_count": 52,
   "metadata": {
    "scrolled": false,
    "slideshow": {
     "slide_type": "skip"
    }
   },
   "outputs": [],
   "source": [
    "models = figure(\n",
    "    title=r'theoretical model functions of r=45 C0=13 b=2', width=700, height=400, tools=['hover'],\n",
    "    tooltips=[('Lag', '@x'), ('Semi-variance', '@y')], toolbar_location='above',\n",
    "    x_axis_label='Lag [m]', y_axis_label='Semi-variance'\n",
    ")\n",
    "models.line(x,y, color='green', line_width=3, legend_label='spherical')\n",
    "\n",
    "models.legend.location = 'bottom_right'\n",
    "models.legend.click_policy = 'hide'\n",
    "models.legend.orientation = 'horizontal'"
   ]
  },
  {
   "cell_type": "code",
   "execution_count": 53,
   "metadata": {
    "slideshow": {
     "slide_type": "subslide"
    }
   },
   "outputs": [
    {
     "data": {
      "text/html": [
       "\n",
       "\n",
       "\n",
       "\n",
       "\n",
       "\n",
       "  <div class=\"bk-root\" id=\"536372c0-5ebd-42d4-849d-09f6d571aca3\" data-root-id=\"3412\"></div>\n"
      ]
     },
     "metadata": {},
     "output_type": "display_data"
    },
    {
     "data": {
      "application/javascript": [
       "(function(root) {\n",
       "  function embed_document(root) {\n",
       "    \n",
       "  var docs_json = {\"26bdc1b4-b7a7-4e32-9b57-9e971d72ab70\":{\"roots\":{\"references\":[{\"attributes\":{\"below\":[{\"id\":\"3423\",\"type\":\"LinearAxis\"}],\"center\":[{\"id\":\"3427\",\"type\":\"Grid\"},{\"id\":\"3432\",\"type\":\"Grid\"},{\"id\":\"3446\",\"type\":\"Legend\"}],\"left\":[{\"id\":\"3428\",\"type\":\"LinearAxis\"}],\"plot_height\":400,\"plot_width\":700,\"renderers\":[{\"id\":\"3439\",\"type\":\"GlyphRenderer\"}],\"title\":{\"id\":\"3413\",\"type\":\"Title\"},\"toolbar\":{\"id\":\"3434\",\"type\":\"Toolbar\"},\"toolbar_location\":\"above\",\"x_range\":{\"id\":\"3415\",\"type\":\"DataRange1d\"},\"x_scale\":{\"id\":\"3419\",\"type\":\"LinearScale\"},\"y_range\":{\"id\":\"3417\",\"type\":\"DataRange1d\"},\"y_scale\":{\"id\":\"3421\",\"type\":\"LinearScale\"}},\"id\":\"3412\",\"subtype\":\"Figure\",\"type\":\"Plot\"},{\"attributes\":{\"axis_label\":\"Semi-variance\",\"formatter\":{\"id\":\"3444\",\"type\":\"BasicTickFormatter\"},\"ticker\":{\"id\":\"3429\",\"type\":\"BasicTicker\"}},\"id\":\"3428\",\"type\":\"LinearAxis\"},{\"attributes\":{},\"id\":\"3429\",\"type\":\"BasicTicker\"},{\"attributes\":{\"callback\":null},\"id\":\"3415\",\"type\":\"DataRange1d\"},{\"attributes\":{\"callback\":null,\"data\":{\"x\":[0,1,2,3,4,5,6,7,8,9,10,11,12,13,14,15,16,17,18,19,20,21,22,23,24,25,26,27,28,29,30,31,32,33,34,35,36,37,38,39,40,41,42,43,44,45,46,47,48,49,50,51,52,53,54,55,56,57,58,59,60,61,62,63,64,65,66,67,68,69,70,71,72,73,74,75,76,77,78,79,80,81,82,83,84,85,86,87,88,89,90,91,92,93,94,95,96,97,98,99],\"y\":[2.0,2.433262002743484,2.8660960219478735,3.298074074074074,3.7287681755829905,4.157750342935528,4.5845925925925926,5.008866941015089,5.430145404663923,5.848000000000001,6.262002743484225,6.671725651577503,7.076740740740741,7.4766200274348416,7.870935528120714,8.25925925925926,8.641163237311385,9.016219478737998,9.384,9.744076817558298,10.0960219478738,10.439407407407407,10.773805212620026,11.098787379972565,11.413925925925927,11.718792866941016,12.012960219478737,12.296,12.567484224965707,12.826984910836764,13.074074074074074,13.308323731138543,13.529305898491081,13.736592592592592,13.929755829903977,14.108367626886146,14.272000000000002,14.420224965706447,14.552614540466392,14.668740740740741,14.768175582990398,14.85049108367627,14.915259259259258,14.962052126200273,14.990441700960218,15.0,15,15,15,15,15,15,15,15,15,15,15,15,15,15,15,15,15,15,15,15,15,15,15,15,15,15,15,15,15,15,15,15,15,15,15,15,15,15,15,15,15,15,15,15,15,15,15,15,15,15,15,15,15,15]},\"selected\":{\"id\":\"3543\",\"type\":\"Selection\"},\"selection_policy\":{\"id\":\"3544\",\"type\":\"UnionRenderers\"}},\"id\":\"3436\",\"type\":\"ColumnDataSource\"},{\"attributes\":{\"line_alpha\":0.1,\"line_color\":\"#1f77b4\",\"line_width\":3,\"x\":{\"field\":\"x\"},\"y\":{\"field\":\"y\"}},\"id\":\"3438\",\"type\":\"Line\"},{\"attributes\":{\"data_source\":{\"id\":\"3436\",\"type\":\"ColumnDataSource\"},\"glyph\":{\"id\":\"3437\",\"type\":\"Line\"},\"hover_glyph\":null,\"muted_glyph\":null,\"nonselection_glyph\":{\"id\":\"3438\",\"type\":\"Line\"},\"selection_glyph\":null,\"view\":{\"id\":\"3440\",\"type\":\"CDSView\"}},\"id\":\"3439\",\"type\":\"GlyphRenderer\"},{\"attributes\":{\"line_color\":\"green\",\"line_width\":3,\"x\":{\"field\":\"x\"},\"y\":{\"field\":\"y\"}},\"id\":\"3437\",\"type\":\"Line\"},{\"attributes\":{},\"id\":\"3543\",\"type\":\"Selection\"},{\"attributes\":{\"callback\":null},\"id\":\"3417\",\"type\":\"DataRange1d\"},{\"attributes\":{},\"id\":\"3421\",\"type\":\"LinearScale\"},{\"attributes\":{\"dimension\":1,\"ticker\":{\"id\":\"3429\",\"type\":\"BasicTicker\"}},\"id\":\"3432\",\"type\":\"Grid\"},{\"attributes\":{\"ticker\":{\"id\":\"3424\",\"type\":\"BasicTicker\"}},\"id\":\"3427\",\"type\":\"Grid\"},{\"attributes\":{\"source\":{\"id\":\"3436\",\"type\":\"ColumnDataSource\"}},\"id\":\"3440\",\"type\":\"CDSView\"},{\"attributes\":{},\"id\":\"3442\",\"type\":\"BasicTickFormatter\"},{\"attributes\":{\"axis_label\":\"Lag [m]\",\"formatter\":{\"id\":\"3442\",\"type\":\"BasicTickFormatter\"},\"ticker\":{\"id\":\"3424\",\"type\":\"BasicTicker\"}},\"id\":\"3423\",\"type\":\"LinearAxis\"},{\"attributes\":{\"click_policy\":\"hide\",\"items\":[{\"id\":\"3447\",\"type\":\"LegendItem\"}],\"location\":\"bottom_right\",\"orientation\":\"horizontal\"},\"id\":\"3446\",\"type\":\"Legend\"},{\"attributes\":{},\"id\":\"3444\",\"type\":\"BasicTickFormatter\"},{\"attributes\":{\"active_drag\":\"auto\",\"active_inspect\":\"auto\",\"active_multi\":null,\"active_scroll\":\"auto\",\"active_tap\":\"auto\",\"tools\":[{\"id\":\"3433\",\"type\":\"HoverTool\"}]},\"id\":\"3434\",\"type\":\"Toolbar\"},{\"attributes\":{},\"id\":\"3419\",\"type\":\"LinearScale\"},{\"attributes\":{\"label\":{\"value\":\"spherical\"},\"renderers\":[{\"id\":\"3439\",\"type\":\"GlyphRenderer\"}]},\"id\":\"3447\",\"type\":\"LegendItem\"},{\"attributes\":{\"callback\":null,\"tooltips\":[[\"Lag\",\"@x\"],[\"Semi-variance\",\"@y\"]]},\"id\":\"3433\",\"type\":\"HoverTool\"},{\"attributes\":{},\"id\":\"3424\",\"type\":\"BasicTicker\"},{\"attributes\":{},\"id\":\"3544\",\"type\":\"UnionRenderers\"},{\"attributes\":{\"text\":\"theoretical model functions of r=45 C0=13 b=2\"},\"id\":\"3413\",\"type\":\"Title\"}],\"root_ids\":[\"3412\"]},\"title\":\"Bokeh Application\",\"version\":\"1.4.0\"}};\n",
       "  var render_items = [{\"docid\":\"26bdc1b4-b7a7-4e32-9b57-9e971d72ab70\",\"roots\":{\"3412\":\"536372c0-5ebd-42d4-849d-09f6d571aca3\"}}];\n",
       "  root.Bokeh.embed.embed_items_notebook(docs_json, render_items);\n",
       "\n",
       "  }\n",
       "  if (root.Bokeh !== undefined) {\n",
       "    embed_document(root);\n",
       "  } else {\n",
       "    var attempts = 0;\n",
       "    var timer = setInterval(function(root) {\n",
       "      if (root.Bokeh !== undefined) {\n",
       "        clearInterval(timer);\n",
       "        embed_document(root);\n",
       "      } else {\n",
       "        attempts++;\n",
       "        if (attempts > 100) {\n",
       "          clearInterval(timer);\n",
       "          console.log(\"Bokeh: ERROR: Unable to run BokehJS code because BokehJS library is missing\");\n",
       "        }\n",
       "      }\n",
       "    }, 10, root)\n",
       "  }\n",
       "})(window);"
      ],
      "application/vnd.bokehjs_exec.v0+json": ""
     },
     "metadata": {
      "application/vnd.bokehjs_exec.v0+json": {
       "id": "3412"
      }
     },
     "output_type": "display_data"
    }
   ],
   "source": [
    "show(models)"
   ]
  },
  {
   "cell_type": "markdown",
   "metadata": {
    "slideshow": {
     "slide_type": "subslide"
    }
   },
   "source": [
    "### 6.3.2 exponential model"
   ]
  },
  {
   "cell_type": "markdown",
   "metadata": {
    "slideshow": {
     "slide_type": "fragment"
    }
   },
   "source": [
    "The **exponential** model is also quite common in geoscience. It's very similar to the spherical model, but is way sharper increasing at short lags and smooths out at larger lags. \n",
    "\n",
    "$$ \\gamma(h) = b + C_0 * \\left(1 - exp\\left(-\\frac{h}{a} \\right) \\right) $$\n",
    "\n",
    "with the relation between effective range $r$ and range paramter $a$ \n",
    "\n",
    "$$ a = \\frac{r}{3}$$"
   ]
  },
  {
   "cell_type": "code",
   "execution_count": 54,
   "metadata": {
    "slideshow": {
     "slide_type": "subslide"
    }
   },
   "outputs": [],
   "source": [
    "def exponential(h, r, C0, b):\n",
    "    a = r / 3.\n",
    "    return b + C0 * (1 - np.exp(- h / a))"
   ]
  },
  {
   "cell_type": "code",
   "execution_count": 61,
   "metadata": {
    "slideshow": {
     "slide_type": "fragment"
    }
   },
   "outputs": [],
   "source": [
    "y2 = [exponential(_, 45, 13, 2) for _ in x]"
   ]
  },
  {
   "cell_type": "code",
   "execution_count": 62,
   "metadata": {
    "slideshow": {
     "slide_type": "skip"
    }
   },
   "outputs": [
    {
     "data": {
      "text/html": [
       "<div style=\"display: table;\"><div style=\"display: table-row;\"><div style=\"display: table-cell;\"><b title=\"bokeh.models.renderers.GlyphRenderer\">GlyphRenderer</b>(</div><div style=\"display: table-cell;\">id&nbsp;=&nbsp;'4141', <span id=\"4361\" style=\"cursor: pointer;\">&hellip;)</span></div></div><div class=\"4360\" style=\"display: none;\"><div style=\"display: table-cell;\"></div><div style=\"display: table-cell;\">data_source&nbsp;=&nbsp;ColumnDataSource(id='4138', ...),</div></div><div class=\"4360\" style=\"display: none;\"><div style=\"display: table-cell;\"></div><div style=\"display: table-cell;\">glyph&nbsp;=&nbsp;Line(id='4139', ...),</div></div><div class=\"4360\" style=\"display: none;\"><div style=\"display: table-cell;\"></div><div style=\"display: table-cell;\">hover_glyph&nbsp;=&nbsp;None,</div></div><div class=\"4360\" style=\"display: none;\"><div style=\"display: table-cell;\"></div><div style=\"display: table-cell;\">js_event_callbacks&nbsp;=&nbsp;{},</div></div><div class=\"4360\" style=\"display: none;\"><div style=\"display: table-cell;\"></div><div style=\"display: table-cell;\">js_property_callbacks&nbsp;=&nbsp;{},</div></div><div class=\"4360\" style=\"display: none;\"><div style=\"display: table-cell;\"></div><div style=\"display: table-cell;\">level&nbsp;=&nbsp;'glyph',</div></div><div class=\"4360\" style=\"display: none;\"><div style=\"display: table-cell;\"></div><div style=\"display: table-cell;\">muted&nbsp;=&nbsp;False,</div></div><div class=\"4360\" style=\"display: none;\"><div style=\"display: table-cell;\"></div><div style=\"display: table-cell;\">muted_glyph&nbsp;=&nbsp;None,</div></div><div class=\"4360\" style=\"display: none;\"><div style=\"display: table-cell;\"></div><div style=\"display: table-cell;\">name&nbsp;=&nbsp;None,</div></div><div class=\"4360\" style=\"display: none;\"><div style=\"display: table-cell;\"></div><div style=\"display: table-cell;\">nonselection_glyph&nbsp;=&nbsp;Line(id='4140', ...),</div></div><div class=\"4360\" style=\"display: none;\"><div style=\"display: table-cell;\"></div><div style=\"display: table-cell;\">selection_glyph&nbsp;=&nbsp;None,</div></div><div class=\"4360\" style=\"display: none;\"><div style=\"display: table-cell;\"></div><div style=\"display: table-cell;\">subscribed_events&nbsp;=&nbsp;[],</div></div><div class=\"4360\" style=\"display: none;\"><div style=\"display: table-cell;\"></div><div style=\"display: table-cell;\">tags&nbsp;=&nbsp;[],</div></div><div class=\"4360\" style=\"display: none;\"><div style=\"display: table-cell;\"></div><div style=\"display: table-cell;\">view&nbsp;=&nbsp;CDSView(id='4142', ...),</div></div><div class=\"4360\" style=\"display: none;\"><div style=\"display: table-cell;\"></div><div style=\"display: table-cell;\">visible&nbsp;=&nbsp;True,</div></div><div class=\"4360\" style=\"display: none;\"><div style=\"display: table-cell;\"></div><div style=\"display: table-cell;\">x_range_name&nbsp;=&nbsp;'default',</div></div><div class=\"4360\" style=\"display: none;\"><div style=\"display: table-cell;\"></div><div style=\"display: table-cell;\">y_range_name&nbsp;=&nbsp;'default')</div></div></div>\n",
       "<script>\n",
       "(function() {\n",
       "  var expanded = false;\n",
       "  var ellipsis = document.getElementById(\"4361\");\n",
       "  ellipsis.addEventListener(\"click\", function() {\n",
       "    var rows = document.getElementsByClassName(\"4360\");\n",
       "    for (var i = 0; i < rows.length; i++) {\n",
       "      var el = rows[i];\n",
       "      el.style.display = expanded ? \"none\" : \"table-row\";\n",
       "    }\n",
       "    ellipsis.innerHTML = expanded ? \"&hellip;)\" : \"&lsaquo;&lsaquo;&lsaquo;\";\n",
       "    expanded = !expanded;\n",
       "  });\n",
       "})();\n",
       "</script>\n"
      ],
      "text/plain": [
       "GlyphRenderer(id='4141', ...)"
      ]
     },
     "execution_count": 62,
     "metadata": {},
     "output_type": "execute_result"
    }
   ],
   "source": [
    "models.line(x, y2, line_color='blue', line_width=3, legend_label='exponential')"
   ]
  },
  {
   "cell_type": "code",
   "execution_count": 59,
   "metadata": {},
   "outputs": [
    {
     "data": {
      "text/html": [
       "\n",
       "\n",
       "\n",
       "\n",
       "\n",
       "\n",
       "  <div class=\"bk-root\" id=\"4e6a760d-7142-406f-aa2a-8d492b09e5e0\" data-root-id=\"3412\"></div>\n"
      ]
     },
     "metadata": {},
     "output_type": "display_data"
    },
    {
     "data": {
      "application/javascript": [
       "(function(root) {\n",
       "  function embed_document(root) {\n",
       "    \n",
       "  var docs_json = {\"a3613864-b066-4cfe-abe9-9ecd9b2a3ae0\":{\"roots\":{\"references\":[{\"attributes\":{\"below\":[{\"id\":\"3423\",\"type\":\"LinearAxis\"}],\"center\":[{\"id\":\"3427\",\"type\":\"Grid\"},{\"id\":\"3432\",\"type\":\"Grid\"},{\"id\":\"3446\",\"type\":\"Legend\"}],\"left\":[{\"id\":\"3428\",\"type\":\"LinearAxis\"}],\"plot_height\":400,\"plot_width\":700,\"renderers\":[{\"id\":\"3439\",\"type\":\"GlyphRenderer\"},{\"id\":\"3590\",\"type\":\"GlyphRenderer\"},{\"id\":\"3857\",\"type\":\"GlyphRenderer\"}],\"title\":{\"id\":\"3413\",\"type\":\"Title\"},\"toolbar\":{\"id\":\"3434\",\"type\":\"Toolbar\"},\"toolbar_location\":\"above\",\"x_range\":{\"id\":\"3415\",\"type\":\"DataRange1d\"},\"x_scale\":{\"id\":\"3419\",\"type\":\"LinearScale\"},\"y_range\":{\"id\":\"3417\",\"type\":\"DataRange1d\"},\"y_scale\":{\"id\":\"3421\",\"type\":\"LinearScale\"}},\"id\":\"3412\",\"subtype\":\"Figure\",\"type\":\"Plot\"},{\"attributes\":{\"axis_label\":\"Semi-variance\",\"formatter\":{\"id\":\"3444\",\"type\":\"BasicTickFormatter\"},\"ticker\":{\"id\":\"3429\",\"type\":\"BasicTicker\"}},\"id\":\"3428\",\"type\":\"LinearAxis\"},{\"attributes\":{},\"id\":\"3429\",\"type\":\"BasicTicker\"},{\"attributes\":{\"line_color\":\"blue\",\"x\":{\"field\":\"x\"},\"y\":{\"field\":\"y\"}},\"id\":\"3588\",\"type\":\"Line\"},{\"attributes\":{\"callback\":null},\"id\":\"3415\",\"type\":\"DataRange1d\"},{\"attributes\":{\"label\":{\"value\":\"exponential\"},\"renderers\":[{\"id\":\"3590\",\"type\":\"GlyphRenderer\"},{\"id\":\"3857\",\"type\":\"GlyphRenderer\"}]},\"id\":\"3599\",\"type\":\"LegendItem\"},{\"attributes\":{\"callback\":null,\"data\":{\"x\":[0,1,2,3,4,5,6,7,8,9,10,11,12,13,14,15,16,17,18,19,20,21,22,23,24,25,26,27,28,29,30,31,32,33,34,35,36,37,38,39,40,41,42,43,44,45,46,47,48,49,50,51,52,53,54,55,56,57,58,59,60,61,62,63,64,65,66,67,68,69,70,71,72,73,74,75,76,77,78,79,80,81,82,83,84,85,86,87,88,89,90,91,92,93,94,95,96,97,98,99],\"y\":[2.0,2.433262002743484,2.8660960219478735,3.298074074074074,3.7287681755829905,4.157750342935528,4.5845925925925926,5.008866941015089,5.430145404663923,5.848000000000001,6.262002743484225,6.671725651577503,7.076740740740741,7.4766200274348416,7.870935528120714,8.25925925925926,8.641163237311385,9.016219478737998,9.384,9.744076817558298,10.0960219478738,10.439407407407407,10.773805212620026,11.098787379972565,11.413925925925927,11.718792866941016,12.012960219478737,12.296,12.567484224965707,12.826984910836764,13.074074074074074,13.308323731138543,13.529305898491081,13.736592592592592,13.929755829903977,14.108367626886146,14.272000000000002,14.420224965706447,14.552614540466392,14.668740740740741,14.768175582990398,14.85049108367627,14.915259259259258,14.962052126200273,14.990441700960218,15.0,15,15,15,15,15,15,15,15,15,15,15,15,15,15,15,15,15,15,15,15,15,15,15,15,15,15,15,15,15,15,15,15,15,15,15,15,15,15,15,15,15,15,15,15,15,15,15,15,15,15,15,15,15,15]},\"selected\":{\"id\":\"3543\",\"type\":\"Selection\"},\"selection_policy\":{\"id\":\"3544\",\"type\":\"UnionRenderers\"}},\"id\":\"3436\",\"type\":\"ColumnDataSource\"},{\"attributes\":{\"data_source\":{\"id\":\"3854\",\"type\":\"ColumnDataSource\"},\"glyph\":{\"id\":\"3855\",\"type\":\"Line\"},\"hover_glyph\":null,\"muted_glyph\":null,\"nonselection_glyph\":{\"id\":\"3856\",\"type\":\"Line\"},\"selection_glyph\":null,\"view\":{\"id\":\"3858\",\"type\":\"CDSView\"}},\"id\":\"3857\",\"type\":\"GlyphRenderer\"},{\"attributes\":{\"line_alpha\":0.1,\"line_color\":\"#1f77b4\",\"line_width\":3,\"x\":{\"field\":\"x\"},\"y\":{\"field\":\"y\"}},\"id\":\"3438\",\"type\":\"Line\"},{\"attributes\":{\"data_source\":{\"id\":\"3436\",\"type\":\"ColumnDataSource\"},\"glyph\":{\"id\":\"3437\",\"type\":\"Line\"},\"hover_glyph\":null,\"muted_glyph\":null,\"nonselection_glyph\":{\"id\":\"3438\",\"type\":\"Line\"},\"selection_glyph\":null,\"view\":{\"id\":\"3440\",\"type\":\"CDSView\"}},\"id\":\"3439\",\"type\":\"GlyphRenderer\"},{\"attributes\":{\"line_color\":\"green\",\"line_width\":3,\"x\":{\"field\":\"x\"},\"y\":{\"field\":\"y\"}},\"id\":\"3437\",\"type\":\"Line\"},{\"attributes\":{},\"id\":\"3543\",\"type\":\"Selection\"},{\"attributes\":{\"callback\":null},\"id\":\"3417\",\"type\":\"DataRange1d\"},{\"attributes\":{},\"id\":\"3421\",\"type\":\"LinearScale\"},{\"attributes\":{\"dimension\":1,\"ticker\":{\"id\":\"3429\",\"type\":\"BasicTicker\"}},\"id\":\"3432\",\"type\":\"Grid\"},{\"attributes\":{\"ticker\":{\"id\":\"3424\",\"type\":\"BasicTicker\"}},\"id\":\"3427\",\"type\":\"Grid\"},{\"attributes\":{\"source\":{\"id\":\"3436\",\"type\":\"ColumnDataSource\"}},\"id\":\"3440\",\"type\":\"CDSView\"},{\"attributes\":{},\"id\":\"3442\",\"type\":\"BasicTickFormatter\"},{\"attributes\":{\"axis_label\":\"Lag [m]\",\"formatter\":{\"id\":\"3442\",\"type\":\"BasicTickFormatter\"},\"ticker\":{\"id\":\"3424\",\"type\":\"BasicTicker\"}},\"id\":\"3423\",\"type\":\"LinearAxis\"},{\"attributes\":{\"source\":{\"id\":\"3854\",\"type\":\"ColumnDataSource\"}},\"id\":\"3858\",\"type\":\"CDSView\"},{\"attributes\":{\"line_color\":\"blue\",\"line_width\":3,\"x\":{\"field\":\"x\"},\"y\":{\"field\":\"y\"}},\"id\":\"3855\",\"type\":\"Line\"},{\"attributes\":{\"click_policy\":\"hide\",\"items\":[{\"id\":\"3447\",\"type\":\"LegendItem\"},{\"id\":\"3599\",\"type\":\"LegendItem\"}],\"location\":\"bottom_right\",\"orientation\":\"horizontal\"},\"id\":\"3446\",\"type\":\"Legend\"},{\"attributes\":{\"line_alpha\":0.1,\"line_color\":\"#1f77b4\",\"line_width\":3,\"x\":{\"field\":\"x\"},\"y\":{\"field\":\"y\"}},\"id\":\"3856\",\"type\":\"Line\"},{\"attributes\":{},\"id\":\"3444\",\"type\":\"BasicTickFormatter\"},{\"attributes\":{\"active_drag\":\"auto\",\"active_inspect\":\"auto\",\"active_multi\":null,\"active_scroll\":\"auto\",\"active_tap\":\"auto\",\"tools\":[{\"id\":\"3433\",\"type\":\"HoverTool\"}]},\"id\":\"3434\",\"type\":\"Toolbar\"},{\"attributes\":{},\"id\":\"3419\",\"type\":\"LinearScale\"},{\"attributes\":{},\"id\":\"3968\",\"type\":\"UnionRenderers\"},{\"attributes\":{\"label\":{\"value\":\"spherical\"},\"renderers\":[{\"id\":\"3439\",\"type\":\"GlyphRenderer\"}]},\"id\":\"3447\",\"type\":\"LegendItem\"},{\"attributes\":{\"data_source\":{\"id\":\"3587\",\"type\":\"ColumnDataSource\"},\"glyph\":{\"id\":\"3588\",\"type\":\"Line\"},\"hover_glyph\":null,\"muted_glyph\":null,\"nonselection_glyph\":{\"id\":\"3589\",\"type\":\"Line\"},\"selection_glyph\":null,\"view\":{\"id\":\"3591\",\"type\":\"CDSView\"}},\"id\":\"3590\",\"type\":\"GlyphRenderer\"},{\"attributes\":{\"callback\":null,\"tooltips\":[[\"Lag\",\"@x\"],[\"Semi-variance\",\"@y\"]]},\"id\":\"3433\",\"type\":\"HoverTool\"},{\"attributes\":{},\"id\":\"3967\",\"type\":\"Selection\"},{\"attributes\":{\"line_alpha\":0.1,\"line_color\":\"#1f77b4\",\"x\":{\"field\":\"x\"},\"y\":{\"field\":\"y\"}},\"id\":\"3589\",\"type\":\"Line\"},{\"attributes\":{\"callback\":null,\"data\":{\"x\":[0,1,2,3,4,5,6,7,8,9,10,11,12,13,14,15,16,17,18,19,20,21,22,23,24,25,26,27,28,29,30,31,32,33,34,35,36,37,38,39,40,41,42,43,44,45,46,47,48,49,50,51,52,53,54,55,56,57,58,59,60,61,62,63,64,65,66,67,68,69,70,71,72,73,74,75,76,77,78,79,80,81,82,83,84,85,86,87,88,89,90,91,92,93,94,95,96,97,98,99],\"y\":[2.0,2.838409194588969,3.622746852441683,4.356500209986237,5.042931601259567,5.68509296254074,6.2858394015366885,6.847841891450271,7.373599146369586,7.865448730777657,8.325577452576304,8.756031085832607,9.15872346647612,9.535445001387135,9.887870628708225,10.21756726477125,10.52600077074964,10.814542470010213,11.084475245141372,11.336999241765541,11.573237204495552,11.794239468759116,12.000988630685484,12.194403915817034,12.37534526606948,12.544617163111697,12.702972205164242,12.851114453119374,12.989702560859687,13.119352703693064,13.240641317924036,13.354107663741914,13.46025622282055,13.559558941289659,13.652457328050138,13.739364417762733,13.820666607237637,13.896725373389772,13.967878880397983,14.034443483213659,14.09671513410358,14.154970698480552,14.209469185872166,14.26045290150068,14.30814852359402,14.352768111217769,14.394510047109016,14.433559919704019,14.47009134828124,14.504266754888413,14.536238086485719,14.56614749051576,14.594127946903997,14.620303859299568,14.644791608185198,14.667700068315403,14.68913109278353,14.709179965869847,14.727935826684108,14.745482065486131,14.761896694446456,14.777252694495543,14.791618339803607,14.80505750133379,14.817629930818242,14.829391526419768,14.84039458126011,14.850688015919937,14.86031759594417,14.869326135319763,14.877753686830562,14.885637720135628,14.89301328836274,14.89991318395778,14.906368084482928,14.912406689011888,14.918055845728576,14.923340671296573,14.92828466253011,14.932909800863019,14.937236650080191,14.941284447746035,14.945071190736426,14.948613715254458,14.951927771685721,14.955028094625959,14.957928468392403,14.960641788310113,14.96318011804576,14.965554743243768,14.967776221703337,14.969854430319362,14.971798608996007,14.973617401728156,14.975318895033407,14.976910653905453,14.978399755448738,14.979792820343905,14.981096042283934,14.982315215511877]},\"selected\":{\"id\":\"3967\",\"type\":\"Selection\"},\"selection_policy\":{\"id\":\"3968\",\"type\":\"UnionRenderers\"}},\"id\":\"3854\",\"type\":\"ColumnDataSource\"},{\"attributes\":{},\"id\":\"3424\",\"type\":\"BasicTicker\"},{\"attributes\":{\"source\":{\"id\":\"3587\",\"type\":\"ColumnDataSource\"}},\"id\":\"3591\",\"type\":\"CDSView\"},{\"attributes\":{},\"id\":\"3544\",\"type\":\"UnionRenderers\"},{\"attributes\":{},\"id\":\"3697\",\"type\":\"Selection\"},{\"attributes\":{},\"id\":\"3698\",\"type\":\"UnionRenderers\"},{\"attributes\":{\"text\":\"theoretical model functions of r=45 C0=13 b=2\"},\"id\":\"3413\",\"type\":\"Title\"},{\"attributes\":{\"callback\":null,\"data\":{\"x\":[0,1,2,3,4,5,6,7,8,9,10,11,12,13,14,15,16,17,18,19,20,21,22,23,24,25,26,27,28,29,30,31,32,33,34,35,36,37,38,39,40,41,42,43,44,45,46,47,48,49,50,51,52,53,54,55,56,57,58,59,60,61,62,63,64,65,66,67,68,69,70,71,72,73,74,75,76,77,78,79,80,81,82,83,84,85,86,87,88,89,90,91,92,93,94,95,96,97,98,99],\"y\":[2.0,2.838409194588969,3.622746852441683,4.356500209986237,5.042931601259567,5.68509296254074,6.2858394015366885,6.847841891450271,7.373599146369586,7.865448730777657,8.325577452576304,8.756031085832607,9.15872346647612,9.535445001387135,9.887870628708225,10.21756726477125,10.52600077074964,10.814542470010213,11.084475245141372,11.336999241765541,11.573237204495552,11.794239468759116,12.000988630685484,12.194403915817034,12.37534526606948,12.544617163111697,12.702972205164242,12.851114453119374,12.989702560859687,13.119352703693064,13.240641317924036,13.354107663741914,13.46025622282055,13.559558941289659,13.652457328050138,13.739364417762733,13.820666607237637,13.896725373389772,13.967878880397983,14.034443483213659,14.09671513410358,14.154970698480552,14.209469185872166,14.26045290150068,14.30814852359402,14.352768111217769,14.394510047109016,14.433559919704019,14.47009134828124,14.504266754888413,14.536238086485719,14.56614749051576,14.594127946903997,14.620303859299568,14.644791608185198,14.667700068315403,14.68913109278353,14.709179965869847,14.727935826684108,14.745482065486131,14.761896694446456,14.777252694495543,14.791618339803607,14.80505750133379,14.817629930818242,14.829391526419768,14.84039458126011,14.850688015919937,14.86031759594417,14.869326135319763,14.877753686830562,14.885637720135628,14.89301328836274,14.89991318395778,14.906368084482928,14.912406689011888,14.918055845728576,14.923340671296573,14.92828466253011,14.932909800863019,14.937236650080191,14.941284447746035,14.945071190736426,14.948613715254458,14.951927771685721,14.955028094625959,14.957928468392403,14.960641788310113,14.96318011804576,14.965554743243768,14.967776221703337,14.969854430319362,14.971798608996007,14.973617401728156,14.975318895033407,14.976910653905453,14.978399755448738,14.979792820343905,14.981096042283934,14.982315215511877]},\"selected\":{\"id\":\"3697\",\"type\":\"Selection\"},\"selection_policy\":{\"id\":\"3698\",\"type\":\"UnionRenderers\"}},\"id\":\"3587\",\"type\":\"ColumnDataSource\"}],\"root_ids\":[\"3412\"]},\"title\":\"Bokeh Application\",\"version\":\"1.4.0\"}};\n",
       "  var render_items = [{\"docid\":\"a3613864-b066-4cfe-abe9-9ecd9b2a3ae0\",\"roots\":{\"3412\":\"4e6a760d-7142-406f-aa2a-8d492b09e5e0\"}}];\n",
       "  root.Bokeh.embed.embed_items_notebook(docs_json, render_items);\n",
       "\n",
       "  }\n",
       "  if (root.Bokeh !== undefined) {\n",
       "    embed_document(root);\n",
       "  } else {\n",
       "    var attempts = 0;\n",
       "    var timer = setInterval(function(root) {\n",
       "      if (root.Bokeh !== undefined) {\n",
       "        clearInterval(timer);\n",
       "        embed_document(root);\n",
       "      } else {\n",
       "        attempts++;\n",
       "        if (attempts > 100) {\n",
       "          clearInterval(timer);\n",
       "          console.log(\"Bokeh: ERROR: Unable to run BokehJS code because BokehJS library is missing\");\n",
       "        }\n",
       "      }\n",
       "    }, 10, root)\n",
       "  }\n",
       "})(window);"
      ],
      "application/vnd.bokehjs_exec.v0+json": ""
     },
     "metadata": {
      "application/vnd.bokehjs_exec.v0+json": {
       "id": "3412"
      }
     },
     "output_type": "display_data"
    }
   ],
   "source": [
    "show(models)"
   ]
  },
  {
   "cell_type": "markdown",
   "metadata": {
    "slideshow": {
     "slide_type": "subslide"
    }
   },
   "source": [
    "### 6.3.3 Gaussian model"
   ]
  },
  {
   "cell_type": "markdown",
   "metadata": {
    "slideshow": {
     "slide_type": "fragment"
    }
   },
   "source": [
    "The last of the three most important theoretical model is the **Gaussian** model. It can model variables, that are quite similar up to a specific lag and then drastically increase in dissimilarity.\n",
    "\n",
    "$$ \\gamma(h) = b + C_0 * \\left(1 - exp\\left(-\\frac{h^2}{a^2} \\right) \\right)$$\n",
    "\n",
    "and \n",
    "$$ a = \\frac{r}{2} $$\n",
    "\n",
    "In literature, you will also find $a = \\frac{r}{\\pi}$ and $a = \\frac{r}{3}$."
   ]
  },
  {
   "cell_type": "code",
   "execution_count": 60,
   "metadata": {
    "slideshow": {
     "slide_type": "subslide"
    }
   },
   "outputs": [],
   "source": [
    "def gaussian(h, r, C0, b):\n",
    "    a = r / 2.\n",
    "    \n",
    "    return b + C0 * (1 - np.exp(- h**2 / a**2))"
   ]
  },
  {
   "cell_type": "code",
   "execution_count": 64,
   "metadata": {
    "slideshow": {
     "slide_type": "fragment"
    }
   },
   "outputs": [],
   "source": [
    "y3 = [gaussian(_, 45, 13, 2) for _ in x]"
   ]
  },
  {
   "cell_type": "code",
   "execution_count": 65,
   "metadata": {
    "slideshow": {
     "slide_type": "skip"
    }
   },
   "outputs": [
    {
     "data": {
      "text/html": [
       "<div style=\"display: table;\"><div style=\"display: table-row;\"><div style=\"display: table-cell;\"><b title=\"bokeh.models.renderers.GlyphRenderer\">GlyphRenderer</b>(</div><div style=\"display: table-cell;\">id&nbsp;=&nbsp;'4365', <span id=\"4592\" style=\"cursor: pointer;\">&hellip;)</span></div></div><div class=\"4591\" style=\"display: none;\"><div style=\"display: table-cell;\"></div><div style=\"display: table-cell;\">data_source&nbsp;=&nbsp;ColumnDataSource(id='4362', ...),</div></div><div class=\"4591\" style=\"display: none;\"><div style=\"display: table-cell;\"></div><div style=\"display: table-cell;\">glyph&nbsp;=&nbsp;Line(id='4363', ...),</div></div><div class=\"4591\" style=\"display: none;\"><div style=\"display: table-cell;\"></div><div style=\"display: table-cell;\">hover_glyph&nbsp;=&nbsp;None,</div></div><div class=\"4591\" style=\"display: none;\"><div style=\"display: table-cell;\"></div><div style=\"display: table-cell;\">js_event_callbacks&nbsp;=&nbsp;{},</div></div><div class=\"4591\" style=\"display: none;\"><div style=\"display: table-cell;\"></div><div style=\"display: table-cell;\">js_property_callbacks&nbsp;=&nbsp;{},</div></div><div class=\"4591\" style=\"display: none;\"><div style=\"display: table-cell;\"></div><div style=\"display: table-cell;\">level&nbsp;=&nbsp;'glyph',</div></div><div class=\"4591\" style=\"display: none;\"><div style=\"display: table-cell;\"></div><div style=\"display: table-cell;\">muted&nbsp;=&nbsp;False,</div></div><div class=\"4591\" style=\"display: none;\"><div style=\"display: table-cell;\"></div><div style=\"display: table-cell;\">muted_glyph&nbsp;=&nbsp;None,</div></div><div class=\"4591\" style=\"display: none;\"><div style=\"display: table-cell;\"></div><div style=\"display: table-cell;\">name&nbsp;=&nbsp;None,</div></div><div class=\"4591\" style=\"display: none;\"><div style=\"display: table-cell;\"></div><div style=\"display: table-cell;\">nonselection_glyph&nbsp;=&nbsp;Line(id='4364', ...),</div></div><div class=\"4591\" style=\"display: none;\"><div style=\"display: table-cell;\"></div><div style=\"display: table-cell;\">selection_glyph&nbsp;=&nbsp;None,</div></div><div class=\"4591\" style=\"display: none;\"><div style=\"display: table-cell;\"></div><div style=\"display: table-cell;\">subscribed_events&nbsp;=&nbsp;[],</div></div><div class=\"4591\" style=\"display: none;\"><div style=\"display: table-cell;\"></div><div style=\"display: table-cell;\">tags&nbsp;=&nbsp;[],</div></div><div class=\"4591\" style=\"display: none;\"><div style=\"display: table-cell;\"></div><div style=\"display: table-cell;\">view&nbsp;=&nbsp;CDSView(id='4366', ...),</div></div><div class=\"4591\" style=\"display: none;\"><div style=\"display: table-cell;\"></div><div style=\"display: table-cell;\">visible&nbsp;=&nbsp;True,</div></div><div class=\"4591\" style=\"display: none;\"><div style=\"display: table-cell;\"></div><div style=\"display: table-cell;\">x_range_name&nbsp;=&nbsp;'default',</div></div><div class=\"4591\" style=\"display: none;\"><div style=\"display: table-cell;\"></div><div style=\"display: table-cell;\">y_range_name&nbsp;=&nbsp;'default')</div></div></div>\n",
       "<script>\n",
       "(function() {\n",
       "  var expanded = false;\n",
       "  var ellipsis = document.getElementById(\"4592\");\n",
       "  ellipsis.addEventListener(\"click\", function() {\n",
       "    var rows = document.getElementsByClassName(\"4591\");\n",
       "    for (var i = 0; i < rows.length; i++) {\n",
       "      var el = rows[i];\n",
       "      el.style.display = expanded ? \"none\" : \"table-row\";\n",
       "    }\n",
       "    ellipsis.innerHTML = expanded ? \"&hellip;)\" : \"&lsaquo;&lsaquo;&lsaquo;\";\n",
       "    expanded = !expanded;\n",
       "  });\n",
       "})();\n",
       "</script>\n"
      ],
      "text/plain": [
       "GlyphRenderer(id='4365', ...)"
      ]
     },
     "execution_count": 65,
     "metadata": {},
     "output_type": "execute_result"
    }
   ],
   "source": [
    "models.line(x, y3, line_color='darkred', line_width=3, legend_label='gaussian')"
   ]
  },
  {
   "cell_type": "code",
   "execution_count": 66,
   "metadata": {
    "slideshow": {
     "slide_type": "subslide"
    }
   },
   "outputs": [
    {
     "data": {
      "text/html": [
       "\n",
       "\n",
       "\n",
       "\n",
       "\n",
       "\n",
       "  <div class=\"bk-root\" id=\"599a8a89-211b-4277-9b15-0436bfb30281\" data-root-id=\"3412\"></div>\n"
      ]
     },
     "metadata": {},
     "output_type": "display_data"
    },
    {
     "data": {
      "application/javascript": [
       "(function(root) {\n",
       "  function embed_document(root) {\n",
       "    \n",
       "  var docs_json = {\"ced3b113-b163-4c77-9d90-f570995dde09\":{\"roots\":{\"references\":[{\"attributes\":{\"below\":[{\"id\":\"3423\",\"type\":\"LinearAxis\"}],\"center\":[{\"id\":\"3427\",\"type\":\"Grid\"},{\"id\":\"3432\",\"type\":\"Grid\"},{\"id\":\"3446\",\"type\":\"Legend\"}],\"left\":[{\"id\":\"3428\",\"type\":\"LinearAxis\"}],\"plot_height\":400,\"plot_width\":700,\"renderers\":[{\"id\":\"3439\",\"type\":\"GlyphRenderer\"},{\"id\":\"3590\",\"type\":\"GlyphRenderer\"},{\"id\":\"3857\",\"type\":\"GlyphRenderer\"},{\"id\":\"4141\",\"type\":\"GlyphRenderer\"},{\"id\":\"4365\",\"type\":\"GlyphRenderer\"}],\"title\":{\"id\":\"3413\",\"type\":\"Title\"},\"toolbar\":{\"id\":\"3434\",\"type\":\"Toolbar\"},\"toolbar_location\":\"above\",\"x_range\":{\"id\":\"3415\",\"type\":\"DataRange1d\"},\"x_scale\":{\"id\":\"3419\",\"type\":\"LinearScale\"},\"y_range\":{\"id\":\"3417\",\"type\":\"DataRange1d\"},\"y_scale\":{\"id\":\"3421\",\"type\":\"LinearScale\"}},\"id\":\"3412\",\"subtype\":\"Figure\",\"type\":\"Plot\"},{\"attributes\":{\"axis_label\":\"Semi-variance\",\"formatter\":{\"id\":\"3444\",\"type\":\"BasicTickFormatter\"},\"ticker\":{\"id\":\"3429\",\"type\":\"BasicTicker\"}},\"id\":\"3428\",\"type\":\"LinearAxis\"},{\"attributes\":{\"source\":{\"id\":\"4362\",\"type\":\"ColumnDataSource\"}},\"id\":\"4366\",\"type\":\"CDSView\"},{\"attributes\":{},\"id\":\"3429\",\"type\":\"BasicTicker\"},{\"attributes\":{\"line_color\":\"blue\",\"x\":{\"field\":\"x\"},\"y\":{\"field\":\"y\"}},\"id\":\"3588\",\"type\":\"Line\"},{\"attributes\":{},\"id\":\"4256\",\"type\":\"UnionRenderers\"},{\"attributes\":{\"data_source\":{\"id\":\"4362\",\"type\":\"ColumnDataSource\"},\"glyph\":{\"id\":\"4363\",\"type\":\"Line\"},\"hover_glyph\":null,\"muted_glyph\":null,\"nonselection_glyph\":{\"id\":\"4364\",\"type\":\"Line\"},\"selection_glyph\":null,\"view\":{\"id\":\"4366\",\"type\":\"CDSView\"}},\"id\":\"4365\",\"type\":\"GlyphRenderer\"},{\"attributes\":{\"callback\":null},\"id\":\"3415\",\"type\":\"DataRange1d\"},{\"attributes\":{\"label\":{\"value\":\"exponential\"},\"renderers\":[{\"id\":\"3590\",\"type\":\"GlyphRenderer\"},{\"id\":\"3857\",\"type\":\"GlyphRenderer\"},{\"id\":\"4141\",\"type\":\"GlyphRenderer\"}]},\"id\":\"3599\",\"type\":\"LegendItem\"},{\"attributes\":{\"callback\":null,\"data\":{\"x\":[0,1,2,3,4,5,6,7,8,9,10,11,12,13,14,15,16,17,18,19,20,21,22,23,24,25,26,27,28,29,30,31,32,33,34,35,36,37,38,39,40,41,42,43,44,45,46,47,48,49,50,51,52,53,54,55,56,57,58,59,60,61,62,63,64,65,66,67,68,69,70,71,72,73,74,75,76,77,78,79,80,81,82,83,84,85,86,87,88,89,90,91,92,93,94,95,96,97,98,99],\"y\":[2.0,2.433262002743484,2.8660960219478735,3.298074074074074,3.7287681755829905,4.157750342935528,4.5845925925925926,5.008866941015089,5.430145404663923,5.848000000000001,6.262002743484225,6.671725651577503,7.076740740740741,7.4766200274348416,7.870935528120714,8.25925925925926,8.641163237311385,9.016219478737998,9.384,9.744076817558298,10.0960219478738,10.439407407407407,10.773805212620026,11.098787379972565,11.413925925925927,11.718792866941016,12.012960219478737,12.296,12.567484224965707,12.826984910836764,13.074074074074074,13.308323731138543,13.529305898491081,13.736592592592592,13.929755829903977,14.108367626886146,14.272000000000002,14.420224965706447,14.552614540466392,14.668740740740741,14.768175582990398,14.85049108367627,14.915259259259258,14.962052126200273,14.990441700960218,15.0,15,15,15,15,15,15,15,15,15,15,15,15,15,15,15,15,15,15,15,15,15,15,15,15,15,15,15,15,15,15,15,15,15,15,15,15,15,15,15,15,15,15,15,15,15,15,15,15,15,15,15,15,15,15]},\"selected\":{\"id\":\"3543\",\"type\":\"Selection\"},\"selection_policy\":{\"id\":\"3544\",\"type\":\"UnionRenderers\"}},\"id\":\"3436\",\"type\":\"ColumnDataSource\"},{\"attributes\":{\"line_color\":\"blue\",\"line_width\":3,\"x\":{\"field\":\"x\"},\"y\":{\"field\":\"y\"}},\"id\":\"4139\",\"type\":\"Line\"},{\"attributes\":{\"data_source\":{\"id\":\"3854\",\"type\":\"ColumnDataSource\"},\"glyph\":{\"id\":\"3855\",\"type\":\"Line\"},\"hover_glyph\":null,\"muted_glyph\":null,\"nonselection_glyph\":{\"id\":\"3856\",\"type\":\"Line\"},\"selection_glyph\":null,\"view\":{\"id\":\"3858\",\"type\":\"CDSView\"}},\"id\":\"3857\",\"type\":\"GlyphRenderer\"},{\"attributes\":{\"line_alpha\":0.1,\"line_color\":\"#1f77b4\",\"line_width\":3,\"x\":{\"field\":\"x\"},\"y\":{\"field\":\"y\"}},\"id\":\"3438\",\"type\":\"Line\"},{\"attributes\":{\"data_source\":{\"id\":\"3436\",\"type\":\"ColumnDataSource\"},\"glyph\":{\"id\":\"3437\",\"type\":\"Line\"},\"hover_glyph\":null,\"muted_glyph\":null,\"nonselection_glyph\":{\"id\":\"3438\",\"type\":\"Line\"},\"selection_glyph\":null,\"view\":{\"id\":\"3440\",\"type\":\"CDSView\"}},\"id\":\"3439\",\"type\":\"GlyphRenderer\"},{\"attributes\":{\"line_color\":\"green\",\"line_width\":3,\"x\":{\"field\":\"x\"},\"y\":{\"field\":\"y\"}},\"id\":\"3437\",\"type\":\"Line\"},{\"attributes\":{\"line_color\":\"darkred\",\"line_width\":3,\"x\":{\"field\":\"x\"},\"y\":{\"field\":\"y\"}},\"id\":\"4363\",\"type\":\"Line\"},{\"attributes\":{},\"id\":\"3543\",\"type\":\"Selection\"},{\"attributes\":{\"callback\":null},\"id\":\"3417\",\"type\":\"DataRange1d\"},{\"attributes\":{},\"id\":\"3421\",\"type\":\"LinearScale\"},{\"attributes\":{\"callback\":null,\"data\":{\"x\":[0,1,2,3,4,5,6,7,8,9,10,11,12,13,14,15,16,17,18,19,20,21,22,23,24,25,26,27,28,29,30,31,32,33,34,35,36,37,38,39,40,41,42,43,44,45,46,47,48,49,50,51,52,53,54,55,56,57,58,59,60,61,62,63,64,65,66,67,68,69,70,71,72,73,74,75,76,77,78,79,80,81,82,83,84,85,86,87,88,89,90,91,92,93,94,95,96,97,98,99],\"y\":[2.0,2.0256536670491854,2.102311324226968,2.229068909963691,2.4044393918153424,2.6263818024998398,2.8923407725524237,3.199295489078761,3.5438167694740823,3.9221307434392525,4.330187492122515,4.763732903603001,5.218381970839058,5.689691781029117,6.173232521335033,6.66465495041059,7.15975295179992,7.654519986326661,8.145198487440368,8.628321486940076,9.100746009250017,9.559678021446661,10.002688965130377,10.427724117544034,10.833103226797963,11.217514034763967,11.57999943771189,11.919939137132417,12.23702670091829,12.531242989004182,12.80282689972114,13.052244366525368,13.280156483205307,13.48738756348685,13.67489385278108,13.843733510373058,13.995038374237105,14.12998791219619,14.249785656201263,14.355638314436147,14.448737661496596,14.530245222153335,14.601279690656877,14.662906966035033,14.716132634671812,14.761896694446456,14.801070289248976,14.834454207842295,14.862778895639416,14.886705730679308,14.906829324511039,14.9236806234154,14.937730604037363,14.949394378794805,14.959035549220223,14.966970668683413,14.973473698898031,14.978780366562146,14.983092346912516,14.986581219524876,14.989392158144062,14.99164733057279,14.99344899667903,14.994882302471485,14.99601777607282,14.996913537466037,14.997617238302661,14.998167751057588,14.998596628612066,14.998929356154797,14.999186417309145,14.999384195802854,14.999535732954659,14.999651359898495,14.999739221916212,14.999805710599178,14.999855817883365,14.999893424359003,14.999921532687432,14.999942455493134,14.999957965756531,14.9999694165224,14.999977835661868,14.999984000480655,14.99998849614568,14.999991761197736,14.999994122819153,14.999995824021074,14.999997044494235,14.99999791651877,14.999998537042728,14.999998976806056,14.999999287198595,14.999999505389418,14.999999658144533,14.999999764654488,14.99999983861856,14.999999889773626,14.999999925010284,14.9999999491838]},\"selected\":{\"id\":\"4484\",\"type\":\"Selection\"},\"selection_policy\":{\"id\":\"4485\",\"type\":\"UnionRenderers\"}},\"id\":\"4362\",\"type\":\"ColumnDataSource\"},{\"attributes\":{\"dimension\":1,\"ticker\":{\"id\":\"3429\",\"type\":\"BasicTicker\"}},\"id\":\"3432\",\"type\":\"Grid\"},{\"attributes\":{\"ticker\":{\"id\":\"3424\",\"type\":\"BasicTicker\"}},\"id\":\"3427\",\"type\":\"Grid\"},{\"attributes\":{\"source\":{\"id\":\"3436\",\"type\":\"ColumnDataSource\"}},\"id\":\"3440\",\"type\":\"CDSView\"},{\"attributes\":{},\"id\":\"3442\",\"type\":\"BasicTickFormatter\"},{\"attributes\":{},\"id\":\"4255\",\"type\":\"Selection\"},{\"attributes\":{\"axis_label\":\"Lag [m]\",\"formatter\":{\"id\":\"3442\",\"type\":\"BasicTickFormatter\"},\"ticker\":{\"id\":\"3424\",\"type\":\"BasicTicker\"}},\"id\":\"3423\",\"type\":\"LinearAxis\"},{\"attributes\":{\"source\":{\"id\":\"3854\",\"type\":\"ColumnDataSource\"}},\"id\":\"3858\",\"type\":\"CDSView\"},{\"attributes\":{\"line_color\":\"blue\",\"line_width\":3,\"x\":{\"field\":\"x\"},\"y\":{\"field\":\"y\"}},\"id\":\"3855\",\"type\":\"Line\"},{\"attributes\":{\"click_policy\":\"hide\",\"items\":[{\"id\":\"3447\",\"type\":\"LegendItem\"},{\"id\":\"3599\",\"type\":\"LegendItem\"},{\"id\":\"4380\",\"type\":\"LegendItem\"}],\"location\":\"bottom_right\",\"orientation\":\"horizontal\"},\"id\":\"3446\",\"type\":\"Legend\"},{\"attributes\":{\"line_alpha\":0.1,\"line_color\":\"#1f77b4\",\"line_width\":3,\"x\":{\"field\":\"x\"},\"y\":{\"field\":\"y\"}},\"id\":\"3856\",\"type\":\"Line\"},{\"attributes\":{\"data_source\":{\"id\":\"4138\",\"type\":\"ColumnDataSource\"},\"glyph\":{\"id\":\"4139\",\"type\":\"Line\"},\"hover_glyph\":null,\"muted_glyph\":null,\"nonselection_glyph\":{\"id\":\"4140\",\"type\":\"Line\"},\"selection_glyph\":null,\"view\":{\"id\":\"4142\",\"type\":\"CDSView\"}},\"id\":\"4141\",\"type\":\"GlyphRenderer\"},{\"attributes\":{},\"id\":\"3444\",\"type\":\"BasicTickFormatter\"},{\"attributes\":{\"active_drag\":\"auto\",\"active_inspect\":\"auto\",\"active_multi\":null,\"active_scroll\":\"auto\",\"active_tap\":\"auto\",\"tools\":[{\"id\":\"3433\",\"type\":\"HoverTool\"}]},\"id\":\"3434\",\"type\":\"Toolbar\"},{\"attributes\":{\"callback\":null,\"data\":{\"x\":[0,1,2,3,4,5,6,7,8,9,10,11,12,13,14,15,16,17,18,19,20,21,22,23,24,25,26,27,28,29,30,31,32,33,34,35,36,37,38,39,40,41,42,43,44,45,46,47,48,49,50,51,52,53,54,55,56,57,58,59,60,61,62,63,64,65,66,67,68,69,70,71,72,73,74,75,76,77,78,79,80,81,82,83,84,85,86,87,88,89,90,91,92,93,94,95,96,97,98,99],\"y\":[2.0,2.838409194588969,3.622746852441683,4.356500209986237,5.042931601259567,5.68509296254074,6.2858394015366885,6.847841891450271,7.373599146369586,7.865448730777657,8.325577452576304,8.756031085832607,9.15872346647612,9.535445001387135,9.887870628708225,10.21756726477125,10.52600077074964,10.814542470010213,11.084475245141372,11.336999241765541,11.573237204495552,11.794239468759116,12.000988630685484,12.194403915817034,12.37534526606948,12.544617163111697,12.702972205164242,12.851114453119374,12.989702560859687,13.119352703693064,13.240641317924036,13.354107663741914,13.46025622282055,13.559558941289659,13.652457328050138,13.739364417762733,13.820666607237637,13.896725373389772,13.967878880397983,14.034443483213659,14.09671513410358,14.154970698480552,14.209469185872166,14.26045290150068,14.30814852359402,14.352768111217769,14.394510047109016,14.433559919704019,14.47009134828124,14.504266754888413,14.536238086485719,14.56614749051576,14.594127946903997,14.620303859299568,14.644791608185198,14.667700068315403,14.68913109278353,14.709179965869847,14.727935826684108,14.745482065486131,14.761896694446456,14.777252694495543,14.791618339803607,14.80505750133379,14.817629930818242,14.829391526419768,14.84039458126011,14.850688015919937,14.86031759594417,14.869326135319763,14.877753686830562,14.885637720135628,14.89301328836274,14.89991318395778,14.906368084482928,14.912406689011888,14.918055845728576,14.923340671296573,14.92828466253011,14.932909800863019,14.937236650080191,14.941284447746035,14.945071190736426,14.948613715254458,14.951927771685721,14.955028094625959,14.957928468392403,14.960641788310113,14.96318011804576,14.965554743243768,14.967776221703337,14.969854430319362,14.971798608996007,14.973617401728156,14.975318895033407,14.976910653905453,14.978399755448738,14.979792820343905,14.981096042283934,14.982315215511877]},\"selected\":{\"id\":\"4255\",\"type\":\"Selection\"},\"selection_policy\":{\"id\":\"4256\",\"type\":\"UnionRenderers\"}},\"id\":\"4138\",\"type\":\"ColumnDataSource\"},{\"attributes\":{\"line_alpha\":0.1,\"line_color\":\"#1f77b4\",\"line_width\":3,\"x\":{\"field\":\"x\"},\"y\":{\"field\":\"y\"}},\"id\":\"4364\",\"type\":\"Line\"},{\"attributes\":{},\"id\":\"3419\",\"type\":\"LinearScale\"},{\"attributes\":{},\"id\":\"3968\",\"type\":\"UnionRenderers\"},{\"attributes\":{\"label\":{\"value\":\"spherical\"},\"renderers\":[{\"id\":\"3439\",\"type\":\"GlyphRenderer\"}]},\"id\":\"3447\",\"type\":\"LegendItem\"},{\"attributes\":{\"data_source\":{\"id\":\"3587\",\"type\":\"ColumnDataSource\"},\"glyph\":{\"id\":\"3588\",\"type\":\"Line\"},\"hover_glyph\":null,\"muted_glyph\":null,\"nonselection_glyph\":{\"id\":\"3589\",\"type\":\"Line\"},\"selection_glyph\":null,\"view\":{\"id\":\"3591\",\"type\":\"CDSView\"}},\"id\":\"3590\",\"type\":\"GlyphRenderer\"},{\"attributes\":{\"callback\":null,\"tooltips\":[[\"Lag\",\"@x\"],[\"Semi-variance\",\"@y\"]]},\"id\":\"3433\",\"type\":\"HoverTool\"},{\"attributes\":{},\"id\":\"3967\",\"type\":\"Selection\"},{\"attributes\":{},\"id\":\"4484\",\"type\":\"Selection\"},{\"attributes\":{\"line_alpha\":0.1,\"line_color\":\"#1f77b4\",\"x\":{\"field\":\"x\"},\"y\":{\"field\":\"y\"}},\"id\":\"3589\",\"type\":\"Line\"},{\"attributes\":{\"callback\":null,\"data\":{\"x\":[0,1,2,3,4,5,6,7,8,9,10,11,12,13,14,15,16,17,18,19,20,21,22,23,24,25,26,27,28,29,30,31,32,33,34,35,36,37,38,39,40,41,42,43,44,45,46,47,48,49,50,51,52,53,54,55,56,57,58,59,60,61,62,63,64,65,66,67,68,69,70,71,72,73,74,75,76,77,78,79,80,81,82,83,84,85,86,87,88,89,90,91,92,93,94,95,96,97,98,99],\"y\":[2.0,2.838409194588969,3.622746852441683,4.356500209986237,5.042931601259567,5.68509296254074,6.2858394015366885,6.847841891450271,7.373599146369586,7.865448730777657,8.325577452576304,8.756031085832607,9.15872346647612,9.535445001387135,9.887870628708225,10.21756726477125,10.52600077074964,10.814542470010213,11.084475245141372,11.336999241765541,11.573237204495552,11.794239468759116,12.000988630685484,12.194403915817034,12.37534526606948,12.544617163111697,12.702972205164242,12.851114453119374,12.989702560859687,13.119352703693064,13.240641317924036,13.354107663741914,13.46025622282055,13.559558941289659,13.652457328050138,13.739364417762733,13.820666607237637,13.896725373389772,13.967878880397983,14.034443483213659,14.09671513410358,14.154970698480552,14.209469185872166,14.26045290150068,14.30814852359402,14.352768111217769,14.394510047109016,14.433559919704019,14.47009134828124,14.504266754888413,14.536238086485719,14.56614749051576,14.594127946903997,14.620303859299568,14.644791608185198,14.667700068315403,14.68913109278353,14.709179965869847,14.727935826684108,14.745482065486131,14.761896694446456,14.777252694495543,14.791618339803607,14.80505750133379,14.817629930818242,14.829391526419768,14.84039458126011,14.850688015919937,14.86031759594417,14.869326135319763,14.877753686830562,14.885637720135628,14.89301328836274,14.89991318395778,14.906368084482928,14.912406689011888,14.918055845728576,14.923340671296573,14.92828466253011,14.932909800863019,14.937236650080191,14.941284447746035,14.945071190736426,14.948613715254458,14.951927771685721,14.955028094625959,14.957928468392403,14.960641788310113,14.96318011804576,14.965554743243768,14.967776221703337,14.969854430319362,14.971798608996007,14.973617401728156,14.975318895033407,14.976910653905453,14.978399755448738,14.979792820343905,14.981096042283934,14.982315215511877]},\"selected\":{\"id\":\"3967\",\"type\":\"Selection\"},\"selection_policy\":{\"id\":\"3968\",\"type\":\"UnionRenderers\"}},\"id\":\"3854\",\"type\":\"ColumnDataSource\"},{\"attributes\":{\"line_alpha\":0.1,\"line_color\":\"#1f77b4\",\"line_width\":3,\"x\":{\"field\":\"x\"},\"y\":{\"field\":\"y\"}},\"id\":\"4140\",\"type\":\"Line\"},{\"attributes\":{},\"id\":\"4485\",\"type\":\"UnionRenderers\"},{\"attributes\":{},\"id\":\"3424\",\"type\":\"BasicTicker\"},{\"attributes\":{\"label\":{\"value\":\"gaussian\"},\"renderers\":[{\"id\":\"4365\",\"type\":\"GlyphRenderer\"}]},\"id\":\"4380\",\"type\":\"LegendItem\"},{\"attributes\":{\"source\":{\"id\":\"3587\",\"type\":\"ColumnDataSource\"}},\"id\":\"3591\",\"type\":\"CDSView\"},{\"attributes\":{},\"id\":\"3544\",\"type\":\"UnionRenderers\"},{\"attributes\":{},\"id\":\"3697\",\"type\":\"Selection\"},{\"attributes\":{},\"id\":\"3698\",\"type\":\"UnionRenderers\"},{\"attributes\":{\"source\":{\"id\":\"4138\",\"type\":\"ColumnDataSource\"}},\"id\":\"4142\",\"type\":\"CDSView\"},{\"attributes\":{\"text\":\"theoretical model functions of r=45 C0=13 b=2\"},\"id\":\"3413\",\"type\":\"Title\"},{\"attributes\":{\"callback\":null,\"data\":{\"x\":[0,1,2,3,4,5,6,7,8,9,10,11,12,13,14,15,16,17,18,19,20,21,22,23,24,25,26,27,28,29,30,31,32,33,34,35,36,37,38,39,40,41,42,43,44,45,46,47,48,49,50,51,52,53,54,55,56,57,58,59,60,61,62,63,64,65,66,67,68,69,70,71,72,73,74,75,76,77,78,79,80,81,82,83,84,85,86,87,88,89,90,91,92,93,94,95,96,97,98,99],\"y\":[2.0,2.838409194588969,3.622746852441683,4.356500209986237,5.042931601259567,5.68509296254074,6.2858394015366885,6.847841891450271,7.373599146369586,7.865448730777657,8.325577452576304,8.756031085832607,9.15872346647612,9.535445001387135,9.887870628708225,10.21756726477125,10.52600077074964,10.814542470010213,11.084475245141372,11.336999241765541,11.573237204495552,11.794239468759116,12.000988630685484,12.194403915817034,12.37534526606948,12.544617163111697,12.702972205164242,12.851114453119374,12.989702560859687,13.119352703693064,13.240641317924036,13.354107663741914,13.46025622282055,13.559558941289659,13.652457328050138,13.739364417762733,13.820666607237637,13.896725373389772,13.967878880397983,14.034443483213659,14.09671513410358,14.154970698480552,14.209469185872166,14.26045290150068,14.30814852359402,14.352768111217769,14.394510047109016,14.433559919704019,14.47009134828124,14.504266754888413,14.536238086485719,14.56614749051576,14.594127946903997,14.620303859299568,14.644791608185198,14.667700068315403,14.68913109278353,14.709179965869847,14.727935826684108,14.745482065486131,14.761896694446456,14.777252694495543,14.791618339803607,14.80505750133379,14.817629930818242,14.829391526419768,14.84039458126011,14.850688015919937,14.86031759594417,14.869326135319763,14.877753686830562,14.885637720135628,14.89301328836274,14.89991318395778,14.906368084482928,14.912406689011888,14.918055845728576,14.923340671296573,14.92828466253011,14.932909800863019,14.937236650080191,14.941284447746035,14.945071190736426,14.948613715254458,14.951927771685721,14.955028094625959,14.957928468392403,14.960641788310113,14.96318011804576,14.965554743243768,14.967776221703337,14.969854430319362,14.971798608996007,14.973617401728156,14.975318895033407,14.976910653905453,14.978399755448738,14.979792820343905,14.981096042283934,14.982315215511877]},\"selected\":{\"id\":\"3697\",\"type\":\"Selection\"},\"selection_policy\":{\"id\":\"3698\",\"type\":\"UnionRenderers\"}},\"id\":\"3587\",\"type\":\"ColumnDataSource\"}],\"root_ids\":[\"3412\"]},\"title\":\"Bokeh Application\",\"version\":\"1.4.0\"}};\n",
       "  var render_items = [{\"docid\":\"ced3b113-b163-4c77-9d90-f570995dde09\",\"roots\":{\"3412\":\"599a8a89-211b-4277-9b15-0436bfb30281\"}}];\n",
       "  root.Bokeh.embed.embed_items_notebook(docs_json, render_items);\n",
       "\n",
       "  }\n",
       "  if (root.Bokeh !== undefined) {\n",
       "    embed_document(root);\n",
       "  } else {\n",
       "    var attempts = 0;\n",
       "    var timer = setInterval(function(root) {\n",
       "      if (root.Bokeh !== undefined) {\n",
       "        clearInterval(timer);\n",
       "        embed_document(root);\n",
       "      } else {\n",
       "        attempts++;\n",
       "        if (attempts > 100) {\n",
       "          clearInterval(timer);\n",
       "          console.log(\"Bokeh: ERROR: Unable to run BokehJS code because BokehJS library is missing\");\n",
       "        }\n",
       "      }\n",
       "    }, 10, root)\n",
       "  }\n",
       "})(window);"
      ],
      "application/vnd.bokehjs_exec.v0+json": ""
     },
     "metadata": {
      "application/vnd.bokehjs_exec.v0+json": {
       "id": "3412"
      }
     },
     "output_type": "display_data"
    }
   ],
   "source": [
    "show(models)"
   ]
  },
  {
   "cell_type": "markdown",
   "metadata": {
    "slideshow": {
     "slide_type": "slide"
    }
   },
   "source": [
    "## 6.4 Fitting"
   ]
  },
  {
   "cell_type": "markdown",
   "metadata": {
    "slideshow": {
     "slide_type": "fragment"
    }
   },
   "source": [
    "One of the most important steps in geostatistics, is fitting the theoretical model to empirical data from the data sample. If your model does not represent your data well, you will run into issues during interpolation. No matter how sophisticated or performant the algorithm is, it will fail."
   ]
  },
  {
   "cell_type": "markdown",
   "metadata": {
    "slideshow": {
     "slide_type": "subslide"
    }
   },
   "source": [
    "### 6.4.1 Manual fitting"
   ]
  },
  {
   "cell_type": "markdown",
   "metadata": {
    "slideshow": {
     "slide_type": "fragment"
    }
   },
   "source": [
    "The easiest, but in my opinion also most effective way to fit a model to data is to choose the parameters manually. Let's recall the experimental variogram:"
   ]
  },
  {
   "cell_type": "code",
   "execution_count": 68,
   "metadata": {
    "slideshow": {
     "slide_type": "fragment"
    }
   },
   "outputs": [
    {
     "data": {
      "text/html": [
       "\n",
       "\n",
       "\n",
       "\n",
       "\n",
       "\n",
       "  <div class=\"bk-root\" id=\"344ec2da-998c-49bd-abc2-1233f03e26d8\" data-root-id=\"1614\"></div>\n"
      ]
     },
     "metadata": {},
     "output_type": "display_data"
    },
    {
     "data": {
      "application/javascript": [
       "(function(root) {\n",
       "  function embed_document(root) {\n",
       "    \n",
       "  var docs_json = {\"6f822f31-e305-46ec-a5df-c91064c254b4\":{\"roots\":{\"references\":[{\"attributes\":{\"below\":[{\"id\":\"1625\",\"type\":\"LinearAxis\"}],\"center\":[{\"id\":\"1629\",\"type\":\"Grid\"},{\"id\":\"1634\",\"type\":\"Grid\"}],\"left\":[{\"id\":\"1630\",\"type\":\"LinearAxis\"}],\"plot_height\":400,\"plot_width\":700,\"renderers\":[{\"id\":\"1641\",\"type\":\"GlyphRenderer\"}],\"title\":{\"id\":\"1615\",\"type\":\"Title\"},\"toolbar\":{\"id\":\"1636\",\"type\":\"Toolbar\"},\"x_range\":{\"id\":\"1617\",\"type\":\"DataRange1d\"},\"x_scale\":{\"id\":\"1621\",\"type\":\"LinearScale\"},\"y_range\":{\"id\":\"1619\",\"type\":\"DataRange1d\"},\"y_scale\":{\"id\":\"1623\",\"type\":\"LinearScale\"}},\"id\":\"1614\",\"subtype\":\"Figure\",\"type\":\"Plot\"},{\"attributes\":{},\"id\":\"1623\",\"type\":\"LinearScale\"},{\"attributes\":{\"source\":{\"id\":\"1638\",\"type\":\"ColumnDataSource\"}},\"id\":\"1642\",\"type\":\"CDSView\"},{\"attributes\":{\"axis_label\":\"Semi-Variance\",\"formatter\":{\"id\":\"1676\",\"type\":\"BasicTickFormatter\"},\"ticker\":{\"id\":\"1631\",\"type\":\"BasicTicker\"}},\"id\":\"1630\",\"type\":\"LinearAxis\"},{\"attributes\":{\"axis_label\":\"lag [m]\",\"formatter\":{\"id\":\"1674\",\"type\":\"BasicTickFormatter\"},\"ticker\":{\"id\":\"1626\",\"type\":\"BasicTicker\"}},\"id\":\"1625\",\"type\":\"LinearAxis\"},{\"attributes\":{},\"id\":\"1678\",\"type\":\"Selection\"},{\"attributes\":{},\"id\":\"1621\",\"type\":\"LinearScale\"},{\"attributes\":{},\"id\":\"1626\",\"type\":\"BasicTicker\"},{\"attributes\":{\"dimension\":1,\"ticker\":{\"id\":\"1631\",\"type\":\"BasicTicker\"}},\"id\":\"1634\",\"type\":\"Grid\"},{\"attributes\":{\"callback\":null,\"tooltips\":[[\"Lag\",\"@x\"],[\"Semi-variance\",\"@y\"]]},\"id\":\"1635\",\"type\":\"HoverTool\"},{\"attributes\":{\"callback\":null},\"id\":\"1619\",\"type\":\"DataRange1d\"},{\"attributes\":{\"data_source\":{\"id\":\"1638\",\"type\":\"ColumnDataSource\"},\"glyph\":{\"id\":\"1639\",\"type\":\"Circle\"},\"hover_glyph\":null,\"muted_glyph\":null,\"nonselection_glyph\":{\"id\":\"1640\",\"type\":\"Circle\"},\"selection_glyph\":null,\"view\":{\"id\":\"1642\",\"type\":\"CDSView\"}},\"id\":\"1641\",\"type\":\"GlyphRenderer\"},{\"attributes\":{\"fill_color\":{\"value\":\"#6666CC\"},\"line_color\":{\"value\":\"#6600CC\"},\"size\":{\"units\":\"screen\",\"value\":8},\"x\":{\"field\":\"x\"},\"y\":{\"field\":\"y\"}},\"id\":\"1639\",\"type\":\"Circle\"},{\"attributes\":{\"fill_alpha\":{\"value\":0.1},\"fill_color\":{\"value\":\"#1f77b4\"},\"line_alpha\":{\"value\":0.1},\"line_color\":{\"value\":\"#1f77b4\"},\"size\":{\"units\":\"screen\",\"value\":8},\"x\":{\"field\":\"x\"},\"y\":{\"field\":\"y\"}},\"id\":\"1640\",\"type\":\"Circle\"},{\"attributes\":{\"text\":\"Empirical Variogram\"},\"id\":\"1615\",\"type\":\"Title\"},{\"attributes\":{\"active_drag\":\"auto\",\"active_inspect\":\"auto\",\"active_multi\":null,\"active_scroll\":\"auto\",\"active_tap\":\"auto\",\"tools\":[{\"id\":\"1635\",\"type\":\"HoverTool\"}]},\"id\":\"1636\",\"type\":\"Toolbar\"},{\"attributes\":{\"ticker\":{\"id\":\"1626\",\"type\":\"BasicTicker\"}},\"id\":\"1629\",\"type\":\"Grid\"},{\"attributes\":{},\"id\":\"1631\",\"type\":\"BasicTicker\"},{\"attributes\":{},\"id\":\"1679\",\"type\":\"UnionRenderers\"},{\"attributes\":{\"callback\":null},\"id\":\"1617\",\"type\":\"DataRange1d\"},{\"attributes\":{\"callback\":null,\"data\":{\"x\":{\"__ndarray__\":\"AAAAAAAAKUAAAAAAAAA5QAAAAAAAwEJAAAAAAAAASUAAAAAAAEBPQAAAAAAAwFJAAAAAAADgVUAAAAAAAABZQA==\",\"dtype\":\"float64\",\"shape\":[8]},\"y\":{\"__ndarray__\":\"9QoHo+Dgsj9BvsNvVXvQP90WvkmRAeE/LcjEF8qY7T8C5kgUzYDuP70GsPZ8U+k/Q2BgnSLg5j/wemMcuC/oPw==\",\"dtype\":\"float64\",\"shape\":[8]}},\"selected\":{\"id\":\"1678\",\"type\":\"Selection\"},\"selection_policy\":{\"id\":\"1679\",\"type\":\"UnionRenderers\"}},\"id\":\"1638\",\"type\":\"ColumnDataSource\"},{\"attributes\":{},\"id\":\"1676\",\"type\":\"BasicTickFormatter\"},{\"attributes\":{},\"id\":\"1674\",\"type\":\"BasicTickFormatter\"}],\"root_ids\":[\"1614\"]},\"title\":\"Bokeh Application\",\"version\":\"1.4.0\"}};\n",
       "  var render_items = [{\"docid\":\"6f822f31-e305-46ec-a5df-c91064c254b4\",\"roots\":{\"1614\":\"344ec2da-998c-49bd-abc2-1233f03e26d8\"}}];\n",
       "  root.Bokeh.embed.embed_items_notebook(docs_json, render_items);\n",
       "\n",
       "  }\n",
       "  if (root.Bokeh !== undefined) {\n",
       "    embed_document(root);\n",
       "  } else {\n",
       "    var attempts = 0;\n",
       "    var timer = setInterval(function(root) {\n",
       "      if (root.Bokeh !== undefined) {\n",
       "        clearInterval(timer);\n",
       "        embed_document(root);\n",
       "      } else {\n",
       "        attempts++;\n",
       "        if (attempts > 100) {\n",
       "          clearInterval(timer);\n",
       "          console.log(\"Bokeh: ERROR: Unable to run BokehJS code because BokehJS library is missing\");\n",
       "        }\n",
       "      }\n",
       "    }, 10, root)\n",
       "  }\n",
       "})(window);"
      ],
      "application/vnd.bokehjs_exec.v0+json": ""
     },
     "metadata": {
      "application/vnd.bokehjs_exec.v0+json": {
       "id": "1614"
      }
     },
     "output_type": "display_data"
    }
   ],
   "source": [
    "show(variogram)"
   ]
  },
  {
   "cell_type": "markdown",
   "metadata": {
    "slideshow": {
     "slide_type": "subslide"
    }
   },
   "source": [
    "I would say the `nugget=0`. I would select the sill around `sill=0.76` in order to choose a bit longer effective range at `range=70`. That will fit the first few bins better at the cost of the more distant lags. "
   ]
  },
  {
   "cell_type": "code",
   "execution_count": 77,
   "metadata": {
    "slideshow": {
     "slide_type": "fragment"
    }
   },
   "outputs": [],
   "source": [
    "r = 70\n",
    "C0 = 0.76\n",
    "b = 0\n",
    "\n",
    "y1 = [spherical(_, r, C0, b) for _ in x]\n",
    "y2 = [exponential(_, r, C0, b) for _ in x]\n",
    "y3 = [gaussian(_, r, C0, b) for _ in x]"
   ]
  },
  {
   "cell_type": "code",
   "execution_count": 78,
   "metadata": {
    "slideshow": {
     "slide_type": "skip"
    }
   },
   "outputs": [],
   "source": [
    "variogram.line(x, y1, color='green', line_width=2, legend_label='spherical')\n",
    "variogram.line(x, y2, color='blue', line_width=2, legend_label='exponential')\n",
    "variogram.line(x, y3, color='darkred', line_width=2, legend_label='gaussian')\n",
    "variogram.legend.location = 'bottom_right'\n",
    "variogram.legend.click_policy = 'hide'"
   ]
  },
  {
   "cell_type": "code",
   "execution_count": 79,
   "metadata": {
    "slideshow": {
     "slide_type": "subslide"
    }
   },
   "outputs": [
    {
     "data": {
      "text/html": [
       "\n",
       "\n",
       "\n",
       "\n",
       "\n",
       "\n",
       "  <div class=\"bk-root\" id=\"cf16086e-0bd0-4667-b090-6f1adac2ebd6\" data-root-id=\"5864\"></div>\n"
      ]
     },
     "metadata": {},
     "output_type": "display_data"
    },
    {
     "data": {
      "application/javascript": [
       "(function(root) {\n",
       "  function embed_document(root) {\n",
       "    \n",
       "  var docs_json = {\"e30e38f5-3186-4022-b2b9-989c9e545bd9\":{\"roots\":{\"references\":[{\"attributes\":{\"below\":[{\"id\":\"5875\",\"type\":\"LinearAxis\"}],\"center\":[{\"id\":\"5879\",\"type\":\"Grid\"},{\"id\":\"5884\",\"type\":\"Grid\"},{\"id\":\"6069\",\"type\":\"Legend\"}],\"left\":[{\"id\":\"5880\",\"type\":\"LinearAxis\"}],\"plot_height\":400,\"plot_width\":700,\"renderers\":[{\"id\":\"5891\",\"type\":\"GlyphRenderer\"},{\"id\":\"6060\",\"type\":\"GlyphRenderer\"},{\"id\":\"6438\",\"type\":\"GlyphRenderer\"},{\"id\":\"6701\",\"type\":\"GlyphRenderer\"}],\"title\":{\"id\":\"5865\",\"type\":\"Title\"},\"toolbar\":{\"id\":\"5886\",\"type\":\"Toolbar\"},\"x_range\":{\"id\":\"5867\",\"type\":\"DataRange1d\"},\"x_scale\":{\"id\":\"5871\",\"type\":\"LinearScale\"},\"y_range\":{\"id\":\"5869\",\"type\":\"DataRange1d\"},\"y_scale\":{\"id\":\"5873\",\"type\":\"LinearScale\"}},\"id\":\"5864\",\"subtype\":\"Figure\",\"type\":\"Plot\"},{\"attributes\":{},\"id\":\"6014\",\"type\":\"UnionRenderers\"},{\"attributes\":{\"axis_label\":\"Semi-Variance\",\"formatter\":{\"id\":\"6011\",\"type\":\"BasicTickFormatter\"},\"ticker\":{\"id\":\"5881\",\"type\":\"BasicTicker\"}},\"id\":\"5880\",\"type\":\"LinearAxis\"},{\"attributes\":{},\"id\":\"6311\",\"type\":\"Selection\"},{\"attributes\":{},\"id\":\"5873\",\"type\":\"LinearScale\"},{\"attributes\":{\"fill_color\":{\"value\":\"#6666CC\"},\"line_color\":{\"value\":\"#6600CC\"},\"size\":{\"units\":\"screen\",\"value\":8},\"x\":{\"field\":\"x\"},\"y\":{\"field\":\"y\"}},\"id\":\"5889\",\"type\":\"Circle\"},{\"attributes\":{\"data_source\":{\"id\":\"6057\",\"type\":\"ColumnDataSource\"},\"glyph\":{\"id\":\"6058\",\"type\":\"Line\"},\"hover_glyph\":null,\"muted_glyph\":null,\"nonselection_glyph\":{\"id\":\"6059\",\"type\":\"Line\"},\"selection_glyph\":null,\"view\":{\"id\":\"6061\",\"type\":\"CDSView\"}},\"id\":\"6060\",\"type\":\"GlyphRenderer\"},{\"attributes\":{\"callback\":null},\"id\":\"5869\",\"type\":\"DataRange1d\"},{\"attributes\":{},\"id\":\"6312\",\"type\":\"UnionRenderers\"},{\"attributes\":{\"text\":\"Empirical Variogram\"},\"id\":\"5865\",\"type\":\"Title\"},{\"attributes\":{\"label\":{\"value\":\"exponential\"},\"renderers\":[{\"id\":\"6438\",\"type\":\"GlyphRenderer\"}]},\"id\":\"6449\",\"type\":\"LegendItem\"},{\"attributes\":{\"callback\":null,\"data\":{\"x\":[0,1,2,3,4,5,6,7,8,9,10,11,12,13,14,15,16,17,18,19,20,21,22,23,24,25,26,27,28,29,30,31,32,33,34,35,36,37,38,39,40,41,42,43,44,45,46,47,48,49,50,51,52,53,54,55,56,57,58,59,60,61,62,63,64,65,66,67,68,69,70,71,72,73,74,75,76,77,78,79,80,81,82,83,84,85,86,87,88,89,90,91,92,93,94,95,96,97,98,99],\"y\":[0.0,0.01628460641399417,0.03256256559766764,0.04882723032069971,0.06507195335276969,0.08129008746355684,0.09747498542274052,0.11362000000000001,0.12971848396501456,0.14576379008746354,0.16174927113702622,0.1776682798833819,0.19351416909620991,0.2092802915451895,0.22496000000000002,0.24054664723032068,0.2560335860058309,0.2714141690962099,0.286681749271137,0.30182967930029153,0.31685131195335275,0.33174,0.34648909620991253,0.36109195335276967,0.37554192419825067,0.389832361516035,0.40395661807580174,0.41790804664723036,0.43168000000000006,0.4452658309037901,0.4586588921282798,0.47185253644314873,0.4848401166180758,0.49761498542274046,0.5101704956268222,0.5225,0.5345968513119533,0.5464544023323616,0.5580660058309038,0.5694250145772595,0.5805247813411079,0.5913586588921282,0.6019199999999999,0.6122021574344023,0.6221984839650146,0.6319023323615162,0.6413070553935861,0.6504060058309038,0.6591925364431486,0.6676599999999999,0.675801749271137,0.683611137026239,0.6910815160349855,0.6982062390670554,0.7049786588921283,0.7113921282798834,0.7174400000000002,0.7231156268221576,0.728412361516035,0.733323556851312,0.7378425655976676,0.7419627405247814,0.7456774344023324,0.7489800000000001,0.7518637900874636,0.7543221574344022,0.7563484548104955,0.7579360349854227,0.7590782507288629,0.7597684548104957,0.76,0.76,0.76,0.76,0.76,0.76,0.76,0.76,0.76,0.76,0.76,0.76,0.76,0.76,0.76,0.76,0.76,0.76,0.76,0.76,0.76,0.76,0.76,0.76,0.76,0.76,0.76,0.76,0.76,0.76]},\"selected\":{\"id\":\"6311\",\"type\":\"Selection\"},\"selection_policy\":{\"id\":\"6312\",\"type\":\"UnionRenderers\"}},\"id\":\"6057\",\"type\":\"ColumnDataSource\"},{\"attributes\":{},\"id\":\"6011\",\"type\":\"BasicTickFormatter\"},{\"attributes\":{\"callback\":null,\"data\":{\"x\":[0,1,2,3,4,5,6,7,8,9,10,11,12,13,14,15,16,17,18,19,20,21,22,23,24,25,26,27,28,29,30,31,32,33,34,35,36,37,38,39,40,41,42,43,44,45,46,47,48,49,50,51,52,53,54,55,56,57,58,59,60,61,62,63,64,65,66,67,68,69,70,71,72,73,74,75,76,77,78,79,80,81,82,83,84,85,86,87,88,89,90,91,92,93,94,95,96,97,98,99],\"y\":[0.0,0.0006201550043350502,0.0024775854142696343,0.0055632121558302485,0.00986198560774079,0.015353007871184703,0.02200970199576337,0.029800026244234386,0.03868673097907049,0.04862765528937752,0.05957606005372916,0.07148099375879577,0.08428768707018834,0.09793797188475122,0.11237072038567938,0.12752229947537105,0.14332703587689336,0.1597176871733414,0.17662591409422104,0.19398274945731023,0.21171905933038535,0.22976599218601643,0.2480554120798841,0.26652031218362227,0.28509520534139804,0.30371648868921264,0.32232277977085166,0.3408552219979665,0.35925775772728313,0.3774773676588543,0.3954642756891664,0.413172118775685,0.4305580817792953,0.44758299764277854,0.46421141363220336,0.48041162470970383,0.49615567541704236,0.5114193319267181,0.5261820261589871,0.5404267740674963,0.5541400703624477,0.5673117620681193,0.5799349034015875,0.5920055945126345,0.6035228066425841,0.6144881962441838,0.624905910558024,0.6347823870660471,0.6441261491424654,0.6529476001000057,0.6612588176881548,0.669073350943344,0.676406021122132,0.6832727282707193,0.6896902648007421,0.6956761372552694,0.7012483972630922,0.7064254824963372,0.7112260682685155,0.7156689302393737,0.7197728185311414,0.7235563434094433,0.7270378725424594,0.7302354397247698,0.7331666648383449,0.7358486847227013,0.738298094539448,0.740530899143208,0.7425624739109037,0.7444075344341686,0.746080114444562,0.7475935513175683,0.748960478488208,0.7501928241075482,0.7513018152745046,0.7522979871900709,0.7531911966004781,0.753990638920789,0.7547048684600709,0.7553418212026519,0.7559088396361423,0.7564126991550808,0.7568596356084745,0.7572553735994579,0.7576051551851822,0.7579137686643165,0.758185577177751,0.7584245468848257,0.7586342745123629,0.7588180141067112,0.7589787028497097,0.7591189858278325,0.7592412396697102,0.7593475949906903,0.759439957604131,0.7595200284777543,0.7595893224296951,0.7596491855729713,0.7597008115291022,0.7597452564416216]},\"selected\":{\"id\":\"6839\",\"type\":\"Selection\"},\"selection_policy\":{\"id\":\"6840\",\"type\":\"UnionRenderers\"}},\"id\":\"6698\",\"type\":\"ColumnDataSource\"},{\"attributes\":{\"callback\":null},\"id\":\"5867\",\"type\":\"DataRange1d\"},{\"attributes\":{\"source\":{\"id\":\"6698\",\"type\":\"ColumnDataSource\"}},\"id\":\"6702\",\"type\":\"CDSView\"},{\"attributes\":{\"ticker\":{\"id\":\"5876\",\"type\":\"BasicTicker\"}},\"id\":\"5879\",\"type\":\"Grid\"},{\"attributes\":{\"dimension\":1,\"ticker\":{\"id\":\"5881\",\"type\":\"BasicTicker\"}},\"id\":\"5884\",\"type\":\"Grid\"},{\"attributes\":{},\"id\":\"6572\",\"type\":\"Selection\"},{\"attributes\":{},\"id\":\"5871\",\"type\":\"LinearScale\"},{\"attributes\":{\"line_alpha\":0.1,\"line_color\":\"#1f77b4\",\"line_width\":2,\"x\":{\"field\":\"x\"},\"y\":{\"field\":\"y\"}},\"id\":\"6059\",\"type\":\"Line\"},{\"attributes\":{},\"id\":\"6009\",\"type\":\"BasicTickFormatter\"},{\"attributes\":{},\"id\":\"5881\",\"type\":\"BasicTicker\"},{\"attributes\":{\"data_source\":{\"id\":\"6435\",\"type\":\"ColumnDataSource\"},\"glyph\":{\"id\":\"6436\",\"type\":\"Line\"},\"hover_glyph\":null,\"muted_glyph\":null,\"nonselection_glyph\":{\"id\":\"6437\",\"type\":\"Line\"},\"selection_glyph\":null,\"view\":{\"id\":\"6439\",\"type\":\"CDSView\"}},\"id\":\"6438\",\"type\":\"GlyphRenderer\"},{\"attributes\":{\"callback\":null,\"data\":{\"x\":{\"__ndarray__\":\"AAAAAAAAKUAAAAAAAAA5QAAAAAAAwEJAAAAAAAAASUAAAAAAAEBPQAAAAAAAwFJAAAAAAADgVUAAAAAAAABZQA==\",\"dtype\":\"float64\",\"shape\":[8]},\"y\":{\"__ndarray__\":\"9QoHo+Dgsj9BvsNvVXvQP90WvkmRAeE/LcjEF8qY7T8C5kgUzYDuP70GsPZ8U+k/Q2BgnSLg5j/wemMcuC/oPw==\",\"dtype\":\"float64\",\"shape\":[8]}},\"selected\":{\"id\":\"6013\",\"type\":\"Selection\"},\"selection_policy\":{\"id\":\"6014\",\"type\":\"UnionRenderers\"}},\"id\":\"5888\",\"type\":\"ColumnDataSource\"},{\"attributes\":{\"source\":{\"id\":\"6057\",\"type\":\"ColumnDataSource\"}},\"id\":\"6061\",\"type\":\"CDSView\"},{\"attributes\":{\"line_color\":\"blue\",\"line_width\":2,\"x\":{\"field\":\"x\"},\"y\":{\"field\":\"y\"}},\"id\":\"6436\",\"type\":\"Line\"},{\"attributes\":{\"line_alpha\":0.1,\"line_color\":\"#1f77b4\",\"line_width\":2,\"x\":{\"field\":\"x\"},\"y\":{\"field\":\"y\"}},\"id\":\"6700\",\"type\":\"Line\"},{\"attributes\":{\"active_drag\":\"auto\",\"active_inspect\":\"auto\",\"active_multi\":null,\"active_scroll\":\"auto\",\"active_tap\":\"auto\",\"tools\":[{\"id\":\"5885\",\"type\":\"HoverTool\"}]},\"id\":\"5886\",\"type\":\"Toolbar\"},{\"attributes\":{},\"id\":\"5876\",\"type\":\"BasicTicker\"},{\"attributes\":{\"source\":{\"id\":\"6435\",\"type\":\"ColumnDataSource\"}},\"id\":\"6439\",\"type\":\"CDSView\"},{\"attributes\":{},\"id\":\"6839\",\"type\":\"Selection\"},{\"attributes\":{\"fill_alpha\":{\"value\":0.1},\"fill_color\":{\"value\":\"#1f77b4\"},\"line_alpha\":{\"value\":0.1},\"line_color\":{\"value\":\"#1f77b4\"},\"size\":{\"units\":\"screen\",\"value\":8},\"x\":{\"field\":\"x\"},\"y\":{\"field\":\"y\"}},\"id\":\"5890\",\"type\":\"Circle\"},{\"attributes\":{},\"id\":\"6013\",\"type\":\"Selection\"},{\"attributes\":{\"callback\":null,\"tooltips\":[[\"Lag\",\"@x\"],[\"Semi-variance\",\"@y\"]]},\"id\":\"5885\",\"type\":\"HoverTool\"},{\"attributes\":{\"line_color\":\"green\",\"line_width\":2,\"x\":{\"field\":\"x\"},\"y\":{\"field\":\"y\"}},\"id\":\"6058\",\"type\":\"Line\"},{\"attributes\":{\"callback\":null,\"data\":{\"x\":[0,1,2,3,4,5,6,7,8,9,10,11,12,13,14,15,16,17,18,19,20,21,22,23,24,25,26,27,28,29,30,31,32,33,34,35,36,37,38,39,40,41,42,43,44,45,46,47,48,49,50,51,52,53,54,55,56,57,58,59,60,61,62,63,64,65,66,67,68,69,70,71,72,73,74,75,76,77,78,79,80,81,82,83,84,85,86,87,88,89,90,91,92,93,94,95,96,97,98,99],\"y\":[0.0,0.03188333431193793,0.062429106772761644,0.09169343045044748,0.11973006437125376,0.14659051227590414,0.17232411723277513,0.19697815228189441,0.22059790727626463,0.24322677208004068,0.26490631627639777,0.28567636553151415,0.30557507475495127,0.3246389981908266,0.3429031565685399,0.36040110143640736,0.37716497679638794,0.39322557815312387,0.40861240908577073,0.42335373544654037,0.437476637285518,0.4510070585971447,0.4639698549797451,0.4763888392956559,0.48828682541583146,0.4996856701292854,0.5106063132943592,0.5210688163055731,0.5310923989467263,0.5406954746979439,0.5498956845615312,0.5587099294687753,0.5671544013272234,0.5752446127654733,0.5829954256301181,0.5904210782871934,0.597535211778282,0.6043508948793231,0.6108806481081606,0.6171364667249329,0.6231298427675562,0.6288717861627793,0.6343728449515942,0.6396431246661547,0.6446923068937985,0.6495296670622766,0.6541640914788615,0.658604093654634,0.6628578299439384,0.6669331145277337,0.6708374337683695,0.6745779599621502,0.6781615645149588,0.681594830565137,0.6848840650768159,0.6880353104259075,0.6910543555000466,0.6939467463328677,0.6967177962921577,0.6993725958405962,0.7019160218870163,0.704352746745363,0.7066872467178087,0.7089238103177902,0.7110665461480769,0.7131193904483383,0.7150861143260792,0.7169703306842236,0.718775500858075,0.7205049409738437,0.7221618280404234,0.7237492057856073,0.7252699902474635,0.7267269751311438,0.7281228369409638,0.7294601398971841,0.7307413406465234,0.7319687927750577,0.7331447511317946,0.7342713759708673,0.7353507369199554,0.7363848167822238,0.7373755151787633,0.738324652038225,0.7392339709400577,0.7401051423174912,0.740939766526149,0.7417393767839258,0.7425054419875342,0.7432393694108909,0.7439425072903008,0.7446161473011887,0.745261526930928,0.7458798317521236,0.7464721976005286,0.7470397126615921,0.7475834194694726,0.7481043168221909,0.7486033616164369,0.7490814706054046]},\"selected\":{\"id\":\"6572\",\"type\":\"Selection\"},\"selection_policy\":{\"id\":\"6573\",\"type\":\"UnionRenderers\"}},\"id\":\"6435\",\"type\":\"ColumnDataSource\"},{\"attributes\":{\"data_source\":{\"id\":\"6698\",\"type\":\"ColumnDataSource\"},\"glyph\":{\"id\":\"6699\",\"type\":\"Line\"},\"hover_glyph\":null,\"muted_glyph\":null,\"nonselection_glyph\":{\"id\":\"6700\",\"type\":\"Line\"},\"selection_glyph\":null,\"view\":{\"id\":\"6702\",\"type\":\"CDSView\"}},\"id\":\"6701\",\"type\":\"GlyphRenderer\"},{\"attributes\":{\"line_alpha\":0.1,\"line_color\":\"#1f77b4\",\"line_width\":2,\"x\":{\"field\":\"x\"},\"y\":{\"field\":\"y\"}},\"id\":\"6437\",\"type\":\"Line\"},{\"attributes\":{\"data_source\":{\"id\":\"5888\",\"type\":\"ColumnDataSource\"},\"glyph\":{\"id\":\"5889\",\"type\":\"Circle\"},\"hover_glyph\":null,\"muted_glyph\":null,\"nonselection_glyph\":{\"id\":\"5890\",\"type\":\"Circle\"},\"selection_glyph\":null,\"view\":{\"id\":\"5892\",\"type\":\"CDSView\"}},\"id\":\"5891\",\"type\":\"GlyphRenderer\"},{\"attributes\":{\"label\":{\"value\":\"spherical\"},\"renderers\":[{\"id\":\"6060\",\"type\":\"GlyphRenderer\"}]},\"id\":\"6190\",\"type\":\"LegendItem\"},{\"attributes\":{\"line_color\":\"darkred\",\"line_width\":2,\"x\":{\"field\":\"x\"},\"y\":{\"field\":\"y\"}},\"id\":\"6699\",\"type\":\"Line\"},{\"attributes\":{},\"id\":\"6573\",\"type\":\"UnionRenderers\"},{\"attributes\":{\"click_policy\":\"mute\",\"items\":[{\"id\":\"6190\",\"type\":\"LegendItem\"},{\"id\":\"6449\",\"type\":\"LegendItem\"},{\"id\":\"6714\",\"type\":\"LegendItem\"}],\"location\":\"bottom_right\"},\"id\":\"6069\",\"type\":\"Legend\"},{\"attributes\":{\"source\":{\"id\":\"5888\",\"type\":\"ColumnDataSource\"}},\"id\":\"5892\",\"type\":\"CDSView\"},{\"attributes\":{},\"id\":\"6840\",\"type\":\"UnionRenderers\"},{\"attributes\":{\"label\":{\"value\":\"gaussian\"},\"renderers\":[{\"id\":\"6701\",\"type\":\"GlyphRenderer\"}]},\"id\":\"6714\",\"type\":\"LegendItem\"},{\"attributes\":{\"axis_label\":\"lag [m]\",\"formatter\":{\"id\":\"6009\",\"type\":\"BasicTickFormatter\"},\"ticker\":{\"id\":\"5876\",\"type\":\"BasicTicker\"}},\"id\":\"5875\",\"type\":\"LinearAxis\"}],\"root_ids\":[\"5864\"]},\"title\":\"Bokeh Application\",\"version\":\"1.4.0\"}};\n",
       "  var render_items = [{\"docid\":\"e30e38f5-3186-4022-b2b9-989c9e545bd9\",\"roots\":{\"5864\":\"cf16086e-0bd0-4667-b090-6f1adac2ebd6\"}}];\n",
       "  root.Bokeh.embed.embed_items_notebook(docs_json, render_items);\n",
       "\n",
       "  }\n",
       "  if (root.Bokeh !== undefined) {\n",
       "    embed_document(root);\n",
       "  } else {\n",
       "    var attempts = 0;\n",
       "    var timer = setInterval(function(root) {\n",
       "      if (root.Bokeh !== undefined) {\n",
       "        clearInterval(timer);\n",
       "        embed_document(root);\n",
       "      } else {\n",
       "        attempts++;\n",
       "        if (attempts > 100) {\n",
       "          clearInterval(timer);\n",
       "          console.log(\"Bokeh: ERROR: Unable to run BokehJS code because BokehJS library is missing\");\n",
       "        }\n",
       "      }\n",
       "    }, 10, root)\n",
       "  }\n",
       "})(window);"
      ],
      "application/vnd.bokehjs_exec.v0+json": ""
     },
     "metadata": {
      "application/vnd.bokehjs_exec.v0+json": {
       "id": "5864"
      }
     },
     "output_type": "display_data"
    }
   ],
   "source": [
    "show(variogram)"
   ]
  },
  {
   "cell_type": "markdown",
   "metadata": {
    "slideshow": {
     "slide_type": "subslide"
    }
   },
   "source": [
    "Obviously, the Gaussian model is describing the first few bins very well, if we accept he remaining bins to be fitted less precisely. \n",
    "The spherical model is more or less ok, the exponential is quite off and not describing the data well."
   ]
  },
  {
   "cell_type": "markdown",
   "metadata": {
    "slideshow": {
     "slide_type": "subslide"
    }
   },
   "source": [
    "### 6.4.2 Automatic fitting"
   ]
  },
  {
   "cell_type": "markdown",
   "metadata": {
    "slideshow": {
     "slide_type": "fragment"
    }
   },
   "source": [
    "The field of automatic fitting is imense. And it is by no means bound to the field of geostatistics. \n",
    "\n",
    "What we are actually trying to achieve is a **regression**, we want to fit a function to an independent variable to predict the dependent variable as good as possible. There are hundreds of methods out there, very specialized and very generalized ones."
   ]
  },
  {
   "cell_type": "markdown",
   "metadata": {
    "slideshow": {
     "slide_type": "subslide"
    }
   },
   "source": [
    "We will implement a **least squares** algorithm, because it is easy to implement and easy to understand, while still being fairly performant for our usecase."
   ]
  },
  {
   "cell_type": "markdown",
   "metadata": {
    "slideshow": {
     "slide_type": "fragment"
    }
   },
   "source": [
    "We will implement a brute force version thereof. "
   ]
  },
  {
   "cell_type": "markdown",
   "metadata": {
    "slideshow": {
     "slide_type": "fragment"
    }
   },
   "source": [
    "The basic idea is to find the *optimal* parameter set from a given *parameter space*, to predict the dependent variable with as little error as possible. \n",
    "\n",
    "Or in other words: we need an *objective function* that will give us the error of the function, when the actual value is known:"
   ]
  },
  {
   "cell_type": "markdown",
   "metadata": {
    "slideshow": {
     "slide_type": "subslide"
    }
   },
   "source": [
    "I like the term *loss function* as well, which is more common in the machine learning world. \n",
    "\n",
    "Now, with that function the optimization problem can be solved by minimizing the loss function. We use the one combination of **range** and **sill**, that yields the smallest root mean squared error, or RMSE. \n",
    "\n",
    "$$ RMSE = \\sqrt{\\frac{\\sum_{i=1}^N (y^* - y)^2}{N}} $$\n",
    "\n",
    "where $y$ would be the observation and $y^*$ the prediction for the same value of $x$."
   ]
  },
  {
   "cell_type": "code",
   "execution_count": 90,
   "metadata": {
    "slideshow": {
     "slide_type": "fragment"
    }
   },
   "outputs": [],
   "source": [
    "def loss(func, bins, gamma, _range, _sill):\n",
    "    mod = [func(h, _range, _sill, 0) for h in bins]\n",
    "    dev = [(m - o)**2 for m,o in zip(mod, gamma)]\n",
    "    \n",
    "    return np.sqrt(sum(dev) / len(dev))\n"
   ]
  },
  {
   "cell_type": "markdown",
   "metadata": {
    "slideshow": {
     "slide_type": "subslide"
    }
   },
   "source": [
    "There are a few things to consider:\n",
    "\n",
    "* *func* would be the function we try to fit: `spherical`, `exponential` or `gaussian` in our case\n",
    "* bins and gamma would better be called `x` and `y` in a general least squares implementation"
   ]
  },
  {
   "cell_type": "markdown",
   "metadata": {
    "slideshow": {
     "slide_type": "fragment"
    }
   },
   "source": [
    "* we will **not** find the optimal *nugget*, as we already know that's `nugget=0`. \n",
    "\n",
    "The least squares will of course with any number of parameters (in theory)"
   ]
  },
  {
   "cell_type": "markdown",
   "metadata": {
    "slideshow": {
     "slide_type": "subslide"
    }
   },
   "source": [
    "The only missing thing now are the parameters to plug in. Which values should be use?"
   ]
  },
  {
   "cell_type": "markdown",
   "metadata": {
    "slideshow": {
     "slide_type": "fragment"
    }
   },
   "source": [
    "This is where *brute force*, sets in. We will try **all** values. "
   ]
  },
  {
   "cell_type": "markdown",
   "metadata": {
    "slideshow": {
     "slide_type": "fragment"
    }
   },
   "source": [
    "That's in most cases not really a clever idea. But in the case of variogram fitting, we can dramatically limit the *parameter space*:\n",
    "\n",
    "* range, sill and nugget cannot be `< 0` as $\\gamma(h) >= 0$ by definition"
   ]
  },
  {
   "cell_type": "markdown",
   "metadata": {
    "slideshow": {
     "slide_type": "fragment"
    }
   },
   "source": [
    "* Our observations have a spatial extent. And usually we used a maximum lag (`100` in our case). This is the natural **upper limit** for the **range**."
   ]
  },
  {
   "cell_type": "markdown",
   "metadata": {
    "slideshow": {
     "slide_type": "fragment"
    }
   },
   "source": [
    "* For the sill, we can use the sample variance as an upper limit. Think about it: As long as we assume that the sample is somehow representative for the population, predicting a semi-variance which is much larger than the total sample variance does not really make sense. We can i.e. use `2 x Var`. Much more will just be an effect of small sample sizes in the respective bin "
   ]
  },
  {
   "cell_type": "markdown",
   "metadata": {
    "slideshow": {
     "slide_type": "subslide"
    }
   },
   "source": [
    "Finally, the step between two parameters can be limited as well. If we bin distances e.g. like:"
   ]
  },
  {
   "cell_type": "code",
   "execution_count": 124,
   "metadata": {},
   "outputs": [
    {
     "data": {
      "text/plain": [
       "array([ 12.5,  25. ,  37.5,  50. ,  62.5,  75. ,  87.5, 100. ])"
      ]
     },
     "execution_count": 124,
     "metadata": {},
     "output_type": "execute_result"
    }
   ],
   "source": [
    "V.bins.round(1)"
   ]
  },
  {
   "cell_type": "markdown",
   "metadata": {},
   "source": [
    "Why would be test the range parameter `16.01, 16.02, 16.03` and so on?\n",
    "\n",
    "We can easily split up both parameter ranges into 100 chunks"
   ]
  },
  {
   "cell_type": "code",
   "execution_count": 125,
   "metadata": {
    "slideshow": {
     "slide_type": "subslide"
    }
   },
   "outputs": [
    {
     "name": "stdout",
     "output_type": "stream",
     "text": [
      "Testing 10000 parameter combinations\n"
     ]
    }
   ],
   "source": [
    "# 0 <= range <= 100\n",
    "r_test = list(range(100))    \n",
    "\n",
    "# 0 <= sill <= sample variance\n",
    "s_test = [(_ / 100) * 2*sample.z.var() for _ in range(100)]\n",
    "\n",
    "# parameter 'mesh'-grid\n",
    "params = []\n",
    "for _r in r_test:\n",
    "    for _s in s_test:\n",
    "        params.append((_r, _s, ))\n",
    "print('Testing %d parameter combinations' % len(params))"
   ]
  },
  {
   "cell_type": "markdown",
   "metadata": {},
   "source": [
    "10000 combinations is something that our computer can easily handle. Time to brute force!"
   ]
  },
  {
   "cell_type": "code",
   "execution_count": 126,
   "metadata": {
    "slideshow": {
     "slide_type": "subslide"
    }
   },
   "outputs": [
    {
     "name": "stderr",
     "output_type": "stream",
     "text": [
      "/home/mirko/miniconda3/envs/py37/lib/python3.7/site-packages/ipykernel_launcher.py:4: RuntimeWarning: divide by zero encountered in double_scalars\n",
      "  after removing the cwd from sys.path.\n"
     ]
    },
    {
     "name": "stdout",
     "output_type": "stream",
     "text": [
      "Fitting took 1.252 seconds\n"
     ]
    }
   ],
   "source": [
    "result = []\n",
    "\n",
    "t1 = time()\n",
    "for _range in r_test:\n",
    "    r_result = []\n",
    "    for _sill in s_test:\n",
    "        r_result.append(loss(gaussian, V.bins, V.experimental, _range, _sill))\n",
    "    result.append(r_result)\n",
    "t2 = time()\n",
    "print('Fitting took %.3f seconds' % (t2 - t1))"
   ]
  },
  {
   "cell_type": "code",
   "execution_count": 131,
   "metadata": {
    "slideshow": {
     "slide_type": "skip"
    }
   },
   "outputs": [],
   "source": [
    "optim = figure(\n",
    "    width=500, height=500, tools=['hover'], tooltips=[('RMSE', '@image')],\n",
    "    x_axis_label='sill', y_axis_label='range',\n",
    "    x_range=(0, 2*sample.z.var()), y_range=(0,100)\n",
    ")\n",
    "mapper = LinearColorMapper(palette='RdYlGn8', low=0.1, high=0.7)\n",
    "optim.image([result], x=0, y=0, dw=2*sample.z.var(), dh=100, color_mapper=mapper)\n",
    "optim.add_layout(ColorBar(color_mapper=mapper, location=(0,0)), 'right')"
   ]
  },
  {
   "cell_type": "code",
   "execution_count": 132,
   "metadata": {
    "slideshow": {
     "slide_type": "subslide"
    }
   },
   "outputs": [
    {
     "data": {
      "text/html": [
       "\n",
       "\n",
       "\n",
       "\n",
       "\n",
       "\n",
       "  <div class=\"bk-root\" id=\"eb5eec2d-3e12-4058-a22b-7fdb1856e1ab\" data-root-id=\"11856\"></div>\n"
      ]
     },
     "metadata": {},
     "output_type": "display_data"
    },
    {
     "data": {
      "application/javascript": [
       "(function(root) {\n",
       "  function embed_document(root) {\n",
       "    \n",
       "  var docs_json = {\"de378ccb-16b0-467a-87e6-f3bdb6259a40\":{\"roots\":{\"references\":[{\"attributes\":{\"below\":[{\"id\":\"11865\",\"type\":\"LinearAxis\"}],\"center\":[{\"id\":\"11869\",\"type\":\"Grid\"},{\"id\":\"11874\",\"type\":\"Grid\"}],\"left\":[{\"id\":\"11870\",\"type\":\"LinearAxis\"}],\"plot_height\":500,\"plot_width\":500,\"renderers\":[{\"id\":\"11882\",\"type\":\"GlyphRenderer\"}],\"right\":[{\"id\":\"11884\",\"type\":\"ColorBar\"}],\"title\":{\"id\":\"12157\",\"type\":\"Title\"},\"toolbar\":{\"id\":\"11876\",\"type\":\"Toolbar\"},\"x_range\":{\"id\":\"11857\",\"type\":\"Range1d\"},\"x_scale\":{\"id\":\"11861\",\"type\":\"LinearScale\"},\"y_range\":{\"id\":\"11859\",\"type\":\"Range1d\"},\"y_scale\":{\"id\":\"11863\",\"type\":\"LinearScale\"}},\"id\":\"11856\",\"subtype\":\"Figure\",\"type\":\"Plot\"},{\"attributes\":{\"high\":0.7,\"low\":0.1,\"palette\":[\"#1a9850\",\"#66bd63\",\"#a6d96a\",\"#d9ef8b\",\"#fee08b\",\"#fdae61\",\"#f46d43\",\"#d73027\"]},\"id\":\"11878\",\"type\":\"LinearColorMapper\"},{\"attributes\":{\"color_mapper\":{\"id\":\"11878\",\"type\":\"LinearColorMapper\"},\"dh\":{\"units\":\"data\",\"value\":100},\"dw\":{\"units\":\"data\",\"value\":1.3972811658555098},\"image\":{\"field\":\"image\"},\"x\":{\"value\":0},\"y\":{\"value\":0}},\"id\":\"11880\",\"type\":\"Image\"},{\"attributes\":{\"callback\":null,\"end\":100},\"id\":\"11859\",\"type\":\"Range1d\"},{\"attributes\":{\"callback\":null,\"tooltips\":[[\"RMSE\",\"@image\"]]},\"id\":\"11875\",\"type\":\"HoverTool\"},{\"attributes\":{},\"id\":\"12158\",\"type\":\"BasicTickFormatter\"},{\"attributes\":{\"callback\":null,\"data\":{\"image\":[[[0.6916412100633202,0.6790334573356851,0.6664801481184153,0.6539844175681303,0.6415496301450102,0.6291793992080185,0.6168776084180863,0.6046484351081736,0.5924963757873962,0.5804262739529689,0.5684433503876574,0.5565532361205477,0.544762008223641,0.533076228604076,0.5215029859290615,0.5100499407846252,0.4987253741160192,0.487538238922054,0.4764982150717496,0.4656157669722963,0.45490220363406353,0.44436974044183647,0.43403156164137907,0.4239018821763525,0.4139960070529004,0.40433038586053227,0.39492265943574273,0.38579169492455806,0.37695760469980943,0.3684417437541018,0.3602666793798721,0.35245612625336337,0.34503483958427295,0.33802845893748945,0.3314632958679648,0.32536605983867595,0.31976351920368684,0.31468209746250153,0.310147409540307,0.306183748355489,0.3028135380077364,0.30005677592048996,0.2979304913601935,0.2964482509979515,0.2956197427247603,0.2954504662187105,0.2959415527098962,0.2970897274951223,0.29888741806439206,0.3013229996242607,0.30438115982960695,0.30804335692749824,0.3122883410670311,0.31709270744835105,0.32243145193784006,0.3282785040356018,0.3346072177288657,0.34139080689430307,0.3486027177732914,0.356216936117863,0.3642082306136988,0.37255233705831947,0.38122608958433185,0.3902075061338483,0.39947583561202354,0.40901157387529086,0.4187964551202069,0.4288134244748541,0.43904659676364904,0.44948120559254073,0.4601035461321684,0.4709009142878786,0.48186154434880396,0.4929745467045532,0.5042298468022257,0.5156181261797562,0.5271307661437918,0.5387597944509687,0.5504978351907025,0.5623380619464955,0.5742741542235054,0.5863002570661171,0.5984109437449806,0.6106011813639184,0.6228662992196303,0.6352019597383137,0.6476041318108783,0.6600690663505899,0.6725932739023253,0.6851735041401179,0.6978067270985133,0.7104901159928408,0.7232210314934108,0.7359970073285329,0.7488157371009313,0.7616750622114105,0.7745729607924563,0.787507537562733,0.8004770145211774,0.8134797224065552],[0.6916412100633202,0.6790334573356851,0.6664801481184153,0.6539844175681303,0.6415496301450102,0.6291793992080185,0.6168776084180863,0.6046484351081736,0.5924963757873962,0.5804262739529689,0.5684433503876574,0.5565532361205477,0.544762008223641,0.533076228604076,0.5215029859290615,0.5100499407846252,0.4987253741160192,0.487538238922054,0.4764982150717496,0.4656157669722963,0.45490220363406353,0.44436974044183647,0.43403156164137907,0.4239018821763525,0.4139960070529004,0.40433038586053227,0.39492265943574273,0.38579169492455806,0.37695760469980943,0.3684417437541018,0.3602666793798721,0.35245612625336337,0.34503483958427295,0.33802845893748945,0.3314632958679648,0.32536605983867595,0.31976351920368684,0.31468209746250153,0.310147409540307,0.306183748355489,0.3028135380077364,0.30005677592048996,0.2979304913601935,0.2964482509979515,0.2956197427247603,0.2954504662187105,0.2959415527098962,0.2970897274951223,0.29888741806439206,0.3013229996242607,0.30438115982960695,0.30804335692749824,0.3122883410670311,0.31709270744835105,0.32243145193784006,0.3282785040356018,0.3346072177288657,0.34139080689430307,0.3486027177732914,0.356216936117863,0.3642082306136988,0.37255233705831947,0.38122608958433185,0.3902075061338483,0.39947583561202354,0.40901157387529086,0.4187964551202069,0.4288134244748541,0.43904659676364904,0.44948120559254073,0.4601035461321684,0.4709009142878786,0.48186154434880396,0.4929745467045532,0.5042298468022257,0.5156181261797562,0.5271307661437918,0.5387597944509687,0.5504978351907025,0.5623380619464955,0.5742741542235054,0.5863002570661171,0.5984109437449806,0.6106011813639184,0.6228662992196303,0.6352019597383137,0.6476041318108783,0.6600690663505899,0.6725932739023253,0.6851735041401179,0.6978067270985133,0.7104901159928408,0.7232210314934108,0.7359970073285329,0.7488157371009313,0.7616750622114105,0.7745729607924563,0.787507537562733,0.8004770145211774,0.8134797224065552],[0.6916412100633202,0.6790334573356851,0.6664801481184153,0.6539844175681303,0.6415496301450102,0.6291793992080185,0.6168776084180863,0.6046484351081736,0.5924963757873962,0.5804262739529689,0.5684433503876574,0.5565532361205477,0.544762008223641,0.533076228604076,0.5215029859290615,0.5100499407846252,0.4987253741160192,0.487538238922054,0.4764982150717496,0.4656157669722963,0.45490220363406353,0.44436974044183647,0.43403156164137907,0.4239018821763525,0.4139960070529004,0.40433038586053227,0.39492265943574273,0.38579169492455806,0.37695760469980943,0.3684417437541018,0.3602666793798721,0.35245612625336337,0.34503483958427295,0.33802845893748945,0.3314632958679648,0.32536605983867595,0.31976351920368684,0.31468209746250153,0.310147409540307,0.306183748355489,0.3028135380077364,0.30005677592048996,0.2979304913601935,0.2964482509979515,0.2956197427247603,0.2954504662187105,0.2959415527098962,0.2970897274951223,0.29888741806439206,0.3013229996242607,0.30438115982960695,0.30804335692749824,0.3122883410670311,0.31709270744835105,0.32243145193784006,0.3282785040356018,0.3346072177288657,0.34139080689430307,0.3486027177732914,0.356216936117863,0.3642082306136988,0.37255233705831947,0.38122608958433185,0.3902075061338483,0.39947583561202354,0.40901157387529086,0.4187964551202069,0.4288134244748541,0.43904659676364904,0.44948120559254073,0.4601035461321684,0.4709009142878786,0.48186154434880396,0.4929745467045532,0.5042298468022257,0.5156181261797562,0.5271307661437918,0.5387597944509687,0.5504978351907025,0.5623380619464955,0.5742741542235054,0.5863002570661171,0.5984109437449806,0.6106011813639184,0.6228662992196303,0.6352019597383137,0.6476041318108783,0.6600690663505899,0.6725932739023253,0.6851735041401179,0.6978067270985133,0.7104901159928408,0.7232210314934108,0.7359970073285329,0.7488157371009313,0.7616750622114105,0.7745729607924563,0.787507537562733,0.8004770145211774,0.8134797224065552],[0.6916412100633202,0.6790334573356851,0.6664801481184153,0.6539844175681303,0.6415496301450102,0.6291793992080185,0.6168776084180863,0.6046484351081736,0.5924963757873962,0.5804262739529689,0.5684433503876574,0.5565532361205477,0.544762008223641,0.533076228604076,0.5215029859290615,0.5100499407846252,0.4987253741160192,0.487538238922054,0.4764982150717496,0.4656157669722963,0.45490220363406353,0.44436974044183647,0.43403156164137907,0.4239018821763525,0.4139960070529004,0.40433038586053227,0.39492265943574273,0.38579169492455806,0.37695760469980943,0.3684417437541018,0.3602666793798721,0.35245612625336337,0.34503483958427295,0.33802845893748945,0.3314632958679648,0.32536605983867595,0.31976351920368684,0.31468209746250153,0.310147409540307,0.306183748355489,0.3028135380077364,0.30005677592048996,0.2979304913601935,0.2964482509979515,0.2956197427247603,0.2954504662187105,0.2959415527098962,0.2970897274951223,0.29888741806439206,0.3013229996242607,0.30438115982960695,0.30804335692749824,0.3122883410670311,0.31709270744835105,0.32243145193784006,0.3282785040356018,0.3346072177288657,0.34139080689430307,0.3486027177732914,0.356216936117863,0.3642082306136988,0.37255233705831947,0.38122608958433185,0.3902075061338483,0.39947583561202354,0.40901157387529086,0.4187964551202069,0.4288134244748541,0.43904659676364904,0.44948120559254073,0.4601035461321684,0.4709009142878786,0.48186154434880396,0.4929745467045532,0.5042298468022257,0.5156181261797562,0.5271307661437918,0.5387597944509687,0.5504978351907025,0.5623380619464955,0.5742741542235054,0.5863002570661171,0.5984109437449806,0.6106011813639184,0.6228662992196303,0.6352019597383137,0.6476041318108783,0.6600690663505899,0.6725932739023253,0.6851735041401179,0.6978067270985133,0.7104901159928408,0.7232210314934108,0.7359970073285329,0.7488157371009313,0.7616750622114105,0.7745729607924563,0.787507537562733,0.8004770145211774,0.8134797224065552],[0.6916412100633202,0.6790334573356851,0.6664801481184153,0.6539844175681303,0.6415496301450102,0.6291793992080185,0.6168776084180863,0.6046484351081736,0.5924963757873962,0.5804262739529689,0.5684433503876574,0.5565532361205477,0.544762008223641,0.533076228604076,0.5215029859290615,0.5100499407846252,0.4987253741160192,0.487538238922054,0.4764982150717496,0.4656157669722963,0.45490220363406353,0.44436974044183647,0.43403156164137907,0.4239018821763525,0.4139960070529004,0.40433038586053227,0.39492265943574273,0.38579169492455806,0.37695760469980943,0.3684417437541018,0.3602666793798721,0.35245612625336337,0.34503483958427295,0.33802845893748945,0.3314632958679648,0.32536605983867595,0.31976351920368684,0.31468209746250153,0.310147409540307,0.306183748355489,0.3028135380077364,0.30005677592048996,0.2979304913601935,0.2964482509979515,0.2956197427247603,0.2954504662187105,0.2959415527098962,0.2970897274951223,0.29888741806439206,0.3013229996242607,0.30438115982960695,0.30804335692749824,0.3122883410670311,0.31709270744835105,0.32243145193784006,0.3282785040356018,0.3346072177288657,0.34139080689430307,0.3486027177732914,0.356216936117863,0.3642082306136988,0.37255233705831947,0.38122608958433185,0.3902075061338483,0.39947583561202354,0.40901157387529086,0.4187964551202069,0.4288134244748541,0.43904659676364904,0.44948120559254073,0.4601035461321684,0.4709009142878786,0.48186154434880396,0.4929745467045532,0.5042298468022257,0.5156181261797562,0.5271307661437918,0.5387597944509687,0.5504978351907025,0.5623380619464955,0.5742741542235054,0.5863002570661171,0.5984109437449806,0.6106011813639184,0.6228662992196303,0.6352019597383137,0.6476041318108783,0.6600690663505899,0.6725932739023253,0.6851735041401179,0.6978067270985133,0.7104901159928408,0.7232210314934108,0.7359970073285329,0.7488157371009313,0.7616750622114105,0.7745729607924563,0.787507537562733,0.8004770145211774,0.8134797224065552],[0.6916412100633202,0.6790334573356872,0.6664801481184186,0.6539844175681339,0.6415496301450129,0.6291793992080191,0.6168776084180838,0.6046484351081668,0.5924963757873838,0.5804262739529492,0.5684433503876293,0.5565532361205094,0.5447620082235908,0.5330762286040122,0.5215029859289821,0.5100499407845283,0.4987253741159026,0.4875382389219155,0.47649821507158674,0.4656157669721065,0.45490220363384415,0.44436974044158467,0.43403156164109175,0.4239018821760266,0.41399600705253253,0.404330385860119,0.3949226594352804,0.38579169492404275,0.3769576046992374,0.368441743753469,0.3602666793791744,0.35245612625259654,0.34503483958343295,0.3380284589365722,0.33146329586696627,0.3253660598375923,0.3197635192025146,0.3146820974612374,0.31014740953894815,0.30618374835403317,0.3028135380061818,0.30005677591883556,0.2979304913584389,0.29644825099609695,0.2956197427228069,0.29545046621665993,0.29594155270775085,0.29708972749288515,0.2988874180620666,0.3013229996218509,0.30438115982711694,0.30804335692493257,0.3122883410643943,0.31709270744564755,0.3224314519350744,0.3282785040327783,0.33460721772598856,0.34139080689137613,0.34860271777031826,0.35621693611484717,0.3642082306106433,0.37255233705522717,0.38122608958120524,0.39020750613068966,0.39947583560883493,0.40901157387207404,0.4187964551169635,0.42881342447158555,0.43904659676035646,0.4494812055892253,0.46010354612883103,0.47090091428451997,0.48186154434542494,0.4929745467011543,0.5042298467988073,0.5156181261763189,0.5271307661403359,0.5387597944474944,0.5504978351872102,0.5623380619429853,0.5742741542199773,0.5863002570625714,0.5984109437414172,0.6106011813603375,0.622866299216032,0.635201959734698,0.647604131807245,0.6600690663469392,0.672593273898657,0.6851735041364321,0.6978067270948098,0.7104901159891195,0.7232210314896717,0.735997007324776,0.7488157370971564,0.7616750622076175,0.7745729607886453,0.7875075375589037,0.8004770145173299,0.8134797224026893],[0.6916412100633202,0.6790334573401208,0.6664801481253407,0.6539844175754871,0.6415496301506193,0.6291793992095721,0.6168776084131392,0.6046484350941339,0.5924963757615148,0.5804262739123288,0.5684433503291633,0.5565532360409131,0.5447620081193763,0.5330762284714754,0.5215029857641896,0.5100499405833029,0.49872537387381,0.48753823863424983,0.4764982147333571,0.46561576657802356,0.4549022031783085,0.44436973991867634,0.4340315610445622,0.4239018814992939,0.4139960062886813,0.4043303850019049,0.3949226584751423,0.3857916938541233,0.3769576035114131,0.3684417424393935,0.3602666779303346,0.3524561246603851,0.3450348378392375,0.33802845703188267,0.3314632937935002,0.3253660575874373,0.319763516768285,0.3146820948362419,0.31014740671736113,0.3061837453310632,0.30281353477822776,0.3000567724836201,0.2979304877151102,0.296448247145289,0.2956197386666522,0.29545046195875135,0.29594154825305263,0.29708972284759805,0.2988874132334545,0.30132299461804013,0.3043811546568801,0.3080433515974693,0.3122883355891204,0.3170927018320014,0.3224314461923471,0.3282784981699727,0.3346072117517068,0.3413908008137372,0.3486027115969015,0.3562169298526597,0.36420822426610744,0.37255233063418397,0.38122608308893,0.39020749957191725,0.3994758289877902,0.40901156719250753,0.4187964483821877,0.42881341768451253,0.43904658992353474,0.4494811987048747,0.4601035391988766,0.47090090731062273,0.4818615373290109,0.4929745396434407,0.5042298397008266,0.5156181190389401,0.5271307589642842,0.5387597872333686,0.5504978279354982,0.5623380546540777,0.57427414689418,0.586300249700116,0.5984109363424709,0.6106011739250111,0.6228662917443881,0.6352019522267569,0.647604124262991,0.6600690587663252,0.6725932662816091,0.6851734964828539,0.6978067194045853,0.7104901082621164,0.7232210237257438,0.7359969995237662,0.7488157292588975,0.7616750543319354,0.7745729528753592,0.7875075296078284,0.8004770065282766,0.8134797143754666],[0.6916412100633202,0.6790334577796241,0.6664801488115463,0.653984418304426,0.64154963070639,0.6291793993635217,0.6168776079229882,0.604648433703043,0.5924963731970921,0.5804262698855748,0.5684433445333542,0.5565532281504246,0.544761997788448,0.5330762153329229,0.5215029694280696,0.510049920635544,0.49872534987482325,0.4875382101175397,0.4764981812041609,0.4656157275120135,0.4549021580204027,0.44436968808201416,0.4340315019097153,0.42390181441379704,0.4139959305669859,0.40433029992587677,0.3949225632952411,0.3857915877914233,0.37695748576063653,0.3684416121731408,0.3602665343046937,0.35245596682209307,0.3450346649345355,0.3380282682171527,0.33146308824769155,0.3253658345261777,0.31976327545943184,0.314681834616462,0.31014712700914976,0.30618344565943856,0.3028132147861987,0.3000564319454393,0.29793012654633133,0.2964478654087551,0.295619336573762,0.2954500398656673,0.29594110665189294,0.2970892623530496,0.2988869345655989,0.3013224985824515,0.3043806421232005,0.30804282347768075,0.3122877928166273,0.3170921453424372,0.32243087690676786,0.32827791698083303,0.3346066195117657,0.34139019832783385,0.348602099616387,0.3562163090721682,0.364207595322301,0.37255169410608907,0.3812254394995044,0.39020684939051625,0.39947517263325044,0.40901090503661003,0.41879578075331403,0.4288127448713463,0.43904591217870165,0.44948051624844365,0.4601028522216702,0.4709002159773068,0.4818608417809459,0.4929738400012913,0.5042291360669325,0.5156174114994574,0.52713004759111,0.5387590720858636,0.5504971090620229,0.5623373320933602,0.5742734206765285,0.586299519848493,0.5984102028734428,0.6106004368495866,0.6228655510687573,0.6352012079529421,0.6476033763894194,0.6600683072883329,0.6725925111918829,0.6851727377718198,0.6978059570607491,0.7104893422723625,0.7232202540755964,0.7359962261976182,0.7488149522402117,0.7616742736034179,0.7745721684191137,0.7875067414054884,0.800476214561122,0.8134789186245241],[0.6916412100633202,0.6790334661591542,0.6664801618948198,0.6539844322027425,0.6415496413035473,0.6291794023002069,0.6168775985800986,0.6046484071838951,0.5924963243084821,0.5804261931176703,0.5684432340384118,0.5565530777203506,0.5447618008312523,0.5330759648481554,0.521502657981379,0.5100495403325669,0.49872489233469286,0.48753766644640656,0.4764975419692453,0.4656149827168647,0.4549012970822222,0.4443686998121252,0.43403037449851073,0.4239005354217954,0.41399448692394514,0.4043286779402677,0.3949207486767407,0.38578956568942935,0.37695524082210086,0.36843912862320427,0.36026379605363135,0.35245295760184414,0.34503136846752164,0.33802466841907036,0.3314591694644194,0.3253615818028173,0.3197586748368033,0.3146768734472142,0.3101417942822413,0.3061777323184535,0.3028071140242604,0.3000499394579189,0.2979232407226207,0.29644058744646434,0.2956116705028906,0.2954419924763281,0.2959326873263991,0.2970804828106928,0.29887780853521534,0.3013130414229689,0.30437087041514854,0.30803275460891977,0.31227744458351653,0.31708153558388097,0.32242002318376745,0.32826683630908976,0.3345953281501474,0.34137871162156447,0.3485904318908685,0.3562044735714217,0.3641956041850224,0.37253955837207653,0.38121316913952297,0.3901944533533297,0.3994626589044055,0.40899828070447863,0.4187830520787942,0.42879991735844475,0.43903299064393386,0.4494675048875862,0.4600897546728862,0.4708870353800468,0.4818475808303188,0.49296050099781863,0.5042157209617512,0.5156039219351467,0.5271164849383861,0.5387454374764239,0.5504834034178463,0.5623235561527684,0.5742595750173126,0.5862856049083943,0.598396218968258,0.610586384189151,0.6228514297710362,0.6351870180564424,0.6475891178641089,0.6600539800452404,0.6725781150915328,0.6851582726316335,0.6977914226615409,0.7104747383640312,0.723205580382113,0.7359814824213905,0.7488001380659025,0.7616593887012816,0.7745572124479081,0.7874917140150149,0.8004611153944375,0.8134637473198645],[0.6916412100633202,0.6790335258495449,0.6664802550994201,0.6539845312291601,0.64154971683929,0.6291794233015211,0.6168775321531893,0.6046482184582173,0.5924959763018612,0.5804256465930914,0.5684424473524415,0.5565520066633226,0.5447603984595628,0.5330741813093042,0.5215004403327583,0.5100468323554704,0.49872163434560435,0.4875337951083644,0.47649299010698093,0.4656096791405123,0.4548951664257194,0.4443616623939871,0.4340223462144839,0.4238914276809754,0.41398420664225644,0.40431712760769123,0.3949078265172298,0.38577516593490496,0.3769392541239996,0.36842144262640797,0.360244296157764,0.3524315279332917,0.3450078930814469,0.33799903274346266,0.3314312619872276,0.325331295988088,0.31972591123655314,0.3146415419532397,0.310103816437807,0.306137043586343,0.30276366588841647,0.3000037012246874,0.2978742008881317,0.2963887545115153,0.29555707314653157,0.29538467904228527,0.29587272462799985,0.2970179543135251,0.29881281202501847,0.3012456863025917,0.3043012747943272,0.30796104235259775,0.31220374246997273,0.31700597069697023,0.3223427206293207,0.32818791730928937,0.334514908535955,0.341296900715111,0.3485073317486665,0.35612017854556144,0.36411020075244077,0.37245312518027773,0.38112577721933366,0.3901061664540044,0.39937353391248953,0.40890836811439074,0.41869239648948786,0.4287085579763478,0.4389409617774598,0.44937483642277504,0.4599964725231955,0.4707931619060359,0.4817531352270532,0.4928654996493676,0.5041201777632579,0.515507848583714,0.5270198911945096,0.5386483313979993,0.5503857915689118,0.5622254437891789,0.5741609662514976,0.5861865028552605,0.5982966258741728,0.6104863015458022,0.6227508584158171,0.63508595826086,0.6474875694115719,0.6599519422994438,0.6724755870565297,0.685055253004568,0.6976879098789043,0.7103707306422102,0.723101075752909,0.7358764787631099,0.748694633130548,0.7615533801383132,0.7744506978249859,0.7873846908360853,0.8003535811154845,0.8133556993626073],[0.6916412100633202,0.6790337541951464,0.6664806117792366,0.653984910438816,0.641550006584426,0.6291795049729908,0.6168772800731185,0.6046474993957466,0.5924946489576256,0.5804235610518244,0.5684394445035562,0.5565479175899523,0.5447550437973778,0.5330673705775131,0.5214919712411059,0.5100364900928315,0.4987091908580247,0.48751900837719786,0.47647560344122236,0.46558942050162355,0.45487174780828965,0.44433477929154824,0.43399167720676335,0.42385663418682035,0.4139449328913094,0.40427300089342,0.3948584578037069,0.3857201508991231,0.376878174723521,0.36835386928739244,0.3601697906790961,0.3523496471963955,0.34491819363987586,0.3379010763388234,0.3313246219960808,0.32521556474671737,0.3196007081171391,0.31450652197879325,0.3099586791302796,0.30598154165234875,0.3025976132729378,0.2998269800197755,0.29768676658502846,0.2961906391408911,0.2953483859652867,0.2951656045894919,0.2956435181698233,0.2967789349023124,0.29856435358301114,0.30098820728045406,0.30403522703155944,0.3076868997749696,0.31192199020412537,0.31671709507925644,0.3220472004547672,0.3278862165276748,0.3342074704725846,0.34098414378575387,0.3481896465572948,0.3557979262008901,0.3637837122120564,0.3721227014245227,0.38079169006551944,0.3897686598396474,0.39903282549961344,0.40856465109207024,0.418345841476326,0.4283593149469909,0.43858916195677417,0.44902059410767065,0.4596398868053507,0.4704343182792213,0.4813921070707389,0.4925023495862186,0.5037549588923725,0.5151406055943715,0.5266506613670829,0.5382771454997936,0.5500126746532263,0.5618504159060095,0.5737840430781305,0.5858076962546548,0.5979159443885534,0.6101037508323446,0.6223664416307371,0.6346996763976531,0.6470994215985945,0.6595619260614999,0.6720836985446421,0.6846614871976554,0.6972922607606765,0.7099731913562193,0.7227016387383557,0.7354751358737048,0.7482913757384583,0.7611481992249828,0.7740435840604093,0.7869756346479245,0.7999425727492526,0.8129427289339964],[0.6916412100633202,0.6790343360076363,0.6664815214796385,0.6539858793944257,0.6415507504459729,0.6291797225954487,0.6168766523623546,0.6046456880779757,0.5924912952692186,0.5804182843478559,0.5684318407846493,0.5565375579485587,0.5447414727867435,0.5330501045093222,0.5214704964213535,0.5100102610099825,0.49867762834321366,0.4874814977633085,0.4764314927564183,0.46553801874354345,0.45481232335791294,0.4442665585409125,0.4339138434924076,0.4237683271410517,0.4138452483459264,0.40416099149482726,0.39473313452339726,0.38558048564762104,0.3767231042965754,0.3681823008870007,0.35998060925423137,0.3521417248334164,0.3446904011939754,0.33765229742869846,0.33105376937817366,0.32492159893906725,0.31928265795646865,0.3141635065748071,0.3095899304435058,0.3055864266908052,0.3021756547114595,0.2993778739318386,0.2972103959766562,0.2956870821159726,0.2948179176388698,0.29460869228280606,0.2950608099244207,0.29617124187694077,0.2979326273733843,0.3003335135633229,0.30335871713530455,0.306989781803351,0.31120550120196244,0.31598247546670133,0.32129567162159006,0.3271189621230739,0.33342562159376676,0.3401887679905182,0.3473817404176964,0.35497841097925,0.3629534321701381,0.3712824242592384,0.37994210898577085,0.38891039684520895,0.3981664354827573,0.4076906264470595,0.41746461696478093,0.4274712726246185,0.4376946360170236,0.44811987553984134,0.4587332277987014,0.4695219363314051,0.48047418877934844,0.49157905411740055,0.5028264211313361,0.5142069389900737,0.525711960488193,0.5373334883218631,0.5490641245983463,0.5608970236565347,0.5728258481856195,0.5848447285642522,0.5969482252978204,0.6091312944021554,0.6213892555643986,0.6337177629029457,0.6461127781460096,0.6585705460506109,0.6710875718892796,0.6836606008394097,0.696286599119185,0.7089627367237451,0.7216863716252987,0.7344550353109164,0.747266419541541,0.760118364225147,0.7730088463059117,0.7859359695796371,0.7988979553534834,0.8118931338753103],[0.6916412100633202,0.679035464112947,0.6664832890167092,0.6539877693842508,0.6415522156614059,0.6291801834817615,0.616875494814343,0.6046422610676091,0.5924849083189159,0.5804082048460469,0.568417291142485,0.556517712599629,0.5447154550356537,0.5330169832402043,0.521429282684134,0.5099599045108406,0.49861701387651636,0.48740944163585465,0.47634673927154186,0.46543923683301347,0.4546981034741391,0.44413540995114636,0.4337641921507352,0.42359851435303714,0.4136535304844303,0.4039455410727787,0.3944920429782323,0.3853117682395805,0.37642470756433877,0.36785211313256977,0.3596164745357322,0.3517414609185759,0.3442518218557054,0.33717323933406057,0.33053212362081874,0.32435534698500934,0.3186699114137645,0.313502549771705,0.308879264335561,0.3048248121623426,0.30136215295446545,0.298511881349984,0.2962916710457389,0.29471576188805865,0.29379452212329377,0.2935341157417027,0.2939362991008175,0.29499836220582687,0.29671321916855736,0.2990696408946077,0.3020526125205739,0.30564378990319996,0.30982202444708806,0.3145639240421662,0.31984441957822646,0.3256373106879378,0.33191577009691114,0.3386527922757935,0.3458215781925283,0.3533958532880139,0.3613501200345296,0.36965984949272973,0.37830161822971275,0.38725319796441215,0.3964936055755783,0.40600312085154383,0.4157632787660276,0.4257568422815715,0.43596776082536814,0.4463811187301821,0.45698307713606373,0.46776081213468,0.47870245131945827,0.48979701038270373,0.501034330970068,0.5124050206541948,0.5239003956124113,0.535512426377082,0.5472336868613913,0.5590573067385544,0.5709769271606638,0.582986659737695,0.5950810486518697,0.6072550357529496,0.6195039284623113,0.6318233703048424,0.6442093138854145,0.6566579961290933,0.6691659156099098,0.6817298118008592,0.6943466460869773,0.7070135843932888,0.7197279812896475,0.7324873654446947,0.7452894263111219,0.7581320019339809,0.7710130677828381,0.7839307265170782,0.7968831986015881,0.8098688136973884],[0.6916412100633202,0.6790372763905627,0.6664861386717867,0.653990836632286,0.6415546327476885,0.6291810313770596,0.6168737996811294,0.6046369904868728,0.5924749672692222,0.5803924314289118,0.568394452051493,0.5564864983353367,0.544674474874477,0.5329647599735882,0.5213642471547857,0.5098803899862234,0.4985212503167593,0.48729554993445345,0.4762127255734696,0.46528298706696625,0.45451737827442806,0.44392784019096515,0.4335272753627222,0.4233296123753815,0.41334986874076873,0.403604209970344,0.39411000198829654,0.3848858533023778,0.3759516425300448,0.36732852600013605,0.3590389192684845,0.35110644558194154,0.3435558437176454,0.3364128273707118,0.3297038885579366,0.32345603856559396,0.31769648201156475,0.3124522227863914,0.30774960505164567,0.303613798003954,0.3000682394239392,0.2971340595206715,0.2948295124086803,0.2931694467210068,0.2921648483954172,0.291822486845664,0.29214469028772916,0.29312926728918326,0.2947695806275275,0.29705476772611855,0.2999700909056816,0.3034973919010875,0.30761561954363836,0.3123013975750436,0.3175296009997953,0.3232739134828355,0.3295073440905092,0.33620268815747045,0.3433329233887893,0.35087153786639635,0.358792791079228,0.3670719123275028,0.3756852429265382,0.38461032972273246,0.3938259777487268,0.4033122696047161,0.41305055855346384,0.4230234415166665,0.4332147172794751,0.4436093343315953,0.454193331950571,0.4649537773954061,0.4758787014395653,0.4869570339331919,0.4981785406396701,0.5095337622320878,0.5210139560496965,0.5326110409918096,0.5443175457560209,0.5561265604994887,0.5680316919079251,0.5800270215897042,0.5921070676662464,0.6042667493996949,0.6165013546809782,0.6288065101925582,0.6411781540580286,0.6536125107933851,0.6661060683807495,0.6786555572934928,0.6912579313112275,0.7039103499733957,0.7166101625307267,0.7293548932643252,0.7421422280523935,0.7549700020743744,0.7678361885515985,0.780738888432212,0.7936763209362747,0.8066468148844139],[0.6916412100633202,0.6790398272670412,0.6664901710088093,0.6539952190707131,0.6415581677157945,0.629182450516418,0.6168717589518435,0.6046300649375098,0.5924616454588708,0.580371109491873,0.5683634273995134,0.5564439629983559,0.5446185084890238,0.5328933224387425,0.5212751709896546,0.5097713724409062,0.4983898453116558,0.4871391599314991,0.47602859351855803,0.46506818858662635,0.45426881436296573,0.4436422306878853,0.4332011535951982,0.42295932142724746,0.41293155990755204,0.40313384406753816,0.3935833542937959,0.38429852302752937,0.37529906781742056,0.3666060055258351,0.358241641563473,0.35022952715622724,0.3425943769438673,0.3353619388280939,0.3285588081227152,0.32221217893648846,0.3163495275711338,0.31099822574004965,0.3061850857111392,0.3019358449901501,0.2982746045968272,0.2952232417753906,0.2928008242830735,0.2910230581875314,0.2899018033270899,0.2894446894093475,0.2896548607597463,0.29053086923031396,0.2920667236595005,0.2942520919928484,0.2970726404343555,0.3005104843871698,0.30454471960302065,0.3091519993935878,0.3143071247991729,0.3199836185642824,0.3261542596363889,0.3327915616236824,0.339868185296001,0.3473572811160924,0.35523276255411834,0.3634695144283722,0.37204354278130153,0.380932074012188,0.3901136113707024,0.39956795670030304,0.40927620471524917,0.41922071627017815,0.42938507616537325,0.43975404011390834,0.4503134746362426,0.461050292875871,0.4719523886605368,0.48300857056924545,0.49420849730028377,0.5055426152598441,0.5170020989930509,0.5285787948472561,0.5402651680801145,0.5520542534919828,0.5639396095647529,0.5759152760198334,0.5879757346604153,0.6001158733323164,0.6123309528195208,0.6246165764817765,0.6369686624397366,0.6493834181161533,0.6618573169480487,0.6743870770934303,0.6869696419661282,0.6996021624430698,0.7122819805993048,0.7250066148370073,0.7377737462853124,0.7505812063579872,0.7634269653655534,0.7763091220874607,0.7892258942182837,0.8021756096096382],[0.6916412100633202,0.6790430952667073,0.6664953739619283,0.6540009467176892,0.6415629272443506,0.6291846608371578,0.6168697445676212,0.604622049386886,0.5924457443162175,0.5803453229101785,0.56832563218701,0.5563919042271672,0.5445497906436334,0.5328054001248861,0.5211653392409918,0.509636756682482,0.49822739106679376,0.4869456223936421,0.47580052715309423,0.46480193698145916,0.45396050061210563,0.44328774867121457,0.43279616061110965,0.42249923274387635,0.4124115459226792,0.4025488309053042,0.392928028814239,0.38356734337555753,0.37448628077974433,0.36570567208074767,0.3572476720757468,0.3491357276572715,0.3413945078083826,0.3340497868707692,0.32712827264974825,0.3206573715618166,0.3146648846293163,0.309178630911569,0.30422599908233783,0.29983343331700724,0.29602586620666277,0.2928261185479686,0.29025429274354597,0.2883271921272192,0.2870578016630098,0.28645486517592356,0.286522590003016,0.28726050179730495,0.2886634609980377,0.2907218396502317,0.29342184461213455,0.2967459624885962,0.3006734942137439,0.3051811437553841,0.31024362587603577,0.31583426160139455,0.3219255359824843,0.3284895997526323,0.33549870355249145,0.3429255597602543,0.35074363215900034,0.35892735751822497,0.3674523056964895,0.3762952862580665,0.38543441007535556,0.3948491142094124,0.40452015774927835,0.4144295954330093,0.4245607349105161,0.43489808253942713,0.44542728169355156,0.4561350467450028,0.4670090951715485,0.47803807964277717,0.48921152144638114,0.500519746218803,0.511953822630235,0.5235055044297133,0.5351671760697121,0.5469318019903168,0.5587928795412868,0.5707443954481148,0.5827807856789278,0.5948968985373733,0.6070879607881764,0.6193495466134051,0.6316775491959782,0.6440681547305128,0.6565178186686338,0.669023244015182,0.6815813615024237,0.6941893114807518,0.7068444273759724,0.7195442205747578,0.732286366610992,0.7450686925363617,0.7578891653685796,0.7707458815200016,0.7836370571181084,0.7965610191373527],[0.6916412100633202,0.6790470107748734,0.6665016644099825,0.6540079823020598,0.641568982731315,0.6291879089155528,0.6168682487231014,0.6046137562729075,0.5924284755991326,0.5803167665693779,0.5682833332563187,0.5563332549711865,0.5444720201730359,0.5327055634685326,0.5210403059110643,0.5094831987926713,0.49804177109423103,0.4867241807141831,0.4755392695284541,0.46449662223741434,0.4536066288215233,0.4428805502460407,0.4323305868154519,0.42196994826728923,0.4118129242990718,0.4018749537273453,0.3921726898720859,0.38272405903497536,0.37354830809609596,0.3646660363034279,0.3560992053060476,0.34787112044619756,0.3400063753754269,0.3325307513387703,0.325471062170613,0.3188549364045593,0.31271052918504777,0.30706615914388585,0.3019498692732164,0.29738891615424273,0.2934091985320613,0.2900346437058967,0.28728657774169486,0.28518311202806507,0.2837385829527551,0.2829630823280868,0.2828621128743374,0.2834363954636131,0.28468184361076754,0.28658970728969646,0.28914687444568876,0.29233630652653536,0.29613757556242426,0.30052746570147826,0.3054806017678773,0.31097007075685634,0.31696800815087417,0.3234461282969538,0.3303761856792874,0.33773036086832503,0.3454815706735334,0.3536037063329553,0.3620718064477026,0.3708621729844538,0.37995243927595446,0.3893215988193993,0.3989500030547528,0.40881933540627685,0.41891256784825764,0.4292139052208825,0.4397087215455806,0.45038349171132575,0.4612257211425564,0.47222387541864635,0.4833673112881008,0.4946462100965889,0.5060515143130178,0.5175748675782341,0.5292085585034537,0.540945468298357,0.5527790222017318,0.5647031446119503,0.5767122177633279,0.5888010437617411,0.600964809774153,0.6131990561582762,0.6254996473176193,0.6378627450714457,0.6502847843370183,0.6627624509316693,0.6752926613137544,0.6878725440937594,0.7004994231592041,0.713170802269192,0.7258843509862553,0.7386378918243628,0.7514293885025326,0.7642569352033316,0.7771187467446901,0.7900131495818499],[0.6916412100633202,0.6790514882952969,0.6665089370889037,0.6540162703234691,0.6415764020297037,0.6291924638773556,0.6168678243544992,0.6046061098043647,0.5924112274989393,0.5802873909417219,0.5682391476044395,0.5562714093134821,0.5443894855102489,0.5325991196141219,0.5209065287155463,0.5093184468172552,0.49784217182086987,0.48648561641986726,0.47525736300307253,0.4641667225889514,0.4532237976920688,0.4424395488594937,0.43182586439522325,0.42139563250167833,0.41116281469439286,0.4011425188738537,0.39135106985240614,0.38180607442247966,0.3725264772097462,0.3635326025871977,0.35484617685760356,0.34649032379304934,0.3384895255382138,0.3308695399716879,0.32365726506319303,0.3168805408042816,0.31056788020940007,0.3047481229806427,0.29945000896277824,0.2947016736303161,0.29053007448167745,0.28696036500058175,0.28401524105111603,0.28171429211614074,0.28007339534627596,0.27910419263100095,0.278813688818775,0.2792040024182692,0.28027228907822366,0.2820108442046728,0.2844073762018761,0.28744542819839225,0.2911049156427919,0.2953627410418505,0.3001934457066508,0.30556986117715673,0.31146372893089846,0.31784626470099003,0.32468865193338964,0.3319624565660856,0.3396399617382752,0.3476944259186248,0.3561002712513788,0.3648332108249567,0.3738703243392118,0.3831900915828669,0.392772392510195,0.40259848175843627,0.41265094435288946,0.4229136382307661,0.43337162815873576,0.4440111146688134,0.454819360813773,0.46578461885057393,0.47689605839178206,0.48814369710832073,0.49951833470720597,0.5110114906299652,0.5226153457067406,0.534322687844725,0.5461268617163646,0.5580217223333133,0.5700015923386773,0.5820612228164116,0.5941957573978155,0.6064006994370217,0.6186718820271154,0.6310054406337201,0.6433977881317714,0.6558455920424218,0.6683457537795928,0.6808953897288976,0.6934918139949753,0.7061325226663432,0.718815179459466,0.731537602615664,0.7442977529356921,0.7570937228472353,0.7699237264102011,0.782786090173537],[0.6916412100633202,0.6790564529770673,0.6665171053083927,0.6540257789066901,0.64158527862418,0.6291986192665806,0.6168690442011311,0.6046000457882904,0.592395387817739,0.5802591301437631,0.5681956557292606,0.5562097003207988,0.5443063849884933,0.5324912517727135,0.5207703026830942,0.5091500422918104,0.4976375241496603,0.48624040122638484,0.4749669805309926,0.46382628199747533,0.45282810161850084,0.4419830786649752,0.4313027666313592,0.42079970728186156,0.4104875068258187,0.40038091280503535,0.3904958897146688,0.38084969068708563,0.3714609217344234,0.36234959406913464,0.35353715891725784,0.34504651804567865,0.33690200201623605,0.3291293070763974,0.3217553807748547,0.31480824608878116,0.3083167543620651,0.30231025900912134,0.29681820505303697,0.29186963436882557,0.28749261303417484,0.2837135951955497,0.2805567466935901,0.27804326030087284,0.276190701416842,0.27501242693095895,0.27451711941284374,0.27470847311638485,0.27558505768652664,0.2771403711211657,0.2793630774766224,0.2822374094201224,0.2857437032763712,0.289859026278204,0.2945578529503887,0.299812749597941,0.3055950316597984,0.31187536676654865,0.3186243052300403,0.3258127281703758,0.33341221072309446,0.3413953033473654,0.3497357380980084,0.35840856898966345,0.3673902565589059,0.3766587067499696,0.3861932736255787,0.39597473440064734,0.4059852441168594,0.41620827606443533,0.4266285529068267,0.43723197242786077,0.4480055309233165,0.45893724650495354,0.4700160839675115,0.48123188237449693,0.4925752861301399,0.5040376800057882,0.5156111283632133,0.527288318650523,0.5390625091263029,0.5509274806839245,0.5628774925921864,0.5749072419338085,0.5870118265043311,0.5991867109264891,0.6114276957358061,0.6237308891995264,0.636092681641132,0.6485097220552071,0.6609788968112204,0.6734973102591979,0.6860622670646678,0.6986712561143397,0.7113219358474808,0.7240121208806979,0.7367397698057747,0.749502974051275,0.7622999477088314,0.7751290182343894],[0.6916412100633202,0.6790618566103966,0.6665261254692616,0.654036524933871,0.6415957490092058,0.6292066938060933,0.616872475556097,0.6045964504126878,0.5923822362201092,0.5802337364470067,0.5681551664976505,0.5561510826288959,0.5442264137151142,0.5323864961151227,0.5206371119031585,0.5089845307281823,0.49743555555962754,0.4859975725596211,0.4746786052871717,0.46348737338303664,0.45243335579755806,0.44152685849852275,0.4307790864207671,0.42020221918029954,0.40980948975736,0.3996152649373249,0.3896351257667493,0.37988594561554156,0.3703859626197506,0.361154842304386,0.3522137250571788,0.3435852518691736,0.33529356043615643,0.32736424243112894,0.31982425167529255,0.31270175228389163,0.3060258959430937,0.2998265186382479,0.2941337497709018,0.28897753098546053,0.2843870483324014,0.28039008949779215,0.2770123472023326,0.27427669952278644,0.27220250638868404,0.27080496718496827,0.2700945856629181,0.2700767841584991,0.2707516992799327,0.27211417671475185,0.2741539656104299,0.2768560957163555,0.28020140576964336,0.28416718149685455,0.2887278571060467,0.2938557351538925,0.2995216851602252,0.3056957897390949,0.3123479166439217,0.31944820454024947,0.326967458504331,0.33487745765007115,0.3431511817671192,0.3517629665538531,0.3606885982588934,0.36990535867132956,0.3793920307784102,0.3891288743426383,0.3990975793722294,0.4092812041359564,0.41966410311317487,0.4302318491339222,0.44097115298078626,0.4518697828996928,0.4629164857930948,0.47410091133095583,0.485413539793915,0.49684561414012307,0.5083890765446234,0.5200365094818972,0.5317810812946782,0.5436164961039726,0.5555369478571025,0.5675370782750774,0.579611938441781,0.591756953770776,0.6039678920874013,0.6162408345716235,0.6285721493187275,0.6409584672889498,0.6533966604324178,0.6658838217915151,0.6784172473984676,0.6909944198011694,0.7036129930647935,0.716270779110415,0.7289657352646188,0.741695952905861,0.7544596471041918,0.767255147160859],[0.6916412100633202,0.6790676826576646,0.6665360040815593,0.6540485798308403,0.641607993836759,0.6292170242980453,0.6168786610934991,0.6045961249406865,0.5923728884822845,0.5802126994983485,0.5681196064599792,0.5560979866571063,0.5441525771497343,0.5322885088070873,0.520511343711367,0.5088271162105237,0.49724237790516973,0.48576424684534186,0.47440046118909057,0.4631594375313821,0.45205033404159267,0.44108311844210224,0.43026864070818427,0.4196187101570811,0.40914617630582983,0.39886501249449635,0.38879040077341553,0.37893881591839645,0.3693281056465707,0.35997756314261803,0.35090798686618035,0.34214172131094756,0.3337026709685221,0.3256162783034628,0.3179094552158451,0.31061045647215035,0.30374868322151555,0.29735440535249597,0.2914583934990263,0.2860914553675011,0.28128387700385765,0.27706477766961407,0.2734613967686643,0.27049834187105454,0.26819683689796897,0.2665740171583242,0.26564232129038134,0.26540902778903863,0.2658759751050629,0.2670394899242024,0.2688905300575929,0.2714150291805766,0.27459441347248487,0.2784062475776498,0.28282496071775937,0.2878226034461184,0.2933695905147051,0.2994353939630297,0.3059891609380776,0.31300024121420034,0.32043861865179624,0.3282752482012005,0.33648230529169465,0.34503335766564863,0.3539034712522816,0.36306926193436223,0.372508904448572,0.38220210852394976,0.3921300709733897,0.40227541100321185,0.4126220946202169,0.42315535276599353,0.4338615967275905,0.444728333469188,0.4557440827924297,0.46689829764640334,0.478181288451013,0.4895841519483624,0.5010987048357723,0.5127174222434269,0.5244333809842441,0.5362402074107752,0.5481320296535329,0.5601034339789545,0.5721494249867751,0.5842653893609843,0.596447062891882,0.6086905004962109,0.6209920489757235,0.6333483222702749,0.645756178978445,0.6582127019359894,0.6707151796594996,0.6832610894791529,0.6958480822001077,0.7084739681467918,0.7211367044579828,0.7338343835131628,0.7465652223821654,0.7593275532006496],[0.6916412100633202,0.6790739428527125,0.6665467910832309,0.6540620597338782,0.6416222250681798,0.6292299499052065,0.6168881004299914,0.6045997647077657,0.5923682730830507,0.5801972206622966,0.5680904920972182,0.5560522889049314,0.544087159579892,0.5322000327707281,0.5203962538112292,0.5086816249074723,0.4970624492902267,0.48554557964051104,0.4741384710826874,0.4628492390087346,0.45168672194281834,0.44066054956857775,0.4297812159120741,0.4190601574879059,0.40850983595852874,0.3981438245082892,0.3879768966722872,0.37802511576213776,0.36830592227202175,0.35883821570794167,0.34964242614765983,0.34074056951078213,0.33215627902659073,0.3239148038006235,0.31604296382572783,0.30856904945968255,0.30152265258733313,0.29493441677820337,0.2888356951892273,0.2832581082135819,0.2782329983308561,0.2737907874450251,0.26996025199555485,0.2667677425465602,0.2642363860398868,0.26238531854812336,0.26122900204595983,0.26077667853625985,0.2610320077404826,0.2619929207055007,0.2636517027684783,0.26599529823623785,0.2690058092922903,0.2726611461509739,0.2769357763920606,0.28180151935277387,0.28722833566926864,0.29318507081925593,0.29964012269620044,0.3065620148447028,0.3139198674821991,0.32168376690872497,0.3298250400186137,0.33831644446009596,0.3471322868865847,0.35624848216413074,0.3656425658037253,0.37529367067533137,0.3851824775460902,0.3952911473917325,0.40560324190290725,0.41610363723016414,0.4267784348210951,0.4376148722091872,0.44860123580651284,0.4597267771119555,0.47098163324965076,0.48235675237465,0.49384382420202233,0.5054352157118501,0.517123911938946,0.5289034616586858,0.540767927717788,0.5527118417222382,0.5647301627768205,0.5768182399664801,0.5889717782748755,0.6011868076468897,0.6134596549172531,0.6257869183451186,0.6381654445131865,0.6505923073689798,0.6630647892045101,0.6755803633884703,0.68813667868202,0.7007315449850201,0.713362920374204,0.7260288993082028,0.7387277018866261,0.7514576640615618],[0.6916412100633202,0.6790806691803265,0.6665585657333741,0.6540771073445791,0.6416386659589318,0.6292457925615791,0.6169012333922897,0.604607947819902,0.5923691280566913,0.5801882209110097,0.5680689517960887,0.5560153512333249,0.5440317841092696,0.5321229819662918,0.5202940786265672,0.508550649466329,0.4968987546703735,0.48534498680309596,0.47389652302840674,0.4625611822921542,0.451347487741102,0.44026473458418103,0.42932306349454485,0.4185335394921046,0.40790823601984744,0.39746032361412437,0.3872041621466017,0.37715539505811874,0.36733104328497185,0.3577495956696424,0.3484310915293664,0.3393971897180136,0.3306712169727074,0.3222781866362099,0.3142447770933077,0.306599257632676,0.29937134821652484,0.29259199918425316,0.2862930777051424,0.28050695035723056,0.2752659560445704,0.270601770905394,0.2665446768906214,0.2631227577422801,0.26036105892906863,0.25828075978093235,0.25689841424374715,0.2562253190269739,0.25626706281062267,0.25702329729866735,0.25848775160258775,0.26064848859034173,0.2634883792160185,0.26698575216839876,0.2711151641674685,0.27584823204756553,0.2811544709009057,0.2870020912693062,0.2933587203066046,0.3001920246583653,0.307470224670024,0.31516249927675066,0.32323928805714064,0.3316725014808927,0.3404356527085331,0.34950392491810955,0.3588541875648501,0.36846497368688946,0.3783164287166472,0.3883902395031862,0.39866955056456604,0.40913887306750785,0.419783990719196,0.4305918656627227,0.44155054658245046,0.4526490805261882,0.4638774294107583,0.4752263917690694,0.48668752999491505,0.4982531031241453,0.5099160050387861,0.5216697078786319,0.5335082103803324,0.5454259908272244,0.557417964276431,0.5694794437272411,0.5816061049020048,0.593793954324446,0.6060393003979436,0.6183387272061991,0.63068907077951,0.6430873975907534,0.6555309850655118,0.6680173039102051,0.6805440020803538,0.6931088902280913,0.705709928483704,0.718345214440327,0.731012972223989,0.7437115425430536],[0.6916412100633202,0.679087904812049,0.6665714211505568,0.6540938728927347,0.6416575314335916,0.6292648399232027,0.6169184288949285,0.6046211335086541,0.5923760125873448,0.5801863696442413,0.568055776118451,0.5559880970583787,0.5439875195150604,0.5320585839305564,0.52020621882934,0.5084357791420064,0.4967530885090186,0.48516448592539024,0.4736768770921135,0.46229779083261463,0.45103544090701364,0.43989879350612243,0.4288976406213839,0.41804267935406686,0.40734559703150613,0.3968191617208911,0.3864773173489966,0.37633528212243533,0.3664096482675621,0.3567184802409793,0.3472814074720944,0.3381197063684006,0.3292563647403004,0.32071612001555466,0.3125254606942533,0.3047125785965662,0.2973072578264302,0.2903406853785118,0.28384516843579755,0.2778537452170084,0.272399680334577,0.2675158425030768,0.26323397228012174,0.25958385998189965,0.2565924679181419,0.25428304475531316,0.2526742906119104,0.25177963668835757,0.2516067006144713,0.2521569673155369,0.2534257259354838,0.2554022689691202,0.25807033431162196,0.2614087487773497,0.2653922162601164,0.2699921869129974,0.2751777454031468,0.2809164647448506,0.2871751848485875,0.2939206890461874,0.30112026523374413,0.30874214945158507,0.31675585802005163,0.325132419731627,0.33384452243455537,0.34286658919623464,0.352174798705206,0.3617470631913061,0.3715629753359543,0.38160373371072864,0.39185205441839926,0.40229207492860364,0.4129092546520265,0.42369027559375555,0.4346229454557395,0.44569610479453636,0.4568995392533371,0.4682238974457529,0.47966061474459176,0.4912018429968663,0.5028403860255919,0.5145696406723816,0.5263835430686746,0.5382765197868549,0.5502434435071945,0.5622795928361187,0.5743806159209567,0.5865424975225695,0.598761529227437,0.6110342825030637,0.6233575843236198,0.635728495115653,0.6481442887958953,0.6606024346942346,0.6731005811746518,0.6856365407851648,0.6982082767846064,0.7108138909093589,0.723451612257077,0.7361197871770027],[0.6916412100633202,0.6790956964350012,0.6665854516503629,0.6541124993179616,0.6416790141127849,0.6292873354185782,0.6169399823810788,0.6046396705304827,0.5923893301493105,0.5801921265813421,0.5680514826984475,0.5559711037648651,0.5439550049625735,0.5320075418665017,0.5201334441838315,0.5083378530966639,0.4966263625705036,0.48500506501044527,0.4734806016599376,0.46206021813982195,0.4507518255129717,0.43956406722550273,0.42850639221027886,0.41758913433063083,0.40682359817694336,0.39622215098724317,0.38579832012202125,0.37556689505557145,0.36554403221921833,0.35574736021112013,0.3461960818379797,0.3369110681462559,0.327914938018423,0.3192321150644066,0.3108888514856331,0.30291320645411085,0.2953349645525547,0.28818547830676666,0.28149741828875496,0.2753044152865367,0.26964058230537674,0.2645399103205349,0.2600355411390986,0.25615893335057494,0.2529389523023251,0.25040093055934265,0.2485657587739405,0.2474490752082901,0.24706062248910585,0.24740383086093096,0.24847566850964906,0.2502667739326639,0.2527618571001218,0.25594033025577445,0.25977710999020026,0.26424352229521075,0.2693082420792049,0.27493820652156903,0.28109945488295685,0.28775786286804966,0.2948797546898943,0.30243238878508105,0.31038432277294836,0.31870566960267016,0.3273682602624209,0.33634572956155573,0.345613541022396,0.3551489654475666,0.3649310257509047,0.37494041850596904,0.38515942060392117,0.3955717875520935,0.406162648345539,0.4169184005194046,0.4278266079253938,0.43887590294174456,0.4500558941882752,0.46135708034122275,0.47277077029469594,0.48428900966860283,0.49590451349352055,0.5076106047920863,0.5194011587089723,0.5312705518055295,0.5432136161216632,0.5552255976095564,0.5673021185563274,0.5794391436318391,0.5916329492208778,0.6038800957238795,0.6161774025358794,0.6285219254385144,0.6409109361640704,0.6533419039133843,0.6658124786306726,0.6783204758579583,0.690863863009716,0.7034407469246725,0.716049362566484,0.7286880627583302],[0.6916412100633202,0.6791040890639276,0.666600744668879,0.6541331137368944,0.6417032778982895,0.6293134766775283,0.6169661219830229,0.6046638141197523,0.5924093594983002,0.5802057902337671,0.5680563858497304,0.5559646973259985,0.5439345737542194,0.5319701918922182,0.5200760889358077,0.5082571988550215,0.4965188926691545,0.4848670230600527,0.47330797374341355,0.4618487140301874,0.4504968590099643,0.4392607357693301,0.42814945601232124,0.41717299536636343,0.40634227952122454,0.3956692771423247,0.385167099200358,0.374850103938589,0.3647340061241717,0.35483598846265224,0.34517481205529965,0.3357709215087263,0.3266465387364312,0.3178257376148544,0.30933448950387915,0.3012006673085048,0.2934539934330686,0.2861259149759179,0.27924938829666346,0.2728585552838303,0.2669882960044526,0.26167364769767554,0.25694908888672285,0.25284769989915,0.2494002267303061,0.2466340923843039,0.2445724159499481,0.24323311132578831,0.24262814125965695,0.24276299574126323,0.24363644627947795,0.2452406012355563,0.24756125649488275,0.25057850591089603,0.2542675524246312,0.25859964712224964,0.2635430808269405,0.26906415981327275,0.2751281109311684,0.2816998783055258,0.28874479066193837,0.296229092959704,0.3041203472004384,0.31238771475710303,0.32100213669893074,0.3299364300644242,0.3391653176347755,0.348665407193205,0.35841513408946973,0.368394678571509,0.3785858670625492,0.38897206450266164,0.39953806310749307,0.41026997143853383,0.42115510651175464,0.43218189076122,0.44333975498168765,0.4546190478595968,0.4660109523289916,0.47750740872644565,0.4891010445408798,0.5007851104391768,0.5125534221800114,0.5244003079933948,0.5363205609921715,0.5483093961866892,0.5603624116895508,0.5724755537197299,0.5846450850414778,0.5968675565013282,0.6091397813546899,0.6214588121010725,0.6338219195732954,0.6462265740507284,0.6586704281895233,0.6711513015838246,0.6836671667911354,0.6962161366723971,0.7087964529130502,0.7214064756054448],[0.6916412100633202,0.6791131233604945,0.6666173771662685,0.6541558247975939,0.6417304582534652,0.6293434208290264,0.6169970210530648,0.6046937481014069,0.592436288856866,0.5802275468064754,0.5680706629888767,0.555969039228966,0.5439263639232189,0.5319466406673556,0.5200342200479043,0.5081938349501852,0.49643063976643964,0.48475025391788457,0.4731588101314263,0.46166300793275317,0.45027017282854076,0.4389883216459945,0.4278262344703593,0.4167935335602067,0.4059007695128404,0.39515951478058237,0.3845824643806984,0.3741835432693875,0.3639780193296465,0.35398262021408355,0.34421565134246895,0.3346971111342444,0.3254487980175897,0.3164944018739913,0.3078595703580672,0.2995719380408127,0.29166110371285336,0.28415853873052566,0.2770974074309106,0.2705122800047957,0.2644387195908542,0.258912729623911,0.25397005544109913,0.249645346275876,0.245971199799175,0.24297712999598509,0.24068851785767126,0.23912561952445788,0.2383027141146017,0.23822747018933796,0.2389005941981618,0.24031579769264896,0.24246008679795142,0.24531434347889777,0.24885413980862695,0.2530507084366634,0.2578719867253893,0.2632836576624116,0.26925012461184333,0.2757353752638296,0.2827037090263819,0.2901203187983531,0.29795173102205563,0.3061661167004234,0.31473349101865805,0.3236258210946134,0.33281706108090403,0.3422831321740735,0.35200186271134265,0.36195290092857657,0.3721176104217129,0.38247895607250854,0.39302138624718974,0.40373071547010886,0.41459401049381533,0.4255994816933899,0.4367363809611184,0.44799490672254816,0.4593661162957828,0.4708418455373239,0.4824146355307976,0.49407766595610036,0.5058246947075044,0.5176500032959033,0.5295483475619143,0.5415149132349503,0.5535452758927261,0.5656353649016733,0.5777814309483652,0.5899800168031359,0.6022279309881875,0.6145222240526326,0.6268601671855307,0.6392392329246896,0.6516570777436674,0.66411152632196,0.6766005573238519,0.6891222905299228,0.7016749751818603,0.7142569794161746],[0.6916412100633202,0.6791228348859902,0.6666354153600136,0.6541807241915304,0.6417606668674825,0.6293772937718202,0.6170328135810833,0.6047296080885566,0.5924702486243457,0.5802575142589299,0.5680944120001657,0.5559841992184483,0.5439304085618382,0.5319368756523846,0.5200077698864664,0.5081476286953186,0.49636139565638887,0.48465446288066355,0.47303271813399367,0.4615025971792873,0.4500711418477354,0.4387460643560516,0.4275358183762249,0.41644967732516697,0.40549782026139974,0.3946914256380048,0.38404277294395023,0.37356535194220003,0.3632739787485811,0.35318491734904656,0.3433160042770867,0.3336867730156829,0.32431857319826546,0.31523467781955866,0.3064603694142959,0.2980229935525043,0.289951965148279,0.282278710220245,0.2750365232778455,0.26826031904258246,0.26198625756286315,0.25625122492129704,0.25109215865581896,0.24654521846127175,0.24264481881280092,0.2394225599023226,0.23690611437142992,0.23511814605823245,0.23407534882608866,0.2337876942722892,0.23425796422140088,0.23548161786445332,0.23744700807942223,0.24013592334880152,0.2435243980840467,0.24758371106499827,0.2522814821784177,0.2575827813703112,0.263451177658585,0.2698496757526838,0.2767415088866601,0.2840907754940411,0.2918629223516572,0.3000250871333874,0.30854631924242343,0.31739770016432345,0.32655238441031104,0.33598558034746195,0.3456744876060217,0.3555982048673106,0.3657376190261614,0.3760752841917439,0.3865952968309104,0.3972831715874232,0.40812572090502663,0.41911094049766456,0.43022790189425153,0.44146665268706986,0.45281812468586746,0.46427404988457954,0.47582688395185896,0.48746973683434563,0.4991963099926318,0.5110008397586809,0.5228780462983676,0.5348230876751884,0.5468315185346854,0.5588992529592264,0.5710225310762406,0.5831978890376357,0.5954221320223966,0.607692309947346,0.6200056956021373,0.6323597649534183,0.6447521793896459,0.6571807697021858,0.6696435216202126,0.6821385627366234,0.6946641506798491,0.7072186624022513],[0.6916412100633202,0.6791332545397437,0.6666549163692841,0.6542078903151753,0.6417939981922786,0.6294152004951348,0.6170736092612724,0.6047715023154107,0.5925113390582888,0.5802957779840868,0.5681276961329813,0.5560102107104548,0.5439467031326707,0.5319408457875948,0.5199966318345188,0.5081184084000195,0.4963109135656765,0.48457931758126677,0.47292926877531966,0.46136694467082623,0.4498991088445613,0.4385331740895666,0.42727727244578806,0.41614033264519884,0.40513216546344955,0.39426355736468127,0.38354637264912994,0.3729936640379561,0.3626197912225924,0.35244054632501615,0.3424732844108247,0.3327370561120325,0.32325273799113996,0.31404315445673664,0.3051331827861554,0.2965498301246916,0.2883222682875188,0.28048180897812064,0.27306179900989525,0.26609741284556737,0.2596253190684427,0.25368319931240924,0.2483091038586198,0.24354063857694175,0.2394139936418938,0.23596284495309733,0.23321718242629674,0.2312021416273304,0.22993693165946655,0.22943395764920824,0.229698226893221,0.23072710306096045,0.2325104360445332,0.23503105281225561,0.2382655552868649,0.2421853422897045,0.24675775841401024,0.2519472738267576,0.2577166125294716,0.2640277676538946,0.2708428657813133,0.2781248639202768,0.2858380801265167,0.2939485708484664,0.30242437516014026,0.31123564900545875,0.3203547125709241,0.3297560320216329,0.33941615397120894,0.34931360785441073,0.3594287882482776,0.3697438263780584,0.3802424576522891,0.39090989011781263,0.40173267718234024,0.41269859676762005,0.42379653817078017,0.435016397266603,0.44634898022712544,0.4577859156226599,0.4693195745639232,0.48094299841971816,0.49264983357628217,0.504434272676065,0.5162910017726682,0.5282151528556543,0.5402022612271461,0.5522482272467915,0.564349281999391,0.5765019564779768,0.5887030539128741,0.6009496249133167,0.6132389451219404,0.6255684951136742,0.637935942299073,0.6503391246180161,0.6627760358330343,0.6752448122524735,0.6877437207324449,0.7002711478232119],[0.6916412100633202,0.6791444095321506,0.6666759305747729,0.6542373924538033,0.6418305359125651,0.6294572343240766,0.6171195060310984,0.6048195280191148,0.5925596510820734,0.5803424166608874,0.5681705755573194,0.5560471087511548,0.5439752505766673,0.5319585145454705,0.5200007221369463,0.5081060349144791,0.4962789903654279,0.48452454190452465,0.47284810352321044,0.461255599609642,0.4497535205032311,0.4383489843799077,0.4270498060844766,0.41586457352692113,0.4048027322298027,0.3938746785396909,0.38309186187756944,0.3724668961759514,0.36201368030105924,0.3517475267451563,0.34168529714577656,0.3318455421847748,0.32224864207357495,0.31291694207355597,0.30387487527453416,0.2951490621323547,0.2867683730820917,0.27876393703407415,0.2711690750239988,0.26401913524601056,0.25735120394273986,0.25120366723746396,0.24561560325917742,0.24062599311636118,0.23627275431193262,0.23259162101224756,0.22961492061298944,0.22737032180819072,0.22587965065108745,0.22515788190823066,0.2252124083184372,0.22604266810455625,0.22764017355271232,0.22998893733055445,0.2330662477533218,0.23684370850253583,0.24128843847292367,0.24636432512077694,0.2520332373155895,0.25825612596680636,0.2649939666389331,0.27220852297225256,0.2798629297897116,0.28792210896399223,0.29635303956280146,0.3051249074624949,0.3142091598249915,0.3235794878386211,0.3332117579707055,0.34308390842182895,0.3531758239943869,0.3634691994630038,0.37394739888182915,0.3845953161060871,0.3953992401093391,0.4063467273836354,0.41742648274850125,0.42862824919996284,0.43994270694342963,0.4513613814242925,0.46287655995721494,0.47448121642742735,0.4861689434703982,0.4979338915115558,0.50977071405153,0.5216745186046736,0.5336408227321777,0.5456655146508522,0.557744817941081,0.5698752599202093,0.5820536432891465,0.5942770206993183,0.6065426719237431,0.6188480833496823,0.6311909295409777,0.6435690566458877,0.6559804674511266,0.6684233079050773,0.6808958549530019,0.6933965055447273],[0.6916412100633202,0.6791563244483338,0.6666985039121407,0.6542692944800346,0.6418703582346805,0.6295034839946728,0.6171705991399338,0.6048737827218648,0.5926152800139143,0.5803975186782603,0.5682231267468727,0.5560949526405565,0.5440160874779463,0.5319898899579967,0.5200200141344847,0.5081104404394161,0.49626551035392785,0.48448996516992054,0.47278898933251035,0.4611682589011972,0.4496339957143656,0.43819302788425313,0.42685285728324807,0.4156217347006476,0.4045087433424367,0.3935238913021399,0.3826782135304791,0.3719838836514008,0.3614543356802876,0.35110439525585074,0.34095041934872955,0.3310104424944503,0.3213043263432168,0.3118539076451734,0.30268313762160526,0.2938182029547426,0.28528761535483504,0.2771222529179886,0.2693553325071445,0.26202228862813637,0.2551605314816886,0.24880905613403337,0.2430078774500914,0.23779727309514737,0.2332168308256865,0.22930431694467726,0.22609440917181586,0.22361736615978497,0.22189773216039302,0.22095319216479098,0.22079369379104993,0.22142093353651132,0.22282826772800562,0.22500105886272326,0.22791741614064717,0.23154924567208282,0.23586349921637204,0.2408235035333383,0.24639026349624996,0.2525236554020841,0.2591834555478202,0.2663301770772261,0.27392571130593724,0.28193378638811645,0.2903202662578275,0.29905331730828694,0.3081034707470291,0.3174436064560747,0.3270488807097685,0.3368966161411907,0.3469661684681327,0.35723878100750467,0.3676974350606738,0.3783267018660834,0.3891125999498572,0.4000424602899123,0.41110480066532185,0.4222892098142473,0.4335862415035883,0.44498731826544674,0.4564846443344391,0.4680711271905202,0.4797403070473315,0.4914862936059675,0.5033037094035708,0.5151876391145814,0.527133584202067,0.5391374223620342,0.551195371251282,0.5633039560367902,0.5754599803502907,0.5876605002746186,0.5999028010281936,0.6121843760503279,0.6245029082230007,0.6368562529943793,0.649242423195909,0.6616595753684443,0.6741059974339375,0.6865800975678342],[0.6916412100633202,0.6791690221644223,0.6667226797133665,0.6543036576292677,0.6419135416053897,0.6295540383256879,0.6172269867840032,0.604934370839688,0.5926783331609392,0.5804611907269255,0.56828545208221,0.5561538365622543,0.5440692957372417,0.5320350373533613,0.5200545520862575,0.5081316434607809,0.4962704613344836,0.4844755393893475,0.47275183712655,0.4611047869117473,0.44954034667179593,0.4380650588955252,0.4266861166372212,0.4154114372561685,0.4042497446405994,0.39321066064797233,0.3823048064292558,0.37154391417042154,0.36094094954952843,0.3505102448329062,0.34026764196791226,0.3302306442086404,0.3204185736579185,0.3108527305364503,0.30155654790674,0.2925557329046277,0.28387838221986655,0.2755550556506708,0.26761878720297433,0.26010500879415654,0.2530513578349196,0.24649733785754302,0.2404838023778021,0.23505223804036993,0.2302438354787345,0.2260983562757617,0.2226528315825219,0.2199401597691957,0.21798770174795348,0.21681599598249424,0.21643772286936971,0.21685703450509997,0.21806933006336543,0.2200615045406506,0.22281264015664695,0.22629505786235585,0.23047561167887037,0.23531709608747667,0.2407796453394824,0.24682202753207017,0.25340276775668413,0.26048106630794654,0.2680175047820059,0.2759745524512925,0.2843168973140371,0.29301163178676215,0.3020283238255518,0.31133900203776993,0.32091807950526496,0.33074223661832397,0.34079027888087743,0.3510429817594876,0.3614829313701388,0.3720943671540541,0.3828630306389928,0.3937760228338483,0.40482167167048205,0.41598941010053914,0.42726966490025525,0.4386537558697397,0.45013380488445087,0.46170265412638406,0.47335379276119954,0.4850812913130633,0.49687974300524285,0.5087442113699518,0.5206701834773941,0.5326535281858209,0.5446904588678728,0.5567775001210586,0.5689114580203918,0.5810893935180637,0.5933085986381499,0.6055665751535585,0.6178610154678207,0.6301897854560269,0.6425509090475018,0.6549425543579372,0.6673630212009797,0.6798107298289501],[0.6916412100633202,0.679182524529995,0.6667484999922084,0.6543405423039458,0.6419601629456635,0.6296089887872179,0.6172887729093592,0.6050014066132913,0.5927489327649765,0.5805335606403953,0.5683576824601314,0.5562238918267776,0.5441350043070572,0.5320940804325816,0.5201044514291213,0.5081697480244363,0.49629393272927486,0.4844813360351461,0.47273669702567994,0.4610652089552388,0.44947257040776756,0.4379650427086989,0.4265495143198951,0.41523357299727526,0.4040255865257395,0.3929347928558774,0.38197140043693567,0.37114669945003637,0.3604731844664684,0.34996468875013187,0.33963652994104737,0.32950566613436916,0.3195908603273128,0.3099128497508432,0.3004945146295762,0.29136103831857774,0.2825400474685561,0.2740617168501054,0.265958818819681,0.258266692430386,0.25102310247413984,0.24426795528352171,0.2380428373778169,0.23239034687613458,0.22735319804519505,0.22297309803513152,0.2192894221781576,0.21633774834021752,0.21414834690101966,0.21274475328384201,0.2121425654247759,0.21234860142239456,0.2133605198553093,0.21516695096052235,0.21774812188445392,0.22107689799842345,0.2251201179789199,0.22984008061023528,0.23519604638861438,0.2411456411892826,0.2476460836318321,0.2546551936592256,0.26213217090408836,0.2700381544041541,0.2783365895654981,0.2869934351056527,0.295977243960362,0.3052591498003622,0.31481278655281364,0.32461416337444965,0.3346415126598607,0.34487512431763556,0.3552971758919126,0.365891565175083,0.37664374969142184,0.3875405957352028,0.39857023841453165,0.40972195328378064,0.42098603955639147,0.43235371450458693,0.44381701841670207,0.45536872935293643,0.4670022868836548,0.47871172398684614,0.4904916063055436,0.5023369780095485,0.5142433135600093,0.5262064747344236,0.538222672329511,0.5502884320176558,0.5624005638877144,0.574556135252098,0.5867524463487771,0.5989870086091693,0.6112575252008655,0.6235618735880597,0.6358980898826914,0.648264354785992,0.6606589809437097,0.6730804015590577],[0.6916412100633202,0.6791968528180777,0.6667760062248533,0.6543800090585025,0.6420103007060728,0.6296684304846911,0.6173560679741172,0.6050750144890529,0.5928272158331197,0.5806147764955911,0.5684399754738034,0.5563052839290198,0.5442133849117391,0.5321671954244211,0.5201698911257279,0.5082249340210152,0.496336103529287,0.48450753136732666,0.47274374074729225,0.4610496904444046,0.4494308243557351,0.437893127238058,0.4264431873797876,0.415088267025214,0.4038363814224942,0.3926963874011183,0.3816780823867415,0.37079231471270746,0.3600511059622659,0.34946778583776555,0.3390571396551118,0.3288355679407532,0.3188212566843459,0.309034355474775,0.299497158905873,0.29023428415803326,0.28127283442916845,0.27264253383132814,0.264375814512545,0.2565078313101422,0.24907637368234925,0.24212163990259594,0.2356858359565791,0.2298125632141046,0.22454596707707367,0.21992963563188977,0.21600526407203482,0.21281113637105392,0.21038051620648068,0.20874007668420397,0.20790852269208585,0.2078955607533261,0.20870134339033466,0.21031646027826015,0.21272247735977437,0.21589295371372957,0.21979481051984273,0.22438989767528453,0.22963660380055245,0.23549137905756823,0.2419100774975586,0.2488490662196072,0.2562660845701636,0.26412086366383497,0.2723755336354463,0.2809948544064718,0.2899463075496748,0.29920008439090223,0.3087290007699497,0.31850836333188515,0.328515806754191,0.33873111643516596,0.3491360470855552,0.35971414440732824,0.3704505745412221,0.3813319641050339,0.3923462523046964,0.4034825556649683,0.41473104529729155,0.42608283621836973,0.4375298879910402,0.44906491583074093,0.46068131127032347,0.4723730714768521,0.48413473634749843,0.49596133256444963,0.507848323851722,0.5197915667437848,0.5317872712429,0.5438319658065688,0.5559224661669651,0.5680558475399579,0.5802294198319966,0.5924407054987589,0.6046874197502502,0.6169674528333071,0.6292788541545625,0.6416198180352565,0.6539886709142353,0.6663838598374038],[0.6916412100633202,0.6792120279818327,0.6668052397348024,0.654422118976456,0.6420640350920891,0.6297324620798024,0.61742898840328,0.6051553279361912,0.5929133321352069,0.5807050035973884,0.5685325111791454,0.5563982068784378,0.544304644709808,0.5322546018336085,0.5202511022368811,0.5082974433041935,0.49639722566279854,0.4845543867380838,0.47277323851268416,0.4610585100458246,0.4494153953780774,0.4378496075198026,0.42636743929726884,0.41497583190570136,0.4036824520882734,0.3924957789166999,0.38142520118118345,0.3704811263884292,0.35967510229264654,0.3490199517128869,0.3385299210754635,0.3282208426019085,0.318110309261595,0.30821786042337324,0.29856517445052083,0.2891762621492841,0.280077651860777,0.271298552960231,0.2628709795508769,0.2548298103185994,0.24721275422041383,0.2400601856966826,0.2334148087621312,0.22732110862709687,0.22182455497689174,0.2169705354171237,0.21280302294127348,0.2093630177274596,0.20668684790331135,0.2048044586568323,0.20373785303787623,0.20349985877268303,0.20409337462488644,0.20551119652296335,0.20773644724043855,0.21074355129662325,0.21449962843650586,0.21896613909675436,0.22410060871789905,0.22985827996785363,0.23619358204041246,0.24306135194562603,0.25041778432739853,0.2582211182117083,0.2664320895816047,0.2750141889292059,0.2839337654299172,0.2931600168428279,0.30266489899659094,0.31242298247600087,0.322411277965018,0.33260904621511167,0.3429976040360487,0.3535601340791512,0.3642815034158587,0.3751480938736363,0.3861476456336108,0.39726911458731884,0.4085025432807701,0.41983894485144685,0.43127019911692094,0.4427889598487913,0.45438857222299706,0.46606299944855833,0.4778067576210842,0.48961485791080084,0.5014827552677236,0.5134063029025402,0.5253817118766657,0.5374055152062642,0.5494745359514109,0.5615858588222996,0.5737368048893108,0.5859249090329443,0.5981478998134042,0.610403681478382,0.6226903178617694,0.6350060179561093,0.6473491229679788,0.6597180946886341],[0.6916412100633202,0.6792280707644843,0.6668362417925249,0.6544669336326016,0.6421214477541514,0.6298011850657796,0.6175076552979563,0.6052424874294967,0.5930074412897828,0.580804420486976,0.5686354868334499,0.5565028764636919,0.5444090178674096,0.5323565520920146,0.5203483554045156,0.5083875647436866,0.496477606339696,0.48462222793070275,0.4728255350646662,0.4610920320400295,0.44942666811101134,0.43783488966147116,0.42632269913450066,0.41489672159071744,0.4035642798527522,0.3923334792703288,0.38121330319992563,0.3702137203208187,0.35934580488425083,0.3486218708844653,0.3380556209072781,0.32766230999608686,0.31745892419946886,0.3074643724283227,0.29769968872766134,0.2881882399080444,0.27895593051769385,0.270031393207594,0.2614461475356292,0.25323470418123106,0.2454345846437195,0.2380862194114992,0.23123268152454546,0.22491920934715437,0.21919247491328747,0.21409956557831017,0.20968666981946193,0.20599749419853836,0.20307148576086093,0.20094198575488428,0.19963448486184593,0.19916517278364454,0.19953996379364522,0.2007541303399395,0.20279259637192745,0.20563084893793404,0.2092363436966659,0.21357022641067983,0.218589176977303,0.22424720192472022,0.23049724390426818,0.23729252816051133,0.24458761414081517,0.25233915799639856,0.2605064162789708,0.2690515336950143,0.27793966115276214,0.28713894771822746,0.2966204442527446,0.30635794946044087,0.3163278221141202,0.32650877704322856,0.3368816773379238,0.3474293311778773,0.358136298629931,0.3689887115169418,0.37997410787376645,0.3910812814223438,0.4023001457871548,0.4136216127316554,0.42503748344593195,0.43654035179615663,0.4481235184137508,0.45978091452524683,0.47150703448068654,0.4832968760139219,0.49514588735220955,0.5070499203784018,0.5190051891326581,0.5310082330194652,0.5430558841585543,0.5551452383844692,0.567273629459025,0.579438606113907,0.591637911587641,0.6038694653625807,0.6161313468439491,0.6284217807548799,0.6407391240493091,0.6530818541689574],[0.6916412100633202,0.6792450017026369,0.666869053518375,0.6545145147857977,0.6421826211541384,0.6298747026844528,0.6175921927725225,0.6053366380681366,0.5931097095175668,0.5809132146738508,0.5687491114399381,0.5566195234332403,0.5445267571870941,0.5324733214355948,0.5204619487637234,0.5084956199452734,0.4965775913373857,0.4847114257531672,0.4729010272934638,0.461150680685907,0.4494650957541129,0.4378494577223423,0.4263094841503777,0.41485148938829886,0.40348245753828654,0.3922101250055859,0.38104307380527996,0.36999083685325435,0.3590640164902125,0.34827441743991544,0.3376351952484486,0.3271610209363582,0.3168682620460736,0.3067751793845042,0.29690213741737703,0.28727182430920034,0.2779094748352091,0.2688430856219741,0.2601036072272417,0.2517250913612288,0.24374476419265179,0.236202988643583,0.2291430708952519,0.2226108608239252,0.21665409549913478,0.21132144273273393,0.2066612216722256,0.2027198121787461,0.1995398137686615,0.19715807269851976,0.19560375074081326,0.19489664517346186,0.19504597052536896,0.1960497698514654,0.19789504092260307,0.2005585587977277,0.204008277073753,0.20820512012075348,0.21310495136601199,0.2186605174036684,0.2248232122537313,0.23154456371776333,0.23877739953506713,0.2464766954349345,0.25460013664300846,0.2631084397868461,0.271965486629857,0.28113831839661785,0.29059703292748534,0.3003146189314707,0.3102667537200332,0.3204315838151691,0.3307895020567375,0.3413229303136661,0.3520161135050323,0.3628549281721063,0.3738267071153396,0.3849200804438864,0.39612483263167797,0.40743177471613373,0.41883263052383896,0.43031993569554217,0.44188694826259467,0.45352756956436424,0.46523627436755866,0.4770080491377163,0.48883833750970307,0.5007229921010693,0.5126582319053906,0.524640604589839,0.536666953101026,0.5487343860552231,0.5608402514534625,0.5729821133191508,0.5851577309062013,0.5973650401699321,0.6096021372317127,0.621867263602158,0.6341587929571872,0.6464752192869531],[0.6916412100633202,0.6792628410533453,0.6669037156518419,0.6545649239005747,0.6422476377442423,0.6299531186616314,0.6176827261396691,0.6054379270970008,0.5932203063787137,0.5810315784610666,0.5688736005249532,0.5567483870797034,0.5446581263451785,0.5326051986304597,0.5205921969823447,0.5086219504169863,0.49669755009403443,0.4848223788452988,0.4730001445299724,0.4612349177565561,0.4495311745883495,0.4378938449350792,0.4263283674277787,0.414840751676598,0.4034376489198008,0.39212643218307774,0.3809152871750952,0.3698133152377054,0.3588306497317105,0.3479785872478687,0.3372697349533832,0.3267181751669013,0.31633964783064517,0.3061517508217208,0.2961741568894142,0.2864288442588622,0.2769403354048333,0.26773593494556813,0.25884595280702244,0.2503038925872607,0.24214657738745027,0.23441417656135868,0.22715008769926795,0.22040062034166835,0.21421442409081895,0.20864160770683327,0.20373251184036595,0.19953613014048227,0.1960982228844921,0.19345923017998984,0.19165215730999358,0.190700655472593,0.1906175373100297,0.19140393412614692,0.19304922015940415,0.19553171544714595,0.198820061924382,0.20287507791221765,0.20765185380468812,0.21310185939010623,0.21917487880429987,0.22582065330390025,0.23299017651970433,0.24063663932811122,0.24871605689205892,0.2571876292925112,0.26601389306318624,0.2751607182730201,0.2845971985012821,0.294295472009669,0.3042305034548171,0.3143798475661425,0.32472340971265423,0.33524321322209577,0.3459231795412107,0.3567489246132181,0.3677075729677543,0.3787875897641673,0.3899786302314778,0.40127140547446705,0.4126575633646504,0.4241295831335144,0.43568068228041573,0.44730473446187724,0.4589961971172031,0.4707500476903428,0.4825617274186044,0.4944270917681968,0.5063423667004849,0.518304110049015,0.5303091773747807,0.5423546917456261,0.554438016955396,0.5665567337599409,0.5787086187611129,0.5908916256171001,0.6031038682986585,0.615343606146642,0.6276092305174165,0.6398992528297993],[0.6916412100633202,0.6792816086669946,0.6669402682302696,0.6546182215607708,0.6423165790404186,0.6300365358607898,0.617779380059921,0.605546501462484,0.5933394016397074,0.5811597050220841,0.5690091713171445,0.5568897094067811,0.5448033929242665,0.5327524777407368,0.5207394216251289,0.5087669063810373,0.4968378628094547,0.48495549889869255,0.4731233317028141,0.4613452234385225,0.44962542240846143,0.43796860944696986,0.4263799506828568,0.4148651575225333,0.40343055487475815,0.39208315876277067,0.3808307645959118,0.36968204749284145,0.358646676149062,0.34773544180241217,0.3369604038410823,0.32633505347487535,0.3158744965878571,0.30559565631941255,0.2955174949583032,0.2856612532179453,0.2760507026836577,0.26671240393486256,0.2576759582727177,0.2489742348703804,0.24064354735853044,0.2327237444692337,0.22525816898115592,0.21829342922814407,0.2118789203627875,0.20606603223844552,0.2009069921365846,0.1964533187164859,0.19275391170752063,0.18985286835035717,0.18778719301816987,0.1865846328101719,0.18626190603193102,0.18682357232123323,0.18826171626107144,0.19055649435991212,0.1936774596446169,0.197585465823079,0.2022348914829783,0.2075759221591435,0.2135566732410476,0.22012500768841844,0.2272299769668318,0.23482287570282726,0.24285794319482737,0.25129276808292045,0.26008846015771026,0.2692096506853333,0.2786243744461484,0.28830387640018584,0.29822237568250615,0.30835681063751447,0.3186865812578873,0.3291932997185969,0.3398605554986838,0.3506736985954431,0.3616196422870577,0.37268668555169665,0.3838643544087898,0.3951432609602783,0.4065149786630823,0.4179719322766156,0.42950730094275125,0.44111493292982557,0.45278927067977204,0.4645252849202432,0.476318416730053,0.4881645265693664,0.5000598494016898,0.5120009551407749,0.5239847137512398,0.5360082644170233,0.5480689882671782,0.5601644842147218,0.5722925475221218,0.584451150757403,0.5966384268486427,0.6088526539826132,0.6210922421262387,0.633355720978032],[0.6916412100633202,0.6793013238224924,0.6669787502075546,0.6546744668170404,0.6423895246407938,0.6301250549109896,0.6178822767139661,0.6056625054600909,0.5934671623227852,0.5812977847738863,0.5691560383610981,0.5570437298947687,0.5449628222361192,0.5329154509078717,0.5209039427816113,0.5089308371348902,0.4969989094158216,0.4851111981046365,0.4732710351213347,0.4614820802971956,0.44974836050656025,0.43807431414493414,0.42646484174088006,0.41492536360277765,0.403461885527028,0.39208107373023743,0.3807903403110314,0.36959794069127355,0.3585130846211519,0.3475460624409666,0.3367083883483914,0.326012962384053,0.31547425266253465,0.30510849895708814,0.2949339379776666,0.2849710494041187,0.2752428197396967,0.26577501807043036,0.2565964735430321,0.2477393384818129,0.2392393132835749,0.2311357994809343,0.2234719359903805,0.21629446165168156,0.20965333696222607,0.20360105316502314,0.19819156286966505,0.1934787893486987,0.18951471672474363,0.1863471313838381,0.18401716900065318,0.18255690398160357,0.18198727287364308,0.1823166239730408,0.18354011784395372,0.18564007630821966,0.1885872227845109,0.19234261840718445,0.1968600129690963,0.2020883127470703,0.20797390986377723,0.2144626956172083,0.22150166597810508,0.22904010094971722,0.2370303508990805,0.24542829144972214,0.254193518471306,0.2632893522610031,0.2726827108335233,0.28234390050667474,0.29224636030484835,0.30236638646159614,0.3126828549897793,0.3231769539115983,0.3338319320659772,0.3446328681169731,0.3555664611552427,0.3666208428372539,0.37778541011960487,0.3890506771464119,0.400408144609009,0.41185018482778485,0.4233699408418549,0.434961237889648,0.4466185057930965,0.45833671090097655,0.47011129639107424,0.4819381298691477,0.493813457331157,0.5057338626720909,0.5176962320293823,0.52969772234163,0.5417357335848405,0.5538078842196127,0.5659119894446543,0.5780460419057575,0.5902081945558898,0.6023967454022618,0.6146101239109683,0.6268468788697746],[0.6916412100633202,0.6793220050380628,0.6670191990364372,0.6547337164990686,0.6424665512237594,0.6302187728441738,0.6179915340296154,0.6057860784984535,0.5936037499510829,0.5814460020437299,0.5693144095422868,0.5572106808160845,0.5451366718555652,0.5330944020257541,0.5210860717998769,0.5091140827551844,0.4971810601568359,0.4852898785065416,0.4734436904916029,0.4616459598381855,0.4499004986513425,0.43821150991470986,0.42658363592609744,0.41502201356232277,0.4035323373980287,0.39212093184845964,0.38079483366333666,0.3695618862638143,0.3584308475790618,0.3474115131897864,0.3365148567011354,0.3257531893129374,0.3151403404797794,0.3046918612813088,0.294425251545484,0.2843602107316895,0.27451891087922586,0.2649262872884795,0.2556103386911331,0.24660242309906383,0.23793752792289785,0.22965448306746822,0.22179607362419296,0.2144089952414006,0.20754358214346602,0.2012532285968413,0.19559342482701067,0.19062034501506547,0.18638896511049655,0.1829507556132451,0.1803510851842842,0.17862656901490515,0.1778026734110614,0.177891912321501,0.1788929192278912,0.18079054984580675,0.18355699812433643,0.18715374025245196,0.19153400665088974,0.19664544540924414,0.20243267764828168,0.20883952940643774,0.21581082315015568,0.22329369901094234,0.231238497941902,0.23959927405161494,0.24833401620577653,0.2574046568477677,0.2667769356824899,0.27642017245591494,0.2863069897019148,0.29641301463833053,0.3067165799642889,0.31719843613453247,0.32784148247375944,0.3386305208604026,0.34955203327827905,0.36059398298219947,0.37174563809162653,0.3829974159188682,0.39434074611192116,0.4057679506452906,0.4172721387546109,0.4288471150351974,0.44048729907952233,0.4521876551940902,0.46394363090000756,0.47575110307663154,0.48760633075030624,0.4995059136588059,0.5114467558364763,0.5234260335657654,0.5354411671288637,0.5474897958696999,0.5595697561428494,0.5716790617831706,0.5838158867793859,0.5959785498773521,0.6081655008753934,0.6203753084055822],[0.6916412100633202,0.6793436698690806,0.6670616502344888,0.6547960245182931,0.6425477315541587,0.6303177817695307,0.6181072639868915,0.6059173529953504,0.5937493179932556,0.5816045320172913,0.5694844824906833,0.5573907830430485,0.5453251867776111,0.5332896011884749,0.5212861049620653,0.5093169669334733,0.4973846675111089,0.48549192293280474,0.4736417127744146,0.46183731119930327,0.4500823225152879,0.4383807216960409,0.4267369006281975,0.41515572096480985,0.4036425746014591,0.39220345294376274,0.3808450263035591,0.369574734943204,0.35840089347761495,0.3473328105316261,0.33638092571826467,0.32555696612326906,0.314874124508081,0.30434726131034284,0.29399313212814027,0.2838306415786617,0.27388112302316076,0.26416864137693025,0.25472031272450807,0.24556662931074644,0.2367417712121045,0.22828387619645807,0.22023522678024876,0.21264229867937348,0.20555559916815844,0.19902921041933977,0.1931199470276013,0.18788604623221403,0.18338534261667774,0.1796729431314893,0.17679851297298552,0.174803395202779,0.17371788868280497,0.17355906145009076,0.17432944634654757,0.17601684295709796,0.1785952609525405,0.1820268402018253,0.18626443289594538,0.19125447042949845,0.19693976501844448,0.2032619854296539,0.21016365881170318,0.21758965356485035,0.22548817326160078,0.2338113348669569,0.24251542102042767,0.25156089450110247,0.26091225141933594,0.2705377743093395,0.2804092309550954,0.29050155140796996,0.3007925049350121,0.31126239054655086,0.3218937489319424,0.33267109962123176,0.34358070454257356,0.35461035748237163,0.36574919797945155,0.3769875476729718,0.3883167669150828,0.39972912944057104,0.41121771297973436,0.42277630385616716,0.4343993137947085,0.44608170735570135,0.4578189385974262,0.4696068957421758,0.48144185277950663,0.4933204270815855,0.5052395422304,0.5171963953658637,0.5291884284588373,0.5412133029952771,0.5532688776286027,0.5653531884183569,0.5774644313256213,0.5896009466806144,0.6017612053764871,0.6139437965764303],[0.6916412100633202,0.6793663347031026,0.6671061369517647,0.6548614411844608,0.6426331335236113,0.6304221676109322,0.6182295710242766,0.6060564524226764,0.5939040095151427,0.5817735379628997,0.5696664413411417,0.5575842423054973,0.5455285951306444,0.5335012998144781,0.5215043179715436,0.509539790774868,0.49761005924672747,0.48571768724730524,0.47386548756679303,0.46205655159261844,0.4502942831006338,0.4385824368089418,0.4269251624373166,0.4153270551357003,0.4037932132836818,0.39232930482049494,0.38094164344241604,0.36963727620058684,0.35842408424389266,0.3473108986712933,0.33630763367243627,0.3254254393214364,0.31467687650898396,0.30407611649397065,0.29363916733869705,0.28338412892993137,0.2733314771922411,0.26350437620562084,0.25392901389096556,0.24463495227065785,0.23565547651179244,0.22702791746443207,0.2187939098036736,0.21099953219574494,0.20369525808710515,0.19693562833633135,0.19077854494146604,0.18528408639827756,0.18051276989623158,0.17652324345388448,0.17336948642726308,0.17109772099397064,0.1697433633321561,0.16932842827475292,0.1698598004513958,0.17132867523412976,0.17371127213361803,0.17697069004719945,0.1810595818121429,0.18592322920199683,0.19150261123157694,0.197737151341954,0.20456695699416658,0.21193448687643934,0.2197856717850601,0.22807056863423816,0.2367436482632288,0.2457638168435828,0.25509425769070715,0.26470216263703567,0.2745584044668431,0.28463718657747017,0.2949156938224899,0.3053737593565756,0.3159935557966949,0.32675931458370716,0.3376570745447123,0.34867445887772847,0.3598004787628336,0.3710253612934778,0.3823403992369252,0.39373782014819325,0.4052106724929078,0.4167527266257082,0.42835838868694304,0.44002262569973616,0.45174090035949815,0.46350911420190444,0.4753235580102907,0.4871808684786323,0.49907799028241134,0.5110121428281043,0.5229807910544279,0.5349816197466636,0.5470125109010909,0.5590715237414373,0.5711568770447688,0.5832669334817446,0.595400185716772,0.6075552440483412],[0.6916412100633202,0.679390014561035,0.6671526895561782,0.6549300125572582,0.6427228192493775,0.6305320089328493,0.6183585505702422,0.6062034895207847,0.5940679550526444,0.5819531687370512,0.5698604538438932,0.5577912458766725,0.545747104406008,0.5337297263857835,0.5217409611651683,0.5097828274438767,0.497857532458034,0.48596749373094966,0.4741153637781506,0.46230405822060977,0.45053678783581147,0.4388170951649291,0.4271488963979319,0.4155365293790248,0.4039848087145956,0.39249908912681686,0.3810853383797424,0.36975022131167673,0.35850119673646047,0.3473466292226313,0.33629591801356,0.32535964559584113,0.31454974862703194,0.30387971404787095,0.2933648031508074,0.2830223060379119,0.2728718281020087,0.2629356086532522,0.25323886923888594,0.24381018509966343,0.23468186698738366,0.2258903315692047,0.21747642623883562,0.20948565801074656,0.2019682567241311,0.19497898195852512,0.18857656523648558,0.182822671943628,0.1777802819950335,0.17351143715982859,0.17007439505614574,0.16752036219984723,0.1658901278522365,0.16521104126390593,0.16549481158509463,0.16673652280492482,0.16891505048981792,0.17199480049201354,0.17592844960382797,0.1806602286977824,0.1861292775349239,0.19227269319281845,0.1990280382483231,0.20633521836986893,0.2141377489839574,0.2223834967112004,0.23102500849149193,0.24001954161462905,0.24932889330101443,0.2589191081823237,0.26876012166718566,0.27882537955609477,0.2890914603374674,0.2995377162644262,0.3101459420324175,0.32090007498106415,0.33178592760383746,0.34279095124935044,0.3539040288416331,0.36511529394378106,0.3764159733358524,0.3877982503345134,0.3992551462561902,0.41078041765766193,0.42236846724082494,0.43401426655944586,0.44571328890253314,0.4574614509452152,0.4692550619512797,0.4810907794816966,0.49296557071171077,0.5048766785873043,0.5168215921621148,0.5287980205504058,0.5408038700124853,0.5528372237579012,0.5648963241105537,0.5769795567299566,0.589085436625612,0.6012125957378869],[0.6916412100633202,0.6794147229120049,0.6672013352503995,0.6550017798516374,0.6428168442537011,0.6306473758784209,0.6184942877237968,0.6063585647042287,0.5942412707242362,0.5821435565840395,0.5700666688302798,0.5580119596825557,0.5459808981867932,0.5339750827702787,0.5219962554011013,0.5100463175875252,0.4981273484913217,0.4862416254743847,0.4743916474512659,0.4625801614830209,0.4508101931216355,0.4390850811012055,0.42740851707413974,0.41578459121034694,0.40421784461719734,0.3927133297006445,0.3812766797756437,0.36991418944869847,0.35863290753751753,0.3474407445604455,0.33634659711553055,0.32536049176298965,0.31449375130181695,0.30375918655095996,0.29317131684202974,0.2827466223003485,0.2725038304761957,0.2624642387540056,0.25265207187715133,0.243094870413779,0.23382390044164417,0.22487456639774323,0.21628679711433907,0.20810535888814266,0.2003800289163649,0.19316553879421908,0.18652117457644282,0.18050990430352548,0.17519690732583482,0.17064741697424995,0.16692387277440898,0.16408251425001932,0.16216971807888694,0.16121853875885586,0.1612459947281572,0.16225158917798693,0.1642173540289478,0.16710940828191706,0.17088072772250618,0.1754746297223371,0.18082843262049939,0.18687683700865343,0.193554736897107,0.20079933749600612,0.20855158954306435,0.21675703186199008,0.225366168758485,0.2343345108572642,0.243622391694864,0.2531946490155653,0.2630202361866519,0.2730718088632111,0.28332531610596895,0.2937596134526418,0.30435610728835555,0.3150984344457673,0.32597217754772156,0.33696461457964727,0.34806450008726014,0.3592618749070873,0.37054790122343706,0.3819147198511857,0.39335532686809044,0.4048634669991505,0.4164335414495563,0.4280605281691405,0.43973991279760466,0.45146762878042934,0.4632400053585391,0.47505372232107834,0.48690577057190676,0.4987934176990604,0.5107141778550638,0.5226657853571586,0.5346461715026434,0.5466534441677192,0.5586858698204231,0.5707418576310598,0.5828199454084257,0.5949187871282811],[0.6916412100633202,0.6794404715079977,0.6672520977314492,0.6550767789121221,0.6429152567419721,0.6307683292399542,0.6186368561050848,0.6065217646794352,0.594424056601835,0.5823448152451944,0.570285214044508,0.5582465258391439,0.5462301333723819,0.5342375411138748,0.5222703885973631,0.5103304654973432,0.4984197287053172,0.4865403217098061,0.47469459663570435,0.46288513935925746,0.45111479818666667,0.4393867166690494,0.42770437122651755,0.4160716143720773,0.4044927244647983,0.39297246308434447,0.3815161413086614,0.370129696396246,0.35881978062609177,0.34759386433248324,0.3364603554855662,0.3254287385038559,0.3145097353243636,0.3037154920682252,0.2930597948705003,0.282558318503788,0.2722289111771361,0.26209191812137733,0.2521705449636202,0.24249125899464558,0.23308422162218548,0.22398373777684083,0.21522869684733445,0.20686296392436151,0.19893565914484587,0.19150123721289525,0.18461925134610851,0.17835366219951385,0.1727715439857261,0.16794106329691316,0.16392867903523345,0.16079564551948564,0.15859408615920165,0.15736310066266865,0.15712550230474615,0.15788577591955863,0.15962966434775236,0.1623254692914324,0.16592680000664198,0.17037624446811023,0.17560934808979575,0.18155836068008974,0.18815538862337364,0.19533478682005578,0.20303478607104067,0.21119845289831685,0.21977412358424853,0.22871545865257828,0.23798124588913863,0.247535053077512,0.25734480439301566,0.26738233100361175,0.27762292818969975,0.28804493802039655,0.2986293674784476,0.3093595459345547,0.3202208221523749,0.33120029884935887,0.3422866017166302,0.3534696793366952,0.3647406303730172,0.3760915545692012,0.3875154243775382,0.39900597436828117,0.4105576059111706,0.42216530494617316,0.433824570959197,0.4455313555457349,0.45728200918006984,0.4690732350112886,0.4809020486824759,0.4927657433191778,0.5046618589606846,0.5165881558158867,0.5285425908171606,0.5405232970233814,0.552528565488871,0.5645568292707168,0.5766066492940172,0.5886767018345425],[0.6916412100633202,0.6794672702427369,0.6673049969012913,0.655155039767536,0.6430180969935637,0.630894919677358,0.6187863168923736,0.6066931612906242,0.5946163953553981,0.5825570383912085,0.5705161943519905,0.5584950606242403,0.5464949379001809,0.5345172412976261,0.5225635129086034,0.5106354359887185,0.4987348510345458,0.4868637740380422,0.47502441725634936,0.46321921289380485,0.451450840162283,0.4397222562681579,0.4280367319716161,0.4163978924795082,0.40480976456956214,0.3932768310050896,0.381804093489057,0.37039714562837633,0.35906225763695904,0.3478064748018712,0.33663773207100917,0.3255649874890937,0.31459837760021625,0.30374939832640985,0.2930311151800727,0.28245840690046986,0.2720482466013685,0.26182002408918215,0.25179591186970085,0.24200127507842104,0.23246512153422577,0.22322058150026494,0.21430539649239763,0.2057623814288325,0.19763980353617602,0.1899915944388736,0.18287728032231318,0.17636148401450824,0.17051283269762046,0.16540211265394109,0.16109956955641014,0.1576713779897528,0.15517549822110346,0.15365736801143362,0.1531460672863913,0.1536516475389311,0.15516416900374014,0.157654652893176,0.16107774365246022,0.16537553962578885,0.1704819004995173,0.1763265929302414,0.18283882529676262,0.18994995230972386,0.19759532487912246,0.2057153862275713,0.2142561726823407,0.22316938548838738,0.23241217995427257,0.2419467872239331,0.2517400524150308,0.2617629458439736,0.27199008314451634,0.282399275009799,0.292971117020454,0.30368862338819697,0.31453690439704707,0.3255028850332811,0.33657506114885427,0.34774328907223206,0.3589986045756251,0.3703330673390799,0.38173962739981565,0.39321201046634124,0.40474461936839556,0.4163324492823085,0.42797101470566656,0.43965628645118116,0.45138463718755584,0.463152794277324,0.47495779885153816,0.48679697022265483,0.4986678748737158,0.5105682993775001,0.5224962266968547,0.534449815399652,0.5464273813912026,0.5584273818254482,0.5704484009056876,0.5824891373273331],[0.6916412100633202,0.6794951270377406,0.6673600486338532,0.6552365862736029,0.6431253968743207,0.6310271870944884,0.618942718055859,0.606872810604272,0.5948183511807994,0.5827802983856979,0.5707596903303207,0.5587576528869792,0.5467754089641655,0.5348142889550139,0.5228757425310012,0.510961351981338,0.49907284733214013,0.487212123519299,0.4753812599361924,0.4635825427334608,0.45181849031473054,0.4400918825514799,0.4284057943346367,0.4167636341928584,0.4051691888410918,0.3936266746817598,0.38214079746901386,0.3707168215684983,0.3593606505055996,0.34807892079832686,0.336879111419527,0.3257696716268326,0.31476017033173165,0.3038614706359284,0.2930859336119011,0.282447655787143,0.2719627450084057,0.26164963925013146,0.2515294722319889,0.24162648802903183,0.231968503611044,0.22258741260954573,0.21351971447910714,0.2048070392457954,0.19649661781409938,0.18864162036648696,0.18130125121181442,0.17454045113327504,0.1684290269134362,0.1630400189112137,0.1584471554193792,0.15472135272411175,0.15192641492323575,0.15011434557842052,0.1493209314858765,0.14956238512923056,0.15083373676217413,0.15310933309272648,0.15634533011548568,0.16048364169628943,0.16545657705164796,0.17119141672862845,0.1776143746092191,0.1846536585298412,0.19224157662547522,0.2003157921702726,0.20881990335339515,0.21770353721196367,0.2269221250276017,0.23643649078314063,0.24621234768998077,0.25621976654922607,0.2664326556945112,0.2768282751177741,0.28738679584019894,0.2980909082415503,0.30892547865724956,0.3198772511219127,0.3309345899741726,0.3420872586516464,0.353326230071566,0.3646435243024809,0.3760320696552952,0.3874855837797296,0.3989984718007738,0.4105657389456043,0.4221829154844016,0.43384599213572406,0.4455513643699391,0.45729578428623174,0.46907631894433494,0.48089031420599126,0.4927353632877073,0.5046092793496398,0.5165100715490636,0.5284359240739,0.5403851777449274,0.5523563138367834,0.5643479398196325,0.5763587767669806],[0.6916412100633202,0.6795240477570799,0.6674172646012074,0.6553214358470426,0.6432371794748656,0.6311651601777547,0.6191060937924296,0.6070607522356474,0.5950299690134766,0.583014645380995,0.5710157572419129,0.5590343628916407,0.5470716117237756,0.5351287540393581,0.5232071521210903,0.5113082927617028,0.4994338014676138,0.4875854585969276,0.4757652177358493,0.4639752266711914,0.45221785138051135,0.44049570353762657,0.42881167212226207,0.41716895983132757,0.4055711251192478,0.39402213084992177,0.3825264007278618,0.3710888848960475,0.35971513634854285,0.3484114001125525,0.3371847175122368,0.32604304823827207,0.3149954134118162,0.30405206334070034,0.2932246741975733,0.28252657836049394,0.2719730335661664,0.2615815361977167,0.2513721837380006,0.24136809031051387,0.2315958567599108,0.22208609209459607,0.21287397520744789,0.20399983314863854,0.19550969314589775,0.1874557384787495,0.1798965626367082,0.1728970739881745,0.16652786170524442,0.16086380835927402,0.15598175066608577,0.1519570788977735,0.14885935207003573,0.14674728329872774,0.14566375389122288,0.14563172327857674,0.14665188044403876,0.14870257171863846,0.15174202192860253,0.15571234115349902,0.16054448212662537,0.1661632747642767,0.1724918624305221,0.17945516686457183,0.1869822900953777,0.19500795442625446,0.20347317600851417,0.21232538709667043,0.2215181984438064,0.23101095225791282,0.24076817370596412,0.2507589927830754,0.260956580753847,0.2713376258486375,0.28188185991455855,0.2925716395720642,0.30339158063492877,0.3143282419759869,0.32536985384719985,0.33650608533377413,0.34772784577317634,0.3590271153697531,0.3703968007430376,0.38183061167998117,0.39332295587267624,0.40486884889085906,0.41646383705344553,0.42810393122421564,0.4397855498663599,0.45150546995375873,0.4632607845591424,0.4750488661262324,0.48686733458978904,0.49871402963882183,0.51058698652815,0.5224844149354908,0.534404680438286,0.5463462882490286,0.5583078689020192,0.5702881656299885],[0.6916412100633202,0.6795540361511311,0.6674766521592802,0.6554095992913572,0.6433534588745001,0.6313088560960772,0.619276464159523,0.6072570089142925,0.5952512740231425,0.5832601067395612,0.5712844243794356,0.5593252215842504,0.5473835784886384,0.5354606699233966,0.5235577758066696,0.5116762929015474,0.4998177481486048,0.4879838138178796,0.4761763247675936,0.4643972981479666,0.4526489559494408,0.44093375086755965,0.4292543960440945,0.41761389934873383,0.4060156029912611,0.394463229404832,0.3829609345215903,0.37151336977804617,0.3601257544456626,0.3488039601886781,0.33755461011306165,0.3263851949934096,0.3153042098517238,0.3043213146110252,0.2934475231450661,0.28269542566230993,0.2720794499366755,0.26161616731831017,0.2513246495348777,0.2412268817158755,0.2313482353464788,0.22171800123247412,0.21236997593856316,0.20334308403975102,0.1946820009925865,0.18643771542042273,0.17866793357769742,0.17143718320041107,0.1648164239858607,0.1588819309560138,0.15371320987528997,0.14938976649371674,0.14598671964585802,0.1435695330837931,0.1421884942035298,0.14187386466458496,0.14263270173032394,0.14444808848838056,0.14728096098963825,0.151074091786595,0.15575734167379268,0.16125317453761187,0.16748161585277746,0.1743641750357164,0.18182658760517803,0.18980047134143227,0.19822411160034267,0.20704261990008055,0.21620768494080458,0.22567708819652912,0.23541410701845103,0.24538688629744312,0.2555678279581425,0.2659330252991532,0.27646175456888467,0.2871360271210862,0.29794020027429174,0.3088606422727212,0.3198854455704096,0.3310041824017787,0.34220769685118035,0.35348792813607877,0.3648377604205938,0.3762508950906569,0.38772174200237386,0.39924532673936086,0.41081721137521926,0.4224334266343432,0.4340904136824301,0.44578497406368744,0.4575142265416131,0.469275569800951,0.48106665013600036,0.49288533339019897,0.5047296805283904,0.5165979263203088,0.5284884606948618,0.5403998123924864,0.5523306345994883,0.5642796922957101],[0.6916412100633202,0.679585093828611,0.6675382142914816,0.6555010807116248,0.6434742400267361,0.6314582803567416,0.6194538349008993,0.6074615862793281,0.5954822713782456,0.5835166867672434,0.57156569476752,0.5596302302624154,0.5477113083562181,0.5358100330044466,0.5239276067591799,0.512065341797126,0.5002246724267435,0.48840716930477984,0.4766145556331686,0.4648487256556993,0.45311176583187746,0.44140597913493024,0.42973391300440866,0.41809839158423534,0.40650255299788507,0.3949498925579065,0.38344431298225723,0.37199018290083735,0.36059240518900476,0.3492564969683659,0.3379886834769276,0.3267960084388258,0.31568646406499806,0.3046691443933949,0.29375442632609816,0.28295418342229306,0.2722820382166405,0.2617536594660507,0.2513871111285546,0.2412032597799645,0.2312262461413748,0.22148402373537485,0.21200896236862787,0.202838504649542,0.19401584806796604,0.18559060084991294,0.1776193244986624,0.1701658286381856,0.16330102732717078,0.15710211107852184,0.15165075856644056,0.14703014429515895,0.1433206390523134,0.1405943786731943,0.1389092672929686,0.13830336675029656,0.13879081186553557,0.14036021213774125,0.14297594319898288,0.14658200095903873,0.15110750201728007,0.15647269031968095,0.16259446471231745,0.16939081611327425,0.1767839605314548,0.18470224770717505,0.1930810798711467,0.20186311696187448,0.2109980191000582,0.2204419234809099,0.2301567958610131,0.24010974828874096,0.2502723781298824,0.2606201580375565,0.2711318900193868,0.2817892267008774,0.2925762571930641,0.30347915208586457,0.3144858609184814,0.325585855303561,0.3367699112437067,0.3480299247962259,0.35935875594935607,0.37075009627847844,0.38219835660657014,0.39369857147855475,0.40524631776855946,0.4168376451748661,0.42846901672595744,0.4401372577304945,0.4518395118625202,0.46357320328835977,0.47533600392052283,0.4871258050323976,0.4989406925908343,0.510778925766139,0.522638918164186,0.534519221396275,0.5464185106615251,0.5583355720660007],[0.6916412100633202,0.6796172202553838,0.667601949607087,0.6555958775133043,0.6435995187594711,0.631613426807991,0.6196381974528132,0.6076744728904918,0.5957229462633029,0.5837843667384819,0.5718595451975929,0.5599493606217198,0.5480547672719173,0.5361768027805801,0.5243165972885679,0.5124753837856477,0.5006545098388299,0.4888554509253204,0.4770798256251936,0.4653294129747863,0.453606172336842,0.4419122662095155,0.4302500864758844,0.41862228469147433,0.40703180712303166,0.3954819353916172,0.38397633374217893,0.37251910416621375,0.36111485085113715,0.34976875572784816,0.3384866672459973,0.3272752049345097,0.31614188281256805,0.30509525531111276,0.2941450900493803,0.2833025725769013,0.2725805490106551,0.2619938133066071,0.2515594465820193,0.2412972162294744,0.23123004215988677,0.22138453576562145,0.2117916131408035,0.20248717628317903,0.193512842372836,0.18491667909904802,0.1767538703863481,0.16908718941958598,0.1619870951551492,0.15553120204486023,0.14980282061417372,0.14488826646810596,0.14087274008136147,0.13783483767776625,0.13584016526421372,0.1349349953202986,0.13514122193800274,0.1364538061522338,0.1388413735227856,0.14224980573513393,0.14660791896551978,0.1518339587076779,0.15784173900466467,0.16454565496820597,0.1718642633229564,0.17972248576039812,0.18805268732453118,0.19679494143342877,0.20589676825856892,0.2153125723839329,0.22500293979318864,0.23493389803579987,0.245076201249206,0.25540467269201333,0.2658976188099753,0.2765363176626946,0.28730457832376777,0.29818836480801975,0.3091754769215869,0.3202552803533896,0.33141847881567044,0.34265692178691676,0.3539634422340882,0.3653317194956546,0.3767561632446456,0.38823181510243054,0.3997542650358555,0.4113195801474974,0.4229242438697473,0.43456510390804365,0.4462393275565787,0.4579443632401358,0.46967790732629416,0.48143787540982674,0.4932223774014883,0.5050296958612945,0.5168582671058426,0.5287066646934623,0.5405735849527268,0.5524578342712936],[0.6916412100633202,0.6796504127779452,0.6676678523900357,0.6556939804783378,0.643729281880547,0.6317742777763874,0.6198295291157243,0.6078956404369736,0.5959732641278883,0.5840631051887583,0.5721659265674011,0.5602825551462798,0.5484138884749993,0.536560902356673,0.5247246594146865,0.5129063187877722,0.5011071471267419,0.4893285310965363,0.4775719916234609,0.4658392001708503,0.4541319973784598,0.4424524144635157,0.43080269785686504,0.4191853376388842,0.4076031004501939,0.39605906768600757,0.38455667994526077,0.3730997889027107,0.3616927180114167,0.3503403337331267,0.3390481293452365,0.3278223237964176,0.31666997859060736,0.3055991362821262,0.294618984871479,0.28374005320280987,0.2729744433658201,0.26233610705493565,0.25184117374470644,0.24150833922661452,0.23135932320396554,0.2214194037235894,0.2117180333645108,0.20228953594458546,0.19317387102848232,0.18441743393208548,0.1760738277614674,0.168204497863666,0.16087905635934893,0.15417504935330642,0.14817684807562803,0.14297331276386657,0.13865394121421307,0.1353034369863082,0.1329950453997993,0.1317835404593262,0.13169919652605488,0.1327441621681924,0.13489219476446992,0.13809182894555846,0.1422721323000273,0.14734966383191017,0.15323525908899294,0.15983967973966287,0.16707770409303152,0.1748706738856821,0.18314776373185657,0.1918463226888665,0.2009116151271868,0.2102962197741611,0.21995926987536393,0.22986565239595375,0.23998523557345164,0.2502921609431389,0.26076421487704277,0.27138228218844396,0.28212987754877966,0.2929927472141315,0.30395853241682796,0.31501648581052577,0.3261572329879377,0.3373725719776223,0.3486553045771099,0.35999909429223864,0.3713983464788452,0.38284810700553545,0.39434397637435376,0.40588203675731355,0.41745878984195195,0.4290711037402334,0.4407161675136625,0.45239145211366705,0.4640946767391408,0.4758237797800949,0.4875768936540556,0.49935232295541937,0.5111485254318183,0.5229640953791994,0.5347977491117178,0.5466483122160434],[0.6916412100633202,0.6796846666690792,0.6677359126930089,0.6557953739106268,0.6438635073778421,0.6319408043249931,0.6200277933743346,0.6081250441233927,0.5962331711429808,0.5843528384461365,0.5724847644929973,0.5606297278069131,0.5487885732892123,0.5369622193343488,0.5251516658640953,0.5133580034195475,0.5015824234736287,0.4898262301553049,0.47809085361084,0.46637786526831476,0.45468899532078366,0.4430261528026554,0.43139144870537766,0.4197872226650449,0.4082160738594749,0.3966808968797984,0.38518492349673145,0.37373177143067365,0.3623255014651058,0.3509706845234745,0.33967248067147976,0.32843673242172844,0.31727007521969686,0.3061800685930859,0.2951753521639743,0.2842658315631522,0.27346290024637576,0.26277970426905667,0.2522314581649387,0.2418358210604754,0.2316133427842231,0.22158798954608203,0.21178775699782967,0.20224537390252878,0.19299909031775336,0.18409352734328194,0.17558053737133797,0.16751998013738126,0.15998025732744078,0.1530383679721671,0.14677915981609715,0.1412933890483171,0.13667421910844604,0.13301196523904407,0.13038728454993812,0.12886359220340363,0.12848006524954922,0.12924685406305428,0.1311437827408116,0.13412290842971855,0.13811421985961062,0.14303300750846212,0.1487873149637005,0.15528428542194395,0.16243482955205402,0.1701565712863028,0.17837534582985726,0.1870256388724188,0.1960503392984985,0.20540010182612134,0.21503252886251983,0.22491130575305582,0.23500536757653734,0.24528813764984028,0.25573685401477686,0.266331986210309,0.277056737156464,0.2878966215094377,0.2988391107218324,0.30987333519550775,0.3209898347005153,0.33218034927527773,0.343437643912154,0.35475536136177316,0.36612789831098336,0.3775503009878525,0.389018176925093,0.40052762018109644,0.41207514778914667,0.42365764559448965,0.4352723219590123,0.4469166680760726,0.45858842385362464,0.4702855485006846,0.48200619509746184,0.4937486885489214,0.5055115064199152,0.5172932622311921,0.5290926908627168,0.5409086357663527],[0.6916412100633202,0.67971997519293,0.6678061164711382,0.6559000358422097,0.6440021647020474,0.6321129666171992,0.6202329403472798,0.6083626232105575,0.5965025948384396,0.5846534813715856,0.5728159601585842,0.5609907650277756,0.5491786922141642,0.5373806070367936,0.5255974514378551,0.5138302525136745,0.5020801321901984,0.4903483182224144,0.4786361567292379,0.4669451265139017,0.45527685546620317,0.44363313939883586,0.43201596373757106,0.420427528566934,0.40887027763247896,0.3973469320218581,0.38586052939458365,0.37441446981081816,0.36301256943021437,0.351659123621866,0.34035898135679316,0.32911763315801146,0.3179413153750098,0.30683713414581015,0.2958132131274714,0.2848788699295654,0.2740448271824449,0.2633234653048004,0.25272912526332064,0.24227847084328494,0.2319909209721798,0.2218891630847311,0.21199975772846305,0.2023538414781744,0.19298792798147688,0.18394479289655288,0.17527440378586448,0.16703481587018687,0.15929289408083047,0.15212463902362622,0.1456147959276561,0.13985533629289862,0.13494237543377194,0.1309712090017528,0.1280295035865368,0.126189275659272,0.12549898842528928,0.12597754641876663,0.12761180043074616,0.13035829209614222,0.13414872466345756,0.13889765887517191,0.14451063024821936,0.1508912461676752,0.1579465016608245,0.1655901866214124,0.17374465668128614,0.1823413964157461,0.19132079675234734,0.20063148555155577,0.21022945088844663,0.2200771100061384,0.23014241238418556,0.24039802184904432,0.2508205955287905,0.2613901617801692,0.27208959096421065,0.282904149224154,0.2938211243035051,0.3048295127235413,0.3159197585924786,0.32708353552655434,0.33831356440074034,0.34960346080106186,0.3609476070736413,0.372341044745081,0.3837793838302046,0.3952587261603305,0.40677560037475846,0.4183269066366227,0.4299098694769039,0.4415219974505165,0.4531610485173034,0.46482500024791285,0.4765120241076871,0.48822046319721185,0.4999488129312419,0.5116957042225174,0.5234598888069273,0.535240226404281],[0.6916412100633202,0.6797563296866065,0.6678784457494524,0.6560079382911057,0.6441452151198012,0.6322907143704292,0.6204449073470951,0.6086083016878493,0.5967814448944739,0.5849649282767718,0.5731593913684976,0.5613655268811129,0.5495840862722075,0.537815886018022,0.5260618146944214,0.5143228409883919,0.5026000227832251,0.490894517485754,0.47920759379416045,0.4675406451410956,0.45589520509044584,0.44427296501870617,0.4326757944756216,0.42110576469605965,0.40956517582912366,0.3980565885652112,0.38658286098190076,0.3751471916012093,0.36375316986129796,0.3524048354642075,0.341106748378734,0.3298640716674306,0.3186826697846365,0.30756922557638383,0.29653137992258816,0.28557789881655266,0.2747188736921893,0.26396596199032535,0.2533326762831747,0.24283473168527317,0.2324904626195803,0.22232132097938637,0.21235246777826058,0.20261346854925527,0.19313909744054392,0.18397024362456224,0.17515489252361371,0.16674911834004263,0.15881796754759656,0.15143603078944687,0.14468739503882216,0.13866455712085576,0.13346581126442433,0.12919068235737372,0.1259332692182718,0.1237739489577052,0.1227706758216819,0.12295175273002576,0.12431200430209183,0.1268134913341881,0.13039054801508465,0.13495767742343157,0.14041830591459545,0.14667267241332932,0.15362386301078268,0.1611817483351904,0.16926507898254314,0.17780220523404508,0.1867308963877093,0.19599764641946668,0.20555674008586589,0.21536925417531433,0.2254020943777566,0.23562711837195657,0.24602036487089837,0.2565613907171007,0.2672327089611614,0.27801931682401804,0.288908301321391,0.29988851074036604,0.3109502812867076,0.32208520960614684,0.3332859632782836,0.3445461226689054,0.3558600486575647,0.367222771722421,0.37862989867280067,0.3900775339890754,0.4015622132790463,0.41308084680928886,0.4246306714361755,0.4362092095595187,0.447814233964585,0.4594437376160231,0.4710959076286049,0.48276910277150276,0.49446183397076243,0.5061727473631931,0.5179006095277557,0.5296442945806024],[0.6916412100633202,0.6797937196554135,0.6679528788181304,0.656119047561728,0.6442926121247907,0.6324739873838757,0.6206636195310046,0.6088619890539992,0.5970696140599124,0.5852870539879634,0.5735149137655984,0.5617538484697814,0.5500045685656204,0.5382678458062439,0.526544519891842,0.5148355060024147,0.5031418033385721,0.49146450482838944,0.47980480818665605,0.46816402854688594,0.4565436129274627,0.4449451568428051,0.43337042343043175,0.4218213655376776,0.4103001513005646,0.39880919385573005,0.38735118595900053,0.37592914044700915,0.3645464376783923,0.35320688133752537,0.341914764287463,0.33067494653317464,0.31949294781744464,0.30837505793893055,0.29732846857640965,0.28636143124824487,0.2754834470535197,0.26470549504653546,0.25404030748794454,0.24350270175647584,0.23310998028877483,0.2228824113095484,0.2128438038691291,0.20302219000197436,0.19345062324611723,0.18416809400333306,0.17522054467648984,0.16666193602027704,0.15855526409654142,0.15097334811421842,0.14399910111631206,0.13772486927636077,0.13225032070082615,0.1276783624861629,0.12410878446838704,0.12162987186825858,0.12030906155628247,0.12018454171736746,0.12125999775882328,0.12350408599929773,0.12685480154085593,0.13122740301786767,0.13652373839392806,0.14264094854104642,0.14947828761971121,0.15694166416904307,0.16494612043928825,0.17341674820267963,0.18228857254311615,0.19150584329418802,0.20102104756772418,0.210793843192889,0.2207900276376342,0.23098059982133162,0.2413409370513277,0.2518500893650815,0.2624901833268859,0.2732459229085783,0.2841041739269861,0.29505361904695476,0.30608447166766206,0.31718823857897693,0.3283575228359965,0.3395858597270298,0.350867579955025,0.36219769520779904,0.37357180217139446,0.38498600176463704,0.39643683096459986,0.4079212050741959,0.4194363686740929,0.4309798538182855,0.44254944428995496,0.45414314494315683,0.46575915532576506,0.47739584691749776,0.48905174342985,0.5007255037072433,0.5124159068445917,0.5241218391989155],[0.6916412100633202,0.6798321328788588,0.6680293904497419,0.6562333245789636,0.6444443018946909,0.6326627161247788,0.620888990623525,0.6091235811835621,0.5973669791707155,0.5856197150254377,0.5738823621812004,0.5621555414581844,0.5504399259999997,0.5387362468322472,0.5270452991348823,0.5153679493359379,0.50370514315277,0.492057914729197,0.4804273970435174,0.4688148337943711,0.4572215930099415,0.4456491826725636,0.4340992687072507,0.4225736957512693,0.41107451120553956,0.39960399317090256,0.38816468299764056,0.37675942333066786,0.3653914027225141,0.3540642081203156,0.34278188682232946,0.3315490198573312,0.32037080918290334,0.3092531816456058,0.2982029133201457,0.28722777867153665,0.2763367299904567,0.2655401137612216,0.254849932046483,0.24428015859897825,0.23384712116991624,0.2235699632040127,0.2134711994342567,0.20357738013351903,0.19391987672599467,0.18453579503742132,0.17546900832919737,0.1667712753781094,0.1585033623356963,0.15073601303428244,0.14355050523245202,0.13703839481248914,0.13129991594188323,0.12644044595452078,0.12256458294826081,0.11976785790292263,0.11812694338422017,0.11769019454998528,0.11847092979460633,0.12044547601655381,0.12355661193388427,0.12772130670165116,0.13284050659284818,0.1388086466016522,0.1455213136423347,0.15288046719666204,0.16079736922480764,0.1691937434488613,0.1780017524299399,0.18716328990293643,0.19662894618982782,0.20635687544984863,0.21631169590291924,0.22646348866128552,0.23678692063151197,0.24726049429890357,0.2578659156868021,0.26858756687218094,0.27941206820199116,0.29032791599978897,0.3013251830397146,0.312395270822599,0.3235307044223205,0.33472496224355824,0.3459723343956429,0.357267804536961,0.36860695099715685,0.37998586376528676,0.39140107456770257,0.4028494977746951,0.41432838029172747,0.42583525892800267,0.4373679240075367,0.44892438820843356,0.46050285979485595,0.47210171955144964,0.48371950084827164,0.49535487236085324,0.5070066230490917,0.5186736490635715],[0.6916412100633202,0.6798715555247112,0.6681079521329129,0.6563507252473987,0.644600223782342,0.6328568223584321,0.6211209236927109,0.609392961257404,0.5976734022433634,0.5859627508691606,0.5742615520832456,0.5625703957140562,0.5508899211317893,0.5392208224959564,0.5275638546751947,0.5159198399404618,0.5042896755502149,0.49267434236704233,0.48107491467022256,0.4694925713587316,0.45792860877544317,0.44638445542704513,0.43486168892728855,0.4233620555557568,0.41188749290310445,0.4004401561700845,0.38902244880590875,0.37763705831694766,0.366286998256172,0.35497565762551064,0.34370685919794797,0.3324849286068164,0.32131477647246337,0.31020199636096135,0.2991529820192507,0.2881750681332477,0.27727669983989145,0.26646763742058444,0.25575920403540203,0.24516458602955732,0.23469919721885185,0.22438112051866207,0.2142316420446678,0.20427589382745703,0.1945436205141814,0.18507008106237116,0.17589708543351992,0.16707414390470132,0.15865966594216124,0.15072207791221245,0.1433406260673484,0.13660549231451585,0.13061669540112628,0.12548114138163347,0.12130724506504897,0.11819692765048385,0.11623560059062411,0.11548182160504734,0.11595914166500354,0.1176525779065476,0.12051087410825481,0.12445379707555144,0.12938222278434133,0.1351884117689783,0.14176455452096706,0.14900874571093187,0.15682843752352305,0.16514189798988474,0.17387831740973608,0.1829771220581628,0.19238690253248072,0.20206421868629829,0.2119724317416622,0.22208063918664897,0.23236274211356484,0.24279664882659915,0.25336360547289816,0.2640476389080829,0.27483509562198893,0.28571426127526395,0.2966750470540103,0.3077087309954598,0.3188077443461508,0.32996549473730225,0.34117621944867743,0.35243486328009477,0.3637369765794146,0.37507862981635687,0.3864563417730458,0.39786701897267407,0.40930790441146714,0.42077653401671367,0.4322706995418936,0.44378841684260434,0.4553278986651265,0.4668875312319248,0.47846585403222985,0.4900615423267247,0.5016733919577684,0.5133003061240903],[0.6916412100633202,0.6799119722685467,0.6681885323171962,0.656471200827702,0.6447603108302912,0.6330562198080315,0.6213593119630124,0.6096700007368855,0.5979887316193611,0.5863159852833648,0.5746522810915536,0.5629981810259261,0.5513542941005624,0.5397212813273252,0.528099861315966,0.5164908166038654,0.5048950008270683,0.4933133468638926,0.48174687610590455,0.47019670903930466,0.4586640773538295,0.447150337837443,0.43565698836503414,0.4241856863500889,0.41273827010243785,0.4013167836259309,0.38992350550130206,0.37856098263666593,0.3672320698374594,0.3559399763572837,0.3446883208511641,0.33348119647593155,0.32232324828453673,0.3112197655616104,0.3001767923701044,0.28920126035140004,0.27830114877578954,0.2674856780107347,0.25676554399228335,0.24615320296980964,0.23566321773410429,0.22531267865599539,0.2151217149507232,0.20511411319895317,0.19531806043809205,0.18576702652262,0.17650079224373433,0.16756661150756827,0.15902046104650555,0.15092827064738557,0.14336693077425547,0.13642473715753412,0.13020076454163698,0.12480251349954358,0.12034115577903143,0.11692398506087141,0.11464441068211337,0.1135709541592201,0.11373777062381123,0.11513946940196543,0.11773195178756692,0.1214389790763503,0.1261623434958107,0.13179281582641755,0.13821958544435564,0.14533705448788845,0.15304889128599988,0.1612698513373922,0.1699260571152869,0.17895435991605035,0.18830124558544828,0.19792158385318093,0.207777394657659,0.21783671916449218,0.22807263056278257,0.23846239015232049,0.24898673927006634,0.2596293112446569,0.2703761459379549,0.2812152901906331,0.29213646929405135,0.3031308167376566,0.31419065156419856,0.3253092945405727,0.3364809159647645,0.34770040927836304,0.3589632857633881,0.37026558650461544,0.3816038085279265,0.3929748426124531,0.40437592074627615,0.4158045715746367,0.4272585824944753,0.4387359672945243,0.4502349384381313,0.46175388324600597,0.473291343365793,0.4848459970207862,0.4964166436160413,0.5080021903503998],[0.6916412100633202,0.6799533664164312,0.668271096664342,0.6565946983228148,0.6449244902986975,0.6332608148316002,0.6216040396490927,0.6099545603630652,0.5983128031390188,0.5866792276748697,0.5750543305315017,0.5634386488639439,0.5518327646098595,0.5402373092012763,0.5286529688764182,0.5170804906814874,0.5055206892677149,0.4939744546074664,0.4824427607753311,0.47092667596669835,0.4594273739583928,0.4479461472546751,0.43648442220891465,0.4250437764684175,0.4136259591596724,0.40223291431672364,0.39086680816031366,0.37953006096471337,0.3682253844088802,0.3569558255064582,0.3457248184548911,0.33453624604977955,0.323394512691899,0.3123046314900308,0.30127232855633773,0.2903041683306199,0.27940770468841536,0.26859166372228577,0.2578661654729118,0.24724299355703022,0.23673592360079443,0.22636112359665825,0.2161376416117815,0.20608799834004188,0.19623890310243847,0.18662211073351484,0.17727543098567627,0.1682438876762634,0.159580995555329,0.1513500698287835,0.1436253954726191,0.13649295185062038,0.13005021598546543,0.12440439117481975,0.11966832288467083,0.11595354049455758,0.11336049001815887,0.11196713327504688,0.11181832704547151,0.11291899169495294,0.11523332938131484,0.11869036527006417,0.1231939386021927,0.12863417625748338,0.13489780275194513,0.14187580542821604,0.1494681646279509,0.15758610789448535,0.16615261556219157,0.17510186466089775,0.18437813170229878,0.19393449663501855,0.20373154790769818,0.21373619097709293,0.2239206023274028,0.23426133708462915,0.24473858104400015,0.2553355305141137,0.2660378813762395,0.27683340947966006,0.28771162641410436,0.2986634969933656,0.30968120703637125,0.3207579720590629,0.331887879230505,0.3430657563988905,0.35428706318422687,0.3655478001008989,0.3768444324522389,0.38817382636472836,0.3995331948308669,0.4109200520315666,0.4223321745311768,0.4337675681970474,0.44522443990381866,0.45670117325062626,0.4681963076553138,0.47970852029996375,0.4912366104917601,0.5027794860763779],[0.6916412100633202,0.6799957200286094,0.6683556083016347,0.6567211608673175,0.6450926841975763,0.6334705071044732,0.6218549827964803,0.6102464911640795,0.598645441324812,0.5870522744624492,0.5754674670002974,0.5638915341549204,0.5523250339239469,0.5407685715703494,0.5292228046759049,0.5176884488487972,0.5061662841849152,0.49465716259981773,0.4831620161692025,0.4716818666407716,0.4602178363105937,0.44877116049355714,0.4373432018617774,0.4259354669786687,0.4145496254221075,0.40318753197058366,0.391851252425074,0.38054309376116074,0.36926563945644847,0.35802179102492065,0.3468148170217815,0.33564841107125704,0.3245267608304669,0.3134546302532767,0.30243745808178185,0.2914814761976626,0.2805938523443009,0.26978286282139924,0.2590581020976807,0.2484307379219459,0.23791382246116052,0.22752267224029893,0.21727533210261157,0.20719314078627613,0.19730141745337496,0.1876302884957224,0.17821567014298426,0.16910041129366216,0.16033557685837002,0.15198180616433873,0.14411060229938255,0.13680528526652322,0.13016117143859227,0.12428434782918657,0.11928827172875658,0.11528750374775627,0.1123883862344859,0.11067752387925409,0.11021026864744296,0.11100232623818321,0.11302722520208294,0.11622054437630426,0.12048941997127571,0.1257243405492835,0.13181025521459924,0.13863513639972797,0.14609545783853922,0.1540989573267172,0.16256542864015783,0.17142628917521038,0.1806235055120327,0.19010826641199902,0.19983963386811857,0.20978329214348695,0.2199104457551376,0.2301968782011059,0.24062216316560311,0.2511690111679809,0.2618227320676268,0.2725707944282716,0.28340246472959557,0.29430851184770057,0.3052809646356193,0.316312912609252,0.32739834161078174,0.3385319978780143,0.34970927522260165,0.3609261210522212,0.37217895780193666,0.3834646170051635,0.39478028376673713,0.40612344982606197,0.4174918737388146,0.4288835469785691,0.4402966649788963,0.4517296023129391,0.4631808913499366,0.4746492038435177,0.4861333350002821,0.4976321896535187],[0.6916412100633202,0.6800390140423235,0.6684420280734634,0.6568505281141075,0.6452648098154017,0.633685190297153,0.6221120101165698,0.6105456354558,0.5989864605568994,0.5874349104371863,0.5758914439229983,0.5643565570458043,0.5528307868516191,0.541314715682914,0.5298089760019883,0.5183142558363454,0.5068313049404124,0.4953609417843979,0.48390406150078735,0.4724616449426318,0.46103476903628965,0.4496246186457099,0.4382325002070964,0.42685985744355637,0.4155082895312816,0.40417957216464695,0.39287568206073853,0.3815988255585854,0.370351472110211,0.35913639363648026,0.34795671093936525,0.3368159486348186,0.32571810041094157,0.3146677068422486,0.3036699485245686,0.29273075796365616,0.2818569544867516,0.27105640748859733,0.26033823461453,0.24971304306604247,0.23919322412205574,0.2287933132065107,0.21853043033781047,0.2084248183704437,0.19850049862754485,0.18878606439968781,0.17931563061030106,0.17012994963945777,0.1612776837041834,0.1528167853056609,0.14481586789725065,0.1373553363798405,0.13052788354490388,0.12443775732032669,0.11919802693258269,0.11492506652526491,0.11172984972942587,0.10970658521160566,0.10892060168090406,0.10939857044667765,0.111124183121996,0.11404081745933245,0.11806023518764618,0.12307443817397476,0.12896744800384485,0.13562475832574594,0.14293961875812183,0.15081638261152241,0.15917165272384617,0.1679340224944424,0.17704305664158307,0.186447952556024,0.19610614787196148,0.20598201515553138,0.21604570584808008,0.22627216041034376,0.23664027816844976,0.24713222986900324,0.25773289262707255,0.2684293872833563,0.2792107001642768,0.2900673737748542,0.30099125350176514,0.3119752797161891,0.32301331665572663,0.33410001112448157,0.3452306754089682,0.35640118990653447,0.3676079218457658,0.37884765718457236,0.3901175433356255,0.401415040818995,0.4127378823014857,0.42408403776990056,0.4354516848161658,0.4468391831976689,0.4582450529856163,0.46966795573503656,0.4811066782080393,0.4925601182616466],[0.6916412100633202,0.6800832283921332,0.6685303147878109,0.6569827366133169,0.64544078023717,0.6339047527397322,0.62237498380517,0.6108518278228859,0.5993356662257354,0.5878269100964517,0.5763260030785078,0.5648334246332848,0.5533496936920556,0.5418753727591142,0.5304110725316514,0.5189574571129458,0.507515249908516,0.49608524031045553,0.48466829129382066,0.4732653480713241,0.46187744797952807,0.45050573180227377,0.4391514567765124,0.4278160115736371,0.41650093360786844,0.4052079290947897,0.3939388963709481,0.3826959530936321,0.37148146807362636,0.3602980986594856,0.3491488347979331,0.3380370511519097,0.3269665689788692,0.3159417298739735,0.30496748398692347,0.29404949595345414,0.28319427257495305,0.27240931727024975,0.26170331755566417,0.251086373328479,0.24057027557548807,0.23016884732147105,0.2198983611392622,0.2097780502192317,0.1998307324798716,0.19008356872889334,0.18056897498073204,0.17132570302812983,0.1624000876791144,0.15384742638697438,0.1457333966571059,0.13813531541264032,0.13114289151415065,0.12485792242723462,0.11939218466302044,0.11486268711806548,0.11138370703548531,0.10905582818704118,0.10795354231226713,0.10811434271909458,0.1095326666935834,0.11216081852431273,0.11591653686463543,0.12069460631257448,0.12637912262242804,0.13285378219792035,0.1400090083579646,0.1477459561750478,0.15597808460930682,0.16463112815718464,0.17364217231374715,0.1829583280995352,0.19253531053738604,0.20233608663332542,0.21232966884554744,0.2224900778858272,0.23279547119914837,0.24322742080537707,0.25377031981705195,0.26441089685576896,0.2751378194645471,0.2859413701984197,0.2968131817318834,0.3077460197569887,0.3187336045514248,0.32977046385634606,0.3408518111457318,0.3519734445355673,0.36313166251753487,0.37432319345036047,0.3855451363389423,0.3967949109073368,0.40807021535137766,0.41936899046005827,0.4306893890377004,0.4420297497538564,0.45338857470480753,0.4647645100971751,0.47615632956675885,0.487562919729053],[0.6916412100633202,0.6801283421263712,0.6686204254548705,0.6571177201792013,0.6456205048461084,0.6341290780654598,0.6226437603354983,0.6111648960693687,0.599692855849066,0.5882280389368636,0.5767708760788649,0.5653218326406895,0.553881412121627,0.5424501601010372,0.5310286686795804,0.5196175814882977,0.5082175993509681,0.4968294866999623,0.4854540788634991,0.4740922903634292,0.46274512438819837,0.45141368363645085,0.44009918276404875,0.42880296271260876,0.41752650725290685,0.40627146214407645,0.39503965739243607,0.3838331331958644,0.37265417028573355,0.3615053255346542,0.3503894738924921,0.3393098579551911,0.3282701467734461,0.317274505887128,0.3063276810465485,0.29543509867814305,0.2846029869006046,0.2738385218348591,0.2631500051203287,0.2525470799972369,0.24204099508472923,0.23164492710667012,0.22137437627936182,0.21124765077527335,0.20128645932908804,0.19151663302852523,0.18196899738718791,0.17268041162733944,0.16369497968981755,0.15506541025543244,0.14685445109323303,0.13913623331209368,0.1319972208072328,0.1255362674591004,0.11986307129581485,0.11509418117151629,0.11134585077492304,0.10872368507466282,0.10731027058865743,0.10715345032979903,0.10825868522905653,0.11058814223794779,0.11406684332412559,0.11859369947174282,0.12405401899588298,0.13033052969216824,0.13731135268733174,0.14489472540428053,0.15299107356088568,0.1615232769442725,0.17042588613967485,0.17964384098639197,0.18913103872280765,0.19884894588246035,0.20876534677703704,0.21885326138186922,0.2290900331446099,0.23945657188953814,0.24993673123843568,0.26051679924602167,0.2711850825963759,0.28193156726834967,0.2927476413024467,0.3036258678375041,0.314559798795368,0.325543821447222,0.3365730316185664,0.34764312852340057,0.35875032720868166,0.3698912853816755,0.3810630420238277,0.3922629656974669,0.40348871085231636,0.4147381807585718,0.4260094959490559,0.4373009672579983,0.44861107270882955,0.4599384376363057,0.4712818175358121,0.48264008321995433],[0.6916412100633202,0.6801743335186166,0.6687123155155167,0.6572554102415156,0.6458038898042898,0.6343580458273931,0.6229181912181857,0.6114846621298954,0.6000578201429243,0.5886380546942519,0.5772257857881761,0.5658214670267566,0.5544255890043622,0.5430386831178293,0.531661325852133,0.520294143611418,0.5089378181770531,0.497593092888445,0.4862607796591738,0.4749417669611674,0.4636370289338777,0.4523476358046544,0.44107476584188815,0.42981971910544303,0.418583933311202,0.40736900219047223,0.3961766968033764,0.38500899036178016,0.3738680872363265,0.3627564569695361,0.35167687430000527,0.3406324664308172,0.32962676906017696,0.3186637930489593,0.30774810404718667,0.29688491796303074,0.28608021586293275,0.2753408827752214,0.26467487597368133,0.25409142968805204,0.24360130487159198,0.233217094687237,0.22295359875668821,0.21282828187943043,0.2028618356466578,0.19307886363116555,0.18350871157866647,0.174186461283337,0.1651540970988915,0.15646183147233705,0.1481695314556783,0.14034810943116338,0.13308061472279764,0.12646258195246107,0.12060097710283062,0.11561091275144113,0.11160935015165405,0.10870550749762885,0.10698880364014204,0.10651665256367206,0.10730548386443493,0.1093280059562979,0.11251771118525933,0.11677899725270757,0.12199962907040192,0.12806233330793546,0.13485358488456725,0.14226908984440342,0.15021642692821582,0.15861567494416923,0.1673988237171877,0.17650857330676917,0.18589691537159372,0.1955237230198555,0.20535546208320385,0.21536406797851976,0.22552599444431262,0.23582142181940363,0.24623360500293906,0.25674833962764204,0.26735352624446157,0.27803881476177794,0.2887953141204161,0.29961535479123014,0.3104922939791404,0.3214203553591038,0.33239449676988553,0.34341030059045646,0.3544638825682233,0.36555181570338297,0.376671066459491,0.38781894110062454,0.3989930403779977,0.4101912211258752,0.4214115635959509,0.4326523435750936,0.44391200850466633,0.45518915695923867,0.46648252095535925,0.47779095065254357],[0.6916412100633202,0.6802211801733181,0.6688059390578519,0.6573957361786539,0.6459908385084412,0.6345915320833939,0.6231981237224683,0.611810942934667,0.6004303440384682,0.5890567085212135,0.5776904476704492,0.5663320055141399,0.5549818621124452,0.543640537250555,0.5323085945901046,0.5209866463461981,0.509675358568344,0.49837545711704867,0.4870877344438372,0.475813057301687,0.4645523755359264,0.453306732133455,0.44207727474175484,0.43086526890993165,0.4196721133536323,0.4084993576062585,0.3973487224930933,0.38622212395615846,0.3751217008700841,0.36404984762841075,0.3530092524524234,0.34200294258955455,0.3310343378366587,0.32010731415908256,0.3092262795971158,0.29839626517929363,0.2876230342246159,0.27691321424652776,0.2662744567100979,0.2557156311849508,0.2452470620262827,0.23488081764349023,0.22463106469357977,0.21451450211585585,0.20455089262773068,0.19476371170147397,0.18518093525202303,0.17583598559464034,0.16676884764070535,0.15802734864865822,0.149668557027139,0.14176018717677014,0.13438178462256495,0.12762529949991716,0.12159444794351121,0.11640207099994629,0.1121646742945897,0.10899369637869816,0.10698400443579338,0.10620154529991294,0.10667332800286417,0.10838297492904232,0.11127344366863891,0.11525592800993656,0.12022195423936173,0.1260553342186529,0.13264168256233388,0.13987467349417912,0.1476593115295647,0.15591298836791123,0.16456514596470734,0.17355619912611592,0.18283615864474992,0.19236321692303315,0.20210243245971393,0.21202457133887587,0.22210511961879795,0.23232345799439327,0.24266218034998832,0.25310653502842134,0.26364396833631965,0.27426375201673425,0.28495667910160766,0.2957148151903826,0.3065312945617352,0.3174001525400547,0.32831618720884337,0.3392748449242888,0.3502721251792578,0.3613045012464316,0.37236885373029965,0.3834624147162892,0.39458272065033867,0.40572757243715213,0.41689500152893594,0.428083241003457,0.4392907008125508,0.45051594652896104,0.46175768103793896,0.47301472871606215],[0.6916412100633202,0.6802688591249282,0.6689012490205252,0.6575386256305524,0.6461812520182109,0.6348294099459626,0.6234834015542557,0.6121435512229148,0.6008102076386078,0.5894837460952612,0.5781645710583341,0.5668531190285913,0.5555498617465644,0.5442553097854178,0.5329700165876362,0.5216945830100586,0.5104296624525875,0.4991759666587481,0.48793427229160535,0.47670542840688435,0.4654903649671532,0.4542901025674294,0.44310576357457515,0.43193858492162845,0.4207899328453571,0.4096613199128165,0.39855442475304637,0.3874711149964112,0.3764134740304898,0.36538383231288724,0.35438480414432516,0.3434193310079981,0.332490732833804,0.3216027688617571,0.310759710174191,0.299966426461955,0.28922849021141284,0.2785523022780479,0.26794524378618545,0.25741586050530263,0.24697408734630893,0.23663152243563998,0.22640176237981235,0.21630081279544697,0.2063475908075175,0.19656453865581167,0.18697836904489046,0.1776209619758099,0.16853042688056868,0.15975232844841733,0.15134104239645316,0.14336114812392092,0.1358886657450954,0.12901179470639682,0.12283061457779328,0.11745501092146322,0.11300001023174028,0.10957795418329143,0.10728772894617224,0.10620258250470589,0.10635940620236707,0.10775277747501964,0.11033585921291324,0.11402782823386681,0.11872528123370518,0.12431428801679344,0.13068050740271814,0.13771619670086446,0.14532415374355442,0.15341926703520317,0.16192849144843988,0.17078994173172402,0.1799515908779181,0.1893698733459768,0.19900835613475798,0.20883655259713452,0.21882890256696563,0.2289639152912072,0.23922345917803584,0.24959217805360287,0.2600570135158579,0.27060681480857535,0.28123202017499294,0.2919243962593441,0.3026768245172847,0.313483125665739,0.3243379149332769,0.3352364822900088,0.34617469298304127,0.3571489046244383,0.3681558978147425,0.3791928178722952,0.39025712570675,0.4013465562486692,0.41245908314552615,0.42359288867335754,0.43474633800509555,0.4459179571309635,0.4571064138509462,0.4683105013602652],[0.6916412100633202,0.6803173469301228,0.668998197381951,0.6576840047900134,0.6463750294550623,0.6350715500945594,0.6237738654881688,0.6124822963014271,0.6011971871103176,0.5899189086528068,0.5786478603373133,0.5673844730426227,0.556129212249123,0.5448825815475086,0.533645126578512,0.522417439465976,0.5112001638159449,0.49999400036678704,0.48879971339004297,0.4776181379592544,0.46645018822508166,0.4552968668603317,0.44415927586905884,0.4330386289908679,0.42193626597642214,0.41085366906483034,0.3997924820603958,0.3887545324881272,0.3777418574081835,0.3667567335937791,0.3558017129310139,0.34487966409021675,0.3339938217563156,0.32314784500267046,0.31234588676405195,0.3015926768292721,0.29089362135622904,0.2802549226409916,0.2696837237827803,0.25918828401811944,0.24877819189237507,0.23846462513398736,0.2282606681174365,0.2181817001231211,0.20824587011003176,0.19847467611064284,0.18889366899564589,0.17953329999228643,0.170429926702078,0.16162697954024474,0.15317626319048705,0.14513931646790848,0.13758866688290022,0.1306086820028721,0.12429553839343016,0.11875563314878862,0.11410164957045234,0.11044563800756747,0.10788910030754079,0.10651123633454938,0.10635786504029464,0.10743423074800922,0.10970414261537761,0.11309575751373431,0.11751199223188816,0.12284238991114164,0.12897365502274574,0.13579735310691132,0.14321454193562805,0.15113786892401251,0.15949191927500253,0.1682125313263774,0.1772456080316315,0.1865457636287934,0.19607499784334628,0.20580149202753223,0.21569856270341795,0.22574377571475557,0.23591820846568648,0.24620584149738609,0.25659305949164823,0.2670682430788145,0.2776214351111898,0.2882440675803408,0.298928737740946,0.30966902410412656,0.3204593347398086,0.331294781794448,0.34217107732339497,0.35308444649849174,0.36403155502196705,0.37500944819343973,0.3860154995684197,0.3970473675392356,0.40810295848313655,0.4191803953736529,0.43027799095306646,0.44139422472623496,0.4525277231671143,0.46367724263545923],[0.6916412100633202,0.680366619752879,0.6690967353349556,0.6578317986717154,0.6465720683707771,0.6353178212490951,0.6240693539519157,0.6128269847461495,0.6015910555102904,0.5903619339462403,0.5791400160421799,0.5679257288200278,0.5567195334061981,0.5455219284704346,0.5343334540846387,0.5231546960620458,0.5119862908470831,0.5008289310381024,0.48968337163928133,0.47855043715484435,0.4674310296589246,0.45632613799862937,0.44523684831707006,0.4341643561184209,0.4231099801398689,0.4120751783473851,0.40106156643579066,0.39007093929138426,0.37910529597095755,0.3681668688687559,0.35725815788845455,0.34638197061757114,0.3355414697258803,0.3247402290886171,0.3139823004837741,0.30327229314836923,0.29261546902323815,0.28201785719656236,0.27148639190505214,0.2610290795052119,0.2506552011247418,0.24037555928226806,0.23020277864411925,0.22015167325395327,0.2102396949279305,0.2004874797988517,0.1909195116656036,0.18156492078317857,0.17245843304751188,0.16364147379327829,0.15516340711360094,0.14708284745271205,0.1394689043060363,0.13240210220267165,0.1259745538308389,0.12028877713196261,0.1154544141241852,0.11158218371875767,0.10877488612711181,0.10711628319876264,0.106659976310239,0.10742128798574238,0.10937479519689484,0.11245838644601572,0.1165824244281786,0.1216411313450116,0.1275233238669248,0.13412069777284438,0.14133313538555836,0.14907138857132263,0.157257854395524,0.16582616438130995,0.1747201504222752,0.18389256450324346,0.19330377580742814,0.20292056167148054,0.21271504202233016,0.22266376894745613,0.23274696356138003,0.2429478837899817,0.25325230418468136,0.2636480894250935,0.2741248450724334,0.2846736314805096,0.29528672909639586,0.3059574454829092,0.3166799561990596,0.32744917317941274,0.3382606354859454,0.34911041830438416,0.3599950568602301,0.3709114825733632,0.38185696928506124,0.39282908780308773,0.4038256673400931,0.41484476268475284,0.4258846261572471,0.4369436835715322,0.4480205135647834,0.4591138297660799],[0.6916412100633202,0.6804166534423541,0.6691968134467272,0.6579819313587093,0.6467722650852794,0.6355680906042018,0.6243697035624977,0.6131774210462202,0.6019915835431492,0.5908125571231586,0.5796407358646775,0.5684765445599373,0.5573204417366999,0.5461729230400354,0.5350345250246239,0.5239058294161991,0.5127874679103893,0.5016801275886297,0.49058455704441123,0.4795015733293281,0.4684320698477667,0.45737702535233155,0.446337514220073,0.4353147182233593,0.424309940050117,0.4133246188778346,0.40236034836624107,0.3914188975075435,0.38050223486381923,0.3696125568327239,0.3587523207203102,0.34792428357002525,0.3371315479081491,0.3263776158285004,0.31566645316626535,0.3050025659186593,0.29439109157901583,0.2838379086854417,0.27334976867465627,0.26293445510958285,0.2526009765515183,0.2423598008076225,0.2322231400226137,0.22220529808745948,0.21232309402425648,0.2025963771533244,0.19304865147675382,0.18370782688839504,0.17460711183924374,0.1657860530061261,0.15729170753596716,0.14917989532618883,0.14151641283330835,0.13437798575140333,0.12785259101685664,0.12203860465674429,0.11704209091232493,0.11297156759740482,0.10992994654516733,0.10800419080366258,0.10725442338946602,0.10770520629840503,0.10934169201489162,0.11211196984844704,0.11593479191183753,0.12071019919503616,0.12633021184772794,0.13268755285632713,0.13968158419144472,0.147221592380958,0.15522803737038146,0.16363246600310838,0.17237667561586908,0.18141153955639366,0.19069575006744555,0.20019461912117553,0.20987900318536337,0.21972437382505672,0.22971003232176662,0.23981845522695514,0.25003475359905747,0.2603462282595275,0.2707420047800207,0.28121273398864766,0.29175034598806776,0.3023478477394323,0.31299915607378065,0.32369895952080713,0.33444260360864553,0.34522599531890463,0.3560455232144471,0.3668979904277108,0.37778055823514545,0.3886906983743578,0.39962615260610274,0.4105848983005687,0.4215651190503586,0.43256517949220086,0.4435836036645393,0.4546190563456845],[0.6916412100633202,0.6804674236036556,0.6692983818042489,0.6581343262266613,0.646975514994117,0.6358222242246887,0.6246747496147127,0.613533408190967,0.6023985402527876,0.5912705115283539,0.5801497155729365,0.5690365764410606,0.55793155166939,0.5468351356128366,0.5357478631830943,0.5246703140466781,0.5136031173488671,0.502546957040986,0.4915025779015621,0.4804707923575102,0.46945248823014285,0.4584486375531475,0.4474603066365195,0.4364886675827964,0.4255350115010608,0.41460076371161814,0.4036875012919674,0.392796973385098,0.38193112477733565,0.37109212335876135,0.36028239220949115,0.34950464721591207,0.3387619413199936,0.328057716751654,0.3173958669008975,0.3067808098680264,0.2962175762051234,0.28571191395256884,0.2752704148071279,0.26490066616334207,0.2546114348797451,0.2444128899655438,0.2343168729800341,0.2243372267748265,0.21449019521401086,0.20479490848386625,0.19527397013153572,0.18595416223627453,0.1768672826361722,0.16805112035704667,0.15955055816718297,0.1514187582227075,0.14371832953384883,0.1365222850612282,0.12991446634122245,0.12398895508534648,0.11884785052172205,0.11459677279992314,0.11133771719739402,0.10915957299908535,0.10812768219103043,0.1082748221273644,0.10959624413941564,0.11205041063854462,0.11556517854056486,0.12004742658634907,0.12539344855670564,0.1314979369569256,0.13826046462730426,0.14558936398664077,0.15340348074655025,0.16163245675397603,0.17021613442779363,0.17910352295474702,0.18825161253521452,0.19762420267128597,0.20719082873732764,0.2169258207690035,0.22680750007836398,0.23681750492591216,0.2469402303370552,0.25716236554081423,0.26747251319382875,0.27786087624914835,0.2883190003411366,0.2988395615334859,0.30941619105888113,0.32004333021216363,0.33071610984233,0.3414302499446149,0.3521819757132475,0.3629679471101775,0.37378519956455347,0.3846310938674816,0.3955032736879987,0.4063996294267485,0.41731826735780353,0.42825748319776735,0.43921573939386416,0.45019164554638036],[0.6916412100633202,0.6805189056617242,0.669401390145649,0.6582889061464912,0.6471817128464616,0.6360800874032576,0.6249843265232428,0.6138947482013563,0.6028116936485404,0.5917355294304681,0.5806666498448235,0.5696054795684334,0.5585524766102814,0.5475081356119673,0.5364729915436804,0.5254476238513968,0.5144326611200455,0.5034287863280605,0.4924367427814016,0.4814573408302008,0.47049146548916254,0.45954008510434774,0.44860426123477937,0.43768515994835033,0.42678406476899244,0.4159023915574347,0.4050417056629646,0.39420374175070094,0.3833904267908403,0.37260390679673744,0.3618465780220128,0.35112112347879204,0.34043055582673154,0.3297782679145267,0.3191680925431504,0.30860437337678875,0.2980920493700689,0.2876367556289259,0.2772449443011378,0.26692402992811887,0.2566825647104089,0.24653045037130608,0.2364791947613245,0.2265422230189542,0.21673525492289997,0.20707676186221147,0.19758851824158044,0.18829626241428,0.17923048010366752,0.17042731652500612,0.16192960846725282,0.1537879990100681,0.14606204791595698,0.13882117167062694,0.1321451331957698,0.12612365920543814,0.12085462860863459,0.1164402325728192,0.11298069272142548,0.11056567620529353,0.1092644646825956,0.10911691157072892,0.110127654110192,0.11226541172424215,0.11546760498136635,0.11964880104443933,0.12471056909232078,0.130550523384661,0.13706923407317576,0.14417466269606757,0.15178443417677065,0.15982652537648345,0.1682389509899438,0.17696890604621315,0.1859716791474171,0.19520952805471858,0.20465062155415473,0.21426809520406312,0.2240392354097218,0.23394478845293348,0.24396838267759727,0.2540960489836019,0.2643158245973009,0.2746174262801708,0.2849919808725478,0.2954318029043116,0.305930210724023,0.31648137411341903,0.3270801876428934,0.33772216509584124,0.34840335116966736,0.3591202473771231,0.36986974965097846,0.3806490956225544,0.39145581992145606,0.4022877161475476,0.41314280441121093,0.42401930353585326,0.4349156071768634,0.4458302632412129],[0.6916412100633202,0.6805710749186445,0.6695057879781077,0.6584455936663683,0.6473907529949184,0.6363415449820959,0.6252982682202758,0.6142612426081863,0.6032308112688144,0.59220734267629,0.581191233018527,0.5701829088263524,0.5591828299044662,0.5481914926049617,0.5372094334904649,0.5262372334413813,0.5152755222704966,0.5043249839185336,0.4933863623165191,0.4824604680153884,0.4715481857006022,0.460650482730273,0.44976841886012786,0.4389031573484602,0.42805597767016046,0.4172282901123418,0.40642165257670754,0.3956377899777743,0.38487861670403933,0.37414626270448587,0.36344310387962425,0.3527717975997776,0.3421353243500348,0.33153703671932405,0.3209807172204575,0.31047064676115543,0.30001168599810046,0.28960937231511946,0.27927003579384246,0.2690009383144091,0.2588104408596626,0.24870820522072698,0.23870543762650123,0.22881518333145115,0.21905268283167328,0.2094358019792787,0.1999855494975963,0.19072669563333125,0.18168850378811843,0.17290558103347267,0.16441884033918483,0.1562765424708515,0.14853534245090375,0.1412611968998302,0.13452988926011886,0.1284268041388129,0.12304545704933646,0.11848422908494245,0.11484088185584454,0.11220486313527095,0.1106481904017578,0.11021660641375386,0.11092324455111711,0.11274670547883625,0.11563416697982429,0.1195085315452677,0.1242775330190317,0.12984263119903539,0.13610620890423344,0.14297649768433565,0.1503703602445535,0.15821440880108442,0.16644500781542973,0.17500762744315512,0.18385588449132603,0.19295048697294157,0.2022582066228828,0.2117509419854281,0.22140489669230323,0.23119987605780562,0.24111869413457315,0.2511466786469232,0.2612712599805072,0.27148163096317346,0.28176846553730867,0.29212368605485634,0.302540270541799,0.31301209274872355,0.32353378908016395,0.33410064757255775,0.34470851498394806,0.3553537187911179,0.3660330014863647,0.37674346504983885,0.3874825238647585,0.39824786465924583,0.40903741231444446,0.4198493005857537,0.4306818469520143,0.44153353094397246],[0.6916412100633202,0.6806239066047832,0.66961152468312,0.6586043111742753,0.6476025296187651,0.6366064616403907,0.6256164085111308,0.6146326928799237,0.6036556606855272,0.592685683276496,0.5817231597646482,0.5707685196422443,0.5598222256976088,0.5488847772691849,0.5379567138841693,0.5270386193351094,0.516131126256357,0.5052349212723183,0.49435075080132,0.4834794276130111,0.47262183825398274,0.46177895147628345,0.45095182782741955,0.4401416305891076,0.429349638286536,0.4185772590314875,0.4078260470129877,0.3970977215101584,0.386394188876168,0.3757175680326612,0.3650702201246711,0.35445478312158124,0.34387421231614845,0.3333318278783604,0.32283137087309083,0.31237706946135196,0.3019737173879847,0.291626767330037,0.2813424422585572,0.2711278686727806,0.2609912364208279,0.2509419908430898,0.24099106417148994,0.23115115447497542,0.2214370618982144,0.21186609335027226,0.20245854786422804,0.1932382950076678,0.18423345698879445,0.1754771998095662,0.1670086273051898,0.15887375018584451,0.15112646480433994,0.14382941699385993,0.13705454017916668,0.13088294670064904,0.1254037377942141,0.12071123448489804,0.11690021287991303,0.11405906528752065,0.11226145348938679,0.11155783462952996,0.11196883475906277,0.11348234404420805,0.11605523609310629,0.1196191715482022,0.1240887889437348,0.1293702509990618,0.1353685676513964,0.1419929200165066,0.14915992264690392,0.15679518065182882,0.16483363670574597,0.17321916714393074,0.18190377924832987,0.19084664761532005,0.20001313424267955,0.2093738708519931,0.21890393939787153,0.22858216145329419,0.2383904934090402,0.24831351780228236,0.2583380186137456,0.2684526281517851,0.2786475340359541,0.2889142361487726,0.29924534488765603,0.3096344134408006,0.32007579805277064,0.3305645413134935,0.34109627440192836,0.3516671349591026,0.3622736978752458,0.372912916773419,0.3835820743766659,0.39427874027411863,0.40500073486794913,0.41574609849931815,0.42651306492723473,0.4373000384772855],[0.6916412100633202,0.6806773759242071,0.6697185496100307,0.658764981042519,0.6478169369224812,0.6368747021501089,0.6259385813907321,0.6150089008035435,0.6040860099532283,0.5931702839272456,0.5822621256847595,0.571361968666999,0.5604702797032248,0.5495875622516231,0.5387143600204479,0.5278512610217846,0.5169989021185866,0.5061579741353956,0.49532922761468484,0.4845134793144161,0.47371161955861935,0.4629246205721052,0.4521535459534663,0.44139956146811865,0.43066394737624597,0.41994811255037295,0.40925361068540356,0.3985821589621736,0.3879356595962057,0.3773162247892707,0.36672620570610975,0.3561682262266818,0.34564522238099865,0.33516048856577285,0.3247177318779704,0.31432113619002416,0.3039754379470327,0.293686016102029,0.2834589991377246,0.2733013927698287,0.263221232705844,0.25322776775845185,0.243331679688776,0.23354534736509325,0.22388316410818254,0.21436191831990375,0.20500124838638212,0.19582418291326917,0.18685777571942852,0.17813384024228326,0.16968977780527236,0.16156947515923437,0.15382421420032197,0.14651348540305423,0.1397055220635311,0.1334772765103667,0.12791345806323257,0.12310418807762877,0.11914087648787189,0.11611018360950448,0.11408645837633709,0.1131237560876003,0.11324913843984162,0.11445902971305627,0.11671970942317549,0.11997179090225787,0.12413738202591514,0.1291281053051165,0.13485238041139233,0.1412210337911346,0.1481509879377896,0.15556724921505075,0.16340361620607022,0.17160254517224394,0.18011453075599337,0.1888972573353029,0.19791468471954274,0.20713616291213063,0.21653562409860821,0.22609087106974304,0.23578296464728934,0.2455957039814479,0.2555151897048575,0.2655294587897246,0.2756281802717334,0.285802402009043,0.2960443399017425,0.30634720227393397,0.3167050433033284,0.3271126404252027,0.33756539152825055,0.34805922850684845,0.35859054435307186,0.3691561314803949,0.3797531293869706,0.39037898010563016,0.40103139016405587,0.4117082980035826,0.42240784598843184,0.4331283562867421],[0.6916412100633202,0.6807314580948715,0.6698268121588279,0.6589275257556916,0.6480338693115891,0.6371461316025969,0.6262646213240293,0.6153896688220221,0.604521628007136,0.5936608784724577,0.5828078278418664,0.5719629143778386,0.5611266098824748,0.5502994229304436,0.5394819024784164,0.5286746419024237,0.5178782835226365,0.5070935236845573,0.4963211184767994,0.4855618901788665,0.47481673454803386,0.46408662907308007,0.453372642344841,0.442675944720112,0.43199782048722923,0.4213396817798686,0.4107030845316084,0.40008974681934334,0.3895015700108626,0.3789406632134637,0.3684093716196216,0.35791030946654956,0.3474463984739086,0.3370209128041031,0.3266375318099617,0.3163004021041843,0.30601421081447444,0.29578427229032067,0.28561663101611495,0.27551818407584017,0.2654968272214822,0.2555616294314753,0.24572304180812954,0.23599314773522745,0.22638596234151542,0.21691779036625652,0.20760765225356323,0.1984777882682737,0.18955424886366162,0.18086757518538318,0.17245356450182628,0.1643540986106002,0.15661798496849672,0.14930171588382263,0.14246998694773264,0.13619573290192527,0.1305593497428279,0.12564670952563614,0.12154560086132747,0.11834042516247226,0.11610540483242067,0.11489716924162195,0.11474815742724402,0.1156624633618412,0.11761529192108895,0.12055618615902175,0.12441509881644786,0.12910974119165558,0.13455266401085528,0.1406570267673533,0.14734064147552034,0.15452836550800547,0.1621531761252479,0.17015632510490944,0.17848692692654453,0.18710124761456726,0.19596187460561215,0.20503687815545707,0.2142990251338019,0.22372507371242942,0.23329515791532868,0.24299226010434236,0.2528017640351161,0.26271107893023615,0.27270932464967723,0.2827870686114366,0.29293610610777854,0.30314927678306947,0.3134203111340751,0.32374370188999024,0.3341145960000271,0.3445287036980515,0.3549822217354416,0.3654717683889861,0.375994328275424,0.3865472053526888,0.39712798277310096,0.4077344884868866,0.4183647656850009,0.42901704732614115],[0.6916412100633202,0.6807861283840898,0.6699362618532287,0.6590918680236407,0.6482532215479083,0.6374206156086619,0.6265943634935958,0.6157748003323115,0.6049622850145178,0.5941572023118209,0.5833599652284756,0.5725710176100963,0.5617908370435469,0.5510199380861384,0.5402588758679947,0.5295082501181466,0.5187687096727682,0.5080409575332002,0.4973257565522701,0.48662393584025393,0.47593639799700765,0.4652641272948168,0.4546081989579419,0.4439697897103977,0.43335018979405177,0.42275081669574727,0.4121732308661455,0.4016191537659618,0.391090488639231,0.3805893444906105,0.3701180638375375,0.35967925492198904,0.3492758292051738,0.33891104513724707,0.3285885593997687,0.3183124870691447,0.30808747245418516,0.2979187727311037,0.28781235694691887,0.2777750234999702,0.26781453984578996,0.25793980892555207,0.24816106767102533,0.2384901238836337,0.22894063875986173,0.21952846322254185,0.21027203679344328,0.2011928576093352,0.19231603066851233,0.1836708974075885,0.17529174156320224,0.16721855151073067,0.15949779459844615,0.15218312060647274,0.14533585626615042,0.13902508133081917,0.13332699863419062,0.1283232523508382,0.1240978598781105,0.12073257125602949,0.11830081107580015,0.11686087131126019,0.11644955040444127,0.11707769018263443,0.11872879385785151,0.12136111670017828,0.1249126414972609,0.12930765084969642,0.13446346096261838,0.1402962198462917,0.1467252175858236,0.1536756416983199,0.1610800094068421,0.16887862272342558,0.1770193836808521,0.18545724140046707,0.1941534645076631,0.20307486396922816,0.21219303988408167,0.2214836905456229,0.23092599979973208,0.24050210558878135,0.25019664547132436,0.2599963715533443,0.26988982611436213,0.27986706927130856,0.28991945068987185,0.3000394182727622,0.3102203577296836,0.32045645786244187,0.3307425972336916,0.34107424861365254,0.35144739821655,0.36185847725641546,0.37230430378229057,0.38278203310844555,0.39328911544789674,0.40382325959790616,0.4143824017234583,0.4249646784466446],[0.6916412100633202,0.6808413621397958,0.670046848405093,0.6592579308810237,0.6484748888863514,0.6376980204748238,0.6269276440176793,0.6161640999476629,0.6054077526839037,0.5946589927596674,0.5839182391780682,0.5731859420243969,0.5624625853678455,0.55174869049022,0.5410448194848282,0.5303515792752711,0.5196696261115172,0.5089996706096184,0.4983424834119825,0.48769890155755957,0.47706983566600014,0.4664562780572522,0.4558593119487314,0.44528012189679345,0.4347200056785766,0.4241803878453672,0.41366283522068636,0.40316907466681196,0.3927010135042639,0.38226076304214757,0.37185066576592235,0.3614733268365186,0.3511316506848501,0.3408288836436557,0.33056866375021043,0.320355079085887,0.3101927363001206,0.30008684130646823,0.29004329454744654,0.28006880371309884,0.2701710173748135,0.2603586836656373,0.25064183889680314,0.2410320318251181,0.2315425901224751,0.22218893633619646,0.21298896106254497,0.20396346082938546,0.19513664670482664,0.18653672597002027,0.1781965518710466,0.1701543234142255,0.16245429563135955,0.15514742755300703,0.14829184771340606,0.14195295571034275,0.13620291071139087,0.13111920474253108,0.12678201975468958,0.12327017858569561,0.12065577084717556,0.11899796159434438,0.11833696127245305,0.1186894252134246,0.12004642696263072,0.12237455336057992,0.12561982211663367,0.12971341419349816,0.1345779389408212,0.14013313381242443,0.14630034329873726,0.15300557970633613,0.16018129137924203,0.16776711986941117,0.1757099559653328,0.18396356284902451,0.19248796845928043,0.2012487646217013,0.2102163985911828,0.2193655053244223,0.228674304045158,0.23812406734629246,0.24769866225567694,0.2573841580821717,0.2671684938288772,0.27704119742850397,0.2869931493348821,0.2970163836767168,0.307103921001249,0.3172496274717974,0.32744809616541226,0.33769454681474786,0.34798474094303183,0.35831490985537573,0.3686816933817697,0.37908208762712375,0.389513400282113,0.3999732122950672,0.41045934490841157,0.42096983123064274],[0.6916412100633202,0.6808971348181023,0.6701585217711818,0.659425637774994,0.6486987671953499,0.63797821335839,0.6272643001419316,0.6165573737281216,0.6058578045365737,0.5951659893597946,0.5844823537257189,0.5738073545156746,0.5631414828701441,0.5524852674193947,0.541839277881516,0.5312041290767915,0.5205804854147817,0.5099690659192324,0.49937064986617535,0.4887860831226536,0.4782162852877265,0.46766225775423237,0.457125092829706,0.44660598407851176,0.43610623807541643,0.4256272877944212,0.4151707078968428,0.4047382322307636,0.39433177391175156,0.3839534484242606,0.3736056002668606,0.3632908337654949,0.35301204880100484,0.3427724823446668,0.3325757568737597,0.3224259369544744,0.3123275955390023,0.3022858918354706,0.292306662982123,0.28239653219915845,0.2725630366096319,0.2628147785171224,0.2531616045958234,0.2436148181647562,0.23418743042859871,0.2248944571692234,0.2157532676774952,0.2067839924050734,0.19800999436855035,0.1894584059314143,0.18116072598579172,0.17315346099547932,0.16547877453955898,0.15818508129688705,0.15132748071675098,0.1449678731603725,0.139174543040717,0.1340209459969981,0.12958343202221298,0.12593771911849141,0.12315414606203037,0.12129208400037951,0.1203942978028015,0.12048234559092687,0.12155408511498386,0.12358392682941126,0.12652576688722797,0.13031785662606776,0.13488850647186698,0.1401615708894444,0.14606099439470466,0.15251410940083704,0.1594537061421852,0.1668190834167769,0.17455635231906083,0.18261824944743593,0.19096366481858043,0.19955703165768843,0.20836767465348247,0.2173691747933886,0.22653878214028886,0.23585689057188708,0.24530657798000496,0.2548732095055673,0.26454409840415005,0.27430821794224075,0.2841559575553861,0.29407891687636545,0.3040697318733344,0.3141219280554193,0.3242297964135527,0.3343882884206337,0.34459292699760313,0.35483973085613923,0.36512515005779395,0.37544601099063885,0.38579946926638814,0.39618296929204055,0.4065942094782911,0.4170311122193192],[0.6916412100633202,0.6809534220076405,0.6702712322032459,0.659594912642509,0.648924753062927,0.6382610624039055,0.6276041704079278,0.6169544293828875,0.6063122161446074,0.5956779341611421,0.5850520159234275,0.5744349255702746,0.5638271617996663,0.553229261102924,0.5426418013636501,0.5320654058695857,0.5215007477927779,0.5109485552019557,0.5004096166809601,0.48988478763877175,0.47937499741044426,0.46888125726448304,0.4584046694514149,0.44794643745104107,0.4375078776028814,0.4270904323364737,0.41669568525653594,0.4063253783838169,0.39598143190731766,0.3856659668693457,0.3753813312838622,0.36513013028357705,0.35491526100555193,0.34473995306267585,0.3346078156139703,0.3245228922457234,0.3144897251141694,0.3045134300856403,0.2945997849489003,0.2847553331732951,0.27498750615002515,0.2653047673824687,0.25571678267646286,0.24623462099838175,0.23687099126594607,0.2276405208166748,0.2185600814909755,0.20964916888525117,0.2009303389149861,0.19242970266563733,0.18417747454224645,0.1762085584720956,0.16856314044935172,0.1612872308856522,0.1544330653216963,0.14805922724311638,0.14223030678544601,0.1370158671614907,0.1324884818730604,0.12872066692385142,0.1257807006137817,0.12372761005428946,0.12260595671450339,0.12244134123444943,0.1232375987837435,0.12497636478132512,0.12761912099370765,0.13111121470621104,0.13538693987807537,0.1403747080019789,0.14600156195401456,0.15219663540519848,0.15889347958174277,0.16603138910400153,0.17355595285467687,0.18141906642926234,0.18957860861952563,0.19799793513429703,0.20664529532039957,0.21549323916992114,0.22451805376653874,0.23369924924047955,0.2430191021572027,0.25246225702132585,0.2620153825953562,0.2716668778157537,0.28140662141642697,0.2912257594052022,0.30111652494432284,0.31107208575703654,0.32108641480012995,0.33115418054200796,0.3412706537353841,0.35143162805983175,0.3616333524301531,0.37187247312518085,0.38214598419437223,0.3924511848533678,0.4027856427915709,0.4131471624911704],[0.6916412100633202,0.6810101994511343,0.6703849302923598,0.6597656799786639,0.6491527438903142,0.6385464368633946,0.6279470948014244,0.617355076448035,0.6067707653395701,0.5961945719589995,0.5856269361154589,0.575068329577089,0.5645192589887306,0.5539802691105394,0.543451946418802,0.5329349231163046,0.522429881606687,0.511937559495463,0.5014587551900583,0.49099433418253763,0.48054523611200467,0.47011248271932704,0.4596971868253222,0.4493005624854026,0.43892393649957334,0.42856876148742123,0.4182366307743037,0.40792929537852346,0.397648683441294,0.38739692250348173,0.37717636510754643,0.3669896182922781,0.3568395776548354,0.3467294667827482,0.33666288301209396,0.326643850651714,0.3166768830324404,0.3067670550005378,0.29692008778164947,0.28714244850042675,0.27744146705454176,0.26782547350827357,0.2583039596802259,0.24888776912704053,0.23958932022021479,0.23042286738544981,0.221404805667535,0.2125540233428284,0.20389230592096097,0.19544479193958622,0.1872404755570973,0.1793127418377905,0.17169990620825223,0.1644457080815961,0.15759967870839953,0.1512172650841245,0.14535954904323395,0.1400923639767018,0.13548460096670545,0.13160554115094267,0.12852118320399908,0.12628976724453053,0.12495699579134356,0.12455172014756105,0.12508295605010802,0.12653890905467974,0.12888824548135536,0.13208330269104457,0.13606451625712135,0.14076519820890795,0.14611592718557484,0.15204809119421936,0.15849641826334576,0.16540054980806929,0.17270583041493454,0.18036352333498862,0.18833064527131063,0.1965695756082407,0.20504755270253253,0.2137361326303772,0.22261065702764748,0.2316497562286004,0.24083490030985405,0.250150002122213,0.25958107139047587,0.26911591627904485,0.27874388759790014,0.28845566047430937,0.2982430484590507,0.30809884543214966,0.3180166911768909,0.32799095701798026,0.3380166484243664,0.34808932193692926,0.35820501418737705,0.36836018112636043,0.37855164587927703,0.38877655390258875,0.3990323343274749,0.40931666655695004],[0.6916412100633202,0.6810674430646299,0.6704995670083603,0.659937864897349,0.6493826379748783,0.6388342072026347,0.6282929148830926,0.6177591264428507,0.6072332323956274,0.5967156505060994,0.5862068281786383,0.5757072450982954,0.5652174161551863,0.5547378946878321,0.5442692760861103,0.5338122018003859,0.5233673638102784,0.5129355096145437,0.5025174478129194,0.4921140543617461,0.48172627959803904,0.47135515614178614,0.46100180780404115,0.4506674596493602,0.4403534493859317,0.4300612402861201,0.4197924358749816,0.40954879666571137,0.3993322592702484,0.3891449582719743,0.3789892513174739,0.3688677479679257,0.35878334295051373,0.34873925456941296,0.3387390691780041,0.3287867927831022,0.31888691105262296,0.30904445923497065,0.29926510377599064,0.28955523774116126,0.2799220925180674,0.27037386868392727,0.26091988936376737,0.2515707798516249,0.2423386776719223,0.23323747753623134,0.2242831156601389,0.21549389741716923,0.20689087096566325,0.19849824675519678,0.19034385793061542,0.18245964855277078,0.17488216392519276,0.16765299871872974,0.16081913291233046,0.15443305298099966,0.1485525193541251,0.14323980930924982,0.1385602531266083,0.13457991430052377,0.13136236801622414,0.12896471974765233,0.12743325688146778,0.12679936825675756,0.12707648654363446,0.12825870685962507,0.13032139943002066,0.1332236736641118,0.13691214741866983,0.1413252766071533,0.1463975420437524,0.15206299890467484,0.15825795324842626,0.16492274769705365,0.17200277457232482,0.17944889251337537,0.18721742546847228,0.1952698967707928,0.20357261500942644,0.2120961937181883,0.2208150583832031,0.22970697298706147,0.23875260350422717,0.2479351260557526,0.2572398814250702,0.2666540741671754,0.27616651273351334,0.2857673862635362,0.29544807354163516,0.30520097981182975,0.315019397510384,0.324897387414206,0.33482967715006257,0.3448115744335168,0.35483889279121195,0.36490788785984424,0.37501520264975824,0.38515782041341556,0.39533302397327436,0.40553836054454967],[0.6916412100633202,0.681125128954761,0.6706150937351618,0.6601113931854186,0.6496143345839615,0.6391242451955066,0.6286414739042303,0.6181663930077681,0.6076994001905713,0.5972409206976026,0.5867914097321586,0.5763513551048374,0.5659212801643927,0.5555017470455172,0.5450933602735708,0.5346967707720313,0.524312680325145,0.5139418465560394,0.5035850884896409,0.49324329278034973,0.48291742069682914,0.47260851597082865,0.4623177136340484,0.45204624998718124,0.4417954738689914,0.4315668594213118,0.42136202057899835,0.4111827275531554,0.40103092562255443,0.39090875660351665,0.3808185834343254,0.3707630183884841,0.36074495552418573,0.3507676080879595,0.3408345517217175,0.3309497744778416,0.3211177348302621,0.3113434290845032,0.30163246983981995,0.2919911774441771,0.2824266867078926,0.2729470714998673,0.26356149022932657,0.25428035559092516,0.24511553227607907,0.23608056654989204,0.22719095153206412,0.218464431497591,0.20992134721623912,0.2015850218160819,0.19348218222899458,0.185643404072409,0.17810355675023404,0.17090220944905957,0.16408393668501137,0.15769843429002597,0.15180032573415222,0.14644851117187246,0.14170490031017133,0.13763239420778592,0.1342920619947933,0.13173960949636093,0.13002144562220566,0.12917086648744336,0.12920500761402362,0.13012317261716733,0.1319069025008494,0.1345217700551635,0.13792051017225185,0.1420468670881846,0.14683951303704598,0.15223553312002902,0.15817318772698596,0.1645938695792996,0.17144331805717264,0.17867222930778137,0.18623642114572073,0.1940966986131252,0.20221853792334835,0.2105716755957297,0.21912966221514618,0.22786941869818578,0.23677081726675756,0.24581629859812354,0.2549905296668674,0.26428010254101914,0.27367327197661784,0.28315972843198994,0.29273040264544276,0.30237729788501316,0.3120933461891092,0.3218722852480196,0.33170855295280555,0.3415971970161642,0.3515337974257244,0.3615143998125034,0.37153545810195987,0.3815937850624221,0.3916865095781231,0.4018110396551027],[0.6916412100633202,0.6811832334343922,0.6707314623026412,0.6602861913514253,0.6498477340210771,0.6394164240082608,0.6289926169097068,0.618576692026588,0.6081690543478987,0.5977701367335977,0.5873804023210315,0.5770003471813127,0.5666305032559753,0.5562714416084202,0.5459237760295171,0.5355881670423353,0.525265326357486,0.5149560218381081,0.5046610830423224,0.4943814074212291,0.48411796726249134,0.47387181748355106,0.463644104394941,0.45343607557343296,0.44324909100742765,0.4330846357037058,0.42294433397616066,0.41282996567435676,0.40274348465377924,0.3926870398417461,0.3826629993146753,0.372673977875514,0.36272286870673165,0.35281287977672887,0.3429475757985206,0.3331309266820502,0.32336736358857665,0.31366184389026003,0.30401992656284044,0.2944478597954784,0.2849526828882761,0.27554234481934176,0.2662258421868198,0.2570133795424818,0.247916555388784,0.23894857723798663,0.2301245090130602,0.22146155352379296,0.21297937150359775,0.20470043634342608,0.19665041965003896,0.18885859634686922,0.18135824832609299,0.17418703170423977,0.16738725384026318,0.16100598261760785,0.15509488413666017,0.1497096613057839,0.14490895502848283,0.14075258705553895,0.1372990867938791,0.13460256558574613,0.13270917468782212,0.1316535695931051,0.1314559343777074,0.13212011934543322,0.1336332748413089,0.13596705965049016,0.13908016908032922,0.14292168662960789,0.14743468568459928,0.1525595868275973,0.1582369472636643,0.16440954467994257,0.17102376513407208,0.17803039362880796,0.18538494228725336,0.1930476509939815,0.20098327601560728,0.20916075606543247,0.21755281996330633,0.2261355788599752,0.23488812982973656,0.24379218609240164,0.2528317413236303,0.2619927705071113,0.271262966752689,0.28063151181072843,0.29008887718612264,0.29962665246813674,0.3092373975243675,0.318914515414792,0.3286521431743378,0.3384450579342903,0.3482885961719544,0.3581785841768629,0.36811127809220867,0.37808331212927465,0.38809165376085014,0.39813356487898194],[0.6916412100633202,0.6812417330369347,0.6708486250157006,0.6604621866698533,0.650082737685727,0.6397106182753208,0.62934619083013,0.618989841735366,0.6086419833627401,0.5983030562623464,0.5879735315768702,0.5776539137044487,0.5673447432400643,0.5570466002294422,0.5467601077741528,0.5364859360320682,0.5262248066636379,0.5159774977817732,0.5057448494716225,0.49552776995642356,0.48532724249713827,0.47514433312704435,0.4649801993381966,0.4548360998551151,0.4447134056526891,0.43461361240070684,0.4245383545473227,0.4144894212889908,0.4044687747159161,0.3944785704710514,0.3845211813184701,0.37459922408515073,0.36471559052064123,0.35487348271379876,0.34507645381712054,0.3353284549595451,0.32563388938052773,0.3159976749939809,0.30642531679202234,0.2969229907258086,0.2874976409520672,0.27815709260313076,0.2689101825123536,0.2597669105817863,0.25073861467385095,0.2418381719764187,0.23308022962535369,0.22448146680850312,0.21606088938020307,0.2078401558409956,0.19984392990839653,0.19210024920190144,0.184640891046948,0.1775017043038376,0.17072285991015038,0.16434895266478705,0.15842886438115295,0.1530152782475296,0.14816372419122628,0.14393104750621533,0.140373242419048,0.13754268944300527,0.13548497751474486,0.13423565221693015,0.13381735687501858,0.13423786037070656,0.1354893530642622,0.1375491545289067,0.14038168865788578,0.14394134426994853,0.14817572726670813,0.1530288377815557,0.15844383142144494,0.16436518402392458,0.17074022140054668,0.17752007258215768,0.1846601543815535,0.19212030747383665,0.19986469411189586,0.20786154729054537,0.21608283877387233,0.22450391324898716,0.23310311966299357,0.24186145871161216,0.2507622569378726,0.2597908722030475,0.26893443166772524,0.2781816012496916,0.28752238433245547,0.29694794693948606,0.30645046642468843,0.3160230007977586,0.325659375998157,0.3353540886865338,0.345102222396524,0.35489937515899067,0.36474159696207104,0.37462533563764683,0.3845473899661458,0.3945048689673021],[0.6916412100633202,0.681300604529592,0.6709665346810314,0.6606393072216533,0.6503192481279413,0.6400067041680313,0.6297020445649761,0.6194056628200512,0.6091179787140854,0.5988394405071106,0.5885705273592586,0.5783117519988616,0.568063663667181,0.5578268513731816,0.5476019474963593,0.5373896317809302,0.5271906357708113,0.5170057477419095,0.5068358181964453,0.4966817659935783,0.48654458520169497,0.47642535277064074,0.466325237137258,0.4562455078952127,0.446187546680711,0.43615285944986415,0.42614309035180264,0.4161600374349111,0.40620567046265965,0.3962821511614692,0.38639185627708866,0.37653740387947865,0.3667216834307608,0.35694789021821516,0.34721956485648836,0.3375406386821795,0.32791548600175685,0.3183489843120495,0.30884658379235636,0.2994143875682241,0.2900592444664551,0.2807888562122741,0.27161190124973134,0.2625381775722167,0.25357876709286625,0.24474622410302008,0.23605479016529973,0.22752063722271862,0.21916213956664712,0.21100017329751034,0.20305843862956932,0.19536379531716738,0.18794659400406255,0.1808409758038207,0.17408509849087747,0.16772123049402327,0.16179563484603146,0.1563581478752603,0.1514613482499198,0.1471592208301454,0.14350525841214962,0.1405500222820704,0.13833829907149162,0.13690612795432763,0.13627808850967324,0.13646528349439005,0.1374643824614524,0.13925791161281648,0.1418157329176416,0.14509743248632287,0.1490552058139148,0.15363681362643625,0.15878826555287517,0.1644560205898429,0.17058862445706513,0.17713780379978356,0.18405909630012307,0.1913121192752191,0.1988605785149075,0.20667210515195802,0.21471798961323807,0.22297286322355364,0.23141436225873876,0.24002279691745604,0.24878083864214345,0.25767323292466454,0.26668654055118524,0.27580890759984494,0.2850298629383085,0.2943401411238237,0.30373152823160154,0.3131967280511822,0.3227292461754568,0.33232328968482083,0.3419736803496058,0.3516757795068031,0.3614254229941929,0.371218864736553,0.381052727770068,0.3909239616609273],[0.6916412100633202,0.6813598249257518,0.6710851446320188,0.6608174819317613,0.6505571690984728,0.640304559457555,0.6300600290581665,0.6198239785046645,0.6095968349654166,0.5993790543790175,0.5891711238805297,0.5789735644733159,0.5687869339754182,0.5586118302733177,0.5484488949203785,0.538298817122416,0.5281623381587609,0.518040256294041,0.5079334322438241,0.49784279526645414,0.48776934996406957,0.47771418388818504,0.4676784760596404,0.4576635065295353,0.4476706671273892,0.4377014735656971,0.42775757909686757,0.41784078994991924,0.407953082811077,0.398096624655472,0.3882737952875874,0.3784872130071294,0.36873976388600993,0.35903463522262846,0.34937535383325297,0.33976582994866467,0.3302104076088886,0.3207139225909613,0.31128176906472255,0.3019199763486588,0.29263529732862953,0.2834353102998734,0.2743285361840523,0.26532457323609054,0.25643425145419163,0.24766980888424592,0.23904509178097672,0.23057578002539975,0.2222796381182875,0.21417679021687072,0.20629001471504957,0.19864504935335942,0.19127089128247182,0.1842000673976887,0.1774688382915836,0.17111728450903133,0.16518920760405204,0.15973176364735278,0.15479473855678116,0.1504293808062774,0.1466867372756894,0.14361550032410692,0.14125946953046825,0.13965484699302189,0.13882769033297623,0.1387919006126166,0.13954808671588964,0.14108351460889323,0.14337315104530363,0.14638160931227123,0.15006566365085217,0.1543769543261568,0.15926455162715658,0.16467714941942455,0.17056477489430533,0.17687999911383961,0.18357869837268184,0.19062044922786642,0.1979686479960614,0.20559043818444628,0.21345651480872183,0.22154085833910844,0.22982043614722547,0.23827489709598526,0.24688627555867326,0.2556387143808488,0.26451821162120875,0.273512392820145,0.2826103086071867,0.2918022563206574,0.3010796237119565,0.3104347525538486,0.31986081993538146,0.3293517351164696,0.33890204997410844,0.34850688126205803,0.35816184310348975,0.3678629883278565,0.37760675744170935,0.38738993418481127],[0.6916412100633202,0.6814193714966972,0.6712044087521569,0.6609966406041639,0.6507964055954262,0.6406040635729231,0.6304199973673389,0.6202446146315245,0.6100783498555409,0.5999216665780541,0.5897750598163668,0.5796390587402535,0.5695142296180611,0.5594011790673121,0.5493005576463792,0.5392130638287858,0.5291394484074193,0.5190805193825603,0.5090371473952642,0.4990102717764696,0.48900090729243334,0.4790101516789583,0.4690391940706588,0.4590893244475267,0.4491619442397124,0.4392585782531621,0.4293808881040922,0.4195306873798476,0.40970995877820027,0.39992087351742545,0.39016581335648226,0.38044739561940605,0.37076850168175185,0.3611323094509163,0.3515423304577306,0.34200245227517156,0.33251698709252203,0.32309072740056266,0.3137290098853464,0.3044377887834124,0.29522372011629794,0.28609425838970914,0.2770577675000068,0.2681236477166772,0.2593024806707112,0.2506061942238282,0.2420482488451351,0.23364384656763498,0.22541016257729707,0.21736659778265188,0.20953504803341522,0.20194018164150707,0.19460971109562572,0.18757463695371973,0.1808694316024556,0.174532118053812,0.16860418518169396,0.16313026810955392,0.1581575150616805,0.15373456622293902,0.14991009378058417,0.14673090222284688,0.14423966583861927,0.14247247741097657,0.14145647571703704,0.14120787622943326,0.1417307171379866,0.14301653798056993,0.14504504878046132,0.14778567014356903,0.15119968421964367,0.15524267068282138,0.1598669170830184,0.16502356691939854,0.17066436706076793,0.17674296821651095,0.18321580043214478,0.19004258555986647,0.19718656447345909,0.2046145160434393,0.21229663498702683,0.22020632225759942,0.2283199281313379,0.23661647636176922,0.24507738833702883,0.2536862190711525,0.2624284117686451,0.2712910742071864,0.2802627778886155,0.28933337947681825,0.29849386320892496,0.307736202536489,0.3170532390846188,0.3264385770107398,0.335886490933803,0.34539184574498777,0.3549500267737897,0.3645568789511143,0.37420865377315854,0.38390196302069174],[0.6916412100633202,0.6814792217827823,0.6713242814972596,0.661176713954968,0.6510368639079509,0.6409050976550603,0.6307818047278453,0.6206673997347734,0.6105623243811108,0.6004670496839416,0.5903820784042669,0.5803079477209313,0.5702452321743241,0.5601945469114733,0.5501565512683507,0.5401319527300272,0.5301215113148604,0.5201260444352729,0.5101464322950301,0.5001836238914109,0.49023864370046705,0.48031259913491237,0.47040668887732556,0.46052221220659423,0.4506605794532224,0.44082332373968763,0.4310121141859346,0.42122877078790016,0.4114752812093016,0.4017538197645355,0.3920667689142352,0.3824167436457694,0.3728066191697144,0.36323956243119104,0.35371906801300135,0.3442489990967322,0.3348336342492341,0.3254777209154727,0.31618653662425805,0.3069659590490264,0.2978225462077482,0.28876362822692286,0.2797974122221632,0.2709331019421477,0.2621810338527592,0.25355283125719885,0.24506157778671453,0.23672201105604587,0.22855073631877879,0.220566458392081,0.21279022770260775,0.20524569273473725,0.19795934610148902,0.19096074458911313,0.18428267466438705,0.17796122423501295,0.1720357097329541,0.16654839674326008,0.16154394583057546,0.15706851802193167,0.15316849289273654,0.1498887921720337,0.1472708652954901,0.14535047455480182,0.144155499666375,0.1437040384162909,0.14400308389951866,0.14504799423061748,0.1468228457373413,0.1493016087415987,0.1524499513203601,0.1562273979962008,0.16058956085025866,0.16549020867056446,0.1708830191092943,0.17672294196374252,0.18296716960992113,0.1895757554017481,0.19651194330002855,0.20374227746173904,0.2112365553908019,0.2189676779430673,0.2269114377384241,0.23504627653207164,0.24335303283295218,0.2518146937903607,0.26041615996478173,0.2691440277531807,0.2779863916128619,0.2869326665108147,0.2959734299602007,0.3051002823927529,0.3143057243070858,0.32358304852170255,0.332926245873358,0.34232992278559166,0.3517892292549377,0.3612997959416938,0.37085767919455087,0.3804593129757238],[0.6916412100633202,0.6815393536041785,0.6714447179167028,0.6613576336438338,0.6512784516575026,0.6412075446074446,0.6311453086122987,0.6210921651082156,0.6110485628720518,0.6010149802383301,0.5909919275315463,0.5809799497381265,0.570979629445457,0.5609915900789585,0.5510164994722542,0.5410550738101315,0.5311080819893522,0.521176350448504,0.5112607685251497,0.5013622944066727,0.49148196175059294,0.48162088706096523,0.4717802779199892,0.461961442188442,0.4521657983053116,0.44239488683643924,0.43265038344448925,0.42293411347867516,0.4132480684129253,0.40359442439623266,0.3939755632195104,0.3843940960501685,0.3748528903396818,0.3653551003715323,0.3559042019879267,0.34650403211438263,0.3371588337921444,0.32787330752948485,0.31865266989350827,0.30950272038205046,0.3004299177365827,0.2914414669744537,0.2825454185205008,0.27375078088531524,0.26506764834171376,0.2565073449497784,0.2480825860125099,0.23980765752122207,0.2316986132515012,0.223773487735284,0.21605252115504106,0.20855838903141066,0.20131642512968637,0.1943548200387827,0.18770477024122267,0.18140054333988187,0.17547941511866896,0.16998142483950288,0.16494888936951516,0.16042561850183762,0.1564557883008786,0.15308246133275077,0.15034579440818605,0.14828104220855595,0.146916536558599,0.14627187564253208,0.14635657193063173,0.14716936618834642,0.14869831940867598,0.1509216674283094,0.15380930029555903,0.15732464418891684,0.16142669585487002,0.16607198515632837,0.17121630187163367,0.17681609500586926,0.1828295176751895,0.18921713787934713,0.19594236309397953,0.2029716376643436,0.21027447156307358,0.21782335214527776,0.22559358089753595,0.23356306728212012,0.24171210294063228,0.2500231322726461,0.2584805298055522,0.2670703906452088,0.2757803373772349,0.28459934480267207,0.29351758259772187,0.30252627518878805,0.31161757767957465,0.3207844664441545,0.33002064292787436,0.3393204492200341,0.34867879403963703,0.35809108788222743,0.36755318619501887,0.3770613395685574],[0.6916412100633202,0.6815997450712707,0.6715656736738611,0.6615393323040366,0.6515210778370508,0.641511289143903,0.6315103687863171,0.6215187448682672,0.611536873060865,0.6015652388194754,0.5916043598142621,0.5816547885980062,0.5717171155380759,0.561791972042857,0.5518800341168947,0.5419820262834972,0.5320987259187004,0.522230968046401,0.5123796506512491,0.5025457405736806,0.4927302800604405,0.48293439405427463,0.4731592983183746,0.4634063085049037,0.4536768502927887,0.4439724707382958,0.43429485100307885,0.4246458206488605,0.4150273737161681,0.40544168683717485,0.3958911396702958,0.3863783379874649,0.3769061397946494,0.3674776849228942,0.3580964285916772,0.3487661795191393,0.3394911432351025,0.330275971342475,0.3211258175696747,0.31204640155881724,0.30304408143743594,0.29412593631835693,0.285299859951734,0.27657466679767695,0.2679602117711715,0.2594675247947114,0.25110896102324876,0.24289836710380483,0.23485126299352138,0.22698503754663565,0.21931915411764916,0.21187535960595508,0.20467788646031715,0.19775363196667287,0.191132292558312,0.18484642304794574,0.17893138215830715,0.17342511779146152,0.16836774035818294,0.16380083350855323,0.15976646292420432,0.15630586951539469,0.15345787554587784,0.15125708856639658,0.14973204957038902,0.14890352261768094,0.1487831441386996,0.14937262622073033,0.15066363695595908,0.15263837685835804,0.15527076103229903,0.1585280319867202,0.1623725875018746,0.16676381493286657,0.17165976617224807,0.17701856746142888,0.18279951772999872,0.18896387668277206,0.19547537505292512,0.20230049521842414,0.20940857439846072,0.2167717791826458,0.224364992859541,0.23216564850156476,0.2401535325992113,0.24831057699592035,0.2566206512123515,0.26506936292543115,0.2736438712033848,0.28233271486863404,0.29112565684846503,0.3000135443913241,0.3089881844237381,0.3180422329835286,0.3271690975035055,0.3363628506743951,0.3456181546429393,0.3549301943709694,0.3642946190737322,0.3737074907576448],[0.6916412100633202,0.6816603745947608,0.6716871050658606,0.661721743571355,0.6517646528485131,0.6418162178339235,0.6318768473609495,0.6219469760126292,0.6120270661465603,0.6021176101103083,0.5922191326681393,0.5823321936624558,0.572457390936237,0.5625953635461194,0.5527467952995546,0.5429124186538158,0.5330930190195848,0.523289439517525,0.5135025862427439,0.5037334340995032,0.4939830332770968,0.48425251644764333,0.474543106777856,0.46485612685986527,0.4551930086811544,0.44555530477093275,0.43594470068015145,0.42636302897526884,0.4168122849522263,0.40729464430740636,0.3978124830371319,0.3883683998771153,0.3789652416387609,0.36960613185093233,0.3602945031742283,0.351034134120302,0.34182919068137996,0.33268427355445446,0.3236044717294462,0.3145954232985655,0.30566338443095237,0.2968153075355711,0.2880589296955711,0.27940287248264156,0.2708567542263167,0.2624313156861246,0.2541385598049936,0.24599190574291893,0.23800635660960992,0.23019867911523598,0.22258759159146502,0.2151939543269029,0.2080409527268139,0.20115425928471548,0.19456215466928697,0.1882955815068411,0.1823880971574467,0.1768756849843978,0.17179637911480117,0.16718965817144293,0.16309557230741206,0.15955358848158666,0.15660117328006076,0.15427217938534032,0.15259515449772487,0.15159173791581554,0.15127533446256522,0.15165024435672872,0.1527113761133105,0.154444586048386,0.1568275929457713,0.15983133498454755,0.1634215878058699,0.16756065487849925,0.1722089682621155,0.17732648538998327,0.18287382009433856,0.18881309201244478,0.1951085117030374,0.20172673830436932,0.20863705456877887,0.215811404044417,0.22322433038622932,0.2308528518806065,0.23867629700225554,0.24667612017436844,0.25483571131637117,0.2631402083381276,0.27157631839064394,0.28013215124521235,0.28879706646050884,0.2975615348384118,0.3064170139187087,0.31535583680438795,0.32437111335414,0.33345664266120667,0.34260683571031386,0.35181664713349653,0.36108151504798375,0.37039730803923276],[0.6916412100633202,0.6817212208955067,0.6718089690427207,0.6619048021119069,0.6520090885386021,0.642122219145741,0.6322446088421315,0.6223766984751318,0.6125189568537833,0.6026718829605916,0.592836008372349,0.5830118999128842,0.5732001625634613,0.5634014426597632,0.553616431408067,0.5438458687573897,0.5340905476691508,0.5243513188313378,0.5146290958703847,0.5049248611210905,0.49523967202306374,0.4855746682215285,0.47593107946104934,0.46631023437304947,0.45671357027212733,0.4471426440924138,0.43759914461384974,0.42808490614966505,0.4186019238908708,0.40915237113169206,0.39973861863198773,0.3903632564093476,0.3810291182951598,0.3717393096359868,0.3624972385744059,0.35330665140225703,0.34417167254388986,0.3350968497969172,0.3260872055318228,0.31714829462708016,0.30828626998903746,0.29950795656913465,0.29082093483492555,0.28223363466085655,0.2737554405579406,0.26539680902724305,0.25716939855704096,0.2490862123284102,0.24116175297010514,0.23341218760958182,0.22585551987796018,0.21851176329793595,0.21140310746386667,0.20455406448360208,0.19799157823938002,0.19174507325158552,0.1858464136978912,0.1803297373093413,0.1752311249102761,0.1705880664705535,0.1664386914529781,0.16282074778287248,0.15977034177263422,0.15732049013809804,0.15549958016025286,0.15432987574774648,0.15382623304297385,0.153995187267798,0.15483453664048447,0.1563334835448866,0.15847331233826598,0.16122850763813554,0.1645681650033065,0.16845752727458385,0.1728594931265138,0.17773597986344747,0.18304906724061956,0.188761891818445,0.19483929504510195,0.20124825040243877,0.2079581063387277,0.2149406848400575,0.2221702732424224,0.22962354176192148,0.237279413046184,0.24511890397390973,0.25312495455955425,0.2612822543950479,0.26957707359550637,0.2779971026116137,0.2865313033826558,0.295169772980655,0.30390362000199306,0.312724853385139,0.3216262829819323,0.3306014310168177,0.33964445348266453,0.3487500705064941,0.35791350474745676,0.367130426944577],[0.6916412100633202,0.6817822630141145,0.6719312232259211,0.6620884436490037,0.652254298233196,0.6424291834873632,0.6326135201774012,0.6228077551770596,0.6130123634875361,0.603227850443681,0.5934547541267782,0.5836936480062872,0.5739451438356648,0.5642098948304952,0.5544885991606832,0.5447820037924869,0.5350909087207326,0.5254161716367737,0.5157587130836955,0.506119522157067,0.4964996628172951,0.4869002808885199,0.47732261182914154,0.4677679893707019,0.4582378551351544,0.44873376935580217,0.4392574228446319,0.4298106503687305,0.42039544562128217,0.4110139779986609,0.40166861142475746,0.3923619254972937,0.38309673926886517,0.3738761380181567,0.36470350341441554,0.3555825475309037,0.34651735122043753,0.33751240742753535,0.32857267007570057,0.31970360923246016,0.31091127331489593,0.30220235914823734,0.2935842907201821,0.28506530747010683,0.2766545628953597,0.2683622341184774,0.260199642800947,0.2521793873592015,0.24431548576876155,0.23662352724619665,0.22912082967045821,0.22182659762474063,0.21476207328366897,0.20795066893586406,0.20141806568202508,0.19519225788372277,0.1893035175976527,0.18378424822161948,0.17866869310645547,0.1739924647241759,0.16979186537540708,0.16610298370880955,0.16296057415436305,0.16039675851747187,0.15843962711249557,0.157111853845033,0.156429465511269,0.15640090992095124,0.15702654377685205,0.15829861073094634,0.1602017126956939,0.1627137093927907,0.16580692862643392,0.1694495435790345,0.17360697549406462,0.17824320448110303,0.1833219076641682,0.1888073822656551,0.1946652440699946,0.20086291539777526,0.20736993079470084,0.21415809463092006,0.22120152503211885,0.22847661530136085,0.23596193906017748,0.24363811999142024,0.2514876820508519,0.2594948916955958,0.26764560017184963,0.27592709118358066,0.2843279372294542,0.29283786642393544,0.3014476405890929,0.31014894470912047,0.318934287391734,0.32779691170968506,0.33673071564854756,0.3457301813241083,0.3547903121254307,0.363906576967444],[0.6916412100633202,0.681843480320281,0.6720538259264015,0.6622726049890453,0.6525001967702837,0.6427370032456223,0.6329834508000098,0.6232399920751516,0.6135071079837646,0.6037853099082418,0.594075142103254,0.5843771843241593,0.5746920547057222,0.5650204129186468,0.5553629636348221,0.5457204603360299,0.5360937095052555,0.5264835752447204,0.5168909843704399,0.507316932039571,0.4977624879741985,0.488228803353619,0.47871711845678816,0.4692287711475666,0.459765206307917,0.4503279863385005,0.44091880286242846,0.431539489786516,0.4221920378955496,0.41287861117913227,0.40360156511792916,0.39436346718692905,0.3851671198679495,0.3760155865022988,0.3669122203573838,0.3578606973280582,0.3488650527443011,0.3399297228105612,0.3310595912573251,0.3222600418396461,0.3135370173665861,0.3048970859837801,0.29634751544983023,0.28789635613323644,0.2795525333920699,0.27132594985860564,0.26322759790159916,0.2552696821344801,0.2474657512195419,0.23983083731223354,0.2323816002069506,0.22513647148611912,0.21811579163673228,0.21134193010152502,0.2048393745508379,0.19863477138542532,0.19275689489593642,0.18723651819590953,0.18210615599685898,0.17739964894947982,0.17315156347104166,0.1693963916591933,0.16616755450888904,0.16349623826068768,0.1614101259802112,0.15993211904467752,0.15907916810480027,0.15886134154453957,0.1592812450961116,0.16033386832177854,0.1620068785956461,0.16428132329392947,0.16713265014271117,0.17053192485241098,0.17444711844462196,0.1788443512192004,0.18368900860427828,0.1889466773739345,0.1945838816266597,0.20056862211414644,0.20687073851624788,0.21346212268542977,0.22031681342580794,0.2274110019863952,0.23472297386585605,0.242233008043965,0.24992325022143308,0.2577775725428487,0.26578142881048583,0.2739217114151856,0.28218661406651857,0.2905655028072833,0.29904879664461737,0.3076278583242409,0.31629489523124754,0.32504287005124965,0.3338654206152271,0.34275678823858846,0.3517117538188109,0.36072558095399376],[0.6916412100633202,0.6819048525218736,0.6721767361619756,0.6624572240464417,0.6527467005314788,0.6430455728232719,0.6333542726704787,0.623673258206375,0.6140030159559671,0.604344063025157,0.5946969494910407,0.5850622610146781,0.5754406217002138,0.5658326972271159,0.5562391982855586,0.5466608843486721,0.5370985678195827,0.5275531185959237,0.518025469099914,0.5085166198282516,0.4990276454830718,0.4895597017531873,0.4801140328238951,0.4706919797039697,0.4612949894702125,0.4519246255433178,0.4425825791240274,0.43327068193583934,0.4239909204401455,0.41474545171186605,0.4055366211886925,0.39636698253520763,0.3872393198946274,0.37815667283588267,0.369122364342259,0.3601400322296833,0.3512136644275656,0.3423476386019673,0.3335467666482636,0.32481634462591696,0.3161622087477202,0.3075907980642383,0.29910922449302074,0.29072535081980877,0.2824478772291426,0.2742864367821714,0.26625170001999,0.2583554884918698,0.250610896438431,0.24303241903692313,0.23563608446429962,0.22843958547033358,0.22146240409494444,0.21472592054670633,0.20825349406723465,0.20207049991836104,0.1962043026866748,0.19068414238665896,0.1855409071665067,0.18080676595766054,0.17651463766336642,0.17269748206692,0.1693874128279375,0.1666146549565597,0.16440639640083377,0.16278561182790713,0.16176996003067867,0.16137086734578837,0.16159290206255966,0.16243351709401394,0.16388319396303563,0.1659259695194937,0.16854027936343663,0.17170001888261377,0.17537570957843027,0.1795356645501089,0.184147067558036,0.18917690779918644,0.19459274063582951,0.2003632682936867,0.20645875172526806,0.21285127520418387,0.2195148898311954,0.22642566256637048,0.2335616552199894,0.24090285431900943,0.2484310688268557,0.2561298089003411,0.26398415552009924,0.271980628048135,0.28010705455364615,0.2883524480517617,0.29670689053952204,0.30516142580490624,0.3137079613500397,0.32233917934215806,0.33104845623113444,0.33982979050772166,0.3486777379895224,0.3575873539876955],[0.6916412100633202,0.6819663596737271,0.672299913674121,0.6626422398675164,0.6529937274720646,0.6433547886741005,0.6337258603155984,0.6241074057295009,0.6144999167378979,0.6049039158297561,0.5953199585368152,0.5857486360284516,0.5761905779487557,0.5666464555218396,0.5571169849545251,0.5476029311691003,0.5381051119028454,0.5286244022155717,0.519161739451571,0.5097181287082151,0.500294648870085,0.4908924592750353,0.48151280708715966,0.4721570354613322,0.4628265925950286,0.45352304177564007,0.4442480725456744,0.43500351312429425,0.42579134424178083,0.4166137145639601,0.4074729579065983,0.3983716124654686,0.38931244231636875,0.3802984614709187,0.3713329608084545,0.3624195382415414,0.35356213251204427,0.3447650610553947,0.3360330624111401,0.3273713436956598,0.31878563368446805,0.3102822420715168,0.30186812547379077,0.293550960720633,0.2853392258939637,0.2772422894479479,0.26927050750820536,0.26143532909675127,0.25374940850559685,0.246226723295355,0.23888269536198684,0.23173431112561158,0.22480023508245967,0.2181009086735083,0.21165862365163451,0.2054975559436462,0.19964374260750867,0.1941249812792465,0.18897062915124108,0.18421127798747122,0.1798782841939303,0.17600313986443752,0.17261668311765987,0.16974816426034747,0.1674242072693989,0.16566773077648175,0.16449691423332072,0.16392430721144913,0.16395617746225996,0.16459217384837002,0.1658253454301889,0.1676425143356074,0.17002495690133448,0.17294931412599013,0.17638863476656766,0.18031345380694763,0.18469282255567035,0.18949522873725308,0.1946893696522768,0.20024476404598276,0.20613220595257595,0.21232407556547261,0.21879452856368062,0.22551958745281406,0.23247715769766525,0.23964698894060044,0.2470105983479672,0.25455116973795033,0.2622534389946303,0.27010357355073106,0.2780890514854073,0.2861985440180387,0.2944218038305764,0.30274956065115793,0.3111734248114727,0.31968579898729743,0.3282797979928186,0.3369491762819405,0.34568826268006864,0.3544919018020913],[0.6916412100633202,0.682027982186125,0.6724233189440971,0.6628275926533281,0.6532411971494996,0.6436645493359957,0.6340980908648152,0.6245422899634501,0.6149976434223718,0.605464678759418,0.5959439565792354,0.586436073148025,0.5769416632061961,0.5674614030441909,0.5579960138697457,0.5485462654982377,0.5391129804015987,0.5296970381556044,0.5202993803302469,0.5109210158734441,0.5015630270446166,0.4922265759617817,0.48291291183385665,0.47362337895900225,0.4643594255801479,0.45512261370052914,0.4459146299752579,0.4367372978098333,0.42759259081325607,0.4184826477722156,0.40940978933385275,0.40037653660801475,0.3913856319258055,0.3824400620196439,0.3735430839208644,0.3646982539038604,0.3559094598403268,0.3471809573623467,0.33851741026737736,0.3299239356292932,0.3214061541041272,0.3129702459320755,0.3046230131317322,0.2963719483487278,0.2882253107457435,0.28019220918653975,0.27228269274979766,0.26450784827906654,0.256879904195047,0.24941233911975003,0.24211999293533712,0.23501917666591396,0.22812777597288386,0.22146534105326368,0.21505315332083905,0.20891425649420892,0.2030734367851043,0.19755713410756215,0.1923932641590309,0.18761093064806716,0.18324000887195707,0.17931058739530645,0.17585226470136406,0.1728933127597515,0.1704597387695339,0.16857429766606793,0.1672555274833459,0.16651689242161083,0.16636611974095636,0.16680480353235633,0.16782832154665553,0.16942607500842682,0.17158202301012887,0.17427545063958258,0.17748188955187685,0.18117410380645876,0.18532306119081948,0.18989882694764817,0.19487133778712382,0.2002110347950073,0.20588935126500782,0.21187906414475643,0.21815452557598625,0.2246917946512586,0.23146869007668608,0.23846478300982807,0.2456613468454606,0.25304127781810787,0.26058899741472175,0.2682903449908191,0.2761324667706958,0.28410370561177123,0.29219349449928617,0.3003922556607655,0.3086913063921866,0.3170827721134668,0.3255595067696543,0.3341150204240064,0.34274341371594846,0.3514393187540108],[0.6916412100633202,0.6820897008329367,0.6725469132083294,0.6630132237813324,0.6534890307502903,0.6439747554618649,0.6344708440839177,0.6249777694223415,0.6154960328961249,0.606026166686543,0.5965687360781484,0.587124342011255,0.5776936238678723,0.5682772625155929,0.5588759836368111,0.5494905613738841,0.5401218223244967,0.5307706499256151,0.52143798926906,0.512124852396988,0.5028323241315031,0.49356156849932825,0.4843138358200403,0.4750904705349295,0.46589291986319803,0.4567227433831029,0.447581623647905,0.43847137796027,0.4293939714442168,0.4203515315709837,0.4113463643144088,0.40238097213271495,0.39345807399700294,0.3845806277122772,0.37575185480431506,0.36697526827481564,0.35825470355745304,0.34959435303774566,0.3409988045285457,0.33247308411823423,0.3240227038271538,0.31565371451482127,0.30737276446966627,0.2991871640756358,0.291104956874138,0.2831349972097089,0.27528703444289915,0.2675718034079185,0.2600011203528583,0.25258798298749885,0.24534667243274433,0.23829285376847445,0.23144367046778913,0.22481782625329663,0.21843564581379152,0.2123191034318267,0.2064918060390705,0.20097891481355792,0.19580698761068113,0.19100372392673218,0.18659759556265743,0.18261735061276804,0.1790913866691083,0.17604700160036046,0.17350954649547795,0.17150152371577154,0.17004169049904236,0.16914424121999758,0.168818145136064,0.16906670835989404,0.1698874085484077,0.17127202121220367,0.1732070231720104,0.17567422822167447,0.1786515883098397,0.18211408377484634,0.18603462842129928,0.1903849269078986,0.1951362390095103,0.20026002375662347,0.2057284530987532,0.21151479776361806,0.21759369680838272,0.22394132728835117,0.23053549228648995,0.2373556451805096,0.24438286632559472,0.25159980597597226,0.25899060473298274,0.26654080038887323,0.2742372278942121,0.28206791737707193,0.2900219936883257,0.29808957981056583,0.30626170560405347,0.31453022272357856,0.322887726079453,0.3313274818938985,0.33984336218722766,0.3484297853893416]]]},\"selected\":{\"id\":\"12164\",\"type\":\"Selection\"},\"selection_policy\":{\"id\":\"12165\",\"type\":\"UnionRenderers\"}},\"id\":\"11879\",\"type\":\"ColumnDataSource\"},{\"attributes\":{\"color_mapper\":{\"id\":\"11878\",\"type\":\"LinearColorMapper\"},\"dh\":{\"units\":\"data\",\"value\":100},\"dw\":{\"units\":\"data\",\"value\":1.3972811658555098},\"image\":{\"field\":\"image\"},\"x\":{\"value\":0},\"y\":{\"value\":0}},\"id\":\"11881\",\"type\":\"Image\"},{\"attributes\":{},\"id\":\"11866\",\"type\":\"BasicTicker\"},{\"attributes\":{},\"id\":\"11863\",\"type\":\"LinearScale\"},{\"attributes\":{},\"id\":\"12161\",\"type\":\"BasicTicker\"},{\"attributes\":{\"data_source\":{\"id\":\"11879\",\"type\":\"ColumnDataSource\"},\"glyph\":{\"id\":\"11880\",\"type\":\"Image\"},\"hover_glyph\":null,\"muted_glyph\":null,\"nonselection_glyph\":{\"id\":\"11881\",\"type\":\"Image\"},\"selection_glyph\":null,\"view\":{\"id\":\"11883\",\"type\":\"CDSView\"}},\"id\":\"11882\",\"type\":\"GlyphRenderer\"},{\"attributes\":{\"callback\":null,\"end\":1.3972811658555098},\"id\":\"11857\",\"type\":\"Range1d\"},{\"attributes\":{\"source\":{\"id\":\"11879\",\"type\":\"ColumnDataSource\"}},\"id\":\"11883\",\"type\":\"CDSView\"},{\"attributes\":{},\"id\":\"12164\",\"type\":\"Selection\"},{\"attributes\":{},\"id\":\"12162\",\"type\":\"BasicTickFormatter\"},{\"attributes\":{\"text\":\"\"},\"id\":\"12157\",\"type\":\"Title\"},{\"attributes\":{\"active_drag\":\"auto\",\"active_inspect\":\"auto\",\"active_multi\":null,\"active_scroll\":\"auto\",\"active_tap\":\"auto\",\"tools\":[{\"id\":\"11875\",\"type\":\"HoverTool\"}]},\"id\":\"11876\",\"type\":\"Toolbar\"},{\"attributes\":{\"axis_label\":\"range\",\"formatter\":{\"id\":\"12162\",\"type\":\"BasicTickFormatter\"},\"ticker\":{\"id\":\"11871\",\"type\":\"BasicTicker\"}},\"id\":\"11870\",\"type\":\"LinearAxis\"},{\"attributes\":{\"dimension\":1,\"ticker\":{\"id\":\"11871\",\"type\":\"BasicTicker\"}},\"id\":\"11874\",\"type\":\"Grid\"},{\"attributes\":{},\"id\":\"12160\",\"type\":\"BasicTickFormatter\"},{\"attributes\":{},\"id\":\"11871\",\"type\":\"BasicTicker\"},{\"attributes\":{},\"id\":\"11861\",\"type\":\"LinearScale\"},{\"attributes\":{},\"id\":\"12165\",\"type\":\"UnionRenderers\"},{\"attributes\":{\"color_mapper\":{\"id\":\"11878\",\"type\":\"LinearColorMapper\"},\"formatter\":{\"id\":\"12160\",\"type\":\"BasicTickFormatter\"},\"location\":[0,0],\"ticker\":{\"id\":\"12161\",\"type\":\"BasicTicker\"}},\"id\":\"11884\",\"type\":\"ColorBar\"},{\"attributes\":{\"ticker\":{\"id\":\"11866\",\"type\":\"BasicTicker\"}},\"id\":\"11869\",\"type\":\"Grid\"},{\"attributes\":{\"axis_label\":\"sill\",\"formatter\":{\"id\":\"12158\",\"type\":\"BasicTickFormatter\"},\"ticker\":{\"id\":\"11866\",\"type\":\"BasicTicker\"}},\"id\":\"11865\",\"type\":\"LinearAxis\"}],\"root_ids\":[\"11856\"]},\"title\":\"Bokeh Application\",\"version\":\"1.4.0\"}};\n",
       "  var render_items = [{\"docid\":\"de378ccb-16b0-467a-87e6-f3bdb6259a40\",\"roots\":{\"11856\":\"eb5eec2d-3e12-4058-a22b-7fdb1856e1ab\"}}];\n",
       "  root.Bokeh.embed.embed_items_notebook(docs_json, render_items);\n",
       "\n",
       "  }\n",
       "  if (root.Bokeh !== undefined) {\n",
       "    embed_document(root);\n",
       "  } else {\n",
       "    var attempts = 0;\n",
       "    var timer = setInterval(function(root) {\n",
       "      if (root.Bokeh !== undefined) {\n",
       "        clearInterval(timer);\n",
       "        embed_document(root);\n",
       "      } else {\n",
       "        attempts++;\n",
       "        if (attempts > 100) {\n",
       "          clearInterval(timer);\n",
       "          console.log(\"Bokeh: ERROR: Unable to run BokehJS code because BokehJS library is missing\");\n",
       "        }\n",
       "      }\n",
       "    }, 10, root)\n",
       "  }\n",
       "})(window);"
      ],
      "application/vnd.bokehjs_exec.v0+json": ""
     },
     "metadata": {
      "application/vnd.bokehjs_exec.v0+json": {
       "id": "11856"
      }
     },
     "output_type": "display_data"
    }
   ],
   "source": [
    "show(optim)"
   ]
  },
  {
   "cell_type": "markdown",
   "metadata": {
    "slideshow": {
     "slide_type": "subslide"
    }
   },
   "source": [
    "We can see a few things here:\n",
    "\n",
    "* To *minimize*, we need the smallest RMSE, represented by the green colors\n",
    "\n",
    "* The small sill values yield so bad results, that the range didn't matter. That's expected.\n",
    "\n",
    "* The effect of the range is only visible for large sill values\n",
    "\n",
    "* Our manual fitting with `range=70` and `sill=0.76` was already close to optimality."
   ]
  },
  {
   "cell_type": "code",
   "execution_count": 133,
   "metadata": {},
   "outputs": [],
   "source": [
    "low_index = 0\n",
    "\n",
    "# find best fit\n",
    "# find all which are in 95% percentile and plot all of them to compare\n",
    "# adjust loss function to first few bins"
   ]
  }
 ],
 "metadata": {
  "celltoolbar": "Slideshow",
  "finalized": {
   "timestamp": 1588852581312,
   "trusted": true
  },
  "kernelspec": {
   "display_name": "Python 3",
   "language": "python",
   "name": "python3"
  },
  "language_info": {
   "codemirror_mode": {
    "name": "ipython",
    "version": 3
   },
   "file_extension": ".py",
   "mimetype": "text/x-python",
   "name": "python",
   "nbconvert_exporter": "python",
   "pygments_lexer": "ipython3",
   "version": "3.7.7"
  }
 },
 "nbformat": 4,
 "nbformat_minor": 4
}
