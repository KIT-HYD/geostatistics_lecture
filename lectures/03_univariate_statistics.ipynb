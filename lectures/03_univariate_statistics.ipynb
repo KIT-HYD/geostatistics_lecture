{
 "cells": [
  {
   "cell_type": "markdown",
   "metadata": {
    "slideshow": {
     "slide_type": "slide"
    }
   },
   "source": [
    "# Geostatistics"
   ]
  },
  {
   "cell_type": "markdown",
   "metadata": {
    "slideshow": {
     "slide_type": "fragment"
    }
   },
   "source": [
    "## 2. Univariate statistics"
   ]
  },
  {
   "cell_type": "code",
   "execution_count": 1,
   "metadata": {
    "slideshow": {
     "slide_type": "notes"
    }
   },
   "outputs": [
    {
     "data": {
      "text/html": [
       "\n",
       "    <div class=\"bk-root\">\n",
       "        <a href=\"https://bokeh.org\" target=\"_blank\" class=\"bk-logo bk-logo-small bk-logo-notebook\"></a>\n",
       "        <span id=\"1001\">Loading BokehJS ...</span>\n",
       "    </div>"
      ]
     },
     "metadata": {},
     "output_type": "display_data"
    },
    {
     "data": {
      "application/javascript": [
       "\n",
       "(function(root) {\n",
       "  function now() {\n",
       "    return new Date();\n",
       "  }\n",
       "\n",
       "  var force = true;\n",
       "\n",
       "  if (typeof root._bokeh_onload_callbacks === \"undefined\" || force === true) {\n",
       "    root._bokeh_onload_callbacks = [];\n",
       "    root._bokeh_is_loading = undefined;\n",
       "  }\n",
       "\n",
       "  var JS_MIME_TYPE = 'application/javascript';\n",
       "  var HTML_MIME_TYPE = 'text/html';\n",
       "  var EXEC_MIME_TYPE = 'application/vnd.bokehjs_exec.v0+json';\n",
       "  var CLASS_NAME = 'output_bokeh rendered_html';\n",
       "\n",
       "  /**\n",
       "   * Render data to the DOM node\n",
       "   */\n",
       "  function render(props, node) {\n",
       "    var script = document.createElement(\"script\");\n",
       "    node.appendChild(script);\n",
       "  }\n",
       "\n",
       "  /**\n",
       "   * Handle when an output is cleared or removed\n",
       "   */\n",
       "  function handleClearOutput(event, handle) {\n",
       "    var cell = handle.cell;\n",
       "\n",
       "    var id = cell.output_area._bokeh_element_id;\n",
       "    var server_id = cell.output_area._bokeh_server_id;\n",
       "    // Clean up Bokeh references\n",
       "    if (id != null && id in Bokeh.index) {\n",
       "      Bokeh.index[id].model.document.clear();\n",
       "      delete Bokeh.index[id];\n",
       "    }\n",
       "\n",
       "    if (server_id !== undefined) {\n",
       "      // Clean up Bokeh references\n",
       "      var cmd = \"from bokeh.io.state import curstate; print(curstate().uuid_to_server['\" + server_id + \"'].get_sessions()[0].document.roots[0]._id)\";\n",
       "      cell.notebook.kernel.execute(cmd, {\n",
       "        iopub: {\n",
       "          output: function(msg) {\n",
       "            var id = msg.content.text.trim();\n",
       "            if (id in Bokeh.index) {\n",
       "              Bokeh.index[id].model.document.clear();\n",
       "              delete Bokeh.index[id];\n",
       "            }\n",
       "          }\n",
       "        }\n",
       "      });\n",
       "      // Destroy server and session\n",
       "      var cmd = \"import bokeh.io.notebook as ion; ion.destroy_server('\" + server_id + \"')\";\n",
       "      cell.notebook.kernel.execute(cmd);\n",
       "    }\n",
       "  }\n",
       "\n",
       "  /**\n",
       "   * Handle when a new output is added\n",
       "   */\n",
       "  function handleAddOutput(event, handle) {\n",
       "    var output_area = handle.output_area;\n",
       "    var output = handle.output;\n",
       "\n",
       "    // limit handleAddOutput to display_data with EXEC_MIME_TYPE content only\n",
       "    if ((output.output_type != \"display_data\") || (!output.data.hasOwnProperty(EXEC_MIME_TYPE))) {\n",
       "      return\n",
       "    }\n",
       "\n",
       "    var toinsert = output_area.element.find(\".\" + CLASS_NAME.split(' ')[0]);\n",
       "\n",
       "    if (output.metadata[EXEC_MIME_TYPE][\"id\"] !== undefined) {\n",
       "      toinsert[toinsert.length - 1].firstChild.textContent = output.data[JS_MIME_TYPE];\n",
       "      // store reference to embed id on output_area\n",
       "      output_area._bokeh_element_id = output.metadata[EXEC_MIME_TYPE][\"id\"];\n",
       "    }\n",
       "    if (output.metadata[EXEC_MIME_TYPE][\"server_id\"] !== undefined) {\n",
       "      var bk_div = document.createElement(\"div\");\n",
       "      bk_div.innerHTML = output.data[HTML_MIME_TYPE];\n",
       "      var script_attrs = bk_div.children[0].attributes;\n",
       "      for (var i = 0; i < script_attrs.length; i++) {\n",
       "        toinsert[toinsert.length - 1].firstChild.setAttribute(script_attrs[i].name, script_attrs[i].value);\n",
       "      }\n",
       "      // store reference to server id on output_area\n",
       "      output_area._bokeh_server_id = output.metadata[EXEC_MIME_TYPE][\"server_id\"];\n",
       "    }\n",
       "  }\n",
       "\n",
       "  function register_renderer(events, OutputArea) {\n",
       "\n",
       "    function append_mime(data, metadata, element) {\n",
       "      // create a DOM node to render to\n",
       "      var toinsert = this.create_output_subarea(\n",
       "        metadata,\n",
       "        CLASS_NAME,\n",
       "        EXEC_MIME_TYPE\n",
       "      );\n",
       "      this.keyboard_manager.register_events(toinsert);\n",
       "      // Render to node\n",
       "      var props = {data: data, metadata: metadata[EXEC_MIME_TYPE]};\n",
       "      render(props, toinsert[toinsert.length - 1]);\n",
       "      element.append(toinsert);\n",
       "      return toinsert\n",
       "    }\n",
       "\n",
       "    /* Handle when an output is cleared or removed */\n",
       "    events.on('clear_output.CodeCell', handleClearOutput);\n",
       "    events.on('delete.Cell', handleClearOutput);\n",
       "\n",
       "    /* Handle when a new output is added */\n",
       "    events.on('output_added.OutputArea', handleAddOutput);\n",
       "\n",
       "    /**\n",
       "     * Register the mime type and append_mime function with output_area\n",
       "     */\n",
       "    OutputArea.prototype.register_mime_type(EXEC_MIME_TYPE, append_mime, {\n",
       "      /* Is output safe? */\n",
       "      safe: true,\n",
       "      /* Index of renderer in `output_area.display_order` */\n",
       "      index: 0\n",
       "    });\n",
       "  }\n",
       "\n",
       "  // register the mime type if in Jupyter Notebook environment and previously unregistered\n",
       "  if (root.Jupyter !== undefined) {\n",
       "    var events = require('base/js/events');\n",
       "    var OutputArea = require('notebook/js/outputarea').OutputArea;\n",
       "\n",
       "    if (OutputArea.prototype.mime_types().indexOf(EXEC_MIME_TYPE) == -1) {\n",
       "      register_renderer(events, OutputArea);\n",
       "    }\n",
       "  }\n",
       "\n",
       "  \n",
       "  if (typeof (root._bokeh_timeout) === \"undefined\" || force === true) {\n",
       "    root._bokeh_timeout = Date.now() + 5000;\n",
       "    root._bokeh_failed_load = false;\n",
       "  }\n",
       "\n",
       "  var NB_LOAD_WARNING = {'data': {'text/html':\n",
       "     \"<div style='background-color: #fdd'>\\n\"+\n",
       "     \"<p>\\n\"+\n",
       "     \"BokehJS does not appear to have successfully loaded. If loading BokehJS from CDN, this \\n\"+\n",
       "     \"may be due to a slow or bad network connection. Possible fixes:\\n\"+\n",
       "     \"</p>\\n\"+\n",
       "     \"<ul>\\n\"+\n",
       "     \"<li>re-rerun `output_notebook()` to attempt to load from CDN again, or</li>\\n\"+\n",
       "     \"<li>use INLINE resources instead, as so:</li>\\n\"+\n",
       "     \"</ul>\\n\"+\n",
       "     \"<code>\\n\"+\n",
       "     \"from bokeh.resources import INLINE\\n\"+\n",
       "     \"output_notebook(resources=INLINE)\\n\"+\n",
       "     \"</code>\\n\"+\n",
       "     \"</div>\"}};\n",
       "\n",
       "  function display_loaded() {\n",
       "    var el = document.getElementById(\"1001\");\n",
       "    if (el != null) {\n",
       "      el.textContent = \"BokehJS is loading...\";\n",
       "    }\n",
       "    if (root.Bokeh !== undefined) {\n",
       "      if (el != null) {\n",
       "        el.textContent = \"BokehJS \" + root.Bokeh.version + \" successfully loaded.\";\n",
       "      }\n",
       "    } else if (Date.now() < root._bokeh_timeout) {\n",
       "      setTimeout(display_loaded, 100)\n",
       "    }\n",
       "  }\n",
       "\n",
       "\n",
       "  function run_callbacks() {\n",
       "    try {\n",
       "      root._bokeh_onload_callbacks.forEach(function(callback) {\n",
       "        if (callback != null)\n",
       "          callback();\n",
       "      });\n",
       "    } finally {\n",
       "      delete root._bokeh_onload_callbacks\n",
       "    }\n",
       "    console.debug(\"Bokeh: all callbacks have finished\");\n",
       "  }\n",
       "\n",
       "  function load_libs(css_urls, js_urls, callback) {\n",
       "    if (css_urls == null) css_urls = [];\n",
       "    if (js_urls == null) js_urls = [];\n",
       "\n",
       "    root._bokeh_onload_callbacks.push(callback);\n",
       "    if (root._bokeh_is_loading > 0) {\n",
       "      console.debug(\"Bokeh: BokehJS is being loaded, scheduling callback at\", now());\n",
       "      return null;\n",
       "    }\n",
       "    if (js_urls == null || js_urls.length === 0) {\n",
       "      run_callbacks();\n",
       "      return null;\n",
       "    }\n",
       "    console.debug(\"Bokeh: BokehJS not loaded, scheduling load and callback at\", now());\n",
       "    root._bokeh_is_loading = css_urls.length + js_urls.length;\n",
       "\n",
       "    function on_load() {\n",
       "      root._bokeh_is_loading--;\n",
       "      if (root._bokeh_is_loading === 0) {\n",
       "        console.debug(\"Bokeh: all BokehJS libraries/stylesheets loaded\");\n",
       "        run_callbacks()\n",
       "      }\n",
       "    }\n",
       "\n",
       "    function on_error() {\n",
       "      console.error(\"failed to load \" + url);\n",
       "    }\n",
       "\n",
       "    for (var i = 0; i < css_urls.length; i++) {\n",
       "      var url = css_urls[i];\n",
       "      const element = document.createElement(\"link\");\n",
       "      element.onload = on_load;\n",
       "      element.onerror = on_error;\n",
       "      element.rel = \"stylesheet\";\n",
       "      element.type = \"text/css\";\n",
       "      element.href = url;\n",
       "      console.debug(\"Bokeh: injecting link tag for BokehJS stylesheet: \", url);\n",
       "      document.body.appendChild(element);\n",
       "    }\n",
       "\n",
       "    for (var i = 0; i < js_urls.length; i++) {\n",
       "      var url = js_urls[i];\n",
       "      var element = document.createElement('script');\n",
       "      element.onload = on_load;\n",
       "      element.onerror = on_error;\n",
       "      element.async = false;\n",
       "      element.src = url;\n",
       "      console.debug(\"Bokeh: injecting script tag for BokehJS library: \", url);\n",
       "      document.head.appendChild(element);\n",
       "    }\n",
       "  };var element = document.getElementById(\"1001\");\n",
       "  if (element == null) {\n",
       "    console.error(\"Bokeh: ERROR: autoload.js configured with elementid '1001' but no matching script tag was found. \")\n",
       "    return false;\n",
       "  }\n",
       "\n",
       "  function inject_raw_css(css) {\n",
       "    const element = document.createElement(\"style\");\n",
       "    element.appendChild(document.createTextNode(css));\n",
       "    document.body.appendChild(element);\n",
       "  }\n",
       "\n",
       "  \n",
       "  var js_urls = [\"https://cdn.pydata.org/bokeh/release/bokeh-1.4.0.min.js\", \"https://cdn.pydata.org/bokeh/release/bokeh-widgets-1.4.0.min.js\", \"https://cdn.pydata.org/bokeh/release/bokeh-tables-1.4.0.min.js\", \"https://cdn.pydata.org/bokeh/release/bokeh-gl-1.4.0.min.js\"];\n",
       "  var css_urls = [];\n",
       "  \n",
       "\n",
       "  var inline_js = [\n",
       "    function(Bokeh) {\n",
       "      Bokeh.set_log_level(\"info\");\n",
       "    },\n",
       "    function(Bokeh) {\n",
       "    \n",
       "    \n",
       "    }\n",
       "  ];\n",
       "\n",
       "  function run_inline_js() {\n",
       "    \n",
       "    if (root.Bokeh !== undefined || force === true) {\n",
       "      \n",
       "    for (var i = 0; i < inline_js.length; i++) {\n",
       "      inline_js[i].call(root, root.Bokeh);\n",
       "    }\n",
       "    if (force === true) {\n",
       "        display_loaded();\n",
       "      }} else if (Date.now() < root._bokeh_timeout) {\n",
       "      setTimeout(run_inline_js, 100);\n",
       "    } else if (!root._bokeh_failed_load) {\n",
       "      console.log(\"Bokeh: BokehJS failed to load within specified timeout.\");\n",
       "      root._bokeh_failed_load = true;\n",
       "    } else if (force !== true) {\n",
       "      var cell = $(document.getElementById(\"1001\")).parents('.cell').data().cell;\n",
       "      cell.output_area.append_execute_result(NB_LOAD_WARNING)\n",
       "    }\n",
       "\n",
       "  }\n",
       "\n",
       "  if (root._bokeh_is_loading === 0) {\n",
       "    console.debug(\"Bokeh: BokehJS loaded, going straight to plotting\");\n",
       "    run_inline_js();\n",
       "  } else {\n",
       "    load_libs(css_urls, js_urls, function() {\n",
       "      console.debug(\"Bokeh: BokehJS plotting callback run at\", now());\n",
       "      run_inline_js();\n",
       "    });\n",
       "  }\n",
       "}(window));"
      ],
      "application/vnd.bokehjs_load.v0+json": "\n(function(root) {\n  function now() {\n    return new Date();\n  }\n\n  var force = true;\n\n  if (typeof root._bokeh_onload_callbacks === \"undefined\" || force === true) {\n    root._bokeh_onload_callbacks = [];\n    root._bokeh_is_loading = undefined;\n  }\n\n  \n\n  \n  if (typeof (root._bokeh_timeout) === \"undefined\" || force === true) {\n    root._bokeh_timeout = Date.now() + 5000;\n    root._bokeh_failed_load = false;\n  }\n\n  var NB_LOAD_WARNING = {'data': {'text/html':\n     \"<div style='background-color: #fdd'>\\n\"+\n     \"<p>\\n\"+\n     \"BokehJS does not appear to have successfully loaded. If loading BokehJS from CDN, this \\n\"+\n     \"may be due to a slow or bad network connection. Possible fixes:\\n\"+\n     \"</p>\\n\"+\n     \"<ul>\\n\"+\n     \"<li>re-rerun `output_notebook()` to attempt to load from CDN again, or</li>\\n\"+\n     \"<li>use INLINE resources instead, as so:</li>\\n\"+\n     \"</ul>\\n\"+\n     \"<code>\\n\"+\n     \"from bokeh.resources import INLINE\\n\"+\n     \"output_notebook(resources=INLINE)\\n\"+\n     \"</code>\\n\"+\n     \"</div>\"}};\n\n  function display_loaded() {\n    var el = document.getElementById(\"1001\");\n    if (el != null) {\n      el.textContent = \"BokehJS is loading...\";\n    }\n    if (root.Bokeh !== undefined) {\n      if (el != null) {\n        el.textContent = \"BokehJS \" + root.Bokeh.version + \" successfully loaded.\";\n      }\n    } else if (Date.now() < root._bokeh_timeout) {\n      setTimeout(display_loaded, 100)\n    }\n  }\n\n\n  function run_callbacks() {\n    try {\n      root._bokeh_onload_callbacks.forEach(function(callback) {\n        if (callback != null)\n          callback();\n      });\n    } finally {\n      delete root._bokeh_onload_callbacks\n    }\n    console.debug(\"Bokeh: all callbacks have finished\");\n  }\n\n  function load_libs(css_urls, js_urls, callback) {\n    if (css_urls == null) css_urls = [];\n    if (js_urls == null) js_urls = [];\n\n    root._bokeh_onload_callbacks.push(callback);\n    if (root._bokeh_is_loading > 0) {\n      console.debug(\"Bokeh: BokehJS is being loaded, scheduling callback at\", now());\n      return null;\n    }\n    if (js_urls == null || js_urls.length === 0) {\n      run_callbacks();\n      return null;\n    }\n    console.debug(\"Bokeh: BokehJS not loaded, scheduling load and callback at\", now());\n    root._bokeh_is_loading = css_urls.length + js_urls.length;\n\n    function on_load() {\n      root._bokeh_is_loading--;\n      if (root._bokeh_is_loading === 0) {\n        console.debug(\"Bokeh: all BokehJS libraries/stylesheets loaded\");\n        run_callbacks()\n      }\n    }\n\n    function on_error() {\n      console.error(\"failed to load \" + url);\n    }\n\n    for (var i = 0; i < css_urls.length; i++) {\n      var url = css_urls[i];\n      const element = document.createElement(\"link\");\n      element.onload = on_load;\n      element.onerror = on_error;\n      element.rel = \"stylesheet\";\n      element.type = \"text/css\";\n      element.href = url;\n      console.debug(\"Bokeh: injecting link tag for BokehJS stylesheet: \", url);\n      document.body.appendChild(element);\n    }\n\n    for (var i = 0; i < js_urls.length; i++) {\n      var url = js_urls[i];\n      var element = document.createElement('script');\n      element.onload = on_load;\n      element.onerror = on_error;\n      element.async = false;\n      element.src = url;\n      console.debug(\"Bokeh: injecting script tag for BokehJS library: \", url);\n      document.head.appendChild(element);\n    }\n  };var element = document.getElementById(\"1001\");\n  if (element == null) {\n    console.error(\"Bokeh: ERROR: autoload.js configured with elementid '1001' but no matching script tag was found. \")\n    return false;\n  }\n\n  function inject_raw_css(css) {\n    const element = document.createElement(\"style\");\n    element.appendChild(document.createTextNode(css));\n    document.body.appendChild(element);\n  }\n\n  \n  var js_urls = [\"https://cdn.pydata.org/bokeh/release/bokeh-1.4.0.min.js\", \"https://cdn.pydata.org/bokeh/release/bokeh-widgets-1.4.0.min.js\", \"https://cdn.pydata.org/bokeh/release/bokeh-tables-1.4.0.min.js\", \"https://cdn.pydata.org/bokeh/release/bokeh-gl-1.4.0.min.js\"];\n  var css_urls = [];\n  \n\n  var inline_js = [\n    function(Bokeh) {\n      Bokeh.set_log_level(\"info\");\n    },\n    function(Bokeh) {\n    \n    \n    }\n  ];\n\n  function run_inline_js() {\n    \n    if (root.Bokeh !== undefined || force === true) {\n      \n    for (var i = 0; i < inline_js.length; i++) {\n      inline_js[i].call(root, root.Bokeh);\n    }\n    if (force === true) {\n        display_loaded();\n      }} else if (Date.now() < root._bokeh_timeout) {\n      setTimeout(run_inline_js, 100);\n    } else if (!root._bokeh_failed_load) {\n      console.log(\"Bokeh: BokehJS failed to load within specified timeout.\");\n      root._bokeh_failed_load = true;\n    } else if (force !== true) {\n      var cell = $(document.getElementById(\"1001\")).parents('.cell').data().cell;\n      cell.output_area.append_execute_result(NB_LOAD_WARNING)\n    }\n\n  }\n\n  if (root._bokeh_is_loading === 0) {\n    console.debug(\"Bokeh: BokehJS loaded, going straight to plotting\");\n    run_inline_js();\n  } else {\n    load_libs(css_urls, js_urls, function() {\n      console.debug(\"Bokeh: BokehJS plotting callback run at\", now());\n      run_inline_js();\n    });\n  }\n}(window));"
     },
     "metadata": {},
     "output_type": "display_data"
    }
   ],
   "source": [
    "import pandas as pd\n",
    "import numpy as np\n",
    "import matplotlib.pyplot as plt\n",
    "import scipy.stats as stats\n",
    "from numpy import sqrt\n",
    "from bokeh.plotting import figure, output_notebook, show\n",
    "from bokeh.models.tools import HoverTool\n",
    "from bokeh.layouts import row\n",
    "from bokeh.transform import linear_cmap\n",
    "\n",
    "output_notebook()"
   ]
  },
  {
   "cell_type": "markdown",
   "metadata": {
    "slideshow": {
     "slide_type": "slide"
    }
   },
   "source": [
    "### 2.1 Why statistics?"
   ]
  },
  {
   "cell_type": "markdown",
   "metadata": {
    "slideshow": {
     "slide_type": "fragment"
    }
   },
   "source": [
    "Usually we do not know all possible system states. And even if, it would be hard to describe *system behavior* while taking all states into consideration. Thus, we usually try to describe a *common* state, or a representative one."
   ]
  },
  {
   "cell_type": "markdown",
   "metadata": {
    "slideshow": {
     "slide_type": "fragment"
    }
   },
   "source": [
    "This already implies that the question of how to describe a system using means of statistics is already bound to the context. It is important **why** we want to describe that system."
   ]
  },
  {
   "cell_type": "markdown",
   "metadata": {
    "slideshow": {
     "slide_type": "subslide"
    }
   },
   "source": [
    "Let's load one of the data sets of the last lecture:"
   ]
  },
  {
   "cell_type": "code",
   "execution_count": 2,
   "metadata": {
    "slideshow": {
     "slide_type": "skip"
    }
   },
   "outputs": [],
   "source": [
    "df = pd.read_csv('./data/sample_data.txt', sep='\\s+')\n",
    "data = df.iloc[:,1].values"
   ]
  },
  {
   "cell_type": "code",
   "execution_count": 3,
   "metadata": {
    "slideshow": {
     "slide_type": "fragment"
    }
   },
   "outputs": [
    {
     "name": "stdout",
     "output_type": "stream",
     "text": [
      "[-0.16441089  0.03598559 -0.18827199  0.36503706 -0.02894305] ... [-0.16441089  0.03598559 -0.18827199  0.36503706 -0.02894305]\n"
     ]
    }
   ],
   "source": [
    "print(data[:5], '...', data[:5])"
   ]
  },
  {
   "cell_type": "markdown",
   "metadata": {
    "slideshow": {
     "slide_type": "subslide"
    }
   },
   "source": [
    "#### Expected Value"
   ]
  },
  {
   "cell_type": "markdown",
   "metadata": {
    "slideshow": {
     "slide_type": "fragment"
    }
   },
   "source": [
    "First, we can describe the **distribution** of observations by their **mean** value. In statistics, this is often referred to as the **expected value**."
   ]
  },
  {
   "cell_type": "markdown",
   "metadata": {
    "slideshow": {
     "slide_type": "fragment"
    }
   },
   "source": [
    "$$ \\mu = \\frac{\\sum}{N} $$"
   ]
  },
  {
   "cell_type": "code",
   "execution_count": 4,
   "metadata": {
    "scrolled": true,
    "slideshow": {
     "slide_type": "fragment"
    }
   },
   "outputs": [
    {
     "data": {
      "text/plain": [
       "0.7583277269546096"
      ]
     },
     "execution_count": 4,
     "metadata": {},
     "output_type": "execute_result"
    }
   ],
   "source": [
    "sum(data) / len(data)"
   ]
  },
  {
   "cell_type": "markdown",
   "metadata": {
    "slideshow": {
     "slide_type": "fragment"
    }
   },
   "source": [
    "But does ``0.76`` (approx.) really describe the other values?\n",
    "\n",
    "How many of them are off by only ``0.1``?"
   ]
  },
  {
   "cell_type": "code",
   "execution_count": 5,
   "metadata": {
    "slideshow": {
     "slide_type": "fragment"
    }
   },
   "outputs": [
    {
     "name": "stdout",
     "output_type": "stream",
     "text": [
      "43 of 500 values are closer than 0.1\n"
     ]
    }
   ],
   "source": [
    "mu = sum(data) / len(data)\n",
    "close = sum([abs(x - mu) < 0.1 for x in data])\n",
    "print('%d of %d values are closer than 0.1' % (close, len(data)))"
   ]
  },
  {
   "cell_type": "markdown",
   "metadata": {
    "slideshow": {
     "slide_type": "subslide"
    }
   },
   "source": [
    "#### Variance"
   ]
  },
  {
   "cell_type": "markdown",
   "metadata": {
    "slideshow": {
     "slide_type": "fragment"
    }
   },
   "source": [
    "What we did in the last slide was trying to estimate a measure for the dispersion of the distribution. The more systematic way to do so is calculating the **variance**."
   ]
  },
  {
   "cell_type": "markdown",
   "metadata": {
    "slideshow": {
     "slide_type": "fragment"
    }
   },
   "source": [
    "$$ s^2 = \\frac{\\sum_{i=0}^N (x_i - \\mu)^2}{N} $$"
   ]
  },
  {
   "cell_type": "code",
   "execution_count": 6,
   "metadata": {
    "slideshow": {
     "slide_type": "fragment"
    }
   },
   "outputs": [
    {
     "name": "stdout",
     "output_type": "stream",
     "text": [
      "The variance is 0.78\n"
     ]
    }
   ],
   "source": [
    "v = sum((data - mu)**2) / len(data)\n",
    "print('The variance is %.2f' % v)"
   ]
  },
  {
   "cell_type": "markdown",
   "metadata": {
    "slideshow": {
     "slide_type": "subslide"
    }
   },
   "source": [
    "#### Standard deviation"
   ]
  },
  {
   "cell_type": "markdown",
   "metadata": {
    "slideshow": {
     "slide_type": "fragment"
    }
   },
   "source": [
    "The value $s$ used to calculate the *variance* $s^2$ is also called **standard deviation**. When we set the threshold to ``0.1`` earlier to get an idea of how many observations are close to the mean value, we also could have used the standard deviation. It is an important measure for the spread of a distribution."
   ]
  },
  {
   "cell_type": "code",
   "execution_count": 7,
   "metadata": {
    "slideshow": {
     "slide_type": "fragment"
    }
   },
   "outputs": [
    {
     "data": {
      "text/plain": [
       "0.8815188576246978"
      ]
     },
     "execution_count": 7,
     "metadata": {},
     "output_type": "execute_result"
    }
   ],
   "source": [
    "sqrt(v)"
   ]
  },
  {
   "cell_type": "markdown",
   "metadata": {
    "slideshow": {
     "slide_type": "subslide"
    }
   },
   "source": [
    "#### Covariance"
   ]
  },
  {
   "cell_type": "markdown",
   "metadata": {
    "slideshow": {
     "slide_type": "skip"
    }
   },
   "source": [
    "The covariance is a measure of low and high values of two samples are related to each other. It tells us how two samples are *related* to each other. It's defined as the expected value of the deviation product of both samples. The Covariance is an important measure in geostatistics and it comes with some assumptions:"
   ]
  },
  {
   "cell_type": "markdown",
   "metadata": {
    "slideshow": {
     "slide_type": "fragment"
    }
   },
   "source": [
    "* two samples origin from the same probability distribution\n",
    "* relates the samples *monotonically*"
   ]
  },
  {
   "cell_type": "markdown",
   "metadata": {
    "slideshow": {
     "slide_type": "skip"
    }
   },
   "source": [
    "For each sample we can calculate the deviation of each observation from the samples' location:\n",
    "\n",
    "$$ S_X =  x_i - \\mu_X $$\n",
    "\n",
    "The covariance is the then the expected value of the product of $S_X$ and $S_Y$.\n",
    "Which can be written as:"
   ]
  },
  {
   "cell_type": "markdown",
   "metadata": {
    "slideshow": {
     "slide_type": "fragment"
    }
   },
   "source": [
    "$$Cov(X, Y) = \\frac{\\sum_i^N [(x_i - \\mu_X) * (y_i - \\mu_Y)]}{N}$$"
   ]
  },
  {
   "cell_type": "code",
   "execution_count": 28,
   "metadata": {
    "slideshow": {
     "slide_type": "subslide"
    }
   },
   "outputs": [
    {
     "name": "stdout",
     "output_type": "stream",
     "text": [
      "Cov(X,Y) =  0.19403510392660436\n"
     ]
    }
   ],
   "source": [
    "# get the samples - you can change the numbers\n",
    "X = df.iloc[:, 14].values\n",
    "Y = df.iloc[:, 10].values\n",
    "\n",
    "# sample means\n",
    "mX = sum(X) / len(X)\n",
    "mY = sum(Y) / len(Y)\n",
    "\n",
    "cov = sum([(x - mX) * (y - mY) for x,y in zip(X, Y)]) / len(X)\n",
    "\n",
    "print('Cov(X,Y) = ', cov)"
   ]
  },
  {
   "cell_type": "markdown",
   "metadata": {
    "slideshow": {
     "slide_type": "skip"
    }
   },
   "source": [
    "*place the comparison plot of all samples here (heatmap)*"
   ]
  },
  {
   "cell_type": "markdown",
   "metadata": {
    "slideshow": {
     "slide_type": "slide"
    }
   },
   "source": [
    "### 2.2 Sample size"
   ]
  },
  {
   "cell_type": "markdown",
   "metadata": {
    "slideshow": {
     "slide_type": "fragment"
    }
   },
   "source": [
    "All the statistical moments shown above are *sample statistics*. They are no features of the underlying population. That means, they are all influenced by sample size."
   ]
  },
  {
   "cell_type": "code",
   "execution_count": 31,
   "metadata": {
    "slideshow": {
     "slide_type": "skip"
    }
   },
   "outputs": [],
   "source": [
    "# sample experiment\n",
    "n = 350\n",
    "np.random.seed(42)\n",
    "random_index = np.random.choice(range(len(data)), replace=False, size=len(data))\n",
    "def get_stats(i):\n",
    "    d = data[random_index[:i]]\n",
    "    return dict(mu=np.mean(d), var=np.var(d), std=sqrt(np.var(d)))\n",
    "samples = {i:get_stats(i) for i in range(10,n)}\n",
    "\n",
    "# plot\n",
    "def plt_samples():\n",
    "    fig, ax = plt.subplots(1, 1, figsize=(14,6))\n",
    "    pd.DataFrame(samples).T.plot(ax=ax)\n",
    "    ax.hlines(np.mean(data), xmin=10, xmax=n, color='blue', linestyle='--', alpha=.5)\n",
    "    ax.hlines(np.var(data), xmin=10, xmax=n, color='orange', linestyle='--', alpha=.5)\n",
    "    ax.hlines(np.sqrt(np.var(data)), xmin=10, xmax=n, color='green', linestyle='--', alpha=.5)"
   ]
  },
  {
   "cell_type": "code",
   "execution_count": 32,
   "metadata": {
    "slideshow": {
     "slide_type": "subslide"
    }
   },
   "outputs": [
    {
     "data": {
      "image/png": "[encoded data removed]",
      "text/plain": [
       "<Figure size 1008x432 with 1 Axes>"
      ]
     },
     "metadata": {
      "needs_background": "light"
     },
     "output_type": "display_data"
    }
   ],
   "source": [
    "plt_samples()"
   ]
  },
  {
   "cell_type": "markdown",
   "metadata": {
    "slideshow": {
     "slide_type": "slide"
    }
   },
   "source": [
    "### 2.3 Sample statistics"
   ]
  },
  {
   "cell_type": "markdown",
   "metadata": {
    "slideshow": {
     "slide_type": "fragment"
    }
   },
   "source": [
    "Sample statisitcs are **estimations** of the population. "
   ]
  },
  {
   "cell_type": "markdown",
   "metadata": {
    "slideshow": {
     "slide_type": "fragment"
    }
   },
   "source": [
    "Estimations are **uncertain**."
   ]
  },
  {
   "cell_type": "code",
   "execution_count": 33,
   "metadata": {
    "slideshow": {
     "slide_type": "skip"
    }
   },
   "outputs": [],
   "source": [
    "from bokeh.palettes import Cividis256 as palette\n",
    "sample = lambda n: np.mean(np.random.choice(data, size=n, replace=False))\n",
    "\n",
    "cm = linear_cmap(np.arange(10,250,1), palette, 10, 250)\n",
    "resample = figure(width=700, height=600, y_range=(0,300), tools=[])\n",
    "\n",
    "\n",
    "for i in reversed([1, 10, 100, 1000, 5000]):\n",
    "    if i >= 1000:\n",
    "        y = np.random.randint(10,250,size = i)\n",
    "        x = [sample(_ if _ < 450 else 450) for _ in y]\n",
    "    elif i == 1:\n",
    "        np.random.seed(42)\n",
    "        x = [sample(10)]\n",
    "        y = [10]\n",
    "    else:\n",
    "        y = np.random.randint(10,80,size = i)\n",
    "        x = [sample(n) for _ in y]\n",
    "        \n",
    "        \n",
    "    if i > 1:\n",
    "        r = resample.scatter(\n",
    "            x, y, \n",
    "            fill_color={'field': 'y','transform': cm['transform']}, \n",
    "            line_color=None if i >= 1000 else 'white', legend_label='Draw %d' % i,\n",
    "            size= 8 if i < 1000 else 4\n",
    "        )\n",
    "        r.visible = False\n",
    "    else:\n",
    "        resample.scatter(x,y,fill_color='darkred', line_color='white', legend_label='Single experiment', size=10)\n",
    "\n",
    "resample.xaxis.axis_label = 'Sample mean'\n",
    "resample.yaxis.axis_label = 'Sample Size'\n",
    "resample.legend.click_policy = 'hide'\n",
    "resample.legend.location = 'top_center'\n",
    "resample.legend.orientation = 'horizontal'"
   ]
  },
  {
   "cell_type": "code",
   "execution_count": 34,
   "metadata": {
    "slideshow": {
     "slide_type": "subslide"
    }
   },
   "outputs": [
    {
     "data": {
      "text/html": [
       "\n",
       "\n",
       "\n",
       "\n",
       "\n",
       "\n",
       "  <div class=\"bk-root\" id=\"90b985e0-b5b6-4acf-8bd9-e2d944c41f9c\" data-root-id=\"2191\"></div>\n"
      ]
     },
     "metadata": {},
     "output_type": "display_data"
    },
    {
     "data": {
      "application/javascript": [
       "(function(root) {\n",
       "  function embed_document(root) {\n",
       "    \n",
       "  var docs_json = {\"3d1c87d2-fa88-4e5f-aef4-1457e5c7bd30\":{\"roots\":{\"references\":[{\"attributes\":{\"below\":[{\"id\":\"2200\",\"type\":\"LinearAxis\"}],\"center\":[{\"id\":\"2204\",\"type\":\"Grid\"},{\"id\":\"2209\",\"type\":\"Grid\"},{\"id\":\"2222\",\"type\":\"Legend\"}],\"left\":[{\"id\":\"2205\",\"type\":\"LinearAxis\"}],\"plot_width\":700,\"renderers\":[{\"id\":\"2214\",\"type\":\"GlyphRenderer\"},{\"id\":\"2227\",\"type\":\"GlyphRenderer\"},{\"id\":\"2241\",\"type\":\"GlyphRenderer\"},{\"id\":\"2257\",\"type\":\"GlyphRenderer\"},{\"id\":\"2275\",\"type\":\"GlyphRenderer\"}],\"title\":{\"id\":\"2216\",\"type\":\"Title\"},\"toolbar\":{\"id\":\"2210\",\"type\":\"Toolbar\"},\"x_range\":{\"id\":\"2192\",\"type\":\"DataRange1d\"},\"x_scale\":{\"id\":\"2196\",\"type\":\"LinearScale\"},\"y_range\":{\"id\":\"2194\",\"type\":\"Range1d\"},\"y_scale\":{\"id\":\"2198\",\"type\":\"LinearScale\"}},\"id\":\"2191\",\"subtype\":\"Figure\",\"type\":\"Plot\"},{\"attributes\":{},\"id\":\"2269\",\"type\":\"UnionRenderers\"},{\"attributes\":{\"fill_alpha\":{\"value\":0.1},\"fill_color\":{\"value\":\"#1f77b4\"},\"line_alpha\":{\"value\":0.1},\"line_color\":{\"value\":\"#1f77b4\"},\"x\":{\"field\":\"x\"},\"y\":{\"field\":\"y\"}},\"id\":\"2226\",\"type\":\"Scatter\"},{\"attributes\":{\"fill_alpha\":{\"value\":0.1},\"fill_color\":{\"value\":\"#1f77b4\"},\"line_alpha\":{\"value\":0.1},\"line_color\":{\"value\":\"#1f77b4\"},\"size\":{\"units\":\"screen\",\"value\":8},\"x\":{\"field\":\"x\"},\"y\":{\"field\":\"y\"}},\"id\":\"2240\",\"type\":\"Scatter\"},{\"attributes\":{\"fill_color\":{\"field\":\"y\",\"transform\":{\"id\":\"2190\",\"type\":\"LinearColorMapper\"}},\"line_color\":{\"value\":\"white\"},\"size\":{\"units\":\"screen\",\"value\":8},\"x\":{\"field\":\"x\"},\"y\":{\"field\":\"y\"}},\"id\":\"2255\",\"type\":\"Scatter\"},{\"attributes\":{\"axis_label\":\"Sample Size\",\"formatter\":{\"id\":\"2218\",\"type\":\"BasicTickFormatter\"},\"ticker\":{\"id\":\"2206\",\"type\":\"BasicTicker\"}},\"id\":\"2205\",\"type\":\"LinearAxis\"},{\"attributes\":{},\"id\":\"2391\",\"type\":\"Selection\"},{\"attributes\":{},\"id\":\"2198\",\"type\":\"LinearScale\"},{\"attributes\":{\"fill_color\":{\"field\":\"y\",\"transform\":{\"id\":\"2190\",\"type\":\"LinearColorMapper\"}},\"line_color\":{\"value\":null},\"x\":{\"field\":\"x\"},\"y\":{\"field\":\"y\"}},\"id\":\"2225\",\"type\":\"Scatter\"},{\"attributes\":{\"label\":{\"value\":\"Draw 100\"},\"renderers\":[{\"id\":\"2241\",\"type\":\"GlyphRenderer\"}]},\"id\":\"2253\",\"type\":\"LegendItem\"},{\"attributes\":{},\"id\":\"2196\",\"type\":\"LinearScale\"},{\"attributes\":{\"callback\":null,\"data\":{\"x\":[0.7404061419644318,0.7459332146366082,0.7232569357781905,0.7258049983150143,0.8460850850292726,0.7430607545350211,1.141185296744842,0.7920577540960665,0.6183040747684496,0.8528117846846791,0.749696947571212,0.5472726862216127,0.750217266025178,0.8059641495356397,0.6992205170359547,0.8720745125122271,0.7603651653560218,0.7340272822364796,1.025283594654041,0.6315789072486138,0.7680867052971476,0.7762637585804625,0.6670359775846769,0.8409065594859724,0.628866788629889,0.8246890669376905,0.7293922798632988,0.8871016915284158,0.6167179779055185,0.7778355733980173,0.7732283245686115,0.7953334309208263,0.7620074898946697,0.7311446479073476,0.7174255267861273,0.8059523059489136,0.8206758667492421,0.8509143227427521,0.7539782284369773,0.7644221029043534,0.7465717447471191,0.7089814109816743,0.46459617569214673,0.8957575524559822,0.7778278873341503,0.6100071150377442,0.7564389776139352,0.7810634388187364,0.8135942583804894,0.7793032420476246,0.7061576097486165,0.9383422108821542,0.7504919901356506,0.8126834389876325,0.7788557702008645,0.6579471210764928,0.8741401113893542,0.8193584066385802,0.859393295924018,0.7839532406479524,0.7846023603519519,0.777321444413798,0.8248600486148998,0.7587812018361567,0.7641313684983206,0.7930667381314586,0.8057905834906985,0.7689325929315864,0.7757283942720882,0.7356604558889721,0.7138218963156728,0.754699169504507,0.7763560642552232,0.7972381412009697,0.7484128534522168,0.697248584007864,0.6890569809087983,0.7544463656732833,0.7718123657885617,0.9467810619952977,0.7781375762016961,0.8185356915172204,0.7336984876376867,0.7260384610985187,0.7800971167855354,0.6691147759586072,0.7448172228103406,0.87717196779553,0.6711936655239968,0.8781757564357546,0.786406746393095,0.7650359323322974,0.7537789467009849,0.7677574887812044,0.8599612547279519,0.5974779340703225,0.8161946196734401,0.7261149234724094,0.8803461095370992,0.7423542377108732,0.7339219185341199,0.7478169623548595,0.8256568431367652,0.68224097728365,0.7220834592170068,0.7423187493737408,0.7718673626148046,0.7898398760688087,0.7304496389126716,0.7411073463639805,0.7807715227200773,0.7030394166032592,0.6362732913843362,0.6735689414266225,0.7187990965629717,0.815677725510673,0.8546947600172656,0.7324310408674851,0.6708255024020287,0.8332804367324422,0.741953583614568,1.1052582354445843,0.7501136745733842,0.950049453200165,0.7725947704246263,0.7545742182865302,0.783272644600203,0.7191939395045157,0.7050544325988226,0.8256811568797647,0.7036340273880273,0.7438948338597176,0.7925332333041769,0.7167544573022511,0.7916094685251247,0.8266699382015421,0.8846043359210092,0.8382805027808077,0.6871341936191929,0.702907540093015,0.72752153459485,0.7040824264933188,0.6494131342057892,0.7670136341250654,0.7942487594230221,0.8429419553791049,0.7229644571250011,0.7928331743947132,0.8025984475404757,0.8660731533659847,0.9620316538511368,0.6452124750607904,0.6891220050698306,0.8336044021760275,0.781891703926096,0.7796569301199964,0.6655300183468362,0.5779965553111251,0.7305105073664132,0.7540497632279001,0.8291399648544084,0.720449287854821,0.7578023034249036,0.7211687226179095,0.7079732120508144,1.084202276233721,0.8638369639549908,0.8113547734880251,0.6911459976939077,0.6618031633514635,0.8647877868167511,0.8119970267040083,0.7855228137334214,0.9021579815288706,0.8084901973040728,0.6451497304807157,0.7350543134269867,0.8225417472807618,0.7327980997592783,0.7202977384585216,0.7723689924133627,0.6331594784317476,0.7368387108260266,0.849333574785668,1.1494488642781442,0.7306088915555794,0.8285721266428371,0.9515961093487209,0.7150390359588698,0.7256417810381476,0.7554656189478008,0.6965444510279025,0.7189361605669952,0.6639407501317593,0.6766775346239623,0.9979111420805017,0.7254004029106604,0.7456966183656378,0.7505522606083467,0.8657704641099335,0.7879662022930511,0.6646389311675724,0.8052867091507602,0.7064436997374025,0.7525883875300058,0.6904574166770194,0.7273760144328885,0.7785156523451122,0.7225753760574988,0.7930892515864796,0.9964634874068453,0.8043928075993069,0.8288086005043476,0.8124619100948925,0.698840369384141,0.7396329084063507,0.7270467301691123,0.8027996781174848,0.6830637011802334,0.8030030482640151,0.7317865821417345,0.5514526801720651,0.7468848451905511,0.8156408049424395,0.7940708466197572,1.2047406947506234,0.6573206528094457,0.6880544871639859,0.807520942691496,0.7202820058766931,0.699096152972285,0.7773477069069495,0.7775179048161477,0.8560587833601487,0.7752603499318775,0.7634331975425033,0.4784586847192048,0.7821693604999761,0.7994519910276201,0.8156427170267821,0.770726860174533,0.7393659796570748,0.6280622305644741,0.7795009605171347,0.8682413282479717,0.6294217962127746,0.8158785733904749,0.8224065647651997,0.7427488175207715,0.6009781950596397,0.8203381479274998,0.6664452350776483,0.775250877513358,0.7639732445723588,0.7846640095723246,0.9297334767582641,0.8223716856623814,0.7698030374750638,0.8353326390135073,0.9442215085205471,0.7306414879531749,0.6894900404544692,0.8818448817601433,0.7681235934686281,0.8400500076224225,0.7374179456598362,0.7257510081038767,0.794685003032233,0.7621285015276796,0.7614573362814069,0.8501973801434273,0.7987007251335734,0.7499830085668757,0.6450203352143602,0.7934312029701438,0.8391374941205105,0.7460534732034836,0.799688891614039,0.736657795522152,0.8337633812012082,0.7322559213429082,0.6815614700842637,0.7050367940428134,0.7105982176974573,0.7001593591410843,0.8100078979639304,0.7672515775534099,0.780127581903335,0.8059692779544992,0.7494574634531874,0.7280219562759048,0.7155955471488753,0.8018899506440856,0.70650048834548,0.9354216329486493,1.0067193768135705,0.7855282561740085,0.7598172480720811,0.7554490870095872,0.7599745329810094,0.7036307206366808,0.5973137303529198,0.8492016702036608,0.7643071886024762,0.7394884222889551,0.8423916590729077,0.7585679502887378,0.8090875986519614,0.8047701285907679,0.7798319973186247,0.6813282608821026,0.7096508111538324,0.40378473226348,0.8562576123120932,0.5930179476720617,0.7723155445810773,0.7337468222920276,0.7646903747833496,0.5840257252509601,0.8463530831930457,0.8238114703811841,0.8059107948806613,0.6348958676894468,0.7665026337385205,0.7916237217298375,0.8651231628792695,0.6132651318526211,0.7210240467537212,0.7177025937504785,0.8492921325612677,0.8180198187533766,0.7279910325853793,0.7738153840899604,0.6565538736967045,0.7213310929812768,0.7255954145319191,0.7954069923409525,0.7334304017301015,0.76889153908511,0.7962013306179476,0.6803174088435457,0.7608037343117964,0.7292228275212194,0.7365831161126358,0.9233737090989009,0.6762270523234687,0.8304012305907674,0.7917252374359856,0.7596254858723535,0.8895904497232383,0.7912373324857898,0.7693639913874857,0.8781181423600688,0.6952633083937132,0.8785539204361292,0.7547768253503233,0.8000610031335464,0.7678011173365356,0.6921079355605476,0.7138301773839896,0.554592211379588,0.7799772551682339,0.7406232354148541,0.8268067596235967,0.755308935555104,0.705284064606562,0.7460715472811844,0.7134070645801311,0.6219244309788637,0.6814717987589852,0.7973668210894866,0.627862186937825,0.7840179495768033,0.8505008425409645,0.8074028092425519,0.7792396777472967,0.7729116606271704,0.7366572508504555,0.7778441428419761,0.9325297363840395,0.7212794473025926,0.6701007064356284,0.7046602164557976,0.7248545945193141,0.8165693863823865,0.8681459355305907,0.6785700058542942,0.5817561359034156,0.7510713595056306,1.0640711432768735,0.6123602880830386,1.0210587847240835,0.7526860814372608,0.7842569999101608,0.8067762403354046,0.7207544286497599,0.8258193911619182,0.6860768764714968,0.8679230682941372,0.7733193150497905,0.6930408104370676,1.0647574884935995,0.748829169909723,0.8847322584281371,0.7544993579618747,0.6330263734895063,0.8265820476082895,0.8306473908564573,0.8165984839944604,0.7956007879587639,0.5666179199260682,0.7101329978581186,0.7850648618862615,0.7021997670148407,0.7554729102040494,0.8583700594388987,0.7701738741957759,0.804342564513991,0.8063103355960458,0.7572555063391595,0.741514982064938,0.734635342269471,1.0354155907733644,0.7700444651107193,0.7653077219293999,0.5719765778019282,0.6156514177804521,0.6910654389739148,0.7620613561076187,0.7883068679412566,0.6599342647440251,0.7391659884162533,0.8056361377746583,0.8182470244373212,0.7498977856442341,0.869791020177723,0.4431713105706443,0.6818011628693734,0.7405204126945254,0.7970991091278288,0.6171494933155115,0.6915049498247999,0.6421159932905782,0.7027134311032532,0.6577981741126211,0.6007269329708198,0.7021926114669167,0.7701892959860647,0.8341634981774657,0.8581326197037284,0.6849452172440555,0.6981473951073269,0.7506011513128715,0.6236153116260513,0.7254944747631561,0.8057325583620706,0.7138151934186389,0.8021758205188473,0.7790323037712763,0.8041212494396132,0.6789580960121113,0.7681697869872388,0.8810841701498336,0.717961469963428,0.7510678694598902,0.7520372228952137,0.907013497435675,0.7620493962062851,0.9010222842652972,0.8162831520688335,0.6921736397947316,0.7719292390957758,0.8744903252783505,0.762777993901761,0.7859784457541654,0.8551870458175608,0.7157219144017282,0.7474183714071646,0.3876930240422243,0.7878544546196726,0.8165269470791363,0.7553970190438671,0.6293379311533986,0.7049304332745588,0.7158177319964993,0.7442664179571861,0.600567514243423,0.7110983809508281,0.8101642144786475,0.8734636582763546,0.7662860047460405,0.7120444798206401,0.846684631647274,0.7499688143847766,0.8490418932392926,0.7182955813247447,0.7612512803424213,0.9590838152355937,0.6869556457742261,0.8057181571757654,0.6913222241247452,0.8402961433973235,0.5845889865647199,0.8092794765749637,0.8110352576734365,0.721817512032489,0.7369577177292438,0.739310921541195,0.7537394879161251,0.6396740805527235,0.7624525535398449,0.7256511168101679,0.7593845265794569,0.742143831909792,0.7873778535159897,0.7481225449263843,0.7688995242591382,1.042676274022138,0.6772185772815578,0.7384301681911297,0.5635619893510474,0.8061719301592057,0.8563722453498328,0.7781680614757133,0.7716937292285853,0.7582519553459797,0.7314980917986283,0.6171947028682039,0.7086038023124827,0.8799507653786015,0.9366581431536569,0.7331032040342409,0.7476220094754301,1.153585712854974,0.8331122389294776,0.7924429619627037,0.8065869835139408,0.8227688083276791,0.8355365778527023,0.7079125564745058,0.7462178687545024,0.8195289180620714,0.7087616198235336,0.7403853365087971,0.7660417583040745,0.7872689036345849,0.7194010433746039,0.846112682989306,0.7875529419374958,0.8017998870360286,0.7179452246076452,0.8072078512148773,0.7290201939020065,0.8118139194785455,0.6423446539812175,0.6791885167340893,0.7876593607120932,0.7750808169032439,0.7866651442883967,0.843200580338894,0.7613420789078219,0.7246282040174699,0.7199971773250995,0.7453283326705283,0.69886094510127,0.8305635050362442,0.9157219498230711,0.7047023142996306,0.669405552082392,0.23944809784441798,0.7894848215936453,0.6779704081046205,0.5884325112099157,0.7439648861080858,0.6947965472691449,0.5457899938672198,0.7816061965237081,0.7612578188208879,0.6695402952638893,0.83454788078499,0.48881279295047775,0.7729494766777201,0.6193632284664963,0.6605491970148863,0.7690782707460507,0.8296376905595013,0.6844139615803532,0.9694440924966877,0.7392976478155445,0.6958525264834569,0.7282618506902251,0.6729925409523856,0.8128146387386779,0.7227500366233299,0.6156424914747913,0.7200199777240289,0.7071827919147695,0.7876164087672004,0.5748386076508248,0.880989033095126,0.738544699284578,0.46429944174689475,0.7427707530148797,0.8278932474856896,0.8069629760320327,0.7383701244593088,0.7527285680598331,0.848489076720754,0.6961944214510406,0.7423142917738925,0.7468107715733099,0.6242334695247557,0.7448918991660527,0.8107756654422852,0.7991930307805821,0.6032233654038379,0.70781081535051,0.9377883039751037,0.7347287295378766,0.9117432664560712,0.7899114581276881,0.7909254555114635,0.657509073259557,0.8723847420806101,0.6786235916345557,0.819860994681377,0.529221844186379,0.6951882617241993,0.6932782537725728,0.5803920180445034,0.6738999846724176,0.6889792047621841,0.7882772181457292,0.7304095135183785,0.7527043156433282,0.8678644136103968,0.7401008454325726,0.6588669258266666,0.9216857462710248,0.7931345432856131,0.7710637260575691,0.7619202628998881,0.7499461707155773,0.671070447647498,0.7118432818166057,0.861180090100918,0.952359144374166,0.6284981805459516,0.6705890418051346,0.8104748175251657,0.7519472875382245,0.8481006744539195,0.7774938802602622,0.7042420363058317,0.730347395451268,0.7725605485147554,0.7665208495147142,0.7378583105380085,0.8179769342578614,0.8348654221296962,0.7781626648837594,0.8395301890928758,0.8482387513321958,0.868394886892811,1.1223420546826046,0.7376865179698435,0.7566449436195226,0.7430301912600048,0.7223538603822253,0.7736481998358299,0.7770054131532584,0.7269343540616348,0.5268361561242133,0.742053597344062,0.7903580543638653,0.7403932656357164,0.77656067724983,0.6476615064896887,0.7618023478187508,0.850326702528336,0.7248910430995864,0.7900542452444032,0.7268645324448828,0.7791369713724868,0.7198923207897209,0.7497446035114881,0.8209608171695203,0.674162185990769,0.6138103864337402,0.8448426186308835,0.7387816612750526,0.7806081959723695,0.926876352229854,0.8145934446325779,0.6624370485945302,0.9641298046504768,0.7289637065429648,0.7551374417949476,0.6205640111721318,1.0092601192243353,0.7146449431885895,0.7580115992054414,0.7374200069072958,0.778245052641228,0.7735737368847773,0.5312030908361035,0.7990957683463071,0.7518375060812622,0.7849195668383486,0.811959769631386,0.7854414018460032,0.8817277117762755,0.7447459759095929,0.8639616300008417,0.8172394538166095,0.7680323613046576,0.7765073647897636,0.7120254560844821,0.8364114703361936,0.7223503782241939,0.9012750756438563,0.8030212783485109,0.7651115459917815,0.8575113041569803,0.870249284584246,0.7470993028361177,0.6414758863126825,0.7605643633618036,0.7079961290049784,0.7683867639676523,0.81634550040577,0.7425794228032085,0.7826019678201867,0.7913490567329285,0.6356731836869163,0.744645358595015,0.8576408590882643,0.7985022752557108,0.8179979433143028,0.9021345701943454,0.5923230459732552,0.7546009239719789,0.8436636743087573,0.6461872813876782,0.7198288103105693,0.6096864654819966,0.7229119270345442,0.7544014617152975,0.7519640452061906,0.826962794273479,0.8198644895261588,0.6290587700124313,1.0614880844300632,0.8206094229370792,0.9274478285071758,0.7389664684228164,0.7528573235171165,1.339941326702143,0.7822900542795408,0.7639464297475402,0.7858917569932735,0.7609258686945948,0.8068630804701695,0.789574988715501,0.792354206368494,0.8342707757712455,0.7511691942645805,0.6978132606554139,0.7998696316897093,0.7271127477674548,0.7343874602655938,0.6863588019596212,0.8070498810572965,0.71026544403331,0.7296910848228088,0.8068081089759942,0.7601337377863345,0.8215356639556245,0.7311496324550044,0.8509055782115365,1.0610115768261656,0.7978012818202684,0.8320488117462862,1.0256151727968608,0.7350146684555791,0.7429262067032744,0.7854002802876888,0.7564035499802263,0.7529070221038912,0.780254878177505,0.6714141393120873,0.82764916522079,0.806526776708836,0.7958756594971645,0.7035627117059572,0.6711415622468221,0.6369162358501161,0.8184059466229955,1.0738973030140395,0.7652118492024336,0.7883723193859443,0.7490195976676723,0.7908846788012334,0.7392454078603697,0.7832889020776052,0.7294917052028793,0.8587663535494268,0.7457348582332155,0.7702360519938843,0.7189287931512698,0.8815156915112655,0.8016111753826685,0.8097359337716902,0.8150669499166581,0.8054695980006633,0.747903852784039,0.7968623701191436,0.7386702867673398,0.7423940589909006,0.6529134742745061,0.6159780289979446,0.7470284361286891,0.7202055614143764,0.7583862657361837,0.7569386637253284,0.7896507773674083,0.7585313867839535,0.7675144642279419,0.8015703299614529,0.7353619040339312,0.7089361148226353,0.9211516814565541,0.7497924275711525,0.8000503894503977,0.7904141621226195,0.7735477912363423,0.7675338299040337,0.7961894839693716,0.7842704111987396,0.718283255546946,0.6774320741447074,0.8012939784970233,0.7591773706127507,0.6130519075079418,0.9961701682469085,0.7800356617398573,0.7126734749202551,0.7258290415818804,0.6922377771121572,0.7751936098014364,0.7054939442691194,0.529483033544848,0.7504629862339978,0.7544638287216534,0.6671486900233233,0.7358531259191755,0.7200108879803996,0.7949396120207217,0.7793635864612586,0.831229947631174,0.7782252415569413,0.794725901101848,0.7097264032897254,0.6084890391702876,0.6345019693139544,0.7588014039423314,0.7761092926766521,0.8145295856860416,0.7027354931521123,0.8609351441336198,0.7972954278035773,0.8239504806339485,0.7746806560735096,0.8386605626608857,0.7754336879935003,0.7958696369612178,0.9171185732313267,0.7562443353160455,0.7430127141950561,0.7639501164818937,0.748633082518306,0.6336321573034369,0.8089428722295203,0.7015565297348648,0.7733704770091028,0.6289182304500468,0.6472385965494808,0.7478640508443763,0.7794372175621891,0.7178734293827229,0.6733454912472511,0.781998915046158,0.9414053205447498,0.9498520896758677,0.7239500104385338,0.7666358703649117,0.7293339134715802,0.6672277216556354,0.6385056105768426,0.8152773812245155,0.7021538491874884,0.7903443512981013,0.8285200950540978,0.7917652387569561,0.714866056007134,0.7337035927240991,0.7200891095553795,0.8352133656694032,0.7970202988043129,0.7513808284843874,0.7979895084327042,0.7354370079392923,0.7370296235845304,0.8816909826596657,0.7606699070352874,0.7748387230134771,0.6941843851381367,0.5830751356450091,0.7334036304720999,0.7893561067459194,0.8370644769446062,0.7148746082384572,0.5470760274494285,0.8434988829547293,0.7275757318954299,0.5605646086047505,0.7285281338476403,0.7182133254363864,0.8749845152155793,0.8117327172736036,0.6207137373976873,0.6316120513545165,0.6676568820793057,0.822529820085721,0.7137478075451751,0.7206602153225948,0.681675685818393,0.7381584194514343,0.6510748806971809,0.7591235737054856,0.7343210858927955,0.4636596881612645,0.6664308118532526,0.7802393310513823,0.7655376030978407,0.8022461392593798,0.8120477594162456,0.6287541024555637,0.8090130244063295,0.76270310492391,0.7520257859376832,0.7544139561578174,0.718987321283535,0.8048028452024276,0.7135053210897225,0.47176902021411066,0.8454787025053313,0.7582892126564316,0.7829533935072055,0.7811141761647404,0.7472172322135763,0.6836217043432787,0.7499115731171531,0.816630877270673,0.7940489362483218,0.7022225519644781,0.7119737676154547,0.8007578112675902,0.5600024087206561,0.7885683568484801,0.7627196937405009,0.7111341311341323,0.764142337737977,0.9833142681008494,0.7040992150447845,0.7557242634183153,0.7690443174289926,0.8504620704933589,0.8190436477251314,0.8130523576785247,1.1994842356066444,0.6614563186422222,0.7526882730411592,0.792672200714098,0.7613614698488436,0.6369298393589986,0.738124721854355,0.743789777674413,0.6686602039636941,0.49422267974626133,0.665453118464756,0.7185113402636433,0.7365622980959576,0.6188927290228854,0.9298793454596165,0.7384593213657157,0.8853051625609512,0.5811340122993693,0.7984741422154245,0.7042921455886484],\"y\":{\"__ndarray__\":\"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\",\"dtype\":\"int32\",\"shape\":[1000]}},\"selected\":{\"id\":\"2252\",\"type\":\"Selection\"},\"selection_policy\":{\"id\":\"2251\",\"type\":\"UnionRenderers\"}},\"id\":\"2224\",\"type\":\"ColumnDataSource\"},{\"attributes\":{\"callback\":null,\"data\":{\"x\":[0.7845285094649947,0.7950613238969575,0.7173471141384352,0.7625749198032369,0.77270322584236,0.7825216073082125,0.7229460739208194,0.7757122533022011,0.7329418521082224,0.7197642177580904,0.8179396243854197,0.7633626243105852,0.7620084171070315,0.76559167386736,0.7409104288085151,0.7716252340223013,0.7845776158725337,0.7280976865294125,0.7410589537353472,0.7550144526037414,0.7689687200317848,0.7344620883674,0.7979605104713808,0.7480067436078875,0.7400875492249158,0.7476015517739454,0.7160316920335548,0.7699470980384867,0.7933362468137568,0.7659631571671432,0.7661299210651566,0.762295681186891,0.769975711673857,0.7196478154768022,0.7632565949229673,0.7309603865577414,0.748109623548787,0.7365166190965845,0.7525530582351238,0.7794909644029131,0.7467796257215692,0.7716041251014871,0.7656764120282479,0.7592257334264995,0.7862934270478124,0.772830544741445,0.7810224691811306,0.7470450333712477,0.7684786457897479,0.7545502673320493,0.7523116406566713,0.7621564943255257,0.7516827595744482,0.7120831984574831,0.7281995231183056,0.7615859821651103,0.7729714102483494,0.7533345408105775,0.7352218795881205,0.7431639485255492,0.7781816533072761,0.7258259485867607,0.7448085532369875,0.7062909278542577,0.8132066355115785,0.7772045717317139,0.7361950012519554,0.7389761662000015,0.7803486210482504,0.780032848354501,0.7340329494358753,0.7818384216522731,0.744825398616377,0.8367453092295791,0.7617994785705549,0.7314569550077666,0.7542221173124507,0.7705224782470196,0.7282856613384119,0.7386613401588659,0.787630123369124,0.7579619286375068,0.7731392632823841,0.7485280585376803,0.7679094162441646,0.7415513467746759,0.803796440863931,0.7046358744100534,0.7470394269300876,0.7775897151338005,0.7509431258620566,0.7352543143897379,0.7709655132123654,0.8040153556854014,0.7655124866406157,0.805811064480209,0.8162345001086504,0.7419977707440122,0.7600506665961722,0.7603082715526196],\"y\":{\"__ndarray__\":\"OQAAADQAAAALAAAAQwAAAEAAAAA6AAAAMwAAAEEAAAA6AAAAJgAAAEYAAAA5AAAACgAAADEAAAA2AAAADAAAABEAAAAdAAAAQAAAAAwAAAAqAAAAHQAAAA0AAABKAAAATgAAAE4AAAApAAAAFQAAABkAAABBAAAATwAAAEUAAAApAAAAHwAAAEQAAAANAAAAFgAAAE8AAAA3AAAAFwAAAEgAAABNAAAARQAAAEsAAAA3AAAALQAAAD4AAABLAAAAQgAAACwAAAAbAAAAIgAAABkAAABNAAAAHwAAAEMAAAA9AAAAGQAAADYAAAAvAAAAQAAAAC0AAAArAAAAOwAAAEEAAAA9AAAADwAAAAsAAAAvAAAAFQAAAEMAAAAYAAAAQgAAAD0AAAAvAAAACgAAABUAAAA0AAAAJgAAADMAAABCAAAATAAAADEAAABIAAAAPQAAAD8AAAAgAAAATwAAAEUAAAA0AAAADQAAAA8AAAAKAAAANQAAABwAAAATAAAAMAAAACkAAAAbAAAARQAAAA==\",\"dtype\":\"int32\",\"shape\":[100]}},\"selected\":{\"id\":\"2270\",\"type\":\"Selection\"},\"selection_policy\":{\"id\":\"2269\",\"type\":\"UnionRenderers\"}},\"id\":\"2238\",\"type\":\"ColumnDataSource\"},{\"attributes\":{},\"id\":\"2290\",\"type\":\"Selection\"},{\"attributes\":{\"fill_color\":{\"field\":\"y\",\"transform\":{\"id\":\"2190\",\"type\":\"LinearColorMapper\"}},\"line_color\":{\"value\":\"white\"},\"size\":{\"units\":\"screen\",\"value\":8},\"x\":{\"field\":\"x\"},\"y\":{\"field\":\"y\"}},\"id\":\"2239\",\"type\":\"Scatter\"},{\"attributes\":{\"source\":{\"id\":\"2272\",\"type\":\"ColumnDataSource\"}},\"id\":\"2276\",\"type\":\"CDSView\"},{\"attributes\":{},\"id\":\"2218\",\"type\":\"BasicTickFormatter\"},{\"attributes\":{},\"id\":\"2201\",\"type\":\"BasicTicker\"},{\"attributes\":{\"data_source\":{\"id\":\"2224\",\"type\":\"ColumnDataSource\"},\"glyph\":{\"id\":\"2225\",\"type\":\"Scatter\"},\"hover_glyph\":null,\"muted_glyph\":null,\"nonselection_glyph\":{\"id\":\"2226\",\"type\":\"Scatter\"},\"selection_glyph\":null,\"view\":{\"id\":\"2228\",\"type\":\"CDSView\"},\"visible\":false},\"id\":\"2227\",\"type\":\"GlyphRenderer\"},{\"attributes\":{\"text\":\"\"},\"id\":\"2216\",\"type\":\"Title\"},{\"attributes\":{\"callback\":null,\"end\":300},\"id\":\"2194\",\"type\":\"Range1d\"},{\"attributes\":{\"source\":{\"id\":\"2211\",\"type\":\"ColumnDataSource\"}},\"id\":\"2215\",\"type\":\"CDSView\"},{\"attributes\":{\"callback\":null},\"id\":\"2192\",\"type\":\"DataRange1d\"},{\"attributes\":{\"callback\":null,\"data\":{\"x\":[0.7855029022988521,0.7862009105935952,0.7644711254507112,0.7538586072805449,0.7600037091563783,0.7878355654968534,0.7548314468620645,0.7506704355241183,0.7488571177887782,0.788542990163024],\"y\":{\"__ndarray__\":\"JwAAABoAAAA2AAAAKQAAAEEAAABAAAAAFAAAAEMAAAA1AAAAMgAAAA==\",\"dtype\":\"int32\",\"shape\":[10]}},\"selected\":{\"id\":\"2290\",\"type\":\"Selection\"},\"selection_policy\":{\"id\":\"2289\",\"type\":\"UnionRenderers\"}},\"id\":\"2254\",\"type\":\"ColumnDataSource\"},{\"attributes\":{\"label\":{\"value\":\"Draw 5000\"},\"renderers\":[{\"id\":\"2214\",\"type\":\"GlyphRenderer\"}]},\"id\":\"2223\",\"type\":\"LegendItem\"},{\"attributes\":{\"dimension\":1,\"ticker\":{\"id\":\"2206\",\"type\":\"BasicTicker\"}},\"id\":\"2209\",\"type\":\"Grid\"},{\"attributes\":{\"ticker\":{\"id\":\"2201\",\"type\":\"BasicTicker\"}},\"id\":\"2204\",\"type\":\"Grid\"},{\"attributes\":{\"label\":{\"value\":\"Single experiment\"},\"renderers\":[{\"id\":\"2275\",\"type\":\"GlyphRenderer\"}]},\"id\":\"2291\",\"type\":\"LegendItem\"},{\"attributes\":{},\"id\":\"2220\",\"type\":\"BasicTickFormatter\"},{\"attributes\":{},\"id\":\"2251\",\"type\":\"UnionRenderers\"},{\"attributes\":{},\"id\":\"2390\",\"type\":\"UnionRenderers\"},{\"attributes\":{},\"id\":\"2206\",\"type\":\"BasicTicker\"},{\"attributes\":{},\"id\":\"2289\",\"type\":\"UnionRenderers\"},{\"attributes\":{\"fill_alpha\":{\"value\":0.1},\"fill_color\":{\"value\":\"#1f77b4\"},\"line_alpha\":{\"value\":0.1},\"line_color\":{\"value\":\"#1f77b4\"},\"x\":{\"field\":\"x\"},\"y\":{\"field\":\"y\"}},\"id\":\"2213\",\"type\":\"Scatter\"},{\"attributes\":{\"label\":{\"value\":\"Draw 10\"},\"renderers\":[{\"id\":\"2257\",\"type\":\"GlyphRenderer\"}]},\"id\":\"2271\",\"type\":\"LegendItem\"},{\"attributes\":{},\"id\":\"2252\",\"type\":\"Selection\"},{\"attributes\":{\"source\":{\"id\":\"2238\",\"type\":\"ColumnDataSource\"}},\"id\":\"2242\",\"type\":\"CDSView\"},{\"attributes\":{\"source\":{\"id\":\"2254\",\"type\":\"ColumnDataSource\"}},\"id\":\"2258\",\"type\":\"CDSView\"},{\"attributes\":{\"fill_alpha\":{\"value\":0.1},\"fill_color\":{\"value\":\"#1f77b4\"},\"line_alpha\":{\"value\":0.1},\"line_color\":{\"value\":\"#1f77b4\"},\"size\":{\"units\":\"screen\",\"value\":10},\"x\":{\"field\":\"x\"},\"y\":{\"field\":\"y\"}},\"id\":\"2274\",\"type\":\"Scatter\"},{\"attributes\":{\"data_source\":{\"id\":\"2272\",\"type\":\"ColumnDataSource\"},\"glyph\":{\"id\":\"2273\",\"type\":\"Scatter\"},\"hover_glyph\":null,\"muted_glyph\":null,\"nonselection_glyph\":{\"id\":\"2274\",\"type\":\"Scatter\"},\"selection_glyph\":null,\"view\":{\"id\":\"2276\",\"type\":\"CDSView\"}},\"id\":\"2275\",\"type\":\"GlyphRenderer\"},{\"attributes\":{\"click_policy\":\"hide\",\"items\":[{\"id\":\"2223\",\"type\":\"LegendItem\"},{\"id\":\"2237\",\"type\":\"LegendItem\"},{\"id\":\"2253\",\"type\":\"LegendItem\"},{\"id\":\"2271\",\"type\":\"LegendItem\"},{\"id\":\"2291\",\"type\":\"LegendItem\"}],\"location\":\"top_center\",\"orientation\":\"horizontal\"},\"id\":\"2222\",\"type\":\"Legend\"},{\"attributes\":{\"axis_label\":\"Sample mean\",\"formatter\":{\"id\":\"2220\",\"type\":\"BasicTickFormatter\"},\"ticker\":{\"id\":\"2201\",\"type\":\"BasicTicker\"}},\"id\":\"2200\",\"type\":\"LinearAxis\"},{\"attributes\":{},\"id\":\"2235\",\"type\":\"UnionRenderers\"},{\"attributes\":{},\"id\":\"2270\",\"type\":\"Selection\"},{\"attributes\":{\"data_source\":{\"id\":\"2238\",\"type\":\"ColumnDataSource\"},\"glyph\":{\"id\":\"2239\",\"type\":\"Scatter\"},\"hover_glyph\":null,\"muted_glyph\":null,\"nonselection_glyph\":{\"id\":\"2240\",\"type\":\"Scatter\"},\"selection_glyph\":null,\"view\":{\"id\":\"2242\",\"type\":\"CDSView\"},\"visible\":false},\"id\":\"2241\",\"type\":\"GlyphRenderer\"},{\"attributes\":{\"source\":{\"id\":\"2224\",\"type\":\"ColumnDataSource\"}},\"id\":\"2228\",\"type\":\"CDSView\"},{\"attributes\":{\"data_source\":{\"id\":\"2211\",\"type\":\"ColumnDataSource\"},\"glyph\":{\"id\":\"2212\",\"type\":\"Scatter\"},\"hover_glyph\":null,\"muted_glyph\":null,\"nonselection_glyph\":{\"id\":\"2213\",\"type\":\"Scatter\"},\"selection_glyph\":null,\"view\":{\"id\":\"2215\",\"type\":\"CDSView\"},\"visible\":false},\"id\":\"2214\",\"type\":\"GlyphRenderer\"},{\"attributes\":{\"data_source\":{\"id\":\"2254\",\"type\":\"ColumnDataSource\"},\"glyph\":{\"id\":\"2255\",\"type\":\"Scatter\"},\"hover_glyph\":null,\"muted_glyph\":null,\"nonselection_glyph\":{\"id\":\"2256\",\"type\":\"Scatter\"},\"selection_glyph\":null,\"view\":{\"id\":\"2258\",\"type\":\"CDSView\"},\"visible\":false},\"id\":\"2257\",\"type\":\"GlyphRenderer\"},{\"attributes\":{\"callback\":null,\"data\":{\"x\":[0.834859382603566,0.7965584264427228,0.7530754656601856,0.707063662286202,0.7584470324936604,0.804896537414972,0.4532973380112971,0.45793685857348876,0.807145464190811,0.7323811513315118,0.5420585612167521,0.7889771730298247,0.7425862425429944,0.7794430283064535,0.7320022233254365,0.6869298004869382,0.7364245346192801,0.6518249576153666,0.7662898497827363,0.7541510617810586,0.8267136410358299,0.663107765483567,0.7738859372118283,0.7932389593179038,0.742396277472854,0.7196088073475974,0.7732650847954855,1.0403353763633585,0.7871665470965199,0.8583495787416371,0.7424764721015316,0.8049574096513628,0.8096251614216717,0.7748155345643334,0.7798166763987692,0.7771371497247086,0.6935503397167299,0.8838193725325196,0.853621127416027,0.775026531384972,0.7350852956693658,0.7916045979554309,0.7840252293616271,0.8854163924291114,0.7345329764382922,0.7048333432114462,0.8374009363775626,0.7333981883928863,0.8057632463306608,0.8154033098701535,0.7243556501665884,0.7441006809364608,0.8439482376496129,0.793581440221737,0.6979431015591201,0.7709486450186883,0.74077707462119,0.7256776963464048,0.7239566924337735,0.8059758650749179,0.837773654766001,0.8085276518848777,0.7152604337733437,0.6172364308186953,0.677360664156122,0.670753087395091,0.8048761951585738,0.8082920499463839,0.7494245483574088,0.702122207524397,0.8516036704024071,0.7267514496103088,0.6344824583187244,0.8179317757486355,0.6590454912904175,0.7067330033638582,0.8202485431004017,0.7726906971119923,0.7327237218239242,0.7443403495406733,0.7103077399312634,0.7567851518313877,0.7551264492395926,0.6049149116235798,0.8783934605720133,0.8144664609914086,0.9675700204593451,0.8197240683886169,0.7539660297907906,0.7408326602258077,0.7363909758510021,0.6705763575904977,0.7712240026703387,0.6647948159214853,0.6953540832860932,0.5947397811880013,0.7788146385105997,0.7257562215424619,0.6967845737989122,0.7877517040929699,0.8005729979269102,0.5153650757627161,0.7094193571419255,0.8263065470557155,0.8054101053590502,0.7483757849034696,0.8238987715882851,0.7663265772328112,0.8017059038184258,0.2139519169630052,0.7892135002219981,0.7613932781123018,0.7638919056861849,0.7421490536983896,0.6642981257951703,0.8429215049859775,0.769530926493256,0.8138606111024157,0.7917557020471105,0.6426425856618967,0.8414439099060433,0.8259850028871509,0.7170264547665718,0.7814444777324628,0.8075222843139929,0.7001970505097153,0.7577592270181873,0.7530968100555335,0.7905869325214452,0.8196756156545459,0.7019415607002873,0.6595658356655514,0.47673302633084064,0.7962639466200617,0.724250057006014,0.8408329416585838,0.8247291691463365,0.7920047718054402,0.7159805634045958,0.671465763988699,0.7238821507369908,0.6987059260761254,0.7985877071654078,0.7422788155360553,0.766876569538832,0.6893410480591075,0.8267765543343958,0.7721481397528739,0.8826770367067213,0.7123379621488023,0.6990701182337937,0.7656970815382006,0.8220607215169992,0.7342406830916567,0.8386957135522723,0.790978365488573,0.9238317574323198,0.7975116174884226,0.8153623928854081,0.6331922261726998,0.7527730403826346,0.7265350003871964,0.9183115509014853,0.8469080108411672,0.709686251476122,0.8181681597417246,1.2298774900079248,0.8406524536459806,0.8192881049025631,0.7770894933948681,0.7331577652447424,0.7735522560885768,0.7510512693313344,0.7174079293435236,0.7303371515402575,0.76324847927953,0.7283913069332014,0.7972908189437429,0.6515781676162977,0.6650693926357772,0.6499284378277838,0.9650655634645036,0.7639689927913584,0.7750988502351955,0.5887772147294773,0.7472858120964091,0.804952109774987,0.7915661891266285,0.8494473578370286,0.7217759367807336,0.6312728545093155,0.8741802901596845,0.8996663461345259,0.8415775733050385,0.7187949284439963,0.7467889820215677,0.7889577887756567,0.6998391169422327,0.6917763468941428,0.6875374537238467,0.7563690251623402,0.7785896284113926,0.6802376441152338,0.6512269073169026,0.8617737330958001,0.668147639314161,0.6710952027533331,0.7860788672248702,1.1626162046250283,0.7597896993514535,0.8205448922478814,0.794199677318204,0.7279660404720868,0.7468580038212954,0.7095221299609941,0.7433918241163648,0.8625485376140654,0.6766943027586226,0.7371389228371978,0.8866824445667149,0.8038559178779211,0.78736764142498,0.7070016293894278,0.7635467079224397,0.7407342913558982,0.7192583797231378,0.8639949109104824,0.4726269655071686,0.7318910096524487,0.724064729787075,0.7754518271158002,0.7362117056224702,0.7713970081544064,0.8375230980881762,0.8008401678266281,0.7875809074932293,0.778899559079058,0.6886479185356721,0.7884334978291879,0.7005126448036244,0.6815977251610785,0.7421870145869501,0.8417640443208749,0.5484692551938508,0.7163789358224534,0.7395654543659463,0.8091637975897864,0.7499573970048189,0.6863426942595761,0.8495601537747068,0.7075101606667129,0.825291953859637,0.6834247395067007,0.7401540130904745,0.7440659242642179,0.7475072336643015,0.7499268097873467,0.7210019617327794,0.7589972880054201,0.7229167147788058,0.9894595508185356,0.7131003031287482,0.8153808522366245,0.8022210101833519,0.842144029537471,0.6528487758513704,0.7992534520801795,0.6453619710867929,0.7438643945178723,0.7205256948746005,0.7702183558306347,0.7569317681735696,0.7657800063946563,0.7062227266143124,0.8902485750353372,0.7980934600005288,0.7771580666715953,0.9932526137208868,0.7648049253430217,0.6522913626106653,0.8403905643446183,0.7955784024157326,0.768808239635393,0.7966978367884253,0.7609622699525239,0.7755591217892399,0.8220100343951827,0.7553207923317945,0.8176675120961624,0.8349267144796347,0.6960235279136741,0.7858370044085579,0.6436092377476917,0.7304385508863896,0.6803298981865086,0.7237537864241969,0.6044342941406851,0.7090049396984206,0.8120801684757375,0.767397895593099,0.7123467728688877,0.9920011541169708,0.6262767820687639,0.8722235665294682,0.6992610580326556,0.7904373812531945,0.9048561471787406,0.7727087612942546,0.7707962935559237,0.7623076593364284,0.8054325459307304,0.7236205683497822,0.7459849960561333,0.4908683937970312,0.7385871298354318,0.7438726290877042,0.6614865624595834,0.7912027482299093,0.6065395705158185,0.6178248486512363,0.5901368047668945,0.7273132469777588,0.7977560981576693,0.7610931386321875,0.6874109301140268,0.704936264506616,0.7419134535553186,0.6982539012998256,0.6936948240731068,0.7299380829514555,0.8822047235689068,0.7254854515933029,0.7086445261319668,0.7653252267376999,0.8207216873217128,0.6441205260301032,0.73612474767257,0.865497734883996,0.9169264754731229,0.7502707618949405,1.2226389144649246,0.8243793136412606,0.8978775475896245,0.7442409531664991,0.7410724755616841,0.7327112636643012,0.5929408617888349,0.7798200747990486,0.7188467295901735,0.6918344987362476,0.7309245620999448,0.736485779409489,1.11548895789529,0.7186492562720402,0.717942885994084,0.7122961410112334,0.7831671225924743,0.6937136243974094,0.6862993614078831,0.7661531252863777,0.7198765828941691,0.8053089514002311,0.7234202113867271,0.9216287433568467,0.8117486713711961,0.7785688982700174,0.8893639581205095,0.7864255621277171,0.8984556315584235,0.8329540482705798,0.6469140221143618,0.6294039725658382,0.6970883921863734,0.6731625797230847,0.6636890071723583,0.7747912694632806,0.8894948422442955,0.7561544738645223,0.7916561388280895,0.7843933807475775,0.754247972934015,0.6656870798437543,0.6906171025366604,0.7075675941033954,0.9316017350446854,0.718548888322583,0.8058067519405997,0.7919181416377116,0.8567333002562223,0.6886805944800642,0.7207677360187985,0.8230078674778175,0.781551122621902,0.6584457582014357,0.7653160640705715,0.7454357764390724,0.7507301245084371,0.6274838791226391,0.9812104526700013,0.7150802373713754,0.7386859971475306,0.8354100671508067,0.7411897444173519,0.8255220639582806,0.6879163199806493,0.691190827488746,0.7729569397107474,0.813179118815437,0.7648548295348525,0.7029132592894081,0.7764798774194822,0.6034402631910415,0.7309786119954401,0.8134199801934517,0.9850869627360633,0.7389290674359035,0.7807535083810558,0.9207064397187409,0.7728041978042294,0.7378540504845291,0.7491422399475033,0.7683965971920764,0.8396586563131838,0.9240637979018875,0.6928822394100626,0.785296139594269,0.5837952982811728,0.8522242463916052,0.9388828677014651,0.5450546912122728,0.7901733636148867,0.6968600373406033,0.78749162753763,0.7525584492118572,0.9627207038560157,0.7636718278087031,0.7297852789374878,0.8043770670370989,0.8401341746688238,0.8222276195821605,0.8390690559628009,0.8003093561310339,0.7978010145223097,0.8167344046928713,0.7378523307198963,0.8021327952519812,0.8954084632272523,0.7486167087000183,0.7680391609152837,0.7679265577048262,0.8008341598590502,0.9050530451468961,0.8131241806926609,0.6001552390391713,0.6922018520815146,0.7388515802603343,0.9017590199020862,0.7877706647270662,0.7837128121460811,0.8026241501390334,0.7610960051764323,0.7847170616707314,0.7737568546971537,0.6081526046391328,0.5520690490327136,0.8286678631909694,0.804827439058447,0.720790894527183,0.8487107949267528,0.6037114904489339,0.6733911930702982,0.8360036019266405,0.36714283275865844,0.733685735078619,0.7627235878435653,0.920947902420202,0.8341364281418358,0.567570124000334,0.8074639591979774,0.764693155556933,0.6838568119445222,0.7820547344737276,0.9513387059169671,0.8130206923333234,0.7282501468277238,0.5645339490850579,0.7909134108424035,0.6429155311806083,0.8000497025213015,0.7423811509043049,0.6953517748384912,0.705137150408758,0.7221763457389955,0.7220880201837846,0.7963488651771252,0.8151824286234899,0.8366511199389507,0.7179965440172378,0.7779915366732333,1.2380037556212993,0.6984803775300577,0.6364207393839562,0.8987522726279568,0.797461443742405,0.838934957975779,0.5127664438051892,0.8219420083697312,0.7009595717797678,0.755688516160382,0.6657651080155542,0.7619539623067191,0.6984720209635296,0.7643622940155576,0.6638051680903171,0.7574250137851135,0.774391441685126,0.7700122976078384,0.7656440061457378,0.8168268225524953,0.7715659459911155,0.7578112990019369,0.7123764651623911,1.1056377812898188,0.5327085489816042,0.6833224396145303,0.757347483614501,0.663632176597094,0.736291046172502,0.7603820552010911,0.7053233017872936,0.8425040786233464,0.893044881644983,0.75590305344528,0.7128023531066012,0.8228682253713218,0.7945591799797568,0.752798292461348,0.8576972108935415,0.7266043627517436,0.6980713721998374,0.7199668302870146,0.5246436330678882,0.7246250918795565,0.7971121228431485,0.7637804423358916,0.6176241443946673,0.7707413602786852,0.6735570685672759,0.7783213870143243,0.7185950270989643,0.7161420948554026,0.4023776431003565,0.6843479836279934,0.7197187323231933,0.7475584202967773,0.8751685747172498,0.6444126197810855,0.7936485668360409,0.848692256252103,0.7869341085707904,0.7675510561087603,0.7074856620968148,0.7485315599465558,0.7242254908705569,0.7646050853264282,0.7586595167326635,0.3502203128136928,0.7574104007367654,0.8276837129390495,0.7952213210506873,0.7939326558795111,0.7364793076559347,0.8639221037782414,0.7455068753746025,0.5666486552733048,0.7771604296762413,0.6955906266169402,0.9270900108611314,0.801144168003908,0.8196057542230203,0.7499711107567452,0.7810561730248315,0.8591890466390769,0.7309283236000762,0.6760843556924252,0.7990946046782351,0.6078001252209819,0.7527413224995584,0.5678405215884171,0.6003795979537838,0.8143995331819467,0.8517340393461778,0.8006218858293653,0.7000373629572526,0.8311631799314514,0.8080592040330762,0.8085111633427439,0.8620054702235916,0.7844703684764928,0.7651729267501857,0.8393296499746794,0.7763257194345947,0.7772224898293628,0.787112941386671,0.8857904442958044,0.8716649343736157,0.8014219403885747,0.843573766348506,0.8596762498284506,0.7574569769632155,1.0205932392676338,0.622123708664829,0.8254787145250172,0.6822150687881479,0.851969556599644,1.1785613065037528,0.7600551013116621,0.6320908101265247,0.6755320186214047,0.6474390663104298,0.7436770372147411,0.71085137061234,0.8128245076329108,0.7476038655898543,0.7106747985737387,0.7166319109457455,0.8002079944593216,0.7339476877615989,0.7154489795538378,0.8308897946221068,0.8148762215718255,0.7780403109941463,0.7854074522638688,0.7711168117696672,0.865249150575999,0.7738331966709187,0.7684382735543904,0.6925492093489338,0.5161487764435393,0.7690452837478942,0.7906220888348177,0.3917324251006837,0.7492568538154837,0.7519525949247603,0.9813397404760968,0.6152350719265878,0.6617404880902278,0.7304623454058254,0.7260900560336782,0.6959131090987052,0.8647713022629224,0.772139009377622,0.744716256200996,0.7004809611084174,0.6894370817634825,0.7278955894150541,1.176991366910313,0.8296974332079917,0.6529515894456343,0.7540027676880431,1.2269138345398676,0.39816992161536374,0.8191921654056052,0.8599234081408329,0.7097597168639276,0.8668082830531683,0.5269473242617339,0.7578547412625465,0.7424366257636986,0.7375915399976497,0.9845765686490214,0.7312073510889088,0.700414400184831,1.000868837433157,0.6206746228629816,0.7376303707267305,0.8105503092763146,0.7720263023429426,0.7496259055352041,0.6690152933018031,0.7145530687364002,0.7841960445914764,0.689322159822756,0.7719341280364398,0.787654742449727,0.6906854172401545,0.7249851030672427,0.779684825523291,0.7393675360521187,0.5729582159064935,0.6454563876102024,0.6778380254737568,0.7937727851011188,0.8065433211426459,0.7067322065996282,0.6606840050018488,0.7396992680733798,0.7983050740273441,0.8535900707421629,0.6656254944289586,0.785655022250907,0.7600482860609281,0.7357270936056651,0.8740747092126981,0.6958103498733783,0.595614217389061,0.8337951812703064,0.6252918248179096,0.730553574532073,0.8182185446486778,0.8709317399273826,0.6659910403382319,0.9733204892789741,0.8056660044506171,0.8273697869892706,0.74936951777633,0.7348796660098376,0.700795755013443,0.6977964687965269,0.7587934494515941,0.6622420796871171,0.7039699609212007,0.8314869054227481,0.7149718501474839,0.7544328632631445,0.6684552991281344,0.7341776272586874,0.8565231196850401,0.7223538363757216,0.6440241494195497,0.697822851648438,0.6645569333415504,0.6111924543300055,0.6948222502939412,0.6616037924425664,0.692189112952399,0.6866696778889035,0.753650484856905,0.7802719683777924,0.7172852946765914,0.6905161253408821,0.8359014725756062,0.7578960138144457,0.7343440875018266,0.7322792015013628,0.7729716305590438,0.7453626258935492,0.7587981119061428,0.6474268282755595,0.7587318295018658,0.7772209570735351,0.743870698058067,0.6875005720810873,0.7044943927503965,0.7169575782260038,0.6357964089641306,0.8287249333736657,0.7483758317327359,0.7258285544097934,0.794804899235967,0.841814815582628,0.6130201430683765,0.7336026179998539,0.7926995076733533,0.7734421197376601,0.7682161095231319,0.7978343034090253,0.7993941165985301,0.7011731065059067,0.6851446853015529,0.5983539778068321,0.7374211967842492,0.6973450585554163,0.7364008353510407,0.772853475258852,0.648862834400347,0.6998069106060615,0.7551431655786811,0.8781712645269233,0.7054622502242461,0.7221862310822653,0.48017202807504417,0.8180028525529773,0.8718169836214554,0.6463863837126926,0.751832925976282,0.7558909894058815,0.8289807818169542,0.7522817163420954,0.49622036758185367,0.7397958976461584,0.7361863743620921,0.7173673602758325,0.734270624848382,0.8056311986374417,0.6334113524495888,0.7127988881559437,0.6597817644639543,0.7187493405076264,0.7920196275708393,0.6575863177814364,0.7223480941313984,0.9016639914607785,0.7300659793778672,0.770117176275457,0.789860804951647,0.7239902308267815,0.836801056560994,0.701781639121389,0.5546966282504884,0.753255796126401,0.6977739156245218,0.8513780507873857,0.805725909231254,0.8413985530829605,0.7716384699844728,0.852777254724321,0.7618286217999434,0.8421117636217255,0.7765974649442186,0.833409327132072,0.9003596116238236,0.7259042232896887,0.6703444732236741,0.6604673688320613,0.7831007912004182,0.7260497686170954,0.7633674839825293,0.8413266944033162,0.7917435795380753,0.8092773642255818,0.7827400221624998,0.6608733794623485,0.8325671319323212,0.8397850456421473,0.8666136272592716,0.7515141700884467,0.731638333804062,0.6006860262999719,0.7785788258701934,0.7863300646858618,0.814592483002979,0.7994992370062153,0.7883923522263602,0.8377983758408433,0.677651818949081,0.6388512683338621,0.7818387722833006,0.7630533093371575,0.7641678953989482,0.8590435766153142,0.8878468030968659,0.7880848842535094,0.7595975452602247,0.6324014947551354,0.8181110279811655,0.758145754896414,0.9633009517462756,0.8224786803176717,0.9485862863038396,0.6873449797351349,0.5595691898882431,0.6564398691611787,0.7903339812507453,0.7815985244856064,0.7051676674450831,0.8182292303723974,0.7871948492562281,0.688425093591579,0.7048359700316423,0.7484858713629389,1.2128239569776873,0.9131151338214055,0.6881507657366324,0.8269946809307365,0.7018173171924452,0.6907221967320148,0.6994369822984218,0.7717553296361224,0.8446773214497224,0.7644721815344847,0.8840387982162766,0.7392209254891986,0.7989043631481444,0.7360013772626852,0.8390759558026407,0.5721748604443596,0.8204352591790456,0.7767057124255866,0.6604234833359164,0.5967086108603105,0.7592235494262541,0.8480709423111082,0.8424889930051808,0.5968322625629827,0.6805159675572254,0.7193933347386535,0.6752910662795167,0.7758623356966611,0.7306137878977098,0.7612302703985192,0.9657923797817138,0.8011212809371936,0.7282203019125901,0.6614879579779804,0.7781096780690447,0.7093171467274971,0.8122367914586228,0.7491785855386032,0.5306299224130411,0.7736486157845065,0.64637289103448,0.6525000662232779,0.7217707559505346,0.7759975709729334,0.7545394341911511,0.7062080780282326,0.8065294922035826,0.6936236188343556,0.7663600768397926,0.7458752476911313,0.6854653233762608,0.780701198423492,0.7332209335833066,0.6467016729793392,0.7228486887237145,0.608707133432241,0.7326572332575695,0.8472721454593357,0.791813652231843,0.7706067273135881,0.7939656331243193,0.8294749591215127,0.7751669426033464,0.6845087133564562,0.766969772218718,0.669019757560665,0.8782679668615351,0.8857052611866161,0.2009389138782093,0.7972282835508098,0.8506860084860454,0.6927134297718099,0.7613778672105089,0.8216936308625874,0.6538551638590598,0.7568202340505131,0.7905744142773474,0.9611343851530834,0.716578311186339,0.794837122434684,0.8362629677179114,0.9461720311161779,0.8263598394801558,0.7373088183166117,0.7547320334639792,0.814932174604929,0.6944378300827575,0.8151167066943888,0.8083644644374088,1.1649895342423413,0.723922585619488,0.7596049652268637,0.7638361549531936,0.7235946196716185,0.7903031437133805,0.6952515486647202,0.7193954386733904,0.7546941219543901,0.6793871007233998,0.7537022749749562,0.7655089267275381,0.6074245556793041,0.7198310142859229,0.8870395494145705,0.7592344678610544,0.5256363361873411,0.7808616284536668,0.7694627761988608,0.680257097922338,0.9595098460873408,0.8226320564149453,0.7725603086302731,0.8047903843623394,0.8402450497698946,0.8332562207495114,0.732284090199059,0.7268310818077209,0.7357294834744484,0.7446207453170394,0.839545937370746,0.702043938655085,0.7629656716247111,0.7456406936255447,0.6982241201140937,0.747980821886939,0.8693745518931695,1.0233666734772222,0.7929229573869194,0.7651883274646176,0.7909294155819788,0.6552516615662359,0.7763832574962591,0.7651987360337871,0.7484694280474886,0.7812181505851943,0.638024718262533,0.6802972188036797,0.6866063592296686,0.7586843441622693,0.41895461389573846,0.8206013478023361,0.8526657373425195,0.6735331041260386,0.8407245480689661,0.5841897730447838,0.7432958822481934,0.8060888492746484,0.662606714391648,0.7635668295218261,0.8036710039383248,0.7244467188865297,0.7211590457732704,0.7929650335102333,0.7249738611804256,0.7235271609865874,0.7961768682094053,0.8487369584836109,0.6785506081165555,0.7859721456264473,0.7948651740761783,0.6905657890534819,0.6751943145415619,0.8629450683770152,0.7338514411473087,0.6639853014722432,0.7428739671394996,0.7268864626618741,0.8008399463680472,0.7872919809974224,0.8096823320080395,0.7191305353710765,0.7513749318496991,0.6419030922912482,1.0499962367764963,0.7692922747935099,0.5213311070636342,0.8072270257292627,0.8193972459558945,0.8635719433872628,0.773559619112592,0.6561484620772379,0.7787924016421817,0.7366841515997794,0.6625132339516255,0.7910903193078374,0.7976524717919344,0.6155894474804747,0.5725188639554264,0.719154319827753,0.6964485239421845,0.6772467823133329,0.8105339072164256,0.6664308609894922,0.6289706665540566,0.8187000198620427,0.7200833288217424,0.841256120762159,0.6527268111377277,0.9040530767800843,0.8459536524855741,0.8726030089185599,0.7187279859094542,0.7051209758289539,0.7855420715213853,0.6279518011654522,0.7833943762341017,0.7577742196661886,0.7622881671208345,0.7421003674098707,0.7988655981643581,0.823340370586122,1.0571547490904336,0.6735076697607698,0.6286399814845852,0.6943782287133705,0.7608152309605101,0.5662402609080646,0.7532601850361341,0.8121400011809917,0.9565333425890414,0.7852442940235785,0.7445386675893798,0.8370270098194338,0.7841726488682808,0.8072740585157762,0.5522122144828522,0.679032009086295,0.6315224371517355,0.8092193721133715,0.7295955950407212,0.7277338850197987,0.7675397140901485,0.800027011834109,0.8210863409791465,0.6609370396941012,0.7813372494171632,0.6635158400841151,0.7560151785436666,0.6848185815532843,0.8898953021342607,0.7709694778529143,0.7599616808491496,0.727926907926455,0.707029773807319,0.6831375836929481,0.6048025517469315,0.8495860383105439,0.688485870430239,0.8516528473445915,0.6531272520148027,0.790925230540386,0.7739095561915964,0.7860045675326242,0.8086756703943792,0.7196265283434703,0.7629959195890966,0.7624738019697341,0.7689003593880248,0.8208809226987751,0.7721744461068218,0.9682632606854572,0.767565188795767,0.7246921811641109,0.6864231780537686,0.6953319811683312,0.7626504159784417,0.8437757761369559,0.7764954946590373,0.7744610987712763,0.8239699047917407,0.7653724065156752,0.8836697755263373,0.759566749927284,0.7212453735856841,0.6921749381604198,0.8267797841828141,0.8430827872947508,0.8114088871817405,0.8556778125100988,0.7263119352851384,0.7922116143115264,0.7567877939159988,0.7280292743401582,0.7547822942050668,0.7139016834772026,0.6352293112396739,0.820990977877221,0.859864499850311,0.7608004151290645,0.8057733209822179,0.715147604038566,0.7990118038600995,0.7479738183016114,0.6926852961591576,0.6753948408494462,0.8475513791620969,0.7382368031586128,0.7908826408008888,0.7255346039926318,0.7193993042109642,0.7707002331967386,0.9489201013626407,0.7245461450611665,0.7510500169439557,0.8422202024367563,0.6979472001019574,0.7662532401680991,0.600573705537816,0.7865872366494168,0.7703056170390558,0.7847568416610842,0.7666519484122051,0.755460730443404,0.781019439096301,0.7565179170114702,0.9158609754232871,0.7510126751084507,0.8429917769302359,0.6409276378659086,0.615802199189305,0.8045601993394829,0.7135810705877815,0.7627052847677394,0.6769308420960856,0.7864634645894437,0.8510169450324374,0.6178698589955173,0.49189049660659145,0.7269746512745601,0.7701051225268176,0.8024806689902763,0.6834115279600639,0.7570365356897681,0.8237669650981836,0.7899748755304087,0.8428507674721503,0.849994359013993,0.6529595690258951,0.8549952960209349,0.6719038043059484,0.7415382606194753,0.7791424057149436,0.7625151318597946,0.5351567512078806,0.8461173111037646,0.7299616150091515,0.9458741745315837,0.8118608864897671,1.029361163417003,0.8101607739721416,0.772611203760488,0.708378318186972,0.6558592956771558,0.5738147475241204,0.7005254251747326,0.7824130781015297,0.678493381066934,0.7115780591359905,0.716546454053866,0.693876642441167,0.7477718505010629,0.7663923540096036,0.7363884642598282,0.8346012212766523,0.7841190333598802,0.7408695477670424,1.018430834108747,0.7298048740855412,0.8071331908527164,0.750428549557439,0.7193150290661245,0.7042829978817543,0.5660051451546617,0.9405504381265432,0.7009557385174635,0.8934784375879606,1.0767327031427718,0.812709536531174,0.6755718506932062,0.6757779083815206,0.6185101701259366,0.6463467740930395,0.6429791610887781,0.6698622276650268,0.7171562334100468,0.7462916923070253,0.7398920115226019,1.2421400380773049,0.8238431239770764,0.6316559047221831,0.6779900575384431,0.8550008538950805,0.8304729875266545,0.7885136625324006,0.7321354372610694,0.696115571764367,0.7949107469277897,0.6737089581581571,0.6776333468160476,0.7658283325938441,0.7849044455630415,0.6868233057379366,0.7638433872833573,0.7373311061004267,0.7612781316545669,0.6908648155571002,0.9033340548761761,0.8479889925056322,0.7431744584535834,0.7526498146965996,0.7118684063311295,0.6881481514315088,0.6865126830708796,0.7343821459514198,0.7904923446442466,0.7824219740844696,0.7603545465951669,0.7100812307201574,0.7933988213486622,0.8034771333270349,0.7539529697825318,0.6732798817949992,0.669978493905843,0.7771945160332704,0.7841515464008563,1.0100978432294363,0.7834848192849714,0.7959303790381239,0.6656718630612602,0.7940726450698925,0.7759630291328102,0.8467216707131417,0.7631126497789252,0.7609886435887085,0.7071825583220493,0.7599866515656934,0.6808376185141048,0.6549352741583493,0.7675749202686992,0.705692982827858,0.8040796020256761,0.7138093871255268,0.7282774805417443,0.6597483941493939,0.7979877282336778,0.8216880808385971,0.7984410072690976,0.620863797808543,0.768701703375757,0.8122102652224603,0.6575825326635761,0.66292710676539,0.6700358951732867,0.7809768247192578,0.7476915480058126,0.7823320976334255,0.7736325371119083,0.8301239967301947,0.8761655564897581,0.7977017254710078,0.7198975487854009,0.7614196596933742,0.8888639873977817,0.35977908804474606,0.7397059518903872,0.7844393911556741,0.7199976687532279,0.7997355979369397,0.7725232698182626,0.783192115590839,0.8059130421863357,0.7411949387886975,0.8316752059546287,0.7696040786438217,0.7834930299338624,0.789443485680201,0.7211599339428902,0.8161688881648875,0.7244103606565867,0.7383854822514898,0.5980837822271113,0.7721520153062771,0.7356849127422873,0.7422198089565183,0.7712046089974907,0.7126457589892926,0.79744566869965,0.729279058899845,0.7488527975548562,0.8787005507830249,0.7563671146671909,0.8506059326663421,0.7963542411593524,0.630277433464747,0.7701208758919275,0.70291980693621,0.8515275442825258,0.7988453877554225,0.8048682064016052,0.7139633107424209,0.7585427651287302,0.9493053478133181,0.8455750792211415,0.8360946987941952,0.9613985712662391,0.8578467352086137,0.7073182116224757,0.6084907700517925,0.8771874898057356,0.7985629929942554,0.7624745395367901,0.6583905864688021,0.9208148923519792,0.25148700291115944,0.7208392077051131,0.766172133286498,0.7823248489279444,0.7533706978406416,0.8238759205234512,0.7454612919953096,0.7334048644605639,0.7444565529141024,0.7953354045410667,0.8325913624128791,0.6009831288131136,0.7953277189081291,0.7351937688785907,0.7378179107115636,0.7795608350756549,0.5078265165300476,0.7620905327695967,0.5187462621699522,0.8814579614916828,0.834833015464557,0.9246360052112492,0.7857042893005618,0.7541688424167275,0.8134878804372876,0.760208688733394,0.7760371372763942,0.7664384700144715,0.8488314599865453,0.7216408281773019,0.7975638582690686,0.7679151990302542,0.7786902089348734,0.8010862473994281,0.7803728819901345,0.7743893393312561,0.8929996513859694,0.7648261358228342,0.5840024646628496,0.7652805386603537,0.7282644642244822,0.6691679889444511,0.9215156361735789,0.6506085539783746,0.6436444979097944,0.7287913158022064,0.5951958300646448,0.916161380830414,0.6635963351569198,0.6940466515198518,0.7081457353072538,0.7529812320249647,0.6776556245280004,0.9752139986043621,0.7992275081784476,0.8912529742439886,0.7679446767132249,0.6920768932937925,0.6554533347902294,0.7649817588656912,0.7582666732038632,0.5908887200046885,0.7459148387131547,0.7439341313170973,0.7284409844721671,0.7467115905834167,0.8062713476449866,0.955493542378384,0.7666442248505038,0.6177931855077528,0.772480235592893,0.7619984755300129,0.8261148683117925,0.7666687864162004,0.8020433735772321,0.6950115498454786,0.8372135433254531,0.7079839206034625,0.7245644092560879,0.7354323088862242,0.8517193705885693,0.7266181056755208,0.7553314496884584,0.6909957955887103,0.6694599196916398,0.712066513874535,0.7343383671119372,0.7433560787214206,0.7780951466859631,0.7298482556485448,0.8060686989274615,0.7508453842550996,0.9050276862230017,0.7397286042898343,0.7462929148308137,0.6459366084490121,0.7234042995918963,0.7639981700023833,0.7629634495283296,0.8470794140169314,0.9200766659372871,1.0482432196376594,0.8165454624037503,0.6447773822417967,0.7324972043852831,0.7810844905505674,0.7590595925827825,0.6834407083234622,0.5658829584322099,0.6890175532991937,0.7721934768208621,0.817888191253319,0.6835770071488582,0.709118195753462,0.7351614832490968,0.9672712718535027,0.7035878159062675,0.8573068779971313,0.6676061170782559,0.8903499007222831,0.6462571838807548,0.8654310595509812,0.8389261301692326,0.7690722392300182,0.8365580083246137,0.6925696423028014,0.7418324665860273,0.7136252620678831,0.7103464568619173,0.7988259520379257,0.9399486933281378,0.6663730982085084,0.7422478717057399,0.8462557441640163,0.6337635667716169,0.773835895993078,0.6004260793658649,0.7217585666203999,0.7183290480038356,0.7669853364949908,0.7454522938006466,0.7581952610540171,0.8222600412223378,0.7026535628127957,0.7913558529348944,0.7689604356622813,0.7723070256713016,0.5413984705032461,0.7074387823520768,0.7061799195867228,0.7786305291380198,0.9974860413450382,0.6601573021406194,0.7601906533036258,0.8423589371482582,0.7124044555136386,0.9183259138299825,0.6351398852725781,0.7913335342824073,0.7994888034065087,0.9781421176363423,0.8480248346608871,0.7280521809772714,0.8005960905063569,0.8040954927943234,0.7050638249774288,0.6511862398966376,0.7561189156712049,0.6794847841955688,0.7210935255807516,0.8443096464923184,0.802162252886461,0.7720006454746455,0.7435748732928095,0.825979440770447,0.7844492188166828,0.7673315724410474,0.7965986489767449,0.8319115850322418,0.7517448222103182,0.7724898804924292,0.8618657402883947,0.7149082604224538,0.6003712812608767,0.6888854477763702,0.7109666911311634,0.7513284531121407,0.8462568923945333,0.6415620019809165,0.7582467107696899,0.8558431103599115,0.7485081913201459,0.7907197471041094,0.7413277395768992,0.689275803405737,0.7173285244227985,0.7496689991229945,0.8038113854401902,0.7591399235657397,0.6578777371899303,0.9061811362185825,0.7622745795342367,0.7874852207467011,0.7163623968154652,0.7142632983113444,0.8893793144753037,0.7073246761706453,0.7777068110095359,0.5833317942494937,0.6973304624470634,0.7226826913739325,0.7402405923445917,0.8296091438575901,0.7243659954153072,0.7724956044723167,0.8814990869011102,0.7103380407652702,0.6877173543041424,0.8008026782558143,0.7689088463825758,0.8374416298434058,0.7209585399613131,0.7861110054644523,0.7343718045153879,0.6985179387587692,0.6739872545016574,0.7328786142906495,0.8650662205067883,0.7517245167017769,0.8033923523764624,0.7883412182187286,0.7141219472978134,0.4654248504309454,0.7554893367750687,0.7975255063449028,0.8014710659022063,0.7716516877513447,0.8744302903874218,0.7708532727413697,0.8284639782632374,0.5750701568917613,0.7509066725680155,0.836898360484834,0.7686025290800478,0.788404920946661,0.775157796598801,0.7287970213814311,0.8326720440683032,0.7423071602770296,0.790888784086252,0.7244808854704087,0.7637096309687373,0.7555430739705069,0.7611052465036806,0.8353727449316246,0.7446692147490248,0.7642048180373985,0.7300765017151457,0.7756441602790902,0.6209827191592528,0.7141832470492064,0.7845206471893997,0.6815977339978385,0.7468719906336845,0.6565372198630575,0.7160218066220068,0.7854734389530807,0.8111178749182041,0.7760802393308218,0.8980588314170229,0.826004441921803,0.9065254258373431,0.779842244395664,0.8190031927151603,0.5506495147290207,0.705139184338676,0.7696395593531075,0.7999423458349169,0.6172792762052933,0.6655323213445975,0.6819872644851444,0.7959273372203614,0.7057989442984477,0.7387691573712217,0.7495911761485967,0.7493619476316545,0.963912237281973,0.823721623139007,0.9393813389256885,0.821961542110675,0.7411822563965436,0.7659732927020125,0.5939245978642926,0.7323305176015437,0.686384893539788,0.7016581860481321,0.9366045160984835,0.7299637063783732,0.9761400317427895,0.7949049671661427,0.7119935015190682,0.7550907390397363,0.709107050055858,0.7549894901176508,0.7991823263374161,0.6999728713602487,0.7665941414868006,0.8256076570786895,0.7601521340037779,0.8132420498968721,0.6453104168042321,0.8084330309870501,0.6841775287977832,0.8280144804389397,0.7685892161647696,0.6831970434463854,0.8765926939255215,0.7268499848561838,0.7451235132951074,0.6796816043455922,0.7266820194368125,0.3139943225755131,0.6949465186360955,0.6697825228733734,0.7810616645611327,0.8790104406898336,0.7629863285338676,0.7478812451958063,0.6101755635029625,0.7287456716906977,0.7546557345877074,0.7550676076997965,0.8074645198470175,0.6858091799442195,0.8049415050878184,0.5647030731878308,0.8102127880585163,0.8635163966606351,0.7959596546501482,0.654621617781695,0.6975181514215867,0.7895052149304166,0.7420286431751835,0.7448546148945151,0.7621611176107954,0.7316687411065586,0.7311862044588233,0.8271718934185414,0.7153707861932171,0.8141196533280073,0.7188680375766641,0.6918761270629629,0.7287206888098489,0.5791577688738488,0.7410647444099759,0.7148527168835762,0.6897858339542352,0.696215365035641,0.8179171866214473,0.732588818083573,0.8313405380743527,0.8052271789161891,0.7936940171800688,0.7732272840119521,0.8266530530377806,0.8246178511460346,0.7217229363809026,0.7349737479599724,0.7639149383157365,0.7647014666974132,0.7108627160287767,0.81099323014436,0.8750082364720289,0.8074478385040091,0.7342046225348657,0.7137989918454672,0.7268244778804513,0.7530003413646223,0.8430091324426833,0.7253503163807128,0.742149824639601,0.7999539685849824,0.6678181822265148,0.7236059992254474,0.828460758272101,0.8434558970545868,0.7625553398565301,0.7315127261025667,0.6779987639327333,0.6793260151833316,0.7971523372881564,0.8525315748881404,0.6933836853285493,0.8474667874196874,0.7054610224771112,0.7522533224289647,0.6759911123920941,0.7152773049828356,0.8246669438997682,0.7454028329711546,0.780613963267045,0.8401008973286158,0.7283648252841299,0.8458904669317407,0.4945030395794473,0.8540106849604542,0.7667662329287611,0.8172902805309781,0.7891535087088725,0.8002402204992293,0.8956230486146463,0.7069876180542772,0.7269112548361318,0.8819002796708892,0.7972665492544275,0.6854098932766819,0.6158142686900534,0.664510290553095,0.6864605370129433,0.6651642082000492,0.7804988635648459,0.8695668754368064,0.766871195924059,0.8453080524821219,0.8315100823792066,0.7742930450204984,0.6986889962313989,0.7260467227493227,0.9128665290153822,0.661617573256277,0.6860363084596256,0.7531143501169056,0.49938383216610777,0.7264837475267436,0.6248089829620092,0.785678759350164,0.7123883272909587,0.7658818762504006,0.8023321414105772,0.7589324273193678,0.8128373550517323,0.6698081896802073,0.6570627482651569,0.7629025594535704,0.9390905539009604,0.7089549298578026,0.7741464861099279,0.7858576032580046,0.6468116541308522,0.7171748730562114,0.8009490514134899,0.748049866656692,0.6677977811783897,0.8077462095644138,0.828215327303237,0.495440951397063,0.737983488430974,0.7094223296978451,0.7030847836871393,0.9272881089103505,0.7804279214115171,0.6986930246786646,0.793517153280365,0.7614918676230683,0.727274209175014,0.9133510719582241,0.6666217840566998,0.7407970467020443,0.7964998562544735,0.9146007243313737,0.7382585717808055,0.7449945475692511,0.7363722253544484,0.5928166039525544,0.8242705272120233,0.8073330245503648,0.7751232689346388,0.8469003372406385,0.7033853319600049,0.7764094265047127,0.7398155098122977,0.7078170415413912,0.7836300712589063,0.7852156534122146,0.7612346162784519,0.8109175966761619,0.7118296117406078,0.7741196581367763,0.6107907775019894,0.6969746777077713,0.9699338147155632,0.6278963882554323,0.7580063725219689,0.6878249021161573,0.6956994267544131,0.9298020057897672,0.7430816023703503,0.7843894877101026,0.6405445319469792,0.7192963978358089,0.7656158005437917,0.8879029987783862,0.7589358185751021,0.778861713663672,0.7075053275955128,0.776884815677843,0.8086308687277683,0.8709876890457684,0.8311965965365833,0.7212029505709063,0.7502484447550929,0.7031304645020674,0.5411121232654308,0.8521992238029968,0.7594205748827557,0.7367806573200264,0.7619003738897843,0.6350724148850175,0.6981728137588162,0.7502591172200987,0.5762035334460871,0.6362828545319152,0.6436822657675312,0.7543132791471219,0.6908574286529825,0.7063900748856214,0.6383039725361394,0.6669276350474034,0.7102643402715892,0.7341094652437561,0.7717953385021644,0.865773863006868,0.716508840858057,0.7813259592097583,0.45688389738742446,0.7641253564500696,0.7245292966449858,0.6869719692045311,0.8893117388962224,0.8348076697456138,0.7194452607781094,0.7430816103317209,0.9078595031823127,0.7249381385415531,0.6878296022866273,0.7707740449399278,0.7482301068742478,0.549981370033257,0.7785029725479994,0.7267797958979479,0.7079312135265577,0.8856290406681874,0.7670013883851087,0.7793095319652326,0.8030804677399281,0.8048569687976,0.697100568397397,0.9952715259526059,0.7799444982298165,0.737869402819688,0.7597250479301677,0.498747576048009,0.7547505637742872,0.7716827465947711,0.697830302283778,0.7397671359964739,0.6944343385895481,0.7956687516878477,0.7426129499943024,0.702552252018578,0.5985712186680257,0.8103389602775958,1.062805760897548,0.7465678027281216,0.8457693642886546,0.8322496660069865,0.743947095553497,0.8059422165331056,0.8595590611320083,0.9059873915197968,0.9509297008037724,0.7991150703394616,0.9961308551854443,1.0464729351726354,0.7878044948762736,0.9705267852722878,0.8672426778978795,0.8011212610242234,0.74043540133877,0.7391355874941448,0.7696387224658274,0.612995823771762,0.7223608212789131,0.7009566573291839,0.825523082853606,0.6836498544898785,0.8633312359025644,0.7799327495197098,0.7228416670393948,0.7434793359077897,0.7936293333057973,0.7924642089423419,0.8609160062500194,0.7594060818508214,0.8292764726259452,0.7719741458877036,0.7612226966426688,0.6299266095351942,0.7944176425551436,0.807068952020248,0.7955952993556381,0.7384754242839069,0.7718633938560039,0.7336232011693696,0.6951365186715391,0.8308130254420624,0.7359812515167037,0.7611359516753867,0.962027820306367,1.0376946894458077,0.9196513001064115,0.780810950165459,0.8163663138306323,0.7115851934953354,0.7409234583088349,0.7984345684159481,0.7046214001454516,0.6563358270078508,0.6940100579628814,0.7247660690703229,0.7908103080949894,0.8972562672828465,0.7156270360299006,0.627173227146453,0.6773109893204692,0.7793220847401853,0.7900694631949237,0.6883600134264443,0.7380331613719773,0.6996141299654852,0.748900653542879,0.7922534371403823,0.7407348168885721,0.9202139293431459,0.713448791753207,0.7575658961671972,0.7811261001444265,0.7254669430680786,0.7378676675294876,0.8034934308466166,0.7065382937940212,0.7793668910609113,0.7561882092544844,0.7150348051589113,0.7237133273804393,0.7643971954187349,0.8126288222005876,0.7420216920275,0.8489204468153068,0.7067130436424189,0.7266269847380696,0.8600140214576713,0.8224791495839902,0.4484731173292507,0.7346345334151658,0.7628420030229512,0.7105318060056695,0.7561216287023542,0.6424147500965371,0.6975442513248301,0.8599898529655547,0.8072445104475484,0.7516938379959152,0.7024838616929243,0.8359647281918002,0.7243631410173232,0.7875182257096893,0.8769791502083302,0.8137683997714132,0.8030144069521814,0.6964235756645683,0.7695784326958321,0.7731920436210172,0.7598668659850947,0.7836178917191485,0.8625621928079242,0.8016667913682429,0.9863182397960559,0.7119129116487197,0.8495504322528267,0.8631003710364676,0.7585498067617253,0.9475877280143418,0.9022285802414358,0.9932838924329447,0.7916272893985696,0.7751587611034648,0.09915048062820635,0.8144725831758084,0.7980979819357843,0.7546820271899856,0.7438046624101392,0.7512641106891413,0.73236178716571,0.6734532462525736,0.766511646639974,0.8824755970455289,0.7402339861312929,0.820083755050186,0.8199092001562935,0.847083329451146,0.7767763487974507,0.7522768903082615,0.6332127939961828,0.7779856021982756,0.796640271075059,0.787219605052837,0.7109560675235853,0.7063351310910834,0.7395741842470445,0.7730911523019433,0.7060350064357139,0.6628792225520542,0.6883380662120886,0.8163731527476937,0.6490998714450541,0.890023877790564,0.7831680766616528,0.7055465889104457,0.7492497690252228,0.6938676552162298,0.5348863860313589,0.7213181543872024,0.777771179727209,0.6362135986663863,0.7681300318058284,0.7762483924606605,0.8993291216263108,0.9076444004750599,0.7594233034171988,0.7501939448618858,0.7739802325222812,0.8288071088258026,0.83824371662444,0.689790307189678,0.8388027390417253,0.7884904470143412,0.7082098736169365,0.8351380277203225,0.8250822016030964,0.693306793056908,0.725776755366088,0.7712338897874186,0.6676257973336152,0.683155678418737,0.567312524109281,0.816162328816549,0.8370671768725488,0.6073917273853969,0.7292576698075364,0.7147672752912134,0.7326708986304138,0.9068282096406659,0.7161073840474065,0.8561557508648378,0.8354683842288425,0.7191405392687039,0.7616222755263004,0.8312028344861913,0.6386732514122562,0.752093519402584,0.8007763942008024,0.6043517771550577,0.673298788436262,0.685818933275288,0.6568556218781013,0.852838378342127,0.6387006252244414,0.6633227945131848,0.8166231527189567,0.7996642864898585,0.7150755868099765,0.7951626634084008,0.7725441176415341,0.7169949358165182,0.6919236838200946,0.8272242607761908,0.7467139408984909,0.7739725047018118,0.5133257100215352,0.6784359818964831,0.6437453261017675,0.8199653986681735,0.4519900214470302,0.7002155412188572,0.8263726935749157,0.7896115859159486,0.8889712178992818,0.7028939882053681,0.7712131487651208,0.8439401041802596,0.8633537705635528,0.7713479792002538,0.9569355338236141,0.763172564074673,0.8114235492803438,0.6737099961788069,0.4284753588736198,0.6848654658134125,0.7539630030706385,0.7918748031024855,0.9202349973248727,0.6715113982513388,0.651267621398715,0.8572531224797552,0.7921354249687343,0.91587941173708,0.7732202720764648,0.6708357814311198,0.8247449493347563,0.8861720018550642,0.737177765470429,0.8532225532360572,0.620867820503914,0.699879826630096,0.7487637716952017,0.7743369835132424,0.7058674152279484,0.7559536574712851,0.7043660796281678,0.714627907256093,0.7489313866638477,0.8045507319501193,0.7834237709675412,0.8088135426478364,0.7465714406403897,0.7723790989596016,0.7366919482144164,0.6794477910125893,0.8548468749888332,0.8067690402804021,0.7869480017441342,0.6882878989529219,0.6648742421118526,0.77795629730102,0.7550063999326315,0.7457618835308176,0.7799990807572404,0.5299971511801167,0.7705641299037858,0.7878614801372906,1.012336721692338,0.7610465983375382,0.7218731708753359,0.8297012313739318,0.7473081956546019,0.7875229813434763,0.7650999210966906,0.8474768007747309,0.7569935239041032,0.9325975840872621,0.7912499494118407,0.7643101655082796,0.734535818801416,0.6873084572892939,0.8043080844371877,0.604099280157843,0.6837609495096073,0.8780556954257297,0.8476039642112455,0.7363609969695948,0.7155067650367157,0.7499920142537226,0.7804914987179651,0.7559665223948685,0.7065046012996025,0.7017104471959126,0.7105812313472512,0.8177729428641621,0.8847118585699982,0.7953607025664401,0.7139266498834487,0.6867803599872572,0.7145566298912714,0.7262969516784538,0.7641377106782704,1.0264775220018316,0.8038643301503612,0.7983760546354393,0.7217624916918493,0.7561314347902138,0.7725705478121628,0.6357243928891041,0.7557172045896415,0.8310379255304412,0.790228062077246,0.77504011589588,0.7576459361753349,0.820419715703175,0.7151847471619206,0.6863831005309936,0.8006396359257975,0.575629538087943,0.8465596560827124,0.8235691601094147,0.6704331958625466,0.7438284626585806,0.6686045976350569,0.7755803687390367,0.6408561913274013,0.7619035004637961,0.7915198202275425,0.7483606123960376,0.8229044031021567,0.7660110540922501,0.8316815210850365,0.5348815982078715,0.7556750792468782,0.7612007362489905,0.728842500479334,0.7657489190520314,0.7568050105762109,0.7130810478237739,0.772141825750505,0.7883657392949144,0.812643438908421,0.6517646117921132,0.655433796819632,0.5804693385894963,0.8245996296808091,0.7710331388820374,0.812733202021351,0.5146324942140352,0.6801611878246608,0.8130200524151701,0.7457196599375493,0.8161165049814653,0.7812442717050654,0.8608666157762617,1.0207920074707353,0.6235050687077626,0.6866158193732962,0.6802215216841608,0.6627498240701031,0.6385798564966724,0.6563839918531748,0.7848241500398506,0.7771360570614616,0.6880704430460065,0.8122791756875771,0.756733491070436,0.7818473138048126,0.7406612250928485,0.8363821515886504,0.7197005811503814,0.8376312050589999,0.8639980959180119,0.8609172879103874,0.7689036391705412,0.7653717451737646,0.7517317264659023,0.7241902366127289,0.7447202731964808,0.7744372067010058,0.711235683471499,0.6855652141002732,0.7784039273199725,0.7336603783446075,0.7166691717452454,0.6532726730687883,0.7580496676900423,0.8128469602626051,0.8373298068417947,0.7964302254019321,0.78039860419514,0.5916418675841103,0.7474642977678191,0.7833831193658303,0.7376138229844761,0.7651972029622919,0.5814002585342323,0.7992991030848347,0.772778155502876,0.8072034178089582,1.0379941298492317,0.7616353298619422,0.6434467235567719,0.8158068057404009,0.8116388201242206,0.3311445312316002,0.7553766765668394,0.7419506867065291,0.876397235307722,0.6435232233397084,0.8798685922421798,0.8628111776516836,0.6362001905466902,0.7221352150826122,0.7133018597111507,0.7193759534105499,0.6105982949691507,0.7744836263858499,0.7893095713783206,0.65310252060363,0.6474535985998503,0.714462392559482,0.8135584982268713,0.7429737508181631,0.7591636386711554,0.6192296548392517,0.7261791531131115,0.8283457443169407,0.8537064661960949,0.6904121064289963,0.7811717336579046,0.6694473968802638,0.7232375788869562,0.7034266972739778,0.7622688058760703,0.5720613916235286,0.854232493596748,0.6918603273842328,0.7219413389663177,0.8493345590333353,0.6569280853692088,0.7882140573042412,0.667998540255858,0.7124230687421556,0.7896936415148189,0.7996829579708066,0.8186786539783703,0.8025649777594076,0.7300221199106454,0.6791946069367358,0.8076519305934007,0.8457237975278726,0.8258710891303058,0.8057686213796017,0.7669050322322222,0.8688063246000599,0.7808387574368333,0.7058424753134919,0.7043904534023379,0.7896307471781693,0.9893917405071518,0.7526059685499591,0.715094554716369,0.7898920273480731,0.8538474833942349,0.8040723480978276,0.736137782293815,0.8284460535992665,0.8129557225273804,0.7310511216452205,0.8382588936253378,0.7137048509080602,0.7398673166161578,0.8070852776845622,0.7618007873250983,0.7747956287494678,0.9308623503199087,0.7907307660576194,0.7273876273933084,0.6554732324892295,0.7842918039552332,0.6730522474948452,0.7444965309212158,0.7006493945939208,0.8507978340509682,0.7223421541648356,0.7516520611511527,0.8129520574217158,0.8672634997258064,0.7816498160723234,0.799509985403937,0.7546007248217825,0.7864911815563761,0.8164323772163863,0.6957131818304381,0.7759771894806806,0.7903377129176558,0.747976853518751,0.7266375043903625,0.7023674468576598,0.7619308472777854,0.574909197845307,0.3686293357196698,0.797620511830025,0.7917852187101444,0.7251574119422823,0.7050889825334363,0.6558028592477887,0.680495744817863,0.6990561876727052,0.8102858431238744,0.536838587327581,0.7462161648532147,0.8948288629420127,0.8661412010824556,0.7914298118290322,0.7473804322362768,0.7124601722894286,0.6877307180601555,0.6431053279349627,0.7022903367378053,0.7864966284163889,0.744383130976311,0.7177951605465452,0.6881489420982437,0.7498975563554544,0.6878924734656001,1.0616943488397674,0.6977349690370436,0.9565529848151653,0.804315372694734,0.8221221973964113,0.5844472998188034,0.8470256057017372,0.7272643835032838,0.6753682590230057,0.785896753915018,0.7678757438143953,0.7917889879235739,0.8231389142129999,0.6053632602410527,0.7544889163772969,0.6030917799922908,0.6650164740894526,0.7475009773787884,0.5459738744955809,0.7296385616235262,0.7389986145451299,0.8309664768830258,0.7334922564635645,0.5235027724688605,0.6315098230720996,0.7573680170628185,0.7363123668830167,0.7860620941505161,0.7510645148872132,0.7618670945027123,0.7954656308553446,0.7392617580196165,0.7318166285324341,0.7821094214522926,0.703408551269131,0.7129025944105689,0.7022576727705966,0.8710760260362089,0.7636930040647304,0.7266979885472684,0.8251071310547574,0.78755767990812,0.8508218997730475,0.9126708557517161,0.8496159895325264,0.6406770474830809,0.8135476040487669,0.7229304346548321,0.6851451208344411,0.8059831584643218,0.8442151592116832,0.7785932406710642,0.7222404313507239,0.7196765604308989,0.6617703947594615,0.7019428962723312,0.9712425248907958,0.8473976502513493,0.7414623442647483,0.8491794263206015,0.7754815667149759,0.7522993384610148,0.8078826870876743,0.7157112021026673,0.7518937880920151,0.8203712252963357,0.5002084234658456,0.764511961784594,0.7339869911783095,0.8490951747692786,0.7320630900598992,0.7721818756867063,0.7638940254115515,0.487518485857028,0.6630734595272286,0.7832286324271361,0.7925325524009934,0.8498090909320621,0.7260337341063235,0.7355039427684316,0.7010317678712079,0.6884668583671322,0.7122635040597838,0.7569629281449846,0.8337727675084167,0.8484720865700531,0.8265456522295004,0.701316860041025,0.8445434627198755,0.7486661380795121,0.823756648046531,0.6479704306297763,0.7220949356411659,0.9934396726582942,0.71139538984955,0.7473885888231727,0.7605657062949823,0.6845042180099988,0.6672559941210301,0.6936467333507528,0.5518004730104901,0.9239093583725295,0.6928749898891301,0.7660965737083745,0.7843728742478355,0.7519095815700951,0.7421311593257922,0.8608082939193163,0.6807914937203233,0.715878877954939,0.6897138317762294,0.7410644522063924,0.7938834053135312,0.653604082475602,0.7732343810556005,0.6176231698269631,0.7387130507670417,0.47213452760534497,0.7674375924344505,0.9145617870631317,0.8218852436090174,0.7790776444185871,0.7524965052854585,0.7322682488333128,0.7433418136707358,0.8095931209552287,0.9097566170991589,0.8910061983953199,0.7643493412457918,0.9066759580476319,0.6754269188880251,0.7838619104719727,0.685013983402868,0.7782091157649448,0.6053942443331053,0.7887653052519936,0.8533302055930488,0.8210529262591681,0.6977503949327339,0.6094510710787996,0.7929958305135081,0.8326729586401532,0.6799980165401399,0.9163411690324452,0.7556159559053683,0.7798533142078656,0.8073437524389891,0.7229691588856144,0.7460310134793308,0.8080002980649338,0.7190005008065814,0.70596843409942,0.8004970576092346,0.774385341850346,0.7437850308213059,0.7884054285907727,0.7442956925381237,0.7479744982468444,0.8125668559593012,0.7313063283201037,0.6607730857945211,0.7518578520970425,0.8003406896562146,0.37422685176818615,0.7640591842422476,0.5344226842504647,0.650940100460046,0.7767008432514749,0.7821661501531441,0.7495067321983714,0.7232580953447828,0.7740974017230556,0.7370575023497423,0.7581386136202571,0.7462668811568051,0.679317521524434,0.7662737896389116,0.9145669482901015,0.6930947494952947,0.733518765909913,0.8350960086824895,0.7828596491026136,0.6425771431904644,0.7023939641841253,0.8508406531995079,0.7744131902410061,0.7522243491955898,0.76020486084178,0.7269573860763321,0.7509856756640814,0.7558414185020507,0.6644139352059879,0.7679332400722372,0.40455192412453644,0.7438206319923376,0.7272117324576524,0.6968122997581523,0.6946861470717631,0.6690614106247128,0.8126276011853037,0.953554708298518,0.9595134670530981,0.7105235536760864,0.8262106492996071,0.7836290024051636,0.8112305552565232,0.7842843154888448,0.7332379132103822,0.7185959111151209,0.8314168601432496,0.8333471185695491,0.7700116065027536,0.7714984931365609,0.7827437723206302,0.7365110878182654,0.7056263431384484,0.861229083549291,0.8786780406670127,0.7592816090550121,0.5258947586035054,0.8186994958156927,0.8057488400076384,0.7398000613636729,0.9603613831147203,0.7653113143380833,0.8731568514230239,0.7811047616209083,0.8023517687678072,0.6895284501801989,0.7582425876238146,0.5637244948963295,0.715022150564242,0.7166445367460602,0.881350213487988,0.843242748155587,0.6222104407603827,0.7585225134914401,0.7351966448619985,0.7530848667182977,0.8050702513507814,0.8072793927608749,0.7200404128548703,0.7950620581041576,0.7005070900659162,0.8195941334307307,0.5252658123489359,0.828014910665121,0.6993044751937413,1.1433273422587915,0.804537131372728,0.706103056267992,0.8069537827243934,0.5964555968175328,0.7065718247890688,0.847242819127375,0.8931742808258015,0.7519995386128862,0.7894875749395837,0.7058248480376562,0.7608461846697121,0.8034207024865667,0.7974592576446548,0.7616419478393485,0.849425343572823,0.8395674435952994,0.7374690335195428,0.8048761581638421,0.775128743703222,0.8162877509835148,0.8033045746309081,0.843584958462603,0.5856686932434024,0.8428058925679762,0.8065254265262758,0.8053989828891661,0.8291057027359717,0.7956459670983468,0.6497090449268695,0.8001688174744137,0.7158089547581352,0.794080046650737,0.8490130009056129,0.7838026544503235,0.8390086427009655,0.8151986621034244,0.7503769956113923,0.8305204631598667,0.6891451551608923,0.531071528190505,0.8112480500628219,0.7234642367173454,0.7650968057878925,0.6970513798398225,0.8227887489916574,0.7740386276035672,0.775276680898742,0.8247645622112911,0.9303009453496653,0.8090755011632718,0.8190169612342139,0.5675706828355009,0.8792249811170892,0.8422550329700121,0.7347557839259226,0.7286626182957245,0.765475424883003,0.7451712016135971,0.7800339357176673,0.7223470531865949,0.7415653194305989,0.8386876665959716,0.7177157947167875,0.7485906244377052,0.7553801436704494,0.6452884666419658,0.7084135466422249,0.8107334787232294,0.7910811777263159,0.7572819754742709,0.8128746896738881,0.7794538815616961,0.6145124598523046,0.7674409278121143,0.7117399112931895,0.6667933437652069,0.7650237021902183,0.7220592865761309,0.8212624682182424,0.7974502554852724,0.7900681459684729,0.5796814572266648,1.0193821088918873,0.8087126922658452,0.7845153626473895,0.8029147651825091,0.7018279908417593,0.742268119070608,0.6205990203246159,0.7418818671403216,0.685344385984192,0.7419791412703433,0.8176190608880963,0.7985226285614461,0.7673674032144,0.7848047136426229,0.8245352874513081,0.7326336816013902,0.7204658910428641,0.7456223255132666,0.7457248400544177,0.7056744772394378,0.726729850238524,0.6681370559946104,0.7347129083600923,0.7446189766280924,0.6079903655041399,0.7871646647310829,0.5131233408654489,0.9118467791483941,0.8165593993221658,0.7506215505297815,0.8151463063629308,0.7113532426868572,0.7387456957699018,0.694496666693958,0.7486113079260425,0.7454073616923,0.8137078125017349,0.7414427655986915,0.8068258073600524,0.8646558173570983,0.7529354986459291,0.7343076827369666,0.766627273872081,0.697718189211726,0.7514632555179219,1.1227004132737173,0.7337754585257903,0.7359256311581626,0.9520652175005969,0.7914722501836917,0.7684623246631723,0.6701068723882363,1.0242056106161324,0.7507230449074015,0.7530829288516366,0.6056058313843645,0.763560744263549,0.8158479088788009,0.7798192688520054,0.7037596846863282,0.9707785049913018,0.7373657556018612,0.744873967660865,0.8361769108220722,0.8384359967571042,0.6969659734582843,0.6309573963983622,0.5773433903835344,0.7885988061841455,0.7254650215186642,0.6024455961120483,0.7387743734816244,0.7966753871504879,0.9465782100066698,0.9173012529854732,0.6757725728470407,0.7760468256795285,0.6882042754180315,0.6791934935122054,0.8240000514862962,0.7345209333929174,0.5350073075172027,0.8190342162856334,0.756987384635507,0.7641921465585357,0.7395115861845075,0.7463309374367672,0.8275511199623997,1.1144583196756157,0.7167733791486522,0.7957255104332638,0.8676685130776771,0.7712998609034607,0.839445972143896,0.7438532436701166,0.7370829761301537,0.9778421901518636,0.7262378173873295,0.7387410913074816,0.9235858020448859,0.9137551015264677,0.877882797343468,0.7369896395497317,0.7860075920225243,0.973271650534386,0.8404925982344411,0.7356623904660773,0.8056213867832178,0.7149236007466767,0.8280108992504162,0.7366549269962311,0.7581569768585544,0.7991738479056372,0.6968001497857526,0.5997229211502432,0.8321954257480458,0.7976438538778233,0.6122463300659086,0.8399508718272385,0.9092113757377064,0.7279462776599022,0.7438394039523136,0.7296716878139479,0.7917683828830029,0.8647021531501603,0.7493247264632757,0.7469456249246071,0.872914903080466,0.7460503748063791,0.7131017902001093,0.7626249650633676,0.7257185653903934,0.3617931338842591,0.7755800467074357,0.6900658058521758,0.7270304372792569,0.8971428166066194,0.6433177620875923,0.669837365590904,1.0192583397425348,0.7457836553735719,0.7676741282011115,0.8666663280928238,0.6743404283727444,0.7461837648951919,0.7297884722628099,0.7816780509820931,0.8312015190762418,0.8983779836349018,0.7128118736783315,0.8363844499759866,0.9177208450230165,0.799857103554536,0.8058462338017665,0.8086084826498773,0.6852535308312386,0.6563280284071091,0.8261796939066967,0.6588039877542088,0.7454575546796856,0.7567373578739256,0.7600584346568673,0.6879683884004373,0.6982643138436782,0.8550000972146548,0.7464993385989288,0.7519065913209366,0.6500965204695449,0.6928268078772836,0.8425162079964734,0.7643344340104092,0.890212602812793,0.7392415759679375,0.7800475781890324,0.8462173447249252,0.8222349749478021,0.7505830254039019,0.7327179167248105,0.7910805314122518,0.8133500487086378,0.760564135172606,0.7372180820322269,0.7697430774867376,0.7721363969482383,0.8401627791772923,0.7430702111997151,0.6462740138346734,0.8318712911189837,0.7654514580545779,0.8022670397972494,0.7267819962581309,0.7480327027856694,0.8456062429579508,0.9164087904468644,0.8397630524702984,0.805287444569653,0.673762176129428,0.52574279139567,0.9331298006948674,0.7092949454538688,0.8939705303791212,0.7393475066635758,0.7137424485849214,0.8009263969531816,0.6738762800475523,0.673387282732648,0.8626867381964975,0.7100660267981325,0.6112140551531846,0.735141762918774,0.5948382929685877,0.6397427022132746,0.7660797261829632,0.7480161670155192,0.790843878038649,0.6495001763936769,0.8860158180731522,0.7875892116994209,0.725939996593645,0.7115675321614466,0.8905595140862157,0.5941165114463137,0.8333632100216125,0.7673132801120671,0.745978466985348,0.862595357849504,0.7422673861074649,0.7015706504796206,0.750008790169273,0.7916999777288356,0.961736030377439,0.7290593485289798,0.668682325097924,0.7582756453663468,0.702292385102327,0.7368057942582705,0.7834535016454042,0.8567035729023312,0.6521290865842473,0.770128311618225,0.6899332519367165,1.0645818264116365,0.7943412608655291,0.8251647183930929,0.8230620068319286,1.417336405245617,0.7895270203677595,0.7830227501805281,0.7226342247196387,0.7620380658151725,0.7687020252803447,0.577660955811321,0.6326747024916004,0.6903611829340578,0.6680864026614703,0.8545102146384241,0.7455828847866633,0.7175202623239973,0.815943637173666,0.7750231386322872,0.7369405467739281,0.726847530056582,0.6749285975523784,0.6759317545831167,0.7932266124121671,0.7895478158010961,0.44853864132343485,0.7695893938220387,0.6873055473700471,0.7692185928952072,0.6404833815234122,0.8898571643222346,0.8257236111041204,0.6591003431332197,0.8083087505948164,0.6343081856792571,0.6754232250060662,0.7370986136675289,0.7819409134593488,0.6575339633786597,0.6986039215812151,0.8395162762306578,0.7208503417650933,0.7451513663467974,0.781227331204898,0.7831308003592795,0.7668764394530868,0.7064002490638058,0.6963540315212202,0.6466751803508437,0.7658551571994968,0.8228397433713246,0.7647487872127456,0.8210767608576622,0.7219795528890389,0.6578177508765852,0.7197069109870007,0.6961683506980418,0.8055312564502386,0.7669746870711461,0.5235372258107266,0.8523778701422431,0.7756211896707675,0.7703601410878598,0.676875110436711,0.7831900162110467,0.7082223775999547,0.8219925657519523,0.7409615540621309,0.7173939713949189,0.7178597167355182,0.7804074346602644,0.7835619149456398,0.8573906241336094,0.8169560935402223,0.7909933013860542,0.8069755025513936,0.7314077011605736,0.7724660814397146,0.7302934110125333,0.7951082214295835,0.6868563506948148,0.7843079978915712,0.8867912308548959,0.7795163048170533,0.7065825166535693,0.7863802635063482,0.796678788336864,0.7787376019846752,0.7940219451655616,0.7368052812317026,0.9409757687668739,0.6889633049509392,0.7349893083644229,0.8093007287060199,0.9258814470371949,0.7702995147722052,0.7465858333036305,0.5929637393715279,0.7192069834723658,0.7774579361227417,0.6908467643057898,0.6874448545894556,0.7175472233037014,0.7609837061112072,0.7988390339651853,0.675080593209974,0.7448895746396795,0.6913802190510692,0.7842860770373021,0.6161978570621851,0.9250782542608283,0.5452318250565602,0.6900544839025832,0.7321888220056836,0.7874115750737292,0.6310752003932948,0.6123729992621113,0.7565737476778132,0.784017693866734,0.5876574536779825,0.7709715060825066,0.7425264379037796,0.7531737753141183,0.8360393093523252,0.5086426678104728,0.7716083819371399,0.750751387799656,0.6844631762681154,0.7567087178879237,0.6903779421628236,0.849063949966641,0.6420638145660349,0.767968058743643,0.944553844575775,0.5811568240731394,0.9988368560907971,0.7012985045249186,0.8055710966194451,0.7047121594567786,0.7710493896641303,0.8690682905226296,0.684356023073677,0.7823749836455396,0.7635384258365966,0.7191464687074239,0.7855569927383264,0.6723293045149829,0.619422466632688,0.7965187728683565,0.7733612111762235,0.7739475975697122,0.6751064089562263,0.6797297137348596,0.6625802350003829,0.6653710941348008,0.7578557824561715,0.7732644751228048,0.7092471904673585,0.8314136212994693,0.7601931779015462,1.0098464927107609,0.7919698377301843,0.7405694129985257,0.5705413898154045,0.7141994874077764,0.7598771907323836,0.7468064430170411,0.7976679262262202,0.8320801751744392,0.7615525002821785,0.8299815993510747,0.6584066009861337,0.7698252637918409,0.7378414315355095,0.8190622241687151,0.7782732247622515,0.6633105511284534,0.8106377593299394,0.6111725085712439,0.8353621812203419,0.7480831629305555,0.7597165491262341,0.734894232804855,0.7093642081408824,0.8699497899416334,1.1504477854465591,0.6916793519610757,0.7978878496744257,0.7080865642053381,0.8030656844710422,0.7618958867090653,0.773929615053699,0.6966877953021962,0.80717899747688,0.730566561263747,0.7774879742251203,1.0396130556724203,0.819184070012517,0.7909748490731598,0.6034006844174007,0.742178742498929,0.7703872386282786,0.780395654011198,0.8114098433620699,0.7421940242760473,0.7966711274600339,0.7261477889869498,0.8153739315942323,0.7885840591226398,0.743100237701748,0.6302535762736459,0.7184847391122522,0.663505415709658,0.780951400114843,0.8543325005818094,0.7243577988881023,0.8310088390886032,0.784833631819829,0.777043543302503,0.811219981680346,0.6788556321661954,0.7719130237833449,0.8343635061699799,0.724470970683642,0.7416230947048067,0.7370604853842861,0.8745562871425235,0.7337740644405273,0.7686551368419475,0.809773426564069,0.7585583102376751,0.8636158123399911,1.0591556197590402,0.7813214651484406,0.734008124988699,0.7864487517605027,0.7290613791403112,0.5085977954168066,0.7421889722616649,0.7625215110318718,0.8066951461604455,0.8164132830822249,0.7234877782944857,0.7436820044739794,0.8257506920525323,1.0253351294537543,0.7519301115412581,0.7779202604010649,0.6428069417128469,0.7080819951596034,0.6999761702934044,0.7906848207511673,0.8352509152894739,0.7793470088697022,0.8684084710618799,0.9198883793007971,0.5597711811923682,0.7725870034004362,0.831064617350997,0.7466269189754151,0.8155454568734286,0.8049461192097286,0.7980252506336432,0.8785018559966286,0.8501259168492927,0.7973821763838997,0.7457720062003615,0.7399036602311351,0.928753711317018,0.7813457199451985,0.637290799042039,0.716212001653221,0.5713892235231309,0.8478639486337646,0.7079600787558469,0.7954014045124822,0.807936381156131,0.8493727971331714,0.9325798499771021,0.7595892769550594,0.6945486040662029,0.8625560046906029,0.6639990842269943,0.7987850381586196,0.7988620809877679,0.7601466365536129,0.7849235138835429,0.8076891295627512,0.7798837737337269,0.763804119847855,0.7897180059063549,0.7209137381075467,0.7486156638572411,0.6999114471507493,0.8768574601968611,0.753252465222592,0.815090112071534,0.7583680783318391,0.6541920102814673,0.8552625799738466,0.8673856391199977,0.6781045281253628,0.9018401110047486,0.8041686149422692,0.6812545672769251,0.7925484478660927,0.8928486491006933,0.8456324328469608,0.706694190336933,0.7109812763390829,0.7654333623324131,0.7030365898192502,0.7698084737947466,0.7858555322718843,0.6054680354200632,0.6792413971801955,0.6422250014958722,0.7692994768349308,0.6811516372475463,0.8206866385619594,0.7640473539737608,0.7762091649283743,0.7357811540680333,0.6791216345893051,0.7033482283691453,0.7010164474258236,0.8255634937922661,0.7173627107950747,0.6002823365682465,0.6715953546857071,0.8085182433051045,0.757986745066498,0.8574653323957616,0.7474944255215006,0.6518592888588207,0.6399519661851742,0.7062912125998109,0.7474943965182261,0.7306394214314896,0.7810789143924894,0.7551839680420135,0.7639601302327681,0.7996762243329513,0.8534217658970688,0.7090006204467402,0.6859882195857208,0.8183429414419322,0.6578098781456864,0.722189525244001,0.6987848751144586,0.4179436687280919,0.723748578543316,0.9088897383273743,0.7277488715671294,0.7285247975230624,0.8087816350093665,0.6551846739795602,0.7234944307720812,0.7979702920382247,0.7580879637658042,0.7603304998608597,0.8616978901039198,0.9299109585823672,0.7090363575855112,0.7252479854267108,0.6463236335334628,0.7410232859471665,0.6086600444308151,0.48664034823944863,0.762929896872584,0.7495067588583062,0.800299802990663,0.8299405939177175,0.77138671612879,0.8176002369623552,0.5713546805857882,0.7169076076648973,0.6540334537991382,0.7460377907598905,0.8719636619147156,0.6854572691812472,0.7412939271758565,0.7442202368960412,0.7659527360020145,0.7226924171466945,0.6959175133053154,0.821944209956222,0.8516660218960708,0.8645143985834228,0.7819929263277251,0.8177578396381582,0.743829619607844,0.8211611759917457,0.864370352530595,0.7318693811951581,0.79179393125041,0.7561022015105829,0.8383686502541228,0.7121249898885605,0.7560464563991366,0.7237178493272411,0.6175333763227043,0.6697144388414988,0.7337866502749636,0.7548002251227757,0.771066261281377,0.8141506651192618,0.7774696655573514,0.6292697978762746,0.8755422097457892,0.703779071925157,0.7621331830931665,0.7347057463340585,0.7386520928258024,0.7969881332695108,0.8111818942252278,0.7724142698202469,0.7502144530433957,0.7372657298123209,0.80065613470299,0.7723568460983672,0.7418225729296808,0.7261953052267939,0.8267687766673714,0.654174159959417,0.7249177037595402,0.7968696982620419,0.8169195498286868,0.740835060026061,0.743506556731382,0.8121460124915189,0.6456166932885361,0.7533396016583493,0.8907788759696563,0.6948359233766924,0.7781371328442693,0.7930234965470919,0.6354423629053562,0.7497279002524635,0.7161369958838506,0.7897536709612861,0.8302538831969215,0.7988005931566367,0.816336414758367,0.8122516643407418,0.8138046939024335,0.72544380290233,0.7076358151270667,0.8383544301764143,0.8002777588893547,0.6926437175065978,0.7320878863510109,0.7750629751210351,0.7008973292851475,0.7871387347737872,0.7720601960287851,0.7839052480392508,0.8642501767279027,0.7216845585009811,0.7360483395777788,0.7976222404601028,0.765214570226725,0.753448152570388,0.7691480779166493,0.7608693331128082,0.9579145843993281,0.7044316047083753,0.8928953498027336,1.4756527827510093,0.8626124052703503,0.8105261451871809,0.7588683623460353,0.9549212000645763,0.7866810586583695,0.7975520525431737,0.7971547202896002,0.8013367179609245,0.6359753159952424,0.7351772680664818,0.868037720545369,0.812848045373001,0.8790426187820422,0.8073264735251668,0.5503324089987143,0.638318927947601,0.8250235250299083,0.7791509403573713,0.8214975713147051,0.7313533386095997,0.7708691709310068,0.6667343545509249,0.6787188132833427,0.54305581533243,0.9864276047085679,0.8243895136198084,0.7831319884189204,0.7990386575340396,0.8257811938486712,0.7715367327122532,0.7584543878659528,0.8001023305459692,0.829403912541117,1.0224387522637592,0.721314849148164,0.6872440196847408,0.7735403932239371,0.7281848096008291,0.7251658751937283,1.0512912955302807,0.6890331278492312,0.767608908210159,0.7891123760556711,0.7440129835017247,0.7229473028345416,0.7595086394444498,0.587155316498259,0.6736189697968842,0.7837509700136022,0.5882927589609479,0.6627252244022451,0.6730531895419691,0.9981943202957595,0.8368897831620332,0.8001847875138939,0.7945630048181679,0.7685220020937489,0.9225418212194868,0.6028661382205656,0.8046109696289676,0.7199771316577855,0.7388215677934917,0.7727599860185155,0.6516229887855014,0.7961897212878399,0.596872161924444,0.868435253848215,0.7944551098705005,0.9345925179998787,0.88611587776022,0.7203775785721911,0.7468925332860955,0.6759722483729199,0.7819180110453269,0.7192507163882355,0.7776775650736105,0.7898419116730695,0.7570202532242778,0.6453527770466901,0.7818745816626479,0.7877260193948366,1.3339877152594881,0.7348298831544241,0.6814755280660277,0.6946339789437028,1.0485159323187656,0.7643839673333255,0.9013462486987157,0.6900786028944319,0.6370017941927621,0.8850287037975596,0.35033843385481944,0.7447719251351133,0.7050942482022188,0.8922871637979077,0.7817501197113034,0.7820556281131382,0.6852488362502495,0.7884778962000819,0.7606426333672859,0.7248733117459307,0.8983964632130339,0.7809403118689685,0.8175899211673417,0.7136781960523826,0.8246367249171573,0.745257412181203,0.8319012881773984,0.7923825921599148,0.8449411927152275,0.7111142893942266,0.7067512357429198,0.661902880391381,0.7021330004475438,0.7630069741461023,0.689412081945082,0.8867995783547094,0.6640078639052858,0.7983957372731154,0.7206252514446009,0.6503342505981531,0.7567155364003794,0.6785559107663388,0.8146809281942327,0.7740928902193911,0.600811564793679,0.6717316352836208,0.7975321883577713,0.685463161514955,0.7940347423941412,0.6824714256469228,0.6720929463301831,0.6243333433426005,0.7025180146446267,0.7693264539968498,0.6183638404132661,0.9054623099396455,0.7531351611878694,0.8189218170620982,0.8311040280880255,1.0133923378454475,0.6927690459227362,0.6825920858206238,0.581879157427126,0.5195882677481392,0.7482400808889209,0.736322863852556,0.648868715758301,0.6665609819754189,0.7580878581214218,0.7608354237735937,0.8250591832927927,0.7745066268546345,0.8021223918620114,0.7224399390553936,0.8056819451023198,0.7680153193814718,0.9847192399867507,0.8289452447988027,0.8205619600240717,0.7288015170595585,0.6680171815087188,0.7688899445005477,0.7263815719360102,0.6641129239254617,0.7891808058284558,0.7518640574851616,0.5619422028590617,0.8453524447254013,0.7632578360034619,0.7872142632806837,0.6966725487623592,0.7556420557044319,0.8745352233130025,0.7766301198267607,0.7559357931018379,0.7159394868947587,0.456448215726868,0.8051583194834874,0.809510428443509,0.8182672142434576,0.8247142814293603,0.7940785337482698,0.6963030452142512,0.7340965118578857,0.768047641947312,0.796674598100098,0.770733340243288,0.9452366510969328,0.8104315111375965,0.7231858464058945,0.7520360112775591,0.6981283341631557,0.7896909055535777,0.842977128057712,0.723812843736822,0.8109199999466807,0.7219614983299258,0.77638716007756,0.6714411664714662,0.7638667482011712,0.7727866989735488,0.8088818612422869,0.8481711086458038,0.7988692406727739,0.7085246584351109,0.8819385508744505,0.731373679868271,0.7865398528185444,0.5999467190402605,0.8508505166365545,1.1238702710671138,0.7468208808907625,0.6649554456861585,0.6649383688287442,0.7289795219985554,0.7256340406333981,0.7761112686344682,0.7976834996701466,0.7340781222970546,1.0285485426127075,0.7676655348724742,0.8030788719367575,0.8200034271651399,0.8187190778271158,0.7803905930540149,0.7043732937032555,0.8468881954840071,0.8539233328088885,0.907203986995427,0.7636562131141412,0.7248857860301856,0.6898362009978409,0.7491864753201606,0.7034284155302335,0.8171336251949453,0.6483988372527629,0.8102504761879995,0.7225081297230014,0.7591494141839162,0.671480370015214,0.5486285359553439,0.7768246102157115,0.7734944900559956,0.8354503783504025,0.7853560703868657,0.7173031650640385,0.6340808780968606,0.8131309412131609,0.7709717573159445,0.7360643167898793,0.8024921877363952,0.9143111226984105,0.7343244649527239,0.6963807089573193,0.7289787729243102,0.7745829195609536,0.8101643470403033,0.7340037067853493,0.8002168766490634,0.7032335081837032,0.9994290754623472,0.7224309952945387,0.4948767631490015,0.8071840330384337,0.6474216280037922,0.7935571729232184,0.6552982763782086,0.7006286889580855,0.8500721743104902,0.7183653830794455,0.7752477350787667,0.7969545124449859,0.787366039486774,0.7129714926047402,0.8730990466632744,0.7747928156684517,0.7232888626657423,0.8152680109360008,0.5400489680938394,0.7562326218464651,0.7076959810869208,0.8501567305414739,0.7222823931293908,0.6202623519266336,0.6716948524735425,0.768823472772255,0.6629744433545472,0.7522791950101081,0.8581035898688645,0.6483539917314943,0.7679630448374263,0.5315457607502379,0.7174770012665729,0.783362257920224,0.7085198497262424,0.743144256955009,0.719520923030329,0.7008151784572405,0.730226078583282,0.7807293418819186,0.651291940066443,0.7861524857510928,1.121683178571691,0.6858064685616179,0.6757828803863855,0.7910914939244558,0.6728701970240031,0.6801812914383998,0.8468940105758722,0.786846622965835,0.815207738427789,0.752567891588315,0.7848862328662232,0.6854354485463706,0.8059245254405517,0.7281309333965029,0.7428160473474896,0.7242961667765262,0.7410040588389074,0.7667266674062767,0.7653314065895916,0.6448938148001354,0.7975109843582141,0.7103735281955559,0.7081343022434807,0.48289713780507293,0.7100209579940923,0.6734071187718215,0.7974680474110459,0.6656470282978892,0.724736262758475,0.7708712949900597,0.7028767357432056,0.8740948482926016,0.7788351310476308,0.9080431600937081,0.6705842670831172,0.7770592303203137,0.6157660410028684,0.8781335315266536,0.769003610486666,0.8178183259977191,0.6988055252493082,0.7000772987832824,0.5893577494500611,0.7219397246259304,0.665579364257094,0.8441320507967895,0.7700018962691895,0.9061305490035427,0.8105163535602273,0.7981497193784357,0.69424938097976,0.7531007770181575,0.7421454264278545,0.8194201436347139,0.7748849483486473,0.763250675335826,0.9552127322035858,0.9560539115410156,0.7950605267490396,0.73547380217851,0.6888382595476191,0.9178621421270319,0.6803629618462788,0.754541687559284,0.8475904795114779,0.6773530840276771,0.6169603112910655,0.7373233954927209,0.6884397524020273,0.7576503857411926,0.6632723537788618,0.7489508557777046,0.8055922027202423,0.7278596483096582,0.6761782831653529,0.7633981470627967,0.7151940880930017,0.7669007469611965,0.8015701163672311,0.7499353079614711,0.7513485999562761,0.6970638858894759,0.8112929513690492,0.79877820595771,0.6860562161761723,0.6475377379510217,1.0011043947612104,0.7848637542651309,0.7331876479784807,0.74855567378515,0.7996441525126994,0.8012903982258686,0.8477486877422241,0.9067369885255533,0.7299827307431527,0.6190924989517026,0.7689150807775008,0.8403705552969898,0.8250498675488044,0.780534681100439,0.744031701202159,0.863200668632516,0.960386837046276,0.801398628943657,0.806795796923846,0.6817032667492823,0.8274557879445422,0.7942583766835334,0.728426871226652,0.7849309888108447,0.836423642457235,0.736949722598817,0.7781985489009474,0.7953001552238993,0.7722317995533491,0.8080008834957291,0.7591086475764506,0.7448249261505587,0.6938450385520237,0.7678705739143569,0.7335227502481128,0.7720284136343079,0.8504961775656168,0.6749648466671616,0.6627558491445943,0.7474954069018175,0.6954506413997187,0.9782994275171125,0.7541411233901023,0.7152660961671209,0.7821345997084362,0.8301283692347317,0.7287007851737007,0.8230388323149451,0.7977879692373173,0.817669903942219,0.7070103837573897,1.0504798838316654,0.8235496087006007,0.7407727453958045,0.758548330022857,0.724733309934855,0.6982785979592573,0.6986204819749764,0.7239813822516191,0.8081002470462755,0.8777926541165922,0.7904765630187851,0.8559111182066791,0.8157862174892532,1.056079406227133,0.7613880756072414,0.8767580507966598,0.712349037682101,0.7769970359592464,0.7391073685708184,0.7084989546695908,0.7473828706645015,0.425420350030468,0.8239184774561186,0.7900554016141844,0.9533382575068768,0.7558136300195257,0.7267023583513488,0.8685742077960439,0.6835651137196751,0.9574314244365245,0.7105603996277194,0.7639707412246008,0.752440429741792,0.7907239191828708,0.805543495496429,0.83535828618172,0.9310881127281985,0.7113318185482682,0.7929068190662011,0.6867187296983305,0.8028725191212935,0.7911869753956662,0.7006552566699484,0.7732125021482624,0.7944307235854609,0.6986608777982052,0.7202396134063985,0.6651517930933665,0.7192068726193342,0.762779576661221,0.7218685226454866,0.6846162746654072,0.769068354576754,0.6667473514645076,0.7739988832352707,0.7485299197146228,0.7184243308598786,0.7685277253027767,0.724349802622799,0.7543236287999133,0.80977743830499,0.9964025176967506,0.6786277834534717,0.7652686250270578,0.6940266076349828,0.8110136070960019,0.8472249390579968,0.6258430344713518,0.7133826115635927,0.810517086746138,0.7500763963114195,0.7169536161522144,0.7543451392008034,0.7417209947673363,0.70082638484808,0.7305749919735067,0.8478707345861295,0.6622039384046806,0.8021648280521261,0.898323454460327,0.7163822552305629,0.6541159488777888,0.5501533778036266,0.7687330118843786,0.7196255608683843,0.8073247071623953,0.7331130452622249,0.769880512811714,0.760655541713484,0.8117195027417085,0.8292693879027438,0.7161541331739354,0.7386992740616777,0.8280467878801889,0.6513820744596884,0.8130262064277217,0.7425351219988124,0.6100861952697333,0.6619695240184331,0.6749224739913091,0.7861844125682057,0.7167131535008626,0.7771926145372543,0.7111315903400787,0.7670821375420069,0.8194323797906433,0.7824998491064608,0.7162332917654938,0.8270054386635323,0.7817811197089753,0.7677167656680634,0.735708416214412,0.7410731217640444,0.6889603496987223,0.7645864092069621,1.1370136640632045,0.8056799131147959,0.8888844232987705,0.7555960481247648,0.734283681583147,0.8723035500237766,0.6630408550554789,0.8192436057782781,0.9558737959943394,0.8624082826511922,0.5878630821174483,1.0387316213573492,0.5599978485014002,0.7433866172833398,0.6795487287350074,0.7023540595379414,0.7468594950550741,0.7662650604005359,0.8470494587076298,0.7755880747911686,0.7293293780536523,0.7720104170136897,0.75693093078207,0.9269902280391987,0.7215532121042028,0.9817913043582034,0.7559169988928467,0.7490750827104694,0.7689100999831132,0.5842311726952623,0.5681112623661764,0.958802824496206,0.7985053672079956,0.699208704319169,0.694986507584917,1.032321322162793,0.615242974817614,0.7906739696128298,0.6900973323097542,0.9065117142976699,0.6567349545288299,0.6066412022136939,0.7612302934523646,0.7746619968724702,0.7065559871382215,0.7789395994256246,0.6902862294984687,0.7632876455212908,0.8156838394442457,0.7097199878151872,0.766632658850776,0.6981046758534347,0.6387187647577779,0.7022392926647909,0.907691153575118,0.7779968885674068,0.6830133910515955,0.7707449288872449,0.7197676682261223,0.8018308051267858,0.761681834693688,0.9485813716798428,0.714272445926919,0.6010697405544291,0.7439642324784598,0.7457562571703958,0.8200068037100181,0.7205738127162973,0.6270163437509031,0.7572220494853467,0.7086897370369629,0.8068556116798282,0.7761678571049093,0.810437525926048,0.7973912453037052,0.767810357455665,0.7723344805308854,0.7504140438956923,0.7595903869245493,0.6664286738520746,0.8556053896949999,1.0270059332055603,0.7881749036156164,0.7127767692284779,0.6979585505478124,0.7398868165306338,0.5592251163076645,0.729123901517508,0.7821932367568413,0.7276420564472512,0.7595414479763553,0.7681872033142539,0.8963782389213905,0.6671445160139287,0.6329269841074266,0.7617350616573356,0.834665702429291,0.7817527775128397,1.1962888298557461,0.6994179646685554,0.7167046943903377,0.7836225350974652,0.7377179045572652,0.8217175048550485,0.9152640715920604,0.8534850779287085,0.7468508347914817,0.37015926401625426,0.8313089998882972,0.8158684658365966,0.6202170337194113,0.9546886500552684,0.7698690399722946,0.6611330399055297,0.7945820501812064,0.8989295481759111,0.8140603668616109,0.8512562125284683,0.768507206417416,0.9709251546097698,0.829749698899376,0.5981416710007644,0.6540001872357671,0.76694125310302,0.7262882401130326,0.4492779167084103,0.7654550168077385,0.7666999194766045,0.7657065040927531,0.5712235902410049,0.8498524901732283,0.41943610508199874,0.6780952155886495,0.6283304796966801,0.7661900085310278,0.5397244793979286,0.8570865895030417,0.5641105276708289,0.7480269582673954,0.8307668576744734,0.8058423747313341,0.7310092369724317,0.5464133532796817,0.6829558017746067,0.7334238490346356,0.7690400462921628,0.7356728051744571,0.7266358711763589,0.945190062634219,0.8207548920664745,0.7352332634805855,0.7213112954672822,0.7699582803640609,0.8938858556120614,0.7929368253049159,0.6812056010136498,0.5042957059946543,0.6892200344687237,0.7172913982697093,0.6794086794727477,0.7053477758109052,0.739536602861602,0.8500893324870168,0.750567683644155,0.7375006540555054,0.6380536679258634,0.7156646480183347,0.6822051995653602,0.8376924819644483,0.7801805784636453,0.816633422830216,0.770850377865762,0.7148172841001232,0.7613463726206516,0.7265687555581646,0.8577333941900587,0.8970885938646922,0.693561948140476,0.936296602264309,0.7388219327626245,0.6964607485449881,0.782528133231712,0.7875887299054237,0.6957547803822189,0.5845940057354355,0.7434301840076825,0.764755084989197,0.8433815161932331,0.7670669292694049,0.7703065689417028,0.7758258921495322,0.7373555476712503,0.6978454066895413,0.783993631260675,0.6588551507761297,0.7359628756026292,0.7750422679074521,0.8039708754879786,0.7131843348055438,0.7138567756876679,0.7209064280298356,0.8849052934587284,0.7856492847669799,0.7132551725566351,0.8293147555613507,0.6497166926841892,0.9178081797499653,0.7819234099158373,0.6372819296720299,0.7199413711215507,0.6840216970818348,0.7535920550826408,0.8383379977740075,0.753367211351244,0.8164494934260043,0.7298031609463818,0.7901758170205451,0.9297616775154491,0.8023477714971404,0.7283460977004157,0.6808853187766136,0.7931072761097931,0.8672910084274291,0.8625885797704205,0.7270205372798803,0.6831772429188517,0.8784096945267701,0.7378153570651127,0.9119569620392166,0.8144330285334392,0.8106793188894849,0.8213900884674665,0.758070681040251,0.5735029650720569,0.7038268111151826,0.7742440146681181,0.8381353190699624,0.7450692754206696,0.8207376304174099,0.7747171523108165,0.8405598137555115,0.5958373365562922,0.7608875708759698,0.7791429695641291,0.8562650288989253,0.7660709353408852,1.021814673972816,0.8288690925720388,0.8259379963255108,0.781365298813965,0.6456008607611772,0.8032257340504386,0.7798265090127567,0.7658996705857144,0.8030223904556896,0.7766519104587223,0.7257149812515928,0.766979075416655,0.6161192739355048,0.7412918178383149,0.7067663994677561,0.711144528604468,0.6714307241423962,0.7444296705983771,0.8097286432073593,0.49784854778474186,0.4179794973437847,0.7528693143351177,0.6805215158230311,0.7847334893596304,0.8716505066278133,0.5680395654999398,0.7006823978744154,0.8192305265354161,0.7424056850637343,0.6378046337095901,0.7381504420539984,0.8238387758615447,0.8659502540620355,0.7186583411793094,0.8924363500744266,0.6331969142300583,0.7454477271834405,0.7236449294027077,0.6317145969339468,0.6316288954133884,0.6204846819824524,0.7642597619594744,0.6368438175736235,0.7939242517726707,0.6540208928051485,0.7938963155831155,0.7150498967328746,0.8442904418448892,0.8393328164860827,0.7406562049853729,0.7884580512448035,0.7979917145343391,0.7943010844753662,0.7306767940738415,0.4746564916843756,0.774440737950902,0.6437627438113238,0.6939302321724826,0.7593594421234026,0.8839145863199888,0.8330074985047299,0.8273054783647953,0.6335280327022602,0.7390930808728943,0.6339111879358871,0.942920359378741,0.7772170647759771,0.8125268170953537,0.7917709171733183,0.9647424970167429,0.5043425063023914,0.7925074721712169,0.8147535391556415,0.7206676111258048,0.8587952521774719,0.7890537209243816,0.6838303877198217,0.7950394316045635,0.6596361042613984,0.7259383842432882,0.66667731575904,0.7524927922838449,0.6166480311923198,0.8422188909889207,0.827901108868326,0.801823012346121,0.6813028070439193,0.7398682851944757,0.769764228853223,0.4706986884558726,0.7273812123882514,0.7111690283243735,0.7584788609932717,0.7409276457197819,0.7965985691185715,0.7899207532029331,0.766852884176842,0.7687471054602538,0.6575101430345694,0.6868234278342822,0.7679453599610016,0.7153418023337137,0.7292098841969437,0.8709194346250916,0.9245514985782408,0.7844018142271466,0.8005431203150224,0.7501290080535189,0.7270743737569841,0.5455710936361631,0.5264398398517663,0.7099785784846124,0.6450659659365723,0.7596951365306066,0.7381396095127508,0.7894015463082363,0.8371404696821682,0.7007955590847155,0.7308500709300759,0.814308862219722,0.771687824138719,0.8052328913651888,0.700759339249902,0.938990542981574,0.8591282287192227,0.8051104274805969,0.7467468571639971,0.6583477358690435,0.9435037087431962,0.7059903811040544,0.7507202428323999,0.7126959051497104,0.6444200009631479,0.7690047035870193,0.6701910291119633,0.6783314414919902,0.7177196019461715,0.7634608902940081,0.734325934112769,0.7253682083715339,0.6814650360067656,0.7268822786910384,0.7567754652344584,0.7970463101148092,0.7509251523119083,0.7635363098568716,0.8923092791754436,0.8809945815181247,0.7024225775761039,0.7585659112259101,0.7444686443473469,0.7290614004010065,0.8205731759107974,0.761936755672927,0.7252312291766485,0.7644845562752488,0.6392886252004158,0.8068110861188419,0.7652211351870555,0.6834604989522148,0.8653703375450371,0.7855175943443402,0.7047505510007916,0.8707746590713513,0.852323877866013,0.6960752167793435,0.7815847955708416,0.7773831688448031,0.839279436771329,0.7463968974102149,0.6139078717340201,0.6903943382978315,0.8272992816065199,0.7796188002819925,0.7390014821548754,0.7210687132746436,0.7446139913184523,0.7301055431469023,0.6684034878329311,0.8283620215475057,0.7000398767398982,0.8186248283430351,0.74524587424719,0.7342361189537849,0.7456570928762729,0.7945430875773416,0.8584502424124397,0.7471396418157572,0.7346665120830528,0.7671817577821428,0.8006838951106743,0.7655219438402193,0.7237699967539154,0.8333164582906829,0.722806558503769,0.8280361769770346,0.753042088030276,0.7081269126992478,0.9155708902958407,0.8040386380776725,0.845420253756023,0.9159640902055266,0.5820718795812776,0.7270915497576041,0.7465460405574798,0.5217749994842208,0.8565622636315017,0.7645736369129956,0.7013894289111575,0.7724482495554607,0.8390081272657898,0.2990809704221431,0.7325256964388939,0.8241034753994382,0.7549293869944957,0.974774023079464,0.8280888482317542,0.8274971209509385,0.6881699391711751,0.555067992971226,0.8365803425735995,0.7874372056063337,0.7022041056892651,0.755084577438829,0.9103783517424319,0.6479086748032247,0.6769409806580384,0.8263778916358552,0.799803687806307,0.8291288395897488,0.9696003047815989,0.6929298580415341,0.5194442751051729,0.8290506510857741,0.8746684046572556,0.7754585786076446,0.7597956867620617,0.8161907530710832,0.7003703567354824,0.7561456173911159,0.8257888185232597,0.7978612670220773,0.6186928935866947,0.6918864225645084,0.7616504786718241,1.0749669166184264,0.7712123489248057,0.6976543327358327,0.7540296198118864,0.6969664389201579,0.7099697852373313,0.6019761991894887,0.8152281212432365,0.8437938617243141,0.8828083074304548,0.8502456507333379,0.7055462626142668,0.8081248881654854,0.7423985250198075,0.8534396112136293,0.648371503367174,0.6987306635249706,0.7291482529317587,0.8812646253440702,0.8650455707525092,0.8224277960967508,0.7491364853980755,0.8356051319224997,0.6375339740060415,0.6931079795675885,0.7192518762454964,0.6957618894044407,0.8079320055281215,0.6987359061069939,0.6521570391681416,0.8656791395357726,0.8892086865810074,0.6636863684953923,0.7049780133839728,0.8083874303666453,0.48728681775288774,0.8755002612914006,0.7114855339633205,0.63658063292032,0.6665806306995464,0.8242114033435665,0.4464616056842237,0.6512445027561694,0.7159402893257806,0.6894563189468714,0.754485321538975,0.8109587256605619,0.7830187404631159,0.7199670073783385,0.7151928057460679,0.6840198802900342,0.718997626446449,0.8572153214820847,0.8024323813703459,0.7615010830742169,0.8046243663650521,0.6444222744507123,0.7951470987815427,0.7159944730791282,0.7106426790888339,0.7210052884961305,0.9876686595917045,0.75994248810633,0.7507683500990553,0.603741808733279,0.7477796802661779,0.7928032034843682,0.7110887576045926,0.8669517550852944,0.7588713820374408,0.7691842311941094,0.6708604440316766,0.7407722021232075,0.7994005416180748,0.7857911164902515,0.7236449529983663,0.7752370418475631,0.7195053251130914,0.8019497279100217,0.6484527681042165,0.7807062087819044,0.7034971387575368,0.7882037099985852,0.8041127909371995,0.7067120643091457,0.8314312345966487,0.70673898514837,0.7467556179473599,0.7645168889722874,0.7451654993752695,0.5376819062099075,0.7077947064480855,0.733180146186284,0.6295015062379477,0.8912155985540361,0.697746800299252,0.8456818102847233,0.7598004392286041,0.7435837224026525,0.7134927075472379,0.7719006998006058,0.7259033216966214,0.7585502136818943,0.7462965353770296,0.7031904694687381,0.7533986502044703,0.8065109952898819,0.7940811347799228,0.7395241679126133,0.6401956696972847,0.6986822239339594,0.5583269343613553,0.565401661203344,0.7936287328736054,0.8940003814777723,0.7724826229377794,0.6493532188566438,0.8033727503331815,0.684840914330356,0.6853235726768057,0.6613812402424877,0.7500142615588383,0.6354899195263126,0.8427974879963436,0.7403429560992784,0.7759060303894042,0.7798669126511341,0.8322372378579865,0.7529323119493445,0.6931614310513213,1.103035400527729,0.7140750162763623,0.8053352470742233,0.7741260271046151,0.777280917070214,0.6970136440614363,0.6766515613382118,0.7771905585224063,0.7474965056184097,0.9741589219717839,0.6935742487226866,0.7942369804553101,0.7904566186374907,0.7587346436646694,0.6875402886028819,0.7009086022845976,0.8767745800640033,0.6261459417052301,0.8048967794688467,0.7495265891737136,0.7364290264441848,0.6616935678578082,0.7563803648923375,0.8263975342203158,0.6605984539406071,0.717179466253472,0.728580621827668,0.7056786391960566,0.8209412646872183,0.7825573409011939,0.7135816841321596,0.7048138958074321,0.7948737376807301,0.7909545201759269,0.7882206255108224,0.7769196888192258,0.6232804403514477,0.8392208033248986,0.6496008714894258,0.782628042763083,0.8478976264434269,0.9018171450987056,0.7488705338730142,0.7722808460856979,0.7026688150685707,0.7596867120000874,0.8604520798420441,0.7573762972587013,0.7600487640537634,0.8475810374848993,0.7159616844389943,0.7802352595959698,0.7986475552236235,0.6007702903110518,0.7623526931080935,1.012058850013558,0.752032760398271,0.8042213040551179,0.7828584530023615,0.7354879332095998,0.8187916380847855,0.7321536795770646,0.8885774646935944,0.7359708454193599,0.82967703321944,0.7074490323688292,0.7127478698557198,0.7191848309283769,0.7851872986626502,0.5325473436374146,1.0357173007026532,0.876131932484461,0.48890732922899666,0.8380698869336353,0.7301840587390327,0.8556960996796416,0.6274041859509526,0.773247446662289,0.6972173802769942,0.7478454139870502,0.7276518159957711,0.8434247643583446,0.8356340828951081,0.7712484017823905,0.7188480432552539,0.6635220940996847,0.7903997398345822,0.7202841213752994,0.8292904508905066,0.7072965929509243,0.8199390969145076,0.7013504537332951,0.5356919604390595,0.7271694212580643,0.7548412945152083,0.6910265223475952,0.8762083424631031,0.7679196916529889,0.6855116341264952,0.7445857952885162,0.7914901161735503,0.7436112531779112,0.6859019704495851,0.5766417953551592,0.8172357387187612,0.7477789984413504,0.7782746714117426,0.764170746430024,0.6351538343583821,0.678933340897277,0.7884864937558357,0.7667466818911078,0.7533880087120624,0.782520694748933,0.7373028839721855,0.7096148318482195,0.9581122743215572,0.8533425152699659,0.7538168251864531,0.7397754001801478,0.7483760881863922,0.9043344986800647,0.5972628806542544,0.7670407191276464,0.7955993947200706,0.6757473040877993,0.6276225890982894,0.644205868170853,0.7708818133533977,0.6787251405188177,0.7287206645082208,0.8618855881768173,0.7783785842256333,0.6373966027504401,0.5325947609867312,0.8929895090238887,0.7730902996080449,0.8666872974928334,0.7338587793462535,0.7475199834492331,0.7215690549287217,0.7096794144295213,0.9369866060457606,0.7272267981650317,0.8273498869167131,0.7417198206016606,0.8403488309849868,0.7846094731096417,1.1110838867872541,0.7373839331005431,0.7624428282752151,0.7201550605634209,0.64410308956867,0.7627905038477106,0.6928346392865398,0.7368324420066718,0.8109114687599069,0.6866305941131785,0.7041993263212708,0.8191506484265918,0.7844629838746141,0.8125270179848395,0.8653812040452545,0.7721981177918383,0.6828963359516923,0.7457683819626169,0.7857259818900335,0.8307615488738278,0.626330458201022,0.6079947410907888,0.7343598475556112,0.7508568217110378,0.7181404538459774,0.8052821879987125,0.7633207504635929,0.9298824993622788,0.8243072860151773,0.7514195500598216,0.7241785637534315,0.7686986581291405,0.49395857095308404,0.7600204950471844,0.8327667754270711,0.816268577650463,0.7065058520753424,0.7395438499234375,0.7588501816093375,0.7057830370984592,0.7966287923075807,0.8099289385385707,0.7003706324343152,0.8673628038124108,0.7967146327369271,0.6156624758554581,0.605804330072999,0.6423051888150896,0.8212388825721978,0.5302886348102424,0.6650258793759308,0.8133034869257454,0.7339584987257392,0.8350997635113344,0.6598596450672745,0.7502965496263873,0.8759281105607557,0.7049351383826306,0.6663717751307586,0.8593487456621279,0.6911969837320273,0.788197867069821,0.7803062797034036,0.6156243604776979,0.8866277982530627,0.9000732746984432,0.6978884300541166,0.7663055262624199,0.6991372060391022,0.8232343033347014,0.7808634900988957,0.8352413563600932,0.7906320297614762,0.7646657381259118,0.8118604332498279,0.6629986034213582,0.825556755501004,0.5992302067057688,0.6189240138545381,0.8243275663423304,0.6672591468457427,0.7393674133294467,0.6628865621034266,0.7164607093014821,0.5987236986938319,0.7204395894362097,0.7639763600257147,0.7842152966795123,0.691715647907632,0.7725712414237197,0.7213424856982323,0.8321211257786102,0.7826738332840876,0.7030980406985929,0.7059197266748174,0.6346652732597897,0.6977066878992476,0.7808237352986109,0.7156367952946652,0.8769066140658375,0.7853227998502517,0.7596024580283809,0.7931958434634994,0.7498283062912529,0.755074806122955,0.6743425099972978,0.7380642477540355,0.7479231925569592,0.9451387220469657,0.8116557439498714,0.6869592477754911,0.7608250182524249,0.7510815227871876,0.7282486733846666,0.8276196327599734,0.8061190370967874,0.8604469036912974,0.7889462739709824,0.8670144392688739,0.7300379743989293,0.6712392233780917,0.7777722756183822,0.6102959522830647,0.6370314789547081,0.7793357575617044,0.6890626376076467,0.7287285601117968,0.7607002202161113,0.7050163190238111,0.7037576735168878,0.7268671346115998,0.8143852155665535,0.7774477749760091,0.8364140374606925,0.5679804011683149,0.7956628069492085,0.7677250341977495,0.6133670214882253,0.8461070924156247,0.7653255035592496],\"y\":{\"__ndarray__\":\"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\",\"dtype\":\"int32\",\"shape\":[5000]}},\"selected\":{\"id\":\"2236\",\"type\":\"Selection\"},\"selection_policy\":{\"id\":\"2235\",\"type\":\"UnionRenderers\"}},\"id\":\"2211\",\"type\":\"ColumnDataSource\"},{\"attributes\":{},\"id\":\"2236\",\"type\":\"Selection\"},{\"attributes\":{\"fill_color\":{\"value\":\"darkred\"},\"line_color\":{\"value\":\"white\"},\"size\":{\"units\":\"screen\",\"value\":10},\"x\":{\"field\":\"x\"},\"y\":{\"field\":\"y\"}},\"id\":\"2273\",\"type\":\"Scatter\"},{\"attributes\":{\"fill_alpha\":{\"value\":0.1},\"fill_color\":{\"value\":\"#1f77b4\"},\"line_alpha\":{\"value\":0.1},\"line_color\":{\"value\":\"#1f77b4\"},\"size\":{\"units\":\"screen\",\"value\":8},\"x\":{\"field\":\"x\"},\"y\":{\"field\":\"y\"}},\"id\":\"2256\",\"type\":\"Scatter\"},{\"attributes\":{\"callback\":null,\"data\":{\"x\":[0.5604398598973588],\"y\":[10]},\"selected\":{\"id\":\"2391\",\"type\":\"Selection\"},\"selection_policy\":{\"id\":\"2390\",\"type\":\"UnionRenderers\"}},\"id\":\"2272\",\"type\":\"ColumnDataSource\"},{\"attributes\":{\"high\":250,\"low\":10,\"palette\":[\"#00204C\",\"#00204E\",\"#002150\",\"#002251\",\"#002353\",\"#002355\",\"#002456\",\"#002558\",\"#00265A\",\"#00265B\",\"#00275D\",\"#00285F\",\"#002861\",\"#002963\",\"#002A64\",\"#002A66\",\"#002B68\",\"#002C6A\",\"#002D6C\",\"#002D6D\",\"#002E6E\",\"#002E6F\",\"#002F6F\",\"#002F6F\",\"#00306F\",\"#00316F\",\"#00316F\",\"#00326E\",\"#00336E\",\"#00346E\",\"#00346E\",\"#01356E\",\"#06366E\",\"#0A376D\",\"#0E376D\",\"#12386D\",\"#15396D\",\"#17396D\",\"#1A3A6C\",\"#1C3B6C\",\"#1E3C6C\",\"#203C6C\",\"#223D6C\",\"#243E6C\",\"#263E6C\",\"#273F6C\",\"#29406B\",\"#2B416B\",\"#2C416B\",\"#2E426B\",\"#2F436B\",\"#31446B\",\"#32446B\",\"#33456B\",\"#35466B\",\"#36466B\",\"#37476B\",\"#38486B\",\"#3A496B\",\"#3B496B\",\"#3C4A6B\",\"#3D4B6B\",\"#3E4B6B\",\"#404C6B\",\"#414D6B\",\"#424E6B\",\"#434E6B\",\"#444F6B\",\"#45506B\",\"#46506B\",\"#47516B\",\"#48526B\",\"#49536B\",\"#4A536B\",\"#4B546B\",\"#4C556B\",\"#4D556B\",\"#4E566B\",\"#4F576C\",\"#50586C\",\"#51586C\",\"#52596C\",\"#535A6C\",\"#545A6C\",\"#555B6C\",\"#565C6C\",\"#575D6D\",\"#585D6D\",\"#595E6D\",\"#5A5F6D\",\"#5B5F6D\",\"#5C606D\",\"#5D616E\",\"#5E626E\",\"#5F626E\",\"#5F636E\",\"#60646E\",\"#61656F\",\"#62656F\",\"#63666F\",\"#64676F\",\"#65676F\",\"#666870\",\"#676970\",\"#686A70\",\"#686A70\",\"#696B71\",\"#6A6C71\",\"#6B6D71\",\"#6C6D72\",\"#6D6E72\",\"#6E6F72\",\"#6F6F72\",\"#6F7073\",\"#707173\",\"#717273\",\"#727274\",\"#737374\",\"#747475\",\"#757575\",\"#757575\",\"#767676\",\"#777776\",\"#787876\",\"#797877\",\"#7A7977\",\"#7B7A77\",\"#7B7B78\",\"#7C7B78\",\"#7D7C78\",\"#7E7D78\",\"#7F7E78\",\"#807E78\",\"#817F78\",\"#828078\",\"#838178\",\"#848178\",\"#858278\",\"#868378\",\"#878478\",\"#888578\",\"#898578\",\"#8A8678\",\"#8B8778\",\"#8C8878\",\"#8D8878\",\"#8E8978\",\"#8F8A78\",\"#908B78\",\"#918C78\",\"#928C78\",\"#938D78\",\"#948E78\",\"#958F78\",\"#968F77\",\"#979077\",\"#989177\",\"#999277\",\"#9A9377\",\"#9B9377\",\"#9C9477\",\"#9D9577\",\"#9E9676\",\"#9F9776\",\"#A09876\",\"#A19876\",\"#A29976\",\"#A39A75\",\"#A49B75\",\"#A59C75\",\"#A69C75\",\"#A79D75\",\"#A89E74\",\"#A99F74\",\"#AAA074\",\"#ABA174\",\"#ACA173\",\"#ADA273\",\"#AEA373\",\"#AFA473\",\"#B0A572\",\"#B1A672\",\"#B2A672\",\"#B4A771\",\"#B5A871\",\"#B6A971\",\"#B7AA70\",\"#B8AB70\",\"#B9AB70\",\"#BAAC6F\",\"#BBAD6F\",\"#BCAE6E\",\"#BDAF6E\",\"#BEB06E\",\"#BFB16D\",\"#C0B16D\",\"#C1B26C\",\"#C2B36C\",\"#C3B46C\",\"#C5B56B\",\"#C6B66B\",\"#C7B76A\",\"#C8B86A\",\"#C9B869\",\"#CAB969\",\"#CBBA68\",\"#CCBB68\",\"#CDBC67\",\"#CEBD67\",\"#D0BE66\",\"#D1BF66\",\"#D2C065\",\"#D3C065\",\"#D4C164\",\"#D5C263\",\"#D6C363\",\"#D7C462\",\"#D8C561\",\"#D9C661\",\"#DBC760\",\"#DCC860\",\"#DDC95F\",\"#DECA5E\",\"#DFCB5D\",\"#E0CB5D\",\"#E1CC5C\",\"#E3CD5B\",\"#E4CE5B\",\"#E5CF5A\",\"#E6D059\",\"#E7D158\",\"#E8D257\",\"#E9D356\",\"#EBD456\",\"#ECD555\",\"#EDD654\",\"#EED753\",\"#EFD852\",\"#F0D951\",\"#F1DA50\",\"#F3DB4F\",\"#F4DC4E\",\"#F5DD4D\",\"#F6DE4C\",\"#F7DF4B\",\"#F9E049\",\"#FAE048\",\"#FBE147\",\"#FCE246\",\"#FDE345\",\"#FFE443\",\"#FFE542\",\"#FFE642\",\"#FFE743\",\"#FFE844\",\"#FFE945\"]},\"id\":\"2190\",\"type\":\"LinearColorMapper\"},{\"attributes\":{\"active_drag\":\"auto\",\"active_inspect\":\"auto\",\"active_multi\":null,\"active_scroll\":\"auto\",\"active_tap\":\"auto\"},\"id\":\"2210\",\"type\":\"Toolbar\"},{\"attributes\":{\"fill_color\":{\"field\":\"y\",\"transform\":{\"id\":\"2190\",\"type\":\"LinearColorMapper\"}},\"line_color\":{\"value\":null},\"x\":{\"field\":\"x\"},\"y\":{\"field\":\"y\"}},\"id\":\"2212\",\"type\":\"Scatter\"},{\"attributes\":{\"label\":{\"value\":\"Draw 1000\"},\"renderers\":[{\"id\":\"2227\",\"type\":\"GlyphRenderer\"}]},\"id\":\"2237\",\"type\":\"LegendItem\"}],\"root_ids\":[\"2191\"]},\"title\":\"Bokeh Application\",\"version\":\"1.4.0\"}};\n",
       "  var render_items = [{\"docid\":\"3d1c87d2-fa88-4e5f-aef4-1457e5c7bd30\",\"roots\":{\"2191\":\"90b985e0-b5b6-4acf-8bd9-e2d944c41f9c\"}}];\n",
       "  root.Bokeh.embed.embed_items_notebook(docs_json, render_items);\n",
       "\n",
       "  }\n",
       "  if (root.Bokeh !== undefined) {\n",
       "    embed_document(root);\n",
       "  } else {\n",
       "    var attempts = 0;\n",
       "    var timer = setInterval(function(root) {\n",
       "      if (root.Bokeh !== undefined) {\n",
       "        clearInterval(timer);\n",
       "        embed_document(root);\n",
       "      } else {\n",
       "        attempts++;\n",
       "        if (attempts > 100) {\n",
       "          clearInterval(timer);\n",
       "          console.log(\"Bokeh: ERROR: Unable to run BokehJS code because BokehJS library is missing\");\n",
       "        }\n",
       "      }\n",
       "    }, 10, root)\n",
       "  }\n",
       "})(window);"
      ],
      "application/vnd.bokehjs_exec.v0+json": ""
     },
     "metadata": {
      "application/vnd.bokehjs_exec.v0+json": {
       "id": "2191"
      }
     },
     "output_type": "display_data"
    }
   ],
   "source": [
    "show(resample)"
   ]
  },
  {
   "cell_type": "markdown",
   "metadata": {
    "slideshow": {
     "slide_type": "slide"
    }
   },
   "source": [
    "### 2.4 Visualizing distributions"
   ]
  },
  {
   "cell_type": "markdown",
   "metadata": {
    "slideshow": {
     "slide_type": "fragment"
    }
   },
   "source": [
    "Knowing about the first two moments of a distribution is nice, but does not tell everything about a distribution. We can visualize how the observation values are distributed using a **histogram**. For this, we group the values into classes and count the number of occurences in each class. This process is called **binning**. There are tons of publications about binning."
   ]
  },
  {
   "cell_type": "code",
   "execution_count": 41,
   "metadata": {
    "slideshow": {
     "slide_type": "skip"
    }
   },
   "outputs": [],
   "source": [
    "count, edges = np.histogram(data, bins=50)\n",
    "\n",
    "histogram = figure(tools=[], toolbar_location=\"above\")\n",
    "histogram.quad(top=count, bottom=0, left=edges[:-1], right=edges[1:], fill_color=\"navy\", line_color=\"white\", alpha=.5)\n",
    "histogram.y_range.start = 0\n",
    "\n",
    "hover = HoverTool(tooltips=[('Value range:', '@left to @right'), ('Count', '@top')])\n",
    "histogram.add_tools(hover)"
   ]
  },
  {
   "cell_type": "code",
   "execution_count": 42,
   "metadata": {
    "slideshow": {
     "slide_type": "subslide"
    }
   },
   "outputs": [
    {
     "data": {
      "text/html": [
       "\n",
       "\n",
       "\n",
       "\n",
       "\n",
       "\n",
       "  <div class=\"bk-root\" id=\"495567db-3667-4e7b-914b-7abe51d90d80\" data-root-id=\"3061\"></div>\n"
      ]
     },
     "metadata": {},
     "output_type": "display_data"
    },
    {
     "data": {
      "application/javascript": [
       "(function(root) {\n",
       "  function embed_document(root) {\n",
       "    \n",
       "  var docs_json = {\"d9034bb0-c68b-4c02-8c56-38639f0e55cd\":{\"roots\":{\"references\":[{\"attributes\":{\"below\":[{\"id\":\"3070\",\"type\":\"LinearAxis\"}],\"center\":[{\"id\":\"3074\",\"type\":\"Grid\"},{\"id\":\"3079\",\"type\":\"Grid\"}],\"left\":[{\"id\":\"3075\",\"type\":\"LinearAxis\"}],\"renderers\":[{\"id\":\"3084\",\"type\":\"GlyphRenderer\"}],\"title\":{\"id\":\"3212\",\"type\":\"Title\"},\"toolbar\":{\"id\":\"3080\",\"type\":\"Toolbar\"},\"toolbar_location\":\"above\",\"x_range\":{\"id\":\"3062\",\"type\":\"DataRange1d\"},\"x_scale\":{\"id\":\"3066\",\"type\":\"LinearScale\"},\"y_range\":{\"id\":\"3064\",\"type\":\"DataRange1d\"},\"y_scale\":{\"id\":\"3068\",\"type\":\"LinearScale\"}},\"id\":\"3061\",\"subtype\":\"Figure\",\"type\":\"Plot\"},{\"attributes\":{\"formatter\":{\"id\":\"3216\",\"type\":\"BasicTickFormatter\"},\"ticker\":{\"id\":\"3071\",\"type\":\"BasicTicker\"}},\"id\":\"3070\",\"type\":\"LinearAxis\"},{\"attributes\":{},\"id\":\"3068\",\"type\":\"LinearScale\"},{\"attributes\":{\"bottom\":{\"value\":0},\"fill_alpha\":{\"value\":0.5},\"fill_color\":{\"value\":\"navy\"},\"left\":{\"field\":\"left\"},\"line_alpha\":{\"value\":0.5},\"line_color\":{\"value\":\"white\"},\"right\":{\"field\":\"right\"},\"top\":{\"field\":\"top\"}},\"id\":\"3082\",\"type\":\"Quad\"},{\"attributes\":{\"text\":\"\"},\"id\":\"3212\",\"type\":\"Title\"},{\"attributes\":{},\"id\":\"3219\",\"type\":\"Selection\"},{\"attributes\":{\"data_source\":{\"id\":\"3081\",\"type\":\"ColumnDataSource\"},\"glyph\":{\"id\":\"3082\",\"type\":\"Quad\"},\"hover_glyph\":null,\"muted_glyph\":null,\"nonselection_glyph\":{\"id\":\"3083\",\"type\":\"Quad\"},\"selection_glyph\":null,\"view\":{\"id\":\"3085\",\"type\":\"CDSView\"}},\"id\":\"3084\",\"type\":\"GlyphRenderer\"},{\"attributes\":{\"dimension\":1,\"ticker\":{\"id\":\"3076\",\"type\":\"BasicTicker\"}},\"id\":\"3079\",\"type\":\"Grid\"},{\"attributes\":{\"callback\":null,\"start\":0},\"id\":\"3064\",\"type\":\"DataRange1d\"},{\"attributes\":{\"callback\":null},\"id\":\"3062\",\"type\":\"DataRange1d\"},{\"attributes\":{\"active_drag\":\"auto\",\"active_inspect\":\"auto\",\"active_multi\":null,\"active_scroll\":\"auto\",\"active_tap\":\"auto\",\"tools\":[{\"id\":\"3086\",\"type\":\"HoverTool\"}]},\"id\":\"3080\",\"type\":\"Toolbar\"},{\"attributes\":{},\"id\":\"3216\",\"type\":\"BasicTickFormatter\"},{\"attributes\":{\"callback\":null,\"tooltips\":[[\"Value range:\",\"@left to @right\"],[\"Count\",\"@top\"]]},\"id\":\"3086\",\"type\":\"HoverTool\"},{\"attributes\":{\"ticker\":{\"id\":\"3071\",\"type\":\"BasicTicker\"}},\"id\":\"3074\",\"type\":\"Grid\"},{\"attributes\":{\"callback\":null,\"data\":{\"left\":{\"__ndarray__\":\"XWzwbhtm9L/CgKLhmBnzvyeVVFQWzfG/jKkGx5OA8L/ke3FzImjuv66k1Vgdz+u/eM05Phg26b9D9p0jE53mvw0fAgkOBOS/10dm7ghr4b9E4ZSnB6Tdv9gyXXL9cdi/bIQlPfM/078ArNsP0hvMvzBPbKW9t8G/YMnz66ROrb8AVJN7WYOYP7COwzP/6Lo/MCRRBJTYxz+AQGA3VB7RP+zul2xeUNY/WJ3PoWiC2z/ipYNrOVrgPxh9H4Y+8+I/TlS7oEOM5T+CK1e7SCXoP7oC89VNvuo/7tmO8FJX7T8isSoLWPDvPy1E45KuRPE/xy8xIDGR8j9jG3+ts93zP/0GzTo2KvU/l/IayLh29j8z3mhVO8P3P83JtuK9D/k/abUEcEBc+j8DoVL9wqj7P52MoIpF9fw/OXjuF8hB/j/TYzylSo7/P7gnRZlmbQBAhB3s36cTAUBSE5Mm6bkBQCAJOm0qYAJA7P7gs2sGA0C69If6rKwDQIjqLkHuUgRAVuDVhy/5BEAi1nzOcJ8FQA==\",\"dtype\":\"float64\",\"shape\":[50]},\"right\":{\"__ndarray__\":\"woCi4ZgZ878nlVRUFs3xv4ypBseTgPC/5HtxcyJo7r+upNVYHc/rv3jNOT4YNum/Q/adIxOd5r8NHwIJDgTkv9dHZu4Ia+G/ROGUpwek3b/YMl1y/XHYv2yEJT3zP9O/AKzbD9IbzL8wT2ylvbfBv2DJ8+ukTq2/AFSTe1mDmD+wjsMz/+i6PzAkUQSU2Mc/gEBgN1Qe0T/s7pdsXlDWP1idz6Fogts/4qWDazla4D8YfR+GPvPiP05Uu6BDjOU/gitXu0gl6D+6AvPVTb7qP+7ZjvBSV+0/IrEqC1jw7z8tROOSrkTxP8cvMSAxkfI/Yxt/rbPd8z/9Bs06Nir1P5fyGsi4dvY/M95oVTvD9z/NybbivQ/5P2m1BHBAXPo/A6FS/cKo+z+djKCKRfX8Pzl47hfIQf4/02M8pUqO/z+4J0WZZm0AQIQd7N+nEwFAUhOTJum5AUAgCTptKmACQOz+4LNrBgNAuvSH+qysA0CI6i5B7lIEQFbg1Ycv+QRAItZ8znCfBUDwyyMVskUGQA==\",\"dtype\":\"float64\",\"shape\":[50]},\"top\":[1,0,1,1,0,2,5,2,4,14,22,14,13,20,10,15,16,18,10,12,17,17,10,10,23,16,13,17,13,22,18,8,16,12,7,11,8,13,7,10,4,3,12,4,9,2,10,2,1,5]},\"selected\":{\"id\":\"3219\",\"type\":\"Selection\"},\"selection_policy\":{\"id\":\"3218\",\"type\":\"UnionRenderers\"}},\"id\":\"3081\",\"type\":\"ColumnDataSource\"},{\"attributes\":{},\"id\":\"3218\",\"type\":\"UnionRenderers\"},{\"attributes\":{\"source\":{\"id\":\"3081\",\"type\":\"ColumnDataSource\"}},\"id\":\"3085\",\"type\":\"CDSView\"},{\"attributes\":{},\"id\":\"3066\",\"type\":\"LinearScale\"},{\"attributes\":{},\"id\":\"3076\",\"type\":\"BasicTicker\"},{\"attributes\":{},\"id\":\"3214\",\"type\":\"BasicTickFormatter\"},{\"attributes\":{},\"id\":\"3071\",\"type\":\"BasicTicker\"},{\"attributes\":{\"formatter\":{\"id\":\"3214\",\"type\":\"BasicTickFormatter\"},\"ticker\":{\"id\":\"3076\",\"type\":\"BasicTicker\"}},\"id\":\"3075\",\"type\":\"LinearAxis\"},{\"attributes\":{\"bottom\":{\"value\":0},\"fill_alpha\":{\"value\":0.1},\"fill_color\":{\"value\":\"#1f77b4\"},\"left\":{\"field\":\"left\"},\"line_alpha\":{\"value\":0.1},\"line_color\":{\"value\":\"#1f77b4\"},\"right\":{\"field\":\"right\"},\"top\":{\"field\":\"top\"}},\"id\":\"3083\",\"type\":\"Quad\"}],\"root_ids\":[\"3061\"]},\"title\":\"Bokeh Application\",\"version\":\"1.4.0\"}};\n",
       "  var render_items = [{\"docid\":\"d9034bb0-c68b-4c02-8c56-38639f0e55cd\",\"roots\":{\"3061\":\"495567db-3667-4e7b-914b-7abe51d90d80\"}}];\n",
       "  root.Bokeh.embed.embed_items_notebook(docs_json, render_items);\n",
       "\n",
       "  }\n",
       "  if (root.Bokeh !== undefined) {\n",
       "    embed_document(root);\n",
       "  } else {\n",
       "    var attempts = 0;\n",
       "    var timer = setInterval(function(root) {\n",
       "      if (root.Bokeh !== undefined) {\n",
       "        clearInterval(timer);\n",
       "        embed_document(root);\n",
       "      } else {\n",
       "        attempts++;\n",
       "        if (attempts > 100) {\n",
       "          clearInterval(timer);\n",
       "          console.log(\"Bokeh: ERROR: Unable to run BokehJS code because BokehJS library is missing\");\n",
       "        }\n",
       "      }\n",
       "    }, 10, root)\n",
       "  }\n",
       "})(window);"
      ],
      "application/vnd.bokehjs_exec.v0+json": ""
     },
     "metadata": {
      "application/vnd.bokehjs_exec.v0+json": {
       "id": "3061"
      }
     },
     "output_type": "display_data"
    }
   ],
   "source": [
    "show(histogram)"
   ]
  },
  {
   "cell_type": "markdown",
   "metadata": {
    "slideshow": {
     "slide_type": "fragment"
    }
   },
   "source": [
    "A histogram is nevertheless a visualization of the **sample**, not the population."
   ]
  },
  {
   "cell_type": "markdown",
   "metadata": {
    "slideshow": {
     "slide_type": "subslide"
    }
   },
   "source": [
    "#### Sample Size"
   ]
  },
  {
   "cell_type": "markdown",
   "metadata": {
    "slideshow": {
     "slide_type": "fragment"
    }
   },
   "source": [
    "Like for the first and second statistical moment, the histogram is also majorly influenced by the sample size."
   ]
  },
  {
   "cell_type": "code",
   "execution_count": 15,
   "metadata": {
    "slideshow": {
     "slide_type": "skip"
    }
   },
   "outputs": [],
   "source": [
    "np.random.seed(42)\n",
    "random_index = np.random.choice(range(len(data)), replace=False, size=len(data))\n",
    "\n",
    "hist = figure(tools=[], toolbar_location=\"above\", width=450, height=450)\n",
    "\n",
    "for n, color in zip((30,50,100,150,200), ('navy', 'purple', 'orange', 'red', 'darkred')):\n",
    "    d = data[random_index[:n]]\n",
    "    c, e = np.histogram(d, bins=25, density=True)\n",
    "        \n",
    "    r = hist.quad(top=c, bottom=0, left=e[:-1], right=e[1:], fill_color=color, line_color=\"white\",\n",
    "             legend_label='N=%d' % n, alpha=.5)\n",
    "    if n != 30:\n",
    "        r.visible = False\n",
    "\n",
    "hist.legend.location = 'top_right'\n",
    "hist.legend.click_policy = 'hide'"
   ]
  },
  {
   "cell_type": "code",
   "execution_count": 16,
   "metadata": {
    "slideshow": {
     "slide_type": "fragment"
    }
   },
   "outputs": [
    {
     "data": {
      "text/html": [
       "\n",
       "\n",
       "\n",
       "\n",
       "\n",
       "\n",
       "  <div class=\"bk-root\" id=\"10d8b75b-a8e5-4256-b3bb-87dad8b9854e\" data-root-id=\"1315\"></div>\n"
      ]
     },
     "metadata": {},
     "output_type": "display_data"
    },
    {
     "data": {
      "application/javascript": [
       "(function(root) {\n",
       "  function embed_document(root) {\n",
       "    \n",
       "  var docs_json = {\"105cf8a7-39e3-4102-bb2a-140c0460c2b0\":{\"roots\":{\"references\":[{\"attributes\":{\"below\":[{\"id\":\"1324\",\"type\":\"LinearAxis\"}],\"center\":[{\"id\":\"1328\",\"type\":\"Grid\"},{\"id\":\"1333\",\"type\":\"Grid\"},{\"id\":\"1346\",\"type\":\"Legend\"}],\"left\":[{\"id\":\"1329\",\"type\":\"LinearAxis\"}],\"plot_height\":450,\"plot_width\":450,\"renderers\":[{\"id\":\"1338\",\"type\":\"GlyphRenderer\"},{\"id\":\"1351\",\"type\":\"GlyphRenderer\"},{\"id\":\"1365\",\"type\":\"GlyphRenderer\"},{\"id\":\"1381\",\"type\":\"GlyphRenderer\"},{\"id\":\"1399\",\"type\":\"GlyphRenderer\"}],\"title\":{\"id\":\"1340\",\"type\":\"Title\"},\"toolbar\":{\"id\":\"1334\",\"type\":\"Toolbar\"},\"toolbar_location\":\"above\",\"x_range\":{\"id\":\"1316\",\"type\":\"DataRange1d\"},\"x_scale\":{\"id\":\"1320\",\"type\":\"LinearScale\"},\"y_range\":{\"id\":\"1318\",\"type\":\"DataRange1d\"},\"y_scale\":{\"id\":\"1322\",\"type\":\"LinearScale\"}},\"id\":\"1315\",\"subtype\":\"Figure\",\"type\":\"Plot\"},{\"attributes\":{},\"id\":\"1320\",\"type\":\"LinearScale\"},{\"attributes\":{},\"id\":\"1375\",\"type\":\"UnionRenderers\"},{\"attributes\":{\"click_policy\":\"hide\",\"items\":[{\"id\":\"1347\",\"type\":\"LegendItem\"},{\"id\":\"1361\",\"type\":\"LegendItem\"},{\"id\":\"1377\",\"type\":\"LegendItem\"},{\"id\":\"1395\",\"type\":\"LegendItem\"},{\"id\":\"1415\",\"type\":\"LegendItem\"}]},\"id\":\"1346\",\"type\":\"Legend\"},{\"attributes\":{},\"id\":\"1359\",\"type\":\"UnionRenderers\"},{\"attributes\":{},\"id\":\"1322\",\"type\":\"LinearScale\"},{\"attributes\":{},\"id\":\"1342\",\"type\":\"BasicTickFormatter\"},{\"attributes\":{},\"id\":\"1360\",\"type\":\"Selection\"},{\"attributes\":{\"bottom\":{\"value\":0},\"fill_alpha\":{\"value\":0.1},\"fill_color\":{\"value\":\"#1f77b4\"},\"left\":{\"field\":\"left\"},\"line_alpha\":{\"value\":0.1},\"line_color\":{\"value\":\"#1f77b4\"},\"right\":{\"field\":\"right\"},\"top\":{\"field\":\"top\"}},\"id\":\"1337\",\"type\":\"Quad\"},{\"attributes\":{\"source\":{\"id\":\"1348\",\"type\":\"ColumnDataSource\"}},\"id\":\"1352\",\"type\":\"CDSView\"},{\"attributes\":{\"callback\":null,\"data\":{\"left\":{\"__ndarray__\":\"GAlXqy0Q8b8nffkuvkztvx7oRAcheei/FlOQ34Ol478afLdvzaPdvwhSTiCT/NO/8E/KobGqxL+AvH8v0MOFv1hY2ps38sE/PFZWHVag0j9QgL9skEfcPzBVFF5l9+I/OOrIhQLL5z9Cf32tn57sPyYKmWoeufA/qlRz/uwi8z8un02Su4z1P7LpJyaK9vc/NjQCulhg+j+8ftxNJ8r8P0DJtuH1M/8/4onIOuLOAEAkr7WEyQMCQGbUos6wOANAqPmPGJhtBEA=\",\"dtype\":\"float64\",\"shape\":[25]},\"right\":{\"__ndarray__\":\"J335Lr5M7b8e6EQHIXnovxZTkN+DpeO/Gny3b82j3b8IUk4gk/zTv/BPyqGxqsS/gLx/L9DDhb9YWNqbN/LBPzxWVh1WoNI/UIC/bJBH3D8wVRReZffiPzjqyIUCy+c/Qn99rZ+e7D8mCplqHrnwP6pUc/7sIvM/Lp9NkruM9T+y6Scmivb3PzY0ArpYYPo/vH7cTSfK/D9Aybbh9TP/P+KJyDrizgBAJK+1hMkDAkBm1KLOsDgDQKj5jxiYbQRA6x59Yn+iBUA=\",\"dtype\":\"float64\",\"shape\":[25]},\"top\":{\"__ndarray__\":\"pBsWKEyhtj+kGxYoTKGmP6gbFihMoaY/L1gToyLN0z+Mohsyn0ncPwdmHrfIHd8/h6IbMp9JzD8zWBOjIs3TP6gbFihModY/nxsWKEyh1j8zWBOjIs3TPx3fGK11ddk/nxsWKEyh1j/7ZR63yB3fPzNYE6MizdM/k6IbMp9JzD+Tohsyn0ncP6gbFihMocY/sJQQHvn4wD8d3xitdXXZP76UEB75+MA/qBsWKEyhxj++lBAe+fjAP5OiGzKfScw/lRsWKEyhtj8=\",\"dtype\":\"float64\",\"shape\":[25]}},\"selected\":{\"id\":\"1414\",\"type\":\"Selection\"},\"selection_policy\":{\"id\":\"1413\",\"type\":\"UnionRenderers\"}},\"id\":\"1378\",\"type\":\"ColumnDataSource\"},{\"attributes\":{\"bottom\":{\"value\":0},\"fill_alpha\":{\"value\":0.5},\"fill_color\":{\"value\":\"darkred\"},\"left\":{\"field\":\"left\"},\"line_alpha\":{\"value\":0.5},\"line_color\":{\"value\":\"white\"},\"right\":{\"field\":\"right\"},\"top\":{\"field\":\"top\"}},\"id\":\"1397\",\"type\":\"Quad\"},{\"attributes\":{\"data_source\":{\"id\":\"1348\",\"type\":\"ColumnDataSource\"},\"glyph\":{\"id\":\"1349\",\"type\":\"Quad\"},\"hover_glyph\":null,\"muted_glyph\":null,\"nonselection_glyph\":{\"id\":\"1350\",\"type\":\"Quad\"},\"selection_glyph\":null,\"view\":{\"id\":\"1352\",\"type\":\"CDSView\"},\"visible\":false},\"id\":\"1351\",\"type\":\"GlyphRenderer\"},{\"attributes\":{\"bottom\":{\"value\":0},\"fill_alpha\":{\"value\":0.1},\"fill_color\":{\"value\":\"#1f77b4\"},\"left\":{\"field\":\"left\"},\"line_alpha\":{\"value\":0.1},\"line_color\":{\"value\":\"#1f77b4\"},\"right\":{\"field\":\"right\"},\"top\":{\"field\":\"top\"}},\"id\":\"1398\",\"type\":\"Quad\"},{\"attributes\":{},\"id\":\"1376\",\"type\":\"Selection\"},{\"attributes\":{},\"id\":\"1414\",\"type\":\"Selection\"},{\"attributes\":{\"text\":\"\"},\"id\":\"1340\",\"type\":\"Title\"},{\"attributes\":{\"data_source\":{\"id\":\"1396\",\"type\":\"ColumnDataSource\"},\"glyph\":{\"id\":\"1397\",\"type\":\"Quad\"},\"hover_glyph\":null,\"muted_glyph\":null,\"nonselection_glyph\":{\"id\":\"1398\",\"type\":\"Quad\"},\"selection_glyph\":null,\"view\":{\"id\":\"1400\",\"type\":\"CDSView\"},\"visible\":false},\"id\":\"1399\",\"type\":\"GlyphRenderer\"},{\"attributes\":{\"dimension\":1,\"ticker\":{\"id\":\"1330\",\"type\":\"BasicTicker\"}},\"id\":\"1333\",\"type\":\"Grid\"},{\"attributes\":{\"label\":{\"value\":\"N=50\"},\"renderers\":[{\"id\":\"1351\",\"type\":\"GlyphRenderer\"}]},\"id\":\"1361\",\"type\":\"LegendItem\"},{\"attributes\":{\"bottom\":{\"value\":0},\"fill_alpha\":{\"value\":0.5},\"fill_color\":{\"value\":\"navy\"},\"left\":{\"field\":\"left\"},\"line_alpha\":{\"value\":0.5},\"line_color\":{\"value\":\"white\"},\"right\":{\"field\":\"right\"},\"top\":{\"field\":\"top\"}},\"id\":\"1336\",\"type\":\"Quad\"},{\"attributes\":{\"callback\":null,\"data\":{\"left\":{\"__ndarray__\":\"GAlXqy0Q8b9AWtBsY2Xuv1Gi8oJrquq/YuoUmXPv5r9yMjevezTjvwT1sooH896/JoX3thd9179IFTzjJwfQv9BKAR9wIsG/gFhTvIO0kb9g6dhfnmq5P2hUY9cuocs/FBptP4dG1T/0iSgTd7zcP+j8cXMzGeI/2LRPXSvU5T/IbC1HI4/pP7gkCzEbSu0/VG50jYmC8D9MSmOCBWDyP0QmUneBPfQ/OgJBbP0a9j8y3i9hefj3Pyq6Hlb11fk/IpYNS3Gz+z8=\",\"dtype\":\"float64\",\"shape\":[25]},\"right\":{\"__ndarray__\":\"QFrQbGNl7r9RovKCa6rqv2LqFJlz7+a/cjI3r3s0478E9bKKB/PevyaF97YXfde/SBU84ycH0L/QSgEfcCLBv4BYU7yDtJG/YOnYX55quT9oVGPXLqHLPxQabT+HRtU/9IkoE3e83D/o/HFzMxniP9i0T10r1OU/yGwtRyOP6T+4JAsxG0rtP1RudI2JgvA/TEpjggVg8j9EJlJ3gT30PzoCQWz9GvY/Mt4vYXn49z8quh5W9dX5PyKWDUtxs/s/GnL8P+2Q/T8=\",\"dtype\":\"float64\",\"shape\":[25]},\"top\":{\"__ndarray__\":\"ffr/dORM0j8AAAAAAAAAAAAAAAAAAAAAAAAAAAAAAAB9+v905EzSPyL5P5Id4PY/AAAAAAAAAAB9+v905EzSP336/3TkTNI/AAAAAAAAAACG+v905EzSPwAAAAAAAAAAffr/dORM4j+G+v905EziP336/3TkTNI/ffr/dORM4j99+v905EziPxz5P5Id4PY/AAAAAAAAAAB9+v905EziP5D6/3TkTOI/AAAAAAAAAAB9+v905EzSPwAAAAAAAAAAffr/dORM0j8=\",\"dtype\":\"float64\",\"shape\":[25]}},\"selected\":{\"id\":\"1360\",\"type\":\"Selection\"},\"selection_policy\":{\"id\":\"1359\",\"type\":\"UnionRenderers\"}},\"id\":\"1335\",\"type\":\"ColumnDataSource\"},{\"attributes\":{\"callback\":null,\"data\":{\"left\":{\"__ndarray__\":\"GAlXqy0Q8b8nffkuvkztvx7oRAcheei/FlOQ34Ol478afLdvzaPdvwhSTiCT/NO/8E/KobGqxL+AvH8v0MOFv1hY2ps38sE/PFZWHVag0j9QgL9skEfcPzBVFF5l9+I/OOrIhQLL5z9Cf32tn57sPyYKmWoeufA/qlRz/uwi8z8un02Su4z1P7LpJyaK9vc/NjQCulhg+j+8ftxNJ8r8P0DJtuH1M/8/4onIOuLOAEAkr7WEyQMCQGbUos6wOANAqPmPGJhtBEA=\",\"dtype\":\"float64\",\"shape\":[25]},\"right\":{\"__ndarray__\":\"J335Lr5M7b8e6EQHIXnovxZTkN+DpeO/Gny3b82j3b8IUk4gk/zTv/BPyqGxqsS/gLx/L9DDhb9YWNqbN/LBPzxWVh1WoNI/UIC/bJBH3D8wVRReZffiPzjqyIUCy+c/Qn99rZ+e7D8mCplqHrnwP6pUc/7sIvM/Lp9NkruM9T+y6Scmivb3PzY0ArpYYPo/vH7cTSfK/D9Aybbh9TP/P+KJyDrizgBAJK+1hMkDAkBm1KLOsDgDQKj5jxiYbQRA6x59Yn+iBUA=\",\"dtype\":\"float64\",\"shape\":[25]},\"top\":{\"__ndarray__\":\"u5QQHvn4wD+7lBAe+fiwP76UEB75+LA/6bmUZTc31T8Y3xitdXXZP76UEB75+OA/5bmUZTc31T++lBAe+fjQP76UEB75+NA/t5QQHvn44D/uuZRlNzfVPx3fGK11ddk/QQSd9LOz3T+3lBAe+fjgP76UEB75+NA/vpQQHvn40D9NBJ30s7PdPx3fGK11dck/AAAAAAAAAAAd3xitdXXJP76UEB75+MA/vpQQHvn4wD++lBAe+fjAP76UEB75+MA/sJQQHvn4sD8=\",\"dtype\":\"float64\",\"shape\":[25]}},\"selected\":{\"id\":\"1394\",\"type\":\"Selection\"},\"selection_policy\":{\"id\":\"1393\",\"type\":\"UnionRenderers\"}},\"id\":\"1362\",\"type\":\"ColumnDataSource\"},{\"attributes\":{\"data_source\":{\"id\":\"1335\",\"type\":\"ColumnDataSource\"},\"glyph\":{\"id\":\"1336\",\"type\":\"Quad\"},\"hover_glyph\":null,\"muted_glyph\":null,\"nonselection_glyph\":{\"id\":\"1337\",\"type\":\"Quad\"},\"selection_glyph\":null,\"view\":{\"id\":\"1339\",\"type\":\"CDSView\"}},\"id\":\"1338\",\"type\":\"GlyphRenderer\"},{\"attributes\":{\"bottom\":{\"value\":0},\"fill_alpha\":{\"value\":0.5},\"fill_color\":{\"value\":\"red\"},\"left\":{\"field\":\"left\"},\"line_alpha\":{\"value\":0.5},\"line_color\":{\"value\":\"white\"},\"right\":{\"field\":\"right\"},\"top\":{\"field\":\"top\"}},\"id\":\"1379\",\"type\":\"Quad\"},{\"attributes\":{},\"id\":\"1330\",\"type\":\"BasicTicker\"},{\"attributes\":{\"bottom\":{\"value\":0},\"fill_alpha\":{\"value\":0.1},\"fill_color\":{\"value\":\"#1f77b4\"},\"left\":{\"field\":\"left\"},\"line_alpha\":{\"value\":0.1},\"line_color\":{\"value\":\"#1f77b4\"},\"right\":{\"field\":\"right\"},\"top\":{\"field\":\"top\"}},\"id\":\"1380\",\"type\":\"Quad\"},{\"attributes\":{\"callback\":null},\"id\":\"1318\",\"type\":\"DataRange1d\"},{\"attributes\":{\"data_source\":{\"id\":\"1378\",\"type\":\"ColumnDataSource\"},\"glyph\":{\"id\":\"1379\",\"type\":\"Quad\"},\"hover_glyph\":null,\"muted_glyph\":null,\"nonselection_glyph\":{\"id\":\"1380\",\"type\":\"Quad\"},\"selection_glyph\":null,\"view\":{\"id\":\"1382\",\"type\":\"CDSView\"},\"visible\":false},\"id\":\"1381\",\"type\":\"GlyphRenderer\"},{\"attributes\":{},\"id\":\"1413\",\"type\":\"UnionRenderers\"},{\"attributes\":{\"source\":{\"id\":\"1396\",\"type\":\"ColumnDataSource\"}},\"id\":\"1400\",\"type\":\"CDSView\"},{\"attributes\":{\"bottom\":{\"value\":0},\"fill_alpha\":{\"value\":0.1},\"fill_color\":{\"value\":\"#1f77b4\"},\"left\":{\"field\":\"left\"},\"line_alpha\":{\"value\":0.1},\"line_color\":{\"value\":\"#1f77b4\"},\"right\":{\"field\":\"right\"},\"top\":{\"field\":\"top\"}},\"id\":\"1350\",\"type\":\"Quad\"},{\"attributes\":{},\"id\":\"1454\",\"type\":\"UnionRenderers\"},{\"attributes\":{\"callback\":null},\"id\":\"1316\",\"type\":\"DataRange1d\"},{\"attributes\":{},\"id\":\"1325\",\"type\":\"BasicTicker\"},{\"attributes\":{\"label\":{\"value\":\"N=200\"},\"renderers\":[{\"id\":\"1399\",\"type\":\"GlyphRenderer\"}]},\"id\":\"1415\",\"type\":\"LegendItem\"},{\"attributes\":{},\"id\":\"1455\",\"type\":\"Selection\"},{\"attributes\":{\"bottom\":{\"value\":0},\"fill_alpha\":{\"value\":0.5},\"fill_color\":{\"value\":\"orange\"},\"left\":{\"field\":\"left\"},\"line_alpha\":{\"value\":0.5},\"line_color\":{\"value\":\"white\"},\"right\":{\"field\":\"right\"},\"top\":{\"field\":\"top\"}},\"id\":\"1363\",\"type\":\"Quad\"},{\"attributes\":{\"bottom\":{\"value\":0},\"fill_alpha\":{\"value\":0.1},\"fill_color\":{\"value\":\"#1f77b4\"},\"left\":{\"field\":\"left\"},\"line_alpha\":{\"value\":0.1},\"line_color\":{\"value\":\"#1f77b4\"},\"right\":{\"field\":\"right\"},\"top\":{\"field\":\"top\"}},\"id\":\"1364\",\"type\":\"Quad\"},{\"attributes\":{},\"id\":\"1344\",\"type\":\"BasicTickFormatter\"},{\"attributes\":{\"source\":{\"id\":\"1378\",\"type\":\"ColumnDataSource\"}},\"id\":\"1382\",\"type\":\"CDSView\"},{\"attributes\":{\"ticker\":{\"id\":\"1325\",\"type\":\"BasicTicker\"}},\"id\":\"1328\",\"type\":\"Grid\"},{\"attributes\":{\"data_source\":{\"id\":\"1362\",\"type\":\"ColumnDataSource\"},\"glyph\":{\"id\":\"1363\",\"type\":\"Quad\"},\"hover_glyph\":null,\"muted_glyph\":null,\"nonselection_glyph\":{\"id\":\"1364\",\"type\":\"Quad\"},\"selection_glyph\":null,\"view\":{\"id\":\"1366\",\"type\":\"CDSView\"},\"visible\":false},\"id\":\"1365\",\"type\":\"GlyphRenderer\"},{\"attributes\":{},\"id\":\"1394\",\"type\":\"Selection\"},{\"attributes\":{\"source\":{\"id\":\"1335\",\"type\":\"ColumnDataSource\"}},\"id\":\"1339\",\"type\":\"CDSView\"},{\"attributes\":{},\"id\":\"1393\",\"type\":\"UnionRenderers\"},{\"attributes\":{\"formatter\":{\"id\":\"1342\",\"type\":\"BasicTickFormatter\"},\"ticker\":{\"id\":\"1330\",\"type\":\"BasicTicker\"}},\"id\":\"1329\",\"type\":\"LinearAxis\"},{\"attributes\":{\"active_drag\":\"auto\",\"active_inspect\":\"auto\",\"active_multi\":null,\"active_scroll\":\"auto\",\"active_tap\":\"auto\"},\"id\":\"1334\",\"type\":\"Toolbar\"},{\"attributes\":{\"label\":{\"value\":\"N=100\"},\"renderers\":[{\"id\":\"1365\",\"type\":\"GlyphRenderer\"}]},\"id\":\"1377\",\"type\":\"LegendItem\"},{\"attributes\":{\"label\":{\"value\":\"N=150\"},\"renderers\":[{\"id\":\"1381\",\"type\":\"GlyphRenderer\"}]},\"id\":\"1395\",\"type\":\"LegendItem\"},{\"attributes\":{\"label\":{\"value\":\"N=30\"},\"renderers\":[{\"id\":\"1338\",\"type\":\"GlyphRenderer\"}]},\"id\":\"1347\",\"type\":\"LegendItem\"},{\"attributes\":{\"bottom\":{\"value\":0},\"fill_alpha\":{\"value\":0.5},\"fill_color\":{\"value\":\"purple\"},\"left\":{\"field\":\"left\"},\"line_alpha\":{\"value\":0.5},\"line_color\":{\"value\":\"white\"},\"right\":{\"field\":\"right\"},\"top\":{\"field\":\"top\"}},\"id\":\"1349\",\"type\":\"Quad\"},{\"attributes\":{\"callback\":null,\"data\":{\"left\":{\"__ndarray__\":\"GAlXqy0Q8b8nffkuvkztvx7oRAcheei/FlOQ34Ol478afLdvzaPdvwhSTiCT/NO/8E/KobGqxL+AvH8v0MOFv1hY2ps38sE/PFZWHVag0j9QgL9skEfcPzBVFF5l9+I/OOrIhQLL5z9Cf32tn57sPyYKmWoeufA/qlRz/uwi8z8un02Su4z1P7LpJyaK9vc/NjQCulhg+j+8ftxNJ8r8P0DJtuH1M/8/4onIOuLOAEAkr7WEyQMCQGbUos6wOANAqPmPGJhtBEA=\",\"dtype\":\"float64\",\"shape\":[25]},\"right\":{\"__ndarray__\":\"J335Lr5M7b8e6EQHIXnovxZTkN+DpeO/Gny3b82j3b8IUk4gk/zTv/BPyqGxqsS/gLx/L9DDhb9YWNqbN/LBPzxWVh1WoNI/UIC/bJBH3D8wVRReZffiPzjqyIUCy+c/Qn99rZ+e7D8mCplqHrnwP6pUc/7sIvM/Lp9NkruM9T+y6Scmivb3PzY0ArpYYPo/vH7cTSfK/D9Aybbh9TP/P+KJyDrizgBAJK+1hMkDAkBm1KLOsDgDQKj5jxiYbQRA6x59Yn+iBUA=\",\"dtype\":\"float64\",\"shape\":[25]},\"top\":{\"__ndarray__\":\"u5QQHvn4sD+7lBAe+figP76UEB75+KA/RgSd9LOzzT8GnvGviAjiP1an0kEYGOM/t5QQHvn40D+28drQlJTbP+65lGU3N9U/qvHa0JSU2z9NBJ30s7PNP7bx2tCUlNs/TqfSQRgY0z+q8drQlJTbP76UEB75+NA/vpQQHvn40D+28drQlJTbP76UEB75+NA/CN8YrXV1uT9Wp9JBGBjTPx3fGK11dbk/Hd8YrXV1yT8d3xitdXW5P+65lGU3N8U/sJQQHvn4sD8=\",\"dtype\":\"float64\",\"shape\":[25]}},\"selected\":{\"id\":\"1455\",\"type\":\"Selection\"},\"selection_policy\":{\"id\":\"1454\",\"type\":\"UnionRenderers\"}},\"id\":\"1396\",\"type\":\"ColumnDataSource\"},{\"attributes\":{\"callback\":null,\"data\":{\"left\":{\"__ndarray__\":\"GAlXqy0Q8b9AWtBsY2Xuv1Gi8oJrquq/YuoUmXPv5r9yMjevezTjvwT1sooH896/JoX3thd9179IFTzjJwfQv9BKAR9wIsG/gFhTvIO0kb9g6dhfnmq5P2hUY9cuocs/FBptP4dG1T/0iSgTd7zcP+j8cXMzGeI/2LRPXSvU5T/IbC1HI4/pP7gkCzEbSu0/VG50jYmC8D9MSmOCBWDyP0QmUneBPfQ/OgJBbP0a9j8y3i9hefj3Pyq6Hlb11fk/IpYNS3Gz+z8=\",\"dtype\":\"float64\",\"shape\":[25]},\"right\":{\"__ndarray__\":\"QFrQbGNl7r9RovKCa6rqv2LqFJlz7+a/cjI3r3s0478E9bKKB/PevyaF97YXfde/SBU84ycH0L/QSgEfcCLBv4BYU7yDtJG/YOnYX55quT9oVGPXLqHLPxQabT+HRtU/9IkoE3e83D/o/HFzMxniP9i0T10r1OU/yGwtRyOP6T+4JAsxG0rtP1RudI2JgvA/TEpjggVg8j9EJlJ3gT30PzoCQWz9GvY/Mt4vYXn49z8quh5W9dX5PyKWDUtxs/s/GnL8P+2Q/T8=\",\"dtype\":\"float64\",\"shape\":[25]},\"top\":{\"__ndarray__\":\"L8bM8t71xT8AAAAAAAAAADTGzPLe9dU/AAAAAAAAAAAvxszy3vXVP6iUGTZnePA/AAAAAAAAAAAvxszy3vXlPy/GzPLe9dU/AAAAAAAAAAA7xszy3vXFPy/GzPLe9cU/L8bM8t715T+slBk2Z3jgPy/GzPLe9cU/o5QZNmd44D+jlBk2Z3jgP7v3f69Wc+s/L8bM8t71xT8vxszy3vXVP9j3f69Wc+s/L8bM8t71xT8vxszy3vXFPwAAAAAAAAAAL8bM8t711T8=\",\"dtype\":\"float64\",\"shape\":[25]}},\"selected\":{\"id\":\"1376\",\"type\":\"Selection\"},\"selection_policy\":{\"id\":\"1375\",\"type\":\"UnionRenderers\"}},\"id\":\"1348\",\"type\":\"ColumnDataSource\"},{\"attributes\":{\"source\":{\"id\":\"1362\",\"type\":\"ColumnDataSource\"}},\"id\":\"1366\",\"type\":\"CDSView\"},{\"attributes\":{\"formatter\":{\"id\":\"1344\",\"type\":\"BasicTickFormatter\"},\"ticker\":{\"id\":\"1325\",\"type\":\"BasicTicker\"}},\"id\":\"1324\",\"type\":\"LinearAxis\"}],\"root_ids\":[\"1315\"]},\"title\":\"Bokeh Application\",\"version\":\"1.4.0\"}};\n",
       "  var render_items = [{\"docid\":\"105cf8a7-39e3-4102-bb2a-140c0460c2b0\",\"roots\":{\"1315\":\"10d8b75b-a8e5-4256-b3bb-87dad8b9854e\"}}];\n",
       "  root.Bokeh.embed.embed_items_notebook(docs_json, render_items);\n",
       "\n",
       "  }\n",
       "  if (root.Bokeh !== undefined) {\n",
       "    embed_document(root);\n",
       "  } else {\n",
       "    var attempts = 0;\n",
       "    var timer = setInterval(function(root) {\n",
       "      if (root.Bokeh !== undefined) {\n",
       "        clearInterval(timer);\n",
       "        embed_document(root);\n",
       "      } else {\n",
       "        attempts++;\n",
       "        if (attempts > 100) {\n",
       "          clearInterval(timer);\n",
       "          console.log(\"Bokeh: ERROR: Unable to run BokehJS code because BokehJS library is missing\");\n",
       "        }\n",
       "      }\n",
       "    }, 10, root)\n",
       "  }\n",
       "})(window);"
      ],
      "application/vnd.bokehjs_exec.v0+json": ""
     },
     "metadata": {
      "application/vnd.bokehjs_exec.v0+json": {
       "id": "1315"
      }
     },
     "output_type": "display_data"
    }
   ],
   "source": [
    "show(hist)"
   ]
  },
  {
   "cell_type": "markdown",
   "metadata": {
    "slideshow": {
     "slide_type": "subslide"
    }
   },
   "source": [
    "#### KDE"
   ]
  },
  {
   "cell_type": "markdown",
   "metadata": {
    "slideshow": {
     "slide_type": "fragment"
    }
   },
   "source": [
    "Another approach to visualize a distribution is a **k**ernel **d**ensity **e**stimation. "
   ]
  },
  {
   "cell_type": "markdown",
   "metadata": {
    "slideshow": {
     "slide_type": "skip"
    }
   },
   "source": [
    "The main difference is that each observation is shown in the graph, representated by a simple geometry, for example a sqaure. These shapes then recieve a size, often called *bandwidth* in the graph, which has to be defined. Overlapping shapes are just added **onto** each other. A very common method is:"
   ]
  },
  {
   "cell_type": "markdown",
   "metadata": {
    "slideshow": {
     "slide_type": "fragment"
    }
   },
   "source": [
    "Gaussian KDE where:\n",
    "\n",
    "* each observation is represented by a gaussian *kernel* like $\\frac{1}{2\\pi}exp(-\\frac{1}{2}h^2)$\n",
    "* overlapping kernels are added onto each other"
   ]
  },
  {
   "cell_type": "code",
   "execution_count": 17,
   "metadata": {
    "slideshow": {
     "slide_type": "skip"
    }
   },
   "outputs": [
    {
     "data": {
      "text/html": [
       "<div style=\"display: table;\"><div style=\"display: table-row;\"><div style=\"display: table-cell;\"><b title=\"bokeh.models.renderers.GlyphRenderer\">GlyphRenderer</b>(</div><div style=\"display: table-cell;\">id&nbsp;=&nbsp;'1575', <span id=\"1578\" style=\"cursor: pointer;\">&hellip;)</span></div></div><div class=\"1577\" style=\"display: none;\"><div style=\"display: table-cell;\"></div><div style=\"display: table-cell;\">data_source&nbsp;=&nbsp;ColumnDataSource(id='1572', ...),</div></div><div class=\"1577\" style=\"display: none;\"><div style=\"display: table-cell;\"></div><div style=\"display: table-cell;\">glyph&nbsp;=&nbsp;Patch(id='1573', ...),</div></div><div class=\"1577\" style=\"display: none;\"><div style=\"display: table-cell;\"></div><div style=\"display: table-cell;\">hover_glyph&nbsp;=&nbsp;None,</div></div><div class=\"1577\" style=\"display: none;\"><div style=\"display: table-cell;\"></div><div style=\"display: table-cell;\">js_event_callbacks&nbsp;=&nbsp;{},</div></div><div class=\"1577\" style=\"display: none;\"><div style=\"display: table-cell;\"></div><div style=\"display: table-cell;\">js_property_callbacks&nbsp;=&nbsp;{},</div></div><div class=\"1577\" style=\"display: none;\"><div style=\"display: table-cell;\"></div><div style=\"display: table-cell;\">level&nbsp;=&nbsp;'glyph',</div></div><div class=\"1577\" style=\"display: none;\"><div style=\"display: table-cell;\"></div><div style=\"display: table-cell;\">muted&nbsp;=&nbsp;False,</div></div><div class=\"1577\" style=\"display: none;\"><div style=\"display: table-cell;\"></div><div style=\"display: table-cell;\">muted_glyph&nbsp;=&nbsp;None,</div></div><div class=\"1577\" style=\"display: none;\"><div style=\"display: table-cell;\"></div><div style=\"display: table-cell;\">name&nbsp;=&nbsp;None,</div></div><div class=\"1577\" style=\"display: none;\"><div style=\"display: table-cell;\"></div><div style=\"display: table-cell;\">nonselection_glyph&nbsp;=&nbsp;Patch(id='1574', ...),</div></div><div class=\"1577\" style=\"display: none;\"><div style=\"display: table-cell;\"></div><div style=\"display: table-cell;\">selection_glyph&nbsp;=&nbsp;None,</div></div><div class=\"1577\" style=\"display: none;\"><div style=\"display: table-cell;\"></div><div style=\"display: table-cell;\">subscribed_events&nbsp;=&nbsp;[],</div></div><div class=\"1577\" style=\"display: none;\"><div style=\"display: table-cell;\"></div><div style=\"display: table-cell;\">tags&nbsp;=&nbsp;[],</div></div><div class=\"1577\" style=\"display: none;\"><div style=\"display: table-cell;\"></div><div style=\"display: table-cell;\">view&nbsp;=&nbsp;CDSView(id='1576', ...),</div></div><div class=\"1577\" style=\"display: none;\"><div style=\"display: table-cell;\"></div><div style=\"display: table-cell;\">visible&nbsp;=&nbsp;True,</div></div><div class=\"1577\" style=\"display: none;\"><div style=\"display: table-cell;\"></div><div style=\"display: table-cell;\">x_range_name&nbsp;=&nbsp;'default',</div></div><div class=\"1577\" style=\"display: none;\"><div style=\"display: table-cell;\"></div><div style=\"display: table-cell;\">y_range_name&nbsp;=&nbsp;'default')</div></div></div>\n",
       "<script>\n",
       "(function() {\n",
       "  var expanded = false;\n",
       "  var ellipsis = document.getElementById(\"1578\");\n",
       "  ellipsis.addEventListener(\"click\", function() {\n",
       "    var rows = document.getElementsByClassName(\"1577\");\n",
       "    for (var i = 0; i < rows.length; i++) {\n",
       "      var el = rows[i];\n",
       "      el.style.display = expanded ? \"none\" : \"table-row\";\n",
       "    }\n",
       "    ellipsis.innerHTML = expanded ? \"&hellip;)\" : \"&lsaquo;&lsaquo;&lsaquo;\";\n",
       "    expanded = !expanded;\n",
       "  });\n",
       "})();\n",
       "</script>\n"
      ],
      "text/plain": [
       "GlyphRenderer(id='1575', ...)"
      ]
     },
     "execution_count": 17,
     "metadata": {},
     "output_type": "execute_result"
    }
   ],
   "source": [
    "from scipy.stats import gaussian_kde\n",
    "\n",
    "kf = gaussian_kde(data)\n",
    "\n",
    "x = np.linspace(1.2* data.min(), 1.2*data.max(), 100)\n",
    "y = kf(x) * data.max()\n",
    "\n",
    "kde = figure(tools=[], height=450, width=600)\n",
    "kde.patch(x, y, line_color='black', color='navy', alpha=0.3)"
   ]
  },
  {
   "cell_type": "code",
   "execution_count": 18,
   "metadata": {
    "slideshow": {
     "slide_type": "subslide"
    }
   },
   "outputs": [
    {
     "data": {
      "text/html": [
       "\n",
       "\n",
       "\n",
       "\n",
       "\n",
       "\n",
       "  <div class=\"bk-root\" id=\"e080b191-aad4-4a77-94b7-9a3659af56eb\" data-root-id=\"1552\"></div>\n"
      ]
     },
     "metadata": {},
     "output_type": "display_data"
    },
    {
     "data": {
      "application/javascript": [
       "(function(root) {\n",
       "  function embed_document(root) {\n",
       "    \n",
       "  var docs_json = {\"9df75a7b-0069-43f3-8707-f245111c9741\":{\"roots\":{\"references\":[{\"attributes\":{\"below\":[{\"id\":\"1561\",\"type\":\"LinearAxis\"}],\"center\":[{\"id\":\"1565\",\"type\":\"Grid\"},{\"id\":\"1570\",\"type\":\"Grid\"}],\"left\":[{\"id\":\"1566\",\"type\":\"LinearAxis\"}],\"plot_height\":450,\"renderers\":[{\"id\":\"1575\",\"type\":\"GlyphRenderer\"}],\"title\":{\"id\":\"1619\",\"type\":\"Title\"},\"toolbar\":{\"id\":\"1571\",\"type\":\"Toolbar\"},\"x_range\":{\"id\":\"1553\",\"type\":\"DataRange1d\"},\"x_scale\":{\"id\":\"1557\",\"type\":\"LinearScale\"},\"y_range\":{\"id\":\"1555\",\"type\":\"DataRange1d\"},\"y_scale\":{\"id\":\"1559\",\"type\":\"LinearScale\"}},\"id\":\"1552\",\"subtype\":\"Figure\",\"type\":\"Plot\"},{\"attributes\":{\"data_source\":{\"id\":\"1572\",\"type\":\"ColumnDataSource\"},\"glyph\":{\"id\":\"1573\",\"type\":\"Patch\"},\"hover_glyph\":null,\"muted_glyph\":null,\"nonselection_glyph\":{\"id\":\"1574\",\"type\":\"Patch\"},\"selection_glyph\":null,\"view\":{\"id\":\"1576\",\"type\":\"CDSView\"}},\"id\":\"1575\",\"type\":\"GlyphRenderer\"},{\"attributes\":{\"source\":{\"id\":\"1572\",\"type\":\"ColumnDataSource\"}},\"id\":\"1576\",\"type\":\"CDSView\"},{\"attributes\":{\"callback\":null},\"id\":\"1555\",\"type\":\"DataRange1d\"},{\"attributes\":{},\"id\":\"1557\",\"type\":\"LinearScale\"},{\"attributes\":{\"formatter\":{\"id\":\"1621\",\"type\":\"BasicTickFormatter\"},\"ticker\":{\"id\":\"1567\",\"type\":\"BasicTicker\"}},\"id\":\"1566\",\"type\":\"LinearAxis\"},{\"attributes\":{\"text\":\"\"},\"id\":\"1619\",\"type\":\"Title\"},{\"attributes\":{},\"id\":\"1567\",\"type\":\"BasicTicker\"},{\"attributes\":{},\"id\":\"1625\",\"type\":\"UnionRenderers\"},{\"attributes\":{\"callback\":null,\"data\":{\"x\":{\"__ndarray__\":\"1k7tUYd6+L/V5gPlAbH3v9V+Gnh85/a/1BYxC/cd9r/TrkeecVT1v9JGXjHsivS/0t50xGbB87/RdotX4ffyv9AOoupbLvK/0Ka4fdZk8b/PPs8QUZvwv5yty0eXo++/m934bYwQ7r+ZDSaUgX3sv5g9U7p26uq/lm2A4GtX6b+Vna0GYcTnv5TN2ixWMea/kv0HU0ue5L+RLTV5QAvjv49dYp81eOG/HBsfi1XK378Ye3nXP6TcvxTb0yMqftm/FDsucBRY1r8Qm4i8/jHTvwz74gjpC9C/GLZ6qqbLyb8Qdi9De3/DvxBsyLefZrq/ANhj0pGcq78AwLapIV9zvyAo9mfJxKY/IJSRgrv6tz8QCpQoiUnCPxhK34+0lcg/IIoq99/hzj8U5TqvBZfSPxSF4GIbvdU/GCWGFjHj2D8cxSvKRgncPyBl0X1cL98/kIK7GLkq4T+QUo7yw73iP5QiYczOUOQ/lPIzptnj5T+YwgaA5HbnP5iS2VnvCek/mGKsM/qc6j+cMn8NBTDsP5wCUucPw+0/nNIkwRpW7z9Q0XvNknTwP1A5ZToYPvE/UKFOp50H8j9SCTgUI9HyP1JxIYGomvM/UtkK7i1k9D9UQfRasy31P1Sp3cc49/U/VhHHNL7A9j9WebChQ4r3P1bhmQ7JU/g/WEmDe04d+T9YsWzo0+b5P1gZVlVZsPo/WoE/wt55+z9a6SgvZEP8P1pREpzpDP0/XLn7CG/W/T9cIeV19J/+P16JzuJ5af8/r/jbp38ZAECvrFBeQn4AQLBgxRQF4wBAsBQ6y8dHAUCwyK6BiqwBQLF8IzhNEQJAsTCY7g92AkCx5Ayl0toCQLKYgVuVPwNAskz2EVikA0CzAGvIGgkEQLO0337dbQRAs2hUNaDSBECzHMnrYjcFQLPQPaIlnAVAtYSyWOgABkC1OCcPq2UGQLXsm8VtygZAtaAQfDAvB0C1VIUy85MHQLcI+ui1+AdAt7xun3hdCEC3cONVO8IIQLckWAz+JglAt9jMwsCLCUC3jEF5g/AJQLlAti9GVQpAufQq5gi6CkA=\",\"dtype\":\"float64\",\"shape\":[100]},\"y\":{\"__ndarray__\":\"uayExoSAgj+hYC0JaGiIP9sdtLvvpI8/tPNoYns7lD98LObnjp2ZP6wxuYGnHaA/1HBs2Bw5pD+w1gHwKGCpP+cmv8+4468/K6MECS8TtD9y16mco0y5P11+Wq3b2r8/H/9DFp/8wz+LG/lVWu3IP2veH7tt0M4/lb2Ie6nU0j9svNlGA7XWP9cFpIow+No/JZttgfWC3z/jlpsHtRjiPw4Ga6EHbeQ/cQc8PRKp5j+09owCQ7noP/dFnyQUjuo/eaCYzqMd7D9vlrVBVWTtP6MIZEhkZO4/yFI/9JQk7z/RlTeOXa7vPxafvVMABvA/Jz+O3YEj8D9cyc2CpDPwP18PKFlvOfA/mI3FfzE38D9ewBha3S7wP8CeW1FmIvA/4ZDhoQAU8D+J25ysMAbwPw5NYpNP9+8/HHsIlPXt7z/tbrL3jfTvP5BDrorcBvA/pHRmMgEd8D9MnQho1jvwP+iuPNBkYfA/yLWzr8aK8D9JCwEXZrTwP5TQngBD2vA/ZGpGBTn48D/P0sCzQQrxP5wl2Rm1DPE/iBS2JYv88D85adNzndfwP0xmBWPjnPA/DWPtEJ1M8D/vOWLGwNDvPyD9+gP+5e4/XlzWSYjg7T9m98+YJMnsPwQmrSDgqOs/DUS54yuI6j/ibcYiG27pPwV50sLcX+g/Ba/+rH1g5z8ifPR1+HDmPyFVlyiNkOU/cvNauVG95D8hz7KV4PTjP3fvSrkBNeM/ozRjPCh84j8gcGglpsnhP8cCZ4qKHeE//GYmHzZ44D+N16J5kLPfP1HWs70kg94/gcrhYntb3T84I6WDfTbcP/COXwo5DNs/qPv5QvPT2T//akGif4XYP4mHdhiRGtc/QzIZPcaP1T/mlyoDR+XTP0JPscjkHtI/eiGEYcRD0D9GJb25UrvMP0HOBFED8Mg/yi9/A6U9xT/vCJeLS7vBP2FozmVM+rw/GjBFiu8ltz93J1DULQ6yP2qGRBEseKs/OESS5BxbpD+t0BAIhludPxlkXGRWlJQ/NZabpVwFjD8tdG+qz4KCP+D69tiVtnc/AHOpS7lubT8=\",\"dtype\":\"float64\",\"shape\":[100]}},\"selected\":{\"id\":\"1626\",\"type\":\"Selection\"},\"selection_policy\":{\"id\":\"1625\",\"type\":\"UnionRenderers\"}},\"id\":\"1572\",\"type\":\"ColumnDataSource\"},{\"attributes\":{},\"id\":\"1626\",\"type\":\"Selection\"},{\"attributes\":{\"callback\":null},\"id\":\"1553\",\"type\":\"DataRange1d\"},{\"attributes\":{\"dimension\":1,\"ticker\":{\"id\":\"1567\",\"type\":\"BasicTicker\"}},\"id\":\"1570\",\"type\":\"Grid\"},{\"attributes\":{\"formatter\":{\"id\":\"1623\",\"type\":\"BasicTickFormatter\"},\"ticker\":{\"id\":\"1562\",\"type\":\"BasicTicker\"}},\"id\":\"1561\",\"type\":\"LinearAxis\"},{\"attributes\":{\"active_drag\":\"auto\",\"active_inspect\":\"auto\",\"active_multi\":null,\"active_scroll\":\"auto\",\"active_tap\":\"auto\"},\"id\":\"1571\",\"type\":\"Toolbar\"},{\"attributes\":{\"fill_alpha\":0.1,\"fill_color\":\"#1f77b4\",\"line_alpha\":0.1,\"line_color\":\"#1f77b4\",\"x\":{\"field\":\"x\"},\"y\":{\"field\":\"y\"}},\"id\":\"1574\",\"type\":\"Patch\"},{\"attributes\":{},\"id\":\"1621\",\"type\":\"BasicTickFormatter\"},{\"attributes\":{\"ticker\":{\"id\":\"1562\",\"type\":\"BasicTicker\"}},\"id\":\"1565\",\"type\":\"Grid\"},{\"attributes\":{},\"id\":\"1623\",\"type\":\"BasicTickFormatter\"},{\"attributes\":{},\"id\":\"1559\",\"type\":\"LinearScale\"},{\"attributes\":{},\"id\":\"1562\",\"type\":\"BasicTicker\"},{\"attributes\":{\"fill_alpha\":0.3,\"fill_color\":\"navy\",\"line_alpha\":0.3,\"x\":{\"field\":\"x\"},\"y\":{\"field\":\"y\"}},\"id\":\"1573\",\"type\":\"Patch\"}],\"root_ids\":[\"1552\"]},\"title\":\"Bokeh Application\",\"version\":\"1.4.0\"}};\n",
       "  var render_items = [{\"docid\":\"9df75a7b-0069-43f3-8707-f245111c9741\",\"roots\":{\"1552\":\"e080b191-aad4-4a77-94b7-9a3659af56eb\"}}];\n",
       "  root.Bokeh.embed.embed_items_notebook(docs_json, render_items);\n",
       "\n",
       "  }\n",
       "  if (root.Bokeh !== undefined) {\n",
       "    embed_document(root);\n",
       "  } else {\n",
       "    var attempts = 0;\n",
       "    var timer = setInterval(function(root) {\n",
       "      if (root.Bokeh !== undefined) {\n",
       "        clearInterval(timer);\n",
       "        embed_document(root);\n",
       "      } else {\n",
       "        attempts++;\n",
       "        if (attempts > 100) {\n",
       "          clearInterval(timer);\n",
       "          console.log(\"Bokeh: ERROR: Unable to run BokehJS code because BokehJS library is missing\");\n",
       "        }\n",
       "      }\n",
       "    }, 10, root)\n",
       "  }\n",
       "})(window);"
      ],
      "application/vnd.bokehjs_exec.v0+json": ""
     },
     "metadata": {
      "application/vnd.bokehjs_exec.v0+json": {
       "id": "1552"
      }
     },
     "output_type": "display_data"
    }
   ],
   "source": [
    "show(kde)"
   ]
  },
  {
   "cell_type": "markdown",
   "metadata": {
    "slideshow": {
     "slide_type": "slide"
    }
   },
   "source": [
    "### 2.5 Comparing distributions"
   ]
  },
  {
   "cell_type": "markdown",
   "metadata": {
    "slideshow": {
     "slide_type": "fragment"
    }
   },
   "source": [
    "Something that we commonly need to do, is compare two distributions. Typical questions we want to solve that way are:"
   ]
  },
  {
   "cell_type": "markdown",
   "metadata": {
    "slideshow": {
     "slide_type": "fragment"
    }
   },
   "source": [
    "* Are two samples from the same population?"
   ]
  },
  {
   "cell_type": "markdown",
   "metadata": {
    "slideshow": {
     "slide_type": "fragment"
    }
   },
   "source": [
    "* If we observe different processes in the environment, can we *see* these differences in statistical properties?"
   ]
  },
  {
   "cell_type": "markdown",
   "metadata": {
    "slideshow": {
     "slide_type": "fragment"
    }
   },
   "source": [
    "* Can we correlate difference in statistical properties to system properties?"
   ]
  },
  {
   "cell_type": "markdown",
   "metadata": {
    "slideshow": {
     "slide_type": "subslide"
    }
   },
   "source": [
    "#### How to compare"
   ]
  },
  {
   "cell_type": "markdown",
   "metadata": {
    "slideshow": {
     "slide_type": "fragment"
    }
   },
   "source": [
    "From what we have seen above, we can of course use a histogram or KDE to compare two distributions visually.\n",
    "\n",
    "The other possibility is to compare the statistical moments. There are statistical tests to do so."
   ]
  },
  {
   "cell_type": "markdown",
   "metadata": {
    "slideshow": {
     "slide_type": "fragment"
    }
   },
   "source": [
    "We can load some more samples, which were also collected from the same population:"
   ]
  },
  {
   "cell_type": "code",
   "execution_count": 19,
   "metadata": {
    "slideshow": {
     "slide_type": "skip"
    }
   },
   "outputs": [],
   "source": [
    "sample1 = data.copy()\n",
    "sample2 = df.iloc[:,13].values\n",
    "sample3 = df.iloc[:,14].values\n",
    "\n",
    "sample_moments = pd.DataFrame(dict(\n",
    "    sample1=dict(mean=np.mean(sample1), var=np.var(sample1), min=np.min(sample1), max=np.max(sample1)),\n",
    "    sample2=dict(mean=np.mean(sample2), var=np.var(sample2), min=np.min(sample2), max=np.max(sample2)),\n",
    "    sample3=dict(mean=np.mean(sample3), var=np.var(sample3), min=np.min(sample3), max=np.max(sample3))\n",
    "))"
   ]
  },
  {
   "cell_type": "code",
   "execution_count": 20,
   "metadata": {
    "slideshow": {
     "slide_type": "subslide"
    }
   },
   "outputs": [
    {
     "data": {
      "text/html": [
       "<div>\n",
       "<style scoped>\n",
       "    .dataframe tbody tr th:only-of-type {\n",
       "        vertical-align: middle;\n",
       "    }\n",
       "\n",
       "    .dataframe tbody tr th {\n",
       "        vertical-align: top;\n",
       "    }\n",
       "\n",
       "    .dataframe thead th {\n",
       "        text-align: right;\n",
       "    }\n",
       "</style>\n",
       "<table border=\"1\" class=\"dataframe\">\n",
       "  <thead>\n",
       "    <tr style=\"text-align: right;\">\n",
       "      <th></th>\n",
       "      <th>sample1</th>\n",
       "      <th>sample2</th>\n",
       "      <th>sample3</th>\n",
       "    </tr>\n",
       "  </thead>\n",
       "  <tbody>\n",
       "    <tr>\n",
       "      <th>mean</th>\n",
       "      <td>0.758328</td>\n",
       "      <td>0.703931</td>\n",
       "      <td>0.488372</td>\n",
       "    </tr>\n",
       "    <tr>\n",
       "      <th>var</th>\n",
       "      <td>0.777075</td>\n",
       "      <td>0.784418</td>\n",
       "      <td>0.685805</td>\n",
       "    </tr>\n",
       "    <tr>\n",
       "      <th>min</th>\n",
       "      <td>-1.274929</td>\n",
       "      <td>-1.290128</td>\n",
       "      <td>-1.906964</td>\n",
       "    </tr>\n",
       "    <tr>\n",
       "      <th>max</th>\n",
       "      <td>2.784031</td>\n",
       "      <td>2.582916</td>\n",
       "      <td>2.560545</td>\n",
       "    </tr>\n",
       "  </tbody>\n",
       "</table>\n",
       "</div>"
      ],
      "text/plain": [
       "       sample1   sample2   sample3\n",
       "mean  0.758328  0.703931  0.488372\n",
       "var   0.777075  0.784418  0.685805\n",
       "min  -1.274929 -1.290128 -1.906964\n",
       "max   2.784031  2.582916  2.560545"
      ]
     },
     "execution_count": 20,
     "metadata": {},
     "output_type": "execute_result"
    }
   ],
   "source": [
    "sample_moments"
   ]
  },
  {
   "cell_type": "markdown",
   "metadata": {
    "slideshow": {
     "slide_type": "fragment"
    }
   },
   "source": [
    "The mean of sample 1 and 2 looks similar, even if not the same. This also applies to the variance. \n",
    "\n",
    "But what about sample 3? "
   ]
  },
  {
   "cell_type": "code",
   "execution_count": 45,
   "metadata": {
    "slideshow": {
     "slide_type": "skip"
    }
   },
   "outputs": [],
   "source": [
    "# calculate the bins\n",
    "bins = np.linspace(df.min().min(), df.max().max(), 50)\n",
    "hover = HoverTool(tooltips=[('Value range:', '@left to @right'), ('Count', '@top')])\n",
    "figs = []\n",
    "\n",
    "for sample in (sample1, sample2, sample3):\n",
    "    c, e = np.histogram(sample, bins=bins)\n",
    "    f  = figure(tools=[], toolbar_location=\"above\", width=350, height=350)\n",
    "    f.quad(top=c, bottom=0, left=e[:-1], right=e[1:], fill_color=\"navy\", line_color=\"white\", alpha=.5)\n",
    "    f.y_range.start = 0\n",
    "    f.add_tools(hover)\n",
    "    figs.append(f)"
   ]
  },
  {
   "cell_type": "code",
   "execution_count": 46,
   "metadata": {
    "scrolled": false,
    "slideshow": {
     "slide_type": "fragment"
    }
   },
   "outputs": [
    {
     "data": {
      "text/html": [
       "\n",
       "\n",
       "\n",
       "\n",
       "\n",
       "\n",
       "  <div class=\"bk-root\" id=\"712a395d-82b3-4beb-a465-acf446219b1b\" data-root-id=\"3727\"></div>\n"
      ]
     },
     "metadata": {},
     "output_type": "display_data"
    },
    {
     "data": {
      "application/javascript": [
       "(function(root) {\n",
       "  function embed_document(root) {\n",
       "    \n",
       "  var docs_json = {\"a1a88c7d-f8ac-4d91-b0c7-998b3e1a1672\":{\"roots\":{\"references\":[{\"attributes\":{\"children\":[{\"id\":\"3649\",\"subtype\":\"Figure\",\"type\":\"Plot\"},{\"id\":\"3675\",\"subtype\":\"Figure\",\"type\":\"Plot\"},{\"id\":\"3701\",\"subtype\":\"Figure\",\"type\":\"Plot\"}]},\"id\":\"3727\",\"type\":\"Row\"},{\"attributes\":{\"active_drag\":\"auto\",\"active_inspect\":\"auto\",\"active_multi\":null,\"active_scroll\":\"auto\",\"active_tap\":\"auto\",\"tools\":[{\"id\":\"3648\",\"type\":\"HoverTool\"}]},\"id\":\"3720\",\"type\":\"Toolbar\"},{\"attributes\":{},\"id\":\"3659\",\"type\":\"BasicTicker\"},{\"attributes\":{},\"id\":\"3898\",\"type\":\"BasicTickFormatter\"},{\"attributes\":{\"text\":\"\"},\"id\":\"3884\",\"type\":\"Title\"},{\"attributes\":{},\"id\":\"3680\",\"type\":\"LinearScale\"},{\"attributes\":{\"below\":[{\"id\":\"3684\",\"type\":\"LinearAxis\"}],\"center\":[{\"id\":\"3688\",\"type\":\"Grid\"},{\"id\":\"3693\",\"type\":\"Grid\"}],\"left\":[{\"id\":\"3689\",\"type\":\"LinearAxis\"}],\"plot_height\":350,\"plot_width\":350,\"renderers\":[{\"id\":\"3698\",\"type\":\"GlyphRenderer\"}],\"title\":{\"id\":\"3886\",\"type\":\"Title\"},\"toolbar\":{\"id\":\"3694\",\"type\":\"Toolbar\"},\"toolbar_location\":\"above\",\"x_range\":{\"id\":\"3676\",\"type\":\"DataRange1d\"},\"x_scale\":{\"id\":\"3680\",\"type\":\"LinearScale\"},\"y_range\":{\"id\":\"3678\",\"type\":\"DataRange1d\"},\"y_scale\":{\"id\":\"3682\",\"type\":\"LinearScale\"}},\"id\":\"3675\",\"subtype\":\"Figure\",\"type\":\"Plot\"},{\"attributes\":{},\"id\":\"3690\",\"type\":\"BasicTicker\"},{\"attributes\":{\"formatter\":{\"id\":\"3890\",\"type\":\"BasicTickFormatter\"},\"ticker\":{\"id\":\"3664\",\"type\":\"BasicTicker\"}},\"id\":\"3663\",\"type\":\"LinearAxis\"},{\"attributes\":{\"callback\":null,\"start\":0},\"id\":\"3678\",\"type\":\"DataRange1d\"},{\"attributes\":{},\"id\":\"3664\",\"type\":\"BasicTicker\"},{\"attributes\":{},\"id\":\"3654\",\"type\":\"LinearScale\"},{\"attributes\":{},\"id\":\"3656\",\"type\":\"LinearScale\"},{\"attributes\":{\"callback\":null,\"start\":0},\"id\":\"3704\",\"type\":\"DataRange1d\"},{\"attributes\":{\"callback\":null,\"data\":{\"left\":{\"__ndarray__\":\"Dbv1JHtgB8Ap1QWA+kkGwEXvFdt5MwXAYQkmNvkcBMB9IzaReAYDwJk9Ruz37wHAtFdWR3fZAMCh48xE7YX/v9kX7frrWP2/EUwNseor+79JgC1n6f74v4G0TR3o0fa/uOht0+ak9L/wHI6J5XfyvyhRrj/kSvC/wAqd68U77L8wc91Xw+Hnv6DbHcTAh+O/IIi8YHxb3r8AWT05d6fVv8BTfCPk5sm/AOv7qLP9sL+A0QD1YNKxPwDHfsk6Uco/qJI+jKLc1T/Iwb2zp5DeP3R4nm1WouM/BBBeAVn85z+Upx2VW1bsP5KfbhQvWPA/WmtOXjCF8j8iNy6oMbL0P+oCDvIy3/Y/ss7tOzQM+T96ms2FNTn7P0Jmrc82Zv0/CjKNGTiT/z/pfraxHOAAQM1kplad9gFAsUqW+x0NA0CVMIagniMEQHkWdkUfOgVAXfxl6p9QBkBB4lWPIGcHQCXIRTShfQhACa412SGUCUDtkyV+oqoKQNF5FSMjwQtAt18FyKPXDEA=\",\"dtype\":\"float64\",\"shape\":[49]},\"right\":{\"__ndarray__\":\"KdUFgPpJBsBF7xXbeTMFwGEJJjb5HATAfSM2kXgGA8CZPUbs9+8BwLRXVkd32QDAoePMRO2F/7/ZF+3661j9vxFMDbHqK/u/SYAtZ+n++L+BtE0d6NH2v7jobdPmpPS/8ByOieV38r8oUa4/5Erwv8AKnevFO+y/MHPdV8Ph57+g2x3EwIfjvyCIvGB8W96/AFk9OXen1b/AU3wj5ObJvwDr+6iz/bC/gNEA9WDSsT8Ax37JOlHKP6iSPoyi3NU/yMG9s6eQ3j90eJ5tVqLjPwQQXgFZ/Oc/lKcdlVtW7D+Sn24UL1jwP1prTl4whfI/IjcuqDGy9D/qAg7yMt/2P7LO7Ts0DPk/eprNhTU5+z9CZq3PNmb9PwoyjRk4k/8/6X62sRzgAEDNZKZWnfYBQLFKlvsdDQNAlTCGoJ4jBEB5FnZFHzoFQF38ZeqfUAZAQeJVjyBnB0AlyEU0oX0IQAmuNdkhlAlA7ZMlfqKqCkDReRUjI8ELQLdfBcij1wxAmkX1bCTuDUA=\",\"dtype\":\"float64\",\"shape\":[49]},\"top\":[0,0,0,0,0,0,0,1,1,1,1,1,3,9,5,7,11,15,27,25,35,24,32,38,21,27,23,27,21,16,27,25,24,21,9,7,9,3,2,1,1,0,0,0,0,0,0,0,0]},\"selected\":{\"id\":\"3907\",\"type\":\"Selection\"},\"selection_policy\":{\"id\":\"3906\",\"type\":\"UnionRenderers\"}},\"id\":\"3721\",\"type\":\"ColumnDataSource\"},{\"attributes\":{},\"id\":\"3711\",\"type\":\"BasicTicker\"},{\"attributes\":{\"data_source\":{\"id\":\"3669\",\"type\":\"ColumnDataSource\"},\"glyph\":{\"id\":\"3670\",\"type\":\"Quad\"},\"hover_glyph\":null,\"muted_glyph\":null,\"nonselection_glyph\":{\"id\":\"3671\",\"type\":\"Quad\"},\"selection_glyph\":null,\"view\":{\"id\":\"3673\",\"type\":\"CDSView\"}},\"id\":\"3672\",\"type\":\"GlyphRenderer\"},{\"attributes\":{\"ticker\":{\"id\":\"3685\",\"type\":\"BasicTicker\"}},\"id\":\"3688\",\"type\":\"Grid\"},{\"attributes\":{\"source\":{\"id\":\"3669\",\"type\":\"ColumnDataSource\"}},\"id\":\"3673\",\"type\":\"CDSView\"},{\"attributes\":{\"formatter\":{\"id\":\"3896\",\"type\":\"BasicTickFormatter\"},\"ticker\":{\"id\":\"3685\",\"type\":\"BasicTicker\"}},\"id\":\"3684\",\"type\":\"LinearAxis\"},{\"attributes\":{},\"id\":\"3708\",\"type\":\"LinearScale\"},{\"attributes\":{},\"id\":\"3890\",\"type\":\"BasicTickFormatter\"},{\"attributes\":{},\"id\":\"3900\",\"type\":\"BasicTickFormatter\"},{\"attributes\":{\"active_drag\":\"auto\",\"active_inspect\":\"auto\",\"active_multi\":null,\"active_scroll\":\"auto\",\"active_tap\":\"auto\",\"tools\":[{\"id\":\"3648\",\"type\":\"HoverTool\"}]},\"id\":\"3668\",\"type\":\"Toolbar\"},{\"attributes\":{\"dimension\":1,\"ticker\":{\"id\":\"3716\",\"type\":\"BasicTicker\"}},\"id\":\"3719\",\"type\":\"Grid\"},{\"attributes\":{},\"id\":\"3906\",\"type\":\"UnionRenderers\"},{\"attributes\":{},\"id\":\"3907\",\"type\":\"Selection\"},{\"attributes\":{\"formatter\":{\"id\":\"3892\",\"type\":\"BasicTickFormatter\"},\"ticker\":{\"id\":\"3659\",\"type\":\"BasicTicker\"}},\"id\":\"3658\",\"type\":\"LinearAxis\"},{\"attributes\":{\"below\":[{\"id\":\"3710\",\"type\":\"LinearAxis\"}],\"center\":[{\"id\":\"3714\",\"type\":\"Grid\"},{\"id\":\"3719\",\"type\":\"Grid\"}],\"left\":[{\"id\":\"3715\",\"type\":\"LinearAxis\"}],\"plot_height\":350,\"plot_width\":350,\"renderers\":[{\"id\":\"3724\",\"type\":\"GlyphRenderer\"}],\"title\":{\"id\":\"3888\",\"type\":\"Title\"},\"toolbar\":{\"id\":\"3720\",\"type\":\"Toolbar\"},\"toolbar_location\":\"above\",\"x_range\":{\"id\":\"3702\",\"type\":\"DataRange1d\"},\"x_scale\":{\"id\":\"3706\",\"type\":\"LinearScale\"},\"y_range\":{\"id\":\"3704\",\"type\":\"DataRange1d\"},\"y_scale\":{\"id\":\"3708\",\"type\":\"LinearScale\"}},\"id\":\"3701\",\"subtype\":\"Figure\",\"type\":\"Plot\"},{\"attributes\":{\"below\":[{\"id\":\"3658\",\"type\":\"LinearAxis\"}],\"center\":[{\"id\":\"3662\",\"type\":\"Grid\"},{\"id\":\"3667\",\"type\":\"Grid\"}],\"left\":[{\"id\":\"3663\",\"type\":\"LinearAxis\"}],\"plot_height\":350,\"plot_width\":350,\"renderers\":[{\"id\":\"3672\",\"type\":\"GlyphRenderer\"}],\"title\":{\"id\":\"3884\",\"type\":\"Title\"},\"toolbar\":{\"id\":\"3668\",\"type\":\"Toolbar\"},\"toolbar_location\":\"above\",\"x_range\":{\"id\":\"3650\",\"type\":\"DataRange1d\"},\"x_scale\":{\"id\":\"3654\",\"type\":\"LinearScale\"},\"y_range\":{\"id\":\"3652\",\"type\":\"DataRange1d\"},\"y_scale\":{\"id\":\"3656\",\"type\":\"LinearScale\"}},\"id\":\"3649\",\"subtype\":\"Figure\",\"type\":\"Plot\"},{\"attributes\":{},\"id\":\"3892\",\"type\":\"BasicTickFormatter\"},{\"attributes\":{},\"id\":\"3905\",\"type\":\"Selection\"},{\"attributes\":{\"data_source\":{\"id\":\"3695\",\"type\":\"ColumnDataSource\"},\"glyph\":{\"id\":\"3696\",\"type\":\"Quad\"},\"hover_glyph\":null,\"muted_glyph\":null,\"nonselection_glyph\":{\"id\":\"3697\",\"type\":\"Quad\"},\"selection_glyph\":null,\"view\":{\"id\":\"3699\",\"type\":\"CDSView\"}},\"id\":\"3698\",\"type\":\"GlyphRenderer\"},{\"attributes\":{\"dimension\":1,\"ticker\":{\"id\":\"3690\",\"type\":\"BasicTicker\"}},\"id\":\"3693\",\"type\":\"Grid\"},{\"attributes\":{\"callback\":null},\"id\":\"3702\",\"type\":\"DataRange1d\"},{\"attributes\":{\"callback\":null,\"tooltips\":[[\"Value range:\",\"@left to @right\"],[\"Count\",\"@top\"]]},\"id\":\"3648\",\"type\":\"HoverTool\"},{\"attributes\":{\"bottom\":{\"value\":0},\"fill_alpha\":{\"value\":0.1},\"fill_color\":{\"value\":\"#1f77b4\"},\"left\":{\"field\":\"left\"},\"line_alpha\":{\"value\":0.1},\"line_color\":{\"value\":\"#1f77b4\"},\"right\":{\"field\":\"right\"},\"top\":{\"field\":\"top\"}},\"id\":\"3723\",\"type\":\"Quad\"},{\"attributes\":{\"ticker\":{\"id\":\"3659\",\"type\":\"BasicTicker\"}},\"id\":\"3662\",\"type\":\"Grid\"},{\"attributes\":{\"text\":\"\"},\"id\":\"3886\",\"type\":\"Title\"},{\"attributes\":{\"bottom\":{\"value\":0},\"fill_alpha\":{\"value\":0.5},\"fill_color\":{\"value\":\"navy\"},\"left\":{\"field\":\"left\"},\"line_alpha\":{\"value\":0.5},\"line_color\":{\"value\":\"white\"},\"right\":{\"field\":\"right\"},\"top\":{\"field\":\"top\"}},\"id\":\"3696\",\"type\":\"Quad\"},{\"attributes\":{\"callback\":null},\"id\":\"3676\",\"type\":\"DataRange1d\"},{\"attributes\":{\"ticker\":{\"id\":\"3711\",\"type\":\"BasicTicker\"}},\"id\":\"3714\",\"type\":\"Grid\"},{\"attributes\":{},\"id\":\"3685\",\"type\":\"BasicTicker\"},{\"attributes\":{\"text\":\"\"},\"id\":\"3888\",\"type\":\"Title\"},{\"attributes\":{},\"id\":\"3706\",\"type\":\"LinearScale\"},{\"attributes\":{\"bottom\":{\"value\":0},\"fill_alpha\":{\"value\":0.1},\"fill_color\":{\"value\":\"#1f77b4\"},\"left\":{\"field\":\"left\"},\"line_alpha\":{\"value\":0.1},\"line_color\":{\"value\":\"#1f77b4\"},\"right\":{\"field\":\"right\"},\"top\":{\"field\":\"top\"}},\"id\":\"3671\",\"type\":\"Quad\"},{\"attributes\":{},\"id\":\"3896\",\"type\":\"BasicTickFormatter\"},{\"attributes\":{\"data_source\":{\"id\":\"3721\",\"type\":\"ColumnDataSource\"},\"glyph\":{\"id\":\"3722\",\"type\":\"Quad\"},\"hover_glyph\":null,\"muted_glyph\":null,\"nonselection_glyph\":{\"id\":\"3723\",\"type\":\"Quad\"},\"selection_glyph\":null,\"view\":{\"id\":\"3725\",\"type\":\"CDSView\"}},\"id\":\"3724\",\"type\":\"GlyphRenderer\"},{\"attributes\":{\"formatter\":{\"id\":\"3898\",\"type\":\"BasicTickFormatter\"},\"ticker\":{\"id\":\"3716\",\"type\":\"BasicTicker\"}},\"id\":\"3715\",\"type\":\"LinearAxis\"},{\"attributes\":{\"callback\":null,\"data\":{\"left\":{\"__ndarray__\":\"Dbv1JHtgB8Ap1QWA+kkGwEXvFdt5MwXAYQkmNvkcBMB9IzaReAYDwJk9Ruz37wHAtFdWR3fZAMCh48xE7YX/v9kX7frrWP2/EUwNseor+79JgC1n6f74v4G0TR3o0fa/uOht0+ak9L/wHI6J5XfyvyhRrj/kSvC/wAqd68U77L8wc91Xw+Hnv6DbHcTAh+O/IIi8YHxb3r8AWT05d6fVv8BTfCPk5sm/AOv7qLP9sL+A0QD1YNKxPwDHfsk6Uco/qJI+jKLc1T/Iwb2zp5DeP3R4nm1WouM/BBBeAVn85z+Upx2VW1bsP5KfbhQvWPA/WmtOXjCF8j8iNy6oMbL0P+oCDvIy3/Y/ss7tOzQM+T96ms2FNTn7P0Jmrc82Zv0/CjKNGTiT/z/pfraxHOAAQM1kplad9gFAsUqW+x0NA0CVMIagniMEQHkWdkUfOgVAXfxl6p9QBkBB4lWPIGcHQCXIRTShfQhACa412SGUCUDtkyV+oqoKQNF5FSMjwQtAt18FyKPXDEA=\",\"dtype\":\"float64\",\"shape\":[49]},\"right\":{\"__ndarray__\":\"KdUFgPpJBsBF7xXbeTMFwGEJJjb5HATAfSM2kXgGA8CZPUbs9+8BwLRXVkd32QDAoePMRO2F/7/ZF+3661j9vxFMDbHqK/u/SYAtZ+n++L+BtE0d6NH2v7jobdPmpPS/8ByOieV38r8oUa4/5Erwv8AKnevFO+y/MHPdV8Ph57+g2x3EwIfjvyCIvGB8W96/AFk9OXen1b/AU3wj5ObJvwDr+6iz/bC/gNEA9WDSsT8Ax37JOlHKP6iSPoyi3NU/yMG9s6eQ3j90eJ5tVqLjPwQQXgFZ/Oc/lKcdlVtW7D+Sn24UL1jwP1prTl4whfI/IjcuqDGy9D/qAg7yMt/2P7LO7Ts0DPk/eprNhTU5+z9CZq3PNmb9PwoyjRk4k/8/6X62sRzgAEDNZKZWnfYBQLFKlvsdDQNAlTCGoJ4jBEB5FnZFHzoFQF38ZeqfUAZAQeJVjyBnB0AlyEU0oX0IQAmuNdkhlAlA7ZMlfqKqCkDReRUjI8ELQLdfBcij1wxAmkX1bCTuDUA=\",\"dtype\":\"float64\",\"shape\":[49]},\"top\":[0,0,0,0,0,0,0,0,0,0,0,0,1,2,0,6,4,14,33,21,27,22,31,19,25,22,28,25,28,28,26,21,16,15,18,17,5,16,10,9,5,6,0,0,0,0,0,0,0]},\"selected\":{\"id\":\"3903\",\"type\":\"Selection\"},\"selection_policy\":{\"id\":\"3902\",\"type\":\"UnionRenderers\"}},\"id\":\"3669\",\"type\":\"ColumnDataSource\"},{\"attributes\":{\"source\":{\"id\":\"3695\",\"type\":\"ColumnDataSource\"}},\"id\":\"3699\",\"type\":\"CDSView\"},{\"attributes\":{\"bottom\":{\"value\":0},\"fill_alpha\":{\"value\":0.1},\"fill_color\":{\"value\":\"#1f77b4\"},\"left\":{\"field\":\"left\"},\"line_alpha\":{\"value\":0.1},\"line_color\":{\"value\":\"#1f77b4\"},\"right\":{\"field\":\"right\"},\"top\":{\"field\":\"top\"}},\"id\":\"3697\",\"type\":\"Quad\"},{\"attributes\":{},\"id\":\"3904\",\"type\":\"UnionRenderers\"},{\"attributes\":{},\"id\":\"3902\",\"type\":\"UnionRenderers\"},{\"attributes\":{},\"id\":\"3682\",\"type\":\"LinearScale\"},{\"attributes\":{\"callback\":null,\"start\":0},\"id\":\"3652\",\"type\":\"DataRange1d\"},{\"attributes\":{\"formatter\":{\"id\":\"3900\",\"type\":\"BasicTickFormatter\"},\"ticker\":{\"id\":\"3711\",\"type\":\"BasicTicker\"}},\"id\":\"3710\",\"type\":\"LinearAxis\"},{\"attributes\":{\"callback\":null,\"data\":{\"left\":{\"__ndarray__\":\"Dbv1JHtgB8Ap1QWA+kkGwEXvFdt5MwXAYQkmNvkcBMB9IzaReAYDwJk9Ruz37wHAtFdWR3fZAMCh48xE7YX/v9kX7frrWP2/EUwNseor+79JgC1n6f74v4G0TR3o0fa/uOht0+ak9L/wHI6J5XfyvyhRrj/kSvC/wAqd68U77L8wc91Xw+Hnv6DbHcTAh+O/IIi8YHxb3r8AWT05d6fVv8BTfCPk5sm/AOv7qLP9sL+A0QD1YNKxPwDHfsk6Uco/qJI+jKLc1T/Iwb2zp5DeP3R4nm1WouM/BBBeAVn85z+Upx2VW1bsP5KfbhQvWPA/WmtOXjCF8j8iNy6oMbL0P+oCDvIy3/Y/ss7tOzQM+T96ms2FNTn7P0Jmrc82Zv0/CjKNGTiT/z/pfraxHOAAQM1kplad9gFAsUqW+x0NA0CVMIagniMEQHkWdkUfOgVAXfxl6p9QBkBB4lWPIGcHQCXIRTShfQhACa412SGUCUDtkyV+oqoKQNF5FSMjwQtAt18FyKPXDEA=\",\"dtype\":\"float64\",\"shape\":[49]},\"right\":{\"__ndarray__\":\"KdUFgPpJBsBF7xXbeTMFwGEJJjb5HATAfSM2kXgGA8CZPUbs9+8BwLRXVkd32QDAoePMRO2F/7/ZF+3661j9vxFMDbHqK/u/SYAtZ+n++L+BtE0d6NH2v7jobdPmpPS/8ByOieV38r8oUa4/5Erwv8AKnevFO+y/MHPdV8Ph57+g2x3EwIfjvyCIvGB8W96/AFk9OXen1b/AU3wj5ObJvwDr+6iz/bC/gNEA9WDSsT8Ax37JOlHKP6iSPoyi3NU/yMG9s6eQ3j90eJ5tVqLjPwQQXgFZ/Oc/lKcdlVtW7D+Sn24UL1jwP1prTl4whfI/IjcuqDGy9D/qAg7yMt/2P7LO7Ts0DPk/eprNhTU5+z9CZq3PNmb9PwoyjRk4k/8/6X62sRzgAEDNZKZWnfYBQLFKlvsdDQNAlTCGoJ4jBEB5FnZFHzoFQF38ZeqfUAZAQeJVjyBnB0AlyEU0oX0IQAmuNdkhlAlA7ZMlfqKqCkDReRUjI8ELQLdfBcij1wxAmkX1bCTuDUA=\",\"dtype\":\"float64\",\"shape\":[49]},\"top\":[0,0,0,0,0,0,0,0,0,0,0,0,4,2,3,9,13,11,24,21,18,30,34,26,33,18,16,25,24,28,19,18,23,11,25,15,21,14,7,5,3,0,0,0,0,0,0,0,0]},\"selected\":{\"id\":\"3905\",\"type\":\"Selection\"},\"selection_policy\":{\"id\":\"3904\",\"type\":\"UnionRenderers\"}},\"id\":\"3695\",\"type\":\"ColumnDataSource\"},{\"attributes\":{\"bottom\":{\"value\":0},\"fill_alpha\":{\"value\":0.5},\"fill_color\":{\"value\":\"navy\"},\"left\":{\"field\":\"left\"},\"line_alpha\":{\"value\":0.5},\"line_color\":{\"value\":\"white\"},\"right\":{\"field\":\"right\"},\"top\":{\"field\":\"top\"}},\"id\":\"3670\",\"type\":\"Quad\"},{\"attributes\":{\"bottom\":{\"value\":0},\"fill_alpha\":{\"value\":0.5},\"fill_color\":{\"value\":\"navy\"},\"left\":{\"field\":\"left\"},\"line_alpha\":{\"value\":0.5},\"line_color\":{\"value\":\"white\"},\"right\":{\"field\":\"right\"},\"top\":{\"field\":\"top\"}},\"id\":\"3722\",\"type\":\"Quad\"},{\"attributes\":{\"source\":{\"id\":\"3721\",\"type\":\"ColumnDataSource\"}},\"id\":\"3725\",\"type\":\"CDSView\"},{\"attributes\":{\"dimension\":1,\"ticker\":{\"id\":\"3664\",\"type\":\"BasicTicker\"}},\"id\":\"3667\",\"type\":\"Grid\"},{\"attributes\":{\"formatter\":{\"id\":\"3894\",\"type\":\"BasicTickFormatter\"},\"ticker\":{\"id\":\"3690\",\"type\":\"BasicTicker\"}},\"id\":\"3689\",\"type\":\"LinearAxis\"},{\"attributes\":{},\"id\":\"3894\",\"type\":\"BasicTickFormatter\"},{\"attributes\":{\"active_drag\":\"auto\",\"active_inspect\":\"auto\",\"active_multi\":null,\"active_scroll\":\"auto\",\"active_tap\":\"auto\",\"tools\":[{\"id\":\"3648\",\"type\":\"HoverTool\"}]},\"id\":\"3694\",\"type\":\"Toolbar\"},{\"attributes\":{},\"id\":\"3716\",\"type\":\"BasicTicker\"},{\"attributes\":{\"callback\":null},\"id\":\"3650\",\"type\":\"DataRange1d\"},{\"attributes\":{},\"id\":\"3903\",\"type\":\"Selection\"}],\"root_ids\":[\"3727\"]},\"title\":\"Bokeh Application\",\"version\":\"1.4.0\"}};\n",
       "  var render_items = [{\"docid\":\"a1a88c7d-f8ac-4d91-b0c7-998b3e1a1672\",\"roots\":{\"3727\":\"712a395d-82b3-4beb-a465-acf446219b1b\"}}];\n",
       "  root.Bokeh.embed.embed_items_notebook(docs_json, render_items);\n",
       "\n",
       "  }\n",
       "  if (root.Bokeh !== undefined) {\n",
       "    embed_document(root);\n",
       "  } else {\n",
       "    var attempts = 0;\n",
       "    var timer = setInterval(function(root) {\n",
       "      if (root.Bokeh !== undefined) {\n",
       "        clearInterval(timer);\n",
       "        embed_document(root);\n",
       "      } else {\n",
       "        attempts++;\n",
       "        if (attempts > 100) {\n",
       "          clearInterval(timer);\n",
       "          console.log(\"Bokeh: ERROR: Unable to run BokehJS code because BokehJS library is missing\");\n",
       "        }\n",
       "      }\n",
       "    }, 10, root)\n",
       "  }\n",
       "})(window);"
      ],
      "application/vnd.bokehjs_exec.v0+json": ""
     },
     "metadata": {
      "application/vnd.bokehjs_exec.v0+json": {
       "id": "3727"
      }
     },
     "output_type": "display_data"
    }
   ],
   "source": [
    "show(row(figs))"
   ]
  },
  {
   "cell_type": "markdown",
   "metadata": {
    "slideshow": {
     "slide_type": "fragment"
    }
   },
   "source": [
    "It looks like the three samples have different modes, although drawn from the same population."
   ]
  },
  {
   "cell_type": "markdown",
   "metadata": {
    "slideshow": {
     "slide_type": "subslide"
    }
   },
   "source": [
    "#### Statistical testing"
   ]
  },
  {
   "cell_type": "markdown",
   "metadata": {
    "slideshow": {
     "slide_type": "fragment"
    }
   },
   "source": [
    "We can test the three samples for their mean values. There is the:\n",
    "\n",
    "* **T-Test**, that can test a single sample for a specific mean, \n",
    "* **Two-sided T-Test** that can be used to compare two samples for mean equality and\n",
    "* **paired T-Test** for comparing two dependent samples"
   ]
  },
  {
   "cell_type": "markdown",
   "metadata": {
    "slideshow": {
     "slide_type": "fragment"
    }
   },
   "source": [
    "Each test works by defining a **null hypothesis** that assumes means to be non-different. Then, we calculate a **test statistic value** that is associated with a probability. If this probability is lower than a **confidence level**, we have to **reject** the null hypothesis in favor of a alternative hypothesis."
   ]
  },
  {
   "cell_type": "markdown",
   "metadata": {
    "slideshow": {
     "slide_type": "subslide"
    }
   },
   "source": [
    "**Null hypothesis**:&nbsp;&nbsp;&nbsp;&nbsp;&nbsp;&nbsp;&nbsp;&nbsp;&nbsp;&nbsp;&nbsp;&nbsp;&nbsp;&nbsp;&nbsp;$\\mu_{sample1} = \\mu_{sample2}$\n",
    "\n",
    "**Alternative hypothesis**:&nbsp;&nbsp;&nbsp;$\\mu_{sample1} \\neq \\mu_{sample2}$\n",
    "\n",
    "**Confidence level**:&nbsp;&nbsp;&nbsp;&nbsp;&nbsp;&nbsp;&nbsp;&nbsp;&nbsp;&nbsp;&nbsp;&nbsp;&nbsp;$0.05$"
   ]
  },
  {
   "cell_type": "code",
   "execution_count": 23,
   "metadata": {
    "slideshow": {
     "slide_type": "fragment"
    }
   },
   "outputs": [
    {
     "name": "stdout",
     "output_type": "stream",
     "text": [
      "Sample 1 - Sample 2 p-value:     0.331\n",
      "Sample 2 - Sample 3 p-value:     7.66348e-05\n"
     ]
    }
   ],
   "source": [
    "print('Sample 1 - Sample 2 p-value:     %.3f' % stats.ttest_ind(sample1, sample2).pvalue)\n",
    "print('Sample 2 - Sample 3 p-value:     %g' % stats.ttest_ind(sample2, sample3).pvalue)"
   ]
  },
  {
   "cell_type": "markdown",
   "metadata": {
    "slideshow": {
     "slide_type": "fragment"
    }
   },
   "source": [
    "Thus, we can conclude, that for sample 1 and 2 the null hypothesis holds, while for 2 and 3 we have to **reject** it."
   ]
  },
  {
   "cell_type": "markdown",
   "metadata": {
    "slideshow": {
     "slide_type": "subslide"
    }
   },
   "source": [
    "One reason might be, that we treated the samples as a univariate dataset with independent observations. In fact, the data has an **order**. This becomes obvious if we plot the obersavtions in order of occurence:"
   ]
  },
  {
   "cell_type": "code",
   "execution_count": 24,
   "metadata": {
    "slideshow": {
     "slide_type": "skip"
    }
   },
   "outputs": [],
   "source": [
    "series = figure(tools=[], width=700, height=350)\n",
    "series.line(range(500), sample1, legend_label='Sample 1', color='green')\n",
    "series.line(range(500), sample2, legend_label='Sample 2', color='orange')\n",
    "series.line(range(500), sample3, legend_label='Sample 3', color='darkblue')\n",
    "series.legend.click_policy = 'hide'\n",
    "series.legend.location = 'bottom_left'\n",
    "series.legend.orientation = 'horizontal'"
   ]
  },
  {
   "cell_type": "code",
   "execution_count": 25,
   "metadata": {
    "slideshow": {
     "slide_type": "subslide"
    }
   },
   "outputs": [
    {
     "data": {
      "text/html": [
       "\n",
       "\n",
       "\n",
       "\n",
       "\n",
       "\n",
       "  <div class=\"bk-root\" id=\"679e56e7-f45a-476e-97ce-721a9a165de5\" data-root-id=\"1971\"></div>\n"
      ]
     },
     "metadata": {},
     "output_type": "display_data"
    },
    {
     "data": {
      "application/javascript": [
       "(function(root) {\n",
       "  function embed_document(root) {\n",
       "    \n",
       "  var docs_json = {\"eed814bf-9af2-460a-86ed-a2d28af8f6d9\":{\"roots\":{\"references\":[{\"attributes\":{\"below\":[{\"id\":\"1980\",\"type\":\"LinearAxis\"}],\"center\":[{\"id\":\"1984\",\"type\":\"Grid\"},{\"id\":\"1989\",\"type\":\"Grid\"},{\"id\":\"2002\",\"type\":\"Legend\"}],\"left\":[{\"id\":\"1985\",\"type\":\"LinearAxis\"}],\"plot_height\":350,\"plot_width\":700,\"renderers\":[{\"id\":\"1994\",\"type\":\"GlyphRenderer\"},{\"id\":\"2007\",\"type\":\"GlyphRenderer\"},{\"id\":\"2021\",\"type\":\"GlyphRenderer\"}],\"title\":{\"id\":\"1996\",\"type\":\"Title\"},\"toolbar\":{\"id\":\"1990\",\"type\":\"Toolbar\"},\"x_range\":{\"id\":\"1972\",\"type\":\"DataRange1d\"},\"x_scale\":{\"id\":\"1976\",\"type\":\"LinearScale\"},\"y_range\":{\"id\":\"1974\",\"type\":\"DataRange1d\"},\"y_scale\":{\"id\":\"1978\",\"type\":\"LinearScale\"}},\"id\":\"1971\",\"subtype\":\"Figure\",\"type\":\"Plot\"},{\"attributes\":{},\"id\":\"2000\",\"type\":\"BasicTickFormatter\"},{\"attributes\":{\"label\":{\"value\":\"Sample 1\"},\"renderers\":[{\"id\":\"1994\",\"type\":\"GlyphRenderer\"}]},\"id\":\"2003\",\"type\":\"LegendItem\"},{\"attributes\":{\"formatter\":{\"id\":\"1998\",\"type\":\"BasicTickFormatter\"},\"ticker\":{\"id\":\"1986\",\"type\":\"BasicTicker\"}},\"id\":\"1985\",\"type\":\"LinearAxis\"},{\"attributes\":{\"data_source\":{\"id\":\"2018\",\"type\":\"ColumnDataSource\"},\"glyph\":{\"id\":\"2019\",\"type\":\"Line\"},\"hover_glyph\":null,\"muted_glyph\":null,\"nonselection_glyph\":{\"id\":\"2020\",\"type\":\"Line\"},\"selection_glyph\":null,\"view\":{\"id\":\"2022\",\"type\":\"CDSView\"}},\"id\":\"2021\",\"type\":\"GlyphRenderer\"},{\"attributes\":{},\"id\":\"1986\",\"type\":\"BasicTicker\"},{\"attributes\":{},\"id\":\"2116\",\"type\":\"UnionRenderers\"},{\"attributes\":{},\"id\":\"1981\",\"type\":\"BasicTicker\"},{\"attributes\":{\"callback\":null,\"data\":{\"x\":[0,1,2,3,4,5,6,7,8,9,10,11,12,13,14,15,16,17,18,19,20,21,22,23,24,25,26,27,28,29,30,31,32,33,34,35,36,37,38,39,40,41,42,43,44,45,46,47,48,49,50,51,52,53,54,55,56,57,58,59,60,61,62,63,64,65,66,67,68,69,70,71,72,73,74,75,76,77,78,79,80,81,82,83,84,85,86,87,88,89,90,91,92,93,94,95,96,97,98,99,100,101,102,103,104,105,106,107,108,109,110,111,112,113,114,115,116,117,118,119,120,121,122,123,124,125,126,127,128,129,130,131,132,133,134,135,136,137,138,139,140,141,142,143,144,145,146,147,148,149,150,151,152,153,154,155,156,157,158,159,160,161,162,163,164,165,166,167,168,169,170,171,172,173,174,175,176,177,178,179,180,181,182,183,184,185,186,187,188,189,190,191,192,193,194,195,196,197,198,199,200,201,202,203,204,205,206,207,208,209,210,211,212,213,214,215,216,217,218,219,220,221,222,223,224,225,226,227,228,229,230,231,232,233,234,235,236,237,238,239,240,241,242,243,244,245,246,247,248,249,250,251,252,253,254,255,256,257,258,259,260,261,262,263,264,265,266,267,268,269,270,271,272,273,274,275,276,277,278,279,280,281,282,283,284,285,286,287,288,289,290,291,292,293,294,295,296,297,298,299,300,301,302,303,304,305,306,307,308,309,310,311,312,313,314,315,316,317,318,319,320,321,322,323,324,325,326,327,328,329,330,331,332,333,334,335,336,337,338,339,340,341,342,343,344,345,346,347,348,349,350,351,352,353,354,355,356,357,358,359,360,361,362,363,364,365,366,367,368,369,370,371,372,373,374,375,376,377,378,379,380,381,382,383,384,385,386,387,388,389,390,391,392,393,394,395,396,397,398,399,400,401,402,403,404,405,406,407,408,409,410,411,412,413,414,415,416,417,418,419,420,421,422,423,424,425,426,427,428,429,430,431,432,433,434,435,436,437,438,439,440,441,442,443,444,445,446,447,448,449,450,451,452,453,454,455,456,457,458,459,460,461,462,463,464,465,466,467,468,469,470,471,472,473,474,475,476,477,478,479,480,481,482,483,484,485,486,487,488,489,490,491,492,493,494,495,496,497,498,499],\"y\":{\"__ndarray__\":\"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\",\"dtype\":\"float64\",\"shape\":[500]}},\"selected\":{\"id\":\"2117\",\"type\":\"Selection\"},\"selection_policy\":{\"id\":\"2116\",\"type\":\"UnionRenderers\"}},\"id\":\"2018\",\"type\":\"ColumnDataSource\"},{\"attributes\":{\"label\":{\"value\":\"Sample 3\"},\"renderers\":[{\"id\":\"2021\",\"type\":\"GlyphRenderer\"}]},\"id\":\"2033\",\"type\":\"LegendItem\"},{\"attributes\":{\"line_color\":\"green\",\"x\":{\"field\":\"x\"},\"y\":{\"field\":\"y\"}},\"id\":\"1992\",\"type\":\"Line\"},{\"attributes\":{\"dimension\":1,\"ticker\":{\"id\":\"1986\",\"type\":\"BasicTicker\"}},\"id\":\"1989\",\"type\":\"Grid\"},{\"attributes\":{\"line_color\":\"orange\",\"x\":{\"field\":\"x\"},\"y\":{\"field\":\"y\"}},\"id\":\"2005\",\"type\":\"Line\"},{\"attributes\":{\"active_drag\":\"auto\",\"active_inspect\":\"auto\",\"active_multi\":null,\"active_scroll\":\"auto\",\"active_tap\":\"auto\"},\"id\":\"1990\",\"type\":\"Toolbar\"},{\"attributes\":{\"line_alpha\":0.1,\"line_color\":\"#1f77b4\",\"x\":{\"field\":\"x\"},\"y\":{\"field\":\"y\"}},\"id\":\"2020\",\"type\":\"Line\"},{\"attributes\":{},\"id\":\"2015\",\"type\":\"UnionRenderers\"},{\"attributes\":{\"callback\":null,\"data\":{\"x\":[0,1,2,3,4,5,6,7,8,9,10,11,12,13,14,15,16,17,18,19,20,21,22,23,24,25,26,27,28,29,30,31,32,33,34,35,36,37,38,39,40,41,42,43,44,45,46,47,48,49,50,51,52,53,54,55,56,57,58,59,60,61,62,63,64,65,66,67,68,69,70,71,72,73,74,75,76,77,78,79,80,81,82,83,84,85,86,87,88,89,90,91,92,93,94,95,96,97,98,99,100,101,102,103,104,105,106,107,108,109,110,111,112,113,114,115,116,117,118,119,120,121,122,123,124,125,126,127,128,129,130,131,132,133,134,135,136,137,138,139,140,141,142,143,144,145,146,147,148,149,150,151,152,153,154,155,156,157,158,159,160,161,162,163,164,165,166,167,168,169,170,171,172,173,174,175,176,177,178,179,180,181,182,183,184,185,186,187,188,189,190,191,192,193,194,195,196,197,198,199,200,201,202,203,204,205,206,207,208,209,210,211,212,213,214,215,216,217,218,219,220,221,222,223,224,225,226,227,228,229,230,231,232,233,234,235,236,237,238,239,240,241,242,243,244,245,246,247,248,249,250,251,252,253,254,255,256,257,258,259,260,261,262,263,264,265,266,267,268,269,270,271,272,273,274,275,276,277,278,279,280,281,282,283,284,285,286,287,288,289,290,291,292,293,294,295,296,297,298,299,300,301,302,303,304,305,306,307,308,309,310,311,312,313,314,315,316,317,318,319,320,321,322,323,324,325,326,327,328,329,330,331,332,333,334,335,336,337,338,339,340,341,342,343,344,345,346,347,348,349,350,351,352,353,354,355,356,357,358,359,360,361,362,363,364,365,366,367,368,369,370,371,372,373,374,375,376,377,378,379,380,381,382,383,384,385,386,387,388,389,390,391,392,393,394,395,396,397,398,399,400,401,402,403,404,405,406,407,408,409,410,411,412,413,414,415,416,417,418,419,420,421,422,423,424,425,426,427,428,429,430,431,432,433,434,435,436,437,438,439,440,441,442,443,444,445,446,447,448,449,450,451,452,453,454,455,456,457,458,459,460,461,462,463,464,465,466,467,468,469,470,471,472,473,474,475,476,477,478,479,480,481,482,483,484,485,486,487,488,489,490,491,492,493,494,495,496,497,498,499],\"y\":{\"__ndarray__\":\"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\",\"dtype\":\"float64\",\"shape\":[500]}},\"selected\":{\"id\":\"2016\",\"type\":\"Selection\"},\"selection_policy\":{\"id\":\"2015\",\"type\":\"UnionRenderers\"}},\"id\":\"1991\",\"type\":\"ColumnDataSource\"},{\"attributes\":{\"line_alpha\":0.1,\"line_color\":\"#1f77b4\",\"x\":{\"field\":\"x\"},\"y\":{\"field\":\"y\"}},\"id\":\"2006\",\"type\":\"Line\"},{\"attributes\":{},\"id\":\"2032\",\"type\":\"Selection\"},{\"attributes\":{\"data_source\":{\"id\":\"2004\",\"type\":\"ColumnDataSource\"},\"glyph\":{\"id\":\"2005\",\"type\":\"Line\"},\"hover_glyph\":null,\"muted_glyph\":null,\"nonselection_glyph\":{\"id\":\"2006\",\"type\":\"Line\"},\"selection_glyph\":null,\"view\":{\"id\":\"2008\",\"type\":\"CDSView\"}},\"id\":\"2007\",\"type\":\"GlyphRenderer\"},{\"attributes\":{\"callback\":null},\"id\":\"1974\",\"type\":\"DataRange1d\"},{\"attributes\":{\"source\":{\"id\":\"2018\",\"type\":\"ColumnDataSource\"}},\"id\":\"2022\",\"type\":\"CDSView\"},{\"attributes\":{\"formatter\":{\"id\":\"2000\",\"type\":\"BasicTickFormatter\"},\"ticker\":{\"id\":\"1981\",\"type\":\"BasicTicker\"}},\"id\":\"1980\",\"type\":\"LinearAxis\"},{\"attributes\":{\"line_alpha\":0.1,\"line_color\":\"#1f77b4\",\"x\":{\"field\":\"x\"},\"y\":{\"field\":\"y\"}},\"id\":\"1993\",\"type\":\"Line\"},{\"attributes\":{\"callback\":null,\"data\":{\"x\":[0,1,2,3,4,5,6,7,8,9,10,11,12,13,14,15,16,17,18,19,20,21,22,23,24,25,26,27,28,29,30,31,32,33,34,35,36,37,38,39,40,41,42,43,44,45,46,47,48,49,50,51,52,53,54,55,56,57,58,59,60,61,62,63,64,65,66,67,68,69,70,71,72,73,74,75,76,77,78,79,80,81,82,83,84,85,86,87,88,89,90,91,92,93,94,95,96,97,98,99,100,101,102,103,104,105,106,107,108,109,110,111,112,113,114,115,116,117,118,119,120,121,122,123,124,125,126,127,128,129,130,131,132,133,134,135,136,137,138,139,140,141,142,143,144,145,146,147,148,149,150,151,152,153,154,155,156,157,158,159,160,161,162,163,164,165,166,167,168,169,170,171,172,173,174,175,176,177,178,179,180,181,182,183,184,185,186,187,188,189,190,191,192,193,194,195,196,197,198,199,200,201,202,203,204,205,206,207,208,209,210,211,212,213,214,215,216,217,218,219,220,221,222,223,224,225,226,227,228,229,230,231,232,233,234,235,236,237,238,239,240,241,242,243,244,245,246,247,248,249,250,251,252,253,254,255,256,257,258,259,260,261,262,263,264,265,266,267,268,269,270,271,272,273,274,275,276,277,278,279,280,281,282,283,284,285,286,287,288,289,290,291,292,293,294,295,296,297,298,299,300,301,302,303,304,305,306,307,308,309,310,311,312,313,314,315,316,317,318,319,320,321,322,323,324,325,326,327,328,329,330,331,332,333,334,335,336,337,338,339,340,341,342,343,344,345,346,347,348,349,350,351,352,353,354,355,356,357,358,359,360,361,362,363,364,365,366,367,368,369,370,371,372,373,374,375,376,377,378,379,380,381,382,383,384,385,386,387,388,389,390,391,392,393,394,395,396,397,398,399,400,401,402,403,404,405,406,407,408,409,410,411,412,413,414,415,416,417,418,419,420,421,422,423,424,425,426,427,428,429,430,431,432,433,434,435,436,437,438,439,440,441,442,443,444,445,446,447,448,449,450,451,452,453,454,455,456,457,458,459,460,461,462,463,464,465,466,467,468,469,470,471,472,473,474,475,476,477,478,479,480,481,482,483,484,485,486,487,488,489,490,491,492,493,494,495,496,497,498,499],\"y\":{\"__ndarray__\":\"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\",\"dtype\":\"float64\",\"shape\":[500]}},\"selected\":{\"id\":\"2032\",\"type\":\"Selection\"},\"selection_policy\":{\"id\":\"2031\",\"type\":\"UnionRenderers\"}},\"id\":\"2004\",\"type\":\"ColumnDataSource\"},{\"attributes\":{\"data_source\":{\"id\":\"1991\",\"type\":\"ColumnDataSource\"},\"glyph\":{\"id\":\"1992\",\"type\":\"Line\"},\"hover_glyph\":null,\"muted_glyph\":null,\"nonselection_glyph\":{\"id\":\"1993\",\"type\":\"Line\"},\"selection_glyph\":null,\"view\":{\"id\":\"1995\",\"type\":\"CDSView\"}},\"id\":\"1994\",\"type\":\"GlyphRenderer\"},{\"attributes\":{\"ticker\":{\"id\":\"1981\",\"type\":\"BasicTicker\"}},\"id\":\"1984\",\"type\":\"Grid\"},{\"attributes\":{},\"id\":\"2016\",\"type\":\"Selection\"},{\"attributes\":{\"text\":\"\"},\"id\":\"1996\",\"type\":\"Title\"},{\"attributes\":{\"callback\":null},\"id\":\"1972\",\"type\":\"DataRange1d\"},{\"attributes\":{\"source\":{\"id\":\"2004\",\"type\":\"ColumnDataSource\"}},\"id\":\"2008\",\"type\":\"CDSView\"},{\"attributes\":{\"line_color\":\"darkblue\",\"x\":{\"field\":\"x\"},\"y\":{\"field\":\"y\"}},\"id\":\"2019\",\"type\":\"Line\"},{\"attributes\":{},\"id\":\"2117\",\"type\":\"Selection\"},{\"attributes\":{\"source\":{\"id\":\"1991\",\"type\":\"ColumnDataSource\"}},\"id\":\"1995\",\"type\":\"CDSView\"},{\"attributes\":{\"label\":{\"value\":\"Sample 2\"},\"renderers\":[{\"id\":\"2007\",\"type\":\"GlyphRenderer\"}]},\"id\":\"2017\",\"type\":\"LegendItem\"},{\"attributes\":{},\"id\":\"1976\",\"type\":\"LinearScale\"},{\"attributes\":{},\"id\":\"1998\",\"type\":\"BasicTickFormatter\"},{\"attributes\":{\"click_policy\":\"hide\",\"items\":[{\"id\":\"2003\",\"type\":\"LegendItem\"},{\"id\":\"2017\",\"type\":\"LegendItem\"},{\"id\":\"2033\",\"type\":\"LegendItem\"}],\"location\":\"bottom_left\",\"orientation\":\"horizontal\"},\"id\":\"2002\",\"type\":\"Legend\"},{\"attributes\":{},\"id\":\"2031\",\"type\":\"UnionRenderers\"},{\"attributes\":{},\"id\":\"1978\",\"type\":\"LinearScale\"}],\"root_ids\":[\"1971\"]},\"title\":\"Bokeh Application\",\"version\":\"1.4.0\"}};\n",
       "  var render_items = [{\"docid\":\"eed814bf-9af2-460a-86ed-a2d28af8f6d9\",\"roots\":{\"1971\":\"679e56e7-f45a-476e-97ce-721a9a165de5\"}}];\n",
       "  root.Bokeh.embed.embed_items_notebook(docs_json, render_items);\n",
       "\n",
       "  }\n",
       "  if (root.Bokeh !== undefined) {\n",
       "    embed_document(root);\n",
       "  } else {\n",
       "    var attempts = 0;\n",
       "    var timer = setInterval(function(root) {\n",
       "      if (root.Bokeh !== undefined) {\n",
       "        clearInterval(timer);\n",
       "        embed_document(root);\n",
       "      } else {\n",
       "        attempts++;\n",
       "        if (attempts > 100) {\n",
       "          clearInterval(timer);\n",
       "          console.log(\"Bokeh: ERROR: Unable to run BokehJS code because BokehJS library is missing\");\n",
       "        }\n",
       "      }\n",
       "    }, 10, root)\n",
       "  }\n",
       "})(window);"
      ],
      "application/vnd.bokehjs_exec.v0+json": ""
     },
     "metadata": {
      "application/vnd.bokehjs_exec.v0+json": {
       "id": "1971"
      }
     },
     "output_type": "display_data"
    }
   ],
   "source": [
    "show(series)"
   ]
  },
  {
   "cell_type": "markdown",
   "metadata": {
    "slideshow": {
     "slide_type": "fragment"
    }
   },
   "source": [
    "It is quite obvious, that the samples are **multivariate** and the value on the y-axis **depends** on the x-axis value. \n",
    "The x-axis could i.e. show **time** (time series) or **distance** (transect). "
   ]
  }
 ],
 "metadata": {
  "celltoolbar": "Slideshow",
  "finalized": {
   "timestamp": 1588748782351,
   "trusted": false
  },
  "kernelspec": {
   "display_name": "Python 3",
   "language": "python",
   "name": "python3"
  },
  "language_info": {
   "codemirror_mode": {
    "name": "ipython",
    "version": 3
   },
   "file_extension": ".py",
   "mimetype": "text/x-python",
   "name": "python",
   "nbconvert_exporter": "python",
   "pygments_lexer": "ipython3",
   "version": "3.7.7"
  },
  "widgets": {
   "application/vnd.jupyter.widget-state+json": {
    "state": {
     "00b1268757b2448cacff7f52312b3ca3": {
      "model_module": "@jupyter-widgets/base",
      "model_module_version": "1.2.0",
      "model_name": "LayoutModel",
      "state": {}
     },
     "05bf79a6180f4a31a8ee0ce82f49a905": {
      "model_module": "@jupyter-widgets/controls",
      "model_module_version": "1.5.0",
      "model_name": "VBoxModel",
      "state": {
       "_dom_classes": [
        "widget-interact"
       ],
       "children": [
        "IPY_MODEL_093934ba1e1e44819583abda18210493",
        "IPY_MODEL_85bab2e90e2742359610a466e6f5a6d3",
        "IPY_MODEL_29ce955867564ca1ad84887d0fc058ad"
       ],
       "layout": "IPY_MODEL_35d4b3e8d5d84636afe08007f9983a93"
      }
     },
     "07156e1aa4b141e09ac6d97704544546": {
      "model_module": "@jupyter-widgets/controls",
      "model_module_version": "1.5.0",
      "model_name": "ButtonStyleModel",
      "state": {}
     },
     "093934ba1e1e44819583abda18210493": {
      "model_module": "@jupyter-widgets/controls",
      "model_module_version": "1.5.0",
      "model_name": "IntSliderModel",
      "state": {
       "description": "n",
       "layout": "IPY_MODEL_62ba20b6ba7e46ec9c46d41983615f8c",
       "max": 450,
       "min": 10,
       "style": "IPY_MODEL_c1635c10da9c40a49490a221b43a3b96",
       "value": 230
      }
     },
     "101704cc53aa448485974f61f55209f1": {
      "model_module": "@jupyter-widgets/controls",
      "model_module_version": "1.5.0",
      "model_name": "SliderStyleModel",
      "state": {
       "description_width": ""
      }
     },
     "197b055f7cdd4b25babb9428fdcc48b1": {
      "model_module": "@jupyter-widgets/base",
      "model_module_version": "1.2.0",
      "model_name": "LayoutModel",
      "state": {}
     },
     "1b1b82c59efe47d59718d1898837fa85": {
      "model_module": "@jupyter-widgets/base",
      "model_module_version": "1.2.0",
      "model_name": "LayoutModel",
      "state": {}
     },
     "1c935ce9b3d24d04a4bd5c30edbf6bee": {
      "model_module": "@jupyter-widgets/controls",
      "model_module_version": "1.5.0",
      "model_name": "VBoxModel",
      "state": {
       "_dom_classes": [
        "widget-interact"
       ],
       "children": [
        "IPY_MODEL_f63b49f106a049dd8213060724ca8f6a",
        "IPY_MODEL_c3ff4831430e496ca970de585cbf40ec",
        "IPY_MODEL_5bf48b59cd7c4902ba878fde89e6cb21"
       ],
       "layout": "IPY_MODEL_3e8e124fb0574c10a795250dfff7d52b"
      }
     },
     "1f119e4404df48739357d23d1602d794": {
      "model_module": "@jupyter-widgets/base",
      "model_module_version": "1.2.0",
      "model_name": "LayoutModel",
      "state": {}
     },
     "25fc6bc2af8e4703935b7a5387e57cd1": {
      "model_module": "@jupyter-widgets/controls",
      "model_module_version": "1.5.0",
      "model_name": "VBoxModel",
      "state": {
       "_dom_classes": [
        "widget-interact"
       ],
       "children": [
        "IPY_MODEL_e726b79447ba47a7b2d413cbaf439f89",
        "IPY_MODEL_f5da2bc5f268467285ce71c8887acb37",
        "IPY_MODEL_65ba9bc70a40488799ba7936792ef5b4"
       ],
       "layout": "IPY_MODEL_e3a6ba652fb14038b911889264340701"
      }
     },
     "28a9b7686c1b436ea38577600446ef56": {
      "model_module": "@jupyter-widgets/controls",
      "model_module_version": "1.5.0",
      "model_name": "DescriptionStyleModel",
      "state": {
       "description_width": ""
      }
     },
     "29ce955867564ca1ad84887d0fc058ad": {
      "model_module": "@jupyter-widgets/output",
      "model_module_version": "1.0.0",
      "model_name": "OutputModel",
      "state": {
       "layout": "IPY_MODEL_ede2be4c78244cd8ac7cc931a1672ef5",
       "outputs": [
        {
         "ename": "AttributeError",
         "evalue": "unexpected attribute 'x' to ColumnDataSource, possible attributes are callback, data, js_event_callbacks, js_property_callbacks, name, selected, selection_policy, subscribed_events or tags",
         "output_type": "error",
         "traceback": [
          "\u001b[1;31m---------------------------------------------------------------------------\u001b[0m",
          "\u001b[1;31mAttributeError\u001b[0m                            Traceback (most recent call last)",
          "\u001b[1;32mD:\\Anaconda\\envs\\py37\\lib\\site-packages\\ipywidgets\\widgets\\interaction.py\u001b[0m in \u001b[0;36mupdate\u001b[1;34m(self, *args)\u001b[0m\n\u001b[0;32m    254\u001b[0m                     \u001b[0mvalue\u001b[0m \u001b[1;33m=\u001b[0m \u001b[0mwidget\u001b[0m\u001b[1;33m.\u001b[0m\u001b[0mget_interact_value\u001b[0m\u001b[1;33m(\u001b[0m\u001b[1;33m)\u001b[0m\u001b[1;33m\u001b[0m\u001b[1;33m\u001b[0m\u001b[0m\n\u001b[0;32m    255\u001b[0m                     \u001b[0mself\u001b[0m\u001b[1;33m.\u001b[0m\u001b[0mkwargs\u001b[0m\u001b[1;33m[\u001b[0m\u001b[0mwidget\u001b[0m\u001b[1;33m.\u001b[0m\u001b[0m_kwarg\u001b[0m\u001b[1;33m]\u001b[0m \u001b[1;33m=\u001b[0m \u001b[0mvalue\u001b[0m\u001b[1;33m\u001b[0m\u001b[1;33m\u001b[0m\u001b[0m\n\u001b[1;32m--> 256\u001b[1;33m                 \u001b[0mself\u001b[0m\u001b[1;33m.\u001b[0m\u001b[0mresult\u001b[0m \u001b[1;33m=\u001b[0m \u001b[0mself\u001b[0m\u001b[1;33m.\u001b[0m\u001b[0mf\u001b[0m\u001b[1;33m(\u001b[0m\u001b[1;33m**\u001b[0m\u001b[0mself\u001b[0m\u001b[1;33m.\u001b[0m\u001b[0mkwargs\u001b[0m\u001b[1;33m)\u001b[0m\u001b[1;33m\u001b[0m\u001b[1;33m\u001b[0m\u001b[0m\n\u001b[0m\u001b[0;32m    257\u001b[0m                 \u001b[0mshow_inline_matplotlib_plots\u001b[0m\u001b[1;33m(\u001b[0m\u001b[1;33m)\u001b[0m\u001b[1;33m\u001b[0m\u001b[1;33m\u001b[0m\u001b[0m\n\u001b[0;32m    258\u001b[0m                 \u001b[1;32mif\u001b[0m \u001b[0mself\u001b[0m\u001b[1;33m.\u001b[0m\u001b[0mauto_display\u001b[0m \u001b[1;32mand\u001b[0m \u001b[0mself\u001b[0m\u001b[1;33m.\u001b[0m\u001b[0mresult\u001b[0m \u001b[1;32mis\u001b[0m \u001b[1;32mnot\u001b[0m \u001b[1;32mNone\u001b[0m\u001b[1;33m:\u001b[0m\u001b[1;33m\u001b[0m\u001b[1;33m\u001b[0m\u001b[0m\n",
          "\u001b[1;32m<ipython-input-53-d605e6ec0ce4>\u001b[0m in \u001b[0;36mupdate\u001b[1;34m(n)\u001b[0m\n\u001b[0;32m     13\u001b[0m     r.data_source.update(\n\u001b[0;32m     14\u001b[0m         \u001b[0mx\u001b[0m\u001b[1;33m=\u001b[0m\u001b[0mnp\u001b[0m\u001b[1;33m.\u001b[0m\u001b[0mconcatenate\u001b[0m\u001b[1;33m(\u001b[0m\u001b[1;33m(\u001b[0m\u001b[0mr\u001b[0m\u001b[1;33m.\u001b[0m\u001b[0mdata_source\u001b[0m\u001b[1;33m.\u001b[0m\u001b[0mdata\u001b[0m\u001b[1;33m[\u001b[0m\u001b[1;34m'x'\u001b[0m\u001b[1;33m]\u001b[0m\u001b[1;33m,\u001b[0m \u001b[1;33m[\u001b[0m\u001b[0msample\u001b[0m\u001b[1;33m(\u001b[0m\u001b[0mn\u001b[0m\u001b[1;33m)\u001b[0m\u001b[1;33m]\u001b[0m\u001b[1;33m)\u001b[0m\u001b[1;33m)\u001b[0m\u001b[1;33m,\u001b[0m\u001b[1;33m\u001b[0m\u001b[1;33m\u001b[0m\u001b[0m\n\u001b[1;32m---> 15\u001b[1;33m         \u001b[0my\u001b[0m\u001b[1;33m=\u001b[0m\u001b[0mnp\u001b[0m\u001b[1;33m.\u001b[0m\u001b[0mconcatenate\u001b[0m\u001b[1;33m(\u001b[0m\u001b[1;33m(\u001b[0m\u001b[0mr\u001b[0m\u001b[1;33m.\u001b[0m\u001b[0mdata_source\u001b[0m\u001b[1;33m.\u001b[0m\u001b[0mdata\u001b[0m\u001b[1;33m[\u001b[0m\u001b[1;34m'y'\u001b[0m\u001b[1;33m]\u001b[0m\u001b[1;33m,\u001b[0m \u001b[1;33m[\u001b[0m\u001b[0mn\u001b[0m\u001b[1;33m]\u001b[0m\u001b[1;33m)\u001b[0m\u001b[1;33m)\u001b[0m\u001b[1;33m\u001b[0m\u001b[1;33m\u001b[0m\u001b[0m\n\u001b[0m\u001b[0;32m     16\u001b[0m     )\n\u001b[0;32m     17\u001b[0m     \u001b[0mpush_notebook\u001b[0m\u001b[1;33m(\u001b[0m\u001b[1;33m)\u001b[0m\u001b[1;33m\u001b[0m\u001b[1;33m\u001b[0m\u001b[0m\n",
          "\u001b[1;32mD:\\Anaconda\\envs\\py37\\lib\\site-packages\\bokeh\\core\\has_props.py\u001b[0m in \u001b[0;36mupdate\u001b[1;34m(self, **kwargs)\u001b[0m\n\u001b[0;32m    374\u001b[0m         '''\n\u001b[0;32m    375\u001b[0m         \u001b[1;32mfor\u001b[0m \u001b[0mk\u001b[0m\u001b[1;33m,\u001b[0m\u001b[0mv\u001b[0m \u001b[1;32min\u001b[0m \u001b[0mkwargs\u001b[0m\u001b[1;33m.\u001b[0m\u001b[0mitems\u001b[0m\u001b[1;33m(\u001b[0m\u001b[1;33m)\u001b[0m\u001b[1;33m:\u001b[0m\u001b[1;33m\u001b[0m\u001b[1;33m\u001b[0m\u001b[0m\n\u001b[1;32m--> 376\u001b[1;33m             \u001b[0msetattr\u001b[0m\u001b[1;33m(\u001b[0m\u001b[0mself\u001b[0m\u001b[1;33m,\u001b[0m \u001b[0mk\u001b[0m\u001b[1;33m,\u001b[0m \u001b[0mv\u001b[0m\u001b[1;33m)\u001b[0m\u001b[1;33m\u001b[0m\u001b[1;33m\u001b[0m\u001b[0m\n\u001b[0m\u001b[0;32m    377\u001b[0m \u001b[1;33m\u001b[0m\u001b[0m\n\u001b[0;32m    378\u001b[0m     \u001b[1;32mdef\u001b[0m \u001b[0mupdate_from_json\u001b[0m\u001b[1;33m(\u001b[0m\u001b[0mself\u001b[0m\u001b[1;33m,\u001b[0m \u001b[0mjson_attributes\u001b[0m\u001b[1;33m,\u001b[0m \u001b[0mmodels\u001b[0m\u001b[1;33m=\u001b[0m\u001b[1;32mNone\u001b[0m\u001b[1;33m,\u001b[0m \u001b[0msetter\u001b[0m\u001b[1;33m=\u001b[0m\u001b[1;32mNone\u001b[0m\u001b[1;33m)\u001b[0m\u001b[1;33m:\u001b[0m\u001b[1;33m\u001b[0m\u001b[1;33m\u001b[0m\u001b[0m\n",
          "\u001b[1;32mD:\\Anaconda\\envs\\py37\\lib\\site-packages\\bokeh\\core\\has_props.py\u001b[0m in \u001b[0;36m__setattr__\u001b[1;34m(self, name, value)\u001b[0m\n\u001b[0;32m    286\u001b[0m \u001b[1;33m\u001b[0m\u001b[0m\n\u001b[0;32m    287\u001b[0m             raise AttributeError(\"unexpected attribute '%s' to %s, %s attributes are %s\" %\n\u001b[1;32m--> 288\u001b[1;33m                 (name, self.__class__.__name__, text, nice_join(matches)))\n\u001b[0m\u001b[0;32m    289\u001b[0m \u001b[1;33m\u001b[0m\u001b[0m\n\u001b[0;32m    290\u001b[0m     \u001b[1;32mdef\u001b[0m \u001b[0m__str__\u001b[0m\u001b[1;33m(\u001b[0m\u001b[0mself\u001b[0m\u001b[1;33m)\u001b[0m\u001b[1;33m:\u001b[0m\u001b[1;33m\u001b[0m\u001b[1;33m\u001b[0m\u001b[0m\n",
          "\u001b[1;31mAttributeError\u001b[0m: unexpected attribute 'x' to ColumnDataSource, possible attributes are callback, data, js_event_callbacks, js_property_callbacks, name, selected, selection_policy, subscribed_events or tags"
         ]
        }
       ]
      }
     },
     "2fee35443888432eb6508b7057cf2b8d": {
      "model_module": "@jupyter-widgets/controls",
      "model_module_version": "1.5.0",
      "model_name": "IntSliderModel",
      "state": {
       "description": "n",
       "layout": "IPY_MODEL_1b1b82c59efe47d59718d1898837fa85",
       "max": 450,
       "min": 10,
       "style": "IPY_MODEL_101704cc53aa448485974f61f55209f1",
       "value": 230
      }
     },
     "35d4b3e8d5d84636afe08007f9983a93": {
      "model_module": "@jupyter-widgets/base",
      "model_module_version": "1.2.0",
      "model_name": "LayoutModel",
      "state": {}
     },
     "39b5104f37194259bfbd9370144fa1c5": {
      "model_module": "@jupyter-widgets/base",
      "model_module_version": "1.2.0",
      "model_name": "LayoutModel",
      "state": {}
     },
     "3e8e124fb0574c10a795250dfff7d52b": {
      "model_module": "@jupyter-widgets/base",
      "model_module_version": "1.2.0",
      "model_name": "LayoutModel",
      "state": {}
     },
     "4101359cd5e24e8ca4999eea04e31dcb": {
      "model_module": "@jupyter-widgets/controls",
      "model_module_version": "1.5.0",
      "model_name": "ButtonStyleModel",
      "state": {}
     },
     "42ecb298ac9a40df8631c897623253ce": {
      "model_module": "@jupyter-widgets/controls",
      "model_module_version": "1.5.0",
      "model_name": "ButtonStyleModel",
      "state": {}
     },
     "49a025f8dc2c4752aae463a9d54a29c7": {
      "model_module": "@jupyter-widgets/base",
      "model_module_version": "1.2.0",
      "model_name": "LayoutModel",
      "state": {}
     },
     "50024b169b20484eb550c63aa323c063": {
      "model_module": "@jupyter-widgets/controls",
      "model_module_version": "1.5.0",
      "model_name": "VBoxModel",
      "state": {
       "_dom_classes": [
        "widget-interact"
       ],
       "children": [
        "IPY_MODEL_87a92b9e6c2f4314903275dab408a104",
        "IPY_MODEL_e704c44968f24213afb01835a8754a01",
        "IPY_MODEL_54149441488b4ce89e9b34f18b70ea25"
       ],
       "layout": "IPY_MODEL_da39d532be2347b497f361ca1e9801e9"
      }
     },
     "54149441488b4ce89e9b34f18b70ea25": {
      "model_module": "@jupyter-widgets/output",
      "model_module_version": "1.0.0",
      "model_name": "OutputModel",
      "state": {
       "layout": "IPY_MODEL_1f119e4404df48739357d23d1602d794",
       "outputs": [
        {
         "name": "stderr",
         "output_type": "stream",
         "text": "2020-04-26 14:36:13,424 [936] WARNING  py.warnings:110: [JupyterRequire] BokehUserWarning: ColumnDataSource's columns must be of the same length. Current lengths: ('x', 292), ('y', 291)\n\n"
        }
       ]
      }
     },
     "59f83c2735854a8381a97cc79750e1e7": {
      "model_module": "@jupyter-widgets/output",
      "model_module_version": "1.0.0",
      "model_name": "OutputModel",
      "state": {
       "layout": "IPY_MODEL_a8112e74db66410da6a0b5473df3859d",
       "outputs": [
        {
         "ename": "ValueError",
         "evalue": "all the input arrays must have same number of dimensions, but the array at index 0 has 1 dimension(s) and the array at index 1 has 0 dimension(s)",
         "output_type": "error",
         "traceback": [
          "\u001b[1;31m---------------------------------------------------------------------------\u001b[0m",
          "\u001b[1;31mValueError\u001b[0m                                Traceback (most recent call last)",
          "\u001b[1;32mD:\\Anaconda\\envs\\py37\\lib\\site-packages\\ipywidgets\\widgets\\interaction.py\u001b[0m in \u001b[0;36mupdate\u001b[1;34m(self, *args)\u001b[0m\n\u001b[0;32m    254\u001b[0m                     \u001b[0mvalue\u001b[0m \u001b[1;33m=\u001b[0m \u001b[0mwidget\u001b[0m\u001b[1;33m.\u001b[0m\u001b[0mget_interact_value\u001b[0m\u001b[1;33m(\u001b[0m\u001b[1;33m)\u001b[0m\u001b[1;33m\u001b[0m\u001b[1;33m\u001b[0m\u001b[0m\n\u001b[0;32m    255\u001b[0m                     \u001b[0mself\u001b[0m\u001b[1;33m.\u001b[0m\u001b[0mkwargs\u001b[0m\u001b[1;33m[\u001b[0m\u001b[0mwidget\u001b[0m\u001b[1;33m.\u001b[0m\u001b[0m_kwarg\u001b[0m\u001b[1;33m]\u001b[0m \u001b[1;33m=\u001b[0m \u001b[0mvalue\u001b[0m\u001b[1;33m\u001b[0m\u001b[1;33m\u001b[0m\u001b[0m\n\u001b[1;32m--> 256\u001b[1;33m                 \u001b[0mself\u001b[0m\u001b[1;33m.\u001b[0m\u001b[0mresult\u001b[0m \u001b[1;33m=\u001b[0m \u001b[0mself\u001b[0m\u001b[1;33m.\u001b[0m\u001b[0mf\u001b[0m\u001b[1;33m(\u001b[0m\u001b[1;33m**\u001b[0m\u001b[0mself\u001b[0m\u001b[1;33m.\u001b[0m\u001b[0mkwargs\u001b[0m\u001b[1;33m)\u001b[0m\u001b[1;33m\u001b[0m\u001b[1;33m\u001b[0m\u001b[0m\n\u001b[0m\u001b[0;32m    257\u001b[0m                 \u001b[0mshow_inline_matplotlib_plots\u001b[0m\u001b[1;33m(\u001b[0m\u001b[1;33m)\u001b[0m\u001b[1;33m\u001b[0m\u001b[1;33m\u001b[0m\u001b[0m\n\u001b[0;32m    258\u001b[0m                 \u001b[1;32mif\u001b[0m \u001b[0mself\u001b[0m\u001b[1;33m.\u001b[0m\u001b[0mauto_display\u001b[0m \u001b[1;32mand\u001b[0m \u001b[0mself\u001b[0m\u001b[1;33m.\u001b[0m\u001b[0mresult\u001b[0m \u001b[1;32mis\u001b[0m \u001b[1;32mnot\u001b[0m \u001b[1;32mNone\u001b[0m\u001b[1;33m:\u001b[0m\u001b[1;33m\u001b[0m\u001b[1;33m\u001b[0m\u001b[0m\n",
          "\u001b[1;32m<ipython-input-41-61de3dfd463c>\u001b[0m in \u001b[0;36mupdate\u001b[1;34m(n)\u001b[0m\n\u001b[0;32m      9\u001b[0m \u001b[1;33m\u001b[0m\u001b[0m\n\u001b[0;32m     10\u001b[0m \u001b[1;32mdef\u001b[0m \u001b[0mupdate\u001b[0m\u001b[1;33m(\u001b[0m\u001b[0mn\u001b[0m\u001b[1;33m)\u001b[0m\u001b[1;33m:\u001b[0m\u001b[1;33m\u001b[0m\u001b[1;33m\u001b[0m\u001b[0m\n\u001b[1;32m---> 11\u001b[1;33m     \u001b[0mr\u001b[0m\u001b[1;33m.\u001b[0m\u001b[0mdata_source\u001b[0m\u001b[1;33m.\u001b[0m\u001b[0mdata\u001b[0m\u001b[1;33m[\u001b[0m\u001b[1;34m'y'\u001b[0m\u001b[1;33m]\u001b[0m \u001b[1;33m=\u001b[0m \u001b[0mnp\u001b[0m\u001b[1;33m.\u001b[0m\u001b[0mconcatenate\u001b[0m\u001b[1;33m(\u001b[0m\u001b[1;33m(\u001b[0m\u001b[0mr\u001b[0m\u001b[1;33m.\u001b[0m\u001b[0mdata_source\u001b[0m\u001b[1;33m.\u001b[0m\u001b[0mdata\u001b[0m\u001b[1;33m[\u001b[0m\u001b[1;34m'y'\u001b[0m\u001b[1;33m]\u001b[0m\u001b[1;33m,\u001b[0m \u001b[0mn\u001b[0m\u001b[1;33m)\u001b[0m\u001b[1;33m)\u001b[0m\u001b[1;33m\u001b[0m\u001b[1;33m\u001b[0m\u001b[0m\n\u001b[0m\u001b[0;32m     12\u001b[0m     \u001b[0mr\u001b[0m\u001b[1;33m.\u001b[0m\u001b[0mdata_source\u001b[0m\u001b[1;33m.\u001b[0m\u001b[0mdata\u001b[0m\u001b[1;33m[\u001b[0m\u001b[1;34m'x'\u001b[0m\u001b[1;33m]\u001b[0m \u001b[1;33m=\u001b[0m \u001b[0mnp\u001b[0m\u001b[1;33m.\u001b[0m\u001b[0mconcatenate\u001b[0m\u001b[1;33m(\u001b[0m\u001b[1;33m(\u001b[0m\u001b[0mr\u001b[0m\u001b[1;33m.\u001b[0m\u001b[0mdata_source\u001b[0m\u001b[1;33m.\u001b[0m\u001b[0mdata\u001b[0m\u001b[1;33m[\u001b[0m\u001b[1;34m'x'\u001b[0m\u001b[1;33m]\u001b[0m\u001b[1;33m,\u001b[0m \u001b[0msample\u001b[0m\u001b[1;33m(\u001b[0m\u001b[0mn\u001b[0m\u001b[1;33m)\u001b[0m\u001b[1;33m)\u001b[0m\u001b[1;33m)\u001b[0m\u001b[1;33m\u001b[0m\u001b[1;33m\u001b[0m\u001b[0m\n\u001b[0;32m     13\u001b[0m     \u001b[0mpush_notebook\u001b[0m\u001b[1;33m(\u001b[0m\u001b[1;33m)\u001b[0m\u001b[1;33m\u001b[0m\u001b[1;33m\u001b[0m\u001b[0m\n",
          "\u001b[1;32m<__array_function__ internals>\u001b[0m in \u001b[0;36mconcatenate\u001b[1;34m(*args, **kwargs)\u001b[0m\n",
          "\u001b[1;31mValueError\u001b[0m: all the input arrays must have same number of dimensions, but the array at index 0 has 1 dimension(s) and the array at index 1 has 0 dimension(s)"
         ]
        }
       ]
      }
     },
     "5bf48b59cd7c4902ba878fde89e6cb21": {
      "model_module": "@jupyter-widgets/output",
      "model_module_version": "1.0.0",
      "model_name": "OutputModel",
      "state": {
       "layout": "IPY_MODEL_808da61f308143f785634c446dc6a6d0",
       "outputs": [
        {
         "ename": "TypeError",
         "evalue": "'ColumnDataSource' object is not subscriptable",
         "output_type": "error",
         "traceback": [
          "\u001b[1;31m---------------------------------------------------------------------------\u001b[0m",
          "\u001b[1;31mTypeError\u001b[0m                                 Traceback (most recent call last)",
          "\u001b[1;32mD:\\Anaconda\\envs\\py37\\lib\\site-packages\\ipywidgets\\widgets\\interaction.py\u001b[0m in \u001b[0;36mupdate\u001b[1;34m(self, *args)\u001b[0m\n\u001b[0;32m    254\u001b[0m                     \u001b[0mvalue\u001b[0m \u001b[1;33m=\u001b[0m \u001b[0mwidget\u001b[0m\u001b[1;33m.\u001b[0m\u001b[0mget_interact_value\u001b[0m\u001b[1;33m(\u001b[0m\u001b[1;33m)\u001b[0m\u001b[1;33m\u001b[0m\u001b[1;33m\u001b[0m\u001b[0m\n\u001b[0;32m    255\u001b[0m                     \u001b[0mself\u001b[0m\u001b[1;33m.\u001b[0m\u001b[0mkwargs\u001b[0m\u001b[1;33m[\u001b[0m\u001b[0mwidget\u001b[0m\u001b[1;33m.\u001b[0m\u001b[0m_kwarg\u001b[0m\u001b[1;33m]\u001b[0m \u001b[1;33m=\u001b[0m \u001b[0mvalue\u001b[0m\u001b[1;33m\u001b[0m\u001b[1;33m\u001b[0m\u001b[0m\n\u001b[1;32m--> 256\u001b[1;33m                 \u001b[0mself\u001b[0m\u001b[1;33m.\u001b[0m\u001b[0mresult\u001b[0m \u001b[1;33m=\u001b[0m \u001b[0mself\u001b[0m\u001b[1;33m.\u001b[0m\u001b[0mf\u001b[0m\u001b[1;33m(\u001b[0m\u001b[1;33m**\u001b[0m\u001b[0mself\u001b[0m\u001b[1;33m.\u001b[0m\u001b[0mkwargs\u001b[0m\u001b[1;33m)\u001b[0m\u001b[1;33m\u001b[0m\u001b[1;33m\u001b[0m\u001b[0m\n\u001b[0m\u001b[0;32m    257\u001b[0m                 \u001b[0mshow_inline_matplotlib_plots\u001b[0m\u001b[1;33m(\u001b[0m\u001b[1;33m)\u001b[0m\u001b[1;33m\u001b[0m\u001b[1;33m\u001b[0m\u001b[0m\n\u001b[0;32m    258\u001b[0m                 \u001b[1;32mif\u001b[0m \u001b[0mself\u001b[0m\u001b[1;33m.\u001b[0m\u001b[0mauto_display\u001b[0m \u001b[1;32mand\u001b[0m \u001b[0mself\u001b[0m\u001b[1;33m.\u001b[0m\u001b[0mresult\u001b[0m \u001b[1;32mis\u001b[0m \u001b[1;32mnot\u001b[0m \u001b[1;32mNone\u001b[0m\u001b[1;33m:\u001b[0m\u001b[1;33m\u001b[0m\u001b[1;33m\u001b[0m\u001b[0m\n",
          "\u001b[1;32m<ipython-input-71-3658f259f890>\u001b[0m in \u001b[0;36mupdate\u001b[1;34m(n)\u001b[0m\n\u001b[0;32m     10\u001b[0m \u001b[1;32mdef\u001b[0m \u001b[0mupdate\u001b[0m\u001b[1;33m(\u001b[0m\u001b[0mn\u001b[0m\u001b[1;33m)\u001b[0m\u001b[1;33m:\u001b[0m\u001b[1;33m\u001b[0m\u001b[1;33m\u001b[0m\u001b[0m\n\u001b[0;32m     11\u001b[0m     \u001b[0ms\u001b[0m \u001b[1;33m=\u001b[0m \u001b[0mr\u001b[0m\u001b[1;33m.\u001b[0m\u001b[0mdata_source\u001b[0m\u001b[1;33m\u001b[0m\u001b[1;33m\u001b[0m\u001b[0m\n\u001b[1;32m---> 12\u001b[1;33m     \u001b[0ms\u001b[0m\u001b[1;33m[\u001b[0m\u001b[1;34m'x'\u001b[0m\u001b[1;33m]\u001b[0m \u001b[1;33m=\u001b[0m \u001b[0mnp\u001b[0m\u001b[1;33m.\u001b[0m\u001b[0mconcatenate\u001b[0m\u001b[1;33m(\u001b[0m\u001b[1;33m(\u001b[0m\u001b[0ms\u001b[0m\u001b[1;33m[\u001b[0m\u001b[1;34m'x'\u001b[0m\u001b[1;33m]\u001b[0m\u001b[1;33m,\u001b[0m \u001b[1;33m[\u001b[0m\u001b[0msample\u001b[0m\u001b[1;33m(\u001b[0m\u001b[0mn\u001b[0m\u001b[1;33m)\u001b[0m\u001b[1;33m]\u001b[0m\u001b[1;33m)\u001b[0m\u001b[1;33m)\u001b[0m\u001b[1;33m\u001b[0m\u001b[1;33m\u001b[0m\u001b[0m\n\u001b[0m\u001b[0;32m     13\u001b[0m     \u001b[0ms\u001b[0m\u001b[1;33m[\u001b[0m\u001b[1;34m'y'\u001b[0m\u001b[1;33m]\u001b[0m \u001b[1;33m=\u001b[0m \u001b[0mnp\u001b[0m\u001b[1;33m.\u001b[0m\u001b[0mconcatenate\u001b[0m\u001b[1;33m(\u001b[0m\u001b[1;33m(\u001b[0m\u001b[0ms\u001b[0m\u001b[1;33m[\u001b[0m\u001b[1;34m'y'\u001b[0m\u001b[1;33m]\u001b[0m\u001b[1;33m,\u001b[0m \u001b[1;33m[\u001b[0m\u001b[0mn\u001b[0m\u001b[1;33m]\u001b[0m\u001b[1;33m)\u001b[0m\u001b[1;33m)\u001b[0m\u001b[1;33m\u001b[0m\u001b[1;33m\u001b[0m\u001b[0m\n\u001b[0;32m     14\u001b[0m     \u001b[0mr\u001b[0m\u001b[1;33m.\u001b[0m\u001b[0mdata_source\u001b[0m \u001b[1;33m=\u001b[0m \u001b[0ms\u001b[0m\u001b[1;33m\u001b[0m\u001b[1;33m\u001b[0m\u001b[0m\n",
          "\u001b[1;31mTypeError\u001b[0m: 'ColumnDataSource' object is not subscriptable"
         ]
        }
       ]
      }
     },
     "60bce31c8de54b71b58da35bbf33a2a1": {
      "model_module": "@jupyter-widgets/controls",
      "model_module_version": "1.5.0",
      "model_name": "VBoxModel",
      "state": {
       "_dom_classes": [
        "widget-interact"
       ],
       "children": [
        "IPY_MODEL_a7bb15dfacd1485cb2df764f011a961f",
        "IPY_MODEL_833f1dc5947546ba90c889cc60faed54"
       ],
       "layout": "IPY_MODEL_00b1268757b2448cacff7f52312b3ca3"
      }
     },
     "62ba20b6ba7e46ec9c46d41983615f8c": {
      "model_module": "@jupyter-widgets/base",
      "model_module_version": "1.2.0",
      "model_name": "LayoutModel",
      "state": {}
     },
     "65ba9bc70a40488799ba7936792ef5b4": {
      "model_module": "@jupyter-widgets/output",
      "model_module_version": "1.0.0",
      "model_name": "OutputModel",
      "state": {
       "layout": "IPY_MODEL_b60a2b96b184461e9ae3c0079bbf3720",
       "outputs": [
        {
         "name": "stderr",
         "output_type": "stream",
         "text": "2020-04-26 14:14:01,381 [936] WARNING  py.warnings:110: [JupyterRequire] BokehUserWarning: ColumnDataSource's columns must be of the same length. Current lengths: ('x', 251), ('y', 252)\n\n"
        }
       ]
      }
     },
     "65bc69dd7b73445896c177b35fd275ce": {
      "model_module": "@jupyter-widgets/base",
      "model_module_version": "1.2.0",
      "model_name": "LayoutModel",
      "state": {}
     },
     "688824aa868e47199d2650dbe6e5698f": {
      "model_module": "@jupyter-widgets/base",
      "model_module_version": "1.2.0",
      "model_name": "LayoutModel",
      "state": {}
     },
     "7aac3323f4764e0d860371483d07ced2": {
      "model_module": "@jupyter-widgets/base",
      "model_module_version": "1.2.0",
      "model_name": "LayoutModel",
      "state": {}
     },
     "808da61f308143f785634c446dc6a6d0": {
      "model_module": "@jupyter-widgets/base",
      "model_module_version": "1.2.0",
      "model_name": "LayoutModel",
      "state": {}
     },
     "80a3ce708a8d4c73be01947ae2fe839e": {
      "model_module": "@jupyter-widgets/controls",
      "model_module_version": "1.5.0",
      "model_name": "ButtonStyleModel",
      "state": {}
     },
     "833f1dc5947546ba90c889cc60faed54": {
      "model_module": "@jupyter-widgets/output",
      "model_module_version": "1.0.0",
      "model_name": "OutputModel",
      "state": {
       "layout": "IPY_MODEL_49a025f8dc2c4752aae463a9d54a29c7",
       "outputs": [
        {
         "ename": "AttributeError",
         "evalue": "'numpy.ndarray' object has no attribute 'append'",
         "output_type": "error",
         "traceback": [
          "\u001b[1;31m---------------------------------------------------------------------------\u001b[0m",
          "\u001b[1;31mAttributeError\u001b[0m                            Traceback (most recent call last)",
          "\u001b[1;32mD:\\Anaconda\\envs\\py37\\lib\\site-packages\\ipywidgets\\widgets\\interaction.py\u001b[0m in \u001b[0;36mupdate\u001b[1;34m(self, *args)\u001b[0m\n\u001b[0;32m    254\u001b[0m                     \u001b[0mvalue\u001b[0m \u001b[1;33m=\u001b[0m \u001b[0mwidget\u001b[0m\u001b[1;33m.\u001b[0m\u001b[0mget_interact_value\u001b[0m\u001b[1;33m(\u001b[0m\u001b[1;33m)\u001b[0m\u001b[1;33m\u001b[0m\u001b[1;33m\u001b[0m\u001b[0m\n\u001b[0;32m    255\u001b[0m                     \u001b[0mself\u001b[0m\u001b[1;33m.\u001b[0m\u001b[0mkwargs\u001b[0m\u001b[1;33m[\u001b[0m\u001b[0mwidget\u001b[0m\u001b[1;33m.\u001b[0m\u001b[0m_kwarg\u001b[0m\u001b[1;33m]\u001b[0m \u001b[1;33m=\u001b[0m \u001b[0mvalue\u001b[0m\u001b[1;33m\u001b[0m\u001b[1;33m\u001b[0m\u001b[0m\n\u001b[1;32m--> 256\u001b[1;33m                 \u001b[0mself\u001b[0m\u001b[1;33m.\u001b[0m\u001b[0mresult\u001b[0m \u001b[1;33m=\u001b[0m \u001b[0mself\u001b[0m\u001b[1;33m.\u001b[0m\u001b[0mf\u001b[0m\u001b[1;33m(\u001b[0m\u001b[1;33m**\u001b[0m\u001b[0mself\u001b[0m\u001b[1;33m.\u001b[0m\u001b[0mkwargs\u001b[0m\u001b[1;33m)\u001b[0m\u001b[1;33m\u001b[0m\u001b[1;33m\u001b[0m\u001b[0m\n\u001b[0m\u001b[0;32m    257\u001b[0m                 \u001b[0mshow_inline_matplotlib_plots\u001b[0m\u001b[1;33m(\u001b[0m\u001b[1;33m)\u001b[0m\u001b[1;33m\u001b[0m\u001b[1;33m\u001b[0m\u001b[0m\n\u001b[0;32m    258\u001b[0m                 \u001b[1;32mif\u001b[0m \u001b[0mself\u001b[0m\u001b[1;33m.\u001b[0m\u001b[0mauto_display\u001b[0m \u001b[1;32mand\u001b[0m \u001b[0mself\u001b[0m\u001b[1;33m.\u001b[0m\u001b[0mresult\u001b[0m \u001b[1;32mis\u001b[0m \u001b[1;32mnot\u001b[0m \u001b[1;32mNone\u001b[0m\u001b[1;33m:\u001b[0m\u001b[1;33m\u001b[0m\u001b[1;33m\u001b[0m\u001b[0m\n",
          "\u001b[1;32m<ipython-input-36-5beda4ee89b2>\u001b[0m in \u001b[0;36mupdate\u001b[1;34m(n)\u001b[0m\n\u001b[0;32m      9\u001b[0m \u001b[1;33m\u001b[0m\u001b[0m\n\u001b[0;32m     10\u001b[0m \u001b[1;32mdef\u001b[0m \u001b[0mupdate\u001b[0m\u001b[1;33m(\u001b[0m\u001b[0mn\u001b[0m\u001b[1;33m)\u001b[0m\u001b[1;33m:\u001b[0m\u001b[1;33m\u001b[0m\u001b[1;33m\u001b[0m\u001b[0m\n\u001b[1;32m---> 11\u001b[1;33m     \u001b[0mr\u001b[0m\u001b[1;33m.\u001b[0m\u001b[0mdata_source\u001b[0m\u001b[1;33m.\u001b[0m\u001b[0mdata\u001b[0m\u001b[1;33m[\u001b[0m\u001b[1;34m'y'\u001b[0m\u001b[1;33m]\u001b[0m\u001b[1;33m.\u001b[0m\u001b[0mappend\u001b[0m\u001b[1;33m(\u001b[0m\u001b[0mn\u001b[0m\u001b[1;33m)\u001b[0m\u001b[1;33m\u001b[0m\u001b[1;33m\u001b[0m\u001b[0m\n\u001b[0m\u001b[0;32m     12\u001b[0m     \u001b[0mr\u001b[0m\u001b[1;33m.\u001b[0m\u001b[0mdata_source\u001b[0m\u001b[1;33m.\u001b[0m\u001b[0mdata\u001b[0m\u001b[1;33m[\u001b[0m\u001b[1;34m'x'\u001b[0m\u001b[1;33m]\u001b[0m\u001b[1;33m.\u001b[0m\u001b[0mappend\u001b[0m\u001b[1;33m(\u001b[0m\u001b[0msample\u001b[0m\u001b[1;33m(\u001b[0m\u001b[0mn\u001b[0m\u001b[1;33m)\u001b[0m\u001b[1;33m)\u001b[0m\u001b[1;33m\u001b[0m\u001b[1;33m\u001b[0m\u001b[0m\n\u001b[0;32m     13\u001b[0m     \u001b[0mpush_notebook\u001b[0m\u001b[1;33m(\u001b[0m\u001b[1;33m)\u001b[0m\u001b[1;33m\u001b[0m\u001b[1;33m\u001b[0m\u001b[0m\n",
          "\u001b[1;31mAttributeError\u001b[0m: 'numpy.ndarray' object has no attribute 'append'"
         ]
        }
       ]
      }
     },
     "85bab2e90e2742359610a466e6f5a6d3": {
      "model_module": "@jupyter-widgets/controls",
      "model_module_version": "1.5.0",
      "model_name": "ButtonModel",
      "state": {
       "description": "Run Interact",
       "layout": "IPY_MODEL_688824aa868e47199d2650dbe6e5698f",
       "style": "IPY_MODEL_9fcf979552a84cf3a0c6fbc26988e737"
      }
     },
     "87a92b9e6c2f4314903275dab408a104": {
      "model_module": "@jupyter-widgets/controls",
      "model_module_version": "1.5.0",
      "model_name": "IntSliderModel",
      "state": {
       "description": "n",
       "layout": "IPY_MODEL_94d462c472834bbbbffc43022d626366",
       "max": 450,
       "min": 10,
       "style": "IPY_MODEL_b1bb8f923d8142bdb98c6d4127246bf9",
       "value": 230
      }
     },
     "87b5548e749a42ab98c8d72a2ac9ce39": {
      "model_module": "@jupyter-widgets/controls",
      "model_module_version": "1.5.0",
      "model_name": "IntSliderModel",
      "state": {
       "description": "n",
       "layout": "IPY_MODEL_39b5104f37194259bfbd9370144fa1c5",
       "max": 200,
       "min": 10,
       "style": "IPY_MODEL_c7d5bcdfcc684be3a9bb6b1d66113b03",
       "value": 102
      }
     },
     "92e61fcf50b040f888f411f554da2f9b": {
      "model_module": "@jupyter-widgets/base",
      "model_module_version": "1.2.0",
      "model_name": "LayoutModel",
      "state": {}
     },
     "94d462c472834bbbbffc43022d626366": {
      "model_module": "@jupyter-widgets/base",
      "model_module_version": "1.2.0",
      "model_name": "LayoutModel",
      "state": {}
     },
     "9bd42f417b8342d2b085ce0263293278": {
      "model_module": "@jupyter-widgets/base",
      "model_module_version": "1.2.0",
      "model_name": "LayoutModel",
      "state": {}
     },
     "9c85b328c6c14289beb4c6bfda44d023": {
      "model_module": "@jupyter-widgets/controls",
      "model_module_version": "1.5.0",
      "model_name": "SliderStyleModel",
      "state": {
       "description_width": ""
      }
     },
     "9fcf979552a84cf3a0c6fbc26988e737": {
      "model_module": "@jupyter-widgets/controls",
      "model_module_version": "1.5.0",
      "model_name": "ButtonStyleModel",
      "state": {}
     },
     "a6112d4a15bd45d98891ed8a61ec04a7": {
      "model_module": "@jupyter-widgets/base",
      "model_module_version": "1.2.0",
      "model_name": "LayoutModel",
      "state": {}
     },
     "a7bb15dfacd1485cb2df764f011a961f": {
      "model_module": "@jupyter-widgets/controls",
      "model_module_version": "1.5.0",
      "model_name": "DropdownModel",
      "state": {
       "_options_labels": [
        "10",
        "20",
        "50",
        "30",
        "200"
       ],
       "description": "n",
       "index": 2,
       "layout": "IPY_MODEL_e5145a1b1f484ebd9cae72e4130816c0",
       "style": "IPY_MODEL_28a9b7686c1b436ea38577600446ef56"
      }
     },
     "a80bbb6aa7b24cd3b076cfe463cac61e": {
      "model_module": "@jupyter-widgets/controls",
      "model_module_version": "1.5.0",
      "model_name": "ButtonModel",
      "state": {
       "description": "Run Interact",
       "layout": "IPY_MODEL_c1650b0042df44abaeb7aee95bf8063f",
       "style": "IPY_MODEL_42ecb298ac9a40df8631c897623253ce"
      }
     },
     "a8112e74db66410da6a0b5473df3859d": {
      "model_module": "@jupyter-widgets/base",
      "model_module_version": "1.2.0",
      "model_name": "LayoutModel",
      "state": {}
     },
     "ac8d7d7bf58c46a4b9ccf266099a5e26": {
      "model_module": "@jupyter-widgets/controls",
      "model_module_version": "1.5.0",
      "model_name": "VBoxModel",
      "state": {
       "_dom_classes": [
        "widget-interact"
       ],
       "children": [
        "IPY_MODEL_87b5548e749a42ab98c8d72a2ac9ce39",
        "IPY_MODEL_b41edcde474342589d984efd4ac0da09"
       ],
       "layout": "IPY_MODEL_197b055f7cdd4b25babb9428fdcc48b1"
      }
     },
     "b1bb8f923d8142bdb98c6d4127246bf9": {
      "model_module": "@jupyter-widgets/controls",
      "model_module_version": "1.5.0",
      "model_name": "SliderStyleModel",
      "state": {
       "description_width": ""
      }
     },
     "b41edcde474342589d984efd4ac0da09": {
      "model_module": "@jupyter-widgets/output",
      "model_module_version": "1.0.0",
      "model_name": "OutputModel",
      "state": {
       "layout": "IPY_MODEL_65bc69dd7b73445896c177b35fd275ce",
       "outputs": [
        {
         "ename": "AttributeError",
         "evalue": "'PropertyValueColumnData' object has no attribute 'append'",
         "output_type": "error",
         "traceback": [
          "\u001b[1;31m---------------------------------------------------------------------------\u001b[0m",
          "\u001b[1;31mAttributeError\u001b[0m                            Traceback (most recent call last)",
          "\u001b[1;32mD:\\Anaconda\\envs\\py37\\lib\\site-packages\\ipywidgets\\widgets\\interaction.py\u001b[0m in \u001b[0;36mupdate\u001b[1;34m(self, *args)\u001b[0m\n\u001b[0;32m    254\u001b[0m                     \u001b[0mvalue\u001b[0m \u001b[1;33m=\u001b[0m \u001b[0mwidget\u001b[0m\u001b[1;33m.\u001b[0m\u001b[0mget_interact_value\u001b[0m\u001b[1;33m(\u001b[0m\u001b[1;33m)\u001b[0m\u001b[1;33m\u001b[0m\u001b[1;33m\u001b[0m\u001b[0m\n\u001b[0;32m    255\u001b[0m                     \u001b[0mself\u001b[0m\u001b[1;33m.\u001b[0m\u001b[0mkwargs\u001b[0m\u001b[1;33m[\u001b[0m\u001b[0mwidget\u001b[0m\u001b[1;33m.\u001b[0m\u001b[0m_kwarg\u001b[0m\u001b[1;33m]\u001b[0m \u001b[1;33m=\u001b[0m \u001b[0mvalue\u001b[0m\u001b[1;33m\u001b[0m\u001b[1;33m\u001b[0m\u001b[0m\n\u001b[1;32m--> 256\u001b[1;33m                 \u001b[0mself\u001b[0m\u001b[1;33m.\u001b[0m\u001b[0mresult\u001b[0m \u001b[1;33m=\u001b[0m \u001b[0mself\u001b[0m\u001b[1;33m.\u001b[0m\u001b[0mf\u001b[0m\u001b[1;33m(\u001b[0m\u001b[1;33m**\u001b[0m\u001b[0mself\u001b[0m\u001b[1;33m.\u001b[0m\u001b[0mkwargs\u001b[0m\u001b[1;33m)\u001b[0m\u001b[1;33m\u001b[0m\u001b[1;33m\u001b[0m\u001b[0m\n\u001b[0m\u001b[0;32m    257\u001b[0m                 \u001b[0mshow_inline_matplotlib_plots\u001b[0m\u001b[1;33m(\u001b[0m\u001b[1;33m)\u001b[0m\u001b[1;33m\u001b[0m\u001b[1;33m\u001b[0m\u001b[0m\n\u001b[0;32m    258\u001b[0m                 \u001b[1;32mif\u001b[0m \u001b[0mself\u001b[0m\u001b[1;33m.\u001b[0m\u001b[0mauto_display\u001b[0m \u001b[1;32mand\u001b[0m \u001b[0mself\u001b[0m\u001b[1;33m.\u001b[0m\u001b[0mresult\u001b[0m \u001b[1;32mis\u001b[0m \u001b[1;32mnot\u001b[0m \u001b[1;32mNone\u001b[0m\u001b[1;33m:\u001b[0m\u001b[1;33m\u001b[0m\u001b[1;33m\u001b[0m\u001b[0m\n",
          "\u001b[1;32m<ipython-input-32-5ae1e6a02b8d>\u001b[0m in \u001b[0;36mupdate\u001b[1;34m(n)\u001b[0m\n\u001b[0;32m      9\u001b[0m \u001b[1;33m\u001b[0m\u001b[0m\n\u001b[0;32m     10\u001b[0m \u001b[1;32mdef\u001b[0m \u001b[0mupdate\u001b[0m\u001b[1;33m(\u001b[0m\u001b[0mn\u001b[0m\u001b[1;33m)\u001b[0m\u001b[1;33m:\u001b[0m\u001b[1;33m\u001b[0m\u001b[1;33m\u001b[0m\u001b[0m\n\u001b[1;32m---> 11\u001b[1;33m     \u001b[0mr\u001b[0m\u001b[1;33m.\u001b[0m\u001b[0mdata_source\u001b[0m\u001b[1;33m.\u001b[0m\u001b[0mdata\u001b[0m\u001b[1;33m.\u001b[0m\u001b[0mappend\u001b[0m\u001b[1;33m(\u001b[0m\u001b[0my\u001b[0m\u001b[1;33m=\u001b[0m\u001b[0mn\u001b[0m\u001b[1;33m,\u001b[0m \u001b[0mx\u001b[0m\u001b[1;33m=\u001b[0m\u001b[0msample\u001b[0m\u001b[1;33m(\u001b[0m\u001b[0mn\u001b[0m\u001b[1;33m)\u001b[0m\u001b[1;33m)\u001b[0m\u001b[1;33m\u001b[0m\u001b[1;33m\u001b[0m\u001b[0m\n\u001b[0m\u001b[0;32m     12\u001b[0m     \u001b[0mpush_notebook\u001b[0m\u001b[1;33m\u001b[0m\u001b[1;33m\u001b[0m\u001b[0m\n",
          "\u001b[1;31mAttributeError\u001b[0m: 'PropertyValueColumnData' object has no attribute 'append'"
         ]
        }
       ]
      }
     },
     "b60a2b96b184461e9ae3c0079bbf3720": {
      "model_module": "@jupyter-widgets/base",
      "model_module_version": "1.2.0",
      "model_name": "LayoutModel",
      "state": {}
     },
     "b62442d540374a9a8e12bdf9870bfa1a": {
      "model_module": "@jupyter-widgets/base",
      "model_module_version": "1.2.0",
      "model_name": "LayoutModel",
      "state": {}
     },
     "b9b11593c79b496b828406137bf0d353": {
      "model_module": "@jupyter-widgets/controls",
      "model_module_version": "1.5.0",
      "model_name": "SliderStyleModel",
      "state": {
       "description_width": ""
      }
     },
     "c1635c10da9c40a49490a221b43a3b96": {
      "model_module": "@jupyter-widgets/controls",
      "model_module_version": "1.5.0",
      "model_name": "SliderStyleModel",
      "state": {
       "description_width": ""
      }
     },
     "c1650b0042df44abaeb7aee95bf8063f": {
      "model_module": "@jupyter-widgets/base",
      "model_module_version": "1.2.0",
      "model_name": "LayoutModel",
      "state": {}
     },
     "c2683cf4d7fa4ee3b80d7119b530ca2d": {
      "model_module": "@jupyter-widgets/base",
      "model_module_version": "1.2.0",
      "model_name": "LayoutModel",
      "state": {}
     },
     "c3ff4831430e496ca970de585cbf40ec": {
      "model_module": "@jupyter-widgets/controls",
      "model_module_version": "1.5.0",
      "model_name": "ButtonModel",
      "state": {
       "description": "Run Interact",
       "layout": "IPY_MODEL_c2683cf4d7fa4ee3b80d7119b530ca2d",
       "style": "IPY_MODEL_07156e1aa4b141e09ac6d97704544546"
      }
     },
     "c7d5bcdfcc684be3a9bb6b1d66113b03": {
      "model_module": "@jupyter-widgets/controls",
      "model_module_version": "1.5.0",
      "model_name": "SliderStyleModel",
      "state": {
       "description_width": ""
      }
     },
     "d4de799fb04d4cb796ef5cae6e3cbe7a": {
      "model_module": "@jupyter-widgets/controls",
      "model_module_version": "1.5.0",
      "model_name": "VBoxModel",
      "state": {
       "_dom_classes": [
        "widget-interact"
       ],
       "children": [
        "IPY_MODEL_2fee35443888432eb6508b7057cf2b8d",
        "IPY_MODEL_a80bbb6aa7b24cd3b076cfe463cac61e",
        "IPY_MODEL_59f83c2735854a8381a97cc79750e1e7"
       ],
       "layout": "IPY_MODEL_92e61fcf50b040f888f411f554da2f9b"
      }
     },
     "da39d532be2347b497f361ca1e9801e9": {
      "model_module": "@jupyter-widgets/base",
      "model_module_version": "1.2.0",
      "model_name": "LayoutModel",
      "state": {}
     },
     "e3a6ba652fb14038b911889264340701": {
      "model_module": "@jupyter-widgets/base",
      "model_module_version": "1.2.0",
      "model_name": "LayoutModel",
      "state": {}
     },
     "e5145a1b1f484ebd9cae72e4130816c0": {
      "model_module": "@jupyter-widgets/base",
      "model_module_version": "1.2.0",
      "model_name": "LayoutModel",
      "state": {}
     },
     "e704c44968f24213afb01835a8754a01": {
      "model_module": "@jupyter-widgets/controls",
      "model_module_version": "1.5.0",
      "model_name": "ButtonModel",
      "state": {
       "description": "Run Interact",
       "layout": "IPY_MODEL_b62442d540374a9a8e12bdf9870bfa1a",
       "style": "IPY_MODEL_80a3ce708a8d4c73be01947ae2fe839e"
      }
     },
     "e726b79447ba47a7b2d413cbaf439f89": {
      "model_module": "@jupyter-widgets/controls",
      "model_module_version": "1.5.0",
      "model_name": "IntSliderModel",
      "state": {
       "description": "n",
       "layout": "IPY_MODEL_7aac3323f4764e0d860371483d07ced2",
       "max": 450,
       "min": 10,
       "style": "IPY_MODEL_b9b11593c79b496b828406137bf0d353",
       "value": 219
      }
     },
     "ede2be4c78244cd8ac7cc931a1672ef5": {
      "model_module": "@jupyter-widgets/base",
      "model_module_version": "1.2.0",
      "model_name": "LayoutModel",
      "state": {}
     },
     "f5da2bc5f268467285ce71c8887acb37": {
      "model_module": "@jupyter-widgets/controls",
      "model_module_version": "1.5.0",
      "model_name": "ButtonModel",
      "state": {
       "description": "Run Interact",
       "layout": "IPY_MODEL_a6112d4a15bd45d98891ed8a61ec04a7",
       "style": "IPY_MODEL_4101359cd5e24e8ca4999eea04e31dcb"
      }
     },
     "f63b49f106a049dd8213060724ca8f6a": {
      "model_module": "@jupyter-widgets/controls",
      "model_module_version": "1.5.0",
      "model_name": "IntSliderModel",
      "state": {
       "description": "n",
       "layout": "IPY_MODEL_9bd42f417b8342d2b085ce0263293278",
       "max": 450,
       "min": 10,
       "style": "IPY_MODEL_9c85b328c6c14289beb4c6bfda44d023",
       "value": 230
      }
     }
    },
    "version_major": 2,
    "version_minor": 0
   }
  }
 },
 "nbformat": 4,
 "nbformat_minor": 4
}
