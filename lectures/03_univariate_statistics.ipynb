{
 "cells": [
  {
   "cell_type": "markdown",
   "metadata": {
    "slideshow": {
     "slide_type": "slide"
    }
   },
   "source": [
    "# Geostatistics"
   ]
  },
  {
   "cell_type": "markdown",
   "metadata": {
    "slideshow": {
     "slide_type": "fragment"
    }
   },
   "source": [
    "## 2. Univariate statistics"
   ]
  },
  {
   "cell_type": "code",
   "execution_count": 43,
   "metadata": {
    "slideshow": {
     "slide_type": "skip"
    }
   },
   "outputs": [],
   "source": [
    "import pandas as pd\n",
    "import numpy as np\n",
    "import matplotlib.pyplot as plt\n",
    "from numpy import sqrt"
   ]
  },
  {
   "cell_type": "markdown",
   "metadata": {
    "slideshow": {
     "slide_type": "slide"
    }
   },
   "source": [
    "### 2.1 Why statistics?"
   ]
  },
  {
   "cell_type": "markdown",
   "metadata": {
    "slideshow": {
     "slide_type": "fragment"
    }
   },
   "source": [
    "Usually we do not know all possible system states. And even if, it would be hard to describe *system behavior* while taking all states into consideration. Thus, we usually try to describe a *common* state, or a representative one."
   ]
  },
  {
   "cell_type": "markdown",
   "metadata": {
    "slideshow": {
     "slide_type": "fragment"
    }
   },
   "source": [
    "This already implies that the question of how to describe a system using means of statistics is already bound to the context. It is important **why** we want to describe that system."
   ]
  },
  {
   "cell_type": "markdown",
   "metadata": {
    "slideshow": {
     "slide_type": "subslide"
    }
   },
   "source": [
    "Let's load one of the data sets of the last lecture:"
   ]
  },
  {
   "cell_type": "code",
   "execution_count": 2,
   "metadata": {
    "slideshow": {
     "slide_type": "skip"
    }
   },
   "outputs": [],
   "source": [
    "df = pd.read_csv('./data/sample_data.txt', sep='\\s+')\n",
    "data = df.iloc[:,1].values"
   ]
  },
  {
   "cell_type": "code",
   "execution_count": 3,
   "metadata": {
    "slideshow": {
     "slide_type": "fragment"
    }
   },
   "outputs": [
    {
     "data": {
      "text/plain": [
       "array([-1.64410893e-01,  3.59855940e-02, -1.88271994e-01,  3.65037065e-01,\n",
       "       -2.89430453e-02,  1.11677734e-01, -4.27456709e-02, -2.13468770e-01,\n",
       "        2.68255522e-01, -4.06917358e-01, -2.99193258e-01, -5.27419061e-01,\n",
       "        7.09380665e-02,  1.94775263e-01, -5.02299254e-01,  4.82864477e-01,\n",
       "        3.19780267e-01, -4.73512537e-01,  2.86099764e-01, -2.72624711e-01,\n",
       "       -1.04927601e-03,  4.28056552e-01, -1.70059438e-01,  4.90430322e-01,\n",
       "        9.67120287e-02,  9.88039977e-02,  3.59182554e-01,  1.20067109e-01,\n",
       "        6.50111048e-01,  9.80489904e-02,  3.51703571e-01,  9.64636430e-01,\n",
       "        6.57705480e-01,  3.70838969e-01,  9.24650718e-01,  3.59227346e-01,\n",
       "        1.95303899e-02, -2.80319313e-01,  4.66663659e-01,  3.53968500e-01,\n",
       "        2.14181311e-01,  6.92118031e-01,  7.22608719e-01,  7.93260544e-01,\n",
       "        4.32513263e-01,  1.23761011e+00,  1.39922339e+00,  5.10682167e-01,\n",
       "        7.44215086e-01,  8.10902119e-01,  1.09655706e+00,  9.12276255e-01,\n",
       "        1.24424984e+00,  1.46868080e+00,  1.03634306e+00,  1.21847086e+00,\n",
       "        1.18635411e-01,  1.00114567e+00,  7.94812042e-01,  8.04311487e-01,\n",
       "        4.37034259e-01,  6.87338158e-01,  1.14736337e+00,  8.86209942e-01,\n",
       "        1.20859626e+00,  1.33108825e+00,  1.09382596e+00,  8.93077503e-01,\n",
       "        1.00352671e+00,  6.76709276e-01,  3.88790241e-01, -8.18984541e-02,\n",
       "        3.55446162e-01,  4.72510496e-01,  7.45245847e-01,  1.87819708e-01,\n",
       "        7.16516575e-01,  2.89299499e-01,  1.38799392e-01, -1.34739290e-01,\n",
       "        6.91521666e-01,  3.49506480e-01,  3.03957334e-01, -4.37850200e-01,\n",
       "        1.07075594e-01,  2.60541336e-01, -1.63551226e-01, -1.60884971e-01,\n",
       "       -4.53224199e-02, -4.90522515e-01, -4.50947852e-01, -3.73031116e-01,\n",
       "       -7.07293078e-02, -7.54131560e-01, -3.94103908e-01, -3.99339259e-01,\n",
       "        2.89246802e-01, -3.48551688e-01,  9.84546991e-03,  3.38123731e-01,\n",
       "       -1.13907512e-01, -1.06644980e+00, -1.61856508e-01, -2.21537722e-01,\n",
       "       -5.09064917e-01, -2.32526109e-01, -3.18056294e-01,  8.03508028e-02,\n",
       "       -4.60007259e-01, -1.94997574e-01, -9.15126790e-02, -1.60530778e-01,\n",
       "        5.31707676e-02, -4.07691410e-01,  8.20665444e-03,  1.87682570e-01,\n",
       "       -2.31085661e-01,  6.06988979e-01, -4.20129945e-01,  3.07631041e-01,\n",
       "        4.90993059e-01,  7.65250812e-02,  1.59554646e-01, -2.58985794e-01,\n",
       "       -6.98542528e-02, -1.64141642e-01, -5.53785120e-01,  4.18411156e-02,\n",
       "        2.89813966e-01, -1.89683264e-01,  8.79182876e-02,  1.31297020e-01,\n",
       "        1.64451600e-01,  1.75477022e-01, -3.78782231e-01,  2.37955756e-02,\n",
       "       -6.27637401e-02, -1.78610202e-01,  2.85457755e-01,  6.86083933e-01,\n",
       "        1.80666365e-01, -4.02519651e-01, -4.63797281e-01,  5.03142556e-03,\n",
       "        8.93602139e-02, -2.02901969e-01, -3.74114241e-01, -2.68779949e-01,\n",
       "       -3.00884658e-01, -2.87159995e-01,  9.00157801e-01,  1.45167048e-01,\n",
       "       -4.52280707e-01,  1.66033445e-01, -3.15636986e-01,  6.02808696e-01,\n",
       "        1.63686107e-01, -2.62208594e-01,  4.96233377e-01,  1.54393989e-01,\n",
       "        5.56754547e-01,  2.18810427e-01,  1.71471346e-02,  2.38953099e-01,\n",
       "        8.70352692e-02,  1.01063478e+00,  1.21243385e-01,  5.13937051e-03,\n",
       "        6.97914171e-01,  7.99209554e-01,  1.06438893e+00,  1.70959856e+00,\n",
       "        1.17458162e+00,  1.36450245e+00,  1.10809271e+00,  6.48775931e-01,\n",
       "        1.45005628e+00,  6.02268442e-01,  1.18113755e+00,  1.17282284e+00,\n",
       "        6.90182950e-01,  1.15884291e+00,  1.01937953e+00,  1.29309654e+00,\n",
       "        7.54274247e-01,  4.63920108e-01,  1.36038824e+00,  1.08952576e+00,\n",
       "        1.09415082e+00,  6.66702711e-01,  8.56911250e-01,  1.12715801e+00,\n",
       "        7.36099501e-01,  8.72193805e-01,  9.94303966e-01,  2.25521804e-01,\n",
       "        8.08900106e-01,  8.64653636e-01,  4.28618502e-01,  8.91422232e-01,\n",
       "        5.15856007e-01,  1.86929649e-02,  4.13136591e-01,  7.93679562e-01,\n",
       "        6.26631909e-01,  5.76736358e-01,  1.10834101e+00,  6.26051319e-01,\n",
       "        1.16127886e+00,  1.08033335e+00,  1.19898020e+00,  1.19318132e+00,\n",
       "        9.90895487e-01,  1.07954590e+00,  9.00219032e-01,  1.12345679e+00,\n",
       "        6.83852827e-01,  1.11357179e+00,  1.41940677e+00,  1.76578399e+00,\n",
       "        1.48336148e+00,  1.75950155e+00,  1.37853316e+00,  1.50870350e+00,\n",
       "        1.90199258e+00,  2.23623107e+00,  1.97323569e+00,  1.77557434e+00,\n",
       "        1.78277290e+00,  1.96159567e+00,  2.29077229e+00,  2.70319215e+00,\n",
       "        2.71418965e+00,  2.00234406e+00,  1.91311996e+00,  1.91109102e+00,\n",
       "        1.58107813e+00,  2.12814803e+00,  2.70434453e+00,  2.37670290e+00,\n",
       "        2.59310208e+00,  2.35262691e+00,  2.49747018e+00,  2.70112716e+00,\n",
       "        1.88772333e+00,  2.32315567e+00,  2.47942745e+00,  2.35062559e+00,\n",
       "        1.64102134e+00,  2.46883039e+00,  2.14518590e+00,  2.53499254e+00,\n",
       "        2.78403107e+00,  1.94115541e+00,  2.18455936e+00,  2.53907322e+00,\n",
       "        1.94939305e+00,  2.04625735e+00,  2.32828832e+00,  2.34963811e+00,\n",
       "        1.95275733e+00,  1.85928962e+00,  2.53280453e+00,  2.61434959e+00,\n",
       "        2.73364188e+00,  2.47809641e+00,  1.85583745e+00,  2.35919331e+00,\n",
       "        2.37475763e+00,  1.50945930e+00,  2.07195258e+00,  1.89907281e+00,\n",
       "        1.60211674e+00,  1.41683924e+00,  1.77515975e+00,  2.16488738e+00,\n",
       "        8.52076103e-01,  2.31032705e+00,  1.57142755e+00,  1.43335306e+00,\n",
       "        1.26779721e+00,  1.22583321e+00,  1.43224677e+00,  1.56941884e+00,\n",
       "        1.57383984e+00,  9.62477564e-01,  1.58068901e+00,  1.46387763e+00,\n",
       "        1.02773188e+00,  1.69569135e+00,  1.32827301e+00,  6.20507395e-01,\n",
       "        1.71428737e+00,  9.51343455e-01,  1.09392726e+00,  1.66090537e+00,\n",
       "        1.30216091e+00,  1.68340286e+00,  1.60751140e+00,  2.13771096e+00,\n",
       "        1.42542393e+00,  1.89043294e+00,  2.23619525e+00,  1.59332971e+00,\n",
       "        1.83709712e+00,  1.71903682e+00,  1.26758171e+00,  2.23608484e+00,\n",
       "        1.80645918e+00,  1.92667925e+00,  2.20041801e+00,  2.44849656e+00,\n",
       "        2.46353884e+00,  1.80867735e+00,  2.46999371e+00,  2.50335862e+00,\n",
       "        1.84788251e+00,  2.16965100e+00,  2.19407132e+00,  1.84560188e+00,\n",
       "        2.44222093e+00,  2.05624153e+00,  2.15375607e+00,  2.02945603e+00,\n",
       "        2.14048753e+00,  1.15757895e+00,  1.40344073e+00,  2.20784239e+00,\n",
       "        2.20404783e+00,  1.79881745e+00,  2.15311905e+00,  1.72663891e+00,\n",
       "        1.53893758e+00,  1.43088183e+00,  1.53146356e+00,  1.80061521e+00,\n",
       "        1.80292521e+00,  1.90440926e+00,  1.21878374e+00,  1.36488540e+00,\n",
       "        1.37525605e+00,  9.95361452e-01,  1.08199358e+00,  1.12664766e+00,\n",
       "        1.45351804e+00,  5.08785821e-01,  7.60353631e-01,  1.39856902e+00,\n",
       "        1.51127419e+00,  1.26540923e+00,  9.52551041e-01,  4.67744446e-01,\n",
       "        7.50486528e-01,  1.17176179e+00,  8.00245998e-01,  6.87443634e-01,\n",
       "        6.87023711e-01,  3.77559202e-02,  9.88417066e-01,  5.76948067e-01,\n",
       "        5.11534223e-01,  9.58626276e-01,  9.32193145e-01,  1.05695174e+00,\n",
       "        1.21161576e+00,  6.85407147e-01,  1.80290987e+00,  1.04041913e+00,\n",
       "        1.78133476e-01,  1.47456161e+00,  3.76982877e-01,  5.14142824e-01,\n",
       "        9.43057945e-01,  1.75889985e-01,  1.35047425e+00,  1.30462182e+00,\n",
       "        8.54872131e-01,  9.73527078e-01,  1.07746757e+00,  8.01391715e-01,\n",
       "        3.68568635e-01,  4.99306593e-01,  1.09405308e+00,  1.19033866e+00,\n",
       "        7.95768223e-01,  1.26038281e+00,  1.09974084e+00,  2.95018201e-01,\n",
       "        8.68456778e-01,  8.11966360e-01,  1.51720776e+00,  2.32127990e-01,\n",
       "        8.59672916e-01,  1.09615759e+00,  1.19613682e+00,  7.61087949e-01,\n",
       "        1.57345003e+00,  9.34440487e-01,  1.66997769e+00,  1.19059803e+00,\n",
       "        1.39500911e+00,  4.78482358e-01,  9.43762486e-01,  1.74433070e+00,\n",
       "        1.56412858e+00,  1.03293161e+00,  9.45706739e-01,  4.86718134e-01,\n",
       "        8.07500110e-01,  1.37356695e+00,  1.05320094e+00,  1.00902977e+00,\n",
       "        1.35718270e+00,  1.75038126e+00,  1.56737606e+00,  1.37731054e+00,\n",
       "        7.90101995e-01,  1.10674099e+00,  4.12173864e-03,  1.17062175e+00,\n",
       "        1.39786441e+00,  1.20051443e+00,  6.85986553e-01,  9.21622703e-01,\n",
       "        5.25778164e-01,  4.62349481e-01,  5.65133712e-01,  1.14554855e+00,\n",
       "        7.02729783e-01,  7.24787418e-01,  4.37623943e-01,  7.71198574e-01,\n",
       "        7.03197266e-01,  2.79985107e-01,  5.48188892e-01,  7.28812655e-01,\n",
       "        1.37763346e-01,  3.68171740e-01, -5.10275006e-02,  5.23478969e-01,\n",
       "       -9.66546731e-02, -5.34080160e-01, -4.36756030e-01, -1.69361073e-01,\n",
       "       -6.76629159e-02, -1.56384951e-01, -4.15245678e-01, -7.90564300e-01,\n",
       "       -3.84519147e-01,  6.49647888e-02, -3.74292560e-01,  1.98872782e-02,\n",
       "       -2.73861780e-01, -3.63229357e-01, -1.85673149e-01, -4.89322412e-01,\n",
       "       -6.43834174e-01, -4.22399531e-01, -4.27614572e-01, -7.24378757e-01,\n",
       "       -3.10286704e-01, -4.75927122e-01, -3.70630517e-01, -1.27492851e+00,\n",
       "       -4.04690667e-01, -1.02538864e+00, -5.26346353e-01, -7.60676689e-01,\n",
       "       -7.70746850e-01, -5.41899360e-01, -3.77553027e-01, -9.40781096e-02,\n",
       "       -2.34275764e-01,  2.57216713e-01, -5.87384871e-01, -7.71134314e-01,\n",
       "       -5.24741015e-01, -1.69747404e-01, -6.21988000e-01, -3.12223571e-01,\n",
       "       -8.11754709e-01, -3.98573461e-01, -5.73524202e-01, -1.41959878e-01,\n",
       "       -6.29294000e-01, -4.65837156e-01, -1.87750904e-01, -4.86318800e-01,\n",
       "       -3.22840229e-01, -4.39624598e-01, -4.38316773e-01, -1.90068989e-01,\n",
       "       -4.31845230e-01,  8.83879531e-02,  3.69218070e-01,  3.58668589e-01,\n",
       "       -2.48367486e-01, -3.86293978e-01, -3.92804486e-01,  4.85126687e-02])"
      ]
     },
     "execution_count": 3,
     "metadata": {},
     "output_type": "execute_result"
    }
   ],
   "source": [
    "data"
   ]
  },
  {
   "cell_type": "markdown",
   "metadata": {
    "slideshow": {
     "slide_type": "subslide"
    }
   },
   "source": [
    "#### Location"
   ]
  },
  {
   "cell_type": "markdown",
   "metadata": {
    "slideshow": {
     "slide_type": "fragment"
    }
   },
   "source": [
    "First, we can describe the **distribution** of observations by their **mean** value."
   ]
  },
  {
   "cell_type": "markdown",
   "metadata": {
    "slideshow": {
     "slide_type": "fragment"
    }
   },
   "source": [
    "$$ \\mu = \\frac{\\sum}{N} $$"
   ]
  },
  {
   "cell_type": "code",
   "execution_count": 4,
   "metadata": {
    "slideshow": {
     "slide_type": "fragment"
    }
   },
   "outputs": [
    {
     "data": {
      "text/plain": [
       "0.7583277269546096"
      ]
     },
     "execution_count": 4,
     "metadata": {},
     "output_type": "execute_result"
    }
   ],
   "source": [
    "sum(data) / len(data)"
   ]
  },
  {
   "cell_type": "markdown",
   "metadata": {
    "slideshow": {
     "slide_type": "fragment"
    }
   },
   "source": [
    "But does ``0.76`` (approx.) really describe the other values?\n",
    "\n",
    "How many of them are off by only ``0.1``?"
   ]
  },
  {
   "cell_type": "code",
   "execution_count": 5,
   "metadata": {
    "slideshow": {
     "slide_type": "fragment"
    }
   },
   "outputs": [
    {
     "name": "stdout",
     "output_type": "stream",
     "text": [
      "43 of 500 values are closer than 0.1\n"
     ]
    }
   ],
   "source": [
    "mu = sum(data) / len(data)\n",
    "close = sum([abs(x - mu) < 0.1 for x in data])\n",
    "print('%d of %d values are closer than 0.1' % (close, len(data)))"
   ]
  },
  {
   "cell_type": "markdown",
   "metadata": {
    "slideshow": {
     "slide_type": "subslide"
    }
   },
   "source": [
    "#### Variance"
   ]
  },
  {
   "cell_type": "markdown",
   "metadata": {
    "slideshow": {
     "slide_type": "fragment"
    }
   },
   "source": [
    "What we did in the last slide was trying to estimate a measure for the dispersion of the distribution. The more systematic way to do so is calculating the **variance**."
   ]
  },
  {
   "cell_type": "markdown",
   "metadata": {
    "slideshow": {
     "slide_type": "fragment"
    }
   },
   "source": [
    "$$ s^2 = \\frac{\\sum_{i=0}^N (\\mu - x_i)^2}{N} $$"
   ]
  },
  {
   "cell_type": "code",
   "execution_count": 6,
   "metadata": {
    "slideshow": {
     "slide_type": "fragment"
    }
   },
   "outputs": [
    {
     "name": "stdout",
     "output_type": "stream",
     "text": [
      "The variance is 0.78\n"
     ]
    }
   ],
   "source": [
    "v = sum((data - mu)**2) / len(data)\n",
    "print('The variance is %.2f' % v)"
   ]
  },
  {
   "cell_type": "markdown",
   "metadata": {
    "slideshow": {
     "slide_type": "subslide"
    }
   },
   "source": [
    "#### Standard Error "
   ]
  },
  {
   "cell_type": "markdown",
   "metadata": {
    "slideshow": {
     "slide_type": "fragment"
    }
   },
   "source": [
    "The value $s$ used to calculate the *variance* $s^2$ is also called **standard error**. When we set the threshold to ``0.1`` earlier to get an idea of how many observations are close to the mean value, we also could have used the standard error. "
   ]
  },
  {
   "cell_type": "code",
   "execution_count": 7,
   "metadata": {
    "slideshow": {
     "slide_type": "fragment"
    }
   },
   "outputs": [
    {
     "data": {
      "text/plain": [
       "0.8815188576246978"
      ]
     },
     "execution_count": 7,
     "metadata": {},
     "output_type": "execute_result"
    }
   ],
   "source": [
    "sqrt(v)"
   ]
  },
  {
   "cell_type": "markdown",
   "metadata": {
    "slideshow": {
     "slide_type": "slide"
    }
   },
   "source": [
    "### 2.2 Sample size"
   ]
  },
  {
   "cell_type": "markdown",
   "metadata": {
    "slideshow": {
     "slide_type": "fragment"
    }
   },
   "source": [
    "All the statistical moments shown above are *sample statistics*. They are no features of the underlying population. That means, they are all influenced by sample size."
   ]
  },
  {
   "cell_type": "code",
   "execution_count": 50,
   "metadata": {
    "slideshow": {
     "slide_type": "skip"
    }
   },
   "outputs": [],
   "source": [
    "# sample experiment\n",
    "n = 150\n",
    "np.random.seed(42)\n",
    "random_index = np.random.choice(range(len(data)), replace=False, size=len(data))\n",
    "def get_stats(i):\n",
    "    d = data[random_index[:i]]\n",
    "    return dict(mu=np.mean(d), var=np.var(d), err=sqrt(np.var(d)))\n",
    "samples = {i:get_stats(i) for i in range(10,n)}\n",
    "\n",
    "# plot\n",
    "def plt_samples():\n",
    "    fig, ax = plt.subplots(1, 1, figsize=(14,6))\n",
    "    pd.DataFrame(samples).T.plot(ax=ax)\n",
    "    ax.hlines(np.mean(data), xmin=10, xmax=n, color='blue', linestyle='--', alpha=.5)\n",
    "    ax.hlines(np.var(data), xmin=10, xmax=n, color='orange', linestyle='--', alpha=.5)\n",
    "    ax.hlines(np.sqrt(np.var(data)), xmin=10, xmax=n, color='green', linestyle='--', alpha=.5)"
   ]
  },
  {
   "cell_type": "code",
   "execution_count": 51,
   "metadata": {
    "slideshow": {
     "slide_type": "subslide"
    }
   },
   "outputs": [
    {
     "data": {
      "image/png": "[encoded data removed]",
      "text/plain": [
       "<Figure size 1008x432 with 1 Axes>"
      ]
     },
     "metadata": {
      "needs_background": "light"
     },
     "output_type": "display_data"
    }
   ],
   "source": [
    "plt_samples()"
   ]
  },
  {
   "cell_type": "markdown",
   "metadata": {
    "slideshow": {
     "slide_type": "slide"
    }
   },
   "source": [
    "### 2.3 Visualizing distributions"
   ]
  },
  {
   "cell_type": "markdown",
   "metadata": {
    "slideshow": {
     "slide_type": "fragment"
    }
   },
   "source": [
    "Knowing about the first two moments of a distribution is nice, but does not tell everything about a distribution. We can visualize how the observation values are distributed using a **histogram**. For this, we group the values into classes and count the number of occurences in each class. This process is called **binning**. There are tons of publications about binning."
   ]
  },
  {
   "cell_type": "code",
   "execution_count": null,
   "metadata": {},
   "outputs": [],
   "source": []
  }
 ],
 "metadata": {
  "celltoolbar": "Slideshow",
  "finalized": {
   "timestamp": 1585593495178,
   "trusted": true
  },
  "kernelspec": {
   "display_name": "Python 3",
   "language": "python",
   "name": "python3"
  },
  "language_info": {
   "codemirror_mode": {
    "name": "ipython",
    "version": 3
   },
   "file_extension": ".py",
   "mimetype": "text/x-python",
   "name": "python",
   "nbconvert_exporter": "python",
   "pygments_lexer": "ipython3",
   "version": "3.7.6"
  }
 },
 "nbformat": 4,
 "nbformat_minor": 4
}
