{
 "cells": [
  {
   "cell_type": "markdown",
   "metadata": {
    "slideshow": {
     "slide_type": "slide"
    }
   },
   "source": [
    "# Geostatistics"
   ]
  },
  {
   "cell_type": "markdown",
   "metadata": {
    "slideshow": {
     "slide_type": "fragment"
    }
   },
   "source": [
    "## 2. Univariate statistics"
   ]
  },
  {
   "cell_type": "code",
   "execution_count": 1,
   "metadata": {
    "slideshow": {
     "slide_type": "notes"
    }
   },
   "outputs": [
    {
     "data": {
      "text/html": [
       "\n",
       "    <div class=\"bk-root\">\n",
       "        <a href=\"https://bokeh.org\" target=\"_blank\" class=\"bk-logo bk-logo-small bk-logo-notebook\"></a>\n",
       "        <span id=\"1001\">Loading BokehJS ...</span>\n",
       "    </div>"
      ]
     },
     "metadata": {},
     "output_type": "display_data"
    },
    {
     "data": {
      "application/javascript": [
       "\n",
       "(function(root) {\n",
       "  function now() {\n",
       "    return new Date();\n",
       "  }\n",
       "\n",
       "  var force = true;\n",
       "\n",
       "  if (typeof root._bokeh_onload_callbacks === \"undefined\" || force === true) {\n",
       "    root._bokeh_onload_callbacks = [];\n",
       "    root._bokeh_is_loading = undefined;\n",
       "  }\n",
       "\n",
       "  var JS_MIME_TYPE = 'application/javascript';\n",
       "  var HTML_MIME_TYPE = 'text/html';\n",
       "  var EXEC_MIME_TYPE = 'application/vnd.bokehjs_exec.v0+json';\n",
       "  var CLASS_NAME = 'output_bokeh rendered_html';\n",
       "\n",
       "  /**\n",
       "   * Render data to the DOM node\n",
       "   */\n",
       "  function render(props, node) {\n",
       "    var script = document.createElement(\"script\");\n",
       "    node.appendChild(script);\n",
       "  }\n",
       "\n",
       "  /**\n",
       "   * Handle when an output is cleared or removed\n",
       "   */\n",
       "  function handleClearOutput(event, handle) {\n",
       "    var cell = handle.cell;\n",
       "\n",
       "    var id = cell.output_area._bokeh_element_id;\n",
       "    var server_id = cell.output_area._bokeh_server_id;\n",
       "    // Clean up Bokeh references\n",
       "    if (id != null && id in Bokeh.index) {\n",
       "      Bokeh.index[id].model.document.clear();\n",
       "      delete Bokeh.index[id];\n",
       "    }\n",
       "\n",
       "    if (server_id !== undefined) {\n",
       "      // Clean up Bokeh references\n",
       "      var cmd = \"from bokeh.io.state import curstate; print(curstate().uuid_to_server['\" + server_id + \"'].get_sessions()[0].document.roots[0]._id)\";\n",
       "      cell.notebook.kernel.execute(cmd, {\n",
       "        iopub: {\n",
       "          output: function(msg) {\n",
       "            var id = msg.content.text.trim();\n",
       "            if (id in Bokeh.index) {\n",
       "              Bokeh.index[id].model.document.clear();\n",
       "              delete Bokeh.index[id];\n",
       "            }\n",
       "          }\n",
       "        }\n",
       "      });\n",
       "      // Destroy server and session\n",
       "      var cmd = \"import bokeh.io.notebook as ion; ion.destroy_server('\" + server_id + \"')\";\n",
       "      cell.notebook.kernel.execute(cmd);\n",
       "    }\n",
       "  }\n",
       "\n",
       "  /**\n",
       "   * Handle when a new output is added\n",
       "   */\n",
       "  function handleAddOutput(event, handle) {\n",
       "    var output_area = handle.output_area;\n",
       "    var output = handle.output;\n",
       "\n",
       "    // limit handleAddOutput to display_data with EXEC_MIME_TYPE content only\n",
       "    if ((output.output_type != \"display_data\") || (!output.data.hasOwnProperty(EXEC_MIME_TYPE))) {\n",
       "      return\n",
       "    }\n",
       "\n",
       "    var toinsert = output_area.element.find(\".\" + CLASS_NAME.split(' ')[0]);\n",
       "\n",
       "    if (output.metadata[EXEC_MIME_TYPE][\"id\"] !== undefined) {\n",
       "      toinsert[toinsert.length - 1].firstChild.textContent = output.data[JS_MIME_TYPE];\n",
       "      // store reference to embed id on output_area\n",
       "      output_area._bokeh_element_id = output.metadata[EXEC_MIME_TYPE][\"id\"];\n",
       "    }\n",
       "    if (output.metadata[EXEC_MIME_TYPE][\"server_id\"] !== undefined) {\n",
       "      var bk_div = document.createElement(\"div\");\n",
       "      bk_div.innerHTML = output.data[HTML_MIME_TYPE];\n",
       "      var script_attrs = bk_div.children[0].attributes;\n",
       "      for (var i = 0; i < script_attrs.length; i++) {\n",
       "        toinsert[toinsert.length - 1].firstChild.setAttribute(script_attrs[i].name, script_attrs[i].value);\n",
       "      }\n",
       "      // store reference to server id on output_area\n",
       "      output_area._bokeh_server_id = output.metadata[EXEC_MIME_TYPE][\"server_id\"];\n",
       "    }\n",
       "  }\n",
       "\n",
       "  function register_renderer(events, OutputArea) {\n",
       "\n",
       "    function append_mime(data, metadata, element) {\n",
       "      // create a DOM node to render to\n",
       "      var toinsert = this.create_output_subarea(\n",
       "        metadata,\n",
       "        CLASS_NAME,\n",
       "        EXEC_MIME_TYPE\n",
       "      );\n",
       "      this.keyboard_manager.register_events(toinsert);\n",
       "      // Render to node\n",
       "      var props = {data: data, metadata: metadata[EXEC_MIME_TYPE]};\n",
       "      render(props, toinsert[toinsert.length - 1]);\n",
       "      element.append(toinsert);\n",
       "      return toinsert\n",
       "    }\n",
       "\n",
       "    /* Handle when an output is cleared or removed */\n",
       "    events.on('clear_output.CodeCell', handleClearOutput);\n",
       "    events.on('delete.Cell', handleClearOutput);\n",
       "\n",
       "    /* Handle when a new output is added */\n",
       "    events.on('output_added.OutputArea', handleAddOutput);\n",
       "\n",
       "    /**\n",
       "     * Register the mime type and append_mime function with output_area\n",
       "     */\n",
       "    OutputArea.prototype.register_mime_type(EXEC_MIME_TYPE, append_mime, {\n",
       "      /* Is output safe? */\n",
       "      safe: true,\n",
       "      /* Index of renderer in `output_area.display_order` */\n",
       "      index: 0\n",
       "    });\n",
       "  }\n",
       "\n",
       "  // register the mime type if in Jupyter Notebook environment and previously unregistered\n",
       "  if (root.Jupyter !== undefined) {\n",
       "    var events = require('base/js/events');\n",
       "    var OutputArea = require('notebook/js/outputarea').OutputArea;\n",
       "\n",
       "    if (OutputArea.prototype.mime_types().indexOf(EXEC_MIME_TYPE) == -1) {\n",
       "      register_renderer(events, OutputArea);\n",
       "    }\n",
       "  }\n",
       "\n",
       "  \n",
       "  if (typeof (root._bokeh_timeout) === \"undefined\" || force === true) {\n",
       "    root._bokeh_timeout = Date.now() + 5000;\n",
       "    root._bokeh_failed_load = false;\n",
       "  }\n",
       "\n",
       "  var NB_LOAD_WARNING = {'data': {'text/html':\n",
       "     \"<div style='background-color: #fdd'>\\n\"+\n",
       "     \"<p>\\n\"+\n",
       "     \"BokehJS does not appear to have successfully loaded. If loading BokehJS from CDN, this \\n\"+\n",
       "     \"may be due to a slow or bad network connection. Possible fixes:\\n\"+\n",
       "     \"</p>\\n\"+\n",
       "     \"<ul>\\n\"+\n",
       "     \"<li>re-rerun `output_notebook()` to attempt to load from CDN again, or</li>\\n\"+\n",
       "     \"<li>use INLINE resources instead, as so:</li>\\n\"+\n",
       "     \"</ul>\\n\"+\n",
       "     \"<code>\\n\"+\n",
       "     \"from bokeh.resources import INLINE\\n\"+\n",
       "     \"output_notebook(resources=INLINE)\\n\"+\n",
       "     \"</code>\\n\"+\n",
       "     \"</div>\"}};\n",
       "\n",
       "  function display_loaded() {\n",
       "    var el = document.getElementById(\"1001\");\n",
       "    if (el != null) {\n",
       "      el.textContent = \"BokehJS is loading...\";\n",
       "    }\n",
       "    if (root.Bokeh !== undefined) {\n",
       "      if (el != null) {\n",
       "        el.textContent = \"BokehJS \" + root.Bokeh.version + \" successfully loaded.\";\n",
       "      }\n",
       "    } else if (Date.now() < root._bokeh_timeout) {\n",
       "      setTimeout(display_loaded, 100)\n",
       "    }\n",
       "  }\n",
       "\n",
       "\n",
       "  function run_callbacks() {\n",
       "    try {\n",
       "      root._bokeh_onload_callbacks.forEach(function(callback) {\n",
       "        if (callback != null)\n",
       "          callback();\n",
       "      });\n",
       "    } finally {\n",
       "      delete root._bokeh_onload_callbacks\n",
       "    }\n",
       "    console.debug(\"Bokeh: all callbacks have finished\");\n",
       "  }\n",
       "\n",
       "  function load_libs(css_urls, js_urls, callback) {\n",
       "    if (css_urls == null) css_urls = [];\n",
       "    if (js_urls == null) js_urls = [];\n",
       "\n",
       "    root._bokeh_onload_callbacks.push(callback);\n",
       "    if (root._bokeh_is_loading > 0) {\n",
       "      console.debug(\"Bokeh: BokehJS is being loaded, scheduling callback at\", now());\n",
       "      return null;\n",
       "    }\n",
       "    if (js_urls == null || js_urls.length === 0) {\n",
       "      run_callbacks();\n",
       "      return null;\n",
       "    }\n",
       "    console.debug(\"Bokeh: BokehJS not loaded, scheduling load and callback at\", now());\n",
       "    root._bokeh_is_loading = css_urls.length + js_urls.length;\n",
       "\n",
       "    function on_load() {\n",
       "      root._bokeh_is_loading--;\n",
       "      if (root._bokeh_is_loading === 0) {\n",
       "        console.debug(\"Bokeh: all BokehJS libraries/stylesheets loaded\");\n",
       "        run_callbacks()\n",
       "      }\n",
       "    }\n",
       "\n",
       "    function on_error() {\n",
       "      console.error(\"failed to load \" + url);\n",
       "    }\n",
       "\n",
       "    for (var i = 0; i < css_urls.length; i++) {\n",
       "      var url = css_urls[i];\n",
       "      const element = document.createElement(\"link\");\n",
       "      element.onload = on_load;\n",
       "      element.onerror = on_error;\n",
       "      element.rel = \"stylesheet\";\n",
       "      element.type = \"text/css\";\n",
       "      element.href = url;\n",
       "      console.debug(\"Bokeh: injecting link tag for BokehJS stylesheet: \", url);\n",
       "      document.body.appendChild(element);\n",
       "    }\n",
       "\n",
       "    for (var i = 0; i < js_urls.length; i++) {\n",
       "      var url = js_urls[i];\n",
       "      var element = document.createElement('script');\n",
       "      element.onload = on_load;\n",
       "      element.onerror = on_error;\n",
       "      element.async = false;\n",
       "      element.src = url;\n",
       "      console.debug(\"Bokeh: injecting script tag for BokehJS library: \", url);\n",
       "      document.head.appendChild(element);\n",
       "    }\n",
       "  };var element = document.getElementById(\"1001\");\n",
       "  if (element == null) {\n",
       "    console.error(\"Bokeh: ERROR: autoload.js configured with elementid '1001' but no matching script tag was found. \")\n",
       "    return false;\n",
       "  }\n",
       "\n",
       "  function inject_raw_css(css) {\n",
       "    const element = document.createElement(\"style\");\n",
       "    element.appendChild(document.createTextNode(css));\n",
       "    document.body.appendChild(element);\n",
       "  }\n",
       "\n",
       "  \n",
       "  var js_urls = [\"https://cdn.pydata.org/bokeh/release/bokeh-1.4.0.min.js\", \"https://cdn.pydata.org/bokeh/release/bokeh-widgets-1.4.0.min.js\", \"https://cdn.pydata.org/bokeh/release/bokeh-tables-1.4.0.min.js\", \"https://cdn.pydata.org/bokeh/release/bokeh-gl-1.4.0.min.js\"];\n",
       "  var css_urls = [];\n",
       "  \n",
       "\n",
       "  var inline_js = [\n",
       "    function(Bokeh) {\n",
       "      Bokeh.set_log_level(\"info\");\n",
       "    },\n",
       "    function(Bokeh) {\n",
       "    \n",
       "    \n",
       "    }\n",
       "  ];\n",
       "\n",
       "  function run_inline_js() {\n",
       "    \n",
       "    if (root.Bokeh !== undefined || force === true) {\n",
       "      \n",
       "    for (var i = 0; i < inline_js.length; i++) {\n",
       "      inline_js[i].call(root, root.Bokeh);\n",
       "    }\n",
       "    if (force === true) {\n",
       "        display_loaded();\n",
       "      }} else if (Date.now() < root._bokeh_timeout) {\n",
       "      setTimeout(run_inline_js, 100);\n",
       "    } else if (!root._bokeh_failed_load) {\n",
       "      console.log(\"Bokeh: BokehJS failed to load within specified timeout.\");\n",
       "      root._bokeh_failed_load = true;\n",
       "    } else if (force !== true) {\n",
       "      var cell = $(document.getElementById(\"1001\")).parents('.cell').data().cell;\n",
       "      cell.output_area.append_execute_result(NB_LOAD_WARNING)\n",
       "    }\n",
       "\n",
       "  }\n",
       "\n",
       "  if (root._bokeh_is_loading === 0) {\n",
       "    console.debug(\"Bokeh: BokehJS loaded, going straight to plotting\");\n",
       "    run_inline_js();\n",
       "  } else {\n",
       "    load_libs(css_urls, js_urls, function() {\n",
       "      console.debug(\"Bokeh: BokehJS plotting callback run at\", now());\n",
       "      run_inline_js();\n",
       "    });\n",
       "  }\n",
       "}(window));"
      ],
      "application/vnd.bokehjs_load.v0+json": "\n(function(root) {\n  function now() {\n    return new Date();\n  }\n\n  var force = true;\n\n  if (typeof root._bokeh_onload_callbacks === \"undefined\" || force === true) {\n    root._bokeh_onload_callbacks = [];\n    root._bokeh_is_loading = undefined;\n  }\n\n  \n\n  \n  if (typeof (root._bokeh_timeout) === \"undefined\" || force === true) {\n    root._bokeh_timeout = Date.now() + 5000;\n    root._bokeh_failed_load = false;\n  }\n\n  var NB_LOAD_WARNING = {'data': {'text/html':\n     \"<div style='background-color: #fdd'>\\n\"+\n     \"<p>\\n\"+\n     \"BokehJS does not appear to have successfully loaded. If loading BokehJS from CDN, this \\n\"+\n     \"may be due to a slow or bad network connection. Possible fixes:\\n\"+\n     \"</p>\\n\"+\n     \"<ul>\\n\"+\n     \"<li>re-rerun `output_notebook()` to attempt to load from CDN again, or</li>\\n\"+\n     \"<li>use INLINE resources instead, as so:</li>\\n\"+\n     \"</ul>\\n\"+\n     \"<code>\\n\"+\n     \"from bokeh.resources import INLINE\\n\"+\n     \"output_notebook(resources=INLINE)\\n\"+\n     \"</code>\\n\"+\n     \"</div>\"}};\n\n  function display_loaded() {\n    var el = document.getElementById(\"1001\");\n    if (el != null) {\n      el.textContent = \"BokehJS is loading...\";\n    }\n    if (root.Bokeh !== undefined) {\n      if (el != null) {\n        el.textContent = \"BokehJS \" + root.Bokeh.version + \" successfully loaded.\";\n      }\n    } else if (Date.now() < root._bokeh_timeout) {\n      setTimeout(display_loaded, 100)\n    }\n  }\n\n\n  function run_callbacks() {\n    try {\n      root._bokeh_onload_callbacks.forEach(function(callback) {\n        if (callback != null)\n          callback();\n      });\n    } finally {\n      delete root._bokeh_onload_callbacks\n    }\n    console.debug(\"Bokeh: all callbacks have finished\");\n  }\n\n  function load_libs(css_urls, js_urls, callback) {\n    if (css_urls == null) css_urls = [];\n    if (js_urls == null) js_urls = [];\n\n    root._bokeh_onload_callbacks.push(callback);\n    if (root._bokeh_is_loading > 0) {\n      console.debug(\"Bokeh: BokehJS is being loaded, scheduling callback at\", now());\n      return null;\n    }\n    if (js_urls == null || js_urls.length === 0) {\n      run_callbacks();\n      return null;\n    }\n    console.debug(\"Bokeh: BokehJS not loaded, scheduling load and callback at\", now());\n    root._bokeh_is_loading = css_urls.length + js_urls.length;\n\n    function on_load() {\n      root._bokeh_is_loading--;\n      if (root._bokeh_is_loading === 0) {\n        console.debug(\"Bokeh: all BokehJS libraries/stylesheets loaded\");\n        run_callbacks()\n      }\n    }\n\n    function on_error() {\n      console.error(\"failed to load \" + url);\n    }\n\n    for (var i = 0; i < css_urls.length; i++) {\n      var url = css_urls[i];\n      const element = document.createElement(\"link\");\n      element.onload = on_load;\n      element.onerror = on_error;\n      element.rel = \"stylesheet\";\n      element.type = \"text/css\";\n      element.href = url;\n      console.debug(\"Bokeh: injecting link tag for BokehJS stylesheet: \", url);\n      document.body.appendChild(element);\n    }\n\n    for (var i = 0; i < js_urls.length; i++) {\n      var url = js_urls[i];\n      var element = document.createElement('script');\n      element.onload = on_load;\n      element.onerror = on_error;\n      element.async = false;\n      element.src = url;\n      console.debug(\"Bokeh: injecting script tag for BokehJS library: \", url);\n      document.head.appendChild(element);\n    }\n  };var element = document.getElementById(\"1001\");\n  if (element == null) {\n    console.error(\"Bokeh: ERROR: autoload.js configured with elementid '1001' but no matching script tag was found. \")\n    return false;\n  }\n\n  function inject_raw_css(css) {\n    const element = document.createElement(\"style\");\n    element.appendChild(document.createTextNode(css));\n    document.body.appendChild(element);\n  }\n\n  \n  var js_urls = [\"https://cdn.pydata.org/bokeh/release/bokeh-1.4.0.min.js\", \"https://cdn.pydata.org/bokeh/release/bokeh-widgets-1.4.0.min.js\", \"https://cdn.pydata.org/bokeh/release/bokeh-tables-1.4.0.min.js\", \"https://cdn.pydata.org/bokeh/release/bokeh-gl-1.4.0.min.js\"];\n  var css_urls = [];\n  \n\n  var inline_js = [\n    function(Bokeh) {\n      Bokeh.set_log_level(\"info\");\n    },\n    function(Bokeh) {\n    \n    \n    }\n  ];\n\n  function run_inline_js() {\n    \n    if (root.Bokeh !== undefined || force === true) {\n      \n    for (var i = 0; i < inline_js.length; i++) {\n      inline_js[i].call(root, root.Bokeh);\n    }\n    if (force === true) {\n        display_loaded();\n      }} else if (Date.now() < root._bokeh_timeout) {\n      setTimeout(run_inline_js, 100);\n    } else if (!root._bokeh_failed_load) {\n      console.log(\"Bokeh: BokehJS failed to load within specified timeout.\");\n      root._bokeh_failed_load = true;\n    } else if (force !== true) {\n      var cell = $(document.getElementById(\"1001\")).parents('.cell').data().cell;\n      cell.output_area.append_execute_result(NB_LOAD_WARNING)\n    }\n\n  }\n\n  if (root._bokeh_is_loading === 0) {\n    console.debug(\"Bokeh: BokehJS loaded, going straight to plotting\");\n    run_inline_js();\n  } else {\n    load_libs(css_urls, js_urls, function() {\n      console.debug(\"Bokeh: BokehJS plotting callback run at\", now());\n      run_inline_js();\n    });\n  }\n}(window));"
     },
     "metadata": {},
     "output_type": "display_data"
    }
   ],
   "source": [
    "import pandas as pd\n",
    "import numpy as np\n",
    "import matplotlib.pyplot as plt\n",
    "import scipy.stats as stats\n",
    "from numpy import sqrt\n",
    "from bokeh.plotting import figure, output_notebook, show\n",
    "from bokeh.models.tools import HoverTool\n",
    "from bokeh.layouts import row\n",
    "\n",
    "output_notebook()"
   ]
  },
  {
   "cell_type": "markdown",
   "metadata": {
    "slideshow": {
     "slide_type": "slide"
    }
   },
   "source": [
    "### 2.1 Why statistics?"
   ]
  },
  {
   "cell_type": "markdown",
   "metadata": {
    "slideshow": {
     "slide_type": "fragment"
    }
   },
   "source": [
    "Usually we do not know all possible system states. And even if, it would be hard to describe *system behavior* while taking all states into consideration. Thus, we usually try to describe a *common* state, or a representative one."
   ]
  },
  {
   "cell_type": "markdown",
   "metadata": {
    "slideshow": {
     "slide_type": "fragment"
    }
   },
   "source": [
    "This already implies that the question of how to describe a system using means of statistics is already bound to the context. It is important **why** we want to describe that system."
   ]
  },
  {
   "cell_type": "markdown",
   "metadata": {
    "slideshow": {
     "slide_type": "subslide"
    }
   },
   "source": [
    "Let's load one of the data sets of the last lecture:"
   ]
  },
  {
   "cell_type": "code",
   "execution_count": 2,
   "metadata": {
    "slideshow": {
     "slide_type": "skip"
    }
   },
   "outputs": [],
   "source": [
    "df = pd.read_csv('./data/sample_data.txt', sep='\\s+')\n",
    "data = df.iloc[:,1].values"
   ]
  },
  {
   "cell_type": "code",
   "execution_count": 3,
   "metadata": {
    "slideshow": {
     "slide_type": "fragment"
    }
   },
   "outputs": [
    {
     "name": "stdout",
     "output_type": "stream",
     "text": [
      "[-0.16441089  0.03598559 -0.18827199  0.36503706 -0.02894305] ... [-0.16441089  0.03598559 -0.18827199  0.36503706 -0.02894305]\n"
     ]
    }
   ],
   "source": [
    "print(data[:5], '...', data[:5])"
   ]
  },
  {
   "cell_type": "markdown",
   "metadata": {
    "slideshow": {
     "slide_type": "subslide"
    }
   },
   "source": [
    "#### Location"
   ]
  },
  {
   "cell_type": "markdown",
   "metadata": {
    "slideshow": {
     "slide_type": "fragment"
    }
   },
   "source": [
    "First, we can describe the **distribution** of observations by their **mean** value."
   ]
  },
  {
   "cell_type": "markdown",
   "metadata": {
    "slideshow": {
     "slide_type": "fragment"
    }
   },
   "source": [
    "$$ \\mu = \\frac{\\sum}{N} $$"
   ]
  },
  {
   "cell_type": "code",
   "execution_count": 4,
   "metadata": {
    "slideshow": {
     "slide_type": "fragment"
    }
   },
   "outputs": [
    {
     "data": {
      "text/plain": [
       "0.7583277269546096"
      ]
     },
     "execution_count": 4,
     "metadata": {},
     "output_type": "execute_result"
    }
   ],
   "source": [
    "sum(data) / len(data)"
   ]
  },
  {
   "cell_type": "markdown",
   "metadata": {
    "slideshow": {
     "slide_type": "fragment"
    }
   },
   "source": [
    "But does ``0.76`` (approx.) really describe the other values?\n",
    "\n",
    "How many of them are off by only ``0.1``?"
   ]
  },
  {
   "cell_type": "code",
   "execution_count": 5,
   "metadata": {
    "slideshow": {
     "slide_type": "fragment"
    }
   },
   "outputs": [
    {
     "name": "stdout",
     "output_type": "stream",
     "text": [
      "43 of 500 values are closer than 0.1\n"
     ]
    }
   ],
   "source": [
    "mu = sum(data) / len(data)\n",
    "close = sum([abs(x - mu) < 0.1 for x in data])\n",
    "print('%d of %d values are closer than 0.1' % (close, len(data)))"
   ]
  },
  {
   "cell_type": "markdown",
   "metadata": {
    "slideshow": {
     "slide_type": "subslide"
    }
   },
   "source": [
    "#### Variance"
   ]
  },
  {
   "cell_type": "markdown",
   "metadata": {
    "slideshow": {
     "slide_type": "fragment"
    }
   },
   "source": [
    "What we did in the last slide was trying to estimate a measure for the dispersion of the distribution. The more systematic way to do so is calculating the **variance**."
   ]
  },
  {
   "cell_type": "markdown",
   "metadata": {
    "slideshow": {
     "slide_type": "fragment"
    }
   },
   "source": [
    "$$ s^2 = \\frac{\\sum_{i=0}^N (\\mu - x_i)^2}{N} $$"
   ]
  },
  {
   "cell_type": "code",
   "execution_count": 6,
   "metadata": {
    "slideshow": {
     "slide_type": "fragment"
    }
   },
   "outputs": [
    {
     "name": "stdout",
     "output_type": "stream",
     "text": [
      "The variance is 0.78\n"
     ]
    }
   ],
   "source": [
    "v = sum((data - mu)**2) / len(data)\n",
    "print('The variance is %.2f' % v)"
   ]
  },
  {
   "cell_type": "markdown",
   "metadata": {
    "slideshow": {
     "slide_type": "subslide"
    }
   },
   "source": [
    "#### Standard Error "
   ]
  },
  {
   "cell_type": "markdown",
   "metadata": {
    "slideshow": {
     "slide_type": "fragment"
    }
   },
   "source": [
    "The value $s$ used to calculate the *variance* $s^2$ is also called **standard error**. When we set the threshold to ``0.1`` earlier to get an idea of how many observations are close to the mean value, we also could have used the standard error. "
   ]
  },
  {
   "cell_type": "code",
   "execution_count": 7,
   "metadata": {
    "slideshow": {
     "slide_type": "fragment"
    }
   },
   "outputs": [
    {
     "data": {
      "text/plain": [
       "0.8815188576246978"
      ]
     },
     "execution_count": 7,
     "metadata": {},
     "output_type": "execute_result"
    }
   ],
   "source": [
    "sqrt(v)"
   ]
  },
  {
   "cell_type": "markdown",
   "metadata": {
    "slideshow": {
     "slide_type": "slide"
    }
   },
   "source": [
    "### 2.2 Sample size"
   ]
  },
  {
   "cell_type": "markdown",
   "metadata": {
    "slideshow": {
     "slide_type": "fragment"
    }
   },
   "source": [
    "All the statistical moments shown above are *sample statistics*. They are no features of the underlying population. That means, they are all influenced by sample size."
   ]
  },
  {
   "cell_type": "code",
   "execution_count": 8,
   "metadata": {
    "slideshow": {
     "slide_type": "skip"
    }
   },
   "outputs": [],
   "source": [
    "# sample experiment\n",
    "n = 150\n",
    "np.random.seed(42)\n",
    "random_index = np.random.choice(range(len(data)), replace=False, size=len(data))\n",
    "def get_stats(i):\n",
    "    d = data[random_index[:i]]\n",
    "    return dict(mu=np.mean(d), var=np.var(d), err=sqrt(np.var(d)))\n",
    "samples = {i:get_stats(i) for i in range(10,n)}\n",
    "\n",
    "# plot\n",
    "def plt_samples():\n",
    "    fig, ax = plt.subplots(1, 1, figsize=(14,6))\n",
    "    pd.DataFrame(samples).T.plot(ax=ax)\n",
    "    ax.hlines(np.mean(data), xmin=10, xmax=n, color='blue', linestyle='--', alpha=.5)\n",
    "    ax.hlines(np.var(data), xmin=10, xmax=n, color='orange', linestyle='--', alpha=.5)\n",
    "    ax.hlines(np.sqrt(np.var(data)), xmin=10, xmax=n, color='green', linestyle='--', alpha=.5)"
   ]
  },
  {
   "cell_type": "code",
   "execution_count": 9,
   "metadata": {
    "slideshow": {
     "slide_type": "subslide"
    }
   },
   "outputs": [
    {
     "data": {
      "image/png": "[encoded data removed]",
      "text/plain": [
       "<Figure size 1008x432 with 1 Axes>"
      ]
     },
     "metadata": {
      "needs_background": "light"
     },
     "output_type": "display_data"
    }
   ],
   "source": [
    "plt_samples()"
   ]
  },
  {
   "cell_type": "markdown",
   "metadata": {
    "slideshow": {
     "slide_type": "slide"
    }
   },
   "source": [
    "### 2.3 Visualizing distributions"
   ]
  },
  {
   "cell_type": "markdown",
   "metadata": {
    "slideshow": {
     "slide_type": "fragment"
    }
   },
   "source": [
    "Knowing about the first two moments of a distribution is nice, but does not tell everything about a distribution. We can visualize how the observation values are distributed using a **histogram**. For this, we group the values into classes and count the number of occurences in each class. This process is called **binning**. There are tons of publications about binning."
   ]
  },
  {
   "cell_type": "code",
   "execution_count": 10,
   "metadata": {
    "slideshow": {
     "slide_type": "skip"
    }
   },
   "outputs": [],
   "source": [
    "count, edges = np.histogram(data, bins=50)\n",
    "\n",
    "histogram = figure(tools=[], toolbar_location=\"above\")\n",
    "histogram.quad(top=count, bottom=0, left=edges[:-1], right=edges[1:], fill_color=\"navy\", line_color=\"white\", alpha=.5)\n",
    "histogram.y_range.start = 0\n",
    "\n",
    "hover = HoverTool(tooltips=[('Value range:', '@left to @right'), ('Count', '@top')])\n",
    "histogram.add_tools(hover)"
   ]
  },
  {
   "cell_type": "code",
   "execution_count": 11,
   "metadata": {
    "slideshow": {
     "slide_type": "subslide"
    }
   },
   "outputs": [
    {
     "data": {
      "text/html": [
       "\n",
       "\n",
       "\n",
       "\n",
       "\n",
       "\n",
       "  <div class=\"bk-root\" id=\"62a5ed34-9aac-4b68-b083-dace2832f482\" data-root-id=\"1002\"></div>\n"
      ]
     },
     "metadata": {},
     "output_type": "display_data"
    },
    {
     "data": {
      "application/javascript": [
       "(function(root) {\n",
       "  function embed_document(root) {\n",
       "    \n",
       "  var docs_json = {\"91f08f27-139d-4648-9ea3-7e8d4c403944\":{\"roots\":{\"references\":[{\"attributes\":{\"below\":[{\"id\":\"1011\",\"type\":\"LinearAxis\"}],\"center\":[{\"id\":\"1015\",\"type\":\"Grid\"},{\"id\":\"1020\",\"type\":\"Grid\"}],\"left\":[{\"id\":\"1016\",\"type\":\"LinearAxis\"}],\"renderers\":[{\"id\":\"1025\",\"type\":\"GlyphRenderer\"}],\"title\":{\"id\":\"1029\",\"type\":\"Title\"},\"toolbar\":{\"id\":\"1021\",\"type\":\"Toolbar\"},\"toolbar_location\":\"above\",\"x_range\":{\"id\":\"1003\",\"type\":\"DataRange1d\"},\"x_scale\":{\"id\":\"1007\",\"type\":\"LinearScale\"},\"y_range\":{\"id\":\"1005\",\"type\":\"DataRange1d\"},\"y_scale\":{\"id\":\"1009\",\"type\":\"LinearScale\"}},\"id\":\"1002\",\"subtype\":\"Figure\",\"type\":\"Plot\"},{\"attributes\":{\"text\":\"\"},\"id\":\"1029\",\"type\":\"Title\"},{\"attributes\":{\"callback\":null,\"tooltips\":[[\"Value range:\",\"@left to @right\"],[\"Count\",\"@top\"]]},\"id\":\"1027\",\"type\":\"HoverTool\"},{\"attributes\":{\"bottom\":{\"value\":0},\"fill_alpha\":{\"value\":0.1},\"fill_color\":{\"value\":\"#1f77b4\"},\"left\":{\"field\":\"left\"},\"line_alpha\":{\"value\":0.1},\"line_color\":{\"value\":\"#1f77b4\"},\"right\":{\"field\":\"right\"},\"top\":{\"field\":\"top\"}},\"id\":\"1024\",\"type\":\"Quad\"},{\"attributes\":{\"callback\":null,\"data\":{\"left\":{\"__ndarray__\":\"XWzwbhtm9L/CgKLhmBnzvyeVVFQWzfG/jKkGx5OA8L/ke3FzImjuv66k1Vgdz+u/eM05Phg26b9D9p0jE53mvw0fAgkOBOS/10dm7ghr4b9E4ZSnB6Tdv9gyXXL9cdi/bIQlPfM/078ArNsP0hvMvzBPbKW9t8G/YMnz66ROrb8AVJN7WYOYP7COwzP/6Lo/MCRRBJTYxz+AQGA3VB7RP+zul2xeUNY/WJ3PoWiC2z/ipYNrOVrgPxh9H4Y+8+I/TlS7oEOM5T+CK1e7SCXoP7oC89VNvuo/7tmO8FJX7T8isSoLWPDvPy1E45KuRPE/xy8xIDGR8j9jG3+ts93zP/0GzTo2KvU/l/IayLh29j8z3mhVO8P3P83JtuK9D/k/abUEcEBc+j8DoVL9wqj7P52MoIpF9fw/OXjuF8hB/j/TYzylSo7/P7gnRZlmbQBAhB3s36cTAUBSE5Mm6bkBQCAJOm0qYAJA7P7gs2sGA0C69If6rKwDQIjqLkHuUgRAVuDVhy/5BEAi1nzOcJ8FQA==\",\"dtype\":\"float64\",\"shape\":[50]},\"right\":{\"__ndarray__\":\"woCi4ZgZ878nlVRUFs3xv4ypBseTgPC/5HtxcyJo7r+upNVYHc/rv3jNOT4YNum/Q/adIxOd5r8NHwIJDgTkv9dHZu4Ia+G/ROGUpwek3b/YMl1y/XHYv2yEJT3zP9O/AKzbD9IbzL8wT2ylvbfBv2DJ8+ukTq2/AFSTe1mDmD+wjsMz/+i6PzAkUQSU2Mc/gEBgN1Qe0T/s7pdsXlDWP1idz6Fogts/4qWDazla4D8YfR+GPvPiP05Uu6BDjOU/gitXu0gl6D+6AvPVTb7qP+7ZjvBSV+0/IrEqC1jw7z8tROOSrkTxP8cvMSAxkfI/Yxt/rbPd8z/9Bs06Nir1P5fyGsi4dvY/M95oVTvD9z/NybbivQ/5P2m1BHBAXPo/A6FS/cKo+z+djKCKRfX8Pzl47hfIQf4/02M8pUqO/z+4J0WZZm0AQIQd7N+nEwFAUhOTJum5AUAgCTptKmACQOz+4LNrBgNAuvSH+qysA0CI6i5B7lIEQFbg1Ycv+QRAItZ8znCfBUDwyyMVskUGQA==\",\"dtype\":\"float64\",\"shape\":[50]},\"top\":[1,0,1,1,0,2,5,2,4,14,22,14,13,20,10,15,16,18,10,12,17,17,10,10,23,16,13,17,13,22,18,8,16,12,7,11,8,13,7,10,4,3,12,4,9,2,10,2,1,5]},\"selected\":{\"id\":\"1035\",\"type\":\"Selection\"},\"selection_policy\":{\"id\":\"1036\",\"type\":\"UnionRenderers\"}},\"id\":\"1022\",\"type\":\"ColumnDataSource\"},{\"attributes\":{},\"id\":\"1031\",\"type\":\"BasicTickFormatter\"},{\"attributes\":{\"formatter\":{\"id\":\"1031\",\"type\":\"BasicTickFormatter\"},\"ticker\":{\"id\":\"1012\",\"type\":\"BasicTicker\"}},\"id\":\"1011\",\"type\":\"LinearAxis\"},{\"attributes\":{\"callback\":null,\"start\":0},\"id\":\"1005\",\"type\":\"DataRange1d\"},{\"attributes\":{\"data_source\":{\"id\":\"1022\",\"type\":\"ColumnDataSource\"},\"glyph\":{\"id\":\"1023\",\"type\":\"Quad\"},\"hover_glyph\":null,\"muted_glyph\":null,\"nonselection_glyph\":{\"id\":\"1024\",\"type\":\"Quad\"},\"selection_glyph\":null,\"view\":{\"id\":\"1026\",\"type\":\"CDSView\"}},\"id\":\"1025\",\"type\":\"GlyphRenderer\"},{\"attributes\":{\"callback\":null},\"id\":\"1003\",\"type\":\"DataRange1d\"},{\"attributes\":{},\"id\":\"1007\",\"type\":\"LinearScale\"},{\"attributes\":{},\"id\":\"1033\",\"type\":\"BasicTickFormatter\"},{\"attributes\":{},\"id\":\"1009\",\"type\":\"LinearScale\"},{\"attributes\":{\"source\":{\"id\":\"1022\",\"type\":\"ColumnDataSource\"}},\"id\":\"1026\",\"type\":\"CDSView\"},{\"attributes\":{},\"id\":\"1012\",\"type\":\"BasicTicker\"},{\"attributes\":{\"ticker\":{\"id\":\"1012\",\"type\":\"BasicTicker\"}},\"id\":\"1015\",\"type\":\"Grid\"},{\"attributes\":{\"formatter\":{\"id\":\"1033\",\"type\":\"BasicTickFormatter\"},\"ticker\":{\"id\":\"1017\",\"type\":\"BasicTicker\"}},\"id\":\"1016\",\"type\":\"LinearAxis\"},{\"attributes\":{},\"id\":\"1017\",\"type\":\"BasicTicker\"},{\"attributes\":{\"bottom\":{\"value\":0},\"fill_alpha\":{\"value\":0.5},\"fill_color\":{\"value\":\"navy\"},\"left\":{\"field\":\"left\"},\"line_alpha\":{\"value\":0.5},\"line_color\":{\"value\":\"white\"},\"right\":{\"field\":\"right\"},\"top\":{\"field\":\"top\"}},\"id\":\"1023\",\"type\":\"Quad\"},{\"attributes\":{},\"id\":\"1035\",\"type\":\"Selection\"},{\"attributes\":{\"active_drag\":\"auto\",\"active_inspect\":\"auto\",\"active_multi\":null,\"active_scroll\":\"auto\",\"active_tap\":\"auto\",\"tools\":[{\"id\":\"1027\",\"type\":\"HoverTool\"}]},\"id\":\"1021\",\"type\":\"Toolbar\"},{\"attributes\":{},\"id\":\"1036\",\"type\":\"UnionRenderers\"},{\"attributes\":{\"dimension\":1,\"ticker\":{\"id\":\"1017\",\"type\":\"BasicTicker\"}},\"id\":\"1020\",\"type\":\"Grid\"}],\"root_ids\":[\"1002\"]},\"title\":\"Bokeh Application\",\"version\":\"1.4.0\"}};\n",
       "  var render_items = [{\"docid\":\"91f08f27-139d-4648-9ea3-7e8d4c403944\",\"roots\":{\"1002\":\"62a5ed34-9aac-4b68-b083-dace2832f482\"}}];\n",
       "  root.Bokeh.embed.embed_items_notebook(docs_json, render_items);\n",
       "\n",
       "  }\n",
       "  if (root.Bokeh !== undefined) {\n",
       "    embed_document(root);\n",
       "  } else {\n",
       "    var attempts = 0;\n",
       "    var timer = setInterval(function(root) {\n",
       "      if (root.Bokeh !== undefined) {\n",
       "        clearInterval(timer);\n",
       "        embed_document(root);\n",
       "      } else {\n",
       "        attempts++;\n",
       "        if (attempts > 100) {\n",
       "          clearInterval(timer);\n",
       "          console.log(\"Bokeh: ERROR: Unable to run BokehJS code because BokehJS library is missing\");\n",
       "        }\n",
       "      }\n",
       "    }, 10, root)\n",
       "  }\n",
       "})(window);"
      ],
      "application/vnd.bokehjs_exec.v0+json": ""
     },
     "metadata": {
      "application/vnd.bokehjs_exec.v0+json": {
       "id": "1002"
      }
     },
     "output_type": "display_data"
    }
   ],
   "source": [
    "show(histogram)"
   ]
  },
  {
   "cell_type": "markdown",
   "metadata": {
    "slideshow": {
     "slide_type": "fragment"
    }
   },
   "source": [
    "A histogram is nevertheless a visalization of the **sample**, not the population."
   ]
  },
  {
   "cell_type": "markdown",
   "metadata": {
    "slideshow": {
     "slide_type": "subslide"
    }
   },
   "source": [
    "#### Sample Size"
   ]
  },
  {
   "cell_type": "markdown",
   "metadata": {
    "slideshow": {
     "slide_type": "fragment"
    }
   },
   "source": [
    "Like for the first and second statistical moment, the histogram is also majorly influenced by the sample size."
   ]
  },
  {
   "cell_type": "code",
   "execution_count": 12,
   "metadata": {
    "slideshow": {
     "slide_type": "skip"
    }
   },
   "outputs": [],
   "source": [
    "np.random.seed(42)\n",
    "random_index = np.random.choice(range(len(data)), replace=False, size=len(data))\n",
    "\n",
    "hist = figure(tools=[], toolbar_location=\"above\", width=450, height=450)\n",
    "\n",
    "for n, color in zip((30,50,100,150,200), ('navy', 'purple', 'orange', 'red', 'darkred')):\n",
    "    d = data[random_index[:n]]\n",
    "    c, e = np.histogram(d, bins=25, density=True)\n",
    "        \n",
    "    r = hist.quad(top=c, bottom=0, left=e[:-1], right=e[1:], fill_color=color, line_color=\"white\",\n",
    "             legend_label='N=%d' % n, alpha=.5)\n",
    "    if n != 30:\n",
    "        r.visible = False\n",
    "\n",
    "hist.legend.location = 'top_right'\n",
    "hist.legend.click_policy = 'hide'"
   ]
  },
  {
   "cell_type": "code",
   "execution_count": 13,
   "metadata": {
    "slideshow": {
     "slide_type": "fragment"
    }
   },
   "outputs": [
    {
     "data": {
      "text/html": [
       "\n",
       "\n",
       "\n",
       "\n",
       "\n",
       "\n",
       "  <div class=\"bk-root\" id=\"05e43912-908d-4467-a371-4e879d1cf7c6\" data-root-id=\"1085\"></div>\n"
      ]
     },
     "metadata": {},
     "output_type": "display_data"
    },
    {
     "data": {
      "application/javascript": [
       "(function(root) {\n",
       "  function embed_document(root) {\n",
       "    \n",
       "  var docs_json = {\"cc5bc29f-2cb3-4e1e-9441-d092d337d02e\":{\"roots\":{\"references\":[{\"attributes\":{\"below\":[{\"id\":\"1094\",\"type\":\"LinearAxis\"}],\"center\":[{\"id\":\"1098\",\"type\":\"Grid\"},{\"id\":\"1103\",\"type\":\"Grid\"},{\"id\":\"1116\",\"type\":\"Legend\"}],\"left\":[{\"id\":\"1099\",\"type\":\"LinearAxis\"}],\"plot_height\":450,\"plot_width\":450,\"renderers\":[{\"id\":\"1108\",\"type\":\"GlyphRenderer\"},{\"id\":\"1121\",\"type\":\"GlyphRenderer\"},{\"id\":\"1135\",\"type\":\"GlyphRenderer\"},{\"id\":\"1151\",\"type\":\"GlyphRenderer\"},{\"id\":\"1169\",\"type\":\"GlyphRenderer\"}],\"title\":{\"id\":\"1110\",\"type\":\"Title\"},\"toolbar\":{\"id\":\"1104\",\"type\":\"Toolbar\"},\"toolbar_location\":\"above\",\"x_range\":{\"id\":\"1086\",\"type\":\"DataRange1d\"},\"x_scale\":{\"id\":\"1090\",\"type\":\"LinearScale\"},\"y_range\":{\"id\":\"1088\",\"type\":\"DataRange1d\"},\"y_scale\":{\"id\":\"1092\",\"type\":\"LinearScale\"}},\"id\":\"1085\",\"subtype\":\"Figure\",\"type\":\"Plot\"},{\"attributes\":{\"data_source\":{\"id\":\"1132\",\"type\":\"ColumnDataSource\"},\"glyph\":{\"id\":\"1133\",\"type\":\"Quad\"},\"hover_glyph\":null,\"muted_glyph\":null,\"nonselection_glyph\":{\"id\":\"1134\",\"type\":\"Quad\"},\"selection_glyph\":null,\"view\":{\"id\":\"1136\",\"type\":\"CDSView\"},\"visible\":false},\"id\":\"1135\",\"type\":\"GlyphRenderer\"},{\"attributes\":{\"label\":{\"value\":\"N=150\"},\"renderers\":[{\"id\":\"1151\",\"type\":\"GlyphRenderer\"}]},\"id\":\"1165\",\"type\":\"LegendItem\"},{\"attributes\":{},\"id\":\"1146\",\"type\":\"UnionRenderers\"},{\"attributes\":{\"formatter\":{\"id\":\"1112\",\"type\":\"BasicTickFormatter\"},\"ticker\":{\"id\":\"1095\",\"type\":\"BasicTicker\"}},\"id\":\"1094\",\"type\":\"LinearAxis\"},{\"attributes\":{\"bottom\":{\"value\":0},\"fill_alpha\":{\"value\":0.5},\"fill_color\":{\"value\":\"purple\"},\"left\":{\"field\":\"left\"},\"line_alpha\":{\"value\":0.5},\"line_color\":{\"value\":\"white\"},\"right\":{\"field\":\"right\"},\"top\":{\"field\":\"top\"}},\"id\":\"1119\",\"type\":\"Quad\"},{\"attributes\":{\"callback\":null},\"id\":\"1088\",\"type\":\"DataRange1d\"},{\"attributes\":{\"bottom\":{\"value\":0},\"fill_alpha\":{\"value\":0.1},\"fill_color\":{\"value\":\"#1f77b4\"},\"left\":{\"field\":\"left\"},\"line_alpha\":{\"value\":0.1},\"line_color\":{\"value\":\"#1f77b4\"},\"right\":{\"field\":\"right\"},\"top\":{\"field\":\"top\"}},\"id\":\"1120\",\"type\":\"Quad\"},{\"attributes\":{\"bottom\":{\"value\":0},\"fill_alpha\":{\"value\":0.5},\"fill_color\":{\"value\":\"navy\"},\"left\":{\"field\":\"left\"},\"line_alpha\":{\"value\":0.5},\"line_color\":{\"value\":\"white\"},\"right\":{\"field\":\"right\"},\"top\":{\"field\":\"top\"}},\"id\":\"1106\",\"type\":\"Quad\"},{\"attributes\":{\"data_source\":{\"id\":\"1118\",\"type\":\"ColumnDataSource\"},\"glyph\":{\"id\":\"1119\",\"type\":\"Quad\"},\"hover_glyph\":null,\"muted_glyph\":null,\"nonselection_glyph\":{\"id\":\"1120\",\"type\":\"Quad\"},\"selection_glyph\":null,\"view\":{\"id\":\"1122\",\"type\":\"CDSView\"},\"visible\":false},\"id\":\"1121\",\"type\":\"GlyphRenderer\"},{\"attributes\":{\"bottom\":{\"value\":0},\"fill_alpha\":{\"value\":0.1},\"fill_color\":{\"value\":\"#1f77b4\"},\"left\":{\"field\":\"left\"},\"line_alpha\":{\"value\":0.1},\"line_color\":{\"value\":\"#1f77b4\"},\"right\":{\"field\":\"right\"},\"top\":{\"field\":\"top\"}},\"id\":\"1107\",\"type\":\"Quad\"},{\"attributes\":{\"text\":\"\"},\"id\":\"1110\",\"type\":\"Title\"},{\"attributes\":{\"source\":{\"id\":\"1166\",\"type\":\"ColumnDataSource\"}},\"id\":\"1170\",\"type\":\"CDSView\"},{\"attributes\":{\"data_source\":{\"id\":\"1105\",\"type\":\"ColumnDataSource\"},\"glyph\":{\"id\":\"1106\",\"type\":\"Quad\"},\"hover_glyph\":null,\"muted_glyph\":null,\"nonselection_glyph\":{\"id\":\"1107\",\"type\":\"Quad\"},\"selection_glyph\":null,\"view\":{\"id\":\"1109\",\"type\":\"CDSView\"}},\"id\":\"1108\",\"type\":\"GlyphRenderer\"},{\"attributes\":{\"callback\":null,\"data\":{\"left\":{\"__ndarray__\":\"GAlXqy0Q8b8nffkuvkztvx7oRAcheei/FlOQ34Ol478afLdvzaPdvwhSTiCT/NO/8E/KobGqxL+AvH8v0MOFv1hY2ps38sE/PFZWHVag0j9QgL9skEfcPzBVFF5l9+I/OOrIhQLL5z9Cf32tn57sPyYKmWoeufA/qlRz/uwi8z8un02Su4z1P7LpJyaK9vc/NjQCulhg+j+8ftxNJ8r8P0DJtuH1M/8/4onIOuLOAEAkr7WEyQMCQGbUos6wOANAqPmPGJhtBEA=\",\"dtype\":\"float64\",\"shape\":[25]},\"right\":{\"__ndarray__\":\"J335Lr5M7b8e6EQHIXnovxZTkN+DpeO/Gny3b82j3b8IUk4gk/zTv/BPyqGxqsS/gLx/L9DDhb9YWNqbN/LBPzxWVh1WoNI/UIC/bJBH3D8wVRReZffiPzjqyIUCy+c/Qn99rZ+e7D8mCplqHrnwP6pUc/7sIvM/Lp9NkruM9T+y6Scmivb3PzY0ArpYYPo/vH7cTSfK/D9Aybbh9TP/P+KJyDrizgBAJK+1hMkDAkBm1KLOsDgDQKj5jxiYbQRA6x59Yn+iBUA=\",\"dtype\":\"float64\",\"shape\":[25]},\"top\":{\"__ndarray__\":\"u5QQHvn4sD+7lBAe+figP76UEB75+KA/RgSd9LOzzT8GnvGviAjiP1an0kEYGOM/t5QQHvn40D+28drQlJTbP+65lGU3N9U/qvHa0JSU2z9NBJ30s7PNP7bx2tCUlNs/TqfSQRgY0z+q8drQlJTbP76UEB75+NA/vpQQHvn40D+28drQlJTbP76UEB75+NA/CN8YrXV1uT9Wp9JBGBjTPx3fGK11dbk/Hd8YrXV1yT8d3xitdXW5P+65lGU3N8U/sJQQHvn4sD8=\",\"dtype\":\"float64\",\"shape\":[25]}},\"selected\":{\"id\":\"1208\",\"type\":\"Selection\"},\"selection_policy\":{\"id\":\"1209\",\"type\":\"UnionRenderers\"}},\"id\":\"1166\",\"type\":\"ColumnDataSource\"},{\"attributes\":{},\"id\":\"1090\",\"type\":\"LinearScale\"},{\"attributes\":{},\"id\":\"1145\",\"type\":\"Selection\"},{\"attributes\":{},\"id\":\"1114\",\"type\":\"BasicTickFormatter\"},{\"attributes\":{},\"id\":\"1092\",\"type\":\"LinearScale\"},{\"attributes\":{\"callback\":null},\"id\":\"1086\",\"type\":\"DataRange1d\"},{\"attributes\":{},\"id\":\"1129\",\"type\":\"Selection\"},{\"attributes\":{\"source\":{\"id\":\"1148\",\"type\":\"ColumnDataSource\"}},\"id\":\"1152\",\"type\":\"CDSView\"},{\"attributes\":{\"bottom\":{\"value\":0},\"fill_alpha\":{\"value\":0.5},\"fill_color\":{\"value\":\"darkred\"},\"left\":{\"field\":\"left\"},\"line_alpha\":{\"value\":0.5},\"line_color\":{\"value\":\"white\"},\"right\":{\"field\":\"right\"},\"top\":{\"field\":\"top\"}},\"id\":\"1167\",\"type\":\"Quad\"},{\"attributes\":{\"callback\":null,\"data\":{\"left\":{\"__ndarray__\":\"GAlXqy0Q8b8nffkuvkztvx7oRAcheei/FlOQ34Ol478afLdvzaPdvwhSTiCT/NO/8E/KobGqxL+AvH8v0MOFv1hY2ps38sE/PFZWHVag0j9QgL9skEfcPzBVFF5l9+I/OOrIhQLL5z9Cf32tn57sPyYKmWoeufA/qlRz/uwi8z8un02Su4z1P7LpJyaK9vc/NjQCulhg+j+8ftxNJ8r8P0DJtuH1M/8/4onIOuLOAEAkr7WEyQMCQGbUos6wOANAqPmPGJhtBEA=\",\"dtype\":\"float64\",\"shape\":[25]},\"right\":{\"__ndarray__\":\"J335Lr5M7b8e6EQHIXnovxZTkN+DpeO/Gny3b82j3b8IUk4gk/zTv/BPyqGxqsS/gLx/L9DDhb9YWNqbN/LBPzxWVh1WoNI/UIC/bJBH3D8wVRReZffiPzjqyIUCy+c/Qn99rZ+e7D8mCplqHrnwP6pUc/7sIvM/Lp9NkruM9T+y6Scmivb3PzY0ArpYYPo/vH7cTSfK/D9Aybbh9TP/P+KJyDrizgBAJK+1hMkDAkBm1KLOsDgDQKj5jxiYbQRA6x59Yn+iBUA=\",\"dtype\":\"float64\",\"shape\":[25]},\"top\":{\"__ndarray__\":\"pBsWKEyhtj+kGxYoTKGmP6gbFihMoaY/L1gToyLN0z+Mohsyn0ncPwdmHrfIHd8/h6IbMp9JzD8zWBOjIs3TP6gbFihModY/nxsWKEyh1j8zWBOjIs3TPx3fGK11ddk/nxsWKEyh1j/7ZR63yB3fPzNYE6MizdM/k6IbMp9JzD+Tohsyn0ncP6gbFihMocY/sJQQHvn4wD8d3xitdXXZP76UEB75+MA/qBsWKEyhxj++lBAe+fjAP5OiGzKfScw/lRsWKEyhtj8=\",\"dtype\":\"float64\",\"shape\":[25]}},\"selected\":{\"id\":\"1183\",\"type\":\"Selection\"},\"selection_policy\":{\"id\":\"1184\",\"type\":\"UnionRenderers\"}},\"id\":\"1148\",\"type\":\"ColumnDataSource\"},{\"attributes\":{\"bottom\":{\"value\":0},\"fill_alpha\":{\"value\":0.1},\"fill_color\":{\"value\":\"#1f77b4\"},\"left\":{\"field\":\"left\"},\"line_alpha\":{\"value\":0.1},\"line_color\":{\"value\":\"#1f77b4\"},\"right\":{\"field\":\"right\"},\"top\":{\"field\":\"top\"}},\"id\":\"1168\",\"type\":\"Quad\"},{\"attributes\":{},\"id\":\"1095\",\"type\":\"BasicTicker\"},{\"attributes\":{},\"id\":\"1130\",\"type\":\"UnionRenderers\"},{\"attributes\":{\"data_source\":{\"id\":\"1166\",\"type\":\"ColumnDataSource\"},\"glyph\":{\"id\":\"1167\",\"type\":\"Quad\"},\"hover_glyph\":null,\"muted_glyph\":null,\"nonselection_glyph\":{\"id\":\"1168\",\"type\":\"Quad\"},\"selection_glyph\":null,\"view\":{\"id\":\"1170\",\"type\":\"CDSView\"},\"visible\":false},\"id\":\"1169\",\"type\":\"GlyphRenderer\"},{\"attributes\":{\"label\":{\"value\":\"N=50\"},\"renderers\":[{\"id\":\"1121\",\"type\":\"GlyphRenderer\"}]},\"id\":\"1131\",\"type\":\"LegendItem\"},{\"attributes\":{\"ticker\":{\"id\":\"1095\",\"type\":\"BasicTicker\"}},\"id\":\"1098\",\"type\":\"Grid\"},{\"attributes\":{},\"id\":\"1112\",\"type\":\"BasicTickFormatter\"},{\"attributes\":{\"formatter\":{\"id\":\"1114\",\"type\":\"BasicTickFormatter\"},\"ticker\":{\"id\":\"1100\",\"type\":\"BasicTicker\"}},\"id\":\"1099\",\"type\":\"LinearAxis\"},{\"attributes\":{\"label\":{\"value\":\"N=200\"},\"renderers\":[{\"id\":\"1169\",\"type\":\"GlyphRenderer\"}]},\"id\":\"1185\",\"type\":\"LegendItem\"},{\"attributes\":{},\"id\":\"1208\",\"type\":\"Selection\"},{\"attributes\":{},\"id\":\"1100\",\"type\":\"BasicTicker\"},{\"attributes\":{\"bottom\":{\"value\":0},\"fill_alpha\":{\"value\":0.5},\"fill_color\":{\"value\":\"red\"},\"left\":{\"field\":\"left\"},\"line_alpha\":{\"value\":0.5},\"line_color\":{\"value\":\"white\"},\"right\":{\"field\":\"right\"},\"top\":{\"field\":\"top\"}},\"id\":\"1149\",\"type\":\"Quad\"},{\"attributes\":{\"click_policy\":\"hide\",\"items\":[{\"id\":\"1117\",\"type\":\"LegendItem\"},{\"id\":\"1131\",\"type\":\"LegendItem\"},{\"id\":\"1147\",\"type\":\"LegendItem\"},{\"id\":\"1165\",\"type\":\"LegendItem\"},{\"id\":\"1185\",\"type\":\"LegendItem\"}]},\"id\":\"1116\",\"type\":\"Legend\"},{\"attributes\":{\"source\":{\"id\":\"1132\",\"type\":\"ColumnDataSource\"}},\"id\":\"1136\",\"type\":\"CDSView\"},{\"attributes\":{\"bottom\":{\"value\":0},\"fill_alpha\":{\"value\":0.1},\"fill_color\":{\"value\":\"#1f77b4\"},\"left\":{\"field\":\"left\"},\"line_alpha\":{\"value\":0.1},\"line_color\":{\"value\":\"#1f77b4\"},\"right\":{\"field\":\"right\"},\"top\":{\"field\":\"top\"}},\"id\":\"1150\",\"type\":\"Quad\"},{\"attributes\":{\"callback\":null,\"data\":{\"left\":{\"__ndarray__\":\"GAlXqy0Q8b8nffkuvkztvx7oRAcheei/FlOQ34Ol478afLdvzaPdvwhSTiCT/NO/8E/KobGqxL+AvH8v0MOFv1hY2ps38sE/PFZWHVag0j9QgL9skEfcPzBVFF5l9+I/OOrIhQLL5z9Cf32tn57sPyYKmWoeufA/qlRz/uwi8z8un02Su4z1P7LpJyaK9vc/NjQCulhg+j+8ftxNJ8r8P0DJtuH1M/8/4onIOuLOAEAkr7WEyQMCQGbUos6wOANAqPmPGJhtBEA=\",\"dtype\":\"float64\",\"shape\":[25]},\"right\":{\"__ndarray__\":\"J335Lr5M7b8e6EQHIXnovxZTkN+DpeO/Gny3b82j3b8IUk4gk/zTv/BPyqGxqsS/gLx/L9DDhb9YWNqbN/LBPzxWVh1WoNI/UIC/bJBH3D8wVRReZffiPzjqyIUCy+c/Qn99rZ+e7D8mCplqHrnwP6pUc/7sIvM/Lp9NkruM9T+y6Scmivb3PzY0ArpYYPo/vH7cTSfK/D9Aybbh9TP/P+KJyDrizgBAJK+1hMkDAkBm1KLOsDgDQKj5jxiYbQRA6x59Yn+iBUA=\",\"dtype\":\"float64\",\"shape\":[25]},\"top\":{\"__ndarray__\":\"u5QQHvn4wD+7lBAe+fiwP76UEB75+LA/6bmUZTc31T8Y3xitdXXZP76UEB75+OA/5bmUZTc31T++lBAe+fjQP76UEB75+NA/t5QQHvn44D/uuZRlNzfVPx3fGK11ddk/QQSd9LOz3T+3lBAe+fjgP76UEB75+NA/vpQQHvn40D9NBJ30s7PdPx3fGK11dck/AAAAAAAAAAAd3xitdXXJP76UEB75+MA/vpQQHvn4wD++lBAe+fjAP76UEB75+MA/sJQQHvn4sD8=\",\"dtype\":\"float64\",\"shape\":[25]}},\"selected\":{\"id\":\"1163\",\"type\":\"Selection\"},\"selection_policy\":{\"id\":\"1164\",\"type\":\"UnionRenderers\"}},\"id\":\"1132\",\"type\":\"ColumnDataSource\"},{\"attributes\":{\"bottom\":{\"value\":0},\"fill_alpha\":{\"value\":0.1},\"fill_color\":{\"value\":\"#1f77b4\"},\"left\":{\"field\":\"left\"},\"line_alpha\":{\"value\":0.1},\"line_color\":{\"value\":\"#1f77b4\"},\"right\":{\"field\":\"right\"},\"top\":{\"field\":\"top\"}},\"id\":\"1134\",\"type\":\"Quad\"},{\"attributes\":{\"label\":{\"value\":\"N=30\"},\"renderers\":[{\"id\":\"1108\",\"type\":\"GlyphRenderer\"}]},\"id\":\"1117\",\"type\":\"LegendItem\"},{\"attributes\":{\"data_source\":{\"id\":\"1148\",\"type\":\"ColumnDataSource\"},\"glyph\":{\"id\":\"1149\",\"type\":\"Quad\"},\"hover_glyph\":null,\"muted_glyph\":null,\"nonselection_glyph\":{\"id\":\"1150\",\"type\":\"Quad\"},\"selection_glyph\":null,\"view\":{\"id\":\"1152\",\"type\":\"CDSView\"},\"visible\":false},\"id\":\"1151\",\"type\":\"GlyphRenderer\"},{\"attributes\":{},\"id\":\"1183\",\"type\":\"Selection\"},{\"attributes\":{\"source\":{\"id\":\"1105\",\"type\":\"ColumnDataSource\"}},\"id\":\"1109\",\"type\":\"CDSView\"},{\"attributes\":{\"dimension\":1,\"ticker\":{\"id\":\"1100\",\"type\":\"BasicTicker\"}},\"id\":\"1103\",\"type\":\"Grid\"},{\"attributes\":{},\"id\":\"1164\",\"type\":\"UnionRenderers\"},{\"attributes\":{},\"id\":\"1184\",\"type\":\"UnionRenderers\"},{\"attributes\":{\"active_drag\":\"auto\",\"active_inspect\":\"auto\",\"active_multi\":null,\"active_scroll\":\"auto\",\"active_tap\":\"auto\"},\"id\":\"1104\",\"type\":\"Toolbar\"},{\"attributes\":{\"source\":{\"id\":\"1118\",\"type\":\"ColumnDataSource\"}},\"id\":\"1122\",\"type\":\"CDSView\"},{\"attributes\":{\"callback\":null,\"data\":{\"left\":{\"__ndarray__\":\"GAlXqy0Q8b9AWtBsY2Xuv1Gi8oJrquq/YuoUmXPv5r9yMjevezTjvwT1sooH896/JoX3thd9179IFTzjJwfQv9BKAR9wIsG/gFhTvIO0kb9g6dhfnmq5P2hUY9cuocs/FBptP4dG1T/0iSgTd7zcP+j8cXMzGeI/2LRPXSvU5T/IbC1HI4/pP7gkCzEbSu0/VG50jYmC8D9MSmOCBWDyP0QmUneBPfQ/OgJBbP0a9j8y3i9hefj3Pyq6Hlb11fk/IpYNS3Gz+z8=\",\"dtype\":\"float64\",\"shape\":[25]},\"right\":{\"__ndarray__\":\"QFrQbGNl7r9RovKCa6rqv2LqFJlz7+a/cjI3r3s0478E9bKKB/PevyaF97YXfde/SBU84ycH0L/QSgEfcCLBv4BYU7yDtJG/YOnYX55quT9oVGPXLqHLPxQabT+HRtU/9IkoE3e83D/o/HFzMxniP9i0T10r1OU/yGwtRyOP6T+4JAsxG0rtP1RudI2JgvA/TEpjggVg8j9EJlJ3gT30PzoCQWz9GvY/Mt4vYXn49z8quh5W9dX5PyKWDUtxs/s/GnL8P+2Q/T8=\",\"dtype\":\"float64\",\"shape\":[25]},\"top\":{\"__ndarray__\":\"L8bM8t71xT8AAAAAAAAAADTGzPLe9dU/AAAAAAAAAAAvxszy3vXVP6iUGTZnePA/AAAAAAAAAAAvxszy3vXlPy/GzPLe9dU/AAAAAAAAAAA7xszy3vXFPy/GzPLe9cU/L8bM8t715T+slBk2Z3jgPy/GzPLe9cU/o5QZNmd44D+jlBk2Z3jgP7v3f69Wc+s/L8bM8t71xT8vxszy3vXVP9j3f69Wc+s/L8bM8t71xT8vxszy3vXFPwAAAAAAAAAAL8bM8t711T8=\",\"dtype\":\"float64\",\"shape\":[25]}},\"selected\":{\"id\":\"1145\",\"type\":\"Selection\"},\"selection_policy\":{\"id\":\"1146\",\"type\":\"UnionRenderers\"}},\"id\":\"1118\",\"type\":\"ColumnDataSource\"},{\"attributes\":{\"label\":{\"value\":\"N=100\"},\"renderers\":[{\"id\":\"1135\",\"type\":\"GlyphRenderer\"}]},\"id\":\"1147\",\"type\":\"LegendItem\"},{\"attributes\":{\"bottom\":{\"value\":0},\"fill_alpha\":{\"value\":0.5},\"fill_color\":{\"value\":\"orange\"},\"left\":{\"field\":\"left\"},\"line_alpha\":{\"value\":0.5},\"line_color\":{\"value\":\"white\"},\"right\":{\"field\":\"right\"},\"top\":{\"field\":\"top\"}},\"id\":\"1133\",\"type\":\"Quad\"},{\"attributes\":{},\"id\":\"1163\",\"type\":\"Selection\"},{\"attributes\":{},\"id\":\"1209\",\"type\":\"UnionRenderers\"},{\"attributes\":{\"callback\":null,\"data\":{\"left\":{\"__ndarray__\":\"GAlXqy0Q8b9AWtBsY2Xuv1Gi8oJrquq/YuoUmXPv5r9yMjevezTjvwT1sooH896/JoX3thd9179IFTzjJwfQv9BKAR9wIsG/gFhTvIO0kb9g6dhfnmq5P2hUY9cuocs/FBptP4dG1T/0iSgTd7zcP+j8cXMzGeI/2LRPXSvU5T/IbC1HI4/pP7gkCzEbSu0/VG50jYmC8D9MSmOCBWDyP0QmUneBPfQ/OgJBbP0a9j8y3i9hefj3Pyq6Hlb11fk/IpYNS3Gz+z8=\",\"dtype\":\"float64\",\"shape\":[25]},\"right\":{\"__ndarray__\":\"QFrQbGNl7r9RovKCa6rqv2LqFJlz7+a/cjI3r3s0478E9bKKB/PevyaF97YXfde/SBU84ycH0L/QSgEfcCLBv4BYU7yDtJG/YOnYX55quT9oVGPXLqHLPxQabT+HRtU/9IkoE3e83D/o/HFzMxniP9i0T10r1OU/yGwtRyOP6T+4JAsxG0rtP1RudI2JgvA/TEpjggVg8j9EJlJ3gT30PzoCQWz9GvY/Mt4vYXn49z8quh5W9dX5PyKWDUtxs/s/GnL8P+2Q/T8=\",\"dtype\":\"float64\",\"shape\":[25]},\"top\":{\"__ndarray__\":\"ffr/dORM0j8AAAAAAAAAAAAAAAAAAAAAAAAAAAAAAAB9+v905EzSPyL5P5Id4PY/AAAAAAAAAAB9+v905EzSP336/3TkTNI/AAAAAAAAAACG+v905EzSPwAAAAAAAAAAffr/dORM4j+G+v905EziP336/3TkTNI/ffr/dORM4j99+v905EziPxz5P5Id4PY/AAAAAAAAAAB9+v905EziP5D6/3TkTOI/AAAAAAAAAAB9+v905EzSPwAAAAAAAAAAffr/dORM0j8=\",\"dtype\":\"float64\",\"shape\":[25]}},\"selected\":{\"id\":\"1129\",\"type\":\"Selection\"},\"selection_policy\":{\"id\":\"1130\",\"type\":\"UnionRenderers\"}},\"id\":\"1105\",\"type\":\"ColumnDataSource\"}],\"root_ids\":[\"1085\"]},\"title\":\"Bokeh Application\",\"version\":\"1.4.0\"}};\n",
       "  var render_items = [{\"docid\":\"cc5bc29f-2cb3-4e1e-9441-d092d337d02e\",\"roots\":{\"1085\":\"05e43912-908d-4467-a371-4e879d1cf7c6\"}}];\n",
       "  root.Bokeh.embed.embed_items_notebook(docs_json, render_items);\n",
       "\n",
       "  }\n",
       "  if (root.Bokeh !== undefined) {\n",
       "    embed_document(root);\n",
       "  } else {\n",
       "    var attempts = 0;\n",
       "    var timer = setInterval(function(root) {\n",
       "      if (root.Bokeh !== undefined) {\n",
       "        clearInterval(timer);\n",
       "        embed_document(root);\n",
       "      } else {\n",
       "        attempts++;\n",
       "        if (attempts > 100) {\n",
       "          clearInterval(timer);\n",
       "          console.log(\"Bokeh: ERROR: Unable to run BokehJS code because BokehJS library is missing\");\n",
       "        }\n",
       "      }\n",
       "    }, 10, root)\n",
       "  }\n",
       "})(window);"
      ],
      "application/vnd.bokehjs_exec.v0+json": ""
     },
     "metadata": {
      "application/vnd.bokehjs_exec.v0+json": {
       "id": "1085"
      }
     },
     "output_type": "display_data"
    }
   ],
   "source": [
    "show(hist)"
   ]
  },
  {
   "cell_type": "markdown",
   "metadata": {
    "slideshow": {
     "slide_type": "subslide"
    }
   },
   "source": [
    "#### KDE"
   ]
  },
  {
   "cell_type": "markdown",
   "metadata": {
    "slideshow": {
     "slide_type": "fragment"
    }
   },
   "source": [
    "Another approach to visualize a distribution is a **k**ernel **d**ensity **e**stimation. "
   ]
  },
  {
   "cell_type": "markdown",
   "metadata": {
    "slideshow": {
     "slide_type": "skip"
    }
   },
   "source": [
    "The main difference is that each observation is shown in the graph, representated by a simple geometry, for example a sqaure. These shapes then recieve a size, often called *bandwidth* in the graph, which has to be defined. Overlapping shapes are just added **onto** each other. A very common method is:"
   ]
  },
  {
   "cell_type": "markdown",
   "metadata": {
    "slideshow": {
     "slide_type": "fragment"
    }
   },
   "source": [
    "Gaussian KDE where:\n",
    "\n",
    "* each observation is represented by a gaussian *kernel* like $\\frac{1}{2\\pi}exp(-\\frac{1}{2}h^2)$\n",
    "* overlapping kernels are added onto each other"
   ]
  },
  {
   "cell_type": "code",
   "execution_count": 14,
   "metadata": {
    "slideshow": {
     "slide_type": "skip"
    }
   },
   "outputs": [
    {
     "data": {
      "text/html": [
       "<div style=\"display: table;\"><div style=\"display: table-row;\"><div style=\"display: table-cell;\"><b title=\"bokeh.models.renderers.GlyphRenderer\">GlyphRenderer</b>(</div><div style=\"display: table-cell;\">id&nbsp;=&nbsp;'1329', <span id=\"1332\" style=\"cursor: pointer;\">&hellip;)</span></div></div><div class=\"1331\" style=\"display: none;\"><div style=\"display: table-cell;\"></div><div style=\"display: table-cell;\">data_source&nbsp;=&nbsp;ColumnDataSource(id='1326', ...),</div></div><div class=\"1331\" style=\"display: none;\"><div style=\"display: table-cell;\"></div><div style=\"display: table-cell;\">glyph&nbsp;=&nbsp;Patch(id='1327', ...),</div></div><div class=\"1331\" style=\"display: none;\"><div style=\"display: table-cell;\"></div><div style=\"display: table-cell;\">hover_glyph&nbsp;=&nbsp;None,</div></div><div class=\"1331\" style=\"display: none;\"><div style=\"display: table-cell;\"></div><div style=\"display: table-cell;\">js_event_callbacks&nbsp;=&nbsp;{},</div></div><div class=\"1331\" style=\"display: none;\"><div style=\"display: table-cell;\"></div><div style=\"display: table-cell;\">js_property_callbacks&nbsp;=&nbsp;{},</div></div><div class=\"1331\" style=\"display: none;\"><div style=\"display: table-cell;\"></div><div style=\"display: table-cell;\">level&nbsp;=&nbsp;'glyph',</div></div><div class=\"1331\" style=\"display: none;\"><div style=\"display: table-cell;\"></div><div style=\"display: table-cell;\">muted&nbsp;=&nbsp;False,</div></div><div class=\"1331\" style=\"display: none;\"><div style=\"display: table-cell;\"></div><div style=\"display: table-cell;\">muted_glyph&nbsp;=&nbsp;None,</div></div><div class=\"1331\" style=\"display: none;\"><div style=\"display: table-cell;\"></div><div style=\"display: table-cell;\">name&nbsp;=&nbsp;None,</div></div><div class=\"1331\" style=\"display: none;\"><div style=\"display: table-cell;\"></div><div style=\"display: table-cell;\">nonselection_glyph&nbsp;=&nbsp;Patch(id='1328', ...),</div></div><div class=\"1331\" style=\"display: none;\"><div style=\"display: table-cell;\"></div><div style=\"display: table-cell;\">selection_glyph&nbsp;=&nbsp;None,</div></div><div class=\"1331\" style=\"display: none;\"><div style=\"display: table-cell;\"></div><div style=\"display: table-cell;\">subscribed_events&nbsp;=&nbsp;[],</div></div><div class=\"1331\" style=\"display: none;\"><div style=\"display: table-cell;\"></div><div style=\"display: table-cell;\">tags&nbsp;=&nbsp;[],</div></div><div class=\"1331\" style=\"display: none;\"><div style=\"display: table-cell;\"></div><div style=\"display: table-cell;\">view&nbsp;=&nbsp;CDSView(id='1330', ...),</div></div><div class=\"1331\" style=\"display: none;\"><div style=\"display: table-cell;\"></div><div style=\"display: table-cell;\">visible&nbsp;=&nbsp;True,</div></div><div class=\"1331\" style=\"display: none;\"><div style=\"display: table-cell;\"></div><div style=\"display: table-cell;\">x_range_name&nbsp;=&nbsp;'default',</div></div><div class=\"1331\" style=\"display: none;\"><div style=\"display: table-cell;\"></div><div style=\"display: table-cell;\">y_range_name&nbsp;=&nbsp;'default')</div></div></div>\n",
       "<script>\n",
       "(function() {\n",
       "  var expanded = false;\n",
       "  var ellipsis = document.getElementById(\"1332\");\n",
       "  ellipsis.addEventListener(\"click\", function() {\n",
       "    var rows = document.getElementsByClassName(\"1331\");\n",
       "    for (var i = 0; i < rows.length; i++) {\n",
       "      var el = rows[i];\n",
       "      el.style.display = expanded ? \"none\" : \"table-row\";\n",
       "    }\n",
       "    ellipsis.innerHTML = expanded ? \"&hellip;)\" : \"&lsaquo;&lsaquo;&lsaquo;\";\n",
       "    expanded = !expanded;\n",
       "  });\n",
       "})();\n",
       "</script>\n"
      ],
      "text/plain": [
       "GlyphRenderer(id='1329', ...)"
      ]
     },
     "execution_count": 14,
     "metadata": {},
     "output_type": "execute_result"
    }
   ],
   "source": [
    "from scipy.stats import gaussian_kde\n",
    "\n",
    "kf = gaussian_kde(data)\n",
    "\n",
    "x = np.linspace(1.2* data.min(), 1.2*data.max(), 100)\n",
    "y = kf(x) * data.max()\n",
    "\n",
    "kde = figure(tools=[], height=450, width=600)\n",
    "kde.patch(x, y, line_color='black', color='navy', alpha=0.3)"
   ]
  },
  {
   "cell_type": "code",
   "execution_count": 15,
   "metadata": {
    "slideshow": {
     "slide_type": "subslide"
    }
   },
   "outputs": [
    {
     "data": {
      "text/html": [
       "\n",
       "\n",
       "\n",
       "\n",
       "\n",
       "\n",
       "  <div class=\"bk-root\" id=\"76a41c7a-8e20-43c2-8f07-7a0032c7eee0\" data-root-id=\"1306\"></div>\n"
      ]
     },
     "metadata": {},
     "output_type": "display_data"
    },
    {
     "data": {
      "application/javascript": [
       "(function(root) {\n",
       "  function embed_document(root) {\n",
       "    \n",
       "  var docs_json = {\"8d7a8ecb-4530-40ec-9bd0-45d45cdf9b98\":{\"roots\":{\"references\":[{\"attributes\":{\"below\":[{\"id\":\"1315\",\"type\":\"LinearAxis\"}],\"center\":[{\"id\":\"1319\",\"type\":\"Grid\"},{\"id\":\"1324\",\"type\":\"Grid\"}],\"left\":[{\"id\":\"1320\",\"type\":\"LinearAxis\"}],\"plot_height\":450,\"renderers\":[{\"id\":\"1329\",\"type\":\"GlyphRenderer\"}],\"title\":{\"id\":\"1357\",\"type\":\"Title\"},\"toolbar\":{\"id\":\"1325\",\"type\":\"Toolbar\"},\"x_range\":{\"id\":\"1307\",\"type\":\"DataRange1d\"},\"x_scale\":{\"id\":\"1311\",\"type\":\"LinearScale\"},\"y_range\":{\"id\":\"1309\",\"type\":\"DataRange1d\"},\"y_scale\":{\"id\":\"1313\",\"type\":\"LinearScale\"}},\"id\":\"1306\",\"subtype\":\"Figure\",\"type\":\"Plot\"},{\"attributes\":{\"source\":{\"id\":\"1326\",\"type\":\"ColumnDataSource\"}},\"id\":\"1330\",\"type\":\"CDSView\"},{\"attributes\":{\"callback\":null},\"id\":\"1307\",\"type\":\"DataRange1d\"},{\"attributes\":{},\"id\":\"1316\",\"type\":\"BasicTicker\"},{\"attributes\":{},\"id\":\"1359\",\"type\":\"BasicTickFormatter\"},{\"attributes\":{\"formatter\":{\"id\":\"1359\",\"type\":\"BasicTickFormatter\"},\"ticker\":{\"id\":\"1316\",\"type\":\"BasicTicker\"}},\"id\":\"1315\",\"type\":\"LinearAxis\"},{\"attributes\":{\"text\":\"\"},\"id\":\"1357\",\"type\":\"Title\"},{\"attributes\":{\"active_drag\":\"auto\",\"active_inspect\":\"auto\",\"active_multi\":null,\"active_scroll\":\"auto\",\"active_tap\":\"auto\"},\"id\":\"1325\",\"type\":\"Toolbar\"},{\"attributes\":{\"callback\":null},\"id\":\"1309\",\"type\":\"DataRange1d\"},{\"attributes\":{},\"id\":\"1361\",\"type\":\"BasicTickFormatter\"},{\"attributes\":{\"callback\":null,\"data\":{\"x\":{\"__ndarray__\":\"1k7tUYd6+L/V5gPlAbH3v9V+Gnh85/a/1BYxC/cd9r/TrkeecVT1v9JGXjHsivS/0t50xGbB87/RdotX4ffyv9AOoupbLvK/0Ka4fdZk8b/PPs8QUZvwv5yty0eXo++/m934bYwQ7r+ZDSaUgX3sv5g9U7p26uq/lm2A4GtX6b+Vna0GYcTnv5TN2ixWMea/kv0HU0ue5L+RLTV5QAvjv49dYp81eOG/HBsfi1XK378Ye3nXP6TcvxTb0yMqftm/FDsucBRY1r8Qm4i8/jHTvwz74gjpC9C/GLZ6qqbLyb8Qdi9De3/DvxBsyLefZrq/ANhj0pGcq78AwLapIV9zvyAo9mfJxKY/IJSRgrv6tz8QCpQoiUnCPxhK34+0lcg/IIoq99/hzj8U5TqvBZfSPxSF4GIbvdU/GCWGFjHj2D8cxSvKRgncPyBl0X1cL98/kIK7GLkq4T+QUo7yw73iP5QiYczOUOQ/lPIzptnj5T+YwgaA5HbnP5iS2VnvCek/mGKsM/qc6j+cMn8NBTDsP5wCUucPw+0/nNIkwRpW7z9Q0XvNknTwP1A5ZToYPvE/UKFOp50H8j9SCTgUI9HyP1JxIYGomvM/UtkK7i1k9D9UQfRasy31P1Sp3cc49/U/VhHHNL7A9j9WebChQ4r3P1bhmQ7JU/g/WEmDe04d+T9YsWzo0+b5P1gZVlVZsPo/WoE/wt55+z9a6SgvZEP8P1pREpzpDP0/XLn7CG/W/T9cIeV19J/+P16JzuJ5af8/r/jbp38ZAECvrFBeQn4AQLBgxRQF4wBAsBQ6y8dHAUCwyK6BiqwBQLF8IzhNEQJAsTCY7g92AkCx5Ayl0toCQLKYgVuVPwNAskz2EVikA0CzAGvIGgkEQLO0337dbQRAs2hUNaDSBECzHMnrYjcFQLPQPaIlnAVAtYSyWOgABkC1OCcPq2UGQLXsm8VtygZAtaAQfDAvB0C1VIUy85MHQLcI+ui1+AdAt7xun3hdCEC3cONVO8IIQLckWAz+JglAt9jMwsCLCUC3jEF5g/AJQLlAti9GVQpAufQq5gi6CkA=\",\"dtype\":\"float64\",\"shape\":[100]},\"y\":{\"__ndarray__\":\"uayExoSAgj+hYC0JaGiIP9sdtLvvpI8/tPNoYns7lD98LObnjp2ZP6wxuYGnHaA/1HBs2Bw5pD+w1gHwKGCpP+cmv8+4468/K6MECS8TtD9y16mco0y5P11+Wq3b2r8/H/9DFp/8wz+LG/lVWu3IP2veH7tt0M4/lb2Ie6nU0j9svNlGA7XWP9cFpIow+No/JZttgfWC3z/jlpsHtRjiPw4Ga6EHbeQ/cQc8PRKp5j+09owCQ7noP/dFnyQUjuo/eaCYzqMd7D9vlrVBVWTtP6MIZEhkZO4/yFI/9JQk7z/RlTeOXa7vPxafvVMABvA/Jz+O3YEj8D9cyc2CpDPwP18PKFlvOfA/mI3FfzE38D9ewBha3S7wP8CeW1FmIvA/4ZDhoQAU8D+J25ysMAbwPw5NYpNP9+8/HHsIlPXt7z/tbrL3jfTvP5BDrorcBvA/pHRmMgEd8D9MnQho1jvwP+iuPNBkYfA/yLWzr8aK8D9JCwEXZrTwP5TQngBD2vA/ZGpGBTn48D/P0sCzQQrxP5wl2Rm1DPE/iBS2JYv88D85adNzndfwP0xmBWPjnPA/DWPtEJ1M8D/vOWLGwNDvPyD9+gP+5e4/XlzWSYjg7T9m98+YJMnsPwQmrSDgqOs/DUS54yuI6j/ibcYiG27pPwV50sLcX+g/Ba/+rH1g5z8ifPR1+HDmPyFVlyiNkOU/cvNauVG95D8hz7KV4PTjP3fvSrkBNeM/ozRjPCh84j8gcGglpsnhP8cCZ4qKHeE//GYmHzZ44D+N16J5kLPfP1HWs70kg94/gcrhYntb3T84I6WDfTbcP/COXwo5DNs/qPv5QvPT2T//akGif4XYP4mHdhiRGtc/QzIZPcaP1T/mlyoDR+XTP0JPscjkHtI/eiGEYcRD0D9GJb25UrvMP0HOBFED8Mg/yi9/A6U9xT/vCJeLS7vBP2FozmVM+rw/GjBFiu8ltz93J1DULQ6yP2qGRBEseKs/OESS5BxbpD+t0BAIhludPxlkXGRWlJQ/NZabpVwFjD8tdG+qz4KCP+D69tiVtnc/AHOpS7lubT8=\",\"dtype\":\"float64\",\"shape\":[100]}},\"selected\":{\"id\":\"1363\",\"type\":\"Selection\"},\"selection_policy\":{\"id\":\"1364\",\"type\":\"UnionRenderers\"}},\"id\":\"1326\",\"type\":\"ColumnDataSource\"},{\"attributes\":{},\"id\":\"1364\",\"type\":\"UnionRenderers\"},{\"attributes\":{\"fill_alpha\":0.1,\"fill_color\":\"#1f77b4\",\"line_alpha\":0.1,\"line_color\":\"#1f77b4\",\"x\":{\"field\":\"x\"},\"y\":{\"field\":\"y\"}},\"id\":\"1328\",\"type\":\"Patch\"},{\"attributes\":{},\"id\":\"1321\",\"type\":\"BasicTicker\"},{\"attributes\":{\"dimension\":1,\"ticker\":{\"id\":\"1321\",\"type\":\"BasicTicker\"}},\"id\":\"1324\",\"type\":\"Grid\"},{\"attributes\":{\"formatter\":{\"id\":\"1361\",\"type\":\"BasicTickFormatter\"},\"ticker\":{\"id\":\"1321\",\"type\":\"BasicTicker\"}},\"id\":\"1320\",\"type\":\"LinearAxis\"},{\"attributes\":{\"ticker\":{\"id\":\"1316\",\"type\":\"BasicTicker\"}},\"id\":\"1319\",\"type\":\"Grid\"},{\"attributes\":{\"data_source\":{\"id\":\"1326\",\"type\":\"ColumnDataSource\"},\"glyph\":{\"id\":\"1327\",\"type\":\"Patch\"},\"hover_glyph\":null,\"muted_glyph\":null,\"nonselection_glyph\":{\"id\":\"1328\",\"type\":\"Patch\"},\"selection_glyph\":null,\"view\":{\"id\":\"1330\",\"type\":\"CDSView\"}},\"id\":\"1329\",\"type\":\"GlyphRenderer\"},{\"attributes\":{},\"id\":\"1311\",\"type\":\"LinearScale\"},{\"attributes\":{\"fill_alpha\":0.3,\"fill_color\":\"navy\",\"line_alpha\":0.3,\"x\":{\"field\":\"x\"},\"y\":{\"field\":\"y\"}},\"id\":\"1327\",\"type\":\"Patch\"},{\"attributes\":{},\"id\":\"1313\",\"type\":\"LinearScale\"},{\"attributes\":{},\"id\":\"1363\",\"type\":\"Selection\"}],\"root_ids\":[\"1306\"]},\"title\":\"Bokeh Application\",\"version\":\"1.4.0\"}};\n",
       "  var render_items = [{\"docid\":\"8d7a8ecb-4530-40ec-9bd0-45d45cdf9b98\",\"roots\":{\"1306\":\"76a41c7a-8e20-43c2-8f07-7a0032c7eee0\"}}];\n",
       "  root.Bokeh.embed.embed_items_notebook(docs_json, render_items);\n",
       "\n",
       "  }\n",
       "  if (root.Bokeh !== undefined) {\n",
       "    embed_document(root);\n",
       "  } else {\n",
       "    var attempts = 0;\n",
       "    var timer = setInterval(function(root) {\n",
       "      if (root.Bokeh !== undefined) {\n",
       "        clearInterval(timer);\n",
       "        embed_document(root);\n",
       "      } else {\n",
       "        attempts++;\n",
       "        if (attempts > 100) {\n",
       "          clearInterval(timer);\n",
       "          console.log(\"Bokeh: ERROR: Unable to run BokehJS code because BokehJS library is missing\");\n",
       "        }\n",
       "      }\n",
       "    }, 10, root)\n",
       "  }\n",
       "})(window);"
      ],
      "application/vnd.bokehjs_exec.v0+json": ""
     },
     "metadata": {
      "application/vnd.bokehjs_exec.v0+json": {
       "id": "1306"
      }
     },
     "output_type": "display_data"
    }
   ],
   "source": [
    "show(kde)"
   ]
  },
  {
   "cell_type": "markdown",
   "metadata": {
    "slideshow": {
     "slide_type": "slide"
    }
   },
   "source": [
    "### 2.4 Comparing distributions"
   ]
  },
  {
   "cell_type": "markdown",
   "metadata": {
    "slideshow": {
     "slide_type": "fragment"
    }
   },
   "source": [
    "Something that we commonly need to do, is compare two distributions. Typical questions we want to solve that way are:"
   ]
  },
  {
   "cell_type": "markdown",
   "metadata": {
    "slideshow": {
     "slide_type": "fragment"
    }
   },
   "source": [
    "* Are two samples from the same population?"
   ]
  },
  {
   "cell_type": "markdown",
   "metadata": {
    "slideshow": {
     "slide_type": "fragment"
    }
   },
   "source": [
    "* If we observe different processes in the environment, can we *see* these differences in statistical properties?"
   ]
  },
  {
   "cell_type": "markdown",
   "metadata": {
    "slideshow": {
     "slide_type": "fragment"
    }
   },
   "source": [
    "* Can we correlate difference in statistical properties to system properties?"
   ]
  },
  {
   "cell_type": "markdown",
   "metadata": {
    "slideshow": {
     "slide_type": "subslide"
    }
   },
   "source": [
    "#### How to compare"
   ]
  },
  {
   "cell_type": "markdown",
   "metadata": {
    "slideshow": {
     "slide_type": "fragment"
    }
   },
   "source": [
    "From what we have seen above, we can of course use a histogram or KDE to compare two distributions visually.\n",
    "\n",
    "The other possibility is to compare the statistical moments. There are statistical tests to do so."
   ]
  },
  {
   "cell_type": "markdown",
   "metadata": {
    "slideshow": {
     "slide_type": "fragment"
    }
   },
   "source": [
    "We can load some more samples, which were also collected from the same population:"
   ]
  },
  {
   "cell_type": "code",
   "execution_count": 16,
   "metadata": {
    "slideshow": {
     "slide_type": "skip"
    }
   },
   "outputs": [],
   "source": [
    "sample1 = data.copy()\n",
    "sample2 = df.iloc[:,13].values\n",
    "sample3 = df.iloc[:,14].values\n",
    "\n",
    "sample_moments = pd.DataFrame(dict(\n",
    "    sample1=dict(mean=np.mean(sample1), var=np.var(sample1), min=np.min(sample1), max=np.max(sample1)),\n",
    "    sample2=dict(mean=np.mean(sample2), var=np.var(sample2), min=np.min(sample2), max=np.max(sample2)),\n",
    "    sample3=dict(mean=np.mean(sample3), var=np.var(sample3), min=np.min(sample3), max=np.max(sample3))\n",
    "))"
   ]
  },
  {
   "cell_type": "code",
   "execution_count": 17,
   "metadata": {
    "slideshow": {
     "slide_type": "subslide"
    }
   },
   "outputs": [
    {
     "data": {
      "text/html": [
       "<div>\n",
       "<style scoped>\n",
       "    .dataframe tbody tr th:only-of-type {\n",
       "        vertical-align: middle;\n",
       "    }\n",
       "\n",
       "    .dataframe tbody tr th {\n",
       "        vertical-align: top;\n",
       "    }\n",
       "\n",
       "    .dataframe thead th {\n",
       "        text-align: right;\n",
       "    }\n",
       "</style>\n",
       "<table border=\"1\" class=\"dataframe\">\n",
       "  <thead>\n",
       "    <tr style=\"text-align: right;\">\n",
       "      <th></th>\n",
       "      <th>sample1</th>\n",
       "      <th>sample2</th>\n",
       "      <th>sample3</th>\n",
       "    </tr>\n",
       "  </thead>\n",
       "  <tbody>\n",
       "    <tr>\n",
       "      <th>mean</th>\n",
       "      <td>0.758328</td>\n",
       "      <td>0.703931</td>\n",
       "      <td>0.488372</td>\n",
       "    </tr>\n",
       "    <tr>\n",
       "      <th>var</th>\n",
       "      <td>0.777075</td>\n",
       "      <td>0.784418</td>\n",
       "      <td>0.685805</td>\n",
       "    </tr>\n",
       "    <tr>\n",
       "      <th>min</th>\n",
       "      <td>-1.274929</td>\n",
       "      <td>-1.290128</td>\n",
       "      <td>-1.906964</td>\n",
       "    </tr>\n",
       "    <tr>\n",
       "      <th>max</th>\n",
       "      <td>2.784031</td>\n",
       "      <td>2.582916</td>\n",
       "      <td>2.560545</td>\n",
       "    </tr>\n",
       "  </tbody>\n",
       "</table>\n",
       "</div>"
      ],
      "text/plain": [
       "       sample1   sample2   sample3\n",
       "mean  0.758328  0.703931  0.488372\n",
       "var   0.777075  0.784418  0.685805\n",
       "min  -1.274929 -1.290128 -1.906964\n",
       "max   2.784031  2.582916  2.560545"
      ]
     },
     "execution_count": 17,
     "metadata": {},
     "output_type": "execute_result"
    }
   ],
   "source": [
    "sample_moments"
   ]
  },
  {
   "cell_type": "markdown",
   "metadata": {
    "slideshow": {
     "slide_type": "fragment"
    }
   },
   "source": [
    "The mean of sample 1 and 2 looks similar, even if not the same. This also applies to the variance. \n",
    "\n",
    "But what about sample 3? "
   ]
  },
  {
   "cell_type": "code",
   "execution_count": 18,
   "metadata": {
    "slideshow": {
     "slide_type": "skip"
    }
   },
   "outputs": [],
   "source": [
    "# calculate the bins\n",
    "bins = np.linspace(df.min().min(), df.max().max(), 50)\n",
    "hover = HoverTool(tooltips=[('Value range:', '@left to @right'), ('Count', '@top')])\n",
    "figs = []\n",
    "\n",
    "for sample in (sample1, sample2, sample3):\n",
    "    c, e = np.histogram(sample, bins=bins)\n",
    "    f  = figure(tools=[], toolbar_location=\"above\", width=300, height=300)\n",
    "    f.quad(top=c, bottom=0, left=e[:-1], right=e[1:], fill_color=\"navy\", line_color=\"white\", alpha=.5)\n",
    "    f.y_range.start = 0\n",
    "    f.add_tools(hover)\n",
    "    figs.append(f)"
   ]
  },
  {
   "cell_type": "code",
   "execution_count": 19,
   "metadata": {
    "scrolled": true,
    "slideshow": {
     "slide_type": "fragment"
    }
   },
   "outputs": [
    {
     "data": {
      "text/html": [
       "\n",
       "\n",
       "\n",
       "\n",
       "\n",
       "\n",
       "  <div class=\"bk-root\" id=\"97cc11e0-9f68-4b75-b4d8-db9ea5f76d6e\" data-root-id=\"1492\"></div>\n"
      ]
     },
     "metadata": {},
     "output_type": "display_data"
    },
    {
     "data": {
      "application/javascript": [
       "(function(root) {\n",
       "  function embed_document(root) {\n",
       "    \n",
       "  var docs_json = {\"b5e55dc5-7860-4d9d-99d4-653319e85a03\":{\"roots\":{\"references\":[{\"attributes\":{\"children\":[{\"id\":\"1414\",\"subtype\":\"Figure\",\"type\":\"Plot\"},{\"id\":\"1440\",\"subtype\":\"Figure\",\"type\":\"Plot\"},{\"id\":\"1466\",\"subtype\":\"Figure\",\"type\":\"Plot\"}]},\"id\":\"1492\",\"type\":\"Row\"},{\"attributes\":{\"callback\":null,\"start\":0},\"id\":\"1469\",\"type\":\"DataRange1d\"},{\"attributes\":{},\"id\":\"1543\",\"type\":\"Selection\"},{\"attributes\":{},\"id\":\"1548\",\"type\":\"UnionRenderers\"},{\"attributes\":{},\"id\":\"1421\",\"type\":\"LinearScale\"},{\"attributes\":{\"callback\":null,\"start\":0},\"id\":\"1443\",\"type\":\"DataRange1d\"},{\"attributes\":{\"data_source\":{\"id\":\"1486\",\"type\":\"ColumnDataSource\"},\"glyph\":{\"id\":\"1487\",\"type\":\"Quad\"},\"hover_glyph\":null,\"muted_glyph\":null,\"nonselection_glyph\":{\"id\":\"1488\",\"type\":\"Quad\"},\"selection_glyph\":null,\"view\":{\"id\":\"1490\",\"type\":\"CDSView\"}},\"id\":\"1489\",\"type\":\"GlyphRenderer\"},{\"attributes\":{\"formatter\":{\"id\":\"1539\",\"type\":\"BasicTickFormatter\"},\"ticker\":{\"id\":\"1476\",\"type\":\"BasicTicker\"}},\"id\":\"1475\",\"type\":\"LinearAxis\"},{\"attributes\":{\"callback\":null,\"data\":{\"left\":{\"__ndarray__\":\"Dbv1JHtgB8Ap1QWA+kkGwEXvFdt5MwXAYQkmNvkcBMB9IzaReAYDwJk9Ruz37wHAtFdWR3fZAMCh48xE7YX/v9kX7frrWP2/EUwNseor+79JgC1n6f74v4G0TR3o0fa/uOht0+ak9L/wHI6J5XfyvyhRrj/kSvC/wAqd68U77L8wc91Xw+Hnv6DbHcTAh+O/IIi8YHxb3r8AWT05d6fVv8BTfCPk5sm/AOv7qLP9sL+A0QD1YNKxPwDHfsk6Uco/qJI+jKLc1T/Iwb2zp5DeP3R4nm1WouM/BBBeAVn85z+Upx2VW1bsP5KfbhQvWPA/WmtOXjCF8j8iNy6oMbL0P+oCDvIy3/Y/ss7tOzQM+T96ms2FNTn7P0Jmrc82Zv0/CjKNGTiT/z/pfraxHOAAQM1kplad9gFAsUqW+x0NA0CVMIagniMEQHkWdkUfOgVAXfxl6p9QBkBB4lWPIGcHQCXIRTShfQhACa412SGUCUDtkyV+oqoKQNF5FSMjwQtAt18FyKPXDEA=\",\"dtype\":\"float64\",\"shape\":[49]},\"right\":{\"__ndarray__\":\"KdUFgPpJBsBF7xXbeTMFwGEJJjb5HATAfSM2kXgGA8CZPUbs9+8BwLRXVkd32QDAoePMRO2F/7/ZF+3661j9vxFMDbHqK/u/SYAtZ+n++L+BtE0d6NH2v7jobdPmpPS/8ByOieV38r8oUa4/5Erwv8AKnevFO+y/MHPdV8Ph57+g2x3EwIfjvyCIvGB8W96/AFk9OXen1b/AU3wj5ObJvwDr+6iz/bC/gNEA9WDSsT8Ax37JOlHKP6iSPoyi3NU/yMG9s6eQ3j90eJ5tVqLjPwQQXgFZ/Oc/lKcdlVtW7D+Sn24UL1jwP1prTl4whfI/IjcuqDGy9D/qAg7yMt/2P7LO7Ts0DPk/eprNhTU5+z9CZq3PNmb9PwoyjRk4k/8/6X62sRzgAEDNZKZWnfYBQLFKlvsdDQNAlTCGoJ4jBEB5FnZFHzoFQF38ZeqfUAZAQeJVjyBnB0AlyEU0oX0IQAmuNdkhlAlA7ZMlfqKqCkDReRUjI8ELQLdfBcij1wxAmkX1bCTuDUA=\",\"dtype\":\"float64\",\"shape\":[49]},\"top\":[0,0,0,0,0,0,0,0,0,0,0,0,4,2,3,9,13,11,24,21,18,30,34,26,33,18,16,25,24,28,19,18,23,11,25,15,21,14,7,5,3,0,0,0,0,0,0,0,0]},\"selected\":{\"id\":\"1545\",\"type\":\"Selection\"},\"selection_policy\":{\"id\":\"1546\",\"type\":\"UnionRenderers\"}},\"id\":\"1460\",\"type\":\"ColumnDataSource\"},{\"attributes\":{\"bottom\":{\"value\":0},\"fill_alpha\":{\"value\":0.1},\"fill_color\":{\"value\":\"#1f77b4\"},\"left\":{\"field\":\"left\"},\"line_alpha\":{\"value\":0.1},\"line_color\":{\"value\":\"#1f77b4\"},\"right\":{\"field\":\"right\"},\"top\":{\"field\":\"top\"}},\"id\":\"1488\",\"type\":\"Quad\"},{\"attributes\":{},\"id\":\"1547\",\"type\":\"Selection\"},{\"attributes\":{\"callback\":null},\"id\":\"1441\",\"type\":\"DataRange1d\"},{\"attributes\":{\"source\":{\"id\":\"1434\",\"type\":\"ColumnDataSource\"}},\"id\":\"1438\",\"type\":\"CDSView\"},{\"attributes\":{},\"id\":\"1424\",\"type\":\"BasicTicker\"},{\"attributes\":{},\"id\":\"1471\",\"type\":\"LinearScale\"},{\"attributes\":{\"below\":[{\"id\":\"1475\",\"type\":\"LinearAxis\"}],\"center\":[{\"id\":\"1479\",\"type\":\"Grid\"},{\"id\":\"1484\",\"type\":\"Grid\"}],\"left\":[{\"id\":\"1480\",\"type\":\"LinearAxis\"}],\"plot_height\":300,\"plot_width\":300,\"renderers\":[{\"id\":\"1489\",\"type\":\"GlyphRenderer\"}],\"title\":{\"id\":\"1529\",\"type\":\"Title\"},\"toolbar\":{\"id\":\"1485\",\"type\":\"Toolbar\"},\"toolbar_location\":\"above\",\"x_range\":{\"id\":\"1467\",\"type\":\"DataRange1d\"},\"x_scale\":{\"id\":\"1471\",\"type\":\"LinearScale\"},\"y_range\":{\"id\":\"1469\",\"type\":\"DataRange1d\"},\"y_scale\":{\"id\":\"1473\",\"type\":\"LinearScale\"}},\"id\":\"1466\",\"subtype\":\"Figure\",\"type\":\"Plot\"},{\"attributes\":{},\"id\":\"1544\",\"type\":\"UnionRenderers\"},{\"attributes\":{\"ticker\":{\"id\":\"1424\",\"type\":\"BasicTicker\"}},\"id\":\"1427\",\"type\":\"Grid\"},{\"attributes\":{\"formatter\":{\"id\":\"1535\",\"type\":\"BasicTickFormatter\"},\"ticker\":{\"id\":\"1450\",\"type\":\"BasicTicker\"}},\"id\":\"1449\",\"type\":\"LinearAxis\"},{\"attributes\":{},\"id\":\"1473\",\"type\":\"LinearScale\"},{\"attributes\":{\"formatter\":{\"id\":\"1533\",\"type\":\"BasicTickFormatter\"},\"ticker\":{\"id\":\"1429\",\"type\":\"BasicTicker\"}},\"id\":\"1428\",\"type\":\"LinearAxis\"},{\"attributes\":{},\"id\":\"1533\",\"type\":\"BasicTickFormatter\"},{\"attributes\":{\"source\":{\"id\":\"1486\",\"type\":\"ColumnDataSource\"}},\"id\":\"1490\",\"type\":\"CDSView\"},{\"attributes\":{},\"id\":\"1429\",\"type\":\"BasicTicker\"},{\"attributes\":{},\"id\":\"1546\",\"type\":\"UnionRenderers\"},{\"attributes\":{},\"id\":\"1545\",\"type\":\"Selection\"},{\"attributes\":{},\"id\":\"1445\",\"type\":\"LinearScale\"},{\"attributes\":{},\"id\":\"1476\",\"type\":\"BasicTicker\"},{\"attributes\":{},\"id\":\"1539\",\"type\":\"BasicTickFormatter\"},{\"attributes\":{\"data_source\":{\"id\":\"1460\",\"type\":\"ColumnDataSource\"},\"glyph\":{\"id\":\"1461\",\"type\":\"Quad\"},\"hover_glyph\":null,\"muted_glyph\":null,\"nonselection_glyph\":{\"id\":\"1462\",\"type\":\"Quad\"},\"selection_glyph\":null,\"view\":{\"id\":\"1464\",\"type\":\"CDSView\"}},\"id\":\"1463\",\"type\":\"GlyphRenderer\"},{\"attributes\":{},\"id\":\"1447\",\"type\":\"LinearScale\"},{\"attributes\":{\"ticker\":{\"id\":\"1476\",\"type\":\"BasicTicker\"}},\"id\":\"1479\",\"type\":\"Grid\"},{\"attributes\":{\"dimension\":1,\"ticker\":{\"id\":\"1429\",\"type\":\"BasicTicker\"}},\"id\":\"1432\",\"type\":\"Grid\"},{\"attributes\":{\"formatter\":{\"id\":\"1541\",\"type\":\"BasicTickFormatter\"},\"ticker\":{\"id\":\"1481\",\"type\":\"BasicTicker\"}},\"id\":\"1480\",\"type\":\"LinearAxis\"},{\"attributes\":{\"active_drag\":\"auto\",\"active_inspect\":\"auto\",\"active_multi\":null,\"active_scroll\":\"auto\",\"active_tap\":\"auto\",\"tools\":[{\"id\":\"1413\",\"type\":\"HoverTool\"}]},\"id\":\"1433\",\"type\":\"Toolbar\"},{\"attributes\":{\"callback\":null,\"tooltips\":[[\"Value range:\",\"@left to @right\"],[\"Count\",\"@top\"]]},\"id\":\"1413\",\"type\":\"HoverTool\"},{\"attributes\":{},\"id\":\"1481\",\"type\":\"BasicTicker\"},{\"attributes\":{\"bottom\":{\"value\":0},\"fill_alpha\":{\"value\":0.5},\"fill_color\":{\"value\":\"navy\"},\"left\":{\"field\":\"left\"},\"line_alpha\":{\"value\":0.5},\"line_color\":{\"value\":\"white\"},\"right\":{\"field\":\"right\"},\"top\":{\"field\":\"top\"}},\"id\":\"1461\",\"type\":\"Quad\"},{\"attributes\":{},\"id\":\"1450\",\"type\":\"BasicTicker\"},{\"attributes\":{\"below\":[{\"id\":\"1449\",\"type\":\"LinearAxis\"}],\"center\":[{\"id\":\"1453\",\"type\":\"Grid\"},{\"id\":\"1458\",\"type\":\"Grid\"}],\"left\":[{\"id\":\"1454\",\"type\":\"LinearAxis\"}],\"plot_height\":300,\"plot_width\":300,\"renderers\":[{\"id\":\"1463\",\"type\":\"GlyphRenderer\"}],\"title\":{\"id\":\"1527\",\"type\":\"Title\"},\"toolbar\":{\"id\":\"1459\",\"type\":\"Toolbar\"},\"toolbar_location\":\"above\",\"x_range\":{\"id\":\"1441\",\"type\":\"DataRange1d\"},\"x_scale\":{\"id\":\"1445\",\"type\":\"LinearScale\"},\"y_range\":{\"id\":\"1443\",\"type\":\"DataRange1d\"},\"y_scale\":{\"id\":\"1447\",\"type\":\"LinearScale\"}},\"id\":\"1440\",\"subtype\":\"Figure\",\"type\":\"Plot\"},{\"attributes\":{},\"id\":\"1541\",\"type\":\"BasicTickFormatter\"},{\"attributes\":{\"callback\":null},\"id\":\"1415\",\"type\":\"DataRange1d\"},{\"attributes\":{\"ticker\":{\"id\":\"1450\",\"type\":\"BasicTicker\"}},\"id\":\"1453\",\"type\":\"Grid\"},{\"attributes\":{\"callback\":null,\"data\":{\"left\":{\"__ndarray__\":\"Dbv1JHtgB8Ap1QWA+kkGwEXvFdt5MwXAYQkmNvkcBMB9IzaReAYDwJk9Ruz37wHAtFdWR3fZAMCh48xE7YX/v9kX7frrWP2/EUwNseor+79JgC1n6f74v4G0TR3o0fa/uOht0+ak9L/wHI6J5XfyvyhRrj/kSvC/wAqd68U77L8wc91Xw+Hnv6DbHcTAh+O/IIi8YHxb3r8AWT05d6fVv8BTfCPk5sm/AOv7qLP9sL+A0QD1YNKxPwDHfsk6Uco/qJI+jKLc1T/Iwb2zp5DeP3R4nm1WouM/BBBeAVn85z+Upx2VW1bsP5KfbhQvWPA/WmtOXjCF8j8iNy6oMbL0P+oCDvIy3/Y/ss7tOzQM+T96ms2FNTn7P0Jmrc82Zv0/CjKNGTiT/z/pfraxHOAAQM1kplad9gFAsUqW+x0NA0CVMIagniMEQHkWdkUfOgVAXfxl6p9QBkBB4lWPIGcHQCXIRTShfQhACa412SGUCUDtkyV+oqoKQNF5FSMjwQtAt18FyKPXDEA=\",\"dtype\":\"float64\",\"shape\":[49]},\"right\":{\"__ndarray__\":\"KdUFgPpJBsBF7xXbeTMFwGEJJjb5HATAfSM2kXgGA8CZPUbs9+8BwLRXVkd32QDAoePMRO2F/7/ZF+3661j9vxFMDbHqK/u/SYAtZ+n++L+BtE0d6NH2v7jobdPmpPS/8ByOieV38r8oUa4/5Erwv8AKnevFO+y/MHPdV8Ph57+g2x3EwIfjvyCIvGB8W96/AFk9OXen1b/AU3wj5ObJvwDr+6iz/bC/gNEA9WDSsT8Ax37JOlHKP6iSPoyi3NU/yMG9s6eQ3j90eJ5tVqLjPwQQXgFZ/Oc/lKcdlVtW7D+Sn24UL1jwP1prTl4whfI/IjcuqDGy9D/qAg7yMt/2P7LO7Ts0DPk/eprNhTU5+z9CZq3PNmb9PwoyjRk4k/8/6X62sRzgAEDNZKZWnfYBQLFKlvsdDQNAlTCGoJ4jBEB5FnZFHzoFQF38ZeqfUAZAQeJVjyBnB0AlyEU0oX0IQAmuNdkhlAlA7ZMlfqKqCkDReRUjI8ELQLdfBcij1wxAmkX1bCTuDUA=\",\"dtype\":\"float64\",\"shape\":[49]},\"top\":[0,0,0,0,0,0,0,0,0,0,0,0,1,2,0,6,4,14,33,21,27,22,31,19,25,22,28,25,28,28,26,21,16,15,18,17,5,16,10,9,5,6,0,0,0,0,0,0,0]},\"selected\":{\"id\":\"1543\",\"type\":\"Selection\"},\"selection_policy\":{\"id\":\"1544\",\"type\":\"UnionRenderers\"}},\"id\":\"1434\",\"type\":\"ColumnDataSource\"},{\"attributes\":{\"source\":{\"id\":\"1460\",\"type\":\"ColumnDataSource\"}},\"id\":\"1464\",\"type\":\"CDSView\"},{\"attributes\":{\"formatter\":{\"id\":\"1537\",\"type\":\"BasicTickFormatter\"},\"ticker\":{\"id\":\"1455\",\"type\":\"BasicTicker\"}},\"id\":\"1454\",\"type\":\"LinearAxis\"},{\"attributes\":{\"bottom\":{\"value\":0},\"fill_alpha\":{\"value\":0.1},\"fill_color\":{\"value\":\"#1f77b4\"},\"left\":{\"field\":\"left\"},\"line_alpha\":{\"value\":0.1},\"line_color\":{\"value\":\"#1f77b4\"},\"right\":{\"field\":\"right\"},\"top\":{\"field\":\"top\"}},\"id\":\"1462\",\"type\":\"Quad\"},{\"attributes\":{\"formatter\":{\"id\":\"1531\",\"type\":\"BasicTickFormatter\"},\"ticker\":{\"id\":\"1424\",\"type\":\"BasicTicker\"}},\"id\":\"1423\",\"type\":\"LinearAxis\"},{\"attributes\":{\"dimension\":1,\"ticker\":{\"id\":\"1481\",\"type\":\"BasicTicker\"}},\"id\":\"1484\",\"type\":\"Grid\"},{\"attributes\":{\"bottom\":{\"value\":0},\"fill_alpha\":{\"value\":0.5},\"fill_color\":{\"value\":\"navy\"},\"left\":{\"field\":\"left\"},\"line_alpha\":{\"value\":0.5},\"line_color\":{\"value\":\"white\"},\"right\":{\"field\":\"right\"},\"top\":{\"field\":\"top\"}},\"id\":\"1435\",\"type\":\"Quad\"},{\"attributes\":{},\"id\":\"1531\",\"type\":\"BasicTickFormatter\"},{\"attributes\":{\"active_drag\":\"auto\",\"active_inspect\":\"auto\",\"active_multi\":null,\"active_scroll\":\"auto\",\"active_tap\":\"auto\",\"tools\":[{\"id\":\"1413\",\"type\":\"HoverTool\"}]},\"id\":\"1485\",\"type\":\"Toolbar\"},{\"attributes\":{\"bottom\":{\"value\":0},\"fill_alpha\":{\"value\":0.1},\"fill_color\":{\"value\":\"#1f77b4\"},\"left\":{\"field\":\"left\"},\"line_alpha\":{\"value\":0.1},\"line_color\":{\"value\":\"#1f77b4\"},\"right\":{\"field\":\"right\"},\"top\":{\"field\":\"top\"}},\"id\":\"1436\",\"type\":\"Quad\"},{\"attributes\":{},\"id\":\"1455\",\"type\":\"BasicTicker\"},{\"attributes\":{\"callback\":null,\"start\":0},\"id\":\"1417\",\"type\":\"DataRange1d\"},{\"attributes\":{\"callback\":null},\"id\":\"1467\",\"type\":\"DataRange1d\"},{\"attributes\":{},\"id\":\"1535\",\"type\":\"BasicTickFormatter\"},{\"attributes\":{\"data_source\":{\"id\":\"1434\",\"type\":\"ColumnDataSource\"},\"glyph\":{\"id\":\"1435\",\"type\":\"Quad\"},\"hover_glyph\":null,\"muted_glyph\":null,\"nonselection_glyph\":{\"id\":\"1436\",\"type\":\"Quad\"},\"selection_glyph\":null,\"view\":{\"id\":\"1438\",\"type\":\"CDSView\"}},\"id\":\"1437\",\"type\":\"GlyphRenderer\"},{\"attributes\":{},\"id\":\"1537\",\"type\":\"BasicTickFormatter\"},{\"attributes\":{\"text\":\"\"},\"id\":\"1529\",\"type\":\"Title\"},{\"attributes\":{\"bottom\":{\"value\":0},\"fill_alpha\":{\"value\":0.5},\"fill_color\":{\"value\":\"navy\"},\"left\":{\"field\":\"left\"},\"line_alpha\":{\"value\":0.5},\"line_color\":{\"value\":\"white\"},\"right\":{\"field\":\"right\"},\"top\":{\"field\":\"top\"}},\"id\":\"1487\",\"type\":\"Quad\"},{\"attributes\":{\"callback\":null,\"data\":{\"left\":{\"__ndarray__\":\"Dbv1JHtgB8Ap1QWA+kkGwEXvFdt5MwXAYQkmNvkcBMB9IzaReAYDwJk9Ruz37wHAtFdWR3fZAMCh48xE7YX/v9kX7frrWP2/EUwNseor+79JgC1n6f74v4G0TR3o0fa/uOht0+ak9L/wHI6J5XfyvyhRrj/kSvC/wAqd68U77L8wc91Xw+Hnv6DbHcTAh+O/IIi8YHxb3r8AWT05d6fVv8BTfCPk5sm/AOv7qLP9sL+A0QD1YNKxPwDHfsk6Uco/qJI+jKLc1T/Iwb2zp5DeP3R4nm1WouM/BBBeAVn85z+Upx2VW1bsP5KfbhQvWPA/WmtOXjCF8j8iNy6oMbL0P+oCDvIy3/Y/ss7tOzQM+T96ms2FNTn7P0Jmrc82Zv0/CjKNGTiT/z/pfraxHOAAQM1kplad9gFAsUqW+x0NA0CVMIagniMEQHkWdkUfOgVAXfxl6p9QBkBB4lWPIGcHQCXIRTShfQhACa412SGUCUDtkyV+oqoKQNF5FSMjwQtAt18FyKPXDEA=\",\"dtype\":\"float64\",\"shape\":[49]},\"right\":{\"__ndarray__\":\"KdUFgPpJBsBF7xXbeTMFwGEJJjb5HATAfSM2kXgGA8CZPUbs9+8BwLRXVkd32QDAoePMRO2F/7/ZF+3661j9vxFMDbHqK/u/SYAtZ+n++L+BtE0d6NH2v7jobdPmpPS/8ByOieV38r8oUa4/5Erwv8AKnevFO+y/MHPdV8Ph57+g2x3EwIfjvyCIvGB8W96/AFk9OXen1b/AU3wj5ObJvwDr+6iz/bC/gNEA9WDSsT8Ax37JOlHKP6iSPoyi3NU/yMG9s6eQ3j90eJ5tVqLjPwQQXgFZ/Oc/lKcdlVtW7D+Sn24UL1jwP1prTl4whfI/IjcuqDGy9D/qAg7yMt/2P7LO7Ts0DPk/eprNhTU5+z9CZq3PNmb9PwoyjRk4k/8/6X62sRzgAEDNZKZWnfYBQLFKlvsdDQNAlTCGoJ4jBEB5FnZFHzoFQF38ZeqfUAZAQeJVjyBnB0AlyEU0oX0IQAmuNdkhlAlA7ZMlfqKqCkDReRUjI8ELQLdfBcij1wxAmkX1bCTuDUA=\",\"dtype\":\"float64\",\"shape\":[49]},\"top\":[0,0,0,0,0,0,0,1,1,1,1,1,3,9,5,7,11,15,27,25,35,24,32,38,21,27,23,27,21,16,27,25,24,21,9,7,9,3,2,1,1,0,0,0,0,0,0,0,0]},\"selected\":{\"id\":\"1547\",\"type\":\"Selection\"},\"selection_policy\":{\"id\":\"1548\",\"type\":\"UnionRenderers\"}},\"id\":\"1486\",\"type\":\"ColumnDataSource\"},{\"attributes\":{\"below\":[{\"id\":\"1423\",\"type\":\"LinearAxis\"}],\"center\":[{\"id\":\"1427\",\"type\":\"Grid\"},{\"id\":\"1432\",\"type\":\"Grid\"}],\"left\":[{\"id\":\"1428\",\"type\":\"LinearAxis\"}],\"plot_height\":300,\"plot_width\":300,\"renderers\":[{\"id\":\"1437\",\"type\":\"GlyphRenderer\"}],\"title\":{\"id\":\"1525\",\"type\":\"Title\"},\"toolbar\":{\"id\":\"1433\",\"type\":\"Toolbar\"},\"toolbar_location\":\"above\",\"x_range\":{\"id\":\"1415\",\"type\":\"DataRange1d\"},\"x_scale\":{\"id\":\"1419\",\"type\":\"LinearScale\"},\"y_range\":{\"id\":\"1417\",\"type\":\"DataRange1d\"},\"y_scale\":{\"id\":\"1421\",\"type\":\"LinearScale\"}},\"id\":\"1414\",\"subtype\":\"Figure\",\"type\":\"Plot\"},{\"attributes\":{\"text\":\"\"},\"id\":\"1525\",\"type\":\"Title\"},{\"attributes\":{\"active_drag\":\"auto\",\"active_inspect\":\"auto\",\"active_multi\":null,\"active_scroll\":\"auto\",\"active_tap\":\"auto\",\"tools\":[{\"id\":\"1413\",\"type\":\"HoverTool\"}]},\"id\":\"1459\",\"type\":\"Toolbar\"},{\"attributes\":{\"dimension\":1,\"ticker\":{\"id\":\"1455\",\"type\":\"BasicTicker\"}},\"id\":\"1458\",\"type\":\"Grid\"},{\"attributes\":{\"text\":\"\"},\"id\":\"1527\",\"type\":\"Title\"},{\"attributes\":{},\"id\":\"1419\",\"type\":\"LinearScale\"}],\"root_ids\":[\"1492\"]},\"title\":\"Bokeh Application\",\"version\":\"1.4.0\"}};\n",
       "  var render_items = [{\"docid\":\"b5e55dc5-7860-4d9d-99d4-653319e85a03\",\"roots\":{\"1492\":\"97cc11e0-9f68-4b75-b4d8-db9ea5f76d6e\"}}];\n",
       "  root.Bokeh.embed.embed_items_notebook(docs_json, render_items);\n",
       "\n",
       "  }\n",
       "  if (root.Bokeh !== undefined) {\n",
       "    embed_document(root);\n",
       "  } else {\n",
       "    var attempts = 0;\n",
       "    var timer = setInterval(function(root) {\n",
       "      if (root.Bokeh !== undefined) {\n",
       "        clearInterval(timer);\n",
       "        embed_document(root);\n",
       "      } else {\n",
       "        attempts++;\n",
       "        if (attempts > 100) {\n",
       "          clearInterval(timer);\n",
       "          console.log(\"Bokeh: ERROR: Unable to run BokehJS code because BokehJS library is missing\");\n",
       "        }\n",
       "      }\n",
       "    }, 10, root)\n",
       "  }\n",
       "})(window);"
      ],
      "application/vnd.bokehjs_exec.v0+json": ""
     },
     "metadata": {
      "application/vnd.bokehjs_exec.v0+json": {
       "id": "1492"
      }
     },
     "output_type": "display_data"
    }
   ],
   "source": [
    "show(row(figs))"
   ]
  },
  {
   "cell_type": "markdown",
   "metadata": {
    "slideshow": {
     "slide_type": "fragment"
    }
   },
   "source": [
    "It looks like the three samples have different modes, although drawn from the same population."
   ]
  },
  {
   "cell_type": "markdown",
   "metadata": {
    "slideshow": {
     "slide_type": "subslide"
    }
   },
   "source": [
    "#### Statistical testing"
   ]
  },
  {
   "cell_type": "markdown",
   "metadata": {
    "slideshow": {
     "slide_type": "fragment"
    }
   },
   "source": [
    "We can test the three samples for their mean values. There is the:\n",
    "\n",
    "* **T-Test**, that can test a single sample for a specific mean, \n",
    "* **Two-sided T-Test** that can be used to compare two samples for mean equality and\n",
    "* **paired T-Test** for comparing two dependent samples"
   ]
  },
  {
   "cell_type": "markdown",
   "metadata": {
    "slideshow": {
     "slide_type": "fragment"
    }
   },
   "source": [
    "Each test works by defining a **null hypothesis** that assumes means to be non-different. Then, we calculate a **test statistic value** that is associated with a probability. If this probability is lower than a **confidence level**, we have to **reject** the null hypothesis in favor of a alternative hypothesis."
   ]
  },
  {
   "cell_type": "markdown",
   "metadata": {
    "slideshow": {
     "slide_type": "subslide"
    }
   },
   "source": [
    "**Null hypothesis**:&nbsp;&nbsp;&nbsp;&nbsp;&nbsp;&nbsp;&nbsp;&nbsp;&nbsp;&nbsp;&nbsp;&nbsp;&nbsp;&nbsp;&nbsp;$\\mu_{sample1} = \\mu_{sample2}$\n",
    "\n",
    "**Alternative hypothesis**:&nbsp;&nbsp;&nbsp;$\\mu_{sample1} \\neq \\mu_{sample2}$\n",
    "\n",
    "**Confidence level**:&nbsp;&nbsp;&nbsp;&nbsp;&nbsp;&nbsp;&nbsp;&nbsp;&nbsp;&nbsp;&nbsp;&nbsp;&nbsp;$0.05$"
   ]
  },
  {
   "cell_type": "code",
   "execution_count": 20,
   "metadata": {
    "slideshow": {
     "slide_type": "fragment"
    }
   },
   "outputs": [
    {
     "name": "stdout",
     "output_type": "stream",
     "text": [
      "Sample 1 - Sample 2 p-value:     0.331\n",
      "Sample 2 - Sample 3 p-value:     7.66348e-05\n"
     ]
    }
   ],
   "source": [
    "print('Sample 1 - Sample 2 p-value:     %.3f' % stats.ttest_ind(sample1, sample2).pvalue)\n",
    "print('Sample 2 - Sample 3 p-value:     %g' % stats.ttest_ind(sample2, sample3).pvalue)"
   ]
  },
  {
   "cell_type": "markdown",
   "metadata": {
    "slideshow": {
     "slide_type": "fragment"
    }
   },
   "source": [
    "Thus, we can conclude, that for sample 1 and 2 the null hypothesis holds, while for 2 and 3 we have to **reject** it."
   ]
  },
  {
   "cell_type": "markdown",
   "metadata": {
    "slideshow": {
     "slide_type": "subslide"
    }
   },
   "source": [
    "One reason might be, that we treated the samples as a univariate dataset with independent observations. In fact, the data has an **order**. THis becomes obvious if we plot the obersavtions in order of occurence:"
   ]
  },
  {
   "cell_type": "code",
   "execution_count": 21,
   "metadata": {
    "slideshow": {
     "slide_type": "skip"
    }
   },
   "outputs": [],
   "source": [
    "series = figure(tools=[], width=700, height=350)\n",
    "series.line(range(500), sample1, legend_label='Sample 1', color='green')\n",
    "series.line(range(500), sample2, legend_label='Sample 2', color='orange')\n",
    "series.line(range(500), sample3, legend_label='Sample 3', color='darkblue')\n",
    "series.legend.click_policy = 'hide'\n",
    "series.legend.location = 'bottom_left'\n",
    "series.legend.orientation = 'horizontal'"
   ]
  },
  {
   "cell_type": "code",
   "execution_count": 22,
   "metadata": {
    "slideshow": {
     "slide_type": "subslide"
    }
   },
   "outputs": [
    {
     "data": {
      "text/html": [
       "\n",
       "\n",
       "\n",
       "\n",
       "\n",
       "\n",
       "  <div class=\"bk-root\" id=\"974d2e51-20ba-4e64-8eb0-f09c45d87579\" data-root-id=\"1693\"></div>\n"
      ]
     },
     "metadata": {},
     "output_type": "display_data"
    },
    {
     "data": {
      "application/javascript": [
       "(function(root) {\n",
       "  function embed_document(root) {\n",
       "    \n",
       "  var docs_json = {\"312503c5-776c-4408-9aad-013851d301a2\":{\"roots\":{\"references\":[{\"attributes\":{\"below\":[{\"id\":\"1702\",\"type\":\"LinearAxis\"}],\"center\":[{\"id\":\"1706\",\"type\":\"Grid\"},{\"id\":\"1711\",\"type\":\"Grid\"},{\"id\":\"1724\",\"type\":\"Legend\"}],\"left\":[{\"id\":\"1707\",\"type\":\"LinearAxis\"}],\"plot_height\":350,\"plot_width\":700,\"renderers\":[{\"id\":\"1716\",\"type\":\"GlyphRenderer\"},{\"id\":\"1729\",\"type\":\"GlyphRenderer\"},{\"id\":\"1743\",\"type\":\"GlyphRenderer\"}],\"title\":{\"id\":\"1718\",\"type\":\"Title\"},\"toolbar\":{\"id\":\"1712\",\"type\":\"Toolbar\"},\"x_range\":{\"id\":\"1694\",\"type\":\"DataRange1d\"},\"x_scale\":{\"id\":\"1698\",\"type\":\"LinearScale\"},\"y_range\":{\"id\":\"1696\",\"type\":\"DataRange1d\"},\"y_scale\":{\"id\":\"1700\",\"type\":\"LinearScale\"}},\"id\":\"1693\",\"subtype\":\"Figure\",\"type\":\"Plot\"},{\"attributes\":{\"line_color\":\"green\",\"x\":{\"field\":\"x\"},\"y\":{\"field\":\"y\"}},\"id\":\"1714\",\"type\":\"Line\"},{\"attributes\":{\"line_color\":\"orange\",\"x\":{\"field\":\"x\"},\"y\":{\"field\":\"y\"}},\"id\":\"1727\",\"type\":\"Line\"},{\"attributes\":{\"label\":{\"value\":\"Sample 3\"},\"renderers\":[{\"id\":\"1743\",\"type\":\"GlyphRenderer\"}]},\"id\":\"1755\",\"type\":\"LegendItem\"},{\"attributes\":{\"dimension\":1,\"ticker\":{\"id\":\"1708\",\"type\":\"BasicTicker\"}},\"id\":\"1711\",\"type\":\"Grid\"},{\"attributes\":{\"active_drag\":\"auto\",\"active_inspect\":\"auto\",\"active_multi\":null,\"active_scroll\":\"auto\",\"active_tap\":\"auto\"},\"id\":\"1712\",\"type\":\"Toolbar\"},{\"attributes\":{\"line_alpha\":0.1,\"line_color\":\"#1f77b4\",\"x\":{\"field\":\"x\"},\"y\":{\"field\":\"y\"}},\"id\":\"1742\",\"type\":\"Line\"},{\"attributes\":{\"label\":{\"value\":\"Sample 2\"},\"renderers\":[{\"id\":\"1729\",\"type\":\"GlyphRenderer\"}]},\"id\":\"1739\",\"type\":\"LegendItem\"},{\"attributes\":{\"callback\":null,\"data\":{\"x\":[0,1,2,3,4,5,6,7,8,9,10,11,12,13,14,15,16,17,18,19,20,21,22,23,24,25,26,27,28,29,30,31,32,33,34,35,36,37,38,39,40,41,42,43,44,45,46,47,48,49,50,51,52,53,54,55,56,57,58,59,60,61,62,63,64,65,66,67,68,69,70,71,72,73,74,75,76,77,78,79,80,81,82,83,84,85,86,87,88,89,90,91,92,93,94,95,96,97,98,99,100,101,102,103,104,105,106,107,108,109,110,111,112,113,114,115,116,117,118,119,120,121,122,123,124,125,126,127,128,129,130,131,132,133,134,135,136,137,138,139,140,141,142,143,144,145,146,147,148,149,150,151,152,153,154,155,156,157,158,159,160,161,162,163,164,165,166,167,168,169,170,171,172,173,174,175,176,177,178,179,180,181,182,183,184,185,186,187,188,189,190,191,192,193,194,195,196,197,198,199,200,201,202,203,204,205,206,207,208,209,210,211,212,213,214,215,216,217,218,219,220,221,222,223,224,225,226,227,228,229,230,231,232,233,234,235,236,237,238,239,240,241,242,243,244,245,246,247,248,249,250,251,252,253,254,255,256,257,258,259,260,261,262,263,264,265,266,267,268,269,270,271,272,273,274,275,276,277,278,279,280,281,282,283,284,285,286,287,288,289,290,291,292,293,294,295,296,297,298,299,300,301,302,303,304,305,306,307,308,309,310,311,312,313,314,315,316,317,318,319,320,321,322,323,324,325,326,327,328,329,330,331,332,333,334,335,336,337,338,339,340,341,342,343,344,345,346,347,348,349,350,351,352,353,354,355,356,357,358,359,360,361,362,363,364,365,366,367,368,369,370,371,372,373,374,375,376,377,378,379,380,381,382,383,384,385,386,387,388,389,390,391,392,393,394,395,396,397,398,399,400,401,402,403,404,405,406,407,408,409,410,411,412,413,414,415,416,417,418,419,420,421,422,423,424,425,426,427,428,429,430,431,432,433,434,435,436,437,438,439,440,441,442,443,444,445,446,447,448,449,450,451,452,453,454,455,456,457,458,459,460,461,462,463,464,465,466,467,468,469,470,471,472,473,474,475,476,477,478,479,480,481,482,483,484,485,486,487,488,489,490,491,492,493,494,495,496,497,498,499],\"y\":{\"__ndarray__\":\"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\",\"dtype\":\"float64\",\"shape\":[500]}},\"selected\":{\"id\":\"1737\",\"type\":\"Selection\"},\"selection_policy\":{\"id\":\"1738\",\"type\":\"UnionRenderers\"}},\"id\":\"1713\",\"type\":\"ColumnDataSource\"},{\"attributes\":{},\"id\":\"1822\",\"type\":\"Selection\"},{\"attributes\":{},\"id\":\"1823\",\"type\":\"UnionRenderers\"},{\"attributes\":{\"callback\":null,\"data\":{\"x\":[0,1,2,3,4,5,6,7,8,9,10,11,12,13,14,15,16,17,18,19,20,21,22,23,24,25,26,27,28,29,30,31,32,33,34,35,36,37,38,39,40,41,42,43,44,45,46,47,48,49,50,51,52,53,54,55,56,57,58,59,60,61,62,63,64,65,66,67,68,69,70,71,72,73,74,75,76,77,78,79,80,81,82,83,84,85,86,87,88,89,90,91,92,93,94,95,96,97,98,99,100,101,102,103,104,105,106,107,108,109,110,111,112,113,114,115,116,117,118,119,120,121,122,123,124,125,126,127,128,129,130,131,132,133,134,135,136,137,138,139,140,141,142,143,144,145,146,147,148,149,150,151,152,153,154,155,156,157,158,159,160,161,162,163,164,165,166,167,168,169,170,171,172,173,174,175,176,177,178,179,180,181,182,183,184,185,186,187,188,189,190,191,192,193,194,195,196,197,198,199,200,201,202,203,204,205,206,207,208,209,210,211,212,213,214,215,216,217,218,219,220,221,222,223,224,225,226,227,228,229,230,231,232,233,234,235,236,237,238,239,240,241,242,243,244,245,246,247,248,249,250,251,252,253,254,255,256,257,258,259,260,261,262,263,264,265,266,267,268,269,270,271,272,273,274,275,276,277,278,279,280,281,282,283,284,285,286,287,288,289,290,291,292,293,294,295,296,297,298,299,300,301,302,303,304,305,306,307,308,309,310,311,312,313,314,315,316,317,318,319,320,321,322,323,324,325,326,327,328,329,330,331,332,333,334,335,336,337,338,339,340,341,342,343,344,345,346,347,348,349,350,351,352,353,354,355,356,357,358,359,360,361,362,363,364,365,366,367,368,369,370,371,372,373,374,375,376,377,378,379,380,381,382,383,384,385,386,387,388,389,390,391,392,393,394,395,396,397,398,399,400,401,402,403,404,405,406,407,408,409,410,411,412,413,414,415,416,417,418,419,420,421,422,423,424,425,426,427,428,429,430,431,432,433,434,435,436,437,438,439,440,441,442,443,444,445,446,447,448,449,450,451,452,453,454,455,456,457,458,459,460,461,462,463,464,465,466,467,468,469,470,471,472,473,474,475,476,477,478,479,480,481,482,483,484,485,486,487,488,489,490,491,492,493,494,495,496,497,498,499],\"y\":{\"__ndarray__\":\"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\",\"dtype\":\"float64\",\"shape\":[500]}},\"selected\":{\"id\":\"1753\",\"type\":\"Selection\"},\"selection_policy\":{\"id\":\"1754\",\"type\":\"UnionRenderers\"}},\"id\":\"1726\",\"type\":\"ColumnDataSource\"},{\"attributes\":{},\"id\":\"1722\",\"type\":\"BasicTickFormatter\"},{\"attributes\":{},\"id\":\"1737\",\"type\":\"Selection\"},{\"attributes\":{\"callback\":null},\"id\":\"1696\",\"type\":\"DataRange1d\"},{\"attributes\":{\"source\":{\"id\":\"1726\",\"type\":\"ColumnDataSource\"}},\"id\":\"1730\",\"type\":\"CDSView\"},{\"attributes\":{\"line_alpha\":0.1,\"line_color\":\"#1f77b4\",\"x\":{\"field\":\"x\"},\"y\":{\"field\":\"y\"}},\"id\":\"1715\",\"type\":\"Line\"},{\"attributes\":{\"data_source\":{\"id\":\"1740\",\"type\":\"ColumnDataSource\"},\"glyph\":{\"id\":\"1741\",\"type\":\"Line\"},\"hover_glyph\":null,\"muted_glyph\":null,\"nonselection_glyph\":{\"id\":\"1742\",\"type\":\"Line\"},\"selection_glyph\":null,\"view\":{\"id\":\"1744\",\"type\":\"CDSView\"}},\"id\":\"1743\",\"type\":\"GlyphRenderer\"},{\"attributes\":{},\"id\":\"1754\",\"type\":\"UnionRenderers\"},{\"attributes\":{\"data_source\":{\"id\":\"1713\",\"type\":\"ColumnDataSource\"},\"glyph\":{\"id\":\"1714\",\"type\":\"Line\"},\"hover_glyph\":null,\"muted_glyph\":null,\"nonselection_glyph\":{\"id\":\"1715\",\"type\":\"Line\"},\"selection_glyph\":null,\"view\":{\"id\":\"1717\",\"type\":\"CDSView\"}},\"id\":\"1716\",\"type\":\"GlyphRenderer\"},{\"attributes\":{\"formatter\":{\"id\":\"1720\",\"type\":\"BasicTickFormatter\"},\"ticker\":{\"id\":\"1703\",\"type\":\"BasicTicker\"}},\"id\":\"1702\",\"type\":\"LinearAxis\"},{\"attributes\":{\"text\":\"\"},\"id\":\"1718\",\"type\":\"Title\"},{\"attributes\":{},\"id\":\"1698\",\"type\":\"LinearScale\"},{\"attributes\":{\"line_color\":\"darkblue\",\"x\":{\"field\":\"x\"},\"y\":{\"field\":\"y\"}},\"id\":\"1741\",\"type\":\"Line\"},{\"attributes\":{\"source\":{\"id\":\"1713\",\"type\":\"ColumnDataSource\"}},\"id\":\"1717\",\"type\":\"CDSView\"},{\"attributes\":{\"callback\":null},\"id\":\"1694\",\"type\":\"DataRange1d\"},{\"attributes\":{},\"id\":\"1700\",\"type\":\"LinearScale\"},{\"attributes\":{\"line_alpha\":0.1,\"line_color\":\"#1f77b4\",\"x\":{\"field\":\"x\"},\"y\":{\"field\":\"y\"}},\"id\":\"1728\",\"type\":\"Line\"},{\"attributes\":{},\"id\":\"1738\",\"type\":\"UnionRenderers\"},{\"attributes\":{},\"id\":\"1720\",\"type\":\"BasicTickFormatter\"},{\"attributes\":{},\"id\":\"1703\",\"type\":\"BasicTicker\"},{\"attributes\":{\"ticker\":{\"id\":\"1703\",\"type\":\"BasicTicker\"}},\"id\":\"1706\",\"type\":\"Grid\"},{\"attributes\":{\"formatter\":{\"id\":\"1722\",\"type\":\"BasicTickFormatter\"},\"ticker\":{\"id\":\"1708\",\"type\":\"BasicTicker\"}},\"id\":\"1707\",\"type\":\"LinearAxis\"},{\"attributes\":{\"callback\":null,\"data\":{\"x\":[0,1,2,3,4,5,6,7,8,9,10,11,12,13,14,15,16,17,18,19,20,21,22,23,24,25,26,27,28,29,30,31,32,33,34,35,36,37,38,39,40,41,42,43,44,45,46,47,48,49,50,51,52,53,54,55,56,57,58,59,60,61,62,63,64,65,66,67,68,69,70,71,72,73,74,75,76,77,78,79,80,81,82,83,84,85,86,87,88,89,90,91,92,93,94,95,96,97,98,99,100,101,102,103,104,105,106,107,108,109,110,111,112,113,114,115,116,117,118,119,120,121,122,123,124,125,126,127,128,129,130,131,132,133,134,135,136,137,138,139,140,141,142,143,144,145,146,147,148,149,150,151,152,153,154,155,156,157,158,159,160,161,162,163,164,165,166,167,168,169,170,171,172,173,174,175,176,177,178,179,180,181,182,183,184,185,186,187,188,189,190,191,192,193,194,195,196,197,198,199,200,201,202,203,204,205,206,207,208,209,210,211,212,213,214,215,216,217,218,219,220,221,222,223,224,225,226,227,228,229,230,231,232,233,234,235,236,237,238,239,240,241,242,243,244,245,246,247,248,249,250,251,252,253,254,255,256,257,258,259,260,261,262,263,264,265,266,267,268,269,270,271,272,273,274,275,276,277,278,279,280,281,282,283,284,285,286,287,288,289,290,291,292,293,294,295,296,297,298,299,300,301,302,303,304,305,306,307,308,309,310,311,312,313,314,315,316,317,318,319,320,321,322,323,324,325,326,327,328,329,330,331,332,333,334,335,336,337,338,339,340,341,342,343,344,345,346,347,348,349,350,351,352,353,354,355,356,357,358,359,360,361,362,363,364,365,366,367,368,369,370,371,372,373,374,375,376,377,378,379,380,381,382,383,384,385,386,387,388,389,390,391,392,393,394,395,396,397,398,399,400,401,402,403,404,405,406,407,408,409,410,411,412,413,414,415,416,417,418,419,420,421,422,423,424,425,426,427,428,429,430,431,432,433,434,435,436,437,438,439,440,441,442,443,444,445,446,447,448,449,450,451,452,453,454,455,456,457,458,459,460,461,462,463,464,465,466,467,468,469,470,471,472,473,474,475,476,477,478,479,480,481,482,483,484,485,486,487,488,489,490,491,492,493,494,495,496,497,498,499],\"y\":{\"__ndarray__\":\"9RdCK6T15j8j2kWYzkfYvwmZDguZANs/4zKg5oCh078ErU3IF3qcv6jf6KMHT7c/JpdoM48K2b/GKiVcbjbMv9YQaeTX4ba/vQ98rfM53b+PsKjnpgHFP3kt9VP7iL4/Q56uR+SI3z+NXw7kFfxuPyCK2riBobg/3NnUCexX4z8hy1Z70hy3v/MW3epenLc/R1q6IGNN4b/NXy2doJ/Cv8Q2xHSRcrO/njbk90+R0b/bcx3tIp7fP3R7eyIIPtA/zC8xaFE327+6rekduqHTv3UugUm8gs8/ZfPpB/Ly17/lW9FTY3DPv856NX/E+OO/TuFc66NytT+50Eqx4bHYvzAeUR018oW/IPZiIqmKdr/N+6t20bLZP6734s5nRsw/bSId1J2b278ddZy3sJ7gvykVuEYjfsi/cjkt+IAzzz/mfxSTXnnjvzCic8VlstW/UDTJdrLJy78H5jweeGzcvyTc0nAawMy/MIp3HmdE5z//w+5KrAvdP+a4qt1eDrA/px8fR+2qyj93ZTNhm2i+P1F7b0CPO9E/CsxtYNayuT8WPCaHSuPnP6lTDa2tNt0/ENsRVZ5v3T9YsIGmeyDHPxrwdB+ZRus/InznIlHi5j8L+xBAEDDoP02uINXB0PQ/RYKIgJ8d4j8x95jZIs/rPwZIkfgh+PM/DoTnYN/l9j8dwVG8Jdn2P434cKcDL/U/lF0l1Tux9D+85RMdPOb4PyLBfMAwHv8/+A/i0JJ46j9E+/eBpef1P6gLam5LMP0/FilQ2xH5AECnBP/wd6P3P9gEZQWvdPw/bGGk1uUxAECM5Zn4qYr5P+4H0o5+AAJA1YPi6tkZAUDpFO4vQw78P19Rt2zQO/o/3w1tfJ0AAkC+HRlGdsb2PyzNsUh8v/4/5KzHV4bK+j/He9d/7d4AQM2j2j0KYABAa8SdvOHkAEDx+/OxSl/9Py/qufmf6/c/g75aDICj/z8wT0JPOx34P2kxTZXw7Po/l9XzdpBD+D99jNBY/bn9PyZOwUuAIek/uAhQnba66T/RfqjYq5rwP3yGXkbxG/E/2dtGqjeI7T+SWOBhsRbuP/gFEpCP+vA/H+OI1y5G6T9mK6N5DVLwP3eq6RN2WOM/f2ff8OXAlb8morCc3tDRP2CeauFQwPA/yLpj9pS2vz83iPIzhzHAPzN23gfjVt0/P7yD/ueuyD+itubaMC/lPy4i/Ec2/NA/pMLUqxFGrr9S95rWHyLDv05/pnwe/qK/+41bVzXitj/5RlQBNUDHvycLJm9VBN+/BkwWcv6Qyz+b81lLq06/P+uHo2erqMG/WztHpjxa4z+QZagtUfHSvxxnilMwnb2/IQwpH7oU2L8SuLTpB17cv7/C4Z1yt8o/O70ui7yduL+3t9hm3Arcv8q37Ko6Ysi/zBlDVaii1b8bdDXPB/fXPwog8wnIEMU/FYq/ueNJpr/r+gPUgiS6PyWQ/NCAkdS/p7IP8K2p0z+KY8zlXMzgv+QfaugnMcg/gWF8wlZN5j94JD0d2AGsvxZgblZZIMy/jOMKQPR72D/xlM6NoADHvwtQV0+sdds/JuryNVbSuz+FRiwNH23RP5Cqr75NDuw/yOX56aXA5j9JQhyzA2HhP7K66rcahuo/Lf7i6+qS4T9cueVGNpbhP8gwMt1CluA/2xI6xnWK6T89Sr852eX0P+RVvAcFefQ/ILqTZmK49D/K4CvxpbfrP8mWRkwtuPg/31TMuGTl8z/OkINnsh7wP/PGFRDiJ/k/Z1zGTDil/D9dq6WXglr5P3Omz7A0Vvw/iXvlcvVN9j9i1bmW1PP1P3W1IZIA/fk/TLvc/eD69D+qYzfPH075P2DCfkznIfE/TsaaoEJp9D9JNkCUdvb6P6aPFWpR3fU/YAisQgqE+T84yrF9s9H4P0Aq07CdLvQ/zD4OrEzC6T/R1abLb4r2P852x5mGAvE/frIcUzsc4D8i6UwhimnzP2HoxKiKve4/Zmn2O5PI8D9ixO1hE2LrPxy6LZrfV/M/xSK9Df915T9tYx02ueLSv4EQhdkzMuQ/XgEYNgaQ2D9kcBoouevoP8EiwGL4SYM/ms02lJBC0r+xnAB8WfXeP0Fd78QSQc4/qlRGBm5Q0L9YAyl3nd2HP8UrgjcC5dU/ADgvauf64r+Srgsftc+1vyiJ1F+NkOK/3B+/13V12L/yeUZ9VWzyv8N5WQ073tq/HpxkcfEx8L8+qxWJg8zmv5+FvNiX+pm/lvEj0RRW0b9OSvVtderUv8jEH/vjMO6/KD6CpAYm5b9z7Vr/sH3jv+WU0U4GqcW/lxDEdlRs0r9sqI6D7pXlv6Pf1UywQNa/wL2qTbzAlr8kq1qgUTbTv2xN0uqaaN2/N6CeSfNT27/mDERxqfjEv/KLgv43hPC/pnL7JuSzwr88j7dxG7+1v8hWFd4dysO/6+sRnK9Exz9CpEQSVdnovyD7Q/1ZVs0/LBFxEj8xuL+npzgZCK2wv6dZJ8e48bW/lkp5vRxj3T/5AWadUSvQP2H1MLnQWbo/ESVvp+dn0D91W4nUSyjTP5KdTxoUcL8/esXlHTxT0T8iDv/Z7crMPwL7ezEsgLS/Bylyoi90w7/bXRl3PabuP9fChXUtJ+4/NPq0OJCE3z93dp1h2SLjP6W/xLdaE+E/M3gFCVA93D9QoEr3B9KSP4Rt7ftXM8c/2J53S4Jx1T89z8fGpZPpP1Agxbv+MfM/0KJWN1DH1D/01xpztXjSP85T3gLTr9E/DYo9HWoE5T/khnuj23DmP9/NKx7ZzeQ/CjAVNprc6T9yBXmBG6LtP2NtlxVeaNA/5dJPvtGs8j8MRWIqqk7IP6QBfdxbuuA/Vuj9HB++yD9V2qKAz1riP0ukQgDOgOY/5rbDwoBG0j+vL4aQmEDlP2AXj4FDiaw/kRK+lKdHzT+ASQpWelHDv2foM8KbvsY/gyn6P2e7tj+cci+ZvxnYP82NTYYCiNm/yvAFBUfh0z99LLNRjiLgP/GvuHed3do/Ne5N40+D278njlk6DoLMP/wsvSnfGJi/+cSQqKscsr8++s87lmTVP+0olSrvhNI/VNdfe73s5L/6GjfD/xvWv3RTuX458MM/+MnDZI541L9lqQTiwC3Rv2PelhQ/Rs4/McoWXpfolz+oFsPWP27Hvy5ufLn5xdi/frb4jgAEzL890YV2Vd7mP0iZICsy4cI/XGqkvqmd178sXPKweuTCv/TaZQ1HaZY/LZcXDy9Z4D/9S8z0SczgPyFofXak98w/e9h7/ntZ0z/d0SvQlfHEP4yJMM6IGsS/JMZTKBnwyL/gPJfNS8qSP2T9M8yZld0/KzvC+5Ib2D9tZyFesNjkP4Q/vQbpiLg/mELhE0z47j+kzg4KRkngP5zcdbDdBuU/BTPX32xD4D/BBKj/fp3kP2IOH83Fruo/JXjtVP043D/wAUGuXY3Rvws/5n3k9NE/VhuvH+88pz+I7OQtq0CeP8OIIcbg1MO/8An/7+5UtL9MYZS9sRHXP783f9Nqe9O/DMhxBNUFqL98NpM5WEjmvwC/o1ngQdi/IjMLoHte6b+JjLntmxDjv9uK+9mCr+C/owYS1OXx2b81XihugX3yv15UIUqM+/C/ZUPlgkmc7b9OKqK3H9bYv5AlKVHbere/NJA9NmKg8b/6aUfa7IL+vzhb5Rsq0tO/zvcsyC3h+b/EcUGcsN3yvzY8TIMIG/G/yd+vmkvc9r/eaUONyuruv/7zrEwHyfu/bdVOVDYD9b8QAX3O2hTrv/UsTacrMvG/5ZKaVKg64r98xhoNRYzwvyQhYm7xXOO/wLg81vqL8b8jOk2PAwDyvzQupsiWsu6/rev5qIk37L/3IdBhTTjYv28myCFgNvO/OerQ23H/4r95WvItqmLnv5ocD+h8Gey/dWTY32N/678X3qvi/pzFv9A6VoKl9Om/wPx6YZpitb9A02bNkXLkvyQAPqYVIeW/GT2NNKn2t78LA9q9yKvlv0fv4ahVb8G/smzn44DZ2D9vk+Hf+TTkv5rWiFhV0+K/pvTS4++V0r+cUlNA+wPiv4f/3OiuBs0/WJ3jsT8f1r+d6wh999TvP/sXDIMJ47g/uDK2mIKX6z9WJBuqwALlP9niKAvYx+g/t+q+2Qyizj+4U/MnsQPiPzB4aPzKYeU/Hk/PFypj6D/0q1w6vLrMP1W1lK3J7rc/BMpDiNI36T8SDec4bRzyP0x586Uj3/A/b2Hzd0A/1D9W5qIDdmznPwSAofEgUOA/HvMsoLEM3z/Wxpa6oQfwP7snhOty++4/gJl/phA08D/Pp+Rf6lDwP2S+CiPvWeA/eDWFQmGM7D/E4GHyKl/zPwDjeNxYv/c/ev5UA/7N6T95e1OEVHv1P0FHdsrpivY/3zqlvCmw9z+7BHjUWAHnP+ZU4MsytOI/lBCRXWmS9D/waVP8NlzyP7T76WXgf/M/8d2JCdL08j9DQBtL6cT2P1BJxMWJnvM/PYFQWBrx7D+eByg4XVb2P+5074OE8PI/HiWjBjZs8j9Sbt3WNQXqPwCtrL22R/M/XzOSWzEm7j87MlIYIiHyP912Lbzixe4/dJUQPNPA9D8nZnZfdyf2P48YZMf1cvM/MRLPX+WI+T8qbbxcjs32P0LW+SH93Oo/ogpDiMTC2T/YPpdJOVr0P2dmW00pRvY/jUHplk2X6T8yv2FHL5XmPx98p/GWYO4/FMfR7NNl9D/GtXR822TzPw02U1F8p/Q/kHPUAVC19T9CWqwJe9P4PynajrPCve0/UfuWN21g+j9YyKSSW9/3P7HMA3KRcvU/kBwgYyS58z9jzanIijb4Pwk47cwKRfQ/Zxxupse6/D/OcDDCuIbyP/8K8x/UCvg/pNrUsWRz8j9XGF9Z5bH/P2l+bo5Ihfg/8fPy57gg+z/CatXLXz37P8XIckUqk/4/lY6Pg4EZ9z+rrQaZS4r4PwNEvU0B2/U/OPBoz+7a9z+lz4+4sSX7P67RFndTB/s/6ut5dtHJ/T+qJaWsQpADQKI2718zKfs/VHURNcNzAEAfVhXo/nsEQN518qybWPY/yNhM0eDr9j9l4tLI56r+P9rw4kbogwBATllDhHB6/D+9i5R785f4P5efAbnCcvg/Ng7Ldzia+D8FUMyVpVf2P2NZMPdcMPo/E+T6DZaw/z/75s4v5LT+P86+/x/iZus/8r+RRMfv+T/bOmbNFw37PwjzzbVYCABAlM0ogJgJ+j8wXTKd+cH3P9fgYNqKvfk/D+ERODib9z9MvI2Rk6fxPx5yJ/Li9Os/DG9TwF/28j+220InEr3xP7DBaxkW9O0/XDHIBgVx8z/tEBPIcAzyPw==\",\"dtype\":\"float64\",\"shape\":[500]}},\"selected\":{\"id\":\"1822\",\"type\":\"Selection\"},\"selection_policy\":{\"id\":\"1823\",\"type\":\"UnionRenderers\"}},\"id\":\"1740\",\"type\":\"ColumnDataSource\"},{\"attributes\":{\"data_source\":{\"id\":\"1726\",\"type\":\"ColumnDataSource\"},\"glyph\":{\"id\":\"1727\",\"type\":\"Line\"},\"hover_glyph\":null,\"muted_glyph\":null,\"nonselection_glyph\":{\"id\":\"1728\",\"type\":\"Line\"},\"selection_glyph\":null,\"view\":{\"id\":\"1730\",\"type\":\"CDSView\"}},\"id\":\"1729\",\"type\":\"GlyphRenderer\"},{\"attributes\":{\"click_policy\":\"hide\",\"items\":[{\"id\":\"1725\",\"type\":\"LegendItem\"},{\"id\":\"1739\",\"type\":\"LegendItem\"},{\"id\":\"1755\",\"type\":\"LegendItem\"}],\"location\":\"bottom_left\",\"orientation\":\"horizontal\"},\"id\":\"1724\",\"type\":\"Legend\"},{\"attributes\":{},\"id\":\"1708\",\"type\":\"BasicTicker\"},{\"attributes\":{},\"id\":\"1753\",\"type\":\"Selection\"},{\"attributes\":{\"source\":{\"id\":\"1740\",\"type\":\"ColumnDataSource\"}},\"id\":\"1744\",\"type\":\"CDSView\"},{\"attributes\":{\"label\":{\"value\":\"Sample 1\"},\"renderers\":[{\"id\":\"1716\",\"type\":\"GlyphRenderer\"}]},\"id\":\"1725\",\"type\":\"LegendItem\"}],\"root_ids\":[\"1693\"]},\"title\":\"Bokeh Application\",\"version\":\"1.4.0\"}};\n",
       "  var render_items = [{\"docid\":\"312503c5-776c-4408-9aad-013851d301a2\",\"roots\":{\"1693\":\"974d2e51-20ba-4e64-8eb0-f09c45d87579\"}}];\n",
       "  root.Bokeh.embed.embed_items_notebook(docs_json, render_items);\n",
       "\n",
       "  }\n",
       "  if (root.Bokeh !== undefined) {\n",
       "    embed_document(root);\n",
       "  } else {\n",
       "    var attempts = 0;\n",
       "    var timer = setInterval(function(root) {\n",
       "      if (root.Bokeh !== undefined) {\n",
       "        clearInterval(timer);\n",
       "        embed_document(root);\n",
       "      } else {\n",
       "        attempts++;\n",
       "        if (attempts > 100) {\n",
       "          clearInterval(timer);\n",
       "          console.log(\"Bokeh: ERROR: Unable to run BokehJS code because BokehJS library is missing\");\n",
       "        }\n",
       "      }\n",
       "    }, 10, root)\n",
       "  }\n",
       "})(window);"
      ],
      "application/vnd.bokehjs_exec.v0+json": ""
     },
     "metadata": {
      "application/vnd.bokehjs_exec.v0+json": {
       "id": "1693"
      }
     },
     "output_type": "display_data"
    }
   ],
   "source": [
    "show(series)"
   ]
  },
  {
   "cell_type": "markdown",
   "metadata": {
    "slideshow": {
     "slide_type": "fragment"
    }
   },
   "source": [
    "It is quite obvious, that the samples are **multivariate** and the value on the y-axis **depends** on the x-axis value. \n",
    "The x-axis could i.e. show **time** (time series) or **distance** (transect). "
   ]
  }
 ],
 "metadata": {
  "celltoolbar": "Slideshow",
  "finalized": {
   "timestamp": 1586429024506,
   "trusted": true
  },
  "kernelspec": {
   "display_name": "Python 3",
   "language": "python",
   "name": "python3"
  },
  "language_info": {
   "codemirror_mode": {
    "name": "ipython",
    "version": 3
   },
   "file_extension": ".py",
   "mimetype": "text/x-python",
   "name": "python",
   "nbconvert_exporter": "python",
   "pygments_lexer": "ipython3",
   "version": "3.7.6"
  }
 },
 "nbformat": 4,
 "nbformat_minor": 4
}
