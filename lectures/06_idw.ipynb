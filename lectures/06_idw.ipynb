{
 "cells": [
  {
   "cell_type": "markdown",
   "metadata": {
    "slideshow": {
     "slide_type": "slide"
    }
   },
   "source": [
    "# Geostatistics"
   ]
  },
  {
   "cell_type": "markdown",
   "metadata": {
    "slideshow": {
     "slide_type": "fragment"
    }
   },
   "source": [
    "## 6. Excursus: IDW"
   ]
  },
  {
   "cell_type": "markdown",
   "metadata": {
    "slideshow": {
     "slide_type": "fragment"
    }
   },
   "source": [
    "This is a small excursus to IDW - **I**nverse **D**istance **W**eights. That's an interpolation technique, that is quite close to geostatistics. Some would even count it as an geostatistical method, although there is nothing statistical about it."
   ]
  },
  {
   "cell_type": "code",
   "execution_count": 27,
   "metadata": {
    "slideshow": {
     "slide_type": "notes"
    }
   },
   "outputs": [
    {
     "data": {
      "text/html": [
       "\n",
       "    <div class=\"bk-root\">\n",
       "        <a href=\"https://bokeh.org\" target=\"_blank\" class=\"bk-logo bk-logo-small bk-logo-notebook\"></a>\n",
       "        <span id=\"1464\">Loading BokehJS ...</span>\n",
       "    </div>"
      ]
     },
     "metadata": {},
     "output_type": "display_data"
    },
    {
     "data": {
      "application/javascript": [
       "\n",
       "(function(root) {\n",
       "  function now() {\n",
       "    return new Date();\n",
       "  }\n",
       "\n",
       "  var force = true;\n",
       "\n",
       "  if (typeof root._bokeh_onload_callbacks === \"undefined\" || force === true) {\n",
       "    root._bokeh_onload_callbacks = [];\n",
       "    root._bokeh_is_loading = undefined;\n",
       "  }\n",
       "\n",
       "  var JS_MIME_TYPE = 'application/javascript';\n",
       "  var HTML_MIME_TYPE = 'text/html';\n",
       "  var EXEC_MIME_TYPE = 'application/vnd.bokehjs_exec.v0+json';\n",
       "  var CLASS_NAME = 'output_bokeh rendered_html';\n",
       "\n",
       "  /**\n",
       "   * Render data to the DOM node\n",
       "   */\n",
       "  function render(props, node) {\n",
       "    var script = document.createElement(\"script\");\n",
       "    node.appendChild(script);\n",
       "  }\n",
       "\n",
       "  /**\n",
       "   * Handle when an output is cleared or removed\n",
       "   */\n",
       "  function handleClearOutput(event, handle) {\n",
       "    var cell = handle.cell;\n",
       "\n",
       "    var id = cell.output_area._bokeh_element_id;\n",
       "    var server_id = cell.output_area._bokeh_server_id;\n",
       "    // Clean up Bokeh references\n",
       "    if (id != null && id in Bokeh.index) {\n",
       "      Bokeh.index[id].model.document.clear();\n",
       "      delete Bokeh.index[id];\n",
       "    }\n",
       "\n",
       "    if (server_id !== undefined) {\n",
       "      // Clean up Bokeh references\n",
       "      var cmd = \"from bokeh.io.state import curstate; print(curstate().uuid_to_server['\" + server_id + \"'].get_sessions()[0].document.roots[0]._id)\";\n",
       "      cell.notebook.kernel.execute(cmd, {\n",
       "        iopub: {\n",
       "          output: function(msg) {\n",
       "            var id = msg.content.text.trim();\n",
       "            if (id in Bokeh.index) {\n",
       "              Bokeh.index[id].model.document.clear();\n",
       "              delete Bokeh.index[id];\n",
       "            }\n",
       "          }\n",
       "        }\n",
       "      });\n",
       "      // Destroy server and session\n",
       "      var cmd = \"import bokeh.io.notebook as ion; ion.destroy_server('\" + server_id + \"')\";\n",
       "      cell.notebook.kernel.execute(cmd);\n",
       "    }\n",
       "  }\n",
       "\n",
       "  /**\n",
       "   * Handle when a new output is added\n",
       "   */\n",
       "  function handleAddOutput(event, handle) {\n",
       "    var output_area = handle.output_area;\n",
       "    var output = handle.output;\n",
       "\n",
       "    // limit handleAddOutput to display_data with EXEC_MIME_TYPE content only\n",
       "    if ((output.output_type != \"display_data\") || (!output.data.hasOwnProperty(EXEC_MIME_TYPE))) {\n",
       "      return\n",
       "    }\n",
       "\n",
       "    var toinsert = output_area.element.find(\".\" + CLASS_NAME.split(' ')[0]);\n",
       "\n",
       "    if (output.metadata[EXEC_MIME_TYPE][\"id\"] !== undefined) {\n",
       "      toinsert[toinsert.length - 1].firstChild.textContent = output.data[JS_MIME_TYPE];\n",
       "      // store reference to embed id on output_area\n",
       "      output_area._bokeh_element_id = output.metadata[EXEC_MIME_TYPE][\"id\"];\n",
       "    }\n",
       "    if (output.metadata[EXEC_MIME_TYPE][\"server_id\"] !== undefined) {\n",
       "      var bk_div = document.createElement(\"div\");\n",
       "      bk_div.innerHTML = output.data[HTML_MIME_TYPE];\n",
       "      var script_attrs = bk_div.children[0].attributes;\n",
       "      for (var i = 0; i < script_attrs.length; i++) {\n",
       "        toinsert[toinsert.length - 1].firstChild.setAttribute(script_attrs[i].name, script_attrs[i].value);\n",
       "      }\n",
       "      // store reference to server id on output_area\n",
       "      output_area._bokeh_server_id = output.metadata[EXEC_MIME_TYPE][\"server_id\"];\n",
       "    }\n",
       "  }\n",
       "\n",
       "  function register_renderer(events, OutputArea) {\n",
       "\n",
       "    function append_mime(data, metadata, element) {\n",
       "      // create a DOM node to render to\n",
       "      var toinsert = this.create_output_subarea(\n",
       "        metadata,\n",
       "        CLASS_NAME,\n",
       "        EXEC_MIME_TYPE\n",
       "      );\n",
       "      this.keyboard_manager.register_events(toinsert);\n",
       "      // Render to node\n",
       "      var props = {data: data, metadata: metadata[EXEC_MIME_TYPE]};\n",
       "      render(props, toinsert[toinsert.length - 1]);\n",
       "      element.append(toinsert);\n",
       "      return toinsert\n",
       "    }\n",
       "\n",
       "    /* Handle when an output is cleared or removed */\n",
       "    events.on('clear_output.CodeCell', handleClearOutput);\n",
       "    events.on('delete.Cell', handleClearOutput);\n",
       "\n",
       "    /* Handle when a new output is added */\n",
       "    events.on('output_added.OutputArea', handleAddOutput);\n",
       "\n",
       "    /**\n",
       "     * Register the mime type and append_mime function with output_area\n",
       "     */\n",
       "    OutputArea.prototype.register_mime_type(EXEC_MIME_TYPE, append_mime, {\n",
       "      /* Is output safe? */\n",
       "      safe: true,\n",
       "      /* Index of renderer in `output_area.display_order` */\n",
       "      index: 0\n",
       "    });\n",
       "  }\n",
       "\n",
       "  // register the mime type if in Jupyter Notebook environment and previously unregistered\n",
       "  if (root.Jupyter !== undefined) {\n",
       "    var events = require('base/js/events');\n",
       "    var OutputArea = require('notebook/js/outputarea').OutputArea;\n",
       "\n",
       "    if (OutputArea.prototype.mime_types().indexOf(EXEC_MIME_TYPE) == -1) {\n",
       "      register_renderer(events, OutputArea);\n",
       "    }\n",
       "  }\n",
       "\n",
       "  \n",
       "  if (typeof (root._bokeh_timeout) === \"undefined\" || force === true) {\n",
       "    root._bokeh_timeout = Date.now() + 5000;\n",
       "    root._bokeh_failed_load = false;\n",
       "  }\n",
       "\n",
       "  var NB_LOAD_WARNING = {'data': {'text/html':\n",
       "     \"<div style='background-color: #fdd'>\\n\"+\n",
       "     \"<p>\\n\"+\n",
       "     \"BokehJS does not appear to have successfully loaded. If loading BokehJS from CDN, this \\n\"+\n",
       "     \"may be due to a slow or bad network connection. Possible fixes:\\n\"+\n",
       "     \"</p>\\n\"+\n",
       "     \"<ul>\\n\"+\n",
       "     \"<li>re-rerun `output_notebook()` to attempt to load from CDN again, or</li>\\n\"+\n",
       "     \"<li>use INLINE resources instead, as so:</li>\\n\"+\n",
       "     \"</ul>\\n\"+\n",
       "     \"<code>\\n\"+\n",
       "     \"from bokeh.resources import INLINE\\n\"+\n",
       "     \"output_notebook(resources=INLINE)\\n\"+\n",
       "     \"</code>\\n\"+\n",
       "     \"</div>\"}};\n",
       "\n",
       "  function display_loaded() {\n",
       "    var el = document.getElementById(\"1464\");\n",
       "    if (el != null) {\n",
       "      el.textContent = \"BokehJS is loading...\";\n",
       "    }\n",
       "    if (root.Bokeh !== undefined) {\n",
       "      if (el != null) {\n",
       "        el.textContent = \"BokehJS \" + root.Bokeh.version + \" successfully loaded.\";\n",
       "      }\n",
       "    } else if (Date.now() < root._bokeh_timeout) {\n",
       "      setTimeout(display_loaded, 100)\n",
       "    }\n",
       "  }\n",
       "\n",
       "\n",
       "  function run_callbacks() {\n",
       "    try {\n",
       "      root._bokeh_onload_callbacks.forEach(function(callback) {\n",
       "        if (callback != null)\n",
       "          callback();\n",
       "      });\n",
       "    } finally {\n",
       "      delete root._bokeh_onload_callbacks\n",
       "    }\n",
       "    console.debug(\"Bokeh: all callbacks have finished\");\n",
       "  }\n",
       "\n",
       "  function load_libs(css_urls, js_urls, callback) {\n",
       "    if (css_urls == null) css_urls = [];\n",
       "    if (js_urls == null) js_urls = [];\n",
       "\n",
       "    root._bokeh_onload_callbacks.push(callback);\n",
       "    if (root._bokeh_is_loading > 0) {\n",
       "      console.debug(\"Bokeh: BokehJS is being loaded, scheduling callback at\", now());\n",
       "      return null;\n",
       "    }\n",
       "    if (js_urls == null || js_urls.length === 0) {\n",
       "      run_callbacks();\n",
       "      return null;\n",
       "    }\n",
       "    console.debug(\"Bokeh: BokehJS not loaded, scheduling load and callback at\", now());\n",
       "    root._bokeh_is_loading = css_urls.length + js_urls.length;\n",
       "\n",
       "    function on_load() {\n",
       "      root._bokeh_is_loading--;\n",
       "      if (root._bokeh_is_loading === 0) {\n",
       "        console.debug(\"Bokeh: all BokehJS libraries/stylesheets loaded\");\n",
       "        run_callbacks()\n",
       "      }\n",
       "    }\n",
       "\n",
       "    function on_error() {\n",
       "      console.error(\"failed to load \" + url);\n",
       "    }\n",
       "\n",
       "    for (var i = 0; i < css_urls.length; i++) {\n",
       "      var url = css_urls[i];\n",
       "      const element = document.createElement(\"link\");\n",
       "      element.onload = on_load;\n",
       "      element.onerror = on_error;\n",
       "      element.rel = \"stylesheet\";\n",
       "      element.type = \"text/css\";\n",
       "      element.href = url;\n",
       "      console.debug(\"Bokeh: injecting link tag for BokehJS stylesheet: \", url);\n",
       "      document.body.appendChild(element);\n",
       "    }\n",
       "\n",
       "    for (var i = 0; i < js_urls.length; i++) {\n",
       "      var url = js_urls[i];\n",
       "      var element = document.createElement('script');\n",
       "      element.onload = on_load;\n",
       "      element.onerror = on_error;\n",
       "      element.async = false;\n",
       "      element.src = url;\n",
       "      console.debug(\"Bokeh: injecting script tag for BokehJS library: \", url);\n",
       "      document.head.appendChild(element);\n",
       "    }\n",
       "  };var element = document.getElementById(\"1464\");\n",
       "  if (element == null) {\n",
       "    console.error(\"Bokeh: ERROR: autoload.js configured with elementid '1464' but no matching script tag was found. \")\n",
       "    return false;\n",
       "  }\n",
       "\n",
       "  function inject_raw_css(css) {\n",
       "    const element = document.createElement(\"style\");\n",
       "    element.appendChild(document.createTextNode(css));\n",
       "    document.body.appendChild(element);\n",
       "  }\n",
       "\n",
       "  \n",
       "  var js_urls = [\"https://cdn.pydata.org/bokeh/release/bokeh-1.4.0.min.js\", \"https://cdn.pydata.org/bokeh/release/bokeh-widgets-1.4.0.min.js\", \"https://cdn.pydata.org/bokeh/release/bokeh-tables-1.4.0.min.js\", \"https://cdn.pydata.org/bokeh/release/bokeh-gl-1.4.0.min.js\"];\n",
       "  var css_urls = [];\n",
       "  \n",
       "\n",
       "  var inline_js = [\n",
       "    function(Bokeh) {\n",
       "      Bokeh.set_log_level(\"info\");\n",
       "    },\n",
       "    function(Bokeh) {\n",
       "    \n",
       "    \n",
       "    }\n",
       "  ];\n",
       "\n",
       "  function run_inline_js() {\n",
       "    \n",
       "    if (root.Bokeh !== undefined || force === true) {\n",
       "      \n",
       "    for (var i = 0; i < inline_js.length; i++) {\n",
       "      inline_js[i].call(root, root.Bokeh);\n",
       "    }\n",
       "    if (force === true) {\n",
       "        display_loaded();\n",
       "      }} else if (Date.now() < root._bokeh_timeout) {\n",
       "      setTimeout(run_inline_js, 100);\n",
       "    } else if (!root._bokeh_failed_load) {\n",
       "      console.log(\"Bokeh: BokehJS failed to load within specified timeout.\");\n",
       "      root._bokeh_failed_load = true;\n",
       "    } else if (force !== true) {\n",
       "      var cell = $(document.getElementById(\"1464\")).parents('.cell').data().cell;\n",
       "      cell.output_area.append_execute_result(NB_LOAD_WARNING)\n",
       "    }\n",
       "\n",
       "  }\n",
       "\n",
       "  if (root._bokeh_is_loading === 0) {\n",
       "    console.debug(\"Bokeh: BokehJS loaded, going straight to plotting\");\n",
       "    run_inline_js();\n",
       "  } else {\n",
       "    load_libs(css_urls, js_urls, function() {\n",
       "      console.debug(\"Bokeh: BokehJS plotting callback run at\", now());\n",
       "      run_inline_js();\n",
       "    });\n",
       "  }\n",
       "}(window));"
      ],
      "application/vnd.bokehjs_load.v0+json": "\n(function(root) {\n  function now() {\n    return new Date();\n  }\n\n  var force = true;\n\n  if (typeof root._bokeh_onload_callbacks === \"undefined\" || force === true) {\n    root._bokeh_onload_callbacks = [];\n    root._bokeh_is_loading = undefined;\n  }\n\n  \n\n  \n  if (typeof (root._bokeh_timeout) === \"undefined\" || force === true) {\n    root._bokeh_timeout = Date.now() + 5000;\n    root._bokeh_failed_load = false;\n  }\n\n  var NB_LOAD_WARNING = {'data': {'text/html':\n     \"<div style='background-color: #fdd'>\\n\"+\n     \"<p>\\n\"+\n     \"BokehJS does not appear to have successfully loaded. If loading BokehJS from CDN, this \\n\"+\n     \"may be due to a slow or bad network connection. Possible fixes:\\n\"+\n     \"</p>\\n\"+\n     \"<ul>\\n\"+\n     \"<li>re-rerun `output_notebook()` to attempt to load from CDN again, or</li>\\n\"+\n     \"<li>use INLINE resources instead, as so:</li>\\n\"+\n     \"</ul>\\n\"+\n     \"<code>\\n\"+\n     \"from bokeh.resources import INLINE\\n\"+\n     \"output_notebook(resources=INLINE)\\n\"+\n     \"</code>\\n\"+\n     \"</div>\"}};\n\n  function display_loaded() {\n    var el = document.getElementById(\"1464\");\n    if (el != null) {\n      el.textContent = \"BokehJS is loading...\";\n    }\n    if (root.Bokeh !== undefined) {\n      if (el != null) {\n        el.textContent = \"BokehJS \" + root.Bokeh.version + \" successfully loaded.\";\n      }\n    } else if (Date.now() < root._bokeh_timeout) {\n      setTimeout(display_loaded, 100)\n    }\n  }\n\n\n  function run_callbacks() {\n    try {\n      root._bokeh_onload_callbacks.forEach(function(callback) {\n        if (callback != null)\n          callback();\n      });\n    } finally {\n      delete root._bokeh_onload_callbacks\n    }\n    console.debug(\"Bokeh: all callbacks have finished\");\n  }\n\n  function load_libs(css_urls, js_urls, callback) {\n    if (css_urls == null) css_urls = [];\n    if (js_urls == null) js_urls = [];\n\n    root._bokeh_onload_callbacks.push(callback);\n    if (root._bokeh_is_loading > 0) {\n      console.debug(\"Bokeh: BokehJS is being loaded, scheduling callback at\", now());\n      return null;\n    }\n    if (js_urls == null || js_urls.length === 0) {\n      run_callbacks();\n      return null;\n    }\n    console.debug(\"Bokeh: BokehJS not loaded, scheduling load and callback at\", now());\n    root._bokeh_is_loading = css_urls.length + js_urls.length;\n\n    function on_load() {\n      root._bokeh_is_loading--;\n      if (root._bokeh_is_loading === 0) {\n        console.debug(\"Bokeh: all BokehJS libraries/stylesheets loaded\");\n        run_callbacks()\n      }\n    }\n\n    function on_error() {\n      console.error(\"failed to load \" + url);\n    }\n\n    for (var i = 0; i < css_urls.length; i++) {\n      var url = css_urls[i];\n      const element = document.createElement(\"link\");\n      element.onload = on_load;\n      element.onerror = on_error;\n      element.rel = \"stylesheet\";\n      element.type = \"text/css\";\n      element.href = url;\n      console.debug(\"Bokeh: injecting link tag for BokehJS stylesheet: \", url);\n      document.body.appendChild(element);\n    }\n\n    for (var i = 0; i < js_urls.length; i++) {\n      var url = js_urls[i];\n      var element = document.createElement('script');\n      element.onload = on_load;\n      element.onerror = on_error;\n      element.async = false;\n      element.src = url;\n      console.debug(\"Bokeh: injecting script tag for BokehJS library: \", url);\n      document.head.appendChild(element);\n    }\n  };var element = document.getElementById(\"1464\");\n  if (element == null) {\n    console.error(\"Bokeh: ERROR: autoload.js configured with elementid '1464' but no matching script tag was found. \")\n    return false;\n  }\n\n  function inject_raw_css(css) {\n    const element = document.createElement(\"style\");\n    element.appendChild(document.createTextNode(css));\n    document.body.appendChild(element);\n  }\n\n  \n  var js_urls = [\"https://cdn.pydata.org/bokeh/release/bokeh-1.4.0.min.js\", \"https://cdn.pydata.org/bokeh/release/bokeh-widgets-1.4.0.min.js\", \"https://cdn.pydata.org/bokeh/release/bokeh-tables-1.4.0.min.js\", \"https://cdn.pydata.org/bokeh/release/bokeh-gl-1.4.0.min.js\"];\n  var css_urls = [];\n  \n\n  var inline_js = [\n    function(Bokeh) {\n      Bokeh.set_log_level(\"info\");\n    },\n    function(Bokeh) {\n    \n    \n    }\n  ];\n\n  function run_inline_js() {\n    \n    if (root.Bokeh !== undefined || force === true) {\n      \n    for (var i = 0; i < inline_js.length; i++) {\n      inline_js[i].call(root, root.Bokeh);\n    }\n    if (force === true) {\n        display_loaded();\n      }} else if (Date.now() < root._bokeh_timeout) {\n      setTimeout(run_inline_js, 100);\n    } else if (!root._bokeh_failed_load) {\n      console.log(\"Bokeh: BokehJS failed to load within specified timeout.\");\n      root._bokeh_failed_load = true;\n    } else if (force !== true) {\n      var cell = $(document.getElementById(\"1464\")).parents('.cell').data().cell;\n      cell.output_area.append_execute_result(NB_LOAD_WARNING)\n    }\n\n  }\n\n  if (root._bokeh_is_loading === 0) {\n    console.debug(\"Bokeh: BokehJS loaded, going straight to plotting\");\n    run_inline_js();\n  } else {\n    load_libs(css_urls, js_urls, function() {\n      console.debug(\"Bokeh: BokehJS plotting callback run at\", now());\n      run_inline_js();\n    });\n  }\n}(window));"
     },
     "metadata": {},
     "output_type": "display_data"
    }
   ],
   "source": [
    "import pandas as pd\n",
    "import numpy as np\n",
    "from scipy.spatial.distance import pdist, squareform\n",
    "\n",
    "from bokeh.io import output_notebook\n",
    "from bokeh.plotting import figure, show, ColumnDataSource\n",
    "from bokeh.transform import LinearColorMapper\n",
    "from bokeh.models import ColorBar\n",
    "\n",
    "output_notebook()"
   ]
  },
  {
   "cell_type": "markdown",
   "metadata": {
    "slideshow": {
     "slide_type": "subslide"
    }
   },
   "source": [
    "### 6.1 Theory"
   ]
  },
  {
   "cell_type": "markdown",
   "metadata": {
    "slideshow": {
     "slide_type": "fragment"
    }
   },
   "source": [
    "The main idea of IDW is simple. Estimate the value of any variable at an unobserved location as the mean value from the closest locations you have values for. To do so, weight the mean by the *inverse* of their distance. The closer, the more weight."
   ]
  },
  {
   "cell_type": "markdown",
   "metadata": {
    "slideshow": {
     "slide_type": "fragment"
    }
   },
   "source": [
    "You have an observation $Z(s_1)$ for location $s_1$ and want to calculate the weight $\\lambda(s_0, s_1)$ for an unobserved location $s_0$:\n",
    "\n",
    "$$ \\lambda(s_0, s_1) = \\frac{1}{d(s_0, s_1)}$$\n",
    "\n",
    "where $d$ is the distance as calculated in the last lecture."
   ]
  },
  {
   "cell_type": "markdown",
   "metadata": {
    "slideshow": {
     "slide_type": "subslide"
    }
   },
   "source": [
    "The estimation at the unobserved location $s_0$ is then:\n",
    "\n",
    "$$ Z^*(s_0) = \\sum_{i = 1}^N \\lambda(s_0, s_i) * Z(s_i)$$"
   ]
  },
  {
   "cell_type": "markdown",
   "metadata": {
    "slideshow": {
     "slide_type": "fragment"
    }
   },
   "source": [
    "At the same time we want to obtain the actual observation values for known location. To achieve this, we can require:\n",
    "\n",
    "$$ Z^*(s_i) = Z(s_i) $$"
   ]
  },
  {
   "cell_type": "markdown",
   "metadata": {
    "slideshow": {
     "slide_type": "fragment"
    }
   },
   "source": [
    "which in turn yields the normalized weights $\\lambda*$ like:\n",
    "\n",
    "$$ \\lambda^*(s_i) = \\frac{\\lambda(s_i)}{\\sum_{j=1}^N \\lambda_j (s_j)} $$\n",
    "\n",
    "which combines to the IDW formula:"
   ]
  },
  {
   "cell_type": "markdown",
   "metadata": {
    "slideshow": {
     "slide_type": "subslide"
    }
   },
   "source": [
    "$$ Z^* (s_0) = \\frac{\\sum_{i=1}^N \\frac{Z(s_i)}{d(s_0, s_i)}} {\\sum_{i=1}^N \\frac{1}{d(s_0, s_i)}} $$"
   ]
  },
  {
   "cell_type": "markdown",
   "metadata": {
    "slideshow": {
     "slide_type": "fragment"
    }
   },
   "source": [
    "Which is usually seen as the special case $m=1$ of the generalized form:\n",
    "\n",
    "$$ Z^* (s_0) = \\frac{\\sum_{i=1}^N \\frac{Z(s_i)}{d^m(s_0, s_i)}} {\\sum_{i=1}^N \\frac{1}{d^m(s_0, s_i)}} $$"
   ]
  },
  {
   "cell_type": "markdown",
   "metadata": {
    "slideshow": {
     "slide_type": "fragment"
    }
   },
   "source": [
    "In geoscience the usage of $m = 2$ is also quite common, as result becomes smoother."
   ]
  },
  {
   "cell_type": "markdown",
   "metadata": {
    "slideshow": {
     "slide_type": "slide"
    }
   },
   "source": [
    "### 5.2 Implementation\n",
    "\n",
    "We will use the data examples from the last lecture."
   ]
  },
  {
   "cell_type": "code",
   "execution_count": 9,
   "metadata": {
    "slideshow": {
     "slide_type": "skip"
    }
   },
   "outputs": [],
   "source": [
    "coords = pd.read_csv('./data/sample_positions.txt', sep='\\s+', header=None)\n",
    "coords.columns = ['x', 'y']\n",
    "data = pd.read_csv('./data/sample_data.txt', sep='\\s+')\n",
    "sample = coords.copy()\n",
    "sample['z'] = data.loc[0, :].values"
   ]
  },
  {
   "cell_type": "code",
   "execution_count": 11,
   "metadata": {
    "slideshow": {
     "slide_type": "fragment"
    }
   },
   "outputs": [
    {
     "data": {
      "text/html": [
       "<div>\n",
       "<style scoped>\n",
       "    .dataframe tbody tr th:only-of-type {\n",
       "        vertical-align: middle;\n",
       "    }\n",
       "\n",
       "    .dataframe tbody tr th {\n",
       "        vertical-align: top;\n",
       "    }\n",
       "\n",
       "    .dataframe thead th {\n",
       "        text-align: right;\n",
       "    }\n",
       "</style>\n",
       "<table border=\"1\" class=\"dataframe\">\n",
       "  <thead>\n",
       "    <tr style=\"text-align: right;\">\n",
       "      <th></th>\n",
       "      <th>x</th>\n",
       "      <th>y</th>\n",
       "      <th>z</th>\n",
       "    </tr>\n",
       "  </thead>\n",
       "  <tbody>\n",
       "    <tr>\n",
       "      <th>0</th>\n",
       "      <td>22</td>\n",
       "      <td>78</td>\n",
       "      <td>-0.203508</td>\n",
       "    </tr>\n",
       "    <tr>\n",
       "      <th>1</th>\n",
       "      <td>3</td>\n",
       "      <td>73</td>\n",
       "      <td>-0.164411</td>\n",
       "    </tr>\n",
       "    <tr>\n",
       "      <th>2</th>\n",
       "      <td>12</td>\n",
       "      <td>85</td>\n",
       "      <td>-0.696673</td>\n",
       "    </tr>\n",
       "    <tr>\n",
       "      <th>3</th>\n",
       "      <td>9</td>\n",
       "      <td>69</td>\n",
       "      <td>-0.555673</td>\n",
       "    </tr>\n",
       "    <tr>\n",
       "      <th>4</th>\n",
       "      <td>78</td>\n",
       "      <td>43</td>\n",
       "      <td>1.286489</td>\n",
       "    </tr>\n",
       "  </tbody>\n",
       "</table>\n",
       "</div>"
      ],
      "text/plain": [
       "    x   y         z\n",
       "0  22  78 -0.203508\n",
       "1   3  73 -0.164411\n",
       "2  12  85 -0.696673\n",
       "3   9  69 -0.555673\n",
       "4  78  43  1.286489"
      ]
     },
     "execution_count": 11,
     "metadata": {},
     "output_type": "execute_result"
    }
   ],
   "source": [
    "sample.head()"
   ]
  },
  {
   "cell_type": "markdown",
   "metadata": {
    "slideshow": {
     "slide_type": "subslide"
    }
   },
   "source": [
    "We want an estimation for $s_0 = (44,56)$"
   ]
  },
  {
   "cell_type": "code",
   "execution_count": 15,
   "metadata": {
    "slideshow": {
     "slide_type": "fragment"
    }
   },
   "outputs": [
    {
     "name": "stdout",
     "output_type": "stream",
     "text": [
      "Z*(s0) =  0.08\n"
     ]
    }
   ],
   "source": [
    "s0 = [44, 56]\n",
    "\n",
    "\n",
    "norm_values = []\n",
    "weights = []\n",
    "\n",
    "for i in range(len(sample)):\n",
    "    d = np.sqrt( (s0[0] - sample.loc[i, 'x'])**2 + (s0[1] - sample.loc[i, 'y'])**2 )\n",
    "    norm_values.append(sample.loc[i, 'z'] / d)\n",
    "    weights.append(1. / d)\n",
    "    \n",
    "Z0 = sum(norm_values) / sum(weights) \n",
    "\n",
    "print('Z*(s0) = ', round(Z0, 2))"
   ]
  },
  {
   "cell_type": "markdown",
   "metadata": {
    "slideshow": {
     "slide_type": "slide"
    }
   },
   "source": [
    "### 5.3 Example"
   ]
  },
  {
   "cell_type": "markdown",
   "metadata": {
    "slideshow": {
     "slide_type": "fragment"
    }
   },
   "source": [
    "Now we have 30 samples from the same field and can create a mesh-grid from the coordinates. The implementation above can then be applied to each unobserved location to receive an interpolation of the whole field."
   ]
  },
  {
   "cell_type": "code",
   "execution_count": 34,
   "metadata": {
    "slideshow": {
     "slide_type": "skip"
    }
   },
   "outputs": [],
   "source": [
    "obs = figure(\n",
    "    title='Observations', width=700, height=700, toolbar_location=\"above\",\n",
    "    tooltips=[('value', '@z')], tools=['hover']\n",
    ")\n",
    "\n",
    "cmap = LinearColorMapper(palette='Cividis256', low=sample.z.min(), high=sample.z.max())\n",
    "source = ColumnDataSource(sample)\n",
    "\n",
    "obs.circle('x', 'y', source=source, size=12, line_color=None, fill_color={'field':'z', 'transform':cmap})\n",
    "obs.add_layout(ColorBar(color_mapper=cmap, location=(0,0)), 'right')"
   ]
  },
  {
   "cell_type": "code",
   "execution_count": 35,
   "metadata": {
    "slideshow": {
     "slide_type": "subslide"
    }
   },
   "outputs": [
    {
     "data": {
      "text/html": [
       "\n",
       "\n",
       "\n",
       "\n",
       "\n",
       "\n",
       "  <div class=\"bk-root\" id=\"bcf6d2d7-ab93-485e-b1fd-7e37b5e13c9b\" data-root-id=\"1946\"></div>\n"
      ]
     },
     "metadata": {},
     "output_type": "display_data"
    },
    {
     "data": {
      "application/javascript": [
       "(function(root) {\n",
       "  function embed_document(root) {\n",
       "    \n",
       "  var docs_json = {\"ed93d684-ba58-466d-a596-5629fa0d628a\":{\"roots\":{\"references\":[{\"attributes\":{\"below\":[{\"id\":\"1957\",\"type\":\"LinearAxis\"}],\"center\":[{\"id\":\"1961\",\"type\":\"Grid\"},{\"id\":\"1966\",\"type\":\"Grid\"}],\"left\":[{\"id\":\"1962\",\"type\":\"LinearAxis\"}],\"plot_height\":700,\"plot_width\":700,\"renderers\":[{\"id\":\"1975\",\"type\":\"GlyphRenderer\"}],\"right\":[{\"id\":\"1977\",\"type\":\"ColorBar\"}],\"title\":{\"id\":\"1947\",\"type\":\"Title\"},\"toolbar\":{\"id\":\"1968\",\"type\":\"Toolbar\"},\"toolbar_location\":\"above\",\"x_range\":{\"id\":\"1949\",\"type\":\"DataRange1d\"},\"x_scale\":{\"id\":\"1953\",\"type\":\"LinearScale\"},\"y_range\":{\"id\":\"1951\",\"type\":\"DataRange1d\"},\"y_scale\":{\"id\":\"1955\",\"type\":\"LinearScale\"}},\"id\":\"1946\",\"subtype\":\"Figure\",\"type\":\"Plot\"},{\"attributes\":{},\"id\":\"2036\",\"type\":\"BasicTicker\"},{\"attributes\":{},\"id\":\"1963\",\"type\":\"BasicTicker\"},{\"attributes\":{\"dimension\":1,\"ticker\":{\"id\":\"1963\",\"type\":\"BasicTicker\"}},\"id\":\"1966\",\"type\":\"Grid\"},{\"attributes\":{},\"id\":\"1958\",\"type\":\"BasicTicker\"},{\"attributes\":{},\"id\":\"1953\",\"type\":\"LinearScale\"},{\"attributes\":{},\"id\":\"2037\",\"type\":\"BasicTickFormatter\"},{\"attributes\":{},\"id\":\"2033\",\"type\":\"BasicTickFormatter\"},{\"attributes\":{\"callback\":null},\"id\":\"1949\",\"type\":\"DataRange1d\"},{\"attributes\":{\"source\":{\"id\":\"1971\",\"type\":\"ColumnDataSource\"}},\"id\":\"1976\",\"type\":\"CDSView\"},{\"attributes\":{\"formatter\":{\"id\":\"2033\",\"type\":\"BasicTickFormatter\"},\"ticker\":{\"id\":\"1963\",\"type\":\"BasicTicker\"}},\"id\":\"1962\",\"type\":\"LinearAxis\"},{\"attributes\":{\"fill_alpha\":{\"value\":0.1},\"fill_color\":{\"value\":\"#1f77b4\"},\"line_alpha\":{\"value\":0.1},\"line_color\":{\"value\":\"#1f77b4\"},\"size\":{\"units\":\"screen\",\"value\":12},\"x\":{\"field\":\"x\"},\"y\":{\"field\":\"y\"}},\"id\":\"1974\",\"type\":\"Circle\"},{\"attributes\":{\"high\":1.84064736801354,\"low\":-2.571167422183044,\"palette\":[\"#00204C\",\"#00204E\",\"#002150\",\"#002251\",\"#002353\",\"#002355\",\"#002456\",\"#002558\",\"#00265A\",\"#00265B\",\"#00275D\",\"#00285F\",\"#002861\",\"#002963\",\"#002A64\",\"#002A66\",\"#002B68\",\"#002C6A\",\"#002D6C\",\"#002D6D\",\"#002E6E\",\"#002E6F\",\"#002F6F\",\"#002F6F\",\"#00306F\",\"#00316F\",\"#00316F\",\"#00326E\",\"#00336E\",\"#00346E\",\"#00346E\",\"#01356E\",\"#06366E\",\"#0A376D\",\"#0E376D\",\"#12386D\",\"#15396D\",\"#17396D\",\"#1A3A6C\",\"#1C3B6C\",\"#1E3C6C\",\"#203C6C\",\"#223D6C\",\"#243E6C\",\"#263E6C\",\"#273F6C\",\"#29406B\",\"#2B416B\",\"#2C416B\",\"#2E426B\",\"#2F436B\",\"#31446B\",\"#32446B\",\"#33456B\",\"#35466B\",\"#36466B\",\"#37476B\",\"#38486B\",\"#3A496B\",\"#3B496B\",\"#3C4A6B\",\"#3D4B6B\",\"#3E4B6B\",\"#404C6B\",\"#414D6B\",\"#424E6B\",\"#434E6B\",\"#444F6B\",\"#45506B\",\"#46506B\",\"#47516B\",\"#48526B\",\"#49536B\",\"#4A536B\",\"#4B546B\",\"#4C556B\",\"#4D556B\",\"#4E566B\",\"#4F576C\",\"#50586C\",\"#51586C\",\"#52596C\",\"#535A6C\",\"#545A6C\",\"#555B6C\",\"#565C6C\",\"#575D6D\",\"#585D6D\",\"#595E6D\",\"#5A5F6D\",\"#5B5F6D\",\"#5C606D\",\"#5D616E\",\"#5E626E\",\"#5F626E\",\"#5F636E\",\"#60646E\",\"#61656F\",\"#62656F\",\"#63666F\",\"#64676F\",\"#65676F\",\"#666870\",\"#676970\",\"#686A70\",\"#686A70\",\"#696B71\",\"#6A6C71\",\"#6B6D71\",\"#6C6D72\",\"#6D6E72\",\"#6E6F72\",\"#6F6F72\",\"#6F7073\",\"#707173\",\"#717273\",\"#727274\",\"#737374\",\"#747475\",\"#757575\",\"#757575\",\"#767676\",\"#777776\",\"#787876\",\"#797877\",\"#7A7977\",\"#7B7A77\",\"#7B7B78\",\"#7C7B78\",\"#7D7C78\",\"#7E7D78\",\"#7F7E78\",\"#807E78\",\"#817F78\",\"#828078\",\"#838178\",\"#848178\",\"#858278\",\"#868378\",\"#878478\",\"#888578\",\"#898578\",\"#8A8678\",\"#8B8778\",\"#8C8878\",\"#8D8878\",\"#8E8978\",\"#8F8A78\",\"#908B78\",\"#918C78\",\"#928C78\",\"#938D78\",\"#948E78\",\"#958F78\",\"#968F77\",\"#979077\",\"#989177\",\"#999277\",\"#9A9377\",\"#9B9377\",\"#9C9477\",\"#9D9577\",\"#9E9676\",\"#9F9776\",\"#A09876\",\"#A19876\",\"#A29976\",\"#A39A75\",\"#A49B75\",\"#A59C75\",\"#A69C75\",\"#A79D75\",\"#A89E74\",\"#A99F74\",\"#AAA074\",\"#ABA174\",\"#ACA173\",\"#ADA273\",\"#AEA373\",\"#AFA473\",\"#B0A572\",\"#B1A672\",\"#B2A672\",\"#B4A771\",\"#B5A871\",\"#B6A971\",\"#B7AA70\",\"#B8AB70\",\"#B9AB70\",\"#BAAC6F\",\"#BBAD6F\",\"#BCAE6E\",\"#BDAF6E\",\"#BEB06E\",\"#BFB16D\",\"#C0B16D\",\"#C1B26C\",\"#C2B36C\",\"#C3B46C\",\"#C5B56B\",\"#C6B66B\",\"#C7B76A\",\"#C8B86A\",\"#C9B869\",\"#CAB969\",\"#CBBA68\",\"#CCBB68\",\"#CDBC67\",\"#CEBD67\",\"#D0BE66\",\"#D1BF66\",\"#D2C065\",\"#D3C065\",\"#D4C164\",\"#D5C263\",\"#D6C363\",\"#D7C462\",\"#D8C561\",\"#D9C661\",\"#DBC760\",\"#DCC860\",\"#DDC95F\",\"#DECA5E\",\"#DFCB5D\",\"#E0CB5D\",\"#E1CC5C\",\"#E3CD5B\",\"#E4CE5B\",\"#E5CF5A\",\"#E6D059\",\"#E7D158\",\"#E8D257\",\"#E9D356\",\"#EBD456\",\"#ECD555\",\"#EDD654\",\"#EED753\",\"#EFD852\",\"#F0D951\",\"#F1DA50\",\"#F3DB4F\",\"#F4DC4E\",\"#F5DD4D\",\"#F6DE4C\",\"#F7DF4B\",\"#F9E049\",\"#FAE048\",\"#FBE147\",\"#FCE246\",\"#FDE345\",\"#FFE443\",\"#FFE542\",\"#FFE642\",\"#FFE743\",\"#FFE844\",\"#FFE945\"]},\"id\":\"1970\",\"type\":\"LinearColorMapper\"},{\"attributes\":{},\"id\":\"2038\",\"type\":\"UnionRenderers\"},{\"attributes\":{\"formatter\":{\"id\":\"2035\",\"type\":\"BasicTickFormatter\"},\"ticker\":{\"id\":\"1958\",\"type\":\"BasicTicker\"}},\"id\":\"1957\",\"type\":\"LinearAxis\"},{\"attributes\":{},\"id\":\"1955\",\"type\":\"LinearScale\"},{\"attributes\":{\"fill_color\":{\"field\":\"z\",\"transform\":{\"id\":\"1970\",\"type\":\"LinearColorMapper\"}},\"line_color\":{\"value\":null},\"size\":{\"units\":\"screen\",\"value\":12},\"x\":{\"field\":\"x\"},\"y\":{\"field\":\"y\"}},\"id\":\"1973\",\"type\":\"Circle\"},{\"attributes\":{\"active_drag\":\"auto\",\"active_inspect\":\"auto\",\"active_multi\":null,\"active_scroll\":\"auto\",\"active_tap\":\"auto\",\"tools\":[{\"id\":\"1967\",\"type\":\"HoverTool\"}]},\"id\":\"1968\",\"type\":\"Toolbar\"},{\"attributes\":{\"callback\":null,\"data\":{\"index\":[0,1,2,3,4,5,6,7,8,9,10,11,12,13,14,15,16,17,18,19,20,21,22,23,24,25,26,27,28,29],\"x\":[22,3,12,9,78,41,35,38,99,43,52,49,83,85,65,1,11,14,55,21,92,71,76,17,62,7,13,10,14,23],\"y\":[78,73,85,69,43,6,60,18,87,50,83,3,75,45,68,39,71,87,97,22,17,30,31,71,45,97,28,40,83,73],\"z\":{\"__ndarray__\":\"yneAn5AMyr+SARWJagvFvxPIlMQlS+a/QBSCTBPI4b9JxGhcdZX0PwtWdk2IUO2/IEfKhQFR4j/qRdMT0Tbtv86ItjnAkQTAHWNJ0dFx6D9AnUV9tjfQv/gmqOse/ea/QpZCZGZw8L/gWAyp84XjP/UXQiuk9eY/q+noUhNs5r/u7x4/3tTZv+ZaZAlFMey/VpLsCFtU0r8xX7ywcSjtvy/cXIVLluG//ytpLee40j/Eex7hYWPpP0spcolSxcu/12KRp0pz/T+wRyNLI6fiv2CH/M6g1oQ/d33INR5W3r/EPkmwuTPVv4OwF7pej82/\",\"dtype\":\"float64\",\"shape\":[30]}},\"selected\":{\"id\":\"2039\",\"type\":\"Selection\"},\"selection_policy\":{\"id\":\"2038\",\"type\":\"UnionRenderers\"}},\"id\":\"1971\",\"type\":\"ColumnDataSource\"},{\"attributes\":{\"data_source\":{\"id\":\"1971\",\"type\":\"ColumnDataSource\"},\"glyph\":{\"id\":\"1973\",\"type\":\"Circle\"},\"hover_glyph\":null,\"muted_glyph\":null,\"nonselection_glyph\":{\"id\":\"1974\",\"type\":\"Circle\"},\"selection_glyph\":null,\"view\":{\"id\":\"1976\",\"type\":\"CDSView\"}},\"id\":\"1975\",\"type\":\"GlyphRenderer\"},{\"attributes\":{\"color_mapper\":{\"id\":\"1970\",\"type\":\"LinearColorMapper\"},\"formatter\":{\"id\":\"2037\",\"type\":\"BasicTickFormatter\"},\"location\":[0,0],\"ticker\":{\"id\":\"2036\",\"type\":\"BasicTicker\"}},\"id\":\"1977\",\"type\":\"ColorBar\"},{\"attributes\":{},\"id\":\"2035\",\"type\":\"BasicTickFormatter\"},{\"attributes\":{},\"id\":\"2039\",\"type\":\"Selection\"},{\"attributes\":{\"callback\":null},\"id\":\"1951\",\"type\":\"DataRange1d\"},{\"attributes\":{\"callback\":null,\"tooltips\":[[\"value\",\"@z\"]]},\"id\":\"1967\",\"type\":\"HoverTool\"},{\"attributes\":{\"ticker\":{\"id\":\"1958\",\"type\":\"BasicTicker\"}},\"id\":\"1961\",\"type\":\"Grid\"},{\"attributes\":{\"text\":\"Observations\"},\"id\":\"1947\",\"type\":\"Title\"}],\"root_ids\":[\"1946\"]},\"title\":\"Bokeh Application\",\"version\":\"1.4.0\"}};\n",
       "  var render_items = [{\"docid\":\"ed93d684-ba58-466d-a596-5629fa0d628a\",\"roots\":{\"1946\":\"bcf6d2d7-ab93-485e-b1fd-7e37b5e13c9b\"}}];\n",
       "  root.Bokeh.embed.embed_items_notebook(docs_json, render_items);\n",
       "\n",
       "  }\n",
       "  if (root.Bokeh !== undefined) {\n",
       "    embed_document(root);\n",
       "  } else {\n",
       "    var attempts = 0;\n",
       "    var timer = setInterval(function(root) {\n",
       "      if (root.Bokeh !== undefined) {\n",
       "        clearInterval(timer);\n",
       "        embed_document(root);\n",
       "      } else {\n",
       "        attempts++;\n",
       "        if (attempts > 100) {\n",
       "          clearInterval(timer);\n",
       "          console.log(\"Bokeh: ERROR: Unable to run BokehJS code because BokehJS library is missing\");\n",
       "        }\n",
       "      }\n",
       "    }, 10, root)\n",
       "  }\n",
       "})(window);"
      ],
      "application/vnd.bokehjs_exec.v0+json": ""
     },
     "metadata": {
      "application/vnd.bokehjs_exec.v0+json": {
       "id": "1946"
      }
     },
     "output_type": "display_data"
    }
   ],
   "source": [
    "show(obs)"
   ]
  },
  {
   "cell_type": "markdown",
   "metadata": {
    "slideshow": {
     "slide_type": "subslide"
    }
   },
   "source": [
    "Just to keep the processing time small, we will create a 5x5 raster."
   ]
  },
  {
   "cell_type": "code",
   "execution_count": 91,
   "metadata": {
    "slideshow": {
     "slide_type": "fragment"
    }
   },
   "outputs": [
    {
     "name": "stderr",
     "output_type": "stream",
     "text": [
      "2020-05-07 16:13:38,534 [13576] WARNING  py.warnings:110: [JupyterRequire] D:\\Anaconda\\envs\\py37\\lib\\site-packages\\ipykernel_launcher.py:18: RuntimeWarning: divide by zero encountered in double_scalars\n",
      "\n",
      "2020-05-07 16:13:38,535 [13576] WARNING  py.warnings:110: [JupyterRequire] D:\\Anaconda\\envs\\py37\\lib\\site-packages\\ipykernel_launcher.py:19: RuntimeWarning: divide by zero encountered in double_scalars\n",
      "\n",
      "2020-05-07 16:13:38,536 [13576] WARNING  py.warnings:110: [JupyterRequire] D:\\Anaconda\\envs\\py37\\lib\\site-packages\\ipykernel_launcher.py:22: RuntimeWarning: invalid value encountered in double_scalars\n",
      "\n"
     ]
    }
   ],
   "source": [
    "size = 5\n",
    "m = 2\n",
    "ylim = (0, 100)\n",
    "xlim = (0, 100)\n",
    "idw = []\n",
    "\n",
    "# build a 'mesh'-grid\n",
    "grid = [[(j,i) for j in range(xlim[0], xlim[1] + size, size)] for i in range(ylim[0], ylim[1] + size, size)]\n",
    "\n",
    "for row in grid:\n",
    "    idw_row = []\n",
    "    for cell in row:\n",
    "        norm_values = []\n",
    "        weights = []\n",
    "        for i in range(len(sample)):\n",
    "            # calculate distance from cell to all samples\n",
    "            d = np.sqrt((cell[0] - sample.loc[i, 'x'])**2 + (cell[1] - sample.loc[i, 'y'])**2)\n",
    "            norm_values.append(sample.loc[i, 'z'] / d**m)\n",
    "            weights.append(1. / d**m)\n",
    "        \n",
    "        # append result\n",
    "        z = sum(norm_values) / sum(weights)\n",
    "        idw_row.append(z if not np.isnan(z) else None) # plotting workaround\n",
    "    \n",
    "    # append row\n",
    "    idw.append(idw_row)"
   ]
  },
  {
   "cell_type": "code",
   "execution_count": 97,
   "metadata": {
    "slideshow": {
     "slide_type": "skip"
    }
   },
   "outputs": [
    {
     "data": {
      "text/html": [
       "<div style=\"display: table;\"><div style=\"display: table-row;\"><div style=\"display: table-cell;\"><b title=\"bokeh.models.renderers.GlyphRenderer\">GlyphRenderer</b>(</div><div style=\"display: table-cell;\">id&nbsp;=&nbsp;'7830', <span id=\"7833\" style=\"cursor: pointer;\">&hellip;)</span></div></div><div class=\"7832\" style=\"display: none;\"><div style=\"display: table-cell;\"></div><div style=\"display: table-cell;\">data_source&nbsp;=&nbsp;ColumnDataSource(id='4488', ...),</div></div><div class=\"7832\" style=\"display: none;\"><div style=\"display: table-cell;\"></div><div style=\"display: table-cell;\">glyph&nbsp;=&nbsp;Circle(id='7828', ...),</div></div><div class=\"7832\" style=\"display: none;\"><div style=\"display: table-cell;\"></div><div style=\"display: table-cell;\">hover_glyph&nbsp;=&nbsp;None,</div></div><div class=\"7832\" style=\"display: none;\"><div style=\"display: table-cell;\"></div><div style=\"display: table-cell;\">js_event_callbacks&nbsp;=&nbsp;{},</div></div><div class=\"7832\" style=\"display: none;\"><div style=\"display: table-cell;\"></div><div style=\"display: table-cell;\">js_property_callbacks&nbsp;=&nbsp;{},</div></div><div class=\"7832\" style=\"display: none;\"><div style=\"display: table-cell;\"></div><div style=\"display: table-cell;\">level&nbsp;=&nbsp;'glyph',</div></div><div class=\"7832\" style=\"display: none;\"><div style=\"display: table-cell;\"></div><div style=\"display: table-cell;\">muted&nbsp;=&nbsp;False,</div></div><div class=\"7832\" style=\"display: none;\"><div style=\"display: table-cell;\"></div><div style=\"display: table-cell;\">muted_glyph&nbsp;=&nbsp;None,</div></div><div class=\"7832\" style=\"display: none;\"><div style=\"display: table-cell;\"></div><div style=\"display: table-cell;\">name&nbsp;=&nbsp;None,</div></div><div class=\"7832\" style=\"display: none;\"><div style=\"display: table-cell;\"></div><div style=\"display: table-cell;\">nonselection_glyph&nbsp;=&nbsp;Circle(id='7829', ...),</div></div><div class=\"7832\" style=\"display: none;\"><div style=\"display: table-cell;\"></div><div style=\"display: table-cell;\">selection_glyph&nbsp;=&nbsp;None,</div></div><div class=\"7832\" style=\"display: none;\"><div style=\"display: table-cell;\"></div><div style=\"display: table-cell;\">subscribed_events&nbsp;=&nbsp;[],</div></div><div class=\"7832\" style=\"display: none;\"><div style=\"display: table-cell;\"></div><div style=\"display: table-cell;\">tags&nbsp;=&nbsp;[],</div></div><div class=\"7832\" style=\"display: none;\"><div style=\"display: table-cell;\"></div><div style=\"display: table-cell;\">view&nbsp;=&nbsp;CDSView(id='7831', ...),</div></div><div class=\"7832\" style=\"display: none;\"><div style=\"display: table-cell;\"></div><div style=\"display: table-cell;\">visible&nbsp;=&nbsp;True,</div></div><div class=\"7832\" style=\"display: none;\"><div style=\"display: table-cell;\"></div><div style=\"display: table-cell;\">x_range_name&nbsp;=&nbsp;'default',</div></div><div class=\"7832\" style=\"display: none;\"><div style=\"display: table-cell;\"></div><div style=\"display: table-cell;\">y_range_name&nbsp;=&nbsp;'default')</div></div></div>\n",
       "<script>\n",
       "(function() {\n",
       "  var expanded = false;\n",
       "  var ellipsis = document.getElementById(\"7833\");\n",
       "  ellipsis.addEventListener(\"click\", function() {\n",
       "    var rows = document.getElementsByClassName(\"7832\");\n",
       "    for (var i = 0; i < rows.length; i++) {\n",
       "      var el = rows[i];\n",
       "      el.style.display = expanded ? \"none\" : \"table-row\";\n",
       "    }\n",
       "    ellipsis.innerHTML = expanded ? \"&hellip;)\" : \"&lsaquo;&lsaquo;&lsaquo;\";\n",
       "    expanded = !expanded;\n",
       "  });\n",
       "})();\n",
       "</script>\n"
      ],
      "text/plain": [
       "GlyphRenderer(id='7830', ...)"
      ]
     },
     "execution_count": 97,
     "metadata": {},
     "output_type": "execute_result"
    }
   ],
   "source": [
    "result = figure(\n",
    "    title='IDW interpolation', x_range=(0,100), y_range=(0,100), tools=[]\n",
    ")\n",
    "\n",
    "result.image([idw], x=0, y=0, dw=100, dh=100, palette='Cividis256')\n",
    "result.circle('x', 'y', source=source, size=12, line_color='white', fill_color={'field':'z', 'transform':cmap})"
   ]
  },
  {
   "cell_type": "code",
   "execution_count": 98,
   "metadata": {
    "slideshow": {
     "slide_type": "subslide"
    }
   },
   "outputs": [
    {
     "data": {
      "text/html": [
       "\n",
       "\n",
       "\n",
       "\n",
       "\n",
       "\n",
       "  <div class=\"bk-root\" id=\"49ab5c45-5baa-4a90-ae15-2ad6c1dc2b1a\" data-root-id=\"7798\"></div>\n"
      ]
     },
     "metadata": {},
     "output_type": "display_data"
    },
    {
     "data": {
      "application/javascript": [
       "(function(root) {\n",
       "  function embed_document(root) {\n",
       "    \n",
       "  var docs_json = {\"22aff88e-f89b-4c6a-8615-66d65085f4bb\":{\"roots\":{\"references\":[{\"attributes\":{\"below\":[{\"id\":\"7809\",\"type\":\"LinearAxis\"}],\"center\":[{\"id\":\"7813\",\"type\":\"Grid\"},{\"id\":\"7818\",\"type\":\"Grid\"}],\"left\":[{\"id\":\"7814\",\"type\":\"LinearAxis\"}],\"renderers\":[{\"id\":\"7825\",\"type\":\"GlyphRenderer\"},{\"id\":\"7830\",\"type\":\"GlyphRenderer\"}],\"title\":{\"id\":\"7799\",\"type\":\"Title\"},\"toolbar\":{\"id\":\"7819\",\"type\":\"Toolbar\"},\"x_range\":{\"id\":\"7801\",\"type\":\"Range1d\"},\"x_scale\":{\"id\":\"7805\",\"type\":\"LinearScale\"},\"y_range\":{\"id\":\"7803\",\"type\":\"Range1d\"},\"y_scale\":{\"id\":\"7807\",\"type\":\"LinearScale\"}},\"id\":\"7798\",\"subtype\":\"Figure\",\"type\":\"Plot\"},{\"attributes\":{},\"id\":\"8099\",\"type\":\"Selection\"},{\"attributes\":{\"dimension\":1,\"ticker\":{\"id\":\"7815\",\"type\":\"BasicTicker\"}},\"id\":\"7818\",\"type\":\"Grid\"},{\"attributes\":{},\"id\":\"8095\",\"type\":\"BasicTickFormatter\"},{\"attributes\":{\"palette\":[\"#00204C\",\"#00204E\",\"#002150\",\"#002251\",\"#002353\",\"#002355\",\"#002456\",\"#002558\",\"#00265A\",\"#00265B\",\"#00275D\",\"#00285F\",\"#002861\",\"#002963\",\"#002A64\",\"#002A66\",\"#002B68\",\"#002C6A\",\"#002D6C\",\"#002D6D\",\"#002E6E\",\"#002E6F\",\"#002F6F\",\"#002F6F\",\"#00306F\",\"#00316F\",\"#00316F\",\"#00326E\",\"#00336E\",\"#00346E\",\"#00346E\",\"#01356E\",\"#06366E\",\"#0A376D\",\"#0E376D\",\"#12386D\",\"#15396D\",\"#17396D\",\"#1A3A6C\",\"#1C3B6C\",\"#1E3C6C\",\"#203C6C\",\"#223D6C\",\"#243E6C\",\"#263E6C\",\"#273F6C\",\"#29406B\",\"#2B416B\",\"#2C416B\",\"#2E426B\",\"#2F436B\",\"#31446B\",\"#32446B\",\"#33456B\",\"#35466B\",\"#36466B\",\"#37476B\",\"#38486B\",\"#3A496B\",\"#3B496B\",\"#3C4A6B\",\"#3D4B6B\",\"#3E4B6B\",\"#404C6B\",\"#414D6B\",\"#424E6B\",\"#434E6B\",\"#444F6B\",\"#45506B\",\"#46506B\",\"#47516B\",\"#48526B\",\"#49536B\",\"#4A536B\",\"#4B546B\",\"#4C556B\",\"#4D556B\",\"#4E566B\",\"#4F576C\",\"#50586C\",\"#51586C\",\"#52596C\",\"#535A6C\",\"#545A6C\",\"#555B6C\",\"#565C6C\",\"#575D6D\",\"#585D6D\",\"#595E6D\",\"#5A5F6D\",\"#5B5F6D\",\"#5C606D\",\"#5D616E\",\"#5E626E\",\"#5F626E\",\"#5F636E\",\"#60646E\",\"#61656F\",\"#62656F\",\"#63666F\",\"#64676F\",\"#65676F\",\"#666870\",\"#676970\",\"#686A70\",\"#686A70\",\"#696B71\",\"#6A6C71\",\"#6B6D71\",\"#6C6D72\",\"#6D6E72\",\"#6E6F72\",\"#6F6F72\",\"#6F7073\",\"#707173\",\"#717273\",\"#727274\",\"#737374\",\"#747475\",\"#757575\",\"#757575\",\"#767676\",\"#777776\",\"#787876\",\"#797877\",\"#7A7977\",\"#7B7A77\",\"#7B7B78\",\"#7C7B78\",\"#7D7C78\",\"#7E7D78\",\"#7F7E78\",\"#807E78\",\"#817F78\",\"#828078\",\"#838178\",\"#848178\",\"#858278\",\"#868378\",\"#878478\",\"#888578\",\"#898578\",\"#8A8678\",\"#8B8778\",\"#8C8878\",\"#8D8878\",\"#8E8978\",\"#8F8A78\",\"#908B78\",\"#918C78\",\"#928C78\",\"#938D78\",\"#948E78\",\"#958F78\",\"#968F77\",\"#979077\",\"#989177\",\"#999277\",\"#9A9377\",\"#9B9377\",\"#9C9477\",\"#9D9577\",\"#9E9676\",\"#9F9776\",\"#A09876\",\"#A19876\",\"#A29976\",\"#A39A75\",\"#A49B75\",\"#A59C75\",\"#A69C75\",\"#A79D75\",\"#A89E74\",\"#A99F74\",\"#AAA074\",\"#ABA174\",\"#ACA173\",\"#ADA273\",\"#AEA373\",\"#AFA473\",\"#B0A572\",\"#B1A672\",\"#B2A672\",\"#B4A771\",\"#B5A871\",\"#B6A971\",\"#B7AA70\",\"#B8AB70\",\"#B9AB70\",\"#BAAC6F\",\"#BBAD6F\",\"#BCAE6E\",\"#BDAF6E\",\"#BEB06E\",\"#BFB16D\",\"#C0B16D\",\"#C1B26C\",\"#C2B36C\",\"#C3B46C\",\"#C5B56B\",\"#C6B66B\",\"#C7B76A\",\"#C8B86A\",\"#C9B869\",\"#CAB969\",\"#CBBA68\",\"#CCBB68\",\"#CDBC67\",\"#CEBD67\",\"#D0BE66\",\"#D1BF66\",\"#D2C065\",\"#D3C065\",\"#D4C164\",\"#D5C263\",\"#D6C363\",\"#D7C462\",\"#D8C561\",\"#D9C661\",\"#DBC760\",\"#DCC860\",\"#DDC95F\",\"#DECA5E\",\"#DFCB5D\",\"#E0CB5D\",\"#E1CC5C\",\"#E3CD5B\",\"#E4CE5B\",\"#E5CF5A\",\"#E6D059\",\"#E7D158\",\"#E8D257\",\"#E9D356\",\"#EBD456\",\"#ECD555\",\"#EDD654\",\"#EED753\",\"#EFD852\",\"#F0D951\",\"#F1DA50\",\"#F3DB4F\",\"#F4DC4E\",\"#F5DD4D\",\"#F6DE4C\",\"#F7DF4B\",\"#F9E049\",\"#FAE048\",\"#FBE147\",\"#FCE246\",\"#FDE345\",\"#FFE443\",\"#FFE542\",\"#FFE642\",\"#FFE743\",\"#FFE844\",\"#FFE945\"]},\"id\":\"7824\",\"type\":\"LinearColorMapper\"},{\"attributes\":{\"text\":\"IDW interpolation\"},\"id\":\"7799\",\"type\":\"Title\"},{\"attributes\":{\"palette\":[\"#00204C\",\"#00204E\",\"#002150\",\"#002251\",\"#002353\",\"#002355\",\"#002456\",\"#002558\",\"#00265A\",\"#00265B\",\"#00275D\",\"#00285F\",\"#002861\",\"#002963\",\"#002A64\",\"#002A66\",\"#002B68\",\"#002C6A\",\"#002D6C\",\"#002D6D\",\"#002E6E\",\"#002E6F\",\"#002F6F\",\"#002F6F\",\"#00306F\",\"#00316F\",\"#00316F\",\"#00326E\",\"#00336E\",\"#00346E\",\"#00346E\",\"#01356E\",\"#06366E\",\"#0A376D\",\"#0E376D\",\"#12386D\",\"#15396D\",\"#17396D\",\"#1A3A6C\",\"#1C3B6C\",\"#1E3C6C\",\"#203C6C\",\"#223D6C\",\"#243E6C\",\"#263E6C\",\"#273F6C\",\"#29406B\",\"#2B416B\",\"#2C416B\",\"#2E426B\",\"#2F436B\",\"#31446B\",\"#32446B\",\"#33456B\",\"#35466B\",\"#36466B\",\"#37476B\",\"#38486B\",\"#3A496B\",\"#3B496B\",\"#3C4A6B\",\"#3D4B6B\",\"#3E4B6B\",\"#404C6B\",\"#414D6B\",\"#424E6B\",\"#434E6B\",\"#444F6B\",\"#45506B\",\"#46506B\",\"#47516B\",\"#48526B\",\"#49536B\",\"#4A536B\",\"#4B546B\",\"#4C556B\",\"#4D556B\",\"#4E566B\",\"#4F576C\",\"#50586C\",\"#51586C\",\"#52596C\",\"#535A6C\",\"#545A6C\",\"#555B6C\",\"#565C6C\",\"#575D6D\",\"#585D6D\",\"#595E6D\",\"#5A5F6D\",\"#5B5F6D\",\"#5C606D\",\"#5D616E\",\"#5E626E\",\"#5F626E\",\"#5F636E\",\"#60646E\",\"#61656F\",\"#62656F\",\"#63666F\",\"#64676F\",\"#65676F\",\"#666870\",\"#676970\",\"#686A70\",\"#686A70\",\"#696B71\",\"#6A6C71\",\"#6B6D71\",\"#6C6D72\",\"#6D6E72\",\"#6E6F72\",\"#6F6F72\",\"#6F7073\",\"#707173\",\"#717273\",\"#727274\",\"#737374\",\"#747475\",\"#757575\",\"#757575\",\"#767676\",\"#777776\",\"#787876\",\"#797877\",\"#7A7977\",\"#7B7A77\",\"#7B7B78\",\"#7C7B78\",\"#7D7C78\",\"#7E7D78\",\"#7F7E78\",\"#807E78\",\"#817F78\",\"#828078\",\"#838178\",\"#848178\",\"#858278\",\"#868378\",\"#878478\",\"#888578\",\"#898578\",\"#8A8678\",\"#8B8778\",\"#8C8878\",\"#8D8878\",\"#8E8978\",\"#8F8A78\",\"#908B78\",\"#918C78\",\"#928C78\",\"#938D78\",\"#948E78\",\"#958F78\",\"#968F77\",\"#979077\",\"#989177\",\"#999277\",\"#9A9377\",\"#9B9377\",\"#9C9477\",\"#9D9577\",\"#9E9676\",\"#9F9776\",\"#A09876\",\"#A19876\",\"#A29976\",\"#A39A75\",\"#A49B75\",\"#A59C75\",\"#A69C75\",\"#A79D75\",\"#A89E74\",\"#A99F74\",\"#AAA074\",\"#ABA174\",\"#ACA173\",\"#ADA273\",\"#AEA373\",\"#AFA473\",\"#B0A572\",\"#B1A672\",\"#B2A672\",\"#B4A771\",\"#B5A871\",\"#B6A971\",\"#B7AA70\",\"#B8AB70\",\"#B9AB70\",\"#BAAC6F\",\"#BBAD6F\",\"#BCAE6E\",\"#BDAF6E\",\"#BEB06E\",\"#BFB16D\",\"#C0B16D\",\"#C1B26C\",\"#C2B36C\",\"#C3B46C\",\"#C5B56B\",\"#C6B66B\",\"#C7B76A\",\"#C8B86A\",\"#C9B869\",\"#CAB969\",\"#CBBA68\",\"#CCBB68\",\"#CDBC67\",\"#CEBD67\",\"#D0BE66\",\"#D1BF66\",\"#D2C065\",\"#D3C065\",\"#D4C164\",\"#D5C263\",\"#D6C363\",\"#D7C462\",\"#D8C561\",\"#D9C661\",\"#DBC760\",\"#DCC860\",\"#DDC95F\",\"#DECA5E\",\"#DFCB5D\",\"#E0CB5D\",\"#E1CC5C\",\"#E3CD5B\",\"#E4CE5B\",\"#E5CF5A\",\"#E6D059\",\"#E7D158\",\"#E8D257\",\"#E9D356\",\"#EBD456\",\"#ECD555\",\"#EDD654\",\"#EED753\",\"#EFD852\",\"#F0D951\",\"#F1DA50\",\"#F3DB4F\",\"#F4DC4E\",\"#F5DD4D\",\"#F6DE4C\",\"#F7DF4B\",\"#F9E049\",\"#FAE048\",\"#FBE147\",\"#FCE246\",\"#FDE345\",\"#FFE443\",\"#FFE542\",\"#FFE642\",\"#FFE743\",\"#FFE844\",\"#FFE945\"]},\"id\":\"7822\",\"type\":\"LinearColorMapper\"},{\"attributes\":{\"callback\":null,\"data\":{\"index\":[0,1,2,3,4,5,6,7,8,9,10,11,12,13,14,15,16,17,18,19,20,21,22,23,24,25,26,27,28,29],\"x\":[22,3,12,9,78,41,35,38,99,43,52,49,83,85,65,1,11,14,55,21,92,71,76,17,62,7,13,10,14,23],\"y\":[78,73,85,69,43,6,60,18,87,50,83,3,75,45,68,39,71,87,97,22,17,30,31,71,45,97,28,40,83,73],\"z\":{\"__ndarray__\":\"yneAn5AMyr+SARWJagvFvxPIlMQlS+a/QBSCTBPI4b9JxGhcdZX0PwtWdk2IUO2/IEfKhQFR4j/qRdMT0Tbtv86ItjnAkQTAHWNJ0dFx6D9AnUV9tjfQv/gmqOse/ea/QpZCZGZw8L/gWAyp84XjP/UXQiuk9eY/q+noUhNs5r/u7x4/3tTZv+ZaZAlFMey/VpLsCFtU0r8xX7ywcSjtvy/cXIVLluG//ytpLee40j/Eex7hYWPpP0spcolSxcu/12KRp0pz/T+wRyNLI6fiv2CH/M6g1oQ/d33INR5W3r/EPkmwuTPVv4OwF7pej82/\",\"dtype\":\"float64\",\"shape\":[30]}},\"selected\":{\"id\":\"4664\",\"type\":\"Selection\"},\"selection_policy\":{\"id\":\"4663\",\"type\":\"UnionRenderers\"}},\"id\":\"4488\",\"type\":\"ColumnDataSource\"},{\"attributes\":{},\"id\":\"7815\",\"type\":\"BasicTicker\"},{\"attributes\":{\"active_drag\":\"auto\",\"active_inspect\":\"auto\",\"active_multi\":null,\"active_scroll\":\"auto\",\"active_tap\":\"auto\"},\"id\":\"7819\",\"type\":\"Toolbar\"},{\"attributes\":{\"ticker\":{\"id\":\"7810\",\"type\":\"BasicTicker\"}},\"id\":\"7813\",\"type\":\"Grid\"},{\"attributes\":{\"color_mapper\":{\"id\":\"7822\",\"type\":\"LinearColorMapper\"},\"dh\":{\"units\":\"data\",\"value\":100},\"dw\":{\"units\":\"data\",\"value\":100},\"image\":{\"field\":\"image\"},\"x\":{\"value\":0},\"y\":{\"value\":0}},\"id\":\"7821\",\"type\":\"Image\"},{\"attributes\":{},\"id\":\"8097\",\"type\":\"BasicTickFormatter\"},{\"attributes\":{},\"id\":\"8098\",\"type\":\"UnionRenderers\"},{\"attributes\":{\"color_mapper\":{\"id\":\"7824\",\"type\":\"LinearColorMapper\"},\"dh\":{\"units\":\"data\",\"value\":100},\"dw\":{\"units\":\"data\",\"value\":100},\"image\":{\"field\":\"image\"},\"x\":{\"value\":0},\"y\":{\"value\":0}},\"id\":\"7823\",\"type\":\"Image\"},{\"attributes\":{},\"id\":\"4663\",\"type\":\"UnionRenderers\"},{\"attributes\":{\"high\":1.84064736801354,\"low\":-2.571167422183044,\"palette\":[\"#00204C\",\"#00204E\",\"#002150\",\"#002251\",\"#002353\",\"#002355\",\"#002456\",\"#002558\",\"#00265A\",\"#00265B\",\"#00275D\",\"#00285F\",\"#002861\",\"#002963\",\"#002A64\",\"#002A66\",\"#002B68\",\"#002C6A\",\"#002D6C\",\"#002D6D\",\"#002E6E\",\"#002E6F\",\"#002F6F\",\"#002F6F\",\"#00306F\",\"#00316F\",\"#00316F\",\"#00326E\",\"#00336E\",\"#00346E\",\"#00346E\",\"#01356E\",\"#06366E\",\"#0A376D\",\"#0E376D\",\"#12386D\",\"#15396D\",\"#17396D\",\"#1A3A6C\",\"#1C3B6C\",\"#1E3C6C\",\"#203C6C\",\"#223D6C\",\"#243E6C\",\"#263E6C\",\"#273F6C\",\"#29406B\",\"#2B416B\",\"#2C416B\",\"#2E426B\",\"#2F436B\",\"#31446B\",\"#32446B\",\"#33456B\",\"#35466B\",\"#36466B\",\"#37476B\",\"#38486B\",\"#3A496B\",\"#3B496B\",\"#3C4A6B\",\"#3D4B6B\",\"#3E4B6B\",\"#404C6B\",\"#414D6B\",\"#424E6B\",\"#434E6B\",\"#444F6B\",\"#45506B\",\"#46506B\",\"#47516B\",\"#48526B\",\"#49536B\",\"#4A536B\",\"#4B546B\",\"#4C556B\",\"#4D556B\",\"#4E566B\",\"#4F576C\",\"#50586C\",\"#51586C\",\"#52596C\",\"#535A6C\",\"#545A6C\",\"#555B6C\",\"#565C6C\",\"#575D6D\",\"#585D6D\",\"#595E6D\",\"#5A5F6D\",\"#5B5F6D\",\"#5C606D\",\"#5D616E\",\"#5E626E\",\"#5F626E\",\"#5F636E\",\"#60646E\",\"#61656F\",\"#62656F\",\"#63666F\",\"#64676F\",\"#65676F\",\"#666870\",\"#676970\",\"#686A70\",\"#686A70\",\"#696B71\",\"#6A6C71\",\"#6B6D71\",\"#6C6D72\",\"#6D6E72\",\"#6E6F72\",\"#6F6F72\",\"#6F7073\",\"#707173\",\"#717273\",\"#727274\",\"#737374\",\"#747475\",\"#757575\",\"#757575\",\"#767676\",\"#777776\",\"#787876\",\"#797877\",\"#7A7977\",\"#7B7A77\",\"#7B7B78\",\"#7C7B78\",\"#7D7C78\",\"#7E7D78\",\"#7F7E78\",\"#807E78\",\"#817F78\",\"#828078\",\"#838178\",\"#848178\",\"#858278\",\"#868378\",\"#878478\",\"#888578\",\"#898578\",\"#8A8678\",\"#8B8778\",\"#8C8878\",\"#8D8878\",\"#8E8978\",\"#8F8A78\",\"#908B78\",\"#918C78\",\"#928C78\",\"#938D78\",\"#948E78\",\"#958F78\",\"#968F77\",\"#979077\",\"#989177\",\"#999277\",\"#9A9377\",\"#9B9377\",\"#9C9477\",\"#9D9577\",\"#9E9676\",\"#9F9776\",\"#A09876\",\"#A19876\",\"#A29976\",\"#A39A75\",\"#A49B75\",\"#A59C75\",\"#A69C75\",\"#A79D75\",\"#A89E74\",\"#A99F74\",\"#AAA074\",\"#ABA174\",\"#ACA173\",\"#ADA273\",\"#AEA373\",\"#AFA473\",\"#B0A572\",\"#B1A672\",\"#B2A672\",\"#B4A771\",\"#B5A871\",\"#B6A971\",\"#B7AA70\",\"#B8AB70\",\"#B9AB70\",\"#BAAC6F\",\"#BBAD6F\",\"#BCAE6E\",\"#BDAF6E\",\"#BEB06E\",\"#BFB16D\",\"#C0B16D\",\"#C1B26C\",\"#C2B36C\",\"#C3B46C\",\"#C5B56B\",\"#C6B66B\",\"#C7B76A\",\"#C8B86A\",\"#C9B869\",\"#CAB969\",\"#CBBA68\",\"#CCBB68\",\"#CDBC67\",\"#CEBD67\",\"#D0BE66\",\"#D1BF66\",\"#D2C065\",\"#D3C065\",\"#D4C164\",\"#D5C263\",\"#D6C363\",\"#D7C462\",\"#D8C561\",\"#D9C661\",\"#DBC760\",\"#DCC860\",\"#DDC95F\",\"#DECA5E\",\"#DFCB5D\",\"#E0CB5D\",\"#E1CC5C\",\"#E3CD5B\",\"#E4CE5B\",\"#E5CF5A\",\"#E6D059\",\"#E7D158\",\"#E8D257\",\"#E9D356\",\"#EBD456\",\"#ECD555\",\"#EDD654\",\"#EED753\",\"#EFD852\",\"#F0D951\",\"#F1DA50\",\"#F3DB4F\",\"#F4DC4E\",\"#F5DD4D\",\"#F6DE4C\",\"#F7DF4B\",\"#F9E049\",\"#FAE048\",\"#FBE147\",\"#FCE246\",\"#FDE345\",\"#FFE443\",\"#FFE542\",\"#FFE642\",\"#FFE743\",\"#FFE844\",\"#FFE945\"]},\"id\":\"4487\",\"type\":\"LinearColorMapper\"},{\"attributes\":{},\"id\":\"7807\",\"type\":\"LinearScale\"},{\"attributes\":{\"source\":{\"id\":\"7820\",\"type\":\"ColumnDataSource\"}},\"id\":\"7826\",\"type\":\"CDSView\"},{\"attributes\":{\"formatter\":{\"id\":\"8095\",\"type\":\"BasicTickFormatter\"},\"ticker\":{\"id\":\"7815\",\"type\":\"BasicTicker\"}},\"id\":\"7814\",\"type\":\"LinearAxis\"},{\"attributes\":{\"data_source\":{\"id\":\"7820\",\"type\":\"ColumnDataSource\"},\"glyph\":{\"id\":\"7821\",\"type\":\"Image\"},\"hover_glyph\":null,\"muted_glyph\":null,\"nonselection_glyph\":{\"id\":\"7823\",\"type\":\"Image\"},\"selection_glyph\":null,\"view\":{\"id\":\"7826\",\"type\":\"CDSView\"}},\"id\":\"7825\",\"type\":\"GlyphRenderer\"},{\"attributes\":{\"fill_color\":{\"field\":\"z\",\"transform\":{\"id\":\"4487\",\"type\":\"LinearColorMapper\"}},\"line_color\":{\"value\":\"white\"},\"size\":{\"units\":\"screen\",\"value\":12},\"x\":{\"field\":\"x\"},\"y\":{\"field\":\"y\"}},\"id\":\"7828\",\"type\":\"Circle\"},{\"attributes\":{\"callback\":null,\"end\":100},\"id\":\"7801\",\"type\":\"Range1d\"},{\"attributes\":{},\"id\":\"7810\",\"type\":\"BasicTicker\"},{\"attributes\":{},\"id\":\"7805\",\"type\":\"LinearScale\"},{\"attributes\":{\"formatter\":{\"id\":\"8097\",\"type\":\"BasicTickFormatter\"},\"ticker\":{\"id\":\"7810\",\"type\":\"BasicTicker\"}},\"id\":\"7809\",\"type\":\"LinearAxis\"},{\"attributes\":{\"data_source\":{\"id\":\"4488\",\"type\":\"ColumnDataSource\"},\"glyph\":{\"id\":\"7828\",\"type\":\"Circle\"},\"hover_glyph\":null,\"muted_glyph\":null,\"nonselection_glyph\":{\"id\":\"7829\",\"type\":\"Circle\"},\"selection_glyph\":null,\"view\":{\"id\":\"7831\",\"type\":\"CDSView\"}},\"id\":\"7830\",\"type\":\"GlyphRenderer\"},{\"attributes\":{\"fill_alpha\":{\"value\":0.1},\"fill_color\":{\"value\":\"#1f77b4\"},\"line_alpha\":{\"value\":0.1},\"line_color\":{\"value\":\"#1f77b4\"},\"size\":{\"units\":\"screen\",\"value\":12},\"x\":{\"field\":\"x\"},\"y\":{\"field\":\"y\"}},\"id\":\"7829\",\"type\":\"Circle\"},{\"attributes\":{\"callback\":null,\"end\":100},\"id\":\"7803\",\"type\":\"Range1d\"},{\"attributes\":{\"callback\":null,\"data\":{\"image\":[[[-0.35986907431986515,-0.3774409309676049,-0.40059899359702583,-0.4295743149999072,-0.4650015746698971,-0.5113034518380702,-0.5775628666564714,-0.667247719700126,-0.7339887930849301,-0.7010061380618864,-0.6862255333136467,-0.5751389305854222,-0.4103188405892115,-0.26858553937694185,-0.16944581224813188,-0.11388956068254362,-0.09700031819776385,-0.10772396740133866,-0.12691774193451033,-0.13529699138141268,-0.12757051105201456],[-0.36346762307342123,-0.3828664274213114,-0.411108619474122,-0.4474575957837372,-0.4879979380163953,-0.5359795632181942,-0.6099475473606637,-0.7360689965470198,-0.8967648527617057,-0.7672902827034128,-0.7002376571354102,-0.5659905571572174,-0.3714289927670255,-0.21095173023704,-0.10607029934116519,-0.058836451711016265,-0.06705622856394301,-0.11872828703706632,-0.17595622720827736,-0.1922401346741223,-0.16617191557853858],[-0.3634956888774807,-0.3827842409465097,-0.4186207063896051,-0.47248506095851817,-0.525084222740497,-0.5632043744710014,-0.6222886105491493,-0.7178042293428285,-0.7986933056262993,-0.7195927947414992,-0.5932748207778155,-0.4465887287553122,-0.2640900290916693,-0.10792520305725296,-0.008988339498736458,0.02155163588784263,-0.027497211081407763,-0.15870382932765645,-0.29809378486213695,-0.3116180000900219,-0.22884303359530442],[-0.35882843109674434,-0.3699585524859688,-0.4109365399362289,-0.5109115539742648,-0.6186336072310823,-0.6215432126945215,-0.6419106074774583,-0.7790870988984014,-0.8027284187270283,-0.6301191601012042,-0.4601727212086046,-0.28830266534295235,-0.11340030671226872,0.032513882389782284,0.12246702896056313,0.13900994817494408,0.049709733208114684,-0.19327395472565584,-0.4807048763335494,-0.4618113638907417,-0.2782528747380299],[-0.3530534658221676,-0.3352996469132289,-0.3427959757698036,-0.5148611163318842,-0.8377077002201724,-0.7296703201595367,-0.628304149425189,-0.7870409458705238,-0.8218089718464072,-0.5494159154385103,-0.31570156324195586,-0.1205639416719825,0.05252476421486462,0.18891589425149793,0.2738097620422055,0.2989448652737052,0.2112501306116328,-0.06318648967705524,-0.40995800232458596,-0.40553188832714043,-0.22318049197891135],[-0.3647793616820737,-0.2969975602140737,-0.16218565257560266,-0.219808050101541,-0.7194244262196791,-0.6586478723492595,-0.5293035196356412,-0.5435594769116887,-0.5153575444868783,-0.3397091324512033,-0.13306959712499628,0.05601780615415251,0.21406467580330096,0.3212629288816995,0.3764604556972159,0.4723735023549985,0.4406705263853428,0.2285130036390617,-0.013719076205687237,-0.09730992051047668,-0.05846039258449233],[-0.43200783266605547,-0.34224555235947807,-0.13902660254052848,-0.10271849767030994,-0.3693434204623472,-0.42896529723641785,-0.37295500205037246,-0.3151222683881963,-0.23451962128448695,-0.09933329923467125,0.07088306491681874,0.24467730511614932,0.3759128067458075,0.41121059485103567,0.30858954835319014,0.7277233408592175,0.6374582692843049,0.4502033189261981,0.2830052781331385,0.16619294492600103,0.10705215277016461],[-0.5873077588369062,-0.4862664056525395,-0.37724273206302994,-0.3091051706644484,-0.30808279684541756,-0.28981452390265083,-0.2225102614058621,-0.1272004898448626,-0.014806334797110037,0.11367270043472172,0.27314379090549207,0.4715112212997204,0.6251463336292874,0.6057707151890276,0.5418581934702765,0.673426460746921,0.6910972316135544,0.5835071224372024,0.44952681515860604,0.3218590455237016,0.21845374262557754],[-0.6826281802471161,-0.5457062803959746,null,-0.38864337790914005,-0.28906245762756455,-0.20397828896214967,-0.09592535729132752,0.042780874803792876,0.19214986659530037,0.3093989180461105,0.4525446757058061,0.7565580130448151,1.1499484730018081,1.0681874410235426,0.8123409241583834,0.9522253800199287,0.9828454324745837,0.674714107522748,0.5442814815082974,0.40247366125263734,0.2731071049853525],[-0.5206219662317371,-0.4694127282386296,-0.42058068210078947,-0.349800103329062,-0.24749063604226035,-0.1330679439831845,0.010252426827042577,0.20277675000007006,0.44201756685981636,0.52971382038083,0.5589733403963264,0.9309317242601695,1.6951934264969821,1.539889653413182,0.9488627304737425,1.0481690366161711,1.0345992682428538,null,0.5664135573342907,0.41432501220473517,0.2711977499611855],[-0.4083000353778712,-0.3876250738126282,-0.3496781508778925,-0.2904734504299015,-0.2013757036848241,-0.07524419960760416,0.09310607209847217,0.3021039173693274,0.634768942787713,0.7123661815965262,0.56300353308517,0.7691037849217083,1.1680954145809217,1.1218465262376165,0.8273091434752371,0.7694095134624066,0.7154169493328743,0.5967675557362385,0.49140854795427025,0.34374708491934197,0.2076628016507436],[-0.35876964867113426,-0.34685894425612734,-0.31985951944820795,-0.2696990973232487,-0.18553699646763377,-0.04293777513604456,0.18283274787926634,0.37295853063015694,0.45854782438578423,0.5096207754200158,0.46025189357105095,0.5368074415581287,0.6632402549281172,0.6743342849797774,0.5941552710373655,0.5290663905305131,0.4741094795299254,0.40237039512988815,0.30553512697358626,0.18992255554961232,0.08095103281634704],[-0.34542547033373217,-0.3514059883715483,-0.339914471487483,-0.29047239206907005,-0.2100482689409882,-0.06577096445078166,0.24673316642385676,null,0.3813149559686829,0.3158218169466167,0.32279089653337695,0.3805627421304506,0.4614452840303539,0.4932922672055412,0.43054623875109344,0.317093421106199,0.205425499399184,0.1154476614981854,0.04178375987531068,-0.03167266400862819,-0.10473808215239311],[-0.33627983089918084,-0.38546786723681564,-0.41601006709288524,-0.3222900722094905,-0.24651970519339894,-0.15333439524170775,0.050935691469156115,0.26342520860916147,0.22321164254007503,0.18162293319542555,0.2036077973983244,0.28922706594622016,0.46596304495720353,0.6203906734113072,0.43054572172492067,0.13045359801624629,-0.12453626404764848,-0.2559902935976002,-0.2810987236928213,-0.3043357331244675,-0.3462016011024731],[-0.2738908915701173,-0.34274061934587924,-0.46514544714964695,-0.28461965502663644,-0.2462847685223952,-0.22202287559862413,-0.1349141700047121,-0.01908055856154406,0.03319428047627242,0.04974583429736745,0.0830058112461795,0.18420817404772308,0.42600102481390373,0.6578165573134479,0.37558704510652935,-0.1109841367536005,-0.5817019106395436,-0.7180048622288564,-0.6169512283563552,-0.6084038724265608,-0.6551941821492853],[-0.2555477401137046,-0.2675322601762581,-0.3853393823793222,-0.3282111701208983,-0.25486027698310665,-0.2355313489327164,-0.20794603505241593,-0.14123905391617209,-0.08831148545006227,-0.06816098451634282,-0.06143275211789724,0.0032652528971089364,0.15901559632060283,0.2568071412139387,0.08072051278504822,-0.35535246044698976,-0.8989397366734282,-0.9855639833459071,-0.8488169138485939,-0.9617995564613341,-1.095612647937294],[-0.36139447868133906,-0.4040919929773664,-0.4565697483693035,-0.4063528125187885,-0.2855212681744739,-0.2572277629235238,-0.24882047849631525,-0.202306344284596,-0.16079986822223494,-0.15750589032180526,-0.2063616917898148,-0.18004089625677291,-0.06510045045373078,-0.02272470403121675,-0.13332707407748656,-0.4144883789472718,-0.7521590720893523,-0.8854144820136433,-1.0485429319041697,-1.5148959662004808,-1.7826107416154822],[-0.4330509606050346,-0.4998252353816461,-0.6337957021147541,-0.59804085923398,-0.4574213336659043,-0.3468089827542044,-0.29167757123157123,-0.24248645662878537,-0.2048325769007622,-0.19931683897228256,-0.23502946175160078,-0.2225415082881531,-0.16512607933056464,-0.15506011638674497,-0.23198206205247585,-0.406716351420433,-0.6320850191926126,-0.876432292000467,-1.3444763436811722,-2.1525705303330107,-2.471356559147449],[-0.4734183768202273,-0.530372990290238,-0.6169392447202305,-0.6895578802169278,-0.5195766261465902,-0.3989993785926453,-0.3248431870839999,-0.2711164422121835,-0.23416990983503305,-0.22062482715266463,-0.22700146909995478,-0.2308765285844797,-0.21922238472008337,-0.22184288143123831,-0.28010114231522193,-0.4086996826063383,-0.6045201182036044,-0.8992217930418502,-1.4172473546673956,-2.1320378482438276,-2.4005397853437906],[-0.49929176208602494,-0.5618156877622481,-0.5629869047773959,-0.5451940757996812,-0.4829272093876769,-0.4049411194166575,-0.33974163526378093,-0.2894679467536847,-0.25538550836381896,-0.24298835378501113,-0.25814178828561596,-0.2807009100356185,-0.2614306358011895,-0.25817896460270007,-0.305626978324195,-0.41091236710963897,-0.5810839924142086,-0.8406729800601981,-1.2238856117595296,-1.650850735427395,-1.833392296976062],[-0.496869656533943,-0.5516247638026025,-0.543864391959567,-0.49634722746375787,-0.4473535640162194,-0.3931660135044235,-0.34203670360758065,-0.2996435933347039,-0.26987633348802403,-0.2576103750570624,-0.2666032392596206,-0.2795619066720214,-0.2709912366290931,-0.27618145101621694,-0.3192928971869106,-0.40645707520222124,-0.5432150434406704,-0.7372454733586888,-0.9833346128727211,-1.2218557911970669,-1.3399741566287704]]]},\"selected\":{\"id\":\"8099\",\"type\":\"Selection\"},\"selection_policy\":{\"id\":\"8098\",\"type\":\"UnionRenderers\"}},\"id\":\"7820\",\"type\":\"ColumnDataSource\"},{\"attributes\":{},\"id\":\"4664\",\"type\":\"Selection\"},{\"attributes\":{\"source\":{\"id\":\"4488\",\"type\":\"ColumnDataSource\"}},\"id\":\"7831\",\"type\":\"CDSView\"}],\"root_ids\":[\"7798\"]},\"title\":\"Bokeh Application\",\"version\":\"1.4.0\"}};\n",
       "  var render_items = [{\"docid\":\"22aff88e-f89b-4c6a-8615-66d65085f4bb\",\"roots\":{\"7798\":\"49ab5c45-5baa-4a90-ae15-2ad6c1dc2b1a\"}}];\n",
       "  root.Bokeh.embed.embed_items_notebook(docs_json, render_items);\n",
       "\n",
       "  }\n",
       "  if (root.Bokeh !== undefined) {\n",
       "    embed_document(root);\n",
       "  } else {\n",
       "    var attempts = 0;\n",
       "    var timer = setInterval(function(root) {\n",
       "      if (root.Bokeh !== undefined) {\n",
       "        clearInterval(timer);\n",
       "        embed_document(root);\n",
       "      } else {\n",
       "        attempts++;\n",
       "        if (attempts > 100) {\n",
       "          clearInterval(timer);\n",
       "          console.log(\"Bokeh: ERROR: Unable to run BokehJS code because BokehJS library is missing\");\n",
       "        }\n",
       "      }\n",
       "    }, 10, root)\n",
       "  }\n",
       "})(window);"
      ],
      "application/vnd.bokehjs_exec.v0+json": ""
     },
     "metadata": {
      "application/vnd.bokehjs_exec.v0+json": {
       "id": "7798"
      }
     },
     "output_type": "display_data"
    }
   ],
   "source": [
    "show(result)"
   ]
  },
  {
   "cell_type": "markdown",
   "metadata": {
    "slideshow": {
     "slide_type": "subslide"
    }
   },
   "source": [
    "The shown code is slow, from a algorithmic perspective and especially from the implementation perspective. \n",
    "From the algorithmic perspective ask yourself the question:\n",
    "\n",
    "*Do we always have to include the whole sample into the weighted mean? If not, why?*"
   ]
  },
  {
   "cell_type": "markdown",
   "metadata": {
    "slideshow": {
     "slide_type": "subslide"
    }
   },
   "source": [
    "If you installed the lectures locally or are running it in a binder, you can play around a little bit:\n",
    "\n",
    "* increase and decrease the raster size - what happens to the result?\n",
    "* increase m - what happens?\n",
    "* can you speed up the calculation by changing the *algorithm* ? (not talking about numpy or `map` here and simply moving to faster implementations)\n",
    "\n",
    "That's always my way to go -> first make the algorithm fast by implementing it in a smart way, then increase performance by using `numpy` (in Pyhton) or precompiled structures (vectorized vs. loops in R). "
   ]
  }
 ],
 "metadata": {
  "celltoolbar": "Slideshow",
  "finalized": {
   "timestamp": 1588861327079,
   "trusted": true
  },
  "kernelspec": {
   "display_name": "Python 3",
   "language": "python",
   "name": "python3"
  },
  "language_info": {
   "codemirror_mode": {
    "name": "ipython",
    "version": 3
   },
   "file_extension": ".py",
   "mimetype": "text/x-python",
   "name": "python",
   "nbconvert_exporter": "python",
   "pygments_lexer": "ipython3",
   "version": "3.7.6"
  }
 },
 "nbformat": 4,
 "nbformat_minor": 4
}
