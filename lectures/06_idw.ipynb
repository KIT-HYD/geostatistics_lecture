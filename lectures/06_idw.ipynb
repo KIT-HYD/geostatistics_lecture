{
 "cells": [
  {
   "cell_type": "markdown",
   "metadata": {
    "slideshow": {
     "slide_type": "slide"
    }
   },
   "source": [
    "# Geostatistics"
   ]
  },
  {
   "cell_type": "markdown",
   "metadata": {
    "slideshow": {
     "slide_type": "fragment"
    }
   },
   "source": [
    "## 6. Excursus: IDW"
   ]
  },
  {
   "cell_type": "markdown",
   "metadata": {
    "slideshow": {
     "slide_type": "fragment"
    }
   },
   "source": [
    "This is a small excursus to IDW - **I**nverse **D**istance **W**eights. That's an interpolation technique, that is quite close to geostatistics. Some would even count it as an geostatistical method, although there is nothing statistical about it."
   ]
  },
  {
   "cell_type": "code",
   "execution_count": 1,
   "metadata": {
    "slideshow": {
     "slide_type": "notes"
    }
   },
   "outputs": [
    {
     "data": {
      "text/html": [
       "\n",
       "    <div class=\"bk-root\">\n",
       "        <a href=\"https://bokeh.org\" target=\"_blank\" class=\"bk-logo bk-logo-small bk-logo-notebook\"></a>\n",
       "        <span id=\"1001\">Loading BokehJS ...</span>\n",
       "    </div>"
      ]
     },
     "metadata": {},
     "output_type": "display_data"
    },
    {
     "data": {
      "application/javascript": [
       "\n",
       "(function(root) {\n",
       "  function now() {\n",
       "    return new Date();\n",
       "  }\n",
       "\n",
       "  var force = true;\n",
       "\n",
       "  if (typeof root._bokeh_onload_callbacks === \"undefined\" || force === true) {\n",
       "    root._bokeh_onload_callbacks = [];\n",
       "    root._bokeh_is_loading = undefined;\n",
       "  }\n",
       "\n",
       "  var JS_MIME_TYPE = 'application/javascript';\n",
       "  var HTML_MIME_TYPE = 'text/html';\n",
       "  var EXEC_MIME_TYPE = 'application/vnd.bokehjs_exec.v0+json';\n",
       "  var CLASS_NAME = 'output_bokeh rendered_html';\n",
       "\n",
       "  /**\n",
       "   * Render data to the DOM node\n",
       "   */\n",
       "  function render(props, node) {\n",
       "    var script = document.createElement(\"script\");\n",
       "    node.appendChild(script);\n",
       "  }\n",
       "\n",
       "  /**\n",
       "   * Handle when an output is cleared or removed\n",
       "   */\n",
       "  function handleClearOutput(event, handle) {\n",
       "    var cell = handle.cell;\n",
       "\n",
       "    var id = cell.output_area._bokeh_element_id;\n",
       "    var server_id = cell.output_area._bokeh_server_id;\n",
       "    // Clean up Bokeh references\n",
       "    if (id != null && id in Bokeh.index) {\n",
       "      Bokeh.index[id].model.document.clear();\n",
       "      delete Bokeh.index[id];\n",
       "    }\n",
       "\n",
       "    if (server_id !== undefined) {\n",
       "      // Clean up Bokeh references\n",
       "      var cmd = \"from bokeh.io.state import curstate; print(curstate().uuid_to_server['\" + server_id + \"'].get_sessions()[0].document.roots[0]._id)\";\n",
       "      cell.notebook.kernel.execute(cmd, {\n",
       "        iopub: {\n",
       "          output: function(msg) {\n",
       "            var id = msg.content.text.trim();\n",
       "            if (id in Bokeh.index) {\n",
       "              Bokeh.index[id].model.document.clear();\n",
       "              delete Bokeh.index[id];\n",
       "            }\n",
       "          }\n",
       "        }\n",
       "      });\n",
       "      // Destroy server and session\n",
       "      var cmd = \"import bokeh.io.notebook as ion; ion.destroy_server('\" + server_id + \"')\";\n",
       "      cell.notebook.kernel.execute(cmd);\n",
       "    }\n",
       "  }\n",
       "\n",
       "  /**\n",
       "   * Handle when a new output is added\n",
       "   */\n",
       "  function handleAddOutput(event, handle) {\n",
       "    var output_area = handle.output_area;\n",
       "    var output = handle.output;\n",
       "\n",
       "    // limit handleAddOutput to display_data with EXEC_MIME_TYPE content only\n",
       "    if ((output.output_type != \"display_data\") || (!output.data.hasOwnProperty(EXEC_MIME_TYPE))) {\n",
       "      return\n",
       "    }\n",
       "\n",
       "    var toinsert = output_area.element.find(\".\" + CLASS_NAME.split(' ')[0]);\n",
       "\n",
       "    if (output.metadata[EXEC_MIME_TYPE][\"id\"] !== undefined) {\n",
       "      toinsert[toinsert.length - 1].firstChild.textContent = output.data[JS_MIME_TYPE];\n",
       "      // store reference to embed id on output_area\n",
       "      output_area._bokeh_element_id = output.metadata[EXEC_MIME_TYPE][\"id\"];\n",
       "    }\n",
       "    if (output.metadata[EXEC_MIME_TYPE][\"server_id\"] !== undefined) {\n",
       "      var bk_div = document.createElement(\"div\");\n",
       "      bk_div.innerHTML = output.data[HTML_MIME_TYPE];\n",
       "      var script_attrs = bk_div.children[0].attributes;\n",
       "      for (var i = 0; i < script_attrs.length; i++) {\n",
       "        toinsert[toinsert.length - 1].firstChild.setAttribute(script_attrs[i].name, script_attrs[i].value);\n",
       "      }\n",
       "      // store reference to server id on output_area\n",
       "      output_area._bokeh_server_id = output.metadata[EXEC_MIME_TYPE][\"server_id\"];\n",
       "    }\n",
       "  }\n",
       "\n",
       "  function register_renderer(events, OutputArea) {\n",
       "\n",
       "    function append_mime(data, metadata, element) {\n",
       "      // create a DOM node to render to\n",
       "      var toinsert = this.create_output_subarea(\n",
       "        metadata,\n",
       "        CLASS_NAME,\n",
       "        EXEC_MIME_TYPE\n",
       "      );\n",
       "      this.keyboard_manager.register_events(toinsert);\n",
       "      // Render to node\n",
       "      var props = {data: data, metadata: metadata[EXEC_MIME_TYPE]};\n",
       "      render(props, toinsert[toinsert.length - 1]);\n",
       "      element.append(toinsert);\n",
       "      return toinsert\n",
       "    }\n",
       "\n",
       "    /* Handle when an output is cleared or removed */\n",
       "    events.on('clear_output.CodeCell', handleClearOutput);\n",
       "    events.on('delete.Cell', handleClearOutput);\n",
       "\n",
       "    /* Handle when a new output is added */\n",
       "    events.on('output_added.OutputArea', handleAddOutput);\n",
       "\n",
       "    /**\n",
       "     * Register the mime type and append_mime function with output_area\n",
       "     */\n",
       "    OutputArea.prototype.register_mime_type(EXEC_MIME_TYPE, append_mime, {\n",
       "      /* Is output safe? */\n",
       "      safe: true,\n",
       "      /* Index of renderer in `output_area.display_order` */\n",
       "      index: 0\n",
       "    });\n",
       "  }\n",
       "\n",
       "  // register the mime type if in Jupyter Notebook environment and previously unregistered\n",
       "  if (root.Jupyter !== undefined) {\n",
       "    var events = require('base/js/events');\n",
       "    var OutputArea = require('notebook/js/outputarea').OutputArea;\n",
       "\n",
       "    if (OutputArea.prototype.mime_types().indexOf(EXEC_MIME_TYPE) == -1) {\n",
       "      register_renderer(events, OutputArea);\n",
       "    }\n",
       "  }\n",
       "\n",
       "  \n",
       "  if (typeof (root._bokeh_timeout) === \"undefined\" || force === true) {\n",
       "    root._bokeh_timeout = Date.now() + 5000;\n",
       "    root._bokeh_failed_load = false;\n",
       "  }\n",
       "\n",
       "  var NB_LOAD_WARNING = {'data': {'text/html':\n",
       "     \"<div style='background-color: #fdd'>\\n\"+\n",
       "     \"<p>\\n\"+\n",
       "     \"BokehJS does not appear to have successfully loaded. If loading BokehJS from CDN, this \\n\"+\n",
       "     \"may be due to a slow or bad network connection. Possible fixes:\\n\"+\n",
       "     \"</p>\\n\"+\n",
       "     \"<ul>\\n\"+\n",
       "     \"<li>re-rerun `output_notebook()` to attempt to load from CDN again, or</li>\\n\"+\n",
       "     \"<li>use INLINE resources instead, as so:</li>\\n\"+\n",
       "     \"</ul>\\n\"+\n",
       "     \"<code>\\n\"+\n",
       "     \"from bokeh.resources import INLINE\\n\"+\n",
       "     \"output_notebook(resources=INLINE)\\n\"+\n",
       "     \"</code>\\n\"+\n",
       "     \"</div>\"}};\n",
       "\n",
       "  function display_loaded() {\n",
       "    var el = document.getElementById(\"1001\");\n",
       "    if (el != null) {\n",
       "      el.textContent = \"BokehJS is loading...\";\n",
       "    }\n",
       "    if (root.Bokeh !== undefined) {\n",
       "      if (el != null) {\n",
       "        el.textContent = \"BokehJS \" + root.Bokeh.version + \" successfully loaded.\";\n",
       "      }\n",
       "    } else if (Date.now() < root._bokeh_timeout) {\n",
       "      setTimeout(display_loaded, 100)\n",
       "    }\n",
       "  }\n",
       "\n",
       "\n",
       "  function run_callbacks() {\n",
       "    try {\n",
       "      root._bokeh_onload_callbacks.forEach(function(callback) {\n",
       "        if (callback != null)\n",
       "          callback();\n",
       "      });\n",
       "    } finally {\n",
       "      delete root._bokeh_onload_callbacks\n",
       "    }\n",
       "    console.debug(\"Bokeh: all callbacks have finished\");\n",
       "  }\n",
       "\n",
       "  function load_libs(css_urls, js_urls, callback) {\n",
       "    if (css_urls == null) css_urls = [];\n",
       "    if (js_urls == null) js_urls = [];\n",
       "\n",
       "    root._bokeh_onload_callbacks.push(callback);\n",
       "    if (root._bokeh_is_loading > 0) {\n",
       "      console.debug(\"Bokeh: BokehJS is being loaded, scheduling callback at\", now());\n",
       "      return null;\n",
       "    }\n",
       "    if (js_urls == null || js_urls.length === 0) {\n",
       "      run_callbacks();\n",
       "      return null;\n",
       "    }\n",
       "    console.debug(\"Bokeh: BokehJS not loaded, scheduling load and callback at\", now());\n",
       "    root._bokeh_is_loading = css_urls.length + js_urls.length;\n",
       "\n",
       "    function on_load() {\n",
       "      root._bokeh_is_loading--;\n",
       "      if (root._bokeh_is_loading === 0) {\n",
       "        console.debug(\"Bokeh: all BokehJS libraries/stylesheets loaded\");\n",
       "        run_callbacks()\n",
       "      }\n",
       "    }\n",
       "\n",
       "    function on_error() {\n",
       "      console.error(\"failed to load \" + url);\n",
       "    }\n",
       "\n",
       "    for (var i = 0; i < css_urls.length; i++) {\n",
       "      var url = css_urls[i];\n",
       "      const element = document.createElement(\"link\");\n",
       "      element.onload = on_load;\n",
       "      element.onerror = on_error;\n",
       "      element.rel = \"stylesheet\";\n",
       "      element.type = \"text/css\";\n",
       "      element.href = url;\n",
       "      console.debug(\"Bokeh: injecting link tag for BokehJS stylesheet: \", url);\n",
       "      document.body.appendChild(element);\n",
       "    }\n",
       "\n",
       "    for (var i = 0; i < js_urls.length; i++) {\n",
       "      var url = js_urls[i];\n",
       "      var element = document.createElement('script');\n",
       "      element.onload = on_load;\n",
       "      element.onerror = on_error;\n",
       "      element.async = false;\n",
       "      element.src = url;\n",
       "      console.debug(\"Bokeh: injecting script tag for BokehJS library: \", url);\n",
       "      document.head.appendChild(element);\n",
       "    }\n",
       "  };var element = document.getElementById(\"1001\");\n",
       "  if (element == null) {\n",
       "    console.error(\"Bokeh: ERROR: autoload.js configured with elementid '1001' but no matching script tag was found. \")\n",
       "    return false;\n",
       "  }\n",
       "\n",
       "  function inject_raw_css(css) {\n",
       "    const element = document.createElement(\"style\");\n",
       "    element.appendChild(document.createTextNode(css));\n",
       "    document.body.appendChild(element);\n",
       "  }\n",
       "\n",
       "  \n",
       "  var js_urls = [\"https://cdn.pydata.org/bokeh/release/bokeh-1.4.0.min.js\", \"https://cdn.pydata.org/bokeh/release/bokeh-widgets-1.4.0.min.js\", \"https://cdn.pydata.org/bokeh/release/bokeh-tables-1.4.0.min.js\", \"https://cdn.pydata.org/bokeh/release/bokeh-gl-1.4.0.min.js\"];\n",
       "  var css_urls = [];\n",
       "  \n",
       "\n",
       "  var inline_js = [\n",
       "    function(Bokeh) {\n",
       "      Bokeh.set_log_level(\"info\");\n",
       "    },\n",
       "    function(Bokeh) {\n",
       "    \n",
       "    \n",
       "    }\n",
       "  ];\n",
       "\n",
       "  function run_inline_js() {\n",
       "    \n",
       "    if (root.Bokeh !== undefined || force === true) {\n",
       "      \n",
       "    for (var i = 0; i < inline_js.length; i++) {\n",
       "      inline_js[i].call(root, root.Bokeh);\n",
       "    }\n",
       "    if (force === true) {\n",
       "        display_loaded();\n",
       "      }} else if (Date.now() < root._bokeh_timeout) {\n",
       "      setTimeout(run_inline_js, 100);\n",
       "    } else if (!root._bokeh_failed_load) {\n",
       "      console.log(\"Bokeh: BokehJS failed to load within specified timeout.\");\n",
       "      root._bokeh_failed_load = true;\n",
       "    } else if (force !== true) {\n",
       "      var cell = $(document.getElementById(\"1001\")).parents('.cell').data().cell;\n",
       "      cell.output_area.append_execute_result(NB_LOAD_WARNING)\n",
       "    }\n",
       "\n",
       "  }\n",
       "\n",
       "  if (root._bokeh_is_loading === 0) {\n",
       "    console.debug(\"Bokeh: BokehJS loaded, going straight to plotting\");\n",
       "    run_inline_js();\n",
       "  } else {\n",
       "    load_libs(css_urls, js_urls, function() {\n",
       "      console.debug(\"Bokeh: BokehJS plotting callback run at\", now());\n",
       "      run_inline_js();\n",
       "    });\n",
       "  }\n",
       "}(window));"
      ],
      "application/vnd.bokehjs_load.v0+json": "\n(function(root) {\n  function now() {\n    return new Date();\n  }\n\n  var force = true;\n\n  if (typeof root._bokeh_onload_callbacks === \"undefined\" || force === true) {\n    root._bokeh_onload_callbacks = [];\n    root._bokeh_is_loading = undefined;\n  }\n\n  \n\n  \n  if (typeof (root._bokeh_timeout) === \"undefined\" || force === true) {\n    root._bokeh_timeout = Date.now() + 5000;\n    root._bokeh_failed_load = false;\n  }\n\n  var NB_LOAD_WARNING = {'data': {'text/html':\n     \"<div style='background-color: #fdd'>\\n\"+\n     \"<p>\\n\"+\n     \"BokehJS does not appear to have successfully loaded. If loading BokehJS from CDN, this \\n\"+\n     \"may be due to a slow or bad network connection. Possible fixes:\\n\"+\n     \"</p>\\n\"+\n     \"<ul>\\n\"+\n     \"<li>re-rerun `output_notebook()` to attempt to load from CDN again, or</li>\\n\"+\n     \"<li>use INLINE resources instead, as so:</li>\\n\"+\n     \"</ul>\\n\"+\n     \"<code>\\n\"+\n     \"from bokeh.resources import INLINE\\n\"+\n     \"output_notebook(resources=INLINE)\\n\"+\n     \"</code>\\n\"+\n     \"</div>\"}};\n\n  function display_loaded() {\n    var el = document.getElementById(\"1001\");\n    if (el != null) {\n      el.textContent = \"BokehJS is loading...\";\n    }\n    if (root.Bokeh !== undefined) {\n      if (el != null) {\n        el.textContent = \"BokehJS \" + root.Bokeh.version + \" successfully loaded.\";\n      }\n    } else if (Date.now() < root._bokeh_timeout) {\n      setTimeout(display_loaded, 100)\n    }\n  }\n\n\n  function run_callbacks() {\n    try {\n      root._bokeh_onload_callbacks.forEach(function(callback) {\n        if (callback != null)\n          callback();\n      });\n    } finally {\n      delete root._bokeh_onload_callbacks\n    }\n    console.debug(\"Bokeh: all callbacks have finished\");\n  }\n\n  function load_libs(css_urls, js_urls, callback) {\n    if (css_urls == null) css_urls = [];\n    if (js_urls == null) js_urls = [];\n\n    root._bokeh_onload_callbacks.push(callback);\n    if (root._bokeh_is_loading > 0) {\n      console.debug(\"Bokeh: BokehJS is being loaded, scheduling callback at\", now());\n      return null;\n    }\n    if (js_urls == null || js_urls.length === 0) {\n      run_callbacks();\n      return null;\n    }\n    console.debug(\"Bokeh: BokehJS not loaded, scheduling load and callback at\", now());\n    root._bokeh_is_loading = css_urls.length + js_urls.length;\n\n    function on_load() {\n      root._bokeh_is_loading--;\n      if (root._bokeh_is_loading === 0) {\n        console.debug(\"Bokeh: all BokehJS libraries/stylesheets loaded\");\n        run_callbacks()\n      }\n    }\n\n    function on_error() {\n      console.error(\"failed to load \" + url);\n    }\n\n    for (var i = 0; i < css_urls.length; i++) {\n      var url = css_urls[i];\n      const element = document.createElement(\"link\");\n      element.onload = on_load;\n      element.onerror = on_error;\n      element.rel = \"stylesheet\";\n      element.type = \"text/css\";\n      element.href = url;\n      console.debug(\"Bokeh: injecting link tag for BokehJS stylesheet: \", url);\n      document.body.appendChild(element);\n    }\n\n    for (var i = 0; i < js_urls.length; i++) {\n      var url = js_urls[i];\n      var element = document.createElement('script');\n      element.onload = on_load;\n      element.onerror = on_error;\n      element.async = false;\n      element.src = url;\n      console.debug(\"Bokeh: injecting script tag for BokehJS library: \", url);\n      document.head.appendChild(element);\n    }\n  };var element = document.getElementById(\"1001\");\n  if (element == null) {\n    console.error(\"Bokeh: ERROR: autoload.js configured with elementid '1001' but no matching script tag was found. \")\n    return false;\n  }\n\n  function inject_raw_css(css) {\n    const element = document.createElement(\"style\");\n    element.appendChild(document.createTextNode(css));\n    document.body.appendChild(element);\n  }\n\n  \n  var js_urls = [\"https://cdn.pydata.org/bokeh/release/bokeh-1.4.0.min.js\", \"https://cdn.pydata.org/bokeh/release/bokeh-widgets-1.4.0.min.js\", \"https://cdn.pydata.org/bokeh/release/bokeh-tables-1.4.0.min.js\", \"https://cdn.pydata.org/bokeh/release/bokeh-gl-1.4.0.min.js\"];\n  var css_urls = [];\n  \n\n  var inline_js = [\n    function(Bokeh) {\n      Bokeh.set_log_level(\"info\");\n    },\n    function(Bokeh) {\n    \n    \n    }\n  ];\n\n  function run_inline_js() {\n    \n    if (root.Bokeh !== undefined || force === true) {\n      \n    for (var i = 0; i < inline_js.length; i++) {\n      inline_js[i].call(root, root.Bokeh);\n    }\n    if (force === true) {\n        display_loaded();\n      }} else if (Date.now() < root._bokeh_timeout) {\n      setTimeout(run_inline_js, 100);\n    } else if (!root._bokeh_failed_load) {\n      console.log(\"Bokeh: BokehJS failed to load within specified timeout.\");\n      root._bokeh_failed_load = true;\n    } else if (force !== true) {\n      var cell = $(document.getElementById(\"1001\")).parents('.cell').data().cell;\n      cell.output_area.append_execute_result(NB_LOAD_WARNING)\n    }\n\n  }\n\n  if (root._bokeh_is_loading === 0) {\n    console.debug(\"Bokeh: BokehJS loaded, going straight to plotting\");\n    run_inline_js();\n  } else {\n    load_libs(css_urls, js_urls, function() {\n      console.debug(\"Bokeh: BokehJS plotting callback run at\", now());\n      run_inline_js();\n    });\n  }\n}(window));"
     },
     "metadata": {},
     "output_type": "display_data"
    }
   ],
   "source": [
    "import pandas as pd\n",
    "import numpy as np\n",
    "from scipy.spatial.distance import pdist, squareform\n",
    "\n",
    "from bokeh.io import output_notebook\n",
    "from bokeh.plotting import figure, show, ColumnDataSource\n",
    "from bokeh.transform import LinearColorMapper\n",
    "from bokeh.models import ColorBar\n",
    "import colorcet as cc\n",
    "\n",
    "output_notebook()"
   ]
  },
  {
   "cell_type": "markdown",
   "metadata": {
    "slideshow": {
     "slide_type": "subslide"
    }
   },
   "source": [
    "### 6.1 Theory"
   ]
  },
  {
   "cell_type": "markdown",
   "metadata": {
    "slideshow": {
     "slide_type": "fragment"
    }
   },
   "source": [
    "The main idea of IDW is simple. Estimate the value of any variable at an unobserved location as the mean value from the closest locations you have values for. To do so, weight the mean by the *inverse* of their distance. The closer, the more weight."
   ]
  },
  {
   "cell_type": "markdown",
   "metadata": {
    "slideshow": {
     "slide_type": "fragment"
    }
   },
   "source": [
    "You have an observation $Z(s_1)$ for location $s_1$ and want to calculate the weight $\\lambda(s_0, s_1)$ for an unobserved location $s_0$:\n",
    "\n",
    "$$ \\lambda(s_0, s_1) = \\frac{1}{d(s_0, s_1)}$$\n",
    "\n",
    "where $d$ is the distance as calculated in the last lecture."
   ]
  },
  {
   "cell_type": "markdown",
   "metadata": {
    "slideshow": {
     "slide_type": "subslide"
    }
   },
   "source": [
    "The estimation at the unobserved location $s_0$ is then:\n",
    "\n",
    "$$ Z^*(s_0) = \\sum_{i = 1}^N \\lambda(s_0, s_i) * Z(s_i)$$"
   ]
  },
  {
   "cell_type": "markdown",
   "metadata": {
    "slideshow": {
     "slide_type": "fragment"
    }
   },
   "source": [
    "At the same time we want to obtain the actual observation values for known location. To achieve this, we can require:\n",
    "\n",
    "$$ Z^*(s_i) = Z(s_i) $$"
   ]
  },
  {
   "cell_type": "markdown",
   "metadata": {
    "slideshow": {
     "slide_type": "fragment"
    }
   },
   "source": [
    "which in turn yields the normalized weights $\\lambda*$ like:\n",
    "\n",
    "$$ \\lambda^*(s_i) = \\frac{\\lambda(s_i)}{\\sum_{j=1}^N \\lambda_j (s_j)} $$\n",
    "\n",
    "which combines to the IDW formula:"
   ]
  },
  {
   "cell_type": "markdown",
   "metadata": {
    "slideshow": {
     "slide_type": "subslide"
    }
   },
   "source": [
    "$$ Z^* (s_0) = \\frac{\\sum_{i=1}^N \\frac{Z(s_i)}{d(s_0, s_i)}} {\\sum_{i=1}^N \\frac{1}{d(s_0, s_i)}} $$"
   ]
  },
  {
   "cell_type": "markdown",
   "metadata": {
    "slideshow": {
     "slide_type": "fragment"
    }
   },
   "source": [
    "Which is usually seen as the special case $m=1$ of the generalized form:\n",
    "\n",
    "$$ Z^* (s_0) = \\frac{\\sum_{i=1}^N \\frac{Z(s_i)}{d^m(s_0, s_i)}} {\\sum_{i=1}^N \\frac{1}{d^m(s_0, s_i)}} $$"
   ]
  },
  {
   "cell_type": "markdown",
   "metadata": {
    "slideshow": {
     "slide_type": "fragment"
    }
   },
   "source": [
    "In geoscience the usage of $m = 2$ is also quite common, as result becomes smoother."
   ]
  },
  {
   "cell_type": "markdown",
   "metadata": {
    "slideshow": {
     "slide_type": "slide"
    }
   },
   "source": [
    "### 5.2 Implementation\n",
    "\n",
    "We will use the data examples from the last lecture."
   ]
  },
  {
   "cell_type": "code",
   "execution_count": 2,
   "metadata": {
    "slideshow": {
     "slide_type": "skip"
    }
   },
   "outputs": [],
   "source": [
    "coords = pd.read_csv('./data/sample_positions.txt', sep='\\s+', header=None)\n",
    "coords.columns = ['x', 'y']\n",
    "data = pd.read_csv('./data/sample_data.txt', sep='\\s+')\n",
    "sample = coords.copy()\n",
    "sample['z'] = data.loc[0, :].values"
   ]
  },
  {
   "cell_type": "code",
   "execution_count": 3,
   "metadata": {
    "slideshow": {
     "slide_type": "fragment"
    }
   },
   "outputs": [
    {
     "data": {
      "text/html": [
       "<div>\n",
       "<style scoped>\n",
       "    .dataframe tbody tr th:only-of-type {\n",
       "        vertical-align: middle;\n",
       "    }\n",
       "\n",
       "    .dataframe tbody tr th {\n",
       "        vertical-align: top;\n",
       "    }\n",
       "\n",
       "    .dataframe thead th {\n",
       "        text-align: right;\n",
       "    }\n",
       "</style>\n",
       "<table border=\"1\" class=\"dataframe\">\n",
       "  <thead>\n",
       "    <tr style=\"text-align: right;\">\n",
       "      <th></th>\n",
       "      <th>x</th>\n",
       "      <th>y</th>\n",
       "      <th>z</th>\n",
       "    </tr>\n",
       "  </thead>\n",
       "  <tbody>\n",
       "    <tr>\n",
       "      <th>0</th>\n",
       "      <td>22</td>\n",
       "      <td>78</td>\n",
       "      <td>-0.203508</td>\n",
       "    </tr>\n",
       "    <tr>\n",
       "      <th>1</th>\n",
       "      <td>3</td>\n",
       "      <td>73</td>\n",
       "      <td>-0.164411</td>\n",
       "    </tr>\n",
       "    <tr>\n",
       "      <th>2</th>\n",
       "      <td>12</td>\n",
       "      <td>85</td>\n",
       "      <td>-0.696673</td>\n",
       "    </tr>\n",
       "    <tr>\n",
       "      <th>3</th>\n",
       "      <td>9</td>\n",
       "      <td>69</td>\n",
       "      <td>-0.555673</td>\n",
       "    </tr>\n",
       "    <tr>\n",
       "      <th>4</th>\n",
       "      <td>78</td>\n",
       "      <td>43</td>\n",
       "      <td>1.286489</td>\n",
       "    </tr>\n",
       "  </tbody>\n",
       "</table>\n",
       "</div>"
      ],
      "text/plain": [
       "    x   y         z\n",
       "0  22  78 -0.203508\n",
       "1   3  73 -0.164411\n",
       "2  12  85 -0.696673\n",
       "3   9  69 -0.555673\n",
       "4  78  43  1.286489"
      ]
     },
     "execution_count": 3,
     "metadata": {},
     "output_type": "execute_result"
    }
   ],
   "source": [
    "sample.head()"
   ]
  },
  {
   "cell_type": "markdown",
   "metadata": {
    "slideshow": {
     "slide_type": "subslide"
    }
   },
   "source": [
    "We want an estimation for $s_0 = (44,56)$"
   ]
  },
  {
   "cell_type": "code",
   "execution_count": 4,
   "metadata": {
    "slideshow": {
     "slide_type": "fragment"
    }
   },
   "outputs": [
    {
     "name": "stdout",
     "output_type": "stream",
     "text": [
      "Z*(s0) =  0.08\n"
     ]
    }
   ],
   "source": [
    "s0 = [44, 56]\n",
    "\n",
    "\n",
    "norm_values = []\n",
    "weights = []\n",
    "\n",
    "for i in range(len(sample)):\n",
    "    d = np.sqrt( (s0[0] - sample.loc[i, 'x'])**2 + (s0[1] - sample.loc[i, 'y'])**2 )\n",
    "    norm_values.append(sample.loc[i, 'z'] / d)\n",
    "    weights.append(1. / d)\n",
    "    \n",
    "Z0 = sum(norm_values) / sum(weights) \n",
    "\n",
    "print('Z*(s0) = ', round(Z0, 2))"
   ]
  },
  {
   "cell_type": "markdown",
   "metadata": {
    "slideshow": {
     "slide_type": "slide"
    }
   },
   "source": [
    "### 5.3 Example"
   ]
  },
  {
   "cell_type": "markdown",
   "metadata": {
    "slideshow": {
     "slide_type": "fragment"
    }
   },
   "source": [
    "Now we have 30 samples from the same field and can create a mesh-grid from the coordinates. The implementation above can then be applied to each unobserved location to receive an interpolation of the whole field."
   ]
  },
  {
   "cell_type": "code",
   "execution_count": 5,
   "metadata": {
    "slideshow": {
     "slide_type": "skip"
    }
   },
   "outputs": [],
   "source": [
    "obs = figure(\n",
    "    title='Observations', width=700, height=700, toolbar_location=\"above\",\n",
    "    tooltips=[('value', '@z')], tools=['hover']\n",
    ")\n",
    "\n",
    "cmap = LinearColorMapper(palette='Viridis256', low=sample.z.min(), high=sample.z.max())\n",
    "source = ColumnDataSource(sample)\n",
    "\n",
    "obs.circle('x', 'y', source=source, size=12, line_color='gray', fill_color={'field':'z', 'transform':cmap})\n",
    "obs.add_layout(ColorBar(color_mapper=cmap, location=(0,0)), 'right')"
   ]
  },
  {
   "cell_type": "code",
   "execution_count": 6,
   "metadata": {
    "slideshow": {
     "slide_type": "subslide"
    }
   },
   "outputs": [
    {
     "data": {
      "text/html": [
       "\n",
       "\n",
       "\n",
       "\n",
       "\n",
       "\n",
       "  <div class=\"bk-root\" id=\"b612e386-4b61-4a65-8a95-2f7e63cdf89e\" data-root-id=\"1002\"></div>\n"
      ]
     },
     "metadata": {},
     "output_type": "display_data"
    },
    {
     "data": {
      "application/javascript": [
       "(function(root) {\n",
       "  function embed_document(root) {\n",
       "    \n",
       "  var docs_json = {\"ee52f69c-8931-46fe-8a94-55cb50420c76\":{\"roots\":{\"references\":[{\"attributes\":{\"below\":[{\"id\":\"1013\",\"type\":\"LinearAxis\"}],\"center\":[{\"id\":\"1017\",\"type\":\"Grid\"},{\"id\":\"1022\",\"type\":\"Grid\"}],\"left\":[{\"id\":\"1018\",\"type\":\"LinearAxis\"}],\"plot_height\":700,\"plot_width\":700,\"renderers\":[{\"id\":\"1031\",\"type\":\"GlyphRenderer\"}],\"right\":[{\"id\":\"1033\",\"type\":\"ColorBar\"}],\"title\":{\"id\":\"1003\",\"type\":\"Title\"},\"toolbar\":{\"id\":\"1024\",\"type\":\"Toolbar\"},\"toolbar_location\":\"above\",\"x_range\":{\"id\":\"1005\",\"type\":\"DataRange1d\"},\"x_scale\":{\"id\":\"1009\",\"type\":\"LinearScale\"},\"y_range\":{\"id\":\"1007\",\"type\":\"DataRange1d\"},\"y_scale\":{\"id\":\"1011\",\"type\":\"LinearScale\"}},\"id\":\"1002\",\"subtype\":\"Figure\",\"type\":\"Plot\"},{\"attributes\":{\"fill_color\":{\"field\":\"z\",\"transform\":{\"id\":\"1026\",\"type\":\"LinearColorMapper\"}},\"line_color\":{\"value\":\"gray\"},\"size\":{\"units\":\"screen\",\"value\":12},\"x\":{\"field\":\"x\"},\"y\":{\"field\":\"y\"}},\"id\":\"1029\",\"type\":\"Circle\"},{\"attributes\":{\"formatter\":{\"id\":\"1037\",\"type\":\"BasicTickFormatter\"},\"ticker\":{\"id\":\"1014\",\"type\":\"BasicTicker\"}},\"id\":\"1013\",\"type\":\"LinearAxis\"},{\"attributes\":{},\"id\":\"1014\",\"type\":\"BasicTicker\"},{\"attributes\":{},\"id\":\"1042\",\"type\":\"Selection\"},{\"attributes\":{},\"id\":\"1037\",\"type\":\"BasicTickFormatter\"},{\"attributes\":{\"text\":\"Observations\"},\"id\":\"1003\",\"type\":\"Title\"},{\"attributes\":{\"ticker\":{\"id\":\"1014\",\"type\":\"BasicTicker\"}},\"id\":\"1017\",\"type\":\"Grid\"},{\"attributes\":{\"formatter\":{\"id\":\"1035\",\"type\":\"BasicTickFormatter\"},\"ticker\":{\"id\":\"1019\",\"type\":\"BasicTicker\"}},\"id\":\"1018\",\"type\":\"LinearAxis\"},{\"attributes\":{\"high\":1.84064736801354,\"low\":-2.571167422183044,\"palette\":[\"#440154\",\"#440255\",\"#440357\",\"#450558\",\"#45065A\",\"#45085B\",\"#46095C\",\"#460B5E\",\"#460C5F\",\"#460E61\",\"#470F62\",\"#471163\",\"#471265\",\"#471466\",\"#471567\",\"#471669\",\"#47186A\",\"#48196B\",\"#481A6C\",\"#481C6E\",\"#481D6F\",\"#481E70\",\"#482071\",\"#482172\",\"#482273\",\"#482374\",\"#472575\",\"#472676\",\"#472777\",\"#472878\",\"#472A79\",\"#472B7A\",\"#472C7B\",\"#462D7C\",\"#462F7C\",\"#46307D\",\"#46317E\",\"#45327F\",\"#45347F\",\"#453580\",\"#453681\",\"#443781\",\"#443982\",\"#433A83\",\"#433B83\",\"#433C84\",\"#423D84\",\"#423E85\",\"#424085\",\"#414186\",\"#414286\",\"#404387\",\"#404487\",\"#3F4587\",\"#3F4788\",\"#3E4888\",\"#3E4989\",\"#3D4A89\",\"#3D4B89\",\"#3D4C89\",\"#3C4D8A\",\"#3C4E8A\",\"#3B508A\",\"#3B518A\",\"#3A528B\",\"#3A538B\",\"#39548B\",\"#39558B\",\"#38568B\",\"#38578C\",\"#37588C\",\"#37598C\",\"#365A8C\",\"#365B8C\",\"#355C8C\",\"#355D8C\",\"#345E8D\",\"#345F8D\",\"#33608D\",\"#33618D\",\"#32628D\",\"#32638D\",\"#31648D\",\"#31658D\",\"#31668D\",\"#30678D\",\"#30688D\",\"#2F698D\",\"#2F6A8D\",\"#2E6B8E\",\"#2E6C8E\",\"#2E6D8E\",\"#2D6E8E\",\"#2D6F8E\",\"#2C708E\",\"#2C718E\",\"#2C728E\",\"#2B738E\",\"#2B748E\",\"#2A758E\",\"#2A768E\",\"#2A778E\",\"#29788E\",\"#29798E\",\"#287A8E\",\"#287A8E\",\"#287B8E\",\"#277C8E\",\"#277D8E\",\"#277E8E\",\"#267F8E\",\"#26808E\",\"#26818E\",\"#25828E\",\"#25838D\",\"#24848D\",\"#24858D\",\"#24868D\",\"#23878D\",\"#23888D\",\"#23898D\",\"#22898D\",\"#228A8D\",\"#228B8D\",\"#218C8D\",\"#218D8C\",\"#218E8C\",\"#208F8C\",\"#20908C\",\"#20918C\",\"#1F928C\",\"#1F938B\",\"#1F948B\",\"#1F958B\",\"#1F968B\",\"#1E978A\",\"#1E988A\",\"#1E998A\",\"#1E998A\",\"#1E9A89\",\"#1E9B89\",\"#1E9C89\",\"#1E9D88\",\"#1E9E88\",\"#1E9F88\",\"#1EA087\",\"#1FA187\",\"#1FA286\",\"#1FA386\",\"#20A485\",\"#20A585\",\"#21A685\",\"#21A784\",\"#22A784\",\"#23A883\",\"#23A982\",\"#24AA82\",\"#25AB81\",\"#26AC81\",\"#27AD80\",\"#28AE7F\",\"#29AF7F\",\"#2AB07E\",\"#2BB17D\",\"#2CB17D\",\"#2EB27C\",\"#2FB37B\",\"#30B47A\",\"#32B57A\",\"#33B679\",\"#35B778\",\"#36B877\",\"#38B976\",\"#39B976\",\"#3BBA75\",\"#3DBB74\",\"#3EBC73\",\"#40BD72\",\"#42BE71\",\"#44BE70\",\"#45BF6F\",\"#47C06E\",\"#49C16D\",\"#4BC26C\",\"#4DC26B\",\"#4FC369\",\"#51C468\",\"#53C567\",\"#55C666\",\"#57C665\",\"#59C764\",\"#5BC862\",\"#5EC961\",\"#60C960\",\"#62CA5F\",\"#64CB5D\",\"#67CC5C\",\"#69CC5B\",\"#6BCD59\",\"#6DCE58\",\"#70CE56\",\"#72CF55\",\"#74D054\",\"#77D052\",\"#79D151\",\"#7CD24F\",\"#7ED24E\",\"#81D34C\",\"#83D34B\",\"#86D449\",\"#88D547\",\"#8BD546\",\"#8DD644\",\"#90D643\",\"#92D741\",\"#95D73F\",\"#97D83E\",\"#9AD83C\",\"#9DD93A\",\"#9FD938\",\"#A2DA37\",\"#A5DA35\",\"#A7DB33\",\"#AADB32\",\"#ADDC30\",\"#AFDC2E\",\"#B2DD2C\",\"#B5DD2B\",\"#B7DD29\",\"#BADE27\",\"#BDDE26\",\"#BFDF24\",\"#C2DF22\",\"#C5DF21\",\"#C7E01F\",\"#CAE01E\",\"#CDE01D\",\"#CFE11C\",\"#D2E11B\",\"#D4E11A\",\"#D7E219\",\"#DAE218\",\"#DCE218\",\"#DFE318\",\"#E1E318\",\"#E4E318\",\"#E7E419\",\"#E9E419\",\"#ECE41A\",\"#EEE51B\",\"#F1E51C\",\"#F3E51E\",\"#F6E61F\",\"#F8E621\",\"#FAE622\",\"#FDE724\"]},\"id\":\"1026\",\"type\":\"LinearColorMapper\"},{\"attributes\":{\"color_mapper\":{\"id\":\"1026\",\"type\":\"LinearColorMapper\"},\"formatter\":{\"id\":\"1039\",\"type\":\"BasicTickFormatter\"},\"location\":[0,0],\"ticker\":{\"id\":\"1040\",\"type\":\"BasicTicker\"}},\"id\":\"1033\",\"type\":\"ColorBar\"},{\"attributes\":{},\"id\":\"1019\",\"type\":\"BasicTicker\"},{\"attributes\":{},\"id\":\"1040\",\"type\":\"BasicTicker\"},{\"attributes\":{\"fill_alpha\":{\"value\":0.1},\"fill_color\":{\"value\":\"#1f77b4\"},\"line_alpha\":{\"value\":0.1},\"line_color\":{\"value\":\"#1f77b4\"},\"size\":{\"units\":\"screen\",\"value\":12},\"x\":{\"field\":\"x\"},\"y\":{\"field\":\"y\"}},\"id\":\"1030\",\"type\":\"Circle\"},{\"attributes\":{},\"id\":\"1041\",\"type\":\"UnionRenderers\"},{\"attributes\":{\"dimension\":1,\"ticker\":{\"id\":\"1019\",\"type\":\"BasicTicker\"}},\"id\":\"1022\",\"type\":\"Grid\"},{\"attributes\":{\"data_source\":{\"id\":\"1027\",\"type\":\"ColumnDataSource\"},\"glyph\":{\"id\":\"1029\",\"type\":\"Circle\"},\"hover_glyph\":null,\"muted_glyph\":null,\"nonselection_glyph\":{\"id\":\"1030\",\"type\":\"Circle\"},\"selection_glyph\":null,\"view\":{\"id\":\"1032\",\"type\":\"CDSView\"}},\"id\":\"1031\",\"type\":\"GlyphRenderer\"},{\"attributes\":{},\"id\":\"1039\",\"type\":\"BasicTickFormatter\"},{\"attributes\":{\"active_drag\":\"auto\",\"active_inspect\":\"auto\",\"active_multi\":null,\"active_scroll\":\"auto\",\"active_tap\":\"auto\",\"tools\":[{\"id\":\"1023\",\"type\":\"HoverTool\"}]},\"id\":\"1024\",\"type\":\"Toolbar\"},{\"attributes\":{},\"id\":\"1035\",\"type\":\"BasicTickFormatter\"},{\"attributes\":{\"source\":{\"id\":\"1027\",\"type\":\"ColumnDataSource\"}},\"id\":\"1032\",\"type\":\"CDSView\"},{\"attributes\":{\"callback\":null,\"tooltips\":[[\"value\",\"@z\"]]},\"id\":\"1023\",\"type\":\"HoverTool\"},{\"attributes\":{\"callback\":null,\"data\":{\"index\":[0,1,2,3,4,5,6,7,8,9,10,11,12,13,14,15,16,17,18,19,20,21,22,23,24,25,26,27,28,29],\"x\":[22,3,12,9,78,41,35,38,99,43,52,49,83,85,65,1,11,14,55,21,92,71,76,17,62,7,13,10,14,23],\"y\":[78,73,85,69,43,6,60,18,87,50,83,3,75,45,68,39,71,87,97,22,17,30,31,71,45,97,28,40,83,73],\"z\":{\"__ndarray__\":\"yneAn5AMyr+SARWJagvFvxPIlMQlS+a/QBSCTBPI4b9JxGhcdZX0PwtWdk2IUO2/IEfKhQFR4j/qRdMT0Tbtv86ItjnAkQTAHWNJ0dFx6D9AnUV9tjfQv/gmqOse/ea/QpZCZGZw8L/gWAyp84XjP/UXQiuk9eY/q+noUhNs5r/u7x4/3tTZv+ZaZAlFMey/VpLsCFtU0r8xX7ywcSjtvy/cXIVLluG//ytpLee40j/Eex7hYWPpP0spcolSxcu/12KRp0pz/T+wRyNLI6fiv2CH/M6g1oQ/d33INR5W3r/EPkmwuTPVv4OwF7pej82/\",\"dtype\":\"float64\",\"shape\":[30]}},\"selected\":{\"id\":\"1042\",\"type\":\"Selection\"},\"selection_policy\":{\"id\":\"1041\",\"type\":\"UnionRenderers\"}},\"id\":\"1027\",\"type\":\"ColumnDataSource\"},{\"attributes\":{\"callback\":null},\"id\":\"1005\",\"type\":\"DataRange1d\"},{\"attributes\":{\"callback\":null},\"id\":\"1007\",\"type\":\"DataRange1d\"},{\"attributes\":{},\"id\":\"1011\",\"type\":\"LinearScale\"},{\"attributes\":{},\"id\":\"1009\",\"type\":\"LinearScale\"}],\"root_ids\":[\"1002\"]},\"title\":\"Bokeh Application\",\"version\":\"1.4.0\"}};\n",
       "  var render_items = [{\"docid\":\"ee52f69c-8931-46fe-8a94-55cb50420c76\",\"roots\":{\"1002\":\"b612e386-4b61-4a65-8a95-2f7e63cdf89e\"}}];\n",
       "  root.Bokeh.embed.embed_items_notebook(docs_json, render_items);\n",
       "\n",
       "  }\n",
       "  if (root.Bokeh !== undefined) {\n",
       "    embed_document(root);\n",
       "  } else {\n",
       "    var attempts = 0;\n",
       "    var timer = setInterval(function(root) {\n",
       "      if (root.Bokeh !== undefined) {\n",
       "        clearInterval(timer);\n",
       "        embed_document(root);\n",
       "      } else {\n",
       "        attempts++;\n",
       "        if (attempts > 100) {\n",
       "          clearInterval(timer);\n",
       "          console.log(\"Bokeh: ERROR: Unable to run BokehJS code because BokehJS library is missing\");\n",
       "        }\n",
       "      }\n",
       "    }, 10, root)\n",
       "  }\n",
       "})(window);"
      ],
      "application/vnd.bokehjs_exec.v0+json": ""
     },
     "metadata": {
      "application/vnd.bokehjs_exec.v0+json": {
       "id": "1002"
      }
     },
     "output_type": "display_data"
    }
   ],
   "source": [
    "show(obs)"
   ]
  },
  {
   "cell_type": "markdown",
   "metadata": {
    "slideshow": {
     "slide_type": "subslide"
    }
   },
   "source": [
    "Just to keep the processing time small, we will create a 5x5 raster."
   ]
  },
  {
   "cell_type": "code",
   "execution_count": 7,
   "metadata": {
    "slideshow": {
     "slide_type": "fragment"
    }
   },
   "outputs": [
    {
     "name": "stderr",
     "output_type": "stream",
     "text": [
      "D:\\Anaconda\\envs\\py37\\lib\\site-packages\\ipykernel_launcher.py:18: RuntimeWarning: divide by zero encountered in double_scalars\n",
      "D:\\Anaconda\\envs\\py37\\lib\\site-packages\\ipykernel_launcher.py:19: RuntimeWarning: divide by zero encountered in double_scalars\n",
      "D:\\Anaconda\\envs\\py37\\lib\\site-packages\\ipykernel_launcher.py:22: RuntimeWarning: invalid value encountered in double_scalars\n"
     ]
    }
   ],
   "source": [
    "size = 2.5\n",
    "m = 2\n",
    "ylim = (0, 100)\n",
    "xlim = (0, 100)\n",
    "idw = []\n",
    "\n",
    "# build a 'mesh'-grid\n",
    "grid = [[(i,j) for i in np.arange(xlim[0], xlim[1] + size, size)] for j in np.arange(ylim[0], ylim[1] + size, size)]\n",
    "\n",
    "for row in grid:\n",
    "    idw_row = []\n",
    "    for cell in row:\n",
    "        norm_values = []\n",
    "        weights = []\n",
    "        for i in range(len(sample)):\n",
    "            # calculate distance from cell to all samples\n",
    "            d = np.sqrt((cell[0] - sample.loc[i, 'x'])**2 + (cell[1] - sample.loc[i, 'y'])**2)\n",
    "            norm_values.append(sample.loc[i, 'z'] / d**m)\n",
    "            weights.append(1. / d**m)\n",
    "        \n",
    "        # append result\n",
    "        z = sum(norm_values) / sum(weights)\n",
    "        idw_row.append(z if not np.isnan(z) else None) # plotting workaround\n",
    "    \n",
    "    # append row\n",
    "    idw.append(idw_row)"
   ]
  },
  {
   "cell_type": "code",
   "execution_count": 8,
   "metadata": {
    "slideshow": {
     "slide_type": "skip"
    }
   },
   "outputs": [
    {
     "data": {
      "text/html": [
       "<div style=\"display: table;\"><div style=\"display: table-row;\"><div style=\"display: table-cell;\"><b title=\"bokeh.models.renderers.GlyphRenderer\">GlyphRenderer</b>(</div><div style=\"display: table-cell;\">id&nbsp;=&nbsp;'1127', <span id=\"1130\" style=\"cursor: pointer;\">&hellip;)</span></div></div><div class=\"1129\" style=\"display: none;\"><div style=\"display: table-cell;\"></div><div style=\"display: table-cell;\">data_source&nbsp;=&nbsp;ColumnDataSource(id='1027', ...),</div></div><div class=\"1129\" style=\"display: none;\"><div style=\"display: table-cell;\"></div><div style=\"display: table-cell;\">glyph&nbsp;=&nbsp;Circle(id='1125', ...),</div></div><div class=\"1129\" style=\"display: none;\"><div style=\"display: table-cell;\"></div><div style=\"display: table-cell;\">hover_glyph&nbsp;=&nbsp;None,</div></div><div class=\"1129\" style=\"display: none;\"><div style=\"display: table-cell;\"></div><div style=\"display: table-cell;\">js_event_callbacks&nbsp;=&nbsp;{},</div></div><div class=\"1129\" style=\"display: none;\"><div style=\"display: table-cell;\"></div><div style=\"display: table-cell;\">js_property_callbacks&nbsp;=&nbsp;{},</div></div><div class=\"1129\" style=\"display: none;\"><div style=\"display: table-cell;\"></div><div style=\"display: table-cell;\">level&nbsp;=&nbsp;'glyph',</div></div><div class=\"1129\" style=\"display: none;\"><div style=\"display: table-cell;\"></div><div style=\"display: table-cell;\">muted&nbsp;=&nbsp;False,</div></div><div class=\"1129\" style=\"display: none;\"><div style=\"display: table-cell;\"></div><div style=\"display: table-cell;\">muted_glyph&nbsp;=&nbsp;None,</div></div><div class=\"1129\" style=\"display: none;\"><div style=\"display: table-cell;\"></div><div style=\"display: table-cell;\">name&nbsp;=&nbsp;None,</div></div><div class=\"1129\" style=\"display: none;\"><div style=\"display: table-cell;\"></div><div style=\"display: table-cell;\">nonselection_glyph&nbsp;=&nbsp;Circle(id='1126', ...),</div></div><div class=\"1129\" style=\"display: none;\"><div style=\"display: table-cell;\"></div><div style=\"display: table-cell;\">selection_glyph&nbsp;=&nbsp;None,</div></div><div class=\"1129\" style=\"display: none;\"><div style=\"display: table-cell;\"></div><div style=\"display: table-cell;\">subscribed_events&nbsp;=&nbsp;[],</div></div><div class=\"1129\" style=\"display: none;\"><div style=\"display: table-cell;\"></div><div style=\"display: table-cell;\">tags&nbsp;=&nbsp;[],</div></div><div class=\"1129\" style=\"display: none;\"><div style=\"display: table-cell;\"></div><div style=\"display: table-cell;\">view&nbsp;=&nbsp;CDSView(id='1128', ...),</div></div><div class=\"1129\" style=\"display: none;\"><div style=\"display: table-cell;\"></div><div style=\"display: table-cell;\">visible&nbsp;=&nbsp;True,</div></div><div class=\"1129\" style=\"display: none;\"><div style=\"display: table-cell;\"></div><div style=\"display: table-cell;\">x_range_name&nbsp;=&nbsp;'default',</div></div><div class=\"1129\" style=\"display: none;\"><div style=\"display: table-cell;\"></div><div style=\"display: table-cell;\">y_range_name&nbsp;=&nbsp;'default')</div></div></div>\n",
       "<script>\n",
       "(function() {\n",
       "  var expanded = false;\n",
       "  var ellipsis = document.getElementById(\"1130\");\n",
       "  ellipsis.addEventListener(\"click\", function() {\n",
       "    var rows = document.getElementsByClassName(\"1129\");\n",
       "    for (var i = 0; i < rows.length; i++) {\n",
       "      var el = rows[i];\n",
       "      el.style.display = expanded ? \"none\" : \"table-row\";\n",
       "    }\n",
       "    ellipsis.innerHTML = expanded ? \"&hellip;)\" : \"&lsaquo;&lsaquo;&lsaquo;\";\n",
       "    expanded = !expanded;\n",
       "  });\n",
       "})();\n",
       "</script>\n"
      ],
      "text/plain": [
       "GlyphRenderer(id='1127', ...)"
      ]
     },
     "execution_count": 8,
     "metadata": {},
     "output_type": "execute_result"
    }
   ],
   "source": [
    "result = figure(\n",
    "    title='IDW interpolation', x_range=(0,100), y_range=(0,100), tools=[]\n",
    ")\n",
    "\n",
    "result.image([idw], x=0, y=0, dw=100, dh=100, color_mapper=cmap)\n",
    "result.circle('x', 'y', source=source, size=12, line_color='white', fill_color={'field':'z', 'transform':cmap})"
   ]
  },
  {
   "cell_type": "code",
   "execution_count": 9,
   "metadata": {
    "slideshow": {
     "slide_type": "subslide"
    }
   },
   "outputs": [
    {
     "data": {
      "text/html": [
       "\n",
       "\n",
       "\n",
       "\n",
       "\n",
       "\n",
       "  <div class=\"bk-root\" id=\"ba9bd8fc-7280-4764-99bd-425f349a01fe\" data-root-id=\"1097\"></div>\n"
      ]
     },
     "metadata": {},
     "output_type": "display_data"
    },
    {
     "data": {
      "application/javascript": [
       "(function(root) {\n",
       "  function embed_document(root) {\n",
       "    \n",
       "  var docs_json = {\"571917d0-fd32-4f7e-a2a7-bafcbd2b2ebf\":{\"roots\":{\"references\":[{\"attributes\":{\"below\":[{\"id\":\"1108\",\"type\":\"LinearAxis\"}],\"center\":[{\"id\":\"1112\",\"type\":\"Grid\"},{\"id\":\"1117\",\"type\":\"Grid\"}],\"left\":[{\"id\":\"1113\",\"type\":\"LinearAxis\"}],\"renderers\":[{\"id\":\"1122\",\"type\":\"GlyphRenderer\"},{\"id\":\"1127\",\"type\":\"GlyphRenderer\"}],\"title\":{\"id\":\"1098\",\"type\":\"Title\"},\"toolbar\":{\"id\":\"1118\",\"type\":\"Toolbar\"},\"x_range\":{\"id\":\"1100\",\"type\":\"Range1d\"},\"x_scale\":{\"id\":\"1104\",\"type\":\"LinearScale\"},\"y_range\":{\"id\":\"1102\",\"type\":\"Range1d\"},\"y_scale\":{\"id\":\"1106\",\"type\":\"LinearScale\"}},\"id\":\"1097\",\"subtype\":\"Figure\",\"type\":\"Plot\"},{\"attributes\":{\"data_source\":{\"id\":\"1027\",\"type\":\"ColumnDataSource\"},\"glyph\":{\"id\":\"1125\",\"type\":\"Circle\"},\"hover_glyph\":null,\"muted_glyph\":null,\"nonselection_glyph\":{\"id\":\"1126\",\"type\":\"Circle\"},\"selection_glyph\":null,\"view\":{\"id\":\"1128\",\"type\":\"CDSView\"}},\"id\":\"1127\",\"type\":\"GlyphRenderer\"},{\"attributes\":{\"callback\":null,\"end\":100},\"id\":\"1102\",\"type\":\"Range1d\"},{\"attributes\":{\"active_drag\":\"auto\",\"active_inspect\":\"auto\",\"active_multi\":null,\"active_scroll\":\"auto\",\"active_tap\":\"auto\"},\"id\":\"1118\",\"type\":\"Toolbar\"},{\"attributes\":{},\"id\":\"1141\",\"type\":\"BasicTickFormatter\"},{\"attributes\":{\"color_mapper\":{\"id\":\"1026\",\"type\":\"LinearColorMapper\"},\"dh\":{\"units\":\"data\",\"value\":100},\"dw\":{\"units\":\"data\",\"value\":100},\"image\":{\"field\":\"image\"},\"x\":{\"value\":0},\"y\":{\"value\":0}},\"id\":\"1121\",\"type\":\"Image\"},{\"attributes\":{\"callback\":null,\"data\":{\"image\":[[[-0.35986907431986515,-0.36800578029390413,-0.3774409309676049,-0.38828896985416234,-0.40059899359702583,-0.4143634128684047,-0.4295743149999072,-0.44633490912911095,-0.4650015746698971,-0.48629470751916937,-0.5113034518380702,-0.541334479454763,-0.5775628666564714,-0.6202923285302228,-0.667247719700126,-0.7103843637763548,-0.7339887930849301,-0.7252379900075586,-0.7010061380618864,-0.6940082792300757,-0.6862255333136467,-0.6453181243154019,-0.5751389305854222,-0.49268287025949364,-0.4103188405892115,-0.33460998638223055,-0.26858553937694185,-0.21343823414518495,-0.16944581224813188,-0.13642012255454739,-0.11388956068254362,-0.10111592209529503,-0.09700031819776385,-0.09993792151735784,-0.10772396740133866,-0.11765373320531972,-0.12691774193451033,-0.13321555252444753,-0.13529699138141268,-0.13312069297945509,-0.12757051105201456],[-0.3620177837416836,-0.3705104311308785,-0.38058525602785337,-0.3924092479819175,-0.4060224691594183,-0.4213155177771493,-0.4380870400091963,-0.4562188410705987,-0.47594701024807334,-0.49811620552629576,-0.5242611211911364,-0.5564490231067661,-0.5969808547864276,-0.6479591249554137,-0.7097814806434225,-0.7755335027335978,-0.8194912107137213,-0.8005346608619784,-0.7336861944122827,-0.7136947406160888,-0.7137219076285081,-0.6679705710486357,-0.5859190549940836,-0.49163688098072145,-0.3995629180861719,-0.31649981241503433,-0.245308533859813,-0.18698751753806847,-0.14168461724857487,-0.10916762231682378,-0.08900128367026452,-0.08052153471291308,-0.08263581574338667,-0.09349576005613888,-0.11019232775630042,-0.1287733882935565,-0.14489211514451486,-0.1550196217859832,-0.1575579148348576,-0.153080546372735,-0.14361341408151937],[-0.36346762307342123,-0.3721812259873654,-0.3828664274213114,-0.395815676686129,-0.411108619474122,-0.4285057004683902,-0.4474575957837372,-0.4673488091449908,-0.4879979380163953,-0.5102079737117697,-0.5359795632181942,-0.5681726327044373,-0.6099475473606637,-0.6646854398582307,-0.7360689965470198,-0.8230615613023454,-0.8967648527617057,-0.8801791158413793,-0.7672902827034128,-0.7107445918505191,-0.7002376571354102,-0.6512813448954891,-0.5659905571572174,-0.4676653967607753,-0.3714289927670255,-0.2847574454988174,-0.21095173023704,-0.15127618607832652,-0.10607029934116519,-0.07530843505395757,-0.058836451711016265,-0.056345470892913134,-0.06705622856394301,-0.08909489378133793,-0.11872828703706632,-0.15004436857010778,-0.17595622720827736,-0.1906946749252253,-0.1922401346741223,-0.18264249527165372,-0.16617191557853858],[-0.36402802712881377,-0.37269048598178506,-0.38384020279093195,-0.3980444274991702,-0.4155727955498084,-0.43610496931842263,-0.4585533684671056,-0.48131316995698337,-0.5031646038495136,-0.5245125941605158,-0.5479828582198657,-0.5775720803509532,-0.6168822693080924,-0.6682302351992778,-0.7338958851538387,-0.8146437086152206,-0.8849399962599833,-0.8694188653068242,-0.7683969125979213,-0.6930270101098114,-0.6537371225624197,-0.5981339755021201,-0.5157189967228631,-0.4203189945120808,-0.32530710644804295,-0.23879465505554306,-0.16495915075516848,-0.10573322846484931,-0.061951171127669534,-0.03404809708880216,-0.02243405284972051,-0.02754343668570734,-0.04943430702862309,-0.08674007951090143,-0.1349909920448345,-0.18526322848129936,-0.22545191847247004,-0.24550274152401827,-0.24300762309763776,-0.22342892049452412,-0.1953134619773252],[-0.3634956888774807,-0.37158948991685725,-0.3827842409465097,-0.3981884168790518,-0.4186207063896051,-0.44396829634990315,-0.47248506095851817,-0.5007311124530441,-0.525084222740497,-0.5446560911207051,-0.5632043744710014,-0.5874048667308589,-0.6222886105491493,-0.6675484457041685,-0.7178042293428285,-0.7662266979030623,-0.7986933056262993,-0.7830338782658236,-0.7195927947414992,-0.6516056130876068,-0.5932748207778155,-0.5277930898261375,-0.4465887287553122,-0.35548281013767963,-0.2640900290916693,-0.1800017566640452,-0.10792520305725296,-0.050448145008561374,-0.008988339498736458,0.015416933065235557,0.02155163588784263,0.007796550730088381,-0.027497211081407763,-0.08450341740914818,-0.15870382932765645,-0.2369547779563981,-0.29809378486213695,-0.3237631558044977,-0.3116180000900219,-0.274602916469883,-0.22884303359530442],[-0.3617312988093858,-0.3683458559048611,-0.37861932675234095,-0.3946002675509689,-0.4183769854597673,-0.45092628014141806,-0.49019465318894195,-0.5296217751492734,-0.5600931189644608,-0.5768962079707233,-0.5859141867833274,-0.600477361741936,-0.6311499559316096,-0.6777851073364274,-0.7271715223369859,-0.7574383456698673,-0.7544554110502261,-0.7209392403452308,-0.6640839515691995,-0.596737206904047,-0.5271384599031577,-0.45234457854002524,-0.3691068334153563,-0.2802541574485109,-0.19213695760358074,-0.11098431590188354,-0.04136432525084041,0.013827944660157718,0.0527497404926017,0.07379696704991574,0.07482962526795821,0.05267551946292324,0.003290970272834862,-0.07650243597122426,-0.18385159799522474,-0.3008646776267917,-0.39147369450551417,-0.4221973352224078,-0.39224340247079076,-0.32909811104599285,-0.26037939018146594],[-0.35882843109674434,-0.36251245364578283,-0.3699585524859688,-0.38458631244337943,-0.4109365399362289,-0.4531709559295411,-0.5109115539742648,-0.5732360013297855,-0.6186336072310823,-0.6314258963096168,-0.6215432126945215,-0.6173757181764626,-0.6419106074774583,-0.7009338906473856,-0.7790870988984014,-0.830182391180482,-0.8027284187270283,-0.7202790868807245,-0.6301191601012042,-0.5438513264899839,-0.4601727212086046,-0.3756762996478188,-0.28830266534295235,-0.1995042775405638,-0.11340030671226872,-0.03473600900051367,0.032513882389782284,0.08556062639703348,0.12246702896056313,0.14128814478678364,0.13900994817494408,0.11075937829951457,0.049709733208114684,-0.051333683201507566,-0.19327395472565584,-0.3548470736930395,-0.4807048763335494,-0.5152595209898546,-0.4618113638907417,-0.36932233152611493,-0.2782528747380299],[-0.35541127139224943,-0.35414096417988306,-0.3555234616238806,-0.3644314689577125,-0.38920158171523156,-0.4410741130575436,-0.5274307087401542,-0.634393171411779,-0.7136754667724631,-0.7201066357088449,-0.6738977154008555,-0.6352807365366038,-0.6445171322895124,-0.7129048675903863,-0.8244081780555873,-0.9070018560411286,-0.8649034610769764,-0.7347029524062106,-0.603216262182408,-0.4910811659720661,-0.3915144376441884,-0.2974437069348501,-0.2055040182386492,-0.11583457879365149,-0.030971230840084425,0.0456115560709631,0.11069687258252195,0.1619635795350325,0.19788053167977082,0.2166349745416694,0.2144891200254723,0.18481974447726618,0.1184249923710694,0.0051481459332164085,-0.1592381186497037,-0.3526065324669465,-0.505650683840649,-0.5448134003079803,-0.47753107810171036,-0.3694036680042439,-0.2684641209212653],[-0.3530534658221676,-0.34453336211947927,-0.3352996469132289,-0.3306323147677012,-0.3427959757698036,-0.39492280139766156,-0.5148611163318842,-0.6957045054477526,-0.8377077002201724,-0.831520639956716,-0.7296703201595367,-0.6453419537706958,-0.628304149425189,-0.6834371275846117,-0.7870409458705238,-0.8627463797939467,-0.8218089718464072,-0.6911686155880061,-0.5494159154385103,-0.4249688606084574,-0.31570156324195586,-0.21540119123936102,-0.1205639416719825,-0.030714822145155384,0.05252476421486462,0.12656751379351358,0.18891589425149793,0.23806656431955156,0.2738097620422055,0.2955818460676222,0.2989448652737052,0.27452157427940205,0.2112501306116328,0.09958181871451777,-0.06318648967705524,-0.2550025790698956,-0.40995800232458596,-0.4582952479078314,-0.40553188832714043,-0.31206767733989704,-0.22318049197891135],[-0.3546960269265109,-0.337233517821132,-0.31269536883388177,-0.28385532998755836,-0.2632587301981212,-0.2873588190512251,-0.42011193394609797,-0.6771398040577065,-0.8862118318595087,-0.871210572224521,-0.7374389575425047,-0.6291648725247267,-0.5894625375265893,-0.6136613342140318,-0.6742223856905475,-0.7146806208879946,-0.6804780344911291,-0.5795664806628485,-0.4567119518437673,-0.338134198041801,-0.22909278233714359,-0.12800131646294052,-0.03333676897344436,0.05475175898083837,0.13469069358111513,0.20421792400392225,0.261279527285056,0.3054553645484008,0.33981440148513475,0.3686882395896112,0.38669841942248906,0.37599204937205183,0.3221892212277269,0.22162040007698453,0.07911530979421197,-0.08376462349966568,-0.21901149174017212,-0.27853690778935963,-0.26176916626783436,-0.20693002874703198,-0.14795889723640296],[-0.3647793616820737,-0.33867634000595015,-0.2969975602140737,-0.23642118414956395,-0.16218565257560266,-0.11965411100602866,-0.219808050101541,-0.4923571619007057,-0.7194244262196791,-0.7445576868669634,-0.6586478723492595,-0.5736116675953046,-0.5293035196356412,-0.5257172241002698,-0.5435594769116887,-0.5497783097162074,-0.5153575444868783,-0.43885428028234774,-0.3397091324512033,-0.23520597313596694,-0.13306959712499628,-0.03561004703866142,0.05601780615415251,0.14006573752588838,0.21406467580330096,0.275275721014354,0.3212629288816995,0.3518716953311111,0.3764604556972159,0.4181137153051925,0.4723735023549985,0.4867680989963142,0.4406705263853428,0.34902239728847445,0.2285130036390617,0.09809820668589732,-0.013719076205687237,-0.08015033115434125,-0.09730992051047668,-0.08321160778555076,-0.05846039258449233],[-0.3887573231136069,-0.35731104120406165,-0.3029140932455715,-0.21729471502300274,-0.09727637335328415,0.0018835741918309997,-0.0679806859747426,-0.2999057298708848,-0.4932386136158804,-0.5587277719203666,-0.5372318327807126,-0.4909697445690423,-0.45386046153275794,-0.4337994290760701,-0.42284744116191386,-0.40470885764173026,-0.36480805519404425,-0.29989564115528555,-0.21711821801493736,-0.12566161427874867,-0.03184224448861646,0.060476706084097054,0.14793547501939594,0.22660280639482322,0.29211810162712776,0.3402735103405035,0.3669028514453221,0.3681721902008656,0.3554176693194131,0.4130610844533576,0.5700266809424755,0.6143300075023601,0.5544261816076524,0.4603653131820261,0.3551905472564541,0.24934349689977064,0.15598008088087117,0.08802727577758387,0.049399419654809984,0.033438132653031465,0.029687931662543264],[-0.43200783266605547,-0.40038487346023116,-0.34224555235947807,-0.25468479716041403,-0.13902660254052848,-0.052399223282396885,-0.10271849767030994,-0.24742427628338665,-0.3693434204623472,-0.42616439826041697,-0.42896529723641785,-0.40433989648874596,-0.37295500205037246,-0.34358050666871903,-0.3151222683881963,-0.28099468300777025,-0.23451962128448695,-0.17325789671100145,-0.09933329923467125,-0.01670040441908142,0.07088306491681874,0.15966102420988645,0.24467730511614932,0.3192434788409247,0.3759128067458075,0.40828708185612056,0.41121059485103567,0.37768639396385817,0.30858954835319014,0.3689056254913971,0.7277233408592175,0.7385866236499369,0.6374582692843049,0.5409725204642822,0.4502033189261981,0.36293222030320654,0.2830052781331385,0.21633884660784186,0.16619294492600103,0.13120074351225836,0.10705215277016461],[-0.49855936893815117,-0.47019297910548863,-0.4107210448091044,-0.3373960371107186,-0.2608507858835894,-0.20627951296993965,-0.2158270294723918,-0.2706005935185151,-0.3233398882471582,-0.3501498733132352,-0.34862282369832964,-0.32693228510592254,-0.2946762280594063,-0.2577805795702145,-0.21758332701732414,-0.17239169562420725,-0.11988378126623224,-0.05884862603390012,0.010688907879582979,0.08826291110662095,0.17304352440843737,0.2625359205736708,0.35072284320382224,0.42729272899559934,0.4797385250812451,0.498658353565884,0.4827047239079408,0.43929755149515565,0.3985224541197097,0.49058753735454347,0.7207364460284358,0.7351890288049203,0.664207425061604,0.5929771346765665,0.5211383859635269,0.4482640767790765,0.37729105214356545,0.31191280574176505,0.2551913418715361,0.20823455912222968,0.17009759125676022],[-0.5873077588369062,-0.562461991463519,-0.4862664056525395,-0.41885509053953435,-0.37724273206302994,-0.33735299525911044,-0.3091051706644484,-0.30404747440613766,-0.30808279684541756,-0.30559570494203436,-0.28981452390265083,-0.2610380467845306,-0.2225102614058621,-0.17731449846005815,-0.1272004898448626,-0.07289682039681449,-0.014806334797110037,0.0470052939073559,0.11367270043472172,0.18799644536690135,0.27314379090549207,0.36960728621486805,0.4715112212997204,0.5639730231196771,0.6251463336292874,0.6376978028037779,0.6057707151890276,0.559245543822769,0.5418581934702765,0.5919590708462095,0.673426460746921,0.7057969510909553,0.6910972316135544,0.6456352881587519,0.5835071224372024,0.5167693678477308,0.44952681515860604,0.3836453557803934,0.3218590455237016,0.2665142634078016,0.21845374262557754],[-0.6722202147069403,-0.6534658591366043,-0.5400684473462375,-0.4634277982681135,-0.4501503870917251,-0.4181628699729335,-0.36633713216070146,-0.3269771602805239,-0.30002166529724084,-0.27469641738977774,-0.24368270750085808,-0.20429221240678036,-0.15658313174878416,-0.10168840306407742,-0.04118508747468367,0.022667072618660106,0.08688899051093457,0.14937921420392322,0.21194230913033857,0.2816829156617542,0.36825717553726867,0.4783819433229555,0.6096278845438307,0.7433241771484291,0.8403835131785994,0.8580347281589573,0.7968031946759444,0.7167320370719523,0.6798738204672256,0.7050993010141716,0.7678457145642126,0.8154216155701858,0.7972579117519367,0.7234310559426672,0.6424842816926566,0.5722234174367011,0.5052139548968525,0.43715254292674643,0.37036681472422256,0.30824765725100056,0.2526777078479732],[-0.6826281802471161,-0.6652490321467094,-0.5457062803959746,-0.47225884731521706,null,-0.44760605846215895,-0.38864337790914005,-0.3337571915542414,-0.28906245762756455,-0.247883420304873,-0.20397828896214967,-0.15382238030113138,-0.09592535729132752,-0.030039458471194182,0.042780874803792876,0.11906699571568331,0.19214986659530037,0.2552375098781551,0.3093989180461105,0.3683299524140122,0.4525446757058061,0.579580059175077,0.7565580130448151,0.9678573960362641,1.1499484730018081,1.1939493845852542,1.0681874410235426,0.8999550796783542,0.8123409241583834,0.8360218735581687,0.9522253800199287,1.058237452749595,0.9828454324745837,0.7989176413429334,0.674714107522748,0.6071104178555781,0.5442814815082974,0.4742282874621507,0.40247366125263734,0.33453363426041566,0.2731071049853525],[-0.6073314865767909,-0.5865410477860115,-0.5129440993758301,-0.46491884430751096,-0.4566003588406215,-0.4307861021006021,-0.3788039867125677,-0.3230302915443179,-0.27122143420450917,-0.2207555430223485,-0.16738309416157415,-0.10788067048500995,-0.04009164384352848,0.03750194647781958,0.12531218822410403,0.2198084974999156,0.3089590188622451,0.3747360825554754,0.4126963462103907,0.4476435506970202,0.5180922186434188,0.6555802090232815,0.8807769112832721,1.192759255791248,1.5101235504335992,1.6092674226145018,1.3787630087226586,1.0735016623632818,0.9111923608240179,0.9239843375606445,1.0887978281055333,1.2702541843320692,1.138541487582918,0.789340504985791,0.6456818076568482,0.6150025670520259,0.5650127957174712,0.49392226941539535,0.417757356381978,0.34518249581680877,0.27950868056234346],[-0.5206219662317371,-0.5056479110915931,-0.4694127282386296,-0.439532810904124,-0.42058068210078947,-0.39280246005292696,-0.349800103329062,-0.29968995209684707,-0.24749063604226035,-0.19274562408621124,-0.1330679439831845,-0.06610851601776596,0.010252426827042577,0.09869591008632245,0.20277675000007006,0.32274953808838314,0.44201756685981636,0.5188358017713269,0.52971382038083,0.5203232270541739,0.5589733403963264,0.6876455607401335,0.9309317242601695,1.2961847971217773,1.6951934264969821,1.8305809441805647,1.539889653413182,1.1591664215930717,0.9488627304737425,0.9284536555305196,1.0481690366161711,1.1698419025282136,1.0345992682428538,0.7078215554525498,null,0.6105569977722121,0.5664135573342907,0.4934384546701023,0.41432501220473517,0.3391101318214178,0.2711977499611855],[-0.45456043477480584,-0.44496392589012823,-0.4252650350779984,-0.40381058240801987,-0.3820080327168525,-0.3541309210139834,-0.3171365819425631,-0.27270374773224765,-0.22244478369874582,-0.1659748861517723,-0.10187480454665007,-0.028842199535079112,0.05419030770977697,0.14978135805288592,0.26519067015808767,0.4105666110079778,0.5736418068120573,0.676582002820475,0.6514996935194856,0.5807424494120232,0.574198252777857,0.6716415609956746,0.88168567262566,1.1937763415082545,1.5157975189828004,1.618823175177225,1.402609738514247,1.1026140528408306,0.9160409509299381,0.8677059595095714,0.9079137174653584,0.9361322172116124,0.8460879880566746,0.6913620458935359,0.6236102946931906,0.5975032261265163,0.5438062448310403,0.4690830386741621,0.3899926433254419,0.3150715892737911,0.2474038741498685],[-0.4083000353778712,-0.40098125304323307,-0.3876250738126282,-0.370437177886963,-0.3496781508778925,-0.32354794356852196,-0.2904734504299015,-0.24992644531309896,-0.2013757036848241,-0.14361416927793763,-0.07524419960760416,0.0041426892784498836,0.09310607209847217,0.1903001598341632,0.3021039173693274,0.44893305556773105,0.634768942787713,0.7598914641747229,0.7123661815965262,0.6027103174133625,0.56300353308517,0.6218845740307533,0.7691037849217083,0.9758308164056787,1.1680954145809217,1.229081597140973,1.1218465262376165,0.952468648122067,0.8273091434752371,0.7744565675164329,0.7694095134624066,0.7622111068527625,0.7154169493328743,0.6477405953836928,0.5967675557362385,0.5516037247039818,0.49140854795427025,0.41886187573098693,0.34374708491934197,0.2724328672209059,0.2076628016507436],[-0.3774789649497053,-0.37133191188040193,-0.3610595118668256,-0.34687444461390365,-0.3283937958940051,-0.30458940639921633,-0.2742390737935303,-0.23605118554899715,-0.18831610756874614,-0.12868685711125413,-0.05474179905401997,0.034099929398445875,0.1332514777884183,0.23172763885860465,0.3233001731507585,0.4280126672045379,0.5678286371157225,0.6706498681431411,0.6433489869776805,0.5607065479929098,0.5228888735659238,0.5551595256663072,0.6456036082414917,0.7658046698679216,0.8697063415030645,0.9068894227234591,0.8650415841127701,0.7840542252315474,0.7113084504136805,0.6671306970305555,0.6454897662723985,0.6270250470103679,0.5971153610764875,0.5578280248046715,0.516047957592064,0.4684402113895609,0.41022350792690787,0.3441797918049851,0.2763922332966009,0.21152358231744312,0.15201762901891594],[-0.35876964867113426,-0.3542962587789063,-0.34685894425612734,-0.3357156621349592,-0.31985951944820795,-0.2982114536312689,-0.2696990973232487,-0.23292152122957877,-0.18553699646763377,-0.12381572664061498,-0.04293777513604456,0.06074012790748382,0.18283274787926634,0.2993867278535297,0.37295853063015694,0.40856132792248,0.45854782438578423,0.5099266934860668,0.5096207754200158,0.4765507033285471,0.46025189357105095,0.4820055811734844,0.5368074415581287,0.6057149172970113,0.6632402549281172,0.6876918933584555,0.6743342849797774,0.6369034735786364,0.5941552710373655,0.5577007407196513,0.5290663905305131,0.5030330184035073,0.4741094795299254,0.44063448498544194,0.40237039512988815,0.35761233130488546,0.30553512697358626,0.24837902377112325,0.18992255554961232,0.13342105965164902,0.08095103281634704],[-0.3491852277589797,-0.34767870268539036,-0.344205194626171,-0.3369523597493298,-0.3238924917446336,-0.30371847236264116,-0.27599167619402015,-0.24003321406549874,-0.1934444372373152,-0.1311014601678364,-0.04474993612076774,0.07591499600027601,0.2352747857621415,0.4033445759981992,0.48745320032989237,0.45060941004366467,0.4052077677657796,0.39860563911049124,0.39700970301289124,0.38925255711724105,0.3899452944310051,0.4102326615375751,0.44850462926789486,0.4938326677342313,0.5319595622104697,0.5517312671781653,0.5494523390690534,0.5283656909429189,0.4952804895501685,0.4572554178894851,0.4188439926021386,0.38128880435020457,0.34408844026372437,0.3065713648860684,0.2678243025627618,0.22651149524074632,0.18189845285465028,0.1346749674617511,0.08656143674017733,0.03949722164522234,-0.004847410105239421],[-0.34542547033373217,-0.348609907494194,-0.3514059883715483,-0.34999151096843395,-0.339914471487483,-0.3194959138662659,-0.29047239206907005,-0.25454564492820747,-0.2100482689409882,-0.15081766441410355,-0.06577096445078166,0.06155368282851953,0.24673316642385676,0.46391257138239744,null,0.49009597677639916,0.3813149559686829,0.33118891170738457,0.3158218169466167,0.31381643023383543,0.32279089653337695,0.34539714194185217,0.3805627421304506,0.42227032539794424,0.4614452840303539,0.4881076442983204,0.4932922672055412,0.4727616813984599,0.43054623875109344,0.37589462775430804,0.317093421106199,0.25925882855577603,0.205425499399184,0.15742178419905611,0.1154476614981854,0.07777866918426364,0.04178375987531068,0.0054777745799594125,-0.03167266400862819,-0.06889955245322243,-0.10473808215239311],[-0.34322502128199894,-0.35301510443524825,-0.3664301388043025,-0.3755706611178106,-0.36884395385328117,-0.34363059792524814,-0.3085217702338732,-0.2709421731375652,-0.2302967099327864,-0.17915387202974548,-0.10552684452204959,0.007346427241686888,0.17367375395890364,0.36648532942032497,0.4672575611132428,0.4133210110867137,0.3215105109159658,0.2677147776092759,0.2480101919805235,0.24778821211488736,0.2614407875525756,0.2887597016337749,0.33004103780093924,0.3838063006128565,0.4447111018159303,0.498252981394954,0.5181265957003682,0.48557360664084664,0.41134755221204267,0.31895470438024753,0.2236131493891146,0.13288371295757365,0.0527047394186632,-0.011405983462007364,-0.05741265046112197,-0.08901114056971537,-0.11342347005687838,-0.13701195315058007,-0.16278100884620772,-0.19055640573439012,-0.21839181870095478],[-0.33627983089918084,-0.35342495217996445,-0.38546786723681564,-0.418237805428166,-0.41601006709288524,-0.373447194508654,-0.3222900722094905,-0.28051351968229754,-0.24651970519339894,-0.20796555940360653,-0.15333439524170775,-0.0692630801416659,0.050935691469156115,0.18306826694026893,0.26342520860916147,0.26140669837818403,0.22321164254007503,0.19324687083689607,0.18162293319542555,0.1856489870145065,0.2036077973983244,0.2369259794857954,0.28922706594622016,0.3651959685309982,0.46596304495720353,0.5714313174107528,0.6203906734113072,0.5625875094970758,0.43054572172492067,0.278780636911873,0.13045359801624629,-0.007129706755636883,-0.12453626404764848,-0.20919406409901642,-0.2559902935976002,-0.2743110488676162,-0.2810987236928213,-0.28945642688713635,-0.3043357331244675,-0.32453961771835044,-0.3462016011024731],[-0.31535857378577953,-0.3332803523414289,-0.39337987058606544,-0.4828789521013312,-0.48970581978518524,-0.39838917594716594,-0.3178679110321331,-0.2701263093704658,-0.251358455902512,-0.22864276291581806,-0.19512969036302713,-0.13980421014750458,-0.0593914732483814,0.02897922410155776,0.09431392269169395,0.12043591459632604,0.12047191242262863,0.11492536730400475,0.11481807204584697,0.12405167169370658,0.14537208575138122,0.18326935685911658,0.2450241695312936,0.34093489489831486,0.4788226176895678,0.63528402275313,0.7138711949297524,0.6299493093680522,0.44027019108872784,0.2285711138117323,0.022071536327113495,-0.17268069626101362,-0.3377434929693782,-0.4444792286504503,-0.4818161663515325,-0.47310661481369937,-0.4539316606799476,-0.44598119044214957,-0.4534605852460305,-0.47086014055875103,-0.49012208485424885],[-0.2738908915701173,-0.26316597277142345,-0.34274061934587924,-0.4802135840463136,-0.46514544714964695,-0.3967906467927304,-0.28461965502663644,-0.22921984932517955,-0.2462847685223952,-0.23667758072589565,-0.22202287559862413,-0.188883944142343,-0.1349141700047121,-0.07266171569424495,-0.01908055856154406,0.01555541612401227,0.03319428047627242,0.042096546762148315,0.04974583429736745,0.06160037643602727,0.0830058112461795,0.12084475710033006,0.18420817404772308,0.2839744986192628,0.42600102481390373,0.5823317904138625,0.6578165573134479,0.5733481119963105,0.37558704510652935,0.1387861510767895,-0.1109841367536005,-0.36308061619737636,-0.5817019106395436,-0.7070690263291471,-0.7180048622288564,-0.6663174117905816,-0.6169512283563552,-0.5984405518226609,-0.6084038724265608,-0.6322952475593855,-0.6551941821492853],[-0.23673085678361336,-0.17220021716918146,-0.24510345708432674,-0.38650314390029356,-0.4069256713480882,-0.3829449940746682,-0.2912170158128751,-0.24085350600303604,-0.2478962992056369,-0.2320242667803306,-0.23158088144769107,-0.21537920468419086,-0.18032015377993346,-0.13568502969292973,-0.09244464795959868,-0.05838200277864534,-0.035414867911579245,-0.021168454104979362,-0.011670714310437228,-0.0021031710474826095,0.014111050131722976,0.0456649795969085,0.10174308416566724,0.18888766537832996,0.3040485530692004,0.417597983760009,0.4652548355766324,0.3989283582875335,0.23574570190572383,0.013534663716245034,-0.25038834261926557,-0.5406136533891661,-0.8011729827386751,-0.9348102460887591,-0.9099401082105408,-0.8167093432745314,-0.7508860712152855,-0.7413010648414912,-0.7728404827601248,-0.8176331464621744,-0.8515823652630887],[-0.2555477401137046,-0.21519735187413544,-0.2675322601762581,-0.3575176226972871,-0.3853393823793222,-0.37043359312205215,-0.3282111701208983,-0.28734754907918914,-0.25486027698310665,-0.23600662407944928,-0.2355313489327164,-0.22938697891131304,-0.20794603505241593,-0.17583034932353395,-0.14123905391617209,-0.11087837911872726,-0.08831148545006227,-0.07439532804782518,-0.06816098451634282,-0.06634619344673336,-0.06143275211789724,-0.04160066032092195,0.0032652528971089364,0.07397357176651653,0.15901559632060283,0.2322716436620801,0.2568071412139387,0.20638814133671693,0.08072051278504822,-0.10912371016077557,-0.35535246044698976,-0.6400699637708325,-0.8989397366734282,-1.0240578783160141,-0.9855639833459071,-0.8915390037022207,-0.8488169138485939,-0.8817871012783853,-0.9617995564613341,-1.044890260964742,-1.095612647937294],[-0.30999358170423846,-0.30689905698886966,-0.33947540064965676,-0.3834953310753424,-0.40282788562684957,-0.39490232065420156,-0.3666695710895787,-0.317964735136907,-0.24426748933500617,-0.20830565878911644,-0.23732178123917652,-0.24240108663192633,-0.228746784802571,-0.2042262164671211,-0.17580532465937254,-0.14936567859637226,-0.12915283124538773,-0.11805206385971105,-0.11787748236728127,-0.12781978595367002,-0.1394450192850505,-0.134204479539228,-0.09769742165167576,-0.036260111740667844,0.03043204033730913,0.08041671308063045,0.09271465429600734,0.05253986423979382,-0.045130321313144185,-0.199235295887629,-0.40475844109205417,-0.6414631690553455,-0.8526615681008523,-0.9588652307317176,-0.9472640662574096,-0.908567673663496,-0.9346479583424172,-1.0458728968021382,-1.202282900396386,-1.339008567287269,-1.4053762460575694],[-0.36139447868133906,-0.3748739160940813,-0.4040919929773664,-0.43873708176591014,-0.4565697483693035,-0.43516699634434297,-0.4063528125187885,-0.3685575974547928,-0.2855212681744739,-0.24102163062939053,-0.2572277629235238,-0.26124066647169286,-0.24882047849631525,-0.22727935636299706,-0.202306344284596,-0.17874506276806323,-0.16079986822223494,-0.15239858587716815,-0.15750589032180526,-0.17826907004329443,-0.2063616917898148,-0.21397871576903854,-0.18004089625677291,-0.12133547760704472,-0.06510045045373078,-0.028454299360424512,-0.02272470403121675,-0.056173591188722435,-0.13332707407748656,-0.2546651648852841,-0.4144883789472718,-0.5935127310398909,-0.7521590720893523,-0.8481723479260277,-0.8854144820136433,-0.9288622006079765,-1.0485429319041697,-1.2615241703927789,-1.5148959662004808,-1.71260822880382,-1.7826107416154822],[-0.4020833244037046,-0.42460591863282604,-0.45938911676425326,-0.5041394158288474,-0.5409961149653666,-0.45165625689311417,-0.3787289292122698,-0.4352181152246907,-0.37664782357162646,-0.32235617357507684,-0.3016956510506515,-0.2882553847924317,-0.2702388444481712,-0.2478888018694284,-0.22403811562097964,-0.20203688734248915,-0.18540419022142451,-0.17796416474747695,-0.18405102142466387,-0.2068969386238594,-0.23942245604929807,-0.25147046995983874,-0.22086172566243029,-0.17041798928419938,-0.1269628259397077,-0.10185674499253068,-0.10121957842190653,-0.13019247998564648,-0.19220109834902943,-0.2874130924162858,-0.4103558877396338,-0.5466533544176696,-0.6737759279498026,-0.7749964611525706,-0.863132266514754,-0.9863860641299077,-1.1995250468800047,-1.5164965208330825,-1.8690204512211173,-2.1217066609763293,-2.177539781312219],[-0.4330509606050346,-0.46042964358967214,-0.4998252353816461,-0.5557971031614779,-0.6337957021147541,-0.6862037914757515,-0.59804085923398,-0.5391616186576547,-0.4574213336659043,-0.3897936535930667,-0.3468089827542044,-0.3173324949537435,-0.29167757123157123,-0.2666266646268048,-0.24248645662878537,-0.22106182700725044,-0.2048325769007622,-0.1966345748144308,-0.19931683897228256,-0.21414882026120313,-0.23502946175160078,-0.24215653086855707,-0.2225415082881531,-0.19133010450746502,-0.16512607933056464,-0.1513441521625527,-0.15506011638674497,-0.1809066062479477,-0.23198206205247585,-0.30853934118213033,-0.406716351420433,-0.5179903487271186,-0.6320850191926126,-0.7461220477016454,-0.876432292000467,-1.0613170178942846,-1.3444763436811722,-1.7347113645667172,-2.1525705303330107,-2.4358638900075795,-2.471356559147449],[-0.45597721972407423,-0.4841576105191025,-0.5214193842521933,-0.5731470400320603,-0.6433239858752038,-0.7654037860450429,-0.8184075412780725,-0.6262793863693337,-0.5094798515686965,-0.4328033636715435,-0.3801009463592539,-0.3416907329238669,-0.31048206247721816,-0.2829151984590866,-0.25814398589645193,-0.23690259252004042,-0.2207180060518879,-0.2113131537870634,-0.2098432782960234,-0.21552750640774695,-0.2236508886125419,-0.22587565619254388,-0.2181706751837153,-0.20521896836187173,-0.1930784782342033,-0.18722966764777949,-0.19342024736587637,-0.216613643044963,-0.25989573118548437,-0.3239145751326632,-0.4066990987247149,-0.5043611890457316,-0.6139443292648263,-0.7390428901350463,-0.8958831730526736,-1.1141586986798646,-1.4250611773466184,-1.8281265069415304,-2.243901307318183,-2.5189971779512925,-2.546977803983429],[-0.4734183768202273,-0.5003622682943352,-0.530372990290238,-0.5666072671986924,-0.6169392447202305,-0.6808786213242342,-0.6895578802169278,-0.6070099480945144,-0.5195766261465902,-0.4511259063045669,-0.3989993785926453,-0.35829351230813045,-0.3248431870839999,-0.2960948318171827,-0.2711164422121835,-0.2501645069071064,-0.23416990983503305,-0.22417766280630663,-0.22062482715266463,-0.2224971008316739,-0.22700146909995478,-0.23068828960558765,-0.2308765285844797,-0.22626425068554434,-0.21922238472008337,-0.21566261153158245,-0.22184288143123831,-0.24242847224192257,-0.28010114231522193,-0.3357146529528585,-0.4086996826063383,-0.4980621784576971,-0.6045201182036044,-0.7337473772377838,-0.8992217930418502,-1.1213012111410623,-1.4172473546673956,-1.7768306254075794,-2.1320378482438276,-2.366748490111239,-2.4005397853437906],[-0.48797402675458884,-0.515826553839335,-0.5410376275848042,-0.558905632678235,-0.5774801201016655,-0.5987937232907052,-0.596482276944527,-0.5581983433065931,-0.5040830918853471,-0.45148530231409095,-0.4058567880108498,-0.3672784621364407,-0.33438254183649535,-0.3059576819891684,-0.2814880430059437,-0.2611679701405563,-0.24568090868108283,-0.23585508818037706,-0.2322404386228565,-0.23474168407761356,-0.2424107345402736,-0.25239228310863454,-0.25772174222415833,-0.2531057460269025,-0.24367908303701968,-0.23827991725212017,-0.24299871688186372,-0.2612644131593504,-0.2948713611333615,-0.3445645855435311,-0.4105377416982425,-0.493244060354154,-0.5947421610452971,-0.7203418991045512,-0.8794878751532255,-1.0837498053480599,-1.338901292334477,-1.6295514741410784,-1.904670003587147,-2.0887451741318057,-2.1296389644901015],[-0.49929176208602494,-0.5317992895224518,-0.5618156877622481,-0.5721761335235672,-0.5629869047773959,-0.5563266598126756,-0.5451940757996812,-0.5195457800030943,-0.4829272093876769,-0.44307315779623524,-0.4049411194166575,-0.3704053086983198,-0.33974163526378093,-0.3127743138026568,-0.2894679467536847,-0.2701292812977158,-0.25538550836381896,-0.24605316012155895,-0.24298835378501113,-0.24696908731763095,-0.25814178828561596,-0.27302408721494,-0.2807009100356185,-0.27393245946488237,-0.2614306358011895,-0.2543767470869265,-0.25817896460270007,-0.27494188248820034,-0.305626978324195,-0.35078223019508553,-0.41091236710963897,-0.48697531922281573,-0.5810839924142086,-0.6971413307454966,-0.8406729800601981,-1.0166298698374687,-1.2238856117595296,-1.4469528952718134,-1.650850735427395,-1.7901142479012149,-1.833392296976062],[-0.5031465922453439,-0.537547709186057,-0.5706381853762745,-0.5813719655304389,-0.5614119992427516,-0.5374630586641772,-0.5168464289312378,-0.49288285778953606,-0.4637915184073971,-0.43190112502994815,-0.39995928240677475,-0.36970632666097003,-0.3419611054538974,-0.3170905801768372,-0.29538986038775766,-0.2772827544713052,-0.2633813556531054,-0.2544692546474133,-0.2514610569014448,-0.2552655984506471,-0.2659094580728278,-0.27950391101551136,-0.28611464788097174,-0.2801451708846908,-0.2694734577653966,-0.26406970066963364,-0.26868262890154715,-0.2849286993133878,-0.3134709010736998,-0.35479043919618913,-0.4094767851030827,-0.4784915725270904,-0.5634507730050814,-0.6667092944174631,-0.7907956342948769,-0.9366056643074304,-1.1000544248497592,-1.2681905722751523,-1.4181503335404997,-1.5231729505228442,-1.5647500748697607],[-0.496869656533943,-0.5260722622353826,-0.5516247638026025,-0.5593388734476948,-0.543864391959567,-0.5197291980039677,-0.49634722746375787,-0.4727678951332401,-0.4473535640162194,-0.4204137670584596,-0.3931660135044235,-0.36676985169702053,-0.34203670360758065,-0.31951201029005744,-0.2996435933347039,-0.28290910677533804,-0.26987633348802403,-0.2612084483641444,-0.2576103750570624,-0.2595895109411426,-0.2666032392596206,-0.27530871296977805,-0.2795619066720214,-0.27654231511710925,-0.2709912366290931,-0.26956471060280435,-0.27618145101621694,-0.2925033711008382,-0.3192928971869106,-0.35708568937003937,-0.40645707520222124,-0.4681656025006395,-0.5432150434406704,-0.6327062765695584,-0.7372454733586888,-0.8556925940965721,-0.9833346128727211,-1.1102960484739013,-1.2218557911970669,-1.3021092855632548,-1.3399741566287704]]]},\"selected\":{\"id\":\"1146\",\"type\":\"Selection\"},\"selection_policy\":{\"id\":\"1145\",\"type\":\"UnionRenderers\"}},\"id\":\"1119\",\"type\":\"ColumnDataSource\"},{\"attributes\":{},\"id\":\"1042\",\"type\":\"Selection\"},{\"attributes\":{\"formatter\":{\"id\":\"1141\",\"type\":\"BasicTickFormatter\"},\"ticker\":{\"id\":\"1114\",\"type\":\"BasicTicker\"}},\"id\":\"1113\",\"type\":\"LinearAxis\"},{\"attributes\":{\"source\":{\"id\":\"1027\",\"type\":\"ColumnDataSource\"}},\"id\":\"1128\",\"type\":\"CDSView\"},{\"attributes\":{\"high\":1.84064736801354,\"low\":-2.571167422183044,\"palette\":[\"#440154\",\"#440255\",\"#440357\",\"#450558\",\"#45065A\",\"#45085B\",\"#46095C\",\"#460B5E\",\"#460C5F\",\"#460E61\",\"#470F62\",\"#471163\",\"#471265\",\"#471466\",\"#471567\",\"#471669\",\"#47186A\",\"#48196B\",\"#481A6C\",\"#481C6E\",\"#481D6F\",\"#481E70\",\"#482071\",\"#482172\",\"#482273\",\"#482374\",\"#472575\",\"#472676\",\"#472777\",\"#472878\",\"#472A79\",\"#472B7A\",\"#472C7B\",\"#462D7C\",\"#462F7C\",\"#46307D\",\"#46317E\",\"#45327F\",\"#45347F\",\"#453580\",\"#453681\",\"#443781\",\"#443982\",\"#433A83\",\"#433B83\",\"#433C84\",\"#423D84\",\"#423E85\",\"#424085\",\"#414186\",\"#414286\",\"#404387\",\"#404487\",\"#3F4587\",\"#3F4788\",\"#3E4888\",\"#3E4989\",\"#3D4A89\",\"#3D4B89\",\"#3D4C89\",\"#3C4D8A\",\"#3C4E8A\",\"#3B508A\",\"#3B518A\",\"#3A528B\",\"#3A538B\",\"#39548B\",\"#39558B\",\"#38568B\",\"#38578C\",\"#37588C\",\"#37598C\",\"#365A8C\",\"#365B8C\",\"#355C8C\",\"#355D8C\",\"#345E8D\",\"#345F8D\",\"#33608D\",\"#33618D\",\"#32628D\",\"#32638D\",\"#31648D\",\"#31658D\",\"#31668D\",\"#30678D\",\"#30688D\",\"#2F698D\",\"#2F6A8D\",\"#2E6B8E\",\"#2E6C8E\",\"#2E6D8E\",\"#2D6E8E\",\"#2D6F8E\",\"#2C708E\",\"#2C718E\",\"#2C728E\",\"#2B738E\",\"#2B748E\",\"#2A758E\",\"#2A768E\",\"#2A778E\",\"#29788E\",\"#29798E\",\"#287A8E\",\"#287A8E\",\"#287B8E\",\"#277C8E\",\"#277D8E\",\"#277E8E\",\"#267F8E\",\"#26808E\",\"#26818E\",\"#25828E\",\"#25838D\",\"#24848D\",\"#24858D\",\"#24868D\",\"#23878D\",\"#23888D\",\"#23898D\",\"#22898D\",\"#228A8D\",\"#228B8D\",\"#218C8D\",\"#218D8C\",\"#218E8C\",\"#208F8C\",\"#20908C\",\"#20918C\",\"#1F928C\",\"#1F938B\",\"#1F948B\",\"#1F958B\",\"#1F968B\",\"#1E978A\",\"#1E988A\",\"#1E998A\",\"#1E998A\",\"#1E9A89\",\"#1E9B89\",\"#1E9C89\",\"#1E9D88\",\"#1E9E88\",\"#1E9F88\",\"#1EA087\",\"#1FA187\",\"#1FA286\",\"#1FA386\",\"#20A485\",\"#20A585\",\"#21A685\",\"#21A784\",\"#22A784\",\"#23A883\",\"#23A982\",\"#24AA82\",\"#25AB81\",\"#26AC81\",\"#27AD80\",\"#28AE7F\",\"#29AF7F\",\"#2AB07E\",\"#2BB17D\",\"#2CB17D\",\"#2EB27C\",\"#2FB37B\",\"#30B47A\",\"#32B57A\",\"#33B679\",\"#35B778\",\"#36B877\",\"#38B976\",\"#39B976\",\"#3BBA75\",\"#3DBB74\",\"#3EBC73\",\"#40BD72\",\"#42BE71\",\"#44BE70\",\"#45BF6F\",\"#47C06E\",\"#49C16D\",\"#4BC26C\",\"#4DC26B\",\"#4FC369\",\"#51C468\",\"#53C567\",\"#55C666\",\"#57C665\",\"#59C764\",\"#5BC862\",\"#5EC961\",\"#60C960\",\"#62CA5F\",\"#64CB5D\",\"#67CC5C\",\"#69CC5B\",\"#6BCD59\",\"#6DCE58\",\"#70CE56\",\"#72CF55\",\"#74D054\",\"#77D052\",\"#79D151\",\"#7CD24F\",\"#7ED24E\",\"#81D34C\",\"#83D34B\",\"#86D449\",\"#88D547\",\"#8BD546\",\"#8DD644\",\"#90D643\",\"#92D741\",\"#95D73F\",\"#97D83E\",\"#9AD83C\",\"#9DD93A\",\"#9FD938\",\"#A2DA37\",\"#A5DA35\",\"#A7DB33\",\"#AADB32\",\"#ADDC30\",\"#AFDC2E\",\"#B2DD2C\",\"#B5DD2B\",\"#B7DD29\",\"#BADE27\",\"#BDDE26\",\"#BFDF24\",\"#C2DF22\",\"#C5DF21\",\"#C7E01F\",\"#CAE01E\",\"#CDE01D\",\"#CFE11C\",\"#D2E11B\",\"#D4E11A\",\"#D7E219\",\"#DAE218\",\"#DCE218\",\"#DFE318\",\"#E1E318\",\"#E4E318\",\"#E7E419\",\"#E9E419\",\"#ECE41A\",\"#EEE51B\",\"#F1E51C\",\"#F3E51E\",\"#F6E61F\",\"#F8E621\",\"#FAE622\",\"#FDE724\"]},\"id\":\"1026\",\"type\":\"LinearColorMapper\"},{\"attributes\":{\"text\":\"IDW interpolation\"},\"id\":\"1098\",\"type\":\"Title\"},{\"attributes\":{},\"id\":\"1104\",\"type\":\"LinearScale\"},{\"attributes\":{\"fill_color\":{\"field\":\"z\",\"transform\":{\"id\":\"1026\",\"type\":\"LinearColorMapper\"}},\"line_color\":{\"value\":\"white\"},\"size\":{\"units\":\"screen\",\"value\":12},\"x\":{\"field\":\"x\"},\"y\":{\"field\":\"y\"}},\"id\":\"1125\",\"type\":\"Circle\"},{\"attributes\":{\"dimension\":1,\"ticker\":{\"id\":\"1114\",\"type\":\"BasicTicker\"}},\"id\":\"1117\",\"type\":\"Grid\"},{\"attributes\":{\"formatter\":{\"id\":\"1143\",\"type\":\"BasicTickFormatter\"},\"ticker\":{\"id\":\"1109\",\"type\":\"BasicTicker\"}},\"id\":\"1108\",\"type\":\"LinearAxis\"},{\"attributes\":{},\"id\":\"1041\",\"type\":\"UnionRenderers\"},{\"attributes\":{\"color_mapper\":{\"id\":\"1026\",\"type\":\"LinearColorMapper\"},\"dh\":{\"units\":\"data\",\"value\":100},\"dw\":{\"units\":\"data\",\"value\":100},\"image\":{\"field\":\"image\"},\"x\":{\"value\":0},\"y\":{\"value\":0}},\"id\":\"1120\",\"type\":\"Image\"},{\"attributes\":{},\"id\":\"1106\",\"type\":\"LinearScale\"},{\"attributes\":{},\"id\":\"1145\",\"type\":\"UnionRenderers\"},{\"attributes\":{\"data_source\":{\"id\":\"1119\",\"type\":\"ColumnDataSource\"},\"glyph\":{\"id\":\"1120\",\"type\":\"Image\"},\"hover_glyph\":null,\"muted_glyph\":null,\"nonselection_glyph\":{\"id\":\"1121\",\"type\":\"Image\"},\"selection_glyph\":null,\"view\":{\"id\":\"1123\",\"type\":\"CDSView\"}},\"id\":\"1122\",\"type\":\"GlyphRenderer\"},{\"attributes\":{\"callback\":null,\"end\":100},\"id\":\"1100\",\"type\":\"Range1d\"},{\"attributes\":{},\"id\":\"1109\",\"type\":\"BasicTicker\"},{\"attributes\":{},\"id\":\"1143\",\"type\":\"BasicTickFormatter\"},{\"attributes\":{\"callback\":null,\"data\":{\"index\":[0,1,2,3,4,5,6,7,8,9,10,11,12,13,14,15,16,17,18,19,20,21,22,23,24,25,26,27,28,29],\"x\":[22,3,12,9,78,41,35,38,99,43,52,49,83,85,65,1,11,14,55,21,92,71,76,17,62,7,13,10,14,23],\"y\":[78,73,85,69,43,6,60,18,87,50,83,3,75,45,68,39,71,87,97,22,17,30,31,71,45,97,28,40,83,73],\"z\":{\"__ndarray__\":\"yneAn5AMyr+SARWJagvFvxPIlMQlS+a/QBSCTBPI4b9JxGhcdZX0PwtWdk2IUO2/IEfKhQFR4j/qRdMT0Tbtv86ItjnAkQTAHWNJ0dFx6D9AnUV9tjfQv/gmqOse/ea/QpZCZGZw8L/gWAyp84XjP/UXQiuk9eY/q+noUhNs5r/u7x4/3tTZv+ZaZAlFMey/VpLsCFtU0r8xX7ywcSjtvy/cXIVLluG//ytpLee40j/Eex7hYWPpP0spcolSxcu/12KRp0pz/T+wRyNLI6fiv2CH/M6g1oQ/d33INR5W3r/EPkmwuTPVv4OwF7pej82/\",\"dtype\":\"float64\",\"shape\":[30]}},\"selected\":{\"id\":\"1042\",\"type\":\"Selection\"},\"selection_policy\":{\"id\":\"1041\",\"type\":\"UnionRenderers\"}},\"id\":\"1027\",\"type\":\"ColumnDataSource\"},{\"attributes\":{},\"id\":\"1114\",\"type\":\"BasicTicker\"},{\"attributes\":{\"source\":{\"id\":\"1119\",\"type\":\"ColumnDataSource\"}},\"id\":\"1123\",\"type\":\"CDSView\"},{\"attributes\":{},\"id\":\"1146\",\"type\":\"Selection\"},{\"attributes\":{\"fill_alpha\":{\"value\":0.1},\"fill_color\":{\"value\":\"#1f77b4\"},\"line_alpha\":{\"value\":0.1},\"line_color\":{\"value\":\"#1f77b4\"},\"size\":{\"units\":\"screen\",\"value\":12},\"x\":{\"field\":\"x\"},\"y\":{\"field\":\"y\"}},\"id\":\"1126\",\"type\":\"Circle\"},{\"attributes\":{\"ticker\":{\"id\":\"1109\",\"type\":\"BasicTicker\"}},\"id\":\"1112\",\"type\":\"Grid\"}],\"root_ids\":[\"1097\"]},\"title\":\"Bokeh Application\",\"version\":\"1.4.0\"}};\n",
       "  var render_items = [{\"docid\":\"571917d0-fd32-4f7e-a2a7-bafcbd2b2ebf\",\"roots\":{\"1097\":\"ba9bd8fc-7280-4764-99bd-425f349a01fe\"}}];\n",
       "  root.Bokeh.embed.embed_items_notebook(docs_json, render_items);\n",
       "\n",
       "  }\n",
       "  if (root.Bokeh !== undefined) {\n",
       "    embed_document(root);\n",
       "  } else {\n",
       "    var attempts = 0;\n",
       "    var timer = setInterval(function(root) {\n",
       "      if (root.Bokeh !== undefined) {\n",
       "        clearInterval(timer);\n",
       "        embed_document(root);\n",
       "      } else {\n",
       "        attempts++;\n",
       "        if (attempts > 100) {\n",
       "          clearInterval(timer);\n",
       "          console.log(\"Bokeh: ERROR: Unable to run BokehJS code because BokehJS library is missing\");\n",
       "        }\n",
       "      }\n",
       "    }, 10, root)\n",
       "  }\n",
       "})(window);"
      ],
      "application/vnd.bokehjs_exec.v0+json": ""
     },
     "metadata": {
      "application/vnd.bokehjs_exec.v0+json": {
       "id": "1097"
      }
     },
     "output_type": "display_data"
    }
   ],
   "source": [
    "show(result)"
   ]
  },
  {
   "cell_type": "code",
   "execution_count": 10,
   "metadata": {
    "slideshow": {
     "slide_type": "skip"
    }
   },
   "outputs": [],
   "source": [
    "# save the idw result to use it in the kriging section\n",
    "np.save('./data/idw_result.npy', idw)"
   ]
  },
  {
   "cell_type": "markdown",
   "metadata": {
    "slideshow": {
     "slide_type": "subslide"
    }
   },
   "source": [
    "The shown code is slow, from a algorithmic perspective and especially from the implementation perspective. \n",
    "From the algorithmic perspective ask yourself the question:\n",
    "\n",
    "*Do we always have to include the whole sample into the weighted mean? If not, why?*"
   ]
  },
  {
   "cell_type": "markdown",
   "metadata": {
    "slideshow": {
     "slide_type": "subslide"
    }
   },
   "source": [
    "If you installed the lectures locally or are running it in a binder, you can play around a little bit:\n",
    "\n",
    "* increase and decrease the raster size - what happens to the result?\n",
    "* increase m - what happens?\n",
    "* can you speed up the calculation by changing the *algorithm* ? (not talking about numpy or `map` here and simply moving to faster implementations)\n",
    "\n",
    "That's always my way to go -> first make the algorithm fast by implementing it in a smart way, then increase performance by using `numpy` (in Pyhton) or precompiled structures (vectorized vs. loops in R). "
   ]
  }
 ],
 "metadata": {
  "celltoolbar": "Slideshow",
  "finalized": {
   "timestamp": 1589983457158,
   "trusted": true
  },
  "kernelspec": {
   "display_name": "Python 3",
   "language": "python",
   "name": "python3"
  },
  "language_info": {
   "codemirror_mode": {
    "name": "ipython",
    "version": 3
   },
   "file_extension": ".py",
   "mimetype": "text/x-python",
   "name": "python",
   "nbconvert_exporter": "python",
   "pygments_lexer": "ipython3",
   "version": "3.7.6"
  }
 },
 "nbformat": 4,
 "nbformat_minor": 4
}
