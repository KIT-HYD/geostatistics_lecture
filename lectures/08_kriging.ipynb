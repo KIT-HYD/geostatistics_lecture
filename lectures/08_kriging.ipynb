{
 "cells": [
  {
   "cell_type": "markdown",
   "metadata": {
    "slideshow": {
     "slide_type": "slide"
    }
   },
   "source": [
    "# Geostatistics"
   ]
  },
  {
   "cell_type": "markdown",
   "metadata": {
    "slideshow": {
     "slide_type": "fragment"
    }
   },
   "source": [
    "## 7. Kriging"
   ]
  },
  {
   "cell_type": "markdown",
   "metadata": {
    "slideshow": {
     "slide_type": "fragment"
    }
   },
   "source": [
    "This final lecture introduces the concept of *kriging*. It can be used to estimate a variable at unobserved locations from the spatial structure of observations. We will cover:\n",
    "\n",
    "* basic concept of Kriging\n",
    "* implement a kriging algorithm\n",
    "* introduce more advanced kriging methods"
   ]
  },
  {
   "cell_type": "code",
   "execution_count": 1,
   "metadata": {
    "slideshow": {
     "slide_type": "skip"
    }
   },
   "outputs": [],
   "source": [
    "%matplotlib inline"
   ]
  },
  {
   "cell_type": "code",
   "execution_count": 82,
   "metadata": {
    "slideshow": {
     "slide_type": "notes"
    }
   },
   "outputs": [
    {
     "data": {
      "text/html": [
       "\n",
       "    <div class=\"bk-root\">\n",
       "        <a href=\"https://bokeh.org\" target=\"_blank\" class=\"bk-logo bk-logo-small bk-logo-notebook\"></a>\n",
       "        <span id=\"1116\">Loading BokehJS ...</span>\n",
       "    </div>"
      ]
     },
     "metadata": {},
     "output_type": "display_data"
    },
    {
     "data": {
      "application/javascript": [
       "\n",
       "(function(root) {\n",
       "  function now() {\n",
       "    return new Date();\n",
       "  }\n",
       "\n",
       "  var force = true;\n",
       "\n",
       "  if (typeof root._bokeh_onload_callbacks === \"undefined\" || force === true) {\n",
       "    root._bokeh_onload_callbacks = [];\n",
       "    root._bokeh_is_loading = undefined;\n",
       "  }\n",
       "\n",
       "  var JS_MIME_TYPE = 'application/javascript';\n",
       "  var HTML_MIME_TYPE = 'text/html';\n",
       "  var EXEC_MIME_TYPE = 'application/vnd.bokehjs_exec.v0+json';\n",
       "  var CLASS_NAME = 'output_bokeh rendered_html';\n",
       "\n",
       "  /**\n",
       "   * Render data to the DOM node\n",
       "   */\n",
       "  function render(props, node) {\n",
       "    var script = document.createElement(\"script\");\n",
       "    node.appendChild(script);\n",
       "  }\n",
       "\n",
       "  /**\n",
       "   * Handle when an output is cleared or removed\n",
       "   */\n",
       "  function handleClearOutput(event, handle) {\n",
       "    var cell = handle.cell;\n",
       "\n",
       "    var id = cell.output_area._bokeh_element_id;\n",
       "    var server_id = cell.output_area._bokeh_server_id;\n",
       "    // Clean up Bokeh references\n",
       "    if (id != null && id in Bokeh.index) {\n",
       "      Bokeh.index[id].model.document.clear();\n",
       "      delete Bokeh.index[id];\n",
       "    }\n",
       "\n",
       "    if (server_id !== undefined) {\n",
       "      // Clean up Bokeh references\n",
       "      var cmd = \"from bokeh.io.state import curstate; print(curstate().uuid_to_server['\" + server_id + \"'].get_sessions()[0].document.roots[0]._id)\";\n",
       "      cell.notebook.kernel.execute(cmd, {\n",
       "        iopub: {\n",
       "          output: function(msg) {\n",
       "            var id = msg.content.text.trim();\n",
       "            if (id in Bokeh.index) {\n",
       "              Bokeh.index[id].model.document.clear();\n",
       "              delete Bokeh.index[id];\n",
       "            }\n",
       "          }\n",
       "        }\n",
       "      });\n",
       "      // Destroy server and session\n",
       "      var cmd = \"import bokeh.io.notebook as ion; ion.destroy_server('\" + server_id + \"')\";\n",
       "      cell.notebook.kernel.execute(cmd);\n",
       "    }\n",
       "  }\n",
       "\n",
       "  /**\n",
       "   * Handle when a new output is added\n",
       "   */\n",
       "  function handleAddOutput(event, handle) {\n",
       "    var output_area = handle.output_area;\n",
       "    var output = handle.output;\n",
       "\n",
       "    // limit handleAddOutput to display_data with EXEC_MIME_TYPE content only\n",
       "    if ((output.output_type != \"display_data\") || (!output.data.hasOwnProperty(EXEC_MIME_TYPE))) {\n",
       "      return\n",
       "    }\n",
       "\n",
       "    var toinsert = output_area.element.find(\".\" + CLASS_NAME.split(' ')[0]);\n",
       "\n",
       "    if (output.metadata[EXEC_MIME_TYPE][\"id\"] !== undefined) {\n",
       "      toinsert[toinsert.length - 1].firstChild.textContent = output.data[JS_MIME_TYPE];\n",
       "      // store reference to embed id on output_area\n",
       "      output_area._bokeh_element_id = output.metadata[EXEC_MIME_TYPE][\"id\"];\n",
       "    }\n",
       "    if (output.metadata[EXEC_MIME_TYPE][\"server_id\"] !== undefined) {\n",
       "      var bk_div = document.createElement(\"div\");\n",
       "      bk_div.innerHTML = output.data[HTML_MIME_TYPE];\n",
       "      var script_attrs = bk_div.children[0].attributes;\n",
       "      for (var i = 0; i < script_attrs.length; i++) {\n",
       "        toinsert[toinsert.length - 1].firstChild.setAttribute(script_attrs[i].name, script_attrs[i].value);\n",
       "      }\n",
       "      // store reference to server id on output_area\n",
       "      output_area._bokeh_server_id = output.metadata[EXEC_MIME_TYPE][\"server_id\"];\n",
       "    }\n",
       "  }\n",
       "\n",
       "  function register_renderer(events, OutputArea) {\n",
       "\n",
       "    function append_mime(data, metadata, element) {\n",
       "      // create a DOM node to render to\n",
       "      var toinsert = this.create_output_subarea(\n",
       "        metadata,\n",
       "        CLASS_NAME,\n",
       "        EXEC_MIME_TYPE\n",
       "      );\n",
       "      this.keyboard_manager.register_events(toinsert);\n",
       "      // Render to node\n",
       "      var props = {data: data, metadata: metadata[EXEC_MIME_TYPE]};\n",
       "      render(props, toinsert[toinsert.length - 1]);\n",
       "      element.append(toinsert);\n",
       "      return toinsert\n",
       "    }\n",
       "\n",
       "    /* Handle when an output is cleared or removed */\n",
       "    events.on('clear_output.CodeCell', handleClearOutput);\n",
       "    events.on('delete.Cell', handleClearOutput);\n",
       "\n",
       "    /* Handle when a new output is added */\n",
       "    events.on('output_added.OutputArea', handleAddOutput);\n",
       "\n",
       "    /**\n",
       "     * Register the mime type and append_mime function with output_area\n",
       "     */\n",
       "    OutputArea.prototype.register_mime_type(EXEC_MIME_TYPE, append_mime, {\n",
       "      /* Is output safe? */\n",
       "      safe: true,\n",
       "      /* Index of renderer in `output_area.display_order` */\n",
       "      index: 0\n",
       "    });\n",
       "  }\n",
       "\n",
       "  // register the mime type if in Jupyter Notebook environment and previously unregistered\n",
       "  if (root.Jupyter !== undefined) {\n",
       "    var events = require('base/js/events');\n",
       "    var OutputArea = require('notebook/js/outputarea').OutputArea;\n",
       "\n",
       "    if (OutputArea.prototype.mime_types().indexOf(EXEC_MIME_TYPE) == -1) {\n",
       "      register_renderer(events, OutputArea);\n",
       "    }\n",
       "  }\n",
       "\n",
       "  \n",
       "  if (typeof (root._bokeh_timeout) === \"undefined\" || force === true) {\n",
       "    root._bokeh_timeout = Date.now() + 5000;\n",
       "    root._bokeh_failed_load = false;\n",
       "  }\n",
       "\n",
       "  var NB_LOAD_WARNING = {'data': {'text/html':\n",
       "     \"<div style='background-color: #fdd'>\\n\"+\n",
       "     \"<p>\\n\"+\n",
       "     \"BokehJS does not appear to have successfully loaded. If loading BokehJS from CDN, this \\n\"+\n",
       "     \"may be due to a slow or bad network connection. Possible fixes:\\n\"+\n",
       "     \"</p>\\n\"+\n",
       "     \"<ul>\\n\"+\n",
       "     \"<li>re-rerun `output_notebook()` to attempt to load from CDN again, or</li>\\n\"+\n",
       "     \"<li>use INLINE resources instead, as so:</li>\\n\"+\n",
       "     \"</ul>\\n\"+\n",
       "     \"<code>\\n\"+\n",
       "     \"from bokeh.resources import INLINE\\n\"+\n",
       "     \"output_notebook(resources=INLINE)\\n\"+\n",
       "     \"</code>\\n\"+\n",
       "     \"</div>\"}};\n",
       "\n",
       "  function display_loaded() {\n",
       "    var el = document.getElementById(\"1116\");\n",
       "    if (el != null) {\n",
       "      el.textContent = \"BokehJS is loading...\";\n",
       "    }\n",
       "    if (root.Bokeh !== undefined) {\n",
       "      if (el != null) {\n",
       "        el.textContent = \"BokehJS \" + root.Bokeh.version + \" successfully loaded.\";\n",
       "      }\n",
       "    } else if (Date.now() < root._bokeh_timeout) {\n",
       "      setTimeout(display_loaded, 100)\n",
       "    }\n",
       "  }\n",
       "\n",
       "\n",
       "  function run_callbacks() {\n",
       "    try {\n",
       "      root._bokeh_onload_callbacks.forEach(function(callback) {\n",
       "        if (callback != null)\n",
       "          callback();\n",
       "      });\n",
       "    } finally {\n",
       "      delete root._bokeh_onload_callbacks\n",
       "    }\n",
       "    console.debug(\"Bokeh: all callbacks have finished\");\n",
       "  }\n",
       "\n",
       "  function load_libs(css_urls, js_urls, callback) {\n",
       "    if (css_urls == null) css_urls = [];\n",
       "    if (js_urls == null) js_urls = [];\n",
       "\n",
       "    root._bokeh_onload_callbacks.push(callback);\n",
       "    if (root._bokeh_is_loading > 0) {\n",
       "      console.debug(\"Bokeh: BokehJS is being loaded, scheduling callback at\", now());\n",
       "      return null;\n",
       "    }\n",
       "    if (js_urls == null || js_urls.length === 0) {\n",
       "      run_callbacks();\n",
       "      return null;\n",
       "    }\n",
       "    console.debug(\"Bokeh: BokehJS not loaded, scheduling load and callback at\", now());\n",
       "    root._bokeh_is_loading = css_urls.length + js_urls.length;\n",
       "\n",
       "    function on_load() {\n",
       "      root._bokeh_is_loading--;\n",
       "      if (root._bokeh_is_loading === 0) {\n",
       "        console.debug(\"Bokeh: all BokehJS libraries/stylesheets loaded\");\n",
       "        run_callbacks()\n",
       "      }\n",
       "    }\n",
       "\n",
       "    function on_error() {\n",
       "      console.error(\"failed to load \" + url);\n",
       "    }\n",
       "\n",
       "    for (var i = 0; i < css_urls.length; i++) {\n",
       "      var url = css_urls[i];\n",
       "      const element = document.createElement(\"link\");\n",
       "      element.onload = on_load;\n",
       "      element.onerror = on_error;\n",
       "      element.rel = \"stylesheet\";\n",
       "      element.type = \"text/css\";\n",
       "      element.href = url;\n",
       "      console.debug(\"Bokeh: injecting link tag for BokehJS stylesheet: \", url);\n",
       "      document.body.appendChild(element);\n",
       "    }\n",
       "\n",
       "    for (var i = 0; i < js_urls.length; i++) {\n",
       "      var url = js_urls[i];\n",
       "      var element = document.createElement('script');\n",
       "      element.onload = on_load;\n",
       "      element.onerror = on_error;\n",
       "      element.async = false;\n",
       "      element.src = url;\n",
       "      console.debug(\"Bokeh: injecting script tag for BokehJS library: \", url);\n",
       "      document.head.appendChild(element);\n",
       "    }\n",
       "  };var element = document.getElementById(\"1116\");\n",
       "  if (element == null) {\n",
       "    console.error(\"Bokeh: ERROR: autoload.js configured with elementid '1116' but no matching script tag was found. \")\n",
       "    return false;\n",
       "  }\n",
       "\n",
       "  function inject_raw_css(css) {\n",
       "    const element = document.createElement(\"style\");\n",
       "    element.appendChild(document.createTextNode(css));\n",
       "    document.body.appendChild(element);\n",
       "  }\n",
       "\n",
       "  \n",
       "  var js_urls = [\"https://cdn.pydata.org/bokeh/release/bokeh-1.4.0.min.js\", \"https://cdn.pydata.org/bokeh/release/bokeh-widgets-1.4.0.min.js\", \"https://cdn.pydata.org/bokeh/release/bokeh-tables-1.4.0.min.js\", \"https://cdn.pydata.org/bokeh/release/bokeh-gl-1.4.0.min.js\"];\n",
       "  var css_urls = [];\n",
       "  \n",
       "\n",
       "  var inline_js = [\n",
       "    function(Bokeh) {\n",
       "      Bokeh.set_log_level(\"info\");\n",
       "    },\n",
       "    function(Bokeh) {\n",
       "    \n",
       "    \n",
       "    }\n",
       "  ];\n",
       "\n",
       "  function run_inline_js() {\n",
       "    \n",
       "    if (root.Bokeh !== undefined || force === true) {\n",
       "      \n",
       "    for (var i = 0; i < inline_js.length; i++) {\n",
       "      inline_js[i].call(root, root.Bokeh);\n",
       "    }\n",
       "    if (force === true) {\n",
       "        display_loaded();\n",
       "      }} else if (Date.now() < root._bokeh_timeout) {\n",
       "      setTimeout(run_inline_js, 100);\n",
       "    } else if (!root._bokeh_failed_load) {\n",
       "      console.log(\"Bokeh: BokehJS failed to load within specified timeout.\");\n",
       "      root._bokeh_failed_load = true;\n",
       "    } else if (force !== true) {\n",
       "      var cell = $(document.getElementById(\"1116\")).parents('.cell').data().cell;\n",
       "      cell.output_area.append_execute_result(NB_LOAD_WARNING)\n",
       "    }\n",
       "\n",
       "  }\n",
       "\n",
       "  if (root._bokeh_is_loading === 0) {\n",
       "    console.debug(\"Bokeh: BokehJS loaded, going straight to plotting\");\n",
       "    run_inline_js();\n",
       "  } else {\n",
       "    load_libs(css_urls, js_urls, function() {\n",
       "      console.debug(\"Bokeh: BokehJS plotting callback run at\", now());\n",
       "      run_inline_js();\n",
       "    });\n",
       "  }\n",
       "}(window));"
      ],
      "application/vnd.bokehjs_load.v0+json": "\n(function(root) {\n  function now() {\n    return new Date();\n  }\n\n  var force = true;\n\n  if (typeof root._bokeh_onload_callbacks === \"undefined\" || force === true) {\n    root._bokeh_onload_callbacks = [];\n    root._bokeh_is_loading = undefined;\n  }\n\n  \n\n  \n  if (typeof (root._bokeh_timeout) === \"undefined\" || force === true) {\n    root._bokeh_timeout = Date.now() + 5000;\n    root._bokeh_failed_load = false;\n  }\n\n  var NB_LOAD_WARNING = {'data': {'text/html':\n     \"<div style='background-color: #fdd'>\\n\"+\n     \"<p>\\n\"+\n     \"BokehJS does not appear to have successfully loaded. If loading BokehJS from CDN, this \\n\"+\n     \"may be due to a slow or bad network connection. Possible fixes:\\n\"+\n     \"</p>\\n\"+\n     \"<ul>\\n\"+\n     \"<li>re-rerun `output_notebook()` to attempt to load from CDN again, or</li>\\n\"+\n     \"<li>use INLINE resources instead, as so:</li>\\n\"+\n     \"</ul>\\n\"+\n     \"<code>\\n\"+\n     \"from bokeh.resources import INLINE\\n\"+\n     \"output_notebook(resources=INLINE)\\n\"+\n     \"</code>\\n\"+\n     \"</div>\"}};\n\n  function display_loaded() {\n    var el = document.getElementById(\"1116\");\n    if (el != null) {\n      el.textContent = \"BokehJS is loading...\";\n    }\n    if (root.Bokeh !== undefined) {\n      if (el != null) {\n        el.textContent = \"BokehJS \" + root.Bokeh.version + \" successfully loaded.\";\n      }\n    } else if (Date.now() < root._bokeh_timeout) {\n      setTimeout(display_loaded, 100)\n    }\n  }\n\n\n  function run_callbacks() {\n    try {\n      root._bokeh_onload_callbacks.forEach(function(callback) {\n        if (callback != null)\n          callback();\n      });\n    } finally {\n      delete root._bokeh_onload_callbacks\n    }\n    console.debug(\"Bokeh: all callbacks have finished\");\n  }\n\n  function load_libs(css_urls, js_urls, callback) {\n    if (css_urls == null) css_urls = [];\n    if (js_urls == null) js_urls = [];\n\n    root._bokeh_onload_callbacks.push(callback);\n    if (root._bokeh_is_loading > 0) {\n      console.debug(\"Bokeh: BokehJS is being loaded, scheduling callback at\", now());\n      return null;\n    }\n    if (js_urls == null || js_urls.length === 0) {\n      run_callbacks();\n      return null;\n    }\n    console.debug(\"Bokeh: BokehJS not loaded, scheduling load and callback at\", now());\n    root._bokeh_is_loading = css_urls.length + js_urls.length;\n\n    function on_load() {\n      root._bokeh_is_loading--;\n      if (root._bokeh_is_loading === 0) {\n        console.debug(\"Bokeh: all BokehJS libraries/stylesheets loaded\");\n        run_callbacks()\n      }\n    }\n\n    function on_error() {\n      console.error(\"failed to load \" + url);\n    }\n\n    for (var i = 0; i < css_urls.length; i++) {\n      var url = css_urls[i];\n      const element = document.createElement(\"link\");\n      element.onload = on_load;\n      element.onerror = on_error;\n      element.rel = \"stylesheet\";\n      element.type = \"text/css\";\n      element.href = url;\n      console.debug(\"Bokeh: injecting link tag for BokehJS stylesheet: \", url);\n      document.body.appendChild(element);\n    }\n\n    for (var i = 0; i < js_urls.length; i++) {\n      var url = js_urls[i];\n      var element = document.createElement('script');\n      element.onload = on_load;\n      element.onerror = on_error;\n      element.async = false;\n      element.src = url;\n      console.debug(\"Bokeh: injecting script tag for BokehJS library: \", url);\n      document.head.appendChild(element);\n    }\n  };var element = document.getElementById(\"1116\");\n  if (element == null) {\n    console.error(\"Bokeh: ERROR: autoload.js configured with elementid '1116' but no matching script tag was found. \")\n    return false;\n  }\n\n  function inject_raw_css(css) {\n    const element = document.createElement(\"style\");\n    element.appendChild(document.createTextNode(css));\n    document.body.appendChild(element);\n  }\n\n  \n  var js_urls = [\"https://cdn.pydata.org/bokeh/release/bokeh-1.4.0.min.js\", \"https://cdn.pydata.org/bokeh/release/bokeh-widgets-1.4.0.min.js\", \"https://cdn.pydata.org/bokeh/release/bokeh-tables-1.4.0.min.js\", \"https://cdn.pydata.org/bokeh/release/bokeh-gl-1.4.0.min.js\"];\n  var css_urls = [];\n  \n\n  var inline_js = [\n    function(Bokeh) {\n      Bokeh.set_log_level(\"info\");\n    },\n    function(Bokeh) {\n    \n    \n    }\n  ];\n\n  function run_inline_js() {\n    \n    if (root.Bokeh !== undefined || force === true) {\n      \n    for (var i = 0; i < inline_js.length; i++) {\n      inline_js[i].call(root, root.Bokeh);\n    }\n    if (force === true) {\n        display_loaded();\n      }} else if (Date.now() < root._bokeh_timeout) {\n      setTimeout(run_inline_js, 100);\n    } else if (!root._bokeh_failed_load) {\n      console.log(\"Bokeh: BokehJS failed to load within specified timeout.\");\n      root._bokeh_failed_load = true;\n    } else if (force !== true) {\n      var cell = $(document.getElementById(\"1116\")).parents('.cell').data().cell;\n      cell.output_area.append_execute_result(NB_LOAD_WARNING)\n    }\n\n  }\n\n  if (root._bokeh_is_loading === 0) {\n    console.debug(\"Bokeh: BokehJS loaded, going straight to plotting\");\n    run_inline_js();\n  } else {\n    load_libs(css_urls, js_urls, function() {\n      console.debug(\"Bokeh: BokehJS plotting callback run at\", now());\n      run_inline_js();\n    });\n  }\n}(window));"
     },
     "metadata": {},
     "output_type": "display_data"
    }
   ],
   "source": [
    "import numpy as np\n",
    "import pandas as pd\n",
    "import skgstat as skg\n",
    "import matplotlib.pyplot as plt\n",
    "from scipy.spatial.distance import pdist, squareform\n",
    "from numpy.linalg import inv\n",
    "\n",
    "from bokeh.io import output_notebook\n",
    "from bokeh.plotting import figure, show\n",
    "from bokeh.models import ColumnDataSource, LinearColorMapper\n",
    "\n",
    "output_notebook()"
   ]
  },
  {
   "cell_type": "markdown",
   "metadata": {
    "slideshow": {
     "slide_type": "slide"
    }
   },
   "source": [
    "## 7.1 What is Kriging?"
   ]
  },
  {
   "cell_type": "markdown",
   "metadata": {
    "slideshow": {
     "slide_type": "fragment"
    }
   },
   "source": [
    "Kriging is an **interpolation** method. We use it to **estimate** a value at an unobserved location. "
   ]
  },
  {
   "cell_type": "markdown",
   "metadata": {
    "slideshow": {
     "slide_type": "fragment"
    }
   },
   "source": [
    "It is often referred to as a **BLUE** method.\n",
    "\n",
    "* **B**est **L**inear **U**nbiased **E**stimator\n",
    "\n",
    "We will go for each letter to better understand the method"
   ]
  },
  {
   "cell_type": "markdown",
   "metadata": {
    "slideshow": {
     "slide_type": "fragment"
    }
   },
   "source": [
    "In class, only one variant of Kriging will be presentend in detail: **Ordinary Kriging**. On top, we will introduce **Simple Updating Kriging** in the next block as one example of other Kriging methods."
   ]
  },
  {
   "cell_type": "markdown",
   "metadata": {
    "slideshow": {
     "slide_type": "subslide"
    }
   },
   "source": [
    "Other commonly used methods include:\n",
    "\n",
    "* Simple Kriging\n",
    "* Universal Kriging\n",
    "* External Drift Kriging\n",
    "* Indicator Kriging\n",
    "* Simple Updateing Kriging"
   ]
  },
  {
   "cell_type": "markdown",
   "metadata": {
    "slideshow": {
     "slide_type": "subslide"
    }
   },
   "source": [
    "### 7.1.1 Estimator"
   ]
  },
  {
   "cell_type": "markdown",
   "metadata": {
    "slideshow": {
     "slide_type": "fragment"
    }
   },
   "source": [
    "Kriging is an **estimation** method. "
   ]
  },
  {
   "cell_type": "markdown",
   "metadata": {
    "slideshow": {
     "slide_type": "fragment"
    }
   },
   "source": [
    "**Estimation** always implies **uncertainty**. Thus, the method does not yield any kind of deterministic result imanent to the data, but an estimation that largely depends on the *variogram*. "
   ]
  },
  {
   "cell_type": "markdown",
   "metadata": {
    "slideshow": {
     "slide_type": "skip"
    }
   },
   "source": [
    "Recall, that the variogram is a 2nd order statistical moment of a multivariate spatial data **sample**. Like any other means of statistics, it therefore largely depends on the sample size. Any amount of uncertainty about statistical properties of the population is therefore transferred into the Kriging method and ultimately into the interpolation result."
   ]
  },
  {
   "cell_type": "markdown",
   "metadata": {
    "slideshow": {
     "slide_type": "fragment"
    }
   },
   "source": [
    "Thus, trash in => trash out.\n",
    "\n",
    "If your varigram is not describing the spatial structure of the data sample properly the interpolation will be uncertain. "
   ]
  },
  {
   "cell_type": "markdown",
   "metadata": {
    "slideshow": {
     "slide_type": "subslide"
    }
   },
   "source": [
    "### 7.1.2 Linear"
   ]
  },
  {
   "cell_type": "markdown",
   "metadata": {
    "slideshow": {
     "slide_type": "fragment"
    }
   },
   "source": [
    "Next, let's understand what **linear** means in the context of Kriging."
   ]
  },
  {
   "cell_type": "markdown",
   "metadata": {
    "slideshow": {
     "slide_type": "fragment"
    }
   },
   "source": [
    "Linear means that the estimation of a variable at an unobsorved location is the **linear combination** of $N$ neighboring locations' observation."
   ]
  },
  {
   "cell_type": "markdown",
   "metadata": {
    "slideshow": {
     "slide_type": "fragment"
    }
   },
   "source": [
    "$$ Z^*(s_0) = \\sum_{i=1}^N \\lambda_i * Z(s_i) $$\n",
    "\n",
    "Where $Z^*(s_0)$ is the estimation at $s_0$ and $s_1, s_2, \\ldots, s_N$ are the neighbors. $\\lambda$ are the weights that we need to *combine* the observations."
   ]
  },
  {
   "cell_type": "markdown",
   "metadata": {
    "slideshow": {
     "slide_type": "subslide"
    }
   },
   "source": [
    "Recall the excursus to IDW. You know this already. IDW and Kriging use exactly the same combination to come up with an interpolation result. \n",
    "\n",
    "The only difference is how $\\lambda$ is determined."
   ]
  },
  {
   "cell_type": "markdown",
   "metadata": {
    "slideshow": {
     "slide_type": "fragment"
    }
   },
   "source": [
    "**IDW:** we defined a static rule, how we expect $lamda$ to depend on distance"
   ]
  },
  {
   "cell_type": "markdown",
   "metadata": {
    "slideshow": {
     "slide_type": "fragment"
    }
   },
   "source": [
    "**Kriging:** We use the variogram to depend a measure of *dissimilarity* on the distance"
   ]
  },
  {
   "cell_type": "markdown",
   "metadata": {
    "slideshow": {
     "slide_type": "fragment"
    }
   },
   "source": [
    "To complement **BLUE**: We try to find the **best**, **unbiased** set of weights."
   ]
  },
  {
   "cell_type": "markdown",
   "metadata": {
    "slideshow": {
     "slide_type": "subslide"
    }
   },
   "source": [
    "\n",
    "### 7.1.3 Best"
   ]
  },
  {
   "cell_type": "markdown",
   "metadata": {
    "slideshow": {
     "slide_type": "fragment"
    }
   },
   "source": [
    "How can we find the **best** *estimation*?"
   ]
  },
  {
   "cell_type": "markdown",
   "metadata": {
    "slideshow": {
     "slide_type": "fragment"
    }
   },
   "source": [
    "* with *estimation* we already granted that the final interpolation value might be off the *real* value. "
   ]
  },
  {
   "cell_type": "markdown",
   "metadata": {
    "slideshow": {
     "slide_type": "fragment"
    }
   },
   "source": [
    "* Think statistically: The value we estimate is just the **expected** value of the distribution of **possible** values to solve our interpolation problem. But we need a second parameter to describe a distribution."
   ]
  },
  {
   "cell_type": "markdown",
   "metadata": {
    "slideshow": {
     "slide_type": "fragment"
    }
   },
   "source": [
    "* The **variance** of the distribution (of possible solutions) indicates how *far off* they might be with respect to the expected value"
   ]
  },
  {
   "cell_type": "markdown",
   "metadata": {
    "slideshow": {
     "slide_type": "fragment"
    }
   },
   "source": [
    "* to obtain the **best** estimation, we have to **minimize this variance**."
   ]
  },
  {
   "cell_type": "markdown",
   "metadata": {
    "slideshow": {
     "slide_type": "fragment"
    }
   },
   "source": [
    "With this, we can assure that while we might not be able to precisely recalculate a value, we will at least **as close as possible**, given the data sample."
   ]
  },
  {
   "cell_type": "markdown",
   "metadata": {
    "slideshow": {
     "slide_type": "subslide"
    }
   },
   "source": [
    "We define the deviation, or error, of the estimation to the true value as:\n",
    "\n",
    "$$ \\epsilon (s_0) = Z^*(s_0) - Z(s_0) $$"
   ]
  },
  {
   "cell_type": "markdown",
   "metadata": {
    "slideshow": {
     "slide_type": "fragment"
    }
   },
   "source": [
    "from which follows that:\n",
    "\n",
    "$$ \\epsilon(s_0) = \\sum_{i=1}^N \\lambda_i * (Z^*(s_0) - Z(s_0)) $$\n",
    "\n",
    "and finally we want to minimize the variance of $\\epsilon$ using the equation above to build a **linear** system of equations to solve for all $\\lambda$.\n",
    "\n",
    "$$ min(\\sigma^2(\\epsilon)) $$ "
   ]
  },
  {
   "cell_type": "markdown",
   "metadata": {
    "slideshow": {
     "slide_type": "fragment"
    }
   },
   "source": [
    "however, we want to do that **unbiased**."
   ]
  },
  {
   "cell_type": "markdown",
   "metadata": {
    "slideshow": {
     "slide_type": "subslide"
    }
   },
   "source": [
    "### 7.1.4 Unbiased"
   ]
  },
  {
   "cell_type": "markdown",
   "metadata": {
    "slideshow": {
     "slide_type": "fragment"
    }
   },
   "source": [
    "One of the fundamental assumptions of geostatistics, especially when we want to apply *Ordinary Kriging* is that the *intrinsic hypothesis* holds for the random field. \n",
    "\n",
    "In other words: The expected value of the random field has to be the same everywhere."
   ]
  },
  {
   "cell_type": "markdown",
   "metadata": {
    "slideshow": {
     "slide_type": "fragment"
    }
   },
   "source": [
    "$$ E(Z(x_0)) = E(Z(x_i)) $$"
   ]
  },
  {
   "cell_type": "markdown",
   "metadata": {
    "slideshow": {
     "slide_type": "fragment"
    }
   },
   "source": [
    "and therefore we expect:\n",
    "\n",
    "$$ E(\\epsilon(x_0)) = 0 $$"
   ]
  },
  {
   "cell_type": "markdown",
   "metadata": {
    "slideshow": {
     "slide_type": "fragment"
    }
   },
   "source": [
    "Looking at the equation from earlier:\n",
    "\n",
    "$$ E(\\epsilon(s_0)) = E\\left(\\sum_{i=1}^N \\lambda_i * (Z^*(s_0) - Z(s_0))\\right) = 0$$"
   ]
  },
  {
   "cell_type": "markdown",
   "metadata": {
    "slideshow": {
     "slide_type": "fragment"
    }
   },
   "source": [
    "Which can only be solved independed from location if:\n",
    "\n",
    "$$ \\sum_{i=1}^N \\lambda_i = 1 $$\n"
   ]
  },
  {
   "cell_type": "markdown",
   "metadata": {
    "slideshow": {
     "slide_type": "subslide"
    }
   },
   "source": [
    "Combining this all together gives the **Kriging equation system**:\n",
    "\n",
    "$$ \n",
    "\\begin{pmatrix}\n",
    "\\gamma(s_1,s_1) & \\gamma(s_1, s_2) & \\ldots & \\gamma(s_1, s_N) & 1 \\\\\n",
    "\\gamma(s_2,s_1) & \\gamma(s_2, s_2) & \\ldots & \\gamma(s_2, s_N) & 1 \\\\\n",
    "\\vdots & \\ldots & \\ddots & \\vdots & 1 \\\\\n",
    "\\gamma(s_N,s_1) & \\gamma(s_N, s_2) & \\ldots & \\gamma(s_N, s_N) & 1 \\\\\n",
    "1 & 1 & \\ldots & 1 & 0 \\\\\n",
    "\\end{pmatrix} * \n",
    "\\begin{bmatrix}\n",
    "\\lambda_1 \\\\\n",
    "\\lambda_2 \\\\\n",
    "\\vdots \\\\\n",
    "\\lambda_N \\\\\n",
    "\\mu\n",
    "\\end{bmatrix} = \n",
    "\\begin{bmatrix}\n",
    "\\gamma(s_1, s_0) \\\\\n",
    "\\gamma(s_2, s_0) \\\\\n",
    "\\vdots \\\\\n",
    "\\gamma(s_N, s_0) \\\\ \n",
    "1\n",
    "\\end{bmatrix}\n",
    "$$"
   ]
  },
  {
   "cell_type": "markdown",
   "metadata": {
    "slideshow": {
     "slide_type": "fragment"
    }
   },
   "source": [
    "We can also assign letters to these matrices like:\n",
    "\n",
    "$$ \\boldsymbol{A} * \\boldsymbol{\\omega} = \\boldsymbol{b} $$ "
   ]
  },
  {
   "cell_type": "markdown",
   "metadata": {
    "slideshow": {
     "slide_type": "subslide"
    }
   },
   "source": [
    "And finally we can solve for $\\omega$ using the dot-product of $b$ and the inverse of $A$:\n",
    "\n",
    "$$ \\boldsymbol{\\omega} = \\boldsymbol{A^{-1}} \\cdot \\boldsymbol{b} $$"
   ]
  },
  {
   "cell_type": "markdown",
   "metadata": {
    "slideshow": {
     "slide_type": "fragment"
    }
   },
   "source": [
    "Finally the first $N$ entries in $\\omega$ are $\\lambda_1, \\lambda_2, \\ldots, \\lambda_N$ and the last element is the lagrangian multiplier $\\mu$ that was needed to met unbiasedness."
   ]
  },
  {
   "cell_type": "markdown",
   "metadata": {
    "slideshow": {
     "slide_type": "slide"
    }
   },
   "source": [
    "## 7.2 Estimating the variogram"
   ]
  },
  {
   "cell_type": "markdown",
   "metadata": {
    "slideshow": {
     "slide_type": "fragment"
    }
   },
   "source": [
    "We will use the variogram of the data sample used in the last lectures as our main means to determine the Kriging weights. Therefore, we need to re-calculate, exactly like in the past lectures."
   ]
  },
  {
   "cell_type": "code",
   "execution_count": 3,
   "metadata": {
    "slideshow": {
     "slide_type": "skip"
    }
   },
   "outputs": [],
   "source": [
    "coords = pd.read_csv('./data/sample_positions.txt', sep='\\s+', header=None)\n",
    "coords.columns = ['x', 'y']\n",
    "data = pd.read_csv('./data/sample_data.txt', sep='\\s+')\n",
    "sample = coords.copy()\n",
    "sample['z'] = data.loc[0, :].values"
   ]
  },
  {
   "cell_type": "markdown",
   "metadata": {
    "slideshow": {
     "slide_type": "subslide"
    }
   },
   "source": [
    "The same data sample will be used:"
   ]
  },
  {
   "cell_type": "code",
   "execution_count": 4,
   "metadata": {
    "slideshow": {
     "slide_type": "fragment"
    }
   },
   "outputs": [
    {
     "data": {
      "text/html": [
       "<div>\n",
       "<style scoped>\n",
       "    .dataframe tbody tr th:only-of-type {\n",
       "        vertical-align: middle;\n",
       "    }\n",
       "\n",
       "    .dataframe tbody tr th {\n",
       "        vertical-align: top;\n",
       "    }\n",
       "\n",
       "    .dataframe thead th {\n",
       "        text-align: right;\n",
       "    }\n",
       "</style>\n",
       "<table border=\"1\" class=\"dataframe\">\n",
       "  <thead>\n",
       "    <tr style=\"text-align: right;\">\n",
       "      <th></th>\n",
       "      <th>x</th>\n",
       "      <th>y</th>\n",
       "      <th>z</th>\n",
       "    </tr>\n",
       "  </thead>\n",
       "  <tbody>\n",
       "    <tr>\n",
       "      <th>0</th>\n",
       "      <td>22</td>\n",
       "      <td>78</td>\n",
       "      <td>-0.203508</td>\n",
       "    </tr>\n",
       "    <tr>\n",
       "      <th>1</th>\n",
       "      <td>3</td>\n",
       "      <td>73</td>\n",
       "      <td>-0.164411</td>\n",
       "    </tr>\n",
       "    <tr>\n",
       "      <th>2</th>\n",
       "      <td>12</td>\n",
       "      <td>85</td>\n",
       "      <td>-0.696673</td>\n",
       "    </tr>\n",
       "    <tr>\n",
       "      <th>3</th>\n",
       "      <td>9</td>\n",
       "      <td>69</td>\n",
       "      <td>-0.555673</td>\n",
       "    </tr>\n",
       "    <tr>\n",
       "      <th>4</th>\n",
       "      <td>78</td>\n",
       "      <td>43</td>\n",
       "      <td>1.286489</td>\n",
       "    </tr>\n",
       "  </tbody>\n",
       "</table>\n",
       "</div>"
      ],
      "text/plain": [
       "    x   y         z\n",
       "0  22  78 -0.203508\n",
       "1   3  73 -0.164411\n",
       "2  12  85 -0.696673\n",
       "3   9  69 -0.555673\n",
       "4  78  43  1.286489"
      ]
     },
     "execution_count": 4,
     "metadata": {},
     "output_type": "execute_result"
    }
   ],
   "source": [
    "sample.head()"
   ]
  },
  {
   "cell_type": "markdown",
   "metadata": {
    "slideshow": {
     "slide_type": "subslide"
    }
   },
   "source": [
    "Like in the previous lectures we need to compile \n",
    "\n",
    "* an array of row-wise sorted pairwise distancs\n",
    "* an array of row-wise sorted pairwise observation - differences\n",
    "* an array of upper limits for binning the distances\n",
    "* an array of row-wise sorted grouping indices to order the differences into lag bins\n",
    "\n",
    "\n",
    "From that we can calculate the experimental variogram and finally fit a model to it. For the sake of simplicity, we use `scikit-gstat` again."
   ]
  },
  {
   "cell_type": "code",
   "execution_count": 5,
   "metadata": {
    "slideshow": {
     "slide_type": "subslide"
    }
   },
   "outputs": [],
   "source": [
    "V = skg.Variogram(\n",
    "    sample[['x', 'y']].values,      # x,y coordinates\n",
    "    sample.z.values,                # observations\n",
    "    maxlag=100,                     # maximum search distance to form pairs\n",
    "    n_lags=8,                       # number of bins\n",
    "    model='gaussian',               # theoretical model\n",
    "    fit_sigma=[.33, .33, .33, 1., 1., 1., 1., 1.]   # give 3x weight to first three bins\n",
    ")"
   ]
  },
  {
   "cell_type": "markdown",
   "metadata": {
    "slideshow": {
     "slide_type": "fragment"
    }
   },
   "source": [
    "Instead of building all the figures again, we can also use the `Variogram.plot` method, that is readily available:"
   ]
  },
  {
   "cell_type": "code",
   "execution_count": 6,
   "metadata": {
    "slideshow": {
     "slide_type": "fragment"
    }
   },
   "outputs": [
    {
     "name": "stderr",
     "output_type": "stream",
     "text": [
      "/home/mirko/Dropbox/python/scikit-gstat/skgstat/Variogram.py:1645: UserWarning: Matplotlib is currently using module://ipykernel.pylab.backend_inline, which is a non-GUI backend, so cannot show the figure.\n",
      "  fig.show()\n"
     ]
    },
    {
     "data": {
      "image/png": "[encoded data removed]",
      "text/plain": [
       "<Figure size 576x360 with 2 Axes>"
      ]
     },
     "metadata": {
      "needs_background": "light"
     },
     "output_type": "display_data"
    }
   ],
   "source": [
    "fig = V.plot()"
   ]
  },
  {
   "cell_type": "code",
   "execution_count": 7,
   "metadata": {
    "slideshow": {
     "slide_type": "subslide"
    }
   },
   "outputs": [
    {
     "name": "stdout",
     "output_type": "stream",
     "text": [
      "gaussian Variogram\n",
      "------------------\n",
      "Estimator:         matheron\n",
      "        \r",
      "Effective Range:   75.78\n",
      "        \r",
      "Sill:              0.84\n",
      "        \r",
      "Nugget:            0.00\n",
      "        \n"
     ]
    }
   ],
   "source": [
    "print(V)"
   ]
  },
  {
   "cell_type": "markdown",
   "metadata": {
    "slideshow": {
     "slide_type": "notes"
    }
   },
   "source": [
    "Remember, if we want to back-calculate the range *parameter* $a$, we have to use the formula:\n",
    "\n",
    "$$ a = \\frac{r}{3} $$"
   ]
  },
  {
   "cell_type": "code",
   "execution_count": 8,
   "metadata": {
    "slideshow": {
     "slide_type": "notes"
    }
   },
   "outputs": [
    {
     "name": "stdout",
     "output_type": "stream",
     "text": [
      "Range parameter: 25.26\n"
     ]
    }
   ],
   "source": [
    "print('Range parameter:', round(V.describe()['effective_range'] / 3., 2))"
   ]
  },
  {
   "cell_type": "markdown",
   "metadata": {
    "slideshow": {
     "slide_type": "fragment"
    }
   },
   "source": [
    "Finally, the `Variogram` can return a parameterized model function that we can use to model the semi-variance at any distance:"
   ]
  },
  {
   "cell_type": "code",
   "execution_count": 9,
   "metadata": {
    "slideshow": {
     "slide_type": "fragment"
    }
   },
   "outputs": [],
   "source": [
    "model = V.fitted_model"
   ]
  },
  {
   "cell_type": "code",
   "execution_count": 10,
   "metadata": {
    "slideshow": {
     "slide_type": "fragment"
    }
   },
   "outputs": [
    {
     "name": "stdout",
     "output_type": "stream",
     "text": [
      "y(75.78) = 0.8261676037188848\n",
      "y(10.)   = 0.05662390401131155\n",
      "y(50.)   = 0.6940638750687906\n",
      "y(10000) = 0.8415832887003124\n"
     ]
    }
   ],
   "source": [
    "print('y(75.78) =', model(75.78))\n",
    "print('y(10.)   =', model(10.))\n",
    "print('y(50.)   =', model(50.))\n",
    "print('y(10000) =', model(10000))"
   ]
  },
  {
   "cell_type": "markdown",
   "metadata": {
    "slideshow": {
     "slide_type": "fragment"
    }
   },
   "source": [
    "Now, we are prepared to calculate the estimation at `(44, 56)`."
   ]
  },
  {
   "cell_type": "markdown",
   "metadata": {
    "slideshow": {
     "slide_type": "slide"
    }
   },
   "source": [
    "## 7.3 Implementation for one point"
   ]
  },
  {
   "cell_type": "markdown",
   "metadata": {
    "slideshow": {
     "slide_type": "fragment"
    }
   },
   "source": [
    "To compare, we will stick to the example used in the IDW excursus and make an estimation for the same location $s_0 = (44, 56)$.\n",
    "\n",
    "We expect to get a similar value here, as the are is well covered by other point. This makes IDW usually quite robust."
   ]
  },
  {
   "cell_type": "markdown",
   "metadata": {
    "slideshow": {
     "slide_type": "subslide"
    }
   },
   "source": [
    "First, we need a distance array for our point of interest to all other points. We can access the distance function used by the variogram class as `Variogram.dist_function`. This is extremely useful, in case we used another measure for distance."
   ]
  },
  {
   "cell_type": "code",
   "execution_count": 11,
   "metadata": {
    "slideshow": {
     "slide_type": "notes"
    }
   },
   "outputs": [],
   "source": [
    "poi = (44, 56)\n",
    "\n",
    "# bit of Python list wrangling\n",
    "poi_sample = list(zip(*[[poi[0]] + list(sample.x.values), [poi[1]] + list(sample.y.values)]))"
   ]
  },
  {
   "cell_type": "markdown",
   "metadata": {
    "slideshow": {
     "slide_type": "fragment"
    }
   },
   "source": [
    "I created a a list `poi_sample` containing the point of interest as first element. Then the first $N$ elements give the distances to the sample"
   ]
  },
  {
   "cell_type": "code",
   "execution_count": 12,
   "metadata": {
    "slideshow": {
     "slide_type": "fragment"
    }
   },
   "outputs": [
    {
     "name": "stdout",
     "output_type": "stream",
     "text": [
      "[31.11 44.38 43.19 37.34 36.4  50.09  9.85 38.47 63.13  6.08 28.16 53.24\n",
      " 43.38 42.45 24.19 46.24 36.25 43.14 42.45 41.05 61.85 37.48 40.61 30.89\n",
      " 21.1  55.23 41.77 37.58 40.36 27.02]\n"
     ]
    }
   ],
   "source": [
    "poi_dist = V.dist_function(poi_sample)[:len(sample)]\n",
    "print(poi_dist.round(2))"
   ]
  },
  {
   "cell_type": "markdown",
   "metadata": {
    "slideshow": {
     "slide_type": "subslide"
    }
   },
   "source": [
    "### 7.3.1 Find neighbors"
   ]
  },
  {
   "cell_type": "markdown",
   "metadata": {
    "slideshow": {
     "slide_type": "fragment"
    }
   },
   "source": [
    "How many neighbors should we include? "
   ]
  },
  {
   "cell_type": "markdown",
   "metadata": {
    "slideshow": {
     "slide_type": "fragment"
    }
   },
   "source": [
    "* In IDW we simply used all points, because there were not too many combinations. Max. of 29 observations were combined into the prediction\n",
    "* For Kriging this is not useful. Why?"
   ]
  },
  {
   "cell_type": "markdown",
   "metadata": {
    "slideshow": {
     "slide_type": "fragment"
    }
   },
   "source": [
    "For each neighbor we add to the estimation, the kriging matrix $\\boldsymbol{A}$ is increasing by **one row and one column**.\n",
    "\n",
    "Look to the variogram: Up to which distance to we **expect** another observation to bear **predictive information** about $s_0$?"
   ]
  },
  {
   "cell_type": "markdown",
   "metadata": {
    "slideshow": {
     "slide_type": "fragment"
    }
   },
   "source": [
    "That is basically the definition of the **effective range**: Up to this distance we expect (and model!) a spatial dependency between observation. Above that distance, we **expect the observations to be statistically independent**."
   ]
  },
  {
   "cell_type": "code",
   "execution_count": 13,
   "metadata": {
    "slideshow": {
     "slide_type": "subslide"
    }
   },
   "outputs": [
    {
     "data": {
      "text/plain": [
       "True"
      ]
     },
     "execution_count": 13,
     "metadata": {},
     "output_type": "execute_result"
    }
   ],
   "source": [
    "all([d < 75.78 for d in poi_dist])"
   ]
  },
  {
   "cell_type": "markdown",
   "metadata": {
    "slideshow": {
     "slide_type": "fragment"
    }
   },
   "source": [
    "**But**, we do not calculate the mean of $\\gamma$, we use $\\gamma$ to derive the weights $\\lambda$ to calculate the weighted mean of $Z$. \n",
    "\n",
    "Think of a weight like this as the inverse of semi-variance. It will drop dramatically with distance.\n",
    "\n",
    "In the next figure, the weights were *approximated* for the given point. Actual weights mights vary a little bit:"
   ]
  },
  {
   "cell_type": "code",
   "execution_count": 14,
   "metadata": {
    "slideshow": {
     "slide_type": "skip"
    }
   },
   "outputs": [
    {
     "data": {
      "text/html": [
       "<div style=\"display: table;\"><div style=\"display: table-row;\"><div style=\"display: table-cell;\"><b title=\"bokeh.models.renderers.GlyphRenderer\">GlyphRenderer</b>(</div><div style=\"display: table-cell;\">id&nbsp;=&nbsp;'1037', <span id=\"1049\" style=\"cursor: pointer;\">&hellip;)</span></div></div><div class=\"1048\" style=\"display: none;\"><div style=\"display: table-cell;\"></div><div style=\"display: table-cell;\">data_source&nbsp;=&nbsp;ColumnDataSource(id='1034', ...),</div></div><div class=\"1048\" style=\"display: none;\"><div style=\"display: table-cell;\"></div><div style=\"display: table-cell;\">glyph&nbsp;=&nbsp;Scatter(id='1035', ...),</div></div><div class=\"1048\" style=\"display: none;\"><div style=\"display: table-cell;\"></div><div style=\"display: table-cell;\">hover_glyph&nbsp;=&nbsp;None,</div></div><div class=\"1048\" style=\"display: none;\"><div style=\"display: table-cell;\"></div><div style=\"display: table-cell;\">js_event_callbacks&nbsp;=&nbsp;{},</div></div><div class=\"1048\" style=\"display: none;\"><div style=\"display: table-cell;\"></div><div style=\"display: table-cell;\">js_property_callbacks&nbsp;=&nbsp;{},</div></div><div class=\"1048\" style=\"display: none;\"><div style=\"display: table-cell;\"></div><div style=\"display: table-cell;\">level&nbsp;=&nbsp;'glyph',</div></div><div class=\"1048\" style=\"display: none;\"><div style=\"display: table-cell;\"></div><div style=\"display: table-cell;\">muted&nbsp;=&nbsp;False,</div></div><div class=\"1048\" style=\"display: none;\"><div style=\"display: table-cell;\"></div><div style=\"display: table-cell;\">muted_glyph&nbsp;=&nbsp;None,</div></div><div class=\"1048\" style=\"display: none;\"><div style=\"display: table-cell;\"></div><div style=\"display: table-cell;\">name&nbsp;=&nbsp;None,</div></div><div class=\"1048\" style=\"display: none;\"><div style=\"display: table-cell;\"></div><div style=\"display: table-cell;\">nonselection_glyph&nbsp;=&nbsp;Scatter(id='1036', ...),</div></div><div class=\"1048\" style=\"display: none;\"><div style=\"display: table-cell;\"></div><div style=\"display: table-cell;\">selection_glyph&nbsp;=&nbsp;None,</div></div><div class=\"1048\" style=\"display: none;\"><div style=\"display: table-cell;\"></div><div style=\"display: table-cell;\">subscribed_events&nbsp;=&nbsp;[],</div></div><div class=\"1048\" style=\"display: none;\"><div style=\"display: table-cell;\"></div><div style=\"display: table-cell;\">tags&nbsp;=&nbsp;[],</div></div><div class=\"1048\" style=\"display: none;\"><div style=\"display: table-cell;\"></div><div style=\"display: table-cell;\">view&nbsp;=&nbsp;CDSView(id='1038', ...),</div></div><div class=\"1048\" style=\"display: none;\"><div style=\"display: table-cell;\"></div><div style=\"display: table-cell;\">visible&nbsp;=&nbsp;True,</div></div><div class=\"1048\" style=\"display: none;\"><div style=\"display: table-cell;\"></div><div style=\"display: table-cell;\">x_range_name&nbsp;=&nbsp;'default',</div></div><div class=\"1048\" style=\"display: none;\"><div style=\"display: table-cell;\"></div><div style=\"display: table-cell;\">y_range_name&nbsp;=&nbsp;'default')</div></div></div>\n",
       "<script>\n",
       "(function() {\n",
       "  var expanded = false;\n",
       "  var ellipsis = document.getElementById(\"1049\");\n",
       "  ellipsis.addEventListener(\"click\", function() {\n",
       "    var rows = document.getElementsByClassName(\"1048\");\n",
       "    for (var i = 0; i < rows.length; i++) {\n",
       "      var el = rows[i];\n",
       "      el.style.display = expanded ? \"none\" : \"table-row\";\n",
       "    }\n",
       "    ellipsis.innerHTML = expanded ? \"&hellip;)\" : \"&lsaquo;&lsaquo;&lsaquo;\";\n",
       "    expanded = !expanded;\n",
       "  });\n",
       "})();\n",
       "</script>\n"
      ],
      "text/plain": [
       "GlyphRenderer(id='1037', ...)"
      ]
     },
     "execution_count": 14,
     "metadata": {},
     "output_type": "execute_result"
    }
   ],
   "source": [
    "dep = figure(width=500, height=500, x_axis_label='h', y_axis_label='w')\n",
    "\n",
    "# **approximate** the weights\n",
    "w = inv(V.distance_matrix).dot(poi_dist)\n",
    "\n",
    "dep.scatter(poi_dist, w, marker='square', size=9, legend_label='approx. weights')"
   ]
  },
  {
   "cell_type": "code",
   "execution_count": 15,
   "metadata": {
    "slideshow": {
     "slide_type": "subslide"
    }
   },
   "outputs": [
    {
     "data": {
      "text/html": [
       "\n",
       "\n",
       "\n",
       "\n",
       "\n",
       "\n",
       "  <div class=\"bk-root\" id=\"10a36551-48aa-4a7f-a8de-edf465231cfc\" data-root-id=\"1002\"></div>\n"
      ]
     },
     "metadata": {},
     "output_type": "display_data"
    },
    {
     "data": {
      "application/javascript": [
       "(function(root) {\n",
       "  function embed_document(root) {\n",
       "    \n",
       "  var docs_json = {\"fef8aafb-4b2e-4137-88b2-221401e5c6e3\":{\"roots\":{\"references\":[{\"attributes\":{\"below\":[{\"id\":\"1011\",\"type\":\"LinearAxis\"}],\"center\":[{\"id\":\"1015\",\"type\":\"Grid\"},{\"id\":\"1020\",\"type\":\"Grid\"},{\"id\":\"1046\",\"type\":\"Legend\"}],\"left\":[{\"id\":\"1016\",\"type\":\"LinearAxis\"}],\"plot_height\":500,\"plot_width\":500,\"renderers\":[{\"id\":\"1037\",\"type\":\"GlyphRenderer\"}],\"title\":{\"id\":\"1040\",\"type\":\"Title\"},\"toolbar\":{\"id\":\"1027\",\"type\":\"Toolbar\"},\"x_range\":{\"id\":\"1003\",\"type\":\"DataRange1d\"},\"x_scale\":{\"id\":\"1007\",\"type\":\"LinearScale\"},\"y_range\":{\"id\":\"1005\",\"type\":\"DataRange1d\"},\"y_scale\":{\"id\":\"1009\",\"type\":\"LinearScale\"}},\"id\":\"1002\",\"subtype\":\"Figure\",\"type\":\"Plot\"},{\"attributes\":{},\"id\":\"1012\",\"type\":\"BasicTicker\"},{\"attributes\":{\"ticker\":{\"id\":\"1012\",\"type\":\"BasicTicker\"}},\"id\":\"1015\",\"type\":\"Grid\"},{\"attributes\":{},\"id\":\"1041\",\"type\":\"BasicTickFormatter\"},{\"attributes\":{\"text\":\"\"},\"id\":\"1040\",\"type\":\"Title\"},{\"attributes\":{},\"id\":\"1017\",\"type\":\"BasicTicker\"},{\"attributes\":{\"source\":{\"id\":\"1034\",\"type\":\"ColumnDataSource\"}},\"id\":\"1038\",\"type\":\"CDSView\"},{\"attributes\":{\"dimension\":1,\"ticker\":{\"id\":\"1017\",\"type\":\"BasicTicker\"}},\"id\":\"1020\",\"type\":\"Grid\"},{\"attributes\":{\"callback\":null,\"data\":{\"x\":{\"__ndarray__\":\"OfLuzNkcP0AWndtCPTFGQO8siT3Dl0VA1k/ELwyrQkByXUo0RTNCQICLdniCC0lAYlZjfZ2yI0DJ4D4hQjxDQMHf+lpAkU9AOdxjs79UGEAFbCuEBik8QPORvS4fnkpA1U74KOawRUA+5pWimDlFQDiYEl/QLzhABjpmkIceR0DR+lrA4x9CQG9+cOLUkUVAPuaVopg5RUARr0B9PYZEQG3cieBc7E5Axq/Ivt29QkCgq30Lz01EQMzAMUAL4z5AdaY8b1MYNUDaVPXyB51LQHzkyB/44kRANSCJps3JQkCHSu4OMS5EQCM7tja9BDtA\",\"dtype\":\"float64\",\"shape\":[30]},\"y\":{\"__ndarray__\":\"kJWruvumgD8AAL67JgVEvwAA+4czPSW/ADQTvhhWer8A1Ip3EWdbvwCgpCGjflg/xt4eYcfj0z8AMgZf60eLv8DYltIzxHG/cKmdVT0T4j/o7bk0DBasPwAAni0SN16/QHag5JRlhb+AUqFjEP9gv6Bq070XIbc/AJA6DfDuST8AAKqR8AJAvwAAQw3cxiQ/AC+AAkioh78AWjn1Yb53vwDQaEw9alm/AKbfaFl8hL8AMFsesqVZvwCaz+tru4i/+LuLsOA1sT8AsHeOWclkv1ANOdi1z2K/gN5RmfTqi78AgDfyIzYqvwAYw66CrGU/\",\"dtype\":\"float64\",\"shape\":[30]}},\"selected\":{\"id\":\"1058\",\"type\":\"Selection\"},\"selection_policy\":{\"id\":\"1057\",\"type\":\"UnionRenderers\"}},\"id\":\"1034\",\"type\":\"ColumnDataSource\"},{\"attributes\":{},\"id\":\"1058\",\"type\":\"Selection\"},{\"attributes\":{\"active_drag\":\"auto\",\"active_inspect\":\"auto\",\"active_multi\":null,\"active_scroll\":\"auto\",\"active_tap\":\"auto\",\"tools\":[{\"id\":\"1021\",\"type\":\"PanTool\"},{\"id\":\"1022\",\"type\":\"WheelZoomTool\"},{\"id\":\"1023\",\"type\":\"BoxZoomTool\"},{\"id\":\"1024\",\"type\":\"SaveTool\"},{\"id\":\"1025\",\"type\":\"ResetTool\"},{\"id\":\"1026\",\"type\":\"HelpTool\"}]},\"id\":\"1027\",\"type\":\"Toolbar\"},{\"attributes\":{\"fill_color\":{\"value\":\"#1f77b4\"},\"line_color\":{\"value\":\"#1f77b4\"},\"marker\":{\"value\":\"square\"},\"size\":{\"units\":\"screen\",\"value\":9},\"x\":{\"field\":\"x\"},\"y\":{\"field\":\"y\"}},\"id\":\"1035\",\"type\":\"Scatter\"},{\"attributes\":{},\"id\":\"1043\",\"type\":\"BasicTickFormatter\"},{\"attributes\":{},\"id\":\"1021\",\"type\":\"PanTool\"},{\"attributes\":{\"fill_alpha\":{\"value\":0.1},\"fill_color\":{\"value\":\"#1f77b4\"},\"line_alpha\":{\"value\":0.1},\"line_color\":{\"value\":\"#1f77b4\"},\"marker\":{\"value\":\"square\"},\"size\":{\"units\":\"screen\",\"value\":9},\"x\":{\"field\":\"x\"},\"y\":{\"field\":\"y\"}},\"id\":\"1036\",\"type\":\"Scatter\"},{\"attributes\":{},\"id\":\"1022\",\"type\":\"WheelZoomTool\"},{\"attributes\":{\"overlay\":{\"id\":\"1045\",\"type\":\"BoxAnnotation\"}},\"id\":\"1023\",\"type\":\"BoxZoomTool\"},{\"attributes\":{\"label\":{\"value\":\"approx. weights\"},\"renderers\":[{\"id\":\"1037\",\"type\":\"GlyphRenderer\"}]},\"id\":\"1047\",\"type\":\"LegendItem\"},{\"attributes\":{},\"id\":\"1024\",\"type\":\"SaveTool\"},{\"attributes\":{},\"id\":\"1025\",\"type\":\"ResetTool\"},{\"attributes\":{\"bottom_units\":\"screen\",\"fill_alpha\":{\"value\":0.5},\"fill_color\":{\"value\":\"lightgrey\"},\"left_units\":\"screen\",\"level\":\"overlay\",\"line_alpha\":{\"value\":1.0},\"line_color\":{\"value\":\"black\"},\"line_dash\":[4,4],\"line_width\":{\"value\":2},\"render_mode\":\"css\",\"right_units\":\"screen\",\"top_units\":\"screen\"},\"id\":\"1045\",\"type\":\"BoxAnnotation\"},{\"attributes\":{},\"id\":\"1057\",\"type\":\"UnionRenderers\"},{\"attributes\":{\"axis_label\":\"w\",\"formatter\":{\"id\":\"1043\",\"type\":\"BasicTickFormatter\"},\"ticker\":{\"id\":\"1017\",\"type\":\"BasicTicker\"}},\"id\":\"1016\",\"type\":\"LinearAxis\"},{\"attributes\":{},\"id\":\"1026\",\"type\":\"HelpTool\"},{\"attributes\":{\"callback\":null},\"id\":\"1005\",\"type\":\"DataRange1d\"},{\"attributes\":{\"items\":[{\"id\":\"1047\",\"type\":\"LegendItem\"}]},\"id\":\"1046\",\"type\":\"Legend\"},{\"attributes\":{\"axis_label\":\"h\",\"formatter\":{\"id\":\"1041\",\"type\":\"BasicTickFormatter\"},\"ticker\":{\"id\":\"1012\",\"type\":\"BasicTicker\"}},\"id\":\"1011\",\"type\":\"LinearAxis\"},{\"attributes\":{},\"id\":\"1009\",\"type\":\"LinearScale\"},{\"attributes\":{\"callback\":null},\"id\":\"1003\",\"type\":\"DataRange1d\"},{\"attributes\":{},\"id\":\"1007\",\"type\":\"LinearScale\"},{\"attributes\":{\"data_source\":{\"id\":\"1034\",\"type\":\"ColumnDataSource\"},\"glyph\":{\"id\":\"1035\",\"type\":\"Scatter\"},\"hover_glyph\":null,\"muted_glyph\":null,\"nonselection_glyph\":{\"id\":\"1036\",\"type\":\"Scatter\"},\"selection_glyph\":null,\"view\":{\"id\":\"1038\",\"type\":\"CDSView\"}},\"id\":\"1037\",\"type\":\"GlyphRenderer\"}],\"root_ids\":[\"1002\"]},\"title\":\"Bokeh Application\",\"version\":\"1.4.0\"}};\n",
       "  var render_items = [{\"docid\":\"fef8aafb-4b2e-4137-88b2-221401e5c6e3\",\"roots\":{\"1002\":\"10a36551-48aa-4a7f-a8de-edf465231cfc\"}}];\n",
       "  root.Bokeh.embed.embed_items_notebook(docs_json, render_items);\n",
       "\n",
       "  }\n",
       "  if (root.Bokeh !== undefined) {\n",
       "    embed_document(root);\n",
       "  } else {\n",
       "    var attempts = 0;\n",
       "    var timer = setInterval(function(root) {\n",
       "      if (root.Bokeh !== undefined) {\n",
       "        clearInterval(timer);\n",
       "        embed_document(root);\n",
       "      } else {\n",
       "        attempts++;\n",
       "        if (attempts > 100) {\n",
       "          clearInterval(timer);\n",
       "          console.log(\"Bokeh: ERROR: Unable to run BokehJS code because BokehJS library is missing\");\n",
       "        }\n",
       "      }\n",
       "    }, 10, root)\n",
       "  }\n",
       "})(window);"
      ],
      "application/vnd.bokehjs_exec.v0+json": ""
     },
     "metadata": {
      "application/vnd.bokehjs_exec.v0+json": {
       "id": "1002"
      }
     },
     "output_type": "display_data"
    }
   ],
   "source": [
    "show(dep)"
   ]
  },
  {
   "cell_type": "markdown",
   "metadata": {
    "slideshow": {
     "slide_type": "subslide"
    }
   },
   "source": [
    "* You can see that the estimation will largely depend on only two close observations"
   ]
  },
  {
   "cell_type": "markdown",
   "metadata": {
    "slideshow": {
     "slide_type": "fragment"
    }
   },
   "source": [
    "* in the **presented example** using more than 6 neighbors for estimation does literally not make any differene"
   ]
  },
  {
   "cell_type": "markdown",
   "metadata": {
    "slideshow": {
     "slide_type": "fragment"
    }
   },
   "source": [
    "* remember that the plot above is bound to the example point of `(44, 56)` and will differ for other locations"
   ]
  },
  {
   "cell_type": "markdown",
   "metadata": {
    "slideshow": {
     "slide_type": "fragment"
    }
   },
   "source": [
    "* From experience we can tell that using more than `15` points does usually not make sense"
   ]
  },
  {
   "cell_type": "markdown",
   "metadata": {
    "slideshow": {
     "slide_type": "subslide"
    }
   },
   "source": [
    "My personal strategy is to:"
   ]
  },
  {
   "cell_type": "markdown",
   "metadata": {
    "slideshow": {
     "slide_type": "fragment"
    }
   },
   "source": [
    "* search inside the `effective range` for neighbors and limit the number to a (hyper-)parameter of `max_points=15`, which I usually not change."
   ]
  },
  {
   "cell_type": "markdown",
   "metadata": {
    "slideshow": {
     "slide_type": "fragment"
    }
   },
   "source": [
    "* set another (hyper-)parameter of `min_points=3`. If less points are within the range, I estimate a `NaN`"
   ]
  },
  {
   "cell_type": "markdown",
   "metadata": {
    "slideshow": {
     "slide_type": "fragment"
    }
   },
   "source": [
    "* If many sample points are available (like > 200) I set `min_points=5`"
   ]
  },
  {
   "cell_type": "markdown",
   "metadata": {
    "slideshow": {
     "slide_type": "fragment"
    }
   },
   "source": [
    "* In case `15%` of all estimations end up with `NaN`, I do not trust the results. Quite often, this is because the `effective_range` is really small. Sometimes, the variogram can be adjusted."
   ]
  },
  {
   "cell_type": "code",
   "execution_count": 16,
   "metadata": {
    "slideshow": {
     "slide_type": "subslide"
    }
   },
   "outputs": [
    {
     "data": {
      "text/plain": [
       "array([ 9,  6, 24, 14, 29, 10, 23,  0, 16,  4,  3, 21, 27,  7, 28, 22, 19,\n",
       "       26, 13, 18, 17,  2, 12,  1, 15,  5, 11, 25, 20,  8])"
      ]
     },
     "execution_count": 16,
     "metadata": {},
     "output_type": "execute_result"
    }
   ],
   "source": [
    "sorted_index = np.argsort(poi_dist)\n",
    "sorted_index"
   ]
  },
  {
   "cell_type": "markdown",
   "metadata": {
    "slideshow": {
     "slide_type": "skip"
    }
   },
   "source": [
    "The numpy function `argsort` will sort an array but return the **index** to sort the values.\n",
    "\n",
    "In Octave, the `sort` function returns two objects: the sorted array and the sorted index:\n",
    "\n",
    "```Matlab\n",
    "[sorted, index] = sort(pot_dist)\n",
    "```"
   ]
  },
  {
   "cell_type": "code",
   "execution_count": 17,
   "metadata": {
    "slideshow": {
     "slide_type": "fragment"
    }
   },
   "outputs": [
    {
     "data": {
      "text/html": [
       "<div>\n",
       "<style scoped>\n",
       "    .dataframe tbody tr th:only-of-type {\n",
       "        vertical-align: middle;\n",
       "    }\n",
       "\n",
       "    .dataframe tbody tr th {\n",
       "        vertical-align: top;\n",
       "    }\n",
       "\n",
       "    .dataframe thead th {\n",
       "        text-align: right;\n",
       "    }\n",
       "</style>\n",
       "<table border=\"1\" class=\"dataframe\">\n",
       "  <thead>\n",
       "    <tr style=\"text-align: right;\">\n",
       "      <th></th>\n",
       "      <th>x</th>\n",
       "      <th>y</th>\n",
       "      <th>z</th>\n",
       "    </tr>\n",
       "  </thead>\n",
       "  <tbody>\n",
       "    <tr>\n",
       "      <th>9</th>\n",
       "      <td>43</td>\n",
       "      <td>50</td>\n",
       "      <td>0.763894</td>\n",
       "    </tr>\n",
       "    <tr>\n",
       "      <th>6</th>\n",
       "      <td>35</td>\n",
       "      <td>60</td>\n",
       "      <td>0.572388</td>\n",
       "    </tr>\n",
       "    <tr>\n",
       "      <th>24</th>\n",
       "      <td>62</td>\n",
       "      <td>45</td>\n",
       "      <td>1.840647</td>\n",
       "    </tr>\n",
       "    <tr>\n",
       "      <th>14</th>\n",
       "      <td>65</td>\n",
       "      <td>68</td>\n",
       "      <td>0.717486</td>\n",
       "    </tr>\n",
       "    <tr>\n",
       "      <th>29</th>\n",
       "      <td>23</td>\n",
       "      <td>73</td>\n",
       "      <td>-0.230938</td>\n",
       "    </tr>\n",
       "    <tr>\n",
       "      <th>10</th>\n",
       "      <td>52</td>\n",
       "      <td>83</td>\n",
       "      <td>-0.253400</td>\n",
       "    </tr>\n",
       "  </tbody>\n",
       "</table>\n",
       "</div>"
      ],
      "text/plain": [
       "     x   y         z\n",
       "9   43  50  0.763894\n",
       "6   35  60  0.572388\n",
       "24  62  45  1.840647\n",
       "14  65  68  0.717486\n",
       "29  23  73 -0.230938\n",
       "10  52  83 -0.253400"
      ]
     },
     "execution_count": 17,
     "metadata": {},
     "output_type": "execute_result"
    }
   ],
   "source": [
    "neighbors = sample.iloc[sorted_index[:6], :]\n",
    "neighbors"
   ]
  },
  {
   "cell_type": "markdown",
   "metadata": {
    "slideshow": {
     "slide_type": "slide"
    }
   },
   "source": [
    "## 7.4 Implementation for one point"
   ]
  },
  {
   "cell_type": "markdown",
   "metadata": {},
   "source": [
    "### 7.4.1 Build the Kriging matrix"
   ]
  },
  {
   "cell_type": "markdown",
   "metadata": {
    "slideshow": {
     "slide_type": "fragment"
    }
   },
   "source": [
    "Finally, we got everything together to build the kriging matrix. We could either extract the distances for the selected observations from the (squareform) distance matrix, but as we go for only one point and use only 6 observations, we can also easily re-calculate the distances:"
   ]
  },
  {
   "cell_type": "code",
   "execution_count": 18,
   "metadata": {
    "slideshow": {
     "slide_type": "subslide"
    }
   },
   "outputs": [
    {
     "data": {
      "text/plain": [
       "array([[ 0.  , 12.81, 19.68, 28.43, 30.5 , 34.22],\n",
       "       [12.81,  0.  , 30.91, 31.05, 17.71, 28.61],\n",
       "       [19.68, 30.91,  0.  , 23.22, 48.06, 39.35],\n",
       "       [28.43, 31.05, 23.22,  0.  , 42.31, 19.87],\n",
       "       [30.5 , 17.71, 48.06, 42.31,  0.  , 30.68],\n",
       "       [34.22, 28.61, 39.35, 19.87, 30.68,  0.  ]])"
      ]
     },
     "execution_count": 18,
     "metadata": {},
     "output_type": "execute_result"
    }
   ],
   "source": [
    "squareform(pdist(neighbors)).round(2)"
   ]
  },
  {
   "cell_type": "markdown",
   "metadata": {
    "slideshow": {
     "slide_type": "fragment"
    }
   },
   "source": [
    "This is nothing new and as we have the `model` extracted and the distances as an array, it's easy to use semi-variances instead of distances:"
   ]
  },
  {
   "cell_type": "code",
   "execution_count": 19,
   "metadata": {
    "slideshow": {
     "slide_type": "fragment"
    }
   },
   "outputs": [
    {
     "data": {
      "text/plain": [
       "array([[0.  , 0.09, 0.2 , 0.36, 0.4 , 0.47],\n",
       "       [0.09, 0.  , 0.41, 0.41, 0.17, 0.37],\n",
       "       [0.2 , 0.41, 0.  , 0.26, 0.67, 0.56],\n",
       "       [0.36, 0.41, 0.26, 0.  , 0.6 , 0.2 ],\n",
       "       [0.4 , 0.17, 0.67, 0.6 , 0.  , 0.4 ],\n",
       "       [0.47, 0.37, 0.56, 0.2 , 0.4 , 0.  ]])"
      ]
     },
     "execution_count": 19,
     "metadata": {},
     "output_type": "execute_result"
    }
   ],
   "source": [
    "_co = squareform([model(d) for d in pdist(neighbors)])\n",
    "_co.round(2)"
   ]
  },
  {
   "cell_type": "markdown",
   "metadata": {
    "slideshow": {
     "slide_type": "subslide"
    }
   },
   "source": [
    "The next step is easy to follow, but usually needs a more or less complicated implementation in the language you are using.\n",
    "\n",
    "We need to append a row and a column of `1` and set the most right lowest value to `0`. In any C-like language (which Python here ultimately is as we use numpy and also Matlab relies ultimately on it) we usually cannot just *add* an element. "
   ]
  },
  {
   "cell_type": "code",
   "execution_count": 20,
   "metadata": {
    "slideshow": {
     "slide_type": "fragment"
    }
   },
   "outputs": [
    {
     "data": {
      "text/plain": [
       "array([[0.  , 0.09, 0.2 , 0.36, 0.4 , 0.47],\n",
       "       [0.09, 0.  , 0.41, 0.41, 0.17, 0.37],\n",
       "       [0.2 , 0.41, 0.  , 0.26, 0.67, 0.56],\n",
       "       [0.36, 0.41, 0.26, 0.  , 0.6 , 0.2 ],\n",
       "       [0.4 , 0.17, 0.67, 0.6 , 0.  , 0.4 ],\n",
       "       [0.47, 0.37, 0.56, 0.2 , 0.4 , 0.  ],\n",
       "       [1.  , 1.  , 1.  , 1.  , 1.  , 1.  ]])"
      ]
     },
     "execution_count": 20,
     "metadata": {},
     "output_type": "execute_result"
    }
   ],
   "source": [
    "np.vstack((_co, np.ones(6).T)).round(2)"
   ]
  },
  {
   "cell_type": "markdown",
   "metadata": {
    "slideshow": {
     "slide_type": "subslide"
    }
   },
   "source": [
    "In Python, we can do the same for the column, by transposing the matrix, stack the row and transpose again. This is easy and fast, because, the array is just indexed differently not really sorted."
   ]
  },
  {
   "cell_type": "code",
   "execution_count": 21,
   "metadata": {
    "slideshow": {
     "slide_type": "fragment"
    }
   },
   "outputs": [
    {
     "data": {
      "text/plain": [
       "array([[0.  , 0.09, 0.2 , 0.36, 0.4 , 0.47, 1.  ],\n",
       "       [0.09, 0.  , 0.41, 0.41, 0.17, 0.37, 1.  ],\n",
       "       [0.2 , 0.41, 0.  , 0.26, 0.67, 0.56, 1.  ],\n",
       "       [0.36, 0.41, 0.26, 0.  , 0.6 , 0.2 , 1.  ],\n",
       "       [0.4 , 0.17, 0.67, 0.6 , 0.  , 0.4 , 1.  ],\n",
       "       [0.47, 0.37, 0.56, 0.2 , 0.4 , 0.  , 1.  ],\n",
       "       [1.  , 1.  , 1.  , 1.  , 1.  , 1.  , 0.  ]])"
      ]
     },
     "execution_count": 21,
     "metadata": {},
     "output_type": "execute_result"
    }
   ],
   "source": [
    "_co2 = np.vstack((_co, np.ones(6).T))\n",
    "A = np.vstack((_co2.T, np.ones(7).T)).T\n",
    "A[-1, -1] = 0\n",
    "A.round(2)"
   ]
  },
  {
   "cell_type": "markdown",
   "metadata": {
    "slideshow": {
     "slide_type": "subslide"
    }
   },
   "source": [
    "That was $\\boldsymbol{A}$. Now we need b, which is can be calculated by mapping the model on `poi_dist` and appending a `1`:"
   ]
  },
  {
   "cell_type": "code",
   "execution_count": 22,
   "metadata": {
    "slideshow": {
     "slide_type": "fragment"
    }
   },
   "outputs": [
    {
     "data": {
      "text/plain": [
       "array([0.02, 0.05, 0.22, 0.28, 0.34, 0.36, 1.  ])"
      ]
     },
     "execution_count": 22,
     "metadata": {},
     "output_type": "execute_result"
    }
   ],
   "source": [
    "# map the \n",
    "_g = list(map(model, poi_dist[sorted_index][:6]))\n",
    "b = np.concatenate((_g, [1]))\n",
    "b.T.round(2)"
   ]
  },
  {
   "cell_type": "markdown",
   "metadata": {
    "slideshow": {
     "slide_type": "subslide"
    }
   },
   "source": [
    "### 7.4.2 Solve"
   ]
  },
  {
   "cell_type": "markdown",
   "metadata": {
    "slideshow": {
     "slide_type": "fragment"
    }
   },
   "source": [
    "Now solve:\n",
    "\n",
    "As introduced and described above, we will just use the `inv` function to inverse a matrix. I will not introduce the procedure how to invert a matrix. This should have been part of your maths classes in the Bachelor and beyond the scope of this lecture.\n",
    "\n",
    "One thing that this step inplies is that the matrix $\\boldsymbol{A}$ can actually be inverted. This is most often not the case if it's a singular matrix and your compiler will then tell you so."
   ]
  },
  {
   "cell_type": "code",
   "execution_count": 23,
   "metadata": {
    "slideshow": {
     "slide_type": "fragment"
    }
   },
   "outputs": [
    {
     "data": {
      "text/plain": [
       "array([ 0.37,  0.62,  0.07,  0.09, -0.17,  0.03, -0.03])"
      ]
     },
     "execution_count": 23,
     "metadata": {},
     "output_type": "execute_result"
    }
   ],
   "source": [
    "result = inv(A).dot(b)\n",
    "result.round(2)"
   ]
  },
  {
   "cell_type": "markdown",
   "metadata": {
    "slideshow": {
     "slide_type": "skip"
    }
   },
   "source": [
    "Again, Octave and Matlab use exactly the same function name."
   ]
  },
  {
   "cell_type": "markdown",
   "metadata": {
    "slideshow": {
     "slide_type": "skip"
    }
   },
   "source": [
    "Be careful with the different kind of matrix-multiplications:"
   ]
  },
  {
   "cell_type": "code",
   "execution_count": 24,
   "metadata": {
    "slideshow": {
     "slide_type": "skip"
    }
   },
   "outputs": [
    {
     "data": {
      "text/plain": [
       "False"
      ]
     },
     "execution_count": 24,
     "metadata": {},
     "output_type": "execute_result"
    }
   ],
   "source": [
    "(inv(A).dot(b) == inv(A) * b).all()"
   ]
  },
  {
   "cell_type": "markdown",
   "metadata": {
    "slideshow": {
     "slide_type": "skip"
    }
   },
   "source": [
    "Python implements other algorithms and techniques to solve a system of linear equations. Most of them are available in either the `scipy.linalg` or `numpy.linalg` package. As a rule of thumb: The `scipy` versions usually run some tests on the input to raise more meaningful error messages. The `numpy` versions usually just include barebones math: faster but less verbose output on failure. In some functions you just always receive a `LinAlgError` if *anything* goes wrong."
   ]
  },
  {
   "cell_type": "markdown",
   "metadata": {
    "slideshow": {
     "slide_type": "subslide"
    }
   },
   "source": [
    "### 7.4.3 Estimate"
   ]
  },
  {
   "cell_type": "code",
   "execution_count": 25,
   "metadata": {
    "slideshow": {
     "slide_type": "fragment"
    }
   },
   "outputs": [
    {
     "data": {
      "text/html": [
       "<div>\n",
       "<style scoped>\n",
       "    .dataframe tbody tr th:only-of-type {\n",
       "        vertical-align: middle;\n",
       "    }\n",
       "\n",
       "    .dataframe tbody tr th {\n",
       "        vertical-align: top;\n",
       "    }\n",
       "\n",
       "    .dataframe thead th {\n",
       "        text-align: right;\n",
       "    }\n",
       "</style>\n",
       "<table border=\"1\" class=\"dataframe\">\n",
       "  <thead>\n",
       "    <tr style=\"text-align: right;\">\n",
       "      <th></th>\n",
       "      <th>x</th>\n",
       "      <th>y</th>\n",
       "      <th>z</th>\n",
       "      <th>weight</th>\n",
       "      <th>weighted value</th>\n",
       "    </tr>\n",
       "  </thead>\n",
       "  <tbody>\n",
       "    <tr>\n",
       "      <th>9</th>\n",
       "      <td>43</td>\n",
       "      <td>50</td>\n",
       "      <td>0.763894</td>\n",
       "      <td>0.368508</td>\n",
       "      <td>0.281501</td>\n",
       "    </tr>\n",
       "    <tr>\n",
       "      <th>6</th>\n",
       "      <td>35</td>\n",
       "      <td>60</td>\n",
       "      <td>0.572388</td>\n",
       "      <td>0.615905</td>\n",
       "      <td>0.352537</td>\n",
       "    </tr>\n",
       "    <tr>\n",
       "      <th>24</th>\n",
       "      <td>62</td>\n",
       "      <td>45</td>\n",
       "      <td>1.840647</td>\n",
       "      <td>0.068159</td>\n",
       "      <td>0.125456</td>\n",
       "    </tr>\n",
       "    <tr>\n",
       "      <th>14</th>\n",
       "      <td>65</td>\n",
       "      <td>68</td>\n",
       "      <td>0.717486</td>\n",
       "      <td>0.086494</td>\n",
       "      <td>0.062058</td>\n",
       "    </tr>\n",
       "    <tr>\n",
       "      <th>29</th>\n",
       "      <td>23</td>\n",
       "      <td>73</td>\n",
       "      <td>-0.230938</td>\n",
       "      <td>-0.173967</td>\n",
       "      <td>0.040176</td>\n",
       "    </tr>\n",
       "    <tr>\n",
       "      <th>10</th>\n",
       "      <td>52</td>\n",
       "      <td>83</td>\n",
       "      <td>-0.253400</td>\n",
       "      <td>0.034902</td>\n",
       "      <td>-0.008844</td>\n",
       "    </tr>\n",
       "  </tbody>\n",
       "</table>\n",
       "</div>"
      ],
      "text/plain": [
       "     x   y         z    weight  weighted value\n",
       "9   43  50  0.763894  0.368508        0.281501\n",
       "6   35  60  0.572388  0.615905        0.352537\n",
       "24  62  45  1.840647  0.068159        0.125456\n",
       "14  65  68  0.717486  0.086494        0.062058\n",
       "29  23  73 -0.230938 -0.173967        0.040176\n",
       "10  52  83 -0.253400  0.034902       -0.008844"
      ]
     },
     "execution_count": 25,
     "metadata": {},
     "output_type": "execute_result"
    }
   ],
   "source": [
    "examp = sample.iloc[sorted_index[:6], :].copy()\n",
    "\n",
    "# append the weight\n",
    "examp['weight'] = result[:-1]\n",
    "\n",
    "# append the weighted value\n",
    "examp['weighted value'] = examp.z * examp.weight\n",
    "\n",
    "examp"
   ]
  },
  {
   "cell_type": "code",
   "execution_count": 26,
   "metadata": {
    "slideshow": {
     "slide_type": "subslide"
    }
   },
   "outputs": [
    {
     "name": "stdout",
     "output_type": "stream",
     "text": [
      "Mean: 0.57\n"
     ]
    },
    {
     "data": {
      "text/plain": [
       "weight            1.000000\n",
       "weighted value    0.852883\n",
       "dtype: float64"
      ]
     },
     "execution_count": 26,
     "metadata": {},
     "output_type": "execute_result"
    }
   ],
   "source": [
    "print('Mean:', examp.z.mean().round(2))\n",
    "examp[['weight', 'weighted value']].sum() "
   ]
  },
  {
   "cell_type": "markdown",
   "metadata": {
    "slideshow": {
     "slide_type": "fragment"
    }
   },
   "source": [
    "*In a real implementation, you would of course calculate the estimation in one step. This was only for illustration purpose.*"
   ]
  },
  {
   "cell_type": "markdown",
   "metadata": {
    "slideshow": {
     "slide_type": "fragment"
    }
   },
   "source": [
    "Actually summing up the weights can be used to test during development. They **have to** sum up to one, with the exception of numerical deviations. Therefore you would usually test for the difference to a threshold:"
   ]
  },
  {
   "cell_type": "code",
   "execution_count": 27,
   "metadata": {
    "slideshow": {
     "slide_type": "fragment"
    }
   },
   "outputs": [
    {
     "data": {
      "text/plain": [
       "True"
      ]
     },
     "execution_count": 27,
     "metadata": {},
     "output_type": "execute_result"
    }
   ],
   "source": [
    "abs(sum(result[:-1]) - 1.0) < 0.001"
   ]
  },
  {
   "cell_type": "markdown",
   "metadata": {
    "slideshow": {
     "slide_type": "subslide"
    }
   },
   "source": [
    "### 7.4.4 Kriging variance"
   ]
  },
  {
   "cell_type": "markdown",
   "metadata": {
    "slideshow": {
     "slide_type": "fragment"
    }
   },
   "source": [
    "One of the huge benefits of Kriging is, that once we calculated the weights we can also calculate the kriging variance from this. \n",
    "\n",
    "For this, we simply weight the semi-variances for the point of interest to the meighbors and add the lagrange parameter, we needed to solve the equation system.\n",
    "\n",
    "$$ \\sigma^2 = \\sum_{i=1}^N \\left(\\lambda_i * \\gamma(s_0, s_i)\\right) + \\mu $$"
   ]
  },
  {
   "cell_type": "code",
   "execution_count": 30,
   "metadata": {
    "slideshow": {
     "slide_type": "fragment"
    }
   },
   "outputs": [
    {
     "data": {
      "text/plain": [
       "0.009498665588521929"
      ]
     },
     "execution_count": 30,
     "metadata": {},
     "output_type": "execute_result"
    }
   ],
   "source": [
    "# I could be wrong here\n",
    "sum(result[:-1] * b[:-1]) + result[-1] "
   ]
  },
  {
   "cell_type": "markdown",
   "metadata": {
    "slideshow": {
     "slide_type": "fragment"
    }
   },
   "source": [
    "Thus, finally we can predict at unobserved locations and make a statement about our **certainty** with this estimation."
   ]
  },
  {
   "cell_type": "markdown",
   "metadata": {
    "slideshow": {
     "slide_type": "slide"
    }
   },
   "source": [
    "## 7.5 Estimating a whole field"
   ]
  },
  {
   "cell_type": "markdown",
   "metadata": {
    "slideshow": {
     "slide_type": "fragment"
    }
   },
   "source": [
    "The last step is, just like for IDW, to automate the process and apply the algorithm to a set of unobserved locations. "
   ]
  },
  {
   "cell_type": "markdown",
   "metadata": {
    "slideshow": {
     "slide_type": "skip"
    }
   },
   "source": [
    "As the estimation at one point is independent of estimations at other location, this process can be highly parallelized. This can speed things up as modern laptops are capable of simultaneously execuing 8 or 16 processes. \n",
    "\n",
    "On cloud resources you can easily scale to literally hundresds of nodes at low cost."
   ]
  },
  {
   "cell_type": "markdown",
   "metadata": {
    "slideshow": {
     "slide_type": "fragment"
    }
   },
   "source": [
    "We will also stick to the same parameter as with IDW, but to make things a bit clearer, we will first implement the kriging for one point into a function.\n",
    "\n",
    "Furthermore, it is often very helpful to place the building (and solving) of the kriging matrix into yet another function. This is where some Kriging algorithms differ and where you can speed things up.\n",
    "Also, if you run into errors, it's often wise to separate math and number wrangling.\n",
    "\n",
    "Go for the matrix first:"
   ]
  },
  {
   "cell_type": "code",
   "execution_count": 60,
   "metadata": {
    "slideshow": {
     "slide_type": "subslide"
    }
   },
   "outputs": [],
   "source": [
    "def kriging_matrix(neighbors, variogram):\n",
    "    m = variogram.fitted_model\n",
    "    \n",
    "    # inner part\n",
    "    co = squareform([m(d) for d in variogram.dist_function(neighbors)])\n",
    "    \n",
    "    # lagrange stuff\n",
    "    co = np.vstack((co, np.ones(len(neighbors)).T))\n",
    "    A = np.vstack((co.T, np.ones(len(neighbors) + 1).T)).T\n",
    "    A[-1, -1] = 0\n",
    "    \n",
    "    return A\n",
    "\n",
    "def solve(A, b):\n",
    "    # this is only to replace the solver without changing the algorithm\n",
    "    return inv(A).dot(b)"
   ]
  },
  {
   "cell_type": "code",
   "execution_count": 102,
   "metadata": {
    "slideshow": {
     "slide_type": "subslide"
    }
   },
   "outputs": [],
   "source": [
    "def point_krige(poi, variogram, min_points=3, max_points=15):\n",
    "    # calculate distance to neighbors\n",
    "    poi_sample = list(zip(*[\n",
    "        [poi[0]] + list(variogram.coordinates[:,0]), \n",
    "        [poi[1]] + list(variogram.coordinates[:,1])\n",
    "    ]))\n",
    "    poi_dist = V.dist_function(poi_sample)[:len(variogram.coordinates)]\n",
    "    \n",
    "    # find close neighbors\n",
    "    sindex = np.argsort(poi_dist)[np.where(poi_dist < variogram.describe()['effective_range'])[0]]\n",
    "    # check number\n",
    "    if len(sindex) < min_points:\n",
    "        return np.NaN, np.NaN\n",
    "    if len(sindex) > max_points:\n",
    "        sindex = sorted_index[:max_points]\n",
    "    neighbors = variogram.coordinates[sindex]\n",
    "    \n",
    "    # build the matrix\n",
    "    A = kriging_matrix(neighbors, variogram)\n",
    "    b = [variogram.fitted_model(d) for d in poi_dist[sindex]] + [1]\n",
    "    \n",
    "    w = solve(A, b)\n",
    "    \n",
    "    assert abs(sum(w[:-1]) - 1.) < 0.001\n",
    "    \n",
    "    z = sum(w[:-1] * V.values[sindex])\n",
    "    s = sum(w[:-1] * b[:-1]) + w[-1]\n",
    "    \n",
    "    return z, s"
   ]
  },
  {
   "cell_type": "code",
   "execution_count": 111,
   "metadata": {
    "slideshow": {
     "slide_type": "subslide"
    }
   },
   "outputs": [],
   "source": [
    "size = 2\n",
    "ylim = (0, 100)\n",
    "xlim = (0, 100)\n",
    "kriged = []\n",
    "sigma = []\n",
    "min_points = 3\n",
    "max_points = 15\n",
    "\n",
    "# build a 'mesh'-grid\n",
    "grid = [[(j,i) for j in range(xlim[0], xlim[1] + size, size)] for i in range(ylim[0], ylim[1] + size, size)]\n",
    "\n",
    "for row in grid:\n",
    "    krig_row = []\n",
    "    sigma_row = []\n",
    "    for cell in row:\n",
    "        # implement stuff here-\n",
    "        z, s = point_krige(cell, V, min_points=min_points, max_points=max_points)\n",
    "        krig_row.append(z if not np.isnan(z) else None) # plotting workaround\n",
    "        sigma_row.append(s if not np.isnan(s) else None)\n",
    "    # append row\n",
    "    kriged.append(krig_row)\n",
    "    sigma.append(sigma_row)\n",
    "    "
   ]
  },
  {
   "cell_type": "code",
   "execution_count": 208,
   "metadata": {},
   "outputs": [
    {
     "data": {
      "text/html": [
       "<div style=\"display: table;\"><div style=\"display: table-row;\"><div style=\"display: table-cell;\"><b title=\"bokeh.models.renderers.GlyphRenderer\">GlyphRenderer</b>(</div><div style=\"display: table-cell;\">id&nbsp;=&nbsp;'17811', <span id=\"17814\" style=\"cursor: pointer;\">&hellip;)</span></div></div><div class=\"17813\" style=\"display: none;\"><div style=\"display: table-cell;\"></div><div style=\"display: table-cell;\">data_source&nbsp;=&nbsp;ColumnDataSource(id='17773', ...),</div></div><div class=\"17813\" style=\"display: none;\"><div style=\"display: table-cell;\"></div><div style=\"display: table-cell;\">glyph&nbsp;=&nbsp;Circle(id='17809', ...),</div></div><div class=\"17813\" style=\"display: none;\"><div style=\"display: table-cell;\"></div><div style=\"display: table-cell;\">hover_glyph&nbsp;=&nbsp;None,</div></div><div class=\"17813\" style=\"display: none;\"><div style=\"display: table-cell;\"></div><div style=\"display: table-cell;\">js_event_callbacks&nbsp;=&nbsp;{},</div></div><div class=\"17813\" style=\"display: none;\"><div style=\"display: table-cell;\"></div><div style=\"display: table-cell;\">js_property_callbacks&nbsp;=&nbsp;{},</div></div><div class=\"17813\" style=\"display: none;\"><div style=\"display: table-cell;\"></div><div style=\"display: table-cell;\">level&nbsp;=&nbsp;'glyph',</div></div><div class=\"17813\" style=\"display: none;\"><div style=\"display: table-cell;\"></div><div style=\"display: table-cell;\">muted&nbsp;=&nbsp;False,</div></div><div class=\"17813\" style=\"display: none;\"><div style=\"display: table-cell;\"></div><div style=\"display: table-cell;\">muted_glyph&nbsp;=&nbsp;None,</div></div><div class=\"17813\" style=\"display: none;\"><div style=\"display: table-cell;\"></div><div style=\"display: table-cell;\">name&nbsp;=&nbsp;None,</div></div><div class=\"17813\" style=\"display: none;\"><div style=\"display: table-cell;\"></div><div style=\"display: table-cell;\">nonselection_glyph&nbsp;=&nbsp;Circle(id='17810', ...),</div></div><div class=\"17813\" style=\"display: none;\"><div style=\"display: table-cell;\"></div><div style=\"display: table-cell;\">selection_glyph&nbsp;=&nbsp;None,</div></div><div class=\"17813\" style=\"display: none;\"><div style=\"display: table-cell;\"></div><div style=\"display: table-cell;\">subscribed_events&nbsp;=&nbsp;[],</div></div><div class=\"17813\" style=\"display: none;\"><div style=\"display: table-cell;\"></div><div style=\"display: table-cell;\">tags&nbsp;=&nbsp;[],</div></div><div class=\"17813\" style=\"display: none;\"><div style=\"display: table-cell;\"></div><div style=\"display: table-cell;\">view&nbsp;=&nbsp;CDSView(id='17812', ...),</div></div><div class=\"17813\" style=\"display: none;\"><div style=\"display: table-cell;\"></div><div style=\"display: table-cell;\">visible&nbsp;=&nbsp;True,</div></div><div class=\"17813\" style=\"display: none;\"><div style=\"display: table-cell;\"></div><div style=\"display: table-cell;\">x_range_name&nbsp;=&nbsp;'default',</div></div><div class=\"17813\" style=\"display: none;\"><div style=\"display: table-cell;\"></div><div style=\"display: table-cell;\">y_range_name&nbsp;=&nbsp;'default')</div></div></div>\n",
       "<script>\n",
       "(function() {\n",
       "  var expanded = false;\n",
       "  var ellipsis = document.getElementById(\"17814\");\n",
       "  ellipsis.addEventListener(\"click\", function() {\n",
       "    var rows = document.getElementsByClassName(\"17813\");\n",
       "    for (var i = 0; i < rows.length; i++) {\n",
       "      var el = rows[i];\n",
       "      el.style.display = expanded ? \"none\" : \"table-row\";\n",
       "    }\n",
       "    ellipsis.innerHTML = expanded ? \"&hellip;)\" : \"&lsaquo;&lsaquo;&lsaquo;\";\n",
       "    expanded = !expanded;\n",
       "  });\n",
       "})();\n",
       "</script>\n"
      ],
      "text/plain": [
       "GlyphRenderer(id='17811', ...)"
      ]
     },
     "execution_count": 208,
     "metadata": {},
     "output_type": "execute_result"
    }
   ],
   "source": [
    "source = ColumnDataSource(sample)\n",
    "cmap = LinearColorMapper(palette='Viridis256', low=sample.z.min(), high=sample.z.max())\n",
    "\n",
    "kriging = figure(\n",
    "    title='Kriging interpolation', x_range=(0,100), y_range=(0,100), tools=['hover,box_zoom,reset'],\n",
    "    tooltips=[('observation', '@z')]\n",
    ")\n",
    "\n",
    "kriging.image([kriged], x=0, y=0, dw=100, dh=100, color_mapper=cmap)\n",
    "kriging.circle('x', 'y', source=source, size=12, line_color='white', fill_color={'field': 'z', 'transform': cmap})"
   ]
  },
  {
   "cell_type": "code",
   "execution_count": 209,
   "metadata": {},
   "outputs": [
    {
     "data": {
      "text/html": [
       "\n",
       "\n",
       "\n",
       "\n",
       "\n",
       "\n",
       "  <div class=\"bk-root\" id=\"617d442e-467b-4e44-984e-e39e3288a30c\" data-root-id=\"17775\"></div>\n"
      ]
     },
     "metadata": {},
     "output_type": "display_data"
    },
    {
     "data": {
      "application/javascript": [
       "(function(root) {\n",
       "  function embed_document(root) {\n",
       "    \n",
       "  var docs_json = {\"f8d9c21b-dbaf-4fd9-9ec6-9f7faa03c7e5\":{\"roots\":{\"references\":[{\"attributes\":{\"below\":[{\"id\":\"17786\",\"type\":\"LinearAxis\"}],\"center\":[{\"id\":\"17790\",\"type\":\"Grid\"},{\"id\":\"17795\",\"type\":\"Grid\"}],\"left\":[{\"id\":\"17791\",\"type\":\"LinearAxis\"}],\"renderers\":[{\"id\":\"17806\",\"type\":\"GlyphRenderer\"},{\"id\":\"17811\",\"type\":\"GlyphRenderer\"}],\"title\":{\"id\":\"17776\",\"type\":\"Title\"},\"toolbar\":{\"id\":\"17799\",\"type\":\"Toolbar\"},\"x_range\":{\"id\":\"17778\",\"type\":\"Range1d\"},\"x_scale\":{\"id\":\"17782\",\"type\":\"LinearScale\"},\"y_range\":{\"id\":\"17780\",\"type\":\"Range1d\"},\"y_scale\":{\"id\":\"17784\",\"type\":\"LinearScale\"}},\"id\":\"17775\",\"subtype\":\"Figure\",\"type\":\"Plot\"},{\"attributes\":{\"callback\":null,\"end\":100},\"id\":\"17778\",\"type\":\"Range1d\"},{\"attributes\":{},\"id\":\"18291\",\"type\":\"UnionRenderers\"},{\"attributes\":{\"formatter\":{\"id\":\"18284\",\"type\":\"BasicTickFormatter\"},\"ticker\":{\"id\":\"17787\",\"type\":\"BasicTicker\"}},\"id\":\"17786\",\"type\":\"LinearAxis\"},{\"attributes\":{\"formatter\":{\"id\":\"18286\",\"type\":\"BasicTickFormatter\"},\"ticker\":{\"id\":\"17792\",\"type\":\"BasicTicker\"}},\"id\":\"17791\",\"type\":\"LinearAxis\"},{\"attributes\":{},\"id\":\"17782\",\"type\":\"LinearScale\"},{\"attributes\":{\"bottom_units\":\"screen\",\"fill_alpha\":{\"value\":0.5},\"fill_color\":{\"value\":\"lightgrey\"},\"left_units\":\"screen\",\"level\":\"overlay\",\"line_alpha\":{\"value\":1.0},\"line_color\":{\"value\":\"black\"},\"line_dash\":[4,4],\"line_width\":{\"value\":2},\"render_mode\":\"css\",\"right_units\":\"screen\",\"top_units\":\"screen\"},\"id\":\"18288\",\"type\":\"BoxAnnotation\"},{\"attributes\":{},\"id\":\"17784\",\"type\":\"LinearScale\"},{\"attributes\":{\"callback\":null,\"tooltips\":[[\"observation\",\"@z\"]]},\"id\":\"17796\",\"type\":\"HoverTool\"},{\"attributes\":{\"callback\":null,\"end\":100},\"id\":\"17780\",\"type\":\"Range1d\"},{\"attributes\":{},\"id\":\"18290\",\"type\":\"Selection\"},{\"attributes\":{\"fill_alpha\":{\"value\":0.1},\"fill_color\":{\"value\":\"#1f77b4\"},\"line_alpha\":{\"value\":0.1},\"line_color\":{\"value\":\"#1f77b4\"},\"size\":{\"units\":\"screen\",\"value\":12},\"x\":{\"field\":\"x\"},\"y\":{\"field\":\"y\"}},\"id\":\"17810\",\"type\":\"Circle\"},{\"attributes\":{},\"id\":\"18292\",\"type\":\"Selection\"},{\"attributes\":{\"data_source\":{\"id\":\"17773\",\"type\":\"ColumnDataSource\"},\"glyph\":{\"id\":\"17809\",\"type\":\"Circle\"},\"hover_glyph\":null,\"muted_glyph\":null,\"nonselection_glyph\":{\"id\":\"17810\",\"type\":\"Circle\"},\"selection_glyph\":null,\"view\":{\"id\":\"17812\",\"type\":\"CDSView\"}},\"id\":\"17811\",\"type\":\"GlyphRenderer\"},{\"attributes\":{\"ticker\":{\"id\":\"17787\",\"type\":\"BasicTicker\"}},\"id\":\"17790\",\"type\":\"Grid\"},{\"attributes\":{\"dimension\":1,\"ticker\":{\"id\":\"17792\",\"type\":\"BasicTicker\"}},\"id\":\"17795\",\"type\":\"Grid\"},{\"attributes\":{\"callback\":null,\"data\":{\"image\":[[[1.3584476151898193,0.10335792063956664,0.6995744004821391,0.9200296079963737,1.1261976513092318,1.3147076682139982,1.4825123253262775,1.6269905871447587,1.7460374358119866,1.8381357862020262,1.9024065052127388,1.9386333889646188,1.9472611370500275,1.9293657292647617,1.8865980814123655,1.8211033438433457,1.7354196143833134,1.632361070782922,1.514891498923101,1.385994827725682,1.2485495267476736,1.1052135496532756,0.9583259169856977,0.8098300548971692,0.6612227014771668,0.5135306419195853,0.3673158402274632,0.22270781148865426,0.07946044169337366,-0.06297097835292559,-0.205337885838431,-0.3484979063879935,-0.4933121684497207,1.5711500459492622,-0.9186983309878769,-0.09024217438361459,1.5611097773784417,-1.2612253889217273,0.31855724587321366,0.43327363912850503,0.6726203291388534,0.45037586038807165,0.2624095139355186,-0.5663396229925368,-0.6014517931922039,-0.6322829634481839,-0.9068194352447618,-0.39860636291295304,-0.8155541631853445,-0.8537640379951572,-0.24335200991469036],[1.44863392372343,0.5013008819260741,0.7359311520314376,0.9579013631064927,1.1633969028639735,1.3488760981788008,1.51119256805574,1.647707453422904,1.7563857716776154,1.8358716029472681,1.885537611925887,1.9055055202840754,1.8966355223952318,1.860484212493573,1.7992322765451196,1.715584895598995,1.612649401004262,1.4937961074292139,1.362509328124425,1.2222362651771732,1.0762417064278718,0.9274762200658039,0.7784648199703377,0.6312219158769021,0.4871968305365401,0.3472523573434548,0.21167686385236362,0.08022844940690849,-0.04779222786390197,-0.17344550170398373,-0.29803899449818305,-0.4230039243725131,-0.5497691026828495,-0.6796402190759812,-0.8136914465976259,-0.9526754036741811,-1.096956163633045,-1.2464684082297652,0.5620909831824701,0.6395277324282018,0.6897782206534832,0.8403404420361603,-0.13628611845886646,-0.5921222293705997,-0.9091205564020772,-0.9204882682014219,-0.9293628096625285,-0.12443292718416715,-0.16995927716123205,-0.20286819295400027,-0.3288236053427426],[0.26329334212503264,0.5111849208659045,0.7486045040727167,0.9713023258728304,1.1752262363099188,1.3566622685164873,1.5123692876608317,1.6397011210126173,1.7367097492091499,1.802223700958559,1.8358967338031893,1.8382231730237306,1.8105178640908999,1.7548604920483246,1.674005933714812,1.571264220854476,1.4503554822971982,1.3152467791740985,1.169978938546682,1.018492234852078,0.8644599996808497,0.7111389264973961,0.561243981666791,0.41685447939595255,0.27935610411022677,0.14942157933266326,0.02703042101325956,-0.08847407635693585,-0.19829463917652365,-0.30406251808119544,-0.40770012225951013,-0.5112722324257543,-0.6168347115539068,-0.7262895331340589,-0.8412542957202961,-0.9629532478642264,-1.0921353003593262,-1.2290226698040347,-1.3732918119724662,0.6570682350848389,0.709369770237398,-0.2282740711818926,-0.2754073049545377,-0.18354870826584374,-0.9208088398994169,0.44692352978172,-0.4018890923772804,-0.11081753796166888,-0.10769355397289787,-0.2390458554168547,-0.35080352322029845],[0.24533689303137082,0.49738054531741616,0.7371126478884498,0.9599842869971844,1.1616992899996452,1.3383694565554534,1.48666205335307,1.6039322078143126,1.6883330842128195,1.7388973993156618,1.7555849280042928,1.7392921276908435,1.6918218105811682,1.6158128245751122,1.5146318543064994,1.392231594784879,1.252981544630539,1.1014793789249813,0.9423521698108082,0.7800575238715938,0.6186949272854555,0.46183719755212216,0.3123909405304852,0.17249335247076347,0.04345067768652397,-0.0742787422865299,-0.18105646188514712,-0.27799319882978024,-0.3668400627488049,-0.4498485838996386,-0.5296080878960078,-0.6088701162286361,-0.6903701242180322,-0.7766565729894686,-0.869936791960384,-0.9719476878222328,-1.0838576177508366,-1.2062036603044355,-1.3388662567819865,0.6777762226989714,-0.187114323063893,-0.23773655536390192,0.45387287540415633,-0.20651362841869206,-0.7282145833970313,-1.8627031616940046,-0.22460063034811356,-0.042000687778692924,-0.14066686700413422,-0.18956739635392833,-0.2191136192197024],[0.20372753485589085,0.4597266167673252,0.7015394673299868,0.9243087070305195,1.123488072798252,1.2950128795023428,1.435460785981874,1.5421947109859533,1.6134800662988005,1.6485692669017367,1.6477477326047953,1.6123372716522018,1.5446547623990703,1.4479263231486414,1.3261595569148734,1.183978834196328,1.0264307815639813,0.8587690278240538,0.6862286865289078,0.5138019118198927,0.3460260752689377,0.18679563712553443,0.03920763439967981,-0.09455106413592446,-0.2132688794566162,-0.3167238398861771,-0.4056468042559119,-0.4816362183651293,-0.5470297882937314,-0.6047408678020587,-0.6580692716639007,-0.7104975207541333,-0.7654841210273499,-0.8262653491728693,-0.8956761866637393,-0.9759995827129249,-1.0688512499385143,-1.1751048508842143,-1.2948598863651142,-1.4274520230374055,-0.18144462316534485,0.49434498906527014,0.4183803104862796,-0.61130668749186,-1.897512751042721,-0.2828867263482793,0.06519391486947002,0.02966463707569489,-0.09071950191125411,-0.21083153686197387,-0.1606358534108826],[0.1386140748404387,0.39861141685752066,0.6425473126838165,0.8652480959816713,1.0619121666055436,1.2282960773471006,1.3608888371662837,1.457065471423041,1.5152112818196217,1.5348091670797999,1.5164837879270543,1.46199823987107,1.3742011540441614,1.2569246674152068,1.1148363501472573,0.9532507925805546,0.7779089710579461,0.5947355674090502,0.4095859628223309,0.2279955409541203,0.05494413242175758,-0.10535212671614319,-0.24961055592504677,-0.3756043346553555,-0.4822311383431723,-0.569524577783327,-0.6386082311668964,-0.6915953036327038,-0.7314400128250443,-0.7617494814278108,-0.7865670456837552,-0.8101393278131748,-0.8366800842258615,-0.8701436993218133,-0.9140202718761962,-0.971162616764564,-1.0436533048323269,-1.1327172504427971,-1.2386825147819684,-1.360989117567124,0.5372838654928822,-0.4684489935157551,-1.285947574833654,-1.2979656033829206,-1.7520716075215794,-0.22517686249706592,0.14295197583459252,0.10351108435249257,-0.1101453229985414,-0.05233440390476196,-0.1004053656191487],[0.050685938206465886,0.3149777582413282,0.5613687502624758,0.7843632152014667,0.978900316369806,1.1405559778003487,1.265730794020202,1.3518141855088723,1.3973155230382228,1.4019539942123278,1.3667005807916082,1.2937676028615726,1.1865437760433126,1.0494754966486854,0.8878979656351484,0.7078226134311681,0.5156899141248139,0.31809890187662593,0.12152636398497399,-0.06795034789234394,-0.24491276580292898,-0.40482953749423556,-0.544241430295462,-0.6608933053446143,-0.7538060967301782,-0.8232851231182481,-0.8708646058273175,-0.8991918421760277,-0.9118578561460853,-0.9131843019472378,-0.9079787398152972,-0.9012719893865658,-0.8980519996191241,-0.9030085208132888,-0.9203018505544596,-0.9533671378299086,-1.0047633052585156,-1.0760727661433835,-1.1678549739775848,-1.2796536604585447,-1.41005460102655,-1.0869685427547044,-1.115763227197212,-1.1382675086047263,-0.06824723887084583,-0.20739675523590317,-0.4122528733799963,-0.40867845313374845,-0.8744145145062141,-0.7890768232675767,-0.853904105285453],[-0.05882616385323253,0.21030945256939693,0.4597773075576939,0.6837566579001941,0.876925520488429,1.03467832319654,1.1533272566323287,1.2302767684962963,1.2641612250077736,1.2549369507453696,1.2039216292559143,1.1137763425055427,0.9884282488882101,0.8329349122588317,0.6532944339838065,0.45620862117805977,0.24880925284801875,0.03835989154148056,-0.16805254126936528,-0.3638211930845128,-0.5431023174918395,-0.7010632631487773,-0.8340823776315673,-0.939890218051897,-1.0176445651244457,-1.0679353356434285,-1.092719358981014,-1.09518888285589,-1.0795813523458193,-1.0509412275528356,-1.0148471626457034,-0.9771196012340649,-0.9435246466494637,-0.9194899020308014,-0.9098468726461124,-0.9186125742271157,-0.9488203449162149,-1.002406707393173,-1.080157692631392,-1.1817145500358288,-1.3056354561402022,-1.4495068993401752,-1.61009602837278,-1.7835335280178246,-0.0581434816727186,-0.15476451003867814,-0.3317755041529282,-0.9391040356353134,-0.8814237073512254,-0.7705442563600187,-0.8423802315515894],[-0.1881663401509628,0.08659955812880227,0.34003836537754906,0.5660047376125743,0.7589163674825957,0.9139870489470987,1.0274410361848685,1.0966973770343946,1.1205135849087313,1.0990793409776718,1.0340528663464887,0.9285351051782194,0.786979807106787,0.615040845045554,0.4193614765825482,0.20731355552643915,-0.013302281978268937,-0.23458189726810497,-0.4488529662658429,-0.6490038509313525,-0.8287894057030445,-0.9830979273120106,-1.1081652315338875,-1.201724482149455,-1.2630837628245788,-1.2931272757343883,-1.2942402345567476,-1.2701617321263121,-1.2257738366991295,-1.166838650735093,-1.0996978299121598,-1.0309509340231235,-0.9671298530520173,-0.9143863787868605,-0.8782088040431355,-0.8631813269842727,-0.8727971762586078,-0.9093329608262317,-0.9737880244075878,-1.06588879892343,-1.1841545491522205,-1.3260177020395085,-1.4879893414704164,-1.6658585540876507,0.004330182013525363,-0.20725604066733236,-0.15271328675358745,-0.9176704917523237,-1.0316097340372052,-0.7514337150605882,-0.8305694322432604],[-0.3350859463010691,-0.05369829100220841,0.20484242497912158,0.4340709070002952,0.6281488932981614,0.7821129845805577,0.8921012717704175,0.9555467304861397,0.9713261429773848,0.9398547809085814,0.863119205883027,0.7446432458970612,0.5893853684513224,0.40356913978011955,0.1944520469676615,-0.029958543348035438,-0.2612303279276718,-0.49085728328302164,-0.7106205744734538,-0.9129414927737702,-1.0912086534041912,-1.2400626042305494,-1.3556229223068406,-1.4356457203798174,-1.479603098083603,-1.4886802439683817,-1.4656903728089137,-1.4149121895070522,-1.3418588212851859,-1.252990882517374,-1.1553892941852137,-1.0564054868150585,-0.963307551186428,-0.8829407187504292,-0.8214192838919592,-0.7838648271921442,-0.7742025318218926,-0.7950237246974061,-0.8475187739063621,-0.931480402508645,-1.045373598197039,-1.1864648457969769,-1.3510005813083572,-1.5344227053934254,-1.7316077832332708,-1.9371162160858024,-0.6967429242949957,-0.9005700254739596,-1.0300092581583673,-0.8522164366478114,-1.0210318126852396],[-0.49689123386052886,-0.20773338959312554,0.05722391555358197,0.2912050392911655,0.4881245335855077,0.6428487557222184,0.7514336947328877,0.8113263394208188,0.8215178233567473,0.7826382026674302,0.6969850188182651,0.5684806906167041,0.4025571428249606,0.20596974846304067,-0.013453558722521575,-0.24711847523706326,-0.48601296291894464,-0.7210826945314731,-0.9436156600762903,-1.1456171877462424,-1.3201565677225806,-1.4616674799938982,-1.5661864979911528,-1.6315169758492525,-1.6573094681000473,-1.6450542572478237,-1.5979863113937005,-1.5209077685340904,-1.419937545296576,-1.30220161039683,-1.1754805958027,-1.047833545114504,-0.9272175905570142,-0.8211231573131854,-0.7362429473883839,-0.6781905639398496,-0.6512813791913424,-0.658384356947464,-0.7008492834634503,-0.7785095219395773,-0.8897562650278599,-1.031676568892299,-1.2002444215946573,-1.3905518811895436,-1.5970660047219978,-1.8138969010347794,-2.0350627365513376,-2.254738806284215,-1.477090140823531,-0.8396515522563603,-1.0093379058920835],[-0.6705045784213737,-0.3723335882302959,-0.09953057046573027,0.14083373624287052,0.34244070169378643,0.4999978621294425,0.6094865220902066,0.6683696736371891,0.6757480420801208,0.6324538382119939,0.5410742617472785,0.4058998712512109,0.2327964803040024,0.02900308513283839,-0.1971377293698573,-0.43650664733753164,-0.6795780398450639,-0.9168173872794168,-1.1390870959284416,-1.3380410072973543,-1.5064878829838613,-1.6387052558378634,-1.730687245814337,-1.78031314943424,-1.7874276574454362,-1.7538282072223925,-1.683159958597002,-1.58072388861319,-1.453208219438156,-1.3083575252821407,-1.154597147168886,-1.0006327721675712,-0.8550460716722194,-0.7259070877669205,-0.6204226388612816,-0.5446374987980148,-0.503201672966793,-0.49921299389041995,-0.5341397689758877,-0.6078236331181445,-0.7185583820028292,-0.8632366547660447,-1.0375531193361947,-1.2362504536118162,-1.453393006924133,-1.682652594848949,-1.9175913848577635,-2.1519281689543988,-2.379776342258322,-0.8865516941031584,-0.9987887244078084],[-0.852537233109488,-0.5440899070104726,-0.26198028117757344,-0.013552696801952813,0.19466104201318848,0.35722648074004154,0.4700621033055209,0.5306520280089811,0.5382033137555018,0.49373730399117666,0.4001070624345537,0.2619361889403135,0.085478006028183,-0.1216019026669759,-0.35051275262929144,-0.5916842546840606,-0.8351564650565388,-1.0709964129721727,-1.2897220673572383,-1.4827131408464078,-1.642588276845086,-1.7635293705309047,-1.8415361108300425,-1.874597195977682,-1.862768897058069,-1.8081564854567038,-1.714799216772716,-1.5884647607560176,-1.4363638611466016,-1.2668002926687798,-1.0887745838234788,-0.9115622799664825,-0.7442885910294512,-0.5955210457282691,-0.4729002905834083,-0.38282654361528057,-0.3302156309803401,-0.3183342519864326,-0.3487194263148071,-0.42118228754570186,-0.5338918051776496,-0.6835299216984752,-0.8655062151026007,-1.074217712308383,-1.3033379877883247,-1.5461192130796428,-1.795691335305868,-2.0453439514558776,-2.288778554898487,-2.2856417117563326,-1.9904079871094926],[-1.0393712982600738,-0.7194468077375458,-0.4266300846094877,-0.16851089673749153,0.04819242674645652,0.21792651659825246,0.33656438495490054,0.4016207642619584,0.4124087022760252,0.3701268320940121,0.27786951752746286,0.14055545447546364,-0.03522585839168896,-0.24144626594096213,-0.4689420533407152,-0.7077763561134837,-0.9476456983899769,-1.1783125805152888,-1.3900440035645076,-1.5740348098924843,-1.722794845739101,-1.8304802577965373,-1.8931516907585326,-1.9089456518113623,-1.878149672945883,-1.80317689150849,-1.6884409931937823,-1.5401377986996325,-1.3659447961586808,-1.1746543113982957,-0.9757594900122761,-0.7790146203613105,-0.5939924106708068,-0.429660587899119,-0.2939986421100608,-0.19367281629771735,-0.13378373395969229,-0.11769662398922572,-0.14695924506891783,-0.22130765031505123,-0.3387551828429348,-0.49575584297850417,-0.6874296597214432,-0.9078351121228002,-1.150272087903448,-1.407598368941264,-1.6725431542913998,-1.9380025645496644,-2.1973042565786525,-2.140307851463267,-2.509129703083526],[-1.2272485005738072,-0.8947948422476739,-0.5900277565284925,-0.3207473481144855,-0.09382474144876901,0.0850977671754084,0.21187145547467026,0.2840566697007795,0.30107640278076253,0.26429753053898075,0.17703220872280895,0.044455440143306935,-0.12656124613723058,-0.32769589157963486,-0.5494936783595498,-0.7817436934186517,-1.013899081827564,-1.2355219398308837,-1.4367323341504776,-1.608639912356499,-1.7437367942270696,-1.8362318457758617,-1.8823090020172506,-1.8802959130923913,-1.8307336599447526,-1.7363433767900358,-1.6018910349516988,-1.4339570628894673,-1.2406225684891452,-1.0310883742456736,-0.8152465942736637,-0.6032268526455189,-0.4049403193523514,-0.2296444632433192,-0.08554982200894039,0.020512712836872678,0.08334940392678555,0.09957582396211957,0.06769849642950632,-0.011894052154149903,-0.13702602644958195,-0.3039057162968124,-0.5073606978756896,-0.7411214473818944,-0.9981363260395189,-1.2709003783806425,-1.5517809174656654,-1.8333243424172152,-2.108530882144386,-2.2443383319558015,-2.324368390387824],[-1.4123634218594572,-1.0665626624498836,-0.748855014131937,-0.46720893978172445,-0.22860736733958367,-0.038744202295274366,0.09824090687230383,0.17997539758671052,0.2060017258438273,0.17785031488331404,0.09903049872183584,-0.025063948812692582,-0.18733410955235266,-0.37923525490951443,-0.5911072552868449,-0.8125631747889073,-1.032919715805819,-1.2416504350590523,-1.4288408053398756,-1.5856233974693716,-1.7045718027610814,-1.7800334404741485,-1.8083840593162115,-1.7881904348857032,-1.7202723043351074,-1.6076597211960064,-1.4554474656421565,-1.2705535862113537,-1.0613942480867922,-0.837491504232245,-0.6090341103142947,-0.38641385178333165,-0.17976089563576647,0.0014986394981137685,0.14904135203728291,0.25598278452811335,0.3171364033073124,0.32918514718941816,0.29076042257174584,0.20242859254474882,0.06658995987664564,-0.11270032146495909,-0.32997630669610273,-0.5786544869158686,-0.8513587436436172,-1.1402590692464132,-1.4374066364555629,-1.7350493049004272,-2.0259139512447937,-1.7145936745717638,-1.7931504940281147],[-1.59095897895347,-1.2313058288552683,-0.9000092973116219,-0.6051576616128045,-0.35379753325020363,-0.15162967826879015,-0.002746415445683603,0.09057542738093746,0.1280138753128921,0.11126393428440678,0.044016129004384674,-0.06815120990150306,-0.21796453932141607,-0.3967270317086439,-0.5946601835855003,-0.8013016329489175,-1.0059424098974044,-1.1980842620667662,-1.3678960161855638,-1.506647299062084,-1.607098432752374,-1.6638269643566392,-1.673474046808701,-1.6348976389577892,-1.5492240592101152,-1.4197945659637135,-1.2520090624784308,-1.053074417881277,-0.8316699351299717,-0.5975468713144334,-0.3610823517572928,-0.13281030060601506,0.07704700660147085,0.2590235368578935,0.404808707747176,0.5075825824794609,0.5622723367945717,0.5657199385692252,0.5167560725879977,0.41618054087562334,0.26665434613953776,0.07251312175168236,-0.16048474750044106,-0.42545925416059427,-0.714741452343598,-1.0202194877301607,-1.3336803264278425,-1.6471310679633884,-1.9530860629148907,-1.5228114428095378,-1.6150071684138183],[-1.759422189322014,-1.3857904297767052,-1.0406742483844216,-0.7322272800260096,-0.4675050660084802,-0.25216333157490217,-0.09020136690878547,0.01623586517952691,0.06698534171483778,0.06391450421295289,0.010885206403519532,-0.0863686481379598,-0.22044748477945755,-0.38257005187970006,-0.5629246466900971,-0.7510735453451414,-0.9363935105285438,-1.1085328897558864,-1.2578643581763673,-1.375911926311285,-1.4557314983438694,-1.4922260445938882,-1.4823792919636736,-1.4253956218332113,-1.3227384159519646,-1.1780641716342108,-0.9970550391027373,-0.7871577101368603,-0.557241495175899,-0.3171926663682074,-0.07746545283849168,0.15138775741724464,0.35918356498259063,0.5365490561230029,0.6753163961874932,0.7688521961232265,0.8123072469382664,0.80277686361254,0.7393671511688806,0.6231676762400332,0.45713597389644467,0.24590374393506947,-0.004481758648151965,-0.28686494693670683,-0.5933199387822994,-0.9155011149153341,-1.2449884922328285,-1.573611760683654,-1.893739190018522,-1.3909432915073552,-1.234431069031709],[-1.9143785105433695,-1.5270701511796285,-1.1683778797721687,-0.8464613139994386,-0.568324421575532,-0.33951953468879026,-0.16390022068401516,-0.04343608544336966,0.021899716918868523,0.03416242111276077,-0.002617378521655722,-0.0825723411217461,-0.19821920730304043,-0.3407544821282038,-0.5004138151791142,-0.6668805128321851,-0.829725791357129,-0.9788613046240779,-1.1049832991846444,-1.1999875658394024,-1.2573352261834372,-1.2723513160073932,-1.2424410462917599,-1.1672124178291277,-1.0484983604159384,-0.8902765346198362,-0.6984901063112161,-0.4807778904321074,-0.24612696354085759,-0.004464880859031184,0.23378824674300186,0.4581855549032202,0.658714084019218,0.8262278030288699,0.9528323015322847,1.0322033918209568,1.0598257549049,1.0331423584194104,0.9516103731217123,0.8166644010331837,0.6315926863418648,0.4013363184515136,0.1322250080882057,-0.16833436318742806,-0.49219866686893493,-0.8308407217834859,-1.1756951709381074,-1.5184820256536897,-1.8514942283917857,-2.1678385412297967,-1.0495979324403615],[-2.052783263466869,-1.6525560382785587,-1.281038440804035,-0.9463331133235279,-0.6553274804998588,-0.41340682857280425,-0.2242202437526054,-0.08951175016697993,-0.009026431172469096,0.01950179841470423,0.00027764501329746727,-0.060712196190320034,-0.15593515707212546,-0.276619967285407,-0.4131228953656975,-0.5553379703723573,-0.6931336066496818,-0.8167963298955182,-0.9174614576327847,-0.9875107001976844,-1.0209177542135814,-1.0135250443044712,-0.9632377627604238,-0.8701251394509661,-0.7364232734213275,-0.566438656283632,-0.36635646482785594,-0.14396252400679888,0.09170773458006787,0.3307762325126591,0.5629651691310806,0.7780541655481221,0.9663292846545524,1.119002223431821,1.2285798163702146,1.2891669207281573,1.2966895910669232,1.2490299484692862,1.1460690241431117,0.989638802048747,0.7833893963840022,0.5325814958791638,0.24381764978764,-0.07527151960060013,-0.41636862597315766,-0.7708204090047579,-1.1299809163968193,-1.4855312759740462,-1.829762717587081,-2.1558124402465952,-2.457845205556096],[-2.172008790980603,-1.7600786887213293,-1.3769988923013345,-1.030750177421787,-0.7280356602540162,-0.4740062260875705,-0.2720430877739931,-0.12360889402292297,-0.028175976327759658,0.01676299196375322,0.015600299249867722,-0.02556334895338265,-0.09917122951489464,-0.19652924556652088,-0.3081779456921636,-0.4243023082027661,-0.5351615968288247,-0.6315202839697629,-0.705060586034873,-0.748757612417167,-0.7571995052524245,-0.726837208033772,-0.6561515687546258,-0.5457292332758419,-0.3982430509186366,-0.218337292572357,-0.012422640635700005,0.2116095991751485,0.4447405421498043,0.6772270873103156,0.8990361088088253,1.1002884599420284,1.2716913768873286,1.404938637075935,1.4930597221122275,1.5307021469216457,1.5143348689308258,1.4423650518602271,1.3151651577691774,1.1350120882477186,0.9059446020426464,0.6335492349297592,0.32468821177204044,-0.012814800228748036,-0.37051389812312163,-0.7396876029055858,-1.1116761617360813,-1.4781942803594892,-1.8316064172455186,-2.1651546658171177,-2.473132479014218],[-2.269926031847806,-1.8479429492721078,-1.4550515749640964,-1.0990459154708847,-0.7863762359224304,-0.5218899828600727,-0.30863438383460506,-0.1477310502116136,-0.03832978244996338,0.022354747009278544,0.038923508690818745,0.017594702361134362,-0.03406604480569309,-0.10747596196028408,-0.19341208467349838,-0.2824187376860059,-0.3652277992777336,-0.43317316114620197,-0.47858079534211506,-0.4951166870520126,-0.47807657091621325,-0.42460386455392574,-0.33382533477835463,-0.20689773291325647,-0.0469627352012956,0.14098816544896933,0.35033285907832973,0.5731118613005921,0.8003819000882679,1.022613145295215,1.2301112038381445,1.413443793596921,1.5638518506261019,1.6736257417619091,1.7364292071672354,1.7475565376518005,1.7041121327932458,1.60510577070244,1.4514613959296703,1.2459417275955103,0.9929952357151529,0.6985357805017834,0.3696682459708657,0.014375666414621874,-0.358815453909022,-0.7411747204526831,-1.124096169452411,-1.4994007792770516,-1.859600935156113,-2.1981174440362485,-2.509442840525753],[-2.344979084682099,-1.9149753090579305,-1.514455040349426,-1.1509627295675868,-0.8306287763579476,-0.5579288516305896,-0.33550971788541006,-0.1640906228314977,-0.04244589868386543,0.03252934375080527,0.06567238869958894,0.06333068758034172,0.03307346449226629,-0.016650532962262134,-0.07689431217010492,-0.13861627601802634,-0.1930884636827581,-0.23229132641545466,-0.24927747195149536,-0.23848809269819488,-0.19600780753248714,-0.11974631647202755,-0.009538486524107936,0.13284187495080949,0.30375539879823427,0.49785452495960303,0.7083177965661757,0.9271503779207477,1.1455369324399518,1.3542304701111543,1.543959032641175,1.705831239259502,1.8317218322624607,1.9146194502747933,1.9489208732980148,1.9306588232663355,1.8576539109303571,1.7295852932849658,1.5479788136561985,1.3161155901970223,1.038867951570329,0.722473062694689,0.3742573459201833,0.002326739283662338,-0.3847611428588586,-0.7783267947112837,-1.1698852086180493,-1.5514351425842001,-1.9157098121144527,-2.256380306754268,-2.5682060674547724],[-2.396251106182035,-1.9605640755079117,-1.5549450586657367,-1.186630530948092,-0.8613680457438737,-0.5831965262037964,-0.35429813328871645,-0.17492939919048434,-0.04343553733292502,0.043652132311179974,0.09143965667242986,0.10642256413140053,0.09617768218064517,0.06900847763741862,0.033559816536576165,-0.0015806397591881516,-0.02827666373387938,-0.03921585561350066,-0.02824378822548465,0.009354755030305834,0.07663972617565468,0.17487431840431056,0.30346410671927093,0.4599793331584575,0.6402591613825145,0.8385930740353579,1.0479711249698311,1.2603916428847137,1.4672123614134924,1.6595289570089053,1.8285637211733226,1.966046657668811,2.0645717197806777,2.117912184016991,2.1212812434495465,2.0715266961917447,1.967251957462654,1.8088593549269416,1.5985155671802866,1.340042911912525,1.0387437626839033,0.7011684680371548,0.33483959230455373,-0.05205303348613938,-0.45097114476168687,-0.853345506632156,-1.2508776348972446,-1.6358130226506749,-2.001175342607168,-2.3409537522835207,-2.6502383339923834],[-2.4235195591340637,-1.9846920968600839,-1.5767415200686294,-1.2065445479574164,-0.8794095402538757,-0.5988798992506353,-0.36661435297114997,-0.1823503121105736,-0.043952365338742444,0.052456233394455654,0.11228528736527517,0.14220247220019952,0.14980424582204888,0.1432482686888123,0.13086435994487383,0.12076177465344387,0.12045049581369373,0.13649333387307155,0.17420399217654733,0.23740399194849193,0.3282485764868518,0.4471285639611788,0.5926517299942172,0.761703814588133,0.9495858006341722,1.1502208365444084,1.3564212008914007,1.5602031508713756,1.7531354663675895,1.926706089217878,2.072690534413155,2.1835057625978904,2.2525339662136514,2.2744022148731693,2.245206070672625,2.1626680243593897,2.0262247862413116,1.8370409284086888,1.5979499336763912,1.3133271669135183,0.9889024547328812,0.6315226638012816,0.2488767589843646,-0.15080280818109387,-0.5590479441501008,-0.9674577618452052,-1.3679831639386357,-1.7531815170989997,-2.116431936483311,-2.4521042444963155,-2.7556774213493993],[-2.4272984512482796,-1.9879613022242406,-1.5805523404307453,-1.2115455766478715,-0.8857630348712858,-0.6062028968791587,-0.37395000993735594,-0.1881733745541886,-0.046210738649950144,0.05626403255991892,0.12499930212770408,0.16686184324876105,0.18948588706632236,0.20089211825665848,0.20909482023105636,0.22171554414817882,0.24562094057025624,0.2866008368895602,0.3491003910740546,0.4360173509840368,0.5485722590569633,0.6862560277311915,0.8468558285418638,1.0265568328285277,1.2201141443654262,1.4210863876109057,1.6221199559017463,1.8152709621522245,1.9923505341148229,2.145278304394611,2.266428791572571,2.348955862216562,2.3870815908077803,2.3763375567812464,2.313748868682358,2.197953891200902,2.029255651362748,1.8096040740460015,1.5425113866239115,1.2329060744246676,0.8869335023043902,0.5117135969986876,0.11506768917834201,-0.2947723440118115,-0.7094591618980711,-1.1208161720943832,-1.5211028201677839,-1.9032485362208225,-2.261047014011705,-2.589304917530281,-2.8839416948933136],[-2.408864855632779,-1.9716077384392556,-1.567574641663488,-1.2028047326220022,-0.8815981761132166,-0.6063700771715747,-0.37759237991527766,-0.1938267178727937,-0.05184635047993347,0.05315938819189096,0.12730897042760145,0.1776953051684324,0.21201223058611002,0.23815966431727445,0.2638468239840286,0.29621249961366175,0.3414799616189784,0.40466185720691494,0.4893275567735041,0.5974420547684461,0.729281908223886,0.8834300053374051,1.056847373216671,1.245016909980457,1.4421509849035632,1.641452384304145,1.8354161557003523,2.0161585585607904,2.175758585538362,2.30659737453445,2.401681274058567,2.454935323050041,2.4614554176182377,2.417709401978124,2.3216796642097903,2.172942447718061,1.9726818994941173,1.7236397460306125,1.4300042880567343,1.0972450040903785,0.7319013232162288,0.34133595507731873,-0.06653554255782318,-0.48352658575908725,-0.9014603398185868,-1.3124375712729615,-1.7090808363405854,-2.084745900176407,-2.4336933052414595,-2.751215290517364,-3.0337156646446313],[-2.3702667591221513,-1.937505186116003,-1.5394925055525708,-1.1818134022374345,-0.8682243984944611,-0.6005340245011417,-0.3785765651454871,-0.2002807472288064,-0.061829497982759746,0.042098056803025904,0.11801556465737068,0.17326612541663208,0.2156258933981257,0.25289513103717454,0.2924973546329237,0.34110617433687584,0.40431736398038476,0.48638078265683427,0.5900032309210104,0.7162294020422726,0.8644040262597684,1.0322143307150378,1.2158082475589505,1.4099805568303225,1.6084164656717252,1.8039800744295131,1.9890337971640006,2.1557740889081694,2.296568757926335,2.4042816615327807,2.47257163848995,2.496154050146142,2.4710152108402683,2.3945722052921607,2.265773031852979,2.085134585994178,1.8547186136783327,1.5780483210284288,1.2599707243297846,0.9064719641308537,0.524454596187949,0.12148722945271717,-0.29446225606851,-0.7152983508642712,-1.133063075521442,-1.5401840663832003,-1.9296962269117444,-2.2954292229586493,-2.632155046757612,-2.93569201330017,0.40444580213762293],[-2.314309229039364,-1.8881549399717372,-1.4984696259194807,-1.1503776117952353,-0.8470854373717158,-0.5897880291299412,-0.37767399697209847,-0.20802981515402708,-0.07643704585619226,0.02294845147845799,0.09705087129163215,0.15348140131315405,0.2001190489231661,0.24468760315475419,0.2943505969098195,0.3553444965130608,0.4326676177390626,0.5298386765875029,0.6487346996529789,0.7895135321851204,0.9506216770078249,1.1288839345435249,1.3196675125378308,1.5171101011043358,1.7143989750417172,1.904086545267016,2.0784269375901085,2.2297180901513585,2.350634458142744,2.434536601744111,2.4757456043581447,2.4697723132208043,2.4134937052968537,2.30527115579105,2.145007928998893,1.9341457333974574,1.6756026024330397,1.3736566027255621,1.033781860706509,0.6624450714968613,0.26687195236858885,-0.1452060194965276,-0.565813821819805,-0.9869933369702069,-1.4010518277692356,-1.8007891745295925,-2.1796959371495985,-2.5321159476701673,-2.8533690043048487,2.465485412726155,2.284080568847625],[-2.244516097582322,-1.8266590454682312,-1.4471343422842395,-1.1106146030273594,-0.8197666598515003,-0.5751828471158031,-0.37541677434670534,-0.21712180599202763,-0.09528450896567969,-0.0035398668379434534,0.0654495413012104,0.11957164077058983,0.1668235577321867,0.21487483340962624,0.27065821605697793,0.3400088749287327,0.4273695121099838,0.5355745993536623,0.6657221556504203,0.8171364426252239,0.987420015020583,1.1725890155642409,1.36728168810061,1.5650269763463185,1.7585578834042703,1.9401530259079554,2.101989499275036,2.2364906989148587,2.3366539989336848,2.3963450342345918,2.4105476120005527,2.375560844251387,2.2891378038154624,2.1505627369930465,1.9606665107808476,1.7217824433254771,1.4376468922469932,1.1132509014463257,0.7546507894165913,0.3687467686812418,-0.0369605060845446,-0.4546251672174778,-0.8763128636404731,-1.2942491342652318,-1.701050367982365,-2.0899294323845172,-2.4548694784937988,-2.790761072002112,-3.0934995835395043,0.8862582288453289,2.2574419839717166],[-2.165064891601711,-1.756674286272766,-1.3885539586356337,-1.0649481918345487,-0.7880115500811515,-0.5577637432363788,-0.37215403322014895,-0.22723196030124948,-0.1174148710074379,-0.035837031262254924,0.025239601886442767,0.07397628494270012,0.11849529731425283,0.1664301640180224,0.22451249107771068,0.29821685199751535,0.39148118921105857,0.5065153209328802,0.6437047341640171,0.8016112780336258,0.9770670139779309,1.1653526551796756,1.360447999340792,1.5553387115327129,1.7423618493279391,1.913571660400544,2.0611073687530985,2.1775457843685184,2.2562234626067035,2.2915156178771863,2.2790618653830936,2.215931935268828,2.1007276027040054,1.9336200584217553,1.7163246889967771,1.4520176572018946,1.1452007103297186,0.8015222629131031,0.42756398438868726,0.030602871457019953,-0.3816408889659508,-0.8012600368612143,-1.22041055751121,-1.631547211856979,-2.02763637464455,-2.402339607198759,-2.7501629105791774,-3.0665682474082634,-3.348045617189182,1.1106283765651659,-1.0112338911249474],[-2.080693612073944,-1.682344581292251,-1.3261950415995307,-1.016098647940828,-0.7537421663222987,-0.5386217794180932,-0.3681335482609418,-0.23777350004169254,-0.14143620346635702,-0.07179477518256605,-0.020740446021234746,0.02014356682394819,0.05910086696283917,0.10374033771309826,0.16061950621995502,0.23489480445290586,0.3300561852278022,0.4477580997544272,0.5877528777493198,0.7479264924856708,0.9244309441635182,1.111902410657987,1.3037501777615752,1.4924983660443218,1.6701607173136748,1.8286281952409904,1.9600498118812095,2.0571887649814484,2.113738460368878,2.1245860703428066,2.0860147056489837,1.9958388275090586,1.8534709942511272,1.6599212553729203,1.4177333453983634,1.1308642025267692,0.8045151930204182,0.44492474516409436,0.05913289704234026,-0.34527142908538216,-0.7604097516852956,-1.1783698128906799,-1.5914485474068063,-1.9923741107347364,-2.3745002007010094,-2.7319674209792377,-3.059828042596066,-3.354132158026304,-3.6119748324355743,-0.8670230535488883,-0.6783045961533885],[-1.9965791841328258,-1.6082102069079645,-1.2638666265971192,-0.9670624855867189,-0.719077403602609,-0.5189516439647491,-0.36359937800360975,-0.24803447185331834,-0.1656962328006284,-0.10885643656970037,-0.06908404557881863,-0.03774066441485324,-0.006478187447157113,0.032289635637309105,0.08496790869496652,0.15643605666058466,0.2497955023739595,0.3662210323974521,0.5049208651995707,0.6632039313208324,0.8366467709733174,1.0193471328270778,1.2042471206877572,1.3835057861859974,1.5488995023364922,1.6922282669937194,1.805707173578734,1.882324468560581,1.916150654319091,1.9025867241662837,1.838543557232637,1.7225484917946887,1.5547789042856002,1.3370260581230462,1.0725954116972634,0.7661518993026649,0.42352038170937834,0.05145250560990183,-0.3426283517100459,-0.7508924847053221,-1.1653686197023738,-1.578198008507341,-1.981869096157138,-2.3694254853199674,-2.7346415398185715,-3.0721616561891096,-3.3776009197270445,-3.647606492285712,-3.8798806014364073,-1.061744997395743,-0.7236088082323391],[-1.9181889086061805,-1.539093398199825,-1.205643966915843,-0.921077771662889,-0.6863425668116654,-0.5001073922188283,-0.35889479975678845,-0.2573279837244552,-0.18847905620835234,-0.14429842234264584,-0.11610021410100341,-0.09507539035404856,-0.07280263634155056,-0.041727684879686214,0.004415926815630904,0.07026756000895878,0.15859906774222862,0.2701842891610211,0.4037825543839814,0.5562334181601962,0.72265342635029,0.8967201900756877,1.0710247182287989,1.2374700524055986,1.3876928552527517,1.5134847047322668,1.60719132001293,1.662070581462766,1.6725937385103864,1.63467832135945,1.5458456746887117,1.4053004184316595,1.2139332540278462,0.9742521653091184,0.690250061309039,0.3672191833950539,0.011524118504521591,-0.36965395921757616,-0.7685890970374879,-1.1772861972319995,-1.5877492372583424,-1.9922322032785975,-2.3834644952253274,-2.7548443539285348,-3.1005957189332873,-3.415885767806319,-3.6969021452402706,-3.9408905078270835,-4.146154444853897,-0.8611143731181614,-0.7288165796470185],[-1.8511079643649817,-1.4799613463872763,-1.1557716163349587,-0.8815713525360358,-0.6580641409557342,-0.4836473880974268,-0.3545591897214939,-0.26514186814075813,-0.20820747716288987,-0.17548415047118127,-0.15811710317733596,-0.14719475413621347,-0.1342690547005922,-0.11183977452803706,-0.0737751377537761,-0.0156456058445894,0.06504657876654507,0.16875268443491265,0.2938809536136946,0.4369143620046107,0.592632127002316,0.7544187187660035,0.914639733496898,1.0650611216065022,1.197287019467906,1.3031917843775647,1.3753236388834618,1.4072603612354904,1.3939014161929366,1.3316854707759935,1.2187270408693358,1.0548707436913245,0.8416660059798668,0.582268872210904,0.2812806117376132,-0.05546495308975116,-0.42115211020124965,-0.8082580855863675,-1.208838418754262,-1.6148101180271766,-2.0182211853421252,-2.411496828171965,-2.7876546385117713,-3.1404830903392877,-3.46467977744757,-3.7559477919920092,-4.0110504588363805,-4.227826238977294,-1.1257284886762275,0.021351297673847663,0.22882366912583746],[-1.8008478186962549,-1.4357693001064658,-1.1185461669988284,-0.8520857284279728,-0.636944723764872,-0.47136051916838484,-0.3514079463502363,-0.2712738630357399,-0.2236340653257978,-0.20011065995220348,-0.19178288770031895,-0.18972105386934524,-0.18551190875456067,-0.1717446177159394,-0.14242929225113682,-0.0933246930066401,-0.022157802335057,0.07127496371775865,0.18512759898772518,0.31564064354662824,0.45738198326270707,0.6035748545360679,0.7464911546977074,0.8778853319256289,0.9894430128845602,1.073219087339115,1.1220420538908564,1.1298647895167522,1.0920462172756493,1.0055532519308061,0.8690775347059664,0.6830664788778479,0.44967273504750616,0.17263010813021032,-0.1429329506734639,-0.49072898701180206,-0.8635818100331953,-1.2537165509469372,-1.6530551692213447,-2.0535042254031675,-2.447223425658252,-2.8268654911688404,-3.185780158409024,-3.518177431043772,-3.8192474573049404,-4.085236499218926,-4.313480317058729,-1.375665196729485,-1.453980690839313,-1.3493143999039963,-2.9802513603300036],[-1.7726421568348008,-1.4112882618800127,-1.0981807500919247,-0.8361850602748956,-0.6258147764166799,-0.4652673441109441,-0.3505859954325887,-0.275939654054774,-0.23400506654097342,-0.21642882716225198,-0.21434181902703794,-0.21889526617468041,-0.22178632510267315,-0.21574202808428866,-0.194933348058971,-0.15529595212874336,-0.09474047766219594,-0.01324242750931974,0.08719049856876651,0.20266819629446625,0.3276726368256546,0.45539868890039936,0.5781584747972925,0.6878236684810747,0.7762791378007577,0.8358620640534232,0.8597629789234695,0.8423687761692147,0.7795323451384588,0.6687586556243361,0.5093025109062409,0.302178411536311,0.050087718056809255,-0.2427276863626328,-0.5706929272741499,-0.927154454242792,-1.304665643090128,-1.6952880644257704,-2.090893528732561,-2.483453454499946,-2.865304075231094,-3.229378322792733,-3.569397724009929,-3.880020165889915,-4.156941788063176,-4.396953442481074,-4.597954043745907,-0.570114681005977,-0.5256616829809522,-1.425422091077882,-1.9660675913671648],[-1.7712384857941479,-1.4109234907733967,-1.0986552908588365,-0.8373418250200264,-0.6275600029978857,-0.4675920812072183,-0.35358772607174027,-0.27984345457899695,-0.23918360172789488,-0.22342037583186392,-0.22386541632021545,-0.23186195121770659,-0.23930541174787773,-0.2391212895735071,-0.22567204173090055,-0.19506972362308572,-0.14537738714235232,-0.07668963854693976,0.0089094364383802,0.10750506974188062,0.21361436451291008,0.32053370147807486,0.4207476395679133,0.5063732185477866,0.5696126567596907,0.6031883002020139,0.6007361508992171,0.5571381084574601,0.46877784809521283,0.33371063717766875,0.15174295776862187,-0.07557682581898212,-0.34505066868706613,-0.6519957701374408,-0.990468981619991,-1.3535354246574196,-1.7335650848018647,-2.1225411975128026,-2.5123651818115085,-2.8951445440217176,-3.263452378707194,-3.6105496406616795,-3.9305640609477046,-4.218622260581264,-4.4709341336906325,-4.684830816077481,-4.858759447065833,-2.867444868525729,-1.2228274336140024,0.034629111024562384,-0.09678112628058592],[-1.80069474794415,-1.4385315113410284,-1.1235583132745182,-0.8588077525577178,-0.6450255912410907,-0.4807040563284369,-0.36223917995162697,-0.28420400472800633,-0.23972199121462476,-0.22091841434543266,-0.219422416627132,-0.22688908537610525,-0.23550969052200438,-0.23847915104335524,-0.23039281821144547,-0.20754953869245468,-0.16814431689857723,-0.11234125299348985,-0.04222524361506111,0.038361370957227164,0.12408398847933713,0.20846361840242494,0.28428389655934566,0.34403101459248797,0.3803395003569806,0.38641774346573143,0.3564297415883877,0.28581346805013425,0.1715211719060145,0.012172415326764007,-0.1918836821752586,-0.4385950770906013,-0.7243155084081917,-1.043984408957271,-1.3913640976433803,-1.7593183754734931,-2.1401158062525836,-2.5257411638845717,-2.9081996427190657,-3.279800280805455,-3.6334074378779038,-3.9626518918633264,-4.262095968703459,-4.527349919827857,-4.755139358953941,-4.94332584900923,-5.090884612315582,-2.466097387676122,-1.851478976686678,-1.3135812579137824,-2.029556527695883],[-1.8641909601133788,-1.497244428011422,-1.1759276306605413,-0.903474675524417,-0.6809010082225491,-0.5070301499299396,-0.37864168410137244,-0.29073266227279554,-0.23687722440526637,-0.20966276812679877,-0.20117594046707488,-0.2035084513499052,-0.20925147208710299,-0.21194827999175364,-0.20647777282372448,-0.18934627599549853,-0.15887133403008222,-0.11524844073740442,-0.0604993778662998,0.0016915641488472744,0.06624025657073696,0.1270052365576474,0.17718664924339567,0.20975562621865051,0.21788732660435306,0.19537188587071985,0.1369801559356018,0.038765096877298136,-0.10171536396806827,-0.28526266126794586,-0.5109920793224201,-0.7763749182565702,-1.077360987584734,-1.4085700532001835,-1.7635378742542565,-2.1350006037712306,-2.515200597365012,-2.896197005373391,-3.2701657792007786,-3.6296757204089283,-3.9679297323682627,-4.278963281727513,-4.557795031950516,-4.800527486457209,-5.004398118936523,-5.1677837549509675,-5.290162823132069,-1.7117358020670044,-1.8205178366880248,-0.9450208018610097,-2.941396099753786],[-1.9638659699362286,-1.5893109176297355,-1.2580983683671707,-0.9737325997150871,-0.7375913090134869,-0.5489426450331591,-0.40507957726126503,-0.3015643034089452,-0.2325682010890911,-0.19128650791922586,-0.17040194447237783,-0.16256825806579894,-0.160883413577329,-0.15932298890684038,-0.15310718466089956,-0.13897951102996317,-0.11538131315042227,-0.08251337602519357,-0.042283380423608435,0.0018545915735030394,0.04515550958434461,0.08191512158027084,0.1058550416929713,0.11053576453891995,0.0897714551233047,0.038021413155364225,-0.04926424294383184,-0.1753631614722836,-0.3420771739927357,-0.5496146180759295,-0.7965610098243125,-1.079935125204838,-1.3953227534213668,-1.7370764479248544,-2.0985667052746946,-2.472468241169135,-2.851064410794611,-3.2265532617352286,-3.591340072040744,-3.938303327245126,-4.261023714151746,-4.553968633989764,-4.812627749708182,-5.033597990804219,-5.214619086396701,-5.354562963813091,-5.453382157958961,-2.5154423134931805,-1.8688362221880195,-0.4653510979589979,-0.42204391779785055],[-2.100688832484476,-1.7159632235910143,-1.3715673065752378,-1.071333479841098,-0.8170827625361436,-0.6086294172149505,-0.4438979234401289,-0.3191456984857485,-0.22927800791828015,-0.16823537591558016,-0.12942895943134183,-0.10619616581304592,-0.09224751909329512,-0.08207651757366316,-0.07130691959397444,-0.0569563385330456,-0.03760088052709071,-0.01343237238875672,0.01379301120464349,0.0409087406853019,0.06358200005925663,0.07662978451034849,0.07438489997587079,0.05108731372165175,0.0012756386499943595,-0.07984541165866427,-0.19608314945106742,-0.34999827682334805,-0.5427223108402973,-0.7738585204271198,-1.0414683191738372,-1.3421398041418882,-1.671130465780907,-2.022572284139579,-2.3897246524857363,-2.765258921817172,-3.141557840755747,-3.5110136984198967,-3.8663104212640826,-4.200677040950258,-4.5081026231808154,-4.783505703719314,-5.022854302560398,-5.2232354889451065,-5.382876090247356,-5.501118358530446,-2.6209728186214427,-2.586984056621933,-2.6338911183195175,-0.6483317256161305,-2.062699028622397],[-2.274373049002992,-1.8773187556280784,-1.5168824150076632,-1.1972697263595071,-0.9208118424120231,-0.6879553886341727,-0.4973588479786719,-0.34608954088345484,-0.22990877558985373,-0.14362684671298281,-0.08150487117542915,-0.03767733378203468,-0.006567914767583182,0.0167282070323388,0.0361198850970718,0.05427350043016971,0.07245901180234843,0.09049667777411591,0.10680565044902116,0.11854879775946897,0.12186183993351708,0.11214962654244416,0.08442848087616117,0.033691228972934265,-0.044729089100830136,-0.15481979118991196,-0.29959383707698606,-0.4808564777887768,-0.6990452467632251,-0.9531500751190427,-1.2407149964717654,-1.557917843018876,-1.8997198518207956,-2.2600734573181684,-2.632173919243908,-3.008738911798268,-3.3822997810388022,-3.7454887860927837,-4.091308135199842,-4.413368822871629,-4.706089955776532,-4.964852200082197,-5.186101979063544,-5.367405906913804,-5.507457506541682,-5.606040409647674,-2.419032585461179,-2.658076784852592,-2.608005058562347,-0.42493094144579,-0.37564589023846945],[-2.4833400238487684,-2.0723235190743705,-1.6935656432477537,-1.351676293896512,-1.0495471414691964,-0.7883254089141509,-0.5674871353236575,-0.38500509553760287,-0.23760024356913112,-0.12105992989910275,-0.030601642316309796,0.0387420122409641,0.09174269226789436,0.13262519114359628,0.1647686431040199,0.1904790489091605,0.21084693513681965,0.22569789127664353,0.23363722345817078,0.23218351317211072,0.21797994850760488,0.18706732504897214,0.13519892747598333,0.05817532383548345,-0.04782346947363311,-0.18592999192055154,-0.35832462182360747,-0.5660296370463449,-0.8087730841598951,-1.0849285282274985,-1.3915316855615072,-1.724370121782226,-2.0781379427540134,-2.4466439657134162,-2.823059401709734,-3.2001896917807278,-3.5707548179844366,-3.9276630802366164,-4.264264852868669,-4.574575027586205,-4.853455502512664,-5.096751972700278,-5.301382207394418,-5.465375777754904,-5.587867673620503,-5.669050306158584,-2.805385213605127,-2.416889293370393,-2.5350697340639305,-1.638374175371941,-0.22529997976057395],[-2.7247356877122755,-2.2987426237078017,-1.9000755583191125,-1.5337642947484407,-1.2032934838305371,-0.9105591130705442,-0.6559168279279722,-0.4383182770316198,-0.2555257648718432,-0.10439019585944526,0.01882698885028361,0.11811011053246098,0.19734736277360282,0.26001396047021597,0.3089015436915394,0.3459115312400859,0.37192536621931,0.38675898353036664,0.3892027912337267,0.3771424546170213,0.34775025081603206,0.2977321210773125,0.22361210428016334,0.12203380226378205,-0.009941999560208623,-0.17456347872716732,-0.37315531366427335,-0.6059418283444222,-0.8719357433896016,-1.1688978588218855,-1.4933682196611766,-1.8407647850195883,-2.205541634160226,-2.5813955362398207,-2.9615074453000423,-3.338804237083356,-3.706225778401686,-4.056983138296533,-4.384795279449621,-4.684093730616891,-4.950187333461599,-5.179381969615426,-5.369053004564762,-5.517670854984954,-5.624782448644155,-5.690953293362277,-2.765178285647823,-2.757195003473703,-2.6902213820962984,-2.449150831897993,-1.5589245952607584],[-2.994501454412323,-2.5532006759897,-2.1338143733333386,-1.7417924929934117,-1.381226438163985,-1.0547878061815739,-0.7637506804263223,-0.5080947343752005,-0.2866809309281508,-0.09748665187603356,0.06211694575494481,0.19506536055980012,0.30430033916034205,0.39248980566577263,0.4617875612895163,0.5136490403560251,0.5487151083275045,0.5667707735477946,0.5667801582080703,0.5469935622361278,0.505117373369799,0.43853329953239306,0.3445502239170748,0.22067011044789428,0.06484890972244808,-0.12426568719650925,-0.34713565361407683,-0.6031860183273697,-0.8907191430540826,-1.206894434602955,-1.5477736017561385,-1.9084273631196984,-2.283095825098105,-2.6653918013656366,-3.0485342877487547,-3.42559821273478,-3.789766451214501,-4.134570845601406,-4.454110495758193,-4.743237687160947,-4.9977043316006755,-5.214264495135125,-5.390731291776859,-5.525988957499959,-5.619963148364347,-5.673554327055156,-2.7533316638332352,-2.7120438323761986,-2.67933383283434,-1.4774844044513094,-2.3168545874728843],[-3.287497709973723,-2.8312721050066973,-2.3911814285434434,-1.9730808791328571,-1.5816636610257473,-1.2203820820357694,-0.891443459920459,-0.5958791767724044,-0.3336802089100307,-0.10398788998672903,0.09467510611360141,0.26415125080940066,0.40639116871538533,0.5232121698991492,0.6160898445843286,0.6859975020777535,0.7333044105226213,0.7577392076408336,0.7584198702264863,0.7339466425653829,0.682549714915188,0.6022795563490431,0.4912249186703238,0.34774182813280163,0.17067645735241344,-0.04043439499189379,-0.28519950850816334,-0.5622574933913356,-0.869216841020183,-1.2026555238132568,-1.558179822542804,-1.9305382110761573,-2.313782766437316,-2.7014679027032793,-3.08687439032161,-3.4632456852674807,-3.8240235509266354,-4.163070741016355,-4.474870001969284,-4.75469068736444,-4.998716671468584,-5.204131813961999,-5.369161781733395,-5.493073415388952,-5.576134907097203,-3.298700049733203,-3.1858246223157067,-2.6845002068264634,-2.635074122666079,-1.4443447299411911,-1.3487423315717866],[-3.597675081828746,-3.1276186068816934,-2.6676724508698526,-2.2240679666244922,-1.8020771645710436,-1.4059168189870281,-1.0387183351395317,-0.7025627852072979,-0.39857599189682447,-0.127074367521548,0.11225126938778762,0.32012920146361046,0.49749430587557136,0.6452862855251629,0.7642742052096396,0.8549205409367973,0.9172946130299688,0.9510412314704889,0.9554059630951801,0.9293139882258845,0.871495397494401,0.7806463020040616,0.6556125454276047,0.4955812895243327,0.3002653776597302,0.0700661520416066,-0.19379779246700168,-0.4892057712732423,-0.8131006605743021,-1.1615079790611942,-1.5296076577438749,-1.9118542818952777,-2.3021385691669103,-2.6939804703330417,-3.080742671098424,-3.4558524957542494,-3.8130202604261676,-4.146442930125285,-4.450983384583127,-4.722317542440319,-4.957043859947913,-5.15275213151579,-5.308050905719197,-5.422555042260537,-5.496836851420838,-3.364421867786904,-3.1464526394790204,-2.729397564157472,-2.6492261591366004,-1.85648019410879,-1.5271884990689428],[-3.9182860115540112,-3.436168123781418,-2.958021136166423,-2.490410691229612,-2.0391479010994487,-1.609177592515704,-1.2045231322344452,-0.8282882694339622,-0.4827123970704277,-0.16927187473319172,0.11118313100592836,0.3582691918960277,0.5719017956093175,0.752133624670277,0.8990124942733312,1.012470542595588,1.0922534187171284,1.137894720178445,1.1487370848121419,1.1239974547634632,1.0628704169846634,0.9646604666188988,0.8289317677814221,0.6556626590856048,0.4453918460295603,0.19934393017437038,-0.08047644393674205,-0.3912301495246907,-0.7292342286747249,-1.0899997717823453,-1.46831587412033,-1.8583754314489338,-2.253935868333998,-2.6485058140655937,-3.03554736595098,-3.4086829620186525,-3.761896017511593,-4.089715300254891,-4.387374421963441,-4.650939665738025,-4.877401495774401,-5.064727339292311,-5.211875437183181,-5.318771590910961,-5.386252377945042,-3.4230337402945206,-3.3180997016863043,-3.0628964362374385,-2.0599212778412994,-1.977220308348088,-1.7885464711432952],[-4.242126850706028,-3.7503273055952864,-3.2563769821737525,-2.7671230501587925,-2.2888612107191553,-1.8272096252284966,-1.3870302772209717,-0.9723991698915713,-0.5866232238169069,-0.23229839768537663,0.08859932372850032,0.37460061398803246,0.6246190157896476,0.8378288744941631,1.0135565406215703,1.1511948079036345,1.2501481855264167,1.309813653034311,1.3295982667856199,1.3089716544153651,1.247548324242501,1.1451920812479035,1.002132885564055,0.8190853563053846,0.5973578836960141,0.33894195999611604,0.04657279615075141,-0.27624558469430305,-0.6252549838144226,-0.9954987401685034,-1.3814169775695104,-1.776977144701215,-2.17583329247006,-2.571505754099058,-2.957571750934877,-3.3278569867455916,-3.6766185071603865,-3.9987099300832325,-4.28972149886677,-4.5460891437471895,-4.765168713185211,-4.945273605393078,-5.085676049186208,-5.1865741274397426,-5.249028205626346,-3.427567481468109,-3.355278608346661,-3.237451136054419,-1.7212601283540478,-1.934974991825472,-1.8545747608276981],[-4.561798979464339,-4.063217416483852,-3.5565110483467635,-3.048747106517229,-2.5466389194808117,-2.056407407171431,-1.5836810527267808,-1.133436637398438,-0.7099799777524783,-0.3169629788869841,0.042569249517755425,0.3661094679538035,0.6516070993800682,0.8973847132194117,1.1020617693655546,1.2644939774825188,1.3837347218631166,1.459022578696461,1.4897962268122644,1.4757352633914587,1.416822822710219,1.3134236780549378,1.1663698656128647,0.9770449307600493,0.7474577255772008,0.48029727811105166,0.17896154154980035,-0.15244530799463452,-0.5091500888771457,-0.885782928164585,-1.2764827594392476,-1.6750317758497455,-2.0750126444526407,-2.469980803965049,-2.853643253375208,-3.2200349318364596,-3.5636840804488603,-3.8797588094677464,-4.164188379120291,-4.413754321584553,-4.626148353542664,-4.7999959179715965,-4.934846022012965,-5.0311296931356235,-5.229459911410784,-2.425927746209959,-3.2868696534516975,-3.208265677681619,-2.8824464557277327,-1.5741440535383693,-0.7993935139311494]]]},\"selected\":{\"id\":\"18290\",\"type\":\"Selection\"},\"selection_policy\":{\"id\":\"18289\",\"type\":\"UnionRenderers\"}},\"id\":\"17803\",\"type\":\"ColumnDataSource\"},{\"attributes\":{\"source\":{\"id\":\"17803\",\"type\":\"ColumnDataSource\"}},\"id\":\"17807\",\"type\":\"CDSView\"},{\"attributes\":{\"source\":{\"id\":\"17773\",\"type\":\"ColumnDataSource\"}},\"id\":\"17812\",\"type\":\"CDSView\"},{\"attributes\":{\"callback\":null,\"data\":{\"index\":[0,1,2,3,4,5,6,7,8,9,10,11,12,13,14,15,16,17,18,19,20,21,22,23,24,25,26,27,28,29],\"x\":[22,3,12,9,78,41,35,38,99,43,52,49,83,85,65,1,11,14,55,21,92,71,76,17,62,7,13,10,14,23],\"y\":[78,73,85,69,43,6,60,18,87,50,83,3,75,45,68,39,71,87,97,22,17,30,31,71,45,97,28,40,83,73],\"z\":{\"__ndarray__\":\"yneAn5AMyr+SARWJagvFvxPIlMQlS+a/QBSCTBPI4b9JxGhcdZX0PwtWdk2IUO2/IEfKhQFR4j/qRdMT0Tbtv86ItjnAkQTAHWNJ0dFx6D9AnUV9tjfQv/gmqOse/ea/QpZCZGZw8L/gWAyp84XjP/UXQiuk9eY/q+noUhNs5r/u7x4/3tTZv+ZaZAlFMey/VpLsCFtU0r8xX7ywcSjtvy/cXIVLluG//ytpLee40j/Eex7hYWPpP0spcolSxcu/12KRp0pz/T+wRyNLI6fiv2CH/M6g1oQ/d33INR5W3r/EPkmwuTPVv4OwF7pej82/\",\"dtype\":\"float64\",\"shape\":[30]}},\"selected\":{\"id\":\"18292\",\"type\":\"Selection\"},\"selection_policy\":{\"id\":\"18291\",\"type\":\"UnionRenderers\"}},\"id\":\"17773\",\"type\":\"ColumnDataSource\"},{\"attributes\":{\"data_source\":{\"id\":\"17803\",\"type\":\"ColumnDataSource\"},\"glyph\":{\"id\":\"17804\",\"type\":\"Image\"},\"hover_glyph\":null,\"muted_glyph\":null,\"nonselection_glyph\":{\"id\":\"17805\",\"type\":\"Image\"},\"selection_glyph\":null,\"view\":{\"id\":\"17807\",\"type\":\"CDSView\"}},\"id\":\"17806\",\"type\":\"GlyphRenderer\"},{\"attributes\":{\"text\":\"Kriging interpolation\"},\"id\":\"17776\",\"type\":\"Title\"},{\"attributes\":{},\"id\":\"18284\",\"type\":\"BasicTickFormatter\"},{\"attributes\":{},\"id\":\"17798\",\"type\":\"ResetTool\"},{\"attributes\":{},\"id\":\"17787\",\"type\":\"BasicTicker\"},{\"attributes\":{\"color_mapper\":{\"id\":\"17774\",\"type\":\"LinearColorMapper\"},\"dh\":{\"units\":\"data\",\"value\":100},\"dw\":{\"units\":\"data\",\"value\":100},\"image\":{\"field\":\"image\"},\"x\":{\"value\":0},\"y\":{\"value\":0}},\"id\":\"17805\",\"type\":\"Image\"},{\"attributes\":{},\"id\":\"18286\",\"type\":\"BasicTickFormatter\"},{\"attributes\":{\"high\":1.84064736801354,\"low\":-2.571167422183044,\"palette\":[\"#440154\",\"#440255\",\"#440357\",\"#450558\",\"#45065A\",\"#45085B\",\"#46095C\",\"#460B5E\",\"#460C5F\",\"#460E61\",\"#470F62\",\"#471163\",\"#471265\",\"#471466\",\"#471567\",\"#471669\",\"#47186A\",\"#48196B\",\"#481A6C\",\"#481C6E\",\"#481D6F\",\"#481E70\",\"#482071\",\"#482172\",\"#482273\",\"#482374\",\"#472575\",\"#472676\",\"#472777\",\"#472878\",\"#472A79\",\"#472B7A\",\"#472C7B\",\"#462D7C\",\"#462F7C\",\"#46307D\",\"#46317E\",\"#45327F\",\"#45347F\",\"#453580\",\"#453681\",\"#443781\",\"#443982\",\"#433A83\",\"#433B83\",\"#433C84\",\"#423D84\",\"#423E85\",\"#424085\",\"#414186\",\"#414286\",\"#404387\",\"#404487\",\"#3F4587\",\"#3F4788\",\"#3E4888\",\"#3E4989\",\"#3D4A89\",\"#3D4B89\",\"#3D4C89\",\"#3C4D8A\",\"#3C4E8A\",\"#3B508A\",\"#3B518A\",\"#3A528B\",\"#3A538B\",\"#39548B\",\"#39558B\",\"#38568B\",\"#38578C\",\"#37588C\",\"#37598C\",\"#365A8C\",\"#365B8C\",\"#355C8C\",\"#355D8C\",\"#345E8D\",\"#345F8D\",\"#33608D\",\"#33618D\",\"#32628D\",\"#32638D\",\"#31648D\",\"#31658D\",\"#31668D\",\"#30678D\",\"#30688D\",\"#2F698D\",\"#2F6A8D\",\"#2E6B8E\",\"#2E6C8E\",\"#2E6D8E\",\"#2D6E8E\",\"#2D6F8E\",\"#2C708E\",\"#2C718E\",\"#2C728E\",\"#2B738E\",\"#2B748E\",\"#2A758E\",\"#2A768E\",\"#2A778E\",\"#29788E\",\"#29798E\",\"#287A8E\",\"#287A8E\",\"#287B8E\",\"#277C8E\",\"#277D8E\",\"#277E8E\",\"#267F8E\",\"#26808E\",\"#26818E\",\"#25828E\",\"#25838D\",\"#24848D\",\"#24858D\",\"#24868D\",\"#23878D\",\"#23888D\",\"#23898D\",\"#22898D\",\"#228A8D\",\"#228B8D\",\"#218C8D\",\"#218D8C\",\"#218E8C\",\"#208F8C\",\"#20908C\",\"#20918C\",\"#1F928C\",\"#1F938B\",\"#1F948B\",\"#1F958B\",\"#1F968B\",\"#1E978A\",\"#1E988A\",\"#1E998A\",\"#1E998A\",\"#1E9A89\",\"#1E9B89\",\"#1E9C89\",\"#1E9D88\",\"#1E9E88\",\"#1E9F88\",\"#1EA087\",\"#1FA187\",\"#1FA286\",\"#1FA386\",\"#20A485\",\"#20A585\",\"#21A685\",\"#21A784\",\"#22A784\",\"#23A883\",\"#23A982\",\"#24AA82\",\"#25AB81\",\"#26AC81\",\"#27AD80\",\"#28AE7F\",\"#29AF7F\",\"#2AB07E\",\"#2BB17D\",\"#2CB17D\",\"#2EB27C\",\"#2FB37B\",\"#30B47A\",\"#32B57A\",\"#33B679\",\"#35B778\",\"#36B877\",\"#38B976\",\"#39B976\",\"#3BBA75\",\"#3DBB74\",\"#3EBC73\",\"#40BD72\",\"#42BE71\",\"#44BE70\",\"#45BF6F\",\"#47C06E\",\"#49C16D\",\"#4BC26C\",\"#4DC26B\",\"#4FC369\",\"#51C468\",\"#53C567\",\"#55C666\",\"#57C665\",\"#59C764\",\"#5BC862\",\"#5EC961\",\"#60C960\",\"#62CA5F\",\"#64CB5D\",\"#67CC5C\",\"#69CC5B\",\"#6BCD59\",\"#6DCE58\",\"#70CE56\",\"#72CF55\",\"#74D054\",\"#77D052\",\"#79D151\",\"#7CD24F\",\"#7ED24E\",\"#81D34C\",\"#83D34B\",\"#86D449\",\"#88D547\",\"#8BD546\",\"#8DD644\",\"#90D643\",\"#92D741\",\"#95D73F\",\"#97D83E\",\"#9AD83C\",\"#9DD93A\",\"#9FD938\",\"#A2DA37\",\"#A5DA35\",\"#A7DB33\",\"#AADB32\",\"#ADDC30\",\"#AFDC2E\",\"#B2DD2C\",\"#B5DD2B\",\"#B7DD29\",\"#BADE27\",\"#BDDE26\",\"#BFDF24\",\"#C2DF22\",\"#C5DF21\",\"#C7E01F\",\"#CAE01E\",\"#CDE01D\",\"#CFE11C\",\"#D2E11B\",\"#D4E11A\",\"#D7E219\",\"#DAE218\",\"#DCE218\",\"#DFE318\",\"#E1E318\",\"#E4E318\",\"#E7E419\",\"#E9E419\",\"#ECE41A\",\"#EEE51B\",\"#F1E51C\",\"#F3E51E\",\"#F6E61F\",\"#F8E621\",\"#FAE622\",\"#FDE724\"]},\"id\":\"17774\",\"type\":\"LinearColorMapper\"},{\"attributes\":{\"overlay\":{\"id\":\"18288\",\"type\":\"BoxAnnotation\"}},\"id\":\"17797\",\"type\":\"BoxZoomTool\"},{\"attributes\":{},\"id\":\"18289\",\"type\":\"UnionRenderers\"},{\"attributes\":{\"fill_color\":{\"field\":\"z\",\"transform\":{\"id\":\"17774\",\"type\":\"LinearColorMapper\"}},\"line_color\":{\"value\":\"white\"},\"size\":{\"units\":\"screen\",\"value\":12},\"x\":{\"field\":\"x\"},\"y\":{\"field\":\"y\"}},\"id\":\"17809\",\"type\":\"Circle\"},{\"attributes\":{\"active_drag\":\"auto\",\"active_inspect\":\"auto\",\"active_multi\":null,\"active_scroll\":\"auto\",\"active_tap\":\"auto\",\"tools\":[{\"id\":\"17796\",\"type\":\"HoverTool\"},{\"id\":\"17797\",\"type\":\"BoxZoomTool\"},{\"id\":\"17798\",\"type\":\"ResetTool\"}]},\"id\":\"17799\",\"type\":\"Toolbar\"},{\"attributes\":{\"color_mapper\":{\"id\":\"17774\",\"type\":\"LinearColorMapper\"},\"dh\":{\"units\":\"data\",\"value\":100},\"dw\":{\"units\":\"data\",\"value\":100},\"image\":{\"field\":\"image\"},\"x\":{\"value\":0},\"y\":{\"value\":0}},\"id\":\"17804\",\"type\":\"Image\"},{\"attributes\":{},\"id\":\"17792\",\"type\":\"BasicTicker\"}],\"root_ids\":[\"17775\"]},\"title\":\"Bokeh Application\",\"version\":\"1.4.0\"}};\n",
       "  var render_items = [{\"docid\":\"f8d9c21b-dbaf-4fd9-9ec6-9f7faa03c7e5\",\"roots\":{\"17775\":\"617d442e-467b-4e44-984e-e39e3288a30c\"}}];\n",
       "  root.Bokeh.embed.embed_items_notebook(docs_json, render_items);\n",
       "\n",
       "  }\n",
       "  if (root.Bokeh !== undefined) {\n",
       "    embed_document(root);\n",
       "  } else {\n",
       "    var attempts = 0;\n",
       "    var timer = setInterval(function(root) {\n",
       "      if (root.Bokeh !== undefined) {\n",
       "        clearInterval(timer);\n",
       "        embed_document(root);\n",
       "      } else {\n",
       "        attempts++;\n",
       "        if (attempts > 100) {\n",
       "          clearInterval(timer);\n",
       "          console.log(\"Bokeh: ERROR: Unable to run BokehJS code because BokehJS library is missing\");\n",
       "        }\n",
       "      }\n",
       "    }, 10, root)\n",
       "  }\n",
       "})(window);"
      ],
      "application/vnd.bokehjs_exec.v0+json": ""
     },
     "metadata": {
      "application/vnd.bokehjs_exec.v0+json": {
       "id": "17775"
      }
     },
     "output_type": "display_data"
    }
   ],
   "source": [
    "show(kriging)"
   ]
  },
  {
   "cell_type": "code",
   "execution_count": 182,
   "metadata": {},
   "outputs": [
    {
     "data": {
      "text/plain": [
       "(2.496154050146142, 1.84064736801354)"
      ]
     },
     "execution_count": 182,
     "metadata": {},
     "output_type": "execute_result"
    }
   ],
   "source": [
    "np.max(kriged), sample.z.max()"
   ]
  },
  {
   "cell_type": "code",
   "execution_count": null,
   "metadata": {},
   "outputs": [],
   "source": []
  }
 ],
 "metadata": {
  "celltoolbar": "Slideshow",
  "finalized": {
   "timestamp": 1589786791280,
   "trusted": true
  },
  "kernelspec": {
   "display_name": "Python 3",
   "language": "python",
   "name": "python3"
  },
  "language_info": {
   "codemirror_mode": {
    "name": "ipython",
    "version": 3
   },
   "file_extension": ".py",
   "mimetype": "text/x-python",
   "name": "python",
   "nbconvert_exporter": "python",
   "pygments_lexer": "ipython3",
   "version": "3.7.7"
  }
 },
 "nbformat": 4,
 "nbformat_minor": 4
}
