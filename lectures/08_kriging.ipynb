{
 "cells": [
  {
   "cell_type": "markdown",
   "metadata": {
    "slideshow": {
     "slide_type": "slide"
    }
   },
   "source": [
    "# Geostatistics"
   ]
  },
  {
   "cell_type": "markdown",
   "metadata": {
    "slideshow": {
     "slide_type": "fragment"
    }
   },
   "source": [
    "## 7. Kriging"
   ]
  },
  {
   "cell_type": "markdown",
   "metadata": {
    "slideshow": {
     "slide_type": "fragment"
    }
   },
   "source": [
    "This final lecture introduces the concept of *kriging*. It can be used to estimate a variable at unobserved locations from the spatial structure of observations. We will cover:\n",
    "\n",
    "* basic concept of Kriging\n",
    "* implement a kriging algorithm\n",
    "* introduce more advanced kriging methods"
   ]
  },
  {
   "cell_type": "code",
   "execution_count": 1,
   "metadata": {
    "slideshow": {
     "slide_type": "skip"
    }
   },
   "outputs": [],
   "source": [
    "%matplotlib inline"
   ]
  },
  {
   "cell_type": "code",
   "execution_count": 2,
   "metadata": {
    "slideshow": {
     "slide_type": "notes"
    }
   },
   "outputs": [
    {
     "data": {
      "text/html": [
       "\n",
       "    <div class=\"bk-root\">\n",
       "        <a href=\"https://bokeh.org\" target=\"_blank\" class=\"bk-logo bk-logo-small bk-logo-notebook\"></a>\n",
       "        <span id=\"1001\">Loading BokehJS ...</span>\n",
       "    </div>"
      ]
     },
     "metadata": {},
     "output_type": "display_data"
    },
    {
     "data": {
      "application/javascript": [
       "\n",
       "(function(root) {\n",
       "  function now() {\n",
       "    return new Date();\n",
       "  }\n",
       "\n",
       "  var force = true;\n",
       "\n",
       "  if (typeof root._bokeh_onload_callbacks === \"undefined\" || force === true) {\n",
       "    root._bokeh_onload_callbacks = [];\n",
       "    root._bokeh_is_loading = undefined;\n",
       "  }\n",
       "\n",
       "  var JS_MIME_TYPE = 'application/javascript';\n",
       "  var HTML_MIME_TYPE = 'text/html';\n",
       "  var EXEC_MIME_TYPE = 'application/vnd.bokehjs_exec.v0+json';\n",
       "  var CLASS_NAME = 'output_bokeh rendered_html';\n",
       "\n",
       "  /**\n",
       "   * Render data to the DOM node\n",
       "   */\n",
       "  function render(props, node) {\n",
       "    var script = document.createElement(\"script\");\n",
       "    node.appendChild(script);\n",
       "  }\n",
       "\n",
       "  /**\n",
       "   * Handle when an output is cleared or removed\n",
       "   */\n",
       "  function handleClearOutput(event, handle) {\n",
       "    var cell = handle.cell;\n",
       "\n",
       "    var id = cell.output_area._bokeh_element_id;\n",
       "    var server_id = cell.output_area._bokeh_server_id;\n",
       "    // Clean up Bokeh references\n",
       "    if (id != null && id in Bokeh.index) {\n",
       "      Bokeh.index[id].model.document.clear();\n",
       "      delete Bokeh.index[id];\n",
       "    }\n",
       "\n",
       "    if (server_id !== undefined) {\n",
       "      // Clean up Bokeh references\n",
       "      var cmd = \"from bokeh.io.state import curstate; print(curstate().uuid_to_server['\" + server_id + \"'].get_sessions()[0].document.roots[0]._id)\";\n",
       "      cell.notebook.kernel.execute(cmd, {\n",
       "        iopub: {\n",
       "          output: function(msg) {\n",
       "            var id = msg.content.text.trim();\n",
       "            if (id in Bokeh.index) {\n",
       "              Bokeh.index[id].model.document.clear();\n",
       "              delete Bokeh.index[id];\n",
       "            }\n",
       "          }\n",
       "        }\n",
       "      });\n",
       "      // Destroy server and session\n",
       "      var cmd = \"import bokeh.io.notebook as ion; ion.destroy_server('\" + server_id + \"')\";\n",
       "      cell.notebook.kernel.execute(cmd);\n",
       "    }\n",
       "  }\n",
       "\n",
       "  /**\n",
       "   * Handle when a new output is added\n",
       "   */\n",
       "  function handleAddOutput(event, handle) {\n",
       "    var output_area = handle.output_area;\n",
       "    var output = handle.output;\n",
       "\n",
       "    // limit handleAddOutput to display_data with EXEC_MIME_TYPE content only\n",
       "    if ((output.output_type != \"display_data\") || (!output.data.hasOwnProperty(EXEC_MIME_TYPE))) {\n",
       "      return\n",
       "    }\n",
       "\n",
       "    var toinsert = output_area.element.find(\".\" + CLASS_NAME.split(' ')[0]);\n",
       "\n",
       "    if (output.metadata[EXEC_MIME_TYPE][\"id\"] !== undefined) {\n",
       "      toinsert[toinsert.length - 1].firstChild.textContent = output.data[JS_MIME_TYPE];\n",
       "      // store reference to embed id on output_area\n",
       "      output_area._bokeh_element_id = output.metadata[EXEC_MIME_TYPE][\"id\"];\n",
       "    }\n",
       "    if (output.metadata[EXEC_MIME_TYPE][\"server_id\"] !== undefined) {\n",
       "      var bk_div = document.createElement(\"div\");\n",
       "      bk_div.innerHTML = output.data[HTML_MIME_TYPE];\n",
       "      var script_attrs = bk_div.children[0].attributes;\n",
       "      for (var i = 0; i < script_attrs.length; i++) {\n",
       "        toinsert[toinsert.length - 1].firstChild.setAttribute(script_attrs[i].name, script_attrs[i].value);\n",
       "      }\n",
       "      // store reference to server id on output_area\n",
       "      output_area._bokeh_server_id = output.metadata[EXEC_MIME_TYPE][\"server_id\"];\n",
       "    }\n",
       "  }\n",
       "\n",
       "  function register_renderer(events, OutputArea) {\n",
       "\n",
       "    function append_mime(data, metadata, element) {\n",
       "      // create a DOM node to render to\n",
       "      var toinsert = this.create_output_subarea(\n",
       "        metadata,\n",
       "        CLASS_NAME,\n",
       "        EXEC_MIME_TYPE\n",
       "      );\n",
       "      this.keyboard_manager.register_events(toinsert);\n",
       "      // Render to node\n",
       "      var props = {data: data, metadata: metadata[EXEC_MIME_TYPE]};\n",
       "      render(props, toinsert[toinsert.length - 1]);\n",
       "      element.append(toinsert);\n",
       "      return toinsert\n",
       "    }\n",
       "\n",
       "    /* Handle when an output is cleared or removed */\n",
       "    events.on('clear_output.CodeCell', handleClearOutput);\n",
       "    events.on('delete.Cell', handleClearOutput);\n",
       "\n",
       "    /* Handle when a new output is added */\n",
       "    events.on('output_added.OutputArea', handleAddOutput);\n",
       "\n",
       "    /**\n",
       "     * Register the mime type and append_mime function with output_area\n",
       "     */\n",
       "    OutputArea.prototype.register_mime_type(EXEC_MIME_TYPE, append_mime, {\n",
       "      /* Is output safe? */\n",
       "      safe: true,\n",
       "      /* Index of renderer in `output_area.display_order` */\n",
       "      index: 0\n",
       "    });\n",
       "  }\n",
       "\n",
       "  // register the mime type if in Jupyter Notebook environment and previously unregistered\n",
       "  if (root.Jupyter !== undefined) {\n",
       "    var events = require('base/js/events');\n",
       "    var OutputArea = require('notebook/js/outputarea').OutputArea;\n",
       "\n",
       "    if (OutputArea.prototype.mime_types().indexOf(EXEC_MIME_TYPE) == -1) {\n",
       "      register_renderer(events, OutputArea);\n",
       "    }\n",
       "  }\n",
       "\n",
       "  \n",
       "  if (typeof (root._bokeh_timeout) === \"undefined\" || force === true) {\n",
       "    root._bokeh_timeout = Date.now() + 5000;\n",
       "    root._bokeh_failed_load = false;\n",
       "  }\n",
       "\n",
       "  var NB_LOAD_WARNING = {'data': {'text/html':\n",
       "     \"<div style='background-color: #fdd'>\\n\"+\n",
       "     \"<p>\\n\"+\n",
       "     \"BokehJS does not appear to have successfully loaded. If loading BokehJS from CDN, this \\n\"+\n",
       "     \"may be due to a slow or bad network connection. Possible fixes:\\n\"+\n",
       "     \"</p>\\n\"+\n",
       "     \"<ul>\\n\"+\n",
       "     \"<li>re-rerun `output_notebook()` to attempt to load from CDN again, or</li>\\n\"+\n",
       "     \"<li>use INLINE resources instead, as so:</li>\\n\"+\n",
       "     \"</ul>\\n\"+\n",
       "     \"<code>\\n\"+\n",
       "     \"from bokeh.resources import INLINE\\n\"+\n",
       "     \"output_notebook(resources=INLINE)\\n\"+\n",
       "     \"</code>\\n\"+\n",
       "     \"</div>\"}};\n",
       "\n",
       "  function display_loaded() {\n",
       "    var el = document.getElementById(\"1001\");\n",
       "    if (el != null) {\n",
       "      el.textContent = \"BokehJS is loading...\";\n",
       "    }\n",
       "    if (root.Bokeh !== undefined) {\n",
       "      if (el != null) {\n",
       "        el.textContent = \"BokehJS \" + root.Bokeh.version + \" successfully loaded.\";\n",
       "      }\n",
       "    } else if (Date.now() < root._bokeh_timeout) {\n",
       "      setTimeout(display_loaded, 100)\n",
       "    }\n",
       "  }\n",
       "\n",
       "\n",
       "  function run_callbacks() {\n",
       "    try {\n",
       "      root._bokeh_onload_callbacks.forEach(function(callback) {\n",
       "        if (callback != null)\n",
       "          callback();\n",
       "      });\n",
       "    } finally {\n",
       "      delete root._bokeh_onload_callbacks\n",
       "    }\n",
       "    console.debug(\"Bokeh: all callbacks have finished\");\n",
       "  }\n",
       "\n",
       "  function load_libs(css_urls, js_urls, callback) {\n",
       "    if (css_urls == null) css_urls = [];\n",
       "    if (js_urls == null) js_urls = [];\n",
       "\n",
       "    root._bokeh_onload_callbacks.push(callback);\n",
       "    if (root._bokeh_is_loading > 0) {\n",
       "      console.debug(\"Bokeh: BokehJS is being loaded, scheduling callback at\", now());\n",
       "      return null;\n",
       "    }\n",
       "    if (js_urls == null || js_urls.length === 0) {\n",
       "      run_callbacks();\n",
       "      return null;\n",
       "    }\n",
       "    console.debug(\"Bokeh: BokehJS not loaded, scheduling load and callback at\", now());\n",
       "    root._bokeh_is_loading = css_urls.length + js_urls.length;\n",
       "\n",
       "    function on_load() {\n",
       "      root._bokeh_is_loading--;\n",
       "      if (root._bokeh_is_loading === 0) {\n",
       "        console.debug(\"Bokeh: all BokehJS libraries/stylesheets loaded\");\n",
       "        run_callbacks()\n",
       "      }\n",
       "    }\n",
       "\n",
       "    function on_error() {\n",
       "      console.error(\"failed to load \" + url);\n",
       "    }\n",
       "\n",
       "    for (var i = 0; i < css_urls.length; i++) {\n",
       "      var url = css_urls[i];\n",
       "      const element = document.createElement(\"link\");\n",
       "      element.onload = on_load;\n",
       "      element.onerror = on_error;\n",
       "      element.rel = \"stylesheet\";\n",
       "      element.type = \"text/css\";\n",
       "      element.href = url;\n",
       "      console.debug(\"Bokeh: injecting link tag for BokehJS stylesheet: \", url);\n",
       "      document.body.appendChild(element);\n",
       "    }\n",
       "\n",
       "    for (var i = 0; i < js_urls.length; i++) {\n",
       "      var url = js_urls[i];\n",
       "      var element = document.createElement('script');\n",
       "      element.onload = on_load;\n",
       "      element.onerror = on_error;\n",
       "      element.async = false;\n",
       "      element.src = url;\n",
       "      console.debug(\"Bokeh: injecting script tag for BokehJS library: \", url);\n",
       "      document.head.appendChild(element);\n",
       "    }\n",
       "  };var element = document.getElementById(\"1001\");\n",
       "  if (element == null) {\n",
       "    console.error(\"Bokeh: ERROR: autoload.js configured with elementid '1001' but no matching script tag was found. \")\n",
       "    return false;\n",
       "  }\n",
       "\n",
       "  function inject_raw_css(css) {\n",
       "    const element = document.createElement(\"style\");\n",
       "    element.appendChild(document.createTextNode(css));\n",
       "    document.body.appendChild(element);\n",
       "  }\n",
       "\n",
       "  \n",
       "  var js_urls = [\"https://cdn.pydata.org/bokeh/release/bokeh-1.4.0.min.js\", \"https://cdn.pydata.org/bokeh/release/bokeh-widgets-1.4.0.min.js\", \"https://cdn.pydata.org/bokeh/release/bokeh-tables-1.4.0.min.js\", \"https://cdn.pydata.org/bokeh/release/bokeh-gl-1.4.0.min.js\"];\n",
       "  var css_urls = [];\n",
       "  \n",
       "\n",
       "  var inline_js = [\n",
       "    function(Bokeh) {\n",
       "      Bokeh.set_log_level(\"info\");\n",
       "    },\n",
       "    function(Bokeh) {\n",
       "    \n",
       "    \n",
       "    }\n",
       "  ];\n",
       "\n",
       "  function run_inline_js() {\n",
       "    \n",
       "    if (root.Bokeh !== undefined || force === true) {\n",
       "      \n",
       "    for (var i = 0; i < inline_js.length; i++) {\n",
       "      inline_js[i].call(root, root.Bokeh);\n",
       "    }\n",
       "    if (force === true) {\n",
       "        display_loaded();\n",
       "      }} else if (Date.now() < root._bokeh_timeout) {\n",
       "      setTimeout(run_inline_js, 100);\n",
       "    } else if (!root._bokeh_failed_load) {\n",
       "      console.log(\"Bokeh: BokehJS failed to load within specified timeout.\");\n",
       "      root._bokeh_failed_load = true;\n",
       "    } else if (force !== true) {\n",
       "      var cell = $(document.getElementById(\"1001\")).parents('.cell').data().cell;\n",
       "      cell.output_area.append_execute_result(NB_LOAD_WARNING)\n",
       "    }\n",
       "\n",
       "  }\n",
       "\n",
       "  if (root._bokeh_is_loading === 0) {\n",
       "    console.debug(\"Bokeh: BokehJS loaded, going straight to plotting\");\n",
       "    run_inline_js();\n",
       "  } else {\n",
       "    load_libs(css_urls, js_urls, function() {\n",
       "      console.debug(\"Bokeh: BokehJS plotting callback run at\", now());\n",
       "      run_inline_js();\n",
       "    });\n",
       "  }\n",
       "}(window));"
      ],
      "application/vnd.bokehjs_load.v0+json": "\n(function(root) {\n  function now() {\n    return new Date();\n  }\n\n  var force = true;\n\n  if (typeof root._bokeh_onload_callbacks === \"undefined\" || force === true) {\n    root._bokeh_onload_callbacks = [];\n    root._bokeh_is_loading = undefined;\n  }\n\n  \n\n  \n  if (typeof (root._bokeh_timeout) === \"undefined\" || force === true) {\n    root._bokeh_timeout = Date.now() + 5000;\n    root._bokeh_failed_load = false;\n  }\n\n  var NB_LOAD_WARNING = {'data': {'text/html':\n     \"<div style='background-color: #fdd'>\\n\"+\n     \"<p>\\n\"+\n     \"BokehJS does not appear to have successfully loaded. If loading BokehJS from CDN, this \\n\"+\n     \"may be due to a slow or bad network connection. Possible fixes:\\n\"+\n     \"</p>\\n\"+\n     \"<ul>\\n\"+\n     \"<li>re-rerun `output_notebook()` to attempt to load from CDN again, or</li>\\n\"+\n     \"<li>use INLINE resources instead, as so:</li>\\n\"+\n     \"</ul>\\n\"+\n     \"<code>\\n\"+\n     \"from bokeh.resources import INLINE\\n\"+\n     \"output_notebook(resources=INLINE)\\n\"+\n     \"</code>\\n\"+\n     \"</div>\"}};\n\n  function display_loaded() {\n    var el = document.getElementById(\"1001\");\n    if (el != null) {\n      el.textContent = \"BokehJS is loading...\";\n    }\n    if (root.Bokeh !== undefined) {\n      if (el != null) {\n        el.textContent = \"BokehJS \" + root.Bokeh.version + \" successfully loaded.\";\n      }\n    } else if (Date.now() < root._bokeh_timeout) {\n      setTimeout(display_loaded, 100)\n    }\n  }\n\n\n  function run_callbacks() {\n    try {\n      root._bokeh_onload_callbacks.forEach(function(callback) {\n        if (callback != null)\n          callback();\n      });\n    } finally {\n      delete root._bokeh_onload_callbacks\n    }\n    console.debug(\"Bokeh: all callbacks have finished\");\n  }\n\n  function load_libs(css_urls, js_urls, callback) {\n    if (css_urls == null) css_urls = [];\n    if (js_urls == null) js_urls = [];\n\n    root._bokeh_onload_callbacks.push(callback);\n    if (root._bokeh_is_loading > 0) {\n      console.debug(\"Bokeh: BokehJS is being loaded, scheduling callback at\", now());\n      return null;\n    }\n    if (js_urls == null || js_urls.length === 0) {\n      run_callbacks();\n      return null;\n    }\n    console.debug(\"Bokeh: BokehJS not loaded, scheduling load and callback at\", now());\n    root._bokeh_is_loading = css_urls.length + js_urls.length;\n\n    function on_load() {\n      root._bokeh_is_loading--;\n      if (root._bokeh_is_loading === 0) {\n        console.debug(\"Bokeh: all BokehJS libraries/stylesheets loaded\");\n        run_callbacks()\n      }\n    }\n\n    function on_error() {\n      console.error(\"failed to load \" + url);\n    }\n\n    for (var i = 0; i < css_urls.length; i++) {\n      var url = css_urls[i];\n      const element = document.createElement(\"link\");\n      element.onload = on_load;\n      element.onerror = on_error;\n      element.rel = \"stylesheet\";\n      element.type = \"text/css\";\n      element.href = url;\n      console.debug(\"Bokeh: injecting link tag for BokehJS stylesheet: \", url);\n      document.body.appendChild(element);\n    }\n\n    for (var i = 0; i < js_urls.length; i++) {\n      var url = js_urls[i];\n      var element = document.createElement('script');\n      element.onload = on_load;\n      element.onerror = on_error;\n      element.async = false;\n      element.src = url;\n      console.debug(\"Bokeh: injecting script tag for BokehJS library: \", url);\n      document.head.appendChild(element);\n    }\n  };var element = document.getElementById(\"1001\");\n  if (element == null) {\n    console.error(\"Bokeh: ERROR: autoload.js configured with elementid '1001' but no matching script tag was found. \")\n    return false;\n  }\n\n  function inject_raw_css(css) {\n    const element = document.createElement(\"style\");\n    element.appendChild(document.createTextNode(css));\n    document.body.appendChild(element);\n  }\n\n  \n  var js_urls = [\"https://cdn.pydata.org/bokeh/release/bokeh-1.4.0.min.js\", \"https://cdn.pydata.org/bokeh/release/bokeh-widgets-1.4.0.min.js\", \"https://cdn.pydata.org/bokeh/release/bokeh-tables-1.4.0.min.js\", \"https://cdn.pydata.org/bokeh/release/bokeh-gl-1.4.0.min.js\"];\n  var css_urls = [];\n  \n\n  var inline_js = [\n    function(Bokeh) {\n      Bokeh.set_log_level(\"info\");\n    },\n    function(Bokeh) {\n    \n    \n    }\n  ];\n\n  function run_inline_js() {\n    \n    if (root.Bokeh !== undefined || force === true) {\n      \n    for (var i = 0; i < inline_js.length; i++) {\n      inline_js[i].call(root, root.Bokeh);\n    }\n    if (force === true) {\n        display_loaded();\n      }} else if (Date.now() < root._bokeh_timeout) {\n      setTimeout(run_inline_js, 100);\n    } else if (!root._bokeh_failed_load) {\n      console.log(\"Bokeh: BokehJS failed to load within specified timeout.\");\n      root._bokeh_failed_load = true;\n    } else if (force !== true) {\n      var cell = $(document.getElementById(\"1001\")).parents('.cell').data().cell;\n      cell.output_area.append_execute_result(NB_LOAD_WARNING)\n    }\n\n  }\n\n  if (root._bokeh_is_loading === 0) {\n    console.debug(\"Bokeh: BokehJS loaded, going straight to plotting\");\n    run_inline_js();\n  } else {\n    load_libs(css_urls, js_urls, function() {\n      console.debug(\"Bokeh: BokehJS plotting callback run at\", now());\n      run_inline_js();\n    });\n  }\n}(window));"
     },
     "metadata": {},
     "output_type": "display_data"
    }
   ],
   "source": [
    "import numpy as np\n",
    "import pandas as pd\n",
    "import skgstat as skg\n",
    "import matplotlib.pyplot as plt\n",
    "from scipy.spatial.distance import pdist, squareform\n",
    "from numpy.linalg import inv\n",
    "\n",
    "from bokeh.io import output_notebook\n",
    "from bokeh.plotting import figure, show\n",
    "from bokeh.models import ColumnDataSource, LinearColorMapper\n",
    "from bokeh.layouts import row, column, gridplot\n",
    "\n",
    "output_notebook()"
   ]
  },
  {
   "cell_type": "markdown",
   "metadata": {
    "slideshow": {
     "slide_type": "slide"
    }
   },
   "source": [
    "## 7.1 What is Kriging?"
   ]
  },
  {
   "cell_type": "markdown",
   "metadata": {
    "slideshow": {
     "slide_type": "fragment"
    }
   },
   "source": [
    "Kriging is an **interpolation** method. We use it to **estimate** a value at an unobserved location. "
   ]
  },
  {
   "cell_type": "markdown",
   "metadata": {
    "slideshow": {
     "slide_type": "fragment"
    }
   },
   "source": [
    "It is often referred to as a **BLUE** method.\n",
    "\n",
    "* **B**est **L**inear **U**nbiased **E**stimator\n",
    "\n",
    "We will go for each letter to better understand the method"
   ]
  },
  {
   "cell_type": "markdown",
   "metadata": {
    "slideshow": {
     "slide_type": "fragment"
    }
   },
   "source": [
    "In class, only one variant of Kriging will be presentend in detail: **Ordinary Kriging**. On top, we will introduce **Simple Updating Kriging** in the next block as one example of other Kriging methods."
   ]
  },
  {
   "cell_type": "markdown",
   "metadata": {
    "slideshow": {
     "slide_type": "subslide"
    }
   },
   "source": [
    "Other commonly used methods include:\n",
    "\n",
    "* Simple Kriging\n",
    "* Universal Kriging\n",
    "* External Drift Kriging\n",
    "* Indicator Kriging\n",
    "* Simple Updateing Kriging"
   ]
  },
  {
   "cell_type": "markdown",
   "metadata": {
    "slideshow": {
     "slide_type": "subslide"
    }
   },
   "source": [
    "### 7.1.1 Estimator"
   ]
  },
  {
   "cell_type": "markdown",
   "metadata": {
    "slideshow": {
     "slide_type": "fragment"
    }
   },
   "source": [
    "Kriging is an **estimation** method. "
   ]
  },
  {
   "cell_type": "markdown",
   "metadata": {
    "slideshow": {
     "slide_type": "fragment"
    }
   },
   "source": [
    "**Estimation** always implies **uncertainty**. Thus, the method does not yield any kind of deterministic result imanent to the data, but an estimation that largely depends on the *variogram*. "
   ]
  },
  {
   "cell_type": "markdown",
   "metadata": {
    "slideshow": {
     "slide_type": "skip"
    }
   },
   "source": [
    "Recall, that the variogram is a 2nd order statistical moment of a multivariate spatial data **sample**. Like any other means of statistics, it therefore largely depends on the sample size. Any amount of uncertainty about statistical properties of the population is therefore transferred into the Kriging method and ultimately into the interpolation result."
   ]
  },
  {
   "cell_type": "markdown",
   "metadata": {
    "slideshow": {
     "slide_type": "fragment"
    }
   },
   "source": [
    "Thus, trash in => trash out.\n",
    "\n",
    "If your varigram is not describing the spatial structure of the data sample properly the interpolation will be uncertain. "
   ]
  },
  {
   "cell_type": "markdown",
   "metadata": {
    "slideshow": {
     "slide_type": "subslide"
    }
   },
   "source": [
    "### 7.1.2 Linear"
   ]
  },
  {
   "cell_type": "markdown",
   "metadata": {
    "slideshow": {
     "slide_type": "fragment"
    }
   },
   "source": [
    "Next, let's understand what **linear** means in the context of Kriging."
   ]
  },
  {
   "cell_type": "markdown",
   "metadata": {
    "slideshow": {
     "slide_type": "fragment"
    }
   },
   "source": [
    "Linear means that the estimation of a variable at an unobsorved location is the **linear combination** of $N$ neighboring locations' observation."
   ]
  },
  {
   "cell_type": "markdown",
   "metadata": {
    "slideshow": {
     "slide_type": "fragment"
    }
   },
   "source": [
    "$$ Z^*(s_0) = \\sum_{i=1}^N \\lambda_i * Z(s_i) $$\n",
    "\n",
    "Where $Z^*(s_0)$ is the estimation at $s_0$ and $s_1, s_2, \\ldots, s_N$ are the neighbors. $\\lambda$ are the weights that we need to *combine* the observations."
   ]
  },
  {
   "cell_type": "markdown",
   "metadata": {
    "slideshow": {
     "slide_type": "subslide"
    }
   },
   "source": [
    "Recall the excursus to IDW. You know this already. IDW and Kriging use exactly the same combination to come up with an interpolation result. \n",
    "\n",
    "The only difference is how $\\lambda$ is determined."
   ]
  },
  {
   "cell_type": "markdown",
   "metadata": {
    "slideshow": {
     "slide_type": "fragment"
    }
   },
   "source": [
    "**IDW:** we defined a static rule, how we expect $lamda$ to depend on distance"
   ]
  },
  {
   "cell_type": "markdown",
   "metadata": {
    "slideshow": {
     "slide_type": "fragment"
    }
   },
   "source": [
    "**Kriging:** We use the variogram to depend a measure of *dissimilarity* on the distance"
   ]
  },
  {
   "cell_type": "markdown",
   "metadata": {
    "slideshow": {
     "slide_type": "fragment"
    }
   },
   "source": [
    "To complement **BLUE**: We try to find the **best**, **unbiased** set of weights."
   ]
  },
  {
   "cell_type": "markdown",
   "metadata": {
    "slideshow": {
     "slide_type": "subslide"
    }
   },
   "source": [
    "\n",
    "### 7.1.3 Best"
   ]
  },
  {
   "cell_type": "markdown",
   "metadata": {
    "slideshow": {
     "slide_type": "fragment"
    }
   },
   "source": [
    "How can we find the **best** *estimation*?"
   ]
  },
  {
   "cell_type": "markdown",
   "metadata": {
    "slideshow": {
     "slide_type": "fragment"
    }
   },
   "source": [
    "* with *estimation* we already granted that the final interpolation value might be off the *real* value. "
   ]
  },
  {
   "cell_type": "markdown",
   "metadata": {
    "slideshow": {
     "slide_type": "fragment"
    }
   },
   "source": [
    "* Think statistically: The value we estimate is just the **expected** value of the distribution of **possible** values to solve our interpolation problem. But we need a second parameter to describe a distribution."
   ]
  },
  {
   "cell_type": "markdown",
   "metadata": {
    "slideshow": {
     "slide_type": "fragment"
    }
   },
   "source": [
    "* The **variance** of the distribution (of possible solutions) indicates how *far off* they might be with respect to the expected value"
   ]
  },
  {
   "cell_type": "markdown",
   "metadata": {
    "slideshow": {
     "slide_type": "fragment"
    }
   },
   "source": [
    "* to obtain the **best** estimation, we have to **minimize this variance**."
   ]
  },
  {
   "cell_type": "markdown",
   "metadata": {
    "slideshow": {
     "slide_type": "fragment"
    }
   },
   "source": [
    "With this, we can assure that while we might not be able to precisely recalculate a value, we will at least **as close as possible**, given the data sample."
   ]
  },
  {
   "cell_type": "markdown",
   "metadata": {
    "slideshow": {
     "slide_type": "subslide"
    }
   },
   "source": [
    "We define the deviation, or error, of the estimation to the true value as:\n",
    "\n",
    "$$ \\epsilon (s_0) = Z^*(s_0) - Z(s_0) $$"
   ]
  },
  {
   "cell_type": "markdown",
   "metadata": {
    "slideshow": {
     "slide_type": "fragment"
    }
   },
   "source": [
    "from which follows that:\n",
    "\n",
    "$$ \\epsilon(s_0) = \\sum_{i=1}^N \\lambda_i * (Z^*(s_0) - Z(s_0)) $$\n",
    "\n",
    "and finally we want to minimize the variance of $\\epsilon$ using the equation above to build a **linear** system of equations to solve for all $\\lambda$.\n",
    "\n",
    "$$ min(\\sigma^2(\\epsilon)) $$ "
   ]
  },
  {
   "cell_type": "markdown",
   "metadata": {
    "slideshow": {
     "slide_type": "fragment"
    }
   },
   "source": [
    "however, we want to do that **unbiased**."
   ]
  },
  {
   "cell_type": "markdown",
   "metadata": {
    "slideshow": {
     "slide_type": "subslide"
    }
   },
   "source": [
    "### 7.1.4 Unbiased"
   ]
  },
  {
   "cell_type": "markdown",
   "metadata": {
    "slideshow": {
     "slide_type": "fragment"
    }
   },
   "source": [
    "One of the fundamental assumptions of geostatistics, especially when we want to apply *Ordinary Kriging* is that the *intrinsic hypothesis* holds for the random field. \n",
    "\n",
    "In other words: The expected value of the random field has to be the same everywhere."
   ]
  },
  {
   "cell_type": "markdown",
   "metadata": {
    "slideshow": {
     "slide_type": "fragment"
    }
   },
   "source": [
    "$$ E(Z(x_0)) = E(Z(x_i)) $$"
   ]
  },
  {
   "cell_type": "markdown",
   "metadata": {
    "slideshow": {
     "slide_type": "fragment"
    }
   },
   "source": [
    "and therefore we expect:\n",
    "\n",
    "$$ E(\\epsilon(x_0)) = 0 $$"
   ]
  },
  {
   "cell_type": "markdown",
   "metadata": {
    "slideshow": {
     "slide_type": "fragment"
    }
   },
   "source": [
    "Looking at the equation from earlier:\n",
    "\n",
    "$$ E(\\epsilon(s_0)) = E\\left(\\sum_{i=1}^N \\lambda_i * (Z^*(s_0) - Z(s_0))\\right) = 0$$"
   ]
  },
  {
   "cell_type": "markdown",
   "metadata": {
    "slideshow": {
     "slide_type": "fragment"
    }
   },
   "source": [
    "Which can only be solved independed from location if:\n",
    "\n",
    "$$ \\sum_{i=1}^N \\lambda_i = 1 $$\n"
   ]
  },
  {
   "cell_type": "markdown",
   "metadata": {
    "slideshow": {
     "slide_type": "subslide"
    }
   },
   "source": [
    "Combining this all together gives the **Kriging equation system**:\n",
    "\n",
    "$$ \n",
    "\\begin{pmatrix}\n",
    "\\gamma(s_1,s_1) & \\gamma(s_1, s_2) & \\ldots & \\gamma(s_1, s_N) & 1 \\\\\n",
    "\\gamma(s_2,s_1) & \\gamma(s_2, s_2) & \\ldots & \\gamma(s_2, s_N) & 1 \\\\\n",
    "\\vdots & \\ldots & \\ddots & \\vdots & 1 \\\\\n",
    "\\gamma(s_N,s_1) & \\gamma(s_N, s_2) & \\ldots & \\gamma(s_N, s_N) & 1 \\\\\n",
    "1 & 1 & \\ldots & 1 & 0 \\\\\n",
    "\\end{pmatrix} * \n",
    "\\begin{bmatrix}\n",
    "\\lambda_1 \\\\\n",
    "\\lambda_2 \\\\\n",
    "\\vdots \\\\\n",
    "\\lambda_N \\\\\n",
    "\\mu\n",
    "\\end{bmatrix} = \n",
    "\\begin{bmatrix}\n",
    "\\gamma(s_1, s_0) \\\\\n",
    "\\gamma(s_2, s_0) \\\\\n",
    "\\vdots \\\\\n",
    "\\gamma(s_N, s_0) \\\\ \n",
    "1\n",
    "\\end{bmatrix}\n",
    "$$"
   ]
  },
  {
   "cell_type": "markdown",
   "metadata": {
    "slideshow": {
     "slide_type": "fragment"
    }
   },
   "source": [
    "We can also assign letters to these matrices like:\n",
    "\n",
    "$$ \\boldsymbol{A} * \\boldsymbol{\\omega} = \\boldsymbol{b} $$ "
   ]
  },
  {
   "cell_type": "markdown",
   "metadata": {
    "slideshow": {
     "slide_type": "subslide"
    }
   },
   "source": [
    "And finally we can solve for $\\omega$ using the dot-product of $b$ and the inverse of $A$:\n",
    "\n",
    "$$ \\boldsymbol{\\omega} = \\boldsymbol{A^{-1}} \\cdot \\boldsymbol{b} $$"
   ]
  },
  {
   "cell_type": "markdown",
   "metadata": {
    "slideshow": {
     "slide_type": "fragment"
    }
   },
   "source": [
    "Finally the first $N$ entries in $\\omega$ are $\\lambda_1, \\lambda_2, \\ldots, \\lambda_N$ and the last element is the lagrangian multiplier $\\mu$ that was needed to met unbiasedness."
   ]
  },
  {
   "cell_type": "markdown",
   "metadata": {
    "slideshow": {
     "slide_type": "slide"
    }
   },
   "source": [
    "## 7.2 Estimating the variogram"
   ]
  },
  {
   "cell_type": "markdown",
   "metadata": {
    "slideshow": {
     "slide_type": "fragment"
    }
   },
   "source": [
    "We will use the variogram of the data sample used in the last lectures as our main means to determine the Kriging weights. Therefore, we need to re-calculate, exactly like in the past lectures."
   ]
  },
  {
   "cell_type": "code",
   "execution_count": 3,
   "metadata": {
    "slideshow": {
     "slide_type": "skip"
    }
   },
   "outputs": [],
   "source": [
    "coords = pd.read_csv('./data/sample_positions.txt', sep='\\s+', header=None)\n",
    "coords.columns = ['x', 'y']\n",
    "data = pd.read_csv('./data/sample_data.txt', sep='\\s+')\n",
    "sample = coords.copy()\n",
    "sample['z'] = data.loc[0, :].values"
   ]
  },
  {
   "cell_type": "markdown",
   "metadata": {
    "slideshow": {
     "slide_type": "subslide"
    }
   },
   "source": [
    "The same data sample will be used:"
   ]
  },
  {
   "cell_type": "code",
   "execution_count": 4,
   "metadata": {
    "slideshow": {
     "slide_type": "fragment"
    }
   },
   "outputs": [
    {
     "data": {
      "text/html": [
       "<div>\n",
       "<style scoped>\n",
       "    .dataframe tbody tr th:only-of-type {\n",
       "        vertical-align: middle;\n",
       "    }\n",
       "\n",
       "    .dataframe tbody tr th {\n",
       "        vertical-align: top;\n",
       "    }\n",
       "\n",
       "    .dataframe thead th {\n",
       "        text-align: right;\n",
       "    }\n",
       "</style>\n",
       "<table border=\"1\" class=\"dataframe\">\n",
       "  <thead>\n",
       "    <tr style=\"text-align: right;\">\n",
       "      <th></th>\n",
       "      <th>x</th>\n",
       "      <th>y</th>\n",
       "      <th>z</th>\n",
       "    </tr>\n",
       "  </thead>\n",
       "  <tbody>\n",
       "    <tr>\n",
       "      <th>0</th>\n",
       "      <td>22</td>\n",
       "      <td>78</td>\n",
       "      <td>-0.203508</td>\n",
       "    </tr>\n",
       "    <tr>\n",
       "      <th>1</th>\n",
       "      <td>3</td>\n",
       "      <td>73</td>\n",
       "      <td>-0.164411</td>\n",
       "    </tr>\n",
       "    <tr>\n",
       "      <th>2</th>\n",
       "      <td>12</td>\n",
       "      <td>85</td>\n",
       "      <td>-0.696673</td>\n",
       "    </tr>\n",
       "    <tr>\n",
       "      <th>3</th>\n",
       "      <td>9</td>\n",
       "      <td>69</td>\n",
       "      <td>-0.555673</td>\n",
       "    </tr>\n",
       "    <tr>\n",
       "      <th>4</th>\n",
       "      <td>78</td>\n",
       "      <td>43</td>\n",
       "      <td>1.286489</td>\n",
       "    </tr>\n",
       "  </tbody>\n",
       "</table>\n",
       "</div>"
      ],
      "text/plain": [
       "    x   y         z\n",
       "0  22  78 -0.203508\n",
       "1   3  73 -0.164411\n",
       "2  12  85 -0.696673\n",
       "3   9  69 -0.555673\n",
       "4  78  43  1.286489"
      ]
     },
     "execution_count": 4,
     "metadata": {},
     "output_type": "execute_result"
    }
   ],
   "source": [
    "sample.head()"
   ]
  },
  {
   "cell_type": "markdown",
   "metadata": {
    "slideshow": {
     "slide_type": "subslide"
    }
   },
   "source": [
    "Like in the previous lectures we need to compile \n",
    "\n",
    "* an array of row-wise sorted pairwise distancs\n",
    "* an array of row-wise sorted pairwise observation - differences\n",
    "* an array of upper limits for binning the distances\n",
    "* an array of row-wise sorted grouping indices to order the differences into lag bins\n",
    "\n",
    "\n",
    "From that we can calculate the experimental variogram and finally fit a model to it. For the sake of simplicity, we use `scikit-gstat` again."
   ]
  },
  {
   "cell_type": "code",
   "execution_count": 5,
   "metadata": {
    "slideshow": {
     "slide_type": "subslide"
    }
   },
   "outputs": [],
   "source": [
    "V = skg.Variogram(\n",
    "    sample[['x', 'y']].values,      # x,y coordinates\n",
    "    sample.z.values,                # observations\n",
    "    maxlag=100,                     # maximum search distance to form pairs\n",
    "    n_lags=8,                       # number of bins\n",
    "    model='gaussian',               # theoretical model\n",
    "    fit_sigma=[.33, .33, .33, 1., 1., 1., 1., 1.]   # give 3x weight to first three bins\n",
    ")"
   ]
  },
  {
   "cell_type": "markdown",
   "metadata": {
    "slideshow": {
     "slide_type": "fragment"
    }
   },
   "source": [
    "Instead of building all the figures again, we can also use the `Variogram.plot` method, that is readily available:"
   ]
  },
  {
   "cell_type": "code",
   "execution_count": 6,
   "metadata": {
    "slideshow": {
     "slide_type": "fragment"
    }
   },
   "outputs": [
    {
     "data": {
      "image/png": "[encoded data removed]",
      "text/plain": [
       "<Figure size 576x360 with 2 Axes>"
      ]
     },
     "metadata": {
      "needs_background": "light"
     },
     "output_type": "display_data"
    }
   ],
   "source": [
    "fig = V.plot()"
   ]
  },
  {
   "cell_type": "code",
   "execution_count": 7,
   "metadata": {
    "slideshow": {
     "slide_type": "subslide"
    }
   },
   "outputs": [
    {
     "name": "stdout",
     "output_type": "stream",
     "text": [
      "gaussian Variogram\n",
      "------------------\n",
      "Estimator:         matheron\n",
      "        \r",
      "Effective Range:   75.78\n",
      "        \r",
      "Sill:              0.84\n",
      "        \r",
      "Nugget:            0.00\n",
      "        \n"
     ]
    }
   ],
   "source": [
    "print(V)"
   ]
  },
  {
   "cell_type": "markdown",
   "metadata": {
    "slideshow": {
     "slide_type": "notes"
    }
   },
   "source": [
    "Remember, if we want to back-calculate the range *parameter* $a$, we have to use the formula:\n",
    "\n",
    "$$ a = \\frac{r}{3} $$"
   ]
  },
  {
   "cell_type": "code",
   "execution_count": 8,
   "metadata": {
    "slideshow": {
     "slide_type": "notes"
    }
   },
   "outputs": [
    {
     "name": "stdout",
     "output_type": "stream",
     "text": [
      "Range parameter: 25.26\n"
     ]
    }
   ],
   "source": [
    "print('Range parameter:', round(V.describe()['effective_range'] / 3., 2))"
   ]
  },
  {
   "cell_type": "markdown",
   "metadata": {
    "slideshow": {
     "slide_type": "fragment"
    }
   },
   "source": [
    "Finally, the `Variogram` can return a parameterized model function that we can use to model the semi-variance at any distance:"
   ]
  },
  {
   "cell_type": "code",
   "execution_count": 9,
   "metadata": {
    "slideshow": {
     "slide_type": "fragment"
    }
   },
   "outputs": [],
   "source": [
    "model = V.fitted_model"
   ]
  },
  {
   "cell_type": "code",
   "execution_count": 10,
   "metadata": {
    "slideshow": {
     "slide_type": "fragment"
    }
   },
   "outputs": [
    {
     "name": "stdout",
     "output_type": "stream",
     "text": [
      "y(75.78) = 0.826167603616563\n",
      "y(10.)   = 0.056623904055517336\n",
      "y(50.)   = 0.6940638751910381\n",
      "y(10000) = 0.841583288532311\n"
     ]
    }
   ],
   "source": [
    "print('y(75.78) =', model(75.78))\n",
    "print('y(10.)   =', model(10.))\n",
    "print('y(50.)   =', model(50.))\n",
    "print('y(10000) =', model(10000))"
   ]
  },
  {
   "cell_type": "markdown",
   "metadata": {
    "slideshow": {
     "slide_type": "fragment"
    }
   },
   "source": [
    "Now, we are prepared to calculate the estimation at `(44, 56)`."
   ]
  },
  {
   "cell_type": "markdown",
   "metadata": {
    "slideshow": {
     "slide_type": "slide"
    }
   },
   "source": [
    "## 7.3 Implementation for one point"
   ]
  },
  {
   "cell_type": "markdown",
   "metadata": {
    "slideshow": {
     "slide_type": "fragment"
    }
   },
   "source": [
    "To compare, we will stick to the example used in the IDW excursus and make an estimation for the same location $s_0 = (44, 56)$.\n",
    "\n",
    "We expect to get a similar value here, as the are is well covered by other point. This makes IDW usually quite robust."
   ]
  },
  {
   "cell_type": "markdown",
   "metadata": {
    "slideshow": {
     "slide_type": "subslide"
    }
   },
   "source": [
    "First, we need a distance array for our point of interest to all other points. We can access the distance function used by the variogram class as `Variogram.dist_function`. This is extremely useful, in case we used another measure for distance."
   ]
  },
  {
   "cell_type": "code",
   "execution_count": 11,
   "metadata": {
    "slideshow": {
     "slide_type": "notes"
    }
   },
   "outputs": [],
   "source": [
    "poi = (44, 56)\n",
    "\n",
    "# bit of Python list wrangling\n",
    "poi_sample = list(zip(*[[poi[0]] + list(sample.x.values), [poi[1]] + list(sample.y.values)]))"
   ]
  },
  {
   "cell_type": "markdown",
   "metadata": {
    "slideshow": {
     "slide_type": "fragment"
    }
   },
   "source": [
    "I created a a list `poi_sample` containing the point of interest as first element. Then the first $N$ elements give the distances to the sample"
   ]
  },
  {
   "cell_type": "code",
   "execution_count": 12,
   "metadata": {
    "slideshow": {
     "slide_type": "fragment"
    }
   },
   "outputs": [
    {
     "name": "stdout",
     "output_type": "stream",
     "text": [
      "[31.11 44.38 43.19 37.34 36.4  50.09  9.85 38.47 63.13  6.08 28.16 53.24\n",
      " 43.38 42.45 24.19 46.24 36.25 43.14 42.45 41.05 61.85 37.48 40.61 30.89\n",
      " 21.1  55.23 41.77 37.58 40.36 27.02]\n"
     ]
    }
   ],
   "source": [
    "poi_dist = V.dist_function(poi_sample)[:len(sample)]\n",
    "print(poi_dist.round(2))"
   ]
  },
  {
   "cell_type": "markdown",
   "metadata": {
    "slideshow": {
     "slide_type": "subslide"
    }
   },
   "source": [
    "### 7.3.1 Find neighbors"
   ]
  },
  {
   "cell_type": "markdown",
   "metadata": {
    "slideshow": {
     "slide_type": "fragment"
    }
   },
   "source": [
    "How many neighbors should we include? "
   ]
  },
  {
   "cell_type": "markdown",
   "metadata": {
    "slideshow": {
     "slide_type": "fragment"
    }
   },
   "source": [
    "* In IDW we simply used all points, because there were not too many combinations. Max. of 29 observations were combined into the prediction\n",
    "* For Kriging this is not useful. Why?"
   ]
  },
  {
   "cell_type": "markdown",
   "metadata": {
    "slideshow": {
     "slide_type": "fragment"
    }
   },
   "source": [
    "For each neighbor we add to the estimation, the kriging matrix $\\boldsymbol{A}$ is increasing by **one row and one column**.\n",
    "\n",
    "Look to the variogram: Up to which distance to we **expect** another observation to bear **predictive information** about $s_0$?"
   ]
  },
  {
   "cell_type": "markdown",
   "metadata": {
    "slideshow": {
     "slide_type": "fragment"
    }
   },
   "source": [
    "That is basically the definition of the **effective range**: Up to this distance we expect (and model!) a spatial dependency between observation. Above that distance, we **expect the observations to be statistically independent**."
   ]
  },
  {
   "cell_type": "code",
   "execution_count": 13,
   "metadata": {
    "slideshow": {
     "slide_type": "subslide"
    }
   },
   "outputs": [
    {
     "data": {
      "text/plain": [
       "True"
      ]
     },
     "execution_count": 13,
     "metadata": {},
     "output_type": "execute_result"
    }
   ],
   "source": [
    "all([d < 75.78 for d in poi_dist])"
   ]
  },
  {
   "cell_type": "markdown",
   "metadata": {
    "slideshow": {
     "slide_type": "fragment"
    }
   },
   "source": [
    "**But**, we do not calculate the mean of $\\gamma$, we use $\\gamma$ to derive the weights $\\lambda$ to calculate the weighted mean of $Z$. \n",
    "\n",
    "Think of a weight like this as the inverse of semi-variance. It will drop dramatically with distance.\n",
    "\n",
    "In the next figure, the weights were *approximated* for the given point. Actual weights mights vary a little bit:"
   ]
  },
  {
   "cell_type": "code",
   "execution_count": 14,
   "metadata": {
    "slideshow": {
     "slide_type": "skip"
    }
   },
   "outputs": [
    {
     "data": {
      "text/html": [
       "<div style=\"display: table;\"><div style=\"display: table-row;\"><div style=\"display: table-cell;\"><b title=\"bokeh.models.renderers.GlyphRenderer\">GlyphRenderer</b>(</div><div style=\"display: table-cell;\">id&nbsp;=&nbsp;'1037', <span id=\"1049\" style=\"cursor: pointer;\">&hellip;)</span></div></div><div class=\"1048\" style=\"display: none;\"><div style=\"display: table-cell;\"></div><div style=\"display: table-cell;\">data_source&nbsp;=&nbsp;ColumnDataSource(id='1034', ...),</div></div><div class=\"1048\" style=\"display: none;\"><div style=\"display: table-cell;\"></div><div style=\"display: table-cell;\">glyph&nbsp;=&nbsp;Scatter(id='1035', ...),</div></div><div class=\"1048\" style=\"display: none;\"><div style=\"display: table-cell;\"></div><div style=\"display: table-cell;\">hover_glyph&nbsp;=&nbsp;None,</div></div><div class=\"1048\" style=\"display: none;\"><div style=\"display: table-cell;\"></div><div style=\"display: table-cell;\">js_event_callbacks&nbsp;=&nbsp;{},</div></div><div class=\"1048\" style=\"display: none;\"><div style=\"display: table-cell;\"></div><div style=\"display: table-cell;\">js_property_callbacks&nbsp;=&nbsp;{},</div></div><div class=\"1048\" style=\"display: none;\"><div style=\"display: table-cell;\"></div><div style=\"display: table-cell;\">level&nbsp;=&nbsp;'glyph',</div></div><div class=\"1048\" style=\"display: none;\"><div style=\"display: table-cell;\"></div><div style=\"display: table-cell;\">muted&nbsp;=&nbsp;False,</div></div><div class=\"1048\" style=\"display: none;\"><div style=\"display: table-cell;\"></div><div style=\"display: table-cell;\">muted_glyph&nbsp;=&nbsp;None,</div></div><div class=\"1048\" style=\"display: none;\"><div style=\"display: table-cell;\"></div><div style=\"display: table-cell;\">name&nbsp;=&nbsp;None,</div></div><div class=\"1048\" style=\"display: none;\"><div style=\"display: table-cell;\"></div><div style=\"display: table-cell;\">nonselection_glyph&nbsp;=&nbsp;Scatter(id='1036', ...),</div></div><div class=\"1048\" style=\"display: none;\"><div style=\"display: table-cell;\"></div><div style=\"display: table-cell;\">selection_glyph&nbsp;=&nbsp;None,</div></div><div class=\"1048\" style=\"display: none;\"><div style=\"display: table-cell;\"></div><div style=\"display: table-cell;\">subscribed_events&nbsp;=&nbsp;[],</div></div><div class=\"1048\" style=\"display: none;\"><div style=\"display: table-cell;\"></div><div style=\"display: table-cell;\">tags&nbsp;=&nbsp;[],</div></div><div class=\"1048\" style=\"display: none;\"><div style=\"display: table-cell;\"></div><div style=\"display: table-cell;\">view&nbsp;=&nbsp;CDSView(id='1038', ...),</div></div><div class=\"1048\" style=\"display: none;\"><div style=\"display: table-cell;\"></div><div style=\"display: table-cell;\">visible&nbsp;=&nbsp;True,</div></div><div class=\"1048\" style=\"display: none;\"><div style=\"display: table-cell;\"></div><div style=\"display: table-cell;\">x_range_name&nbsp;=&nbsp;'default',</div></div><div class=\"1048\" style=\"display: none;\"><div style=\"display: table-cell;\"></div><div style=\"display: table-cell;\">y_range_name&nbsp;=&nbsp;'default')</div></div></div>\n",
       "<script>\n",
       "(function() {\n",
       "  var expanded = false;\n",
       "  var ellipsis = document.getElementById(\"1049\");\n",
       "  ellipsis.addEventListener(\"click\", function() {\n",
       "    var rows = document.getElementsByClassName(\"1048\");\n",
       "    for (var i = 0; i < rows.length; i++) {\n",
       "      var el = rows[i];\n",
       "      el.style.display = expanded ? \"none\" : \"table-row\";\n",
       "    }\n",
       "    ellipsis.innerHTML = expanded ? \"&hellip;)\" : \"&lsaquo;&lsaquo;&lsaquo;\";\n",
       "    expanded = !expanded;\n",
       "  });\n",
       "})();\n",
       "</script>\n"
      ],
      "text/plain": [
       "GlyphRenderer(id='1037', ...)"
      ]
     },
     "execution_count": 14,
     "metadata": {},
     "output_type": "execute_result"
    }
   ],
   "source": [
    "dep = figure(width=500, height=500, x_axis_label='h', y_axis_label='w')\n",
    "\n",
    "# **approximate** the weights\n",
    "w = inv(V.distance_matrix).dot(poi_dist)\n",
    "\n",
    "dep.scatter(poi_dist, w, marker='square', size=9, legend_label='approx. weights')"
   ]
  },
  {
   "cell_type": "code",
   "execution_count": 15,
   "metadata": {
    "slideshow": {
     "slide_type": "subslide"
    }
   },
   "outputs": [
    {
     "data": {
      "text/html": [
       "\n",
       "\n",
       "\n",
       "\n",
       "\n",
       "\n",
       "  <div class=\"bk-root\" id=\"a9ee3462-d71c-4567-8de2-e1a2b0a2ee50\" data-root-id=\"1002\"></div>\n"
      ]
     },
     "metadata": {},
     "output_type": "display_data"
    },
    {
     "data": {
      "application/javascript": [
       "(function(root) {\n",
       "  function embed_document(root) {\n",
       "    \n",
       "  var docs_json = {\"7bd864f2-eb87-4776-bf3d-9ac86c877268\":{\"roots\":{\"references\":[{\"attributes\":{\"below\":[{\"id\":\"1011\",\"type\":\"LinearAxis\"}],\"center\":[{\"id\":\"1015\",\"type\":\"Grid\"},{\"id\":\"1020\",\"type\":\"Grid\"},{\"id\":\"1046\",\"type\":\"Legend\"}],\"left\":[{\"id\":\"1016\",\"type\":\"LinearAxis\"}],\"plot_height\":500,\"plot_width\":500,\"renderers\":[{\"id\":\"1037\",\"type\":\"GlyphRenderer\"}],\"title\":{\"id\":\"1040\",\"type\":\"Title\"},\"toolbar\":{\"id\":\"1027\",\"type\":\"Toolbar\"},\"x_range\":{\"id\":\"1003\",\"type\":\"DataRange1d\"},\"x_scale\":{\"id\":\"1007\",\"type\":\"LinearScale\"},\"y_range\":{\"id\":\"1005\",\"type\":\"DataRange1d\"},\"y_scale\":{\"id\":\"1009\",\"type\":\"LinearScale\"}},\"id\":\"1002\",\"subtype\":\"Figure\",\"type\":\"Plot\"},{\"attributes\":{},\"id\":\"1056\",\"type\":\"Selection\"},{\"attributes\":{\"axis_label\":\"w\",\"formatter\":{\"id\":\"1042\",\"type\":\"BasicTickFormatter\"},\"ticker\":{\"id\":\"1017\",\"type\":\"BasicTicker\"}},\"id\":\"1016\",\"type\":\"LinearAxis\"},{\"attributes\":{\"text\":\"\"},\"id\":\"1040\",\"type\":\"Title\"},{\"attributes\":{},\"id\":\"1017\",\"type\":\"BasicTicker\"},{\"attributes\":{\"dimension\":1,\"ticker\":{\"id\":\"1017\",\"type\":\"BasicTicker\"}},\"id\":\"1020\",\"type\":\"Grid\"},{\"attributes\":{},\"id\":\"1057\",\"type\":\"UnionRenderers\"},{\"attributes\":{\"label\":{\"value\":\"approx. weights\"},\"renderers\":[{\"id\":\"1037\",\"type\":\"GlyphRenderer\"}]},\"id\":\"1047\",\"type\":\"LegendItem\"},{\"attributes\":{},\"id\":\"1044\",\"type\":\"BasicTickFormatter\"},{\"attributes\":{},\"id\":\"1042\",\"type\":\"BasicTickFormatter\"},{\"attributes\":{\"items\":[{\"id\":\"1047\",\"type\":\"LegendItem\"}]},\"id\":\"1046\",\"type\":\"Legend\"},{\"attributes\":{\"bottom_units\":\"screen\",\"fill_alpha\":{\"value\":0.5},\"fill_color\":{\"value\":\"lightgrey\"},\"left_units\":\"screen\",\"level\":\"overlay\",\"line_alpha\":{\"value\":1.0},\"line_color\":{\"value\":\"black\"},\"line_dash\":[4,4],\"line_width\":{\"value\":2},\"render_mode\":\"css\",\"right_units\":\"screen\",\"top_units\":\"screen\"},\"id\":\"1045\",\"type\":\"BoxAnnotation\"},{\"attributes\":{\"callback\":null,\"data\":{\"x\":{\"__ndarray__\":\"OfLuzNkcP0AWndtCPTFGQO8siT3Dl0VA1k/ELwyrQkByXUo0RTNCQICLdniCC0lAYlZjfZ2yI0DJ4D4hQjxDQMHf+lpAkU9AOdxjs79UGEAFbCuEBik8QPORvS4fnkpA1U74KOawRUA+5pWimDlFQDiYEl/QLzhABjpmkIceR0DR+lrA4x9CQG9+cOLUkUVAPuaVopg5RUARr0B9PYZEQG3cieBc7E5Axq/Ivt29QkCgq30Lz01EQMzAMUAL4z5AdaY8b1MYNUDaVPXyB51LQHzkyB/44kRANSCJps3JQkCHSu4OMS5EQCM7tja9BDtA\",\"dtype\":\"float64\",\"shape\":[30]},\"y\":{\"__ndarray__\":\"AMaruvumgD8AR727JgVEvwAACogzPSW/IEITvhhWer/c/Ip3EWdbv+hxpCGjflg/wN4eYcfj0z+nMAZf60eLv1jWltIzxHG/camdVT0T4j947bk0DBasP3D4nS0SN16/gneg5JRlhb9lPaFjEP9gv6lq070XIbc/QFk6DfDuST8AoKiR8AJAvwBAQw3cxiQ/VC6AAkioh7+rXDn1Yb53vxDaaEw9alm/EavfaFl8hL97FFsesqVZvwCcz+tru4i/1ruLsOA1sT8AsXeOWclkv6D8ONi1z2K/1N9RmfTqi78AADjyIzYqvwA4w66CrGU/\",\"dtype\":\"float64\",\"shape\":[30]}},\"selected\":{\"id\":\"1056\",\"type\":\"Selection\"},\"selection_policy\":{\"id\":\"1057\",\"type\":\"UnionRenderers\"}},\"id\":\"1034\",\"type\":\"ColumnDataSource\"},{\"attributes\":{\"callback\":null},\"id\":\"1003\",\"type\":\"DataRange1d\"},{\"attributes\":{\"axis_label\":\"h\",\"formatter\":{\"id\":\"1044\",\"type\":\"BasicTickFormatter\"},\"ticker\":{\"id\":\"1012\",\"type\":\"BasicTicker\"}},\"id\":\"1011\",\"type\":\"LinearAxis\"},{\"attributes\":{},\"id\":\"1021\",\"type\":\"PanTool\"},{\"attributes\":{\"active_drag\":\"auto\",\"active_inspect\":\"auto\",\"active_multi\":null,\"active_scroll\":\"auto\",\"active_tap\":\"auto\",\"tools\":[{\"id\":\"1021\",\"type\":\"PanTool\"},{\"id\":\"1022\",\"type\":\"WheelZoomTool\"},{\"id\":\"1023\",\"type\":\"BoxZoomTool\"},{\"id\":\"1024\",\"type\":\"SaveTool\"},{\"id\":\"1025\",\"type\":\"ResetTool\"},{\"id\":\"1026\",\"type\":\"HelpTool\"}]},\"id\":\"1027\",\"type\":\"Toolbar\"},{\"attributes\":{},\"id\":\"1022\",\"type\":\"WheelZoomTool\"},{\"attributes\":{},\"id\":\"1025\",\"type\":\"ResetTool\"},{\"attributes\":{\"overlay\":{\"id\":\"1045\",\"type\":\"BoxAnnotation\"}},\"id\":\"1023\",\"type\":\"BoxZoomTool\"},{\"attributes\":{},\"id\":\"1024\",\"type\":\"SaveTool\"},{\"attributes\":{\"data_source\":{\"id\":\"1034\",\"type\":\"ColumnDataSource\"},\"glyph\":{\"id\":\"1035\",\"type\":\"Scatter\"},\"hover_glyph\":null,\"muted_glyph\":null,\"nonselection_glyph\":{\"id\":\"1036\",\"type\":\"Scatter\"},\"selection_glyph\":null,\"view\":{\"id\":\"1038\",\"type\":\"CDSView\"}},\"id\":\"1037\",\"type\":\"GlyphRenderer\"},{\"attributes\":{},\"id\":\"1007\",\"type\":\"LinearScale\"},{\"attributes\":{\"fill_color\":{\"value\":\"#1f77b4\"},\"line_color\":{\"value\":\"#1f77b4\"},\"marker\":{\"value\":\"square\"},\"size\":{\"units\":\"screen\",\"value\":9},\"x\":{\"field\":\"x\"},\"y\":{\"field\":\"y\"}},\"id\":\"1035\",\"type\":\"Scatter\"},{\"attributes\":{},\"id\":\"1009\",\"type\":\"LinearScale\"},{\"attributes\":{},\"id\":\"1026\",\"type\":\"HelpTool\"},{\"attributes\":{\"ticker\":{\"id\":\"1012\",\"type\":\"BasicTicker\"}},\"id\":\"1015\",\"type\":\"Grid\"},{\"attributes\":{\"fill_alpha\":{\"value\":0.1},\"fill_color\":{\"value\":\"#1f77b4\"},\"line_alpha\":{\"value\":0.1},\"line_color\":{\"value\":\"#1f77b4\"},\"marker\":{\"value\":\"square\"},\"size\":{\"units\":\"screen\",\"value\":9},\"x\":{\"field\":\"x\"},\"y\":{\"field\":\"y\"}},\"id\":\"1036\",\"type\":\"Scatter\"},{\"attributes\":{},\"id\":\"1012\",\"type\":\"BasicTicker\"},{\"attributes\":{\"source\":{\"id\":\"1034\",\"type\":\"ColumnDataSource\"}},\"id\":\"1038\",\"type\":\"CDSView\"},{\"attributes\":{\"callback\":null},\"id\":\"1005\",\"type\":\"DataRange1d\"}],\"root_ids\":[\"1002\"]},\"title\":\"Bokeh Application\",\"version\":\"1.4.0\"}};\n",
       "  var render_items = [{\"docid\":\"7bd864f2-eb87-4776-bf3d-9ac86c877268\",\"roots\":{\"1002\":\"a9ee3462-d71c-4567-8de2-e1a2b0a2ee50\"}}];\n",
       "  root.Bokeh.embed.embed_items_notebook(docs_json, render_items);\n",
       "\n",
       "  }\n",
       "  if (root.Bokeh !== undefined) {\n",
       "    embed_document(root);\n",
       "  } else {\n",
       "    var attempts = 0;\n",
       "    var timer = setInterval(function(root) {\n",
       "      if (root.Bokeh !== undefined) {\n",
       "        clearInterval(timer);\n",
       "        embed_document(root);\n",
       "      } else {\n",
       "        attempts++;\n",
       "        if (attempts > 100) {\n",
       "          clearInterval(timer);\n",
       "          console.log(\"Bokeh: ERROR: Unable to run BokehJS code because BokehJS library is missing\");\n",
       "        }\n",
       "      }\n",
       "    }, 10, root)\n",
       "  }\n",
       "})(window);"
      ],
      "application/vnd.bokehjs_exec.v0+json": ""
     },
     "metadata": {
      "application/vnd.bokehjs_exec.v0+json": {
       "id": "1002"
      }
     },
     "output_type": "display_data"
    }
   ],
   "source": [
    "show(dep)"
   ]
  },
  {
   "cell_type": "markdown",
   "metadata": {
    "slideshow": {
     "slide_type": "subslide"
    }
   },
   "source": [
    "* You can see that the estimation will largely depend on only two close observations"
   ]
  },
  {
   "cell_type": "markdown",
   "metadata": {
    "slideshow": {
     "slide_type": "fragment"
    }
   },
   "source": [
    "* in the **presented example** using more than 6 neighbors for estimation does literally not make any differene"
   ]
  },
  {
   "cell_type": "markdown",
   "metadata": {
    "slideshow": {
     "slide_type": "fragment"
    }
   },
   "source": [
    "* remember that the plot above is bound to the example point of `(44, 56)` and will differ for other locations"
   ]
  },
  {
   "cell_type": "markdown",
   "metadata": {
    "slideshow": {
     "slide_type": "fragment"
    }
   },
   "source": [
    "* From experience we can tell that using more than `15` points does usually not make sense"
   ]
  },
  {
   "cell_type": "markdown",
   "metadata": {
    "slideshow": {
     "slide_type": "subslide"
    }
   },
   "source": [
    "My personal strategy is to:"
   ]
  },
  {
   "cell_type": "markdown",
   "metadata": {
    "slideshow": {
     "slide_type": "fragment"
    }
   },
   "source": [
    "* search inside the `effective range` for neighbors and limit the number to a (hyper-)parameter of `max_points=15`, which I usually not change."
   ]
  },
  {
   "cell_type": "markdown",
   "metadata": {
    "slideshow": {
     "slide_type": "fragment"
    }
   },
   "source": [
    "* set another (hyper-)parameter of `min_points=3`. If less points are within the range, I estimate a `NaN`"
   ]
  },
  {
   "cell_type": "markdown",
   "metadata": {
    "slideshow": {
     "slide_type": "fragment"
    }
   },
   "source": [
    "* If many sample points are available (like > 200) I set `min_points=5`"
   ]
  },
  {
   "cell_type": "markdown",
   "metadata": {
    "slideshow": {
     "slide_type": "fragment"
    }
   },
   "source": [
    "* In case `15%` of all estimations end up with `NaN`, I do not trust the results. Quite often, this is because the `effective_range` is really small. Sometimes, the variogram can be adjusted."
   ]
  },
  {
   "cell_type": "code",
   "execution_count": 16,
   "metadata": {
    "slideshow": {
     "slide_type": "subslide"
    }
   },
   "outputs": [
    {
     "data": {
      "text/plain": [
       "array([ 9,  6, 24, 14, 29, 10, 23,  0, 16,  4,  3, 21, 27,  7, 28, 22, 19,\n",
       "       26, 13, 18, 17,  2, 12,  1, 15,  5, 11, 25, 20,  8], dtype=int64)"
      ]
     },
     "execution_count": 16,
     "metadata": {},
     "output_type": "execute_result"
    }
   ],
   "source": [
    "sorted_index = np.argsort(poi_dist)\n",
    "sorted_index"
   ]
  },
  {
   "cell_type": "markdown",
   "metadata": {
    "slideshow": {
     "slide_type": "skip"
    }
   },
   "source": [
    "The numpy function `argsort` will sort an array but return the **index** to sort the values.\n",
    "\n",
    "In Octave, the `sort` function returns two objects: the sorted array and the sorted index:\n",
    "\n",
    "```Matlab\n",
    "[sorted, index] = sort(pot_dist)\n",
    "```"
   ]
  },
  {
   "cell_type": "code",
   "execution_count": 17,
   "metadata": {
    "slideshow": {
     "slide_type": "fragment"
    }
   },
   "outputs": [
    {
     "data": {
      "text/html": [
       "<div>\n",
       "<style scoped>\n",
       "    .dataframe tbody tr th:only-of-type {\n",
       "        vertical-align: middle;\n",
       "    }\n",
       "\n",
       "    .dataframe tbody tr th {\n",
       "        vertical-align: top;\n",
       "    }\n",
       "\n",
       "    .dataframe thead th {\n",
       "        text-align: right;\n",
       "    }\n",
       "</style>\n",
       "<table border=\"1\" class=\"dataframe\">\n",
       "  <thead>\n",
       "    <tr style=\"text-align: right;\">\n",
       "      <th></th>\n",
       "      <th>x</th>\n",
       "      <th>y</th>\n",
       "      <th>z</th>\n",
       "    </tr>\n",
       "  </thead>\n",
       "  <tbody>\n",
       "    <tr>\n",
       "      <th>9</th>\n",
       "      <td>43</td>\n",
       "      <td>50</td>\n",
       "      <td>0.763894</td>\n",
       "    </tr>\n",
       "    <tr>\n",
       "      <th>6</th>\n",
       "      <td>35</td>\n",
       "      <td>60</td>\n",
       "      <td>0.572388</td>\n",
       "    </tr>\n",
       "    <tr>\n",
       "      <th>24</th>\n",
       "      <td>62</td>\n",
       "      <td>45</td>\n",
       "      <td>1.840647</td>\n",
       "    </tr>\n",
       "    <tr>\n",
       "      <th>14</th>\n",
       "      <td>65</td>\n",
       "      <td>68</td>\n",
       "      <td>0.717486</td>\n",
       "    </tr>\n",
       "    <tr>\n",
       "      <th>29</th>\n",
       "      <td>23</td>\n",
       "      <td>73</td>\n",
       "      <td>-0.230938</td>\n",
       "    </tr>\n",
       "    <tr>\n",
       "      <th>10</th>\n",
       "      <td>52</td>\n",
       "      <td>83</td>\n",
       "      <td>-0.253400</td>\n",
       "    </tr>\n",
       "  </tbody>\n",
       "</table>\n",
       "</div>"
      ],
      "text/plain": [
       "     x   y         z\n",
       "9   43  50  0.763894\n",
       "6   35  60  0.572388\n",
       "24  62  45  1.840647\n",
       "14  65  68  0.717486\n",
       "29  23  73 -0.230938\n",
       "10  52  83 -0.253400"
      ]
     },
     "execution_count": 17,
     "metadata": {},
     "output_type": "execute_result"
    }
   ],
   "source": [
    "neighbors = sample.iloc[sorted_index[:6], :]\n",
    "neighbors"
   ]
  },
  {
   "cell_type": "markdown",
   "metadata": {
    "slideshow": {
     "slide_type": "slide"
    }
   },
   "source": [
    "## 7.4 Implementation for one point"
   ]
  },
  {
   "cell_type": "markdown",
   "metadata": {},
   "source": [
    "### 7.4.1 Build the Kriging matrix"
   ]
  },
  {
   "cell_type": "markdown",
   "metadata": {
    "slideshow": {
     "slide_type": "fragment"
    }
   },
   "source": [
    "Finally, we got everything together to build the kriging matrix. We could either extract the distances for the selected observations from the (squareform) distance matrix, but as we go for only one point and use only 6 observations, we can also easily re-calculate the distances:"
   ]
  },
  {
   "cell_type": "code",
   "execution_count": 18,
   "metadata": {
    "slideshow": {
     "slide_type": "subslide"
    }
   },
   "outputs": [
    {
     "data": {
      "text/plain": [
       "array([[ 0.  , 12.81, 19.68, 28.43, 30.5 , 34.22],\n",
       "       [12.81,  0.  , 30.91, 31.05, 17.71, 28.61],\n",
       "       [19.68, 30.91,  0.  , 23.22, 48.06, 39.35],\n",
       "       [28.43, 31.05, 23.22,  0.  , 42.31, 19.87],\n",
       "       [30.5 , 17.71, 48.06, 42.31,  0.  , 30.68],\n",
       "       [34.22, 28.61, 39.35, 19.87, 30.68,  0.  ]])"
      ]
     },
     "execution_count": 18,
     "metadata": {},
     "output_type": "execute_result"
    }
   ],
   "source": [
    "squareform(pdist(neighbors)).round(2)"
   ]
  },
  {
   "cell_type": "markdown",
   "metadata": {
    "slideshow": {
     "slide_type": "fragment"
    }
   },
   "source": [
    "This is nothing new and as we have the `model` extracted and the distances as an array, it's easy to use semi-variances instead of distances:"
   ]
  },
  {
   "cell_type": "code",
   "execution_count": 19,
   "metadata": {
    "slideshow": {
     "slide_type": "fragment"
    }
   },
   "outputs": [
    {
     "data": {
      "text/plain": [
       "array([[0.  , 0.09, 0.2 , 0.36, 0.4 , 0.47],\n",
       "       [0.09, 0.  , 0.41, 0.41, 0.17, 0.37],\n",
       "       [0.2 , 0.41, 0.  , 0.26, 0.67, 0.56],\n",
       "       [0.36, 0.41, 0.26, 0.  , 0.6 , 0.2 ],\n",
       "       [0.4 , 0.17, 0.67, 0.6 , 0.  , 0.4 ],\n",
       "       [0.47, 0.37, 0.56, 0.2 , 0.4 , 0.  ]])"
      ]
     },
     "execution_count": 19,
     "metadata": {},
     "output_type": "execute_result"
    }
   ],
   "source": [
    "_co = squareform([model(d) for d in pdist(neighbors)])\n",
    "_co.round(2)"
   ]
  },
  {
   "cell_type": "markdown",
   "metadata": {
    "slideshow": {
     "slide_type": "subslide"
    }
   },
   "source": [
    "The next step is easy to follow, but usually needs a more or less complicated implementation in the language you are using.\n",
    "\n",
    "We need to append a row and a column of `1` and set the most right lowest value to `0`. In any C-like language (which Python here ultimately is as we use numpy and also Matlab relies ultimately on it) we usually cannot just *add* an element. "
   ]
  },
  {
   "cell_type": "code",
   "execution_count": 20,
   "metadata": {
    "slideshow": {
     "slide_type": "fragment"
    }
   },
   "outputs": [
    {
     "data": {
      "text/plain": [
       "array([[0.  , 0.09, 0.2 , 0.36, 0.4 , 0.47],\n",
       "       [0.09, 0.  , 0.41, 0.41, 0.17, 0.37],\n",
       "       [0.2 , 0.41, 0.  , 0.26, 0.67, 0.56],\n",
       "       [0.36, 0.41, 0.26, 0.  , 0.6 , 0.2 ],\n",
       "       [0.4 , 0.17, 0.67, 0.6 , 0.  , 0.4 ],\n",
       "       [0.47, 0.37, 0.56, 0.2 , 0.4 , 0.  ],\n",
       "       [1.  , 1.  , 1.  , 1.  , 1.  , 1.  ]])"
      ]
     },
     "execution_count": 20,
     "metadata": {},
     "output_type": "execute_result"
    }
   ],
   "source": [
    "np.vstack((_co, np.ones(6).T)).round(2)"
   ]
  },
  {
   "cell_type": "markdown",
   "metadata": {
    "slideshow": {
     "slide_type": "subslide"
    }
   },
   "source": [
    "In Python, we can do the same for the column, by transposing the matrix, stack the row and transpose again. This is easy and fast, because, the array is just indexed differently not really sorted."
   ]
  },
  {
   "cell_type": "code",
   "execution_count": 21,
   "metadata": {
    "slideshow": {
     "slide_type": "fragment"
    }
   },
   "outputs": [
    {
     "data": {
      "text/plain": [
       "array([[0.  , 0.09, 0.2 , 0.36, 0.4 , 0.47, 1.  ],\n",
       "       [0.09, 0.  , 0.41, 0.41, 0.17, 0.37, 1.  ],\n",
       "       [0.2 , 0.41, 0.  , 0.26, 0.67, 0.56, 1.  ],\n",
       "       [0.36, 0.41, 0.26, 0.  , 0.6 , 0.2 , 1.  ],\n",
       "       [0.4 , 0.17, 0.67, 0.6 , 0.  , 0.4 , 1.  ],\n",
       "       [0.47, 0.37, 0.56, 0.2 , 0.4 , 0.  , 1.  ],\n",
       "       [1.  , 1.  , 1.  , 1.  , 1.  , 1.  , 0.  ]])"
      ]
     },
     "execution_count": 21,
     "metadata": {},
     "output_type": "execute_result"
    }
   ],
   "source": [
    "_co2 = np.vstack((_co, np.ones(6).T))\n",
    "A = np.vstack((_co2.T, np.ones(7).T)).T\n",
    "A[-1, -1] = 0\n",
    "A.round(2)"
   ]
  },
  {
   "cell_type": "markdown",
   "metadata": {
    "slideshow": {
     "slide_type": "subslide"
    }
   },
   "source": [
    "That was $\\boldsymbol{A}$. Now we need b, which is can be calculated by mapping the model on `poi_dist` and appending a `1`:"
   ]
  },
  {
   "cell_type": "code",
   "execution_count": 22,
   "metadata": {
    "slideshow": {
     "slide_type": "fragment"
    }
   },
   "outputs": [
    {
     "data": {
      "text/plain": [
       "array([0.02, 0.05, 0.22, 0.28, 0.34, 0.36, 1.  ])"
      ]
     },
     "execution_count": 22,
     "metadata": {},
     "output_type": "execute_result"
    }
   ],
   "source": [
    "# map the \n",
    "_g = list(map(model, poi_dist[sorted_index][:6]))\n",
    "b = np.concatenate((_g, [1]))\n",
    "b.T.round(2)"
   ]
  },
  {
   "cell_type": "markdown",
   "metadata": {
    "slideshow": {
     "slide_type": "subslide"
    }
   },
   "source": [
    "### 7.4.2 Solve"
   ]
  },
  {
   "cell_type": "markdown",
   "metadata": {
    "slideshow": {
     "slide_type": "fragment"
    }
   },
   "source": [
    "Now solve:\n",
    "\n",
    "As introduced and described above, we will just use the `inv` function to inverse a matrix. I will not introduce the procedure how to invert a matrix. This should have been part of your maths classes in the Bachelor and beyond the scope of this lecture.\n",
    "\n",
    "One thing that this step inplies is that the matrix $\\boldsymbol{A}$ can actually be inverted. This is most often not the case if it's a singular matrix and your compiler will then tell you so."
   ]
  },
  {
   "cell_type": "code",
   "execution_count": 23,
   "metadata": {
    "slideshow": {
     "slide_type": "fragment"
    }
   },
   "outputs": [
    {
     "data": {
      "text/plain": [
       "array([ 0.37,  0.62,  0.07,  0.09, -0.17,  0.03, -0.03])"
      ]
     },
     "execution_count": 23,
     "metadata": {},
     "output_type": "execute_result"
    }
   ],
   "source": [
    "result = inv(A).dot(b)\n",
    "result.round(2)"
   ]
  },
  {
   "cell_type": "markdown",
   "metadata": {
    "slideshow": {
     "slide_type": "skip"
    }
   },
   "source": [
    "Again, Octave and Matlab use exactly the same function name."
   ]
  },
  {
   "cell_type": "markdown",
   "metadata": {
    "slideshow": {
     "slide_type": "skip"
    }
   },
   "source": [
    "Be careful with the different kind of matrix-multiplications:"
   ]
  },
  {
   "cell_type": "code",
   "execution_count": 24,
   "metadata": {
    "slideshow": {
     "slide_type": "skip"
    }
   },
   "outputs": [
    {
     "data": {
      "text/plain": [
       "False"
      ]
     },
     "execution_count": 24,
     "metadata": {},
     "output_type": "execute_result"
    }
   ],
   "source": [
    "(inv(A).dot(b) == inv(A) * b).all()"
   ]
  },
  {
   "cell_type": "markdown",
   "metadata": {
    "slideshow": {
     "slide_type": "skip"
    }
   },
   "source": [
    "Python implements other algorithms and techniques to solve a system of linear equations. Most of them are available in either the `scipy.linalg` or `numpy.linalg` package. As a rule of thumb: The `scipy` versions usually run some tests on the input to raise more meaningful error messages. The `numpy` versions usually just include barebones math: faster but less verbose output on failure. In some functions you just always receive a `LinAlgError` if *anything* goes wrong."
   ]
  },
  {
   "cell_type": "markdown",
   "metadata": {
    "slideshow": {
     "slide_type": "subslide"
    }
   },
   "source": [
    "### 7.4.3 Estimate"
   ]
  },
  {
   "cell_type": "code",
   "execution_count": 25,
   "metadata": {
    "slideshow": {
     "slide_type": "fragment"
    }
   },
   "outputs": [
    {
     "data": {
      "text/html": [
       "<div>\n",
       "<style scoped>\n",
       "    .dataframe tbody tr th:only-of-type {\n",
       "        vertical-align: middle;\n",
       "    }\n",
       "\n",
       "    .dataframe tbody tr th {\n",
       "        vertical-align: top;\n",
       "    }\n",
       "\n",
       "    .dataframe thead th {\n",
       "        text-align: right;\n",
       "    }\n",
       "</style>\n",
       "<table border=\"1\" class=\"dataframe\">\n",
       "  <thead>\n",
       "    <tr style=\"text-align: right;\">\n",
       "      <th></th>\n",
       "      <th>x</th>\n",
       "      <th>y</th>\n",
       "      <th>z</th>\n",
       "      <th>weight</th>\n",
       "      <th>weighted value</th>\n",
       "    </tr>\n",
       "  </thead>\n",
       "  <tbody>\n",
       "    <tr>\n",
       "      <th>9</th>\n",
       "      <td>43</td>\n",
       "      <td>50</td>\n",
       "      <td>0.763894</td>\n",
       "      <td>0.368508</td>\n",
       "      <td>0.281501</td>\n",
       "    </tr>\n",
       "    <tr>\n",
       "      <th>6</th>\n",
       "      <td>35</td>\n",
       "      <td>60</td>\n",
       "      <td>0.572388</td>\n",
       "      <td>0.615905</td>\n",
       "      <td>0.352537</td>\n",
       "    </tr>\n",
       "    <tr>\n",
       "      <th>24</th>\n",
       "      <td>62</td>\n",
       "      <td>45</td>\n",
       "      <td>1.840647</td>\n",
       "      <td>0.068159</td>\n",
       "      <td>0.125456</td>\n",
       "    </tr>\n",
       "    <tr>\n",
       "      <th>14</th>\n",
       "      <td>65</td>\n",
       "      <td>68</td>\n",
       "      <td>0.717486</td>\n",
       "      <td>0.086494</td>\n",
       "      <td>0.062058</td>\n",
       "    </tr>\n",
       "    <tr>\n",
       "      <th>29</th>\n",
       "      <td>23</td>\n",
       "      <td>73</td>\n",
       "      <td>-0.230938</td>\n",
       "      <td>-0.173967</td>\n",
       "      <td>0.040176</td>\n",
       "    </tr>\n",
       "    <tr>\n",
       "      <th>10</th>\n",
       "      <td>52</td>\n",
       "      <td>83</td>\n",
       "      <td>-0.253400</td>\n",
       "      <td>0.034902</td>\n",
       "      <td>-0.008844</td>\n",
       "    </tr>\n",
       "  </tbody>\n",
       "</table>\n",
       "</div>"
      ],
      "text/plain": [
       "     x   y         z    weight  weighted value\n",
       "9   43  50  0.763894  0.368508        0.281501\n",
       "6   35  60  0.572388  0.615905        0.352537\n",
       "24  62  45  1.840647  0.068159        0.125456\n",
       "14  65  68  0.717486  0.086494        0.062058\n",
       "29  23  73 -0.230938 -0.173967        0.040176\n",
       "10  52  83 -0.253400  0.034902       -0.008844"
      ]
     },
     "execution_count": 25,
     "metadata": {},
     "output_type": "execute_result"
    }
   ],
   "source": [
    "examp = sample.iloc[sorted_index[:6], :].copy()\n",
    "\n",
    "# append the weight\n",
    "examp['weight'] = result[:-1]\n",
    "\n",
    "# append the weighted value\n",
    "examp['weighted value'] = examp.z * examp.weight\n",
    "\n",
    "examp"
   ]
  },
  {
   "cell_type": "code",
   "execution_count": 26,
   "metadata": {
    "slideshow": {
     "slide_type": "subslide"
    }
   },
   "outputs": [
    {
     "name": "stdout",
     "output_type": "stream",
     "text": [
      "Mean: 0.57\n"
     ]
    },
    {
     "data": {
      "text/plain": [
       "weight            1.000000\n",
       "weighted value    0.852883\n",
       "dtype: float64"
      ]
     },
     "execution_count": 26,
     "metadata": {},
     "output_type": "execute_result"
    }
   ],
   "source": [
    "print('Mean:', examp.z.mean().round(2))\n",
    "examp[['weight', 'weighted value']].sum() "
   ]
  },
  {
   "cell_type": "markdown",
   "metadata": {
    "slideshow": {
     "slide_type": "fragment"
    }
   },
   "source": [
    "*In a real implementation, you would of course calculate the estimation in one step. This was only for illustration purpose.*"
   ]
  },
  {
   "cell_type": "markdown",
   "metadata": {
    "slideshow": {
     "slide_type": "fragment"
    }
   },
   "source": [
    "Actually summing up the weights can be used to test during development. They **have to** sum up to one, with the exception of numerical deviations. Therefore you would usually test for the difference to a threshold:"
   ]
  },
  {
   "cell_type": "code",
   "execution_count": 27,
   "metadata": {
    "slideshow": {
     "slide_type": "fragment"
    }
   },
   "outputs": [
    {
     "data": {
      "text/plain": [
       "True"
      ]
     },
     "execution_count": 27,
     "metadata": {},
     "output_type": "execute_result"
    }
   ],
   "source": [
    "abs(sum(result[:-1]) - 1.0) < 0.001"
   ]
  },
  {
   "cell_type": "markdown",
   "metadata": {
    "slideshow": {
     "slide_type": "subslide"
    }
   },
   "source": [
    "### 7.4.4 Kriging variance"
   ]
  },
  {
   "cell_type": "markdown",
   "metadata": {
    "slideshow": {
     "slide_type": "fragment"
    }
   },
   "source": [
    "One of the huge benefits of Kriging is, that once we calculated the weights we can also calculate the kriging variance from this. \n",
    "\n",
    "For this, we simply weight the semi-variances for the point of interest to the meighbors and add the lagrange parameter, we needed to solve the equation system.\n",
    "\n",
    "$$ \\sigma^2 = \\sum_{i=1}^N \\left(\\lambda_i * \\gamma(s_0, s_i)\\right) + \\mu $$"
   ]
  },
  {
   "cell_type": "code",
   "execution_count": 28,
   "metadata": {
    "slideshow": {
     "slide_type": "fragment"
    }
   },
   "outputs": [
    {
     "data": {
      "text/plain": [
       "0.00949866560551399"
      ]
     },
     "execution_count": 28,
     "metadata": {},
     "output_type": "execute_result"
    }
   ],
   "source": [
    "# I could be wrong here\n",
    "sum(result[:-1] * b[:-1]) + result[-1] "
   ]
  },
  {
   "cell_type": "markdown",
   "metadata": {
    "slideshow": {
     "slide_type": "fragment"
    }
   },
   "source": [
    "Thus, finally we can predict at unobserved locations and make a statement about our **certainty** with this estimation."
   ]
  },
  {
   "cell_type": "markdown",
   "metadata": {
    "slideshow": {
     "slide_type": "slide"
    }
   },
   "source": [
    "## 7.5 Estimating a whole field"
   ]
  },
  {
   "cell_type": "markdown",
   "metadata": {
    "slideshow": {
     "slide_type": "fragment"
    }
   },
   "source": [
    "The last step is, just like for IDW, to automate the process and apply the algorithm to a set of unobserved locations. "
   ]
  },
  {
   "cell_type": "markdown",
   "metadata": {
    "slideshow": {
     "slide_type": "skip"
    }
   },
   "source": [
    "As the estimation at one point is independent of estimations at other location, this process can be highly parallelized. This can speed things up as modern laptops are capable of simultaneously execuing 8 or 16 processes. \n",
    "\n",
    "On cloud resources you can easily scale to literally hundresds of nodes at low cost."
   ]
  },
  {
   "cell_type": "markdown",
   "metadata": {
    "slideshow": {
     "slide_type": "fragment"
    }
   },
   "source": [
    "We will also stick to the same parameter as with IDW, but to make things a bit clearer, we will first implement the kriging for one point into a function.\n",
    "\n",
    "Furthermore, it is often very helpful to place the building (and solving) of the kriging matrix into yet another function. This is where some Kriging algorithms differ and where you can speed things up.\n",
    "Also, if you run into errors, it's often wise to separate math and number wrangling.\n",
    "\n",
    "Go for the matrix first:"
   ]
  },
  {
   "cell_type": "code",
   "execution_count": 29,
   "metadata": {
    "slideshow": {
     "slide_type": "subslide"
    }
   },
   "outputs": [],
   "source": [
    "def kriging_matrix(neighbors, variogram):\n",
    "    m = variogram.fitted_model\n",
    "    \n",
    "    # inner part\n",
    "    co = squareform([m(d) for d in variogram.dist_function(neighbors)])\n",
    "    \n",
    "    # lagrange stuff\n",
    "    co = np.vstack((co, np.ones(len(neighbors)).T))\n",
    "    A = np.vstack((co.T, np.ones(len(neighbors) + 1).T)).T\n",
    "    A[-1, -1] = 0\n",
    "    \n",
    "    return A\n",
    "\n",
    "def solve(A, b):\n",
    "    # this is only to replace the solver without changing the algorithm\n",
    "    return inv(A).dot(b)"
   ]
  },
  {
   "cell_type": "markdown",
   "metadata": {
    "slideshow": {
     "slide_type": "subslide"
    }
   },
   "source": [
    "Then we basically implement all the chunks presented so far in a function:"
   ]
  },
  {
   "cell_type": "code",
   "execution_count": 67,
   "metadata": {
    "slideshow": {
     "slide_type": "fragment"
    }
   },
   "outputs": [],
   "source": [
    "def point_krige(poi, variogram, min_points=3, max_points=15):\n",
    "    # calculate distance to neighbors\n",
    "    _ps = list(zip(*[\n",
    "        [poi[0]] + list(variogram.coordinates[:,0]), \n",
    "        [poi[1]] + list(variogram.coordinates[:,1])\n",
    "    ]))\n",
    "    poi_dist = V.dist_function(_ps)[:len(variogram.coordinates)]\n",
    "    \n",
    "    # find close neighbors\n",
    "    #sindex = np.argsort(poi_dist)[np.where(poi_dist < variogram.describe()['effective_range'])[0]]\n",
    "    r = variogram.describe()['effective_range']\n",
    "    sindex = np.argsort(poi_dist)[np.where(np.sort(poi_dist) < r)[0]]\n",
    "    # check number\n",
    "    if len(sindex) < min_points:\n",
    "        return np.NaN, np.NaN\n",
    "    if len(sindex) > max_points:\n",
    "        sindex = sindex[:max_points]\n",
    "    neighbors = variogram.coordinates[sindex]\n",
    "    \n",
    "    # build the matrix\n",
    "    A = kriging_matrix(neighbors, variogram)\n",
    "    b = [variogram.fitted_model(d) for d in poi_dist[sindex]] + [1]\n",
    "    \n",
    "    w = solve(A, b)\n",
    "    \n",
    "    assert abs(sum(w[:-1]) - 1.) < 0.001\n",
    "    \n",
    "    z = sum(w[:-1] * V.values[sindex])\n",
    "    s = sum(w[:-1] * b[:-1]) + w[-1]\n",
    "    \n",
    "    return z, s"
   ]
  },
  {
   "cell_type": "markdown",
   "metadata": {
    "slideshow": {
     "slide_type": "subslide"
    }
   },
   "source": [
    "And now it's time to iterate over the whole observation area"
   ]
  },
  {
   "cell_type": "code",
   "execution_count": 73,
   "metadata": {
    "slideshow": {
     "slide_type": "fragment"
    }
   },
   "outputs": [],
   "source": [
    "size = 2.5\n",
    "ylim = (0, 100)\n",
    "xlim = (00, 100)\n",
    "kriged = []\n",
    "sigma = []\n",
    "min_points = 5\n",
    "max_points = 10\n",
    "\n",
    "# build a 'mesh'-grid\n",
    "grid = [[(i,j) for i in np.arange(xlim[0], xlim[1] + size, size)] for j in np.arange(ylim[0], ylim[1] + size, size)]\n",
    "\n",
    "for row in grid:\n",
    "    krig_row = []\n",
    "    sigma_row = []\n",
    "    for cell in row:\n",
    "        # implement stuff here-\n",
    "        z, s = point_krige(cell, V, min_points=min_points, max_points=max_points)\n",
    "        krig_row.append(z if not np.isnan(z) else None) # plotting workaround\n",
    "        sigma_row.append(s if not np.isnan(s) else None)\n",
    "    # append row\n",
    "    kriged.append(krig_row)\n",
    "    sigma.append(sigma_row)"
   ]
  },
  {
   "cell_type": "markdown",
   "metadata": {
    "slideshow": {
     "slide_type": "skip"
    }
   },
   "source": [
    "In the `./data/fields3d/` folder you can find the original field that was sampled for creating the time series. Each time step has its own field represented by a `100x100` matrix. We load this field and use the 2% and 98% percentiles of all values for creating a colormap to share with all plots."
   ]
  },
  {
   "cell_type": "code",
   "execution_count": 136,
   "metadata": {
    "slideshow": {
     "slide_type": "skip"
    }
   },
   "outputs": [
    {
     "data": {
      "text/html": [
       "<div style=\"display: table;\"><div style=\"display: table-row;\"><div style=\"display: table-cell;\"><b title=\"bokeh.models.renderers.GlyphRenderer\">GlyphRenderer</b>(</div><div style=\"display: table-cell;\">id&nbsp;=&nbsp;'16532', <span id=\"16535\" style=\"cursor: pointer;\">&hellip;)</span></div></div><div class=\"16534\" style=\"display: none;\"><div style=\"display: table-cell;\"></div><div style=\"display: table-cell;\">data_source&nbsp;=&nbsp;ColumnDataSource(id='16494', ...),</div></div><div class=\"16534\" style=\"display: none;\"><div style=\"display: table-cell;\"></div><div style=\"display: table-cell;\">glyph&nbsp;=&nbsp;Circle(id='16530', ...),</div></div><div class=\"16534\" style=\"display: none;\"><div style=\"display: table-cell;\"></div><div style=\"display: table-cell;\">hover_glyph&nbsp;=&nbsp;None,</div></div><div class=\"16534\" style=\"display: none;\"><div style=\"display: table-cell;\"></div><div style=\"display: table-cell;\">js_event_callbacks&nbsp;=&nbsp;{},</div></div><div class=\"16534\" style=\"display: none;\"><div style=\"display: table-cell;\"></div><div style=\"display: table-cell;\">js_property_callbacks&nbsp;=&nbsp;{},</div></div><div class=\"16534\" style=\"display: none;\"><div style=\"display: table-cell;\"></div><div style=\"display: table-cell;\">level&nbsp;=&nbsp;'glyph',</div></div><div class=\"16534\" style=\"display: none;\"><div style=\"display: table-cell;\"></div><div style=\"display: table-cell;\">muted&nbsp;=&nbsp;False,</div></div><div class=\"16534\" style=\"display: none;\"><div style=\"display: table-cell;\"></div><div style=\"display: table-cell;\">muted_glyph&nbsp;=&nbsp;None,</div></div><div class=\"16534\" style=\"display: none;\"><div style=\"display: table-cell;\"></div><div style=\"display: table-cell;\">name&nbsp;=&nbsp;None,</div></div><div class=\"16534\" style=\"display: none;\"><div style=\"display: table-cell;\"></div><div style=\"display: table-cell;\">nonselection_glyph&nbsp;=&nbsp;Circle(id='16531', ...),</div></div><div class=\"16534\" style=\"display: none;\"><div style=\"display: table-cell;\"></div><div style=\"display: table-cell;\">selection_glyph&nbsp;=&nbsp;None,</div></div><div class=\"16534\" style=\"display: none;\"><div style=\"display: table-cell;\"></div><div style=\"display: table-cell;\">subscribed_events&nbsp;=&nbsp;[],</div></div><div class=\"16534\" style=\"display: none;\"><div style=\"display: table-cell;\"></div><div style=\"display: table-cell;\">tags&nbsp;=&nbsp;[],</div></div><div class=\"16534\" style=\"display: none;\"><div style=\"display: table-cell;\"></div><div style=\"display: table-cell;\">view&nbsp;=&nbsp;CDSView(id='16533', ...),</div></div><div class=\"16534\" style=\"display: none;\"><div style=\"display: table-cell;\"></div><div style=\"display: table-cell;\">visible&nbsp;=&nbsp;True,</div></div><div class=\"16534\" style=\"display: none;\"><div style=\"display: table-cell;\"></div><div style=\"display: table-cell;\">x_range_name&nbsp;=&nbsp;'default',</div></div><div class=\"16534\" style=\"display: none;\"><div style=\"display: table-cell;\"></div><div style=\"display: table-cell;\">y_range_name&nbsp;=&nbsp;'default')</div></div></div>\n",
       "<script>\n",
       "(function() {\n",
       "  var expanded = false;\n",
       "  var ellipsis = document.getElementById(\"16535\");\n",
       "  ellipsis.addEventListener(\"click\", function() {\n",
       "    var rows = document.getElementsByClassName(\"16534\");\n",
       "    for (var i = 0; i < rows.length; i++) {\n",
       "      var el = rows[i];\n",
       "      el.style.display = expanded ? \"none\" : \"table-row\";\n",
       "    }\n",
       "    ellipsis.innerHTML = expanded ? \"&hellip;)\" : \"&lsaquo;&lsaquo;&lsaquo;\";\n",
       "    expanded = !expanded;\n",
       "  });\n",
       "})();\n",
       "</script>\n"
      ],
      "text/plain": [
       "GlyphRenderer(id='16532', ...)"
      ]
     },
     "execution_count": 136,
     "metadata": {},
     "output_type": "execute_result"
    }
   ],
   "source": [
    "# load the actual field\n",
    "field_data = np.loadtxt('./data/field3d/step_0.txt', dtype=float)\n",
    "\n",
    "# create a data source and a a colormap\n",
    "source = ColumnDataSource(sample)\n",
    "cmap = LinearColorMapper(palette='Viridis256', low=np.min(field_data) * 1.02, high=np.max(field_data) * 0.98)\n",
    "\n",
    "# plot the field\n",
    "field = figure(\n",
    "    width=450, height=450,\n",
    "    title='Random Field', x_range=(0,100), y_range=(0,100), tools=['hover,box_zoom,reset'],\n",
    "    tooltips=[('observation', '@z')], toolbar_location='left'\n",
    ")\n",
    "\n",
    "field.image([np.transpose(field_data)], x=0, y=0, dw=100, dh=100, color_mapper=cmap)\n",
    "field.circle('x', 'y', source=source, size=12, line_color='white', fill_color={'field': 'z', 'transform': cmap})"
   ]
  },
  {
   "cell_type": "code",
   "execution_count": 105,
   "metadata": {
    "slideshow": {
     "slide_type": "skip"
    }
   },
   "outputs": [
    {
     "data": {
      "text/html": [
       "<div style=\"display: table;\"><div style=\"display: table-row;\"><div style=\"display: table-cell;\"><b title=\"bokeh.models.renderers.GlyphRenderer\">GlyphRenderer</b>(</div><div style=\"display: table-cell;\">id&nbsp;=&nbsp;'5222', <span id=\"5225\" style=\"cursor: pointer;\">&hellip;)</span></div></div><div class=\"5224\" style=\"display: none;\"><div style=\"display: table-cell;\"></div><div style=\"display: table-cell;\">data_source&nbsp;=&nbsp;ColumnDataSource(id='4793', ...),</div></div><div class=\"5224\" style=\"display: none;\"><div style=\"display: table-cell;\"></div><div style=\"display: table-cell;\">glyph&nbsp;=&nbsp;Circle(id='5220', ...),</div></div><div class=\"5224\" style=\"display: none;\"><div style=\"display: table-cell;\"></div><div style=\"display: table-cell;\">hover_glyph&nbsp;=&nbsp;None,</div></div><div class=\"5224\" style=\"display: none;\"><div style=\"display: table-cell;\"></div><div style=\"display: table-cell;\">js_event_callbacks&nbsp;=&nbsp;{},</div></div><div class=\"5224\" style=\"display: none;\"><div style=\"display: table-cell;\"></div><div style=\"display: table-cell;\">js_property_callbacks&nbsp;=&nbsp;{},</div></div><div class=\"5224\" style=\"display: none;\"><div style=\"display: table-cell;\"></div><div style=\"display: table-cell;\">level&nbsp;=&nbsp;'glyph',</div></div><div class=\"5224\" style=\"display: none;\"><div style=\"display: table-cell;\"></div><div style=\"display: table-cell;\">muted&nbsp;=&nbsp;False,</div></div><div class=\"5224\" style=\"display: none;\"><div style=\"display: table-cell;\"></div><div style=\"display: table-cell;\">muted_glyph&nbsp;=&nbsp;None,</div></div><div class=\"5224\" style=\"display: none;\"><div style=\"display: table-cell;\"></div><div style=\"display: table-cell;\">name&nbsp;=&nbsp;None,</div></div><div class=\"5224\" style=\"display: none;\"><div style=\"display: table-cell;\"></div><div style=\"display: table-cell;\">nonselection_glyph&nbsp;=&nbsp;Circle(id='5221', ...),</div></div><div class=\"5224\" style=\"display: none;\"><div style=\"display: table-cell;\"></div><div style=\"display: table-cell;\">selection_glyph&nbsp;=&nbsp;None,</div></div><div class=\"5224\" style=\"display: none;\"><div style=\"display: table-cell;\"></div><div style=\"display: table-cell;\">subscribed_events&nbsp;=&nbsp;[],</div></div><div class=\"5224\" style=\"display: none;\"><div style=\"display: table-cell;\"></div><div style=\"display: table-cell;\">tags&nbsp;=&nbsp;[],</div></div><div class=\"5224\" style=\"display: none;\"><div style=\"display: table-cell;\"></div><div style=\"display: table-cell;\">view&nbsp;=&nbsp;CDSView(id='5223', ...),</div></div><div class=\"5224\" style=\"display: none;\"><div style=\"display: table-cell;\"></div><div style=\"display: table-cell;\">visible&nbsp;=&nbsp;True,</div></div><div class=\"5224\" style=\"display: none;\"><div style=\"display: table-cell;\"></div><div style=\"display: table-cell;\">x_range_name&nbsp;=&nbsp;'default',</div></div><div class=\"5224\" style=\"display: none;\"><div style=\"display: table-cell;\"></div><div style=\"display: table-cell;\">y_range_name&nbsp;=&nbsp;'default')</div></div></div>\n",
       "<script>\n",
       "(function() {\n",
       "  var expanded = false;\n",
       "  var ellipsis = document.getElementById(\"5225\");\n",
       "  ellipsis.addEventListener(\"click\", function() {\n",
       "    var rows = document.getElementsByClassName(\"5224\");\n",
       "    for (var i = 0; i < rows.length; i++) {\n",
       "      var el = rows[i];\n",
       "      el.style.display = expanded ? \"none\" : \"table-row\";\n",
       "    }\n",
       "    ellipsis.innerHTML = expanded ? \"&hellip;)\" : \"&lsaquo;&lsaquo;&lsaquo;\";\n",
       "    expanded = !expanded;\n",
       "  });\n",
       "})();\n",
       "</script>\n"
      ],
      "text/plain": [
       "GlyphRenderer(id='5222', ...)"
      ]
     },
     "execution_count": 105,
     "metadata": {},
     "output_type": "execute_result"
    }
   ],
   "source": [
    "# plot kriging example\n",
    "kriging = figure(\n",
    "    title='Kriging interpolation', x_range=(0,100), y_range=(0,100), tools=['hover,box_zoom,reset'],\n",
    "    tooltips=[('observation', '@z')]\n",
    ")\n",
    "\n",
    "kriging.image([kriged], x=0, y=0, dw=100, dh=100, color_mapper=cmap) # use the field colomap\n",
    "kriging.circle('x', 'y', source=source, size=12, line_color='white', fill_color={'field': 'z', 'transform': cmap})"
   ]
  },
  {
   "cell_type": "code",
   "execution_count": 106,
   "metadata": {
    "slideshow": {
     "slide_type": "subslide"
    }
   },
   "outputs": [
    {
     "data": {
      "text/html": [
       "\n",
       "\n",
       "\n",
       "\n",
       "\n",
       "\n",
       "  <div class=\"bk-root\" id=\"90d070c7-f712-438a-b0c0-6ccf68dd37c9\" data-root-id=\"5186\"></div>\n"
      ]
     },
     "metadata": {},
     "output_type": "display_data"
    },
    {
     "data": {
      "application/javascript": [
       "(function(root) {\n",
       "  function embed_document(root) {\n",
       "    \n",
       "  var docs_json = {\"498d26b5-9825-4c83-af75-daa7543f57db\":{\"roots\":{\"references\":[{\"attributes\":{\"below\":[{\"id\":\"5197\",\"type\":\"LinearAxis\"}],\"center\":[{\"id\":\"5201\",\"type\":\"Grid\"},{\"id\":\"5206\",\"type\":\"Grid\"}],\"left\":[{\"id\":\"5202\",\"type\":\"LinearAxis\"}],\"renderers\":[{\"id\":\"5217\",\"type\":\"GlyphRenderer\"},{\"id\":\"5222\",\"type\":\"GlyphRenderer\"}],\"title\":{\"id\":\"5187\",\"type\":\"Title\"},\"toolbar\":{\"id\":\"5210\",\"type\":\"Toolbar\"},\"x_range\":{\"id\":\"5189\",\"type\":\"Range1d\"},\"x_scale\":{\"id\":\"5193\",\"type\":\"LinearScale\"},\"y_range\":{\"id\":\"5191\",\"type\":\"Range1d\"},\"y_scale\":{\"id\":\"5195\",\"type\":\"LinearScale\"}},\"id\":\"5186\",\"subtype\":\"Figure\",\"type\":\"Plot\"},{\"attributes\":{\"data_source\":{\"id\":\"4793\",\"type\":\"ColumnDataSource\"},\"glyph\":{\"id\":\"5220\",\"type\":\"Circle\"},\"hover_glyph\":null,\"muted_glyph\":null,\"nonselection_glyph\":{\"id\":\"5221\",\"type\":\"Circle\"},\"selection_glyph\":null,\"view\":{\"id\":\"5223\",\"type\":\"CDSView\"}},\"id\":\"5222\",\"type\":\"GlyphRenderer\"},{\"attributes\":{\"source\":{\"id\":\"4793\",\"type\":\"ColumnDataSource\"}},\"id\":\"5223\",\"type\":\"CDSView\"},{\"attributes\":{\"callback\":null,\"end\":100},\"id\":\"5189\",\"type\":\"Range1d\"},{\"attributes\":{\"color_mapper\":{\"id\":\"4794\",\"type\":\"LinearColorMapper\"},\"dh\":{\"units\":\"data\",\"value\":100},\"dw\":{\"units\":\"data\",\"value\":100},\"image\":{\"field\":\"image\"},\"x\":{\"value\":0},\"y\":{\"value\":0}},\"id\":\"5216\",\"type\":\"Image\"},{\"attributes\":{},\"id\":\"5425\",\"type\":\"UnionRenderers\"},{\"attributes\":{},\"id\":\"5203\",\"type\":\"BasicTicker\"},{\"attributes\":{\"bottom_units\":\"screen\",\"fill_alpha\":{\"value\":0.5},\"fill_color\":{\"value\":\"lightgrey\"},\"left_units\":\"screen\",\"level\":\"overlay\",\"line_alpha\":{\"value\":1.0},\"line_color\":{\"value\":\"black\"},\"line_dash\":[4,4],\"line_width\":{\"value\":2},\"render_mode\":\"css\",\"right_units\":\"screen\",\"top_units\":\"screen\"},\"id\":\"5428\",\"type\":\"BoxAnnotation\"},{\"attributes\":{},\"id\":\"5424\",\"type\":\"Selection\"},{\"attributes\":{},\"id\":\"5064\",\"type\":\"UnionRenderers\"},{\"attributes\":{\"dimension\":1,\"ticker\":{\"id\":\"5203\",\"type\":\"BasicTicker\"}},\"id\":\"5206\",\"type\":\"Grid\"},{\"attributes\":{},\"id\":\"5421\",\"type\":\"BasicTickFormatter\"},{\"attributes\":{\"overlay\":{\"id\":\"5428\",\"type\":\"BoxAnnotation\"}},\"id\":\"5208\",\"type\":\"BoxZoomTool\"},{\"attributes\":{\"callback\":null,\"data\":{\"image\":[[[0.5878833944083749,0.31108808513209796,0.017084704147240753,-0.28087101839867096,-1.1671753498130877,-1.3645483014684963,-1.5260617303055546,-1.6442212064922739,-1.8290930828730185,-1.8127758313138833,-1.7520451803973929,-1.6525368961918834,-1.5227974689864787,-1.5347840429040556,-1.3159043040224583,-1.066017120873177,-0.9307288733825279,-0.8184152198281659,-0.652773115496456,-0.613272126817133,-0.6096804371254805,-0.5898146589554677,-0.7266655428953444,-0.5361691905393305,-0.6707961142008436,-0.7691143062884562,-0.8763239126256228,-0.9909236765921273,-1.1123986150382619,-1.2411040461234617,-1.3780383775182667,-1.5245321935940908,-1.9463169399585023,-2.188962303646963,-2.4454280518237983,-2.7134908737638397,-2.9899311560904938,-3.270502561304303,-3.550011587732925,-3.822504048183192,-2.9691607316547692],[0.7907771490634616,0.4988179553522669,0.18419125522194857,-0.13899350032173602,-0.4558322543674511,-1.2575098418603172,-1.4482957034045347,-1.59457942474995,-1.6902942894621673,-1.8191552616310926,-1.7781020286178806,-1.6929333850456818,-1.5715898491468379,-1.4246885384512868,-1.3427898955396285,-1.0836135809761074,-0.9510931435040382,-0.8413645242428067,-0.7317578328625395,-0.7018486462091711,-0.7074899914546177,-0.8054947375021123,-0.7644704264560399,-0.8343301127191226,-0.930862739477291,-1.0088757980989929,-1.0878071548840227,-1.1671917532126943,-1.2479110712826196,-1.3319974535435979,-1.5726727285765887,-1.7268608878465699,-1.8971639094735844,-2.085019253112005,-2.2910242804439522,-2.5146297494219834,-2.753934058252953,-3.0056032387280336,-3.2649281494997964,-3.5260157403809043,-3.7820973624754224],[0.9884914215204387,0.6867704364367877,0.35668841141911123,0.0130171964614135,-0.32835263813897186,-1.128056269085242,-1.3467792548788278,-1.520729477411762,-1.6423925519374833,-1.7984582063806287,-1.7790707142231827,-1.7107285173790916,-1.6005910385807856,-1.45881975250792,-1.2978486096991855,-1.0886371966266182,-0.9603902880609269,-0.854426131724905,-0.7977247278506532,-0.7774870295725139,-0.7918299462207351,-0.9981121572914753,-1.0372759964625808,-1.1090888704861952,-1.1676858245161705,-1.2226946281773943,-1.2704274483674092,-1.3115452587569931,-1.3484217220147325,-1.510307105196775,-1.5917508589766296,-1.6855167220162484,-1.795777457756386,-1.926163165935801,-2.0792786654431756,-2.2563002874828357,-2.456693970686734,-2.678083914617463,-2.9162854520733528,-3.165499084107835,-2.6685456898786537],[1.1710107535468564,0.865818318093784,0.5265170485062471,0.16831560943434173,-0.1921226127365837,-0.5377593599488112,-1.1149348851378487,-1.4236899883771255,-1.570588607632854,-1.6589991100066515,-1.7521740678077533,-1.702422313778415,-1.605769153545338,-1.4717392079953409,-1.3124663885074361,-1.081428810136498,-0.9585000180635607,-0.8570398808383494,-0.7860286645842498,-0.8369733727911071,-0.8589884334507479,-1.2001100001656968,-1.2750580214345069,-1.3458129432524628,-1.3685922775705808,-1.3986762311177041,-1.4133448278509682,-1.4144437406046166,-1.519169685099915,-1.5368412005741903,-1.5587457970511671,-1.591276727398822,-1.6408418021129494,-1.713236625211004,-1.8130537934146227,-1.9431851220783547,-2.104464616433086,-2.2954856296609885,-2.5126081276520265,-2.136308013890957,-2.444589956682216],[1.3275616584276453,1.0258873096221723,0.6845015224484196,0.31879636409180845,-0.054042607120054736,-0.41613601519820587,-0.9836453833019555,-1.2148021509107596,-1.395840197876468,-1.5868838583284823,-1.696224602701074,-1.6659366056707157,-1.5843333222619935,-1.4601365842026268,-1.304993536542128,-1.0625810304940488,-0.9454286924399149,-0.8486624422454444,-0.7814307076693666,-0.9481145599778475,-0.905469759700146,-1.3841815288801531,-1.4645879166127949,-1.5311337410128334,-1.5219148041361148,-1.5261183800383136,-1.5071126251178963,-1.5740562368904814,-1.5439582105113798,-1.5069038051476336,-1.4705908597174937,-1.4434843182125878,-1.4341085349821951,-1.4503137960547958,-1.4985844190980175,-1.5834519811902508,-1.707066835386938,-1.8689653422367387,-1.6528904442996541,-1.855549714814103,-2.1872984318435402],[1.4472300296274911,1.1565234196318417,0.8208571591440493,0.45553364293212384,0.07798052932745048,-0.29335316216792395,-0.6402271700259465,-1.0917326186134901,-1.2926841353507934,-1.4359581023962802,-1.5601449252132014,-1.600868316811306,-1.5350187689375883,-1.422063558199259,-1.2729895967693337,-1.0328998453458975,-0.9212988939747934,-0.8287834635163993,-0.7645955726193249,-0.9760992347907778,-1.0111607224222645,-1.512815807315565,-1.5945320247115184,-1.6537382171282284,-1.617669608183568,-1.6734919730445608,-1.6410992784847125,-1.5835860541658218,-1.506624435444276,-1.4180371652884123,-1.3272524775784325,-1.244601624060326,-1.1805187063338323,-1.1447129383846097,-1.14538678865496,-1.1885692500133227,-1.2776222594338806,-1.1670429331218652,-1.3431913989692006,-1.633924846068422,-1.9082268350940434],[1.5196739566677104,1.2475669679012784,0.9258140788062895,0.5693447959946696,0.19552871635102048,-0.17691632615879344,-0.5291658159904054,-0.9599550298693208,-1.1767465388835217,-1.336959439439003,-1.4340083516219164,-1.4653590329270074,-1.4582742305372534,-1.35715675055374,-1.215453220022781,-0.9933573393738716,-0.8863401763956981,-0.7969519645262133,-0.7344584493192325,-0.9712675154212825,-1.0116113940291753,-1.5774869849430437,-1.6561474177580553,-1.7050705672630004,-1.712337140593632,-1.6836393475546294,-1.6198797705240573,-1.5249832968206676,-1.4056549881974751,-1.2709927705018103,-1.1318850078347273,-1.0002395807701356,-0.8881083241465227,-0.8067816785034041,-0.7659318991997561,-0.7728787473902481,-0.7113251672398145,-0.8426711809044422,-1.0184329124648985,-1.3336449730228603,-1.6207716082335073],[1.7305670275831033,1.2898883506408432,0.9903165570346103,0.6514420111895028,0.29026671060628095,-0.07454240723703646,-0.4238888705983631,-0.7395566693488842,-1.0533598687098562,-1.2264568556495967,-1.3373337402704415,-1.3821246044615407,-1.3611563669667939,-1.26675334956468,-1.1329759538641933,-0.9450386330764591,-0.8408819297110609,-0.7528118882120226,-0.6900555820046054,-0.9314361710124283,-0.9728103984931447,-1.5726219652021618,-1.643848326721669,-1.6798930146836357,-1.669025310815442,-1.6172217787990095,-1.5254341779815774,-1.3981724478940178,-1.2429370186164932,-1.0698022819274047,-0.890774200528007,-0.7189707654347393,-0.5676919114816421,-0.4494569740050231,-0.37509149716532786,-0.35294075789703744,-0.3856449648484365,-0.5142148902386386,-0.6931138293084406,-1.0387447480540626,-1.1385234775792736],[1.6297082466192074,1.2761298119408726,1.0067454046763487,0.6941235474724332,0.35459125829088817,0.006437759034425179,-0.3312970394102784,-0.6401315676125595,-0.9284803914051483,-1.1093950591602453,-1.2302387199722857,-1.2858911173893053,-1.2753890424732015,-1.1538846107174396,-1.0277839419066634,-0.8890866437335155,-0.7853489241114922,-0.6961445263542554,-0.8299142791525758,-0.855755463983223,-0.8933691065072827,-1.4959915017977818,-1.555600643029955,-1.5766631462155787,-1.5471587838108587,-1.4748167627679094,-1.359680599303063,-1.2066484373805872,-1.023733177753631,-0.8216323612290145,-0.6130657193740869,-0.4119297813752155,-0.23233727642340832,-0.08762094643830912,0.010614577328186377,0.0033984019792698307,-0.06647174887818484,-0.197110353537928,-0.39940267411941943,-0.6257991880664012,-0.8847690710371877],[1.065801261813416,1.0908274823674526,0.9696033264256799,0.6914474321877446,0.38228198742129504,0.05969701937251475,-0.2576563186152731,-0.5513554060896257,-0.8082806524698926,-0.9911017960654834,-1.1171492587359522,-1.1801695346600203,-1.177963162475766,-1.1124406206220312,-1.0726390117351605,-0.9041204835505774,-0.7202596591228024,-0.6269145166451994,-0.692690243793662,-0.7448569263488101,-0.7735557748665983,-1.2518855652926382,-1.3931131236399734,-1.3943975636215105,-1.350138322148074,-1.2608226230325648,-1.1282014736296415,-0.9573374787694361,-0.7564380543564678,-0.5364287979679223,-0.3102927293988359,-0.0922239488892195,0.10333717168441878,0.2627079551270962,0.3106628816530304,0.3038407375407522,0.23044836568995036,0.047653780849976776,-0.1490128042959593,-0.39165565273946346,-0.668067728614002],[0.952163575250075,0.9248112310257411,0.7703728665411735,0.5702958553953621,0.36909588701351137,0.08049478882459735,-0.2080367555697978,-0.4784592843331423,-0.713922370250541,-0.8769038821421871,-1.002671719630303,-1.0687854940491524,-1.071905251373994,-1.0127168987607384,-1.060708463673802,-0.8800160930335849,-0.670989687162375,-0.5453153614107008,-0.5876920096985666,-0.6009181527781855,-0.6153896694823863,-1.0896792523506948,-1.092442813789106,-1.143797076239034,-1.085121044847467,-0.9832594692111966,-0.83997091131991,-0.6602407471789871,-0.4521304770229298,-0.22637242342587624,0.004266593419610797,0.2258064652109839,0.42399521496888876,0.5350129900327936,0.5875111100225796,0.5319799944166876,0.46389229727506737,0.2663759021793537,0.052816415552160406,-0.20674902145360047,-0.4998541345543291],[0.6982052002599601,0.6452180594700342,0.6022133999027189,0.4527902388121293,0.26807127063294617,0.05983142592088139,-0.1858181099355064,-0.4253696133150636,-0.6359783069847,-0.771735909437985,-0.8912527332717206,-0.9555937028589396,-0.9604119937008154,-0.9052368195115161,-0.7933982050638168,-0.8523648347876271,-0.6294158987280235,-0.48500244549920324,-0.4637425664361515,-0.42763393401078087,-0.8314242425625789,-0.8027895197461355,-0.8624142384969682,-0.8331658250288433,-0.7626565658448713,-0.6533495646957485,-0.5068726324606151,-0.32788456200984883,-0.1239522688469823,0.09481532316904889,0.3163563573710449,0.5274259072624878,0.6410552625782366,0.7892737005315346,0.8485980850734045,0.8734622964303342,0.8413059151418775,0.7525047604156638,0.6102937788421586,0.4205484530571769,-0.3413924793616586],[0.3368860660286554,0.34744302340448013,0.3856496561861959,0.29436784341825484,0.16170612831881676,0.00436242649717072,-0.14423940137166236,-0.3014083669621875,-0.5736390884354081,-0.7160862916185509,-0.7868538922241342,-0.8441961859028131,-0.8466157832176271,-0.792589596909276,-0.6842676716610363,-0.8181308454056557,-0.5807793907876533,-0.3539389444426637,-0.3237850494122551,-0.7084431574974603,-0.6579321960773322,-0.6037671504153308,-0.5808752241456985,-0.4753283254122109,-0.3961201539066233,-0.28490521917593636,-0.14304162154640512,0.02538440407727449,0.21364232569943728,0.4109931042996605,0.6014508135678958,0.7756256580201392,0.9248377042467693,0.9996899650684365,1.0451964415508626,1.0394469841261498,0.9807207453946652,0.8698651890283009,0.7102840476546213,0.031202465599775533,-0.32335187046034347],[0.04114523372652682,0.089318787586961,0.10087746782760243,0.10359804507240003,0.02600093612786037,-0.07593632387242093,-0.17222032377876492,-0.2846774291180421,-0.3886480169262689,-0.47323216974600024,-0.69267167530437,-0.7376912813346377,-0.7333687625919555,-0.6772642084488439,-0.5704228187199941,-0.7739607105988472,-0.5219381388839599,-0.256859964084332,-0.17136688261130972,-0.5317661151009426,-0.4461112543133271,-0.36225025261212607,-0.5615498275669388,-0.4361484412495127,-0.0009814220546434105,0.1064335341309142,0.24909346277934843,0.41754990352233523,0.5860160211623758,0.7489874650723927,0.9001277327676827,1.032642540691143,1.108107154186724,1.15690989116667,1.1621830055969775,1.1210261823893972,1.032581430765826,0.8981870968015264,0.3236695780261639,-0.010527542567295295,-0.38009110434330867],[-0.26774745603868233,-0.1872476008108942,-0.13764265633206746,-0.1187560825059182,-0.13208622040196452,-0.18333442349060775,-0.250138731442686,-0.32266561700439395,-0.3587191001016336,-0.4080245833358506,-0.43511894812771246,-0.4158025129177803,-0.6230662992489442,-0.5614991540597463,-0.45382190624253604,-0.7164320468831648,-0.4497707402597421,-0.17082450161732754,-0.010495067774448641,-0.32249793763959655,-0.19838669653612906,-0.34011230296749606,-0.21451231093969553,-0.07463588981564132,0.3838196181120266,0.5121761610840779,0.6542242915216067,0.791223833974733,0.92034379154376,1.0379629128408112,1.1706346007323578,1.202488666676832,1.2373091980129647,1.236445087698825,1.1969253833092286,1.117167809730524,0.9972286600699918,0.621092224857859,0.3986450908927509,0.14771868125156784,-0.126311424384716],[-0.5328986672091122,-0.4677159191873388,-0.38580462725245357,-0.3294666174211639,-0.30262678477016797,-0.30549182426194127,-0.32464264136362286,-0.3519166211424812,-0.37844515640472365,-0.3953636394096752,-0.36086464507791477,-0.32679668299443076,-0.2759259719892053,-0.23095009706254407,-0.35173902037026483,-0.6423294020886313,-0.361441562449779,-0.18876738885624567,-0.07435411214814527,-0.08267196447453251,0.26685110740063706,0.31101324729262125,0.4860744764621681,0.5632986201111135,0.7269217948884297,0.9951635250518794,1.1140185352161671,1.1232485635837741,1.2767932658064785,1.3175623421293052,1.34087054459259,1.3428924808363307,1.3199858501367445,1.2380151368096766,1.1511874094516086,0.8906299000070245,0.7077247960074526,0.49603431456311525,0.25869115453391955,-0.0003371492577941282,-0.27634600580857205],[-0.8307923538478942,-0.7790486512880418,-0.6979810257403954,-0.5936681193107245,-0.4740062260838496,-0.43224587885246335,-0.4068388610354182,-0.39123855359151427,-0.37812764532970744,-0.26121682784515576,-0.2160506244301979,-0.15903389432066267,-0.31453439767422503,-0.23809039880851834,-0.02699261281000864,-0.5297117036879533,-0.25669896202244735,-0.0507658020274821,0.12597784607429913,0.35069596944403403,0.5773583616536413,0.6740448631558116,0.8647293262814026,1.0350927073271599,1.123112678724212,1.3412872109109752,1.4243193015143263,1.4743159260292742,1.4816162244236102,1.4670232589795953,1.4314760257338839,1.3736447086332315,1.2923255713540354,1.1866359999808402,0.9449611753588324,0.7586165286434529,0.5485673871715208,0.31721761808820215,0.06752696520354035,-0.19698646464706582,-0.4722959852084817],[-1.1012250848933387,-1.0284779024653132,-0.9175176679438083,-0.7752998103275025,-0.6110130473043472,-0.5433694859105038,-0.4043171363419521,-0.3224742624176973,-0.3835700122260079,-0.19185668775375814,-0.11768836596374158,-0.039309333576498906,-0.170609103203959,-0.08806660761245715,0.01653308747033616,-0.6715008510231765,-0.1131576119751743,0.16645627320732334,0.3320174298705733,0.6215721064558177,0.788388957093398,1.0177093430534359,1.2072286392050726,1.3767329981387677,1.5238398862826414,1.6179350321407096,1.6666496491241025,1.6916603464187723,1.6581240406998001,1.5828172610615974,1.4719051398099992,1.3320331078836645,1.1699103317133108,0.9955674957593291,0.7968531350349211,0.5792448045560484,0.34508436331786513,0.09690469988930882,-0.16250382954676007,-0.43005851390548644,-0.7023892792068884],[-1.331821430089419,-1.2430216437939268,-1.1077480511248983,-0.9337086328879556,-0.7312419265470942,-0.5126758946126437,-0.4381640443656642,-0.31970949484180655,-0.21157199664820125,-0.11309400334868577,-0.023277061851371184,0.07040441730064367,0.16679179612593864,0.05632188614375888,0.15931045737117566,-0.05103822966638987,0.060319991695964255,0.3613228588417546,0.5781920518467873,0.7429918615560167,1.0860386732256064,1.2838427035018791,1.4889895444735226,1.6562507545932281,1.778940203135864,1.8510920735858545,1.8726518359995499,1.816441144652229,1.7264677221028775,1.596075660249211,1.4329511436762425,1.2451501900695563,1.0590533120473646,0.842350784032166,0.6101015378688002,0.36523593590195885,0.11050447895008186,-0.1514399812681037,-0.4179620491099091,-0.6863805657577421,-0.9539335769756592],[-1.511789312657909,-1.4127491918841384,-1.2598533443117979,-1.0614105755980967,-0.8287288674747914,-0.5754221117757397,-0.45922224364275166,-0.3112786431028004,-0.17432159705624822,-0.048360686065690134,0.0669981460493777,0.1723912079581984,0.2685289315578427,-0.03230087423571498,-0.3219733735434034,-0.06799326952307695,0.35783838241551386,0.6109314627335215,0.7437117814814741,1.023300178997084,1.3087929783203311,1.5437109126366144,1.7430170801380198,1.89718467478041,1.9799391778803865,2.0195986532298567,2.0023530050882026,1.9301501631570046,1.7246247084605162,1.545108608948769,1.3362437996629328,1.0944943148928545,0.907904311779946,0.6579440239134228,0.3974330498922528,0.12991536780323534,-0.14149337514951998,-0.41402797394244994,-0.6851832348514724,-0.9526274900558398,-1.2141336687707203],[-1.3533669464704003,-1.5297472141295838,-1.366837604365878,-1.1525261864696112,-0.8988766638521675,-0.6205456977051202,-0.20918154969378272,0.10099724575688165,-0.13894370967074868,0.42255557824670986,0.5822180463869281,0.7147063246626346,0.5848164025560072,0.6619062586494775,0.448911939403963,0.481130463399505,0.6075469821317498,0.7377498737595442,0.909625439910914,1.2913081345784163,1.5188508319352934,1.7467427534223217,1.9335201516094338,2.036049544849638,2.099780068861322,2.105066020341327,2.052063671337609,1.9433588607841776,1.7837776882392409,1.438577105469942,1.1655113667695056,0.9109395901043468,0.7310144642022998,0.45443500677899074,0.17152773212490002,-0.11364398883476429,-0.3976485014204443,-0.6776138634406275,-0.9511311124390313,-1.2161503700518774,-1.4708852354691242],[-1.3010269677117137,-1.3405990512676067,-1.014156416060218,-0.8711927848485688,-0.6483792290131905,-0.36413558907504673,-0.04001448012789938,0.07256224369426739,0.24433140100496295,0.42338154226772,0.5803724492820972,0.7102083747178606,0.642471819898449,0.7015478040766342,0.7214094426948121,0.7586015225749679,0.7818662549426237,0.8510708059156595,1.1799132844623705,1.5062744025401291,1.8192969735561073,2.0190160626539084,2.01335315992961,2.103279963881101,2.1362046573507416,2.1103088629020004,2.0262651865225068,1.8871821885203122,1.6984030867750897,1.467175576169965,0.9813651398316035,0.7010208616023877,0.5394348427862766,0.2433439902547365,-0.05576764477338007,-0.35342013984967036,-0.6459181274542205,-0.9302862094802562,-1.204170131776459,-1.4657218798321583,-1.9694489444093877],[-1.266893090985909,-1.3271098957635727,-1.299269308557804,-0.8877278006744582,-0.6742173249062839,-0.4013834901041593,-0.09154701018253303,0.3924059508425332,0.6863767098142791,0.9405907414206897,1.1367473392716338,1.5058611890217755,0.8469798117532432,0.6927437224684126,0.7459863930966527,0.7653615345168433,0.7745200304537524,0.7971073944776814,1.326164937451558,1.5411156314108447,2.0120510336004656,2.1253507708064334,2.0288151292051713,2.089615561814048,2.094069705758776,2.04085045729356,1.9310797491887033,1.7682644986940268,1.5580883637314873,1.3080765644450572,1.0155914119046496,0.7318721464347548,0.4258534085490243,0.03494550309739333,-0.2741231408024339,-0.5791238631390492,-0.9369825320232509,-1.257843324394527,-1.5754623146684146,-1.8850471855350932,-2.1816606090305277],[-0.5062922924520596,-0.9015740303948399,-1.1481790925789706,-1.3566637326803268,-1.1839670022965185,-0.9261290546396461,-0.610170300396813,-0.2644449563542831,0.9628639988620672,1.298460653100973,1.5240219907130252,1.6239791051202848,1.5901005385866158,0.43805997514917183,0.666600697220921,0.6940166801883384,0.6919355034850798,0.7022119420893627,1.0010342739915061,1.5982912300704164,1.765952900871915,1.5401771219691702,1.96907965423323,2.0022720557783993,1.9812016086328093,1.9050126722187424,1.7752014169019095,1.5955447052756468,1.371889911029628,1.1118225218838358,0.8309926541828425,0.5425814071047264,0.232326077825653,-0.09273443662447937,-0.5147118839020463,-0.8291109474585918,-1.1466085705755917,-1.4632903084849596,-1.7748399992490085,-2.0766684682240606,-2.3640866328564463],[-0.35785825881586786,-0.7637891954062104,-1.0239318991262074,-1.1405208147574764,-1.0805827099214134,-0.8636061692618583,-0.7181883610363734,-0.42302107962389335,0.6564179176388635,0.9206785163278967,1.0855456942005017,1.136801094444476,1.067244613934055,0.5268022668858144,0.5723884213532018,0.5701923937705569,0.5743436577315246,0.5896913277566183,0.6197463804646824,1.400713100800922,1.566404277837196,1.7041309237554367,1.5250280184671479,1.8510105001816572,1.8078385951498273,1.7133449395354483,1.56931992633381,1.3796829757040578,1.15027520613826,0.8885370979968604,0.6357424138377307,0.3497578069668015,0.04226584637983137,-0.2798984665144462,-0.6098421047336746,-1.0126630054890537,-1.3250829339534105,-1.635626787093016,-1.940084917962281,-2.234002413950353,-2.5128453307282146],[-0.19912738534218621,-0.6038419783820653,-0.8673970874575065,-0.993653189409658,-0.9769382883414883,-0.8686361153791761,-0.6724759182109834,-0.4354735730671441,-0.1912961247505015,0.2827756679018154,0.44941697351403853,0.5205421476979674,0.47814298463428223,0.27219609112404997,0.4090959592324684,0.41123234107683465,0.4213771003777338,0.44239142969175704,0.49773368619658215,1.311564825713726,1.411423423193134,1.4330979528044645,1.2844754204513253,1.2657901200500272,1.3111656710542472,1.477953966487433,1.3254574527890264,1.1324146095704188,0.904503217023982,0.6891624253569114,0.4390239880554884,0.16140580014472675,-0.1375192711372255,-0.45128272331380304,-0.7732946875384492,-1.1638894207002421,-1.4689718730845582,-1.772030000676166,-2.0689160596082794,-2.355237812898576,-2.6265233299046873],[-0.018859489067969165,-0.4135831351434558,-0.6709009822174228,-0.805054525039781,-0.8255254786536392,-0.7035739275310532,-0.5525105461968713,-0.37554758530046806,-0.20535397891874962,-0.07265707626687373,0.18286453919165313,0.1748209765949697,0.012643862065442574,0.1506280967313126,0.23308228358384253,0.33431947195811124,0.24476054846986675,0.124891567320842,0.35940339769381513,0.9940629248108531,1.0673284046131462,1.2557202395978055,1.2651639827560206,1.125051507609091,1.074894313504445,1.0774898504788621,1.0502459278575536,0.9451606513136334,0.6458781649354686,0.48681197132533605,0.24903678551005515,-0.015613006774113026,-0.301510478378424,-0.5825350167370066,-0.9050541680865256,-1.2382712463963683,-1.5754953929217226,-1.8723050586073615,-2.161615035011759,-2.4410254820952395,-2.7060384506085273],[0.08588151239529743,-0.2769504004550491,-0.5166822762278873,-0.6367332588283828,-0.6442151638410355,-0.5716482892078562,-0.4543991577655682,-0.32471561873644905,-0.21479741734893232,-0.15421209720743706,-0.16759635895908787,-0.17224919865087285,-0.20057591595430685,-0.13117109356535733,-0.10523755623135178,0.15255552266338035,0.26088648060323905,0.15374800537464287,0.21362489501929083,0.8350829254493101,0.8934272531019252,1.0440551539113554,1.0320038002879126,0.9131147426766076,0.8920740792084589,0.8116270473622028,0.7734967957524955,0.6976482946761444,0.5970707632916841,0.46820111065615994,0.29857027592224417,-0.15812563796006612,-0.42662295127751565,-0.7171273480455661,-1.0249193088024091,-1.344316072885946,-1.6688463959222124,-1.9914873608703676,-2.304949778503982,-2.4941911014808738,-2.7543437837333937],[0.9146858036425471,0.2702324992924447,-0.1628573353230099,-0.4077410536570304,-0.48311431017844947,-0.4221610744835314,-0.3307964740439658,-0.241448184698701,-0.1857792598071269,-0.1921066984728879,-0.28315187645515394,-0.47431274637293463,-0.3818558539597392,-0.27707580204838445,-0.2612943731443065,-0.017192967168076667,-0.15462799817473388,-0.12216843732403204,0.42487502260068677,0.6540848099560767,0.6974207046822393,0.7188032302298364,0.778288372590733,0.7296820898192256,0.6601343750053268,0.604770174690023,0.5313870195213438,0.46112849648615045,0.35886654378219407,0.2245352893352044,0.07148968137227542,-0.12667848940287263,-0.5546442972637665,-0.8279303498487094,-1.1193507589564309,-1.4235330286580399,-1.734255274743517,-2.0446765178329254,-2.3476190374225747,-2.6358847605537696,-2.9025844199715936],[0.40997326298839876,-0.03912720339457076,-0.28756704200743977,-0.36727358538555877,-0.32310298981477403,-0.20918981965463132,-0.2064041993460519,-0.14844821369794114,-0.13850636481843373,-0.20361386801609282,-0.3645543789072657,-0.634233826318322,-0.4310418846404464,-0.46301261449001285,-0.25122371097011553,-0.16527512880705397,-0.24018426151424965,-0.2120455741084446,0.3130182343585068,0.31594313270862456,0.4914014275863824,0.4976775105497815,0.5171836823111912,0.45463655027937344,0.42931756874625493,0.34822089048739313,0.30208761161222775,0.22811788738101801,0.12449669554831311,-0.008920152423687266,-0.14768311669673537,-0.34298371483215645,-0.5598944326830809,-0.9144107226705437,-1.1889332169729057,-1.4775129605649406,-1.7741886522520722,-2.0723098348913056,-2.364815789136932,-2.6445520737487658,-2.904603292857863],[-0.11907211456135902,-0.3918831695125701,-0.4766991904372609,-0.41339693795430654,-0.2539862098335175,-0.05851926005942827,0.10975132682440253,-0.07160362147944152,-0.09674290922620764,-0.20988643084020217,-0.4299342742097563,-0.7673883055477567,-0.5551340000374468,-0.6396162133784056,-0.4247405298368907,-0.3526697629554312,0.2742790137005897,0.34333789277234633,0.39296365877410255,0.19783718135836612,0.28787452744807746,0.2796276485303816,0.24912253578890511,0.18806410987590555,0.10418011619305348,0.13592398859399493,0.0842287531204722,0.006898772896002658,-0.09784312928938127,-0.23018749393032512,-0.3886811416476118,-0.5445276968376648,-0.7561056806093545,-0.9773008044895284,-1.2353686122021539,-1.508816580964034,-1.7919395293808087,-2.078275688593041,-2.3608818741740625,-2.6326497386534804,-2.886641572872576],[-0.6463928057169436,-0.7692430634629348,-0.7186029638012751,-0.5411991023930933,-0.2949969428741576,-0.04473826629328125,0.14320146373225195,0.20619439246527088,-0.08594662310276986,-0.23424796315428967,-0.5000406699660065,-0.8915974352580671,-0.713247713209019,-0.8485321224367827,-0.9314205067679722,-0.8673543060331046,0.11812899053452121,0.16088865831425947,0.18746484179996517,0.1962912124736192,0.09895214267560366,0.07673727377517522,0.03356006928163126,-0.057017545387851955,-0.14685170561962002,-0.057644327447762767,-0.11439550665660514,-0.19477454035889558,-0.3004880890780319,-0.4317391193586322,-0.5871657044923705,-0.7638883996089896,-0.9319116704345071,-1.149678339172864,-1.261250244087968,-1.5207128241411898,-1.7913368369738318,-2.066839848614588,-2.340393990364744,-2.6049413164494983,-2.853531672947118],[-1.1372553132335097,-1.1423005040477476,-0.9900949641454598,-0.7328831271776164,-0.4331715034758999,-0.15897465006657105,0.021544552636182563,0.045581553895655325,-0.13913845445625334,-0.5699813946481049,-0.5964463439525478,-0.7120748098035335,-0.9234475569283686,-1.1045886553828086,-1.0610132150898832,-1.0900852494847362,-0.9343549048929991,-0.00015038977458483455,0.006842830590382085,-0.0008408729260966641,-0.08532681781323972,-0.10003500333927037,-0.15489820788020997,-0.22880394785807598,-0.38906884048090923,-0.15732494697487334,-0.2869209831553928,-0.37008239280754596,-0.4767017778610153,-0.6069599103479123,-0.7595515859921329,-0.9317263431705086,-1.08301024454369,-1.2934707488681627,-1.5076869635448729,-1.5168998737172286,-1.776452091744264,-2.042343643951925,-2.3078591573536955,-2.565998503004416,-2.809815396138493],[-1.5499568830827326,-1.4733972508524658,-1.2574758247179196,-0.9584495902955837,-0.6417938481959051,-0.3772463742728728,-0.23332167351630445,-0.27176458241176715,-0.5424291821294165,-1.0790367507605212,-1.8961882001824193,-0.9530674967185133,-1.201931371751047,-1.1516735750595972,-1.2546047856076405,-1.2961377471475573,-1.1064633148757579,-1.0024726601999627,-0.14140503413962988,-0.16143416900502072,-0.1596052010766572,-0.258381067597134,-0.30714684573571815,-0.4494003078482292,-0.5558952090966011,-0.6668375940917779,-0.4277739994014132,-0.5134931008133432,-0.6210210006400978,-0.750482307033812,-0.900593774608603,-1.068700586412056,-1.2509071226523627,-1.409747489370465,-1.6153440526562177,-1.5012309366380128,-1.7513249992640014,-2.0089335239514927,-2.267452110207327,-2.5199498494959927,-2.7595069947254873],[-1.8384609256903808,-1.7185347126498678,-1.4787106366283687,-1.177647634443728,-0.8821274147253494,-0.6619920772746649,-0.5846276080697251,-0.7094658310029639,-1.0829878463364866,-1.734673724561578,-2.6742597163807043,-3.1998520632039527,-2.6179599917303094,-1.3395437133230748,-1.442313530433081,-1.4850364855789469,-1.2629511985167448,-1.1526711214753602,-0.9869933038067997,-0.27986894710151355,-0.1587890857368651,-0.32335700574217646,-0.41633228415849605,-0.5606191778930988,-0.675674505969061,-0.794190542603357,-0.9162241373260711,-0.6210386309008136,-0.7295241737094758,-0.8584469080439918,-1.0065121229773994,-1.1711278925438702,-1.3485286500141516,-1.5339778850912338,-1.6942809804047438,-1.8869495035489257,-1.7197262527092512,-1.9703388150034327,-2.222809873396726,-2.4702935818210667,-2.705925201438791],[-1.9557748902962142,-1.8306653626343232,-1.6066214956663603,-1.3430608558275934,-1.106391007499115,-0.9649376223494314,-0.9834930115849739,-1.2179537659165924,-1.7105209293206838,-2.485893014880914,-3.548795122155919,-4.281372432461893,-3.277674837505897,-3.6701235229535505,-1.6241573077361562,-1.6570467329830796,-1.4079271922812766,-1.2858150312469054,-1.1083363028706659,-0.8859340754836973,-0.3676087460175471,-0.5001826488723662,-0.4932583217776836,-0.6224787333752668,-0.7445997775363453,-0.869452617078025,-0.9970569255393065,-0.6904940847094783,-0.8000055077335569,-0.9286714676366343,-1.0751552044499175,-1.236897139546567,-1.4102329999689243,-1.590586662062814,-1.7727223543426152,-1.9281942447518199,-2.101415258709667,-1.9297088685865782,-2.176892592742048,-2.419781574525646,-2.6515993959021835],[-1.8577908169678983,-1.7635895169328748,-1.592824476568827,-1.4040685391906405,-1.261728441572646,-1.2310583364126308,-1.372866012227775,-1.738369584126693,-2.364662090860194,-3.271194684397935,-4.457600211980548,-5.444234153520592,-3.713495679074429,-4.118322567101522,-4.06941217750843,-4.170833251044674,-1.5457611618798839,-1.4067496952624357,-1.2142190493693317,-0.9779631458300647,-0.4030364636648608,-0.3911724306301707,-0.5195977468846844,-0.6965693228334777,-0.7616087835361987,-0.8916496208646978,-1.0239654224794155,-1.1585952727598956,-0.8320443008530902,-0.9607180859638482,-1.1060659721009136,-1.2655338571884784,-1.4355329836293427,-1.6116242268966898,-1.7887580203834035,-1.9417763489487307,-2.1065952374212205,-2.2556652260792807,-2.1319132953619944,-2.370374926426512,-2.5982483937131886],[-1.5072422210690184,-1.4761043445310333,-1.392053281525147,-1.311322105789929,-1.2948117108342936,-1.4032788831131158,-1.6922862328071244,-2.207354287399568,-2.9797513113459577,-4.023307258581111,-5.472748692791178,-3.487780213761112,-3.994584265762459,-4.409875548642301,-4.690972006409228,-4.443662549649485,-4.354063901751233,-1.5204257443745304,-1.310153796417146,-1.0589328838415157,-0.32527387180822526,-0.2825866605665849,-0.2502240291452562,-0.36632414233393273,-0.7942094497273459,-0.8624915260403657,-0.9987227816021573,-1.1370240383255672,-0.6507915877566577,-0.9558561097184342,-1.1004468628810598,-1.258168326958287,-1.4254857269330823,-1.598076985980363,-1.7710612356949376,-1.939261844009048,-2.086644769851916,-2.2280685258210275,-2.0893332347007303,-2.323265576454848,-2.5468244412227268],[-0.8774004182365216,-0.936010209055839,-0.9664591058504892,-1.0213136318931502,-1.1566450962833719,-1.427472289833228,-1.883031429854688,-2.562290317055469,-3.4901152123969625,-4.674448555897224,-2.9693961601745844,-3.547475364233837,-4.073768958997313,-4.501124923704048,-4.787809143317116,-4.575616248684734,-4.460170648900496,-5.25993169332036,-1.4015095065783383,-1.1347223865614584,-0.32935063957776933,-0.2919683316373044,-0.2660276744135604,-0.3209822016621364,-0.3481882892601788,-0.8403014068256454,-0.9255387822087869,-1.06700915930786,-0.8688182473850316,-0.7572608692701769,-1.061029465783665,-1.2174120899937604,-1.382576812131518,-1.552303049147527,-1.7218645933057213,-1.886278871989271,-2.040569746560541,-2.1786668357757777,-2.2943641172975693,-2.2789535034023807,-2.4976103543780726],[0.044856351632362346,-0.12358037958695967,-0.2894678662460989,-0.5005958470239843,-0.8071117091667632,-1.2572861049644597,-1.8931669529572874,-2.746510440296852,-3.8353661518455464,-5.161642927886876,-2.757239422372607,-3.3673206072479163,-3.9173318692111643,-4.361274467101427,-4.658740109580858,-4.777645790833443,-4.40703495018267,-5.58382043070918,-4.813251586195426,-1.2107570540307275,-0.34931192755026536,-0.31461380996663474,-0.2928906287168306,-0.2651714921693645,-0.2806717302359693,-0.3235189798043574,-0.8416660452954573,-0.9548063523789211,-0.8214661621062604,-0.7129419147059062,-0.8548752787965596,-1.1471542640796497,-1.310527655064973,-1.4778512999583604,-1.6445437037865387,-1.8058074251094263,-1.95687652989302,-2.1104377348541834,-2.220537846930542,-2.309886751449175,-2.450354672366013],[1.2569168408840912,0.9658555778460323,0.6511866397133829,0.2707565022720338,-0.2188276285743167,-0.8583408707401154,-1.682028639471815,-2.713995812813011,-3.9652394801802817,0.015157036104460425,-2.2801185313428434,-2.9276807614677987,-3.5073316630400804,-3.9744917819968832,-4.290341589206176,-4.424423101191772,-4.183282851833489,-5.795549720684616,-5.0399522873594975,0.00825301982555364,-0.3895077273211577,-0.3549409534391762,-0.3351416243227228,-0.2054524288110397,-0.20767676525894882,-0.24087196686115458,-0.3034312294140288,-0.7888781169159306,-0.9567637667553187,-0.8886669418567542,-0.7881192732416884,-0.9407965773917782,-1.1031534499085325,-1.379222177758505,-1.5433926409185106,-1.7019355611419078,-1.8502899693290993,-1.9841779256404584,-2.0621404477244885,-2.217181940503071,-2.404428334011918]]]},\"selected\":{\"id\":\"5424\",\"type\":\"Selection\"},\"selection_policy\":{\"id\":\"5425\",\"type\":\"UnionRenderers\"}},\"id\":\"5214\",\"type\":\"ColumnDataSource\"},{\"attributes\":{},\"id\":\"5193\",\"type\":\"LinearScale\"},{\"attributes\":{},\"id\":\"5195\",\"type\":\"LinearScale\"},{\"attributes\":{\"callback\":null,\"tooltips\":[[\"observation\",\"@z\"]]},\"id\":\"5207\",\"type\":\"HoverTool\"},{\"attributes\":{\"formatter\":{\"id\":\"5423\",\"type\":\"BasicTickFormatter\"},\"ticker\":{\"id\":\"5198\",\"type\":\"BasicTicker\"}},\"id\":\"5197\",\"type\":\"LinearAxis\"},{\"attributes\":{\"active_drag\":\"auto\",\"active_inspect\":\"auto\",\"active_multi\":null,\"active_scroll\":\"auto\",\"active_tap\":\"auto\",\"tools\":[{\"id\":\"5207\",\"type\":\"HoverTool\"},{\"id\":\"5208\",\"type\":\"BoxZoomTool\"},{\"id\":\"5209\",\"type\":\"ResetTool\"}]},\"id\":\"5210\",\"type\":\"Toolbar\"},{\"attributes\":{},\"id\":\"5209\",\"type\":\"ResetTool\"},{\"attributes\":{\"callback\":null,\"end\":100},\"id\":\"5191\",\"type\":\"Range1d\"},{\"attributes\":{\"fill_color\":{\"field\":\"z\",\"transform\":{\"id\":\"4794\",\"type\":\"LinearColorMapper\"}},\"line_color\":{\"value\":\"white\"},\"size\":{\"units\":\"screen\",\"value\":12},\"x\":{\"field\":\"x\"},\"y\":{\"field\":\"y\"}},\"id\":\"5220\",\"type\":\"Circle\"},{\"attributes\":{},\"id\":\"5198\",\"type\":\"BasicTicker\"},{\"attributes\":{},\"id\":\"5063\",\"type\":\"Selection\"},{\"attributes\":{},\"id\":\"5423\",\"type\":\"BasicTickFormatter\"},{\"attributes\":{\"text\":\"Kriging interpolation\"},\"id\":\"5187\",\"type\":\"Title\"},{\"attributes\":{\"callback\":null,\"data\":{\"index\":[0,1,2,3,4,5,6,7,8,9,10,11,12,13,14,15,16,17,18,19,20,21,22,23,24,25,26,27,28,29],\"x\":[22,3,12,9,78,41,35,38,99,43,52,49,83,85,65,1,11,14,55,21,92,71,76,17,62,7,13,10,14,23],\"y\":[78,73,85,69,43,6,60,18,87,50,83,3,75,45,68,39,71,87,97,22,17,30,31,71,45,97,28,40,83,73],\"z\":{\"__ndarray__\":\"yneAn5AMyr+SARWJagvFvxPIlMQlS+a/QBSCTBPI4b9JxGhcdZX0PwtWdk2IUO2/IEfKhQFR4j/qRdMT0Tbtv86ItjnAkQTAHWNJ0dFx6D9AnUV9tjfQv/gmqOse/ea/QpZCZGZw8L/gWAyp84XjP/UXQiuk9eY/q+noUhNs5r/u7x4/3tTZv+ZaZAlFMey/VpLsCFtU0r8xX7ywcSjtvy/cXIVLluG//ytpLee40j/Eex7hYWPpP0spcolSxcu/12KRp0pz/T+wRyNLI6fiv2CH/M6g1oQ/d33INR5W3r/EPkmwuTPVv4OwF7pej82/\",\"dtype\":\"float64\",\"shape\":[30]}},\"selected\":{\"id\":\"5063\",\"type\":\"Selection\"},\"selection_policy\":{\"id\":\"5064\",\"type\":\"UnionRenderers\"}},\"id\":\"4793\",\"type\":\"ColumnDataSource\"},{\"attributes\":{\"source\":{\"id\":\"5214\",\"type\":\"ColumnDataSource\"}},\"id\":\"5218\",\"type\":\"CDSView\"},{\"attributes\":{\"high\":2.386398,\"low\":-4.021554,\"palette\":[\"#440154\",\"#440255\",\"#440357\",\"#450558\",\"#45065A\",\"#45085B\",\"#46095C\",\"#460B5E\",\"#460C5F\",\"#460E61\",\"#470F62\",\"#471163\",\"#471265\",\"#471466\",\"#471567\",\"#471669\",\"#47186A\",\"#48196B\",\"#481A6C\",\"#481C6E\",\"#481D6F\",\"#481E70\",\"#482071\",\"#482172\",\"#482273\",\"#482374\",\"#472575\",\"#472676\",\"#472777\",\"#472878\",\"#472A79\",\"#472B7A\",\"#472C7B\",\"#462D7C\",\"#462F7C\",\"#46307D\",\"#46317E\",\"#45327F\",\"#45347F\",\"#453580\",\"#453681\",\"#443781\",\"#443982\",\"#433A83\",\"#433B83\",\"#433C84\",\"#423D84\",\"#423E85\",\"#424085\",\"#414186\",\"#414286\",\"#404387\",\"#404487\",\"#3F4587\",\"#3F4788\",\"#3E4888\",\"#3E4989\",\"#3D4A89\",\"#3D4B89\",\"#3D4C89\",\"#3C4D8A\",\"#3C4E8A\",\"#3B508A\",\"#3B518A\",\"#3A528B\",\"#3A538B\",\"#39548B\",\"#39558B\",\"#38568B\",\"#38578C\",\"#37588C\",\"#37598C\",\"#365A8C\",\"#365B8C\",\"#355C8C\",\"#355D8C\",\"#345E8D\",\"#345F8D\",\"#33608D\",\"#33618D\",\"#32628D\",\"#32638D\",\"#31648D\",\"#31658D\",\"#31668D\",\"#30678D\",\"#30688D\",\"#2F698D\",\"#2F6A8D\",\"#2E6B8E\",\"#2E6C8E\",\"#2E6D8E\",\"#2D6E8E\",\"#2D6F8E\",\"#2C708E\",\"#2C718E\",\"#2C728E\",\"#2B738E\",\"#2B748E\",\"#2A758E\",\"#2A768E\",\"#2A778E\",\"#29788E\",\"#29798E\",\"#287A8E\",\"#287A8E\",\"#287B8E\",\"#277C8E\",\"#277D8E\",\"#277E8E\",\"#267F8E\",\"#26808E\",\"#26818E\",\"#25828E\",\"#25838D\",\"#24848D\",\"#24858D\",\"#24868D\",\"#23878D\",\"#23888D\",\"#23898D\",\"#22898D\",\"#228A8D\",\"#228B8D\",\"#218C8D\",\"#218D8C\",\"#218E8C\",\"#208F8C\",\"#20908C\",\"#20918C\",\"#1F928C\",\"#1F938B\",\"#1F948B\",\"#1F958B\",\"#1F968B\",\"#1E978A\",\"#1E988A\",\"#1E998A\",\"#1E998A\",\"#1E9A89\",\"#1E9B89\",\"#1E9C89\",\"#1E9D88\",\"#1E9E88\",\"#1E9F88\",\"#1EA087\",\"#1FA187\",\"#1FA286\",\"#1FA386\",\"#20A485\",\"#20A585\",\"#21A685\",\"#21A784\",\"#22A784\",\"#23A883\",\"#23A982\",\"#24AA82\",\"#25AB81\",\"#26AC81\",\"#27AD80\",\"#28AE7F\",\"#29AF7F\",\"#2AB07E\",\"#2BB17D\",\"#2CB17D\",\"#2EB27C\",\"#2FB37B\",\"#30B47A\",\"#32B57A\",\"#33B679\",\"#35B778\",\"#36B877\",\"#38B976\",\"#39B976\",\"#3BBA75\",\"#3DBB74\",\"#3EBC73\",\"#40BD72\",\"#42BE71\",\"#44BE70\",\"#45BF6F\",\"#47C06E\",\"#49C16D\",\"#4BC26C\",\"#4DC26B\",\"#4FC369\",\"#51C468\",\"#53C567\",\"#55C666\",\"#57C665\",\"#59C764\",\"#5BC862\",\"#5EC961\",\"#60C960\",\"#62CA5F\",\"#64CB5D\",\"#67CC5C\",\"#69CC5B\",\"#6BCD59\",\"#6DCE58\",\"#70CE56\",\"#72CF55\",\"#74D054\",\"#77D052\",\"#79D151\",\"#7CD24F\",\"#7ED24E\",\"#81D34C\",\"#83D34B\",\"#86D449\",\"#88D547\",\"#8BD546\",\"#8DD644\",\"#90D643\",\"#92D741\",\"#95D73F\",\"#97D83E\",\"#9AD83C\",\"#9DD93A\",\"#9FD938\",\"#A2DA37\",\"#A5DA35\",\"#A7DB33\",\"#AADB32\",\"#ADDC30\",\"#AFDC2E\",\"#B2DD2C\",\"#B5DD2B\",\"#B7DD29\",\"#BADE27\",\"#BDDE26\",\"#BFDF24\",\"#C2DF22\",\"#C5DF21\",\"#C7E01F\",\"#CAE01E\",\"#CDE01D\",\"#CFE11C\",\"#D2E11B\",\"#D4E11A\",\"#D7E219\",\"#DAE218\",\"#DCE218\",\"#DFE318\",\"#E1E318\",\"#E4E318\",\"#E7E419\",\"#E9E419\",\"#ECE41A\",\"#EEE51B\",\"#F1E51C\",\"#F3E51E\",\"#F6E61F\",\"#F8E621\",\"#FAE622\",\"#FDE724\"]},\"id\":\"4794\",\"type\":\"LinearColorMapper\"},{\"attributes\":{\"fill_alpha\":{\"value\":0.1},\"fill_color\":{\"value\":\"#1f77b4\"},\"line_alpha\":{\"value\":0.1},\"line_color\":{\"value\":\"#1f77b4\"},\"size\":{\"units\":\"screen\",\"value\":12},\"x\":{\"field\":\"x\"},\"y\":{\"field\":\"y\"}},\"id\":\"5221\",\"type\":\"Circle\"},{\"attributes\":{\"formatter\":{\"id\":\"5421\",\"type\":\"BasicTickFormatter\"},\"ticker\":{\"id\":\"5203\",\"type\":\"BasicTicker\"}},\"id\":\"5202\",\"type\":\"LinearAxis\"},{\"attributes\":{\"color_mapper\":{\"id\":\"4794\",\"type\":\"LinearColorMapper\"},\"dh\":{\"units\":\"data\",\"value\":100},\"dw\":{\"units\":\"data\",\"value\":100},\"image\":{\"field\":\"image\"},\"x\":{\"value\":0},\"y\":{\"value\":0}},\"id\":\"5215\",\"type\":\"Image\"},{\"attributes\":{\"data_source\":{\"id\":\"5214\",\"type\":\"ColumnDataSource\"},\"glyph\":{\"id\":\"5215\",\"type\":\"Image\"},\"hover_glyph\":null,\"muted_glyph\":null,\"nonselection_glyph\":{\"id\":\"5216\",\"type\":\"Image\"},\"selection_glyph\":null,\"view\":{\"id\":\"5218\",\"type\":\"CDSView\"}},\"id\":\"5217\",\"type\":\"GlyphRenderer\"},{\"attributes\":{\"ticker\":{\"id\":\"5198\",\"type\":\"BasicTicker\"}},\"id\":\"5201\",\"type\":\"Grid\"}],\"root_ids\":[\"5186\"]},\"title\":\"Bokeh Application\",\"version\":\"1.4.0\"}};\n",
       "  var render_items = [{\"docid\":\"498d26b5-9825-4c83-af75-daa7543f57db\",\"roots\":{\"5186\":\"90d070c7-f712-438a-b0c0-6ccf68dd37c9\"}}];\n",
       "  root.Bokeh.embed.embed_items_notebook(docs_json, render_items);\n",
       "\n",
       "  }\n",
       "  if (root.Bokeh !== undefined) {\n",
       "    embed_document(root);\n",
       "  } else {\n",
       "    var attempts = 0;\n",
       "    var timer = setInterval(function(root) {\n",
       "      if (root.Bokeh !== undefined) {\n",
       "        clearInterval(timer);\n",
       "        embed_document(root);\n",
       "      } else {\n",
       "        attempts++;\n",
       "        if (attempts > 100) {\n",
       "          clearInterval(timer);\n",
       "          console.log(\"Bokeh: ERROR: Unable to run BokehJS code because BokehJS library is missing\");\n",
       "        }\n",
       "      }\n",
       "    }, 10, root)\n",
       "  }\n",
       "})(window);"
      ],
      "application/vnd.bokehjs_exec.v0+json": ""
     },
     "metadata": {
      "application/vnd.bokehjs_exec.v0+json": {
       "id": "5186"
      }
     },
     "output_type": "display_data"
    }
   ],
   "source": [
    "show(kriging)"
   ]
  },
  {
   "cell_type": "markdown",
   "metadata": {
    "slideshow": {
     "slide_type": "subslide"
    }
   },
   "source": [
    "We can compare it to the results from the IDW excursus, as we used exactly the same input data there."
   ]
  },
  {
   "cell_type": "code",
   "execution_count": 113,
   "metadata": {
    "slideshow": {
     "slide_type": "skip"
    }
   },
   "outputs": [],
   "source": [
    "# load the idw result\n",
    "idw_result = np.load('./data/idw_result.npy', allow_pickle=True).astype(float)"
   ]
  },
  {
   "cell_type": "code",
   "execution_count": 133,
   "metadata": {
    "slideshow": {
     "slide_type": "skip"
    }
   },
   "outputs": [],
   "source": [
    "idw = figure(\n",
    "    title='IDW interpolation', x_range=(0,100), y_range=(0,100), tools=['hover,box_zoom,reset'],\n",
    "    tooltips=[('observation', '@z')], toolbar_location='left'\n",
    ")\n",
    "\n",
    "idw.image([idw_result], x=0, y=0, dw=100, dh=100, color_mapper=cmap)\n",
    "idw.circle('x', 'y', source=source, size=12, line_color='white', fill_color={'field': 'z', 'transform': cmap})"
   ]
  },
  {
   "cell_type": "code",
   "execution_count": 115,
   "metadata": {
    "scrolled": false,
    "slideshow": {
     "slide_type": "fragment"
    }
   },
   "outputs": [
    {
     "data": {
      "text/html": [
       "\n",
       "\n",
       "\n",
       "\n",
       "\n",
       "\n",
       "  <div class=\"bk-root\" id=\"c709995b-12dc-4049-aea5-82c64c41c2f0\" data-root-id=\"6460\"></div>\n"
      ]
     },
     "metadata": {},
     "output_type": "display_data"
    },
    {
     "data": {
      "application/javascript": [
       "(function(root) {\n",
       "  function embed_document(root) {\n",
       "    \n",
       "  var docs_json = {\"b6013a8d-0c83-4fc9-8993-68dc2d02343b\":{\"roots\":{\"references\":[{\"attributes\":{\"children\":[{\"id\":\"6459\",\"type\":\"ToolbarBox\"},{\"id\":\"6457\",\"type\":\"GridBox\"}]},\"id\":\"6460\",\"type\":\"Column\"},{\"attributes\":{\"data_source\":{\"id\":\"4793\",\"type\":\"ColumnDataSource\"},\"glyph\":{\"id\":\"5220\",\"type\":\"Circle\"},\"hover_glyph\":null,\"muted_glyph\":null,\"nonselection_glyph\":{\"id\":\"5221\",\"type\":\"Circle\"},\"selection_glyph\":null,\"view\":{\"id\":\"5223\",\"type\":\"CDSView\"}},\"id\":\"5222\",\"type\":\"GlyphRenderer\"},{\"attributes\":{\"ticker\":{\"id\":\"6409\",\"type\":\"BasicTicker\"}},\"id\":\"6412\",\"type\":\"Grid\"},{\"attributes\":{\"fill_color\":{\"field\":\"z\",\"transform\":{\"id\":\"4794\",\"type\":\"LinearColorMapper\"}},\"line_color\":{\"value\":\"white\"},\"size\":{\"units\":\"screen\",\"value\":12},\"x\":{\"field\":\"x\"},\"y\":{\"field\":\"y\"}},\"id\":\"6431\",\"type\":\"Circle\"},{\"attributes\":{\"tools\":[{\"id\":\"5207\",\"type\":\"HoverTool\"},{\"id\":\"5208\",\"type\":\"BoxZoomTool\"},{\"id\":\"5209\",\"type\":\"ResetTool\"},{\"id\":\"6418\",\"type\":\"HoverTool\"},{\"id\":\"6419\",\"type\":\"BoxZoomTool\"},{\"id\":\"6420\",\"type\":\"ResetTool\"}]},\"id\":\"6458\",\"type\":\"ProxyToolbar\"},{\"attributes\":{\"ticker\":{\"id\":\"5198\",\"type\":\"BasicTicker\"}},\"id\":\"5201\",\"type\":\"Grid\"},{\"attributes\":{\"source\":{\"id\":\"4793\",\"type\":\"ColumnDataSource\"}},\"id\":\"5223\",\"type\":\"CDSView\"},{\"attributes\":{},\"id\":\"6409\",\"type\":\"BasicTicker\"},{\"attributes\":{\"overlay\":{\"id\":\"6455\",\"type\":\"BoxAnnotation\"}},\"id\":\"6419\",\"type\":\"BoxZoomTool\"},{\"attributes\":{\"callback\":null,\"end\":100},\"id\":\"5189\",\"type\":\"Range1d\"},{\"attributes\":{\"color_mapper\":{\"id\":\"4794\",\"type\":\"LinearColorMapper\"},\"dh\":{\"units\":\"data\",\"value\":100},\"dw\":{\"units\":\"data\",\"value\":100},\"image\":{\"field\":\"image\"},\"x\":{\"value\":0},\"y\":{\"value\":0}},\"id\":\"5216\",\"type\":\"Image\"},{\"attributes\":{},\"id\":\"5425\",\"type\":\"UnionRenderers\"},{\"attributes\":{\"children\":[[{\"id\":\"5186\",\"subtype\":\"Figure\",\"type\":\"Plot\"},0,0],[{\"id\":\"6397\",\"subtype\":\"Figure\",\"type\":\"Plot\"},0,1]]},\"id\":\"6457\",\"type\":\"GridBox\"},{\"attributes\":{\"below\":[{\"id\":\"5197\",\"type\":\"LinearAxis\"}],\"center\":[{\"id\":\"5201\",\"type\":\"Grid\"},{\"id\":\"5206\",\"type\":\"Grid\"}],\"height\":400,\"left\":[{\"id\":\"5202\",\"type\":\"LinearAxis\"}],\"renderers\":[{\"id\":\"5217\",\"type\":\"GlyphRenderer\"},{\"id\":\"5222\",\"type\":\"GlyphRenderer\"}],\"title\":{\"id\":\"5187\",\"type\":\"Title\"},\"toolbar\":{\"id\":\"5210\",\"type\":\"Toolbar\"},\"toolbar_location\":null,\"width\":400,\"x_range\":{\"id\":\"5189\",\"type\":\"Range1d\"},\"x_scale\":{\"id\":\"5193\",\"type\":\"LinearScale\"},\"y_range\":{\"id\":\"5191\",\"type\":\"Range1d\"},\"y_scale\":{\"id\":\"5195\",\"type\":\"LinearScale\"}},\"id\":\"5186\",\"subtype\":\"Figure\",\"type\":\"Plot\"},{\"attributes\":{},\"id\":\"6404\",\"type\":\"LinearScale\"},{\"attributes\":{\"bottom_units\":\"screen\",\"fill_alpha\":{\"value\":0.5},\"fill_color\":{\"value\":\"lightgrey\"},\"left_units\":\"screen\",\"level\":\"overlay\",\"line_alpha\":{\"value\":1.0},\"line_color\":{\"value\":\"black\"},\"line_dash\":[4,4],\"line_width\":{\"value\":2},\"render_mode\":\"css\",\"right_units\":\"screen\",\"top_units\":\"screen\"},\"id\":\"5428\",\"type\":\"BoxAnnotation\"},{\"attributes\":{},\"id\":\"5203\",\"type\":\"BasicTicker\"},{\"attributes\":{},\"id\":\"6406\",\"type\":\"LinearScale\"},{\"attributes\":{\"fill_alpha\":{\"value\":0.1},\"fill_color\":{\"value\":\"#1f77b4\"},\"line_alpha\":{\"value\":0.1},\"line_color\":{\"value\":\"#1f77b4\"},\"size\":{\"units\":\"screen\",\"value\":12},\"x\":{\"field\":\"x\"},\"y\":{\"field\":\"y\"}},\"id\":\"6432\",\"type\":\"Circle\"},{\"attributes\":{},\"id\":\"6414\",\"type\":\"BasicTicker\"},{\"attributes\":{},\"id\":\"5424\",\"type\":\"Selection\"},{\"attributes\":{\"active_drag\":\"auto\",\"active_inspect\":\"auto\",\"active_multi\":null,\"active_scroll\":\"auto\",\"active_tap\":\"auto\",\"tools\":[{\"id\":\"6418\",\"type\":\"HoverTool\"},{\"id\":\"6419\",\"type\":\"BoxZoomTool\"},{\"id\":\"6420\",\"type\":\"ResetTool\"}]},\"id\":\"6421\",\"type\":\"Toolbar\"},{\"attributes\":{\"source\":{\"id\":\"6425\",\"type\":\"ColumnDataSource\"}},\"id\":\"6429\",\"type\":\"CDSView\"},{\"attributes\":{},\"id\":\"5064\",\"type\":\"UnionRenderers\"},{\"attributes\":{\"dimension\":1,\"ticker\":{\"id\":\"5203\",\"type\":\"BasicTicker\"}},\"id\":\"5206\",\"type\":\"Grid\"},{\"attributes\":{},\"id\":\"5421\",\"type\":\"BasicTickFormatter\"},{\"attributes\":{\"callback\":null,\"data\":{\"image\":[{\"__ndarray__\":\"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\",\"dtype\":\"float64\",\"shape\":[41,41]}]},\"selected\":{\"id\":\"6451\",\"type\":\"Selection\"},\"selection_policy\":{\"id\":\"6452\",\"type\":\"UnionRenderers\"}},\"id\":\"6425\",\"type\":\"ColumnDataSource\"},{\"attributes\":{\"overlay\":{\"id\":\"5428\",\"type\":\"BoxAnnotation\"}},\"id\":\"5208\",\"type\":\"BoxZoomTool\"},{\"attributes\":{\"formatter\":{\"id\":\"6450\",\"type\":\"BasicTickFormatter\"},\"ticker\":{\"id\":\"6409\",\"type\":\"BasicTicker\"}},\"id\":\"6408\",\"type\":\"LinearAxis\"},{\"attributes\":{\"bottom_units\":\"screen\",\"fill_alpha\":{\"value\":0.5},\"fill_color\":{\"value\":\"lightgrey\"},\"left_units\":\"screen\",\"level\":\"overlay\",\"line_alpha\":{\"value\":1.0},\"line_color\":{\"value\":\"black\"},\"line_dash\":[4,4],\"line_width\":{\"value\":2},\"render_mode\":\"css\",\"right_units\":\"screen\",\"top_units\":\"screen\"},\"id\":\"6455\",\"type\":\"BoxAnnotation\"},{\"attributes\":{\"below\":[{\"id\":\"6408\",\"type\":\"LinearAxis\"}],\"center\":[{\"id\":\"6412\",\"type\":\"Grid\"},{\"id\":\"6417\",\"type\":\"Grid\"}],\"height\":400,\"left\":[{\"id\":\"6413\",\"type\":\"LinearAxis\"}],\"renderers\":[{\"id\":\"6428\",\"type\":\"GlyphRenderer\"},{\"id\":\"6433\",\"type\":\"GlyphRenderer\"}],\"title\":{\"id\":\"6398\",\"type\":\"Title\"},\"toolbar\":{\"id\":\"6421\",\"type\":\"Toolbar\"},\"toolbar_location\":null,\"width\":400,\"x_range\":{\"id\":\"6400\",\"type\":\"Range1d\"},\"x_scale\":{\"id\":\"6404\",\"type\":\"LinearScale\"},\"y_range\":{\"id\":\"6402\",\"type\":\"Range1d\"},\"y_scale\":{\"id\":\"6406\",\"type\":\"LinearScale\"}},\"id\":\"6397\",\"subtype\":\"Figure\",\"type\":\"Plot\"},{\"attributes\":{\"callback\":null,\"end\":100},\"id\":\"6402\",\"type\":\"Range1d\"},{\"attributes\":{\"callback\":null,\"data\":{\"image\":[[[0.5878833944083749,0.31108808513209796,0.017084704147240753,-0.28087101839867096,-1.1671753498130877,-1.3645483014684963,-1.5260617303055546,-1.6442212064922739,-1.8290930828730185,-1.8127758313138833,-1.7520451803973929,-1.6525368961918834,-1.5227974689864787,-1.5347840429040556,-1.3159043040224583,-1.066017120873177,-0.9307288733825279,-0.8184152198281659,-0.652773115496456,-0.613272126817133,-0.6096804371254805,-0.5898146589554677,-0.7266655428953444,-0.5361691905393305,-0.6707961142008436,-0.7691143062884562,-0.8763239126256228,-0.9909236765921273,-1.1123986150382619,-1.2411040461234617,-1.3780383775182667,-1.5245321935940908,-1.9463169399585023,-2.188962303646963,-2.4454280518237983,-2.7134908737638397,-2.9899311560904938,-3.270502561304303,-3.550011587732925,-3.822504048183192,-2.9691607316547692],[0.7907771490634616,0.4988179553522669,0.18419125522194857,-0.13899350032173602,-0.4558322543674511,-1.2575098418603172,-1.4482957034045347,-1.59457942474995,-1.6902942894621673,-1.8191552616310926,-1.7781020286178806,-1.6929333850456818,-1.5715898491468379,-1.4246885384512868,-1.3427898955396285,-1.0836135809761074,-0.9510931435040382,-0.8413645242428067,-0.7317578328625395,-0.7018486462091711,-0.7074899914546177,-0.8054947375021123,-0.7644704264560399,-0.8343301127191226,-0.930862739477291,-1.0088757980989929,-1.0878071548840227,-1.1671917532126943,-1.2479110712826196,-1.3319974535435979,-1.5726727285765887,-1.7268608878465699,-1.8971639094735844,-2.085019253112005,-2.2910242804439522,-2.5146297494219834,-2.753934058252953,-3.0056032387280336,-3.2649281494997964,-3.5260157403809043,-3.7820973624754224],[0.9884914215204387,0.6867704364367877,0.35668841141911123,0.0130171964614135,-0.32835263813897186,-1.128056269085242,-1.3467792548788278,-1.520729477411762,-1.6423925519374833,-1.7984582063806287,-1.7790707142231827,-1.7107285173790916,-1.6005910385807856,-1.45881975250792,-1.2978486096991855,-1.0886371966266182,-0.9603902880609269,-0.854426131724905,-0.7977247278506532,-0.7774870295725139,-0.7918299462207351,-0.9981121572914753,-1.0372759964625808,-1.1090888704861952,-1.1676858245161705,-1.2226946281773943,-1.2704274483674092,-1.3115452587569931,-1.3484217220147325,-1.510307105196775,-1.5917508589766296,-1.6855167220162484,-1.795777457756386,-1.926163165935801,-2.0792786654431756,-2.2563002874828357,-2.456693970686734,-2.678083914617463,-2.9162854520733528,-3.165499084107835,-2.6685456898786537],[1.1710107535468564,0.865818318093784,0.5265170485062471,0.16831560943434173,-0.1921226127365837,-0.5377593599488112,-1.1149348851378487,-1.4236899883771255,-1.570588607632854,-1.6589991100066515,-1.7521740678077533,-1.702422313778415,-1.605769153545338,-1.4717392079953409,-1.3124663885074361,-1.081428810136498,-0.9585000180635607,-0.8570398808383494,-0.7860286645842498,-0.8369733727911071,-0.8589884334507479,-1.2001100001656968,-1.2750580214345069,-1.3458129432524628,-1.3685922775705808,-1.3986762311177041,-1.4133448278509682,-1.4144437406046166,-1.519169685099915,-1.5368412005741903,-1.5587457970511671,-1.591276727398822,-1.6408418021129494,-1.713236625211004,-1.8130537934146227,-1.9431851220783547,-2.104464616433086,-2.2954856296609885,-2.5126081276520265,-2.136308013890957,-2.444589956682216],[1.3275616584276453,1.0258873096221723,0.6845015224484196,0.31879636409180845,-0.054042607120054736,-0.41613601519820587,-0.9836453833019555,-1.2148021509107596,-1.395840197876468,-1.5868838583284823,-1.696224602701074,-1.6659366056707157,-1.5843333222619935,-1.4601365842026268,-1.304993536542128,-1.0625810304940488,-0.9454286924399149,-0.8486624422454444,-0.7814307076693666,-0.9481145599778475,-0.905469759700146,-1.3841815288801531,-1.4645879166127949,-1.5311337410128334,-1.5219148041361148,-1.5261183800383136,-1.5071126251178963,-1.5740562368904814,-1.5439582105113798,-1.5069038051476336,-1.4705908597174937,-1.4434843182125878,-1.4341085349821951,-1.4503137960547958,-1.4985844190980175,-1.5834519811902508,-1.707066835386938,-1.8689653422367387,-1.6528904442996541,-1.855549714814103,-2.1872984318435402],[1.4472300296274911,1.1565234196318417,0.8208571591440493,0.45553364293212384,0.07798052932745048,-0.29335316216792395,-0.6402271700259465,-1.0917326186134901,-1.2926841353507934,-1.4359581023962802,-1.5601449252132014,-1.600868316811306,-1.5350187689375883,-1.422063558199259,-1.2729895967693337,-1.0328998453458975,-0.9212988939747934,-0.8287834635163993,-0.7645955726193249,-0.9760992347907778,-1.0111607224222645,-1.512815807315565,-1.5945320247115184,-1.6537382171282284,-1.617669608183568,-1.6734919730445608,-1.6410992784847125,-1.5835860541658218,-1.506624435444276,-1.4180371652884123,-1.3272524775784325,-1.244601624060326,-1.1805187063338323,-1.1447129383846097,-1.14538678865496,-1.1885692500133227,-1.2776222594338806,-1.1670429331218652,-1.3431913989692006,-1.633924846068422,-1.9082268350940434],[1.5196739566677104,1.2475669679012784,0.9258140788062895,0.5693447959946696,0.19552871635102048,-0.17691632615879344,-0.5291658159904054,-0.9599550298693208,-1.1767465388835217,-1.336959439439003,-1.4340083516219164,-1.4653590329270074,-1.4582742305372534,-1.35715675055374,-1.215453220022781,-0.9933573393738716,-0.8863401763956981,-0.7969519645262133,-0.7344584493192325,-0.9712675154212825,-1.0116113940291753,-1.5774869849430437,-1.6561474177580553,-1.7050705672630004,-1.712337140593632,-1.6836393475546294,-1.6198797705240573,-1.5249832968206676,-1.4056549881974751,-1.2709927705018103,-1.1318850078347273,-1.0002395807701356,-0.8881083241465227,-0.8067816785034041,-0.7659318991997561,-0.7728787473902481,-0.7113251672398145,-0.8426711809044422,-1.0184329124648985,-1.3336449730228603,-1.6207716082335073],[1.7305670275831033,1.2898883506408432,0.9903165570346103,0.6514420111895028,0.29026671060628095,-0.07454240723703646,-0.4238888705983631,-0.7395566693488842,-1.0533598687098562,-1.2264568556495967,-1.3373337402704415,-1.3821246044615407,-1.3611563669667939,-1.26675334956468,-1.1329759538641933,-0.9450386330764591,-0.8408819297110609,-0.7528118882120226,-0.6900555820046054,-0.9314361710124283,-0.9728103984931447,-1.5726219652021618,-1.643848326721669,-1.6798930146836357,-1.669025310815442,-1.6172217787990095,-1.5254341779815774,-1.3981724478940178,-1.2429370186164932,-1.0698022819274047,-0.890774200528007,-0.7189707654347393,-0.5676919114816421,-0.4494569740050231,-0.37509149716532786,-0.35294075789703744,-0.3856449648484365,-0.5142148902386386,-0.6931138293084406,-1.0387447480540626,-1.1385234775792736],[1.6297082466192074,1.2761298119408726,1.0067454046763487,0.6941235474724332,0.35459125829088817,0.006437759034425179,-0.3312970394102784,-0.6401315676125595,-0.9284803914051483,-1.1093950591602453,-1.2302387199722857,-1.2858911173893053,-1.2753890424732015,-1.1538846107174396,-1.0277839419066634,-0.8890866437335155,-0.7853489241114922,-0.6961445263542554,-0.8299142791525758,-0.855755463983223,-0.8933691065072827,-1.4959915017977818,-1.555600643029955,-1.5766631462155787,-1.5471587838108587,-1.4748167627679094,-1.359680599303063,-1.2066484373805872,-1.023733177753631,-0.8216323612290145,-0.6130657193740869,-0.4119297813752155,-0.23233727642340832,-0.08762094643830912,0.010614577328186377,0.0033984019792698307,-0.06647174887818484,-0.197110353537928,-0.39940267411941943,-0.6257991880664012,-0.8847690710371877],[1.065801261813416,1.0908274823674526,0.9696033264256799,0.6914474321877446,0.38228198742129504,0.05969701937251475,-0.2576563186152731,-0.5513554060896257,-0.8082806524698926,-0.9911017960654834,-1.1171492587359522,-1.1801695346600203,-1.177963162475766,-1.1124406206220312,-1.0726390117351605,-0.9041204835505774,-0.7202596591228024,-0.6269145166451994,-0.692690243793662,-0.7448569263488101,-0.7735557748665983,-1.2518855652926382,-1.3931131236399734,-1.3943975636215105,-1.350138322148074,-1.2608226230325648,-1.1282014736296415,-0.9573374787694361,-0.7564380543564678,-0.5364287979679223,-0.3102927293988359,-0.0922239488892195,0.10333717168441878,0.2627079551270962,0.3106628816530304,0.3038407375407522,0.23044836568995036,0.047653780849976776,-0.1490128042959593,-0.39165565273946346,-0.668067728614002],[0.952163575250075,0.9248112310257411,0.7703728665411735,0.5702958553953621,0.36909588701351137,0.08049478882459735,-0.2080367555697978,-0.4784592843331423,-0.713922370250541,-0.8769038821421871,-1.002671719630303,-1.0687854940491524,-1.071905251373994,-1.0127168987607384,-1.060708463673802,-0.8800160930335849,-0.670989687162375,-0.5453153614107008,-0.5876920096985666,-0.6009181527781855,-0.6153896694823863,-1.0896792523506948,-1.092442813789106,-1.143797076239034,-1.085121044847467,-0.9832594692111966,-0.83997091131991,-0.6602407471789871,-0.4521304770229298,-0.22637242342587624,0.004266593419610797,0.2258064652109839,0.42399521496888876,0.5350129900327936,0.5875111100225796,0.5319799944166876,0.46389229727506737,0.2663759021793537,0.052816415552160406,-0.20674902145360047,-0.4998541345543291],[0.6982052002599601,0.6452180594700342,0.6022133999027189,0.4527902388121293,0.26807127063294617,0.05983142592088139,-0.1858181099355064,-0.4253696133150636,-0.6359783069847,-0.771735909437985,-0.8912527332717206,-0.9555937028589396,-0.9604119937008154,-0.9052368195115161,-0.7933982050638168,-0.8523648347876271,-0.6294158987280235,-0.48500244549920324,-0.4637425664361515,-0.42763393401078087,-0.8314242425625789,-0.8027895197461355,-0.8624142384969682,-0.8331658250288433,-0.7626565658448713,-0.6533495646957485,-0.5068726324606151,-0.32788456200984883,-0.1239522688469823,0.09481532316904889,0.3163563573710449,0.5274259072624878,0.6410552625782366,0.7892737005315346,0.8485980850734045,0.8734622964303342,0.8413059151418775,0.7525047604156638,0.6102937788421586,0.4205484530571769,-0.3413924793616586],[0.3368860660286554,0.34744302340448013,0.3856496561861959,0.29436784341825484,0.16170612831881676,0.00436242649717072,-0.14423940137166236,-0.3014083669621875,-0.5736390884354081,-0.7160862916185509,-0.7868538922241342,-0.8441961859028131,-0.8466157832176271,-0.792589596909276,-0.6842676716610363,-0.8181308454056557,-0.5807793907876533,-0.3539389444426637,-0.3237850494122551,-0.7084431574974603,-0.6579321960773322,-0.6037671504153308,-0.5808752241456985,-0.4753283254122109,-0.3961201539066233,-0.28490521917593636,-0.14304162154640512,0.02538440407727449,0.21364232569943728,0.4109931042996605,0.6014508135678958,0.7756256580201392,0.9248377042467693,0.9996899650684365,1.0451964415508626,1.0394469841261498,0.9807207453946652,0.8698651890283009,0.7102840476546213,0.031202465599775533,-0.32335187046034347],[0.04114523372652682,0.089318787586961,0.10087746782760243,0.10359804507240003,0.02600093612786037,-0.07593632387242093,-0.17222032377876492,-0.2846774291180421,-0.3886480169262689,-0.47323216974600024,-0.69267167530437,-0.7376912813346377,-0.7333687625919555,-0.6772642084488439,-0.5704228187199941,-0.7739607105988472,-0.5219381388839599,-0.256859964084332,-0.17136688261130972,-0.5317661151009426,-0.4461112543133271,-0.36225025261212607,-0.5615498275669388,-0.4361484412495127,-0.0009814220546434105,0.1064335341309142,0.24909346277934843,0.41754990352233523,0.5860160211623758,0.7489874650723927,0.9001277327676827,1.032642540691143,1.108107154186724,1.15690989116667,1.1621830055969775,1.1210261823893972,1.032581430765826,0.8981870968015264,0.3236695780261639,-0.010527542567295295,-0.38009110434330867],[-0.26774745603868233,-0.1872476008108942,-0.13764265633206746,-0.1187560825059182,-0.13208622040196452,-0.18333442349060775,-0.250138731442686,-0.32266561700439395,-0.3587191001016336,-0.4080245833358506,-0.43511894812771246,-0.4158025129177803,-0.6230662992489442,-0.5614991540597463,-0.45382190624253604,-0.7164320468831648,-0.4497707402597421,-0.17082450161732754,-0.010495067774448641,-0.32249793763959655,-0.19838669653612906,-0.34011230296749606,-0.21451231093969553,-0.07463588981564132,0.3838196181120266,0.5121761610840779,0.6542242915216067,0.791223833974733,0.92034379154376,1.0379629128408112,1.1706346007323578,1.202488666676832,1.2373091980129647,1.236445087698825,1.1969253833092286,1.117167809730524,0.9972286600699918,0.621092224857859,0.3986450908927509,0.14771868125156784,-0.126311424384716],[-0.5328986672091122,-0.4677159191873388,-0.38580462725245357,-0.3294666174211639,-0.30262678477016797,-0.30549182426194127,-0.32464264136362286,-0.3519166211424812,-0.37844515640472365,-0.3953636394096752,-0.36086464507791477,-0.32679668299443076,-0.2759259719892053,-0.23095009706254407,-0.35173902037026483,-0.6423294020886313,-0.361441562449779,-0.18876738885624567,-0.07435411214814527,-0.08267196447453251,0.26685110740063706,0.31101324729262125,0.4860744764621681,0.5632986201111135,0.7269217948884297,0.9951635250518794,1.1140185352161671,1.1232485635837741,1.2767932658064785,1.3175623421293052,1.34087054459259,1.3428924808363307,1.3199858501367445,1.2380151368096766,1.1511874094516086,0.8906299000070245,0.7077247960074526,0.49603431456311525,0.25869115453391955,-0.0003371492577941282,-0.27634600580857205],[-0.8307923538478942,-0.7790486512880418,-0.6979810257403954,-0.5936681193107245,-0.4740062260838496,-0.43224587885246335,-0.4068388610354182,-0.39123855359151427,-0.37812764532970744,-0.26121682784515576,-0.2160506244301979,-0.15903389432066267,-0.31453439767422503,-0.23809039880851834,-0.02699261281000864,-0.5297117036879533,-0.25669896202244735,-0.0507658020274821,0.12597784607429913,0.35069596944403403,0.5773583616536413,0.6740448631558116,0.8647293262814026,1.0350927073271599,1.123112678724212,1.3412872109109752,1.4243193015143263,1.4743159260292742,1.4816162244236102,1.4670232589795953,1.4314760257338839,1.3736447086332315,1.2923255713540354,1.1866359999808402,0.9449611753588324,0.7586165286434529,0.5485673871715208,0.31721761808820215,0.06752696520354035,-0.19698646464706582,-0.4722959852084817],[-1.1012250848933387,-1.0284779024653132,-0.9175176679438083,-0.7752998103275025,-0.6110130473043472,-0.5433694859105038,-0.4043171363419521,-0.3224742624176973,-0.3835700122260079,-0.19185668775375814,-0.11768836596374158,-0.039309333576498906,-0.170609103203959,-0.08806660761245715,0.01653308747033616,-0.6715008510231765,-0.1131576119751743,0.16645627320732334,0.3320174298705733,0.6215721064558177,0.788388957093398,1.0177093430534359,1.2072286392050726,1.3767329981387677,1.5238398862826414,1.6179350321407096,1.6666496491241025,1.6916603464187723,1.6581240406998001,1.5828172610615974,1.4719051398099992,1.3320331078836645,1.1699103317133108,0.9955674957593291,0.7968531350349211,0.5792448045560484,0.34508436331786513,0.09690469988930882,-0.16250382954676007,-0.43005851390548644,-0.7023892792068884],[-1.331821430089419,-1.2430216437939268,-1.1077480511248983,-0.9337086328879556,-0.7312419265470942,-0.5126758946126437,-0.4381640443656642,-0.31970949484180655,-0.21157199664820125,-0.11309400334868577,-0.023277061851371184,0.07040441730064367,0.16679179612593864,0.05632188614375888,0.15931045737117566,-0.05103822966638987,0.060319991695964255,0.3613228588417546,0.5781920518467873,0.7429918615560167,1.0860386732256064,1.2838427035018791,1.4889895444735226,1.6562507545932281,1.778940203135864,1.8510920735858545,1.8726518359995499,1.816441144652229,1.7264677221028775,1.596075660249211,1.4329511436762425,1.2451501900695563,1.0590533120473646,0.842350784032166,0.6101015378688002,0.36523593590195885,0.11050447895008186,-0.1514399812681037,-0.4179620491099091,-0.6863805657577421,-0.9539335769756592],[-1.511789312657909,-1.4127491918841384,-1.2598533443117979,-1.0614105755980967,-0.8287288674747914,-0.5754221117757397,-0.45922224364275166,-0.3112786431028004,-0.17432159705624822,-0.048360686065690134,0.0669981460493777,0.1723912079581984,0.2685289315578427,-0.03230087423571498,-0.3219733735434034,-0.06799326952307695,0.35783838241551386,0.6109314627335215,0.7437117814814741,1.023300178997084,1.3087929783203311,1.5437109126366144,1.7430170801380198,1.89718467478041,1.9799391778803865,2.0195986532298567,2.0023530050882026,1.9301501631570046,1.7246247084605162,1.545108608948769,1.3362437996629328,1.0944943148928545,0.907904311779946,0.6579440239134228,0.3974330498922528,0.12991536780323534,-0.14149337514951998,-0.41402797394244994,-0.6851832348514724,-0.9526274900558398,-1.2141336687707203],[-1.3533669464704003,-1.5297472141295838,-1.366837604365878,-1.1525261864696112,-0.8988766638521675,-0.6205456977051202,-0.20918154969378272,0.10099724575688165,-0.13894370967074868,0.42255557824670986,0.5822180463869281,0.7147063246626346,0.5848164025560072,0.6619062586494775,0.448911939403963,0.481130463399505,0.6075469821317498,0.7377498737595442,0.909625439910914,1.2913081345784163,1.5188508319352934,1.7467427534223217,1.9335201516094338,2.036049544849638,2.099780068861322,2.105066020341327,2.052063671337609,1.9433588607841776,1.7837776882392409,1.438577105469942,1.1655113667695056,0.9109395901043468,0.7310144642022998,0.45443500677899074,0.17152773212490002,-0.11364398883476429,-0.3976485014204443,-0.6776138634406275,-0.9511311124390313,-1.2161503700518774,-1.4708852354691242],[-1.3010269677117137,-1.3405990512676067,-1.014156416060218,-0.8711927848485688,-0.6483792290131905,-0.36413558907504673,-0.04001448012789938,0.07256224369426739,0.24433140100496295,0.42338154226772,0.5803724492820972,0.7102083747178606,0.642471819898449,0.7015478040766342,0.7214094426948121,0.7586015225749679,0.7818662549426237,0.8510708059156595,1.1799132844623705,1.5062744025401291,1.8192969735561073,2.0190160626539084,2.01335315992961,2.103279963881101,2.1362046573507416,2.1103088629020004,2.0262651865225068,1.8871821885203122,1.6984030867750897,1.467175576169965,0.9813651398316035,0.7010208616023877,0.5394348427862766,0.2433439902547365,-0.05576764477338007,-0.35342013984967036,-0.6459181274542205,-0.9302862094802562,-1.204170131776459,-1.4657218798321583,-1.9694489444093877],[-1.266893090985909,-1.3271098957635727,-1.299269308557804,-0.8877278006744582,-0.6742173249062839,-0.4013834901041593,-0.09154701018253303,0.3924059508425332,0.6863767098142791,0.9405907414206897,1.1367473392716338,1.5058611890217755,0.8469798117532432,0.6927437224684126,0.7459863930966527,0.7653615345168433,0.7745200304537524,0.7971073944776814,1.326164937451558,1.5411156314108447,2.0120510336004656,2.1253507708064334,2.0288151292051713,2.089615561814048,2.094069705758776,2.04085045729356,1.9310797491887033,1.7682644986940268,1.5580883637314873,1.3080765644450572,1.0155914119046496,0.7318721464347548,0.4258534085490243,0.03494550309739333,-0.2741231408024339,-0.5791238631390492,-0.9369825320232509,-1.257843324394527,-1.5754623146684146,-1.8850471855350932,-2.1816606090305277],[-0.5062922924520596,-0.9015740303948399,-1.1481790925789706,-1.3566637326803268,-1.1839670022965185,-0.9261290546396461,-0.610170300396813,-0.2644449563542831,0.9628639988620672,1.298460653100973,1.5240219907130252,1.6239791051202848,1.5901005385866158,0.43805997514917183,0.666600697220921,0.6940166801883384,0.6919355034850798,0.7022119420893627,1.0010342739915061,1.5982912300704164,1.765952900871915,1.5401771219691702,1.96907965423323,2.0022720557783993,1.9812016086328093,1.9050126722187424,1.7752014169019095,1.5955447052756468,1.371889911029628,1.1118225218838358,0.8309926541828425,0.5425814071047264,0.232326077825653,-0.09273443662447937,-0.5147118839020463,-0.8291109474585918,-1.1466085705755917,-1.4632903084849596,-1.7748399992490085,-2.0766684682240606,-2.3640866328564463],[-0.35785825881586786,-0.7637891954062104,-1.0239318991262074,-1.1405208147574764,-1.0805827099214134,-0.8636061692618583,-0.7181883610363734,-0.42302107962389335,0.6564179176388635,0.9206785163278967,1.0855456942005017,1.136801094444476,1.067244613934055,0.5268022668858144,0.5723884213532018,0.5701923937705569,0.5743436577315246,0.5896913277566183,0.6197463804646824,1.400713100800922,1.566404277837196,1.7041309237554367,1.5250280184671479,1.8510105001816572,1.8078385951498273,1.7133449395354483,1.56931992633381,1.3796829757040578,1.15027520613826,0.8885370979968604,0.6357424138377307,0.3497578069668015,0.04226584637983137,-0.2798984665144462,-0.6098421047336746,-1.0126630054890537,-1.3250829339534105,-1.635626787093016,-1.940084917962281,-2.234002413950353,-2.5128453307282146],[-0.19912738534218621,-0.6038419783820653,-0.8673970874575065,-0.993653189409658,-0.9769382883414883,-0.8686361153791761,-0.6724759182109834,-0.4354735730671441,-0.1912961247505015,0.2827756679018154,0.44941697351403853,0.5205421476979674,0.47814298463428223,0.27219609112404997,0.4090959592324684,0.41123234107683465,0.4213771003777338,0.44239142969175704,0.49773368619658215,1.311564825713726,1.411423423193134,1.4330979528044645,1.2844754204513253,1.2657901200500272,1.3111656710542472,1.477953966487433,1.3254574527890264,1.1324146095704188,0.904503217023982,0.6891624253569114,0.4390239880554884,0.16140580014472675,-0.1375192711372255,-0.45128272331380304,-0.7732946875384492,-1.1638894207002421,-1.4689718730845582,-1.772030000676166,-2.0689160596082794,-2.355237812898576,-2.6265233299046873],[-0.018859489067969165,-0.4135831351434558,-0.6709009822174228,-0.805054525039781,-0.8255254786536392,-0.7035739275310532,-0.5525105461968713,-0.37554758530046806,-0.20535397891874962,-0.07265707626687373,0.18286453919165313,0.1748209765949697,0.012643862065442574,0.1506280967313126,0.23308228358384253,0.33431947195811124,0.24476054846986675,0.124891567320842,0.35940339769381513,0.9940629248108531,1.0673284046131462,1.2557202395978055,1.2651639827560206,1.125051507609091,1.074894313504445,1.0774898504788621,1.0502459278575536,0.9451606513136334,0.6458781649354686,0.48681197132533605,0.24903678551005515,-0.015613006774113026,-0.301510478378424,-0.5825350167370066,-0.9050541680865256,-1.2382712463963683,-1.5754953929217226,-1.8723050586073615,-2.161615035011759,-2.4410254820952395,-2.7060384506085273],[0.08588151239529743,-0.2769504004550491,-0.5166822762278873,-0.6367332588283828,-0.6442151638410355,-0.5716482892078562,-0.4543991577655682,-0.32471561873644905,-0.21479741734893232,-0.15421209720743706,-0.16759635895908787,-0.17224919865087285,-0.20057591595430685,-0.13117109356535733,-0.10523755623135178,0.15255552266338035,0.26088648060323905,0.15374800537464287,0.21362489501929083,0.8350829254493101,0.8934272531019252,1.0440551539113554,1.0320038002879126,0.9131147426766076,0.8920740792084589,0.8116270473622028,0.7734967957524955,0.6976482946761444,0.5970707632916841,0.46820111065615994,0.29857027592224417,-0.15812563796006612,-0.42662295127751565,-0.7171273480455661,-1.0249193088024091,-1.344316072885946,-1.6688463959222124,-1.9914873608703676,-2.304949778503982,-2.4941911014808738,-2.7543437837333937],[0.9146858036425471,0.2702324992924447,-0.1628573353230099,-0.4077410536570304,-0.48311431017844947,-0.4221610744835314,-0.3307964740439658,-0.241448184698701,-0.1857792598071269,-0.1921066984728879,-0.28315187645515394,-0.47431274637293463,-0.3818558539597392,-0.27707580204838445,-0.2612943731443065,-0.017192967168076667,-0.15462799817473388,-0.12216843732403204,0.42487502260068677,0.6540848099560767,0.6974207046822393,0.7188032302298364,0.778288372590733,0.7296820898192256,0.6601343750053268,0.604770174690023,0.5313870195213438,0.46112849648615045,0.35886654378219407,0.2245352893352044,0.07148968137227542,-0.12667848940287263,-0.5546442972637665,-0.8279303498487094,-1.1193507589564309,-1.4235330286580399,-1.734255274743517,-2.0446765178329254,-2.3476190374225747,-2.6358847605537696,-2.9025844199715936],[0.40997326298839876,-0.03912720339457076,-0.28756704200743977,-0.36727358538555877,-0.32310298981477403,-0.20918981965463132,-0.2064041993460519,-0.14844821369794114,-0.13850636481843373,-0.20361386801609282,-0.3645543789072657,-0.634233826318322,-0.4310418846404464,-0.46301261449001285,-0.25122371097011553,-0.16527512880705397,-0.24018426151424965,-0.2120455741084446,0.3130182343585068,0.31594313270862456,0.4914014275863824,0.4976775105497815,0.5171836823111912,0.45463655027937344,0.42931756874625493,0.34822089048739313,0.30208761161222775,0.22811788738101801,0.12449669554831311,-0.008920152423687266,-0.14768311669673537,-0.34298371483215645,-0.5598944326830809,-0.9144107226705437,-1.1889332169729057,-1.4775129605649406,-1.7741886522520722,-2.0723098348913056,-2.364815789136932,-2.6445520737487658,-2.904603292857863],[-0.11907211456135902,-0.3918831695125701,-0.4766991904372609,-0.41339693795430654,-0.2539862098335175,-0.05851926005942827,0.10975132682440253,-0.07160362147944152,-0.09674290922620764,-0.20988643084020217,-0.4299342742097563,-0.7673883055477567,-0.5551340000374468,-0.6396162133784056,-0.4247405298368907,-0.3526697629554312,0.2742790137005897,0.34333789277234633,0.39296365877410255,0.19783718135836612,0.28787452744807746,0.2796276485303816,0.24912253578890511,0.18806410987590555,0.10418011619305348,0.13592398859399493,0.0842287531204722,0.006898772896002658,-0.09784312928938127,-0.23018749393032512,-0.3886811416476118,-0.5445276968376648,-0.7561056806093545,-0.9773008044895284,-1.2353686122021539,-1.508816580964034,-1.7919395293808087,-2.078275688593041,-2.3608818741740625,-2.6326497386534804,-2.886641572872576],[-0.6463928057169436,-0.7692430634629348,-0.7186029638012751,-0.5411991023930933,-0.2949969428741576,-0.04473826629328125,0.14320146373225195,0.20619439246527088,-0.08594662310276986,-0.23424796315428967,-0.5000406699660065,-0.8915974352580671,-0.713247713209019,-0.8485321224367827,-0.9314205067679722,-0.8673543060331046,0.11812899053452121,0.16088865831425947,0.18746484179996517,0.1962912124736192,0.09895214267560366,0.07673727377517522,0.03356006928163126,-0.057017545387851955,-0.14685170561962002,-0.057644327447762767,-0.11439550665660514,-0.19477454035889558,-0.3004880890780319,-0.4317391193586322,-0.5871657044923705,-0.7638883996089896,-0.9319116704345071,-1.149678339172864,-1.261250244087968,-1.5207128241411898,-1.7913368369738318,-2.066839848614588,-2.340393990364744,-2.6049413164494983,-2.853531672947118],[-1.1372553132335097,-1.1423005040477476,-0.9900949641454598,-0.7328831271776164,-0.4331715034758999,-0.15897465006657105,0.021544552636182563,0.045581553895655325,-0.13913845445625334,-0.5699813946481049,-0.5964463439525478,-0.7120748098035335,-0.9234475569283686,-1.1045886553828086,-1.0610132150898832,-1.0900852494847362,-0.9343549048929991,-0.00015038977458483455,0.006842830590382085,-0.0008408729260966641,-0.08532681781323972,-0.10003500333927037,-0.15489820788020997,-0.22880394785807598,-0.38906884048090923,-0.15732494697487334,-0.2869209831553928,-0.37008239280754596,-0.4767017778610153,-0.6069599103479123,-0.7595515859921329,-0.9317263431705086,-1.08301024454369,-1.2934707488681627,-1.5076869635448729,-1.5168998737172286,-1.776452091744264,-2.042343643951925,-2.3078591573536955,-2.565998503004416,-2.809815396138493],[-1.5499568830827326,-1.4733972508524658,-1.2574758247179196,-0.9584495902955837,-0.6417938481959051,-0.3772463742728728,-0.23332167351630445,-0.27176458241176715,-0.5424291821294165,-1.0790367507605212,-1.8961882001824193,-0.9530674967185133,-1.201931371751047,-1.1516735750595972,-1.2546047856076405,-1.2961377471475573,-1.1064633148757579,-1.0024726601999627,-0.14140503413962988,-0.16143416900502072,-0.1596052010766572,-0.258381067597134,-0.30714684573571815,-0.4494003078482292,-0.5558952090966011,-0.6668375940917779,-0.4277739994014132,-0.5134931008133432,-0.6210210006400978,-0.750482307033812,-0.900593774608603,-1.068700586412056,-1.2509071226523627,-1.409747489370465,-1.6153440526562177,-1.5012309366380128,-1.7513249992640014,-2.0089335239514927,-2.267452110207327,-2.5199498494959927,-2.7595069947254873],[-1.8384609256903808,-1.7185347126498678,-1.4787106366283687,-1.177647634443728,-0.8821274147253494,-0.6619920772746649,-0.5846276080697251,-0.7094658310029639,-1.0829878463364866,-1.734673724561578,-2.6742597163807043,-3.1998520632039527,-2.6179599917303094,-1.3395437133230748,-1.442313530433081,-1.4850364855789469,-1.2629511985167448,-1.1526711214753602,-0.9869933038067997,-0.27986894710151355,-0.1587890857368651,-0.32335700574217646,-0.41633228415849605,-0.5606191778930988,-0.675674505969061,-0.794190542603357,-0.9162241373260711,-0.6210386309008136,-0.7295241737094758,-0.8584469080439918,-1.0065121229773994,-1.1711278925438702,-1.3485286500141516,-1.5339778850912338,-1.6942809804047438,-1.8869495035489257,-1.7197262527092512,-1.9703388150034327,-2.222809873396726,-2.4702935818210667,-2.705925201438791],[-1.9557748902962142,-1.8306653626343232,-1.6066214956663603,-1.3430608558275934,-1.106391007499115,-0.9649376223494314,-0.9834930115849739,-1.2179537659165924,-1.7105209293206838,-2.485893014880914,-3.548795122155919,-4.281372432461893,-3.277674837505897,-3.6701235229535505,-1.6241573077361562,-1.6570467329830796,-1.4079271922812766,-1.2858150312469054,-1.1083363028706659,-0.8859340754836973,-0.3676087460175471,-0.5001826488723662,-0.4932583217776836,-0.6224787333752668,-0.7445997775363453,-0.869452617078025,-0.9970569255393065,-0.6904940847094783,-0.8000055077335569,-0.9286714676366343,-1.0751552044499175,-1.236897139546567,-1.4102329999689243,-1.590586662062814,-1.7727223543426152,-1.9281942447518199,-2.101415258709667,-1.9297088685865782,-2.176892592742048,-2.419781574525646,-2.6515993959021835],[-1.8577908169678983,-1.7635895169328748,-1.592824476568827,-1.4040685391906405,-1.261728441572646,-1.2310583364126308,-1.372866012227775,-1.738369584126693,-2.364662090860194,-3.271194684397935,-4.457600211980548,-5.444234153520592,-3.713495679074429,-4.118322567101522,-4.06941217750843,-4.170833251044674,-1.5457611618798839,-1.4067496952624357,-1.2142190493693317,-0.9779631458300647,-0.4030364636648608,-0.3911724306301707,-0.5195977468846844,-0.6965693228334777,-0.7616087835361987,-0.8916496208646978,-1.0239654224794155,-1.1585952727598956,-0.8320443008530902,-0.9607180859638482,-1.1060659721009136,-1.2655338571884784,-1.4355329836293427,-1.6116242268966898,-1.7887580203834035,-1.9417763489487307,-2.1065952374212205,-2.2556652260792807,-2.1319132953619944,-2.370374926426512,-2.5982483937131886],[-1.5072422210690184,-1.4761043445310333,-1.392053281525147,-1.311322105789929,-1.2948117108342936,-1.4032788831131158,-1.6922862328071244,-2.207354287399568,-2.9797513113459577,-4.023307258581111,-5.472748692791178,-3.487780213761112,-3.994584265762459,-4.409875548642301,-4.690972006409228,-4.443662549649485,-4.354063901751233,-1.5204257443745304,-1.310153796417146,-1.0589328838415157,-0.32527387180822526,-0.2825866605665849,-0.2502240291452562,-0.36632414233393273,-0.7942094497273459,-0.8624915260403657,-0.9987227816021573,-1.1370240383255672,-0.6507915877566577,-0.9558561097184342,-1.1004468628810598,-1.258168326958287,-1.4254857269330823,-1.598076985980363,-1.7710612356949376,-1.939261844009048,-2.086644769851916,-2.2280685258210275,-2.0893332347007303,-2.323265576454848,-2.5468244412227268],[-0.8774004182365216,-0.936010209055839,-0.9664591058504892,-1.0213136318931502,-1.1566450962833719,-1.427472289833228,-1.883031429854688,-2.562290317055469,-3.4901152123969625,-4.674448555897224,-2.9693961601745844,-3.547475364233837,-4.073768958997313,-4.501124923704048,-4.787809143317116,-4.575616248684734,-4.460170648900496,-5.25993169332036,-1.4015095065783383,-1.1347223865614584,-0.32935063957776933,-0.2919683316373044,-0.2660276744135604,-0.3209822016621364,-0.3481882892601788,-0.8403014068256454,-0.9255387822087869,-1.06700915930786,-0.8688182473850316,-0.7572608692701769,-1.061029465783665,-1.2174120899937604,-1.382576812131518,-1.552303049147527,-1.7218645933057213,-1.886278871989271,-2.040569746560541,-2.1786668357757777,-2.2943641172975693,-2.2789535034023807,-2.4976103543780726],[0.044856351632362346,-0.12358037958695967,-0.2894678662460989,-0.5005958470239843,-0.8071117091667632,-1.2572861049644597,-1.8931669529572874,-2.746510440296852,-3.8353661518455464,-5.161642927886876,-2.757239422372607,-3.3673206072479163,-3.9173318692111643,-4.361274467101427,-4.658740109580858,-4.777645790833443,-4.40703495018267,-5.58382043070918,-4.813251586195426,-1.2107570540307275,-0.34931192755026536,-0.31461380996663474,-0.2928906287168306,-0.2651714921693645,-0.2806717302359693,-0.3235189798043574,-0.8416660452954573,-0.9548063523789211,-0.8214661621062604,-0.7129419147059062,-0.8548752787965596,-1.1471542640796497,-1.310527655064973,-1.4778512999583604,-1.6445437037865387,-1.8058074251094263,-1.95687652989302,-2.1104377348541834,-2.220537846930542,-2.309886751449175,-2.450354672366013],[1.2569168408840912,0.9658555778460323,0.6511866397133829,0.2707565022720338,-0.2188276285743167,-0.8583408707401154,-1.682028639471815,-2.713995812813011,-3.9652394801802817,0.015157036104460425,-2.2801185313428434,-2.9276807614677987,-3.5073316630400804,-3.9744917819968832,-4.290341589206176,-4.424423101191772,-4.183282851833489,-5.795549720684616,-5.0399522873594975,0.00825301982555364,-0.3895077273211577,-0.3549409534391762,-0.3351416243227228,-0.2054524288110397,-0.20767676525894882,-0.24087196686115458,-0.3034312294140288,-0.7888781169159306,-0.9567637667553187,-0.8886669418567542,-0.7881192732416884,-0.9407965773917782,-1.1031534499085325,-1.379222177758505,-1.5433926409185106,-1.7019355611419078,-1.8502899693290993,-1.9841779256404584,-2.0621404477244885,-2.217181940503071,-2.404428334011918]]]},\"selected\":{\"id\":\"5424\",\"type\":\"Selection\"},\"selection_policy\":{\"id\":\"5425\",\"type\":\"UnionRenderers\"}},\"id\":\"5214\",\"type\":\"ColumnDataSource\"},{\"attributes\":{\"callback\":null,\"end\":100},\"id\":\"6400\",\"type\":\"Range1d\"},{\"attributes\":{},\"id\":\"5193\",\"type\":\"LinearScale\"},{\"attributes\":{},\"id\":\"5195\",\"type\":\"LinearScale\"},{\"attributes\":{\"callback\":null,\"tooltips\":[[\"observation\",\"@z\"]]},\"id\":\"5207\",\"type\":\"HoverTool\"},{\"attributes\":{},\"id\":\"6450\",\"type\":\"BasicTickFormatter\"},{\"attributes\":{\"active_drag\":\"auto\",\"active_inspect\":\"auto\",\"active_multi\":null,\"active_scroll\":\"auto\",\"active_tap\":\"auto\",\"tools\":[{\"id\":\"5207\",\"type\":\"HoverTool\"},{\"id\":\"5208\",\"type\":\"BoxZoomTool\"},{\"id\":\"5209\",\"type\":\"ResetTool\"}]},\"id\":\"5210\",\"type\":\"Toolbar\"},{\"attributes\":{},\"id\":\"5209\",\"type\":\"ResetTool\"},{\"attributes\":{\"formatter\":{\"id\":\"5423\",\"type\":\"BasicTickFormatter\"},\"ticker\":{\"id\":\"5198\",\"type\":\"BasicTicker\"}},\"id\":\"5197\",\"type\":\"LinearAxis\"},{\"attributes\":{\"source\":{\"id\":\"4793\",\"type\":\"ColumnDataSource\"}},\"id\":\"6434\",\"type\":\"CDSView\"},{\"attributes\":{\"callback\":null,\"end\":100},\"id\":\"5191\",\"type\":\"Range1d\"},{\"attributes\":{\"color_mapper\":{\"id\":\"4794\",\"type\":\"LinearColorMapper\"},\"dh\":{\"units\":\"data\",\"value\":100},\"dw\":{\"units\":\"data\",\"value\":100},\"image\":{\"field\":\"image\"},\"x\":{\"value\":0},\"y\":{\"value\":0}},\"id\":\"6427\",\"type\":\"Image\"},{\"attributes\":{},\"id\":\"6452\",\"type\":\"UnionRenderers\"},{\"attributes\":{\"fill_color\":{\"field\":\"z\",\"transform\":{\"id\":\"4794\",\"type\":\"LinearColorMapper\"}},\"line_color\":{\"value\":\"white\"},\"size\":{\"units\":\"screen\",\"value\":12},\"x\":{\"field\":\"x\"},\"y\":{\"field\":\"y\"}},\"id\":\"5220\",\"type\":\"Circle\"},{\"attributes\":{},\"id\":\"5198\",\"type\":\"BasicTicker\"},{\"attributes\":{\"color_mapper\":{\"id\":\"4794\",\"type\":\"LinearColorMapper\"},\"dh\":{\"units\":\"data\",\"value\":100},\"dw\":{\"units\":\"data\",\"value\":100},\"image\":{\"field\":\"image\"},\"x\":{\"value\":0},\"y\":{\"value\":0}},\"id\":\"6426\",\"type\":\"Image\"},{\"attributes\":{},\"id\":\"5063\",\"type\":\"Selection\"},{\"attributes\":{\"text\":\"IDW interpolation\"},\"id\":\"6398\",\"type\":\"Title\"},{\"attributes\":{\"dimension\":1,\"ticker\":{\"id\":\"6414\",\"type\":\"BasicTicker\"}},\"id\":\"6417\",\"type\":\"Grid\"},{\"attributes\":{},\"id\":\"5423\",\"type\":\"BasicTickFormatter\"},{\"attributes\":{\"callback\":null,\"tooltips\":[[\"observation\",\"@z\"]]},\"id\":\"6418\",\"type\":\"HoverTool\"},{\"attributes\":{\"text\":\"Kriging interpolation\"},\"id\":\"5187\",\"type\":\"Title\"},{\"attributes\":{\"data_source\":{\"id\":\"6425\",\"type\":\"ColumnDataSource\"},\"glyph\":{\"id\":\"6426\",\"type\":\"Image\"},\"hover_glyph\":null,\"muted_glyph\":null,\"nonselection_glyph\":{\"id\":\"6427\",\"type\":\"Image\"},\"selection_glyph\":null,\"view\":{\"id\":\"6429\",\"type\":\"CDSView\"}},\"id\":\"6428\",\"type\":\"GlyphRenderer\"},{\"attributes\":{},\"id\":\"6448\",\"type\":\"BasicTickFormatter\"},{\"attributes\":{\"toolbar\":{\"id\":\"6458\",\"type\":\"ProxyToolbar\"},\"toolbar_location\":\"above\"},\"id\":\"6459\",\"type\":\"ToolbarBox\"},{\"attributes\":{\"callback\":null,\"data\":{\"index\":[0,1,2,3,4,5,6,7,8,9,10,11,12,13,14,15,16,17,18,19,20,21,22,23,24,25,26,27,28,29],\"x\":[22,3,12,9,78,41,35,38,99,43,52,49,83,85,65,1,11,14,55,21,92,71,76,17,62,7,13,10,14,23],\"y\":[78,73,85,69,43,6,60,18,87,50,83,3,75,45,68,39,71,87,97,22,17,30,31,71,45,97,28,40,83,73],\"z\":{\"__ndarray__\":\"yneAn5AMyr+SARWJagvFvxPIlMQlS+a/QBSCTBPI4b9JxGhcdZX0PwtWdk2IUO2/IEfKhQFR4j/qRdMT0Tbtv86ItjnAkQTAHWNJ0dFx6D9AnUV9tjfQv/gmqOse/ea/QpZCZGZw8L/gWAyp84XjP/UXQiuk9eY/q+noUhNs5r/u7x4/3tTZv+ZaZAlFMey/VpLsCFtU0r8xX7ywcSjtvy/cXIVLluG//ytpLee40j/Eex7hYWPpP0spcolSxcu/12KRp0pz/T+wRyNLI6fiv2CH/M6g1oQ/d33INR5W3r/EPkmwuTPVv4OwF7pej82/\",\"dtype\":\"float64\",\"shape\":[30]}},\"selected\":{\"id\":\"5063\",\"type\":\"Selection\"},\"selection_policy\":{\"id\":\"5064\",\"type\":\"UnionRenderers\"}},\"id\":\"4793\",\"type\":\"ColumnDataSource\"},{\"attributes\":{},\"id\":\"6420\",\"type\":\"ResetTool\"},{\"attributes\":{\"formatter\":{\"id\":\"6448\",\"type\":\"BasicTickFormatter\"},\"ticker\":{\"id\":\"6414\",\"type\":\"BasicTicker\"}},\"id\":\"6413\",\"type\":\"LinearAxis\"},{\"attributes\":{\"source\":{\"id\":\"5214\",\"type\":\"ColumnDataSource\"}},\"id\":\"5218\",\"type\":\"CDSView\"},{\"attributes\":{\"high\":2.386398,\"low\":-4.021554,\"palette\":[\"#440154\",\"#440255\",\"#440357\",\"#450558\",\"#45065A\",\"#45085B\",\"#46095C\",\"#460B5E\",\"#460C5F\",\"#460E61\",\"#470F62\",\"#471163\",\"#471265\",\"#471466\",\"#471567\",\"#471669\",\"#47186A\",\"#48196B\",\"#481A6C\",\"#481C6E\",\"#481D6F\",\"#481E70\",\"#482071\",\"#482172\",\"#482273\",\"#482374\",\"#472575\",\"#472676\",\"#472777\",\"#472878\",\"#472A79\",\"#472B7A\",\"#472C7B\",\"#462D7C\",\"#462F7C\",\"#46307D\",\"#46317E\",\"#45327F\",\"#45347F\",\"#453580\",\"#453681\",\"#443781\",\"#443982\",\"#433A83\",\"#433B83\",\"#433C84\",\"#423D84\",\"#423E85\",\"#424085\",\"#414186\",\"#414286\",\"#404387\",\"#404487\",\"#3F4587\",\"#3F4788\",\"#3E4888\",\"#3E4989\",\"#3D4A89\",\"#3D4B89\",\"#3D4C89\",\"#3C4D8A\",\"#3C4E8A\",\"#3B508A\",\"#3B518A\",\"#3A528B\",\"#3A538B\",\"#39548B\",\"#39558B\",\"#38568B\",\"#38578C\",\"#37588C\",\"#37598C\",\"#365A8C\",\"#365B8C\",\"#355C8C\",\"#355D8C\",\"#345E8D\",\"#345F8D\",\"#33608D\",\"#33618D\",\"#32628D\",\"#32638D\",\"#31648D\",\"#31658D\",\"#31668D\",\"#30678D\",\"#30688D\",\"#2F698D\",\"#2F6A8D\",\"#2E6B8E\",\"#2E6C8E\",\"#2E6D8E\",\"#2D6E8E\",\"#2D6F8E\",\"#2C708E\",\"#2C718E\",\"#2C728E\",\"#2B738E\",\"#2B748E\",\"#2A758E\",\"#2A768E\",\"#2A778E\",\"#29788E\",\"#29798E\",\"#287A8E\",\"#287A8E\",\"#287B8E\",\"#277C8E\",\"#277D8E\",\"#277E8E\",\"#267F8E\",\"#26808E\",\"#26818E\",\"#25828E\",\"#25838D\",\"#24848D\",\"#24858D\",\"#24868D\",\"#23878D\",\"#23888D\",\"#23898D\",\"#22898D\",\"#228A8D\",\"#228B8D\",\"#218C8D\",\"#218D8C\",\"#218E8C\",\"#208F8C\",\"#20908C\",\"#20918C\",\"#1F928C\",\"#1F938B\",\"#1F948B\",\"#1F958B\",\"#1F968B\",\"#1E978A\",\"#1E988A\",\"#1E998A\",\"#1E998A\",\"#1E9A89\",\"#1E9B89\",\"#1E9C89\",\"#1E9D88\",\"#1E9E88\",\"#1E9F88\",\"#1EA087\",\"#1FA187\",\"#1FA286\",\"#1FA386\",\"#20A485\",\"#20A585\",\"#21A685\",\"#21A784\",\"#22A784\",\"#23A883\",\"#23A982\",\"#24AA82\",\"#25AB81\",\"#26AC81\",\"#27AD80\",\"#28AE7F\",\"#29AF7F\",\"#2AB07E\",\"#2BB17D\",\"#2CB17D\",\"#2EB27C\",\"#2FB37B\",\"#30B47A\",\"#32B57A\",\"#33B679\",\"#35B778\",\"#36B877\",\"#38B976\",\"#39B976\",\"#3BBA75\",\"#3DBB74\",\"#3EBC73\",\"#40BD72\",\"#42BE71\",\"#44BE70\",\"#45BF6F\",\"#47C06E\",\"#49C16D\",\"#4BC26C\",\"#4DC26B\",\"#4FC369\",\"#51C468\",\"#53C567\",\"#55C666\",\"#57C665\",\"#59C764\",\"#5BC862\",\"#5EC961\",\"#60C960\",\"#62CA5F\",\"#64CB5D\",\"#67CC5C\",\"#69CC5B\",\"#6BCD59\",\"#6DCE58\",\"#70CE56\",\"#72CF55\",\"#74D054\",\"#77D052\",\"#79D151\",\"#7CD24F\",\"#7ED24E\",\"#81D34C\",\"#83D34B\",\"#86D449\",\"#88D547\",\"#8BD546\",\"#8DD644\",\"#90D643\",\"#92D741\",\"#95D73F\",\"#97D83E\",\"#9AD83C\",\"#9DD93A\",\"#9FD938\",\"#A2DA37\",\"#A5DA35\",\"#A7DB33\",\"#AADB32\",\"#ADDC30\",\"#AFDC2E\",\"#B2DD2C\",\"#B5DD2B\",\"#B7DD29\",\"#BADE27\",\"#BDDE26\",\"#BFDF24\",\"#C2DF22\",\"#C5DF21\",\"#C7E01F\",\"#CAE01E\",\"#CDE01D\",\"#CFE11C\",\"#D2E11B\",\"#D4E11A\",\"#D7E219\",\"#DAE218\",\"#DCE218\",\"#DFE318\",\"#E1E318\",\"#E4E318\",\"#E7E419\",\"#E9E419\",\"#ECE41A\",\"#EEE51B\",\"#F1E51C\",\"#F3E51E\",\"#F6E61F\",\"#F8E621\",\"#FAE622\",\"#FDE724\"]},\"id\":\"4794\",\"type\":\"LinearColorMapper\"},{\"attributes\":{},\"id\":\"6451\",\"type\":\"Selection\"},{\"attributes\":{\"fill_alpha\":{\"value\":0.1},\"fill_color\":{\"value\":\"#1f77b4\"},\"line_alpha\":{\"value\":0.1},\"line_color\":{\"value\":\"#1f77b4\"},\"size\":{\"units\":\"screen\",\"value\":12},\"x\":{\"field\":\"x\"},\"y\":{\"field\":\"y\"}},\"id\":\"5221\",\"type\":\"Circle\"},{\"attributes\":{\"data_source\":{\"id\":\"4793\",\"type\":\"ColumnDataSource\"},\"glyph\":{\"id\":\"6431\",\"type\":\"Circle\"},\"hover_glyph\":null,\"muted_glyph\":null,\"nonselection_glyph\":{\"id\":\"6432\",\"type\":\"Circle\"},\"selection_glyph\":null,\"view\":{\"id\":\"6434\",\"type\":\"CDSView\"}},\"id\":\"6433\",\"type\":\"GlyphRenderer\"},{\"attributes\":{\"color_mapper\":{\"id\":\"4794\",\"type\":\"LinearColorMapper\"},\"dh\":{\"units\":\"data\",\"value\":100},\"dw\":{\"units\":\"data\",\"value\":100},\"image\":{\"field\":\"image\"},\"x\":{\"value\":0},\"y\":{\"value\":0}},\"id\":\"5215\",\"type\":\"Image\"},{\"attributes\":{\"data_source\":{\"id\":\"5214\",\"type\":\"ColumnDataSource\"},\"glyph\":{\"id\":\"5215\",\"type\":\"Image\"},\"hover_glyph\":null,\"muted_glyph\":null,\"nonselection_glyph\":{\"id\":\"5216\",\"type\":\"Image\"},\"selection_glyph\":null,\"view\":{\"id\":\"5218\",\"type\":\"CDSView\"}},\"id\":\"5217\",\"type\":\"GlyphRenderer\"},{\"attributes\":{\"formatter\":{\"id\":\"5421\",\"type\":\"BasicTickFormatter\"},\"ticker\":{\"id\":\"5203\",\"type\":\"BasicTicker\"}},\"id\":\"5202\",\"type\":\"LinearAxis\"}],\"root_ids\":[\"6460\"]},\"title\":\"Bokeh Application\",\"version\":\"1.4.0\"}};\n",
       "  var render_items = [{\"docid\":\"b6013a8d-0c83-4fc9-8993-68dc2d02343b\",\"roots\":{\"6460\":\"c709995b-12dc-4049-aea5-82c64c41c2f0\"}}];\n",
       "  root.Bokeh.embed.embed_items_notebook(docs_json, render_items);\n",
       "\n",
       "  }\n",
       "  if (root.Bokeh !== undefined) {\n",
       "    embed_document(root);\n",
       "  } else {\n",
       "    var attempts = 0;\n",
       "    var timer = setInterval(function(root) {\n",
       "      if (root.Bokeh !== undefined) {\n",
       "        clearInterval(timer);\n",
       "        embed_document(root);\n",
       "      } else {\n",
       "        attempts++;\n",
       "        if (attempts > 100) {\n",
       "          clearInterval(timer);\n",
       "          console.log(\"Bokeh: ERROR: Unable to run BokehJS code because BokehJS library is missing\");\n",
       "        }\n",
       "      }\n",
       "    }, 10, root)\n",
       "  }\n",
       "})(window);"
      ],
      "application/vnd.bokehjs_exec.v0+json": ""
     },
     "metadata": {
      "application/vnd.bokehjs_exec.v0+json": {
       "id": "6460"
      }
     },
     "output_type": "display_data"
    }
   ],
   "source": [
    "show(gridplot([[kriging, idw]]))"
   ]
  },
  {
   "cell_type": "code",
   "execution_count": 143,
   "metadata": {
    "slideshow": {
     "slide_type": "skip"
    }
   },
   "outputs": [],
   "source": [
    "bins = np.linspace(np.min(kriged), np.max(kriged), 50)\n",
    "figs = []\n",
    "titles = ['Random Field', 'IDW', 'OK']\n",
    "\n",
    "# build the histogram plots\n",
    "for i, ds in enumerate((field_data, idw_result, np.array(kriged))):\n",
    "    f = figure(title=titles[i], width=400, height=140, tools=['pan,box_zoom,reset'], toolbar_location='right')\n",
    "    if i > 0:\n",
    "        f.x_range = figs[0].x_range\n",
    "\n",
    "    c, e = np.histogram(ds.flatten(), bins=bins)\n",
    "    f.quad(top=c, bottom=0, left=e[:-1], right=e[1:], \n",
    "           line_color='white', fill_color=['navy', 'orange', 'green'][i], fill_alpha=0.5)\n",
    "    figs.append(f)\n",
    "    \n",
    "# prepare gridplot\n",
    "idw.width = 390\n",
    "idw.height = 390\n",
    "idw.x_range = field.x_range\n",
    "idw.y_range = field.y_range\n",
    "kriging.width = 390\n",
    "kriging.height = 390\n",
    "kriging.x_range = field.x_range\n",
    "kriging.y_range = field.y_range"
   ]
  },
  {
   "cell_type": "code",
   "execution_count": 147,
   "metadata": {
    "scrolled": false,
    "slideshow": {
     "slide_type": "subslide"
    }
   },
   "outputs": [
    {
     "data": {
      "text/html": [
       "\n",
       "\n",
       "\n",
       "\n",
       "\n",
       "\n",
       "  <div class=\"bk-root\" id=\"45288598-d9f8-4838-b5c2-949b6d955bf9\" data-root-id=\"26930\"></div>\n"
      ]
     },
     "metadata": {},
     "output_type": "display_data"
    },
    {
     "data": {
      "application/javascript": [
       "(function(root) {\n",
       "  function embed_document(root) {\n",
       "    \n",
       "  var docs_json = {\"07c1d3c4-1236-409c-ad49-6963869cf52e\":{\"roots\":{\"references\":[{\"attributes\":{\"children\":[{\"id\":\"26929\",\"type\":\"ToolbarBox\"},{\"id\":\"26927\",\"type\":\"GridBox\"}]},\"id\":\"26930\",\"type\":\"Row\"},{\"attributes\":{},\"id\":\"22824\",\"type\":\"ResetTool\"},{\"attributes\":{\"formatter\":{\"id\":\"19177\",\"type\":\"BasicTickFormatter\"},\"ticker\":{\"id\":\"16513\",\"type\":\"BasicTicker\"}},\"id\":\"16512\",\"type\":\"LinearAxis\"},{\"attributes\":{\"fill_color\":{\"field\":\"z\",\"transform\":{\"id\":\"13106\",\"type\":\"LinearColorMapper\"}},\"line_color\":{\"value\":\"white\"},\"size\":{\"units\":\"screen\",\"value\":12},\"x\":{\"field\":\"x\"},\"y\":{\"field\":\"y\"}},\"id\":\"14190\",\"type\":\"Circle\"},{\"attributes\":{\"bottom_units\":\"screen\",\"fill_alpha\":{\"value\":0.5},\"fill_color\":{\"value\":\"lightgrey\"},\"left_units\":\"screen\",\"level\":\"overlay\",\"line_alpha\":{\"value\":1.0},\"line_color\":{\"value\":\"black\"},\"line_dash\":[4,4],\"line_width\":{\"value\":2},\"render_mode\":\"css\",\"right_units\":\"screen\",\"top_units\":\"screen\"},\"id\":\"15517\",\"type\":\"BoxAnnotation\"},{\"attributes\":{\"data_source\":{\"id\":\"16494\",\"type\":\"ColumnDataSource\"},\"glyph\":{\"id\":\"16530\",\"type\":\"Circle\"},\"hover_glyph\":null,\"muted_glyph\":null,\"nonselection_glyph\":{\"id\":\"16531\",\"type\":\"Circle\"},\"selection_glyph\":null,\"view\":{\"id\":\"16533\",\"type\":\"CDSView\"}},\"id\":\"16532\",\"type\":\"GlyphRenderer\"},{\"attributes\":{\"children\":[{\"id\":\"26863\",\"type\":\"GridBox\"},{\"id\":\"26865\",\"type\":\"ToolbarBox\"}]},\"id\":\"26866\",\"type\":\"Row\"},{\"attributes\":{\"data_source\":{\"id\":\"13105\",\"type\":\"ColumnDataSource\"},\"glyph\":{\"id\":\"14190\",\"type\":\"Circle\"},\"hover_glyph\":null,\"muted_glyph\":null,\"nonselection_glyph\":{\"id\":\"14191\",\"type\":\"Circle\"},\"selection_glyph\":null,\"view\":{\"id\":\"14193\",\"type\":\"CDSView\"}},\"id\":\"14192\",\"type\":\"GlyphRenderer\"},{\"attributes\":{},\"id\":\"5203\",\"type\":\"BasicTicker\"},{\"attributes\":{},\"id\":\"5424\",\"type\":\"Selection\"},{\"attributes\":{\"active_drag\":\"auto\",\"active_inspect\":\"auto\",\"active_multi\":null,\"active_scroll\":\"auto\",\"active_tap\":\"auto\",\"tools\":[{\"id\":\"14177\",\"type\":\"HoverTool\"},{\"id\":\"14178\",\"type\":\"BoxZoomTool\"},{\"id\":\"14179\",\"type\":\"ResetTool\"}]},\"id\":\"14180\",\"type\":\"Toolbar\"},{\"attributes\":{\"source\":{\"id\":\"16494\",\"type\":\"ColumnDataSource\"}},\"id\":\"16533\",\"type\":\"CDSView\"},{\"attributes\":{\"dimension\":1,\"ticker\":{\"id\":\"5203\",\"type\":\"BasicTicker\"}},\"id\":\"5206\",\"type\":\"Grid\"},{\"attributes\":{\"source\":{\"id\":\"13105\",\"type\":\"ColumnDataSource\"}},\"id\":\"14193\",\"type\":\"CDSView\"},{\"attributes\":{\"overlay\":{\"id\":\"5428\",\"type\":\"BoxAnnotation\"}},\"id\":\"5208\",\"type\":\"BoxZoomTool\"},{\"attributes\":{},\"id\":\"19181\",\"type\":\"UnionRenderers\"},{\"attributes\":{\"ticker\":{\"id\":\"22813\",\"type\":\"BasicTicker\"}},\"id\":\"22816\",\"type\":\"Grid\"},{\"attributes\":{\"active_drag\":\"auto\",\"active_inspect\":\"auto\",\"active_multi\":null,\"active_scroll\":\"auto\",\"active_tap\":\"auto\",\"tools\":[{\"id\":\"22822\",\"type\":\"PanTool\"},{\"id\":\"22823\",\"type\":\"BoxZoomTool\"},{\"id\":\"22824\",\"type\":\"ResetTool\"}]},\"id\":\"22825\",\"type\":\"Toolbar\"},{\"attributes\":{\"callback\":null,\"tooltips\":[[\"observation\",\"@z\"]]},\"id\":\"16517\",\"type\":\"HoverTool\"},{\"attributes\":{\"callback\":null,\"tooltips\":[[\"observation\",\"@z\"]]},\"id\":\"5207\",\"type\":\"HoverTool\"},{\"attributes\":{},\"id\":\"5209\",\"type\":\"ResetTool\"},{\"attributes\":{\"high\":2.386398,\"low\":-4.021554,\"palette\":[\"#440154\",\"#440255\",\"#440357\",\"#450558\",\"#45065A\",\"#45085B\",\"#46095C\",\"#460B5E\",\"#460C5F\",\"#460E61\",\"#470F62\",\"#471163\",\"#471265\",\"#471466\",\"#471567\",\"#471669\",\"#47186A\",\"#48196B\",\"#481A6C\",\"#481C6E\",\"#481D6F\",\"#481E70\",\"#482071\",\"#482172\",\"#482273\",\"#482374\",\"#472575\",\"#472676\",\"#472777\",\"#472878\",\"#472A79\",\"#472B7A\",\"#472C7B\",\"#462D7C\",\"#462F7C\",\"#46307D\",\"#46317E\",\"#45327F\",\"#45347F\",\"#453580\",\"#453681\",\"#443781\",\"#443982\",\"#433A83\",\"#433B83\",\"#433C84\",\"#423D84\",\"#423E85\",\"#424085\",\"#414186\",\"#414286\",\"#404387\",\"#404487\",\"#3F4587\",\"#3F4788\",\"#3E4888\",\"#3E4989\",\"#3D4A89\",\"#3D4B89\",\"#3D4C89\",\"#3C4D8A\",\"#3C4E8A\",\"#3B508A\",\"#3B518A\",\"#3A528B\",\"#3A538B\",\"#39548B\",\"#39558B\",\"#38568B\",\"#38578C\",\"#37588C\",\"#37598C\",\"#365A8C\",\"#365B8C\",\"#355C8C\",\"#355D8C\",\"#345E8D\",\"#345F8D\",\"#33608D\",\"#33618D\",\"#32628D\",\"#32638D\",\"#31648D\",\"#31658D\",\"#31668D\",\"#30678D\",\"#30688D\",\"#2F698D\",\"#2F6A8D\",\"#2E6B8E\",\"#2E6C8E\",\"#2E6D8E\",\"#2D6E8E\",\"#2D6F8E\",\"#2C708E\",\"#2C718E\",\"#2C728E\",\"#2B738E\",\"#2B748E\",\"#2A758E\",\"#2A768E\",\"#2A778E\",\"#29788E\",\"#29798E\",\"#287A8E\",\"#287A8E\",\"#287B8E\",\"#277C8E\",\"#277D8E\",\"#277E8E\",\"#267F8E\",\"#26808E\",\"#26818E\",\"#25828E\",\"#25838D\",\"#24848D\",\"#24858D\",\"#24868D\",\"#23878D\",\"#23888D\",\"#23898D\",\"#22898D\",\"#228A8D\",\"#228B8D\",\"#218C8D\",\"#218D8C\",\"#218E8C\",\"#208F8C\",\"#20908C\",\"#20918C\",\"#1F928C\",\"#1F938B\",\"#1F948B\",\"#1F958B\",\"#1F968B\",\"#1E978A\",\"#1E988A\",\"#1E998A\",\"#1E998A\",\"#1E9A89\",\"#1E9B89\",\"#1E9C89\",\"#1E9D88\",\"#1E9E88\",\"#1E9F88\",\"#1EA087\",\"#1FA187\",\"#1FA286\",\"#1FA386\",\"#20A485\",\"#20A585\",\"#21A685\",\"#21A784\",\"#22A784\",\"#23A883\",\"#23A982\",\"#24AA82\",\"#25AB81\",\"#26AC81\",\"#27AD80\",\"#28AE7F\",\"#29AF7F\",\"#2AB07E\",\"#2BB17D\",\"#2CB17D\",\"#2EB27C\",\"#2FB37B\",\"#30B47A\",\"#32B57A\",\"#33B679\",\"#35B778\",\"#36B877\",\"#38B976\",\"#39B976\",\"#3BBA75\",\"#3DBB74\",\"#3EBC73\",\"#40BD72\",\"#42BE71\",\"#44BE70\",\"#45BF6F\",\"#47C06E\",\"#49C16D\",\"#4BC26C\",\"#4DC26B\",\"#4FC369\",\"#51C468\",\"#53C567\",\"#55C666\",\"#57C665\",\"#59C764\",\"#5BC862\",\"#5EC961\",\"#60C960\",\"#62CA5F\",\"#64CB5D\",\"#67CC5C\",\"#69CC5B\",\"#6BCD59\",\"#6DCE58\",\"#70CE56\",\"#72CF55\",\"#74D054\",\"#77D052\",\"#79D151\",\"#7CD24F\",\"#7ED24E\",\"#81D34C\",\"#83D34B\",\"#86D449\",\"#88D547\",\"#8BD546\",\"#8DD644\",\"#90D643\",\"#92D741\",\"#95D73F\",\"#97D83E\",\"#9AD83C\",\"#9DD93A\",\"#9FD938\",\"#A2DA37\",\"#A5DA35\",\"#A7DB33\",\"#AADB32\",\"#ADDC30\",\"#AFDC2E\",\"#B2DD2C\",\"#B5DD2B\",\"#B7DD29\",\"#BADE27\",\"#BDDE26\",\"#BFDF24\",\"#C2DF22\",\"#C5DF21\",\"#C7E01F\",\"#CAE01E\",\"#CDE01D\",\"#CFE11C\",\"#D2E11B\",\"#D4E11A\",\"#D7E219\",\"#DAE218\",\"#DCE218\",\"#DFE318\",\"#E1E318\",\"#E4E318\",\"#E7E419\",\"#E9E419\",\"#ECE41A\",\"#EEE51B\",\"#F1E51C\",\"#F3E51E\",\"#F6E61F\",\"#F8E621\",\"#FAE622\",\"#FDE724\"]},\"id\":\"13106\",\"type\":\"LinearColorMapper\"},{\"attributes\":{\"callback\":null,\"tooltips\":[[\"observation\",\"@z\"]]},\"id\":\"14177\",\"type\":\"HoverTool\"},{\"attributes\":{\"active_drag\":\"auto\",\"active_inspect\":\"auto\",\"active_multi\":null,\"active_scroll\":\"auto\",\"active_tap\":\"auto\",\"tools\":[{\"id\":\"16517\",\"type\":\"HoverTool\"},{\"id\":\"16518\",\"type\":\"BoxZoomTool\"},{\"id\":\"16519\",\"type\":\"ResetTool\"}]},\"id\":\"16520\",\"type\":\"Toolbar\"},{\"attributes\":{\"source\":{\"id\":\"16524\",\"type\":\"ColumnDataSource\"}},\"id\":\"16528\",\"type\":\"CDSView\"},{\"attributes\":{\"source\":{\"id\":\"14184\",\"type\":\"ColumnDataSource\"}},\"id\":\"14188\",\"type\":\"CDSView\"},{\"attributes\":{\"below\":[{\"id\":\"14167\",\"type\":\"LinearAxis\"}],\"center\":[{\"id\":\"14171\",\"type\":\"Grid\"},{\"id\":\"14176\",\"type\":\"Grid\"}],\"height\":390,\"left\":[{\"id\":\"14172\",\"type\":\"LinearAxis\"}],\"renderers\":[{\"id\":\"14187\",\"type\":\"GlyphRenderer\"},{\"id\":\"14192\",\"type\":\"GlyphRenderer\"}],\"title\":{\"id\":\"14157\",\"type\":\"Title\"},\"toolbar\":{\"id\":\"14180\",\"type\":\"Toolbar\"},\"toolbar_location\":null,\"width\":390,\"x_range\":{\"id\":\"16499\",\"type\":\"Range1d\"},\"x_scale\":{\"id\":\"14163\",\"type\":\"LinearScale\"},\"y_range\":{\"id\":\"16501\",\"type\":\"Range1d\"},\"y_scale\":{\"id\":\"14165\",\"type\":\"LinearScale\"}},\"id\":\"14156\",\"subtype\":\"Figure\",\"type\":\"Plot\"},{\"attributes\":{\"data_source\":{\"id\":\"16524\",\"type\":\"ColumnDataSource\"},\"glyph\":{\"id\":\"16525\",\"type\":\"Image\"},\"hover_glyph\":null,\"muted_glyph\":null,\"nonselection_glyph\":{\"id\":\"16526\",\"type\":\"Image\"},\"selection_glyph\":null,\"view\":{\"id\":\"16528\",\"type\":\"CDSView\"}},\"id\":\"16527\",\"type\":\"GlyphRenderer\"},{\"attributes\":{\"color_mapper\":{\"id\":\"16495\",\"type\":\"LinearColorMapper\"},\"dh\":{\"units\":\"data\",\"value\":100},\"dw\":{\"units\":\"data\",\"value\":100},\"image\":{\"field\":\"image\"},\"x\":{\"value\":0},\"y\":{\"value\":0}},\"id\":\"16526\",\"type\":\"Image\"},{\"attributes\":{\"fill_alpha\":{\"value\":0.1},\"fill_color\":{\"value\":\"#1f77b4\"},\"line_alpha\":{\"value\":0.1},\"line_color\":{\"value\":\"#1f77b4\"},\"size\":{\"units\":\"screen\",\"value\":12},\"x\":{\"field\":\"x\"},\"y\":{\"field\":\"y\"}},\"id\":\"14191\",\"type\":\"Circle\"},{\"attributes\":{\"dimension\":1,\"ticker\":{\"id\":\"14173\",\"type\":\"BasicTicker\"}},\"id\":\"14176\",\"type\":\"Grid\"},{\"attributes\":{\"formatter\":{\"id\":\"22889\",\"type\":\"BasicTickFormatter\"},\"ticker\":{\"id\":\"22846\",\"type\":\"BasicTicker\"}},\"id\":\"22845\",\"type\":\"LinearAxis\"},{\"attributes\":{},\"id\":\"15513\",\"type\":\"Selection\"},{\"attributes\":{},\"id\":\"19182\",\"type\":\"Selection\"},{\"attributes\":{},\"id\":\"22818\",\"type\":\"BasicTicker\"},{\"attributes\":{\"fill_color\":{\"field\":\"z\",\"transform\":{\"id\":\"16495\",\"type\":\"LinearColorMapper\"}},\"line_color\":{\"value\":\"white\"},\"size\":{\"units\":\"screen\",\"value\":12},\"x\":{\"field\":\"x\"},\"y\":{\"field\":\"y\"}},\"id\":\"16530\",\"type\":\"Circle\"},{\"attributes\":{},\"id\":\"14163\",\"type\":\"LinearScale\"},{\"attributes\":{\"dimension\":1,\"ticker\":{\"id\":\"22851\",\"type\":\"BasicTicker\"}},\"id\":\"22854\",\"type\":\"Grid\"},{\"attributes\":{},\"id\":\"14173\",\"type\":\"BasicTicker\"},{\"attributes\":{},\"id\":\"22843\",\"type\":\"LinearScale\"},{\"attributes\":{},\"id\":\"14179\",\"type\":\"ResetTool\"},{\"attributes\":{\"dimension\":1,\"ticker\":{\"id\":\"22818\",\"type\":\"BasicTicker\"}},\"id\":\"22821\",\"type\":\"Grid\"},{\"attributes\":{\"formatter\":{\"id\":\"5421\",\"type\":\"BasicTickFormatter\"},\"ticker\":{\"id\":\"5203\",\"type\":\"BasicTicker\"}},\"id\":\"5202\",\"type\":\"LinearAxis\"},{\"attributes\":{\"dimension\":1,\"ticker\":{\"id\":\"16513\",\"type\":\"BasicTicker\"}},\"id\":\"16516\",\"type\":\"Grid\"},{\"attributes\":{\"overlay\":{\"id\":\"22883\",\"type\":\"BoxAnnotation\"}},\"id\":\"22823\",\"type\":\"BoxZoomTool\"},{\"attributes\":{},\"id\":\"16513\",\"type\":\"BasicTicker\"},{\"attributes\":{},\"id\":\"15512\",\"type\":\"BasicTickFormatter\"},{\"attributes\":{},\"id\":\"19183\",\"type\":\"UnionRenderers\"},{\"attributes\":{\"formatter\":{\"id\":\"15510\",\"type\":\"BasicTickFormatter\"},\"ticker\":{\"id\":\"14173\",\"type\":\"BasicTicker\"}},\"id\":\"14172\",\"type\":\"LinearAxis\"},{\"attributes\":{\"color_mapper\":{\"id\":\"13106\",\"type\":\"LinearColorMapper\"},\"dh\":{\"units\":\"data\",\"value\":100},\"dw\":{\"units\":\"data\",\"value\":100},\"image\":{\"field\":\"image\"},\"x\":{\"value\":0},\"y\":{\"value\":0}},\"id\":\"14185\",\"type\":\"Image\"},{\"attributes\":{},\"id\":\"5425\",\"type\":\"UnionRenderers\"},{\"attributes\":{\"text\":\"IDW interpolation\"},\"id\":\"14157\",\"type\":\"Title\"},{\"attributes\":{},\"id\":\"19177\",\"type\":\"BasicTickFormatter\"},{\"attributes\":{\"overlay\":{\"id\":\"19184\",\"type\":\"BoxAnnotation\"}},\"id\":\"16518\",\"type\":\"BoxZoomTool\"},{\"attributes\":{\"fill_alpha\":{\"value\":0.1},\"fill_color\":{\"value\":\"#1f77b4\"},\"line_alpha\":{\"value\":0.1},\"line_color\":{\"value\":\"#1f77b4\"},\"size\":{\"units\":\"screen\",\"value\":12},\"x\":{\"field\":\"x\"},\"y\":{\"field\":\"y\"}},\"id\":\"16531\",\"type\":\"Circle\"},{\"attributes\":{\"callback\":null,\"data\":{\"image\":[{\"__ndarray__\":\"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\",\"dtype\":\"float64\",\"shape\":[41,41]}]},\"selected\":{\"id\":\"15513\",\"type\":\"Selection\"},\"selection_policy\":{\"id\":\"15514\",\"type\":\"UnionRenderers\"}},\"id\":\"14184\",\"type\":\"ColumnDataSource\"},{\"attributes\":{},\"id\":\"22822\",\"type\":\"PanTool\"},{\"attributes\":{\"formatter\":{\"id\":\"22878\",\"type\":\"BasicTickFormatter\"},\"ticker\":{\"id\":\"22818\",\"type\":\"BasicTicker\"}},\"id\":\"22817\",\"type\":\"LinearAxis\"},{\"attributes\":{\"overlay\":{\"id\":\"15517\",\"type\":\"BoxAnnotation\"}},\"id\":\"14178\",\"type\":\"BoxZoomTool\"},{\"attributes\":{\"active_drag\":\"auto\",\"active_inspect\":\"auto\",\"active_multi\":null,\"active_scroll\":\"auto\",\"active_tap\":\"auto\",\"tools\":[{\"id\":\"5207\",\"type\":\"HoverTool\"},{\"id\":\"5208\",\"type\":\"BoxZoomTool\"},{\"id\":\"5209\",\"type\":\"ResetTool\"}]},\"id\":\"5210\",\"type\":\"Toolbar\"},{\"attributes\":{},\"id\":\"13188\",\"type\":\"Selection\"},{\"attributes\":{},\"id\":\"16519\",\"type\":\"ResetTool\"},{\"attributes\":{\"ticker\":{\"id\":\"14168\",\"type\":\"BasicTicker\"}},\"id\":\"14171\",\"type\":\"Grid\"},{\"attributes\":{\"bottom\":{\"value\":0},\"fill_alpha\":{\"value\":0.5},\"fill_color\":{\"value\":\"orange\"},\"left\":{\"field\":\"left\"},\"line_color\":{\"value\":\"white\"},\"right\":{\"field\":\"right\"},\"top\":{\"field\":\"top\"}},\"id\":\"22830\",\"type\":\"Quad\"},{\"attributes\":{\"color_mapper\":{\"id\":\"13106\",\"type\":\"LinearColorMapper\"},\"dh\":{\"units\":\"data\",\"value\":100},\"dw\":{\"units\":\"data\",\"value\":100},\"image\":{\"field\":\"image\"},\"x\":{\"value\":0},\"y\":{\"value\":0}},\"id\":\"14186\",\"type\":\"Image\"},{\"attributes\":{},\"id\":\"22851\",\"type\":\"BasicTicker\"},{\"attributes\":{\"children\":[[{\"id\":\"16496\",\"subtype\":\"Figure\",\"type\":\"Plot\"},0,0],[{\"id\":\"26866\",\"type\":\"Row\"},0,1],[{\"id\":\"14156\",\"subtype\":\"Figure\",\"type\":\"Plot\"},1,0],[{\"id\":\"5186\",\"subtype\":\"Figure\",\"type\":\"Plot\"},1,1]]},\"id\":\"26927\",\"type\":\"GridBox\"},{\"attributes\":{\"callback\":null},\"id\":\"22839\",\"type\":\"DataRange1d\"},{\"attributes\":{},\"id\":\"22841\",\"type\":\"LinearScale\"},{\"attributes\":{\"ticker\":{\"id\":\"22846\",\"type\":\"BasicTicker\"}},\"id\":\"22849\",\"type\":\"Grid\"},{\"attributes\":{\"data_source\":{\"id\":\"14184\",\"type\":\"ColumnDataSource\"},\"glyph\":{\"id\":\"14185\",\"type\":\"Image\"},\"hover_glyph\":null,\"muted_glyph\":null,\"nonselection_glyph\":{\"id\":\"14186\",\"type\":\"Image\"},\"selection_glyph\":null,\"view\":{\"id\":\"14188\",\"type\":\"CDSView\"}},\"id\":\"14187\",\"type\":\"GlyphRenderer\"},{\"attributes\":{\"color_mapper\":{\"id\":\"16495\",\"type\":\"LinearColorMapper\"},\"dh\":{\"units\":\"data\",\"value\":100},\"dw\":{\"units\":\"data\",\"value\":100},\"image\":{\"field\":\"image\"},\"x\":{\"value\":0},\"y\":{\"value\":0}},\"id\":\"16525\",\"type\":\"Image\"},{\"attributes\":{\"formatter\":{\"id\":\"22887\",\"type\":\"BasicTickFormatter\"},\"ticker\":{\"id\":\"22851\",\"type\":\"BasicTicker\"}},\"id\":\"22850\",\"type\":\"LinearAxis\"},{\"attributes\":{},\"id\":\"15514\",\"type\":\"UnionRenderers\"},{\"attributes\":{},\"id\":\"22846\",\"type\":\"BasicTicker\"},{\"attributes\":{\"bottom_units\":\"screen\",\"fill_alpha\":{\"value\":0.5},\"fill_color\":{\"value\":\"lightgrey\"},\"left_units\":\"screen\",\"level\":\"overlay\",\"line_alpha\":{\"value\":1.0},\"line_color\":{\"value\":\"black\"},\"line_dash\":[4,4],\"line_width\":{\"value\":2},\"render_mode\":\"css\",\"right_units\":\"screen\",\"top_units\":\"screen\"},\"id\":\"5428\",\"type\":\"BoxAnnotation\"},{\"attributes\":{\"callback\":null,\"end\":100},\"id\":\"16499\",\"type\":\"Range1d\"},{\"attributes\":{\"formatter\":{\"id\":\"22869\",\"type\":\"BasicTickFormatter\"},\"ticker\":{\"id\":\"22785\",\"type\":\"BasicTicker\"}},\"id\":\"22784\",\"type\":\"LinearAxis\"},{\"attributes\":{\"active_drag\":\"auto\",\"active_inspect\":\"auto\",\"active_multi\":null,\"active_scroll\":\"auto\",\"active_tap\":\"auto\",\"tools\":[{\"id\":\"22789\",\"type\":\"PanTool\"},{\"id\":\"22790\",\"type\":\"BoxZoomTool\"},{\"id\":\"22791\",\"type\":\"ResetTool\"}]},\"id\":\"22792\",\"type\":\"Toolbar\"},{\"attributes\":{\"overlay\":{\"id\":\"22874\",\"type\":\"BoxAnnotation\"}},\"id\":\"22790\",\"type\":\"BoxZoomTool\"},{\"attributes\":{\"formatter\":{\"id\":\"22880\",\"type\":\"BasicTickFormatter\"},\"ticker\":{\"id\":\"22813\",\"type\":\"BasicTicker\"}},\"id\":\"22812\",\"type\":\"LinearAxis\"},{\"attributes\":{\"callback\":null,\"data\":{\"left\":{\"__ndarray__\":\"vboClqQuF8AFydmr4ogWwEzXsMEg4xXAlOWH1149FcDc817tnJcUwCQCNgPb8RPAaxANGRlME8CzHuQuV6YSwPosu0SVABLAQjuSWtNaEcCKSWlwEbUQwNJXQIZPDxDAMswuOBvTDsDC6Nxjl4cNwFEFi48TPAzA4SE5u4/wCsBwPufmC6UJwP9alRKIWQjAj3dDPgQOB8AelPFpgMIFwK6wn5X8dgTAPc1NwXgrA8DM6fvs9N8BwFwGqhhxlADA1kWwiNqR/r/0fgzg0vr7vxS4aDfLY/m/NPHEjsPM9r9QKiHmuzX0v3BjfT20nvG/IDmzKVkP7r9Yq2vYSeHov5gdJIc6s+O/sB+5a1YK3b8gBCrJN67Sv0DRNU0ypMC/AJeh3ytQoD/gnAY9SMzIP/BpEsFCwtY/uMLQsTCP4D94UBgDQL3lP0DeX1RP6+o/ALbTUq8M8D/gfHf7tqPyP8RDG6S+OvU/pAq/TMbR9z+E0WL1zWj6P2iYBp7V//w/SF+qRt2W/z8=\",\"dtype\":\"float64\",\"shape\":[49]},\"right\":{\"__ndarray__\":\"BcnZq+KIFsBM17DBIOMVwJTlh9dePRXA3PNe7ZyXFMAkAjYD2/ETwGsQDRkZTBPAsx7kLlemEsD6LLtElQASwEI7klrTWhHAiklpcBG1EMDSV0CGTw8QwDLMLjgb0w7AwujcY5eHDcBRBYuPEzwMwOEhObuP8ArAcD7n5gulCcD/WpUSiFkIwI93Qz4EDgfAHpTxaYDCBcCusJ+V/HYEwD3NTcF4KwPAzOn77PTfAcBcBqoYcZQAwNZFsIjakf6/9H4M4NL6+78UuGg3y2P5vzTxxI7DzPa/UCoh5rs19L9wY309tJ7xvyA5sylZD+6/WKtr2Enh6L+YHSSHOrPjv7AfuWtWCt2/IAQqyTeu0r9A0TVNMqTAvwCXod8rUKA/4JwGPUjMyD/waRLBQsLWP7jC0LEwj+A/eFAYA0C95T9A3l9UT+vqPwC201KvDPA/4Hx3+7aj8j/EQxukvjr1P6QKv0zG0fc/hNFi9c1o+j9omAae1f/8P0hfqkbdlv8/FxOnd/IWAUA=\",\"dtype\":\"float64\",\"shape\":[49]},\"top\":[1,2,1,2,1,0,5,3,8,3,5,4,4,4,4,5,2,10,7,17,16,20,24,22,37,61,79,80,88,91,108,100,79,120,111,74,59,56,50,52,50,43,40,34,24,23,18,13,21]},\"selected\":{\"id\":\"22890\",\"type\":\"Selection\"},\"selection_policy\":{\"id\":\"22891\",\"type\":\"UnionRenderers\"}},\"id\":\"22862\",\"type\":\"ColumnDataSource\"},{\"attributes\":{\"ticker\":{\"id\":\"22780\",\"type\":\"BasicTicker\"}},\"id\":\"22783\",\"type\":\"Grid\"},{\"attributes\":{},\"id\":\"5064\",\"type\":\"UnionRenderers\"},{\"attributes\":{\"data_source\":{\"id\":\"22796\",\"type\":\"ColumnDataSource\"},\"glyph\":{\"id\":\"22797\",\"type\":\"Quad\"},\"hover_glyph\":null,\"muted_glyph\":null,\"nonselection_glyph\":{\"id\":\"22798\",\"type\":\"Quad\"},\"selection_glyph\":null,\"view\":{\"id\":\"22800\",\"type\":\"CDSView\"}},\"id\":\"22799\",\"type\":\"GlyphRenderer\"},{\"attributes\":{\"data_source\":{\"id\":\"22829\",\"type\":\"ColumnDataSource\"},\"glyph\":{\"id\":\"22830\",\"type\":\"Quad\"},\"hover_glyph\":null,\"muted_glyph\":null,\"nonselection_glyph\":{\"id\":\"22831\",\"type\":\"Quad\"},\"selection_glyph\":null,\"view\":{\"id\":\"22833\",\"type\":\"CDSView\"}},\"id\":\"22832\",\"type\":\"GlyphRenderer\"},{\"attributes\":{},\"id\":\"22889\",\"type\":\"BasicTickFormatter\"},{\"attributes\":{},\"id\":\"5421\",\"type\":\"BasicTickFormatter\"},{\"attributes\":{\"tools\":[{\"id\":\"16517\",\"type\":\"HoverTool\"},{\"id\":\"16518\",\"type\":\"BoxZoomTool\"},{\"id\":\"16519\",\"type\":\"ResetTool\"},{\"id\":\"22855\",\"type\":\"PanTool\"},{\"id\":\"22856\",\"type\":\"BoxZoomTool\"},{\"id\":\"22857\",\"type\":\"ResetTool\"},{\"id\":\"22789\",\"type\":\"PanTool\"},{\"id\":\"22790\",\"type\":\"BoxZoomTool\"},{\"id\":\"22791\",\"type\":\"ResetTool\"},{\"id\":\"22822\",\"type\":\"PanTool\"},{\"id\":\"22823\",\"type\":\"BoxZoomTool\"},{\"id\":\"22824\",\"type\":\"ResetTool\"},{\"id\":\"14177\",\"type\":\"HoverTool\"},{\"id\":\"14178\",\"type\":\"BoxZoomTool\"},{\"id\":\"14179\",\"type\":\"ResetTool\"},{\"id\":\"5207\",\"type\":\"HoverTool\"},{\"id\":\"5208\",\"type\":\"BoxZoomTool\"},{\"id\":\"5209\",\"type\":\"ResetTool\"}]},\"id\":\"26928\",\"type\":\"ProxyToolbar\"},{\"attributes\":{},\"id\":\"22791\",\"type\":\"ResetTool\"},{\"attributes\":{\"toolbar\":{\"id\":\"26864\",\"type\":\"ProxyToolbar\"}},\"id\":\"26865\",\"type\":\"ToolbarBox\"},{\"attributes\":{\"callback\":null,\"data\":{\"image\":[[[0.5878833944083749,0.31108808513209796,0.017084704147240753,-0.28087101839867096,-1.1671753498130877,-1.3645483014684963,-1.5260617303055546,-1.6442212064922739,-1.8290930828730185,-1.8127758313138833,-1.7520451803973929,-1.6525368961918834,-1.5227974689864787,-1.5347840429040556,-1.3159043040224583,-1.066017120873177,-0.9307288733825279,-0.8184152198281659,-0.652773115496456,-0.613272126817133,-0.6096804371254805,-0.5898146589554677,-0.7266655428953444,-0.5361691905393305,-0.6707961142008436,-0.7691143062884562,-0.8763239126256228,-0.9909236765921273,-1.1123986150382619,-1.2411040461234617,-1.3780383775182667,-1.5245321935940908,-1.9463169399585023,-2.188962303646963,-2.4454280518237983,-2.7134908737638397,-2.9899311560904938,-3.270502561304303,-3.550011587732925,-3.822504048183192,-2.9691607316547692],[0.7907771490634616,0.4988179553522669,0.18419125522194857,-0.13899350032173602,-0.4558322543674511,-1.2575098418603172,-1.4482957034045347,-1.59457942474995,-1.6902942894621673,-1.8191552616310926,-1.7781020286178806,-1.6929333850456818,-1.5715898491468379,-1.4246885384512868,-1.3427898955396285,-1.0836135809761074,-0.9510931435040382,-0.8413645242428067,-0.7317578328625395,-0.7018486462091711,-0.7074899914546177,-0.8054947375021123,-0.7644704264560399,-0.8343301127191226,-0.930862739477291,-1.0088757980989929,-1.0878071548840227,-1.1671917532126943,-1.2479110712826196,-1.3319974535435979,-1.5726727285765887,-1.7268608878465699,-1.8971639094735844,-2.085019253112005,-2.2910242804439522,-2.5146297494219834,-2.753934058252953,-3.0056032387280336,-3.2649281494997964,-3.5260157403809043,-3.7820973624754224],[0.9884914215204387,0.6867704364367877,0.35668841141911123,0.0130171964614135,-0.32835263813897186,-1.128056269085242,-1.3467792548788278,-1.520729477411762,-1.6423925519374833,-1.7984582063806287,-1.7790707142231827,-1.7107285173790916,-1.6005910385807856,-1.45881975250792,-1.2978486096991855,-1.0886371966266182,-0.9603902880609269,-0.854426131724905,-0.7977247278506532,-0.7774870295725139,-0.7918299462207351,-0.9981121572914753,-1.0372759964625808,-1.1090888704861952,-1.1676858245161705,-1.2226946281773943,-1.2704274483674092,-1.3115452587569931,-1.3484217220147325,-1.510307105196775,-1.5917508589766296,-1.6855167220162484,-1.795777457756386,-1.926163165935801,-2.0792786654431756,-2.2563002874828357,-2.456693970686734,-2.678083914617463,-2.9162854520733528,-3.165499084107835,-2.6685456898786537],[1.1710107535468564,0.865818318093784,0.5265170485062471,0.16831560943434173,-0.1921226127365837,-0.5377593599488112,-1.1149348851378487,-1.4236899883771255,-1.570588607632854,-1.6589991100066515,-1.7521740678077533,-1.702422313778415,-1.605769153545338,-1.4717392079953409,-1.3124663885074361,-1.081428810136498,-0.9585000180635607,-0.8570398808383494,-0.7860286645842498,-0.8369733727911071,-0.8589884334507479,-1.2001100001656968,-1.2750580214345069,-1.3458129432524628,-1.3685922775705808,-1.3986762311177041,-1.4133448278509682,-1.4144437406046166,-1.519169685099915,-1.5368412005741903,-1.5587457970511671,-1.591276727398822,-1.6408418021129494,-1.713236625211004,-1.8130537934146227,-1.9431851220783547,-2.104464616433086,-2.2954856296609885,-2.5126081276520265,-2.136308013890957,-2.444589956682216],[1.3275616584276453,1.0258873096221723,0.6845015224484196,0.31879636409180845,-0.054042607120054736,-0.41613601519820587,-0.9836453833019555,-1.2148021509107596,-1.395840197876468,-1.5868838583284823,-1.696224602701074,-1.6659366056707157,-1.5843333222619935,-1.4601365842026268,-1.304993536542128,-1.0625810304940488,-0.9454286924399149,-0.8486624422454444,-0.7814307076693666,-0.9481145599778475,-0.905469759700146,-1.3841815288801531,-1.4645879166127949,-1.5311337410128334,-1.5219148041361148,-1.5261183800383136,-1.5071126251178963,-1.5740562368904814,-1.5439582105113798,-1.5069038051476336,-1.4705908597174937,-1.4434843182125878,-1.4341085349821951,-1.4503137960547958,-1.4985844190980175,-1.5834519811902508,-1.707066835386938,-1.8689653422367387,-1.6528904442996541,-1.855549714814103,-2.1872984318435402],[1.4472300296274911,1.1565234196318417,0.8208571591440493,0.45553364293212384,0.07798052932745048,-0.29335316216792395,-0.6402271700259465,-1.0917326186134901,-1.2926841353507934,-1.4359581023962802,-1.5601449252132014,-1.600868316811306,-1.5350187689375883,-1.422063558199259,-1.2729895967693337,-1.0328998453458975,-0.9212988939747934,-0.8287834635163993,-0.7645955726193249,-0.9760992347907778,-1.0111607224222645,-1.512815807315565,-1.5945320247115184,-1.6537382171282284,-1.617669608183568,-1.6734919730445608,-1.6410992784847125,-1.5835860541658218,-1.506624435444276,-1.4180371652884123,-1.3272524775784325,-1.244601624060326,-1.1805187063338323,-1.1447129383846097,-1.14538678865496,-1.1885692500133227,-1.2776222594338806,-1.1670429331218652,-1.3431913989692006,-1.633924846068422,-1.9082268350940434],[1.5196739566677104,1.2475669679012784,0.9258140788062895,0.5693447959946696,0.19552871635102048,-0.17691632615879344,-0.5291658159904054,-0.9599550298693208,-1.1767465388835217,-1.336959439439003,-1.4340083516219164,-1.4653590329270074,-1.4582742305372534,-1.35715675055374,-1.215453220022781,-0.9933573393738716,-0.8863401763956981,-0.7969519645262133,-0.7344584493192325,-0.9712675154212825,-1.0116113940291753,-1.5774869849430437,-1.6561474177580553,-1.7050705672630004,-1.712337140593632,-1.6836393475546294,-1.6198797705240573,-1.5249832968206676,-1.4056549881974751,-1.2709927705018103,-1.1318850078347273,-1.0002395807701356,-0.8881083241465227,-0.8067816785034041,-0.7659318991997561,-0.7728787473902481,-0.7113251672398145,-0.8426711809044422,-1.0184329124648985,-1.3336449730228603,-1.6207716082335073],[1.7305670275831033,1.2898883506408432,0.9903165570346103,0.6514420111895028,0.29026671060628095,-0.07454240723703646,-0.4238888705983631,-0.7395566693488842,-1.0533598687098562,-1.2264568556495967,-1.3373337402704415,-1.3821246044615407,-1.3611563669667939,-1.26675334956468,-1.1329759538641933,-0.9450386330764591,-0.8408819297110609,-0.7528118882120226,-0.6900555820046054,-0.9314361710124283,-0.9728103984931447,-1.5726219652021618,-1.643848326721669,-1.6798930146836357,-1.669025310815442,-1.6172217787990095,-1.5254341779815774,-1.3981724478940178,-1.2429370186164932,-1.0698022819274047,-0.890774200528007,-0.7189707654347393,-0.5676919114816421,-0.4494569740050231,-0.37509149716532786,-0.35294075789703744,-0.3856449648484365,-0.5142148902386386,-0.6931138293084406,-1.0387447480540626,-1.1385234775792736],[1.6297082466192074,1.2761298119408726,1.0067454046763487,0.6941235474724332,0.35459125829088817,0.006437759034425179,-0.3312970394102784,-0.6401315676125595,-0.9284803914051483,-1.1093950591602453,-1.2302387199722857,-1.2858911173893053,-1.2753890424732015,-1.1538846107174396,-1.0277839419066634,-0.8890866437335155,-0.7853489241114922,-0.6961445263542554,-0.8299142791525758,-0.855755463983223,-0.8933691065072827,-1.4959915017977818,-1.555600643029955,-1.5766631462155787,-1.5471587838108587,-1.4748167627679094,-1.359680599303063,-1.2066484373805872,-1.023733177753631,-0.8216323612290145,-0.6130657193740869,-0.4119297813752155,-0.23233727642340832,-0.08762094643830912,0.010614577328186377,0.0033984019792698307,-0.06647174887818484,-0.197110353537928,-0.39940267411941943,-0.6257991880664012,-0.8847690710371877],[1.065801261813416,1.0908274823674526,0.9696033264256799,0.6914474321877446,0.38228198742129504,0.05969701937251475,-0.2576563186152731,-0.5513554060896257,-0.8082806524698926,-0.9911017960654834,-1.1171492587359522,-1.1801695346600203,-1.177963162475766,-1.1124406206220312,-1.0726390117351605,-0.9041204835505774,-0.7202596591228024,-0.6269145166451994,-0.692690243793662,-0.7448569263488101,-0.7735557748665983,-1.2518855652926382,-1.3931131236399734,-1.3943975636215105,-1.350138322148074,-1.2608226230325648,-1.1282014736296415,-0.9573374787694361,-0.7564380543564678,-0.5364287979679223,-0.3102927293988359,-0.0922239488892195,0.10333717168441878,0.2627079551270962,0.3106628816530304,0.3038407375407522,0.23044836568995036,0.047653780849976776,-0.1490128042959593,-0.39165565273946346,-0.668067728614002],[0.952163575250075,0.9248112310257411,0.7703728665411735,0.5702958553953621,0.36909588701351137,0.08049478882459735,-0.2080367555697978,-0.4784592843331423,-0.713922370250541,-0.8769038821421871,-1.002671719630303,-1.0687854940491524,-1.071905251373994,-1.0127168987607384,-1.060708463673802,-0.8800160930335849,-0.670989687162375,-0.5453153614107008,-0.5876920096985666,-0.6009181527781855,-0.6153896694823863,-1.0896792523506948,-1.092442813789106,-1.143797076239034,-1.085121044847467,-0.9832594692111966,-0.83997091131991,-0.6602407471789871,-0.4521304770229298,-0.22637242342587624,0.004266593419610797,0.2258064652109839,0.42399521496888876,0.5350129900327936,0.5875111100225796,0.5319799944166876,0.46389229727506737,0.2663759021793537,0.052816415552160406,-0.20674902145360047,-0.4998541345543291],[0.6982052002599601,0.6452180594700342,0.6022133999027189,0.4527902388121293,0.26807127063294617,0.05983142592088139,-0.1858181099355064,-0.4253696133150636,-0.6359783069847,-0.771735909437985,-0.8912527332717206,-0.9555937028589396,-0.9604119937008154,-0.9052368195115161,-0.7933982050638168,-0.8523648347876271,-0.6294158987280235,-0.48500244549920324,-0.4637425664361515,-0.42763393401078087,-0.8314242425625789,-0.8027895197461355,-0.8624142384969682,-0.8331658250288433,-0.7626565658448713,-0.6533495646957485,-0.5068726324606151,-0.32788456200984883,-0.1239522688469823,0.09481532316904889,0.3163563573710449,0.5274259072624878,0.6410552625782366,0.7892737005315346,0.8485980850734045,0.8734622964303342,0.8413059151418775,0.7525047604156638,0.6102937788421586,0.4205484530571769,-0.3413924793616586],[0.3368860660286554,0.34744302340448013,0.3856496561861959,0.29436784341825484,0.16170612831881676,0.00436242649717072,-0.14423940137166236,-0.3014083669621875,-0.5736390884354081,-0.7160862916185509,-0.7868538922241342,-0.8441961859028131,-0.8466157832176271,-0.792589596909276,-0.6842676716610363,-0.8181308454056557,-0.5807793907876533,-0.3539389444426637,-0.3237850494122551,-0.7084431574974603,-0.6579321960773322,-0.6037671504153308,-0.5808752241456985,-0.4753283254122109,-0.3961201539066233,-0.28490521917593636,-0.14304162154640512,0.02538440407727449,0.21364232569943728,0.4109931042996605,0.6014508135678958,0.7756256580201392,0.9248377042467693,0.9996899650684365,1.0451964415508626,1.0394469841261498,0.9807207453946652,0.8698651890283009,0.7102840476546213,0.031202465599775533,-0.32335187046034347],[0.04114523372652682,0.089318787586961,0.10087746782760243,0.10359804507240003,0.02600093612786037,-0.07593632387242093,-0.17222032377876492,-0.2846774291180421,-0.3886480169262689,-0.47323216974600024,-0.69267167530437,-0.7376912813346377,-0.7333687625919555,-0.6772642084488439,-0.5704228187199941,-0.7739607105988472,-0.5219381388839599,-0.256859964084332,-0.17136688261130972,-0.5317661151009426,-0.4461112543133271,-0.36225025261212607,-0.5615498275669388,-0.4361484412495127,-0.0009814220546434105,0.1064335341309142,0.24909346277934843,0.41754990352233523,0.5860160211623758,0.7489874650723927,0.9001277327676827,1.032642540691143,1.108107154186724,1.15690989116667,1.1621830055969775,1.1210261823893972,1.032581430765826,0.8981870968015264,0.3236695780261639,-0.010527542567295295,-0.38009110434330867],[-0.26774745603868233,-0.1872476008108942,-0.13764265633206746,-0.1187560825059182,-0.13208622040196452,-0.18333442349060775,-0.250138731442686,-0.32266561700439395,-0.3587191001016336,-0.4080245833358506,-0.43511894812771246,-0.4158025129177803,-0.6230662992489442,-0.5614991540597463,-0.45382190624253604,-0.7164320468831648,-0.4497707402597421,-0.17082450161732754,-0.010495067774448641,-0.32249793763959655,-0.19838669653612906,-0.34011230296749606,-0.21451231093969553,-0.07463588981564132,0.3838196181120266,0.5121761610840779,0.6542242915216067,0.791223833974733,0.92034379154376,1.0379629128408112,1.1706346007323578,1.202488666676832,1.2373091980129647,1.236445087698825,1.1969253833092286,1.117167809730524,0.9972286600699918,0.621092224857859,0.3986450908927509,0.14771868125156784,-0.126311424384716],[-0.5328986672091122,-0.4677159191873388,-0.38580462725245357,-0.3294666174211639,-0.30262678477016797,-0.30549182426194127,-0.32464264136362286,-0.3519166211424812,-0.37844515640472365,-0.3953636394096752,-0.36086464507791477,-0.32679668299443076,-0.2759259719892053,-0.23095009706254407,-0.35173902037026483,-0.6423294020886313,-0.361441562449779,-0.18876738885624567,-0.07435411214814527,-0.08267196447453251,0.26685110740063706,0.31101324729262125,0.4860744764621681,0.5632986201111135,0.7269217948884297,0.9951635250518794,1.1140185352161671,1.1232485635837741,1.2767932658064785,1.3175623421293052,1.34087054459259,1.3428924808363307,1.3199858501367445,1.2380151368096766,1.1511874094516086,0.8906299000070245,0.7077247960074526,0.49603431456311525,0.25869115453391955,-0.0003371492577941282,-0.27634600580857205],[-0.8307923538478942,-0.7790486512880418,-0.6979810257403954,-0.5936681193107245,-0.4740062260838496,-0.43224587885246335,-0.4068388610354182,-0.39123855359151427,-0.37812764532970744,-0.26121682784515576,-0.2160506244301979,-0.15903389432066267,-0.31453439767422503,-0.23809039880851834,-0.02699261281000864,-0.5297117036879533,-0.25669896202244735,-0.0507658020274821,0.12597784607429913,0.35069596944403403,0.5773583616536413,0.6740448631558116,0.8647293262814026,1.0350927073271599,1.123112678724212,1.3412872109109752,1.4243193015143263,1.4743159260292742,1.4816162244236102,1.4670232589795953,1.4314760257338839,1.3736447086332315,1.2923255713540354,1.1866359999808402,0.9449611753588324,0.7586165286434529,0.5485673871715208,0.31721761808820215,0.06752696520354035,-0.19698646464706582,-0.4722959852084817],[-1.1012250848933387,-1.0284779024653132,-0.9175176679438083,-0.7752998103275025,-0.6110130473043472,-0.5433694859105038,-0.4043171363419521,-0.3224742624176973,-0.3835700122260079,-0.19185668775375814,-0.11768836596374158,-0.039309333576498906,-0.170609103203959,-0.08806660761245715,0.01653308747033616,-0.6715008510231765,-0.1131576119751743,0.16645627320732334,0.3320174298705733,0.6215721064558177,0.788388957093398,1.0177093430534359,1.2072286392050726,1.3767329981387677,1.5238398862826414,1.6179350321407096,1.6666496491241025,1.6916603464187723,1.6581240406998001,1.5828172610615974,1.4719051398099992,1.3320331078836645,1.1699103317133108,0.9955674957593291,0.7968531350349211,0.5792448045560484,0.34508436331786513,0.09690469988930882,-0.16250382954676007,-0.43005851390548644,-0.7023892792068884],[-1.331821430089419,-1.2430216437939268,-1.1077480511248983,-0.9337086328879556,-0.7312419265470942,-0.5126758946126437,-0.4381640443656642,-0.31970949484180655,-0.21157199664820125,-0.11309400334868577,-0.023277061851371184,0.07040441730064367,0.16679179612593864,0.05632188614375888,0.15931045737117566,-0.05103822966638987,0.060319991695964255,0.3613228588417546,0.5781920518467873,0.7429918615560167,1.0860386732256064,1.2838427035018791,1.4889895444735226,1.6562507545932281,1.778940203135864,1.8510920735858545,1.8726518359995499,1.816441144652229,1.7264677221028775,1.596075660249211,1.4329511436762425,1.2451501900695563,1.0590533120473646,0.842350784032166,0.6101015378688002,0.36523593590195885,0.11050447895008186,-0.1514399812681037,-0.4179620491099091,-0.6863805657577421,-0.9539335769756592],[-1.511789312657909,-1.4127491918841384,-1.2598533443117979,-1.0614105755980967,-0.8287288674747914,-0.5754221117757397,-0.45922224364275166,-0.3112786431028004,-0.17432159705624822,-0.048360686065690134,0.0669981460493777,0.1723912079581984,0.2685289315578427,-0.03230087423571498,-0.3219733735434034,-0.06799326952307695,0.35783838241551386,0.6109314627335215,0.7437117814814741,1.023300178997084,1.3087929783203311,1.5437109126366144,1.7430170801380198,1.89718467478041,1.9799391778803865,2.0195986532298567,2.0023530050882026,1.9301501631570046,1.7246247084605162,1.545108608948769,1.3362437996629328,1.0944943148928545,0.907904311779946,0.6579440239134228,0.3974330498922528,0.12991536780323534,-0.14149337514951998,-0.41402797394244994,-0.6851832348514724,-0.9526274900558398,-1.2141336687707203],[-1.3533669464704003,-1.5297472141295838,-1.366837604365878,-1.1525261864696112,-0.8988766638521675,-0.6205456977051202,-0.20918154969378272,0.10099724575688165,-0.13894370967074868,0.42255557824670986,0.5822180463869281,0.7147063246626346,0.5848164025560072,0.6619062586494775,0.448911939403963,0.481130463399505,0.6075469821317498,0.7377498737595442,0.909625439910914,1.2913081345784163,1.5188508319352934,1.7467427534223217,1.9335201516094338,2.036049544849638,2.099780068861322,2.105066020341327,2.052063671337609,1.9433588607841776,1.7837776882392409,1.438577105469942,1.1655113667695056,0.9109395901043468,0.7310144642022998,0.45443500677899074,0.17152773212490002,-0.11364398883476429,-0.3976485014204443,-0.6776138634406275,-0.9511311124390313,-1.2161503700518774,-1.4708852354691242],[-1.3010269677117137,-1.3405990512676067,-1.014156416060218,-0.8711927848485688,-0.6483792290131905,-0.36413558907504673,-0.04001448012789938,0.07256224369426739,0.24433140100496295,0.42338154226772,0.5803724492820972,0.7102083747178606,0.642471819898449,0.7015478040766342,0.7214094426948121,0.7586015225749679,0.7818662549426237,0.8510708059156595,1.1799132844623705,1.5062744025401291,1.8192969735561073,2.0190160626539084,2.01335315992961,2.103279963881101,2.1362046573507416,2.1103088629020004,2.0262651865225068,1.8871821885203122,1.6984030867750897,1.467175576169965,0.9813651398316035,0.7010208616023877,0.5394348427862766,0.2433439902547365,-0.05576764477338007,-0.35342013984967036,-0.6459181274542205,-0.9302862094802562,-1.204170131776459,-1.4657218798321583,-1.9694489444093877],[-1.266893090985909,-1.3271098957635727,-1.299269308557804,-0.8877278006744582,-0.6742173249062839,-0.4013834901041593,-0.09154701018253303,0.3924059508425332,0.6863767098142791,0.9405907414206897,1.1367473392716338,1.5058611890217755,0.8469798117532432,0.6927437224684126,0.7459863930966527,0.7653615345168433,0.7745200304537524,0.7971073944776814,1.326164937451558,1.5411156314108447,2.0120510336004656,2.1253507708064334,2.0288151292051713,2.089615561814048,2.094069705758776,2.04085045729356,1.9310797491887033,1.7682644986940268,1.5580883637314873,1.3080765644450572,1.0155914119046496,0.7318721464347548,0.4258534085490243,0.03494550309739333,-0.2741231408024339,-0.5791238631390492,-0.9369825320232509,-1.257843324394527,-1.5754623146684146,-1.8850471855350932,-2.1816606090305277],[-0.5062922924520596,-0.9015740303948399,-1.1481790925789706,-1.3566637326803268,-1.1839670022965185,-0.9261290546396461,-0.610170300396813,-0.2644449563542831,0.9628639988620672,1.298460653100973,1.5240219907130252,1.6239791051202848,1.5901005385866158,0.43805997514917183,0.666600697220921,0.6940166801883384,0.6919355034850798,0.7022119420893627,1.0010342739915061,1.5982912300704164,1.765952900871915,1.5401771219691702,1.96907965423323,2.0022720557783993,1.9812016086328093,1.9050126722187424,1.7752014169019095,1.5955447052756468,1.371889911029628,1.1118225218838358,0.8309926541828425,0.5425814071047264,0.232326077825653,-0.09273443662447937,-0.5147118839020463,-0.8291109474585918,-1.1466085705755917,-1.4632903084849596,-1.7748399992490085,-2.0766684682240606,-2.3640866328564463],[-0.35785825881586786,-0.7637891954062104,-1.0239318991262074,-1.1405208147574764,-1.0805827099214134,-0.8636061692618583,-0.7181883610363734,-0.42302107962389335,0.6564179176388635,0.9206785163278967,1.0855456942005017,1.136801094444476,1.067244613934055,0.5268022668858144,0.5723884213532018,0.5701923937705569,0.5743436577315246,0.5896913277566183,0.6197463804646824,1.400713100800922,1.566404277837196,1.7041309237554367,1.5250280184671479,1.8510105001816572,1.8078385951498273,1.7133449395354483,1.56931992633381,1.3796829757040578,1.15027520613826,0.8885370979968604,0.6357424138377307,0.3497578069668015,0.04226584637983137,-0.2798984665144462,-0.6098421047336746,-1.0126630054890537,-1.3250829339534105,-1.635626787093016,-1.940084917962281,-2.234002413950353,-2.5128453307282146],[-0.19912738534218621,-0.6038419783820653,-0.8673970874575065,-0.993653189409658,-0.9769382883414883,-0.8686361153791761,-0.6724759182109834,-0.4354735730671441,-0.1912961247505015,0.2827756679018154,0.44941697351403853,0.5205421476979674,0.47814298463428223,0.27219609112404997,0.4090959592324684,0.41123234107683465,0.4213771003777338,0.44239142969175704,0.49773368619658215,1.311564825713726,1.411423423193134,1.4330979528044645,1.2844754204513253,1.2657901200500272,1.3111656710542472,1.477953966487433,1.3254574527890264,1.1324146095704188,0.904503217023982,0.6891624253569114,0.4390239880554884,0.16140580014472675,-0.1375192711372255,-0.45128272331380304,-0.7732946875384492,-1.1638894207002421,-1.4689718730845582,-1.772030000676166,-2.0689160596082794,-2.355237812898576,-2.6265233299046873],[-0.018859489067969165,-0.4135831351434558,-0.6709009822174228,-0.805054525039781,-0.8255254786536392,-0.7035739275310532,-0.5525105461968713,-0.37554758530046806,-0.20535397891874962,-0.07265707626687373,0.18286453919165313,0.1748209765949697,0.012643862065442574,0.1506280967313126,0.23308228358384253,0.33431947195811124,0.24476054846986675,0.124891567320842,0.35940339769381513,0.9940629248108531,1.0673284046131462,1.2557202395978055,1.2651639827560206,1.125051507609091,1.074894313504445,1.0774898504788621,1.0502459278575536,0.9451606513136334,0.6458781649354686,0.48681197132533605,0.24903678551005515,-0.015613006774113026,-0.301510478378424,-0.5825350167370066,-0.9050541680865256,-1.2382712463963683,-1.5754953929217226,-1.8723050586073615,-2.161615035011759,-2.4410254820952395,-2.7060384506085273],[0.08588151239529743,-0.2769504004550491,-0.5166822762278873,-0.6367332588283828,-0.6442151638410355,-0.5716482892078562,-0.4543991577655682,-0.32471561873644905,-0.21479741734893232,-0.15421209720743706,-0.16759635895908787,-0.17224919865087285,-0.20057591595430685,-0.13117109356535733,-0.10523755623135178,0.15255552266338035,0.26088648060323905,0.15374800537464287,0.21362489501929083,0.8350829254493101,0.8934272531019252,1.0440551539113554,1.0320038002879126,0.9131147426766076,0.8920740792084589,0.8116270473622028,0.7734967957524955,0.6976482946761444,0.5970707632916841,0.46820111065615994,0.29857027592224417,-0.15812563796006612,-0.42662295127751565,-0.7171273480455661,-1.0249193088024091,-1.344316072885946,-1.6688463959222124,-1.9914873608703676,-2.304949778503982,-2.4941911014808738,-2.7543437837333937],[0.9146858036425471,0.2702324992924447,-0.1628573353230099,-0.4077410536570304,-0.48311431017844947,-0.4221610744835314,-0.3307964740439658,-0.241448184698701,-0.1857792598071269,-0.1921066984728879,-0.28315187645515394,-0.47431274637293463,-0.3818558539597392,-0.27707580204838445,-0.2612943731443065,-0.017192967168076667,-0.15462799817473388,-0.12216843732403204,0.42487502260068677,0.6540848099560767,0.6974207046822393,0.7188032302298364,0.778288372590733,0.7296820898192256,0.6601343750053268,0.604770174690023,0.5313870195213438,0.46112849648615045,0.35886654378219407,0.2245352893352044,0.07148968137227542,-0.12667848940287263,-0.5546442972637665,-0.8279303498487094,-1.1193507589564309,-1.4235330286580399,-1.734255274743517,-2.0446765178329254,-2.3476190374225747,-2.6358847605537696,-2.9025844199715936],[0.40997326298839876,-0.03912720339457076,-0.28756704200743977,-0.36727358538555877,-0.32310298981477403,-0.20918981965463132,-0.2064041993460519,-0.14844821369794114,-0.13850636481843373,-0.20361386801609282,-0.3645543789072657,-0.634233826318322,-0.4310418846404464,-0.46301261449001285,-0.25122371097011553,-0.16527512880705397,-0.24018426151424965,-0.2120455741084446,0.3130182343585068,0.31594313270862456,0.4914014275863824,0.4976775105497815,0.5171836823111912,0.45463655027937344,0.42931756874625493,0.34822089048739313,0.30208761161222775,0.22811788738101801,0.12449669554831311,-0.008920152423687266,-0.14768311669673537,-0.34298371483215645,-0.5598944326830809,-0.9144107226705437,-1.1889332169729057,-1.4775129605649406,-1.7741886522520722,-2.0723098348913056,-2.364815789136932,-2.6445520737487658,-2.904603292857863],[-0.11907211456135902,-0.3918831695125701,-0.4766991904372609,-0.41339693795430654,-0.2539862098335175,-0.05851926005942827,0.10975132682440253,-0.07160362147944152,-0.09674290922620764,-0.20988643084020217,-0.4299342742097563,-0.7673883055477567,-0.5551340000374468,-0.6396162133784056,-0.4247405298368907,-0.3526697629554312,0.2742790137005897,0.34333789277234633,0.39296365877410255,0.19783718135836612,0.28787452744807746,0.2796276485303816,0.24912253578890511,0.18806410987590555,0.10418011619305348,0.13592398859399493,0.0842287531204722,0.006898772896002658,-0.09784312928938127,-0.23018749393032512,-0.3886811416476118,-0.5445276968376648,-0.7561056806093545,-0.9773008044895284,-1.2353686122021539,-1.508816580964034,-1.7919395293808087,-2.078275688593041,-2.3608818741740625,-2.6326497386534804,-2.886641572872576],[-0.6463928057169436,-0.7692430634629348,-0.7186029638012751,-0.5411991023930933,-0.2949969428741576,-0.04473826629328125,0.14320146373225195,0.20619439246527088,-0.08594662310276986,-0.23424796315428967,-0.5000406699660065,-0.8915974352580671,-0.713247713209019,-0.8485321224367827,-0.9314205067679722,-0.8673543060331046,0.11812899053452121,0.16088865831425947,0.18746484179996517,0.1962912124736192,0.09895214267560366,0.07673727377517522,0.03356006928163126,-0.057017545387851955,-0.14685170561962002,-0.057644327447762767,-0.11439550665660514,-0.19477454035889558,-0.3004880890780319,-0.4317391193586322,-0.5871657044923705,-0.7638883996089896,-0.9319116704345071,-1.149678339172864,-1.261250244087968,-1.5207128241411898,-1.7913368369738318,-2.066839848614588,-2.340393990364744,-2.6049413164494983,-2.853531672947118],[-1.1372553132335097,-1.1423005040477476,-0.9900949641454598,-0.7328831271776164,-0.4331715034758999,-0.15897465006657105,0.021544552636182563,0.045581553895655325,-0.13913845445625334,-0.5699813946481049,-0.5964463439525478,-0.7120748098035335,-0.9234475569283686,-1.1045886553828086,-1.0610132150898832,-1.0900852494847362,-0.9343549048929991,-0.00015038977458483455,0.006842830590382085,-0.0008408729260966641,-0.08532681781323972,-0.10003500333927037,-0.15489820788020997,-0.22880394785807598,-0.38906884048090923,-0.15732494697487334,-0.2869209831553928,-0.37008239280754596,-0.4767017778610153,-0.6069599103479123,-0.7595515859921329,-0.9317263431705086,-1.08301024454369,-1.2934707488681627,-1.5076869635448729,-1.5168998737172286,-1.776452091744264,-2.042343643951925,-2.3078591573536955,-2.565998503004416,-2.809815396138493],[-1.5499568830827326,-1.4733972508524658,-1.2574758247179196,-0.9584495902955837,-0.6417938481959051,-0.3772463742728728,-0.23332167351630445,-0.27176458241176715,-0.5424291821294165,-1.0790367507605212,-1.8961882001824193,-0.9530674967185133,-1.201931371751047,-1.1516735750595972,-1.2546047856076405,-1.2961377471475573,-1.1064633148757579,-1.0024726601999627,-0.14140503413962988,-0.16143416900502072,-0.1596052010766572,-0.258381067597134,-0.30714684573571815,-0.4494003078482292,-0.5558952090966011,-0.6668375940917779,-0.4277739994014132,-0.5134931008133432,-0.6210210006400978,-0.750482307033812,-0.900593774608603,-1.068700586412056,-1.2509071226523627,-1.409747489370465,-1.6153440526562177,-1.5012309366380128,-1.7513249992640014,-2.0089335239514927,-2.267452110207327,-2.5199498494959927,-2.7595069947254873],[-1.8384609256903808,-1.7185347126498678,-1.4787106366283687,-1.177647634443728,-0.8821274147253494,-0.6619920772746649,-0.5846276080697251,-0.7094658310029639,-1.0829878463364866,-1.734673724561578,-2.6742597163807043,-3.1998520632039527,-2.6179599917303094,-1.3395437133230748,-1.442313530433081,-1.4850364855789469,-1.2629511985167448,-1.1526711214753602,-0.9869933038067997,-0.27986894710151355,-0.1587890857368651,-0.32335700574217646,-0.41633228415849605,-0.5606191778930988,-0.675674505969061,-0.794190542603357,-0.9162241373260711,-0.6210386309008136,-0.7295241737094758,-0.8584469080439918,-1.0065121229773994,-1.1711278925438702,-1.3485286500141516,-1.5339778850912338,-1.6942809804047438,-1.8869495035489257,-1.7197262527092512,-1.9703388150034327,-2.222809873396726,-2.4702935818210667,-2.705925201438791],[-1.9557748902962142,-1.8306653626343232,-1.6066214956663603,-1.3430608558275934,-1.106391007499115,-0.9649376223494314,-0.9834930115849739,-1.2179537659165924,-1.7105209293206838,-2.485893014880914,-3.548795122155919,-4.281372432461893,-3.277674837505897,-3.6701235229535505,-1.6241573077361562,-1.6570467329830796,-1.4079271922812766,-1.2858150312469054,-1.1083363028706659,-0.8859340754836973,-0.3676087460175471,-0.5001826488723662,-0.4932583217776836,-0.6224787333752668,-0.7445997775363453,-0.869452617078025,-0.9970569255393065,-0.6904940847094783,-0.8000055077335569,-0.9286714676366343,-1.0751552044499175,-1.236897139546567,-1.4102329999689243,-1.590586662062814,-1.7727223543426152,-1.9281942447518199,-2.101415258709667,-1.9297088685865782,-2.176892592742048,-2.419781574525646,-2.6515993959021835],[-1.8577908169678983,-1.7635895169328748,-1.592824476568827,-1.4040685391906405,-1.261728441572646,-1.2310583364126308,-1.372866012227775,-1.738369584126693,-2.364662090860194,-3.271194684397935,-4.457600211980548,-5.444234153520592,-3.713495679074429,-4.118322567101522,-4.06941217750843,-4.170833251044674,-1.5457611618798839,-1.4067496952624357,-1.2142190493693317,-0.9779631458300647,-0.4030364636648608,-0.3911724306301707,-0.5195977468846844,-0.6965693228334777,-0.7616087835361987,-0.8916496208646978,-1.0239654224794155,-1.1585952727598956,-0.8320443008530902,-0.9607180859638482,-1.1060659721009136,-1.2655338571884784,-1.4355329836293427,-1.6116242268966898,-1.7887580203834035,-1.9417763489487307,-2.1065952374212205,-2.2556652260792807,-2.1319132953619944,-2.370374926426512,-2.5982483937131886],[-1.5072422210690184,-1.4761043445310333,-1.392053281525147,-1.311322105789929,-1.2948117108342936,-1.4032788831131158,-1.6922862328071244,-2.207354287399568,-2.9797513113459577,-4.023307258581111,-5.472748692791178,-3.487780213761112,-3.994584265762459,-4.409875548642301,-4.690972006409228,-4.443662549649485,-4.354063901751233,-1.5204257443745304,-1.310153796417146,-1.0589328838415157,-0.32527387180822526,-0.2825866605665849,-0.2502240291452562,-0.36632414233393273,-0.7942094497273459,-0.8624915260403657,-0.9987227816021573,-1.1370240383255672,-0.6507915877566577,-0.9558561097184342,-1.1004468628810598,-1.258168326958287,-1.4254857269330823,-1.598076985980363,-1.7710612356949376,-1.939261844009048,-2.086644769851916,-2.2280685258210275,-2.0893332347007303,-2.323265576454848,-2.5468244412227268],[-0.8774004182365216,-0.936010209055839,-0.9664591058504892,-1.0213136318931502,-1.1566450962833719,-1.427472289833228,-1.883031429854688,-2.562290317055469,-3.4901152123969625,-4.674448555897224,-2.9693961601745844,-3.547475364233837,-4.073768958997313,-4.501124923704048,-4.787809143317116,-4.575616248684734,-4.460170648900496,-5.25993169332036,-1.4015095065783383,-1.1347223865614584,-0.32935063957776933,-0.2919683316373044,-0.2660276744135604,-0.3209822016621364,-0.3481882892601788,-0.8403014068256454,-0.9255387822087869,-1.06700915930786,-0.8688182473850316,-0.7572608692701769,-1.061029465783665,-1.2174120899937604,-1.382576812131518,-1.552303049147527,-1.7218645933057213,-1.886278871989271,-2.040569746560541,-2.1786668357757777,-2.2943641172975693,-2.2789535034023807,-2.4976103543780726],[0.044856351632362346,-0.12358037958695967,-0.2894678662460989,-0.5005958470239843,-0.8071117091667632,-1.2572861049644597,-1.8931669529572874,-2.746510440296852,-3.8353661518455464,-5.161642927886876,-2.757239422372607,-3.3673206072479163,-3.9173318692111643,-4.361274467101427,-4.658740109580858,-4.777645790833443,-4.40703495018267,-5.58382043070918,-4.813251586195426,-1.2107570540307275,-0.34931192755026536,-0.31461380996663474,-0.2928906287168306,-0.2651714921693645,-0.2806717302359693,-0.3235189798043574,-0.8416660452954573,-0.9548063523789211,-0.8214661621062604,-0.7129419147059062,-0.8548752787965596,-1.1471542640796497,-1.310527655064973,-1.4778512999583604,-1.6445437037865387,-1.8058074251094263,-1.95687652989302,-2.1104377348541834,-2.220537846930542,-2.309886751449175,-2.450354672366013],[1.2569168408840912,0.9658555778460323,0.6511866397133829,0.2707565022720338,-0.2188276285743167,-0.8583408707401154,-1.682028639471815,-2.713995812813011,-3.9652394801802817,0.015157036104460425,-2.2801185313428434,-2.9276807614677987,-3.5073316630400804,-3.9744917819968832,-4.290341589206176,-4.424423101191772,-4.183282851833489,-5.795549720684616,-5.0399522873594975,0.00825301982555364,-0.3895077273211577,-0.3549409534391762,-0.3351416243227228,-0.2054524288110397,-0.20767676525894882,-0.24087196686115458,-0.3034312294140288,-0.7888781169159306,-0.9567637667553187,-0.8886669418567542,-0.7881192732416884,-0.9407965773917782,-1.1031534499085325,-1.379222177758505,-1.5433926409185106,-1.7019355611419078,-1.8502899693290993,-1.9841779256404584,-2.0621404477244885,-2.217181940503071,-2.404428334011918]]]},\"selected\":{\"id\":\"5424\",\"type\":\"Selection\"},\"selection_policy\":{\"id\":\"5425\",\"type\":\"UnionRenderers\"}},\"id\":\"5214\",\"type\":\"ColumnDataSource\"},{\"attributes\":{\"bottom\":{\"value\":0},\"fill_alpha\":{\"value\":0.5},\"fill_color\":{\"value\":\"navy\"},\"left\":{\"field\":\"left\"},\"line_color\":{\"value\":\"white\"},\"right\":{\"field\":\"right\"},\"top\":{\"field\":\"top\"}},\"id\":\"22797\",\"type\":\"Quad\"},{\"attributes\":{},\"id\":\"22869\",\"type\":\"BasicTickFormatter\"},{\"attributes\":{},\"id\":\"22857\",\"type\":\"ResetTool\"},{\"attributes\":{\"callback\":null,\"data\":{\"index\":[0,1,2,3,4,5,6,7,8,9,10,11,12,13,14,15,16,17,18,19,20,21,22,23,24,25,26,27,28,29],\"x\":[22,3,12,9,78,41,35,38,99,43,52,49,83,85,65,1,11,14,55,21,92,71,76,17,62,7,13,10,14,23],\"y\":[78,73,85,69,43,6,60,18,87,50,83,3,75,45,68,39,71,87,97,22,17,30,31,71,45,97,28,40,83,73],\"z\":{\"__ndarray__\":\"yneAn5AMyr+SARWJagvFvxPIlMQlS+a/QBSCTBPI4b9JxGhcdZX0PwtWdk2IUO2/IEfKhQFR4j/qRdMT0Tbtv86ItjnAkQTAHWNJ0dFx6D9AnUV9tjfQv/gmqOse/ea/QpZCZGZw8L/gWAyp84XjP/UXQiuk9eY/q+noUhNs5r/u7x4/3tTZv+ZaZAlFMey/VpLsCFtU0r8xX7ywcSjtvy/cXIVLluG//ytpLee40j/Eex7hYWPpP0spcolSxcu/12KRp0pz/T+wRyNLI6fiv2CH/M6g1oQ/d33INR5W3r/EPkmwuTPVv4OwF7pej82/\",\"dtype\":\"float64\",\"shape\":[30]}},\"selected\":{\"id\":\"13188\",\"type\":\"Selection\"},\"selection_policy\":{\"id\":\"13189\",\"type\":\"UnionRenderers\"}},\"id\":\"13105\",\"type\":\"ColumnDataSource\"},{\"attributes\":{\"bottom\":{\"value\":0},\"fill_alpha\":{\"value\":0.1},\"fill_color\":{\"value\":\"#1f77b4\"},\"left\":{\"field\":\"left\"},\"line_alpha\":{\"value\":0.1},\"line_color\":{\"value\":\"#1f77b4\"},\"right\":{\"field\":\"right\"},\"top\":{\"field\":\"top\"}},\"id\":\"22798\",\"type\":\"Quad\"},{\"attributes\":{\"bottom\":{\"value\":0},\"fill_alpha\":{\"value\":0.5},\"fill_color\":{\"value\":\"green\"},\"left\":{\"field\":\"left\"},\"line_color\":{\"value\":\"white\"},\"right\":{\"field\":\"right\"},\"top\":{\"field\":\"top\"}},\"id\":\"22863\",\"type\":\"Quad\"},{\"attributes\":{},\"id\":\"14165\",\"type\":\"LinearScale\"},{\"attributes\":{},\"id\":\"19180\",\"type\":\"Selection\"},{\"attributes\":{},\"id\":\"22789\",\"type\":\"PanTool\"},{\"attributes\":{\"formatter\":{\"id\":\"19179\",\"type\":\"BasicTickFormatter\"},\"ticker\":{\"id\":\"16508\",\"type\":\"BasicTicker\"}},\"id\":\"16507\",\"type\":\"LinearAxis\"},{\"attributes\":{\"fill_color\":{\"field\":\"z\",\"transform\":{\"id\":\"4794\",\"type\":\"LinearColorMapper\"}},\"line_color\":{\"value\":\"white\"},\"size\":{\"units\":\"screen\",\"value\":12},\"x\":{\"field\":\"x\"},\"y\":{\"field\":\"y\"}},\"id\":\"5220\",\"type\":\"Circle\"},{\"attributes\":{},\"id\":\"5198\",\"type\":\"BasicTicker\"},{\"attributes\":{},\"id\":\"22873\",\"type\":\"UnionRenderers\"},{\"attributes\":{},\"id\":\"14168\",\"type\":\"BasicTicker\"},{\"attributes\":{},\"id\":\"22882\",\"type\":\"UnionRenderers\"},{\"attributes\":{\"overlay\":{\"id\":\"22892\",\"type\":\"BoxAnnotation\"}},\"id\":\"22856\",\"type\":\"BoxZoomTool\"},{\"attributes\":{\"callback\":null,\"data\":{\"index\":[0,1,2,3,4,5,6,7,8,9,10,11,12,13,14,15,16,17,18,19,20,21,22,23,24,25,26,27,28,29],\"x\":[22,3,12,9,78,41,35,38,99,43,52,49,83,85,65,1,11,14,55,21,92,71,76,17,62,7,13,10,14,23],\"y\":[78,73,85,69,43,6,60,18,87,50,83,3,75,45,68,39,71,87,97,22,17,30,31,71,45,97,28,40,83,73],\"z\":{\"__ndarray__\":\"yneAn5AMyr+SARWJagvFvxPIlMQlS+a/QBSCTBPI4b9JxGhcdZX0PwtWdk2IUO2/IEfKhQFR4j/qRdMT0Tbtv86ItjnAkQTAHWNJ0dFx6D9AnUV9tjfQv/gmqOse/ea/QpZCZGZw8L/gWAyp84XjP/UXQiuk9eY/q+noUhNs5r/u7x4/3tTZv+ZaZAlFMey/VpLsCFtU0r8xX7ywcSjtvy/cXIVLluG//ytpLee40j/Eex7hYWPpP0spcolSxcu/12KRp0pz/T+wRyNLI6fiv2CH/M6g1oQ/d33INR5W3r/EPkmwuTPVv4OwF7pej82/\",\"dtype\":\"float64\",\"shape\":[30]}},\"selected\":{\"id\":\"5063\",\"type\":\"Selection\"},\"selection_policy\":{\"id\":\"5064\",\"type\":\"UnionRenderers\"}},\"id\":\"4793\",\"type\":\"ColumnDataSource\"},{\"attributes\":{\"source\":{\"id\":\"22829\",\"type\":\"ColumnDataSource\"}},\"id\":\"22833\",\"type\":\"CDSView\"},{\"attributes\":{\"source\":{\"id\":\"22862\",\"type\":\"ColumnDataSource\"}},\"id\":\"22866\",\"type\":\"CDSView\"},{\"attributes\":{\"below\":[{\"id\":\"16507\",\"type\":\"LinearAxis\"}],\"center\":[{\"id\":\"16511\",\"type\":\"Grid\"},{\"id\":\"16516\",\"type\":\"Grid\"}],\"left\":[{\"id\":\"16512\",\"type\":\"LinearAxis\"}],\"plot_height\":450,\"plot_width\":450,\"renderers\":[{\"id\":\"16527\",\"type\":\"GlyphRenderer\"},{\"id\":\"16532\",\"type\":\"GlyphRenderer\"}],\"title\":{\"id\":\"16497\",\"type\":\"Title\"},\"toolbar\":{\"id\":\"16520\",\"type\":\"Toolbar\"},\"toolbar_location\":null,\"x_range\":{\"id\":\"16499\",\"type\":\"Range1d\"},\"x_scale\":{\"id\":\"16503\",\"type\":\"LinearScale\"},\"y_range\":{\"id\":\"16501\",\"type\":\"Range1d\"},\"y_scale\":{\"id\":\"16505\",\"type\":\"LinearScale\"}},\"id\":\"16496\",\"subtype\":\"Figure\",\"type\":\"Plot\"},{\"attributes\":{\"source\":{\"id\":\"5214\",\"type\":\"ColumnDataSource\"}},\"id\":\"5218\",\"type\":\"CDSView\"},{\"attributes\":{},\"id\":\"22808\",\"type\":\"LinearScale\"},{\"attributes\":{},\"id\":\"22855\",\"type\":\"PanTool\"},{\"attributes\":{\"bottom_units\":\"screen\",\"fill_alpha\":{\"value\":0.5},\"fill_color\":{\"value\":\"lightgrey\"},\"left_units\":\"screen\",\"level\":\"overlay\",\"line_alpha\":{\"value\":1.0},\"line_color\":{\"value\":\"black\"},\"line_dash\":[4,4],\"line_width\":{\"value\":2},\"render_mode\":\"css\",\"right_units\":\"screen\",\"top_units\":\"screen\"},\"id\":\"22874\",\"type\":\"BoxAnnotation\"},{\"attributes\":{},\"id\":\"22887\",\"type\":\"BasicTickFormatter\"},{\"attributes\":{\"bottom\":{\"value\":0},\"fill_alpha\":{\"value\":0.1},\"fill_color\":{\"value\":\"#1f77b4\"},\"left\":{\"field\":\"left\"},\"line_alpha\":{\"value\":0.1},\"line_color\":{\"value\":\"#1f77b4\"},\"right\":{\"field\":\"right\"},\"top\":{\"field\":\"top\"}},\"id\":\"22831\",\"type\":\"Quad\"},{\"attributes\":{},\"id\":\"22780\",\"type\":\"BasicTicker\"},{\"attributes\":{\"callback\":null,\"data\":{\"left\":{\"__ndarray__\":\"vboClqQuF8AFydmr4ogWwEzXsMEg4xXAlOWH1149FcDc817tnJcUwCQCNgPb8RPAaxANGRlME8CzHuQuV6YSwPosu0SVABLAQjuSWtNaEcCKSWlwEbUQwNJXQIZPDxDAMswuOBvTDsDC6Nxjl4cNwFEFi48TPAzA4SE5u4/wCsBwPufmC6UJwP9alRKIWQjAj3dDPgQOB8AelPFpgMIFwK6wn5X8dgTAPc1NwXgrA8DM6fvs9N8BwFwGqhhxlADA1kWwiNqR/r/0fgzg0vr7vxS4aDfLY/m/NPHEjsPM9r9QKiHmuzX0v3BjfT20nvG/IDmzKVkP7r9Yq2vYSeHov5gdJIc6s+O/sB+5a1YK3b8gBCrJN67Sv0DRNU0ypMC/AJeh3ytQoD/gnAY9SMzIP/BpEsFCwtY/uMLQsTCP4D94UBgDQL3lP0DeX1RP6+o/ALbTUq8M8D/gfHf7tqPyP8RDG6S+OvU/pAq/TMbR9z+E0WL1zWj6P2iYBp7V//w/SF+qRt2W/z8=\",\"dtype\":\"float64\",\"shape\":[49]},\"right\":{\"__ndarray__\":\"BcnZq+KIFsBM17DBIOMVwJTlh9dePRXA3PNe7ZyXFMAkAjYD2/ETwGsQDRkZTBPAsx7kLlemEsD6LLtElQASwEI7klrTWhHAiklpcBG1EMDSV0CGTw8QwDLMLjgb0w7AwujcY5eHDcBRBYuPEzwMwOEhObuP8ArAcD7n5gulCcD/WpUSiFkIwI93Qz4EDgfAHpTxaYDCBcCusJ+V/HYEwD3NTcF4KwPAzOn77PTfAcBcBqoYcZQAwNZFsIjakf6/9H4M4NL6+78UuGg3y2P5vzTxxI7DzPa/UCoh5rs19L9wY309tJ7xvyA5sylZD+6/WKtr2Enh6L+YHSSHOrPjv7AfuWtWCt2/IAQqyTeu0r9A0TVNMqTAvwCXod8rUKA/4JwGPUjMyD/waRLBQsLWP7jC0LEwj+A/eFAYA0C95T9A3l9UT+vqPwC201KvDPA/4Hx3+7aj8j/EQxukvjr1P6QKv0zG0fc/hNFi9c1o+j9omAae1f/8P0hfqkbdlv8/FxOnd/IWAUA=\",\"dtype\":\"float64\",\"shape\":[49]},\"top\":[0,0,0,0,0,0,0,0,0,0,0,0,0,0,0,0,0,0,0,0,5,2,6,0,7,4,6,9,8,15,49,107,181,302,320,150,107,111,117,85,37,22,11,8,2,5,1,1,0]},\"selected\":{\"id\":\"22881\",\"type\":\"Selection\"},\"selection_policy\":{\"id\":\"22882\",\"type\":\"UnionRenderers\"}},\"id\":\"22829\",\"type\":\"ColumnDataSource\"},{\"attributes\":{\"active_drag\":\"auto\",\"active_inspect\":\"auto\",\"active_multi\":null,\"active_scroll\":\"auto\",\"active_tap\":\"auto\",\"tools\":[{\"id\":\"22855\",\"type\":\"PanTool\"},{\"id\":\"22856\",\"type\":\"BoxZoomTool\"},{\"id\":\"22857\",\"type\":\"ResetTool\"}]},\"id\":\"22858\",\"type\":\"Toolbar\"},{\"attributes\":{},\"id\":\"22880\",\"type\":\"BasicTickFormatter\"},{\"attributes\":{\"callback\":null,\"data\":{\"image\":[{\"__ndarray__\":\"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\",\"dtype\":\"float64\",\"shape\":[100,100]}]},\"selected\":{\"id\":\"19180\",\"type\":\"Selection\"},\"selection_policy\":{\"id\":\"19181\",\"type\":\"UnionRenderers\"}},\"id\":\"16524\",\"type\":\"ColumnDataSource\"},{\"attributes\":{\"below\":[{\"id\":\"22845\",\"type\":\"LinearAxis\"}],\"center\":[{\"id\":\"22849\",\"type\":\"Grid\"},{\"id\":\"22854\",\"type\":\"Grid\"}],\"left\":[{\"id\":\"22850\",\"type\":\"LinearAxis\"}],\"plot_height\":140,\"plot_width\":400,\"renderers\":[{\"id\":\"22865\",\"type\":\"GlyphRenderer\"}],\"title\":{\"id\":\"22835\",\"type\":\"Title\"},\"toolbar\":{\"id\":\"22858\",\"type\":\"Toolbar\"},\"toolbar_location\":null,\"x_range\":{\"id\":\"22771\",\"type\":\"DataRange1d\"},\"x_scale\":{\"id\":\"22841\",\"type\":\"LinearScale\"},\"y_range\":{\"id\":\"22839\",\"type\":\"DataRange1d\"},\"y_scale\":{\"id\":\"22843\",\"type\":\"LinearScale\"}},\"id\":\"22834\",\"subtype\":\"Figure\",\"type\":\"Plot\"},{\"attributes\":{\"callback\":null,\"data\":{\"left\":{\"__ndarray__\":\"vboClqQuF8AFydmr4ogWwEzXsMEg4xXAlOWH1149FcDc817tnJcUwCQCNgPb8RPAaxANGRlME8CzHuQuV6YSwPosu0SVABLAQjuSWtNaEcCKSWlwEbUQwNJXQIZPDxDAMswuOBvTDsDC6Nxjl4cNwFEFi48TPAzA4SE5u4/wCsBwPufmC6UJwP9alRKIWQjAj3dDPgQOB8AelPFpgMIFwK6wn5X8dgTAPc1NwXgrA8DM6fvs9N8BwFwGqhhxlADA1kWwiNqR/r/0fgzg0vr7vxS4aDfLY/m/NPHEjsPM9r9QKiHmuzX0v3BjfT20nvG/IDmzKVkP7r9Yq2vYSeHov5gdJIc6s+O/sB+5a1YK3b8gBCrJN67Sv0DRNU0ypMC/AJeh3ytQoD/gnAY9SMzIP/BpEsFCwtY/uMLQsTCP4D94UBgDQL3lP0DeX1RP6+o/ALbTUq8M8D/gfHf7tqPyP8RDG6S+OvU/pAq/TMbR9z+E0WL1zWj6P2iYBp7V//w/SF+qRt2W/z8=\",\"dtype\":\"float64\",\"shape\":[49]},\"right\":{\"__ndarray__\":\"BcnZq+KIFsBM17DBIOMVwJTlh9dePRXA3PNe7ZyXFMAkAjYD2/ETwGsQDRkZTBPAsx7kLlemEsD6LLtElQASwEI7klrTWhHAiklpcBG1EMDSV0CGTw8QwDLMLjgb0w7AwujcY5eHDcBRBYuPEzwMwOEhObuP8ArAcD7n5gulCcD/WpUSiFkIwI93Qz4EDgfAHpTxaYDCBcCusJ+V/HYEwD3NTcF4KwPAzOn77PTfAcBcBqoYcZQAwNZFsIjakf6/9H4M4NL6+78UuGg3y2P5vzTxxI7DzPa/UCoh5rs19L9wY309tJ7xvyA5sylZD+6/WKtr2Enh6L+YHSSHOrPjv7AfuWtWCt2/IAQqyTeu0r9A0TVNMqTAvwCXod8rUKA/4JwGPUjMyD/waRLBQsLWP7jC0LEwj+A/eFAYA0C95T9A3l9UT+vqPwC201KvDPA/4Hx3+7aj8j/EQxukvjr1P6QKv0zG0fc/hNFi9c1o+j9omAae1f/8P0hfqkbdlv8/FxOnd/IWAUA=\",\"dtype\":\"float64\",\"shape\":[49]},\"top\":[0,0,0,0,0,0,0,0,0,0,0,1,0,1,3,14,14,19,33,43,35,38,54,51,61,78,124,172,259,391,555,711,874,978,952,861,789,613,490,425,336,263,236,194,140,83,67,29,8]},\"selected\":{\"id\":\"22872\",\"type\":\"Selection\"},\"selection_policy\":{\"id\":\"22873\",\"type\":\"UnionRenderers\"}},\"id\":\"22796\",\"type\":\"ColumnDataSource\"},{\"attributes\":{},\"id\":\"22871\",\"type\":\"BasicTickFormatter\"},{\"attributes\":{\"ticker\":{\"id\":\"5198\",\"type\":\"BasicTicker\"}},\"id\":\"5201\",\"type\":\"Grid\"},{\"attributes\":{\"bottom_units\":\"screen\",\"fill_alpha\":{\"value\":0.5},\"fill_color\":{\"value\":\"lightgrey\"},\"left_units\":\"screen\",\"level\":\"overlay\",\"line_alpha\":{\"value\":1.0},\"line_color\":{\"value\":\"black\"},\"line_dash\":[4,4],\"line_width\":{\"value\":2},\"render_mode\":\"css\",\"right_units\":\"screen\",\"top_units\":\"screen\"},\"id\":\"22883\",\"type\":\"BoxAnnotation\"},{\"attributes\":{\"data_source\":{\"id\":\"4793\",\"type\":\"ColumnDataSource\"},\"glyph\":{\"id\":\"5220\",\"type\":\"Circle\"},\"hover_glyph\":null,\"muted_glyph\":null,\"nonselection_glyph\":{\"id\":\"5221\",\"type\":\"Circle\"},\"selection_glyph\":null,\"view\":{\"id\":\"5223\",\"type\":\"CDSView\"}},\"id\":\"5222\",\"type\":\"GlyphRenderer\"},{\"attributes\":{\"text\":\"Random Field\"},\"id\":\"22769\",\"type\":\"Title\"},{\"attributes\":{},\"id\":\"22881\",\"type\":\"Selection\"},{\"attributes\":{},\"id\":\"22810\",\"type\":\"LinearScale\"},{\"attributes\":{\"ticker\":{\"id\":\"16508\",\"type\":\"BasicTicker\"}},\"id\":\"16511\",\"type\":\"Grid\"},{\"attributes\":{\"source\":{\"id\":\"4793\",\"type\":\"ColumnDataSource\"}},\"id\":\"5223\",\"type\":\"CDSView\"},{\"attributes\":{\"color_mapper\":{\"id\":\"4794\",\"type\":\"LinearColorMapper\"},\"dh\":{\"units\":\"data\",\"value\":100},\"dw\":{\"units\":\"data\",\"value\":100},\"image\":{\"field\":\"image\"},\"x\":{\"value\":0},\"y\":{\"value\":0}},\"id\":\"5216\",\"type\":\"Image\"},{\"attributes\":{\"bottom\":{\"value\":0},\"fill_alpha\":{\"value\":0.1},\"fill_color\":{\"value\":\"#1f77b4\"},\"left\":{\"field\":\"left\"},\"line_alpha\":{\"value\":0.1},\"line_color\":{\"value\":\"#1f77b4\"},\"right\":{\"field\":\"right\"},\"top\":{\"field\":\"top\"}},\"id\":\"22864\",\"type\":\"Quad\"},{\"attributes\":{\"callback\":null,\"end\":100},\"id\":\"16501\",\"type\":\"Range1d\"},{\"attributes\":{\"bottom_units\":\"screen\",\"fill_alpha\":{\"value\":0.5},\"fill_color\":{\"value\":\"lightgrey\"},\"left_units\":\"screen\",\"level\":\"overlay\",\"line_alpha\":{\"value\":1.0},\"line_color\":{\"value\":\"black\"},\"line_dash\":[4,4],\"line_width\":{\"value\":2},\"render_mode\":\"css\",\"right_units\":\"screen\",\"top_units\":\"screen\"},\"id\":\"22892\",\"type\":\"BoxAnnotation\"},{\"attributes\":{\"below\":[{\"id\":\"5197\",\"type\":\"LinearAxis\"}],\"center\":[{\"id\":\"5201\",\"type\":\"Grid\"},{\"id\":\"5206\",\"type\":\"Grid\"}],\"height\":390,\"left\":[{\"id\":\"5202\",\"type\":\"LinearAxis\"}],\"renderers\":[{\"id\":\"5217\",\"type\":\"GlyphRenderer\"},{\"id\":\"5222\",\"type\":\"GlyphRenderer\"}],\"title\":{\"id\":\"5187\",\"type\":\"Title\"},\"toolbar\":{\"id\":\"5210\",\"type\":\"Toolbar\"},\"toolbar_location\":null,\"width\":390,\"x_range\":{\"id\":\"16499\",\"type\":\"Range1d\"},\"x_scale\":{\"id\":\"5193\",\"type\":\"LinearScale\"},\"y_range\":{\"id\":\"16501\",\"type\":\"Range1d\"},\"y_scale\":{\"id\":\"5195\",\"type\":\"LinearScale\"}},\"id\":\"5186\",\"subtype\":\"Figure\",\"type\":\"Plot\"},{\"attributes\":{},\"id\":\"19179\",\"type\":\"BasicTickFormatter\"},{\"attributes\":{\"below\":[{\"id\":\"22779\",\"type\":\"LinearAxis\"}],\"center\":[{\"id\":\"22783\",\"type\":\"Grid\"},{\"id\":\"22788\",\"type\":\"Grid\"}],\"left\":[{\"id\":\"22784\",\"type\":\"LinearAxis\"}],\"plot_height\":140,\"plot_width\":400,\"renderers\":[{\"id\":\"22799\",\"type\":\"GlyphRenderer\"}],\"title\":{\"id\":\"22769\",\"type\":\"Title\"},\"toolbar\":{\"id\":\"22792\",\"type\":\"Toolbar\"},\"toolbar_location\":null,\"x_range\":{\"id\":\"22771\",\"type\":\"DataRange1d\"},\"x_scale\":{\"id\":\"22775\",\"type\":\"LinearScale\"},\"y_range\":{\"id\":\"22773\",\"type\":\"DataRange1d\"},\"y_scale\":{\"id\":\"22777\",\"type\":\"LinearScale\"}},\"id\":\"22768\",\"subtype\":\"Figure\",\"type\":\"Plot\"},{\"attributes\":{},\"id\":\"22777\",\"type\":\"LinearScale\"},{\"attributes\":{\"callback\":null},\"id\":\"22771\",\"type\":\"DataRange1d\"},{\"attributes\":{\"text\":\"Random Field\"},\"id\":\"16497\",\"type\":\"Title\"},{\"attributes\":{},\"id\":\"22775\",\"type\":\"LinearScale\"},{\"attributes\":{\"data_source\":{\"id\":\"22862\",\"type\":\"ColumnDataSource\"},\"glyph\":{\"id\":\"22863\",\"type\":\"Quad\"},\"hover_glyph\":null,\"muted_glyph\":null,\"nonselection_glyph\":{\"id\":\"22864\",\"type\":\"Quad\"},\"selection_glyph\":null,\"view\":{\"id\":\"22866\",\"type\":\"CDSView\"}},\"id\":\"22865\",\"type\":\"GlyphRenderer\"},{\"attributes\":{\"text\":\"OK\"},\"id\":\"22835\",\"type\":\"Title\"},{\"attributes\":{\"source\":{\"id\":\"22796\",\"type\":\"ColumnDataSource\"}},\"id\":\"22800\",\"type\":\"CDSView\"},{\"attributes\":{\"bottom_units\":\"screen\",\"fill_alpha\":{\"value\":0.5},\"fill_color\":{\"value\":\"lightgrey\"},\"left_units\":\"screen\",\"level\":\"overlay\",\"line_alpha\":{\"value\":1.0},\"line_color\":{\"value\":\"black\"},\"line_dash\":[4,4],\"line_width\":{\"value\":2},\"render_mode\":\"css\",\"right_units\":\"screen\",\"top_units\":\"screen\"},\"id\":\"19184\",\"type\":\"BoxAnnotation\"},{\"attributes\":{},\"id\":\"5193\",\"type\":\"LinearScale\"},{\"attributes\":{},\"id\":\"16508\",\"type\":\"BasicTicker\"},{\"attributes\":{\"formatter\":{\"id\":\"15512\",\"type\":\"BasicTickFormatter\"},\"ticker\":{\"id\":\"14168\",\"type\":\"BasicTicker\"}},\"id\":\"14167\",\"type\":\"LinearAxis\"},{\"attributes\":{},\"id\":\"5195\",\"type\":\"LinearScale\"},{\"attributes\":{\"formatter\":{\"id\":\"22871\",\"type\":\"BasicTickFormatter\"},\"ticker\":{\"id\":\"22780\",\"type\":\"BasicTicker\"}},\"id\":\"22779\",\"type\":\"LinearAxis\"},{\"attributes\":{\"formatter\":{\"id\":\"5423\",\"type\":\"BasicTickFormatter\"},\"ticker\":{\"id\":\"5198\",\"type\":\"BasicTicker\"}},\"id\":\"5197\",\"type\":\"LinearAxis\"},{\"attributes\":{\"text\":\"IDW\"},\"id\":\"22802\",\"type\":\"Title\"},{\"attributes\":{},\"id\":\"13189\",\"type\":\"UnionRenderers\"},{\"attributes\":{},\"id\":\"22878\",\"type\":\"BasicTickFormatter\"},{\"attributes\":{\"tools\":[{\"id\":\"22789\",\"type\":\"PanTool\"},{\"id\":\"22790\",\"type\":\"BoxZoomTool\"},{\"id\":\"22791\",\"type\":\"ResetTool\"},{\"id\":\"22822\",\"type\":\"PanTool\"},{\"id\":\"22823\",\"type\":\"BoxZoomTool\"},{\"id\":\"22824\",\"type\":\"ResetTool\"},{\"id\":\"22855\",\"type\":\"PanTool\"},{\"id\":\"22856\",\"type\":\"BoxZoomTool\"},{\"id\":\"22857\",\"type\":\"ResetTool\"}]},\"id\":\"26864\",\"type\":\"ProxyToolbar\"},{\"attributes\":{\"high\":2.386398,\"low\":-4.021554,\"palette\":[\"#440154\",\"#440255\",\"#440357\",\"#450558\",\"#45065A\",\"#45085B\",\"#46095C\",\"#460B5E\",\"#460C5F\",\"#460E61\",\"#470F62\",\"#471163\",\"#471265\",\"#471466\",\"#471567\",\"#471669\",\"#47186A\",\"#48196B\",\"#481A6C\",\"#481C6E\",\"#481D6F\",\"#481E70\",\"#482071\",\"#482172\",\"#482273\",\"#482374\",\"#472575\",\"#472676\",\"#472777\",\"#472878\",\"#472A79\",\"#472B7A\",\"#472C7B\",\"#462D7C\",\"#462F7C\",\"#46307D\",\"#46317E\",\"#45327F\",\"#45347F\",\"#453580\",\"#453681\",\"#443781\",\"#443982\",\"#433A83\",\"#433B83\",\"#433C84\",\"#423D84\",\"#423E85\",\"#424085\",\"#414186\",\"#414286\",\"#404387\",\"#404487\",\"#3F4587\",\"#3F4788\",\"#3E4888\",\"#3E4989\",\"#3D4A89\",\"#3D4B89\",\"#3D4C89\",\"#3C4D8A\",\"#3C4E8A\",\"#3B508A\",\"#3B518A\",\"#3A528B\",\"#3A538B\",\"#39548B\",\"#39558B\",\"#38568B\",\"#38578C\",\"#37588C\",\"#37598C\",\"#365A8C\",\"#365B8C\",\"#355C8C\",\"#355D8C\",\"#345E8D\",\"#345F8D\",\"#33608D\",\"#33618D\",\"#32628D\",\"#32638D\",\"#31648D\",\"#31658D\",\"#31668D\",\"#30678D\",\"#30688D\",\"#2F698D\",\"#2F6A8D\",\"#2E6B8E\",\"#2E6C8E\",\"#2E6D8E\",\"#2D6E8E\",\"#2D6F8E\",\"#2C708E\",\"#2C718E\",\"#2C728E\",\"#2B738E\",\"#2B748E\",\"#2A758E\",\"#2A768E\",\"#2A778E\",\"#29788E\",\"#29798E\",\"#287A8E\",\"#287A8E\",\"#287B8E\",\"#277C8E\",\"#277D8E\",\"#277E8E\",\"#267F8E\",\"#26808E\",\"#26818E\",\"#25828E\",\"#25838D\",\"#24848D\",\"#24858D\",\"#24868D\",\"#23878D\",\"#23888D\",\"#23898D\",\"#22898D\",\"#228A8D\",\"#228B8D\",\"#218C8D\",\"#218D8C\",\"#218E8C\",\"#208F8C\",\"#20908C\",\"#20918C\",\"#1F928C\",\"#1F938B\",\"#1F948B\",\"#1F958B\",\"#1F968B\",\"#1E978A\",\"#1E988A\",\"#1E998A\",\"#1E998A\",\"#1E9A89\",\"#1E9B89\",\"#1E9C89\",\"#1E9D88\",\"#1E9E88\",\"#1E9F88\",\"#1EA087\",\"#1FA187\",\"#1FA286\",\"#1FA386\",\"#20A485\",\"#20A585\",\"#21A685\",\"#21A784\",\"#22A784\",\"#23A883\",\"#23A982\",\"#24AA82\",\"#25AB81\",\"#26AC81\",\"#27AD80\",\"#28AE7F\",\"#29AF7F\",\"#2AB07E\",\"#2BB17D\",\"#2CB17D\",\"#2EB27C\",\"#2FB37B\",\"#30B47A\",\"#32B57A\",\"#33B679\",\"#35B778\",\"#36B877\",\"#38B976\",\"#39B976\",\"#3BBA75\",\"#3DBB74\",\"#3EBC73\",\"#40BD72\",\"#42BE71\",\"#44BE70\",\"#45BF6F\",\"#47C06E\",\"#49C16D\",\"#4BC26C\",\"#4DC26B\",\"#4FC369\",\"#51C468\",\"#53C567\",\"#55C666\",\"#57C665\",\"#59C764\",\"#5BC862\",\"#5EC961\",\"#60C960\",\"#62CA5F\",\"#64CB5D\",\"#67CC5C\",\"#69CC5B\",\"#6BCD59\",\"#6DCE58\",\"#70CE56\",\"#72CF55\",\"#74D054\",\"#77D052\",\"#79D151\",\"#7CD24F\",\"#7ED24E\",\"#81D34C\",\"#83D34B\",\"#86D449\",\"#88D547\",\"#8BD546\",\"#8DD644\",\"#90D643\",\"#92D741\",\"#95D73F\",\"#97D83E\",\"#9AD83C\",\"#9DD93A\",\"#9FD938\",\"#A2DA37\",\"#A5DA35\",\"#A7DB33\",\"#AADB32\",\"#ADDC30\",\"#AFDC2E\",\"#B2DD2C\",\"#B5DD2B\",\"#B7DD29\",\"#BADE27\",\"#BDDE26\",\"#BFDF24\",\"#C2DF22\",\"#C5DF21\",\"#C7E01F\",\"#CAE01E\",\"#CDE01D\",\"#CFE11C\",\"#D2E11B\",\"#D4E11A\",\"#D7E219\",\"#DAE218\",\"#DCE218\",\"#DFE318\",\"#E1E318\",\"#E4E318\",\"#E7E419\",\"#E9E419\",\"#ECE41A\",\"#EEE51B\",\"#F1E51C\",\"#F3E51E\",\"#F6E61F\",\"#F8E621\",\"#FAE622\",\"#FDE724\"]},\"id\":\"16495\",\"type\":\"LinearColorMapper\"},{\"attributes\":{},\"id\":\"5063\",\"type\":\"Selection\"},{\"attributes\":{},\"id\":\"22890\",\"type\":\"Selection\"},{\"attributes\":{},\"id\":\"16503\",\"type\":\"LinearScale\"},{\"attributes\":{\"below\":[{\"id\":\"22812\",\"type\":\"LinearAxis\"}],\"center\":[{\"id\":\"22816\",\"type\":\"Grid\"},{\"id\":\"22821\",\"type\":\"Grid\"}],\"left\":[{\"id\":\"22817\",\"type\":\"LinearAxis\"}],\"plot_height\":140,\"plot_width\":400,\"renderers\":[{\"id\":\"22832\",\"type\":\"GlyphRenderer\"}],\"title\":{\"id\":\"22802\",\"type\":\"Title\"},\"toolbar\":{\"id\":\"22825\",\"type\":\"Toolbar\"},\"toolbar_location\":null,\"x_range\":{\"id\":\"22771\",\"type\":\"DataRange1d\"},\"x_scale\":{\"id\":\"22808\",\"type\":\"LinearScale\"},\"y_range\":{\"id\":\"22806\",\"type\":\"DataRange1d\"},\"y_scale\":{\"id\":\"22810\",\"type\":\"LinearScale\"}},\"id\":\"22801\",\"subtype\":\"Figure\",\"type\":\"Plot\"},{\"attributes\":{},\"id\":\"5423\",\"type\":\"BasicTickFormatter\"},{\"attributes\":{\"dimension\":1,\"ticker\":{\"id\":\"22785\",\"type\":\"BasicTicker\"}},\"id\":\"22788\",\"type\":\"Grid\"},{\"attributes\":{\"text\":\"Kriging interpolation\"},\"id\":\"5187\",\"type\":\"Title\"},{\"attributes\":{},\"id\":\"16505\",\"type\":\"LinearScale\"},{\"attributes\":{\"high\":2.386398,\"low\":-4.021554,\"palette\":[\"#440154\",\"#440255\",\"#440357\",\"#450558\",\"#45065A\",\"#45085B\",\"#46095C\",\"#460B5E\",\"#460C5F\",\"#460E61\",\"#470F62\",\"#471163\",\"#471265\",\"#471466\",\"#471567\",\"#471669\",\"#47186A\",\"#48196B\",\"#481A6C\",\"#481C6E\",\"#481D6F\",\"#481E70\",\"#482071\",\"#482172\",\"#482273\",\"#482374\",\"#472575\",\"#472676\",\"#472777\",\"#472878\",\"#472A79\",\"#472B7A\",\"#472C7B\",\"#462D7C\",\"#462F7C\",\"#46307D\",\"#46317E\",\"#45327F\",\"#45347F\",\"#453580\",\"#453681\",\"#443781\",\"#443982\",\"#433A83\",\"#433B83\",\"#433C84\",\"#423D84\",\"#423E85\",\"#424085\",\"#414186\",\"#414286\",\"#404387\",\"#404487\",\"#3F4587\",\"#3F4788\",\"#3E4888\",\"#3E4989\",\"#3D4A89\",\"#3D4B89\",\"#3D4C89\",\"#3C4D8A\",\"#3C4E8A\",\"#3B508A\",\"#3B518A\",\"#3A528B\",\"#3A538B\",\"#39548B\",\"#39558B\",\"#38568B\",\"#38578C\",\"#37588C\",\"#37598C\",\"#365A8C\",\"#365B8C\",\"#355C8C\",\"#355D8C\",\"#345E8D\",\"#345F8D\",\"#33608D\",\"#33618D\",\"#32628D\",\"#32638D\",\"#31648D\",\"#31658D\",\"#31668D\",\"#30678D\",\"#30688D\",\"#2F698D\",\"#2F6A8D\",\"#2E6B8E\",\"#2E6C8E\",\"#2E6D8E\",\"#2D6E8E\",\"#2D6F8E\",\"#2C708E\",\"#2C718E\",\"#2C728E\",\"#2B738E\",\"#2B748E\",\"#2A758E\",\"#2A768E\",\"#2A778E\",\"#29788E\",\"#29798E\",\"#287A8E\",\"#287A8E\",\"#287B8E\",\"#277C8E\",\"#277D8E\",\"#277E8E\",\"#267F8E\",\"#26808E\",\"#26818E\",\"#25828E\",\"#25838D\",\"#24848D\",\"#24858D\",\"#24868D\",\"#23878D\",\"#23888D\",\"#23898D\",\"#22898D\",\"#228A8D\",\"#228B8D\",\"#218C8D\",\"#218D8C\",\"#218E8C\",\"#208F8C\",\"#20908C\",\"#20918C\",\"#1F928C\",\"#1F938B\",\"#1F948B\",\"#1F958B\",\"#1F968B\",\"#1E978A\",\"#1E988A\",\"#1E998A\",\"#1E998A\",\"#1E9A89\",\"#1E9B89\",\"#1E9C89\",\"#1E9D88\",\"#1E9E88\",\"#1E9F88\",\"#1EA087\",\"#1FA187\",\"#1FA286\",\"#1FA386\",\"#20A485\",\"#20A585\",\"#21A685\",\"#21A784\",\"#22A784\",\"#23A883\",\"#23A982\",\"#24AA82\",\"#25AB81\",\"#26AC81\",\"#27AD80\",\"#28AE7F\",\"#29AF7F\",\"#2AB07E\",\"#2BB17D\",\"#2CB17D\",\"#2EB27C\",\"#2FB37B\",\"#30B47A\",\"#32B57A\",\"#33B679\",\"#35B778\",\"#36B877\",\"#38B976\",\"#39B976\",\"#3BBA75\",\"#3DBB74\",\"#3EBC73\",\"#40BD72\",\"#42BE71\",\"#44BE70\",\"#45BF6F\",\"#47C06E\",\"#49C16D\",\"#4BC26C\",\"#4DC26B\",\"#4FC369\",\"#51C468\",\"#53C567\",\"#55C666\",\"#57C665\",\"#59C764\",\"#5BC862\",\"#5EC961\",\"#60C960\",\"#62CA5F\",\"#64CB5D\",\"#67CC5C\",\"#69CC5B\",\"#6BCD59\",\"#6DCE58\",\"#70CE56\",\"#72CF55\",\"#74D054\",\"#77D052\",\"#79D151\",\"#7CD24F\",\"#7ED24E\",\"#81D34C\",\"#83D34B\",\"#86D449\",\"#88D547\",\"#8BD546\",\"#8DD644\",\"#90D643\",\"#92D741\",\"#95D73F\",\"#97D83E\",\"#9AD83C\",\"#9DD93A\",\"#9FD938\",\"#A2DA37\",\"#A5DA35\",\"#A7DB33\",\"#AADB32\",\"#ADDC30\",\"#AFDC2E\",\"#B2DD2C\",\"#B5DD2B\",\"#B7DD29\",\"#BADE27\",\"#BDDE26\",\"#BFDF24\",\"#C2DF22\",\"#C5DF21\",\"#C7E01F\",\"#CAE01E\",\"#CDE01D\",\"#CFE11C\",\"#D2E11B\",\"#D4E11A\",\"#D7E219\",\"#DAE218\",\"#DCE218\",\"#DFE318\",\"#E1E318\",\"#E4E318\",\"#E7E419\",\"#E9E419\",\"#ECE41A\",\"#EEE51B\",\"#F1E51C\",\"#F3E51E\",\"#F6E61F\",\"#F8E621\",\"#FAE622\",\"#FDE724\"]},\"id\":\"4794\",\"type\":\"LinearColorMapper\"},{\"attributes\":{},\"id\":\"22813\",\"type\":\"BasicTicker\"},{\"attributes\":{},\"id\":\"22891\",\"type\":\"UnionRenderers\"},{\"attributes\":{\"fill_alpha\":{\"value\":0.1},\"fill_color\":{\"value\":\"#1f77b4\"},\"line_alpha\":{\"value\":0.1},\"line_color\":{\"value\":\"#1f77b4\"},\"size\":{\"units\":\"screen\",\"value\":12},\"x\":{\"field\":\"x\"},\"y\":{\"field\":\"y\"}},\"id\":\"5221\",\"type\":\"Circle\"},{\"attributes\":{},\"id\":\"22785\",\"type\":\"BasicTicker\"},{\"attributes\":{\"callback\":null},\"id\":\"22773\",\"type\":\"DataRange1d\"},{\"attributes\":{\"children\":[[{\"id\":\"22768\",\"subtype\":\"Figure\",\"type\":\"Plot\"},0,0],[{\"id\":\"22801\",\"subtype\":\"Figure\",\"type\":\"Plot\"},1,0],[{\"id\":\"22834\",\"subtype\":\"Figure\",\"type\":\"Plot\"},2,0]]},\"id\":\"26863\",\"type\":\"GridBox\"},{\"attributes\":{},\"id\":\"15510\",\"type\":\"BasicTickFormatter\"},{\"attributes\":{\"color_mapper\":{\"id\":\"4794\",\"type\":\"LinearColorMapper\"},\"dh\":{\"units\":\"data\",\"value\":100},\"dw\":{\"units\":\"data\",\"value\":100},\"image\":{\"field\":\"image\"},\"x\":{\"value\":0},\"y\":{\"value\":0}},\"id\":\"5215\",\"type\":\"Image\"},{\"attributes\":{\"callback\":null},\"id\":\"22806\",\"type\":\"DataRange1d\"},{\"attributes\":{\"toolbar\":{\"id\":\"26928\",\"type\":\"ProxyToolbar\"},\"toolbar_location\":\"left\"},\"id\":\"26929\",\"type\":\"ToolbarBox\"},{\"attributes\":{},\"id\":\"22872\",\"type\":\"Selection\"},{\"attributes\":{\"data_source\":{\"id\":\"5214\",\"type\":\"ColumnDataSource\"},\"glyph\":{\"id\":\"5215\",\"type\":\"Image\"},\"hover_glyph\":null,\"muted_glyph\":null,\"nonselection_glyph\":{\"id\":\"5216\",\"type\":\"Image\"},\"selection_glyph\":null,\"view\":{\"id\":\"5218\",\"type\":\"CDSView\"}},\"id\":\"5217\",\"type\":\"GlyphRenderer\"},{\"attributes\":{\"callback\":null,\"data\":{\"index\":[0,1,2,3,4,5,6,7,8,9,10,11,12,13,14,15,16,17,18,19,20,21,22,23,24,25,26,27,28,29],\"x\":[22,3,12,9,78,41,35,38,99,43,52,49,83,85,65,1,11,14,55,21,92,71,76,17,62,7,13,10,14,23],\"y\":[78,73,85,69,43,6,60,18,87,50,83,3,75,45,68,39,71,87,97,22,17,30,31,71,45,97,28,40,83,73],\"z\":{\"__ndarray__\":\"yneAn5AMyr+SARWJagvFvxPIlMQlS+a/QBSCTBPI4b9JxGhcdZX0PwtWdk2IUO2/IEfKhQFR4j/qRdMT0Tbtv86ItjnAkQTAHWNJ0dFx6D9AnUV9tjfQv/gmqOse/ea/QpZCZGZw8L/gWAyp84XjP/UXQiuk9eY/q+noUhNs5r/u7x4/3tTZv+ZaZAlFMey/VpLsCFtU0r8xX7ywcSjtvy/cXIVLluG//ytpLee40j/Eex7hYWPpP0spcolSxcu/12KRp0pz/T+wRyNLI6fiv2CH/M6g1oQ/d33INR5W3r/EPkmwuTPVv4OwF7pej82/\",\"dtype\":\"float64\",\"shape\":[30]}},\"selected\":{\"id\":\"19182\",\"type\":\"Selection\"},\"selection_policy\":{\"id\":\"19183\",\"type\":\"UnionRenderers\"}},\"id\":\"16494\",\"type\":\"ColumnDataSource\"}],\"root_ids\":[\"26930\"]},\"title\":\"Bokeh Application\",\"version\":\"1.4.0\"}};\n",
       "  var render_items = [{\"docid\":\"07c1d3c4-1236-409c-ad49-6963869cf52e\",\"roots\":{\"26930\":\"45288598-d9f8-4838-b5c2-949b6d955bf9\"}}];\n",
       "  root.Bokeh.embed.embed_items_notebook(docs_json, render_items);\n",
       "\n",
       "  }\n",
       "  if (root.Bokeh !== undefined) {\n",
       "    embed_document(root);\n",
       "  } else {\n",
       "    var attempts = 0;\n",
       "    var timer = setInterval(function(root) {\n",
       "      if (root.Bokeh !== undefined) {\n",
       "        clearInterval(timer);\n",
       "        embed_document(root);\n",
       "      } else {\n",
       "        attempts++;\n",
       "        if (attempts > 100) {\n",
       "          clearInterval(timer);\n",
       "          console.log(\"Bokeh: ERROR: Unable to run BokehJS code because BokehJS library is missing\");\n",
       "        }\n",
       "      }\n",
       "    }, 10, root)\n",
       "  }\n",
       "})(window);"
      ],
      "application/vnd.bokehjs_exec.v0+json": ""
     },
     "metadata": {
      "application/vnd.bokehjs_exec.v0+json": {
       "id": "26930"
      }
     },
     "output_type": "display_data"
    }
   ],
   "source": [
    "show(gridplot([[field, gridplot([[f] for f in figs], toolbar_location='right')], [idw, kriging]], toolbar_location='left'))"
   ]
  }
 ],
 "metadata": {
  "celltoolbar": "Slideshow",
  "finalized": {
   "timestamp": 1589983452992,
   "trusted": true
  },
  "kernelspec": {
   "display_name": "Python 3",
   "language": "python",
   "name": "python3"
  },
  "language_info": {
   "codemirror_mode": {
    "name": "ipython",
    "version": 3
   },
   "file_extension": ".py",
   "mimetype": "text/x-python",
   "name": "python",
   "nbconvert_exporter": "python",
   "pygments_lexer": "ipython3",
   "version": "3.7.6"
  }
 },
 "nbformat": 4,
 "nbformat_minor": 4
}
